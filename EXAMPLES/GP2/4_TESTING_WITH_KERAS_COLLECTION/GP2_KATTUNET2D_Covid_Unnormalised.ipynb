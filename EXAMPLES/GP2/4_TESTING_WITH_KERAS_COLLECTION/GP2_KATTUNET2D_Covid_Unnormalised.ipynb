{
 "cells": [
  {
   "cell_type": "code",
   "execution_count": 1,
   "id": "06c4accc",
   "metadata": {},
   "outputs": [
    {
     "name": "stdout",
     "output_type": "stream",
     "text": [
      "Populating the interactive namespace from numpy and matplotlib\n"
     ]
    }
   ],
   "source": [
    "%pylab inline\n",
    "%load_ext autoreload\n",
    "%autoreload 2"
   ]
  },
  {
   "cell_type": "code",
   "execution_count": 2,
   "id": "b9e78ed8",
   "metadata": {},
   "outputs": [
    {
     "name": "stdout",
     "output_type": "stream",
     "text": [
      "-----------------------------------------\n",
      "keras-unet init: TF version is >= 2.0.0 - using `tf.keras` instead of `Keras`\n",
      "-----------------------------------------\n"
     ]
    }
   ],
   "source": [
    "import time\n",
    "import sys\n",
    "sys.path.insert(0,'../../..')\n",
    "import gp2\n",
    "from gp2 import Runner\n",
    "from keras import losses, metrics\n",
    "from tensorflow.keras import optimizers"
   ]
  },
  {
   "cell_type": "code",
   "execution_count": 3,
   "id": "bdc75325",
   "metadata": {},
   "outputs": [
    {
     "name": "stdout",
     "output_type": "stream",
     "text": [
      "*** GP2 KATTUnet2D ***\n",
      "Working directory: /tmp/tmpx818mp4gGP2\n",
      "Using default discriminator (CNN)\n"
     ]
    }
   ],
   "source": [
    "R = Runner(classifier='kattunet2d',\n",
    "           filter_num=[16, 32, 64, 128, 256],\n",
    "           stack_num_down=2,\n",
    "           stack_num_up=2,\n",
    "           activation='ReLU',\n",
    "           atten_activation='ReLU',\n",
    "           attention='add',\n",
    "           output_activation='Sigmoid',\n",
    "           batch_norm=False,\n",
    "           pool=False,\n",
    "           unpool=False,\n",
    "           weights='imagenet',\n",
    "           optimizer= None, #None = default is optimizers.Adam(learning_rate=1e-3)\n",
    "           loss=None, #None = default is losses.binary_crossentropy\n",
    "           metric=None # None = default is Util.dice_coef\n",
    "          )"
   ]
  },
  {
   "cell_type": "code",
   "execution_count": 4,
   "id": "87b0c65d",
   "metadata": {},
   "outputs": [],
   "source": [
    "# load our larger toy dataset (10k images and masks)\n",
    "images = np.load('/hpcstor6/scratch01/p/poornendu.pabbati001/COVID/Covid_images_unn.npy')\n",
    "masks = np.load('/hpcstor6/scratch01/p/poornendu.pabbati001/COVID/Covid_masks_unn.npy')"
   ]
  },
  {
   "cell_type": "code",
   "execution_count": null,
   "id": "7330ad24",
   "metadata": {},
   "outputs": [],
   "source": []
  },
  {
   "cell_type": "code",
   "execution_count": 5,
   "id": "d5b4179a",
   "metadata": {},
   "outputs": [
    {
     "data": {
      "text/plain": [
       "(3616, 512, 512, 1)"
      ]
     },
     "execution_count": 5,
     "metadata": {},
     "output_type": "execute_result"
    }
   ],
   "source": [
    "images.shape"
   ]
  },
  {
   "cell_type": "code",
   "execution_count": 6,
   "id": "57033c4e",
   "metadata": {},
   "outputs": [
    {
     "data": {
      "text/plain": [
       "(3616, 512, 512, 1)"
      ]
     },
     "execution_count": 6,
     "metadata": {},
     "output_type": "execute_result"
    }
   ],
   "source": [
    "masks.shape"
   ]
  },
  {
   "cell_type": "code",
   "execution_count": 7,
   "id": "1dd71668",
   "metadata": {},
   "outputs": [],
   "source": [
    "weights = {\n",
    "    'A': 0.5,\n",
    "    'A_train': 0.1,\n",
    "    'A_val': 0.3,\n",
    "    'A_test': 0.6,\n",
    "    'B': 0.3,\n",
    "    'B_train': 0.7,\n",
    "    'B_val': 0.1,\n",
    "    'B_test': 0.2,\n",
    "    'Z': 0.2\n",
    "}"
   ]
  },
  {
   "cell_type": "code",
   "execution_count": 8,
   "id": "d8ff85c4",
   "metadata": {
    "scrolled": true
   },
   "outputs": [
    {
     "name": "stdout",
     "output_type": "stream",
     "text": [
      "Weights OK!\n",
      "******\n",
      "Loop 1\n",
      "Epoch 1/100\n",
      "3/3 [==============================] - 23s 6s/step - loss: 8.5503 - dice_coeff: 0.4444 - val_loss: 7.2611 - val_dice_coeff: 0.4408\n",
      "Epoch 2/100\n",
      "3/3 [==============================] - 3s 1s/step - loss: 5.2961 - dice_coeff: 0.4332 - val_loss: 1.7235 - val_dice_coeff: 0.4191\n",
      "Epoch 3/100\n",
      "3/3 [==============================] - 3s 1s/step - loss: 1.2773 - dice_coeff: 0.4116 - val_loss: 0.8639 - val_dice_coeff: 0.3938\n",
      "Epoch 4/100\n",
      "3/3 [==============================] - 3s 1s/step - loss: 0.8415 - dice_coeff: 0.3784 - val_loss: 0.8222 - val_dice_coeff: 0.3678\n",
      "Epoch 5/100\n",
      "3/3 [==============================] - 3s 1s/step - loss: 0.8092 - dice_coeff: 0.3621 - val_loss: 0.8018 - val_dice_coeff: 0.3617\n",
      "Epoch 6/100\n",
      "3/3 [==============================] - 3s 1s/step - loss: 0.7860 - dice_coeff: 0.3591 - val_loss: 0.7785 - val_dice_coeff: 0.3606\n",
      "Epoch 7/100\n",
      "3/3 [==============================] - 3s 1s/step - loss: 0.7630 - dice_coeff: 0.3572 - val_loss: 0.7549 - val_dice_coeff: 0.3595\n",
      "Epoch 8/100\n",
      "3/3 [==============================] - 3s 1s/step - loss: 0.7417 - dice_coeff: 0.3555 - val_loss: 0.7355 - val_dice_coeff: 0.3589\n",
      "Epoch 9/100\n",
      "3/3 [==============================] - 3s 1s/step - loss: 0.7247 - dice_coeff: 0.3552 - val_loss: 0.7203 - val_dice_coeff: 0.3585\n",
      "Epoch 10/100\n",
      "3/3 [==============================] - 3s 1s/step - loss: 0.7112 - dice_coeff: 0.3560 - val_loss: 0.7083 - val_dice_coeff: 0.3582\n",
      "Epoch 11/100\n",
      "3/3 [==============================] - 3s 1s/step - loss: 0.7007 - dice_coeff: 0.3551 - val_loss: 0.6980 - val_dice_coeff: 0.3580\n",
      "Epoch 12/100\n",
      "3/3 [==============================] - 3s 1s/step - loss: 0.6912 - dice_coeff: 0.3552 - val_loss: 0.6878 - val_dice_coeff: 0.3570\n",
      "Epoch 13/100\n",
      "3/3 [==============================] - 3s 1s/step - loss: 0.6810 - dice_coeff: 0.3529 - val_loss: 0.6745 - val_dice_coeff: 0.3545\n",
      "Epoch 14/100\n",
      "3/3 [==============================] - 3s 1s/step - loss: 0.6662 - dice_coeff: 0.3491 - val_loss: 0.6506 - val_dice_coeff: 0.3475\n",
      "Epoch 15/100\n",
      "3/3 [==============================] - 3s 1s/step - loss: 0.6370 - dice_coeff: 0.3365 - val_loss: 0.6087 - val_dice_coeff: 0.3230\n",
      "Epoch 16/100\n",
      "3/3 [==============================] - 3s 1s/step - loss: 0.6081 - dice_coeff: 0.2992 - val_loss: 0.6045 - val_dice_coeff: 0.2831\n",
      "Epoch 17/100\n",
      "3/3 [==============================] - 3s 1s/step - loss: 0.6045 - dice_coeff: 0.2825 - val_loss: 0.5903 - val_dice_coeff: 0.3066\n",
      "Epoch 18/100\n",
      "3/3 [==============================] - 3s 1s/step - loss: 0.5942 - dice_coeff: 0.3057 - val_loss: 0.5875 - val_dice_coeff: 0.3180\n",
      "Epoch 19/100\n",
      "3/3 [==============================] - 3s 1s/step - loss: 0.5896 - dice_coeff: 0.3094 - val_loss: 0.5809 - val_dice_coeff: 0.3121\n",
      "Epoch 20/100\n",
      "3/3 [==============================] - 3s 1s/step - loss: 0.5846 - dice_coeff: 0.3008 - val_loss: 0.5759 - val_dice_coeff: 0.2994\n",
      "Epoch 21/100\n",
      "3/3 [==============================] - 3s 1s/step - loss: 0.5825 - dice_coeff: 0.2895 - val_loss: 0.5732 - val_dice_coeff: 0.3012\n",
      "Epoch 22/100\n",
      "3/3 [==============================] - 3s 1s/step - loss: 0.5789 - dice_coeff: 0.2959 - val_loss: 0.5706 - val_dice_coeff: 0.3109\n",
      "Epoch 23/100\n",
      "3/3 [==============================] - 3s 1s/step - loss: 0.5766 - dice_coeff: 0.3051 - val_loss: 0.5698 - val_dice_coeff: 0.3164\n",
      "Epoch 24/100\n",
      "3/3 [==============================] - 3s 1s/step - loss: 0.5753 - dice_coeff: 0.3095 - val_loss: 0.5679 - val_dice_coeff: 0.3166\n",
      "Epoch 25/100\n",
      "3/3 [==============================] - 3s 1s/step - loss: 0.5733 - dice_coeff: 0.3083 - val_loss: 0.5654 - val_dice_coeff: 0.3134\n",
      "Epoch 26/100\n",
      "3/3 [==============================] - 3s 1s/step - loss: 0.5713 - dice_coeff: 0.3048 - val_loss: 0.5633 - val_dice_coeff: 0.3111\n",
      "Epoch 27/100\n",
      "3/3 [==============================] - 3s 1s/step - loss: 0.5695 - dice_coeff: 0.3039 - val_loss: 0.5615 - val_dice_coeff: 0.3123\n",
      "Epoch 28/100\n",
      "3/3 [==============================] - 3s 1s/step - loss: 0.5677 - dice_coeff: 0.3045 - val_loss: 0.5595 - val_dice_coeff: 0.3122\n",
      "Epoch 29/100\n",
      "3/3 [==============================] - 3s 1s/step - loss: 0.5656 - dice_coeff: 0.3052 - val_loss: 0.5572 - val_dice_coeff: 0.3125\n",
      "Epoch 30/100\n",
      "3/3 [==============================] - 3s 1s/step - loss: 0.5629 - dice_coeff: 0.3052 - val_loss: 0.5542 - val_dice_coeff: 0.3140\n",
      "Epoch 31/100\n",
      "3/3 [==============================] - 3s 1s/step - loss: 0.5589 - dice_coeff: 0.3072 - val_loss: 0.5506 - val_dice_coeff: 0.3153\n",
      "Epoch 32/100\n",
      "3/3 [==============================] - 3s 1s/step - loss: 0.5534 - dice_coeff: 0.3078 - val_loss: 0.5454 - val_dice_coeff: 0.3158\n",
      "Epoch 33/100\n",
      "3/3 [==============================] - 3s 1s/step - loss: 0.5459 - dice_coeff: 0.3111 - val_loss: 0.5377 - val_dice_coeff: 0.3222\n",
      "Epoch 34/100\n",
      "3/3 [==============================] - 3s 1s/step - loss: 0.5341 - dice_coeff: 0.3178 - val_loss: 0.5280 - val_dice_coeff: 0.3312\n",
      "Epoch 35/100\n",
      "3/3 [==============================] - 3s 1s/step - loss: 0.5188 - dice_coeff: 0.3351 - val_loss: 0.5182 - val_dice_coeff: 0.3481\n",
      "Epoch 36/100\n",
      "3/3 [==============================] - 3s 1s/step - loss: 0.5088 - dice_coeff: 0.3525 - val_loss: 0.5145 - val_dice_coeff: 0.3722\n",
      "Epoch 37/100\n",
      "3/3 [==============================] - 3s 1s/step - loss: 0.4976 - dice_coeff: 0.3596 - val_loss: 0.4929 - val_dice_coeff: 0.3740\n",
      "Epoch 38/100\n",
      "3/3 [==============================] - 3s 1s/step - loss: 0.4836 - dice_coeff: 0.3719 - val_loss: 0.4833 - val_dice_coeff: 0.3839\n",
      "Epoch 39/100\n",
      "3/3 [==============================] - 3s 1s/step - loss: 0.4763 - dice_coeff: 0.3768 - val_loss: 0.4800 - val_dice_coeff: 0.3727\n",
      "Epoch 40/100\n",
      "3/3 [==============================] - 3s 1s/step - loss: 0.4710 - dice_coeff: 0.3884 - val_loss: 0.4863 - val_dice_coeff: 0.3676\n",
      "Epoch 41/100\n",
      "3/3 [==============================] - 3s 1s/step - loss: 0.4712 - dice_coeff: 0.3787 - val_loss: 0.4702 - val_dice_coeff: 0.4028\n",
      "Epoch 42/100\n",
      "3/3 [==============================] - 3s 1s/step - loss: 0.4584 - dice_coeff: 0.3911 - val_loss: 0.4598 - val_dice_coeff: 0.4053\n",
      "Epoch 43/100\n",
      "3/3 [==============================] - 3s 1s/step - loss: 0.4510 - dice_coeff: 0.4053 - val_loss: 0.4588 - val_dice_coeff: 0.4007\n",
      "Epoch 44/100\n",
      "3/3 [==============================] - 3s 1s/step - loss: 0.4472 - dice_coeff: 0.4090 - val_loss: 0.4481 - val_dice_coeff: 0.4109\n",
      "Epoch 45/100\n",
      "3/3 [==============================] - 3s 1s/step - loss: 0.4431 - dice_coeff: 0.4088 - val_loss: 0.4443 - val_dice_coeff: 0.4196\n",
      "Epoch 46/100\n",
      "3/3 [==============================] - 3s 1s/step - loss: 0.4429 - dice_coeff: 0.4049 - val_loss: 0.4784 - val_dice_coeff: 0.4174\n",
      "Epoch 47/100\n",
      "3/3 [==============================] - 3s 1s/step - loss: 0.4639 - dice_coeff: 0.4205 - val_loss: 0.4551 - val_dice_coeff: 0.4078\n",
      "Epoch 48/100\n",
      "3/3 [==============================] - 3s 1s/step - loss: 0.4414 - dice_coeff: 0.4130 - val_loss: 0.4560 - val_dice_coeff: 0.4267\n",
      "Epoch 49/100\n",
      "3/3 [==============================] - 3s 1s/step - loss: 0.4356 - dice_coeff: 0.4221 - val_loss: 0.4489 - val_dice_coeff: 0.4056\n",
      "Epoch 50/100\n",
      "3/3 [==============================] - 3s 1s/step - loss: 0.4367 - dice_coeff: 0.4169 - val_loss: 0.4368 - val_dice_coeff: 0.4315\n",
      "Epoch 51/100\n",
      "3/3 [==============================] - 3s 1s/step - loss: 0.4282 - dice_coeff: 0.4217 - val_loss: 0.4294 - val_dice_coeff: 0.4366\n",
      "Epoch 52/100\n",
      "3/3 [==============================] - 3s 1s/step - loss: 0.4223 - dice_coeff: 0.4375 - val_loss: 0.4279 - val_dice_coeff: 0.4351\n",
      "Epoch 53/100\n",
      "3/3 [==============================] - 3s 1s/step - loss: 0.4176 - dice_coeff: 0.4338 - val_loss: 0.4293 - val_dice_coeff: 0.4406\n",
      "Epoch 54/100\n",
      "3/3 [==============================] - 3s 1s/step - loss: 0.4132 - dice_coeff: 0.4401 - val_loss: 0.4214 - val_dice_coeff: 0.4378\n",
      "Epoch 55/100\n",
      "3/3 [==============================] - 3s 1s/step - loss: 0.4114 - dice_coeff: 0.4429 - val_loss: 0.4152 - val_dice_coeff: 0.4513\n",
      "Epoch 56/100\n",
      "3/3 [==============================] - 3s 1s/step - loss: 0.4054 - dice_coeff: 0.4483 - val_loss: 0.4196 - val_dice_coeff: 0.4514\n",
      "Epoch 57/100\n",
      "3/3 [==============================] - 3s 1s/step - loss: 0.4027 - dice_coeff: 0.4540 - val_loss: 0.4083 - val_dice_coeff: 0.4561\n",
      "Epoch 58/100\n",
      "3/3 [==============================] - 3s 1s/step - loss: 0.3976 - dice_coeff: 0.4568 - val_loss: 0.4051 - val_dice_coeff: 0.4589\n",
      "Epoch 59/100\n",
      "3/3 [==============================] - 3s 1s/step - loss: 0.3934 - dice_coeff: 0.4612 - val_loss: 0.4006 - val_dice_coeff: 0.4650\n",
      "Epoch 60/100\n",
      "3/3 [==============================] - 3s 1s/step - loss: 0.3943 - dice_coeff: 0.4632 - val_loss: 0.4009 - val_dice_coeff: 0.4653\n",
      "Epoch 61/100\n",
      "3/3 [==============================] - 3s 1s/step - loss: 0.3933 - dice_coeff: 0.4658 - val_loss: 0.3981 - val_dice_coeff: 0.4692\n",
      "Epoch 62/100\n",
      "3/3 [==============================] - 3s 1s/step - loss: 0.3856 - dice_coeff: 0.4712 - val_loss: 0.3945 - val_dice_coeff: 0.4718\n",
      "Epoch 63/100\n",
      "3/3 [==============================] - 3s 1s/step - loss: 0.3811 - dice_coeff: 0.4750 - val_loss: 0.3868 - val_dice_coeff: 0.4800\n",
      "Epoch 64/100\n",
      "3/3 [==============================] - 3s 1s/step - loss: 0.3763 - dice_coeff: 0.4829 - val_loss: 0.3837 - val_dice_coeff: 0.4857\n",
      "Epoch 65/100\n",
      "3/3 [==============================] - 3s 1s/step - loss: 0.3820 - dice_coeff: 0.4819 - val_loss: 0.3891 - val_dice_coeff: 0.4811\n",
      "Epoch 66/100\n",
      "3/3 [==============================] - 3s 1s/step - loss: 0.3760 - dice_coeff: 0.4850 - val_loss: 0.3809 - val_dice_coeff: 0.4874\n",
      "Epoch 67/100\n",
      "3/3 [==============================] - 3s 1s/step - loss: 0.3722 - dice_coeff: 0.4895 - val_loss: 0.3737 - val_dice_coeff: 0.4957\n",
      "Epoch 68/100\n",
      "3/3 [==============================] - 3s 1s/step - loss: 0.3642 - dice_coeff: 0.4969 - val_loss: 0.3784 - val_dice_coeff: 0.4942\n",
      "Epoch 69/100\n",
      "3/3 [==============================] - 3s 1s/step - loss: 0.3661 - dice_coeff: 0.4965 - val_loss: 0.3657 - val_dice_coeff: 0.5030\n",
      "Epoch 70/100\n",
      "3/3 [==============================] - 3s 1s/step - loss: 0.3570 - dice_coeff: 0.5046 - val_loss: 0.3668 - val_dice_coeff: 0.5091\n",
      "Epoch 71/100\n",
      "3/3 [==============================] - 3s 1s/step - loss: 0.3584 - dice_coeff: 0.5081 - val_loss: 0.3640 - val_dice_coeff: 0.5077\n",
      "Epoch 72/100\n",
      "3/3 [==============================] - 3s 1s/step - loss: 0.3559 - dice_coeff: 0.5066 - val_loss: 0.3645 - val_dice_coeff: 0.5042\n",
      "Epoch 73/100\n",
      "3/3 [==============================] - 3s 1s/step - loss: 0.3530 - dice_coeff: 0.5097 - val_loss: 0.3656 - val_dice_coeff: 0.5107\n",
      "Epoch 74/100\n",
      "3/3 [==============================] - 3s 1s/step - loss: 0.3576 - dice_coeff: 0.5089 - val_loss: 0.3643 - val_dice_coeff: 0.5101\n",
      "Epoch 75/100\n",
      "3/3 [==============================] - 3s 1s/step - loss: 0.3504 - dice_coeff: 0.5145 - val_loss: 0.3625 - val_dice_coeff: 0.5089\n",
      "Epoch 76/100\n",
      "3/3 [==============================] - 3s 1s/step - loss: 0.3468 - dice_coeff: 0.5196 - val_loss: 0.3544 - val_dice_coeff: 0.5182\n",
      "Epoch 77/100\n",
      "3/3 [==============================] - 3s 1s/step - loss: 0.3407 - dice_coeff: 0.5203 - val_loss: 0.3550 - val_dice_coeff: 0.5226\n",
      "Epoch 78/100\n",
      "3/3 [==============================] - 3s 1s/step - loss: 0.3464 - dice_coeff: 0.5219 - val_loss: 0.3467 - val_dice_coeff: 0.5251\n",
      "Epoch 79/100\n",
      "3/3 [==============================] - 3s 1s/step - loss: 0.3338 - dice_coeff: 0.5322 - val_loss: 0.3563 - val_dice_coeff: 0.5146\n",
      "Epoch 80/100\n",
      "3/3 [==============================] - 3s 1s/step - loss: 0.3352 - dice_coeff: 0.5268 - val_loss: 0.3447 - val_dice_coeff: 0.5304\n",
      "Epoch 81/100\n",
      "3/3 [==============================] - 3s 1s/step - loss: 0.3268 - dice_coeff: 0.5366 - val_loss: 0.3492 - val_dice_coeff: 0.5238\n",
      "Epoch 82/100\n",
      "3/3 [==============================] - 3s 1s/step - loss: 0.3297 - dice_coeff: 0.5377 - val_loss: 0.3432 - val_dice_coeff: 0.5283\n",
      "Epoch 83/100\n",
      "3/3 [==============================] - 3s 1s/step - loss: 0.3300 - dice_coeff: 0.5369 - val_loss: 0.3643 - val_dice_coeff: 0.5318\n",
      "Model saved to: /tmp/tmpx818mp4gGP2/attunet_0attunet_model\n",
      "History saved to: /tmp/tmpx818mp4gGP2/attunet_history_0.pkl\n",
      "Testing the classifier...\n",
      "****** TRAINING DISCRIMINATOR ******\n",
      "Model saved to /tmp/tmpx818mp4gGP2/cnnd_0.model\n",
      "History saved to /tmp/tmpx818mp4gGP2/cnnd_history_0.pickle\n",
      "Testing the discriminator...\n",
      "7/7 [==============================] - 0s 36ms/step - loss: 0.0000e+00 - accuracy: 1.0000\n",
      "Replacing 37 from 111 !\n",
      "D_relabeled_ 37\n",
      "point ids 37\n",
      "Removed: 37 Filled: 37\n",
      "TOOK 636.560923576355 seconds\n",
      "==== DONE LOOP 1 ====\n",
      "******\n",
      "Loop 2\n",
      "Epoch 1/100\n",
      "4/4 [==============================] - 8s 2s/step - loss: 0.3302 - dice_coeff: 0.5337 - val_loss: 0.3471 - val_dice_coeff: 0.5315\n",
      "Epoch 2/100\n",
      "4/4 [==============================] - 3s 795ms/step - loss: 0.3204 - dice_coeff: 0.5409 - val_loss: 0.3374 - val_dice_coeff: 0.5485\n",
      "Epoch 3/100\n",
      "4/4 [==============================] - 3s 827ms/step - loss: 0.3204 - dice_coeff: 0.5528 - val_loss: 0.3360 - val_dice_coeff: 0.5547\n",
      "Epoch 4/100\n",
      "4/4 [==============================] - 3s 850ms/step - loss: 0.3138 - dice_coeff: 0.5606 - val_loss: 0.3163 - val_dice_coeff: 0.5762\n",
      "Epoch 5/100\n",
      "4/4 [==============================] - 3s 796ms/step - loss: 0.2965 - dice_coeff: 0.5884 - val_loss: 0.3021 - val_dice_coeff: 0.6112\n",
      "Epoch 6/100\n",
      "4/4 [==============================] - 3s 808ms/step - loss: 0.2802 - dice_coeff: 0.6247 - val_loss: 0.2994 - val_dice_coeff: 0.6280\n",
      "Epoch 7/100\n",
      "4/4 [==============================] - 3s 820ms/step - loss: 0.2707 - dice_coeff: 0.6619 - val_loss: 0.2745 - val_dice_coeff: 0.6979\n",
      "Epoch 8/100\n",
      "4/4 [==============================] - 3s 819ms/step - loss: 0.2566 - dice_coeff: 0.7073 - val_loss: 0.2671 - val_dice_coeff: 0.7088\n",
      "Epoch 9/100\n",
      "4/4 [==============================] - 3s 808ms/step - loss: 0.2495 - dice_coeff: 0.7107 - val_loss: 0.2662 - val_dice_coeff: 0.7178\n",
      "Epoch 10/100\n",
      "4/4 [==============================] - 3s 845ms/step - loss: 0.2315 - dice_coeff: 0.7433 - val_loss: 0.2427 - val_dice_coeff: 0.7517\n",
      "Epoch 11/100\n",
      "4/4 [==============================] - 3s 797ms/step - loss: 0.2225 - dice_coeff: 0.7623 - val_loss: 0.2286 - val_dice_coeff: 0.7650\n",
      "Epoch 12/100\n",
      "4/4 [==============================] - 3s 864ms/step - loss: 0.2119 - dice_coeff: 0.7750 - val_loss: 0.2227 - val_dice_coeff: 0.7650\n",
      "Epoch 13/100\n",
      "4/4 [==============================] - 3s 797ms/step - loss: 0.2061 - dice_coeff: 0.7731 - val_loss: 0.2290 - val_dice_coeff: 0.7655\n",
      "Epoch 14/100\n",
      "4/4 [==============================] - 3s 797ms/step - loss: 0.2027 - dice_coeff: 0.7841 - val_loss: 0.2250 - val_dice_coeff: 0.7852\n",
      "Epoch 15/100\n",
      "4/4 [==============================] - 3s 794ms/step - loss: 0.2106 - dice_coeff: 0.7820 - val_loss: 0.2280 - val_dice_coeff: 0.7600\n",
      "Epoch 16/100\n",
      "4/4 [==============================] - 3s 808ms/step - loss: 0.2062 - dice_coeff: 0.7676 - val_loss: 0.2261 - val_dice_coeff: 0.7800\n",
      "Model saved to: /tmp/tmpx818mp4gGP2/attunet_1attunet_model\n",
      "History saved to: /tmp/tmpx818mp4gGP2/attunet_history_1.pkl\n",
      "Testing the classifier...\n",
      "Testing the discriminator...\n",
      "7/7 [==============================] - 0s 39ms/step - loss: 236.5849 - accuracy: 0.6204\n",
      "Replacing 4 from 13 !\n",
      "D_relabeled_ 4\n",
      "point ids 4\n",
      "Removed: 4 Filled: 4\n",
      "TOOK 165.47069334983826 seconds\n",
      "==== DONE LOOP 2 ====\n",
      "******\n",
      "Loop 3\n",
      "Epoch 1/100\n",
      "4/4 [==============================] - 8s 2s/step - loss: 0.2044 - dice_coeff: 0.7900 - val_loss: 0.2141 - val_dice_coeff: 0.7868\n",
      "Epoch 2/100\n",
      "4/4 [==============================] - 3s 811ms/step - loss: 0.1910 - dice_coeff: 0.7858 - val_loss: 0.2075 - val_dice_coeff: 0.7739\n",
      "Epoch 3/100\n",
      "4/4 [==============================] - 3s 825ms/step - loss: 0.1861 - dice_coeff: 0.7865 - val_loss: 0.2093 - val_dice_coeff: 0.7927\n",
      "Epoch 4/100\n",
      "4/4 [==============================] - 3s 809ms/step - loss: 0.1870 - dice_coeff: 0.8036 - val_loss: 0.2004 - val_dice_coeff: 0.7995\n",
      "Epoch 5/100\n",
      "4/4 [==============================] - 3s 812ms/step - loss: 0.1823 - dice_coeff: 0.8029 - val_loss: 0.2076 - val_dice_coeff: 0.7894\n",
      "Epoch 6/100\n",
      "4/4 [==============================] - 3s 823ms/step - loss: 0.1814 - dice_coeff: 0.8022 - val_loss: 0.2080 - val_dice_coeff: 0.7908\n",
      "Epoch 7/100\n",
      "4/4 [==============================] - 3s 816ms/step - loss: 0.1855 - dice_coeff: 0.8009 - val_loss: 0.2078 - val_dice_coeff: 0.7900\n",
      "Epoch 8/100\n",
      "4/4 [==============================] - 3s 818ms/step - loss: 0.1803 - dice_coeff: 0.8004 - val_loss: 0.1973 - val_dice_coeff: 0.7980\n",
      "Epoch 9/100\n",
      "4/4 [==============================] - 3s 846ms/step - loss: 0.1791 - dice_coeff: 0.8099 - val_loss: 0.1962 - val_dice_coeff: 0.8003\n",
      "Epoch 10/100\n",
      "4/4 [==============================] - 3s 850ms/step - loss: 0.1758 - dice_coeff: 0.8073 - val_loss: 0.2005 - val_dice_coeff: 0.8039\n",
      "Epoch 11/100\n",
      "4/4 [==============================] - 3s 815ms/step - loss: 0.1805 - dice_coeff: 0.8089 - val_loss: 0.1859 - val_dice_coeff: 0.8044\n",
      "Epoch 12/100\n",
      "4/4 [==============================] - 3s 800ms/step - loss: 0.1696 - dice_coeff: 0.8089 - val_loss: 0.1942 - val_dice_coeff: 0.8052\n",
      "Epoch 13/100\n",
      "4/4 [==============================] - 3s 802ms/step - loss: 0.1717 - dice_coeff: 0.8065 - val_loss: 0.2044 - val_dice_coeff: 0.7890\n",
      "Epoch 14/100\n",
      "4/4 [==============================] - 3s 812ms/step - loss: 0.1691 - dice_coeff: 0.8205 - val_loss: 0.1888 - val_dice_coeff: 0.8188\n",
      "Epoch 15/100\n",
      "4/4 [==============================] - 4s 1s/step - loss: 0.1659 - dice_coeff: 0.8224 - val_loss: 0.1873 - val_dice_coeff: 0.8032\n",
      "Epoch 16/100\n",
      "4/4 [==============================] - 3s 817ms/step - loss: 0.1621 - dice_coeff: 0.8193 - val_loss: 0.2024 - val_dice_coeff: 0.8082\n",
      "Epoch 17/100\n",
      "4/4 [==============================] - 3s 819ms/step - loss: 0.1729 - dice_coeff: 0.8219 - val_loss: 0.2134 - val_dice_coeff: 0.7933\n",
      "Epoch 18/100\n",
      "4/4 [==============================] - 3s 805ms/step - loss: 0.1801 - dice_coeff: 0.8099 - val_loss: 0.1983 - val_dice_coeff: 0.8053\n",
      "Model saved to: /tmp/tmpx818mp4gGP2/attunet_2attunet_model\n",
      "History saved to: /tmp/tmpx818mp4gGP2/attunet_history_2.pkl\n",
      "Testing the classifier...\n",
      "Testing the discriminator...\n",
      "7/7 [==============================] - 0s 40ms/step - loss: 339.5799 - accuracy: 0.5648\n",
      "Replacing 1 from 5 !\n",
      "D_relabeled_ 1\n",
      "point ids 1\n",
      "Removed: 1 Filled: 1\n",
      "TOOK 165.75904655456543 seconds\n",
      "==== DONE LOOP 3 ====\n",
      "******\n",
      "Loop 4\n",
      "Epoch 1/100\n",
      "4/4 [==============================] - 6s 2s/step - loss: 0.1756 - dice_coeff: 0.8140 - val_loss: 0.1843 - val_dice_coeff: 0.8068\n",
      "Epoch 2/100\n",
      "4/4 [==============================] - 3s 818ms/step - loss: 0.1617 - dice_coeff: 0.8213 - val_loss: 0.1792 - val_dice_coeff: 0.8200\n",
      "Epoch 3/100\n",
      "4/4 [==============================] - 3s 835ms/step - loss: 0.1576 - dice_coeff: 0.8272 - val_loss: 0.1756 - val_dice_coeff: 0.8279\n",
      "Epoch 4/100\n",
      "4/4 [==============================] - 3s 817ms/step - loss: 0.1506 - dice_coeff: 0.8388 - val_loss: 0.1760 - val_dice_coeff: 0.8220\n",
      "Epoch 5/100\n",
      "4/4 [==============================] - 3s 840ms/step - loss: 0.1522 - dice_coeff: 0.8297 - val_loss: 0.1740 - val_dice_coeff: 0.8268\n",
      "Epoch 6/100\n",
      "4/4 [==============================] - 3s 829ms/step - loss: 0.1512 - dice_coeff: 0.8321 - val_loss: 0.1823 - val_dice_coeff: 0.8104\n",
      "Model saved to: /tmp/tmpx818mp4gGP2/attunet_3attunet_model\n",
      "History saved to: /tmp/tmpx818mp4gGP2/attunet_history_3.pkl\n",
      "Testing the classifier...\n",
      "Testing the discriminator...\n",
      "7/7 [==============================] - 0s 37ms/step - loss: 484.7743 - accuracy: 0.4907\n",
      "No machine labels found. Skipping step 6.\n",
      "No more machine labels.\n",
      "TOOK 105.33720421791077 seconds\n"
     ]
    }
   ],
   "source": [
    "R.run(images=images, masks=masks, weights=weights, runs=8)"
   ]
  },
  {
   "cell_type": "code",
   "execution_count": null,
   "id": "dab6fd49",
   "metadata": {},
   "outputs": [],
   "source": []
  },
  {
   "cell_type": "code",
   "execution_count": 9,
   "id": "00075332",
   "metadata": {},
   "outputs": [
    {
     "data": {
      "text/plain": [
       "[[0.2968302369117737, 0.5300824642181396],\n",
       " [0.182675302028656, 0.7841244339942932],\n",
       " [0.15716376900672913, 0.8109405636787415],\n",
       " [0.16013570129871368, 0.8051509261131287]]"
      ]
     },
     "execution_count": 9,
     "metadata": {},
     "output_type": "execute_result"
    }
   ],
   "source": [
    "R.classifier_scores"
   ]
  },
  {
   "cell_type": "code",
   "execution_count": 10,
   "id": "35105656",
   "metadata": {},
   "outputs": [
    {
     "data": {
      "text/plain": [
       "[[0.0, 1.0],\n",
       " [236.58493041992188, 0.6203703880310059],\n",
       " [339.5798645019531, 0.5648148059844971],\n",
       " [484.7742919921875, 0.49074074625968933]]"
      ]
     },
     "execution_count": 10,
     "metadata": {},
     "output_type": "execute_result"
    }
   ],
   "source": [
    "R.discriminator_scores"
   ]
  },
  {
   "cell_type": "code",
   "execution_count": null,
   "id": "e256ed4d",
   "metadata": {},
   "outputs": [],
   "source": []
  },
  {
   "cell_type": "code",
   "execution_count": 11,
   "id": "c83bb28d",
   "metadata": {},
   "outputs": [
    {
     "data": {
      "image/png": "[encoded data removed]",
      "text/plain": [
       "<Figure size 240x240 with 1 Axes>"
      ]
     },
     "metadata": {
      "needs_background": "light"
     },
     "output_type": "display_data"
    }
   ],
   "source": [
    "R.plot()"
   ]
  },
  {
   "cell_type": "code",
   "execution_count": null,
   "id": "7f3b4a58",
   "metadata": {},
   "outputs": [],
   "source": []
  }
 ],
 "metadata": {
  "kernelspec": {
   "display_name": "Python 3 (ipykernel)",
   "language": "python",
   "name": "python3"
  },
  "language_info": {
   "codemirror_mode": {
    "name": "ipython",
    "version": 3
   },
   "file_extension": ".py",
   "mimetype": "text/x-python",
   "name": "python",
   "nbconvert_exporter": "python",
   "pygments_lexer": "ipython3",
   "version": "3.9.7"
  }
 },
 "nbformat": 4,
 "nbformat_minor": 5
}
