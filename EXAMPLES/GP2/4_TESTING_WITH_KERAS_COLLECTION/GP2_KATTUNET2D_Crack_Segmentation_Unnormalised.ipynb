{
 "cells": [
  {
   "cell_type": "code",
   "execution_count": 1,
   "id": "06c4accc",
   "metadata": {},
   "outputs": [
    {
     "name": "stdout",
     "output_type": "stream",
     "text": [
      "Populating the interactive namespace from numpy and matplotlib\n"
     ]
    }
   ],
   "source": [
    "%pylab inline\n",
    "%load_ext autoreload\n",
    "%autoreload 2"
   ]
  },
  {
   "cell_type": "code",
   "execution_count": 2,
   "id": "b9e78ed8",
   "metadata": {},
   "outputs": [
    {
     "name": "stdout",
     "output_type": "stream",
     "text": [
      "-----------------------------------------\n",
      "keras-unet init: TF version is >= 2.0.0 - using `tf.keras` instead of `Keras`\n",
      "-----------------------------------------\n"
     ]
    }
   ],
   "source": [
    "import time\n",
    "import sys\n",
    "sys.path.insert(0,'../../..')\n",
    "import gp2\n",
    "from gp2 import Runner\n",
    "from keras import losses, metrics\n",
    "from tensorflow.keras import optimizers"
   ]
  },
  {
   "cell_type": "code",
   "execution_count": 3,
   "id": "bdc75325",
   "metadata": {},
   "outputs": [
    {
     "name": "stdout",
     "output_type": "stream",
     "text": [
      "*** GP2 KATTUnet2D ***\n",
      "Working directory: /tmp/tmp0r771ig7GP2\n",
      "Using default discriminator (CNN)\n"
     ]
    }
   ],
   "source": [
    "R = Runner(classifier='kattunet2d',\n",
    "           filter_num=[16, 32, 64, 128, 256],\n",
    "           stack_num_down=2,\n",
    "           stack_num_up=2,\n",
    "           activation='ReLU',\n",
    "           atten_activation='ReLU',\n",
    "           attention='add',\n",
    "           output_activation='Sigmoid',\n",
    "           batch_norm=False,\n",
    "           pool=False,\n",
    "           unpool=False,\n",
    "           weights='imagenet',\n",
    "           optimizer= None, #None = default is optimizers.Adam(learning_rate=1e-3)\n",
    "           loss=None, #None = default is losses.binary_crossentropy\n",
    "           metric=None # None = default is Util.dice_coef\n",
    "          )"
   ]
  },
  {
   "cell_type": "code",
   "execution_count": 4,
   "id": "87b0c65d",
   "metadata": {},
   "outputs": [],
   "source": [
    "# load our larger toy dataset (10k images and masks)\n",
    "images = np.load('/hpcstor6/scratch01/p/poornendu.pabbati001/crack_segmentation_dataset/Crack_images_final_unn.npy')\n",
    "masks = np.load('/hpcstor6/scratch01/p/poornendu.pabbati001/crack_segmentation_dataset/Crack_masks_final_unn.npy')"
   ]
  },
  {
   "cell_type": "code",
   "execution_count": null,
   "id": "7330ad24",
   "metadata": {},
   "outputs": [],
   "source": []
  },
  {
   "cell_type": "code",
   "execution_count": 5,
   "id": "d5b4179a",
   "metadata": {},
   "outputs": [
    {
     "data": {
      "text/plain": [
       "(11298, 512, 512, 1)"
      ]
     },
     "execution_count": 5,
     "metadata": {},
     "output_type": "execute_result"
    }
   ],
   "source": [
    "images.shape"
   ]
  },
  {
   "cell_type": "code",
   "execution_count": 6,
   "id": "57033c4e",
   "metadata": {},
   "outputs": [
    {
     "data": {
      "text/plain": [
       "(11298, 512, 512, 1)"
      ]
     },
     "execution_count": 6,
     "metadata": {},
     "output_type": "execute_result"
    }
   ],
   "source": [
    "masks.shape"
   ]
  },
  {
   "cell_type": "code",
   "execution_count": 7,
   "id": "1dd71668",
   "metadata": {},
   "outputs": [],
   "source": [
    "weights = {\n",
    "    'A': 0.5,\n",
    "    'A_train': 0.1,\n",
    "    'A_val': 0.3,\n",
    "    'A_test': 0.6,\n",
    "    'B': 0.3,\n",
    "    'B_train': 0.7,\n",
    "    'B_val': 0.1,\n",
    "    'B_test': 0.2,\n",
    "    'Z': 0.2\n",
    "}"
   ]
  },
  {
   "cell_type": "code",
   "execution_count": null,
   "id": "d8ff85c4",
   "metadata": {
    "scrolled": true
   },
   "outputs": [
    {
     "name": "stdout",
     "output_type": "stream",
     "text": [
      "Weights OK!\n",
      "******\n",
      "Loop 1\n",
      "Epoch 1/100\n",
      "9/9 [==============================] - 30s 2s/step - loss: 0.6584 - dice_coeff: 0.1023 - val_loss: 0.5448 - val_dice_coeff: 0.1421\n",
      "Epoch 2/100\n",
      "9/9 [==============================] - 8s 984ms/step - loss: 0.4218 - dice_coeff: 0.1088 - val_loss: 0.3060 - val_dice_coeff: 0.1484\n",
      "Epoch 3/100\n",
      "9/9 [==============================] - 8s 996ms/step - loss: 0.2279 - dice_coeff: 0.1060 - val_loss: 0.2788 - val_dice_coeff: 0.1094\n",
      "Epoch 4/100\n",
      "9/9 [==============================] - 8s 977ms/step - loss: 0.2165 - dice_coeff: 0.0876 - val_loss: 0.2614 - val_dice_coeff: 0.1187\n",
      "Epoch 5/100\n",
      "9/9 [==============================] - 8s 981ms/step - loss: 0.1983 - dice_coeff: 0.1049 - val_loss: 0.2398 - val_dice_coeff: 0.1408\n",
      "Epoch 6/100\n",
      "9/9 [==============================] - 9s 1s/step - loss: 0.1923 - dice_coeff: 0.1129 - val_loss: 0.2373 - val_dice_coeff: 0.1383\n",
      "Epoch 7/100\n",
      "9/9 [==============================] - 9s 1s/step - loss: 0.1883 - dice_coeff: 0.1120 - val_loss: 0.2369 - val_dice_coeff: 0.1377\n",
      "Epoch 8/100\n",
      "9/9 [==============================] - 9s 1s/step - loss: 0.1862 - dice_coeff: 0.1165 - val_loss: 0.2327 - val_dice_coeff: 0.1471\n",
      "Epoch 9/100\n",
      "9/9 [==============================] - 9s 1s/step - loss: 0.1832 - dice_coeff: 0.1305 - val_loss: 0.2283 - val_dice_coeff: 0.1629\n",
      "Epoch 10/100\n",
      "9/9 [==============================] - 9s 1s/step - loss: 0.1800 - dice_coeff: 0.1435 - val_loss: 0.2263 - val_dice_coeff: 0.1724\n",
      "Epoch 11/100\n",
      "9/9 [==============================] - 8s 994ms/step - loss: 0.1772 - dice_coeff: 0.1569 - val_loss: 0.2242 - val_dice_coeff: 0.1827\n",
      "Epoch 12/100\n",
      "9/9 [==============================] - 8s 991ms/step - loss: 0.1753 - dice_coeff: 0.1706 - val_loss: 0.2242 - val_dice_coeff: 0.1885\n",
      "Epoch 13/100\n",
      "9/9 [==============================] - 8s 983ms/step - loss: 0.1730 - dice_coeff: 0.1750 - val_loss: 0.2207 - val_dice_coeff: 0.2012\n",
      "Epoch 14/100\n",
      "9/9 [==============================] - 9s 1s/step - loss: 0.1719 - dice_coeff: 0.1814 - val_loss: 0.2244 - val_dice_coeff: 0.1857\n",
      "Epoch 15/100\n",
      "9/9 [==============================] - 8s 958ms/step - loss: 0.1732 - dice_coeff: 0.1728 - val_loss: 0.2293 - val_dice_coeff: 0.1683\n",
      "Epoch 16/100\n",
      "9/9 [==============================] - 8s 964ms/step - loss: 0.1773 - dice_coeff: 0.1523 - val_loss: 0.2183 - val_dice_coeff: 0.1888\n",
      "Model saved to: /tmp/tmp0r771ig7GP2/attunet_0attunet_model\n",
      "History saved to: /tmp/tmp0r771ig7GP2/attunet_history_0.pkl\n",
      "Testing the classifier...\n",
      "****** TRAINING DISCRIMINATOR ******\n",
      "Model saved to /tmp/tmp0r771ig7GP2/cnnd_0.model\n",
      "History saved to /tmp/tmp0r771ig7GP2/cnnd_history_0.pickle\n",
      "Testing the discriminator...\n",
      "22/22 [==============================] - 1s 40ms/step - loss: 4.4347 - accuracy: 0.6558\n",
      "Replacing 41 from 125 !\n",
      "D_relabeled_ 41\n",
      "point ids 41\n",
      "Removed: 41 Filled: 41\n",
      "TOOK 505.3552231788635 seconds\n",
      "==== DONE LOOP 1 ====\n",
      "******\n",
      "Loop 2\n",
      "Epoch 1/100\n",
      "10/10 [==============================] - 12s 1s/step - loss: 0.1769 - dice_coeff: 0.1924 - val_loss: 0.2144 - val_dice_coeff: 0.2206\n",
      "Epoch 2/100\n",
      "10/10 [==============================] - 9s 924ms/step - loss: 0.1818 - dice_coeff: 0.1894 - val_loss: 0.2340 - val_dice_coeff: 0.1648\n",
      "Epoch 3/100\n",
      "10/10 [==============================] - 9s 909ms/step - loss: 0.1808 - dice_coeff: 0.1853 - val_loss: 0.2154 - val_dice_coeff: 0.1934\n",
      "Model saved to: /tmp/tmp0r771ig7GP2/attunet_1attunet_model\n",
      "History saved to: /tmp/tmp0r771ig7GP2/attunet_history_1.pkl\n",
      "Testing the classifier...\n",
      "Testing the discriminator...\n",
      "22/22 [==============================] - 1s 38ms/step - loss: 4.4179 - accuracy: 0.6677\n",
      "Replacing 38 from 116 !\n",
      "D_relabeled_ 38\n",
      "point ids 38\n",
      "Removed: 38 Filled: 38\n",
      "TOOK 161.24701619148254 seconds\n",
      "==== DONE LOOP 2 ====\n",
      "******\n",
      "Loop 3\n",
      "Epoch 1/100\n",
      "11/11 [==============================] - 12s 1s/step - loss: 0.1777 - dice_coeff: 0.2072 - val_loss: 0.2054 - val_dice_coeff: 0.2471\n",
      "Epoch 2/100\n",
      "11/11 [==============================] - 9s 858ms/step - loss: 0.1797 - dice_coeff: 0.2173 - val_loss: 0.2375 - val_dice_coeff: 0.1621\n",
      "Epoch 3/100\n",
      "11/11 [==============================] - 9s 841ms/step - loss: 0.1833 - dice_coeff: 0.1791 - val_loss: 0.2214 - val_dice_coeff: 0.1749\n",
      "Model saved to: /tmp/tmp0r771ig7GP2/attunet_2attunet_model\n",
      "History saved to: /tmp/tmp0r771ig7GP2/attunet_history_2.pkl\n",
      "Testing the classifier...\n",
      "Testing the discriminator...\n",
      "22/22 [==============================] - 1s 39ms/step - loss: 4.3664 - accuracy: 0.6765\n",
      "Replacing 38 from 115 !\n",
      "D_relabeled_ 38\n",
      "point ids 38\n",
      "Removed: 38 Filled: 38\n",
      "TOOK 149.39070081710815 seconds\n",
      "==== DONE LOOP 3 ====\n",
      "******\n",
      "Loop 4\n",
      "Epoch 1/100\n",
      "11/11 [==============================] - 16s 2s/step - loss: 0.1822 - dice_coeff: 0.2014 - val_loss: 0.2114 - val_dice_coeff: 0.2248\n",
      "Epoch 2/100\n",
      "11/11 [==============================] - 10s 927ms/step - loss: 0.1860 - dice_coeff: 0.2091 - val_loss: 0.2451 - val_dice_coeff: 0.1380\n",
      "Epoch 3/100\n",
      "11/11 [==============================] - 9s 889ms/step - loss: 0.1923 - dice_coeff: 0.1798 - val_loss: 0.2208 - val_dice_coeff: 0.1744\n",
      "Model saved to: /tmp/tmp0r771ig7GP2/attunet_3attunet_model\n",
      "History saved to: /tmp/tmp0r771ig7GP2/attunet_history_3.pkl\n",
      "Testing the classifier...\n",
      "Testing the discriminator...\n",
      "22/22 [==============================] - 1s 41ms/step - loss: 5.0450 - accuracy: 0.6337\n",
      "Replacing 32 from 97 !\n",
      "D_relabeled_ 32\n",
      "point ids 32\n",
      "Removed: 32 Filled: 32\n",
      "TOOK 158.91637253761292 seconds\n",
      "==== DONE LOOP 4 ====\n",
      "******\n",
      "Loop 5\n",
      "Epoch 1/100\n",
      "12/12 [==============================] - 13s 1s/step - loss: 0.1924 - dice_coeff: 0.1803 - val_loss: 0.2231 - val_dice_coeff: 0.1690\n",
      "Epoch 2/100\n",
      "12/12 [==============================] - 10s 867ms/step - loss: 0.1912 - dice_coeff: 0.1939 - val_loss: 0.2261 - val_dice_coeff: 0.1634\n",
      "Epoch 3/100\n",
      "12/12 [==============================] - 10s 828ms/step - loss: 0.1903 - dice_coeff: 0.1861 - val_loss: 0.2204 - val_dice_coeff: 0.1727\n",
      "Epoch 4/100\n",
      "12/12 [==============================] - 10s 836ms/step - loss: 0.1882 - dice_coeff: 0.1875 - val_loss: 0.2179 - val_dice_coeff: 0.1810\n",
      "Epoch 5/100\n",
      "12/12 [==============================] - 10s 885ms/step - loss: 0.1860 - dice_coeff: 0.2005 - val_loss: 0.2259 - val_dice_coeff: 0.1676\n",
      "Epoch 6/100\n",
      "12/12 [==============================] - 10s 841ms/step - loss: 0.1829 - dice_coeff: 0.2127 - val_loss: 0.2166 - val_dice_coeff: 0.2171\n",
      "Epoch 7/100\n",
      "12/12 [==============================] - 10s 889ms/step - loss: 0.1765 - dice_coeff: 0.2393 - val_loss: 0.2148 - val_dice_coeff: 0.2044\n",
      "Epoch 8/100\n",
      "12/12 [==============================] - 10s 877ms/step - loss: 0.1839 - dice_coeff: 0.2250 - val_loss: 0.2145 - val_dice_coeff: 0.1929\n",
      "Epoch 9/100\n",
      "12/12 [==============================] - 10s 823ms/step - loss: 0.1850 - dice_coeff: 0.2085 - val_loss: 0.2172 - val_dice_coeff: 0.1819\n",
      "Model saved to: /tmp/tmp0r771ig7GP2/attunet_4attunet_model\n",
      "History saved to: /tmp/tmp0r771ig7GP2/attunet_history_4.pkl\n",
      "Testing the classifier...\n",
      "Testing the discriminator...\n",
      "22/22 [==============================] - 1s 41ms/step - loss: 4.2982 - accuracy: 0.6898\n",
      "Replacing 36 from 110 !\n",
      "D_relabeled_ 36\n",
      "point ids 36\n",
      "Removed: 36 Filled: 36\n",
      "TOOK 215.9353621006012 seconds\n",
      "==== DONE LOOP 5 ====\n",
      "******\n",
      "Loop 6\n",
      "Epoch 1/100\n",
      "12/12 [==============================] - 17s 1s/step - loss: 0.1795 - dice_coeff: 0.2343 - val_loss: 0.2063 - val_dice_coeff: 0.2187\n",
      "Epoch 2/100\n",
      "12/12 [==============================] - 10s 897ms/step - loss: 0.1609 - dice_coeff: 0.3135 - val_loss: 0.2015 - val_dice_coeff: 0.3118\n",
      "Epoch 3/100\n",
      "12/12 [==============================] - 10s 845ms/step - loss: 0.1641 - dice_coeff: 0.3389 - val_loss: 0.1927 - val_dice_coeff: 0.2831\n",
      "Epoch 4/100\n",
      "12/12 [==============================] - 10s 887ms/step - loss: 0.1620 - dice_coeff: 0.3030 - val_loss: 0.1885 - val_dice_coeff: 0.3011\n",
      "Model saved to: /tmp/tmp0r771ig7GP2/attunet_5attunet_model\n",
      "History saved to: /tmp/tmp0r771ig7GP2/attunet_history_5.pkl\n",
      "Testing the classifier...\n",
      "Testing the discriminator...\n",
      "22/22 [==============================] - 1s 37ms/step - loss: 4.3329 - accuracy: 0.8272\n",
      "Replacing 77 from 233 !\n",
      "D_relabeled_ 77\n",
      "point ids 77\n",
      "Removed: 77 Filled: 77\n",
      "TOOK 149.12439393997192 seconds\n",
      "==== DONE LOOP 6 ====\n",
      "******\n",
      "Loop 7\n",
      "Epoch 1/100\n",
      "13/13 [==============================] - 18s 1s/step - loss: 0.1536 - dice_coeff: 0.3598 - val_loss: 0.1803 - val_dice_coeff: 0.3585\n",
      "Epoch 2/100\n",
      "13/13 [==============================] - 11s 880ms/step - loss: 0.1465 - dice_coeff: 0.3740 - val_loss: 0.1867 - val_dice_coeff: 0.3442\n",
      "Epoch 3/100\n",
      "13/13 [==============================] - 11s 847ms/step - loss: 0.1432 - dice_coeff: 0.3900 - val_loss: 0.1876 - val_dice_coeff: 0.3462\n",
      "Epoch 4/100\n",
      "13/13 [==============================] - 10s 829ms/step - loss: 0.1438 - dice_coeff: 0.3816 - val_loss: 0.1747 - val_dice_coeff: 0.3694\n",
      "Epoch 5/100\n",
      "13/13 [==============================] - 11s 879ms/step - loss: 0.1380 - dice_coeff: 0.4066 - val_loss: 0.1672 - val_dice_coeff: 0.3936\n",
      "Epoch 6/100\n",
      "13/13 [==============================] - 11s 853ms/step - loss: 0.1356 - dice_coeff: 0.4168 - val_loss: 0.1657 - val_dice_coeff: 0.3971\n",
      "Epoch 7/100\n",
      "13/13 [==============================] - 11s 894ms/step - loss: 0.1335 - dice_coeff: 0.4173 - val_loss: 0.1722 - val_dice_coeff: 0.3929\n",
      "Epoch 8/100\n",
      "13/13 [==============================] - 11s 884ms/step - loss: 0.1329 - dice_coeff: 0.4298 - val_loss: 0.1761 - val_dice_coeff: 0.3896\n",
      "Epoch 9/100\n",
      "13/13 [==============================] - 11s 853ms/step - loss: 0.1324 - dice_coeff: 0.4308 - val_loss: 0.1721 - val_dice_coeff: 0.3909\n",
      "Epoch 10/100\n",
      "13/13 [==============================] - 10s 835ms/step - loss: 0.1283 - dice_coeff: 0.4464 - val_loss: 0.1719 - val_dice_coeff: 0.3950\n",
      "Epoch 11/100\n",
      "13/13 [==============================] - 11s 878ms/step - loss: 0.1264 - dice_coeff: 0.4570 - val_loss: 0.1795 - val_dice_coeff: 0.3792\n",
      "Epoch 12/100\n",
      "13/13 [==============================] - 11s 860ms/step - loss: 0.1229 - dice_coeff: 0.4593 - val_loss: 0.1654 - val_dice_coeff: 0.4323\n",
      "Epoch 13/100\n",
      "13/13 [==============================] - 11s 885ms/step - loss: 0.1217 - dice_coeff: 0.4762 - val_loss: 0.1817 - val_dice_coeff: 0.3970\n",
      "Epoch 14/100\n",
      "10/13 [======================>.......] - ETA: 1s - loss: 0.1282 - dice_coeff: 0.4538"
     ]
    }
   ],
   "source": [
    "R.run(images=images, masks=masks, weights=weights, runs=8)"
   ]
  },
  {
   "cell_type": "code",
   "execution_count": null,
   "id": "dab6fd49",
   "metadata": {},
   "outputs": [],
   "source": []
  },
  {
   "cell_type": "code",
   "execution_count": null,
   "id": "00075332",
   "metadata": {},
   "outputs": [],
   "source": [
    "R.classifier_scores"
   ]
  },
  {
   "cell_type": "code",
   "execution_count": null,
   "id": "35105656",
   "metadata": {},
   "outputs": [],
   "source": [
    "R.discriminator_scores"
   ]
  },
  {
   "cell_type": "code",
   "execution_count": null,
   "id": "e256ed4d",
   "metadata": {},
   "outputs": [],
   "source": []
  },
  {
   "cell_type": "code",
   "execution_count": null,
   "id": "c83bb28d",
   "metadata": {},
   "outputs": [],
   "source": [
    "R.plot()"
   ]
  },
  {
   "cell_type": "code",
   "execution_count": null,
   "id": "7f3b4a58",
   "metadata": {},
   "outputs": [],
   "source": []
  }
 ],
 "metadata": {
  "kernelspec": {
   "display_name": "Python 3 (ipykernel)",
   "language": "python",
   "name": "python3"
  },
  "language_info": {
   "codemirror_mode": {
    "name": "ipython",
    "version": 3
   },
   "file_extension": ".py",
   "mimetype": "text/x-python",
   "name": "python",
   "nbconvert_exporter": "python",
   "pygments_lexer": "ipython3",
   "version": "3.9.7"
  }
 },
 "nbformat": 4,
 "nbformat_minor": 5
}
