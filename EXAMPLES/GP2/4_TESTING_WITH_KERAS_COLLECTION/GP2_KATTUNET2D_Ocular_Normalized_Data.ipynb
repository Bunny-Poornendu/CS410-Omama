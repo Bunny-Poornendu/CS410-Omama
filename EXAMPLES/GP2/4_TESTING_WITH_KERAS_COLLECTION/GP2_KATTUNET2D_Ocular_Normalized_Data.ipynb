{
 "cells": [
  {
   "cell_type": "code",
   "execution_count": 1,
   "id": "06c4accc",
   "metadata": {},
   "outputs": [
    {
     "name": "stdout",
     "output_type": "stream",
     "text": [
      "Populating the interactive namespace from numpy and matplotlib\n"
     ]
    }
   ],
   "source": [
    "%pylab inline\n",
    "%load_ext autoreload\n",
    "%autoreload 2"
   ]
  },
  {
   "cell_type": "code",
   "execution_count": 3,
   "id": "b9e78ed8",
   "metadata": {},
   "outputs": [
    {
     "name": "stdout",
     "output_type": "stream",
     "text": [
      "-----------------------------------------\n",
      "keras-unet init: TF version is >= 2.0.0 - using `tf.keras` instead of `Keras`\n",
      "-----------------------------------------\n"
     ]
    }
   ],
   "source": [
    "import time\n",
    "import sys\n",
    "sys.path.insert(0,'../../..')\n",
    "import gp2\n",
    "from gp2 import Runner\n",
    "from keras import losses, metrics\n",
    "from tensorflow.keras import optimizers"
   ]
  },
  {
   "cell_type": "code",
   "execution_count": 4,
   "id": "bdc75325",
   "metadata": {},
   "outputs": [
    {
     "name": "stdout",
     "output_type": "stream",
     "text": [
      "*** GP2 KATTUnet2D ***\n",
      "Working directory: /tmp/tmpdrk9uyu8GP2\n",
      "Using default discriminator (CNN)\n"
     ]
    }
   ],
   "source": [
    "R = Runner(classifier='kattunet2d',\n",
    "           filter_num=[16, 32, 64, 128, 256],\n",
    "           stack_num_down=2,\n",
    "           stack_num_up=2,\n",
    "           activation='ReLU',\n",
    "           atten_activation='ReLU',\n",
    "           attention='add',\n",
    "           output_activation='Sigmoid',\n",
    "           batch_norm=False,\n",
    "           pool=False,\n",
    "           unpool=False,\n",
    "           weights='imagenet',\n",
    "           optimizer= None, #None = default is optimizers.Adam(learning_rate=1e-3)\n",
    "           loss=None, #None = default is losses.binary_crossentropy\n",
    "           metric=None # None = default is Util.dice_coef\n",
    "          )"
   ]
  },
  {
   "cell_type": "code",
   "execution_count": 5,
   "id": "87b0c65d",
   "metadata": {},
   "outputs": [],
   "source": [
    "# load our larger toy dataset (10k images and masks)\n",
    "images = np.load('/hpcstor6/scratch01/r/ryan.zurrin001/gp2_ocular_normalized_images.npy')\n",
    "masks = np.load('/hpcstor6/scratch01/r/ryan.zurrin001/gp2_ocular_normalized_masks.npy')"
   ]
  },
  {
   "cell_type": "code",
   "execution_count": 6,
   "id": "7330ad24",
   "metadata": {},
   "outputs": [],
   "source": [
    "images = images[:5000]\n",
    "masks = masks[:5000]"
   ]
  },
  {
   "cell_type": "code",
   "execution_count": 7,
   "id": "d5b4179a",
   "metadata": {},
   "outputs": [
    {
     "data": {
      "text/plain": [
       "(5000, 512, 512, 1)"
      ]
     },
     "execution_count": 7,
     "metadata": {},
     "output_type": "execute_result"
    }
   ],
   "source": [
    "images.shape"
   ]
  },
  {
   "cell_type": "code",
   "execution_count": 8,
   "id": "57033c4e",
   "metadata": {},
   "outputs": [
    {
     "data": {
      "text/plain": [
       "(5000, 512, 512, 1)"
      ]
     },
     "execution_count": 8,
     "metadata": {},
     "output_type": "execute_result"
    }
   ],
   "source": [
    "masks.shape"
   ]
  },
  {
   "cell_type": "code",
   "execution_count": 9,
   "id": "1dd71668",
   "metadata": {},
   "outputs": [],
   "source": [
    "weights = {\n",
    "    'A': 0.5,\n",
    "    'A_train': 0.1,\n",
    "    'A_val': 0.3,\n",
    "    'A_test': 0.6,\n",
    "    'B': 0.3,\n",
    "    'B_train': 0.7,\n",
    "    'B_val': 0.1,\n",
    "    'B_test': 0.2,\n",
    "    'Z': 0.2\n",
    "}"
   ]
  },
  {
   "cell_type": "code",
   "execution_count": 10,
   "id": "d8ff85c4",
   "metadata": {
    "scrolled": true
   },
   "outputs": [
    {
     "name": "stdout",
     "output_type": "stream",
     "text": [
      "Weights OK!\n",
      "******\n",
      "Loop 1\n",
      "Epoch 1/100\n",
      "4/4 [==============================] - 26s 4s/step - loss: 0.6929 - dice_coeff: 0.3449 - val_loss: 0.6924 - val_dice_coeff: 0.2748\n",
      "Epoch 2/100\n",
      "4/4 [==============================] - 4s 1s/step - loss: 0.6925 - dice_coeff: 0.3462 - val_loss: 0.6918 - val_dice_coeff: 0.2745\n",
      "Epoch 3/100\n",
      "4/4 [==============================] - 4s 1s/step - loss: 0.6920 - dice_coeff: 0.3460 - val_loss: 0.6911 - val_dice_coeff: 0.2741\n",
      "Epoch 4/100\n",
      "4/4 [==============================] - 4s 1s/step - loss: 0.6914 - dice_coeff: 0.3449 - val_loss: 0.6903 - val_dice_coeff: 0.2737\n",
      "Epoch 5/100\n",
      "4/4 [==============================] - 4s 1s/step - loss: 0.6908 - dice_coeff: 0.3438 - val_loss: 0.6895 - val_dice_coeff: 0.2733\n",
      "Epoch 6/100\n",
      "4/4 [==============================] - 4s 1s/step - loss: 0.6902 - dice_coeff: 0.3431 - val_loss: 0.6886 - val_dice_coeff: 0.2729\n",
      "Epoch 7/100\n",
      "4/4 [==============================] - 4s 1s/step - loss: 0.6895 - dice_coeff: 0.3424 - val_loss: 0.6875 - val_dice_coeff: 0.2725\n",
      "Epoch 8/100\n",
      "4/4 [==============================] - 4s 1s/step - loss: 0.6888 - dice_coeff: 0.3436 - val_loss: 0.6864 - val_dice_coeff: 0.2720\n",
      "Epoch 9/100\n",
      "4/4 [==============================] - 4s 1s/step - loss: 0.6879 - dice_coeff: 0.3421 - val_loss: 0.6851 - val_dice_coeff: 0.2712\n",
      "Epoch 10/100\n",
      "4/4 [==============================] - 4s 1s/step - loss: 0.6869 - dice_coeff: 0.3418 - val_loss: 0.6836 - val_dice_coeff: 0.2704\n",
      "Epoch 11/100\n",
      "4/4 [==============================] - 4s 1s/step - loss: 0.6857 - dice_coeff: 0.3402 - val_loss: 0.6817 - val_dice_coeff: 0.2694\n",
      "Epoch 12/100\n",
      "4/4 [==============================] - 4s 1s/step - loss: 0.6842 - dice_coeff: 0.3370 - val_loss: 0.6796 - val_dice_coeff: 0.2681\n",
      "Epoch 13/100\n",
      "4/4 [==============================] - 4s 1s/step - loss: 0.6828 - dice_coeff: 0.3363 - val_loss: 0.6771 - val_dice_coeff: 0.2664\n",
      "Epoch 14/100\n",
      "4/4 [==============================] - 4s 1s/step - loss: 0.6811 - dice_coeff: 0.3355 - val_loss: 0.6740 - val_dice_coeff: 0.2643\n",
      "Epoch 15/100\n",
      "4/4 [==============================] - 4s 1s/step - loss: 0.6788 - dice_coeff: 0.3324 - val_loss: 0.6699 - val_dice_coeff: 0.2614\n",
      "Epoch 16/100\n",
      "4/4 [==============================] - 4s 1s/step - loss: 0.6759 - dice_coeff: 0.3272 - val_loss: 0.6644 - val_dice_coeff: 0.2572\n",
      "Epoch 17/100\n",
      "4/4 [==============================] - 4s 1s/step - loss: 0.6718 - dice_coeff: 0.3222 - val_loss: 0.6566 - val_dice_coeff: 0.2506\n",
      "Epoch 18/100\n",
      "4/4 [==============================] - 4s 1s/step - loss: 0.6666 - dice_coeff: 0.3115 - val_loss: 0.6448 - val_dice_coeff: 0.2404\n",
      "Epoch 19/100\n",
      "4/4 [==============================] - 4s 1s/step - loss: 0.6597 - dice_coeff: 0.2983 - val_loss: 0.6280 - val_dice_coeff: 0.2299\n",
      "Epoch 20/100\n",
      "4/4 [==============================] - 4s 1s/step - loss: 0.6482 - dice_coeff: 0.2864 - val_loss: 0.5980 - val_dice_coeff: 0.2252\n",
      "Epoch 21/100\n",
      "4/4 [==============================] - 4s 1s/step - loss: 0.6249 - dice_coeff: 0.2801 - val_loss: 0.5647 - val_dice_coeff: 0.2370\n",
      "Epoch 22/100\n",
      "4/4 [==============================] - 4s 1s/step - loss: 0.5911 - dice_coeff: 0.2831 - val_loss: 0.4879 - val_dice_coeff: 0.2521\n",
      "Epoch 23/100\n",
      "4/4 [==============================] - 4s 1s/step - loss: 0.5328 - dice_coeff: 0.3163 - val_loss: 0.4117 - val_dice_coeff: 0.2796\n",
      "Epoch 24/100\n",
      "4/4 [==============================] - 4s 1s/step - loss: 0.4638 - dice_coeff: 0.3471 - val_loss: 0.5028 - val_dice_coeff: 0.1640\n",
      "Epoch 25/100\n",
      "4/4 [==============================] - 4s 1s/step - loss: 0.5351 - dice_coeff: 0.3186 - val_loss: 0.4112 - val_dice_coeff: 0.3286\n",
      "Epoch 26/100\n",
      "4/4 [==============================] - 4s 1s/step - loss: 0.4419 - dice_coeff: 0.3964 - val_loss: 0.3191 - val_dice_coeff: 0.3661\n",
      "Epoch 27/100\n",
      "4/4 [==============================] - 4s 1s/step - loss: 0.4048 - dice_coeff: 0.4061 - val_loss: 0.3165 - val_dice_coeff: 0.4005\n",
      "Epoch 28/100\n",
      "4/4 [==============================] - 4s 1s/step - loss: 0.3796 - dice_coeff: 0.4511 - val_loss: 0.2831 - val_dice_coeff: 0.4317\n",
      "Epoch 29/100\n",
      "4/4 [==============================] - 4s 1s/step - loss: 0.3596 - dice_coeff: 0.4648 - val_loss: 0.2862 - val_dice_coeff: 0.4458\n",
      "Epoch 30/100\n",
      "4/4 [==============================] - 4s 1s/step - loss: 0.3562 - dice_coeff: 0.4823 - val_loss: 0.2659 - val_dice_coeff: 0.4734\n",
      "Epoch 31/100\n",
      "4/4 [==============================] - 4s 1s/step - loss: 0.3477 - dice_coeff: 0.4971 - val_loss: 0.2608 - val_dice_coeff: 0.4847\n",
      "Epoch 32/100\n",
      "4/4 [==============================] - 4s 1s/step - loss: 0.3318 - dice_coeff: 0.5125 - val_loss: 0.2618 - val_dice_coeff: 0.4865\n",
      "Epoch 33/100\n",
      "4/4 [==============================] - 4s 1s/step - loss: 0.3226 - dice_coeff: 0.5209 - val_loss: 0.2609 - val_dice_coeff: 0.4901\n",
      "Epoch 34/100\n",
      "4/4 [==============================] - 4s 1s/step - loss: 0.3219 - dice_coeff: 0.5241 - val_loss: 0.2469 - val_dice_coeff: 0.5105\n",
      "Epoch 35/100\n",
      "4/4 [==============================] - 4s 1s/step - loss: 0.3038 - dice_coeff: 0.5411 - val_loss: 0.2403 - val_dice_coeff: 0.5189\n",
      "Epoch 36/100\n",
      "4/4 [==============================] - 4s 1s/step - loss: 0.3016 - dice_coeff: 0.5457 - val_loss: 0.2456 - val_dice_coeff: 0.5141\n",
      "Epoch 37/100\n",
      "4/4 [==============================] - 4s 1s/step - loss: 0.2936 - dice_coeff: 0.5535 - val_loss: 0.2406 - val_dice_coeff: 0.5228\n",
      "Epoch 38/100\n",
      "4/4 [==============================] - 4s 1s/step - loss: 0.2907 - dice_coeff: 0.5596 - val_loss: 0.2332 - val_dice_coeff: 0.5380\n",
      "Epoch 39/100\n",
      "4/4 [==============================] - 4s 1s/step - loss: 0.2867 - dice_coeff: 0.5656 - val_loss: 0.2355 - val_dice_coeff: 0.5436\n",
      "Epoch 40/100\n",
      "4/4 [==============================] - 4s 1s/step - loss: 0.2913 - dice_coeff: 0.5663 - val_loss: 0.2397 - val_dice_coeff: 0.5349\n",
      "Epoch 41/100\n",
      "4/4 [==============================] - 4s 1s/step - loss: 0.2854 - dice_coeff: 0.5757 - val_loss: 0.2329 - val_dice_coeff: 0.5470\n",
      "Epoch 42/100\n",
      "4/4 [==============================] - 4s 1s/step - loss: 0.2773 - dice_coeff: 0.5837 - val_loss: 0.2273 - val_dice_coeff: 0.5603\n",
      "Epoch 43/100\n",
      "4/4 [==============================] - 4s 1s/step - loss: 0.2759 - dice_coeff: 0.5850 - val_loss: 0.2278 - val_dice_coeff: 0.5695\n",
      "Epoch 44/100\n",
      "4/4 [==============================] - 4s 1s/step - loss: 0.2726 - dice_coeff: 0.5973 - val_loss: 0.2235 - val_dice_coeff: 0.5771\n",
      "Epoch 45/100\n",
      "4/4 [==============================] - 4s 1s/step - loss: 0.2791 - dice_coeff: 0.5975 - val_loss: 0.2419 - val_dice_coeff: 0.5561\n",
      "Epoch 46/100\n",
      "4/4 [==============================] - 4s 1s/step - loss: 0.2761 - dice_coeff: 0.6060 - val_loss: 0.2187 - val_dice_coeff: 0.5945\n",
      "Model saved to: /tmp/tmpdrk9uyu8GP2/attunet_0attunet_model\n",
      "History saved to: /tmp/tmpdrk9uyu8GP2/attunet_history_0.pkl\n",
      "Testing the classifier...\n",
      "****** TRAINING DISCRIMINATOR ******\n",
      "Model saved to /tmp/tmpdrk9uyu8GP2/cnnd_0.model\n",
      "History saved to /tmp/tmpdrk9uyu8GP2/cnnd_history_0.pickle\n",
      "Testing the discriminator...\n",
      "10/10 [==============================] - 0s 35ms/step - loss: 5.9984e-05 - accuracy: 1.0000\n",
      "Replacing 47 from 142 !\n",
      "D_relabeled_ 47\n",
      "point ids 47\n",
      "Removed: 47 Filled: 47\n",
      "TOOK 503.1597502231598 seconds\n",
      "==== DONE LOOP 1 ====\n",
      "******\n",
      "Loop 2\n",
      "Epoch 1/100\n",
      "5/5 [==============================] - 10s 2s/step - loss: 0.2632 - dice_coeff: 0.6087 - val_loss: 0.2278 - val_dice_coeff: 0.5995\n",
      "Epoch 2/100\n",
      "5/5 [==============================] - 4s 894ms/step - loss: 0.2774 - dice_coeff: 0.6102 - val_loss: 0.2161 - val_dice_coeff: 0.6053\n",
      "Epoch 3/100\n",
      "5/5 [==============================] - 4s 903ms/step - loss: 0.2486 - dice_coeff: 0.6403 - val_loss: 0.2214 - val_dice_coeff: 0.6090\n",
      "Epoch 4/100\n",
      "5/5 [==============================] - 4s 955ms/step - loss: 0.2451 - dice_coeff: 0.6473 - val_loss: 0.2002 - val_dice_coeff: 0.6409\n",
      "Epoch 5/100\n",
      "5/5 [==============================] - 4s 871ms/step - loss: 0.2401 - dice_coeff: 0.6652 - val_loss: 0.1974 - val_dice_coeff: 0.6575\n",
      "Epoch 6/100\n",
      "5/5 [==============================] - 4s 991ms/step - loss: 0.2289 - dice_coeff: 0.6845 - val_loss: 0.1922 - val_dice_coeff: 0.6761\n",
      "Epoch 7/100\n",
      "5/5 [==============================] - 4s 895ms/step - loss: 0.2275 - dice_coeff: 0.6994 - val_loss: 0.1969 - val_dice_coeff: 0.6848\n",
      "Epoch 8/100\n",
      "5/5 [==============================] - 4s 874ms/step - loss: 0.2223 - dice_coeff: 0.7088 - val_loss: 0.1978 - val_dice_coeff: 0.6955\n",
      "Epoch 9/100\n",
      "5/5 [==============================] - 4s 869ms/step - loss: 0.2152 - dice_coeff: 0.7255 - val_loss: 0.1929 - val_dice_coeff: 0.7068\n",
      "Epoch 10/100\n",
      "5/5 [==============================] - 4s 897ms/step - loss: 0.2113 - dice_coeff: 0.7342 - val_loss: 0.1878 - val_dice_coeff: 0.7150\n",
      "Epoch 11/100\n",
      "5/5 [==============================] - 4s 891ms/step - loss: 0.2083 - dice_coeff: 0.7376 - val_loss: 0.1858 - val_dice_coeff: 0.7177\n",
      "Epoch 12/100\n",
      "5/5 [==============================] - 4s 914ms/step - loss: 0.2104 - dice_coeff: 0.7397 - val_loss: 0.1872 - val_dice_coeff: 0.7215\n",
      "Epoch 13/100\n",
      "5/5 [==============================] - 4s 940ms/step - loss: 0.2097 - dice_coeff: 0.7395 - val_loss: 0.1964 - val_dice_coeff: 0.7177\n",
      "Model saved to: /tmp/tmpdrk9uyu8GP2/attunet_1attunet_model\n",
      "History saved to: /tmp/tmpdrk9uyu8GP2/attunet_history_1.pkl\n",
      "Testing the classifier...\n",
      "Testing the discriminator...\n",
      "10/10 [==============================] - 0s 38ms/step - loss: 1.2992e-04 - accuracy: 1.0000\n",
      "Replacing 46 from 139 !\n",
      "D_relabeled_ 46\n",
      "point ids 46\n",
      "Removed: 46 Filled: 46\n",
      "TOOK 171.97233963012695 seconds\n",
      "==== DONE LOOP 2 ====\n",
      "******\n",
      "Loop 3\n",
      "Epoch 1/100\n",
      "6/6 [==============================] - 9s 2s/step - loss: 0.2090 - dice_coeff: 0.7417 - val_loss: 0.2043 - val_dice_coeff: 0.7126\n",
      "Epoch 2/100\n",
      "6/6 [==============================] - 4s 754ms/step - loss: 0.2130 - dice_coeff: 0.7384 - val_loss: 0.2355 - val_dice_coeff: 0.6960\n",
      "Epoch 3/100\n",
      "6/6 [==============================] - 4s 748ms/step - loss: 0.2227 - dice_coeff: 0.7320 - val_loss: 0.2092 - val_dice_coeff: 0.7058\n",
      "Model saved to: /tmp/tmpdrk9uyu8GP2/attunet_2attunet_model\n",
      "History saved to: /tmp/tmpdrk9uyu8GP2/attunet_history_2.pkl\n",
      "Testing the classifier...\n",
      "Testing the discriminator...\n",
      "10/10 [==============================] - 0s 34ms/step - loss: 5.5488e-04 - accuracy: 1.0000\n",
      "Replacing 49 from 148 !\n",
      "D_relabeled_ 49\n",
      "point ids 49\n",
      "Removed: 49 Filled: 49\n",
      "TOOK 71.66221618652344 seconds\n",
      "==== DONE LOOP 3 ====\n",
      "******\n",
      "Loop 4\n",
      "Epoch 1/100\n",
      "7/7 [==============================] - 8s 1s/step - loss: 0.2159 - dice_coeff: 0.7163 - val_loss: 0.2091 - val_dice_coeff: 0.7013\n",
      "Epoch 2/100\n",
      "7/7 [==============================] - 5s 687ms/step - loss: 0.2127 - dice_coeff: 0.6976 - val_loss: 0.1811 - val_dice_coeff: 0.7099\n",
      "Epoch 3/100\n",
      "7/7 [==============================] - 5s 693ms/step - loss: 0.2066 - dice_coeff: 0.7235 - val_loss: 0.1815 - val_dice_coeff: 0.7096\n",
      "Epoch 4/100\n",
      "7/7 [==============================] - 5s 684ms/step - loss: 0.2057 - dice_coeff: 0.7366 - val_loss: 0.2018 - val_dice_coeff: 0.7087\n",
      "Epoch 5/100\n",
      "7/7 [==============================] - 5s 695ms/step - loss: 0.2128 - dice_coeff: 0.7106 - val_loss: 0.1757 - val_dice_coeff: 0.7130\n",
      "Epoch 6/100\n",
      "7/7 [==============================] - 5s 693ms/step - loss: 0.2113 - dice_coeff: 0.7231 - val_loss: 0.1802 - val_dice_coeff: 0.7061\n",
      "Model saved to: /tmp/tmpdrk9uyu8GP2/attunet_3attunet_model\n",
      "History saved to: /tmp/tmpdrk9uyu8GP2/attunet_history_3.pkl\n",
      "Testing the classifier...\n",
      "Testing the discriminator...\n",
      "10/10 [==============================] - 0s 33ms/step - loss: 5.6346e-04 - accuracy: 1.0000\n",
      "Replacing 47 from 142 !\n",
      "D_relabeled_ 47\n",
      "point ids 47\n",
      "Removed: 47 Filled: 47\n",
      "TOOK 112.09448051452637 seconds\n",
      "==== DONE LOOP 4 ====\n",
      "******\n",
      "Loop 5\n",
      "Epoch 1/100\n",
      "7/7 [==============================] - 12s 2s/step - loss: 0.2157 - dice_coeff: 0.7197 - val_loss: 0.1754 - val_dice_coeff: 0.7127\n",
      "Epoch 2/100\n",
      "7/7 [==============================] - 5s 738ms/step - loss: 0.1998 - dice_coeff: 0.7265 - val_loss: 0.1841 - val_dice_coeff: 0.7163\n",
      "Epoch 3/100\n",
      "7/7 [==============================] - 5s 735ms/step - loss: 0.2002 - dice_coeff: 0.7351 - val_loss: 0.1742 - val_dice_coeff: 0.7220\n",
      "Epoch 4/100\n",
      "7/7 [==============================] - 5s 745ms/step - loss: 0.1989 - dice_coeff: 0.7373 - val_loss: 0.1768 - val_dice_coeff: 0.7196\n",
      "Epoch 5/100\n",
      "7/7 [==============================] - 5s 735ms/step - loss: 0.2094 - dice_coeff: 0.7342 - val_loss: 0.1791 - val_dice_coeff: 0.7152\n",
      "Epoch 6/100\n",
      "7/7 [==============================] - 5s 763ms/step - loss: 0.2062 - dice_coeff: 0.7318 - val_loss: 0.1771 - val_dice_coeff: 0.7133\n",
      "Model saved to: /tmp/tmpdrk9uyu8GP2/attunet_4attunet_model\n",
      "History saved to: /tmp/tmpdrk9uyu8GP2/attunet_history_4.pkl\n",
      "Testing the classifier...\n",
      "Testing the discriminator...\n",
      "10/10 [==============================] - 0s 33ms/step - loss: 2.0808e-05 - accuracy: 1.0000\n",
      "Replacing 51 from 153 !\n",
      "D_relabeled_ 51\n",
      "point ids 51\n",
      "Removed: 51 Filled: 51\n",
      "TOOK 111.89510560035706 seconds\n",
      "==== DONE LOOP 5 ====\n",
      "******\n",
      "Loop 6\n",
      "Epoch 1/100\n",
      "8/8 [==============================] - 12s 2s/step - loss: 0.2005 - dice_coeff: 0.7302 - val_loss: 0.1728 - val_dice_coeff: 0.7210\n",
      "Epoch 2/100\n",
      "8/8 [==============================] - 5s 689ms/step - loss: 0.1977 - dice_coeff: 0.7334 - val_loss: 0.1726 - val_dice_coeff: 0.7213\n",
      "Epoch 3/100\n",
      "8/8 [==============================] - 5s 683ms/step - loss: 0.1972 - dice_coeff: 0.7337 - val_loss: 0.1733 - val_dice_coeff: 0.7271\n",
      "Epoch 4/100\n",
      "8/8 [==============================] - 5s 701ms/step - loss: 0.1957 - dice_coeff: 0.7417 - val_loss: 0.1724 - val_dice_coeff: 0.7277\n",
      "Epoch 5/100\n",
      "8/8 [==============================] - 5s 711ms/step - loss: 0.1967 - dice_coeff: 0.7396 - val_loss: 0.1723 - val_dice_coeff: 0.7286\n",
      "Epoch 6/100\n",
      "8/8 [==============================] - 5s 681ms/step - loss: 0.1956 - dice_coeff: 0.7423 - val_loss: 0.1717 - val_dice_coeff: 0.7281\n",
      "Epoch 7/100\n",
      "8/8 [==============================] - 5s 686ms/step - loss: 0.1990 - dice_coeff: 0.7386 - val_loss: 0.1760 - val_dice_coeff: 0.7275\n",
      "Epoch 8/100\n",
      "8/8 [==============================] - 5s 712ms/step - loss: 0.1987 - dice_coeff: 0.7380 - val_loss: 0.1766 - val_dice_coeff: 0.7266\n",
      "Model saved to: /tmp/tmpdrk9uyu8GP2/attunet_5attunet_model\n",
      "History saved to: /tmp/tmpdrk9uyu8GP2/attunet_history_5.pkl\n",
      "Testing the classifier...\n",
      "Testing the discriminator...\n",
      "10/10 [==============================] - 0s 35ms/step - loss: 2.5521e-04 - accuracy: 1.0000\n",
      "Replacing 51 from 154 !\n",
      "D_relabeled_ 51\n",
      "point ids 51\n",
      "Removed: 51 Filled: 51\n",
      "TOOK 112.36143231391907 seconds\n",
      "==== DONE LOOP 6 ====\n",
      "******\n",
      "Loop 7\n",
      "Epoch 1/100\n",
      "9/9 [==============================] - 11s 1s/step - loss: 0.1995 - dice_coeff: 0.7372 - val_loss: 0.1713 - val_dice_coeff: 0.7243\n",
      "Epoch 2/100\n",
      "9/9 [==============================] - 6s 677ms/step - loss: 0.2021 - dice_coeff: 0.7302 - val_loss: 0.1701 - val_dice_coeff: 0.7261\n",
      "Epoch 3/100\n",
      "9/9 [==============================] - 6s 636ms/step - loss: 0.2002 - dice_coeff: 0.7312 - val_loss: 0.1977 - val_dice_coeff: 0.7147\n",
      "Model saved to: /tmp/tmpdrk9uyu8GP2/attunet_6attunet_model\n",
      "History saved to: /tmp/tmpdrk9uyu8GP2/attunet_history_6.pkl\n",
      "Testing the classifier...\n",
      "Testing the discriminator...\n",
      "10/10 [==============================] - 0s 33ms/step - loss: 2.8649e-04 - accuracy: 1.0000\n",
      "Replacing 47 from 141 !\n",
      "D_relabeled_ 47\n",
      "point ids 47\n",
      "Removed: 47 Filled: 47\n",
      "TOOK 71.59018611907959 seconds\n",
      "==== DONE LOOP 7 ====\n",
      "******\n",
      "Loop 8\n",
      "Epoch 1/100\n",
      "10/10 [==============================] - 9s 971ms/step - loss: 0.2058 - dice_coeff: 0.7257 - val_loss: 0.1723 - val_dice_coeff: 0.7179\n",
      "Epoch 2/100\n",
      "10/10 [==============================] - 6s 613ms/step - loss: 0.2044 - dice_coeff: 0.7302 - val_loss: 0.1701 - val_dice_coeff: 0.7190\n",
      "Epoch 3/100\n",
      "10/10 [==============================] - 6s 614ms/step - loss: 0.2005 - dice_coeff: 0.7324 - val_loss: 0.1781 - val_dice_coeff: 0.7238\n",
      "Epoch 4/100\n",
      "10/10 [==============================] - 6s 600ms/step - loss: 0.2192 - dice_coeff: 0.7060 - val_loss: 0.1697 - val_dice_coeff: 0.7234\n",
      "Epoch 5/100\n",
      "10/10 [==============================] - 6s 596ms/step - loss: 0.2218 - dice_coeff: 0.7095 - val_loss: 0.1789 - val_dice_coeff: 0.6908\n",
      "Model saved to: /tmp/tmpdrk9uyu8GP2/attunet_7attunet_model\n",
      "History saved to: /tmp/tmpdrk9uyu8GP2/attunet_history_7.pkl\n",
      "Testing the classifier...\n",
      "Testing the discriminator...\n",
      "10/10 [==============================] - 0s 35ms/step - loss: 2.5130e-05 - accuracy: 1.0000\n",
      "Replacing 53 from 160 !\n",
      "D_relabeled_ 53\n",
      "point ids 53\n",
      "Removed: 53 Filled: 53\n",
      "TOOK 112.22881984710693 seconds\n",
      "==== DONE LOOP 8 ====\n"
     ]
    }
   ],
   "source": [
    "R.run(images=images, masks=masks, weights=weights, runs=8)"
   ]
  },
  {
   "cell_type": "code",
   "execution_count": null,
   "id": "dab6fd49",
   "metadata": {},
   "outputs": [],
   "source": []
  },
  {
   "cell_type": "code",
   "execution_count": 11,
   "id": "00075332",
   "metadata": {},
   "outputs": [
    {
     "data": {
      "text/plain": [
       "[[0.23144613206386566, 0.5855432152748108],\n",
       " [0.2059963345527649, 0.7106050252914429],\n",
       " [0.21873848140239716, 0.6970434188842773],\n",
       " [0.21148240566253662, 0.6745205521583557],\n",
       " [0.2089163064956665, 0.6839752793312073],\n",
       " [0.18944844603538513, 0.7151911854743958],\n",
       " [0.2044941633939743, 0.7096549272537231],\n",
       " [0.21146681904792786, 0.6557793021202087]]"
      ]
     },
     "execution_count": 11,
     "metadata": {},
     "output_type": "execute_result"
    }
   ],
   "source": [
    "R.classifier_scores"
   ]
  },
  {
   "cell_type": "code",
   "execution_count": 12,
   "id": "35105656",
   "metadata": {},
   "outputs": [
    {
     "data": {
      "text/plain": [
       "[[5.9983816754538566e-05, 1.0],\n",
       " [0.00012992156553082168, 1.0],\n",
       " [0.0005548837943933904, 1.0],\n",
       " [0.0005634596454910934, 1.0],\n",
       " [2.08082656172337e-05, 1.0],\n",
       " [0.0002552102960180491, 1.0],\n",
       " [0.00028648573788814247, 1.0],\n",
       " [2.5130393623840064e-05, 1.0]]"
      ]
     },
     "execution_count": 12,
     "metadata": {},
     "output_type": "execute_result"
    }
   ],
   "source": [
    "R.discriminator_scores"
   ]
  },
  {
   "cell_type": "code",
   "execution_count": null,
   "id": "e256ed4d",
   "metadata": {},
   "outputs": [],
   "source": []
  },
  {
   "cell_type": "code",
   "execution_count": 13,
   "id": "c83bb28d",
   "metadata": {},
   "outputs": [
    {
     "data": {
      "image/png": "[encoded data removed]",
      "text/plain": [
       "<Figure size 240x240 with 1 Axes>"
      ]
     },
     "metadata": {
      "needs_background": "light"
     },
     "output_type": "display_data"
    }
   ],
   "source": [
    "R.plot()"
   ]
  },
  {
   "cell_type": "code",
   "execution_count": null,
   "id": "7f3b4a58",
   "metadata": {},
   "outputs": [],
   "source": []
  }
 ],
 "metadata": {
  "kernelspec": {
   "display_name": "Python 3 (ipykernel)",
   "language": "python",
   "name": "python3"
  },
  "language_info": {
   "codemirror_mode": {
    "name": "ipython",
    "version": 3
   },
   "file_extension": ".py",
   "mimetype": "text/x-python",
   "name": "python",
   "nbconvert_exporter": "python",
   "pygments_lexer": "ipython3",
   "version": "3.9.7"
  }
 },
 "nbformat": 4,
 "nbformat_minor": 5
}
