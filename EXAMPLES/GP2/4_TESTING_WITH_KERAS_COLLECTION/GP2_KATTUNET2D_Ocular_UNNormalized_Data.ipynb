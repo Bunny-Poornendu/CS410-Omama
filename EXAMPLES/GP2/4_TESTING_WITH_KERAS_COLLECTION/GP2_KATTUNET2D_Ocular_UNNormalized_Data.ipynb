{
 "cells": [
  {
   "cell_type": "code",
   "execution_count": 1,
   "id": "06c4accc",
   "metadata": {},
   "outputs": [
    {
     "name": "stdout",
     "output_type": "stream",
     "text": [
      "Populating the interactive namespace from numpy and matplotlib\n"
     ]
    }
   ],
   "source": [
    "%pylab inline\n",
    "%load_ext autoreload\n",
    "%autoreload 2"
   ]
  },
  {
   "cell_type": "code",
   "execution_count": 2,
   "id": "b9e78ed8",
   "metadata": {},
   "outputs": [
    {
     "name": "stdout",
     "output_type": "stream",
     "text": [
      "-----------------------------------------\n",
      "keras-unet init: TF version is >= 2.0.0 - using `tf.keras` instead of `Keras`\n",
      "-----------------------------------------\n"
     ]
    }
   ],
   "source": [
    "import time\n",
    "import sys\n",
    "sys.path.insert(0,'../../..')\n",
    "import gp2\n",
    "from gp2 import Runner\n",
    "from keras import losses, metrics\n",
    "from tensorflow.keras import optimizers"
   ]
  },
  {
   "cell_type": "code",
   "execution_count": 3,
   "id": "bdc75325",
   "metadata": {},
   "outputs": [
    {
     "name": "stdout",
     "output_type": "stream",
     "text": [
      "*** GP2 KATTUnet2D ***\n",
      "Working directory: /tmp/tmpthfuzrczGP2\n",
      "Using default discriminator (CNN)\n"
     ]
    }
   ],
   "source": [
    "R = Runner(classifier='kattunet2d',\n",
    "           filter_num=[16, 32, 64, 128, 256],\n",
    "           stack_num_down=2,\n",
    "           stack_num_up=2,\n",
    "           activation='ReLU',\n",
    "           atten_activation='ReLU',\n",
    "           attention='add',\n",
    "           output_activation='Sigmoid',\n",
    "           batch_norm=False,\n",
    "           pool=False,\n",
    "           unpool=False,\n",
    "           weights='imagenet',\n",
    "           optimizer= None, #None = default is optimizers.Adam(learning_rate=1e-3)\n",
    "           loss=None, #None = default is losses.binary_crossentropy\n",
    "           metric=None # None = default is Util.dice_coef\n",
    "          )"
   ]
  },
  {
   "cell_type": "code",
   "execution_count": 4,
   "id": "87b0c65d",
   "metadata": {},
   "outputs": [],
   "source": [
    "# load our larger toy dataset (10k images and masks)\n",
    "images = np.load('/hpcstor6/scratch01/r/ryan.zurrin001/gp2_ocular_unnormalized_images.npy')\n",
    "masks = np.load('/hpcstor6/scratch01/r/ryan.zurrin001/gp2_ocular_unnormalized_masks.npy')"
   ]
  },
  {
   "cell_type": "code",
   "execution_count": 5,
   "id": "7330ad24",
   "metadata": {},
   "outputs": [],
   "source": [
    "images = images[:6392]\n",
    "masks = masks[:6392]"
   ]
  },
  {
   "cell_type": "code",
   "execution_count": 6,
   "id": "d5b4179a",
   "metadata": {},
   "outputs": [
    {
     "data": {
      "text/plain": [
       "(6392, 512, 512, 1)"
      ]
     },
     "execution_count": 6,
     "metadata": {},
     "output_type": "execute_result"
    }
   ],
   "source": [
    "images.shape"
   ]
  },
  {
   "cell_type": "code",
   "execution_count": 7,
   "id": "57033c4e",
   "metadata": {},
   "outputs": [
    {
     "data": {
      "text/plain": [
       "(6392, 512, 512, 1)"
      ]
     },
     "execution_count": 7,
     "metadata": {},
     "output_type": "execute_result"
    }
   ],
   "source": [
    "masks.shape"
   ]
  },
  {
   "cell_type": "code",
   "execution_count": 8,
   "id": "1dd71668",
   "metadata": {},
   "outputs": [],
   "source": [
    "weights = {\n",
    "    'A': 0.5,\n",
    "    'A_train': 0.1,\n",
    "    'A_val': 0.3,\n",
    "    'A_test': 0.6,\n",
    "    'B': 0.3,\n",
    "    'B_train': 0.7,\n",
    "    'B_val': 0.1,\n",
    "    'B_test': 0.2,\n",
    "    'Z': 0.2\n",
    "}"
   ]
  },
  {
   "cell_type": "code",
   "execution_count": 9,
   "id": "d8ff85c4",
   "metadata": {
    "scrolled": true
   },
   "outputs": [
    {
     "name": "stdout",
     "output_type": "stream",
     "text": [
      "Weights OK!\n",
      "******\n",
      "Loop 1\n",
      "Epoch 1/100\n",
      "5/5 [==============================] - 27s 4s/step - loss: 0.7520 - dice_coeff: 0.3980 - val_loss: 0.7047 - val_dice_coeff: 0.2594\n",
      "Epoch 2/100\n",
      "5/5 [==============================] - 5s 1s/step - loss: 0.7252 - dice_coeff: 0.2961 - val_loss: 0.6791 - val_dice_coeff: 0.2308\n",
      "Epoch 3/100\n",
      "5/5 [==============================] - 5s 1s/step - loss: 0.6894 - dice_coeff: 0.3361 - val_loss: 0.6827 - val_dice_coeff: 0.2973\n",
      "Epoch 4/100\n",
      "5/5 [==============================] - 5s 1s/step - loss: 0.6743 - dice_coeff: 0.3704 - val_loss: 0.6415 - val_dice_coeff: 0.2558\n",
      "Epoch 5/100\n",
      "5/5 [==============================] - 5s 1s/step - loss: 0.6565 - dice_coeff: 0.3248 - val_loss: 0.6206 - val_dice_coeff: 0.2856\n",
      "Epoch 6/100\n",
      "5/5 [==============================] - 5s 1s/step - loss: 0.6329 - dice_coeff: 0.3531 - val_loss: 0.5832 - val_dice_coeff: 0.2898\n",
      "Epoch 7/100\n",
      "5/5 [==============================] - 5s 1s/step - loss: 0.6001 - dice_coeff: 0.3647 - val_loss: 0.5057 - val_dice_coeff: 0.3034\n",
      "Epoch 8/100\n",
      "5/5 [==============================] - 5s 1s/step - loss: 0.5342 - dice_coeff: 0.3925 - val_loss: 0.4554 - val_dice_coeff: 0.3903\n",
      "Epoch 9/100\n",
      "5/5 [==============================] - 5s 1s/step - loss: 0.4813 - dice_coeff: 0.4660 - val_loss: 0.3773 - val_dice_coeff: 0.4439\n",
      "Epoch 10/100\n",
      "5/5 [==============================] - 5s 1s/step - loss: 0.4299 - dice_coeff: 0.5263 - val_loss: 0.3460 - val_dice_coeff: 0.4506\n",
      "Epoch 11/100\n",
      "5/5 [==============================] - 5s 1s/step - loss: 0.4059 - dice_coeff: 0.5520 - val_loss: 0.3134 - val_dice_coeff: 0.5027\n",
      "Epoch 12/100\n",
      "5/5 [==============================] - 5s 1s/step - loss: 0.3801 - dice_coeff: 0.5737 - val_loss: 0.3301 - val_dice_coeff: 0.5381\n",
      "Epoch 13/100\n",
      "5/5 [==============================] - 5s 1s/step - loss: 0.3475 - dice_coeff: 0.6012 - val_loss: 0.3189 - val_dice_coeff: 0.5603\n",
      "Epoch 14/100\n",
      "5/5 [==============================] - 4s 1s/step - loss: 0.3129 - dice_coeff: 0.6401 - val_loss: 0.2572 - val_dice_coeff: 0.6060\n",
      "Epoch 15/100\n",
      "5/5 [==============================] - 5s 1s/step - loss: 0.2772 - dice_coeff: 0.6798 - val_loss: 0.2356 - val_dice_coeff: 0.6336\n",
      "Epoch 16/100\n",
      "5/5 [==============================] - 5s 1s/step - loss: 0.2746 - dice_coeff: 0.6968 - val_loss: 0.2109 - val_dice_coeff: 0.6687\n",
      "Epoch 17/100\n",
      "5/5 [==============================] - 5s 1s/step - loss: 0.2548 - dice_coeff: 0.7072 - val_loss: 0.2342 - val_dice_coeff: 0.6642\n",
      "Epoch 18/100\n",
      "5/5 [==============================] - 5s 1s/step - loss: 0.2308 - dice_coeff: 0.7198 - val_loss: 0.2009 - val_dice_coeff: 0.6886\n",
      "Epoch 19/100\n",
      "5/5 [==============================] - 5s 1s/step - loss: 0.2184 - dice_coeff: 0.7375 - val_loss: 0.1887 - val_dice_coeff: 0.7038\n",
      "Epoch 20/100\n",
      "5/5 [==============================] - 5s 1s/step - loss: 0.2094 - dice_coeff: 0.7463 - val_loss: 0.1876 - val_dice_coeff: 0.7122\n",
      "Epoch 21/100\n",
      "5/5 [==============================] - 5s 1s/step - loss: 0.2064 - dice_coeff: 0.7530 - val_loss: 0.1969 - val_dice_coeff: 0.7157\n",
      "Epoch 22/100\n",
      "5/5 [==============================] - 5s 1s/step - loss: 0.2016 - dice_coeff: 0.7631 - val_loss: 0.1954 - val_dice_coeff: 0.7212\n",
      "Epoch 23/100\n",
      "5/5 [==============================] - 5s 1s/step - loss: 0.1984 - dice_coeff: 0.7708 - val_loss: 0.1888 - val_dice_coeff: 0.7284\n",
      "Epoch 24/100\n",
      "5/5 [==============================] - 5s 1s/step - loss: 0.1986 - dice_coeff: 0.7699 - val_loss: 0.1878 - val_dice_coeff: 0.7300\n",
      "Epoch 25/100\n",
      "5/5 [==============================] - 5s 1s/step - loss: 0.2087 - dice_coeff: 0.7607 - val_loss: 0.1938 - val_dice_coeff: 0.7172\n",
      "Model saved to: /tmp/tmpthfuzrczGP2/attunet_0attunet_model\n",
      "History saved to: /tmp/tmpthfuzrczGP2/attunet_history_0.pkl\n",
      "Testing the classifier...\n",
      "****** TRAINING DISCRIMINATOR ******\n",
      "Model saved to /tmp/tmpthfuzrczGP2/cnnd_0.model\n",
      "History saved to /tmp/tmpthfuzrczGP2/cnnd_history_0.pickle\n",
      "Testing the discriminator...\n",
      "12/12 [==============================] - 1s 36ms/step - loss: 1.7946 - accuracy: 0.8146\n",
      "Replacing 86 from 259 !\n",
      "D_relabeled_ 86\n",
      "point ids 86\n",
      "Removed: 86 Filled: 86\n",
      "TOOK 450.4856524467468 seconds\n",
      "==== DONE LOOP 1 ====\n",
      "******\n",
      "Loop 2\n",
      "Epoch 1/100\n",
      "7/7 [==============================] - 10s 2s/step - loss: 0.2126 - dice_coeff: 0.7344 - val_loss: 0.1966 - val_dice_coeff: 0.7050\n",
      "Epoch 2/100\n",
      "7/7 [==============================] - 5s 816ms/step - loss: 0.1976 - dice_coeff: 0.7371 - val_loss: 0.1921 - val_dice_coeff: 0.7097\n",
      "Epoch 3/100\n",
      "7/7 [==============================] - 5s 793ms/step - loss: 0.1980 - dice_coeff: 0.7380 - val_loss: 0.1938 - val_dice_coeff: 0.7158\n",
      "Epoch 4/100\n",
      "7/7 [==============================] - 5s 787ms/step - loss: 0.1879 - dice_coeff: 0.7562 - val_loss: 0.1857 - val_dice_coeff: 0.7218\n",
      "Epoch 5/100\n",
      "7/7 [==============================] - 5s 794ms/step - loss: 0.1879 - dice_coeff: 0.7553 - val_loss: 0.1797 - val_dice_coeff: 0.7312\n",
      "Epoch 6/100\n",
      "7/7 [==============================] - 6s 843ms/step - loss: 0.1883 - dice_coeff: 0.7641 - val_loss: 0.1855 - val_dice_coeff: 0.7265\n",
      "Epoch 7/100\n",
      "7/7 [==============================] - 5s 797ms/step - loss: 0.1861 - dice_coeff: 0.7564 - val_loss: 0.1769 - val_dice_coeff: 0.7334\n",
      "Epoch 8/100\n",
      "7/7 [==============================] - 5s 819ms/step - loss: 0.1859 - dice_coeff: 0.7684 - val_loss: 0.1772 - val_dice_coeff: 0.7332\n",
      "Epoch 9/100\n",
      "7/7 [==============================] - 5s 798ms/step - loss: 0.1813 - dice_coeff: 0.7632 - val_loss: 0.1745 - val_dice_coeff: 0.7345\n",
      "Epoch 10/100\n",
      "7/7 [==============================] - 5s 783ms/step - loss: 0.1798 - dice_coeff: 0.7715 - val_loss: 0.1864 - val_dice_coeff: 0.7316\n",
      "Epoch 11/100\n",
      "7/7 [==============================] - 6s 851ms/step - loss: 0.1863 - dice_coeff: 0.7623 - val_loss: 0.1907 - val_dice_coeff: 0.7295\n",
      "Epoch 12/100\n",
      "7/7 [==============================] - 5s 808ms/step - loss: 0.1848 - dice_coeff: 0.7623 - val_loss: 0.1779 - val_dice_coeff: 0.7354\n",
      "Model saved to: /tmp/tmpthfuzrczGP2/attunet_1attunet_model\n",
      "History saved to: /tmp/tmpthfuzrczGP2/attunet_history_1.pkl\n",
      "Testing the classifier...\n",
      "Testing the discriminator...\n",
      "12/12 [==============================] - 1s 41ms/step - loss: 1.5679 - accuracy: 0.8564\n",
      "Replacing 81 from 243 !\n",
      "D_relabeled_ 81\n",
      "point ids 81\n",
      "Removed: 81 Filled: 81\n",
      "TOOK 178.8623297214508 seconds\n",
      "==== DONE LOOP 2 ====\n",
      "******\n",
      "Loop 3\n",
      "Epoch 1/100\n",
      "8/8 [==============================] - 12s 2s/step - loss: 0.1761 - dice_coeff: 0.7687 - val_loss: 0.1745 - val_dice_coeff: 0.7304\n",
      "Epoch 2/100\n",
      "8/8 [==============================] - 6s 753ms/step - loss: 0.1726 - dice_coeff: 0.7653 - val_loss: 0.1767 - val_dice_coeff: 0.7338\n",
      "Epoch 3/100\n",
      "8/8 [==============================] - 6s 750ms/step - loss: 0.1768 - dice_coeff: 0.7645 - val_loss: 0.1731 - val_dice_coeff: 0.7349\n",
      "Epoch 4/100\n",
      "8/8 [==============================] - 6s 769ms/step - loss: 0.1817 - dice_coeff: 0.7627 - val_loss: 0.1832 - val_dice_coeff: 0.7295\n",
      "Model saved to: /tmp/tmpthfuzrczGP2/attunet_2attunet_model\n",
      "History saved to: /tmp/tmpthfuzrczGP2/attunet_history_2.pkl\n",
      "Testing the classifier...\n",
      "Testing the discriminator...\n",
      "12/12 [==============================] - 0s 36ms/step - loss: 1.5118 - accuracy: 0.8329\n",
      "Replacing 88 from 265 !\n",
      "D_relabeled_ 88\n",
      "point ids 88\n",
      "Removed: 88 Filled: 88\n",
      "TOOK 118.63672256469727 seconds\n",
      "==== DONE LOOP 3 ====\n",
      "******\n",
      "Loop 4\n",
      "Epoch 1/100\n",
      "9/9 [==============================] - 11s 1s/step - loss: 0.1723 - dice_coeff: 0.7640 - val_loss: 0.1704 - val_dice_coeff: 0.7347\n",
      "Epoch 2/100\n",
      "9/9 [==============================] - 6s 742ms/step - loss: 0.1697 - dice_coeff: 0.7689 - val_loss: 0.1844 - val_dice_coeff: 0.7360\n",
      "Epoch 3/100\n",
      "9/9 [==============================] - 6s 754ms/step - loss: 0.1699 - dice_coeff: 0.7733 - val_loss: 0.1747 - val_dice_coeff: 0.7392\n",
      "Epoch 4/100\n",
      "9/9 [==============================] - 6s 725ms/step - loss: 0.1695 - dice_coeff: 0.7729 - val_loss: 0.1730 - val_dice_coeff: 0.7417\n",
      "Epoch 5/100\n",
      "9/9 [==============================] - 6s 736ms/step - loss: 0.1668 - dice_coeff: 0.7751 - val_loss: 0.1684 - val_dice_coeff: 0.7426\n",
      "Epoch 6/100\n",
      "9/9 [==============================] - 6s 734ms/step - loss: 0.1680 - dice_coeff: 0.7727 - val_loss: 0.1878 - val_dice_coeff: 0.7356\n",
      "Epoch 7/100\n",
      "9/9 [==============================] - 6s 742ms/step - loss: 0.1729 - dice_coeff: 0.7703 - val_loss: 0.1686 - val_dice_coeff: 0.7393\n",
      "Model saved to: /tmp/tmpthfuzrczGP2/attunet_3attunet_model\n",
      "History saved to: /tmp/tmpthfuzrczGP2/attunet_history_3.pkl\n",
      "Testing the classifier...\n",
      "Testing the discriminator...\n",
      "12/12 [==============================] - 0s 35ms/step - loss: 1.4353 - accuracy: 0.8721\n",
      "Replacing 76 from 230 !\n",
      "D_relabeled_ 76\n",
      "point ids 76\n",
      "Removed: 76 Filled: 76\n",
      "TOOK 120.3765721321106 seconds\n",
      "==== DONE LOOP 4 ====\n",
      "******\n",
      "Loop 5\n",
      "Epoch 1/100\n",
      "11/11 [==============================] - 10s 981ms/step - loss: 0.1669 - dice_coeff: 0.7553 - val_loss: 0.1691 - val_dice_coeff: 0.7408\n",
      "Epoch 2/100\n",
      "11/11 [==============================] - 7s 631ms/step - loss: 0.1659 - dice_coeff: 0.7670 - val_loss: 0.1822 - val_dice_coeff: 0.7183\n",
      "Epoch 3/100\n",
      "11/11 [==============================] - 7s 641ms/step - loss: 0.1799 - dice_coeff: 0.7440 - val_loss: 0.1939 - val_dice_coeff: 0.7194\n",
      "Epoch 4/100\n",
      "11/11 [==============================] - 7s 641ms/step - loss: 0.1897 - dice_coeff: 0.7415 - val_loss: 0.1755 - val_dice_coeff: 0.7254\n",
      "Model saved to: /tmp/tmpthfuzrczGP2/attunet_4attunet_model\n",
      "History saved to: /tmp/tmpthfuzrczGP2/attunet_history_4.pkl\n",
      "Testing the classifier...\n",
      "Testing the discriminator...\n",
      "12/12 [==============================] - 0s 38ms/step - loss: 1.5264 - accuracy: 0.8512\n",
      "Replacing 79 from 237 !\n",
      "D_relabeled_ 79\n",
      "point ids 79\n",
      "Removed: 79 Filled: 79\n",
      "TOOK 78.13827562332153 seconds\n",
      "==== DONE LOOP 5 ====\n",
      "******\n",
      "Loop 6\n",
      "Epoch 1/100\n",
      "12/12 [==============================] - 12s 1s/step - loss: 0.1678 - dice_coeff: 0.7526 - val_loss: 0.1697 - val_dice_coeff: 0.7376\n",
      "Epoch 2/100\n",
      "12/12 [==============================] - 7s 629ms/step - loss: 0.1689 - dice_coeff: 0.7595 - val_loss: 0.1654 - val_dice_coeff: 0.7357\n",
      "Epoch 3/100\n",
      "12/12 [==============================] - 7s 635ms/step - loss: 0.1602 - dice_coeff: 0.7678 - val_loss: 0.1716 - val_dice_coeff: 0.7396\n",
      "Epoch 4/100\n",
      "12/12 [==============================] - 7s 629ms/step - loss: 0.1700 - dice_coeff: 0.7582 - val_loss: 0.1875 - val_dice_coeff: 0.7064\n",
      "Epoch 5/100\n",
      "12/12 [==============================] - 7s 626ms/step - loss: 0.1793 - dice_coeff: 0.7393 - val_loss: 0.1925 - val_dice_coeff: 0.7139\n",
      "Model saved to: /tmp/tmpthfuzrczGP2/attunet_5attunet_model\n",
      "History saved to: /tmp/tmpthfuzrczGP2/attunet_history_5.pkl\n",
      "Testing the classifier...\n",
      "Testing the discriminator...\n",
      "12/12 [==============================] - 0s 37ms/step - loss: 1.2530 - accuracy: 0.8851\n",
      "Replacing 78 from 235 !\n",
      "D_relabeled_ 78\n",
      "point ids 78\n",
      "Removed: 78 Filled: 78\n",
      "TOOK 119.12792038917542 seconds\n",
      "==== DONE LOOP 6 ====\n",
      "******\n",
      "Loop 7\n",
      "Epoch 1/100\n",
      "13/13 [==============================] - 14s 1s/step - loss: 0.1740 - dice_coeff: 0.7380 - val_loss: 0.1644 - val_dice_coeff: 0.7267\n",
      "Epoch 2/100\n",
      "13/13 [==============================] - 8s 624ms/step - loss: 0.1619 - dice_coeff: 0.7617 - val_loss: 0.1661 - val_dice_coeff: 0.7401\n",
      "Epoch 3/100\n",
      "13/13 [==============================] - 8s 617ms/step - loss: 0.1640 - dice_coeff: 0.7615 - val_loss: 0.1717 - val_dice_coeff: 0.7384\n",
      "Epoch 4/100\n",
      "13/13 [==============================] - 8s 631ms/step - loss: 0.1623 - dice_coeff: 0.7611 - val_loss: 0.1713 - val_dice_coeff: 0.7365\n",
      "Model saved to: /tmp/tmpthfuzrczGP2/attunet_6attunet_model\n",
      "History saved to: /tmp/tmpthfuzrczGP2/attunet_history_6.pkl\n",
      "Testing the classifier...\n",
      "Testing the discriminator...\n",
      "12/12 [==============================] - 0s 37ms/step - loss: 1.3630 - accuracy: 0.8642\n",
      "Replacing 81 from 243 !\n",
      "D_relabeled_ 81\n",
      "point ids 81\n",
      "Removed: 81 Filled: 81\n",
      "TOOK 119.77373385429382 seconds\n",
      "==== DONE LOOP 7 ====\n",
      "******\n",
      "Loop 8\n",
      "Epoch 1/100\n",
      "14/14 [==============================] - 16s 1s/step - loss: 0.1596 - dice_coeff: 0.7617 - val_loss: 0.1831 - val_dice_coeff: 0.7359\n",
      "Epoch 2/100\n",
      "14/14 [==============================] - 9s 625ms/step - loss: 0.1630 - dice_coeff: 0.7573 - val_loss: 0.1806 - val_dice_coeff: 0.7340\n",
      "Epoch 3/100\n",
      "14/14 [==============================] - 9s 620ms/step - loss: 0.1596 - dice_coeff: 0.7575 - val_loss: 0.1680 - val_dice_coeff: 0.7408\n",
      "Epoch 4/100\n",
      "14/14 [==============================] - 8s 618ms/step - loss: 0.1607 - dice_coeff: 0.7578 - val_loss: 0.1583 - val_dice_coeff: 0.7399\n",
      "Epoch 5/100\n",
      "14/14 [==============================] - 9s 636ms/step - loss: 0.1542 - dice_coeff: 0.7638 - val_loss: 0.1594 - val_dice_coeff: 0.7459\n",
      "Epoch 6/100\n",
      "14/14 [==============================] - 9s 638ms/step - loss: 0.1529 - dice_coeff: 0.7726 - val_loss: 0.1619 - val_dice_coeff: 0.7508\n",
      "Epoch 7/100\n",
      "14/14 [==============================] - 9s 621ms/step - loss: 0.1532 - dice_coeff: 0.7726 - val_loss: 0.1612 - val_dice_coeff: 0.7514\n",
      "Epoch 8/100\n",
      "14/14 [==============================] - 8s 610ms/step - loss: 0.1550 - dice_coeff: 0.7682 - val_loss: 0.1631 - val_dice_coeff: 0.7478\n",
      "Model saved to: /tmp/tmpthfuzrczGP2/attunet_7attunet_model\n",
      "History saved to: /tmp/tmpthfuzrczGP2/attunet_history_7.pkl\n",
      "Testing the classifier...\n",
      "Testing the discriminator...\n",
      "12/12 [==============================] - 0s 35ms/step - loss: 1.2344 - accuracy: 0.8721\n",
      "Replacing 80 from 241 !\n",
      "D_relabeled_ 80\n",
      "point ids 80\n",
      "Removed: 80 Filled: 80\n",
      "TOOK 179.9280993938446 seconds\n",
      "==== DONE LOOP 8 ====\n"
     ]
    }
   ],
   "source": [
    "R.run(images=images, masks=masks, weights=weights, runs=8)"
   ]
  },
  {
   "cell_type": "code",
   "execution_count": null,
   "id": "dab6fd49",
   "metadata": {},
   "outputs": [],
   "source": []
  },
  {
   "cell_type": "code",
   "execution_count": 10,
   "id": "00075332",
   "metadata": {},
   "outputs": [
    {
     "data": {
      "text/plain": [
       "[[0.1943630874156952, 0.7078099846839905],\n",
       " [0.179866224527359, 0.7227376103401184],\n",
       " [0.18359996378421783, 0.7220190167427063],\n",
       " [0.172385573387146, 0.7270917296409607],\n",
       " [0.17845380306243896, 0.7175585031509399],\n",
       " [0.19323354959487915, 0.7081912159919739],\n",
       " [0.17690424621105194, 0.7273464202880859],\n",
       " [0.16805866360664368, 0.7430670857429504]]"
      ]
     },
     "execution_count": 10,
     "metadata": {},
     "output_type": "execute_result"
    }
   ],
   "source": [
    "R.classifier_scores"
   ]
  },
  {
   "cell_type": "code",
   "execution_count": 11,
   "id": "35105656",
   "metadata": {},
   "outputs": [
    {
     "data": {
      "text/plain": [
       "[[1.7945868968963623, 0.8146213889122009],\n",
       " [1.5678725242614746, 0.8563968539237976],\n",
       " [1.5118149518966675, 0.8328981995582581],\n",
       " [1.4353197813034058, 0.8720626831054688],\n",
       " [1.5264419317245483, 0.8511749505996704],\n",
       " [1.2530133724212646, 0.8851174712181091],\n",
       " [1.3629897832870483, 0.8642297387123108],\n",
       " [1.2344183921813965, 0.8720626831054688]]"
      ]
     },
     "execution_count": 11,
     "metadata": {},
     "output_type": "execute_result"
    }
   ],
   "source": [
    "R.discriminator_scores"
   ]
  },
  {
   "cell_type": "code",
   "execution_count": null,
   "id": "e256ed4d",
   "metadata": {},
   "outputs": [],
   "source": []
  },
  {
   "cell_type": "code",
   "execution_count": 12,
   "id": "c83bb28d",
   "metadata": {},
   "outputs": [
    {
     "data": {
      "image/png": "[encoded data removed]",
      "text/plain": [
       "<Figure size 240x240 with 1 Axes>"
      ]
     },
     "metadata": {
      "needs_background": "light"
     },
     "output_type": "display_data"
    }
   ],
   "source": [
    "R.plot()"
   ]
  },
  {
   "cell_type": "code",
   "execution_count": null,
   "id": "7f3b4a58",
   "metadata": {},
   "outputs": [],
   "source": []
  }
 ],
 "metadata": {
  "kernelspec": {
   "display_name": "Python 3 (ipykernel)",
   "language": "python",
   "name": "python3"
  },
  "language_info": {
   "codemirror_mode": {
    "name": "ipython",
    "version": 3
   },
   "file_extension": ".py",
   "mimetype": "text/x-python",
   "name": "python",
   "nbconvert_exporter": "python",
   "pygments_lexer": "ipython3",
   "version": "3.9.7"
  }
 },
 "nbformat": 4,
 "nbformat_minor": 5
}
