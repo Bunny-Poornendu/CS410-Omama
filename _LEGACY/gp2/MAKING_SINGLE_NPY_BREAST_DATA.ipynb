{
 "cells": [
  {
   "cell_type": "markdown",
   "id": "d933c8e9",
   "metadata": {},
   "source": [
    "# USE OF SIMPLE API TO CONVERT SEGMENTATION DATASETS TO NPY"
   ]
  },
  {
   "cell_type": "code",
   "execution_count": 1,
   "id": "363bc61a",
   "metadata": {},
   "outputs": [
    {
     "name": "stdout",
     "output_type": "stream",
     "text": [
      "Populating the interactive namespace from numpy and matplotlib\n"
     ]
    }
   ],
   "source": [
    "%pylab inline\n",
    "%load_ext autoreload\n",
    "%autoreload 2\n",
    "import sys\n",
    "sys.path.insert(0,'../..')\n",
    "from PIL import Image\n",
    "import omama as O"
   ]
  },
  {
   "cell_type": "markdown",
   "id": "a8539e71",
   "metadata": {},
   "source": [
    "## first need to get the masks and images seperated"
   ]
  },
  {
   "cell_type": "code",
   "execution_count": 2,
   "id": "cefeb9d0",
   "metadata": {},
   "outputs": [],
   "source": [
    "all_images_root = '/hpcstor6/scratch01/r/ryan.zurrin001/Breast_Ultrasound_Images/Dataset_BUSI_with_GT/images/'\n",
    "output_imgs = '/hpcstor6/scratch01/r/ryan.zurrin001/Breast_Ultrasound_Images/Dataset_BUSI_with_GT/all_images/'\n",
    "outut_masks = '/hpcstor6/scratch01/r/ryan.zurrin001/Breast_Ultrasound_Images/Dataset_BUSI_with_GT/all_masks/'\n",
    "ext = 'png'\n",
    "mask_keyword = 'mask'"
   ]
  },
  {
   "cell_type": "code",
   "execution_count": 3,
   "id": "a3cfcdee",
   "metadata": {},
   "outputs": [],
   "source": [
    "O.DataToNpyFiles.seperate_masks_and_images(\n",
    "    root_dir=all_images_root, \n",
    "    output_img=output_imgs, \n",
    "    output_mask=outut_masks, \n",
    "    image_extension=ext, \n",
    "    mask_keyword=mask_keyword\n",
    ")"
   ]
  },
  {
   "cell_type": "code",
   "execution_count": null,
   "id": "b6239c3d",
   "metadata": {},
   "outputs": [],
   "source": []
  },
  {
   "cell_type": "code",
   "execution_count": null,
   "id": "c088ff1a",
   "metadata": {},
   "outputs": [],
   "source": []
  },
  {
   "cell_type": "code",
   "execution_count": 3,
   "id": "ef874cb6",
   "metadata": {},
   "outputs": [],
   "source": [
    "images_name = 'Breast_Ultrasound_Images'\n",
    "masks_name = 'Breast_Ultrasound_masks'\n",
    "breast_root = '/hpcstor6/scratch01/r/ryan.zurrin001/Breast_Ultrasound_Images/'"
   ]
  },
  {
   "cell_type": "code",
   "execution_count": 4,
   "id": "759d2f44",
   "metadata": {},
   "outputs": [
    {
     "name": "stderr",
     "output_type": "stream",
     "text": [
      "/home/ryan.zurrin001/Projects/CS410-Omama/_DATA/gp2/../../omama/utils/data_to_npy_files.py:91: VisibleDeprecationWarning: Creating an ndarray from ragged nested sequences (which is a list-or-tuple of lists-or-tuples-or ndarrays with different lengths or shapes) is deprecated. If you meant to do this, you must specify 'dtype=object' when creating the ndarray.\n",
      "  images = np.array(images)\n",
      "/home/ryan.zurrin001/Projects/CS410-Omama/_DATA/gp2/../../omama/utils/data_to_npy_files.py:92: VisibleDeprecationWarning: Creating an ndarray from ragged nested sequences (which is a list-or-tuple of lists-or-tuples-or ndarrays with different lengths or shapes) is deprecated. If you meant to do this, you must specify 'dtype=object' when creating the ndarray.\n",
      "  masks = np.array(masks)\n"
     ]
    },
    {
     "name": "stdout",
     "output_type": "stream",
     "text": [
      "Images and masks saved to /hpcstor6/scratch01/r/ryan.zurrin001/Breast_Ultrasound_Images\n"
     ]
    }
   ],
   "source": [
    "npy_maker = O.DataToNpyFiles(output_imgs, outut_masks, breast_root, images_name, masks_name, '.png')"
   ]
  },
  {
   "cell_type": "code",
   "execution_count": 5,
   "id": "8f08d855",
   "metadata": {},
   "outputs": [
    {
     "name": "stdout",
     "output_type": "stream",
     "text": [
      "DataToNpyFiles(image_dir=/hpcstor6/scratch01/r/ryan.zurrin001/Breast_Ultrasound_Images/Dataset_BUSI_with_GT/all_images, mask_dir=/hpcstor6/scratch01/r/ryan.zurrin001/Breast_Ultrasound_Images/Dataset_BUSI_with_GT/all_masks, output_dir=/hpcstor6/scratch01/r/ryan.zurrin001/Breast_Ultrasound_Images, image_extension=.png)\n"
     ]
    }
   ],
   "source": [
    "print(npy_maker)"
   ]
  },
  {
   "cell_type": "code",
   "execution_count": 6,
   "id": "ee65b15c",
   "metadata": {},
   "outputs": [
    {
     "data": {
      "text/plain": [
       "780"
      ]
     },
     "execution_count": 6,
     "metadata": {},
     "output_type": "execute_result"
    }
   ],
   "source": [
    "len(npy_maker.image_paths)"
   ]
  },
  {
   "cell_type": "code",
   "execution_count": 7,
   "id": "fbc5efe7",
   "metadata": {},
   "outputs": [
    {
     "data": {
      "text/plain": [
       "780"
      ]
     },
     "execution_count": 7,
     "metadata": {},
     "output_type": "execute_result"
    }
   ],
   "source": [
    "len(npy_maker.mask_paths)"
   ]
  },
  {
   "cell_type": "code",
   "execution_count": 8,
   "id": "86de6a7a",
   "metadata": {},
   "outputs": [],
   "source": [
    "images, masks = npy_maker.load_data()"
   ]
  },
  {
   "cell_type": "code",
   "execution_count": 9,
   "id": "e13a9f35",
   "metadata": {},
   "outputs": [
    {
     "name": "stdout",
     "output_type": "stream",
     "text": [
      "(471, 562, 3)\n",
      "(585, 683, 3)\n",
      "(473, 323, 3)\n",
      "(473, 563, 3)\n",
      "(610, 634, 3)\n",
      "(585, 766, 3)\n",
      "(578, 777, 3)\n",
      "(581, 882, 3)\n",
      "(716, 808, 3)\n",
      "(616, 759, 3)\n",
      "(582, 769, 3)\n",
      "(470, 562, 3)\n",
      "(587, 689, 3)\n",
      "(468, 555, 3)\n",
      "(477, 315, 3)\n",
      "(612, 652, 3)\n",
      "(695, 810, 3)\n",
      "(575, 757, 3)\n",
      "(469, 554, 3)\n",
      "(588, 766, 3)\n"
     ]
    }
   ],
   "source": [
    "for im in images[:20]:\n",
    "    print(im.shape)"
   ]
  },
  {
   "cell_type": "code",
   "execution_count": 10,
   "id": "122d226f",
   "metadata": {},
   "outputs": [
    {
     "name": "stdout",
     "output_type": "stream",
     "text": [
      "(471, 562)\n",
      "(585, 683)\n",
      "(473, 323)\n",
      "(473, 563)\n",
      "(610, 634)\n",
      "(585, 766)\n",
      "(578, 777)\n",
      "(581, 882)\n",
      "(716, 808)\n",
      "(616, 759)\n",
      "(582, 769)\n",
      "(470, 562)\n",
      "(587, 689)\n",
      "(468, 555)\n",
      "(477, 315)\n",
      "(612, 652)\n",
      "(695, 810)\n",
      "(575, 757)\n",
      "(469, 554)\n",
      "(588, 766)\n"
     ]
    }
   ],
   "source": [
    "for im in masks[:20]:\n",
    "    print(im.shape)"
   ]
  },
  {
   "cell_type": "code",
   "execution_count": 11,
   "id": "215f6d79",
   "metadata": {},
   "outputs": [
    {
     "data": {
      "image/png": "[encoded data removed]",
      "text/plain": [
       "<Figure size 432x288 with 2 Axes>"
      ]
     },
     "metadata": {
      "needs_background": "light"
     },
     "output_type": "display_data"
    }
   ],
   "source": [
    "npy_maker.display_image_and_mask(3)"
   ]
  },
  {
   "cell_type": "code",
   "execution_count": 12,
   "id": "fa374d70",
   "metadata": {},
   "outputs": [
    {
     "data": {
      "image/png": "[encoded data removed]",
      "text/plain": [
       "<Figure size 432x288 with 2 Axes>"
      ]
     },
     "metadata": {
      "needs_background": "light"
     },
     "output_type": "display_data"
    }
   ],
   "source": [
    "npy_maker.display_image_and_mask(377)"
   ]
  },
  {
   "cell_type": "code",
   "execution_count": 13,
   "id": "4d258f91",
   "metadata": {},
   "outputs": [
    {
     "name": "stderr",
     "output_type": "stream",
     "text": [
      "100%|███████████████████████████████████████████████████████████████████████████████████████████████████████████████████████████████████████████████████████████████████████| 780/780 [00:35<00:00, 22.00it/s]\n"
     ]
    }
   ],
   "source": [
    "npy_maker.reshape_all_images_and_masks()  # shape converter lets you resize fast"
   ]
  },
  {
   "cell_type": "code",
   "execution_count": 18,
   "id": "6ae8e11d",
   "metadata": {},
   "outputs": [],
   "source": [
    "images2, masks2 = npy_maker.load_data()"
   ]
  },
  {
   "cell_type": "code",
   "execution_count": 19,
   "id": "91212bb6",
   "metadata": {},
   "outputs": [
    {
     "name": "stdout",
     "output_type": "stream",
     "text": [
      "(512, 512, 1)\n",
      "(512, 512, 1)\n",
      "(512, 512, 1)\n",
      "(512, 512, 1)\n",
      "(512, 512, 1)\n",
      "(512, 512, 1)\n",
      "(512, 512, 1)\n",
      "(512, 512, 1)\n",
      "(512, 512, 1)\n",
      "(512, 512, 1)\n",
      "(512, 512, 1)\n",
      "(512, 512, 1)\n",
      "(512, 512, 1)\n",
      "(512, 512, 1)\n",
      "(512, 512, 1)\n",
      "(512, 512, 1)\n",
      "(512, 512, 1)\n",
      "(512, 512, 1)\n",
      "(512, 512, 1)\n",
      "(512, 512, 1)\n"
     ]
    }
   ],
   "source": [
    "for im in images2[:20]:\n",
    "    print(im.shape)"
   ]
  },
  {
   "cell_type": "code",
   "execution_count": 20,
   "id": "39e70d58",
   "metadata": {},
   "outputs": [
    {
     "name": "stdout",
     "output_type": "stream",
     "text": [
      "(512, 512, 1)\n",
      "(512, 512, 1)\n",
      "(512, 512, 1)\n",
      "(512, 512, 1)\n",
      "(512, 512, 1)\n",
      "(512, 512, 1)\n",
      "(512, 512, 1)\n",
      "(512, 512, 1)\n",
      "(512, 512, 1)\n",
      "(512, 512, 1)\n",
      "(512, 512, 1)\n",
      "(512, 512, 1)\n",
      "(512, 512, 1)\n",
      "(512, 512, 1)\n",
      "(512, 512, 1)\n",
      "(512, 512, 1)\n",
      "(512, 512, 1)\n",
      "(512, 512, 1)\n",
      "(512, 512, 1)\n",
      "(512, 512, 1)\n"
     ]
    }
   ],
   "source": [
    "for im in masks2[:20]:\n",
    "    print(im.shape)"
   ]
  },
  {
   "cell_type": "code",
   "execution_count": 21,
   "id": "2ed970a3",
   "metadata": {},
   "outputs": [
    {
     "data": {
      "text/plain": [
       "(780,)"
      ]
     },
     "execution_count": 21,
     "metadata": {},
     "output_type": "execute_result"
    }
   ],
   "source": [
    "images.shape"
   ]
  },
  {
   "cell_type": "code",
   "execution_count": 24,
   "id": "d179b5e6",
   "metadata": {},
   "outputs": [
    {
     "name": "stdout",
     "output_type": "stream",
     "text": [
      "Temp image directory: /tmp/tmpncs57ria\n",
      "Temp mask directory: /tmp/tmpctdgvrmx\n",
      "Shape of images in temp image directory: (512, 512, 1)\n",
      "Shape of masks in temp mask directory: (512, 512, 1)\n",
      "Output directory: /hpcstor6/scratch01/r/ryan.zurrin001/Breast_Ultrasound_Images\n",
      "Image name: Breast_Ultrasound_Images\n",
      "Mask name: Breast_Ultrasound_masks\n",
      "Image extension: .png\n",
      "temp image directory: /tmp/tmpncs57ria\n",
      "temp mask directory: /tmp/tmpctdgvrmx\n"
     ]
    },
    {
     "name": "stderr",
     "output_type": "stream",
     "text": [
      "  0%|                                                                                                                                                                                 | 0/780 [00:00<?, ?it/s]\n",
      "100%|█████████████████████████████████████████████████████████████████████████████████████████████████████████████████████████████████████████████████████████████████████| 780/780 [00:00<00:00, 1188.67it/s]\n",
      "100%|█████████████████████████████████████████████████████████████████████████████████████████████████████████████████████████████████████████████████████████████████████| 780/780 [00:00<00:00, 3868.40it/s]\n"
     ]
    },
    {
     "name": "stdout",
     "output_type": "stream",
     "text": [
      "Images and masks saved to /hpcstor6/scratch01/r/ryan.zurrin001/Breast_Ultrasound_Images\n"
     ]
    }
   ],
   "source": [
    "npy_maker.fix_dtype()   # if originally loaded from images with different shapes you can call this"
   ]
  },
  {
   "cell_type": "code",
   "execution_count": null,
   "id": "72ecf23d",
   "metadata": {},
   "outputs": [],
   "source": []
  },
  {
   "cell_type": "code",
   "execution_count": null,
   "id": "89845af8",
   "metadata": {},
   "outputs": [],
   "source": []
  },
  {
   "cell_type": "code",
   "execution_count": 25,
   "id": "469bf971",
   "metadata": {},
   "outputs": [],
   "source": [
    "# load our larger toy dataset (10k images and masks)\n",
    "images2 = np.load('/hpcstor6/scratch01/r/ryan.zurrin001/Breast_Ultrasound_Images/Breast_Ultrasound_Images.npy')\n",
    "masks2 = np.load('/hpcstor6/scratch01/r/ryan.zurrin001/Breast_Ultrasound_Images/Breast_Ultrasound_masks.npy')\n"
   ]
  },
  {
   "cell_type": "code",
   "execution_count": 26,
   "id": "acc9d8d7",
   "metadata": {},
   "outputs": [
    {
     "data": {
      "text/plain": [
       "dtype('float64')"
      ]
     },
     "execution_count": 26,
     "metadata": {},
     "output_type": "execute_result"
    }
   ],
   "source": [
    "images2.dtype"
   ]
  },
  {
   "cell_type": "code",
   "execution_count": 27,
   "id": "7522b82b",
   "metadata": {},
   "outputs": [
    {
     "data": {
      "text/plain": [
       "(780, 512, 512, 1)"
      ]
     },
     "execution_count": 27,
     "metadata": {},
     "output_type": "execute_result"
    }
   ],
   "source": [
    "images2.shape"
   ]
  },
  {
   "cell_type": "code",
   "execution_count": null,
   "id": "8e67bdb4",
   "metadata": {},
   "outputs": [],
   "source": []
  }
 ],
 "metadata": {
  "kernelspec": {
   "display_name": "Python 3 (ipykernel)",
   "language": "python",
   "name": "python3"
  },
  "language_info": {
   "codemirror_mode": {
    "name": "ipython",
    "version": 3
   },
   "file_extension": ".py",
   "mimetype": "text/x-python",
   "name": "python",
   "nbconvert_exporter": "python",
   "pygments_lexer": "ipython3",
   "version": "3.9.7"
  }
 },
 "nbformat": 4,
 "nbformat_minor": 5
}
