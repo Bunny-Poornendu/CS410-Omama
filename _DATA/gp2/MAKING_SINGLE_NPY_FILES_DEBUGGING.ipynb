{
 "cells": [
  {
   "cell_type": "code",
   "execution_count": 6,
   "id": "363bc61a",
   "metadata": {},
   "outputs": [
    {
     "name": "stdout",
     "output_type": "stream",
     "text": [
      "Populating the interactive namespace from numpy and matplotlib\n",
      "The autoreload extension is already loaded. To reload it, use:\n",
      "  %reload_ext autoreload\n"
     ]
    }
   ],
   "source": [
    "%pylab inline\n",
    "%load_ext autoreload\n",
    "%autoreload 2\n",
    "import sys\n",
    "sys.path.insert(0,'../..')\n",
    "import omama as O"
   ]
  },
  {
   "cell_type": "code",
   "execution_count": null,
   "id": "262ac1d3",
   "metadata": {},
   "outputs": [],
   "source": []
  },
  {
   "cell_type": "code",
   "execution_count": 7,
   "id": "ef874cb6",
   "metadata": {},
   "outputs": [],
   "source": [
    "imgs_path = '/hpcstor6/scratch01/r/ryan.zurrin001/synthetic_cell_data/BBBC005_v1_images/BBBC005_v1_images/'\n",
    "gt_path = '/hpcstor6/scratch01/r/ryan.zurrin001/synthetic_cell_data/BBBC005_v1_ground_truth/BBBC005_v1_ground_truth/'\n",
    "npy_img_path = '/hpcstor6/scratch01/r/ryan.zurrin001/synthetic_cell_data/BBBC005_v1_images.npy'\n",
    "npy_gt_path = '/hpcstor6/scratch01/r/ryan.zurrin001/synthetic_cell_data/BBBC005_v1_ground_truths.npy'"
   ]
  },
  {
   "cell_type": "code",
   "execution_count": 9,
   "id": "759d2f44",
   "metadata": {},
   "outputs": [],
   "source": [
    "npy = O.DataToNpyFiles(imgs_path, gt_path, '/hpcstor6/scratch01/r/ryan.zurrin001/synthetic_cell_data/', '.TIF')"
   ]
  },
  {
   "cell_type": "code",
   "execution_count": 10,
   "id": "98da7f01",
   "metadata": {},
   "outputs": [],
   "source": [
    "imgs = npy.load_images()"
   ]
  },
  {
   "cell_type": "code",
   "execution_count": 11,
   "id": "71f6b559",
   "metadata": {},
   "outputs": [
    {
     "data": {
      "text/plain": [
       "array([], dtype=float64)"
      ]
     },
     "execution_count": 11,
     "metadata": {},
     "output_type": "execute_result"
    }
   ],
   "source": [
    "imgs"
   ]
  },
  {
   "cell_type": "code",
   "execution_count": null,
   "id": "fbbf2648",
   "metadata": {},
   "outputs": [],
   "source": []
  }
 ],
 "metadata": {
  "kernelspec": {
   "display_name": "Python 3 (ipykernel)",
   "language": "python",
   "name": "python3"
  },
  "language_info": {
   "codemirror_mode": {
    "name": "ipython",
    "version": 3
   },
   "file_extension": ".py",
   "mimetype": "text/x-python",
   "name": "python",
   "nbconvert_exporter": "python",
   "pygments_lexer": "ipython3",
   "version": "3.9.7"
  }
 },
 "nbformat": 4,
 "nbformat_minor": 5
}
