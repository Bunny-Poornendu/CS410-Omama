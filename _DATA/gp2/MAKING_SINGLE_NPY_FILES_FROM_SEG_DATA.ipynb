{
 "cells": [
  {
   "cell_type": "code",
   "execution_count": 1,
   "id": "363bc61a",
   "metadata": {},
   "outputs": [
    {
     "name": "stdout",
     "output_type": "stream",
     "text": [
      "Populating the interactive namespace from numpy and matplotlib\n"
     ]
    }
   ],
   "source": [
    "%pylab inline\n",
    "%load_ext autoreload\n",
    "%autoreload 2\n",
    "from PIL import Image\n",
    "import glob"
   ]
  },
  {
   "cell_type": "code",
   "execution_count": null,
   "id": "262ac1d3",
   "metadata": {},
   "outputs": [],
   "source": []
  },
  {
   "cell_type": "code",
   "execution_count": 2,
   "id": "9938fb78",
   "metadata": {},
   "outputs": [],
   "source": [
    "def read(file):\n",
    "    img = np.array(Image.open(file))"
   ]
  },
  {
   "cell_type": "code",
   "execution_count": 3,
   "id": "9f95a103",
   "metadata": {},
   "outputs": [],
   "source": [
    "def get_files_in_collection(colleciton_path, infile_type):\n",
    "    # get the list of files in the collection\n",
    "    files = glob.glob(colleciton_path + '/*.' + infile_type)\n",
    "    return files"
   ]
  },
  {
   "cell_type": "code",
   "execution_count": 4,
   "id": "ebbfe20b",
   "metadata": {},
   "outputs": [],
   "source": [
    "def image_collection_to_npy_file(colleciton_path, output_path, infile_type):\n",
    "    # get the list of files in the collection\n",
    "    files = get_files_in_collection(colleciton_path, infile_type)\n",
    "    # create a list to store the images\n",
    "    images = []\n",
    "    # go through each file\n",
    "    for file in files:\n",
    "        # read the image\n",
    "        img = read(file)\n",
    "        # add the image to the list\n",
    "        images.append(img)\n",
    "        # convert the list to a numpy array\n",
    "    images = np.array(images)\n",
    "    # save the numpy array\n",
    "    np.save(output_path, images)"
   ]
  },
  {
   "cell_type": "code",
   "execution_count": 5,
   "id": "ef874cb6",
   "metadata": {},
   "outputs": [],
   "source": [
    "imgs_path = '/hpcstor6/scratch01/r/ryan.zurrin001/synthetic_cell_data/BBBC005_v1_images/BBBC005_v1_images/'\n",
    "gt_path = '/hpcstor6/scratch01/r/ryan.zurrin001/synthetic_cell_data/BBBC005_v1_ground_truth/BBBC005_v1_ground_truth/'\n",
    "npy_img_path = '/hpcstor6/scratch01/r/ryan.zurrin001/synthetic_cell_data/BBBC005_v1_images.npy'\n",
    "npy_gt_path = '/hpcstor6/scratch01/r/ryan.zurrin001/synthetic_cell_data/BBBC005_v1_ground_truths.npy'"
   ]
  },
  {
   "cell_type": "code",
   "execution_count": 6,
   "id": "759d2f44",
   "metadata": {},
   "outputs": [],
   "source": [
    "image_collection_to_npy_file(imgs_path, npy_img_path, 'TIF')\n",
    "image_collection_to_npy_file(gt_path, npy_gt_path, 'TIF')"
   ]
  },
  {
   "cell_type": "code",
   "execution_count": null,
   "id": "98da7f01",
   "metadata": {},
   "outputs": [],
   "source": []
  }
 ],
 "metadata": {
  "kernelspec": {
   "display_name": "Python 3 (ipykernel)",
   "language": "python",
   "name": "python3"
  },
  "language_info": {
   "codemirror_mode": {
    "name": "ipython",
    "version": 3
   },
   "file_extension": ".py",
   "mimetype": "text/x-python",
   "name": "python",
   "nbconvert_exporter": "python",
   "pygments_lexer": "ipython3",
   "version": "3.9.7"
  }
 },
 "nbformat": 4,
 "nbformat_minor": 5
}
