{
 "cells": [
  {
   "cell_type": "code",
   "execution_count": 1,
   "id": "06c4accc",
   "metadata": {},
   "outputs": [
    {
     "name": "stdout",
     "output_type": "stream",
     "text": [
      "Populating the interactive namespace from numpy and matplotlib\n"
     ]
    }
   ],
   "source": [
    "%pylab inline\n",
    "%load_ext autoreload\n",
    "%autoreload 2"
   ]
  },
  {
   "cell_type": "code",
   "execution_count": 2,
   "id": "3b313506",
   "metadata": {},
   "outputs": [],
   "source": [
    "import time"
   ]
  },
  {
   "cell_type": "code",
   "execution_count": 3,
   "id": "b9e78ed8",
   "metadata": {},
   "outputs": [],
   "source": [
    "import time\n",
    "import sys\n",
    "sys.path.insert(0,'../..')\n",
    "from gp2 import Runner"
   ]
  },
  {
   "cell_type": "code",
   "execution_count": 4,
   "id": "bdc75325",
   "metadata": {},
   "outputs": [
    {
     "name": "stdout",
     "output_type": "stream",
     "text": [
      "*** GP2 ***\n",
      "Working directory: /tmp/tmpg7_w24z0GP2\n",
      "Verbose mode active!\n"
     ]
    }
   ],
   "source": [
    "R = Runner(verbose=True)"
   ]
  },
  {
   "cell_type": "code",
   "execution_count": 5,
   "id": "87b0c65d",
   "metadata": {},
   "outputs": [],
   "source": [
    "# load our larger toy dataset (10k images and masks)\n",
    "images = np.load('/hpcstor6/scratch01/r/ryan.zurrin001/GP2TOYEXAMPLE_LARGE/images.npy')\n",
    "masks = np.load('/hpcstor6/scratch01/r/ryan.zurrin001/GP2TOYEXAMPLE_LARGE/masks.npy')"
   ]
  },
  {
   "cell_type": "code",
   "execution_count": 6,
   "id": "1dd71668",
   "metadata": {},
   "outputs": [],
   "source": [
    "weights = {\n",
    "    'A': 0.5,\n",
    "    'A_train': 0.1,\n",
    "    'A_val': 0.3,\n",
    "    'A_test': 0.6,\n",
    "    'B': 0.3,\n",
    "    'B_train': 0.7,\n",
    "    'B_val': 0.1,\n",
    "    'B_test': 0.2,\n",
    "    'Z': 0.2\n",
    "}\n",
    "PERCENT_TO_REPLACE = 80 # was 30 before"
   ]
  },
  {
   "cell_type": "code",
   "execution_count": 7,
   "id": "2a5d1030",
   "metadata": {},
   "outputs": [
    {
     "name": "stdout",
     "output_type": "stream",
     "text": [
      "Weights OK!\n"
     ]
    }
   ],
   "source": [
    "#\n",
    "#\n",
    "R.setup_data(images, masks, dataset_size=10000, weights=weights)"
   ]
  },
  {
   "cell_type": "code",
   "execution_count": 8,
   "id": "99127251",
   "metadata": {},
   "outputs": [],
   "source": [
    "RUNS = 5"
   ]
  },
  {
   "cell_type": "code",
   "execution_count": 9,
   "id": "d8ff85c4",
   "metadata": {
    "scrolled": false
   },
   "outputs": [
    {
     "name": "stdout",
     "output_type": "stream",
     "text": [
      "***\n",
      "RUN: 0\n",
      "Epoch 1/100\n",
      "8/8 [==============================] - 35s 3s/step - loss: 1.3920 - dice_coeff: 0.2230 - val_loss: 1.5365 - val_dice_coeff: 0.1541\n",
      "Epoch 2/100\n",
      "8/8 [==============================] - 11s 1s/step - loss: 1.1891 - dice_coeff: 0.2981 - val_loss: 1.5324 - val_dice_coeff: 0.1575\n",
      "Epoch 3/100\n",
      "8/8 [==============================] - 11s 1s/step - loss: 1.0731 - dice_coeff: 0.3407 - val_loss: 1.5257 - val_dice_coeff: 0.1604\n",
      "Epoch 4/100\n",
      "8/8 [==============================] - 12s 2s/step - loss: 0.9834 - dice_coeff: 0.3758 - val_loss: 1.5164 - val_dice_coeff: 0.1637\n",
      "Epoch 5/100\n",
      "8/8 [==============================] - 11s 1s/step - loss: 0.9312 - dice_coeff: 0.3968 - val_loss: 1.5026 - val_dice_coeff: 0.1688\n",
      "Epoch 6/100\n",
      "8/8 [==============================] - 11s 1s/step - loss: 0.8909 - dice_coeff: 0.4135 - val_loss: 1.4847 - val_dice_coeff: 0.1758\n",
      "Epoch 7/100\n",
      "8/8 [==============================] - 12s 2s/step - loss: 0.8656 - dice_coeff: 0.4249 - val_loss: 1.4580 - val_dice_coeff: 0.1863\n",
      "Epoch 8/100\n",
      "8/8 [==============================] - 12s 2s/step - loss: 0.8484 - dice_coeff: 0.4328 - val_loss: 1.4283 - val_dice_coeff: 0.1963\n",
      "Epoch 9/100\n",
      "8/8 [==============================] - 11s 1s/step - loss: 0.8303 - dice_coeff: 0.4415 - val_loss: 1.3826 - val_dice_coeff: 0.2173\n",
      "Epoch 10/100\n",
      "8/8 [==============================] - 12s 2s/step - loss: 0.8250 - dice_coeff: 0.4437 - val_loss: 1.3468 - val_dice_coeff: 0.2297\n",
      "Epoch 11/100\n",
      "8/8 [==============================] - 12s 2s/step - loss: 0.8152 - dice_coeff: 0.4480 - val_loss: 1.3199 - val_dice_coeff: 0.2383\n",
      "Epoch 12/100\n",
      "8/8 [==============================] - 11s 2s/step - loss: 0.8071 - dice_coeff: 0.4529 - val_loss: 1.2656 - val_dice_coeff: 0.2596\n",
      "Epoch 13/100\n",
      "8/8 [==============================] - 12s 2s/step - loss: 0.7972 - dice_coeff: 0.4576 - val_loss: 1.2237 - val_dice_coeff: 0.2731\n",
      "Epoch 14/100\n",
      "8/8 [==============================] - 12s 2s/step - loss: 0.7923 - dice_coeff: 0.4599 - val_loss: 1.1750 - val_dice_coeff: 0.2938\n",
      "Epoch 15/100\n",
      "8/8 [==============================] - 11s 1s/step - loss: 0.7925 - dice_coeff: 0.4597 - val_loss: 1.1215 - val_dice_coeff: 0.3147\n",
      "Epoch 16/100\n",
      "8/8 [==============================] - 12s 2s/step - loss: 0.7860 - dice_coeff: 0.4630 - val_loss: 1.0873 - val_dice_coeff: 0.3268\n",
      "Epoch 17/100\n",
      "8/8 [==============================] - 12s 2s/step - loss: 0.7794 - dice_coeff: 0.4669 - val_loss: 1.0418 - val_dice_coeff: 0.3440\n",
      "Epoch 18/100\n",
      "8/8 [==============================] - 12s 2s/step - loss: 0.7765 - dice_coeff: 0.4681 - val_loss: 1.0109 - val_dice_coeff: 0.3584\n",
      "Epoch 19/100\n",
      "8/8 [==============================] - 12s 2s/step - loss: 0.7731 - dice_coeff: 0.4700 - val_loss: 0.9623 - val_dice_coeff: 0.3777\n",
      "Epoch 20/100\n",
      "8/8 [==============================] - 13s 2s/step - loss: 0.7686 - dice_coeff: 0.4723 - val_loss: 0.9339 - val_dice_coeff: 0.3892\n",
      "Epoch 21/100\n",
      "8/8 [==============================] - 12s 2s/step - loss: 0.7648 - dice_coeff: 0.4738 - val_loss: 0.9206 - val_dice_coeff: 0.3950\n",
      "Epoch 22/100\n",
      "8/8 [==============================] - 12s 2s/step - loss: 0.7613 - dice_coeff: 0.4759 - val_loss: 0.8927 - val_dice_coeff: 0.4080\n",
      "Epoch 23/100\n",
      "8/8 [==============================] - 12s 2s/step - loss: 0.7577 - dice_coeff: 0.4777 - val_loss: 0.8673 - val_dice_coeff: 0.4193\n",
      "Epoch 24/100\n",
      "8/8 [==============================] - 12s 2s/step - loss: 0.7576 - dice_coeff: 0.4777 - val_loss: 0.8570 - val_dice_coeff: 0.4234\n",
      "Epoch 25/100\n",
      "8/8 [==============================] - 12s 2s/step - loss: 0.7501 - dice_coeff: 0.4816 - val_loss: 0.8369 - val_dice_coeff: 0.4336\n",
      "Epoch 26/100\n",
      "8/8 [==============================] - 13s 2s/step - loss: 0.7475 - dice_coeff: 0.4834 - val_loss: 0.8320 - val_dice_coeff: 0.4358\n",
      "Epoch 27/100\n",
      "8/8 [==============================] - 12s 2s/step - loss: 0.7443 - dice_coeff: 0.4847 - val_loss: 0.8173 - val_dice_coeff: 0.4443\n",
      "Epoch 28/100\n",
      "8/8 [==============================] - 12s 2s/step - loss: 0.7396 - dice_coeff: 0.4871 - val_loss: 0.8071 - val_dice_coeff: 0.4481\n",
      "Epoch 29/100\n",
      "8/8 [==============================] - 12s 2s/step - loss: 0.7394 - dice_coeff: 0.4871 - val_loss: 0.7931 - val_dice_coeff: 0.4544\n",
      "Epoch 30/100\n",
      "8/8 [==============================] - 12s 2s/step - loss: 0.7343 - dice_coeff: 0.4899 - val_loss: 0.7852 - val_dice_coeff: 0.4599\n",
      "Epoch 31/100\n",
      "8/8 [==============================] - 12s 2s/step - loss: 0.7325 - dice_coeff: 0.4907 - val_loss: 0.7755 - val_dice_coeff: 0.4645\n",
      "Epoch 32/100\n",
      "8/8 [==============================] - 12s 2s/step - loss: 0.7289 - dice_coeff: 0.4928 - val_loss: 0.7705 - val_dice_coeff: 0.4671\n",
      "Epoch 33/100\n",
      "8/8 [==============================] - 12s 2s/step - loss: 0.7262 - dice_coeff: 0.4944 - val_loss: 0.7697 - val_dice_coeff: 0.4683\n",
      "Epoch 34/100\n",
      "8/8 [==============================] - 12s 2s/step - loss: 0.7231 - dice_coeff: 0.4962 - val_loss: 0.7734 - val_dice_coeff: 0.4645\n",
      "Epoch 35/100\n",
      "8/8 [==============================] - 12s 2s/step - loss: 0.7212 - dice_coeff: 0.4966 - val_loss: 0.7594 - val_dice_coeff: 0.4734\n",
      "Epoch 36/100\n",
      "8/8 [==============================] - 12s 2s/step - loss: 0.7203 - dice_coeff: 0.4975 - val_loss: 0.7469 - val_dice_coeff: 0.4805\n",
      "Epoch 37/100\n",
      "8/8 [==============================] - 12s 2s/step - loss: 0.7138 - dice_coeff: 0.5010 - val_loss: 0.7461 - val_dice_coeff: 0.4805\n",
      "Epoch 38/100\n",
      "8/8 [==============================] - 12s 2s/step - loss: 0.7135 - dice_coeff: 0.5010 - val_loss: 0.7404 - val_dice_coeff: 0.4844\n",
      "Epoch 39/100\n",
      "8/8 [==============================] - 12s 2s/step - loss: 0.7093 - dice_coeff: 0.5030 - val_loss: 0.7394 - val_dice_coeff: 0.4842\n",
      "Epoch 40/100\n",
      "8/8 [==============================] - 12s 2s/step - loss: 0.7078 - dice_coeff: 0.5039 - val_loss: 0.7497 - val_dice_coeff: 0.4777\n",
      "Epoch 41/100\n",
      "8/8 [==============================] - 12s 2s/step - loss: 0.7041 - dice_coeff: 0.5060 - val_loss: 0.7363 - val_dice_coeff: 0.4861\n",
      "Epoch 42/100\n",
      "8/8 [==============================] - 12s 2s/step - loss: 0.7032 - dice_coeff: 0.5059 - val_loss: 0.7413 - val_dice_coeff: 0.4827\n",
      "Epoch 43/100\n",
      "8/8 [==============================] - 12s 2s/step - loss: 0.6980 - dice_coeff: 0.5090 - val_loss: 0.7408 - val_dice_coeff: 0.4832\n",
      "Epoch 44/100\n",
      "8/8 [==============================] - 12s 2s/step - loss: 0.6962 - dice_coeff: 0.5100 - val_loss: 0.7433 - val_dice_coeff: 0.4812\n",
      "Epoch 45/100\n",
      "8/8 [==============================] - 12s 2s/step - loss: 0.6920 - dice_coeff: 0.5125 - val_loss: 0.7334 - val_dice_coeff: 0.4879\n",
      "Epoch 46/100\n",
      "8/8 [==============================] - 12s 2s/step - loss: 0.6941 - dice_coeff: 0.5110 - val_loss: 0.7398 - val_dice_coeff: 0.4841\n",
      "Epoch 47/100\n",
      "8/8 [==============================] - 12s 2s/step - loss: 0.6888 - dice_coeff: 0.5141 - val_loss: 0.7392 - val_dice_coeff: 0.4833\n",
      "Epoch 48/100\n",
      "8/8 [==============================] - 12s 2s/step - loss: 0.6866 - dice_coeff: 0.5150 - val_loss: 0.7333 - val_dice_coeff: 0.4888\n",
      "Epoch 49/100\n",
      "8/8 [==============================] - 12s 2s/step - loss: 0.6838 - dice_coeff: 0.5167 - val_loss: 0.7314 - val_dice_coeff: 0.4889\n",
      "Epoch 50/100\n",
      "8/8 [==============================] - 12s 2s/step - loss: 0.6804 - dice_coeff: 0.5187 - val_loss: 0.7303 - val_dice_coeff: 0.4894\n",
      "Epoch 51/100\n",
      "8/8 [==============================] - 12s 2s/step - loss: 0.6775 - dice_coeff: 0.5204 - val_loss: 0.7279 - val_dice_coeff: 0.4908\n",
      "Epoch 52/100\n",
      "8/8 [==============================] - 12s 2s/step - loss: 0.6756 - dice_coeff: 0.5208 - val_loss: 0.7298 - val_dice_coeff: 0.4894\n",
      "Epoch 53/100\n",
      "8/8 [==============================] - 12s 2s/step - loss: 0.6746 - dice_coeff: 0.5215 - val_loss: 0.7265 - val_dice_coeff: 0.4915\n",
      "Epoch 54/100\n",
      "8/8 [==============================] - 12s 2s/step - loss: 0.6711 - dice_coeff: 0.5235 - val_loss: 0.7229 - val_dice_coeff: 0.4936\n",
      "Epoch 55/100\n",
      "8/8 [==============================] - 12s 2s/step - loss: 0.6676 - dice_coeff: 0.5255 - val_loss: 0.7231 - val_dice_coeff: 0.4927\n",
      "Epoch 56/100\n",
      "8/8 [==============================] - 12s 2s/step - loss: 0.6658 - dice_coeff: 0.5268 - val_loss: 0.7210 - val_dice_coeff: 0.4939\n",
      "Epoch 57/100\n",
      "8/8 [==============================] - 12s 2s/step - loss: 0.6633 - dice_coeff: 0.5281 - val_loss: 0.7185 - val_dice_coeff: 0.4949\n"
     ]
    },
    {
     "name": "stdout",
     "output_type": "stream",
     "text": [
      "Epoch 58/100\n",
      "8/8 [==============================] - 12s 2s/step - loss: 0.6598 - dice_coeff: 0.5299 - val_loss: 0.7183 - val_dice_coeff: 0.4956\n",
      "Epoch 59/100\n",
      "8/8 [==============================] - 12s 2s/step - loss: 0.6572 - dice_coeff: 0.5312 - val_loss: 0.7163 - val_dice_coeff: 0.4967\n",
      "Epoch 60/100\n",
      "8/8 [==============================] - 12s 2s/step - loss: 0.6555 - dice_coeff: 0.5324 - val_loss: 0.7201 - val_dice_coeff: 0.4937\n",
      "Epoch 61/100\n",
      "8/8 [==============================] - 12s 2s/step - loss: 0.6528 - dice_coeff: 0.5334 - val_loss: 0.7161 - val_dice_coeff: 0.4968\n",
      "Epoch 62/100\n",
      "8/8 [==============================] - 12s 2s/step - loss: 0.6499 - dice_coeff: 0.5350 - val_loss: 0.7177 - val_dice_coeff: 0.4957\n",
      "Epoch 63/100\n",
      "8/8 [==============================] - 12s 2s/step - loss: 0.6475 - dice_coeff: 0.5362 - val_loss: 0.7192 - val_dice_coeff: 0.4943\n",
      "Epoch 64/100\n",
      "8/8 [==============================] - 12s 2s/step - loss: 0.6466 - dice_coeff: 0.5371 - val_loss: 0.7182 - val_dice_coeff: 0.4952\n",
      "Epoch 65/100\n",
      "8/8 [==============================] - 12s 2s/step - loss: 0.6427 - dice_coeff: 0.5396 - val_loss: 0.7096 - val_dice_coeff: 0.5000\n",
      "Epoch 66/100\n",
      "8/8 [==============================] - 12s 2s/step - loss: 0.6403 - dice_coeff: 0.5409 - val_loss: 0.7097 - val_dice_coeff: 0.5001\n",
      "Epoch 67/100\n",
      "8/8 [==============================] - 12s 2s/step - loss: 0.6373 - dice_coeff: 0.5422 - val_loss: 0.7082 - val_dice_coeff: 0.5007\n",
      "Epoch 68/100\n",
      "8/8 [==============================] - 12s 2s/step - loss: 0.6354 - dice_coeff: 0.5438 - val_loss: 0.7088 - val_dice_coeff: 0.5005\n",
      "Epoch 69/100\n",
      "8/8 [==============================] - 12s 2s/step - loss: 0.6344 - dice_coeff: 0.5441 - val_loss: 0.7051 - val_dice_coeff: 0.5031\n",
      "Epoch 70/100\n",
      "8/8 [==============================] - 12s 2s/step - loss: 0.6298 - dice_coeff: 0.5464 - val_loss: 0.7015 - val_dice_coeff: 0.5045\n",
      "Epoch 71/100\n",
      "8/8 [==============================] - 12s 2s/step - loss: 0.6281 - dice_coeff: 0.5476 - val_loss: 0.6990 - val_dice_coeff: 0.5056\n",
      "Epoch 72/100\n",
      "8/8 [==============================] - 12s 2s/step - loss: 0.6254 - dice_coeff: 0.5493 - val_loss: 0.6951 - val_dice_coeff: 0.5085\n",
      "Epoch 73/100\n",
      "8/8 [==============================] - 12s 2s/step - loss: 0.6230 - dice_coeff: 0.5501 - val_loss: 0.6908 - val_dice_coeff: 0.5103\n",
      "Epoch 74/100\n",
      "8/8 [==============================] - 12s 2s/step - loss: 0.6202 - dice_coeff: 0.5516 - val_loss: 0.6905 - val_dice_coeff: 0.5107\n",
      "Epoch 75/100\n",
      "8/8 [==============================] - 12s 2s/step - loss: 0.6179 - dice_coeff: 0.5536 - val_loss: 0.6867 - val_dice_coeff: 0.5130\n",
      "Epoch 76/100\n",
      "8/8 [==============================] - 12s 2s/step - loss: 0.6157 - dice_coeff: 0.5545 - val_loss: 0.6861 - val_dice_coeff: 0.5126\n",
      "Epoch 77/100\n",
      "8/8 [==============================] - 12s 2s/step - loss: 0.6135 - dice_coeff: 0.5558 - val_loss: 0.6855 - val_dice_coeff: 0.5126\n",
      "Epoch 78/100\n",
      "8/8 [==============================] - 12s 2s/step - loss: 0.6116 - dice_coeff: 0.5569 - val_loss: 0.6791 - val_dice_coeff: 0.5165\n",
      "Epoch 79/100\n",
      "8/8 [==============================] - 12s 2s/step - loss: 0.6088 - dice_coeff: 0.5587 - val_loss: 0.6742 - val_dice_coeff: 0.5208\n",
      "Epoch 80/100\n",
      "8/8 [==============================] - 12s 2s/step - loss: 0.6060 - dice_coeff: 0.5602 - val_loss: 0.6749 - val_dice_coeff: 0.5185\n",
      "Epoch 81/100\n",
      "8/8 [==============================] - 12s 2s/step - loss: 0.6040 - dice_coeff: 0.5615 - val_loss: 0.6665 - val_dice_coeff: 0.5248\n",
      "Epoch 82/100\n",
      "8/8 [==============================] - 12s 2s/step - loss: 0.6003 - dice_coeff: 0.5639 - val_loss: 0.6655 - val_dice_coeff: 0.5244\n",
      "Epoch 83/100\n",
      "8/8 [==============================] - 12s 2s/step - loss: 0.5990 - dice_coeff: 0.5645 - val_loss: 0.6592 - val_dice_coeff: 0.5288\n",
      "Epoch 84/100\n",
      "8/8 [==============================] - 12s 2s/step - loss: 0.5965 - dice_coeff: 0.5660 - val_loss: 0.6580 - val_dice_coeff: 0.5284\n",
      "Epoch 85/100\n",
      "8/8 [==============================] - 12s 2s/step - loss: 0.5940 - dice_coeff: 0.5675 - val_loss: 0.6573 - val_dice_coeff: 0.5281\n",
      "Epoch 86/100\n",
      "8/8 [==============================] - 12s 2s/step - loss: 0.5932 - dice_coeff: 0.5679 - val_loss: 0.6548 - val_dice_coeff: 0.5308\n",
      "Epoch 87/100\n",
      "8/8 [==============================] - 12s 2s/step - loss: 0.5902 - dice_coeff: 0.5693 - val_loss: 0.6436 - val_dice_coeff: 0.5373\n",
      "Epoch 88/100\n",
      "8/8 [==============================] - 12s 2s/step - loss: 0.5867 - dice_coeff: 0.5715 - val_loss: 0.6420 - val_dice_coeff: 0.5376\n",
      "Epoch 89/100\n",
      "8/8 [==============================] - 12s 2s/step - loss: 0.5845 - dice_coeff: 0.5729 - val_loss: 0.6383 - val_dice_coeff: 0.5404\n",
      "Epoch 90/100\n",
      "8/8 [==============================] - 12s 2s/step - loss: 0.5821 - dice_coeff: 0.5740 - val_loss: 0.6352 - val_dice_coeff: 0.5418\n",
      "Epoch 91/100\n",
      "8/8 [==============================] - 12s 2s/step - loss: 0.5799 - dice_coeff: 0.5753 - val_loss: 0.6312 - val_dice_coeff: 0.5441\n",
      "Epoch 92/100\n",
      "8/8 [==============================] - 12s 2s/step - loss: 0.5777 - dice_coeff: 0.5767 - val_loss: 0.6325 - val_dice_coeff: 0.5431\n",
      "Epoch 93/100\n",
      "8/8 [==============================] - 12s 2s/step - loss: 0.5753 - dice_coeff: 0.5785 - val_loss: 0.6262 - val_dice_coeff: 0.5467\n",
      "Epoch 94/100\n",
      "8/8 [==============================] - 12s 2s/step - loss: 0.5739 - dice_coeff: 0.5791 - val_loss: 0.6252 - val_dice_coeff: 0.5478\n",
      "Epoch 95/100\n",
      "8/8 [==============================] - 12s 2s/step - loss: 0.5700 - dice_coeff: 0.5812 - val_loss: 0.6214 - val_dice_coeff: 0.5498\n",
      "Epoch 96/100\n",
      "8/8 [==============================] - 12s 2s/step - loss: 0.5680 - dice_coeff: 0.5823 - val_loss: 0.6223 - val_dice_coeff: 0.5488\n",
      "Epoch 97/100\n",
      "8/8 [==============================] - 12s 2s/step - loss: 0.5671 - dice_coeff: 0.5833 - val_loss: 0.6169 - val_dice_coeff: 0.5527\n",
      "Epoch 98/100\n",
      "8/8 [==============================] - 12s 2s/step - loss: 0.5640 - dice_coeff: 0.5851 - val_loss: 0.6131 - val_dice_coeff: 0.5546\n",
      "Epoch 99/100\n",
      "8/8 [==============================] - 12s 2s/step - loss: 0.5611 - dice_coeff: 0.5867 - val_loss: 0.6084 - val_dice_coeff: 0.5572\n",
      "Epoch 100/100\n",
      "8/8 [==============================] - 12s 2s/step - loss: 0.5591 - dice_coeff: 0.5879 - val_loss: 0.6093 - val_dice_coeff: 0.5573\n",
      "Model saved to /tmp/tmpg7_w24z0GP2/unet_0.model\n",
      "History saved to /tmp/tmpg7_w24z0GP2/history_0.pickle\n",
      "Testing the classifier...\n",
      "94/94 [==============================] - 10s 105ms/step - loss: 0.6117 - dice_coeff: 0.5549\n",
      "Model saved to /tmp/tmpg7_w24z0GP2/cnnd_0.model\n",
      "History saved to /tmp/tmpg7_w24z0GP2/cnnd_history_0.pickle\n",
      "Testing the discriminator...\n",
      "19/19 [==============================] - 0s 22ms/step - loss: 0.2797 - accuracy: 0.9700\n",
      "Found 298 machine labels.\n",
      "Machine labels [  0   1   4   6   7   8  11  12  13  14  17  18  20  21  22  27  28  29\n",
      "  31  33  36  40  41  42  43  46  49  50  52  54  55  57  58  61  62  66\n",
      "  69  71  74  76  78  79  80  81  83  84  87  88  90  91  92  96 103 104\n",
      " 105 106 109 112 114 116 117 118 122 124 130 131 132 134 137 139 140 141\n",
      " 142 150 151 154 156 157 158 159 160 165 166 169 172 174 178 179 180 186\n",
      " 187 190 192 193 196 197 199 207 209 210 211 213 215 217 219 220 222 224\n",
      " 225 226 227 228 229 233 234 235 236 238 239 242 244 245 247 248 249 255\n",
      " 258 268 269 276 281 284 285 288 289 291 292 294 297 299 301 304 309 311\n",
      " 312 314 320 322 323 326 331 332 334 335 337 339 342 344 345 346 348 351\n",
      " 353 354 355 356 359 360 361 362 363 367 369 370 374 375 377 378 381 383\n",
      " 387 388 391 393 395 396 399 400 402 404 405 407 408 411 412 413 417 418\n",
      " 419 420 421 424 425 426 427 428 431 433 436 437 440 441 449 450 453 455\n",
      " 456 457 459 460 462 465 466 467 470 472 473 474 475 476 478 479 480 481\n",
      " 482 483 484 485 486 488 491 492 493 496 497 498 499 504 505 507 508 512\n",
      " 513 514 516 521 522 523 527 530 532 533 536 539 540 542 546 547 549 553\n",
      " 554 555 558 560 561 562 565 568 569 571 573 575 576 577 578 579 580 581\n",
      " 585 586 587 589 590 591 592 594 597 599]\n",
      "D_ids ['e26537bf-0419-4e8e-8101-ceb9bab669f2', '679c50ed-410f-4dbe-8cea-080b8ec4fb69', '0e259bff-c59e-4839-bd14-d18187b22c2a', '5fd93bf8-2b64-45a7-8ebb-b5fd03d038b0', 'e70121b8-0edf-4788-8c41-bd2707817a95', '5ab9fd61-a225-41c1-a3f6-15eac316e203', '9189d771-e522-4966-90b0-9f6f4d196c69', 'dcfd13b9-207e-4cb1-a04d-fe443ba97031', 'b4f8c5d6-fdfd-488c-a8e9-f358f3c8ec35', '2b6c6aa9-c1df-4f66-a456-0238fc1d36a1', '3e85fbda-e917-4e65-8067-80bf68502710', '7caa6e57-83fc-4a2f-b635-c85e50ab081e', 'f78effba-5811-41f0-a283-44da4e96da5a', 'd4dabc44-e993-4666-88ad-76d4ca43542d', '8e70a101-e20a-46c7-a6c7-2a2fd87d2bc4', '9d7f4ead-5f5c-4ca0-993a-c580fab0dd5e', '3f28197f-23ae-4072-a405-f176eab10b8f', 'aac92f38-ffa0-4c76-9904-fa4084867795', '580f0692-e1ea-4f7d-aea8-a703fbe986e5', '8e9dddba-d2cd-40c4-9542-54836df39ce4', 'b0ff7fa5-997b-4b5a-88ad-6e3cd9c58624', '3d87b992-b344-4f0e-be12-ae5b22fc141f', '4f15da25-c856-4e2b-8693-f7ef086c7e7c', '80894e70-1b57-4082-aa55-b2f0e6a3102d', '84a56ee3-1f64-43f5-9592-e4f3d9845571', '4cff29dc-cb91-433c-bdf4-624f41d793d6', '62983b5d-7ac7-4db8-858b-2591260b1a08', 'ff96e17a-d2ed-4316-bf06-671f6c63e661', '56bda0bc-85c6-497f-b920-1885fd476dd2', '3103acad-3b94-4ed3-9d30-5d2291537204', 'a097695c-2477-49e6-9728-b1af9183f1db', 'a99188c2-5b7c-4bc7-b6de-39ff0300d6d0', '595af391-ed6b-455f-bdf6-b29a2a2035f9', '5d56e845-db7c-4a28-87df-371ae0bd04d3', '04c5f4a5-c3d2-4dc7-89de-e60137be57f2', '0602c055-387c-41c4-8850-59dffc0a0bf7', '1d55827b-73fc-4fd8-8882-7e0267d64876', '879ee34c-f43f-4ede-9b95-fea7d4105ac5', '3e1cf8ba-7578-47cc-811d-5ed5167ca565', '527f6bf9-1984-4b11-8178-d3c520c1a9f7', 'fe5d6d30-dc98-4167-8812-4e3888433fd9', '191d952b-cf3f-4a58-8b09-e164737056ef', '9ff833f4-e204-4127-afbb-acd41886c900', 'a9555a4b-4856-4d55-96ed-2562181fec40', 'c6b54147-db79-4cca-ac53-0bc98ebe1651', '41185466-5377-48b6-a1ca-18ce09ba53e1', 'ca7da877-257d-4676-86e3-9fdc6748f4f8', '4934b0d9-1094-45fe-8812-f2389fe9b9a9', 'f3be282b-e2b8-48d9-a021-fb72a83129c9', 'f99b6c58-0901-423f-8efe-dc1d3ea8ce90', '97406f03-a758-4278-908a-da2b4c742d90', '801d97a9-af3b-4667-ae9c-6acf7c4fabd8', '6326aff7-7e4c-44e4-b737-5079fc110000', 'd544f5e9-751e-4b1d-bb81-47b6b215c168', 'dbcfec5a-985b-40e8-ac1c-1d4b9e7c7c2f', '4b92049a-c197-4571-a205-91374545f534', 'dc58b7d9-50bc-4fc2-be8f-113331e3b5d5', '110aa24f-478e-455b-a679-31e4e91f5904', '79bbf1a2-4ee3-4dce-9826-fc84b2b187cc', 'd0585112-6611-4f00-8e8f-622c3fd3fe97', 'bcd65a08-2bdc-420b-91db-a6f417308d32', 'a943d51a-996b-4fbd-a109-afc1aa516df4', '4ca6df98-54c8-46db-ae26-30cca131153c', '620adc7a-9f4c-4a4c-b573-cc725d229478', 'a9af419c-48d2-47f7-acc8-8766e7ba7125', '566495fa-3884-4bb4-aa1a-2f9c30cdd806', 'd73a9357-6871-4ef6-8238-ceb2f1d06348', 'd0eedcac-ccd1-4a30-862d-7f2102c012a5', '6dbe2901-d8eb-4e4e-b748-62de8eaed38b', 'dd677c0e-713e-45bd-8ed8-4e8e6d175f9b', '7f1a2313-3859-46fe-9fc8-76fbb6e40a30', '6ea7d314-a686-4490-be75-61f64101aefd', '5000db00-688f-4930-9392-a1394ee5bb17', 'c9cbff59-1c59-4616-bab4-1334e1127ef8', 'd23aea3c-a6d7-46f8-8d4c-7dc2e91ed86c', '65d8a4cf-9d8e-47bc-8c86-ffc3163cacb8', '678383d5-edd7-4747-98bb-a557f21aabbb', '3c9a7b86-132e-44bc-b83d-7786f7679a7c', '0d14a26d-bd3a-4210-bf16-8635c9be0586', '18634230-b82b-490f-8c06-b279f731d6b9', '6539b60e-35cd-4fa6-b226-34b8c082d318', 'c61d4c3e-16aa-4cf6-bad1-9a52bcceff6a', '33387c29-71e0-4a12-a891-61216d72251d', 'f0b25244-0863-43ba-a881-e61124a165ad', '18d04aa4-c85e-4592-bf63-dd5795e3120f', 'cffc9fcf-ea6e-4753-8d5e-827f8dd52ab2', '0652349c-3ada-46f5-9886-dc0f43105f06', '7f8affea-776d-49cf-9e3c-69aebe8c254e', '5ba18ced-a5eb-4f41-88a2-73e4e95fd759', '56842e51-38d9-4756-bafb-833e7d3d0131', '0981168a-1770-439b-871c-ae97e5c74900', '71166dac-8ece-4a10-a038-9d963ab09a86', '8f7d28f2-6268-4929-9c32-f0d9858475bb', 'c871fe3d-d94e-4807-b09f-db5b44fb3d50', '7abf5cca-147c-4a67-a395-6057432a5cc9', '43617a7a-1c71-4b34-98e9-84c911ef6002', '2e43b273-8b19-42b5-8f98-bd0c9c9476cf', '22074374-3fad-4979-8bd8-c56983e95c69', 'f0bc5158-81cc-4f65-acb6-5e7003b5408c', 'c6dbe30c-246e-46e3-b497-7f36eaabfa9b', '25888f61-b3ec-4b01-9f27-17ca2bda1601', '54deeb97-2c81-4bd0-84cd-d522d7c64925', '1add67fd-7a35-4939-8f3b-0f28e6b23c0d', '75ab0357-d2d1-4b73-8841-98ba2667c66b', 'c3ad39ae-940b-46a6-91c0-3cfb76403144', 'aee2451c-55cc-4a6b-9b0a-175b13f3994e', '4bdea6be-b970-4d33-9c6a-9609aa8fecfc', '10cb8589-27a6-4854-9e36-97c9193ad4bf', '77043b3c-a004-4d83-9695-78faff580510', '59a13859-9a48-4e4d-9025-2aa4e0fe9671', '0a46ed6a-07ad-4773-9a56-9a8d2f015fae', '672e5db4-3274-4eed-be4f-8f609db54a45', '3fdf6ca1-d1f5-4482-b3c8-31aa03175824', '24a90956-fcf6-48a5-ac1c-dacb4716ae2b', 'b5eca0ea-1166-4084-845a-90c28cfe52ca', 'fb183041-f32f-4162-ad14-7199da98ccc9', '83567a97-6e76-42c5-96bf-6cad20b394ad', '6f5be07c-b46b-4c6f-8757-5664e65ccfa2', 'a1e29dee-f520-42a1-8b6b-6e95664ad709', 'eb8ce01c-6869-49af-9c36-b83a96f7015b', '60412ac7-aca6-494a-b4e5-e124f61cd090', '3efcec79-6a36-493c-87ed-0e10144d2c56', '8d30a9e4-a709-4d17-a9a3-1265126be295', '73c8369c-ec85-4390-b259-3dd95dfea232', 'adff8ae8-ca88-4010-8975-230abbeff69a', 'd55e89c3-1031-4ad8-8fa9-909c988e30e8', '6b4c0029-d582-4867-b532-b42a3385f48a', '9d3c9bde-7cfc-4007-9733-84f0370bbcd3', '2cadd9f2-d077-4121-bb0c-e7d0b33ff352', '8c66d446-561c-4d21-8f3a-4e7bc1554d2c', '8c79846c-f02d-4b45-8c51-f8db2ffa06fd', '0599e486-7f45-4974-86ef-b3d6045de471', '68b0c861-082d-401c-b8a7-33e594bee997', '86d383f8-091c-4c98-95d8-6caa9714dcc8', '08650614-a83d-4bd5-b610-c13a60e55e61', '915216df-4ced-4ec7-8683-581027f2b510', 'aff0bea1-d70c-4a5c-b0be-73e38f3c23aa', 'd4c2ba2a-d32d-4799-b3bf-74f1a72c278b', '7d0ac97b-03c9-4c8b-8d67-025090d01800', 'aa2ca650-3d67-4ab1-a785-fa7b539064d4', '424e0a6f-f577-465f-9289-c4a57e3a44f7', '7ddf39b1-6c85-4602-833d-10c1478e9c33', 'c90c7d4b-c66f-4016-98bf-11e5f9d2b104', 'bfdd2536-e28d-4baf-822b-3e9b68bae9c3', 'f2ac9751-0e61-40a2-86d8-c00406d4ceba', '143a8f56-cb14-4154-a82b-9cc3395f7d24', '7839fdd9-6759-45e4-9e39-b0cc80ed0df7', '136496b6-bf98-4fa0-b4a7-f50a41730382', '188e5113-06d6-4d53-aa43-ee006c106e15', '0b8b9f32-7311-41b3-b624-22c5d65afede', 'b555d675-6562-491b-b9ad-05b3d944af31', '154fdb2f-030f-4e2f-9766-5f5a4f997176', 'f2daa732-6bab-45e6-94f9-725929b5c391', 'ff081dc0-7475-4677-9c8a-942c1c337b5a', 'cd146b0c-e234-4c01-b18d-c0001be6cf7c', '2261600f-7aab-4d6b-bcf7-5edf08bfc91b', '45b85030-72d3-4ac6-b479-245482864cc4', '3eece527-421d-4d0b-9927-64937b149e06', 'a729ea15-254c-410b-a901-b3c217d2096d', '29a812a3-d1cd-4e36-a973-a5d458e1a13e', 'b2435bbc-37d6-4bd9-bddf-e6720686dbeb', 'f3afd2cd-e540-4fc7-b7a4-3cda4b085406', '3f5f38bd-f6ac-435d-b2a5-3f251d103664', '7d8901c7-1675-437b-a3b8-e2056d28be5a', 'b669aa0c-52c1-4166-94d1-1428381431d0', '752b2e3d-3722-4fc1-9d75-50b8e6263c60', '0b58b6d5-955b-4f37-979d-af18d857d2d7', '850617b6-9211-4334-938b-d670bccf0cb1', 'a703a62c-e6a9-4bfa-af0b-f0ddae208d9c', '669b644b-6aeb-423d-b143-012b54fea8e5', 'c7a9931a-f112-4fa7-ae22-25c286adf7b4', 'a36440f4-dec8-4d87-af88-d4dd03e84d11', 'a0f8cc5c-242a-4cd2-8efb-0eab10c125a6', 'ea93f8bc-cc46-42b0-b8ca-5c4c394a7a05', 'd2084d66-4a83-4ce0-9177-64440e813256', '0c40c45a-1428-4b14-94a4-7c8c94bfa71a', 'c5b5fb70-7e15-42dd-8c97-36d0e03eae2b', '18aebdf5-e3fd-4487-93bd-5e2d9a0b5d9c', 'dfc47fab-5022-4fbc-a652-0e3df2568988', 'f9bdb6a5-7d1b-4dc9-8d27-4cd8ae8eafbf', '6e2c929b-37eb-493a-9802-c266b813b711', '18096e2e-812f-4681-9f9b-91645c18a1f2', '095e866e-fea1-42d8-8114-5f0e0cf92eb9', '6779cfca-3c8d-4118-80e0-b5f80dc4c4e4', '8c0e01b1-2607-4659-a432-798a9c589343', 'c685a042-b6e8-4b47-8137-b7a21b29b366', 'aec21d61-e33d-44e3-8df0-a3657422af39', '37fc3927-f1e5-4ee5-baae-b3aedba372ed', 'df72dfa1-6157-49bd-9ea7-1b094e011310', '3728ba5b-4456-4a44-972c-74f46637c953', 'b328fa46-3452-4d8a-98bf-57b334205560', '14e96770-716d-44e9-8956-b239a4f2b741', '2995a3be-d036-4530-b3dc-a5c4bb7b3e47', '000eb052-b8f9-44ea-b895-55971f35b62f', '4f860c26-1592-4607-87e0-278d7dfaa130', '3a415c3a-6c73-434e-8591-63fc62d8962c', 'f5fa59d7-8e94-46eb-9e9c-8f01ed682ee6', '11eb7469-fdfd-445b-94e8-3a5c38e8dd74', 'c9335095-82a0-49a3-adcc-09025c2e436f', '32b1d043-d4bc-4ce0-90f9-10caca225dba', '41e58ba4-7e0d-444a-b33e-384f949c3164', '4b932c2d-961e-4381-84f7-24fc71a56376', 'e309522d-1c2d-4d61-b5e4-8e9e67024aef', '51cc5760-9155-43ab-8d57-8aeac4df05ee', '7d5f0b88-1392-4798-ae8d-af2096993233', '829d52c3-0714-48c7-a10c-8e64ab555d4f', 'cff390f0-85ff-46e6-93b6-9d5985161970', 'b33476a2-af50-4c0c-9e23-6b9d35567958', 'f34765de-14bc-42ba-a64b-370a1e8b9f39', '39dcdc39-5f4f-4199-b033-7916ae17dd40', '46e003f8-e0f1-400b-a7e1-67df24d9b5b3', 'ce1591e5-6cba-4772-a03d-5e8c0ae33f07', '0f29f37b-4193-4bf5-8185-aaa521d04999', 'f0802d7d-d811-474b-90de-29e27efa84ce', '5b540e37-3632-4069-9814-3f2c4777f04c', '1c33cf69-d604-463d-b10e-9b2db93fd7af', '46ed2456-8deb-4e87-ae3a-35424be28308', '9ac4cd94-3a0e-40ea-999e-c15cfc886873', 'ea56f7f6-5898-4b01-9f2c-40b14a8986d0', 'f4ca1fa3-025c-4d32-bc43-39ef42d28801', '3e2fe87b-1cf5-43ca-8771-6d787d68e128', 'eaffe9ae-d837-4efb-a72c-81f5ba635d2b', '4dac4783-507d-4ddf-841f-cf97f8d5410c', 'c065d97d-e6ae-40b4-b4d0-c1f47d24011d', 'f10cb0b2-382d-4204-bf21-d1d98e1ab7b6', '7a692495-8f83-4415-b741-395476addcca', 'b157b4c5-9f9f-49c6-925d-263b03f234c2', '087429cf-690e-49e5-8239-5e4067b4266c', '064546d6-5e85-4840-8a64-667c693c38c2', 'fcd3c75b-f502-41e7-a6de-3152de9f5685', '47c1ded0-08cc-45f1-990c-4c17f5b71840', 'e1aba340-cdd2-4b17-aeff-db711369911f', '84060b8c-6e42-4ba8-b7ec-6ecfacfdac74', '33161200-dbd6-4ecb-9c23-d451498376b4', '2e56e424-91bb-41da-9c8c-84e8926e6734', 'd1951381-f562-429b-8db9-45708453ed8b', 'e9a4d1a3-2980-456d-bb8c-937a81bccb0e', '4b09e329-6be4-4fc7-b434-a4d877ef94c5', '31c7316a-9690-456a-9da6-b3a2e5c808db', 'bd39cb26-e6db-4691-934d-f70fc557ac3c', 'ce2f635e-873d-4502-8af0-37c5ec17d46b', 'bb5d532e-48d0-4543-9e11-3b663a4a6d8e', '0e5f8ef5-c196-48bc-ba32-39576a17317b', 'afcf06d0-da62-45cf-b8b5-cf61b9ba57d7', '86944d57-2961-4cb3-9d0c-1152ece82d4e', 'c701536a-0f79-489f-a601-614def534a13', '927e6ef7-781a-4131-8a54-b7353ef1a9db', '44a2ca47-4ca2-45c3-a8b0-746dd83b9211', 'cbb42d08-d369-408b-97d0-01bbdc9ba303', 'aca487c1-ccd1-4970-9f56-2196234852cd', 'a28bd8fa-449b-4faa-be77-c10df085c2cd', '6dfd85aa-5284-4625-9b80-f638e5154eea', '6bdcb444-d1a1-4f76-a8fd-01d7dc528dbe', '241dfe95-6798-4e90-bc72-00f2fb646cad', 'a29ad71a-0095-465d-8d72-eaf99994cb89', '564041ef-adab-49c2-a32f-cc79774a733e', '25d03de6-5cf4-4cac-a1eb-dd484496ee52', 'd930ac51-8a8d-419b-a21e-8b1d7914402c', '8852d0f1-c5ee-4bda-94a1-19d797fc51ec', 'd538689b-b12d-44f4-b77e-7ff734d5b836', '5320b185-eb60-48fd-9d0c-faf65b500dbc', 'c9c8339c-c0f3-4640-9b25-6165f8bdac25', '8f857174-8bca-46ab-8f4d-17dbdecf5764', 'a0aa4294-cde7-4e66-8898-55a075258686', '5a6bdcc3-dfa5-42eb-a91e-b69e76d5f96a', '3cba58ee-f7a7-4e1e-97fa-c5ecb25b4904', 'a773bfae-085f-48a8-800c-b80be3ec9dab', '6795c284-a0d1-4395-bd06-1807fb4ca1e7', '51846c75-bbac-4f93-8f9c-8cc5591b0872', '692045a3-6b96-48e1-8b85-f1d6e42dcd0f', '201459f4-17d6-4367-a719-10bc525e2a86', '12831a16-9dc8-4cbe-b448-6c1ca8284270', '846b9336-e5ff-488a-be23-7465201cf78b', 'b5fe765a-5de1-4990-88d0-139ede35f7e8', '7a295b3a-107d-4faa-a086-1b95821ce5ca', '1da36bd5-5427-416f-88cc-61db290dab58', '96f73791-0e8f-4ce8-9db1-243e101cf7d7', 'a07e94b5-e8c7-46c0-81ca-cac621ce8de8', '56ae6aa2-857d-4b08-9800-609c0572c423', '045b6f10-9dd5-41e8-8ed4-9d8955fa7630', '9d116821-da4e-432f-939a-964711a8b072', '7a7c9939-7c4e-47a6-8164-993b00eca175', 'f4c17153-17f8-4960-8384-42a83cf33534', '04844c46-b38e-4d35-beb9-1cae102c1516', '88cd8128-c54e-4fd3-a8f0-dc0b5c000ff8', '12ee624a-2d66-4c5d-817e-70293ac8322c', '7c2ddb21-d952-45bc-9791-a35135c011d4', '3a85cb7f-9143-4df1-b290-439091ec270e', '9f66269f-ace1-45d0-a47f-b39977b46037', 'ca21a172-9c42-4476-8f86-551f85331245', '92080627-2ae0-44e2-ab81-652631ff2b83', 'bbc76ab7-ece5-46c2-b467-7a46f2cf7b7d', '2df215be-5e61-439a-a959-fe06c17619eb', 'b7f787a4-dad4-4a0b-a0dd-8a67e3264575', '031a323c-e825-46f0-8654-fa5684c78883', 'd789cbdc-817c-4dbd-823d-3b18a684849b', 'ed6a7f55-b834-45b4-9d63-85d3d1de1168', 'f3da4751-e802-4f1f-9c2e-b20d584b7eea']\n",
      "Replacing 298 from 298 !\n"
     ]
    },
    {
     "ename": "AttributeError",
     "evalue": "'Collection' object has no attribute 'keys'",
     "output_type": "error",
     "traceback": [
      "\u001B[0;31m---------------------------------------------------------------------------\u001B[0m",
      "\u001B[0;31mAttributeError\u001B[0m                            Traceback (most recent call last)",
      "\u001B[0;32m/tmp/ipykernel_1768089/909131351.py\u001B[0m in \u001B[0;36m<module>\u001B[0;34m\u001B[0m\n\u001B[1;32m      6\u001B[0m     \u001B[0mR\u001B[0m\u001B[0;34m.\u001B[0m\u001B[0mrun_discriminator\u001B[0m\u001B[0;34m(\u001B[0m\u001B[0;34m)\u001B[0m\u001B[0;34m\u001B[0m\u001B[0;34m\u001B[0m\u001B[0m\n\u001B[1;32m      7\u001B[0m     \u001B[0mR\u001B[0m\u001B[0;34m.\u001B[0m\u001B[0mfind_machine_labels\u001B[0m\u001B[0;34m(\u001B[0m\u001B[0;34m)\u001B[0m\u001B[0;34m\u001B[0m\u001B[0;34m\u001B[0m\u001B[0m\n\u001B[0;32m----> 8\u001B[0;31m     \u001B[0mR\u001B[0m\u001B[0;34m.\u001B[0m\u001B[0mrelabel\u001B[0m\u001B[0;34m(\u001B[0m\u001B[0mpercent_to_replace\u001B[0m\u001B[0;34m=\u001B[0m\u001B[0mPERCENT_TO_REPLACE\u001B[0m\u001B[0;34m)\u001B[0m\u001B[0;34m\u001B[0m\u001B[0;34m\u001B[0m\u001B[0m\n\u001B[0m\u001B[1;32m      9\u001B[0m     \u001B[0mprint\u001B[0m\u001B[0;34m(\u001B[0m\u001B[0;34m'TOOK'\u001B[0m\u001B[0;34m,\u001B[0m \u001B[0mtime\u001B[0m\u001B[0;34m.\u001B[0m\u001B[0mtime\u001B[0m\u001B[0;34m(\u001B[0m\u001B[0;34m)\u001B[0m\u001B[0;34m-\u001B[0m\u001B[0mt0\u001B[0m\u001B[0;34m,\u001B[0m \u001B[0;34m'seconds'\u001B[0m\u001B[0;34m)\u001B[0m\u001B[0;34m\u001B[0m\u001B[0;34m\u001B[0m\u001B[0m\n\u001B[1;32m     10\u001B[0m \u001B[0;34m\u001B[0m\u001B[0m\n",
      "\u001B[0;32m~/Projects/CS410-Omama/_EXPERIMENTS/ORIGINAL_GP2/../../gp2/runner.py\u001B[0m in \u001B[0;36mrelabel\u001B[0;34m(self, percent_to_replace)\u001B[0m\n\u001B[1;32m    420\u001B[0m         \u001B[0mB\u001B[0m \u001B[0;34m=\u001B[0m \u001B[0mM\u001B[0m\u001B[0;34m.\u001B[0m\u001B[0mget\u001B[0m\u001B[0;34m(\u001B[0m\u001B[0;34m'B'\u001B[0m\u001B[0;34m)\u001B[0m\u001B[0;34m\u001B[0m\u001B[0;34m\u001B[0m\u001B[0m\n\u001B[1;32m    421\u001B[0m \u001B[0;34m\u001B[0m\u001B[0m\n\u001B[0;32m--> 422\u001B[0;31m         \u001B[0muniqids_in_D\u001B[0m \u001B[0;34m=\u001B[0m \u001B[0mlist\u001B[0m\u001B[0;34m(\u001B[0m\u001B[0mD\u001B[0m\u001B[0;34m.\u001B[0m\u001B[0mkeys\u001B[0m\u001B[0;34m(\u001B[0m\u001B[0;34m)\u001B[0m\u001B[0;34m)\u001B[0m\u001B[0;34m\u001B[0m\u001B[0;34m\u001B[0m\u001B[0m\n\u001B[0m\u001B[1;32m    423\u001B[0m \u001B[0;34m\u001B[0m\u001B[0m\n\u001B[1;32m    424\u001B[0m         \u001B[0;32mfor\u001B[0m \u001B[0mi\u001B[0m\u001B[0;34m,\u001B[0m \u001B[0mk\u001B[0m \u001B[0;32min\u001B[0m \u001B[0menumerate\u001B[0m\u001B[0;34m(\u001B[0m\u001B[0mselected_ids\u001B[0m\u001B[0;34m)\u001B[0m\u001B[0;34m:\u001B[0m\u001B[0;34m\u001B[0m\u001B[0;34m\u001B[0m\u001B[0m\n",
      "\u001B[0;31mAttributeError\u001B[0m: 'Collection' object has no attribute 'keys'"
     ]
    }
   ],
   "source": [
    "for run in range(RUNS):\n",
    "    print('***')\n",
    "    print('RUN:', run)\n",
    "    t0 = time.time()\n",
    "    R.run_classifier()\n",
    "    R.run_discriminator()\n",
    "    R.find_machine_labels()\n",
    "    R.relabel(percent_to_replace=PERCENT_TO_REPLACE)\n",
    "    print('TOOK', time.time()-t0, 'seconds')\n",
    "    "
   ]
  },
  {
   "cell_type": "code",
   "execution_count": null,
   "id": "dab6fd49",
   "metadata": {},
   "outputs": [],
   "source": []
  },
  {
   "cell_type": "code",
   "execution_count": null,
   "id": "93739320",
   "metadata": {},
   "outputs": [],
   "source": []
  },
  {
   "cell_type": "code",
   "execution_count": null,
   "id": "a76a4615",
   "metadata": {},
   "outputs": [],
   "source": []
  },
  {
   "cell_type": "code",
   "execution_count": 10,
   "id": "00075332",
   "metadata": {},
   "outputs": [
    {
     "data": {
      "text/plain": [
       "[[0.36250168085098267, 0.7209513783454895],\n",
       " [0.18394052982330322, 0.8621875047683716],\n",
       " [0.10315718501806259, 0.9341450333595276],\n",
       " [0.08377128094434738, 0.9563454985618591],\n",
       " [0.08719967305660248, 0.956550121307373]]"
      ]
     },
     "execution_count": 10,
     "metadata": {},
     "output_type": "execute_result"
    }
   ],
   "source": [
    "R.classifier_scores"
   ]
  },
  {
   "cell_type": "code",
   "execution_count": 11,
   "id": "35105656",
   "metadata": {},
   "outputs": [
    {
     "data": {
      "text/plain": [
       "[[0.8372218012809753, 0.5083333253860474],\n",
       " [0.8539556860923767, 0.5166666507720947],\n",
       " [0.8621125221252441, 0.4933333396911621],\n",
       " [0.8202974200248718, 0.528333306312561],\n",
       " [0.8091117739677429, 0.5366666913032532]]"
      ]
     },
     "execution_count": 11,
     "metadata": {},
     "output_type": "execute_result"
    }
   ],
   "source": [
    "R.discriminator_scores"
   ]
  },
  {
   "cell_type": "code",
   "execution_count": 12,
   "id": "0a721a90",
   "metadata": {},
   "outputs": [
    {
     "data": {
      "image/png": "[encoded data removed]",
      "text/plain": [
       "<Figure size 240x240 with 1 Axes>"
      ]
     },
     "metadata": {
      "needs_background": "light"
     },
     "output_type": "display_data"
    }
   ],
   "source": [
    "R.plot()"
   ]
  },
  {
   "cell_type": "code",
   "execution_count": null,
   "id": "551de181",
   "metadata": {},
   "outputs": [],
   "source": []
  }
 ],
 "metadata": {
  "kernelspec": {
   "display_name": "Python 3 (ipykernel)",
   "language": "python",
   "name": "python3"
  },
  "language_info": {
   "codemirror_mode": {
    "name": "ipython",
    "version": 3
   },
   "file_extension": ".py",
   "mimetype": "text/x-python",
   "name": "python",
   "nbconvert_exporter": "python",
   "pygments_lexer": "ipython3",
   "version": "3.9.7"
  }
 },
 "nbformat": 4,
 "nbformat_minor": 5
}
