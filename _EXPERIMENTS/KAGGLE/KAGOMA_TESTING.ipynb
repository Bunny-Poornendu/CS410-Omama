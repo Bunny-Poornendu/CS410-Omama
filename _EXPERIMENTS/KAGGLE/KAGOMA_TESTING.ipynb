{
 "cells": [
  {
   "cell_type": "code",
   "execution_count": 46,
   "id": "be56d58f",
   "metadata": {},
   "outputs": [
    {
     "name": "stdout",
     "output_type": "stream",
     "text": [
      "Populating the interactive namespace from numpy and matplotlib\n",
      "The autoreload extension is already loaded. To reload it, use:\n",
      "  %reload_ext autoreload\n"
     ]
    }
   ],
   "source": [
    "%pylab inline\n",
    "%load_ext autoreload\n",
    "%autoreload 2"
   ]
  },
  {
   "cell_type": "code",
   "execution_count": 105,
   "id": "75da47b8",
   "metadata": {},
   "outputs": [],
   "source": [
    "import sys\n",
    "sys.path.insert(0,'../..')\n",
    "import kaggle_explorer as K\n",
    "import pydicom\n",
    "from pydicom.pixel_data_handlers.util import apply_modality_lut\n",
    "from skimage.transform import resize\n"
   ]
  },
  {
   "cell_type": "code",
   "execution_count": 72,
   "id": "aeb2c283",
   "metadata": {},
   "outputs": [],
   "source": [
    "reference_dicom = pydicom.dcmread(\"DXm.2.25.119403010146292111130118207990186551199.dcm\")\n",
    "source_dicom = pydicom.dcmread(\"1459541791.dcm\")"
   ]
  },
  {
   "cell_type": "code",
   "execution_count": 73,
   "id": "29835504",
   "metadata": {
    "scrolled": true
   },
   "outputs": [],
   "source": [
    "transfer_syntax = reference_dicom.file_meta.TransferSyntaxUID"
   ]
  },
  {
   "cell_type": "code",
   "execution_count": 74,
   "id": "ab397ab2",
   "metadata": {},
   "outputs": [],
   "source": [
    "pixel_array = source_dicom.pixel_array"
   ]
  },
  {
   "cell_type": "code",
   "execution_count": 75,
   "id": "9297ef85",
   "metadata": {},
   "outputs": [],
   "source": [
    "new_dicom = pydicom.dataset.Dataset()\n",
    "new_dicom.update(reference_dicom)"
   ]
  },
  {
   "cell_type": "code",
   "execution_count": 76,
   "id": "9d1e6546",
   "metadata": {},
   "outputs": [],
   "source": [
    "new_dicom.PixelData = pixel_array.tobytes()"
   ]
  },
  {
   "cell_type": "code",
   "execution_count": 77,
   "id": "4e7b5d81",
   "metadata": {},
   "outputs": [],
   "source": [
    "new_dicom.is_little_endian = reference_dicom.is_little_endian\n",
    "new_dicom.is_implicit_VR = reference_dicom.is_implicit_VR"
   ]
  },
  {
   "cell_type": "code",
   "execution_count": 78,
   "id": "2567d618",
   "metadata": {},
   "outputs": [],
   "source": [
    "file_meta = pydicom.dataset.FileMetaDataset()\n",
    "file_meta.TransferSyntaxUID = transfer_syntax\n",
    "new_dicom.file_meta = file_meta"
   ]
  },
  {
   "cell_type": "code",
   "execution_count": 79,
   "id": "d509ce1f",
   "metadata": {},
   "outputs": [
    {
     "data": {
      "text/plain": [
       "<matplotlib.image.AxesImage at 0x7f362646d700>"
      ]
     },
     "execution_count": 79,
     "metadata": {},
     "output_type": "execute_result"
    },
    {
     "data": {
      "image/png": "[encoded data removed]",
      "text/plain": [
       "<Figure size 432x288 with 1 Axes>"
      ]
     },
     "metadata": {
      "needs_background": "light"
     },
     "output_type": "display_data"
    }
   ],
   "source": [
    "plt.imshow(new_dicom.pixel_array)"
   ]
  },
  {
   "cell_type": "code",
   "execution_count": null,
   "id": "5484db8f",
   "metadata": {},
   "outputs": [],
   "source": []
  },
  {
   "cell_type": "code",
   "execution_count": null,
   "id": "613adc69",
   "metadata": {},
   "outputs": [],
   "source": []
  },
  {
   "cell_type": "code",
   "execution_count": null,
   "id": "9a174d2f",
   "metadata": {},
   "outputs": [],
   "source": []
  },
  {
   "cell_type": "code",
   "execution_count": 80,
   "id": "712f3140",
   "metadata": {},
   "outputs": [],
   "source": [
    "min_pixel_value = reference_dicom.pixel_array.min()\n",
    "max_pixel_value = reference_dicom.pixel_array.max()"
   ]
  },
  {
   "cell_type": "code",
   "execution_count": 81,
   "id": "ff5c52d5",
   "metadata": {},
   "outputs": [],
   "source": [
    "pixel_array = source_dicom.pixel_array"
   ]
  },
  {
   "cell_type": "code",
   "execution_count": 82,
   "id": "72fd0475",
   "metadata": {},
   "outputs": [],
   "source": [
    "normalized_pixels = (pixel_array - np.min(pixel_array)) / np.ptp(pixel_array)\n"
   ]
  },
  {
   "cell_type": "code",
   "execution_count": 83,
   "id": "773d8fe8",
   "metadata": {},
   "outputs": [],
   "source": [
    "rescaled_pixels = (normalized_pixels * (max_pixel_value - min_pixel_value)) + min_pixel_value\n"
   ]
  },
  {
   "cell_type": "code",
   "execution_count": 84,
   "id": "891d5547",
   "metadata": {},
   "outputs": [],
   "source": [
    "new_dicom = pydicom.dataset.Dataset()\n",
    "new_dicom.update(reference_dicom)"
   ]
  },
  {
   "cell_type": "code",
   "execution_count": 85,
   "id": "1522a2d5",
   "metadata": {},
   "outputs": [],
   "source": [
    "new_dicom.PixelData = rescaled_pixels.tobytes()"
   ]
  },
  {
   "cell_type": "code",
   "execution_count": 86,
   "id": "d0633d98",
   "metadata": {},
   "outputs": [],
   "source": [
    "new_dicom.is_little_endian = reference_dicom.is_little_endian\n",
    "new_dicom.is_implicit_VR = reference_dicom.is_implicit_VR"
   ]
  },
  {
   "cell_type": "code",
   "execution_count": 87,
   "id": "185a5325",
   "metadata": {},
   "outputs": [],
   "source": [
    "file_meta = pydicom.dataset.FileMetaDataset()\n",
    "file_meta.TransferSyntaxUID = transfer_syntax\n",
    "new_dicom.file_meta = file_meta"
   ]
  },
  {
   "cell_type": "code",
   "execution_count": 88,
   "id": "af1151e5",
   "metadata": {},
   "outputs": [
    {
     "data": {
      "text/plain": [
       "<matplotlib.image.AxesImage at 0x7f362969ebe0>"
      ]
     },
     "execution_count": 88,
     "metadata": {},
     "output_type": "execute_result"
    },
    {
     "data": {
      "image/png": "[encoded data removed]",
      "text/plain": [
       "<Figure size 432x288 with 1 Axes>"
      ]
     },
     "metadata": {
      "needs_background": "light"
     },
     "output_type": "display_data"
    }
   ],
   "source": [
    "plt.imshow(new_dicom.pixel_array, cmap = 'gray')"
   ]
  },
  {
   "cell_type": "code",
   "execution_count": null,
   "id": "d3d4d639",
   "metadata": {},
   "outputs": [],
   "source": []
  },
  {
   "cell_type": "code",
   "execution_count": null,
   "id": "6231a425",
   "metadata": {},
   "outputs": [],
   "source": []
  },
  {
   "cell_type": "code",
   "execution_count": null,
   "id": "f0c8d1c8",
   "metadata": {},
   "outputs": [],
   "source": []
  },
  {
   "cell_type": "code",
   "execution_count": 89,
   "id": "98f741f4",
   "metadata": {},
   "outputs": [],
   "source": [
    "min_pixel_value = reference_dicom.pixel_array.min()\n",
    "max_pixel_value = reference_dicom.pixel_array.max()"
   ]
  },
  {
   "cell_type": "code",
   "execution_count": 90,
   "id": "fba1de37",
   "metadata": {},
   "outputs": [],
   "source": [
    "if \"PixelSpacing\" in reference_dicom:\n",
    "    pixel_spacing = reference_dicom.PixelSpacing\n",
    "else:\n",
    "    if \"SpacingBetweenSlices\" in reference_dicom:\n",
    "        spacing_between_slices = reference_dicom.SpacingBetweenSlices\n",
    "        pixel_spacing = [reference_dicom.SliceThickness] + [spacing_between_slices]\n",
    "    else:\n",
    "        pixel_spacing = [1.0, 1.0]\n"
   ]
  },
  {
   "cell_type": "code",
   "execution_count": 91,
   "id": "f8faa1db",
   "metadata": {},
   "outputs": [],
   "source": [
    "if \"ImagePositionPatient\" in reference_dicom:\n",
    "    image_position = reference_dicom.ImagePositionPatient\n",
    "else:\n",
    "    image_position = [0.0, 0.0, 0.0]"
   ]
  },
  {
   "cell_type": "code",
   "execution_count": 92,
   "id": "29e3632f",
   "metadata": {},
   "outputs": [],
   "source": [
    "pixel_array = source_dicom.pixel_array"
   ]
  },
  {
   "cell_type": "code",
   "execution_count": 93,
   "id": "f531fa87",
   "metadata": {},
   "outputs": [],
   "source": [
    "normalized_pixels = (pixel_array - np.min(pixel_array)) / np.ptp(pixel_array)\n",
    "rescaled_pixels = (normalized_pixels * (max_pixel_value - min_pixel_value)) + min_pixel_value\n",
    "\n",
    "new_dicom = pydicom.dataset.Dataset()\n",
    "new_dicom.update(reference_dicom)\n",
    "\n",
    "new_dicom.PixelData = rescaled_pixels.tobytes()\n",
    "\n",
    "new_dicom.is_little_endian = reference_dicom.is_little_endian\n",
    "new_dicom.is_implicit_VR = reference_dicom.is_implicit_VR\n",
    "\n",
    "file_meta = pydicom.dataset.FileMetaDataset()\n",
    "file_meta.TransferSyntaxUID = transfer_syntax\n",
    "new_dicom.file_meta = file_meta"
   ]
  },
  {
   "cell_type": "code",
   "execution_count": 94,
   "id": "2c7f1083",
   "metadata": {},
   "outputs": [
    {
     "data": {
      "text/plain": [
       "<matplotlib.image.AxesImage at 0x7f36296142e0>"
      ]
     },
     "execution_count": 94,
     "metadata": {},
     "output_type": "execute_result"
    },
    {
     "data": {
      "image/png": "[encoded data removed]",
      "text/plain": [
       "<Figure size 432x288 with 1 Axes>"
      ]
     },
     "metadata": {
      "needs_background": "light"
     },
     "output_type": "display_data"
    }
   ],
   "source": [
    "plt.imshow(new_dicom.pixel_array, cmap = 'gray')"
   ]
  },
  {
   "cell_type": "code",
   "execution_count": 103,
   "id": "e600f4e0",
   "metadata": {},
   "outputs": [
    {
     "data": {
      "image/png": "[encoded data removed]",
      "text/plain": [
       "<Figure size 432x288 with 1 Axes>"
      ]
     },
     "metadata": {
      "needs_background": "light"
     },
     "output_type": "display_data"
    }
   ],
   "source": [
    "plt.imshow(new_dicom.pixel_array, cmap=plt.cm.gray, vmin=0, vmax=255)\n",
    "plt.show()"
   ]
  },
  {
   "cell_type": "code",
   "execution_count": null,
   "id": "37aa7856",
   "metadata": {},
   "outputs": [],
   "source": []
  },
  {
   "cell_type": "code",
   "execution_count": null,
   "id": "7307cc27",
   "metadata": {},
   "outputs": [],
   "source": []
  },
  {
   "cell_type": "code",
   "execution_count": null,
   "id": "4ad0ccc5",
   "metadata": {},
   "outputs": [],
   "source": []
  },
  {
   "cell_type": "code",
   "execution_count": null,
   "id": "c53d41ef",
   "metadata": {},
   "outputs": [],
   "source": []
  },
  {
   "cell_type": "code",
   "execution_count": null,
   "id": "eb8178f1",
   "metadata": {},
   "outputs": [],
   "source": []
  },
  {
   "cell_type": "code",
   "execution_count": null,
   "id": "9cfdbf67",
   "metadata": {},
   "outputs": [],
   "source": []
  }
 ],
 "metadata": {
  "kernelspec": {
   "display_name": "Python 3 (ipykernel)",
   "language": "python",
   "name": "python3"
  },
  "language_info": {
   "codemirror_mode": {
    "name": "ipython",
    "version": 3
   },
   "file_extension": ".py",
   "mimetype": "text/x-python",
   "name": "python",
   "nbconvert_exporter": "python",
   "pygments_lexer": "ipython3",
   "version": "3.9.7"
  }
 },
 "nbformat": 4,
 "nbformat_minor": 5
}
