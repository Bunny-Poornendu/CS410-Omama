{
 "cells": [
  {
   "cell_type": "code",
   "execution_count": 1,
   "id": "f2148934",
   "metadata": {},
   "outputs": [
    {
     "name": "stdout",
     "output_type": "stream",
     "text": [
      "Populating the interactive namespace from numpy and matplotlib\n"
     ]
    }
   ],
   "source": [
    "%pylab inline\n",
    "%load_ext autoreload\n",
    "%autoreload 2"
   ]
  },
  {
   "cell_type": "code",
   "execution_count": 2,
   "id": "5ce2e888",
   "metadata": {},
   "outputs": [],
   "source": [
    "import sys\n",
    "sys.path.insert(0,'../..')\n",
    "import kaggle_explorer as K\n",
    "import pydicom\n",
    "import omama as O"
   ]
  },
  {
   "cell_type": "code",
   "execution_count": 3,
   "id": "330d9db5",
   "metadata": {},
   "outputs": [],
   "source": [
    "omama = pydicom.dcmread(\"/hpcstor6/scratch01/r/ryan.zurrin001/deephealth/dh_dcm_ast/2.25.100023834138724144715875938732458164944/DXm.2.25.114605502330206081390757163180312106015\")"
   ]
  },
  {
   "cell_type": "code",
   "execution_count": 4,
   "id": "81f9838d",
   "metadata": {},
   "outputs": [
    {
     "data": {
      "text/plain": [
       "Dataset.file_meta -------------------------------\n",
       "(0002, 0000) File Meta Information Group Length  UL: 192\n",
       "(0002, 0001) File Meta Information Version       OB: b'\\x00\\x01'\n",
       "(0002, 0002) Media Storage SOP Class UID         UI: Digital Mammography X-Ray Image Storage - For Presentation\n",
       "(0002, 0003) Media Storage SOP Instance UID      UI: 2.25.114605502330206081390757163180312106015\n",
       "(0002, 0010) Transfer Syntax UID                 UI: JPEG Lossless, Non-Hierarchical, First-Order Prediction (Process 14 [Selection Value 1])\n",
       "(0002, 0012) Implementation Class UID            UI: 1.2.276.0.7230010.3.0.3.6.4\n",
       "(0002, 0013) Implementation Version Name         SH: 'OFFIS_DCMTK_364'\n",
       "-------------------------------------------------\n",
       "(0008, 0005) Specific Character Set              CS: 'ISO_IR 100'\n",
       "(0008, 0008) Image Type                          CS: ['ORIGINAL', 'PRIMARY', '']\n",
       "(0008, 0016) SOP Class UID                       UI: Digital Mammography X-Ray Image Storage - For Presentation\n",
       "(0008, 0018) SOP Instance UID                    UI: 2.25.114605502330206081390757163180312106015\n",
       "(0008, 0020) Study Date                          DA: ''\n",
       "(0008, 0021) Series Date                         DA: ''\n",
       "(0008, 0023) Content Date                        DA: ''\n",
       "(0008, 0030) Study Time                          TM: ''\n",
       "(0008, 0033) Content Time                        TM: ''\n",
       "(0008, 0050) Accession Number                    SH: 'DHK2WOTSCAKC'\n",
       "(0008, 0060) Modality                            CS: 'MG'\n",
       "(0008, 0064) Conversion Type                     CS: 'WSD'\n",
       "(0008, 0068) Presentation Intent Type            CS: 'FOR PRESENTATION'\n",
       "(0008, 0070) Manufacturer                        LO: 'GE MEDICAL SYSTEMS'\n",
       "(0008, 0080) Institution Name                    LO: ''\n",
       "(0008, 1030) Study Description                   LO: 'MAMMO SCREENING BILATERAL DIGITAL W CAD'\n",
       "(0008, 103e) Series Description                  LO: 'MAMMO SCREENING BILATERAL DIGITAL W CAD'\n",
       "(0008, 1090) Manufacturer's Model Name           LO: 'Senographe Essential VERSION ADS_53.40'\n",
       "(0008, 2218)  Anatomic Region Sequence   1 item(s) ---- \n",
       "   (0008, 0100) Code Value                          SH: 'T-04000'\n",
       "   (0008, 0102) Coding Scheme Designator            SH: 'SNM3'\n",
       "   (0008, 0104) Code Meaning                        LO: 'BREAST'\n",
       "   ---------\n",
       "(0010, 0010) Patient's Name                      PN: ''\n",
       "(0010, 0020) Patient ID                          LO: 'DHB213T38WCM'\n",
       "(0010, 0030) Patient's Birth Date                DA: ''\n",
       "(0010, 0040) Patient's Sex                       CS: ''\n",
       "(0010, 1010) Patient's Age                       AS: '625M'\n",
       "(0018, 0015) Body Part Examined                  CS: 'BREAST'\n",
       "(0018, 0060) KVP                                 DS: \"27.0\"\n",
       "(0018, 1110) Distance Source to Detector         DS: \"660.0\"\n",
       "(0018, 1111) Distance Source to Patient          DS: \"660.0\"\n",
       "(0018, 1114) Estimated Radiographic Magnificatio DS: \"1.0\"\n",
       "(0018, 1147) Field of View Shape                 CS: 'RECTANGLE'\n",
       "(0018, 1149) Field of View Dimension(s)          IS: [229, 191]\n",
       "(0018, 1150) Exposure Time                       IS: \"572\"\n",
       "(0018, 1151) X-Ray Tube Current                  IS: \"100\"\n",
       "(0018, 1152) Exposure                            IS: \"57\"\n",
       "(0018, 1153) Exposure in uAs                     IS: \"57400\"\n",
       "(0018, 1160) Filter Type                         SH: 'STRIP'\n",
       "(0018, 1164) Imager Pixel Spacing                DS: [0.09409090909091, 0.09409090909091]\n",
       "(0018, 1166) Grid                                CS: ['RECIPROCATING', 'FOCUSED']\n",
       "(0018, 1190) Focal Spot(s)                       DS: \"0.3\"\n",
       "(0018, 1191) Anode Target Material               CS: 'MOLYBDENUM'\n",
       "(0018, 11a0) Body Part Thickness                 DS: \"43.0\"\n",
       "(0018, 11a2) Compression Force                   DS: \"70.0\"\n",
       "(0018, 1401) Acquisition Device Processing Code  LO: 'GEMS_FFDM_PV'\n",
       "(0018, 1405) Relative X-Ray Exposure             IS: \"4129\"\n",
       "(0018, 1508) Positioner Type                     CS: 'MAMMOGRAPHIC'\n",
       "(0018, 1510) Positioner Primary Angle            DS: \"45.0\"\n",
       "(0018, 1531) Detector Secondary Angle            DS: \"0.0\"\n",
       "(0018, 1700) Collimator Shape                    CS: 'RECTANGULAR'\n",
       "(0018, 1702) Collimator Left Vertical Edge       IS: \"0\"\n",
       "(0018, 1704) Collimator Right Vertical Edge      IS: \"1915\"\n",
       "(0018, 1706) Collimator Upper Horizontal Edge    IS: \"0\"\n",
       "(0018, 1708) Collimator Lower Horizontal Edge    IS: \"2295\"\n",
       "(0018, 5101) View Position                       CS: 'MLO'\n",
       "(0018, 6000) Sensitivity                         DS: \"0.00952793750912\"\n",
       "(0018, 7000) Detector Conditions Nominal Flag    CS: 'YES'\n",
       "(0018, 7001) Detector Temperature                DS: \"30.523681640625\"\n",
       "(0018, 7004) Detector Type                       CS: 'SCINTILLATOR'\n",
       "(0018, 7005) Detector Configuration              CS: 'AREA'\n",
       "(0018, 7006) Detector Description                LT: 'DETECTOR VERSION 2.0 MTFCOMP 2.1'\n",
       "(0018, 701a) Detector Binning                    DS: [1, 1]\n",
       "(0018, 7020) Detector Element Physical Size      DS: [0.1, 0.1]\n",
       "(0018, 7022) Detector Element Spacing            DS: [0.1, 0.1]\n",
       "(0018, 7024) Detector Active Shape               CS: 'RECTANGLE'\n",
       "(0018, 7026) Detector Active Dimension(s)        DS: [307.2, 240]\n",
       "(0018, 7030) Field of View Origin                DS: [5, 1]\n",
       "(0018, 7032) Field of View Rotation              DS: \"180.0\"\n",
       "(0018, 7034) Field of View Horizontal Flip       CS: 'NO'\n",
       "(0018, 7050) Filter Material                     CS: 'RHODIUM'\n",
       "(0018, 7060) Exposure Control Mode               CS: 'AUTOMATIC'\n",
       "(0018, 7062) Exposure Control Mode Description   LT: 'AOP standard RECTANGLE 340 mm 1603 mm 180 mm 240 mm EXP DOSE 68256 nGy PRE-EXP DOSE 2976 nGy PRE-EXP THICK 39 mm PRE-EXP COMPO 50 % PRE-EXP KV 25 PRE-EXP TRACK Mo PRE-EXP FILTER Rh PADDLE 16 FLATFIELD no'\n",
       "(0018, 7064) Exposure Status                     CS: 'NORMAL'\n",
       "(0020, 000d) Study Instance UID                  UI: 2.25.100023834138724144715875938732458164944\n",
       "(0020, 000e) Series Instance UID                 UI: 2.25.139007448577090581669896837718638726067\n",
       "(0020, 0011) Series Number                       IS: \"76919\"\n",
       "(0020, 0013) Instance Number                     IS: \"3\"\n",
       "(0020, 0020) Patient Orientation                 CS: ['P', 'FL']\n",
       "(0020, 0062) Image Laterality                    CS: 'R'\n",
       "(0028, 0002) Samples per Pixel                   US: 1\n",
       "(0028, 0004) Photometric Interpretation          CS: 'MONOCHROME2'\n",
       "(0028, 0010) Rows                                US: 2294\n",
       "(0028, 0011) Columns                             US: 1914\n",
       "(0028, 0100) Bits Allocated                      US: 16\n",
       "(0028, 0101) Bits Stored                         US: 12\n",
       "(0028, 0102) High Bit                            US: 11\n",
       "(0028, 0103) Pixel Representation                US: 0\n",
       "(0028, 0120) Pixel Padding Value                 US: 0\n",
       "(0028, 0121) Pixel Padding Range Limit           US: 490\n",
       "(0028, 0300) Quality Control Image               CS: 'NO'\n",
       "(0028, 0301) Burned In Annotation                CS: 'NO'\n",
       "(0028, 1040) Pixel Intensity Relationship        CS: 'LOG'\n",
       "(0028, 1041) Pixel Intensity Relationship Sign   SS: -1\n",
       "(0028, 1050) Window Center                       DS: [2641, 2683, 2563]\n",
       "(0028, 1051) Window Width                        DS: [900, 750, 1050]\n",
       "(0028, 1052) Rescale Intercept                   DS: \"0.0\"\n",
       "(0028, 1053) Rescale Slope                       DS: \"1.0\"\n",
       "(0028, 1054) Rescale Type                        LO: 'US'\n",
       "(0028, 1055) Window Center & Width Explanation   LO: ['NORMAL', 'HARDER', 'SOFTER']\n",
       "(0028, 1056) VOI LUT Function                    CS: 'SIGMOID'\n",
       "(0028, 1300) Breast Implant Present              CS: 'NO'\n",
       "(0028, 2110) Lossy Image Compression             CS: '00'\n",
       "(0028, 3010)  VOI LUT Sequence   3 item(s) ---- \n",
       "   (0028, 3002) LUT Descriptor                      US: [3479, 613, 12]\n",
       "   (0028, 3003) LUT Explanation                     LO: 'NORMAL'\n",
       "   (0028, 3006) LUT Data                            US: Array of 3479 elements\n",
       "   ---------\n",
       "   (0028, 3002) LUT Descriptor                      US: [3079, 993, 12]\n",
       "   (0028, 3003) LUT Explanation                     LO: 'HARDER'\n",
       "   (0028, 3006) LUT Data                            US: Array of 3079 elements\n",
       "   ---------\n",
       "   (0028, 3002) LUT Descriptor                      US: [3887, 197, 12]\n",
       "   (0028, 3003) LUT Explanation                     LO: 'SOFTER'\n",
       "   (0028, 3006) LUT Data                            US: Array of 3887 elements\n",
       "   ---------\n",
       "(0040, 0302) Entrance Dose                       US: 0\n",
       "(0040, 0306) Distance Source to Entrance         DS: \"617.0\"\n",
       "(0040, 0316) Organ Dose                          DS: \"0.01019\"\n",
       "(0040, 0318) Organ Exposed                       CS: 'BREAST'\n",
       "(0040, 8302) Entrance Dose in mGy                DS: \"4.129\"\n",
       "(0054, 0220)  View Code Sequence   1 item(s) ---- \n",
       "   (0008, 0100) Code Value                          SH: 'R-10226'\n",
       "   (0008, 0102) Coding Scheme Designator            SH: 'SNM3'\n",
       "   (0008, 0104) Code Meaning                        LO: 'medio-lateral oblique'\n",
       "   (0054, 0222)  View Modifier Code Sequence   0 item(s) ---- \n",
       "   ---------\n",
       "(2050, 0020) Presentation LUT Shape              CS: 'IDENTITY'\n",
       "(7fe0, 0010) Pixel Data                          OB: Array of 2692536 elements"
      ]
     },
     "execution_count": 4,
     "metadata": {},
     "output_type": "execute_result"
    }
   ],
   "source": [
    "omama"
   ]
  },
  {
   "cell_type": "code",
   "execution_count": 5,
   "id": "2acf2f4f",
   "metadata": {},
   "outputs": [],
   "source": [
    "kaggle = pydicom.dcmread(\"/raid/mpsych/kaggle_mammograms/original/train_images/10006/1874946579.dcm\")"
   ]
  },
  {
   "cell_type": "code",
   "execution_count": 6,
   "id": "2d5d6513",
   "metadata": {},
   "outputs": [
    {
     "data": {
      "text/plain": [
       "Dataset.file_meta -------------------------------\n",
       "(0002, 0001) File Meta Information Version       OB: b'\\x00\\x01'\n",
       "(0002, 0002) Media Storage SOP Class UID         UI: Digital X-Ray Image Storage - For Presentation\n",
       "(0002, 0003) Media Storage SOP Instance UID      UI: 1.2.840.10009.1.2.3.10006.1.1874946579\n",
       "(0002, 0010) Transfer Syntax UID                 UI: JPEG 2000 Image Compression (Lossless Only)\n",
       "(0002, 0012) Implementation Class UID            UI: 1.2.840.113654.2.3.1995.2.12.0\n",
       "(0002, 0013) Implementation Version Name         SH: 'PYDICOM 2.3.0'\n",
       "-------------------------------------------------\n",
       "(0008, 0018) SOP Instance UID                    UI: 1.2.840.10009.1.2.3.10006.1.1874946579\n",
       "(0008, 0023) Content Date                        DA: '20221118'\n",
       "(0008, 0033) Content Time                        TM: '183902.142082'\n",
       "(0010, 0020) Patient ID                          LO: '10006'\n",
       "(0020, 000d) Study Instance UID                  UI: 1.2.840.10009.1.2.3.10006\n",
       "(0020, 000e) Series Instance UID                 UI: 1.2.840.10009.1.2.3.10006.1\n",
       "(0020, 0013) Instance Number                     IS: \"1874946579\"\n",
       "(0020, 0062) Image Laterality                    CS: 'R'\n",
       "(0028, 0002) Samples per Pixel                   US: 1\n",
       "(0028, 0004) Photometric Interpretation          CS: 'MONOCHROME1'\n",
       "(0028, 0010) Rows                                US: 5355\n",
       "(0028, 0011) Columns                             US: 4915\n",
       "(0028, 0100) Bits Allocated                      US: 16\n",
       "(0028, 0101) Bits Stored                         US: 16\n",
       "(0028, 0102) High Bit                            US: 15\n",
       "(0028, 0103) Pixel Representation                US: 0\n",
       "(0028, 0120) Pixel Padding Value                 US: 3044\n",
       "(0028, 1040) Pixel Intensity Relationship        CS: 'LOG'\n",
       "(0028, 1041) Pixel Intensity Relationship Sign   SS: 1\n",
       "(0028, 1050) Window Center                       DS: [1802.310000, 1802.310000, 2020.704000, 1583.916000]\n",
       "(0028, 1051) Window Width                        DS: [1091.970000, 1091.970000, 1091.970000, 1091.970000]\n",
       "(0028, 1052) Rescale Intercept                   DS: \"0.0\"\n",
       "(0028, 1053) Rescale Slope                       DS: \"1.0\"\n",
       "(0028, 1054) Rescale Type                        LO: 'US'\n",
       "(0028, 1056) VOI LUT Function                    CS: 'SIGMOID'\n",
       "(0028, 1350) Partial View                        CS: 'NO'\n",
       "(0028, 2110) Lossy Image Compression             CS: '00'\n",
       "(7fe0, 0010) Pixel Data                          OW: Array of 2372022 elements"
      ]
     },
     "execution_count": 6,
     "metadata": {},
     "output_type": "execute_result"
    }
   ],
   "source": [
    "kaggle"
   ]
  },
  {
   "cell_type": "code",
   "execution_count": null,
   "id": "29df1977",
   "metadata": {},
   "outputs": [],
   "source": []
  },
  {
   "cell_type": "code",
   "execution_count": 7,
   "id": "59e54038",
   "metadata": {},
   "outputs": [
    {
     "data": {
      "text/plain": [
       "<matplotlib.image.AxesImage at 0x7f2cfec4c8b0>"
      ]
     },
     "execution_count": 7,
     "metadata": {},
     "output_type": "execute_result"
    },
    {
     "data": {
      "image/png": "[encoded data removed]",
      "text/plain": [
       "<Figure size 432x288 with 1 Axes>"
      ]
     },
     "metadata": {
      "needs_background": "light"
     },
     "output_type": "display_data"
    }
   ],
   "source": [
    "imshow(omama.pixel_array)"
   ]
  },
  {
   "cell_type": "code",
   "execution_count": 8,
   "id": "e57bbcef",
   "metadata": {},
   "outputs": [
    {
     "data": {
      "text/plain": [
       "<matplotlib.image.AxesImage at 0x7f2cfe3c0310>"
      ]
     },
     "execution_count": 8,
     "metadata": {},
     "output_type": "execute_result"
    },
    {
     "data": {
      "image/png": "[encoded data removed]",
      "text/plain": [
       "<Figure size 432x288 with 1 Axes>"
      ]
     },
     "metadata": {
      "needs_background": "light"
     },
     "output_type": "display_data"
    }
   ],
   "source": [
    "imshow(kaggle.pixel_array)"
   ]
  },
  {
   "cell_type": "code",
   "execution_count": 13,
   "id": "99e852a4",
   "metadata": {},
   "outputs": [
    {
     "name": "stdout",
     "output_type": "stream",
     "text": [
      "New dicom saved to /home/ryan.zurrin001/Projects/CS410-Omama/_EXPERIMENTS/KAGGLE/kaggle_deepsight_images/DXm.1459541791Xx2.dcm\n"
     ]
    }
   ],
   "source": [
    "from pathlib import Path\n",
    "path = Path(\"/home/ryan.zurrin001/Projects/CS410-Omama/_EXPERIMENTS/KAGGLE/kaggle_deepsight_images/DXm.1459541791Xx2.dcm\")\n",
    "kagoma = K.DicomCopyMachine(omama,kaggle,path)"
   ]
  },
  {
   "cell_type": "code",
   "execution_count": 14,
   "id": "9643d73c",
   "metadata": {},
   "outputs": [
    {
     "data": {
      "text/plain": [
       "<matplotlib.image.AxesImage at 0x7f2cff0f3430>"
      ]
     },
     "execution_count": 14,
     "metadata": {},
     "output_type": "execute_result"
    },
    {
     "data": {
      "image/png": "[encoded data removed]",
      "text/plain": [
       "<Figure size 432x288 with 1 Axes>"
      ]
     },
     "metadata": {
      "needs_background": "light"
     },
     "output_type": "display_data"
    }
   ],
   "source": [
    "imshow(kagoma.dicom_C.pixel_array)"
   ]
  },
  {
   "cell_type": "code",
   "execution_count": 87,
   "id": "7d97dd8a",
   "metadata": {},
   "outputs": [],
   "source": [
    "test = pydicom.dcmread(\"DXm.1459541791Xx2.dcm\")"
   ]
  },
  {
   "cell_type": "code",
   "execution_count": 88,
   "id": "160bd43c",
   "metadata": {},
   "outputs": [
    {
     "data": {
      "image/png": "[encoded data removed]",
      "text/plain": [
       "<Figure size 432x288 with 1 Axes>"
      ]
     },
     "metadata": {
      "needs_background": "light"
     },
     "output_type": "display_data"
    }
   ],
   "source": [
    "kagoma.view_dicom()"
   ]
  },
  {
   "cell_type": "code",
   "execution_count": 89,
   "id": "b1e1c7be",
   "metadata": {},
   "outputs": [
    {
     "data": {
      "text/plain": [
       "<matplotlib.image.AxesImage at 0x7f95328cd3a0>"
      ]
     },
     "execution_count": 89,
     "metadata": {},
     "output_type": "execute_result"
    },
    {
     "data": {
      "image/png": "[encoded data removed]",
      "text/plain": [
       "<Figure size 432x288 with 1 Axes>"
      ]
     },
     "metadata": {
      "needs_background": "light"
     },
     "output_type": "display_data"
    }
   ],
   "source": [
    "imshow(test.pixel_array)"
   ]
  },
  {
   "cell_type": "code",
   "execution_count": 90,
   "id": "4203ef6f",
   "metadata": {},
   "outputs": [
    {
     "data": {
      "text/plain": [
       "\"1874946579\""
      ]
     },
     "execution_count": 90,
     "metadata": {},
     "output_type": "execute_result"
    }
   ],
   "source": [
    "kagoma.dicom_C.InstanceNumber"
   ]
  },
  {
   "cell_type": "code",
   "execution_count": 91,
   "id": "626d3030",
   "metadata": {},
   "outputs": [
    {
     "data": {
      "text/plain": [
       "Dataset.file_meta -------------------------------\n",
       "(0002, 0000) File Meta Information Group Length  UL: 192\n",
       "(0002, 0001) File Meta Information Version       OB: b'\\x00\\x01'\n",
       "(0002, 0002) Media Storage SOP Class UID         UI: Digital Mammography X-Ray Image Storage - For Presentation\n",
       "(0002, 0003) Media Storage SOP Instance UID      UI: 2.25.114605502330206081390757163180312106015\n",
       "(0002, 0010) Transfer Syntax UID                 UI: JPEG 2000 Image Compression (Lossless Only)\n",
       "(0002, 0012) Implementation Class UID            UI: 1.2.276.0.7230010.3.0.3.6.4\n",
       "(0002, 0013) Implementation Version Name         SH: 'OFFIS_DCMTK_364'\n",
       "-------------------------------------------------\n",
       "(0008, 0005) Specific Character Set              CS: 'ISO_IR 100'\n",
       "(0008, 0008) Image Type                          CS: ['ORIGINAL', 'PRIMARY', '']\n",
       "(0008, 0016) SOP Class UID                       UI: Digital Mammography X-Ray Image Storage - For Presentation\n",
       "(0008, 0018) SOP Instance UID                    UI: 2.25.114605502330206081390757163180312106015\n",
       "(0008, 0020) Study Date                          DA: ''\n",
       "(0008, 0021) Series Date                         DA: ''\n",
       "(0008, 0023) Content Date                        DA: ''\n",
       "(0008, 0030) Study Time                          TM: ''\n",
       "(0008, 0033) Content Time                        TM: ''\n",
       "(0008, 0050) Accession Number                    SH: 'DHK2WOTSCAKC'\n",
       "(0008, 0060) Modality                            CS: 'MG'\n",
       "(0008, 0064) Conversion Type                     CS: 'WSD'\n",
       "(0008, 0068) Presentation Intent Type            CS: 'FOR PRESENTATION'\n",
       "(0008, 0070) Manufacturer                        LO: 'GE MEDICAL SYSTEMS'\n",
       "(0008, 0080) Institution Name                    LO: ''\n",
       "(0008, 1030) Study Description                   LO: 'MAMMO SCREENING BILATERAL DIGITAL W CAD'\n",
       "(0008, 103e) Series Description                  LO: 'MAMMO SCREENING BILATERAL DIGITAL W CAD'\n",
       "(0008, 1090) Manufacturer's Model Name           LO: 'Senographe Essential VERSION ADS_53.40'\n",
       "(0008, 2218)  Anatomic Region Sequence   1 item(s) ---- \n",
       "   (0008, 0100) Code Value                          SH: 'T-04000'\n",
       "   (0008, 0102) Coding Scheme Designator            SH: 'SNM3'\n",
       "   (0008, 0104) Code Meaning                        LO: 'BREAST'\n",
       "   ---------\n",
       "(0010, 0010) Patient's Name                      PN: ''\n",
       "(0010, 0020) Patient ID                          LO: 'DHB213T38WCM'\n",
       "(0010, 0030) Patient's Birth Date                DA: ''\n",
       "(0010, 0040) Patient's Sex                       CS: ''\n",
       "(0010, 1010) Patient's Age                       AS: '625M'\n",
       "(0018, 0015) Body Part Examined                  CS: 'BREAST'\n",
       "(0018, 0060) KVP                                 DS: \"27.0\"\n",
       "(0018, 1110) Distance Source to Detector         DS: \"660.0\"\n",
       "(0018, 1111) Distance Source to Patient          DS: \"660.0\"\n",
       "(0018, 1114) Estimated Radiographic Magnificatio DS: \"1.0\"\n",
       "(0018, 1147) Field of View Shape                 CS: 'RECTANGLE'\n",
       "(0018, 1149) Field of View Dimension(s)          IS: [229, 191]\n",
       "(0018, 1150) Exposure Time                       IS: \"572\"\n",
       "(0018, 1151) X-Ray Tube Current                  IS: \"100\"\n",
       "(0018, 1152) Exposure                            IS: \"57\"\n",
       "(0018, 1153) Exposure in uAs                     IS: \"57400\"\n",
       "(0018, 1160) Filter Type                         SH: 'STRIP'\n",
       "(0018, 1164) Imager Pixel Spacing                DS: [0.09409090909091, 0.09409090909091]\n",
       "(0018, 1166) Grid                                CS: ['RECIPROCATING', 'FOCUSED']\n",
       "(0018, 1190) Focal Spot(s)                       DS: \"0.3\"\n",
       "(0018, 1191) Anode Target Material               CS: 'MOLYBDENUM'\n",
       "(0018, 11a0) Body Part Thickness                 DS: \"43.0\"\n",
       "(0018, 11a2) Compression Force                   DS: \"70.0\"\n",
       "(0018, 1401) Acquisition Device Processing Code  LO: 'GEMS_FFDM_PV'\n",
       "(0018, 1405) Relative X-Ray Exposure             IS: \"4129\"\n",
       "(0018, 1508) Positioner Type                     CS: 'MAMMOGRAPHIC'\n",
       "(0018, 1510) Positioner Primary Angle            DS: \"45.0\"\n",
       "(0018, 1531) Detector Secondary Angle            DS: \"0.0\"\n",
       "(0018, 1700) Collimator Shape                    CS: 'RECTANGULAR'\n",
       "(0018, 1702) Collimator Left Vertical Edge       IS: \"0\"\n",
       "(0018, 1704) Collimator Right Vertical Edge      IS: \"1915\"\n",
       "(0018, 1706) Collimator Upper Horizontal Edge    IS: \"0\"\n",
       "(0018, 1708) Collimator Lower Horizontal Edge    IS: \"2295\"\n",
       "(0018, 5101) View Position                       CS: 'MLO'\n",
       "(0018, 6000) Sensitivity                         DS: \"0.00952793750912\"\n",
       "(0018, 7000) Detector Conditions Nominal Flag    CS: 'YES'\n",
       "(0018, 7001) Detector Temperature                DS: \"30.523681640625\"\n",
       "(0018, 7004) Detector Type                       CS: 'SCINTILLATOR'\n",
       "(0018, 7005) Detector Configuration              CS: 'AREA'\n",
       "(0018, 7006) Detector Description                LT: 'DETECTOR VERSION 2.0 MTFCOMP 2.1'\n",
       "(0018, 701a) Detector Binning                    DS: [1, 1]\n",
       "(0018, 7020) Detector Element Physical Size      DS: [0.1, 0.1]\n",
       "(0018, 7022) Detector Element Spacing            DS: [0.1, 0.1]\n",
       "(0018, 7024) Detector Active Shape               CS: 'RECTANGLE'\n",
       "(0018, 7026) Detector Active Dimension(s)        DS: [307.2, 240]\n",
       "(0018, 7030) Field of View Origin                DS: [5, 1]\n",
       "(0018, 7032) Field of View Rotation              DS: \"180.0\"\n",
       "(0018, 7034) Field of View Horizontal Flip       CS: 'NO'\n",
       "(0018, 7050) Filter Material                     CS: 'RHODIUM'\n",
       "(0018, 7060) Exposure Control Mode               CS: 'AUTOMATIC'\n",
       "(0018, 7062) Exposure Control Mode Description   LT: 'AOP standard RECTANGLE 340 mm 1603 mm 180 mm 240 mm EXP DOSE 68256 nGy PRE-EXP DOSE 2976 nGy PRE-EXP THICK 39 mm PRE-EXP COMPO 50 % PRE-EXP KV 25 PRE-EXP TRACK Mo PRE-EXP FILTER Rh PADDLE 16 FLATFIELD no'\n",
       "(0018, 7064) Exposure Status                     CS: 'NORMAL'\n",
       "(0020, 000d) Study Instance UID                  UI: 2.25.100023834138724144715875938732458164944\n",
       "(0020, 000e) Series Instance UID                 UI: 2.25.139007448577090581669896837718638726067\n",
       "(0020, 0011) Series Number                       IS: \"76919\"\n",
       "(0020, 0013) Instance Number                     IS: \"1874946579\"\n",
       "(0020, 0020) Patient Orientation                 CS: ['P', 'FL']\n",
       "(0020, 0062) Image Laterality                    CS: 'R'\n",
       "(0028, 0002) Samples per Pixel                   US: 1\n",
       "(0028, 0004) Photometric Interpretation          CS: 'MONOCHROME1'\n",
       "(0028, 0010) Rows                                US: 5355\n",
       "(0028, 0011) Columns                             US: 4915\n",
       "(0028, 0100) Bits Allocated                      US: 16\n",
       "(0028, 0101) Bits Stored                         US: 16\n",
       "(0028, 0102) High Bit                            US: 15\n",
       "(0028, 0103) Pixel Representation                US: 0\n",
       "(0028, 0120) Pixel Padding Value                 US: 3044\n",
       "(0028, 0121) Pixel Padding Range Limit           US: 490\n",
       "(0028, 0300) Quality Control Image               CS: 'NO'\n",
       "(0028, 0301) Burned In Annotation                CS: 'NO'\n",
       "(0028, 1040) Pixel Intensity Relationship        CS: 'LOG'\n",
       "(0028, 1041) Pixel Intensity Relationship Sign   SS: 1\n",
       "(0028, 1050) Window Center                       DS: [1802.310000, 1802.310000, 2020.704000, 1583.916000]\n",
       "(0028, 1051) Window Width                        DS: [1091.970000, 1091.970000, 1091.970000, 1091.970000]\n",
       "(0028, 1052) Rescale Intercept                   DS: \"0.0\"\n",
       "(0028, 1053) Rescale Slope                       DS: \"1.0\"\n",
       "(0028, 1054) Rescale Type                        LO: 'US'\n",
       "(0028, 1055) Window Center & Width Explanation   LO: ['NORMAL', 'HARDER', 'SOFTER']\n",
       "(0028, 1056) VOI LUT Function                    CS: 'SIGMOID'\n",
       "(0028, 1300) Breast Implant Present              CS: 'NO'\n",
       "(0028, 1350) Partial View                        CS: 'NO'\n",
       "(0028, 2110) Lossy Image Compression             CS: '00'\n",
       "(0040, 0302) Entrance Dose                       US: 0\n",
       "(0040, 0306) Distance Source to Entrance         DS: \"617.0\"\n",
       "(0040, 0316) Organ Dose                          DS: \"0.01019\"\n",
       "(0040, 0318) Organ Exposed                       CS: 'BREAST'\n",
       "(0040, 8302) Entrance Dose in mGy                DS: \"4.129\"\n",
       "(0054, 0220)  View Code Sequence   1 item(s) ---- \n",
       "   (0008, 0100) Code Value                          SH: 'R-10226'\n",
       "   (0008, 0102) Coding Scheme Designator            SH: 'SNM3'\n",
       "   (0008, 0104) Code Meaning                        LO: 'medio-lateral oblique'\n",
       "   (0054, 0222)  View Modifier Code Sequence   0 item(s) ---- \n",
       "   ---------\n",
       "(2050, 0020) Presentation LUT Shape              CS: 'IDENTITY'\n",
       "(7fe0, 0010) Pixel Data                          OB: Array of 2372022 elements"
      ]
     },
     "execution_count": 91,
     "metadata": {},
     "output_type": "execute_result"
    }
   ],
   "source": [
    "kagoma.dicom_C"
   ]
  },
  {
   "cell_type": "code",
   "execution_count": null,
   "id": "1df6b9c0",
   "metadata": {},
   "outputs": [],
   "source": []
  },
  {
   "cell_type": "code",
   "execution_count": 92,
   "id": "b8f238cc",
   "metadata": {},
   "outputs": [
    {
     "name": "stdout",
     "output_type": "stream",
     "text": [
      "Running dicom fixer on files located at /home/ryan.zurrin001/Projects/CS410-Omama/_EXPERIMENTS/KAGGLE/kaggle_deepsight_images\n",
      "DICOM_DIR: /home/ryan.zurrin001/Projects/CS410-Omama/_EXPERIMENTS/KAGGLE/kaggle_deepsight_images/DXm.1459541791Xx2.dcm\n",
      "OUTPUT_DIR: /home/ryan.zurrin001/Projects/CS410-Omama/_EXPERIMENTS/KAGGLE/kaggle_deepsight_images\n",
      "CSV_PATH: /hpcstor6/scratch01/r/ryan.zurrin001/train.csv\n",
      "Single dicom file found: /home/ryan.zurrin001/Projects/CS410-Omama/_EXPERIMENTS/KAGGLE/kaggle_deepsight_images/DXm.1459541791Xx2.dcm\n",
      "Reading csv file: /hpcstor6/scratch01/r/ryan.zurrin001/train.csv\n",
      "Fixing 1 dicom files in /home/ryan.zurrin001/Projects/CS410-Omama/_EXPERIMENTS/KAGGLE/kaggle_deepsight_images/DXm.1459541791Xx2.dcm\n",
      "Finished fixing 0 dicom files in 0.017310380935668945 seconds.\n",
      "Finished fixing 1 dicom files in 0.017319440841674805 seconds.\n"
     ]
    }
   ],
   "source": [
    "kagoma.dicom_fixer()"
   ]
  },
  {
   "cell_type": "code",
   "execution_count": 93,
   "id": "a6176cb0",
   "metadata": {},
   "outputs": [],
   "source": [
    "test = pydicom.dcmread(\"kaggle_deepsight_images/DXm.1459541791Xx2.dcm\")"
   ]
  },
  {
   "cell_type": "code",
   "execution_count": 94,
   "id": "b49ba72a",
   "metadata": {},
   "outputs": [
    {
     "data": {
      "text/plain": [
       "Dataset.file_meta -------------------------------\n",
       "(0002, 0000) File Meta Information Group Length  UL: 192\n",
       "(0002, 0001) File Meta Information Version       OB: b'\\x00\\x01'\n",
       "(0002, 0002) Media Storage SOP Class UID         UI: Digital Mammography X-Ray Image Storage - For Presentation\n",
       "(0002, 0003) Media Storage SOP Instance UID      UI: 2.25.114605502330206081390757163180312106015\n",
       "(0002, 0010) Transfer Syntax UID                 UI: JPEG 2000 Image Compression (Lossless Only)\n",
       "(0002, 0012) Implementation Class UID            UI: 1.2.276.0.7230010.3.0.3.6.4\n",
       "(0002, 0013) Implementation Version Name         SH: 'OFFIS_DCMTK_364'\n",
       "-------------------------------------------------\n",
       "(0008, 0005) Specific Character Set              CS: 'ISO_IR 100'\n",
       "(0008, 0008) Image Type                          CS: ['ORIGINAL', 'PRIMARY', '']\n",
       "(0008, 0016) SOP Class UID                       UI: Digital Mammography X-Ray Image Storage - For Presentation\n",
       "(0008, 0018) SOP Instance UID                    UI: 2.25.114605502330206081390757163180312106015\n",
       "(0008, 0020) Study Date                          DA: ''\n",
       "(0008, 0021) Series Date                         DA: ''\n",
       "(0008, 0023) Content Date                        DA: ''\n",
       "(0008, 0030) Study Time                          TM: ''\n",
       "(0008, 0033) Content Time                        TM: ''\n",
       "(0008, 0050) Accession Number                    SH: 'TSKMETWAVYCR'\n",
       "(0008, 0060) Modality                            CS: 'MG'\n",
       "(0008, 0064) Conversion Type                     CS: 'WSD'\n",
       "(0008, 0068) Presentation Intent Type            CS: 'FOR PRESENTATION'\n",
       "(0008, 0070) Manufacturer                        LO: 'GE MEDICAL SYSTEMS'\n",
       "(0008, 0080) Institution Name                    LO: ''\n",
       "(0008, 1030) Study Description                   LO: 'MAMMO SCREENING BILATERAL DIGITAL W CAD'\n",
       "(0008, 103e) Series Description                  LO: 'MAMMO SCREENING BILATERAL DIGITAL W CAD'\n",
       "(0008, 1090) Manufacturer's Model Name           LO: 'Senographe Essential VERSION ADS_53.40'\n",
       "(0008, 2218)  Anatomic Region Sequence   1 item(s) ---- \n",
       "   (0008, 0100) Code Value                          SH: 'T-04000'\n",
       "   (0008, 0102) Coding Scheme Designator            SH: 'SNM3'\n",
       "   (0008, 0104) Code Meaning                        LO: 'BREAST'\n",
       "   ---------\n",
       "(0010, 0010) Patient's Name                      PN: ''\n",
       "(0010, 0020) Patient ID                          LO: 'DHB213T38WCM'\n",
       "(0010, 0030) Patient's Birth Date                DA: ''\n",
       "(0010, 0040) Patient's Sex                       CS: ''\n",
       "(0010, 1010) Patient's Age                       AS: '732m'\n",
       "(0018, 0015) Body Part Examined                  CS: 'BREAST'\n",
       "(0018, 0060) KVP                                 DS: \"27.0\"\n",
       "(0018, 1110) Distance Source to Detector         DS: \"660.0\"\n",
       "(0018, 1111) Distance Source to Patient          DS: \"660.0\"\n",
       "(0018, 1114) Estimated Radiographic Magnificatio DS: \"1.0\"\n",
       "(0018, 1147) Field of View Shape                 CS: 'RECTANGLE'\n",
       "(0018, 1149) Field of View Dimension(s)          IS: [229, 191]\n",
       "(0018, 1150) Exposure Time                       IS: \"572\"\n",
       "(0018, 1151) X-Ray Tube Current                  IS: \"100\"\n",
       "(0018, 1152) Exposure                            IS: \"57\"\n",
       "(0018, 1153) Exposure in uAs                     IS: \"57400\"\n",
       "(0018, 1160) Filter Type                         SH: 'STRIP'\n",
       "(0018, 1164) Imager Pixel Spacing                DS: [0.09409090909091, 0.09409090909091]\n",
       "(0018, 1166) Grid                                CS: ['RECIPROCATING', 'FOCUSED']\n",
       "(0018, 1190) Focal Spot(s)                       DS: \"0.3\"\n",
       "(0018, 1191) Anode Target Material               CS: 'MOLYBDENUM'\n",
       "(0018, 11a0) Body Part Thickness                 DS: \"43.0\"\n",
       "(0018, 11a2) Compression Force                   DS: \"70.0\"\n",
       "(0018, 1401) Acquisition Device Processing Code  LO: 'GEMS_FFDM_PV'\n",
       "(0018, 1405) Relative X-Ray Exposure             IS: \"4129\"\n",
       "(0018, 1508) Positioner Type                     CS: 'MAMMOGRAPHIC'\n",
       "(0018, 1510) Positioner Primary Angle            DS: \"45.0\"\n",
       "(0018, 1531) Detector Secondary Angle            DS: \"0.0\"\n",
       "(0018, 1700) Collimator Shape                    CS: 'RECTANGULAR'\n",
       "(0018, 1702) Collimator Left Vertical Edge       IS: \"0\"\n",
       "(0018, 1704) Collimator Right Vertical Edge      IS: \"1915\"\n",
       "(0018, 1706) Collimator Upper Horizontal Edge    IS: \"0\"\n",
       "(0018, 1708) Collimator Lower Horizontal Edge    IS: \"2295\"\n",
       "(0018, 5101) View Position                       CS: 'CC'\n",
       "(0018, 6000) Sensitivity                         DS: \"0.00952793750912\"\n",
       "(0018, 7000) Detector Conditions Nominal Flag    CS: 'YES'\n",
       "(0018, 7001) Detector Temperature                DS: \"30.523681640625\"\n",
       "(0018, 7004) Detector Type                       CS: 'SCINTILLATOR'\n",
       "(0018, 7005) Detector Configuration              CS: 'AREA'\n",
       "(0018, 7006) Detector Description                LT: 'DETECTOR VERSION 2.0 MTFCOMP 2.1'\n",
       "(0018, 701a) Detector Binning                    DS: [1, 1]\n",
       "(0018, 7020) Detector Element Physical Size      DS: [0.1, 0.1]\n",
       "(0018, 7022) Detector Element Spacing            DS: [0.1, 0.1]\n",
       "(0018, 7024) Detector Active Shape               CS: 'RECTANGLE'\n",
       "(0018, 7026) Detector Active Dimension(s)        DS: [307.2, 240]\n",
       "(0018, 7030) Field of View Origin                DS: [5, 1]\n",
       "(0018, 7032) Field of View Rotation              DS: \"180.0\"\n",
       "(0018, 7034) Field of View Horizontal Flip       CS: 'NO'\n",
       "(0018, 7050) Filter Material                     CS: 'RHODIUM'\n",
       "(0018, 7060) Exposure Control Mode               CS: 'AUTOMATIC'\n",
       "(0018, 7062) Exposure Control Mode Description   LT: 'AOP standard RECTANGLE 340 mm 1603 mm 180 mm 240 mm EXP DOSE 68256 nGy PRE-EXP DOSE 2976 nGy PRE-EXP THICK 39 mm PRE-EXP COMPO 50 % PRE-EXP KV 25 PRE-EXP TRACK Mo PRE-EXP FILTER Rh PADDLE 16 FLATFIELD no'\n",
       "(0018, 7064) Exposure Status                     CS: 'NORMAL'\n",
       "(0020, 000d) Study Instance UID                  UI: 2.25.100023834138724144715875938732458164944\n",
       "(0020, 000e) Series Instance UID                 UI: 2.25.139007448577090581669896837718638726067\n",
       "(0020, 0011) Series Number                       IS: \"76919\"\n",
       "(0020, 0013) Instance Number                     IS: \"1874946579\"\n",
       "(0020, 0020) Patient Orientation                 CS: ['P', 'L']\n",
       "(0020, 0062) Image Laterality                    CS: 'R'\n",
       "(0028, 0002) Samples per Pixel                   US: 1\n",
       "(0028, 0004) Photometric Interpretation          CS: 'MONOCHROME1'\n",
       "(0028, 0010) Rows                                US: 5355\n",
       "(0028, 0011) Columns                             US: 4915\n",
       "(0028, 0100) Bits Allocated                      US: 16\n",
       "(0028, 0101) Bits Stored                         US: 16\n",
       "(0028, 0102) High Bit                            US: 15\n",
       "(0028, 0103) Pixel Representation                US: 0\n",
       "(0028, 0120) Pixel Padding Value                 US: 3044\n",
       "(0028, 0121) Pixel Padding Range Limit           US: 490\n",
       "(0028, 0300) Quality Control Image               CS: 'NO'\n",
       "(0028, 0301) Burned In Annotation                CS: 'NO'\n",
       "(0028, 1040) Pixel Intensity Relationship        CS: 'LOG'\n",
       "(0028, 1041) Pixel Intensity Relationship Sign   SS: 1\n",
       "(0028, 1050) Window Center                       DS: [1802.310000, 1802.310000, 2020.704000, 1583.916000]\n",
       "(0028, 1051) Window Width                        DS: [1091.970000, 1091.970000, 1091.970000, 1091.970000]\n",
       "(0028, 1052) Rescale Intercept                   DS: \"0.0\"\n",
       "(0028, 1053) Rescale Slope                       DS: \"1.0\"\n",
       "(0028, 1054) Rescale Type                        LO: 'US'\n",
       "(0028, 1055) Window Center & Width Explanation   LO: ['NORMAL', 'HARDER', 'SOFTER']\n",
       "(0028, 1056) VOI LUT Function                    CS: 'SIGMOID'\n",
       "(0028, 1300) Breast Implant Present              CS: 'NO'\n",
       "(0028, 1350) Partial View                        CS: 'NO'\n",
       "(0028, 2110) Lossy Image Compression             CS: '00'\n",
       "(0040, 0302) Entrance Dose                       US: 0\n",
       "(0040, 0306) Distance Source to Entrance         DS: \"617.0\"\n",
       "(0040, 0316) Organ Dose                          DS: \"0.01019\"\n",
       "(0040, 0318) Organ Exposed                       CS: 'BREAST'\n",
       "(0040, 8302) Entrance Dose in mGy                DS: \"4.129\"\n",
       "(0054, 0220)  View Code Sequence   1 item(s) ---- \n",
       "   (0008, 0100) Code Value                          SH: 'R-10242'\n",
       "   (0008, 0104) Code Meaning                        LO: 'cranio-caudal'\n",
       "   ---------\n",
       "(2050, 0020) Presentation LUT Shape              CS: 'IDENTITY'\n",
       "(7fe0, 0010) Pixel Data                          OB: Array of 2372022 elements"
      ]
     },
     "execution_count": 94,
     "metadata": {},
     "output_type": "execute_result"
    }
   ],
   "source": [
    "test"
   ]
  },
  {
   "cell_type": "code",
   "execution_count": null,
   "id": "c2aa2027",
   "metadata": {},
   "outputs": [],
   "source": []
  },
  {
   "cell_type": "code",
   "execution_count": null,
   "id": "9e7bdd30",
   "metadata": {},
   "outputs": [],
   "source": []
  },
  {
   "cell_type": "code",
   "execution_count": 37,
   "id": "8ee5360b",
   "metadata": {},
   "outputs": [],
   "source": [
    "omama.PixelData = kaggle.pixel_array[-omama.pixel_array.shape[0]:,-omama.pixel_array.shape[1]:].tobytes()"
   ]
  },
  {
   "cell_type": "code",
   "execution_count": 35,
   "id": "560139cd",
   "metadata": {},
   "outputs": [
    {
     "name": "stderr",
     "output_type": "stream",
     "text": [
      "Expected a SOC marker \n"
     ]
    },
    {
     "data": {
      "text/plain": [
       "<matplotlib.image.AxesImage at 0x7faf1db71a90>"
      ]
     },
     "execution_count": 35,
     "metadata": {},
     "output_type": "execute_result"
    },
    {
     "data": {
      "image/png": "[encoded data removed]",
      "text/plain": [
       "<Figure size 432x288 with 1 Axes>"
      ]
     },
     "metadata": {
      "needs_background": "light"
     },
     "output_type": "display_data"
    }
   ],
   "source": [
    "imshow(kaggle.pixel_array[2000:omama.pixel_array.shape[0], 2000:omama.pixel_array.shape[1]])"
   ]
  },
  {
   "cell_type": "code",
   "execution_count": 42,
   "id": "c81c871f",
   "metadata": {},
   "outputs": [
    {
     "data": {
      "text/plain": [
       "<matplotlib.image.AxesImage at 0x7f5df9b19070>"
      ]
     },
     "execution_count": 42,
     "metadata": {},
     "output_type": "execute_result"
    },
    {
     "data": {
      "image/png": "[encoded data removed]",
      "text/plain": [
       "<Figure size 432x288 with 1 Axes>"
      ]
     },
     "metadata": {
      "needs_background": "light"
     },
     "output_type": "display_data"
    }
   ],
   "source": [
    "imshow(kaggle.pixel_array[-omama.pixel_array.shape[0]:,-omama.pixel_array.shape[1]:])"
   ]
  },
  {
   "cell_type": "code",
   "execution_count": 47,
   "id": "76757ac1",
   "metadata": {},
   "outputs": [],
   "source": [
    "a = kaggle.pixel_array[-omama.pixel_array.shape[0]:,-omama.pixel_array.shape[1]:]"
   ]
  },
  {
   "cell_type": "code",
   "execution_count": 48,
   "id": "59ab123e",
   "metadata": {},
   "outputs": [
    {
     "data": {
      "text/plain": [
       "3044"
      ]
     },
     "execution_count": 48,
     "metadata": {},
     "output_type": "execute_result"
    }
   ],
   "source": [
    "a.max()"
   ]
  },
  {
   "cell_type": "code",
   "execution_count": 50,
   "id": "5eb901a3",
   "metadata": {},
   "outputs": [
    {
     "data": {
      "text/plain": [
       "dtype('uint16')"
      ]
     },
     "execution_count": 50,
     "metadata": {},
     "output_type": "execute_result"
    }
   ],
   "source": [
    "a.dtype"
   ]
  },
  {
   "cell_type": "code",
   "execution_count": null,
   "id": "866b0f9b",
   "metadata": {},
   "outputs": [],
   "source": []
  },
  {
   "cell_type": "code",
   "execution_count": null,
   "id": "1675eed5",
   "metadata": {},
   "outputs": [],
   "source": []
  },
  {
   "cell_type": "code",
   "execution_count": 45,
   "id": "8301d434",
   "metadata": {},
   "outputs": [
    {
     "data": {
      "text/plain": [
       "array([[26064, 18499, 22049, ...,  2004,  1983,  1937],\n",
       "       [ 1973,  1981,  1990, ...,  2003,  1983,  1983],\n",
       "       [ 1988,  1986,  2042, ...,  1980,  1986,  1973],\n",
       "       ...,\n",
       "       [ 3044,  3044,  3044, ...,  3044,  3044,  3044],\n",
       "       [ 3044,  3044,  3044, ...,  3044,  3044,  3044],\n",
       "       [ 3044,  3044,  3044, ...,  3044,  3044,  3044]], dtype=uint16)"
      ]
     },
     "execution_count": 45,
     "metadata": {},
     "output_type": "execute_result"
    }
   ],
   "source": [
    "omama.pixel_array"
   ]
  },
  {
   "cell_type": "code",
   "execution_count": 46,
   "id": "5b24e984",
   "metadata": {},
   "outputs": [
    {
     "data": {
      "text/plain": [
       "41904"
      ]
     },
     "execution_count": 46,
     "metadata": {},
     "output_type": "execute_result"
    }
   ],
   "source": [
    "omama.pixel_array.max()"
   ]
  },
  {
   "cell_type": "code",
   "execution_count": null,
   "id": "17212ec3",
   "metadata": {},
   "outputs": [],
   "source": []
  },
  {
   "cell_type": "code",
   "execution_count": 5,
   "id": "c6797252",
   "metadata": {
    "scrolled": true
   },
   "outputs": [
    {
     "data": {
      "text/plain": [
       "Dataset.file_meta -------------------------------\n",
       "(0002, 0000) File Meta Information Group Length  UL: 192\n",
       "(0002, 0001) File Meta Information Version       OB: b'\\x00\\x01'\n",
       "(0002, 0002) Media Storage SOP Class UID         UI: Digital Mammography X-Ray Image Storage - For Presentation\n",
       "(0002, 0003) Media Storage SOP Instance UID      UI: 2.25.114605502330206081390757163180312106015\n",
       "(0002, 0010) Transfer Syntax UID                 UI: JPEG Lossless, Non-Hierarchical, First-Order Prediction (Process 14 [Selection Value 1])\n",
       "(0002, 0012) Implementation Class UID            UI: 1.2.276.0.7230010.3.0.3.6.4\n",
       "(0002, 0013) Implementation Version Name         SH: 'OFFIS_DCMTK_364'\n",
       "-------------------------------------------------\n",
       "(0008, 0005) Specific Character Set              CS: 'ISO_IR 100'\n",
       "(0008, 0008) Image Type                          CS: ['ORIGINAL', 'PRIMARY', '']\n",
       "(0008, 0016) SOP Class UID                       UI: Digital Mammography X-Ray Image Storage - For Presentation\n",
       "(0008, 0018) SOP Instance UID                    UI: 2.25.114605502330206081390757163180312106015\n",
       "(0008, 0020) Study Date                          DA: ''\n",
       "(0008, 0021) Series Date                         DA: ''\n",
       "(0008, 0023) Content Date                        DA: ''\n",
       "(0008, 0030) Study Time                          TM: ''\n",
       "(0008, 0033) Content Time                        TM: ''\n",
       "(0008, 0050) Accession Number                    SH: 'DHK2WOTSCAKC'\n",
       "(0008, 0060) Modality                            CS: 'MG'\n",
       "(0008, 0064) Conversion Type                     CS: 'WSD'\n",
       "(0008, 0068) Presentation Intent Type            CS: 'FOR PRESENTATION'\n",
       "(0008, 0070) Manufacturer                        LO: 'GE MEDICAL SYSTEMS'\n",
       "(0008, 0080) Institution Name                    LO: ''\n",
       "(0008, 1030) Study Description                   LO: 'MAMMO SCREENING BILATERAL DIGITAL W CAD'\n",
       "(0008, 103e) Series Description                  LO: 'MAMMO SCREENING BILATERAL DIGITAL W CAD'\n",
       "(0008, 1090) Manufacturer's Model Name           LO: 'Senographe Essential VERSION ADS_53.40'\n",
       "(0008, 2218)  Anatomic Region Sequence   1 item(s) ---- \n",
       "   (0008, 0100) Code Value                          SH: 'T-04000'\n",
       "   (0008, 0102) Coding Scheme Designator            SH: 'SNM3'\n",
       "   (0008, 0104) Code Meaning                        LO: 'BREAST'\n",
       "   ---------\n",
       "(0010, 0010) Patient's Name                      PN: ''\n",
       "(0010, 0020) Patient ID                          LO: 'DHB213T38WCM'\n",
       "(0010, 0030) Patient's Birth Date                DA: ''\n",
       "(0010, 0040) Patient's Sex                       CS: ''\n",
       "(0010, 1010) Patient's Age                       AS: '625M'\n",
       "(0018, 0015) Body Part Examined                  CS: 'BREAST'\n",
       "(0018, 0060) KVP                                 DS: \"27.0\"\n",
       "(0018, 1110) Distance Source to Detector         DS: \"660.0\"\n",
       "(0018, 1111) Distance Source to Patient          DS: \"660.0\"\n",
       "(0018, 1114) Estimated Radiographic Magnificatio DS: \"1.0\"\n",
       "(0018, 1147) Field of View Shape                 CS: 'RECTANGLE'\n",
       "(0018, 1149) Field of View Dimension(s)          IS: [229, 191]\n",
       "(0018, 1150) Exposure Time                       IS: \"572\"\n",
       "(0018, 1151) X-Ray Tube Current                  IS: \"100\"\n",
       "(0018, 1152) Exposure                            IS: \"57\"\n",
       "(0018, 1153) Exposure in uAs                     IS: \"57400\"\n",
       "(0018, 1160) Filter Type                         SH: 'STRIP'\n",
       "(0018, 1164) Imager Pixel Spacing                DS: [0.09409090909091, 0.09409090909091]\n",
       "(0018, 1166) Grid                                CS: ['RECIPROCATING', 'FOCUSED']\n",
       "(0018, 1190) Focal Spot(s)                       DS: \"0.3\"\n",
       "(0018, 1191) Anode Target Material               CS: 'MOLYBDENUM'\n",
       "(0018, 11a0) Body Part Thickness                 DS: \"43.0\"\n",
       "(0018, 11a2) Compression Force                   DS: \"70.0\"\n",
       "(0018, 1401) Acquisition Device Processing Code  LO: 'GEMS_FFDM_PV'\n",
       "(0018, 1405) Relative X-Ray Exposure             IS: \"4129\"\n",
       "(0018, 1508) Positioner Type                     CS: 'MAMMOGRAPHIC'\n",
       "(0018, 1510) Positioner Primary Angle            DS: \"45.0\"\n",
       "(0018, 1531) Detector Secondary Angle            DS: \"0.0\"\n",
       "(0018, 1700) Collimator Shape                    CS: 'RECTANGULAR'\n",
       "(0018, 1702) Collimator Left Vertical Edge       IS: \"0\"\n",
       "(0018, 1704) Collimator Right Vertical Edge      IS: \"1915\"\n",
       "(0018, 1706) Collimator Upper Horizontal Edge    IS: \"0\"\n",
       "(0018, 1708) Collimator Lower Horizontal Edge    IS: \"2295\"\n",
       "(0018, 5101) View Position                       CS: 'MLO'\n",
       "(0018, 6000) Sensitivity                         DS: \"0.00952793750912\"\n",
       "(0018, 7000) Detector Conditions Nominal Flag    CS: 'YES'\n",
       "(0018, 7001) Detector Temperature                DS: \"30.523681640625\"\n",
       "(0018, 7004) Detector Type                       CS: 'SCINTILLATOR'\n",
       "(0018, 7005) Detector Configuration              CS: 'AREA'\n",
       "(0018, 7006) Detector Description                LT: 'DETECTOR VERSION 2.0 MTFCOMP 2.1'\n",
       "(0018, 701a) Detector Binning                    DS: [1, 1]\n",
       "(0018, 7020) Detector Element Physical Size      DS: [0.1, 0.1]\n",
       "(0018, 7022) Detector Element Spacing            DS: [0.1, 0.1]\n",
       "(0018, 7024) Detector Active Shape               CS: 'RECTANGLE'\n",
       "(0018, 7026) Detector Active Dimension(s)        DS: [307.2, 240]\n",
       "(0018, 7030) Field of View Origin                DS: [5, 1]\n",
       "(0018, 7032) Field of View Rotation              DS: \"180.0\"\n",
       "(0018, 7034) Field of View Horizontal Flip       CS: 'NO'\n",
       "(0018, 7050) Filter Material                     CS: 'RHODIUM'\n",
       "(0018, 7060) Exposure Control Mode               CS: 'AUTOMATIC'\n",
       "(0018, 7062) Exposure Control Mode Description   LT: 'AOP standard RECTANGLE 340 mm 1603 mm 180 mm 240 mm EXP DOSE 68256 nGy PRE-EXP DOSE 2976 nGy PRE-EXP THICK 39 mm PRE-EXP COMPO 50 % PRE-EXP KV 25 PRE-EXP TRACK Mo PRE-EXP FILTER Rh PADDLE 16 FLATFIELD no'\n",
       "(0018, 7064) Exposure Status                     CS: 'NORMAL'\n",
       "(0020, 000d) Study Instance UID                  UI: 2.25.100023834138724144715875938732458164944\n",
       "(0020, 000e) Series Instance UID                 UI: 2.25.139007448577090581669896837718638726067\n",
       "(0020, 0011) Series Number                       IS: \"76919\"\n",
       "(0020, 0013) Instance Number                     IS: \"3\"\n",
       "(0020, 0020) Patient Orientation                 CS: ['P', 'FL']\n",
       "(0020, 0062) Image Laterality                    CS: 'R'\n",
       "(0028, 0002) Samples per Pixel                   US: 1\n",
       "(0028, 0004) Photometric Interpretation          CS: 'MONOCHROME2'\n",
       "(0028, 0010) Rows                                US: 2294\n",
       "(0028, 0011) Columns                             US: 1914\n",
       "(0028, 0100) Bits Allocated                      US: 16\n",
       "(0028, 0101) Bits Stored                         US: 12\n",
       "(0028, 0102) High Bit                            US: 11\n",
       "(0028, 0103) Pixel Representation                US: 0\n",
       "(0028, 0120) Pixel Padding Value                 US: 0\n",
       "(0028, 0121) Pixel Padding Range Limit           US: 490\n",
       "(0028, 0300) Quality Control Image               CS: 'NO'\n",
       "(0028, 0301) Burned In Annotation                CS: 'NO'\n",
       "(0028, 1040) Pixel Intensity Relationship        CS: 'LOG'\n",
       "(0028, 1041) Pixel Intensity Relationship Sign   SS: -1\n",
       "(0028, 1050) Window Center                       DS: [2641, 2683, 2563]\n",
       "(0028, 1051) Window Width                        DS: [900, 750, 1050]\n",
       "(0028, 1052) Rescale Intercept                   DS: \"0.0\"\n",
       "(0028, 1053) Rescale Slope                       DS: \"1.0\"\n",
       "(0028, 1054) Rescale Type                        LO: 'US'\n",
       "(0028, 1055) Window Center & Width Explanation   LO: ['NORMAL', 'HARDER', 'SOFTER']\n",
       "(0028, 1056) VOI LUT Function                    CS: 'SIGMOID'\n",
       "(0028, 1300) Breast Implant Present              CS: 'NO'\n",
       "(0028, 2110) Lossy Image Compression             CS: '00'\n",
       "(0028, 3010)  VOI LUT Sequence   3 item(s) ---- \n",
       "   (0028, 3002) LUT Descriptor                      US: [3479, 613, 12]\n",
       "   (0028, 3003) LUT Explanation                     LO: 'NORMAL'\n",
       "   (0028, 3006) LUT Data                            US: Array of 3479 elements\n",
       "   ---------\n",
       "   (0028, 3002) LUT Descriptor                      US: [3079, 993, 12]\n",
       "   (0028, 3003) LUT Explanation                     LO: 'HARDER'\n",
       "   (0028, 3006) LUT Data                            US: Array of 3079 elements\n",
       "   ---------\n",
       "   (0028, 3002) LUT Descriptor                      US: [3887, 197, 12]\n",
       "   (0028, 3003) LUT Explanation                     LO: 'SOFTER'\n",
       "   (0028, 3006) LUT Data                            US: Array of 3887 elements\n",
       "   ---------\n",
       "(0040, 0302) Entrance Dose                       US: 0\n",
       "(0040, 0306) Distance Source to Entrance         DS: \"617.0\"\n",
       "(0040, 0316) Organ Dose                          DS: \"0.01019\"\n",
       "(0040, 0318) Organ Exposed                       CS: 'BREAST'\n",
       "(0040, 8302) Entrance Dose in mGy                DS: \"4.129\"\n",
       "(0054, 0220)  View Code Sequence   1 item(s) ---- \n",
       "   (0008, 0100) Code Value                          SH: 'R-10226'\n",
       "   (0008, 0102) Coding Scheme Designator            SH: 'SNM3'\n",
       "   (0008, 0104) Code Meaning                        LO: 'medio-lateral oblique'\n",
       "   (0054, 0222)  View Modifier Code Sequence   0 item(s) ---- \n",
       "   ---------\n",
       "(2050, 0020) Presentation LUT Shape              CS: 'IDENTITY'\n",
       "(7fe0, 0010) Pixel Data                          OB: Array of 2692536 elements"
      ]
     },
     "execution_count": 5,
     "metadata": {},
     "output_type": "execute_result"
    }
   ],
   "source": [
    "omama"
   ]
  },
  {
   "cell_type": "code",
   "execution_count": 6,
   "id": "d6f7a8e3",
   "metadata": {},
   "outputs": [
    {
     "data": {
      "text/plain": [
       "<matplotlib.image.AxesImage at 0x7f9cc8d7eac0>"
      ]
     },
     "execution_count": 6,
     "metadata": {},
     "output_type": "execute_result"
    },
    {
     "data": {
      "image/png": "[encoded data removed]",
      "text/plain": [
       "<Figure size 432x288 with 1 Axes>"
      ]
     },
     "metadata": {
      "needs_background": "light"
     },
     "output_type": "display_data"
    }
   ],
   "source": [
    "plt.imshow(omama.pixel_array)"
   ]
  },
  {
   "cell_type": "code",
   "execution_count": 7,
   "id": "e30dc251",
   "metadata": {},
   "outputs": [
    {
     "data": {
      "text/plain": [
       "Dataset.file_meta -------------------------------\n",
       "(0002, 0001) File Meta Information Version       OB: b'\\x00\\x01'\n",
       "(0002, 0002) Media Storage SOP Class UID         UI: Digital X-Ray Image Storage - For Presentation\n",
       "(0002, 0003) Media Storage SOP Instance UID      UI: 1.2.840.10009.1.2.3.10006.1.1874946579\n",
       "(0002, 0010) Transfer Syntax UID                 UI: JPEG 2000 Image Compression (Lossless Only)\n",
       "(0002, 0012) Implementation Class UID            UI: 1.2.840.113654.2.3.1995.2.12.0\n",
       "(0002, 0013) Implementation Version Name         SH: 'PYDICOM 2.3.0'\n",
       "-------------------------------------------------\n",
       "(0008, 0018) SOP Instance UID                    UI: 1.2.840.10009.1.2.3.10006.1.1874946579\n",
       "(0008, 0023) Content Date                        DA: '20221118'\n",
       "(0008, 0033) Content Time                        TM: '183902.142082'\n",
       "(0010, 0020) Patient ID                          LO: '10006'\n",
       "(0020, 000d) Study Instance UID                  UI: 1.2.840.10009.1.2.3.10006\n",
       "(0020, 000e) Series Instance UID                 UI: 1.2.840.10009.1.2.3.10006.1\n",
       "(0020, 0013) Instance Number                     IS: \"1874946579\"\n",
       "(0020, 0062) Image Laterality                    CS: 'R'\n",
       "(0028, 0002) Samples per Pixel                   US: 1\n",
       "(0028, 0004) Photometric Interpretation          CS: 'MONOCHROME1'\n",
       "(0028, 0010) Rows                                US: 5355\n",
       "(0028, 0011) Columns                             US: 4915\n",
       "(0028, 0100) Bits Allocated                      US: 16\n",
       "(0028, 0101) Bits Stored                         US: 16\n",
       "(0028, 0102) High Bit                            US: 15\n",
       "(0028, 0103) Pixel Representation                US: 0\n",
       "(0028, 0120) Pixel Padding Value                 US: 3044\n",
       "(0028, 1040) Pixel Intensity Relationship        CS: 'LOG'\n",
       "(0028, 1041) Pixel Intensity Relationship Sign   SS: 1\n",
       "(0028, 1050) Window Center                       DS: [1802.310000, 1802.310000, 2020.704000, 1583.916000]\n",
       "(0028, 1051) Window Width                        DS: [1091.970000, 1091.970000, 1091.970000, 1091.970000]\n",
       "(0028, 1052) Rescale Intercept                   DS: \"0.0\"\n",
       "(0028, 1053) Rescale Slope                       DS: \"1.0\"\n",
       "(0028, 1054) Rescale Type                        LO: 'US'\n",
       "(0028, 1056) VOI LUT Function                    CS: 'SIGMOID'\n",
       "(0028, 1350) Partial View                        CS: 'NO'\n",
       "(0028, 2110) Lossy Image Compression             CS: '00'\n",
       "(7fe0, 0010) Pixel Data                          OW: Array of 2372022 elements"
      ]
     },
     "execution_count": 7,
     "metadata": {},
     "output_type": "execute_result"
    }
   ],
   "source": [
    "kaggle"
   ]
  },
  {
   "cell_type": "code",
   "execution_count": 8,
   "id": "9212aba3",
   "metadata": {},
   "outputs": [
    {
     "data": {
      "text/plain": [
       "<matplotlib.image.AxesImage at 0x7f9cc52ad4f0>"
      ]
     },
     "execution_count": 8,
     "metadata": {},
     "output_type": "execute_result"
    },
    {
     "data": {
      "image/png": "[encoded data removed]",
      "text/plain": [
       "<Figure size 432x288 with 1 Axes>"
      ]
     },
     "metadata": {
      "needs_background": "light"
     },
     "output_type": "display_data"
    }
   ],
   "source": [
    "plt.imshow(kaggle.pixel_array)"
   ]
  }
 ],
 "metadata": {
  "kernelspec": {
   "display_name": "Python 3 (ipykernel)",
   "language": "python",
   "name": "python3"
  },
  "language_info": {
   "codemirror_mode": {
    "name": "ipython",
    "version": 3
   },
   "file_extension": ".py",
   "mimetype": "text/x-python",
   "name": "python",
   "nbconvert_exporter": "python",
   "pygments_lexer": "ipython3",
   "version": "3.9.7"
  }
 },
 "nbformat": 4,
 "nbformat_minor": 5
}
