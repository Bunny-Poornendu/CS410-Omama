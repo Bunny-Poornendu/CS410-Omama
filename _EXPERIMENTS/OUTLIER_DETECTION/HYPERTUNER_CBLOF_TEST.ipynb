{
 "cells": [
  {
   "cell_type": "code",
   "execution_count": 1,
   "id": "04dcf87e",
   "metadata": {},
   "outputs": [
    {
     "name": "stdout",
     "output_type": "stream",
     "text": [
      "Populating the interactive namespace from numpy and matplotlib\n"
     ]
    }
   ],
   "source": [
    "%pylab inline\n",
    "%load_ext autoreload\n",
    "%autoreload 2"
   ]
  },
  {
   "cell_type": "code",
   "execution_count": 2,
   "id": "290877ab",
   "metadata": {},
   "outputs": [],
   "source": [
    "import sys\n",
    "sys.path.insert(0,'../..')\n",
    "import omama as O\n",
    "import pickle\n",
    "from hyperopt import hp, rand, fmin, Trials\n",
    "from pyod.models.cblof import CBLOF"
   ]
  },
  {
   "cell_type": "code",
   "execution_count": 3,
   "id": "88c95154",
   "metadata": {},
   "outputs": [],
   "source": [
    "# load data and labels\n",
    "\n",
    "with open('/raid/mpsych/datasetBSTAR.pkl','rb') as f:\n",
    "    datasetA = pickle.load(f)\n",
    "    \n",
    "with open('/raid/mpsych/datasetBSTAR_labels.pkl', 'rb') as f1:\n",
    "    labels = np.asarray(pickle.load(f1))"
   ]
  },
  {
   "cell_type": "code",
   "execution_count": 4,
   "id": "c00642b7",
   "metadata": {},
   "outputs": [],
   "source": [
    "# determine the hyperparameter space\n",
    "\n",
    "param_grid = {\n",
    "    'contamination': hp.uniform('contamination', 0.07, .1),\n",
    "    'n_clusters': hp.uniformint('n_clusters', 1, 200),\n",
    "    'alpha': hp.uniform('alpha', 0.0, 1.0),\n",
    "    'beta': hp.uniform('beta', 0.0, 10.0),\n",
    "    'use_weights': hp.choice('use_weights', [True, False]),\n",
    "    'check_estimator': hp.choice('check_estimator', [True, False]),\n",
    "    'n_jobs': hp.uniformint('n_jobs', 1, 4),\n",
    "    'clustering_estimator': hp.choice('clustering_estimator', [None, 'clustering_estimator']),\n",
    "}"
   ]
  },
  {
   "cell_type": "code",
   "execution_count": 9,
   "id": "db6de695",
   "metadata": {},
   "outputs": [],
   "source": [
    "def opt(params):\n",
    "    param_dict = {\n",
    "        'contamination': params['contamination'],\n",
    "        'n_clusters': int(params['n_clusters']),\n",
    "        'alpha': params['alpha'],\n",
    "        'beta': params['beta'],\n",
    "        'use_weights': params['use_weights'],\n",
    "        'check_estimator': params['check_estimator'],\n",
    "        'n_jobs': int(params['n_jobs']),\n",
    "        'clustering_estimator': params['clustering_estimator'],\n",
    "    }\n",
    "    clf = self.algorithm(**params)\n",
    "    clf.fit(self.X_train, self.y_train)\n",
    "    \n",
    "    score = -cross_val_score(clf,\n",
    "                             self.X_train,\n",
    "                             self.y_train,\n",
    "                             cv=self.cv,\n",
    "                             n_jobs=self.n_jobs,\n",
    "                             scoring=self.scoring).mean()"
   ]
  },
  {
   "cell_type": "code",
   "execution_count": 5,
   "id": "93599621",
   "metadata": {},
   "outputs": [],
   "source": [
    "hyperOpt = O.HyperTuner(\n",
    "    algorithm=CBLOF,\n",
    "    param_space=param_grid,\n",
    "    feature_type='hist',\n",
    "    norm_type='gaussian',\n",
    "    data=datasetA,\n",
    "    gt_labels=labels,\n",
    "    max_evals=60,\n",
    "    opt\n",
    ")"
   ]
  },
  {
   "cell_type": "code",
   "execution_count": 6,
   "id": "4159f929",
   "metadata": {},
   "outputs": [
    {
     "name": "stdout",
     "output_type": "stream",
     "text": [
      "  0%|                                                                                                                                                                  | 0/60 [00:00<?, ?trial/s, best loss=?]\n"
     ]
    },
    {
     "ename": "AttributeError",
     "evalue": "'int' object has no attribute 'integers'",
     "output_type": "error",
     "traceback": [
      "\u001B[0;31m---------------------------------------------------------------------------\u001B[0m",
      "\u001B[0;31mAttributeError\u001B[0m                            Traceback (most recent call last)",
      "\u001B[0;32m/tmp/ipykernel_2713073/2345952607.py\u001B[0m in \u001B[0;36m<module>\u001B[0;34m\u001B[0m\n\u001B[0;32m----> 1\u001B[0;31m \u001B[0mhyperOpt\u001B[0m\u001B[0;34m.\u001B[0m\u001B[0moptimize\u001B[0m\u001B[0;34m(\u001B[0m\u001B[0;34m)\u001B[0m\u001B[0;34m\u001B[0m\u001B[0;34m\u001B[0m\u001B[0m\n\u001B[0m",
      "\u001B[0;32m~/Projects/CS410-Omama/_EXPERIMENTS/OUTLIER_DETECTION/../../omama/hyperparameter_tuner/hyper_tuner.py\u001B[0m in \u001B[0;36moptimize\u001B[0;34m(self, display, plot, **kwargs)\u001B[0m\n\u001B[1;32m    144\u001B[0m \u001B[0;34m\u001B[0m\u001B[0m\n\u001B[1;32m    145\u001B[0m         \u001B[0;31m# get the best parameters\u001B[0m\u001B[0;34m\u001B[0m\u001B[0;34m\u001B[0m\u001B[0m\n\u001B[0;32m--> 146\u001B[0;31m         self.best_params = fmin(fn=self.objective,\n\u001B[0m\u001B[1;32m    147\u001B[0m                                 \u001B[0mspace\u001B[0m\u001B[0;34m=\u001B[0m\u001B[0mparam_space\u001B[0m\u001B[0;34m,\u001B[0m\u001B[0;34m\u001B[0m\u001B[0;34m\u001B[0m\u001B[0m\n\u001B[1;32m    148\u001B[0m                                 \u001B[0malgo\u001B[0m\u001B[0;34m=\u001B[0m\u001B[0mrand\u001B[0m\u001B[0;34m.\u001B[0m\u001B[0msuggest\u001B[0m\u001B[0;34m,\u001B[0m\u001B[0;34m\u001B[0m\u001B[0;34m\u001B[0m\u001B[0m\n",
      "\u001B[0;32m~/miniconda3/envs/O/lib/python3.9/site-packages/hyperopt/fmin.py\u001B[0m in \u001B[0;36mfmin\u001B[0;34m(fn, space, algo, max_evals, timeout, loss_threshold, trials, rstate, allow_trials_fmin, pass_expr_memo_ctrl, catch_eval_exceptions, verbose, return_argmin, points_to_evaluate, max_queue_len, show_progressbar, early_stop_fn, trials_save_file)\u001B[0m\n\u001B[1;32m    538\u001B[0m \u001B[0;34m\u001B[0m\u001B[0m\n\u001B[1;32m    539\u001B[0m     \u001B[0;32mif\u001B[0m \u001B[0mallow_trials_fmin\u001B[0m \u001B[0;32mand\u001B[0m \u001B[0mhasattr\u001B[0m\u001B[0;34m(\u001B[0m\u001B[0mtrials\u001B[0m\u001B[0;34m,\u001B[0m \u001B[0;34m\"fmin\"\u001B[0m\u001B[0;34m)\u001B[0m\u001B[0;34m:\u001B[0m\u001B[0;34m\u001B[0m\u001B[0;34m\u001B[0m\u001B[0m\n\u001B[0;32m--> 540\u001B[0;31m         return trials.fmin(\n\u001B[0m\u001B[1;32m    541\u001B[0m             \u001B[0mfn\u001B[0m\u001B[0;34m,\u001B[0m\u001B[0;34m\u001B[0m\u001B[0;34m\u001B[0m\u001B[0m\n\u001B[1;32m    542\u001B[0m             \u001B[0mspace\u001B[0m\u001B[0;34m,\u001B[0m\u001B[0;34m\u001B[0m\u001B[0;34m\u001B[0m\u001B[0m\n",
      "\u001B[0;32m~/miniconda3/envs/O/lib/python3.9/site-packages/hyperopt/base.py\u001B[0m in \u001B[0;36mfmin\u001B[0;34m(self, fn, space, algo, max_evals, timeout, loss_threshold, max_queue_len, rstate, verbose, pass_expr_memo_ctrl, catch_eval_exceptions, return_argmin, show_progressbar, early_stop_fn, trials_save_file)\u001B[0m\n\u001B[1;32m    669\u001B[0m         \u001B[0;32mfrom\u001B[0m \u001B[0;34m.\u001B[0m\u001B[0mfmin\u001B[0m \u001B[0;32mimport\u001B[0m \u001B[0mfmin\u001B[0m\u001B[0;34m\u001B[0m\u001B[0;34m\u001B[0m\u001B[0m\n\u001B[1;32m    670\u001B[0m \u001B[0;34m\u001B[0m\u001B[0m\n\u001B[0;32m--> 671\u001B[0;31m         return fmin(\n\u001B[0m\u001B[1;32m    672\u001B[0m             \u001B[0mfn\u001B[0m\u001B[0;34m,\u001B[0m\u001B[0;34m\u001B[0m\u001B[0;34m\u001B[0m\u001B[0m\n\u001B[1;32m    673\u001B[0m             \u001B[0mspace\u001B[0m\u001B[0;34m,\u001B[0m\u001B[0;34m\u001B[0m\u001B[0;34m\u001B[0m\u001B[0m\n",
      "\u001B[0;32m~/miniconda3/envs/O/lib/python3.9/site-packages/hyperopt/fmin.py\u001B[0m in \u001B[0;36mfmin\u001B[0;34m(fn, space, algo, max_evals, timeout, loss_threshold, trials, rstate, allow_trials_fmin, pass_expr_memo_ctrl, catch_eval_exceptions, verbose, return_argmin, points_to_evaluate, max_queue_len, show_progressbar, early_stop_fn, trials_save_file)\u001B[0m\n\u001B[1;32m    584\u001B[0m \u001B[0;34m\u001B[0m\u001B[0m\n\u001B[1;32m    585\u001B[0m     \u001B[0;31m# next line is where the fmin is actually executed\u001B[0m\u001B[0;34m\u001B[0m\u001B[0;34m\u001B[0m\u001B[0m\n\u001B[0;32m--> 586\u001B[0;31m     \u001B[0mrval\u001B[0m\u001B[0;34m.\u001B[0m\u001B[0mexhaust\u001B[0m\u001B[0;34m(\u001B[0m\u001B[0;34m)\u001B[0m\u001B[0;34m\u001B[0m\u001B[0;34m\u001B[0m\u001B[0m\n\u001B[0m\u001B[1;32m    587\u001B[0m \u001B[0;34m\u001B[0m\u001B[0m\n\u001B[1;32m    588\u001B[0m     \u001B[0;32mif\u001B[0m \u001B[0mreturn_argmin\u001B[0m\u001B[0;34m:\u001B[0m\u001B[0;34m\u001B[0m\u001B[0;34m\u001B[0m\u001B[0m\n",
      "\u001B[0;32m~/miniconda3/envs/O/lib/python3.9/site-packages/hyperopt/fmin.py\u001B[0m in \u001B[0;36mexhaust\u001B[0;34m(self)\u001B[0m\n\u001B[1;32m    362\u001B[0m     \u001B[0;32mdef\u001B[0m \u001B[0mexhaust\u001B[0m\u001B[0;34m(\u001B[0m\u001B[0mself\u001B[0m\u001B[0;34m)\u001B[0m\u001B[0;34m:\u001B[0m\u001B[0;34m\u001B[0m\u001B[0;34m\u001B[0m\u001B[0m\n\u001B[1;32m    363\u001B[0m         \u001B[0mn_done\u001B[0m \u001B[0;34m=\u001B[0m \u001B[0mlen\u001B[0m\u001B[0;34m(\u001B[0m\u001B[0mself\u001B[0m\u001B[0;34m.\u001B[0m\u001B[0mtrials\u001B[0m\u001B[0;34m)\u001B[0m\u001B[0;34m\u001B[0m\u001B[0;34m\u001B[0m\u001B[0m\n\u001B[0;32m--> 364\u001B[0;31m         \u001B[0mself\u001B[0m\u001B[0;34m.\u001B[0m\u001B[0mrun\u001B[0m\u001B[0;34m(\u001B[0m\u001B[0mself\u001B[0m\u001B[0;34m.\u001B[0m\u001B[0mmax_evals\u001B[0m \u001B[0;34m-\u001B[0m \u001B[0mn_done\u001B[0m\u001B[0;34m,\u001B[0m \u001B[0mblock_until_done\u001B[0m\u001B[0;34m=\u001B[0m\u001B[0mself\u001B[0m\u001B[0;34m.\u001B[0m\u001B[0masynchronous\u001B[0m\u001B[0;34m)\u001B[0m\u001B[0;34m\u001B[0m\u001B[0;34m\u001B[0m\u001B[0m\n\u001B[0m\u001B[1;32m    365\u001B[0m         \u001B[0mself\u001B[0m\u001B[0;34m.\u001B[0m\u001B[0mtrials\u001B[0m\u001B[0;34m.\u001B[0m\u001B[0mrefresh\u001B[0m\u001B[0;34m(\u001B[0m\u001B[0;34m)\u001B[0m\u001B[0;34m\u001B[0m\u001B[0;34m\u001B[0m\u001B[0m\n\u001B[1;32m    366\u001B[0m         \u001B[0;32mreturn\u001B[0m \u001B[0mself\u001B[0m\u001B[0;34m\u001B[0m\u001B[0;34m\u001B[0m\u001B[0m\n",
      "\u001B[0;32m~/miniconda3/envs/O/lib/python3.9/site-packages/hyperopt/fmin.py\u001B[0m in \u001B[0;36mrun\u001B[0;34m(self, N, block_until_done)\u001B[0m\n\u001B[1;32m    277\u001B[0m                     \u001B[0;31m# processes orchestration\u001B[0m\u001B[0;34m\u001B[0m\u001B[0;34m\u001B[0m\u001B[0m\n\u001B[1;32m    278\u001B[0m                     new_trials = algo(\n\u001B[0;32m--> 279\u001B[0;31m                         \u001B[0mnew_ids\u001B[0m\u001B[0;34m,\u001B[0m \u001B[0mself\u001B[0m\u001B[0;34m.\u001B[0m\u001B[0mdomain\u001B[0m\u001B[0;34m,\u001B[0m \u001B[0mtrials\u001B[0m\u001B[0;34m,\u001B[0m \u001B[0mself\u001B[0m\u001B[0;34m.\u001B[0m\u001B[0mrstate\u001B[0m\u001B[0;34m.\u001B[0m\u001B[0mintegers\u001B[0m\u001B[0;34m(\u001B[0m\u001B[0;36m2\u001B[0m \u001B[0;34m**\u001B[0m \u001B[0;36m31\u001B[0m \u001B[0;34m-\u001B[0m \u001B[0;36m1\u001B[0m\u001B[0;34m)\u001B[0m\u001B[0;34m\u001B[0m\u001B[0;34m\u001B[0m\u001B[0m\n\u001B[0m\u001B[1;32m    280\u001B[0m                     )\n\u001B[1;32m    281\u001B[0m                     \u001B[0;32massert\u001B[0m \u001B[0mlen\u001B[0m\u001B[0;34m(\u001B[0m\u001B[0mnew_ids\u001B[0m\u001B[0;34m)\u001B[0m \u001B[0;34m>=\u001B[0m \u001B[0mlen\u001B[0m\u001B[0;34m(\u001B[0m\u001B[0mnew_trials\u001B[0m\u001B[0;34m)\u001B[0m\u001B[0;34m\u001B[0m\u001B[0;34m\u001B[0m\u001B[0m\n",
      "\u001B[0;31mAttributeError\u001B[0m: 'int' object has no attribute 'integers'"
     ]
    }
   ],
   "source": [
    "hyperOpt.optimize()"
   ]
  },
  {
   "cell_type": "code",
   "execution_count": 8,
   "id": "31120448",
   "metadata": {},
   "outputs": [
    {
     "name": "stdout",
     "output_type": "stream",
     "text": [
      "Best parameters:\n",
      "contamination: 0.07236974600054445\n",
      "leaf_size: 83.0\n",
      "method: 2.0\n",
      "metric: 3.0\n",
      "n_jobs: 2.0\n",
      "n_neighbors: 44.0\n",
      "p: 6.0\n",
      "radius: 2.0\n"
     ]
    }
   ],
   "source": [
    "hyperOpt.display_best_params()"
   ]
  },
  {
   "cell_type": "code",
   "execution_count": 18,
   "id": "3a3663ae",
   "metadata": {
    "scrolled": false
   },
   "outputs": [
    {
     "name": "stdout",
     "output_type": "stream",
     "text": [
      "Parameter space:\n",
      "contamination: ['0.07', '0.1']\n",
      "n_neighbors: ['1', '50', '1.0']\n",
      "method: ['largest', 'mean', 'median']\n",
      "radius: ['0.0', '5.0', '0.1']\n",
      "leaf_size: ['1', '100', '1.0']\n",
      "metric: ['minkowski', 'cityblock', 'euclidean', 'l1', 'l2', 'manhattan']\n",
      "p: ['1', '10', '1.0']\n",
      "n_jobs: ['1', '4', '1.0']\n"
     ]
    }
   ],
   "source": [
    "hyperOpt.print_param_space()"
   ]
  },
  {
   "cell_type": "code",
   "execution_count": 35,
   "id": "00434a34",
   "metadata": {},
   "outputs": [
    {
     "name": "stdout",
     "output_type": "stream",
     "text": [
      "<class 'dict'>\n"
     ]
    }
   ],
   "source": [
    "print(type(hyperOpt.param_space))"
   ]
  },
  {
   "cell_type": "code",
   "execution_count": null,
   "id": "4f8987e5",
   "metadata": {},
   "outputs": [],
   "source": []
  }
 ],
 "metadata": {
  "kernelspec": {
   "display_name": "Python 3 (ipykernel)",
   "language": "python",
   "name": "python3"
  },
  "language_info": {
   "codemirror_mode": {
    "name": "ipython",
    "version": 3
   },
   "file_extension": ".py",
   "mimetype": "text/x-python",
   "name": "python",
   "nbconvert_exporter": "python",
   "pygments_lexer": "ipython3",
   "version": "3.9.7"
  }
 },
 "nbformat": 4,
 "nbformat_minor": 5
}
