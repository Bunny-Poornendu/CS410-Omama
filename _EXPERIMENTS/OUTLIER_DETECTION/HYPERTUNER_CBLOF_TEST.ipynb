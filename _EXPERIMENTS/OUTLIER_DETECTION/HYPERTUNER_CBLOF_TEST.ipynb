{
 "cells": [
  {
   "cell_type": "code",
   "execution_count": 1,
   "id": "04dcf87e",
   "metadata": {},
   "outputs": [
    {
     "name": "stdout",
     "output_type": "stream",
     "text": [
      "Populating the interactive namespace from numpy and matplotlib\n"
     ]
    }
   ],
   "source": [
    "%pylab inline\n",
    "%load_ext autoreload\n",
    "%autoreload 2"
   ]
  },
  {
   "cell_type": "code",
   "execution_count": 2,
   "id": "290877ab",
   "metadata": {},
   "outputs": [],
   "source": [
    "import sys\n",
    "sys.path.insert(0,'../..')\n",
    "import omama as O\n",
    "import pickle\n",
    "from hyperopt import hp, rand, fmin, Trials\n",
    "from pyod.models.cblof import CBLOF"
   ]
  },
  {
   "cell_type": "code",
   "execution_count": 3,
   "id": "88c95154",
   "metadata": {},
   "outputs": [],
   "source": [
    "# load data and labels\n",
    "\n",
    "with open('/raid/mpsych/datasetBSTAR.pkl','rb') as f:\n",
    "    datasetA = pickle.load(f)\n",
    "    \n",
    "with open('/raid/mpsych/datasetBSTAR_labels.pkl', 'rb') as f1:\n",
    "    labels = np.asarray(pickle.load(f1))"
   ]
  },
  {
   "cell_type": "code",
   "execution_count": 4,
   "id": "c00642b7",
   "metadata": {},
   "outputs": [],
   "source": [
    "# determine the hyperparameter space\n",
    "\n",
    "param_grid = {\n",
    "    'contamination': hp.uniform('contamination', 0.07, .1),\n",
    "    'alpha': hp.uniform('alpha', 0.5, 1.0),\n",
    "    'beta': hp.uniform('beta', 1.0, 5.0),\n",
    "    'use_weights': hp.choice('use_weights', [True, False]),\n",
    "    'n_jobs': hp.uniformint('n_jobs', 1, 4),\n",
    "}"
   ]
  },
  {
   "cell_type": "code",
   "execution_count": 5,
   "id": "db6de695",
   "metadata": {},
   "outputs": [],
   "source": [
    "# def opt(params):\n",
    "#     param_dict = {\n",
    "#         'contamination': params['contamination'],\n",
    "#         'n_clusters': int(params['n_clusters']),\n",
    "#         'alpha': params['alpha'],\n",
    "#         'beta': params['beta'],\n",
    "#         'use_weights': params['use_weights'],\n",
    "#         'check_estimator': params['check_estimator'],\n",
    "#         'n_jobs': int(params['n_jobs']),\n",
    "#         'clustering_estimator': params['clustering_estimator'],\n",
    "#     }\n",
    "#     clf = self.algorithm(**params)\n",
    "#     clf.fit(self.X_train, self.y_train)\n",
    "    \n",
    "#     score = -cross_val_score(clf,\n",
    "#                              self.X_train,\n",
    "#                              self.y_train,\n",
    "#                              cv=self.cv,\n",
    "#                              n_jobs=self.n_jobs,\n",
    "#                              scoring=self.scoring).mean()"
   ]
  },
  {
   "cell_type": "code",
   "execution_count": 6,
   "id": "93599621",
   "metadata": {},
   "outputs": [],
   "source": [
    "hyperOpt = O.HyperTuner(\n",
    "    algorithm=CBLOF,\n",
    "    param_space=param_grid,\n",
    "    feature_type='hist',\n",
    "    norm_type='gaussian',\n",
    "    data=datasetA,\n",
    "    gt_labels=labels,\n",
    "    max_evals=60,\n",
    ")"
   ]
  },
  {
   "cell_type": "code",
   "execution_count": null,
   "id": "e7c607a1",
   "metadata": {},
   "outputs": [],
   "source": []
  },
  {
   "cell_type": "code",
   "execution_count": 14,
   "id": "4159f929",
   "metadata": {},
   "outputs": [
    {
     "name": "stdout",
     "output_type": "stream",
     "text": [
      "100%|██████████████████████████████████████████████████████████████████████████████████████████████████████████████████████████████████████| 60/60 [00:01<00:00,  2.12trial/s, best loss: -0.8787499999999999]\n",
      "Best parameters:\n",
      "alpha: 0.5699050795721247\n",
      "beta: 2.347918956980433\n",
      "contamination: 0.09244107318881203\n",
      "n_jobs: 3.0\n",
      "use_weights: True\n"
     ]
    },
    {
     "data": {
      "image/png": "[encoded data removed]",
      "text/plain": [
       "<Figure size 432x288 with 1 Axes>"
      ]
     },
     "metadata": {
      "needs_background": "light"
     },
     "output_type": "display_data"
    }
   ],
   "source": [
    "hyperOpt.optimize()"
   ]
  },
  {
   "cell_type": "code",
   "execution_count": 15,
   "id": "31120448",
   "metadata": {},
   "outputs": [
    {
     "name": "stdout",
     "output_type": "stream",
     "text": [
      "Best parameters:\n",
      "alpha: 0.5699050795721247\n",
      "beta: 2.347918956980433\n",
      "contamination: 0.09244107318881203\n",
      "n_jobs: 3.0\n",
      "use_weights: True\n"
     ]
    }
   ],
   "source": [
    "hyperOpt.display_best_params()"
   ]
  },
  {
   "cell_type": "code",
   "execution_count": 16,
   "id": "3a3663ae",
   "metadata": {
    "scrolled": false
   },
   "outputs": [
    {
     "name": "stdout",
     "output_type": "stream",
     "text": [
      "Parameter space:\n",
      "contamination: ['0.07', '0.1']\n",
      "alpha: ['0.5', '1.0']\n",
      "beta: ['1.0', '5.0']\n",
      "use_weights: ['True', 'False']\n",
      "n_jobs: ['1', '4', '1.0']\n"
     ]
    }
   ],
   "source": [
    "hyperOpt.print_param_space()"
   ]
  },
  {
   "cell_type": "code",
   "execution_count": 35,
   "id": "00434a34",
   "metadata": {},
   "outputs": [
    {
     "name": "stdout",
     "output_type": "stream",
     "text": [
      "<class 'dict'>\n"
     ]
    }
   ],
   "source": [
    "print(type(hyperOpt.param_space))"
   ]
  },
  {
   "cell_type": "code",
   "execution_count": null,
   "id": "4f8987e5",
   "metadata": {},
   "outputs": [],
   "source": []
  }
 ],
 "metadata": {
  "kernelspec": {
   "display_name": "Python 3 (ipykernel)",
   "language": "python",
   "name": "python3"
  },
  "language_info": {
   "codemirror_mode": {
    "name": "ipython",
    "version": 3
   },
   "file_extension": ".py",
   "mimetype": "text/x-python",
   "name": "python",
   "nbconvert_exporter": "python",
   "pygments_lexer": "ipython3",
   "version": "3.9.7"
  }
 },
 "nbformat": 4,
 "nbformat_minor": 5
}
