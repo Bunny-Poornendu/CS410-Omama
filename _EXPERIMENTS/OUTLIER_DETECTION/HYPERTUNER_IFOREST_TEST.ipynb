{
 "cells": [
  {
   "cell_type": "code",
   "execution_count": 1,
   "id": "04dcf87e",
   "metadata": {},
   "outputs": [
    {
     "name": "stdout",
     "output_type": "stream",
     "text": [
      "Populating the interactive namespace from numpy and matplotlib\n"
     ]
    }
   ],
   "source": [
    "%pylab inline\n",
    "%load_ext autoreload\n",
    "%autoreload 2"
   ]
  },
  {
   "cell_type": "code",
   "execution_count": 2,
   "id": "290877ab",
   "metadata": {},
   "outputs": [],
   "source": [
    "import sys\n",
    "sys.path.insert(0,'../..')\n",
    "import omama as O\n",
    "import pickle\n",
    "from hyperopt import hp, rand, fmin, Trials\n",
    "from pyod.models.iforest import IForest"
   ]
  },
  {
   "cell_type": "code",
   "execution_count": 3,
   "id": "88c95154",
   "metadata": {},
   "outputs": [],
   "source": [
    "# load data and labels\n",
    "\n",
    "with open('/raid/mpsych/datasetASTAR.pkl','rb') as f:\n",
    "    datasetA = pickle.load(f)\n",
    "    \n",
    "with open('/raid/mpsych/datasetASTAR_labels.pkl', 'rb') as f1:\n",
    "    labels = np.asarray(pickle.load(f1))"
   ]
  },
  {
   "cell_type": "code",
   "execution_count": 8,
   "id": "c00642b7",
   "metadata": {},
   "outputs": [],
   "source": [
    "# determine the hyperparameter space\n",
    "\n",
    "param_grid = {\n",
    "    'contamination': hp.uniform('contamination', 0.05, .1),\n",
    "    'n_estimators': hp.uniformint('n_estimators', 1, 200),\n",
    "    'max_samples': hp.uniformint('max_samples', 1, 255),\n",
    "    'max_features': hp.uniformint('max_features', 1, 255),\n",
    "    'bootstrap': hp.choice('bootstrap',  [True, False]),\n",
    "    'n_jobs': hp.uniformint('n_jobs', 1, 4),\n",
    "    'behaviour': hp.choice('behaviour', ['old', 'new']),\n",
    "    'random_state': hp.uniformint('random_state', 1, 100),\n",
    "}"
   ]
  },
  {
   "cell_type": "code",
   "execution_count": 6,
   "id": "93599621",
   "metadata": {},
   "outputs": [],
   "source": [
    "hyperOpt = O.HyperTuner(\n",
    "    algorithm=IForest,\n",
    "    param_space=param_grid,\n",
    "    feature_type='hist',\n",
    "    norm_type='gaussian',\n",
    "    data=datasetA,\n",
    "    gt_labels=labels,\n",
    "    max_evals=60,\n",
    ")"
   ]
  },
  {
   "cell_type": "code",
   "execution_count": 9,
   "id": "e7c607a1",
   "metadata": {},
   "outputs": [],
   "source": [
    "hyperOpt.param_space = param_grid"
   ]
  },
  {
   "cell_type": "code",
   "execution_count": 10,
   "id": "4159f929",
   "metadata": {},
   "outputs": [
    {
     "name": "stdout",
     "output_type": "stream",
     "text": [
      "100%|██████████████████████████████████████████████████████████████████████████████████████████████████████████████████████████████████████| 60/60 [02:23<00:00,  2.39s/trial, best loss: -0.9024999999999999]\n",
      "Best parameters:\n",
      "behaviour: new\n",
      "bootstrap: False\n",
      "contamination: 0.07799920231942263\n",
      "max_features: 80.0\n",
      "max_samples: 214.0\n",
      "n_estimators: 92.0\n",
      "n_jobs: 2.0\n",
      "random_state: 75.0\n"
     ]
    },
    {
     "data": {
      "image/png": "[encoded data removed]",
      "text/plain": [
       "<Figure size 432x288 with 1 Axes>"
      ]
     },
     "metadata": {
      "needs_background": "light"
     },
     "output_type": "display_data"
    }
   ],
   "source": [
    "hyperOpt.optimize()"
   ]
  },
  {
   "cell_type": "code",
   "execution_count": 11,
   "id": "31120448",
   "metadata": {},
   "outputs": [
    {
     "name": "stdout",
     "output_type": "stream",
     "text": [
      "Best parameters:\n",
      "behaviour: new\n",
      "bootstrap: False\n",
      "contamination: 0.07799920231942263\n",
      "max_features: 80.0\n",
      "max_samples: 214.0\n",
      "n_estimators: 92.0\n",
      "n_jobs: 2.0\n",
      "random_state: 75.0\n"
     ]
    }
   ],
   "source": [
    "hyperOpt.display_best_params()"
   ]
  },
  {
   "cell_type": "code",
   "execution_count": 16,
   "id": "3a3663ae",
   "metadata": {
    "scrolled": false
   },
   "outputs": [
    {
     "name": "stdout",
     "output_type": "stream",
     "text": [
      "Parameter space:\n",
      "contamination: ['0.07', '0.1']\n",
      "alpha: ['0.5', '1.0']\n",
      "beta: ['1.0', '5.0']\n",
      "use_weights: ['True', 'False']\n",
      "n_jobs: ['1', '4', '1.0']\n"
     ]
    }
   ],
   "source": [
    "hyperOpt.print_param_space()"
   ]
  },
  {
   "cell_type": "code",
   "execution_count": 35,
   "id": "00434a34",
   "metadata": {},
   "outputs": [
    {
     "name": "stdout",
     "output_type": "stream",
     "text": [
      "<class 'dict'>\n"
     ]
    }
   ],
   "source": [
    "print(type(hyperOpt.param_space))"
   ]
  },
  {
   "cell_type": "code",
   "execution_count": null,
   "id": "4f8987e5",
   "metadata": {},
   "outputs": [],
   "source": []
  }
 ],
 "metadata": {
  "kernelspec": {
   "display_name": "Python 3 (ipykernel)",
   "language": "python",
   "name": "python3"
  },
  "language_info": {
   "codemirror_mode": {
    "name": "ipython",
    "version": 3
   },
   "file_extension": ".py",
   "mimetype": "text/x-python",
   "name": "python",
   "nbconvert_exporter": "python",
   "pygments_lexer": "ipython3",
   "version": "3.9.7"
  }
 },
 "nbformat": 4,
 "nbformat_minor": 5
}
