{
 "cells": [
  {
   "cell_type": "code",
   "execution_count": null,
   "id": "04dcf87e",
   "metadata": {},
   "outputs": [],
   "source": [
    "%pylab inline\n",
    "%load_ext autoreload\n",
    "%autoreload 2"
   ]
  },
  {
   "cell_type": "code",
   "execution_count": null,
   "id": "290877ab",
   "metadata": {},
   "outputs": [],
   "source": [
    "import sys\n",
    "sys.path.insert(0,'../..')\n",
    "import omama as O\n",
    "import pickle\n",
    "from hyperopt import hp, rand, fmin, Trials\n",
    "from pyod.models.knn import KNN"
   ]
  },
  {
   "cell_type": "code",
   "execution_count": 3,
   "id": "88c95154",
   "metadata": {},
   "outputs": [],
   "source": [
    "# load data and labels\n",
    "\n",
    "with open('/raid/mpsych/datasetASTAR.pkl','rb') as f:\n",
    "    datasetA = pickle.load(f)\n",
    "    \n",
    "with open('/raid/mpsych/datasetASTAR_labels.pkl', 'rb') as f1:\n",
    "    labels = np.asarray(pickle.load(f1))"
   ]
  },
  {
   "cell_type": "code",
   "execution_count": 5,
   "id": "c00642b7",
   "metadata": {},
   "outputs": [],
   "source": [
    "# determine the hyperparameter space\n",
    "\n",
    "param_grid = {\n",
    "    'contamination': hp.uniform('contamination', 0.07, .1),\n",
    "    'n_neighbors': hp.uniformint('n_neighbors', 1, 50),\n",
    "    'method': hp.choice('method', ['largest', 'mean', 'median']),\n",
    "    'radius': hp.quniform('radius', 0.0, 5.0, .1),\n",
    "    'leaf_size': hp.uniformint('leaf_size', 1, 100),\n",
    "    'metric': hp.choice('metric', ['minkowski', 'cityblock', 'euclidean', 'l1', 'l2', 'manhattan', \n",
    "                                  ]),\n",
    "    'p': hp.uniformint('p', 1, 10),\n",
    "    'n_jobs': hp.uniformint('n_jobs', 1, 4)\n",
    "}"
   ]
  },
  {
   "cell_type": "code",
   "execution_count": null,
   "id": "93599621",
   "metadata": {},
   "outputs": [],
   "source": [
    "hyperOpt = O.HyperTuner(\n",
    "    algorithm=KNN,\n",
    "    param_space=param_grid,\n",
    "    feature_type='hist',\n",
    "    norm_type='gaussian',\n",
    "    data=datasetA,\n",
    "    gt_labels=labels,\n",
    "    max_evals=50\n",
    ")"
   ]
  },
  {
   "cell_type": "code",
   "execution_count": 7,
   "id": "4159f929",
   "metadata": {},
   "outputs": [
    {
     "name": "stdout",
     "output_type": "stream",
     "text": [
      "100%|██████████████████████████████████████████████████████████████████████████████████████████████████████████████████████████████████████| 50/50 [02:22<00:00,  2.86s/trial, best loss: -0.8712500000000001]\n",
      "Best parameters:\n",
      "contamination: 0.07236974600054445\n",
      "leaf_size: 83.0\n",
      "method: 2.0\n",
      "metric: 3.0\n",
      "n_jobs: 2.0\n",
      "n_neighbors: 44.0\n",
      "p: 6.0\n",
      "radius: 2.0\n"
     ]
    },
    {
     "data": {
      "text/plain": [
       "{'contamination': 0.07236974600054445,\n",
       " 'leaf_size': 83.0,\n",
       " 'method': 2,\n",
       " 'metric': 3,\n",
       " 'n_jobs': 2.0,\n",
       " 'n_neighbors': 44.0,\n",
       " 'p': 6.0,\n",
       " 'radius': 2.0}"
      ]
     },
     "execution_count": 7,
     "metadata": {},
     "output_type": "execute_result"
    },
    {
     "data": {
      "image/png": "[encoded data removed]",
      "text/plain": [
       "<Figure size 432x288 with 1 Axes>"
      ]
     },
     "metadata": {
      "needs_background": "light"
     },
     "output_type": "display_data"
    }
   ],
   "source": [
    "hyperOpt.optimize()"
   ]
  },
  {
   "cell_type": "code",
   "execution_count": 35,
   "id": "31120448",
   "metadata": {},
   "outputs": [
    {
     "name": "stdout",
     "output_type": "stream",
     "text": [
      "Best parameters:\n",
      "contamination: 0.07236974600054445\n",
      "leaf_size: 83.0\n",
      "method: median\n",
      "metric: l1\n",
      "n_jobs: 2.0\n",
      "n_neighbors: 44.0\n",
      "p: 6.0\n",
      "radius: 2.0\n"
     ]
    }
   ],
   "source": [
    "hyperOpt.display_best_params()"
   ]
  },
  {
   "cell_type": "code",
   "execution_count": 36,
   "id": "3a3663ae",
   "metadata": {
    "scrolled": false
   },
   "outputs": [
    {
     "name": "stdout",
     "output_type": "stream",
     "text": [
      "Parameter space:\n",
      "contamination: ['0.07', '0.1']\n",
      "n_neighbors: ['1', '50', '1.0']\n",
      "method: ['largest', 'mean', 'median']\n",
      "radius: ['0.0', '5.0', '0.1']\n",
      "leaf_size: ['1', '100', '1.0']\n",
      "metric: ['minkowski', 'cityblock', 'euclidean', 'l1', 'l2', 'manhattan']\n",
      "p: ['1', '10', '1.0']\n",
      "n_jobs: ['1', '4', '1.0']\n"
     ]
    }
   ],
   "source": [
    "hyperOpt.print_param_space()"
   ]
  },
  {
   "cell_type": "code",
   "execution_count": 35,
   "id": "00434a34",
   "metadata": {},
   "outputs": [
    {
     "name": "stdout",
     "output_type": "stream",
     "text": [
      "<class 'dict'>\n"
     ]
    }
   ],
   "source": [
    "print(type(hyperOpt.param_space))"
   ]
  },
  {
   "cell_type": "code",
   "execution_count": 22,
   "id": "4f8987e5",
   "metadata": {},
   "outputs": [
    {
     "name": "stdout",
     "output_type": "stream",
     "text": [
      "{'contamination': ['0.07', '0.1'], 'n_neighbors': ['1', '50', '1.0'], 'method': ['largest', 'mean', 'median'], 'radius': ['0.0', '5.0', '0.1'], 'leaf_size': ['1', '100', '1.0'], 'metric': ['minkowski', 'cityblock', 'euclidean', 'l1', 'l2', 'manhattan'], 'p': ['1', '10', '1.0'], 'n_jobs': ['1', '4', '1.0']}\n"
     ]
    }
   ],
   "source": [
    "print(hyperOpt)"
   ]
  },
  {
   "cell_type": "code",
   "execution_count": null,
   "id": "f2ef84dd",
   "metadata": {},
   "outputs": [],
   "source": []
  }
 ],
 "metadata": {
  "kernelspec": {
   "display_name": "Python 3 (ipykernel)",
   "language": "python",
   "name": "python3"
  },
  "language_info": {
   "codemirror_mode": {
    "name": "ipython",
    "version": 3
   },
   "file_extension": ".py",
   "mimetype": "text/x-python",
   "name": "python",
   "nbconvert_exporter": "python",
   "pygments_lexer": "ipython3",
   "version": "3.9.7"
  }
 },
 "nbformat": 4,
 "nbformat_minor": 5
}
