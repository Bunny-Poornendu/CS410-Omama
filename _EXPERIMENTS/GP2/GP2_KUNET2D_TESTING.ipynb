{
 "cells": [
  {
   "cell_type": "code",
   "execution_count": 1,
   "id": "06c4accc",
   "metadata": {},
   "outputs": [
    {
     "name": "stdout",
     "output_type": "stream",
     "text": [
      "Populating the interactive namespace from numpy and matplotlib\n"
     ]
    }
   ],
   "source": [
    "%pylab inline\n",
    "%load_ext autoreload\n",
    "%autoreload 2"
   ]
  },
  {
   "cell_type": "code",
   "execution_count": 2,
   "id": "b9e78ed8",
   "metadata": {
    "scrolled": true
   },
   "outputs": [],
   "source": [
    "import time\n",
    "import sys\n",
    "sys.path.insert(0,'../..')\n",
    "import gp2\n",
    "from gp2 import Runner\n",
    "from keras import losses, metrics\n",
    "from tensorflow.keras import optimizers"
   ]
  },
  {
   "cell_type": "code",
   "execution_count": 3,
   "id": "bdc75325",
   "metadata": {},
   "outputs": [
    {
     "name": "stdout",
     "output_type": "stream",
     "text": [
      "*** GP2  KUNet2D ***\n",
      "Working directory: /tmp/tmp5hwqxa38GP2\n",
      "Using default discriminator (CNN)\n"
     ]
    }
   ],
   "source": [
    "R = Runner(classifier='kunet2d',\n",
    "           filter_num=[16, 32, 64, 128, 256, 512, 1024],\n",
    "           stack_num_down=3,\n",
    "           stack_num_up=3,\n",
    "           activation='ReLU',\n",
    "           output_activation='Sigmoid',\n",
    "           batch_norm=True,\n",
    "           pool=True,\n",
    "           unpool=True,\n",
    "           weights='imagenet',\n",
    "           optimizer=None, # default is optimizers.Adam(learning_rate=1e-3)\n",
    "           loss=None, # default is losses.binary_crossentropy\n",
    "           metric=None # default is Util.dice_coef           \n",
    "          )"
   ]
  },
  {
   "cell_type": "code",
   "execution_count": 4,
   "id": "87b0c65d",
   "metadata": {},
   "outputs": [],
   "source": [
    "# load our larger toy dataset (10k images and masks)\n",
    "images = np.load('/hpcstor6/scratch01/r/ryan.zurrin001/GP2TOYEXAMPLE_LARGE/images.npy')\n",
    "masks = np.load('/hpcstor6/scratch01/r/ryan.zurrin001/GP2TOYEXAMPLE_LARGE/masks.npy')"
   ]
  },
  {
   "cell_type": "code",
   "execution_count": 5,
   "id": "7330ad24",
   "metadata": {},
   "outputs": [],
   "source": [
    "images = images[:5000]\n",
    "masks = masks[:5000]"
   ]
  },
  {
   "cell_type": "code",
   "execution_count": 6,
   "id": "d5b4179a",
   "metadata": {},
   "outputs": [
    {
     "data": {
      "text/plain": [
       "(5000, 512, 512, 1)"
      ]
     },
     "execution_count": 6,
     "metadata": {},
     "output_type": "execute_result"
    }
   ],
   "source": [
    "images.shape"
   ]
  },
  {
   "cell_type": "code",
   "execution_count": 7,
   "id": "57033c4e",
   "metadata": {},
   "outputs": [
    {
     "data": {
      "text/plain": [
       "(5000, 512, 512, 1)"
      ]
     },
     "execution_count": 7,
     "metadata": {},
     "output_type": "execute_result"
    }
   ],
   "source": [
    "masks.shape"
   ]
  },
  {
   "cell_type": "code",
   "execution_count": 8,
   "id": "1dd71668",
   "metadata": {},
   "outputs": [],
   "source": [
    "weights = {\n",
    "    'A': 0.5,\n",
    "    'A_train': 0.1,\n",
    "    'A_val': 0.3,\n",
    "    'A_test': 0.6,\n",
    "    'B': 0.3,\n",
    "    'B_train': 0.7,\n",
    "    'B_val': 0.1,\n",
    "    'B_test': 0.2,\n",
    "    'Z': 0.2\n",
    "}"
   ]
  },
  {
   "cell_type": "code",
   "execution_count": null,
   "id": "d8ff85c4",
   "metadata": {
    "scrolled": true
   },
   "outputs": [
    {
     "name": "stdout",
     "output_type": "stream",
     "text": [
      "Weights OK!\n",
      "******\n",
      "Loop 0\n",
      "Epoch 1/100\n",
      "4/4 [==============================] - 37s 6s/step - loss: 0.4005 - dice_coef: 0.2310 - val_loss: 0.7134 - val_dice_coef: 0.1806\n",
      "Epoch 2/100\n",
      "4/4 [==============================] - 4s 1s/step - loss: 0.3601 - dice_coef: 0.2720 - val_loss: 0.6923 - val_dice_coef: 0.1776\n",
      "Epoch 3/100\n",
      "4/4 [==============================] - 5s 1s/step - loss: 0.3602 - dice_coef: 0.2714 - val_loss: 0.6765 - val_dice_coef: 0.1756\n",
      "Epoch 4/100\n",
      "4/4 [==============================] - 4s 1s/step - loss: 0.3600 - dice_coef: 0.2719 - val_loss: 0.6635 - val_dice_coef: 0.1743\n",
      "Epoch 5/100\n",
      "4/4 [==============================] - 4s 1s/step - loss: 0.3599 - dice_coef: 0.2721 - val_loss: 0.6521 - val_dice_coef: 0.1733\n",
      "Epoch 6/100\n",
      "4/4 [==============================] - 5s 1s/step - loss: 0.3600 - dice_coef: 0.2719 - val_loss: 0.6418 - val_dice_coef: 0.1725\n",
      "Epoch 7/100\n",
      "4/4 [==============================] - 4s 1s/step - loss: 0.3605 - dice_coef: 0.2716 - val_loss: 0.6324 - val_dice_coef: 0.1718\n",
      "Model saved to: /tmp/tmph432hsyaGP2/unet_0unet_model\n",
      "History saved to: /tmp/tmph432hsyaGP2/unet_history_0.pkl\n",
      "Testing the classifier...\n"
     ]
    }
   ],
   "source": [
    "\n",
    "R.run(images=images, masks=masks, weights=weights, runs=5)"
   ]
  },
  {
   "cell_type": "code",
   "execution_count": null,
   "id": "dab6fd49",
   "metadata": {},
   "outputs": [],
   "source": []
  },
  {
   "cell_type": "code",
   "execution_count": null,
   "id": "00075332",
   "metadata": {
    "scrolled": true
   },
   "outputs": [],
   "source": [
    "R.classifier_scores"
   ]
  },
  {
   "cell_type": "code",
   "execution_count": null,
   "id": "35105656",
   "metadata": {},
   "outputs": [],
   "source": [
    "R.discriminator_scores"
   ]
  },
  {
   "cell_type": "code",
   "execution_count": null,
   "id": "589a957f",
   "metadata": {},
   "outputs": [],
   "source": [
    "R.plot()"
   ]
  },
  {
   "cell_type": "code",
   "execution_count": null,
   "id": "fb654005",
   "metadata": {},
   "outputs": [],
   "source": []
  },
  {
   "cell_type": "code",
   "execution_count": null,
   "id": "5aa377b2",
   "metadata": {},
   "outputs": [],
   "source": []
  },
  {
   "cell_type": "code",
   "execution_count": 18,
   "id": "d640483d",
   "metadata": {},
   "outputs": [
    {
     "data": {
      "image/png": "[encoded data removed]",
      "text/plain": [
       "<Figure size 240x240 with 1 Axes>"
      ]
     },
     "metadata": {
      "needs_background": "light"
     },
     "output_type": "display_data"
    }
   ],
   "source": [
    "R.plot()"
   ]
  },
  {
   "cell_type": "code",
   "execution_count": null,
   "id": "7dca2275",
   "metadata": {},
   "outputs": [],
   "source": []
  },
  {
   "cell_type": "code",
   "execution_count": 18,
   "id": "b1ec788d",
   "metadata": {},
   "outputs": [
    {
     "data": {
      "image/png": "[encoded data removed]",
      "text/plain": [
       "<Figure size 240x240 with 1 Axes>"
      ]
     },
     "metadata": {
      "needs_background": "light"
     },
     "output_type": "display_data"
    }
   ],
   "source": [
    "R.plot()"
   ]
  },
  {
   "cell_type": "code",
   "execution_count": null,
   "id": "0553618c",
   "metadata": {},
   "outputs": [],
   "source": []
  },
  {
   "cell_type": "code",
   "execution_count": 17,
   "id": "0a721a90",
   "metadata": {},
   "outputs": [
    {
     "data": {
      "image/png": "[encoded data removed]",
      "text/plain": [
       "<Figure size 240x240 with 1 Axes>"
      ]
     },
     "metadata": {
      "needs_background": "light"
     },
     "output_type": "display_data"
    }
   ],
   "source": [
    "R.plot()"
   ]
  },
  {
   "cell_type": "code",
   "execution_count": null,
   "id": "551de181",
   "metadata": {},
   "outputs": [],
   "source": []
  }
 ],
 "metadata": {
  "kernelspec": {
   "display_name": "Python 3 (ipykernel)",
   "language": "python",
   "name": "python3"
  },
  "language_info": {
   "codemirror_mode": {
    "name": "ipython",
    "version": 3
   },
   "file_extension": ".py",
   "mimetype": "text/x-python",
   "name": "python",
   "nbconvert_exporter": "python",
   "pygments_lexer": "ipython3",
   "version": "3.9.7"
  }
 },
 "nbformat": 4,
 "nbformat_minor": 5
}
