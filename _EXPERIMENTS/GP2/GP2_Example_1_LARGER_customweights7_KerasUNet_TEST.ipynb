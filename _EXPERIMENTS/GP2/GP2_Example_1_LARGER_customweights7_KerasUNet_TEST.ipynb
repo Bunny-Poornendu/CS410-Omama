{
 "cells": [
  {
   "cell_type": "code",
   "execution_count": 1,
   "id": "06c4accc",
   "metadata": {},
   "outputs": [
    {
     "name": "stdout",
     "output_type": "stream",
     "text": [
      "Populating the interactive namespace from numpy and matplotlib\n"
     ]
    }
   ],
   "source": [
    "%pylab inline\n",
    "%load_ext autoreload\n",
    "%autoreload 2"
   ]
  },
  {
   "cell_type": "code",
   "execution_count": null,
   "id": "861fc4c8",
   "metadata": {},
   "outputs": [],
   "source": []
  },
  {
   "cell_type": "code",
   "execution_count": null,
   "id": "22cd4703",
   "metadata": {},
   "outputs": [],
   "source": []
  },
  {
   "cell_type": "code",
   "execution_count": 2,
   "id": "3b313506",
   "metadata": {},
   "outputs": [],
   "source": [
    "import time"
   ]
  },
  {
   "cell_type": "code",
   "execution_count": 3,
   "id": "b9e78ed8",
   "metadata": {},
   "outputs": [
    {
     "name": "stderr",
     "output_type": "stream",
     "text": [
      "/home/ryan.zurrin001/miniconda3/envs/O/lib/python3.9/site-packages/tensorflow/python/keras/optimizer_v2/optimizer_v2.py:374: UserWarning: The `lr` argument is deprecated, use `learning_rate` instead.\n",
      "  warnings.warn(\n"
     ]
    }
   ],
   "source": [
    "import time\n",
    "import sys\n",
    "sys.path.insert(0,'../..')\n",
    "from gp2 import Runner"
   ]
  },
  {
   "cell_type": "code",
   "execution_count": 4,
   "id": "bdc75325",
   "metadata": {},
   "outputs": [
    {
     "name": "stdout",
     "output_type": "stream",
     "text": [
      "*** GP2 ***\n",
      "Working directory: /tmp/tmpu59_mbn3GP2\n",
      "Verbose mode active!\n"
     ]
    }
   ],
   "source": [
    "R = Runner(verbose=True, classifier='unetplus')"
   ]
  },
  {
   "cell_type": "code",
   "execution_count": 5,
   "id": "87b0c65d",
   "metadata": {},
   "outputs": [],
   "source": [
    "# load our larger toy dataset (10k images and masks)\n",
    "images = np.load('/hpcstor6/scratch01/r/ryan.zurrin001/GP2TOYEXAMPLE_LARGE/images.npy')\n",
    "masks = np.load('/hpcstor6/scratch01/r/ryan.zurrin001/GP2TOYEXAMPLE_LARGE/masks.npy')"
   ]
  },
  {
   "cell_type": "code",
   "execution_count": 6,
   "id": "d5b4179a",
   "metadata": {},
   "outputs": [
    {
     "data": {
      "text/plain": [
       "(10000, 512, 512, 1)"
      ]
     },
     "execution_count": 6,
     "metadata": {},
     "output_type": "execute_result"
    }
   ],
   "source": [
    "images.shape"
   ]
  },
  {
   "cell_type": "code",
   "execution_count": 7,
   "id": "57033c4e",
   "metadata": {},
   "outputs": [
    {
     "data": {
      "text/plain": [
       "(10000, 512, 512, 1)"
      ]
     },
     "execution_count": 7,
     "metadata": {},
     "output_type": "execute_result"
    }
   ],
   "source": [
    "masks.shape"
   ]
  },
  {
   "cell_type": "code",
   "execution_count": 8,
   "id": "393c7029",
   "metadata": {},
   "outputs": [
    {
     "name": "stdout",
     "output_type": "stream",
     "text": [
      "255\n"
     ]
    }
   ],
   "source": [
    "print(images.max())"
   ]
  },
  {
   "cell_type": "code",
   "execution_count": 9,
   "id": "97eca1aa",
   "metadata": {},
   "outputs": [
    {
     "name": "stdout",
     "output_type": "stream",
     "text": [
      "0\n"
     ]
    }
   ],
   "source": [
    "print(images.min())"
   ]
  },
  {
   "cell_type": "code",
   "execution_count": 10,
   "id": "2821eb86",
   "metadata": {},
   "outputs": [
    {
     "name": "stdout",
     "output_type": "stream",
     "text": [
      "True\n"
     ]
    }
   ],
   "source": [
    "print(masks.max())"
   ]
  },
  {
   "cell_type": "code",
   "execution_count": 11,
   "id": "1dd71668",
   "metadata": {},
   "outputs": [],
   "source": [
    "weights = {\n",
    "    'A': 0.5,\n",
    "    'A_train': 0.1,\n",
    "    'A_val': 0.3,\n",
    "    'A_test': 0.6,\n",
    "    'B': 0.3,\n",
    "    'B_train': 0.7,\n",
    "    'B_val': 0.1,\n",
    "    'B_test': 0.2,\n",
    "    'Z': 0.2\n",
    "}\n",
    "PERCENT_TO_REPLACE = 30"
   ]
  },
  {
   "cell_type": "code",
   "execution_count": 12,
   "id": "2a5d1030",
   "metadata": {},
   "outputs": [
    {
     "name": "stdout",
     "output_type": "stream",
     "text": [
      "Weights OK!\n"
     ]
    }
   ],
   "source": [
    "R.setup_data(images, masks, dataset_size=10000, weights=weights)"
   ]
  },
  {
   "cell_type": "code",
   "execution_count": 13,
   "id": "99127251",
   "metadata": {},
   "outputs": [],
   "source": [
    "RUNS = 5"
   ]
  },
  {
   "cell_type": "code",
   "execution_count": 14,
   "id": "d8ff85c4",
   "metadata": {
    "scrolled": true
   },
   "outputs": [
    {
     "name": "stdout",
     "output_type": "stream",
     "text": [
      "***\n",
      "RUN: 0\n",
      "Epoch 1/100\n",
      "8/8 [==============================] - 28s 2s/step - loss: 0.8839 - binary_accuracy: 0.4799 - val_loss: 0.5885 - val_binary_accuracy: 0.7524\n",
      "Epoch 2/100\n",
      "8/8 [==============================] - 10s 1s/step - loss: 0.8671 - binary_accuracy: 0.4867 - val_loss: 0.6448 - val_binary_accuracy: 0.6065\n",
      "Epoch 3/100\n",
      "8/8 [==============================] - 10s 1s/step - loss: 0.8516 - binary_accuracy: 0.4932 - val_loss: 0.6774 - val_binary_accuracy: 0.5080\n",
      "Epoch 4/100\n",
      "8/8 [==============================] - 10s 1s/step - loss: 0.8370 - binary_accuracy: 0.4996 - val_loss: 0.6964 - val_binary_accuracy: 0.4597\n",
      "Epoch 5/100\n",
      "8/8 [==============================] - 10s 1s/step - loss: 0.8227 - binary_accuracy: 0.5068 - val_loss: 0.7070 - val_binary_accuracy: 0.4659\n",
      "Epoch 6/100\n",
      "8/8 [==============================] - 10s 1s/step - loss: 0.8084 - binary_accuracy: 0.5147 - val_loss: 0.7106 - val_binary_accuracy: 0.5215\n",
      "Epoch 7/100\n",
      "8/8 [==============================] - 10s 1s/step - loss: 0.7938 - binary_accuracy: 0.5249 - val_loss: 0.7092 - val_binary_accuracy: 0.5697\n",
      "Epoch 8/100\n",
      "8/8 [==============================] - 10s 1s/step - loss: 0.7774 - binary_accuracy: 0.5379 - val_loss: 0.7038 - val_binary_accuracy: 0.6109\n",
      "Epoch 9/100\n",
      "8/8 [==============================] - 10s 1s/step - loss: 0.7592 - binary_accuracy: 0.5532 - val_loss: 0.6947 - val_binary_accuracy: 0.6498\n",
      "Epoch 10/100\n",
      "8/8 [==============================] - 10s 1s/step - loss: 0.7363 - binary_accuracy: 0.5727 - val_loss: 0.6815 - val_binary_accuracy: 0.6868\n",
      "Epoch 11/100\n",
      "8/8 [==============================] - 10s 1s/step - loss: 0.7071 - binary_accuracy: 0.5962 - val_loss: 0.6631 - val_binary_accuracy: 0.7243\n",
      "Epoch 12/100\n",
      "8/8 [==============================] - 10s 1s/step - loss: 0.6731 - binary_accuracy: 0.6223 - val_loss: 0.6406 - val_binary_accuracy: 0.7586\n",
      "Epoch 13/100\n",
      "8/8 [==============================] - 10s 1s/step - loss: 0.6361 - binary_accuracy: 0.6511 - val_loss: 0.6190 - val_binary_accuracy: 0.7811\n",
      "Epoch 14/100\n",
      "8/8 [==============================] - 10s 1s/step - loss: 0.6069 - binary_accuracy: 0.6777 - val_loss: 0.5962 - val_binary_accuracy: 0.8017\n",
      "Epoch 15/100\n",
      "8/8 [==============================] - 10s 1s/step - loss: 0.5798 - binary_accuracy: 0.7084 - val_loss: 0.5825 - val_binary_accuracy: 0.8015\n",
      "Epoch 16/100\n",
      "8/8 [==============================] - 10s 1s/step - loss: 0.5596 - binary_accuracy: 0.7316 - val_loss: 0.5998 - val_binary_accuracy: 0.7506\n",
      "Epoch 17/100\n",
      "8/8 [==============================] - 10s 1s/step - loss: 0.5416 - binary_accuracy: 0.7540 - val_loss: 0.8898 - val_binary_accuracy: 0.3929\n",
      "Epoch 18/100\n",
      "8/8 [==============================] - 10s 1s/step - loss: 0.5249 - binary_accuracy: 0.7739 - val_loss: 1.0261 - val_binary_accuracy: 0.3673\n",
      "Epoch 19/100\n",
      "8/8 [==============================] - 10s 1s/step - loss: 0.5142 - binary_accuracy: 0.7883 - val_loss: 0.9770 - val_binary_accuracy: 0.4009\n",
      "Epoch 20/100\n",
      "8/8 [==============================] - 10s 1s/step - loss: 0.5010 - binary_accuracy: 0.8045 - val_loss: 1.1374 - val_binary_accuracy: 0.3409\n",
      "Epoch 21/100\n",
      "8/8 [==============================] - 10s 1s/step - loss: 0.4893 - binary_accuracy: 0.8205 - val_loss: 1.5712 - val_binary_accuracy: 0.2457\n",
      "Epoch 22/100\n",
      "8/8 [==============================] - 10s 1s/step - loss: 0.4786 - binary_accuracy: 0.8358 - val_loss: 1.8539 - val_binary_accuracy: 0.2399\n",
      "Epoch 23/100\n",
      "8/8 [==============================] - 10s 1s/step - loss: 0.4669 - binary_accuracy: 0.8514 - val_loss: 2.2487 - val_binary_accuracy: 0.2218\n",
      "Epoch 24/100\n",
      "8/8 [==============================] - 10s 1s/step - loss: 0.4585 - binary_accuracy: 0.8617 - val_loss: 2.5525 - val_binary_accuracy: 0.2590\n",
      "Epoch 25/100\n",
      "8/8 [==============================] - 10s 1s/step - loss: 0.4481 - binary_accuracy: 0.8754 - val_loss: 3.3989 - val_binary_accuracy: 0.2214\n",
      "Epoch 26/100\n",
      "8/8 [==============================] - 10s 1s/step - loss: 0.4383 - binary_accuracy: 0.8874 - val_loss: 3.6340 - val_binary_accuracy: 0.2298\n",
      "Epoch 27/100\n",
      "8/8 [==============================] - 10s 1s/step - loss: 0.4287 - binary_accuracy: 0.8984 - val_loss: 3.5920 - val_binary_accuracy: 0.2140\n",
      "Epoch 28/100\n",
      "8/8 [==============================] - 10s 1s/step - loss: 0.4191 - binary_accuracy: 0.9098 - val_loss: 4.0333 - val_binary_accuracy: 0.2476\n",
      "Epoch 29/100\n",
      "8/8 [==============================] - 10s 1s/step - loss: 0.4100 - binary_accuracy: 0.9207 - val_loss: 5.3212 - val_binary_accuracy: 0.2096\n",
      "Epoch 30/100\n",
      "8/8 [==============================] - 10s 1s/step - loss: 0.4011 - binary_accuracy: 0.9303 - val_loss: 5.9958 - val_binary_accuracy: 0.2040\n",
      "Epoch 31/100\n",
      "8/8 [==============================] - 10s 1s/step - loss: 0.3914 - binary_accuracy: 0.9395 - val_loss: 5.2562 - val_binary_accuracy: 0.2502\n",
      "Epoch 32/100\n",
      "8/8 [==============================] - 10s 1s/step - loss: 0.3836 - binary_accuracy: 0.9470 - val_loss: 4.7863 - val_binary_accuracy: 0.3236\n",
      "Epoch 33/100\n",
      "8/8 [==============================] - 10s 1s/step - loss: 0.3747 - binary_accuracy: 0.9545 - val_loss: 7.9665 - val_binary_accuracy: 0.2597\n",
      "Epoch 34/100\n",
      "8/8 [==============================] - 10s 1s/step - loss: 0.3650 - binary_accuracy: 0.9613 - val_loss: 7.6766 - val_binary_accuracy: 0.3005\n",
      "Epoch 35/100\n",
      "8/8 [==============================] - 10s 1s/step - loss: 0.3565 - binary_accuracy: 0.9663 - val_loss: 7.6083 - val_binary_accuracy: 0.2964\n",
      "Epoch 36/100\n",
      "8/8 [==============================] - 10s 1s/step - loss: 0.3484 - binary_accuracy: 0.9703 - val_loss: 5.5581 - val_binary_accuracy: 0.4062\n",
      "Epoch 37/100\n",
      "8/8 [==============================] - 10s 1s/step - loss: 0.3400 - binary_accuracy: 0.9737 - val_loss: 6.5257 - val_binary_accuracy: 0.3565\n",
      "Epoch 38/100\n",
      "8/8 [==============================] - 10s 1s/step - loss: 0.3314 - binary_accuracy: 0.9764 - val_loss: 6.1778 - val_binary_accuracy: 0.3656\n",
      "Epoch 39/100\n",
      "8/8 [==============================] - 10s 1s/step - loss: 0.3243 - binary_accuracy: 0.9785 - val_loss: 7.6980 - val_binary_accuracy: 0.2957\n",
      "Epoch 40/100\n",
      "8/8 [==============================] - 10s 1s/step - loss: 0.3173 - binary_accuracy: 0.9798 - val_loss: 5.1262 - val_binary_accuracy: 0.4276\n",
      "Epoch 41/100\n",
      "8/8 [==============================] - 10s 1s/step - loss: 0.3102 - binary_accuracy: 0.9810 - val_loss: 5.7513 - val_binary_accuracy: 0.4267\n",
      "Epoch 42/100\n",
      "8/8 [==============================] - 10s 1s/step - loss: 0.3037 - binary_accuracy: 0.9821 - val_loss: 3.9664 - val_binary_accuracy: 0.4873\n",
      "Epoch 43/100\n",
      "8/8 [==============================] - 10s 1s/step - loss: 0.2975 - binary_accuracy: 0.9826 - val_loss: 8.9645 - val_binary_accuracy: 0.2527\n",
      "Epoch 44/100\n",
      "8/8 [==============================] - 10s 1s/step - loss: 0.2911 - binary_accuracy: 0.9833 - val_loss: 4.7824 - val_binary_accuracy: 0.4400\n",
      "Epoch 45/100\n",
      "8/8 [==============================] - 10s 1s/step - loss: 0.2841 - binary_accuracy: 0.9843 - val_loss: 6.2795 - val_binary_accuracy: 0.3923\n",
      "Epoch 46/100\n",
      "8/8 [==============================] - 10s 1s/step - loss: 0.2765 - binary_accuracy: 0.9847 - val_loss: 6.2517 - val_binary_accuracy: 0.3926\n",
      "Epoch 47/100\n",
      "8/8 [==============================] - 10s 1s/step - loss: 0.2702 - binary_accuracy: 0.9851 - val_loss: 6.9990 - val_binary_accuracy: 0.3596\n",
      "Epoch 48/100\n",
      "8/8 [==============================] - 10s 1s/step - loss: 0.2639 - binary_accuracy: 0.9854 - val_loss: 6.6200 - val_binary_accuracy: 0.3603\n",
      "Epoch 49/100\n",
      "8/8 [==============================] - 10s 1s/step - loss: 0.2596 - binary_accuracy: 0.9850 - val_loss: 4.3864 - val_binary_accuracy: 0.5203\n",
      "Epoch 50/100\n",
      "8/8 [==============================] - 10s 1s/step - loss: 0.2541 - binary_accuracy: 0.9857 - val_loss: 3.8920 - val_binary_accuracy: 0.5454\n",
      "Epoch 51/100\n",
      "8/8 [==============================] - 10s 1s/step - loss: 0.2474 - binary_accuracy: 0.9860 - val_loss: 5.3616 - val_binary_accuracy: 0.4208\n",
      "Epoch 52/100\n",
      "8/8 [==============================] - 10s 1s/step - loss: 0.2408 - binary_accuracy: 0.9860 - val_loss: 2.9664 - val_binary_accuracy: 0.5832\n",
      "Epoch 53/100\n",
      "8/8 [==============================] - 10s 1s/step - loss: 0.2344 - binary_accuracy: 0.9865 - val_loss: 4.2971 - val_binary_accuracy: 0.4770\n",
      "Epoch 54/100\n"
     ]
    },
    {
     "name": "stdout",
     "output_type": "stream",
     "text": [
      "8/8 [==============================] - 10s 1s/step - loss: 0.2284 - binary_accuracy: 0.9866 - val_loss: 3.9663 - val_binary_accuracy: 0.5110\n",
      "Epoch 55/100\n",
      "8/8 [==============================] - 10s 1s/step - loss: 0.2221 - binary_accuracy: 0.9866 - val_loss: 2.1583 - val_binary_accuracy: 0.7118\n",
      "Epoch 56/100\n",
      "8/8 [==============================] - 10s 1s/step - loss: 0.2153 - binary_accuracy: 0.9870 - val_loss: 4.1342 - val_binary_accuracy: 0.5556\n",
      "Epoch 57/100\n",
      "8/8 [==============================] - 10s 1s/step - loss: 0.2087 - binary_accuracy: 0.9868 - val_loss: 4.0653 - val_binary_accuracy: 0.5406\n",
      "Epoch 58/100\n",
      "8/8 [==============================] - 10s 1s/step - loss: 0.2024 - binary_accuracy: 0.9865 - val_loss: 5.7774 - val_binary_accuracy: 0.4456\n",
      "Epoch 59/100\n",
      "8/8 [==============================] - 10s 1s/step - loss: 0.1942 - binary_accuracy: 0.9869 - val_loss: 6.6754 - val_binary_accuracy: 0.4037\n",
      "Epoch 60/100\n",
      "8/8 [==============================] - 10s 1s/step - loss: 0.1882 - binary_accuracy: 0.9863 - val_loss: 2.8486 - val_binary_accuracy: 0.6629\n",
      "Epoch 61/100\n",
      "8/8 [==============================] - 10s 1s/step - loss: 0.1816 - binary_accuracy: 0.9867 - val_loss: 4.5432 - val_binary_accuracy: 0.5392\n",
      "Epoch 62/100\n",
      "8/8 [==============================] - 10s 1s/step - loss: 0.1770 - binary_accuracy: 0.9866 - val_loss: 5.5606 - val_binary_accuracy: 0.4734\n",
      "Epoch 63/100\n",
      "8/8 [==============================] - 10s 1s/step - loss: 0.1719 - binary_accuracy: 0.9868 - val_loss: 7.2092 - val_binary_accuracy: 0.3882\n",
      "Epoch 64/100\n",
      "8/8 [==============================] - 10s 1s/step - loss: 0.1684 - binary_accuracy: 0.9870 - val_loss: 4.0500 - val_binary_accuracy: 0.5683\n",
      "Epoch 65/100\n",
      "8/8 [==============================] - 10s 1s/step - loss: 0.1649 - binary_accuracy: 0.9871 - val_loss: 5.4233 - val_binary_accuracy: 0.5130\n",
      "Epoch 66/100\n",
      "8/8 [==============================] - 10s 1s/step - loss: 0.1618 - binary_accuracy: 0.9870 - val_loss: 4.6505 - val_binary_accuracy: 0.5691\n",
      "Epoch 67/100\n",
      "8/8 [==============================] - 10s 1s/step - loss: 0.1584 - binary_accuracy: 0.9872 - val_loss: 4.5077 - val_binary_accuracy: 0.5675\n",
      "Epoch 68/100\n",
      "8/8 [==============================] - 10s 1s/step - loss: 0.1551 - binary_accuracy: 0.9875 - val_loss: 3.4926 - val_binary_accuracy: 0.6614\n",
      "Epoch 69/100\n",
      "8/8 [==============================] - 10s 1s/step - loss: 0.1526 - binary_accuracy: 0.9876 - val_loss: 2.2886 - val_binary_accuracy: 0.7550\n",
      "Epoch 70/100\n",
      "8/8 [==============================] - 10s 1s/step - loss: 0.1503 - binary_accuracy: 0.9876 - val_loss: 3.9671 - val_binary_accuracy: 0.6308\n",
      "Epoch 71/100\n",
      "8/8 [==============================] - 10s 1s/step - loss: 0.1468 - binary_accuracy: 0.9877 - val_loss: 5.6511 - val_binary_accuracy: 0.5188\n",
      "Epoch 72/100\n",
      "8/8 [==============================] - 10s 1s/step - loss: 0.1442 - binary_accuracy: 0.9879 - val_loss: 4.3505 - val_binary_accuracy: 0.6009\n",
      "Epoch 73/100\n",
      "8/8 [==============================] - 10s 1s/step - loss: 0.1413 - binary_accuracy: 0.9881 - val_loss: 3.0660 - val_binary_accuracy: 0.6957\n",
      "Epoch 74/100\n",
      "8/8 [==============================] - 10s 1s/step - loss: 0.1396 - binary_accuracy: 0.9880 - val_loss: 2.0725 - val_binary_accuracy: 0.7847\n",
      "Epoch 75/100\n",
      "8/8 [==============================] - 10s 1s/step - loss: 0.1386 - binary_accuracy: 0.9880 - val_loss: 3.8938 - val_binary_accuracy: 0.6659\n",
      "Epoch 76/100\n",
      "8/8 [==============================] - 10s 1s/step - loss: 0.1359 - binary_accuracy: 0.9878 - val_loss: 0.8411 - val_binary_accuracy: 0.9161\n",
      "Epoch 77/100\n",
      "8/8 [==============================] - 10s 1s/step - loss: 0.1343 - binary_accuracy: 0.9881 - val_loss: 0.5351 - val_binary_accuracy: 0.9426\n",
      "Epoch 78/100\n",
      "8/8 [==============================] - 10s 1s/step - loss: 0.1317 - binary_accuracy: 0.9881 - val_loss: 1.2235 - val_binary_accuracy: 0.8778\n",
      "Epoch 79/100\n",
      "8/8 [==============================] - 10s 1s/step - loss: 0.1290 - binary_accuracy: 0.9885 - val_loss: 2.8605 - val_binary_accuracy: 0.7451\n",
      "Epoch 80/100\n",
      "8/8 [==============================] - 10s 1s/step - loss: 0.1273 - binary_accuracy: 0.9884 - val_loss: 3.5839 - val_binary_accuracy: 0.6995\n",
      "Epoch 81/100\n",
      "8/8 [==============================] - 10s 1s/step - loss: 0.1256 - binary_accuracy: 0.9886 - val_loss: 3.2129 - val_binary_accuracy: 0.7171\n",
      "Epoch 82/100\n",
      "8/8 [==============================] - 10s 1s/step - loss: 0.1244 - binary_accuracy: 0.9886 - val_loss: 2.5080 - val_binary_accuracy: 0.7669\n",
      "Epoch 83/100\n",
      "8/8 [==============================] - 10s 1s/step - loss: 0.1237 - binary_accuracy: 0.9884 - val_loss: 1.9022 - val_binary_accuracy: 0.7899\n",
      "Epoch 84/100\n",
      "8/8 [==============================] - 10s 1s/step - loss: 0.1213 - binary_accuracy: 0.9884 - val_loss: 1.4481 - val_binary_accuracy: 0.8534\n",
      "Epoch 85/100\n",
      "8/8 [==============================] - 10s 1s/step - loss: 0.1191 - binary_accuracy: 0.9888 - val_loss: 1.4619 - val_binary_accuracy: 0.8638\n",
      "Epoch 86/100\n",
      "8/8 [==============================] - 10s 1s/step - loss: 0.1180 - binary_accuracy: 0.9888 - val_loss: 2.2365 - val_binary_accuracy: 0.8032\n",
      "Epoch 87/100\n",
      "8/8 [==============================] - 10s 1s/step - loss: 0.1146 - binary_accuracy: 0.9893 - val_loss: 2.0358 - val_binary_accuracy: 0.8043\n",
      "Epoch 88/100\n",
      "8/8 [==============================] - 10s 1s/step - loss: 0.1137 - binary_accuracy: 0.9890 - val_loss: 3.5367 - val_binary_accuracy: 0.6903\n",
      "Epoch 89/100\n",
      "8/8 [==============================] - 10s 1s/step - loss: 0.1161 - binary_accuracy: 0.9885 - val_loss: 1.0815 - val_binary_accuracy: 0.8326\n",
      "Epoch 90/100\n",
      "8/8 [==============================] - 10s 1s/step - loss: 0.1137 - binary_accuracy: 0.9883 - val_loss: 2.0292 - val_binary_accuracy: 0.7822\n",
      "Epoch 91/100\n",
      "8/8 [==============================] - 10s 1s/step - loss: 0.1101 - binary_accuracy: 0.9891 - val_loss: 2.3570 - val_binary_accuracy: 0.7851\n",
      "Epoch 92/100\n",
      "8/8 [==============================] - 10s 1s/step - loss: 0.1090 - binary_accuracy: 0.9892 - val_loss: 1.7277 - val_binary_accuracy: 0.7953\n",
      "Epoch 93/100\n",
      "8/8 [==============================] - 10s 1s/step - loss: 0.1079 - binary_accuracy: 0.9890 - val_loss: 2.4287 - val_binary_accuracy: 0.7342\n",
      "Epoch 94/100\n",
      "8/8 [==============================] - 10s 1s/step - loss: 0.1057 - binary_accuracy: 0.9894 - val_loss: 2.0023 - val_binary_accuracy: 0.7975\n",
      "Epoch 95/100\n",
      "8/8 [==============================] - 10s 1s/step - loss: 0.1044 - binary_accuracy: 0.9893 - val_loss: 1.4828 - val_binary_accuracy: 0.8499\n",
      "Epoch 96/100\n",
      "8/8 [==============================] - 10s 1s/step - loss: 0.1032 - binary_accuracy: 0.9895 - val_loss: 1.4561 - val_binary_accuracy: 0.8352\n",
      "Epoch 97/100\n",
      "8/8 [==============================] - 10s 1s/step - loss: 0.1018 - binary_accuracy: 0.9896 - val_loss: 1.0737 - val_binary_accuracy: 0.8344\n",
      "Epoch 98/100\n",
      "8/8 [==============================] - 10s 1s/step - loss: 0.1008 - binary_accuracy: 0.9895 - val_loss: 1.0582 - val_binary_accuracy: 0.8517\n",
      "Epoch 99/100\n",
      "8/8 [==============================] - 10s 1s/step - loss: 0.0990 - binary_accuracy: 0.9898 - val_loss: 1.2764 - val_binary_accuracy: 0.8081\n",
      "Epoch 100/100\n",
      "8/8 [==============================] - 10s 1s/step - loss: 0.0980 - binary_accuracy: 0.9898 - val_loss: 1.1437 - val_binary_accuracy: 0.8216\n",
      "Model saved to: /tmp/tmpu59_mbn3GP2/kunet_0model\n",
      "History saved to: /tmp/tmpu59_mbn3GP2/khistory_0.pkl\n",
      "Testing the classifier...\n",
      "Model saved to /tmp/tmpu59_mbn3GP2/cnnd_0.model\n",
      "History saved to /tmp/tmpu59_mbn3GP2/cnnd_history_0.pickle\n",
      "Testing the discriminator...\n",
      "19/19 [==============================] - 1s 26ms/step - loss: 0.1057 - accuracy: 0.9900\n",
      "Found 292 machine labels.\n",
      "Machine labels [  8  11  17  18  21  23  24  26  27  28  33  34  41  42  43  44  45  48\n",
      "  52  53  54  55  56  57  62  64  67  69  71  72  73  75  76  77  79  85\n",
      "  90  91  92  93  94  95  96  97  98  99 101 103 105 106 107 108 111 112\n",
      " 113 117 121 123 124 125 126 128 131 132 138 139 141 143 147 148 151 152\n",
      " 155 157 158 159 160 162 164 167 169 172 173 177 179 184 189 190 191 192\n",
      " 194 197 199 203 205 207 210 218 220 221 223 224 225 227 228 232 233 235\n",
      " 239 244 247 249 252 254 256 258 260 261 262 263 264 269 270 273 275 278\n",
      " 279 280 282 285 286 287 288 289 291 294 295 297 298 301 302 304 306 308\n",
      " 309 312 314 318 320 321 323 324 325 329 330 331 332 333 337 338 340 342\n",
      " 343 344 347 348 350 351 353 354 355 356 357 358 359 360 361 363 364 365\n",
      " 367 369 372 373 374 375 376 377 379 380 382 385 386 391 394 395 397 399\n",
      " 400 401 403 404 405 407 409 413 414 416 419 422 426 429 431 434 435 436\n",
      " 437 438 441 442 443 444 446 452 455 456 459 462 465 466 469 471 472 473\n",
      " 474 477 478 480 482 484 488 493 495 498 499 502 503 504 506 507 508 509\n",
      " 512 515 516 517 521 522 524 527 530 532 533 538 539 540 541 542 550 551\n",
      " 555 561 562 565 566 567 568 569 570 574 576 579 581 582 585 589 591 592\n",
      " 593 595 596 597]\n"
     ]
    },
    {
     "name": "stdout",
     "output_type": "stream",
     "text": [
      "D_ids ['6a1aad48-b3df-4bb4-a565-0f56cee20b86', 'a624eba8-8f3c-4794-b378-c314c5145385', '170806a7-1fb5-4700-a916-e71a78a12d3b', '87961aa3-21ed-4ccd-9066-285b8b248515', '0f4f6390-9f99-43f6-8b77-037256b7ef1f', '8465e61b-80af-4bd0-8345-7b23f28147cf', 'a5f7d145-9ebe-4a79-b0ae-28b65df48f14', '7daa837d-f43d-44f6-b272-bfadb3d0c566', 'dbf6851c-6b3a-47f9-a96e-41f75147e608', 'a2b64253-fb48-4dd0-9ad3-8afd312cde39', '06657c16-63e2-4187-93df-4927cb10d3e7', '2fae0f5f-b7ba-4283-b083-a11636625a18', '80302dd0-31f9-45fa-8c28-09209db882dd', '8de0ebe8-3af0-44da-bd8d-285fbb6732be', '7827620f-473c-4b31-8ca2-e2b0b611c70e', '3b7f4899-c4c0-40af-95b2-d5d35905e3ea', '96193baf-0cfb-483a-b34e-b87fe33129bf', 'bf5148d1-2117-4bc8-a132-cff5b35030e4', 'f3877fc3-70f8-43c6-ada9-989d1f8a5e8f', '5a8cb76b-15af-4d61-ad75-8e914e899953', '62303894-e6df-411f-af6c-2e17afcc5045', '2f143b90-1a7b-49e7-8d62-7281675f8b06', 'b501fcf7-38db-4399-8e01-022ed7b61302', '34b2290a-adaf-4444-96df-3effe3273340', 'bd92579b-e9e5-4ceb-8693-430c289b9772', 'd611d366-8f06-4bdf-bbc9-0885a432a9f4', '6410df2d-7ec4-4ec6-9260-fc0992f6002f', '000dc9d6-83a5-4443-8073-4d14a35d8ee0', '0e26628a-fcf5-481d-9d77-2a0de84df035', '3fbe3244-bf99-4d97-9370-3a279b55a77e', '4c631709-daba-4325-8968-e39632d66996', '851218e6-0125-487b-a720-bef3b712f6cd', 'ae0ab151-f7cd-4ada-8761-1f43bf73490c', '354dfc96-cbbf-4791-baa1-bdc03e9e1667', '4f4069dd-fd73-4a35-ab78-574606da1813', '6c4ea150-fb37-48cf-bc61-3e4c4c3ded8c', 'fcfa3b35-e7b7-410c-8a74-d72faf20f46b', '4d173ce4-7d3f-43a3-b59f-ad7cf212a538', '30ddefa6-f8a3-46f2-8129-8af34acc721c', '03452f84-7861-4879-aa34-4651ba04113a', '4af29294-cb58-4d77-899c-11524cfadfdb', 'd5932fa8-106a-4a2f-b530-f071b16b513d', 'cf73585e-8664-4bd9-a83f-5aa5a7836eeb', 'b6e7ba42-f942-43a3-8a9a-41929dce6a5e', '5e330c65-01a7-448a-81ce-b8b4b88a088d', '884b2ad6-dfb3-4fb3-8fef-ca09ec408f1c', '13db921b-f517-4a3e-9191-81a8f57c222c', '164d8a6c-7c20-4753-8c25-ce94045a5f67', '3e4f8865-6505-407c-9c68-8008501623d3', '9ea6f2dd-797f-4b23-8287-1c8d61fc576b', 'b7356f6c-1d1e-4c6c-b268-25485bb3db36', '27f08a85-4ab6-474b-a5d2-4cfc02a87915', '40182c07-d74c-42e3-9ade-98f58b4751bd', '3bd00f9c-1627-458a-8d08-faf6acfd1948', '04916045-27a4-4936-aa78-fed92a1590b0', '88e9eb44-ebd1-475b-bf7e-c6db2c1ccf1c', 'b1c55632-8d5b-4a1f-b87f-9c59215582d7', '03e2a36e-844a-46ab-8714-2f120e4490a7', 'f71dd131-742d-4441-9f50-fd15097ca956', 'd91ba4ca-6392-4dd3-84e7-2af38e237526', '5ffc094e-4949-4119-88d0-67d4fe311eec', 'fdfd3a55-901c-40db-a818-7d8a9c69c553', '2835a1cc-c433-4512-82c4-5828be2a03cc', 'f61e0c85-7cdb-4b66-9e0f-4fdf077e1420', '759dd581-b14c-4c2e-94ea-319cefc9c4c0', '07cda669-caf6-462d-b230-2f07de1f40b6', 'e013b57a-9ce2-45a8-8b43-ea0ba0a4ce3f', '92fada88-ab42-4974-b2a8-4200a1936479', '6350382e-0c0d-4747-8486-7a489350101e', 'b3dd8659-7a5f-41a8-9b3b-dab30480358c', 'bc8477bd-b255-46fb-9200-15253935d64c', 'dcdc7571-ddf4-4ddf-bf7f-0601b0364d6d', 'a278f47d-df95-4b82-9991-e0175c8a4d0f', '39678da5-af1f-47dd-9dff-d091b26d5ea0', 'becd45df-64cb-4f24-9243-ff9aa2d2f64a', '38cac5b9-3170-4ba9-95ed-3d43c96435fc', 'a2f5f9c8-6d57-478c-828c-1c29666510a1', '592cef0b-a765-4592-95a9-693e05b6a9ba', 'af433ae1-9ae2-4feb-9214-e95e1071b3ef', '36edc40d-82f1-42ed-996d-57a4a670e095', '42d79744-e14c-4917-a698-9791258f3d41', '18629dd3-f8a6-459c-a6c9-c8f4ffe80c74', 'e1485a0b-00ef-4155-a8ec-3e2b0533b497', '134a602c-b405-4cfa-ad86-055542cc9fc4', '60628039-c6e8-4f95-acfc-1679c9f5b656', '76fb4b5f-d22e-4e3c-b310-a14181175e5e', '08ae033f-d3ef-4379-aa27-73912ac05598', '68b10c09-d58e-411b-a7f6-dd215eec949c', '80dc4cdf-a03d-4047-891a-680f3699d5c5', '320a2d2b-0f90-436d-ae7c-a9b4ba125fa2', '53d70c9d-bc0f-4e4e-9ba5-ada38fb26241', 'f973be18-7116-4bcf-8cd2-2d34f3d6ad1b', '8c8ec861-fdd6-4e02-b7ff-cf0f3a764f2a', '3150aa5f-d98a-4be1-beef-89527ebf6ed1', '41a6a4bc-daa5-4403-a91f-2d19df915307', 'a0d2666c-b2eb-468e-88ac-c8496052ab88', '0328b348-c659-4834-94d1-81f53fbbd316', '5a7b2841-52a6-4fb5-b3e1-16f3cc1bef62', '5a68bd09-09fc-4562-ba60-a0afa3a765ea', '22aeb6fa-08bc-45df-a613-be28b578054c', '87af514a-386e-49d9-8142-2b3bd36c785f', '69ae17b6-a65b-41df-bcb1-8e3bcd36eabe', '1f2a6b0b-b9f5-4276-a8c1-767f1673f184', '7302e739-b816-4681-b129-0d0793e82ed0', '9b1ec1f1-d767-4fcd-9969-b24c5c44d862', 'e3ad22b3-b824-4581-b3ab-21244e328be3', '2c617395-22e2-4373-a485-519d819dd764', 'bc5a5a40-e913-4724-970a-0cf5734faeff', '1e05778e-d5a1-45f5-a4e6-ccbac78f5963', '9b1f5d20-82ca-46ce-8dc9-355769cba356', 'fd72c51f-5326-4db5-aa04-f527cc892952', '16ff9c53-b91b-4237-a546-37ca32638e76', 'db7db10d-b60e-42a8-ad67-77edcccfbb5c', 'a3f92e6c-0a36-4ca5-aa48-a002d23005db', '53e55572-7c2a-4cf3-9d08-863a007b99fa', '35467594-9478-4025-8c2e-2cb2b43642e6', 'ab7c55fa-93ab-4c80-a8ff-0ec35f61bf05', 'df050100-bf5a-4d8c-bad1-81c4115c7eaa', '6fa7ffc4-dfad-45df-9282-ede05ad12e68', 'e999296c-db73-487a-8d61-917eea7d7cbe', 'f71cf03b-c7fc-43af-af68-f768c1bdcc24', '2d808d46-71d9-43fa-bccc-d566856b34c4', 'cbe1a0da-e6fa-4454-affb-0ccd515089dd', 'eeaaba17-5256-4499-921b-8705abcb1192', 'ce5cc31b-bba0-4bab-95b0-8a8e6bece1b4', '5e8dd730-84fe-46c6-9e00-468f332ec072', '2e63b940-03f9-4e77-a744-05f5c5b3ade9', 'e3a405d8-cd62-4d48-98d0-bd2d4155ad6f', '7dfbca1a-f6c4-4842-b30e-60cd6edb4fa7', '540b756b-0f12-4911-b6b0-18ae7c7d6394', '1249ffd9-74ee-49c4-b675-2f06f9810fd5', '740611e1-2682-49e4-9a0b-ea2f6a5ad645', '1b8cdd73-4864-4691-bba7-2fc4e0b6e473', 'acce4ba8-f3d3-42cf-a324-76dad5d7b66c', 'ed1d0f66-c18b-4277-a329-0c4f451dbccb', '09ce88af-6620-4407-83f3-81997113966a', 'c33f7fbf-df36-4d55-9c51-42c84aa7a9c1', '15d71114-3285-4e9a-abbc-5ee442779057', 'f7f9c26c-5860-4848-b39c-5bf7116dd4a5', '1ff8b6c1-42a2-441b-902e-0d029afc7ffc', 'd0cdf8c1-78c3-4dd6-a808-9e68f2de9f16', 'f140cdb0-bca9-4a4d-9ac3-0f3052b88222', '4bffe89b-308c-4e35-9ce7-2f30a6d2b3aa', 'e410cd3b-85a7-4892-bbb1-b4f74c409fc8', 'de07bc46-ba14-487b-bc82-b579c367b1e3', 'f4252a9d-0dc0-4b8a-a433-e8e108fcccc7', '69711acd-caa6-4af1-8645-04c16248f572', '5639a93a-470c-42c1-b817-33d734b52177', '49a633b9-cd4a-4d47-a9f0-f56ab9b7ea60', '17eea9cc-779e-4054-ab9f-f6a637e32d3c', '1e3fa92e-73bb-4e2c-bbb9-70690e6ef48e', '54836ed5-fd11-47f3-83f5-6c95a098ddbb', '3f05da38-4e69-48b6-a1f8-e77fbf5bf61c', 'cbd0c42d-10be-4833-914a-b074b60350b6', 'b3b8145d-fcfa-46d2-9932-11496b302c45', '15f0a8cb-0217-479a-8442-69e000e3126d', 'e8100182-09b1-401c-a93b-84552a6e15c6', '21fab7bf-5dac-42c8-a49e-d72b7a36e706', '28515ad9-bf08-493c-b565-9a14d4adf557', 'c7d60a3e-196c-4334-bac7-d69e41c91a89', '5400fc96-76a3-4d92-813c-8ce8376e9590', 'cc9a97f2-1533-4bc1-8e46-3dcb85907bcd', 'ef568c76-b98f-49f5-9c2b-a0435f035cb5', '29fb05fd-9e18-4b77-8024-1cfb4149e448', 'fdfc4458-8b4a-4b72-b5f7-6117d136c740', 'c5d747cf-be31-444b-bb35-2ee206ff9eb2', '25389dff-5302-44c4-a892-044cc410d2e4', '6ae49e7f-5b2a-44db-9b46-96c91cdca7d2', 'ab78101d-8387-4172-875b-eabe1390ac4b', '60710d49-2393-430f-91f9-24104e08d1fa', '006f67b2-af5a-4ef3-a195-445338fb93e9', '20489ad1-fa8d-4c4c-90da-0b7eed07f57b', '0e2817e7-a39e-4b99-a866-a11e29a00a56', 'ee9eae1b-4bc6-47e6-8fad-8071fad60af0', 'c215e83a-68f1-448c-b59a-c24215431c99', 'fadf0245-fd22-4852-a465-eaf37761bdde', '1c24d725-a1a8-49fc-8e4e-769845b27ca1', '36948de4-ae2c-4f29-b271-4dbd867e483c', '54e69c26-e4c4-4dff-8347-69a8a4da2337', '1777b01e-42a8-46c9-9ef3-6862f95fa30b', '772dfa4b-5c8e-441f-91bc-2ce1faf92a9c', '6d8d77d1-8be9-4146-8c66-677ebd3e3d27', 'cbbd216c-3d34-4e06-a53a-0d03e25149b6', '6001f0f5-a791-4333-b462-f8eb5fc95479', 'c6ca2cb7-970d-4c89-b146-6367d3940085', '3d437db3-24d2-46da-97f8-f68833f9e9a1', '86164a7a-46b7-4dfe-8bfa-d0975efe8652', '6af844c2-7133-4fe9-818f-0eb91d6bfd47', 'cdb1f544-fee8-4675-841e-0217f076dbce', '907a87c6-d356-4ac9-a512-44e4c5b46a3d', '1382e662-c8dd-4819-8944-d72413aecefb', '569efe9a-7f1b-4880-a295-fa2252bf5405', '12f5b6da-6d98-43cd-ae84-bd9cbb30e127', '745c5969-cac8-4448-9788-e38646fd79d9', '99b4a7d6-e9ce-4328-bcef-b8cdeacbe2ea', '81e43b48-ddbc-41b0-acab-3018c85bc054', 'ee6b44da-b594-4cb9-b537-95cfcec1505a', '441f1d6b-262d-4b1e-a2c5-4ca787665549', '9a7fedf2-e4b5-438b-9e67-c3498dd81f17', '1ea9545e-e465-4f55-81e4-5a9d1eddc0cf', '0ca30a72-c517-4efd-91ad-e3e4e8a2753a', '1e1530c5-9ab9-4833-9b94-6c05b8ff7c51', '5bb57d67-6865-4058-a2c2-b98003fa7984', 'cb83cd1e-fa5d-4bd0-8957-438af064bbc3', 'ecd958e9-2d6a-4094-be0f-bdab945695ab', '4af18dcc-6cc5-44c8-9f33-6741a01e7376', '8d887536-3924-49bb-afdb-e09d6caeaaf6', '2382ff89-70a1-435d-b3a2-ff8c752ed9ed', 'b884984c-f938-4b60-ae06-b7d2fd9f174a', '018181ef-f8d6-49a9-87a5-cdccba579171', '05c55d0e-0d6c-4fe5-a62b-413ca42bd701', '1b05afcf-c34b-436c-b22f-e1fe88b6cc59', '7ae9066b-a82f-4a22-8ea2-89e4a9ab14a5', 'a8a9221d-794f-4da2-a113-54f571a3f9b8', '22281ee0-2ebb-4152-907d-eeee57329f9d', '7af4d488-3883-440d-9081-bb6ffe7338dc', '7d34231d-1bc1-476f-803b-0abc80c5f925', 'af072e73-e539-4db8-bf62-f0e4c06b93f2', '1ea61a96-65e0-47d5-8d6f-747d314df693', '39263e70-68ea-417d-901b-901934651693', '66e2c892-c5f3-4c59-823f-2ddae6597a5f', 'd2637ffc-ddf1-4eca-aed3-a2313bede70b', 'abfc41f8-9197-4b2c-8b98-fa9b03672531', 'c2ca9cb6-4d51-40f3-8b30-0439084dc300', 'f6f5bd79-d026-4311-b837-76a4096cb51a', '24441d99-2543-48ba-bf1c-9847d0ecd8e0', '6f6dea52-ab45-4826-8c91-b7e36c71ec9d', 'd429fb17-251a-4572-af26-99f8cebfbacb', '841f08bc-d440-48c7-bf4e-895e0adb5f03', '77c3295e-409b-4f04-a311-e6faf8ffa9f0', '8b6a3525-66c7-419e-b166-ac30db1b904f', '91442ce6-aeec-489a-96b2-da62a9b67ab2', 'ea6d07c7-19ab-4ab3-b1a3-95a84462630a', '34921009-1f13-407e-a49b-50df8d501d1d', '23f5f0bd-4e7c-4b89-937e-38273346a865', '20427a91-7aa0-4118-bed6-54659650d73f', '695e1bc2-0148-4957-9f14-98f16c6badec', '47e16746-0831-4742-95de-1da11c7ede9d', '74ebbf5c-dde9-4d24-98ed-ed3b042b716e', '26fa448e-6cc5-4d44-816f-4bfa77bfebc3', '21b6bb90-3d5a-4b17-af44-83557981d86d', 'cf1b4b5d-7096-4071-93e4-0f06de7c54f0', '6f45cc28-3a6b-48cd-b511-6335e5afe45b', 'ea41ee4e-a515-49c7-abc5-3a521ca0008d', 'dd1f9fe8-8726-4168-8bcc-24dffb382dce', 'd83cfb39-2d8a-4599-92e1-9b72d89d4fc4', 'fc24192b-ae66-4b88-b5a0-89f1db77b047', 'd430f9e5-4093-4162-a25e-72a504f8d9b5', 'd48e65aa-a4e2-4f34-8576-9544f26fb2b8', 'a3bed701-7436-4f81-8b86-a35d7dae934d', 'd381e88d-3bc9-454d-a991-c7d7b85f3490', '5d09c415-89d5-4e70-9cee-616f7304835f', '9a4caadb-e8d4-476b-8159-93e09dd51865', '34249d07-759d-4cd5-b636-af098cea4d95', 'fffc9f4c-5852-4772-89cf-d34dcea79b7f', 'b53db3f4-5870-4b8c-ad29-ef0715ead53f', '16f8a737-e209-4ed7-b2de-0706204e930f', '1688667e-0f4c-477e-9c34-cda4bf01c1ae', '0c3c62c0-3737-4afe-84b6-cb06c5b2b152', '23c417bb-d3c9-4699-a5a6-a2019cdeb76a', '690ce988-6c17-4a25-b8aa-c6078a23cf36', 'e6bd6b94-3d4c-4257-bffc-6c2f33ebef0b', 'ada08532-a427-4ca3-89ac-955234e60f5d', 'a611fe76-95de-4c72-9e29-e22654751156', 'af2b29d2-7c1a-4799-88e9-b1664eaa8155', '25b7ebc2-1040-49d3-a4a6-11b556e13d43', '3e353d5d-4474-4bc1-906a-5ba0077fcafa', '6987c3f9-c9d2-4c91-a059-11b656695fa8', 'cde68a2a-e490-49e8-b4bf-fbc1a7a10184', '68b4c710-c141-4a77-b697-f6a8384a5179', '88422792-1ca3-41cc-b008-b109bfcc7c22', '226b2743-009d-4fad-8ddf-7d33563cd528', '5f3e9322-9635-4554-a7f3-1472ca38c209', 'deb64d9f-f377-4f72-9b1d-3b0214cf1910', 'e20e3a88-a569-4bf5-99da-70249abcafa4', '7c2fcc76-f8ef-4570-bdd8-d69d076a2214', 'c902296d-a5a8-471e-a0d5-c023307c2393', '2dbdcf4e-e430-4019-baa4-f840e57a7b72', '6c4dca79-384f-47af-ba3a-7fab259c327a', '8eec2a49-1421-44b3-94ec-c58a1191ae71', '50ac5e22-6876-42ed-936a-86ec72da6481', '5a4304c1-c326-49c7-abe3-4505d93457de', 'bd0e42b2-c679-4290-9357-c14bcdc6eeb7', 'd3f92126-77c7-4732-8226-113391c16c7c', '03810c39-9593-4193-9c84-794f3e96d297', '6e7731ed-31e9-4196-af20-ef3e8db12332', '48b3be14-94b0-46b1-b021-9638e602d1aa', '883d68e1-8038-4695-8b12-af3f117ffea9', '34748348-02c9-4c15-abc4-2733ff919a6f', '80564ad3-90b6-4d03-8513-6fb5c9097c70', '8dc24056-d59f-45a2-b1b2-495219a14fdf', 'abf5ded7-6be8-4159-884e-e3ac8801bdf6']\n",
      "Replacing 97 from 292 !\n",
      "D_relabeled_ 97\n",
      "selected_ids ['9b1ec1f1-d767-4fcd-9969-b24c5c44d862', '2835a1cc-c433-4512-82c4-5828be2a03cc', 'ea41ee4e-a515-49c7-abc5-3a521ca0008d', '0e2817e7-a39e-4b99-a866-a11e29a00a56', 'db7db10d-b60e-42a8-ad67-77edcccfbb5c', 'e8100182-09b1-401c-a93b-84552a6e15c6', '21b6bb90-3d5a-4b17-af44-83557981d86d', '7827620f-473c-4b31-8ca2-e2b0b611c70e', 'b53db3f4-5870-4b8c-ad29-ef0715ead53f', 'ce5cc31b-bba0-4bab-95b0-8a8e6bece1b4', '8b6a3525-66c7-419e-b166-ac30db1b904f', '540b756b-0f12-4911-b6b0-18ae7c7d6394', 'fd72c51f-5326-4db5-aa04-f527cc892952', 'b1c55632-8d5b-4a1f-b87f-9c59215582d7', 'b6e7ba42-f942-43a3-8a9a-41929dce6a5e', '2fae0f5f-b7ba-4283-b083-a11636625a18', 'a3bed701-7436-4f81-8b86-a35d7dae934d', 'dcdc7571-ddf4-4ddf-bf7f-0601b0364d6d', '1e3fa92e-73bb-4e2c-bbb9-70690e6ef48e', 'd381e88d-3bc9-454d-a991-c7d7b85f3490', 'f71cf03b-c7fc-43af-af68-f768c1bdcc24', '6fa7ffc4-dfad-45df-9282-ede05ad12e68', 'cc9a97f2-1533-4bc1-8e46-3dcb85907bcd', '2dbdcf4e-e430-4019-baa4-f840e57a7b72', '66e2c892-c5f3-4c59-823f-2ddae6597a5f', '03452f84-7861-4879-aa34-4651ba04113a', 'ef568c76-b98f-49f5-9c2b-a0435f035cb5', '23c417bb-d3c9-4699-a5a6-a2019cdeb76a', '3f05da38-4e69-48b6-a1f8-e77fbf5bf61c', 'c5d747cf-be31-444b-bb35-2ee206ff9eb2', 'b7356f6c-1d1e-4c6c-b268-25485bb3db36', '68b4c710-c141-4a77-b697-f6a8384a5179', 'c7d60a3e-196c-4334-bac7-d69e41c91a89', '03e2a36e-844a-46ab-8714-2f120e4490a7', '87af514a-386e-49d9-8142-2b3bd36c785f', 'f71dd131-742d-4441-9f50-fd15097ca956', 'fadf0245-fd22-4852-a465-eaf37761bdde', 'd0cdf8c1-78c3-4dd6-a808-9e68f2de9f16', '08ae033f-d3ef-4379-aa27-73912ac05598', '06657c16-63e2-4187-93df-4927cb10d3e7', 'acce4ba8-f3d3-42cf-a324-76dad5d7b66c', 'deb64d9f-f377-4f72-9b1d-3b0214cf1910', '354dfc96-cbbf-4791-baa1-bdc03e9e1667', 'fcfa3b35-e7b7-410c-8a74-d72faf20f46b', '68b10c09-d58e-411b-a7f6-dd215eec949c', 'f7f9c26c-5860-4848-b39c-5bf7116dd4a5', '592cef0b-a765-4592-95a9-693e05b6a9ba', 'd91ba4ca-6392-4dd3-84e7-2af38e237526', 'fdfc4458-8b4a-4b72-b5f7-6117d136c740', 'e3a405d8-cd62-4d48-98d0-bd2d4155ad6f', '76fb4b5f-d22e-4e3c-b310-a14181175e5e', '6f6dea52-ab45-4826-8c91-b7e36c71ec9d', 'bf5148d1-2117-4bc8-a132-cff5b35030e4', 'fdfd3a55-901c-40db-a818-7d8a9c69c553', '6c4dca79-384f-47af-ba3a-7fab259c327a', 'f4252a9d-0dc0-4b8a-a433-e8e108fcccc7', '47e16746-0831-4742-95de-1da11c7ede9d', 'cbd0c42d-10be-4833-914a-b074b60350b6', '6410df2d-7ec4-4ec6-9260-fc0992f6002f', '5e8dd730-84fe-46c6-9e00-468f332ec072', '39678da5-af1f-47dd-9dff-d091b26d5ea0', '20427a91-7aa0-4118-bed6-54659650d73f', '1ea61a96-65e0-47d5-8d6f-747d314df693', '1777b01e-42a8-46c9-9ef3-6862f95fa30b', 'd3f92126-77c7-4732-8226-113391c16c7c', '884b2ad6-dfb3-4fb3-8fef-ca09ec408f1c', 'a5f7d145-9ebe-4a79-b0ae-28b65df48f14', '3d437db3-24d2-46da-97f8-f68833f9e9a1', 'bc5a5a40-e913-4724-970a-0cf5734faeff', '25389dff-5302-44c4-a892-044cc410d2e4', 'becd45df-64cb-4f24-9243-ff9aa2d2f64a', 'bc8477bd-b255-46fb-9200-15253935d64c', '2d808d46-71d9-43fa-bccc-d566856b34c4', '34b2290a-adaf-4444-96df-3effe3273340', '7302e739-b816-4681-b129-0d0793e82ed0', 'ecd958e9-2d6a-4094-be0f-bdab945695ab', 'e1485a0b-00ef-4155-a8ec-3e2b0533b497', '30ddefa6-f8a3-46f2-8129-8af34acc721c', '22aeb6fa-08bc-45df-a613-be28b578054c', 'a2f5f9c8-6d57-478c-828c-1c29666510a1', 'ab7c55fa-93ab-4c80-a8ff-0ec35f61bf05', '0f4f6390-9f99-43f6-8b77-037256b7ef1f', '54836ed5-fd11-47f3-83f5-6c95a098ddbb', '16f8a737-e209-4ed7-b2de-0706204e930f', 'd2637ffc-ddf1-4eca-aed3-a2313bede70b', '690ce988-6c17-4a25-b8aa-c6078a23cf36', '6f45cc28-3a6b-48cd-b511-6335e5afe45b', '39263e70-68ea-417d-901b-901934651693', '9b1f5d20-82ca-46ce-8dc9-355769cba356', 'af072e73-e539-4db8-bf62-f0e4c06b93f2', '226b2743-009d-4fad-8ddf-7d33563cd528', '3fbe3244-bf99-4d97-9370-3a279b55a77e', '50ac5e22-6876-42ed-936a-86ec72da6481', '74ebbf5c-dde9-4d24-98ed-ed3b042b716e', '1e05778e-d5a1-45f5-a4e6-ccbac78f5963', '164d8a6c-7c20-4753-8c25-ce94045a5f67', 'd430f9e5-4093-4162-a25e-72a504f8d9b5']\n",
      "dict_keys(['9b1ec1f1-d767-4fcd-9969-b24c5c44d862', '2835a1cc-c433-4512-82c4-5828be2a03cc', 'ea41ee4e-a515-49c7-abc5-3a521ca0008d', '0e2817e7-a39e-4b99-a866-a11e29a00a56', 'db7db10d-b60e-42a8-ad67-77edcccfbb5c', 'e8100182-09b1-401c-a93b-84552a6e15c6', '21b6bb90-3d5a-4b17-af44-83557981d86d', '7827620f-473c-4b31-8ca2-e2b0b611c70e', 'b53db3f4-5870-4b8c-ad29-ef0715ead53f', 'ce5cc31b-bba0-4bab-95b0-8a8e6bece1b4', '8b6a3525-66c7-419e-b166-ac30db1b904f', '540b756b-0f12-4911-b6b0-18ae7c7d6394', 'fd72c51f-5326-4db5-aa04-f527cc892952', 'b1c55632-8d5b-4a1f-b87f-9c59215582d7', 'b6e7ba42-f942-43a3-8a9a-41929dce6a5e', '2fae0f5f-b7ba-4283-b083-a11636625a18', 'a3bed701-7436-4f81-8b86-a35d7dae934d', 'dcdc7571-ddf4-4ddf-bf7f-0601b0364d6d', '1e3fa92e-73bb-4e2c-bbb9-70690e6ef48e', 'd381e88d-3bc9-454d-a991-c7d7b85f3490', 'f71cf03b-c7fc-43af-af68-f768c1bdcc24', '6fa7ffc4-dfad-45df-9282-ede05ad12e68', 'cc9a97f2-1533-4bc1-8e46-3dcb85907bcd', '2dbdcf4e-e430-4019-baa4-f840e57a7b72', '66e2c892-c5f3-4c59-823f-2ddae6597a5f', '03452f84-7861-4879-aa34-4651ba04113a', 'ef568c76-b98f-49f5-9c2b-a0435f035cb5', '23c417bb-d3c9-4699-a5a6-a2019cdeb76a', '3f05da38-4e69-48b6-a1f8-e77fbf5bf61c', 'c5d747cf-be31-444b-bb35-2ee206ff9eb2', 'b7356f6c-1d1e-4c6c-b268-25485bb3db36', '68b4c710-c141-4a77-b697-f6a8384a5179', 'c7d60a3e-196c-4334-bac7-d69e41c91a89', '03e2a36e-844a-46ab-8714-2f120e4490a7', '87af514a-386e-49d9-8142-2b3bd36c785f', 'f71dd131-742d-4441-9f50-fd15097ca956', 'fadf0245-fd22-4852-a465-eaf37761bdde', 'd0cdf8c1-78c3-4dd6-a808-9e68f2de9f16', '08ae033f-d3ef-4379-aa27-73912ac05598', '06657c16-63e2-4187-93df-4927cb10d3e7', 'acce4ba8-f3d3-42cf-a324-76dad5d7b66c', 'deb64d9f-f377-4f72-9b1d-3b0214cf1910', '354dfc96-cbbf-4791-baa1-bdc03e9e1667', 'fcfa3b35-e7b7-410c-8a74-d72faf20f46b', '68b10c09-d58e-411b-a7f6-dd215eec949c', 'f7f9c26c-5860-4848-b39c-5bf7116dd4a5', '592cef0b-a765-4592-95a9-693e05b6a9ba', 'd91ba4ca-6392-4dd3-84e7-2af38e237526', 'fdfc4458-8b4a-4b72-b5f7-6117d136c740', 'e3a405d8-cd62-4d48-98d0-bd2d4155ad6f', '76fb4b5f-d22e-4e3c-b310-a14181175e5e', '6f6dea52-ab45-4826-8c91-b7e36c71ec9d', 'bf5148d1-2117-4bc8-a132-cff5b35030e4', 'fdfd3a55-901c-40db-a818-7d8a9c69c553', '6c4dca79-384f-47af-ba3a-7fab259c327a', 'f4252a9d-0dc0-4b8a-a433-e8e108fcccc7', '47e16746-0831-4742-95de-1da11c7ede9d', 'cbd0c42d-10be-4833-914a-b074b60350b6', '6410df2d-7ec4-4ec6-9260-fc0992f6002f', '5e8dd730-84fe-46c6-9e00-468f332ec072', '39678da5-af1f-47dd-9dff-d091b26d5ea0', '20427a91-7aa0-4118-bed6-54659650d73f', '1ea61a96-65e0-47d5-8d6f-747d314df693', '1777b01e-42a8-46c9-9ef3-6862f95fa30b', 'd3f92126-77c7-4732-8226-113391c16c7c', '884b2ad6-dfb3-4fb3-8fef-ca09ec408f1c', 'a5f7d145-9ebe-4a79-b0ae-28b65df48f14', '3d437db3-24d2-46da-97f8-f68833f9e9a1', 'bc5a5a40-e913-4724-970a-0cf5734faeff', '25389dff-5302-44c4-a892-044cc410d2e4', 'becd45df-64cb-4f24-9243-ff9aa2d2f64a', 'bc8477bd-b255-46fb-9200-15253935d64c', '2d808d46-71d9-43fa-bccc-d566856b34c4', '34b2290a-adaf-4444-96df-3effe3273340', '7302e739-b816-4681-b129-0d0793e82ed0', 'ecd958e9-2d6a-4094-be0f-bdab945695ab', 'e1485a0b-00ef-4155-a8ec-3e2b0533b497', '30ddefa6-f8a3-46f2-8129-8af34acc721c', '22aeb6fa-08bc-45df-a613-be28b578054c', 'a2f5f9c8-6d57-478c-828c-1c29666510a1', 'ab7c55fa-93ab-4c80-a8ff-0ec35f61bf05', '0f4f6390-9f99-43f6-8b77-037256b7ef1f', '54836ed5-fd11-47f3-83f5-6c95a098ddbb', '16f8a737-e209-4ed7-b2de-0706204e930f', 'd2637ffc-ddf1-4eca-aed3-a2313bede70b', '690ce988-6c17-4a25-b8aa-c6078a23cf36', '6f45cc28-3a6b-48cd-b511-6335e5afe45b', '39263e70-68ea-417d-901b-901934651693', '9b1f5d20-82ca-46ce-8dc9-355769cba356', 'af072e73-e539-4db8-bf62-f0e4c06b93f2', '226b2743-009d-4fad-8ddf-7d33563cd528', '3fbe3244-bf99-4d97-9370-3a279b55a77e', '50ac5e22-6876-42ed-936a-86ec72da6481', '74ebbf5c-dde9-4d24-98ed-ed3b042b716e', '1e05778e-d5a1-45f5-a4e6-ccbac78f5963', '164d8a6c-7c20-4753-8c25-ce94045a5f67', 'd430f9e5-4093-4162-a25e-72a504f8d9b5'])\n",
      "point ids 97\n",
      "Removed: 97 Filled: 97\n",
      "TOOK 1370.0236864089966 seconds\n",
      "***\n",
      "RUN: 1\n"
     ]
    },
    {
     "name": "stdout",
     "output_type": "stream",
     "text": [
      "Epoch 1/100\n",
      "10/10 [==============================] - 15s 2s/step - loss: 0.0971 - binary_accuracy: 0.9897 - val_loss: 1.2906 - val_binary_accuracy: 0.8213\n",
      "Epoch 2/100\n",
      "10/10 [==============================] - 11s 1s/step - loss: 0.0962 - binary_accuracy: 0.9897 - val_loss: 0.1494 - val_binary_accuracy: 0.9726\n",
      "Epoch 3/100\n",
      "10/10 [==============================] - 12s 1s/step - loss: 0.1100 - binary_accuracy: 0.9855 - val_loss: 0.8778 - val_binary_accuracy: 0.8327\n",
      "Epoch 4/100\n",
      "10/10 [==============================] - 11s 1s/step - loss: 0.0955 - binary_accuracy: 0.9895 - val_loss: 2.3580 - val_binary_accuracy: 0.7348\n",
      "Epoch 5/100\n",
      "10/10 [==============================] - 12s 1s/step - loss: 0.0949 - binary_accuracy: 0.9892 - val_loss: 0.2162 - val_binary_accuracy: 0.9625\n",
      "Epoch 6/100\n",
      "10/10 [==============================] - 11s 1s/step - loss: 0.0941 - binary_accuracy: 0.9892 - val_loss: 0.1743 - val_binary_accuracy: 0.9694\n",
      "Epoch 7/100\n",
      "10/10 [==============================] - 11s 1s/step - loss: 0.0914 - binary_accuracy: 0.9896 - val_loss: 0.2065 - val_binary_accuracy: 0.9626\n",
      "Epoch 8/100\n",
      "10/10 [==============================] - 11s 1s/step - loss: 0.0905 - binary_accuracy: 0.9898 - val_loss: 0.2881 - val_binary_accuracy: 0.9585\n",
      "Epoch 9/100\n",
      "10/10 [==============================] - 11s 1s/step - loss: 0.0896 - binary_accuracy: 0.9896 - val_loss: 0.3923 - val_binary_accuracy: 0.9154\n",
      "Epoch 10/100\n",
      "10/10 [==============================] - 11s 1s/step - loss: 0.0878 - binary_accuracy: 0.9898 - val_loss: 0.2221 - val_binary_accuracy: 0.9718\n",
      "Epoch 11/100\n",
      "10/10 [==============================] - 11s 1s/step - loss: 0.0873 - binary_accuracy: 0.9899 - val_loss: 0.5441 - val_binary_accuracy: 0.9189\n",
      "Epoch 12/100\n",
      "10/10 [==============================] - 11s 1s/step - loss: 0.0850 - binary_accuracy: 0.9900 - val_loss: 0.7033 - val_binary_accuracy: 0.8522\n",
      "Epoch 13/100\n",
      "10/10 [==============================] - 11s 1s/step - loss: 0.0837 - binary_accuracy: 0.9902 - val_loss: 1.3874 - val_binary_accuracy: 0.8168\n",
      "Epoch 14/100\n",
      "10/10 [==============================] - 11s 1s/step - loss: 0.0827 - binary_accuracy: 0.9902 - val_loss: 2.2683 - val_binary_accuracy: 0.7418\n",
      "Epoch 15/100\n",
      "10/10 [==============================] - 11s 1s/step - loss: 0.0828 - binary_accuracy: 0.9899 - val_loss: 1.8615 - val_binary_accuracy: 0.7856\n",
      "Epoch 16/100\n",
      "10/10 [==============================] - 11s 1s/step - loss: 0.0810 - binary_accuracy: 0.9902 - val_loss: 1.0246 - val_binary_accuracy: 0.8388\n",
      "Epoch 17/100\n",
      "10/10 [==============================] - 11s 1s/step - loss: 0.0804 - binary_accuracy: 0.9900 - val_loss: 1.6091 - val_binary_accuracy: 0.7889\n",
      "Epoch 18/100\n",
      "10/10 [==============================] - 11s 1s/step - loss: 0.0789 - binary_accuracy: 0.9903 - val_loss: 1.1934 - val_binary_accuracy: 0.8407\n",
      "Epoch 19/100\n",
      "10/10 [==============================] - 11s 1s/step - loss: 0.0778 - binary_accuracy: 0.9904 - val_loss: 1.5960 - val_binary_accuracy: 0.7668\n",
      "Epoch 20/100\n",
      "10/10 [==============================] - 11s 1s/step - loss: 0.0771 - binary_accuracy: 0.9904 - val_loss: 1.3659 - val_binary_accuracy: 0.8178\n",
      "Epoch 21/100\n",
      "10/10 [==============================] - 12s 1s/step - loss: 0.0764 - binary_accuracy: 0.9903 - val_loss: 1.4467 - val_binary_accuracy: 0.7881\n",
      "Epoch 22/100\n",
      "10/10 [==============================] - 11s 1s/step - loss: 0.0757 - binary_accuracy: 0.9904 - val_loss: 2.1181 - val_binary_accuracy: 0.7477\n",
      "Epoch 23/100\n",
      "10/10 [==============================] - 11s 1s/step - loss: 0.0741 - binary_accuracy: 0.9905 - val_loss: 1.8994 - val_binary_accuracy: 0.7569\n",
      "Epoch 24/100\n",
      "10/10 [==============================] - 12s 1s/step - loss: 0.0738 - binary_accuracy: 0.9904 - val_loss: 1.9423 - val_binary_accuracy: 0.7652\n",
      "Epoch 25/100\n",
      "10/10 [==============================] - 11s 1s/step - loss: 0.0728 - binary_accuracy: 0.9906 - val_loss: 0.3605 - val_binary_accuracy: 0.9090\n",
      "Epoch 26/100\n",
      "10/10 [==============================] - 11s 1s/step - loss: 0.0722 - binary_accuracy: 0.9904 - val_loss: 0.1380 - val_binary_accuracy: 0.9624\n",
      "Epoch 27/100\n",
      "10/10 [==============================] - 12s 1s/step - loss: 0.0722 - binary_accuracy: 0.9904 - val_loss: 0.4261 - val_binary_accuracy: 0.9111\n",
      "Epoch 28/100\n",
      "10/10 [==============================] - 12s 1s/step - loss: 0.0713 - binary_accuracy: 0.9905 - val_loss: 0.0682 - val_binary_accuracy: 0.9874\n",
      "Epoch 29/100\n",
      "10/10 [==============================] - 12s 1s/step - loss: 0.0708 - binary_accuracy: 0.9903 - val_loss: 0.0681 - val_binary_accuracy: 0.9887\n",
      "Epoch 30/100\n",
      "10/10 [==============================] - 12s 1s/step - loss: 0.0696 - binary_accuracy: 0.9906 - val_loss: 0.0829 - val_binary_accuracy: 0.9850\n",
      "Epoch 31/100\n",
      "10/10 [==============================] - 12s 1s/step - loss: 0.0687 - binary_accuracy: 0.9906 - val_loss: 0.0876 - val_binary_accuracy: 0.9844\n",
      "Epoch 32/100\n",
      "10/10 [==============================] - 11s 1s/step - loss: 0.0677 - binary_accuracy: 0.9906 - val_loss: 0.1013 - val_binary_accuracy: 0.9818\n",
      "Epoch 33/100\n",
      "10/10 [==============================] - 11s 1s/step - loss: 0.0669 - binary_accuracy: 0.9908 - val_loss: 0.0873 - val_binary_accuracy: 0.9841\n",
      "Epoch 34/100\n",
      "10/10 [==============================] - 12s 1s/step - loss: 0.0663 - binary_accuracy: 0.9907 - val_loss: 0.2852 - val_binary_accuracy: 0.9380\n",
      "Epoch 35/100\n",
      "10/10 [==============================] - 11s 1s/step - loss: 0.0655 - binary_accuracy: 0.9908 - val_loss: 0.3655 - val_binary_accuracy: 0.9316\n",
      "Epoch 36/100\n",
      "10/10 [==============================] - 11s 1s/step - loss: 0.0652 - binary_accuracy: 0.9909 - val_loss: 0.1805 - val_binary_accuracy: 0.9670\n",
      "Epoch 37/100\n",
      "10/10 [==============================] - 12s 1s/step - loss: 0.0647 - binary_accuracy: 0.9908 - val_loss: 0.0688 - val_binary_accuracy: 0.9878\n",
      "Epoch 38/100\n",
      "10/10 [==============================] - 11s 1s/step - loss: 0.0646 - binary_accuracy: 0.9907 - val_loss: 0.1110 - val_binary_accuracy: 0.9790\n",
      "Epoch 39/100\n",
      "10/10 [==============================] - 11s 1s/step - loss: 0.0635 - binary_accuracy: 0.9908 - val_loss: 0.2737 - val_binary_accuracy: 0.9594\n",
      "Epoch 40/100\n",
      "10/10 [==============================] - 11s 1s/step - loss: 0.0639 - binary_accuracy: 0.9907 - val_loss: 2.0335 - val_binary_accuracy: 0.8225\n",
      "Epoch 41/100\n",
      "10/10 [==============================] - 11s 1s/step - loss: 0.0641 - binary_accuracy: 0.9905 - val_loss: 0.7142 - val_binary_accuracy: 0.9071\n",
      "Model saved to: /tmp/tmpu59_mbn3GP2/kunet_1model\n",
      "History saved to: /tmp/tmpu59_mbn3GP2/khistory_1.pkl\n",
      "Testing the classifier...\n",
      "Testing the discriminator...\n",
      "19/19 [==============================] - 0s 22ms/step - loss: 7.0152 - accuracy: 0.8100\n",
      "Found 175 machine labels.\n",
      "Machine labels [  5   7  19  24  27  28  29  30  37  42  54  55  61  66  67  74  78  81\n",
      "  82  88  89  91 102 103 105 107 110 111 123 126 129 131 133 136 137 138\n",
      " 139 155 159 162 167 172 174 177 182 183 185 189 190 191 194 197 200 202\n",
      " 204 213 214 218 232 235 237 240 244 245 248 252 253 254 255 258 264 268\n",
      " 275 281 285 286 291 292 295 297 298 301 303 305 307 308 314 315 318 322\n",
      " 328 330 331 332 339 344 346 347 356 358 359 360 362 366 367 369 372 373\n",
      " 375 376 378 386 389 393 395 400 408 413 419 423 431 434 438 439 441 442\n",
      " 445 446 449 450 453 457 458 465 466 468 473 474 476 478 479 481 485 487\n",
      " 494 495 497 506 508 510 516 517 519 523 526 529 531 532 533 539 547 551\n",
      " 555 557 559 561 567 576 578 579 583 586 588 595 596]\n",
      "D_ids ['1a4e2be9-a305-42ad-9184-df1b916d64bb', '396c7a66-b4c5-49d9-914a-e59a1b835cc9', 'db8e65e7-bf06-420b-b6a7-dcca85cd1366', '7b0039f2-dbc7-49e2-82e2-e9a18c42198f', '387af693-2b3e-42dc-85f8-7440a4dd96f7', '51a80bba-ce13-4f65-b06d-f10f0d1a2586', '2e67444f-f2a7-4cad-80b3-55a15ae35b7a', '9264dce3-d1af-4dbd-a3a9-8e3b45ed7c7b', '1168591e-75ba-458d-9419-31bfd53e249d', '00b747ee-7fc1-4bfd-9ee8-a2398e3f6afc', '35d34675-21b0-4d3f-b4ef-69cd3cb89645', 'acca5e61-f511-437a-95d7-b900cc6e6d19', 'f6eff15a-f051-431c-844d-9f925248a8e0', '1422a5ee-33a7-4cc4-bb58-700628e90600', '6825e243-35bb-4a55-b68a-d93ca44caad0', '5c53ca73-5c45-452a-93d8-070f225d276c', '64ca22d1-a1b4-49b0-8eea-3ee2281756af', '117a1821-2c9b-4598-a82d-98129b38ed55', 'b025fcdf-051c-4a3b-af47-9a7c9704a691', 'b891adf0-4071-413e-b697-b2cd9eb7d5d5', 'a644e635-5403-472a-80a0-7b2fa33c919c', 'c1913366-e6c4-42cd-b84a-3009c5451a75', '2d6abf90-cfc4-4c72-b2cb-a4953cb5d067', 'f3b22b54-4f5e-4fef-9ee2-05311f5b9112', '4b3ddc19-b64b-4188-9f1f-843a148861b4', '6476e419-b383-406f-8a6e-13c72fa2974f', 'b8e8253e-84f1-47e9-bcc2-bbe43890c4db', '1cf0c374-5b0d-4454-afcf-7236372dd8bd', '5f132f89-bbcc-4e01-8265-5b81bf99095e', '7f6bef10-5385-4493-89b2-530718767a70', 'ff35f4d3-d608-4846-8d12-7d0c53afcc83', '8a7b08e9-2fc0-456e-b343-e8c52f8c4c44', '1db3731b-a31a-4ccb-aa12-e3fddd8acda7', '1a3a7e5b-95d1-4de2-8f8f-c9015581ffa1', '2792bd70-65f9-4241-bcdb-1df3ea45bcaa', '00e410c3-7fed-4946-b094-5da9fd53c8d2', '245b554a-eb89-4c3d-85c9-c9ac60c284dc', '6117e2f3-0a2c-4d85-8453-eadb738d59f5', '317ad1f3-9ecb-4ead-8920-92cbdfbbc5ee', 'ab7583a7-0d54-4d63-b464-99365f01c070', '80213554-efe0-412b-bcd5-a387cb42fb08', 'c7a4d170-ec97-4982-a898-247e90429832', '085705b4-a362-4c9b-a6c2-b55cd5bdb6e6', 'fe12f747-5444-4872-9ae9-f77d696c83dd', '2e3b5c6f-7688-4139-92e6-a5ca5c19b633', '7411d37a-f926-4f54-a4b4-6c5dade56c73', 'fa228281-91f3-40c5-ac9a-f8c3b8ff137e', '54d27619-c115-40c5-8f68-70421a255683', '2465b3e1-92fd-4a37-abc7-a43acf6bb5b0', '71f21e89-5640-481e-91e2-608385f1a9c6', '53ab341d-bebd-4270-8fe9-7c5859da38b9', '8fcf0593-b0b9-4115-b87c-fbba14a80504', '89180a5b-a21d-4d9a-9d0e-c373bbc4d6c8', 'f2084751-b2ee-42fb-ac1d-771d3adc3b00', '2896f4b7-e8d7-48e3-82e5-58b7e482e083', 'fb0b328f-0f63-4757-8f65-481a8dcf519e', 'b4182ae4-ee3b-41e1-b9bf-92b7bbccac9c', 'a6bf5e02-a561-463a-b898-5ebc02d57345', '556897d1-d6f6-445b-9ac8-c340b8e97434', 'e3aacc0d-6b3a-4adf-ae03-0a22007c08a3', 'd6f00784-4510-4f42-879d-c9a34ce5633c', '7036ba74-57e8-4ecd-af01-f51ec8757c44', '50b863e3-3085-436c-9386-837d982ee856', '664028bf-ead5-4d73-b2c4-a80ad14f9d5b', 'eda2635c-df04-4275-baa3-febb72dfb057', 'b2a6b57e-2009-478a-97a8-0f2e5e551440', '833c8337-13af-49c1-bb8f-e15770a017ef', '7bd1d251-616b-4e5c-bbce-9297b1f0de8f', '86fac4af-d7c8-49d1-8e13-f5fbfa490500', '233d7d22-7c1c-46d7-a304-96143a70cfbc', '56de52bb-70ee-49bd-ae90-109bb2851962', '274bf1a9-5bd6-4b2d-b1bc-fba0601d7fe3', '15d6301f-4716-4d27-ad26-743ea49f6eef', '7472da2b-fef8-4a1f-b593-1201363c7558', '29b2449f-4674-4c58-8fdf-9e61759773d6', '9d3841f4-36e9-4d3f-a2da-3d1c1421c954', '251faa82-9ba3-42d9-879d-367c04c02d5a', 'a69b9339-9673-4d47-a9a7-1638ad112c5d', '1094580e-e835-45a2-aeed-c06890267788', '60fb4424-cf17-46c3-8b6e-f8709e8a33b0', '1aef17ee-bfb1-4b05-a1bb-8e22f2ff9ee8', 'b5b11caa-315d-4736-8667-593b880c57ae', '7d578db8-15c5-4570-8ab7-0d397f8ba34e', 'bf125221-b8f9-4c5e-910c-36bcb9469308', '96ec83a7-5a92-4fcc-b427-6c211d20e4aa', '842ea6c3-f717-40ed-8a38-c428c2befe5d', '14530ce4-e475-4972-99d4-94f38ef26876', 'd611d366-8f06-4bdf-bbc9-0885a432a9f4', '920b70a6-7b6d-4144-9bf0-33c1b8edd768', 'f76bc228-010f-41d3-bd1b-2e415e851058', '7726e746-e98c-4b05-94b2-6cb0b34e5f48', '07ea40e0-3a05-4c8d-8d9b-d50920265c91', '9cb3facd-f336-4b3d-9037-60f51ad9ade1', '51890653-a39f-45e3-9197-fee791d356a2', 'd6dbb13e-6ae0-4b6b-8034-b178ec7c0cdd', '13db921b-f517-4a3e-9191-81a8f57c222c', 'dbd64f1a-5488-489a-8a06-2f337ab14e67', 'b8daafe2-d82c-4f15-a726-f0eee431dae8', '0bdfff52-0465-4a37-885a-861865c9e6cb', '2d9245f3-ba8b-44e7-84d0-e154860532f5', 'caa40cde-52a7-4ade-af19-441c98261ce4', '50f99fb1-a7d1-4c30-8f60-00cd80ee0c76', '07db5300-94e2-401c-b0d9-2b73c4deb329', '31d6d0c3-0b7f-4aef-b1bb-8137ff284b97', 'c8e58f61-6edd-428e-b018-48027ec24a86', 'd75a30c9-536b-4717-891e-258d55bf62b8', '1a4b3d63-02f4-4a5c-8d5d-e63f25e5364e', '4112730b-8411-4bfc-92c9-f0d081ec77b3', 'a5f296af-c1b6-41ee-99c2-8987c37a7abf', 'aa6bedc0-6bdd-4fd5-96e0-2690933c803d', '075be608-4296-43eb-b0c3-684002aa06c0', '37d97657-f0dd-4463-a951-abe45da23e79', '856b1b10-c7e9-40bc-885c-4c5a0723a026', '4af18dcc-6cc5-44c8-9f33-6741a01e7376', '9e6d590d-69d8-4847-a641-abcd18d6f3b7', '21c42efc-a54d-4db3-93a8-596c98fbddc6', 'd4176dd4-6338-49bc-866c-abb63d1ea940', '91cc6551-66ee-4b19-8204-65f8806ec46c', 'cdf09620-4102-439a-bf9d-b8345fbe1b5a', '9ddce360-2872-4433-a4ca-2da14736e5ad', '5639a93a-470c-42c1-b817-33d734b52177', 'e11c57b8-4700-49ec-b57c-1ea7ae00a2f7', '695ce3a0-10a3-4b6c-8dc8-6bb3a9411e43', '2c3f2b1d-e1d0-4db1-b85f-f2d13a5cf0a2', '415b9a22-6a7a-42e9-b740-4823450687cc', '61e57d3c-9c5d-48d4-b156-c68ac9fca30d', 'b882b7e8-8230-4f6b-a85f-43c9e53353de', '736e4d26-422d-4ce1-9b9b-831252483444', '9916302e-8959-407f-875d-5a5b3f43c08a', '50593430-3200-4d4c-838e-025c22169178', '7e58e23b-f107-4e7b-ba5c-c54bba9cf380', 'a4d16169-702e-43f0-a06a-498b8bb2da3b', '3ff2fec1-b604-4a47-8cd2-32a87cdff80d', '62b0e35f-8f75-4409-b97b-65c60bf29ac1', '4fd56ee6-4d0a-47f8-9990-3e0d2257344c', 'a11f5e03-9494-42d1-b467-6b697e8da3bc', 'ea5f59e4-0b9c-439a-a2ab-5cdf3baa4172', 'b7ac1fdf-b2bc-4f55-8ba2-b0b809680f0e', '93b9c505-bd5c-43c4-bc35-1ad0bfc9b21e', 'bf7eb8ce-9e71-4f4e-bf46-4f88bbbf0008', '15166030-80bb-43c1-a85a-937d7b37fb21', '2e1806d9-3101-4dac-ae03-5fb9d70a5e7c', '535f52ab-43a6-40bc-a94e-b96854462976', '4d4b9233-ddd5-448b-b8f3-e270cc8fa27f', '4af527cf-fcac-40df-9e54-5403d4d66e39', '6b124b7e-5f97-4f59-b9ee-b3a4de450cfe', '4c71e912-6ce8-4ad0-8147-6495e16e1c9a', '46fe9ca5-cba2-4a0e-ae56-0acd62625336', 'bf18087b-9d7b-4064-b37a-e3f673740d65', '9c449022-e2dc-4401-9a1e-72e3f758c79c', '04fa6615-a93e-441a-a318-8fcda0076014', '0dc4f682-b983-4d02-9bb2-474ea680f9c2', '420cf219-9011-4361-a30b-879f377130f0', '2d350b55-9235-4dec-bfc7-08c3bce8a744', 'a40af113-569e-4859-89ea-e16c02e26f45', '1b7593e2-e10a-41f9-a171-dd5689aefee4', '0e448487-c3d3-4170-b9aa-fda21fdc7f0b', '336b2c57-01c0-4826-bd91-9222dcda5547', 'e53d7f30-0884-4a17-910b-f88388e8b65b', '92ec8756-c0b1-46a8-9aac-1a1c330c2756', 'c64e90e6-c169-4b0c-949d-86f07fe898f0', '4fe6e734-75b1-4a6c-a4a2-6961ce8fa7b2', 'a017aaf0-02fe-4a92-9df2-9e0cba275c84', 'cdc4f65b-de9a-48e9-a858-e297aeeb0167', '7f3ee91e-a720-4ff7-886a-d7cffc0fb4c4', 'f102bc1a-f792-4b6e-bb2f-3087fee051f6', '771f594a-d072-46da-8c76-9cdaa82efe75', '50812dcd-46f4-47a9-be41-9b37c7dc1127', 'afb2e383-a51d-4a63-aeb4-d024fa3ab71a', '3a889a6d-7ba9-4aa6-8c9c-61be8d853b06', '25c316e2-0769-4f5a-bcd2-994074bbb585', '40cd663e-ea9a-46f1-a300-f9ab719f2964', '67ef995d-dcce-4e25-ba98-f0cea69bd60a', 'ddbf833e-5d5b-448b-a6fd-5da79ed676f5', 'dcba6a19-afe6-4921-94c9-7a0f0946db46']\n"
     ]
    },
    {
     "name": "stdout",
     "output_type": "stream",
     "text": [
      "Replacing 58 from 175 !\n",
      "D_relabeled_ 58\n",
      "selected_ids ['2d350b55-9235-4dec-bfc7-08c3bce8a744', '7e58e23b-f107-4e7b-ba5c-c54bba9cf380', 'a5f296af-c1b6-41ee-99c2-8987c37a7abf', 'd6dbb13e-6ae0-4b6b-8034-b178ec7c0cdd', '7036ba74-57e8-4ecd-af01-f51ec8757c44', '62b0e35f-8f75-4409-b97b-65c60bf29ac1', 'a40af113-569e-4859-89ea-e16c02e26f45', '35d34675-21b0-4d3f-b4ef-69cd3cb89645', '535f52ab-43a6-40bc-a94e-b96854462976', '336b2c57-01c0-4826-bd91-9222dcda5547', '07ea40e0-3a05-4c8d-8d9b-d50920265c91', 'aa6bedc0-6bdd-4fd5-96e0-2690933c803d', '1aef17ee-bfb1-4b05-a1bb-8e22f2ff9ee8', '50f99fb1-a7d1-4c30-8f60-00cd80ee0c76', 'fa228281-91f3-40c5-ac9a-f8c3b8ff137e', '4b3ddc19-b64b-4188-9f1f-843a148861b4', '7bd1d251-616b-4e5c-bbce-9297b1f0de8f', '13db921b-f517-4a3e-9191-81a8f57c222c', '6476e419-b383-406f-8a6e-13c72fa2974f', 'b891adf0-4071-413e-b697-b2cd9eb7d5d5', '7d578db8-15c5-4570-8ab7-0d397f8ba34e', 'e11c57b8-4700-49ec-b57c-1ea7ae00a2f7', 'd6f00784-4510-4f42-879d-c9a34ce5633c', '53ab341d-bebd-4270-8fe9-7c5859da38b9', '420cf219-9011-4361-a30b-879f377130f0', '664028bf-ead5-4d73-b2c4-a80ad14f9d5b', 'e3aacc0d-6b3a-4adf-ae03-0a22007c08a3', '075be608-4296-43eb-b0c3-684002aa06c0', '1cf0c374-5b0d-4454-afcf-7236372dd8bd', 'b2a6b57e-2009-478a-97a8-0f2e5e551440', 'b4182ae4-ee3b-41e1-b9bf-92b7bbccac9c', '0bdfff52-0465-4a37-885a-861865c9e6cb', '9d3841f4-36e9-4d3f-a2da-3d1c1421c954', '8a7b08e9-2fc0-456e-b343-e8c52f8c4c44', '833c8337-13af-49c1-bb8f-e15770a017ef', '695ce3a0-10a3-4b6c-8dc8-6bb3a9411e43', '56de52bb-70ee-49bd-ae90-109bb2851962', 'ab7583a7-0d54-4d63-b464-99365f01c070', '64ca22d1-a1b4-49b0-8eea-3ee2281756af', '4112730b-8411-4bfc-92c9-f0d081ec77b3', 'd75a30c9-536b-4717-891e-258d55bf62b8', 'c64e90e6-c169-4b0c-949d-86f07fe898f0', '274bf1a9-5bd6-4b2d-b1bc-fba0601d7fe3', 'dbd64f1a-5488-489a-8a06-2f337ab14e67', '2c3f2b1d-e1d0-4db1-b85f-f2d13a5cf0a2', '117a1821-2c9b-4598-a82d-98129b38ed55', '4c71e912-6ce8-4ad0-8147-6495e16e1c9a', '4fe6e734-75b1-4a6c-a4a2-6961ce8fa7b2', '00e410c3-7fed-4946-b094-5da9fd53c8d2', '387af693-2b3e-42dc-85f8-7440a4dd96f7', 'f2084751-b2ee-42fb-ac1d-771d3adc3b00', '771f594a-d072-46da-8c76-9cdaa82efe75', '5f132f89-bbcc-4e01-8265-5b81bf99095e', '9264dce3-d1af-4dbd-a3a9-8e3b45ed7c7b', '233d7d22-7c1c-46d7-a304-96143a70cfbc', '51890653-a39f-45e3-9197-fee791d356a2', '556897d1-d6f6-445b-9ac8-c340b8e97434', 'd611d366-8f06-4bdf-bbc9-0885a432a9f4']\n",
      "dict_keys(['2d350b55-9235-4dec-bfc7-08c3bce8a744', '7e58e23b-f107-4e7b-ba5c-c54bba9cf380', 'a5f296af-c1b6-41ee-99c2-8987c37a7abf', 'd6dbb13e-6ae0-4b6b-8034-b178ec7c0cdd', '7036ba74-57e8-4ecd-af01-f51ec8757c44', '62b0e35f-8f75-4409-b97b-65c60bf29ac1', 'a40af113-569e-4859-89ea-e16c02e26f45', '35d34675-21b0-4d3f-b4ef-69cd3cb89645', '535f52ab-43a6-40bc-a94e-b96854462976', '336b2c57-01c0-4826-bd91-9222dcda5547', '07ea40e0-3a05-4c8d-8d9b-d50920265c91', 'aa6bedc0-6bdd-4fd5-96e0-2690933c803d', '1aef17ee-bfb1-4b05-a1bb-8e22f2ff9ee8', '50f99fb1-a7d1-4c30-8f60-00cd80ee0c76', 'fa228281-91f3-40c5-ac9a-f8c3b8ff137e', '4b3ddc19-b64b-4188-9f1f-843a148861b4', '7bd1d251-616b-4e5c-bbce-9297b1f0de8f', '13db921b-f517-4a3e-9191-81a8f57c222c', '6476e419-b383-406f-8a6e-13c72fa2974f', 'b891adf0-4071-413e-b697-b2cd9eb7d5d5', '7d578db8-15c5-4570-8ab7-0d397f8ba34e', 'e11c57b8-4700-49ec-b57c-1ea7ae00a2f7', 'd6f00784-4510-4f42-879d-c9a34ce5633c', '53ab341d-bebd-4270-8fe9-7c5859da38b9', '420cf219-9011-4361-a30b-879f377130f0', '664028bf-ead5-4d73-b2c4-a80ad14f9d5b', 'e3aacc0d-6b3a-4adf-ae03-0a22007c08a3', '075be608-4296-43eb-b0c3-684002aa06c0', '1cf0c374-5b0d-4454-afcf-7236372dd8bd', 'b2a6b57e-2009-478a-97a8-0f2e5e551440', 'b4182ae4-ee3b-41e1-b9bf-92b7bbccac9c', '0bdfff52-0465-4a37-885a-861865c9e6cb', '9d3841f4-36e9-4d3f-a2da-3d1c1421c954', '8a7b08e9-2fc0-456e-b343-e8c52f8c4c44', '833c8337-13af-49c1-bb8f-e15770a017ef', '695ce3a0-10a3-4b6c-8dc8-6bb3a9411e43', '56de52bb-70ee-49bd-ae90-109bb2851962', 'ab7583a7-0d54-4d63-b464-99365f01c070', '64ca22d1-a1b4-49b0-8eea-3ee2281756af', '4112730b-8411-4bfc-92c9-f0d081ec77b3', 'd75a30c9-536b-4717-891e-258d55bf62b8', 'c64e90e6-c169-4b0c-949d-86f07fe898f0', '274bf1a9-5bd6-4b2d-b1bc-fba0601d7fe3', 'dbd64f1a-5488-489a-8a06-2f337ab14e67', '2c3f2b1d-e1d0-4db1-b85f-f2d13a5cf0a2', '117a1821-2c9b-4598-a82d-98129b38ed55', '4c71e912-6ce8-4ad0-8147-6495e16e1c9a', '4fe6e734-75b1-4a6c-a4a2-6961ce8fa7b2', '00e410c3-7fed-4946-b094-5da9fd53c8d2', '387af693-2b3e-42dc-85f8-7440a4dd96f7', 'f2084751-b2ee-42fb-ac1d-771d3adc3b00', '771f594a-d072-46da-8c76-9cdaa82efe75', '5f132f89-bbcc-4e01-8265-5b81bf99095e', '9264dce3-d1af-4dbd-a3a9-8e3b45ed7c7b', '233d7d22-7c1c-46d7-a304-96143a70cfbc', '51890653-a39f-45e3-9197-fee791d356a2', '556897d1-d6f6-445b-9ac8-c340b8e97434', 'd611d366-8f06-4bdf-bbc9-0885a432a9f4'])\n",
      "point ids 58\n",
      "Removed: 58 Filled: 58\n",
      "TOOK 602.4948480129242 seconds\n",
      "***\n",
      "RUN: 2\n",
      "Epoch 1/100\n",
      "11/11 [==============================] - 15s 1s/step - loss: 0.0613 - binary_accuracy: 0.9911 - val_loss: 0.0825 - val_binary_accuracy: 0.9865\n",
      "Epoch 2/100\n",
      "11/11 [==============================] - 12s 1s/step - loss: 0.0599 - binary_accuracy: 0.9913 - val_loss: 0.0607 - val_binary_accuracy: 0.9899\n",
      "Epoch 3/100\n",
      "11/11 [==============================] - 12s 1s/step - loss: 0.0596 - binary_accuracy: 0.9913 - val_loss: 0.0660 - val_binary_accuracy: 0.9889\n",
      "Epoch 4/100\n",
      "11/11 [==============================] - 12s 1s/step - loss: 0.0592 - binary_accuracy: 0.9912 - val_loss: 0.0586 - val_binary_accuracy: 0.9904\n",
      "Epoch 5/100\n",
      "11/11 [==============================] - 12s 1s/step - loss: 0.0590 - binary_accuracy: 0.9912 - val_loss: 0.0653 - val_binary_accuracy: 0.9890\n",
      "Epoch 6/100\n",
      "11/11 [==============================] - 12s 1s/step - loss: 0.0589 - binary_accuracy: 0.9911 - val_loss: 0.0566 - val_binary_accuracy: 0.9904\n",
      "Epoch 7/100\n",
      "11/11 [==============================] - 12s 1s/step - loss: 0.0580 - binary_accuracy: 0.9912 - val_loss: 0.0566 - val_binary_accuracy: 0.9906\n",
      "Epoch 8/100\n",
      "11/11 [==============================] - 12s 1s/step - loss: 0.0578 - binary_accuracy: 0.9911 - val_loss: 0.0573 - val_binary_accuracy: 0.9904\n",
      "Epoch 9/100\n",
      "11/11 [==============================] - 12s 1s/step - loss: 0.0569 - binary_accuracy: 0.9914 - val_loss: 0.0563 - val_binary_accuracy: 0.9905\n",
      "Epoch 10/100\n",
      "11/11 [==============================] - 13s 1s/step - loss: 0.0567 - binary_accuracy: 0.9911 - val_loss: 0.0667 - val_binary_accuracy: 0.9891\n",
      "Epoch 11/100\n",
      "11/11 [==============================] - 12s 1s/step - loss: 0.0556 - binary_accuracy: 0.9915 - val_loss: 0.0578 - val_binary_accuracy: 0.9904\n",
      "Epoch 12/100\n",
      "11/11 [==============================] - 12s 1s/step - loss: 0.0549 - binary_accuracy: 0.9915 - val_loss: 0.0631 - val_binary_accuracy: 0.9893\n",
      "Epoch 13/100\n",
      "11/11 [==============================] - 12s 1s/step - loss: 0.0549 - binary_accuracy: 0.9913 - val_loss: 0.0647 - val_binary_accuracy: 0.9894\n",
      "Epoch 14/100\n",
      "11/11 [==============================] - 12s 1s/step - loss: 0.0539 - binary_accuracy: 0.9916 - val_loss: 0.0555 - val_binary_accuracy: 0.9905\n",
      "Epoch 15/100\n",
      "11/11 [==============================] - 12s 1s/step - loss: 0.0544 - binary_accuracy: 0.9913 - val_loss: 0.0620 - val_binary_accuracy: 0.9895\n",
      "Epoch 16/100\n",
      "11/11 [==============================] - 12s 1s/step - loss: 0.0532 - binary_accuracy: 0.9914 - val_loss: 0.0567 - val_binary_accuracy: 0.9903\n",
      "Epoch 17/100\n",
      "11/11 [==============================] - 12s 1s/step - loss: 0.0531 - binary_accuracy: 0.9914 - val_loss: 0.2128 - val_binary_accuracy: 0.9659\n",
      "Epoch 18/100\n",
      "11/11 [==============================] - 12s 1s/step - loss: 0.0519 - binary_accuracy: 0.9916 - val_loss: 0.0640 - val_binary_accuracy: 0.9887\n",
      "Epoch 19/100\n",
      "11/11 [==============================] - 12s 1s/step - loss: 0.0519 - binary_accuracy: 0.9916 - val_loss: 0.1019 - val_binary_accuracy: 0.9829\n",
      "Epoch 20/100\n",
      "11/11 [==============================] - 12s 1s/step - loss: 0.0515 - binary_accuracy: 0.9916 - val_loss: 0.0524 - val_binary_accuracy: 0.9902\n",
      "Epoch 21/100\n",
      "11/11 [==============================] - 12s 1s/step - loss: 0.0574 - binary_accuracy: 0.9897 - val_loss: 0.0790 - val_binary_accuracy: 0.9840\n",
      "Epoch 22/100\n",
      "11/11 [==============================] - 12s 1s/step - loss: 0.0538 - binary_accuracy: 0.9907 - val_loss: 0.0647 - val_binary_accuracy: 0.9891\n"
     ]
    },
    {
     "name": "stdout",
     "output_type": "stream",
     "text": [
      "Model saved to: /tmp/tmpu59_mbn3GP2/kunet_2model\n",
      "History saved to: /tmp/tmpu59_mbn3GP2/khistory_2.pkl\n",
      "Testing the classifier...\n",
      "Testing the discriminator...\n",
      "19/19 [==============================] - 0s 22ms/step - loss: 6.6638 - accuracy: 0.8033\n",
      "Found 181 machine labels.\n",
      "Machine labels [  2   6   7   8  11  12  16  18  26  27  28  32  33  35  39  40  41  43\n",
      "  53  62  65  67  70  73  74  75  77  78  79  80  83  87  89  91  96 102\n",
      " 105 107 114 117 119 123 124 130 133 135 138 140 141 156 163 172 175 176\n",
      " 177 178 180 182 183 185 186 188 193 196 206 209 210 214 230 237 238 240\n",
      " 245 248 249 252 255 257 258 260 264 267 268 269 274 276 286 288 291 297\n",
      " 298 300 303 306 313 314 316 319 321 322 324 328 330 331 332 340 342 343\n",
      " 344 349 353 356 358 359 363 366 370 375 377 379 380 392 393 400 406 408\n",
      " 417 419 420 424 425 426 427 441 445 446 447 453 459 472 477 478 479 481\n",
      " 482 485 489 493 495 497 501 502 508 509 515 517 518 519 521 525 529 534\n",
      " 537 544 550 552 554 555 557 559 563 564 566 570 571 576 582 586 593 597\n",
      " 598]\n",
      "D_ids ['3c0d4d2f-6e7b-44b5-8dbf-4aa3ae924c5b', '3d2eb34d-367b-4804-a0b8-aa3c445f5bca', '8eafd415-f698-4a2e-b009-870fb710e5da', 'b31779b6-d1c8-4bc0-8579-de06a7baece6', '3b860291-7bf3-4de7-9bb7-a78ed837cd16', '441f1d6b-262d-4b1e-a2c5-4ca787665549', '3bd00f9c-1627-458a-8d08-faf6acfd1948', '0b92cc22-c195-4120-b01b-5165c9300879', '560fc607-ad01-4710-ad98-8e4aebb5e82e', '30255012-f399-41d8-a02f-efcb340e2d5e', '8eb41e6f-cba9-4797-89d9-2ea33918a98a', 'e21ef7ad-4be0-4742-9c53-a9ba54bf67ee', '449028fc-7869-42c6-8d54-ff5f3ab249f3', '29066fd2-bdd4-4337-8f86-c96f4f5a201c', '5b50aee3-185e-4be1-89f9-7ffe6f506b4e', 'b1127660-c8b9-475c-9596-8a7fc915f4e2', '06630b3d-4aff-4e74-a34c-a9a8225479cc', '2e67444f-f2a7-4cad-80b3-55a15ae35b7a', '7b719af8-88fd-4583-b33b-1ce848506ac2', '12e42730-cb91-41a2-9faa-91c877f4c35a', 'b2f8e6a7-e697-4420-a2f6-5ff5eab7474d', '8b0186b8-b70c-4e71-a12d-1e07038a2a1f', '68445f17-85c0-408e-bf6d-9d45dd588984', 'b1a6ad5e-0e3e-46d0-b5f8-cf2133f2de31', 'c5568ac4-db79-477e-abcd-4905f1bac13a', '8b3d3f00-33fe-4fab-8dc2-fe415e7d4d2a', '257d1555-f994-4113-a170-be148f521b0c', '9cce46dc-d776-4ce4-93dd-92219caa0a16', 'c95e98af-3d18-4b1e-94ce-bc48768d3458', '4e2355a1-a4b7-4aca-9313-9f61d112e3d5', '48bd3380-9973-46a8-9467-5589df42a45a', '6627a069-808e-4b8d-af7f-046d765fec07', '69ae17b6-a65b-41df-bcb1-8e3bcd36eabe', '09ffa86c-6c3c-4353-8014-87912cc15c8e', 'cff32263-03b6-435e-9d01-c3513ee6e425', '54e3943f-f560-46cc-8306-c46aeaa3737d', '702a2f2c-8f5f-40d4-ab89-2146e351b494', '97dc0e68-0eba-48bc-9466-d74c8f795e1b', '0dc4f682-b983-4d02-9bb2-474ea680f9c2', '1e1530c5-9ab9-4833-9b94-6c05b8ff7c51', '3e353d5d-4474-4bc1-906a-5ba0077fcafa', 'd91146ca-3422-4def-94e4-7c1369c150f0', 'c7862579-6ecb-4b48-9ce8-cf15580c4d63', '61bfd49e-0b94-4088-bdd3-0f4824eb0eba', 'ad79ffe0-2555-4587-a0ee-961114e1a988', '2735ceda-96c6-4597-b22a-32003eb32114', '6a564906-9175-4ca9-b803-9da4cfd650a1', '8765d418-4077-47b8-82d7-63c72c268ef5', 'a10b1772-fd97-4b0f-bc35-078180f5a93e', '82e8bc75-86f6-4349-ae1b-96ab71e6ccbc', '87b2d954-3d51-47be-9ee2-c9a0944e9e1e', 'feb796d3-0306-4f81-bdd5-90de7ee04b4f', 'dff35c0a-fc3d-460b-a497-1510e3b453d9', 'b9a1cfbc-d8a6-47a3-8a21-af5b56d01675', '2d4fc258-580b-4654-9b7e-0351b3e6d9cf', '8c6fef73-21ee-4b65-bea9-27a224a14407', '60fb4424-cf17-46c3-8b6e-f8709e8a33b0', '7fce77e4-66b6-45ec-a4e4-0744a4352eb8', '2ee3fa9d-0fdb-4260-8f88-6bcbafe19f3f', '68d6387c-a298-4d63-aaf9-16d72c5a34a2', 'de040e75-d368-4d21-8fab-615b85ffeb04', '724cc5b8-ecf1-4f91-9c26-2b893f47bcec', 'c6d96115-c264-4868-b2ee-ae782e7ee1e5', '823a6954-4a56-4e5c-a8f3-4aee073fdcec', 'e98aef9a-8061-4722-abad-df888e13ee55', '97b8e1b7-feab-4b17-bde3-db560d83ff54', 'c4c8bc45-9587-4082-be4c-f1b870efa491', '849d81fc-1562-4ea6-af31-99f9c62e2a03', '95d338b6-6dd1-42a1-aea6-03de988b1cec', '7b539d23-aff0-40dc-aecc-dd25f9ad61d7', '907a87c6-d356-4ac9-a512-44e4c5b46a3d', 'e3ccd57c-c227-4807-a3d3-d6ac228d4d4d', 'da5a4d67-8158-4e55-8062-7c1431669074', '5ae0ddf0-58af-40f0-94ac-75cdac752eef', '8465e61b-80af-4bd0-8345-7b23f28147cf', 'c8589da3-dcee-4f32-817f-8f95133cb6eb', '03197151-4a66-40b3-be28-094e1f73c5c9', '50ddbe7e-28b9-4045-8b86-1bee5145be8b', 'de6027f2-35cc-4f8d-9ff2-6612820abf67', 'c62f9a7a-6c4e-4370-b47c-cab50f9b5bd8', '9d3ffe83-70ce-4cb0-b8aa-f62257163452', '758e318e-3b64-4c17-9ba6-c12694a4e87a', 'eb7b7564-26a1-4f96-aedb-fb78bc3ba710', '20c94d5f-a980-476d-9a54-18d7b7b33fe1', 'bf1a444d-c22e-498f-b395-b1176cd1d4c9', 'b993338d-407c-4d3d-a692-bb5f626774db', '3b10b381-0a0d-4af8-820d-c2e2116aaec1', '5e56d142-3944-47fe-939a-69481d4603b8', '0b99026e-33cc-47ac-b72b-fb9a4c7b45fe', 'c5cc823c-4c4b-41e9-9f8d-234825fb25d1', '37d97657-f0dd-4463-a951-abe45da23e79', '850f1e1d-8cf3-4538-a56b-64c7e2921290', '57cf9d46-e443-47c9-bc07-ffdbf44bb0b4', '138ba134-ecc8-4e22-bfb9-cb99a199f066', '57a4eaaa-484c-4579-b09b-3069ac57f0e8', '96ec83a7-5a92-4fcc-b427-6c211d20e4aa', '29b2449f-4674-4c58-8fdf-9e61759773d6', 'a3f92e6c-0a36-4ca5-aa48-a002d23005db', '8807c899-f86e-4e5b-af0a-f2e1b9e83d34', '6c4c584e-c656-48df-bd43-25d36c110af3', 'c08deb5c-59cc-4207-809b-ccd03774a290', '875535f5-e47f-454e-94b8-5862381ebe81', '5910af45-f9c6-4674-be4a-84ce2eed5b6d', '5639a93a-470c-42c1-b817-33d734b52177', 'c0b2c970-4bfb-4012-ac53-ab83c064c5f9', 'a299cafa-2468-46be-aac1-4a5293241e5b', '7c86295a-142a-4c3b-80bb-0175227ef665', '7b87faf8-d722-480c-b0fe-9c9c6a813f57', '89ceecc7-85aa-404a-99e0-84c92f2a06f2', '1d608bfb-ca51-4585-8b20-c8f484331ebf', '4e4bf92c-c280-4aff-97be-4ac6be4fb3f7', 'ff253772-4bf7-48ae-ae9d-c7dd1e2bcd12', 'eafcf96c-e221-4874-9f20-5fef0d16b603', '7d69a143-805a-4f4a-8ca6-c891a9e6d23c', '77869aa4-5524-469d-aa63-a3d0e3e57be2', '9cd0f673-efdc-430d-aa1b-4ced8fb04678', '168e8844-ee05-4a20-9198-6e8ca3f72429', '60628039-c6e8-4f95-acfc-1679c9f5b656', 'e05db2c4-d209-44ff-8a37-66ebc4ac8ecb', 'd466d619-e69e-4086-b614-2b08cd96e7fe', 'caa40cde-52a7-4ade-af19-441c98261ce4', '01577efe-0fb9-45b3-9e67-a2372f1382c8', '72328b5b-a7d0-47fa-b238-1f3a52e8a759', 'ac8dbfcc-3862-420b-8bec-b01288886586', '39659537-7c5e-43e2-b0ac-c8d324c28fdb', '4fecd534-e595-4262-a8ff-487304b7b03a', 'fa47ba3e-9b13-4abb-9d09-760364370910', '72f8b4b9-7b22-48e4-9b12-7ff4f9e8a007', 'b2a450bc-caca-4dfd-9ee3-1abfe6fe022a', '4c4cb07b-0c95-4dc4-b5ff-ab7ea8061218', 'ddad13ab-a269-4d1e-8639-6a7d19adc8ec', '5fac232e-cf01-4e98-b37a-b306e34afc11', '11103741-326c-4cbe-b419-50c74a2b0f54', 'ab491fac-ba89-493a-9dab-51970dff0b3f', 'ac3c9d34-41fd-46cc-89f4-2a669f795f59', 'ff1c5d9d-e3dd-4dd6-8dc1-b019821a3c01', '967a5dad-c6c8-41be-9fad-5f76d0d445f8', '8ffa1b9f-6cf3-492d-bcd9-757c3e9c4b54', '5f3c4068-3656-47a6-887e-fc2b032de6b3', 'a52a5352-85c6-4341-af7c-6e1953aaf472', '9a3ada5d-ad05-4f01-a075-ff4e59d43628', '34dbace8-3648-4724-9924-77ea87b3b06b', '25919716-fb18-45c5-93e9-27827e11f972', 'c132ee6e-b26b-409a-bbc8-ac572c481e98', '23ad6b21-f70e-4c55-a9bd-e99b451b7960', 'bbc8992e-4771-46da-8896-1e302df121fb', '141539ef-2fe5-4630-aec5-3cdb3b6eb2cc', '7fa606a6-c01d-4bf3-9809-df7d1ebb6d59', '948e49cc-c40a-4971-97e5-deac7cf7f9bf', '8904ed50-579d-4b10-8feb-71e25ab37872', 'ff35f4d3-d608-4846-8d12-7d0c53afcc83', 'a5d44a82-86d2-4fa1-94bc-0ec941639521', '3193d3b5-5c77-4e89-a0c2-5ce47137e98f', 'e346166a-1440-4156-af33-83bb894e8940', 'd126baf7-c83d-44a9-b254-0e3642dab428', '8234094c-988c-43bf-844f-d4c37071749f', '10f5f5b4-c910-454c-a05b-d58b398c168a', '4077cb36-3b27-42b4-ba76-e57cbea96cb8', '6b124b7e-5f97-4f59-b9ee-b3a4de450cfe', 'ed6a2d6d-5116-4981-bb9e-e107644911f4', '7663ca46-e09d-4b9d-9c34-6bc9a53fb7c4', 'b833801e-b41e-4d61-a7ed-cebf3463f977', '7907c4de-df35-425e-9e8d-e8ecfaa5b619', '9ba35cd4-dbed-41e7-b3e3-c30de1c20adc', '78b163c3-ced8-4f24-9034-4d31a9060b38', 'd7a72709-dd8b-482d-9d41-6470c5dd56b2', '3a89d93f-a152-4ae7-8377-185f7bab5db3', '8c2969a2-a30f-405a-8150-0cd07f9f4d8c', 'be6e6f69-59e1-4978-9d24-b19be325e305', '29e85af5-2680-43e2-b5c3-dd283764b000', '7e09342c-ec87-4c8e-badf-d5f33c9276d4', 'ddd3161e-6703-4fd6-b116-7f67a270436b', 'e40cd571-7ff1-4238-b364-ac29cb0e9677', '56db4144-bf45-41b5-93b4-648b48a2eb3c', 'e558b7f7-c5f8-42a8-b7d0-b308dcb660a6', 'e013b57a-9ce2-45a8-8b43-ea0ba0a4ce3f', 'bc37e68f-22d5-49d3-a93d-11477a40b08f', '859dcef4-3a05-43b4-8635-47b55bf62cf3', '83b3889a-4af5-4940-8e26-d08f55c4b627', '69711acd-caa6-4af1-8645-04c16248f572', '26ee89cd-5d48-4f61-a0f7-ec6b93c7042c']\n",
      "Replacing 60 from 181 !\n",
      "D_relabeled_ 60\n",
      "selected_ids ['b2a450bc-caca-4dfd-9ee3-1abfe6fe022a', 'cff32263-03b6-435e-9d01-c3513ee6e425', '57cf9d46-e443-47c9-bc07-ffdbf44bb0b4', '69711acd-caa6-4af1-8645-04c16248f572', '859dcef4-3a05-43b4-8635-47b55bf62cf3', 'dff35c0a-fc3d-460b-a497-1510e3b453d9', 'b9a1cfbc-d8a6-47a3-8a21-af5b56d01675', '97b8e1b7-feab-4b17-bde3-db560d83ff54', '8234094c-988c-43bf-844f-d4c37071749f', 'de040e75-d368-4d21-8fab-615b85ffeb04', '29066fd2-bdd4-4337-8f86-c96f4f5a201c', 'bbc8992e-4771-46da-8896-1e302df121fb', '8b0186b8-b70c-4e71-a12d-1e07038a2a1f', '7b87faf8-d722-480c-b0fe-9c9c6a813f57', '2d4fc258-580b-4654-9b7e-0351b3e6d9cf', '5f3c4068-3656-47a6-887e-fc2b032de6b3', '5fac232e-cf01-4e98-b37a-b306e34afc11', '967a5dad-c6c8-41be-9fad-5f76d0d445f8', '72328b5b-a7d0-47fa-b238-1f3a52e8a759', '60fb4424-cf17-46c3-8b6e-f8709e8a33b0', '141539ef-2fe5-4630-aec5-3cdb3b6eb2cc', '56db4144-bf45-41b5-93b4-648b48a2eb3c', 'c7862579-6ecb-4b48-9ce8-cf15580c4d63', 'feb796d3-0306-4f81-bdd5-90de7ee04b4f', 'ff1c5d9d-e3dd-4dd6-8dc1-b019821a3c01', 'ff35f4d3-d608-4846-8d12-7d0c53afcc83', '2735ceda-96c6-4597-b22a-32003eb32114', '4c4cb07b-0c95-4dc4-b5ff-ab7ea8061218', '6a564906-9175-4ca9-b803-9da4cfd650a1', '87b2d954-3d51-47be-9ee2-c9a0944e9e1e', '5ae0ddf0-58af-40f0-94ac-75cdac752eef', '4077cb36-3b27-42b4-ba76-e57cbea96cb8', '69ae17b6-a65b-41df-bcb1-8e3bcd36eabe', 'ddad13ab-a269-4d1e-8639-6a7d19adc8ec', 'c5568ac4-db79-477e-abcd-4905f1bac13a', '6b124b7e-5f97-4f59-b9ee-b3a4de450cfe', '77869aa4-5524-469d-aa63-a3d0e3e57be2', 'b833801e-b41e-4d61-a7ed-cebf3463f977', '948e49cc-c40a-4971-97e5-deac7cf7f9bf', 'c08deb5c-59cc-4207-809b-ccd03774a290', 'de6027f2-35cc-4f8d-9ff2-6612820abf67', 'fa47ba3e-9b13-4abb-9d09-760364370910', 'e05db2c4-d209-44ff-8a37-66ebc4ac8ecb', 'caa40cde-52a7-4ade-af19-441c98261ce4', 'e013b57a-9ce2-45a8-8b43-ea0ba0a4ce3f', '68445f17-85c0-408e-bf6d-9d45dd588984', '03197151-4a66-40b3-be28-094e1f73c5c9', '12e42730-cb91-41a2-9faa-91c877f4c35a', 'e3ccd57c-c227-4807-a3d3-d6ac228d4d4d', '9cd0f673-efdc-430d-aa1b-4ced8fb04678', '09ffa86c-6c3c-4353-8014-87912cc15c8e', '138ba134-ecc8-4e22-bfb9-cb99a199f066', 'a5d44a82-86d2-4fa1-94bc-0ec941639521', 'ac3c9d34-41fd-46cc-89f4-2a669f795f59', 'b2f8e6a7-e697-4420-a2f6-5ff5eab7474d', '6c4c584e-c656-48df-bd43-25d36c110af3', '8c2969a2-a30f-405a-8150-0cd07f9f4d8c', 'a10b1772-fd97-4b0f-bc35-078180f5a93e', '82e8bc75-86f6-4349-ae1b-96ab71e6ccbc', '83b3889a-4af5-4940-8e26-d08f55c4b627']\n",
      "dict_keys(['b2a450bc-caca-4dfd-9ee3-1abfe6fe022a', 'cff32263-03b6-435e-9d01-c3513ee6e425', '57cf9d46-e443-47c9-bc07-ffdbf44bb0b4', '69711acd-caa6-4af1-8645-04c16248f572', '859dcef4-3a05-43b4-8635-47b55bf62cf3', 'dff35c0a-fc3d-460b-a497-1510e3b453d9', 'b9a1cfbc-d8a6-47a3-8a21-af5b56d01675', '97b8e1b7-feab-4b17-bde3-db560d83ff54', '8234094c-988c-43bf-844f-d4c37071749f', 'de040e75-d368-4d21-8fab-615b85ffeb04', '29066fd2-bdd4-4337-8f86-c96f4f5a201c', 'bbc8992e-4771-46da-8896-1e302df121fb', '8b0186b8-b70c-4e71-a12d-1e07038a2a1f', '7b87faf8-d722-480c-b0fe-9c9c6a813f57', '2d4fc258-580b-4654-9b7e-0351b3e6d9cf', '5f3c4068-3656-47a6-887e-fc2b032de6b3', '5fac232e-cf01-4e98-b37a-b306e34afc11', '967a5dad-c6c8-41be-9fad-5f76d0d445f8', '72328b5b-a7d0-47fa-b238-1f3a52e8a759', '60fb4424-cf17-46c3-8b6e-f8709e8a33b0', '141539ef-2fe5-4630-aec5-3cdb3b6eb2cc', '56db4144-bf45-41b5-93b4-648b48a2eb3c', 'c7862579-6ecb-4b48-9ce8-cf15580c4d63', 'feb796d3-0306-4f81-bdd5-90de7ee04b4f', 'ff1c5d9d-e3dd-4dd6-8dc1-b019821a3c01', 'ff35f4d3-d608-4846-8d12-7d0c53afcc83', '2735ceda-96c6-4597-b22a-32003eb32114', '4c4cb07b-0c95-4dc4-b5ff-ab7ea8061218', '6a564906-9175-4ca9-b803-9da4cfd650a1', '87b2d954-3d51-47be-9ee2-c9a0944e9e1e', '5ae0ddf0-58af-40f0-94ac-75cdac752eef', '4077cb36-3b27-42b4-ba76-e57cbea96cb8', '69ae17b6-a65b-41df-bcb1-8e3bcd36eabe', 'ddad13ab-a269-4d1e-8639-6a7d19adc8ec', 'c5568ac4-db79-477e-abcd-4905f1bac13a', '6b124b7e-5f97-4f59-b9ee-b3a4de450cfe', '77869aa4-5524-469d-aa63-a3d0e3e57be2', 'b833801e-b41e-4d61-a7ed-cebf3463f977', '948e49cc-c40a-4971-97e5-deac7cf7f9bf', 'c08deb5c-59cc-4207-809b-ccd03774a290', 'de6027f2-35cc-4f8d-9ff2-6612820abf67', 'fa47ba3e-9b13-4abb-9d09-760364370910', 'e05db2c4-d209-44ff-8a37-66ebc4ac8ecb', 'caa40cde-52a7-4ade-af19-441c98261ce4', 'e013b57a-9ce2-45a8-8b43-ea0ba0a4ce3f', '68445f17-85c0-408e-bf6d-9d45dd588984', '03197151-4a66-40b3-be28-094e1f73c5c9', '12e42730-cb91-41a2-9faa-91c877f4c35a', 'e3ccd57c-c227-4807-a3d3-d6ac228d4d4d', '9cd0f673-efdc-430d-aa1b-4ced8fb04678', '09ffa86c-6c3c-4353-8014-87912cc15c8e', '138ba134-ecc8-4e22-bfb9-cb99a199f066', 'a5d44a82-86d2-4fa1-94bc-0ec941639521', 'ac3c9d34-41fd-46cc-89f4-2a669f795f59', 'b2f8e6a7-e697-4420-a2f6-5ff5eab7474d', '6c4c584e-c656-48df-bd43-25d36c110af3', '8c2969a2-a30f-405a-8150-0cd07f9f4d8c', 'a10b1772-fd97-4b0f-bc35-078180f5a93e', '82e8bc75-86f6-4349-ae1b-96ab71e6ccbc', '83b3889a-4af5-4940-8e26-d08f55c4b627'])\n",
      "point ids 60\n",
      "Removed: 60 Filled: 60\n",
      "TOOK 422.9412798881531 seconds\n",
      "***\n",
      "RUN: 3\n"
     ]
    },
    {
     "name": "stdout",
     "output_type": "stream",
     "text": [
      "Epoch 1/100\n",
      "12/12 [==============================] - 16s 1s/step - loss: 0.0518 - binary_accuracy: 0.9912 - val_loss: 0.0602 - val_binary_accuracy: 0.9895\n",
      "Epoch 2/100\n",
      "12/12 [==============================] - 13s 1s/step - loss: 0.0508 - binary_accuracy: 0.9913 - val_loss: 0.0558 - val_binary_accuracy: 0.9895\n",
      "Epoch 3/100\n",
      "12/12 [==============================] - 13s 1s/step - loss: 0.0503 - binary_accuracy: 0.9914 - val_loss: 0.0516 - val_binary_accuracy: 0.9903\n",
      "Epoch 4/100\n",
      "12/12 [==============================] - 13s 1s/step - loss: 0.0495 - binary_accuracy: 0.9915 - val_loss: 0.0491 - val_binary_accuracy: 0.9907\n",
      "Epoch 5/100\n",
      "12/12 [==============================] - 13s 1s/step - loss: 0.0488 - binary_accuracy: 0.9916 - val_loss: 0.0499 - val_binary_accuracy: 0.9906\n",
      "Epoch 6/100\n",
      "12/12 [==============================] - 13s 1s/step - loss: 0.0483 - binary_accuracy: 0.9917 - val_loss: 0.0476 - val_binary_accuracy: 0.9908\n",
      "Epoch 7/100\n",
      "12/12 [==============================] - 13s 1s/step - loss: 0.0478 - binary_accuracy: 0.9917 - val_loss: 0.0484 - val_binary_accuracy: 0.9909\n",
      "Epoch 8/100\n",
      "12/12 [==============================] - 13s 1s/step - loss: 0.0473 - binary_accuracy: 0.9918 - val_loss: 0.0479 - val_binary_accuracy: 0.9909\n",
      "Epoch 9/100\n",
      "12/12 [==============================] - 13s 1s/step - loss: 0.0466 - binary_accuracy: 0.9918 - val_loss: 0.0487 - val_binary_accuracy: 0.9907\n",
      "Epoch 10/100\n",
      "12/12 [==============================] - 13s 1s/step - loss: 0.0466 - binary_accuracy: 0.9919 - val_loss: 0.0475 - val_binary_accuracy: 0.9908\n",
      "Epoch 11/100\n",
      "12/12 [==============================] - 13s 1s/step - loss: 0.0468 - binary_accuracy: 0.9916 - val_loss: 0.0475 - val_binary_accuracy: 0.9909\n",
      "Epoch 12/100\n",
      "12/12 [==============================] - 13s 1s/step - loss: 0.0465 - binary_accuracy: 0.9917 - val_loss: 0.0480 - val_binary_accuracy: 0.9910\n",
      "Epoch 13/100\n",
      "12/12 [==============================] - 13s 1s/step - loss: 0.0461 - binary_accuracy: 0.9919 - val_loss: 0.0460 - val_binary_accuracy: 0.9910\n",
      "Epoch 14/100\n",
      "12/12 [==============================] - 13s 1s/step - loss: 0.0448 - binary_accuracy: 0.9919 - val_loss: 0.0468 - val_binary_accuracy: 0.9910\n",
      "Epoch 15/100\n",
      "12/12 [==============================] - 13s 1s/step - loss: 0.0450 - binary_accuracy: 0.9919 - val_loss: 0.0463 - val_binary_accuracy: 0.9910\n",
      "Epoch 16/100\n",
      "12/12 [==============================] - 13s 1s/step - loss: 0.0449 - binary_accuracy: 0.9919 - val_loss: 0.0495 - val_binary_accuracy: 0.9902\n",
      "Model saved to: /tmp/tmpu59_mbn3GP2/kunet_3model\n",
      "History saved to: /tmp/tmpu59_mbn3GP2/khistory_3.pkl\n",
      "Testing the classifier...\n",
      "Testing the discriminator...\n",
      "19/19 [==============================] - 1s 26ms/step - loss: 7.4865 - accuracy: 0.7983\n",
      "Found 187 machine labels.\n",
      "Machine labels [  0   2  12  14  22  23  29  33  34  35  37  41  42  47  48  52  53  57\n",
      "  66  67  70  73  75  77  78  88  90  91  92  93  98  99 100 104 107 109\n",
      " 111 118 120 122 123 125 127 134 140 144 150 151 152 158 159 162 163 164\n",
      " 165 167 168 172 176 177 181 182 190 193 194 195 198 200 210 216 217 222\n",
      " 225 227 230 233 235 238 242 244 248 249 251 253 254 258 261 271 280 291\n",
      " 293 294 295 298 300 302 303 311 325 329 330 336 339 342 348 349 350 351\n",
      " 354 370 372 375 376 377 379 382 388 392 393 399 401 403 410 412 413 414\n",
      " 421 422 423 425 426 431 432 436 437 440 441 443 448 452 456 457 458 462\n",
      " 465 468 473 486 487 489 490 495 496 498 502 503 507 509 512 517 518 519\n",
      " 525 526 530 531 533 535 538 541 549 551 555 567 578 583 584 585 588 590\n",
      " 592 593 594 595 596 597 598]\n",
      "D_ids ['09dcd225-ede2-42dc-84a8-ee552621b79c', '345d44ed-a719-4b53-8f40-850f73ec6c21', 'e5ae9745-8c8e-4d67-a514-9a701f091678', '23b9c795-8090-405f-ad32-2213ad314e0c', 'db8e65e7-bf06-420b-b6a7-dcca85cd1366', '0a7e4e81-8e7f-41ed-b801-cc469327bd91', '49c241c8-7caf-4913-ac30-bfb83585889b', '69884c9c-354f-4966-9597-f3cf801753ab', 'ed177d84-4702-48a1-8ef2-908e2b5f54ec', '9b4af570-c6b6-48ba-99ed-513b6a71b928', 'fdfe6965-bba3-4e8a-9481-107bc54f4c77', '074b9b62-5b9e-4369-b64d-10991103636a', 'b9e3f60f-70d2-4358-b896-0cc21560f0a3', 'ede2257c-0649-4e57-944a-36802dbd72e6', '3fe739e5-e118-4bcf-a8fe-b57e38d124aa', 'da1191c5-346c-42f4-a730-63fe00ee6a9e', '8a2de3ab-1b24-4f28-91aa-ec64fc939ba1', 'b8a228a7-87b5-4c54-81ba-f4cc1de3dfc9', '3b10b381-0a0d-4af8-820d-c2e2116aaec1', 'f1aad85c-b8fe-4978-9fee-b1fe7b8cf042', '36b389af-13d1-41fe-affc-cfb6b29afa4b', '5d09c415-89d5-4e70-9cee-616f7304835f', 'da125f47-f40f-4f4e-b9f0-96a0ba2663c7', '83c1cf38-d151-4d38-b47e-a21737fefde8', '54a9f8ff-ed66-4611-9030-9a4c1cb09759', '60fcb269-cb06-4e8b-9e8e-2c00e6585ed2', '1931c93f-6bc4-4033-8615-80c8453b3f11', '2a8c64bf-496f-43a2-9423-52ca28f6685c', '9ad929b5-9e91-4891-b140-bfd7dc49bdd3', 'bf6390eb-a378-4c8f-9907-760787100d65', 'aa7a3874-2d68-48a1-9d66-fe1174eb8bae', '182d4016-e924-4f54-84d4-88d76246a5a6', '0c0138e6-5555-4ea0-b9d7-dc733a112c9c', '5efe5036-4d42-4177-8183-f7f31142f098', 'dff45983-48fb-448e-822d-f961cbfb7cb8', 'fb0b328f-0f63-4757-8f65-481a8dcf519e', 'cdb1f544-fee8-4675-841e-0217f076dbce', '2d9245f3-ba8b-44e7-84d0-e154860532f5', '6af844c2-7133-4fe9-818f-0eb91d6bfd47', 'b450a107-1260-4dee-887e-f39084086214', 'f330515c-ae2f-4ffa-9208-8080290c8416', 'e701a6f5-5021-4e1b-89a9-5007cecc8e20', '42702a1c-eb17-4fa8-ae66-41d98e996bc5', 'e2875e7e-2e3c-4b4a-b32f-619030423a4e', '8c02c3bf-b01a-48ed-8de1-ea78bc9a61c6', 'a05bb583-d056-4ba9-a7e8-32cdce8518fb', 'ddcfcae6-4e77-46ee-bdfd-f07de886c7b9', 'aed4ae44-5093-4873-9cd4-1d98c79459a9', '850f1e1d-8cf3-4538-a56b-64c7e2921290', '6c21bccb-6a88-451d-bbef-f5b8c714c9b6', '7d34231d-1bc1-476f-803b-0abc80c5f925', 'cc4611ad-7874-4321-8be0-05176efe87e8', 'c95e98af-3d18-4b1e-94ce-bc48768d3458', '5e330c65-01a7-448a-81ce-b8b4b88a088d', '6aae7669-c360-4484-940c-57f68c6648eb', '5052eb82-5f74-4ad5-bd4f-11d00f6b1b79', 'f9d3d656-210d-4a71-b670-5a803150cc57', '92474a9c-f25c-46bd-8940-d13c09fc5270', 'd867066e-fbbe-4fb4-b6c9-f090ff6a0870', 'db1af3d7-ef92-462c-a769-4f72a859a927', 'a0a6469c-e03f-44d0-be5d-1166c1de021d', '12ffdf3f-ef64-4b72-98d6-4be94d1b8c9e', 'd608f3dd-54b1-4acf-97bc-b6a18c7785ac', '64834d53-6d71-42ca-ab69-03cda281c670', 'ff253772-4bf7-48ae-ae9d-c7dd1e2bcd12', '3bfcee09-43db-4f77-946c-5270c8992af3', '2c1a4ab5-4703-489a-8aa4-a3509c0bcd81', '8bdfea2b-3237-42b7-b198-95369028e7e6', 'fd7fc26a-3311-4bce-9e9d-bee660167f9f', 'df050100-bf5a-4d8c-bad1-81c4115c7eaa', '78431753-059a-4d0f-b652-1fc3c2c11f4f', '3f60a770-649f-4a2e-ad62-77e1b9731ddf', 'd93d18b2-031f-4f94-beab-9bbd379a6e85', 'fe7b1a7b-55fa-485c-9b88-6e0db5e5bb50', '478572e6-9b93-4106-adec-cf8aa27d0d76', '85f610d3-e72e-49ab-9e7a-222b0bdbb94a', '4506b66d-5772-4361-b5f2-5d4248ad9034', '9cf0723e-314b-466a-836c-d08957acbc75', 'e004ad42-fe2d-42cb-a07f-28c2d37c6e8c', 'd2c470d3-b17d-419a-ab27-2ea0bb6a778d', '9998f478-4b6a-4ca0-8853-fbf3015e1d8d', 'e1534c7c-6841-4d33-9c29-897e6fa8492c', '1eba745a-50d1-48d6-bedc-45d6f61016c1', 'bf18087b-9d7b-4064-b37a-e3f673740d65', '7e09342c-ec87-4c8e-badf-d5f33c9276d4', 'b4057547-01c7-4230-8f65-406d7c657fda', 'b942f98e-7943-4dec-ac62-a12cb7dd033f', 'eda2635c-df04-4275-baa3-febb72dfb057', 'c1496e2e-c5b5-4ca8-93c0-7038dd66b099', '49cd9dbf-6cb1-46b0-9207-1cc4ae3a3b08', '603b7a40-d4ec-4392-8571-ed335af6818c', '79700a6e-b7c4-46fc-9ac0-a9124451a5c5', '6ef7c6bf-2920-4ae1-922c-8d713e3bca48', '8f378c20-080b-4ed4-9ccf-6769207f95dd', '9a8f7174-87e8-42b2-b3f8-9813d6890079', '7dfbca1a-f6c4-4842-b30e-60cd6edb4fa7', '154ee712-f67e-4b6c-b296-ca9077cb2a75', '120230e0-54f5-4313-9a6b-a38491c3c772', '8ab979e6-9f15-489e-9a70-94a30b464e96', 'ef13c25c-c8b9-4aea-8b42-ca8b4ac7fc3f', 'a7c320b6-e372-4288-94e7-b974e69850bf', '768737bf-6d11-4702-99ed-31d9b45c23e1', '6627a069-808e-4b8d-af7f-046d765fec07', '064372e9-d349-4188-8f96-008a8d3525d8', '93de2be0-dfb6-41c2-a3cb-db9e08986c7b', '5ee10505-922a-4e25-83ca-29d7dfd44601', '6f4c38aa-07c5-42c6-900f-cffee9cb325b', '4c83011a-3090-4a90-892a-42859e7f6971', '7f15ae0f-3784-4a95-bb9f-6f411daac307', 'c842edc8-d924-429c-af45-65aad416a366', '5ffc094e-4949-4119-88d0-67d4fe311eec', 'dc5be05a-5a76-4ad4-84a8-8eaf22e6e0ad', 'b5b11caa-315d-4736-8667-593b880c57ae', 'd35060c0-d38f-49d1-a4fa-5cbeaae25fdd', '9ac04623-d60a-4489-b616-e9b44c77403e', '2410e7c0-9163-4ed7-aa56-4c5455f7a977', '0e749068-9009-4ab5-b6e3-b68f58c72144', 'cdc2a840-b1a0-4fff-82b2-8dbfc67becf8', 'ba4055cc-a452-47d6-ab81-5331dbee3df3', '7fe1bc92-220d-42ce-b43d-287f38c066c0', '654f09a6-58fc-4172-9e7e-bbd716166b9d', '5ecde76e-d483-433c-a0b7-539767923770', '718e68b5-70b0-47f7-b20a-25ff53f8468b', '7922bb47-f91d-4e33-8bb5-1aa60cb1d2b2', '61ea66d3-a86a-4ecb-bbd2-5ba2063f023b', '34e0997f-f602-4395-9665-acf0f2d7a87e', '9f0cdc12-4967-471f-9ce0-d075b62a7211', '6eba779f-011a-49fe-8d1e-7b4bff6d0a22', 'bb51df74-8f00-4feb-a201-f60f790c7d06', 'c42e6f88-ec10-43b6-a254-9ef52d161e90', '49d280b7-c1dd-48dc-bbcc-2bc5cfd8bfb1', 'f85b4881-1329-4460-a0d3-16540ebefffd', '000dc9d6-83a5-4443-8073-4d14a35d8ee0', 'c0b2c970-4bfb-4012-ac53-ab83c064c5f9', 'adb5f107-ad34-46c5-b0a3-a9a2c2fd1e56', '8b3d3f00-33fe-4fab-8dc2-fe415e7d4d2a', '9013c976-e9b6-4076-ba12-9ec550eeff12', '2ec364cb-1129-4ee2-a887-ae52b16b4231', 'c215e83a-68f1-448c-b59a-c24215431c99', '2950dc78-4230-40b4-bec6-08517b1a0bee', '7472da2b-fef8-4a1f-b593-1201363c7558', '6b8f3229-4428-4217-abf0-979e4fbd15aa', '63e4a2b9-9e4e-4df3-ace7-0fcd77aabc53', 'bfae16de-9727-43c1-9e97-12b4fcd61fc4', 'ad583b2e-4440-4018-bb44-90c92656481c', 'd82f58f0-87b2-4cb3-9551-4610f7dfc088', 'ad79ffe0-2555-4587-a0ee-961114e1a988', '4e2355a1-a4b7-4aca-9313-9f61d112e3d5', '23be67b5-40ae-474e-b371-b85f19e1e031', '64c17485-a6a6-4b08-8fd8-b7ab44206533', 'a5c5d603-88a3-455a-bde1-2163ecc0c666', 'cf698901-ef24-4a06-8406-c7c039ab672e', '128b0599-d4c5-4840-a1f9-724af76cbe11', 'c6faac27-1c63-46cb-80ee-d90db9374c31', 'be7c47b4-ed65-4ce5-9223-dc18107e3bbf', '876e1803-1fd5-4c5f-bf6f-5ee557aaa66d', 'e4982657-ac74-4198-b4ed-0c74709e793f', '7726e746-e98c-4b05-94b2-6cb0b34e5f48', '719a1480-ada5-4209-85e3-3c68083b1918', '59a9c1a3-7fd7-4dd6-b2dd-f122843a5d27', '7f639d9b-af14-4174-87f4-ba71693933bb', '8b824756-a4f5-4bc8-a88f-1295229eead9', '05b9bead-02fa-4b69-a57e-8860441eb0bb', 'e7e5b141-ef9e-4b31-8050-5f6d6eacfa41', 'e9766c3f-fc19-471f-a73a-48be9df99a50', '89301344-f183-4938-b5aa-bd7be23dc543', '99a80ba5-ec64-48c9-b355-c91466cf4898', '6fb5591d-48e3-40fb-aae2-b6e70d274f43', '1bddeafb-49b6-4c1b-869e-69cd05cc7a1a', '0f00aa12-b43f-48ca-bd43-dc172fce7386', '302b44bb-57d1-4c72-823d-bb20ca9bc12a', 'e5e7005d-fed4-47b9-84da-64ecfeb75f00', '0b89f841-336a-435f-b716-b271b33d34ce', '9ddce360-2872-4433-a4ca-2da14736e5ad', '799c943c-5a16-4b65-b8bd-6ecf30b369d4', '72f8b4b9-7b22-48e4-9b12-7ff4f9e8a007', '09419afe-eefd-476f-8fcc-2d83bf271bbc', 'acca5e61-f511-437a-95d7-b900cc6e6d19', '5f46fec2-045f-461f-b335-33ec9c49083d', '62a26316-f013-42aa-b106-4b75eb63305e', '2ae94b23-5784-43d9-b5c4-a15903ee2e66', '09331ffe-2e11-49b0-bb81-bd31c990c7d0', '95d338b6-6dd1-42a1-aea6-03de988b1cec', '26fa448e-6cc5-4d44-816f-4bfa77bfebc3', '86fac4af-d7c8-49d1-8e13-f5fbfa490500', '70ab5afd-0a05-4299-b90e-377cfc2129c6', '38bfd09f-6489-4063-ac55-6d9486a47203']\n"
     ]
    },
    {
     "name": "stdout",
     "output_type": "stream",
     "text": [
      "Replacing 62 from 187 !\n",
      "D_relabeled_ 62\n",
      "selected_ids ['074b9b62-5b9e-4369-b64d-10991103636a', 'db8e65e7-bf06-420b-b6a7-dcca85cd1366', '34e0997f-f602-4395-9665-acf0f2d7a87e', '4c83011a-3090-4a90-892a-42859e7f6971', '05b9bead-02fa-4b69-a57e-8860441eb0bb', 'a7c320b6-e372-4288-94e7-b974e69850bf', '2410e7c0-9163-4ed7-aa56-4c5455f7a977', '49d280b7-c1dd-48dc-bbcc-2bc5cfd8bfb1', '6ef7c6bf-2920-4ae1-922c-8d713e3bca48', '182d4016-e924-4f54-84d4-88d76246a5a6', '89301344-f183-4938-b5aa-bd7be23dc543', '0f00aa12-b43f-48ca-bd43-dc172fce7386', 'bf18087b-9d7b-4064-b37a-e3f673740d65', '5f46fec2-045f-461f-b335-33ec9c49083d', 'd608f3dd-54b1-4acf-97bc-b6a18c7785ac', '7dfbca1a-f6c4-4842-b30e-60cd6edb4fa7', '8f378c20-080b-4ed4-9ccf-6769207f95dd', '9ac04623-d60a-4489-b616-e9b44c77403e', 'f1aad85c-b8fe-4978-9fee-b1fe7b8cf042', 'bfae16de-9727-43c1-9e97-12b4fcd61fc4', 'c95e98af-3d18-4b1e-94ce-bc48768d3458', 'c0b2c970-4bfb-4012-ac53-ab83c064c5f9', '36b389af-13d1-41fe-affc-cfb6b29afa4b', '09331ffe-2e11-49b0-bb81-bd31c990c7d0', 'f330515c-ae2f-4ffa-9208-8080290c8416', 'be7c47b4-ed65-4ce5-9223-dc18107e3bbf', '9a8f7174-87e8-42b2-b3f8-9813d6890079', '7fe1bc92-220d-42ce-b43d-287f38c066c0', '23be67b5-40ae-474e-b371-b85f19e1e031', '0b89f841-336a-435f-b716-b271b33d34ce', 'b8a228a7-87b5-4c54-81ba-f4cc1de3dfc9', '7f15ae0f-3784-4a95-bb9f-6f411daac307', 'a05bb583-d056-4ba9-a7e8-32cdce8518fb', 'da1191c5-346c-42f4-a730-63fe00ee6a9e', 'b942f98e-7943-4dec-ac62-a12cb7dd033f', 'dff45983-48fb-448e-822d-f961cbfb7cb8', '9998f478-4b6a-4ca0-8853-fbf3015e1d8d', '8ab979e6-9f15-489e-9a70-94a30b464e96', '64834d53-6d71-42ca-ab69-03cda281c670', '5efe5036-4d42-4177-8183-f7f31142f098', 'cdb1f544-fee8-4675-841e-0217f076dbce', '6c21bccb-6a88-451d-bbef-f5b8c714c9b6', '0c0138e6-5555-4ea0-b9d7-dc733a112c9c', 'd82f58f0-87b2-4cb3-9551-4610f7dfc088', '718e68b5-70b0-47f7-b20a-25ff53f8468b', '93de2be0-dfb6-41c2-a3cb-db9e08986c7b', 'e1534c7c-6841-4d33-9c29-897e6fa8492c', '3b10b381-0a0d-4af8-820d-c2e2116aaec1', '2ae94b23-5784-43d9-b5c4-a15903ee2e66', '62a26316-f013-42aa-b106-4b75eb63305e', '78431753-059a-4d0f-b652-1fc3c2c11f4f', 'aed4ae44-5093-4873-9cd4-1d98c79459a9', '6f4c38aa-07c5-42c6-900f-cffee9cb325b', 'ede2257c-0649-4e57-944a-36802dbd72e6', '6b8f3229-4428-4217-abf0-979e4fbd15aa', '3bfcee09-43db-4f77-946c-5270c8992af3', '5ee10505-922a-4e25-83ca-29d7dfd44601', 'bb51df74-8f00-4feb-a201-f60f790c7d06', 'db1af3d7-ef92-462c-a769-4f72a859a927', '6aae7669-c360-4484-940c-57f68c6648eb', '654f09a6-58fc-4172-9e7e-bbd716166b9d', 'adb5f107-ad34-46c5-b0a3-a9a2c2fd1e56']\n",
      "dict_keys(['074b9b62-5b9e-4369-b64d-10991103636a', 'db8e65e7-bf06-420b-b6a7-dcca85cd1366', '34e0997f-f602-4395-9665-acf0f2d7a87e', '4c83011a-3090-4a90-892a-42859e7f6971', '05b9bead-02fa-4b69-a57e-8860441eb0bb', 'a7c320b6-e372-4288-94e7-b974e69850bf', '2410e7c0-9163-4ed7-aa56-4c5455f7a977', '49d280b7-c1dd-48dc-bbcc-2bc5cfd8bfb1', '6ef7c6bf-2920-4ae1-922c-8d713e3bca48', '182d4016-e924-4f54-84d4-88d76246a5a6', '89301344-f183-4938-b5aa-bd7be23dc543', '0f00aa12-b43f-48ca-bd43-dc172fce7386', 'bf18087b-9d7b-4064-b37a-e3f673740d65', '5f46fec2-045f-461f-b335-33ec9c49083d', 'd608f3dd-54b1-4acf-97bc-b6a18c7785ac', '7dfbca1a-f6c4-4842-b30e-60cd6edb4fa7', '8f378c20-080b-4ed4-9ccf-6769207f95dd', '9ac04623-d60a-4489-b616-e9b44c77403e', 'f1aad85c-b8fe-4978-9fee-b1fe7b8cf042', 'bfae16de-9727-43c1-9e97-12b4fcd61fc4', 'c95e98af-3d18-4b1e-94ce-bc48768d3458', 'c0b2c970-4bfb-4012-ac53-ab83c064c5f9', '36b389af-13d1-41fe-affc-cfb6b29afa4b', '09331ffe-2e11-49b0-bb81-bd31c990c7d0', 'f330515c-ae2f-4ffa-9208-8080290c8416', 'be7c47b4-ed65-4ce5-9223-dc18107e3bbf', '9a8f7174-87e8-42b2-b3f8-9813d6890079', '7fe1bc92-220d-42ce-b43d-287f38c066c0', '23be67b5-40ae-474e-b371-b85f19e1e031', '0b89f841-336a-435f-b716-b271b33d34ce', 'b8a228a7-87b5-4c54-81ba-f4cc1de3dfc9', '7f15ae0f-3784-4a95-bb9f-6f411daac307', 'a05bb583-d056-4ba9-a7e8-32cdce8518fb', 'da1191c5-346c-42f4-a730-63fe00ee6a9e', 'b942f98e-7943-4dec-ac62-a12cb7dd033f', 'dff45983-48fb-448e-822d-f961cbfb7cb8', '9998f478-4b6a-4ca0-8853-fbf3015e1d8d', '8ab979e6-9f15-489e-9a70-94a30b464e96', '64834d53-6d71-42ca-ab69-03cda281c670', '5efe5036-4d42-4177-8183-f7f31142f098', 'cdb1f544-fee8-4675-841e-0217f076dbce', '6c21bccb-6a88-451d-bbef-f5b8c714c9b6', '0c0138e6-5555-4ea0-b9d7-dc733a112c9c', 'd82f58f0-87b2-4cb3-9551-4610f7dfc088', '718e68b5-70b0-47f7-b20a-25ff53f8468b', '93de2be0-dfb6-41c2-a3cb-db9e08986c7b', 'e1534c7c-6841-4d33-9c29-897e6fa8492c', '3b10b381-0a0d-4af8-820d-c2e2116aaec1', '2ae94b23-5784-43d9-b5c4-a15903ee2e66', '62a26316-f013-42aa-b106-4b75eb63305e', '78431753-059a-4d0f-b652-1fc3c2c11f4f', 'aed4ae44-5093-4873-9cd4-1d98c79459a9', '6f4c38aa-07c5-42c6-900f-cffee9cb325b', 'ede2257c-0649-4e57-944a-36802dbd72e6', '6b8f3229-4428-4217-abf0-979e4fbd15aa', '3bfcee09-43db-4f77-946c-5270c8992af3', '5ee10505-922a-4e25-83ca-29d7dfd44601', 'bb51df74-8f00-4feb-a201-f60f790c7d06', 'db1af3d7-ef92-462c-a769-4f72a859a927', '6aae7669-c360-4484-940c-57f68c6648eb', '654f09a6-58fc-4172-9e7e-bbd716166b9d', 'adb5f107-ad34-46c5-b0a3-a9a2c2fd1e56'])\n",
      "point ids 62\n",
      "Removed: 62 Filled: 62\n",
      "TOOK 362.7576696872711 seconds\n",
      "***\n",
      "RUN: 4\n",
      "Epoch 1/100\n",
      "13/13 [==============================] - 16s 1s/step - loss: 0.0440 - binary_accuracy: 0.9920 - val_loss: 0.0472 - val_binary_accuracy: 0.9907\n",
      "Epoch 2/100\n",
      "13/13 [==============================] - 14s 1s/step - loss: 0.0435 - binary_accuracy: 0.9921 - val_loss: 0.0477 - val_binary_accuracy: 0.9906\n",
      "Epoch 3/100\n",
      "13/13 [==============================] - 14s 1s/step - loss: 0.0430 - binary_accuracy: 0.9922 - val_loss: 0.0474 - val_binary_accuracy: 0.9907\n",
      "Epoch 4/100\n",
      "13/13 [==============================] - 14s 1s/step - loss: 0.0426 - binary_accuracy: 0.9922 - val_loss: 0.0468 - val_binary_accuracy: 0.9908\n",
      "Epoch 5/100\n",
      "13/13 [==============================] - 14s 1s/step - loss: 0.0424 - binary_accuracy: 0.9922 - val_loss: 0.0456 - val_binary_accuracy: 0.9909\n",
      "Epoch 6/100\n",
      "13/13 [==============================] - 14s 1s/step - loss: 0.0422 - binary_accuracy: 0.9922 - val_loss: 0.0584 - val_binary_accuracy: 0.9880\n",
      "Epoch 7/100\n",
      "13/13 [==============================] - 14s 1s/step - loss: 0.0432 - binary_accuracy: 0.9919 - val_loss: 0.0533 - val_binary_accuracy: 0.9886\n",
      "Epoch 8/100\n",
      "13/13 [==============================] - 14s 1s/step - loss: 0.0546 - binary_accuracy: 0.9885 - val_loss: 1.2356 - val_binary_accuracy: 0.7998\n",
      "Model saved to: /tmp/tmpu59_mbn3GP2/kunet_4model\n",
      "History saved to: /tmp/tmpu59_mbn3GP2/khistory_4.pkl\n",
      "Testing the classifier...\n",
      "Testing the discriminator...\n",
      "19/19 [==============================] - 0s 22ms/step - loss: 6.2436 - accuracy: 0.8383\n",
      "Found 208 machine labels.\n",
      "Machine labels [  3   5   7  20  23  25  31  34  35  36  40  44  47  49  53  54  55  59\n",
      "  62  64  66  67  68  74  76  80  84  85  87  90  93  97 103 106 110 111\n",
      " 114 122 125 128 129 132 133 137 138 140 143 144 149 151 152 153 154 157\n",
      " 160 161 163 166 170 171 173 174 175 178 185 188 189 194 195 197 201 203\n",
      " 206 211 212 215 216 218 227 230 232 237 241 243 245 248 249 252 254 255\n",
      " 257 258 262 264 266 272 275 277 278 280 281 288 289 291 292 294 295 297\n",
      " 299 300 301 302 305 306 309 318 320 325 327 329 334 340 342 344 348 350\n",
      " 351 361 365 369 375 376 379 383 385 389 391 402 405 406 409 413 416 419\n",
      " 424 431 438 440 441 442 443 446 448 450 451 452 453 455 457 458 459 460\n",
      " 463 464 465 466 483 484 491 492 496 498 501 502 503 505 513 517 520 522\n",
      " 523 528 530 531 532 535 539 543 544 548 551 553 558 562 565 570 572 573\n",
      " 574 575 576 582 583 585 588 589 592 596]\n",
      "D_ids ['963d713c-e084-4157-96de-bdd512258538', '6a6d864c-00ca-4268-8a70-445926fc044c', '875535f5-e47f-454e-94b8-5862381ebe81', 'dbf6851c-6b3a-47f9-a96e-41f75147e608', 'ad436b51-678c-4a74-a8bb-1256eb83251d', '7fa606a6-c01d-4bf3-9809-df7d1ebb6d59', 'c2b6f28a-814f-4e17-b45d-0707b4785ec5', '9ad929b5-9e91-4891-b140-bfd7dc49bdd3', 'e8492738-a735-4fe3-a8d8-e1fd62e45895', '851218e6-0125-487b-a720-bef3b712f6cd', '556663c5-f41e-486d-8baf-cc8267520cb0', '2eb41283-e0da-4682-835d-6d1fffcca07f', '09419afe-eefd-476f-8fcc-2d83bf271bbc', '42caeaa5-b846-40b8-a611-9c24193a069e', '866d6eba-c1fd-4b01-8336-df18e864d6ec', 'ec1ea430-20fd-4c82-ba75-51834c2f5b8e', '989ce22e-f143-4823-a970-69f47b3bc51b', '0d1bca11-db06-4614-b2be-1089da0c6662', 'ecc9b1f0-df47-4446-9b80-b0650c77131a', 'c2840b50-025b-4968-a10d-a4f058c641a2', 'e12c545a-faa2-4f60-a9dd-859591334913', 'c144c9f9-e7ec-48fa-af96-976513329555', 'a3a6277c-4385-4df6-a169-bd06fcc671cf', '083be25b-cf88-4aad-b52c-c04be4fa7209', 'cc4611ad-7874-4321-8be0-05176efe87e8', '4d469dce-b07a-4ab7-ae8e-9e0fc26ee043', '36c0aa4e-0c3a-4068-9875-d4067d666533', '7629127c-422b-4d84-86b8-3d0dc23fde9f', '18cd280f-1f72-4ff8-b12d-af8f861cbc11', 'fbb42509-6894-4e91-941d-6e07b21e9000', '4aecbc1a-c1d4-4a0a-907d-70f8a857fc0e', '6100d551-e91c-4adf-9f56-f44f2fb38626', 'ffa1aa07-0cae-46ab-930a-7169b5e80630', '10f5f5b4-c910-454c-a05b-d58b398c168a', 'e53d7f30-0884-4a17-910b-f88388e8b65b', '9404524b-ca4a-452b-a5b3-a5ae41868a4c', '63edecb1-76c1-49a6-8067-c96db96f3b94', '85f610d3-e72e-49ab-9e7a-222b0bdbb94a', 'a1b96fe7-44bb-4e68-84c4-edfba377799d', '826f455a-a024-4140-8d68-ee3ec16eff12', '9e72b6a1-a7ce-44d6-985d-2c6b8630d2ae', '4d4b9233-ddd5-448b-b8f3-e270cc8fa27f', '055a3af3-1379-4bb6-88d7-1e97c6b10c1e', 'a3607dda-b87e-4e31-bb3c-ffedb9caa1fe', '2fac8e59-b537-478e-89c6-9a86badc64e2', 'bdc761d2-a84c-4692-954e-26bdf2cdef52', 'e52d09b0-f4d8-4d3c-8c33-542a96771aa4', 'd45460c8-a63a-4dc2-9739-ee375b10c8ae', '70462d35-ad28-485d-9b3e-92a85672c93c', '487538e2-a4b7-4c4e-85fd-1c72eaac9dbb', '08e7688e-2657-409b-920d-77ba4bbfeaeb', '4791202b-78d4-45f3-98a5-f73cb5b7ce52', 'ddbf833e-5d5b-448b-a6fd-5da79ed676f5', 'a8581dee-39d3-4ac7-8679-4a0802b047be', '1d608bfb-ca51-4585-8b20-c8f484331ebf', '162f395a-0f18-4f03-9da7-5a676c5d2020', '22afe591-09db-4324-8336-e92d01e1d1f1', '9c6cdf1a-fd45-4023-8450-04ff50a53163', 'ead9d26e-3da1-46f1-97e6-3b56a8306e77', '47fc0168-4a40-4d3c-9822-d2a6a4c4a245', '356a36d7-1723-4d19-9792-ae99fb1b85ab', '3cb4f5cb-d0c6-4a69-99c1-cee441b1a6ac', '83709aad-61a8-48cf-bd69-6f78035ad000', '2c1a4ab5-4703-489a-8aa4-a3509c0bcd81', '1dceac03-6a50-442a-b964-ec5e2fe2d755', '41d0305d-6ee7-465d-a063-7fb283d4e8c0', '81a872f9-91e8-4aba-960e-26c7d67438f4', '55d2662d-4006-4237-a0e0-aee60e1a8abb', '86c82a6e-d409-45b9-8e39-abfc7ded7af8', '6cdd5c70-f8b4-4cb8-8cc6-46a817da5288', '9bdac430-1f89-488c-9ed5-45b4900ca7a1', '661079d7-1c58-402d-9e42-332989d3d7d2', '10cf4aa6-6819-4aa3-9dc2-ecbdbad5720f', '984c6fb3-e932-455f-ba47-f7a31d3bc5d4', '15f0a8cb-0217-479a-8442-69e000e3126d', 'b66383ec-9bde-41ae-9951-eead7532ccc9', 'c0d5f09a-cf3c-47c6-9453-e549e1a14b68', 'e10cb47c-c361-4ebe-8b57-1031b3192d21', 'b025fcdf-051c-4a3b-af47-9a7c9704a691', '31c66134-e8bb-49ae-b9fb-24141562f591', 'b9463913-1cdf-4728-b814-34673fb26a93', '7d00c2a6-64cd-4a04-8a78-bb9257fa5d48', 'cf698901-ef24-4a06-8406-c7c039ab672e', 'a9ef744f-b4ff-45fe-bae0-39985be15407', 'c10c0a8e-746e-4f28-b967-000f41c73a6a', 'f85b4881-1329-4460-a0d3-16540ebefffd', 'b30160a7-0a7f-4e77-9a45-1b7ffddc9fac', '255b078a-db84-4de8-96b5-7d445a91ea94', '1919a67d-5dea-4e07-aee3-922a604b0c58', '8ffa1b9f-6cf3-492d-bcd9-757c3e9c4b54', '6c2c0e5d-d86a-455c-b780-92e93ad6199f', '29a0a343-d0e7-40d7-80d1-ed8ee1399bf1', 'c76ec4f9-5af6-4b75-ac12-bb9ba17e81bb', 'ddf3e125-3ccb-4765-8ca4-97504ceed729', 'c77778c8-ffef-42c1-a9bc-863d436a8f1e', 'aad2e623-9af4-4fa8-9131-3eebe248a5b0', '57ac6385-730b-4f2e-ab13-668bf2b04422', '35178adf-1b2a-4425-ba4d-4c046b6a4d10', '80e1518c-af97-4dd8-8baa-fed955a84907', 'cdf09620-4102-439a-bf9d-b8345fbe1b5a', '64cf3535-b925-4cf4-b704-9acde6047e3e', '57a0cb5c-6a3f-4afb-a65d-5eb4fc3b662f', '383ed107-2eaa-413d-80b6-e1051e95ec51', '0d2f7fab-25ea-4b23-96d3-823f46f208b3', '736e4d26-422d-4ce1-9b9b-831252483444', 'adf5f85f-0ec2-4c61-adc5-2cd7fe077b19', '57b5f3cc-b102-46d2-987b-dcfc4496f0c3', '0ad74bbc-6a23-47c3-a6cd-a63e6537ded5', 'de8e62bc-4768-405b-80fb-238b051dada9', 'e5e554b7-74b6-41c4-9916-cca17493fa8f', '30a39c6c-589e-4854-a522-99b55b1fd50b', '0f39c950-6f81-41d2-a7f6-e8432bfb64eb', 'c42e6f88-ec10-43b6-a254-9ef52d161e90', '0b4035ed-91cb-4f2f-9e02-933608d72013', 'a5926b14-181e-4a19-b410-df7f38ac4f65', '6e781c8c-45c1-4aa3-8a9a-842cec0ec23b', '3b01977a-cb85-4421-8133-0e517315a2c8', '6e2b6eb1-0aaf-403a-81df-65b409a7c797', 'aa5c99cb-1a6e-4412-bdf2-cdf0d14757cc', 'a5cf7c25-e1e6-4641-89dc-422f8359eb79', 'ad583b2e-4440-4018-bb44-90c92656481c', '46806de0-886f-46ce-bdf3-9114c5bac4dc', '27f08a85-4ab6-474b-a5d2-4cfc02a87915', '84319959-db9f-4c08-adf4-1039aa3fbf62', '44e8c88e-8a62-49bb-86c7-db7c0835feca', '16fe657b-ea1c-407d-936b-3bff8f2bd9ee', '3a89d93f-a152-4ae7-8377-185f7bab5db3', 'd91146ca-3422-4def-94e4-7c1369c150f0', 'b37d3664-1576-4916-8a77-939cb2eae95f', 'f43c32a5-dde9-4bbc-91e7-6c609a120826', 'b29d57c2-40eb-4ab1-9738-29ef1474b085', '96fc60db-380a-4952-9036-e98733a300c1', '51801d49-a524-41af-a108-756766aeaa8a', 'cb1e2af9-f5cf-4efb-93d3-7df3900f5c99', '94dc6fa8-8cb3-42bc-88d6-d37b2c0befde', 'f8a558fc-4b11-4ac5-b0e6-ee0e114ad3bf', 'e637901a-c9cb-48e9-8c18-52c8a6eba2a3', '920d26e5-28fc-4c4e-a369-db3190642564', '05658653-6ce0-4ca5-9167-49fd3632f327', 'd126baf7-c83d-44a9-b254-0e3642dab428', '4cb8f24b-33df-49cf-84f1-11e0d41107ba', 'a58c1ca9-5770-49c6-a9f0-c395c8eb4baa', '4928e062-49e8-441e-946b-5b8c2e5123d2', 'f97aaca3-0e96-4bf9-a5af-147fca9ec444', '1d6ef9c4-5cb0-40be-97f1-da7995626fcd', '7f5e3079-b686-41d6-920c-823d93c9abbc', '44feb67b-c7dc-49e7-a41d-1a4eab2bfc8e', '2c21451d-545f-4dbb-807a-93922eeeacef', '4f64cf86-feec-4aef-b3c8-3cb8601380c3', '307f4f4c-615c-4cae-9446-9081544b32d2', 'bc98036e-fb99-464a-8861-06c711dafc67', '0891af97-03c9-4ec0-a0d6-6a2d4bfcfc80', 'ad377490-6f81-4710-8c88-1fc6ec83558e', 'bfe227f8-0f60-4d03-b4f5-7f02bb5948bf', '22b78b51-71f3-4d36-b0a4-1bf158487679', '356d70c6-0b21-4eba-aa80-391696615222', 'aae5172f-960a-4aed-8143-52e796ded10e', '5ffc094e-4949-4119-88d0-67d4fe311eec', 'c5a3bebd-f418-45ec-b36f-2d2aba50f44f', 'ec85b45b-d12e-47fe-9b86-525eaada84ab', 'f2ed9588-c95c-486e-8542-6158ab7ca09f', '3c0286b6-37fc-4d1b-8a0a-93adc5418bc7', '8cae11a2-103e-4b76-9fde-a4db65b5c907', '81905368-b23b-4f50-b091-6ac554229193', 'cb86fc4e-1762-467d-804c-d7aebb793b2a', '36c1a4cd-c72c-4bda-938d-947a67f826e6', 'af732f2f-9dcb-4bae-ab0c-c1c5b242770f', '08a16ebf-be8f-4268-a099-a17ff445e527', '8cee131e-95c4-49cc-bf57-ef75a0b5e566', 'aa59a29b-a31c-437f-8e58-3e3bd05c29cd', '05c55d0e-0d6c-4fe5-a62b-413ca42bd701', '9e5f8dc9-c5d2-4965-b2b6-f21baadaf19f', 'b9218410-3244-4faa-9ed4-7b7eaf9389c2', '94b9f786-85f9-446e-bd6b-dc94c3ae05ca', '19a0a45f-4bbe-4e5f-84ee-96ed5799bf8f', 'fe59bc97-3ead-4928-9ecf-395c4607e9bc', '754c0a5b-8d9b-4b48-9590-4d6ff47067b1', '42202895-9ff9-45c3-8918-976c5ea04105', 'd63851c7-645c-4cb7-bc1d-9ea7b3676c4f', '14316e5b-fa9e-489f-8068-563467ffa9b1', 'b4617202-a704-4066-b95a-8e374b4dd108', '4bef8516-66a9-425d-8eb5-3beac2a4401e', '418b2e04-be71-4815-b6a0-6cbaca222d69', 'e988b129-b359-4f86-93c3-5c47460b44a2', '4ffda091-2fa9-42a5-873e-0c1fd75448d4', '560fc607-ad01-4710-ad98-8e4aebb5e82e', 'd6157c9e-4456-405a-8410-df5b2a41d19a', '50bd5974-99b9-4fb8-a0a3-a9b04a670ca4', '513d0371-daaa-4159-bafa-b9f57aac065c', 'eaa8df03-9bc5-4613-8805-89904c324751', '2b99aa0d-d328-47a4-a028-9a3f9009b338', '7d34231d-1bc1-476f-803b-0abc80c5f925', '0a352a34-2390-403c-ba07-0c94a35dff39', '8819cd72-9047-4ec0-aca9-ab44a51bbefb', '9a1d1a2d-9f3a-4aae-a6df-0f53db31c561', 'dd9ce187-2e4b-4389-acec-8f2b155f3469', '18629dd3-f8a6-459c-a6c9-c8f4ffe80c74', 'e57259f7-36a4-4087-96ce-1254e939ca5a', '0e82ab6d-9a8a-43a7-88e8-24c862c8d67c', '4b396fef-e38f-4b50-b0f7-2918599936bb', '58dc491e-7d83-4850-8afa-9f64a8649ae8', '8af75095-b73d-4591-88dd-53fe963d9fa2', '3c0773a2-17f6-4a72-9689-00abeed403ea', '1a305df8-be3f-4b72-8cb6-2c7a89c66b57', 'c7b6aa29-9b6c-4942-b55b-427e5045ef18', '4123cd9c-e663-412c-906d-f8599615a844', 'd8b53741-8cdc-4d83-9080-a8753682b99c', '2377532a-e659-4035-9ecc-6e36c226bf3e']\n"
     ]
    },
    {
     "name": "stdout",
     "output_type": "stream",
     "text": [
      "Replacing 69 from 208 !\n",
      "D_relabeled_ 69\n",
      "selected_ids ['736e4d26-422d-4ce1-9b9b-831252483444', 'ddf3e125-3ccb-4765-8ca4-97504ceed729', '05c55d0e-0d6c-4fe5-a62b-413ca42bd701', 'a3607dda-b87e-4e31-bb3c-ffedb9caa1fe', 'b30160a7-0a7f-4e77-9a45-1b7ffddc9fac', '083be25b-cf88-4aad-b52c-c04be4fa7209', '6cdd5c70-f8b4-4cb8-8cc6-46a817da5288', '27f08a85-4ab6-474b-a5d2-4cfc02a87915', '4b396fef-e38f-4b50-b0f7-2918599936bb', '989ce22e-f143-4823-a970-69f47b3bc51b', '418b2e04-be71-4815-b6a0-6cbaca222d69', 'b025fcdf-051c-4a3b-af47-9a7c9704a691', 'e637901a-c9cb-48e9-8c18-52c8a6eba2a3', 'b4617202-a704-4066-b95a-8e374b4dd108', 'dd9ce187-2e4b-4389-acec-8f2b155f3469', '7fa606a6-c01d-4bf3-9809-df7d1ebb6d59', '513d0371-daaa-4159-bafa-b9f57aac065c', '46806de0-886f-46ce-bdf3-9114c5bac4dc', '55d2662d-4006-4237-a0e0-aee60e1a8abb', 'de8e62bc-4768-405b-80fb-238b051dada9', '8ffa1b9f-6cf3-492d-bcd9-757c3e9c4b54', 'bdc761d2-a84c-4692-954e-26bdf2cdef52', '3a89d93f-a152-4ae7-8377-185f7bab5db3', '14316e5b-fa9e-489f-8068-563467ffa9b1', 'ead9d26e-3da1-46f1-97e6-3b56a8306e77', '162f395a-0f18-4f03-9da7-5a676c5d2020', 'c77778c8-ffef-42c1-a9bc-863d436a8f1e', '94dc6fa8-8cb3-42bc-88d6-d37b2c0befde', '58dc491e-7d83-4850-8afa-9f64a8649ae8', '83709aad-61a8-48cf-bd69-6f78035ad000', '3cb4f5cb-d0c6-4a69-99c1-cee441b1a6ac', 'b66383ec-9bde-41ae-9951-eead7532ccc9', 'cb86fc4e-1762-467d-804c-d7aebb793b2a', 'f97aaca3-0e96-4bf9-a5af-147fca9ec444', '63edecb1-76c1-49a6-8067-c96db96f3b94', 'a5cf7c25-e1e6-4641-89dc-422f8359eb79', '64cf3535-b925-4cf4-b704-9acde6047e3e', '4f64cf86-feec-4aef-b3c8-3cb8601380c3', '255b078a-db84-4de8-96b5-7d445a91ea94', '36c1a4cd-c72c-4bda-938d-947a67f826e6', '0b4035ed-91cb-4f2f-9e02-933608d72013', '8cae11a2-103e-4b76-9fde-a4db65b5c907', '44e8c88e-8a62-49bb-86c7-db7c0835feca', '7f5e3079-b686-41d6-920c-823d93c9abbc', 'ffa1aa07-0cae-46ab-930a-7169b5e80630', '1d6ef9c4-5cb0-40be-97f1-da7995626fcd', '3b01977a-cb85-4421-8133-0e517315a2c8', 'f8a558fc-4b11-4ac5-b0e6-ee0e114ad3bf', '08a16ebf-be8f-4268-a099-a17ff445e527', '2b99aa0d-d328-47a4-a028-9a3f9009b338', 'bfe227f8-0f60-4d03-b4f5-7f02bb5948bf', 'c42e6f88-ec10-43b6-a254-9ef52d161e90', 'cb1e2af9-f5cf-4efb-93d3-7df3900f5c99', 'c10c0a8e-746e-4f28-b967-000f41c73a6a', 'e52d09b0-f4d8-4d3c-8c33-542a96771aa4', '307f4f4c-615c-4cae-9446-9081544b32d2', '0d2f7fab-25ea-4b23-96d3-823f46f208b3', '51801d49-a524-41af-a108-756766aeaa8a', '4791202b-78d4-45f3-98a5-f73cb5b7ce52', '4cb8f24b-33df-49cf-84f1-11e0d41107ba', '0891af97-03c9-4ec0-a0d6-6a2d4bfcfc80', '70462d35-ad28-485d-9b3e-92a85672c93c', 'b9463913-1cdf-4728-b814-34673fb26a93', 'bc98036e-fb99-464a-8861-06c711dafc67', 'e8492738-a735-4fe3-a8d8-e1fd62e45895', '0d1bca11-db06-4614-b2be-1089da0c6662', '4bef8516-66a9-425d-8eb5-3beac2a4401e', '2c1a4ab5-4703-489a-8aa4-a3509c0bcd81', '10f5f5b4-c910-454c-a05b-d58b398c168a']\n",
      "dict_keys(['736e4d26-422d-4ce1-9b9b-831252483444', 'ddf3e125-3ccb-4765-8ca4-97504ceed729', '05c55d0e-0d6c-4fe5-a62b-413ca42bd701', 'a3607dda-b87e-4e31-bb3c-ffedb9caa1fe', 'b30160a7-0a7f-4e77-9a45-1b7ffddc9fac', '083be25b-cf88-4aad-b52c-c04be4fa7209', '6cdd5c70-f8b4-4cb8-8cc6-46a817da5288', '27f08a85-4ab6-474b-a5d2-4cfc02a87915', '4b396fef-e38f-4b50-b0f7-2918599936bb', '989ce22e-f143-4823-a970-69f47b3bc51b', '418b2e04-be71-4815-b6a0-6cbaca222d69', 'b025fcdf-051c-4a3b-af47-9a7c9704a691', 'e637901a-c9cb-48e9-8c18-52c8a6eba2a3', 'b4617202-a704-4066-b95a-8e374b4dd108', 'dd9ce187-2e4b-4389-acec-8f2b155f3469', '7fa606a6-c01d-4bf3-9809-df7d1ebb6d59', '513d0371-daaa-4159-bafa-b9f57aac065c', '46806de0-886f-46ce-bdf3-9114c5bac4dc', '55d2662d-4006-4237-a0e0-aee60e1a8abb', 'de8e62bc-4768-405b-80fb-238b051dada9', '8ffa1b9f-6cf3-492d-bcd9-757c3e9c4b54', 'bdc761d2-a84c-4692-954e-26bdf2cdef52', '3a89d93f-a152-4ae7-8377-185f7bab5db3', '14316e5b-fa9e-489f-8068-563467ffa9b1', 'ead9d26e-3da1-46f1-97e6-3b56a8306e77', '162f395a-0f18-4f03-9da7-5a676c5d2020', 'c77778c8-ffef-42c1-a9bc-863d436a8f1e', '94dc6fa8-8cb3-42bc-88d6-d37b2c0befde', '58dc491e-7d83-4850-8afa-9f64a8649ae8', '83709aad-61a8-48cf-bd69-6f78035ad000', '3cb4f5cb-d0c6-4a69-99c1-cee441b1a6ac', 'b66383ec-9bde-41ae-9951-eead7532ccc9', 'cb86fc4e-1762-467d-804c-d7aebb793b2a', 'f97aaca3-0e96-4bf9-a5af-147fca9ec444', '63edecb1-76c1-49a6-8067-c96db96f3b94', 'a5cf7c25-e1e6-4641-89dc-422f8359eb79', '64cf3535-b925-4cf4-b704-9acde6047e3e', '4f64cf86-feec-4aef-b3c8-3cb8601380c3', '255b078a-db84-4de8-96b5-7d445a91ea94', '36c1a4cd-c72c-4bda-938d-947a67f826e6', '0b4035ed-91cb-4f2f-9e02-933608d72013', '8cae11a2-103e-4b76-9fde-a4db65b5c907', '44e8c88e-8a62-49bb-86c7-db7c0835feca', '7f5e3079-b686-41d6-920c-823d93c9abbc', 'ffa1aa07-0cae-46ab-930a-7169b5e80630', '1d6ef9c4-5cb0-40be-97f1-da7995626fcd', '3b01977a-cb85-4421-8133-0e517315a2c8', 'f8a558fc-4b11-4ac5-b0e6-ee0e114ad3bf', '08a16ebf-be8f-4268-a099-a17ff445e527', '2b99aa0d-d328-47a4-a028-9a3f9009b338', 'bfe227f8-0f60-4d03-b4f5-7f02bb5948bf', 'c42e6f88-ec10-43b6-a254-9ef52d161e90', 'cb1e2af9-f5cf-4efb-93d3-7df3900f5c99', 'c10c0a8e-746e-4f28-b967-000f41c73a6a', 'e52d09b0-f4d8-4d3c-8c33-542a96771aa4', '307f4f4c-615c-4cae-9446-9081544b32d2', '0d2f7fab-25ea-4b23-96d3-823f46f208b3', '51801d49-a524-41af-a108-756766aeaa8a', '4791202b-78d4-45f3-98a5-f73cb5b7ce52', '4cb8f24b-33df-49cf-84f1-11e0d41107ba', '0891af97-03c9-4ec0-a0d6-6a2d4bfcfc80', '70462d35-ad28-485d-9b3e-92a85672c93c', 'b9463913-1cdf-4728-b814-34673fb26a93', 'bc98036e-fb99-464a-8861-06c711dafc67', 'e8492738-a735-4fe3-a8d8-e1fd62e45895', '0d1bca11-db06-4614-b2be-1089da0c6662', '4bef8516-66a9-425d-8eb5-3beac2a4401e', '2c1a4ab5-4703-489a-8aa4-a3509c0bcd81', '10f5f5b4-c910-454c-a05b-d58b398c168a'])\n",
      "point ids 69\n",
      "Removed: 69 Filled: 69\n",
      "TOOK 243.86286067962646 seconds\n"
     ]
    }
   ],
   "source": [
    "for run in range(RUNS):\n",
    "    print('***')\n",
    "    print('RUN:', run)\n",
    "    t0 = time.time()\n",
    "    R.run_classifier()\n",
    "    R.run_discriminator()\n",
    "    l = R.find_machine_labels()\n",
    "    if l == 0:\n",
    "        print('No more machine labels.')\n",
    "        print('TOOK', time.time()-t0, 'seconds')\n",
    "        break\n",
    "    R.relabel(percent_to_replace=PERCENT_TO_REPLACE)\n",
    "    print('TOOK', time.time()-t0, 'seconds')\n",
    "    "
   ]
  },
  {
   "cell_type": "code",
   "execution_count": null,
   "id": "dab6fd49",
   "metadata": {},
   "outputs": [],
   "source": []
  },
  {
   "cell_type": "code",
   "execution_count": null,
   "id": "93739320",
   "metadata": {},
   "outputs": [],
   "source": []
  },
  {
   "cell_type": "code",
   "execution_count": null,
   "id": "a76a4615",
   "metadata": {},
   "outputs": [],
   "source": []
  },
  {
   "cell_type": "code",
   "execution_count": 15,
   "id": "00075332",
   "metadata": {},
   "outputs": [
    {
     "name": "stderr",
     "output_type": "stream",
     "text": [
      "/home/ryan.zurrin001/miniconda3/envs/O/lib/python3.9/site-packages/tensorflow/python/keras/optimizer_v2/optimizer_v2.py:374: UserWarning: The `lr` argument is deprecated, use `learning_rate` instead.\n",
      "  warnings.warn(\n"
     ]
    },
    {
     "data": {
      "text/plain": [
       "[[1.1124359369277954, 0.8264666199684143],\n",
       " [0.7074126601219177, 0.9087710976600647],\n",
       " [0.06491487473249435, 0.9890620112419128],\n",
       " [0.049878668040037155, 0.9902140498161316],\n",
       " [1.157025694847107, 0.811139702796936]]"
      ]
     },
     "execution_count": 15,
     "metadata": {},
     "output_type": "execute_result"
    }
   ],
   "source": [
    "R.classifier_scores"
   ]
  },
  {
   "cell_type": "code",
   "execution_count": 16,
   "id": "35105656",
   "metadata": {},
   "outputs": [
    {
     "data": {
      "text/plain": [
       "[[0.10572871565818787, 0.9900000095367432],\n",
       " [7.015192031860352, 0.8100000023841858],\n",
       " [6.663753986358643, 0.8033333420753479],\n",
       " [7.486493110656738, 0.7983333468437195],\n",
       " [6.243584156036377, 0.8383333086967468]]"
      ]
     },
     "execution_count": 16,
     "metadata": {},
     "output_type": "execute_result"
    }
   ],
   "source": [
    "R.discriminator_scores"
   ]
  },
  {
   "cell_type": "code",
   "execution_count": 17,
   "id": "0a721a90",
   "metadata": {},
   "outputs": [
    {
     "data": {
      "image/png": "[encoded data removed]",
      "text/plain": [
       "<Figure size 240x240 with 1 Axes>"
      ]
     },
     "metadata": {
      "needs_background": "light"
     },
     "output_type": "display_data"
    }
   ],
   "source": [
    "R.plot()"
   ]
  },
  {
   "cell_type": "code",
   "execution_count": null,
   "id": "551de181",
   "metadata": {},
   "outputs": [],
   "source": []
  }
 ],
 "metadata": {
  "kernelspec": {
   "display_name": "Python 3 (ipykernel)",
   "language": "python",
   "name": "python3"
  },
  "language_info": {
   "codemirror_mode": {
    "name": "ipython",
    "version": 3
   },
   "file_extension": ".py",
   "mimetype": "text/x-python",
   "name": "python",
   "nbconvert_exporter": "python",
   "pygments_lexer": "ipython3",
   "version": "3.9.7"
  }
 },
 "nbformat": 4,
 "nbformat_minor": 5
}
