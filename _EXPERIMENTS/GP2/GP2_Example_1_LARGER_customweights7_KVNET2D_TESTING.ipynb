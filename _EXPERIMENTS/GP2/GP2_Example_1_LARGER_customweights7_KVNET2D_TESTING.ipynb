{
 "cells": [
  {
   "cell_type": "code",
   "execution_count": 1,
   "id": "06c4accc",
   "metadata": {},
   "outputs": [
    {
     "name": "stdout",
     "output_type": "stream",
     "text": [
      "Populating the interactive namespace from numpy and matplotlib\n"
     ]
    }
   ],
   "source": [
    "%pylab inline\n",
    "%load_ext autoreload\n",
    "%autoreload 2"
   ]
  },
  {
   "cell_type": "code",
   "execution_count": 2,
   "id": "861fc4c8",
   "metadata": {},
   "outputs": [
    {
     "name": "stderr",
     "output_type": "stream",
     "text": [
      "2023-04-22 12:15:29.531125: I tensorflow/stream_executor/platform/default/dso_loader.cc:53] Successfully opened dynamic library libcudart.so.11.0\n"
     ]
    }
   ],
   "source": [
    "import numpy as np\n",
    "from glob import glob\n",
    "from tensorflow import keras\n",
    "from tensorflow.keras.layers import Input, Conv2D, Dropout, Activation, UpSampling2D, GlobalMaxPooling2D, multiply\n",
    "from tensorflow.keras.backend import max\n",
    "from keras_unet_collection import models, base, utils"
   ]
  },
  {
   "cell_type": "code",
   "execution_count": 3,
   "id": "b9e78ed8",
   "metadata": {},
   "outputs": [
    {
     "name": "stderr",
     "output_type": "stream",
     "text": [
      "2023-04-22 12:15:31.254829: I tensorflow/stream_executor/platform/default/dso_loader.cc:53] Successfully opened dynamic library libcuda.so.1\n",
      "2023-04-22 12:15:31.634958: I tensorflow/core/common_runtime/gpu/gpu_device.cc:1733] Found device 0 with properties: \n",
      "pciBusID: 0000:90:00.0 name: A100-SXM4-40GB computeCapability: 8.0\n",
      "coreClock: 1.41GHz coreCount: 108 deviceMemorySize: 39.59GiB deviceMemoryBandwidth: 1.41TiB/s\n",
      "2023-04-22 12:15:31.639110: I tensorflow/core/common_runtime/gpu/gpu_device.cc:1733] Found device 1 with properties: \n",
      "pciBusID: 0000:b7:00.0 name: A100-SXM4-40GB computeCapability: 8.0\n",
      "coreClock: 1.41GHz coreCount: 108 deviceMemorySize: 39.59GiB deviceMemoryBandwidth: 1.41TiB/s\n",
      "2023-04-22 12:15:31.639131: I tensorflow/stream_executor/platform/default/dso_loader.cc:53] Successfully opened dynamic library libcudart.so.11.0\n",
      "2023-04-22 12:15:31.642518: I tensorflow/stream_executor/platform/default/dso_loader.cc:53] Successfully opened dynamic library libcublas.so.11\n",
      "2023-04-22 12:15:31.642551: I tensorflow/stream_executor/platform/default/dso_loader.cc:53] Successfully opened dynamic library libcublasLt.so.11\n",
      "2023-04-22 12:15:31.643486: I tensorflow/stream_executor/platform/default/dso_loader.cc:53] Successfully opened dynamic library libcufft.so.10\n",
      "2023-04-22 12:15:31.643808: I tensorflow/stream_executor/platform/default/dso_loader.cc:53] Successfully opened dynamic library libcurand.so.10\n",
      "2023-04-22 12:15:31.644376: I tensorflow/stream_executor/platform/default/dso_loader.cc:53] Successfully opened dynamic library libcusolver.so.11\n",
      "2023-04-22 12:15:31.645153: I tensorflow/stream_executor/platform/default/dso_loader.cc:53] Successfully opened dynamic library libcusparse.so.11\n",
      "2023-04-22 12:15:31.645413: I tensorflow/stream_executor/platform/default/dso_loader.cc:53] Successfully opened dynamic library libcudnn.so.8\n",
      "2023-04-22 12:15:31.661957: I tensorflow/core/common_runtime/gpu/gpu_device.cc:1871] Adding visible gpu devices: 0, 1\n"
     ]
    }
   ],
   "source": [
    "import time\n",
    "import sys\n",
    "sys.path.insert(0,'../..')\n",
    "from gp2 import Runner"
   ]
  },
  {
   "cell_type": "code",
   "execution_count": 4,
   "id": "bdc75325",
   "metadata": {},
   "outputs": [
    {
     "name": "stderr",
     "output_type": "stream",
     "text": [
      "2023-04-22 12:15:31.750995: I tensorflow/core/platform/cpu_feature_guard.cc:142] This TensorFlow binary is optimized with oneAPI Deep Neural Network Library (oneDNN) to use the following CPU instructions in performance-critical operations:  AVX2 FMA\n",
      "To enable them in other operations, rebuild TensorFlow with the appropriate compiler flags.\n",
      "2023-04-22 12:15:32.118806: I tensorflow/core/common_runtime/gpu/gpu_device.cc:1733] Found device 0 with properties: \n",
      "pciBusID: 0000:90:00.0 name: A100-SXM4-40GB computeCapability: 8.0\n",
      "coreClock: 1.41GHz coreCount: 108 deviceMemorySize: 39.59GiB deviceMemoryBandwidth: 1.41TiB/s\n",
      "2023-04-22 12:15:32.122683: I tensorflow/core/common_runtime/gpu/gpu_device.cc:1733] Found device 1 with properties: \n",
      "pciBusID: 0000:b7:00.0 name: A100-SXM4-40GB computeCapability: 8.0\n",
      "coreClock: 1.41GHz coreCount: 108 deviceMemorySize: 39.59GiB deviceMemoryBandwidth: 1.41TiB/s\n",
      "2023-04-22 12:15:32.137674: I tensorflow/core/common_runtime/gpu/gpu_device.cc:1871] Adding visible gpu devices: 0, 1\n",
      "2023-04-22 12:15:32.137724: I tensorflow/stream_executor/platform/default/dso_loader.cc:53] Successfully opened dynamic library libcudart.so.11.0\n",
      "2023-04-22 12:15:33.027578: I tensorflow/core/common_runtime/gpu/gpu_device.cc:1258] Device interconnect StreamExecutor with strength 1 edge matrix:\n",
      "2023-04-22 12:15:33.027628: I tensorflow/core/common_runtime/gpu/gpu_device.cc:1264]      0 1 \n",
      "2023-04-22 12:15:33.027635: I tensorflow/core/common_runtime/gpu/gpu_device.cc:1277] 0:   N Y \n",
      "2023-04-22 12:15:33.027639: I tensorflow/core/common_runtime/gpu/gpu_device.cc:1277] 1:   Y N \n",
      "2023-04-22 12:15:33.048665: I tensorflow/core/common_runtime/gpu/gpu_device.cc:1418] Created TensorFlow device (/job:localhost/replica:0/task:0/device:GPU:0 with 38425 MB memory) -> physical GPU (device: 0, name: A100-SXM4-40GB, pci bus id: 0000:90:00.0, compute capability: 8.0)\n",
      "2023-04-22 12:15:33.052371: I tensorflow/core/common_runtime/gpu/gpu_device.cc:1418] Created TensorFlow device (/job:localhost/replica:0/task:0/device:GPU:1 with 38425 MB memory) -> physical GPU (device: 1, name: A100-SXM4-40GB, pci bus id: 0000:b7:00.0, compute capability: 8.0)\n"
     ]
    },
    {
     "name": "stdout",
     "output_type": "stream",
     "text": [
      "*** GP2  KVNet2D ***\n",
      "Working directory: /tmp/tmpox3_eamhGP2\n",
      "Verbose mode active!\n",
      "Model: \"vnet_model\"\n",
      "__________________________________________________________________________________________________\n",
      "Layer (type)                    Output Shape         Param #     Connected to                     \n",
      "==================================================================================================\n",
      "input_1 (InputLayer)            [(None, 512, 512, 1) 0                                            \n",
      "__________________________________________________________________________________________________\n",
      "vnet_input_conv_0 (Conv2D)      (None, 512, 512, 32) 288         input_1[0][0]                    \n",
      "__________________________________________________________________________________________________\n",
      "vnet_input_conv_0_bn (BatchNorm (None, 512, 512, 32) 128         vnet_input_conv_0[0][0]          \n",
      "__________________________________________________________________________________________________\n",
      "vnet_input_conv_0_activation (R (None, 512, 512, 32) 0           vnet_input_conv_0_bn[0][0]       \n",
      "__________________________________________________________________________________________________\n",
      "vnet_down_0_0 (Conv2D)          (None, 512, 512, 32) 9216        vnet_input_conv_0_activation[0][0\n",
      "__________________________________________________________________________________________________\n",
      "vnet_down_0_0_bn (BatchNormaliz (None, 512, 512, 32) 128         vnet_down_0_0[0][0]              \n",
      "__________________________________________________________________________________________________\n",
      "vnet_down_0_0_activation (ReLU) (None, 512, 512, 32) 0           vnet_down_0_0_bn[0][0]           \n",
      "__________________________________________________________________________________________________\n",
      "vnet_down_0_add (Add)           (None, 512, 512, 32) 0           vnet_input_conv_0_activation[0][0\n",
      "                                                                 vnet_down_0_0_activation[0][0]   \n",
      "__________________________________________________________________________________________________\n",
      "vnet_down_0_add_activation (ReL (None, 512, 512, 32) 0           vnet_down_0_add[0][0]            \n",
      "__________________________________________________________________________________________________\n",
      "vnet_down_1_encode_stride_conv  (None, 256, 256, 64) 8192        vnet_down_0_add_activation[0][0] \n",
      "__________________________________________________________________________________________________\n",
      "vnet_down_1_encode_bn (BatchNor (None, 256, 256, 64) 256         vnet_down_1_encode_stride_conv[0]\n",
      "__________________________________________________________________________________________________\n",
      "vnet_down_1_encode_activation ( (None, 256, 256, 64) 0           vnet_down_1_encode_bn[0][0]      \n",
      "__________________________________________________________________________________________________\n",
      "vnet_down_1_res_conv_0 (Conv2D) (None, 256, 256, 64) 36864       vnet_down_1_encode_activation[0][\n",
      "__________________________________________________________________________________________________\n",
      "vnet_down_1_res_conv_0_bn (Batc (None, 256, 256, 64) 256         vnet_down_1_res_conv_0[0][0]     \n",
      "__________________________________________________________________________________________________\n",
      "vnet_down_1_res_conv_0_activati (None, 256, 256, 64) 0           vnet_down_1_res_conv_0_bn[0][0]  \n",
      "__________________________________________________________________________________________________\n",
      "vnet_down_1_res_conv_1 (Conv2D) (None, 256, 256, 64) 36864       vnet_down_1_res_conv_0_activation\n",
      "__________________________________________________________________________________________________\n",
      "vnet_down_1_res_conv_1_bn (Batc (None, 256, 256, 64) 256         vnet_down_1_res_conv_1[0][0]     \n",
      "__________________________________________________________________________________________________\n",
      "vnet_down_1_res_conv_1_activati (None, 256, 256, 64) 0           vnet_down_1_res_conv_1_bn[0][0]  \n",
      "__________________________________________________________________________________________________\n",
      "vnet_down_1_res_conv_add (Add)  (None, 256, 256, 64) 0           vnet_down_1_encode_activation[0][\n",
      "                                                                 vnet_down_1_res_conv_1_activation\n",
      "__________________________________________________________________________________________________\n",
      "vnet_down_1_res_conv_add_activa (None, 256, 256, 64) 0           vnet_down_1_res_conv_add[0][0]   \n",
      "__________________________________________________________________________________________________\n",
      "vnet_down_2_encode_stride_conv  (None, 128, 128, 128 32768       vnet_down_1_res_conv_add_activati\n",
      "__________________________________________________________________________________________________\n",
      "vnet_down_2_encode_bn (BatchNor (None, 128, 128, 128 512         vnet_down_2_encode_stride_conv[0]\n",
      "__________________________________________________________________________________________________\n",
      "vnet_down_2_encode_activation ( (None, 128, 128, 128 0           vnet_down_2_encode_bn[0][0]      \n",
      "__________________________________________________________________________________________________\n",
      "vnet_down_2_res_conv_0 (Conv2D) (None, 128, 128, 128 147456      vnet_down_2_encode_activation[0][\n",
      "__________________________________________________________________________________________________\n",
      "vnet_down_2_res_conv_0_bn (Batc (None, 128, 128, 128 512         vnet_down_2_res_conv_0[0][0]     \n",
      "__________________________________________________________________________________________________\n",
      "vnet_down_2_res_conv_0_activati (None, 128, 128, 128 0           vnet_down_2_res_conv_0_bn[0][0]  \n",
      "__________________________________________________________________________________________________\n",
      "vnet_down_2_res_conv_1 (Conv2D) (None, 128, 128, 128 147456      vnet_down_2_res_conv_0_activation\n",
      "__________________________________________________________________________________________________\n",
      "vnet_down_2_res_conv_1_bn (Batc (None, 128, 128, 128 512         vnet_down_2_res_conv_1[0][0]     \n",
      "__________________________________________________________________________________________________\n",
      "vnet_down_2_res_conv_1_activati (None, 128, 128, 128 0           vnet_down_2_res_conv_1_bn[0][0]  \n",
      "__________________________________________________________________________________________________\n",
      "vnet_down_2_res_conv_add (Add)  (None, 128, 128, 128 0           vnet_down_2_encode_activation[0][\n",
      "                                                                 vnet_down_2_res_conv_1_activation\n",
      "__________________________________________________________________________________________________\n",
      "vnet_down_2_res_conv_add_activa (None, 128, 128, 128 0           vnet_down_2_res_conv_add[0][0]   \n",
      "__________________________________________________________________________________________________\n",
      "vnet_down_3_encode_stride_conv  (None, 64, 64, 256)  131072      vnet_down_2_res_conv_add_activati\n",
      "__________________________________________________________________________________________________\n",
      "vnet_down_3_encode_bn (BatchNor (None, 64, 64, 256)  1024        vnet_down_3_encode_stride_conv[0]\n",
      "__________________________________________________________________________________________________\n",
      "vnet_down_3_encode_activation ( (None, 64, 64, 256)  0           vnet_down_3_encode_bn[0][0]      \n",
      "__________________________________________________________________________________________________\n",
      "vnet_down_3_res_conv_0 (Conv2D) (None, 64, 64, 256)  589824      vnet_down_3_encode_activation[0][\n",
      "__________________________________________________________________________________________________\n",
      "vnet_down_3_res_conv_0_bn (Batc (None, 64, 64, 256)  1024        vnet_down_3_res_conv_0[0][0]     \n",
      "__________________________________________________________________________________________________\n",
      "vnet_down_3_res_conv_0_activati (None, 64, 64, 256)  0           vnet_down_3_res_conv_0_bn[0][0]  \n",
      "__________________________________________________________________________________________________\n",
      "vnet_down_3_res_conv_1 (Conv2D) (None, 64, 64, 256)  589824      vnet_down_3_res_conv_0_activation\n",
      "__________________________________________________________________________________________________\n",
      "vnet_down_3_res_conv_1_bn (Batc (None, 64, 64, 256)  1024        vnet_down_3_res_conv_1[0][0]     \n",
      "__________________________________________________________________________________________________\n",
      "vnet_down_3_res_conv_1_activati (None, 64, 64, 256)  0           vnet_down_3_res_conv_1_bn[0][0]  \n",
      "__________________________________________________________________________________________________\n",
      "vnet_down_3_res_conv_add (Add)  (None, 64, 64, 256)  0           vnet_down_3_encode_activation[0][\n",
      "                                                                 vnet_down_3_res_conv_1_activation\n",
      "__________________________________________________________________________________________________\n",
      "vnet_down_3_res_conv_add_activa (None, 64, 64, 256)  0           vnet_down_3_res_conv_add[0][0]   \n",
      "__________________________________________________________________________________________________\n",
      "vnet_up_0_decode_trans_conv (Co (None, 128, 128, 128 295040      vnet_down_3_res_conv_add_activati\n",
      "__________________________________________________________________________________________________\n",
      "vnet_up_0_decode_bn (BatchNorma (None, 128, 128, 128 512         vnet_up_0_decode_trans_conv[0][0]\n",
      "__________________________________________________________________________________________________\n",
      "vnet_up_0_decode_activation (Re (None, 128, 128, 128 0           vnet_up_0_decode_bn[0][0]        \n",
      "__________________________________________________________________________________________________\n",
      "vnet_up_0_concat (Concatenate)  (None, 128, 128, 256 0           vnet_up_0_decode_activation[0][0]\n",
      "                                                                 vnet_down_2_res_conv_add_activati\n",
      "__________________________________________________________________________________________________\n",
      "vnet_up_0_res_conv_0 (Conv2D)   (None, 128, 128, 128 294912      vnet_up_0_concat[0][0]           \n",
      "__________________________________________________________________________________________________\n",
      "vnet_up_0_res_conv_0_bn (BatchN (None, 128, 128, 128 512         vnet_up_0_res_conv_0[0][0]       \n",
      "__________________________________________________________________________________________________\n",
      "vnet_up_0_res_conv_0_activation (None, 128, 128, 128 0           vnet_up_0_res_conv_0_bn[0][0]    \n",
      "__________________________________________________________________________________________________\n",
      "vnet_up_0_res_conv_1 (Conv2D)   (None, 128, 128, 128 147456      vnet_up_0_res_conv_0_activation[0\n",
      "__________________________________________________________________________________________________\n",
      "vnet_up_0_res_conv_1_bn (BatchN (None, 128, 128, 128 512         vnet_up_0_res_conv_1[0][0]       \n",
      "__________________________________________________________________________________________________\n",
      "vnet_up_0_res_conv_1_activation (None, 128, 128, 128 0           vnet_up_0_res_conv_1_bn[0][0]    \n",
      "__________________________________________________________________________________________________\n",
      "vnet_up_0_res_conv_add (Add)    (None, 128, 128, 128 0           vnet_up_0_decode_activation[0][0]\n",
      "                                                                 vnet_up_0_res_conv_1_activation[0\n",
      "__________________________________________________________________________________________________\n",
      "vnet_up_0_res_conv_add_activati (None, 128, 128, 128 0           vnet_up_0_res_conv_add[0][0]     \n",
      "__________________________________________________________________________________________________\n",
      "vnet_up_1_decode_trans_conv (Co (None, 256, 256, 64) 73792       vnet_up_0_res_conv_add_activation\n",
      "__________________________________________________________________________________________________\n",
      "vnet_up_1_decode_bn (BatchNorma (None, 256, 256, 64) 256         vnet_up_1_decode_trans_conv[0][0]\n",
      "__________________________________________________________________________________________________\n",
      "vnet_up_1_decode_activation (Re (None, 256, 256, 64) 0           vnet_up_1_decode_bn[0][0]        \n",
      "__________________________________________________________________________________________________\n",
      "vnet_up_1_concat (Concatenate)  (None, 256, 256, 128 0           vnet_up_1_decode_activation[0][0]\n",
      "                                                                 vnet_down_1_res_conv_add_activati\n",
      "__________________________________________________________________________________________________\n",
      "vnet_up_1_res_conv_0 (Conv2D)   (None, 256, 256, 64) 73728       vnet_up_1_concat[0][0]           \n",
      "__________________________________________________________________________________________________\n",
      "vnet_up_1_res_conv_0_bn (BatchN (None, 256, 256, 64) 256         vnet_up_1_res_conv_0[0][0]       \n",
      "__________________________________________________________________________________________________\n",
      "vnet_up_1_res_conv_0_activation (None, 256, 256, 64) 0           vnet_up_1_res_conv_0_bn[0][0]    \n",
      "__________________________________________________________________________________________________\n",
      "vnet_up_1_res_conv_1 (Conv2D)   (None, 256, 256, 64) 36864       vnet_up_1_res_conv_0_activation[0\n",
      "__________________________________________________________________________________________________\n",
      "vnet_up_1_res_conv_1_bn (BatchN (None, 256, 256, 64) 256         vnet_up_1_res_conv_1[0][0]       \n",
      "__________________________________________________________________________________________________\n",
      "vnet_up_1_res_conv_1_activation (None, 256, 256, 64) 0           vnet_up_1_res_conv_1_bn[0][0]    \n",
      "__________________________________________________________________________________________________\n",
      "vnet_up_1_res_conv_add (Add)    (None, 256, 256, 64) 0           vnet_up_1_decode_activation[0][0]\n",
      "                                                                 vnet_up_1_res_conv_1_activation[0\n",
      "__________________________________________________________________________________________________\n",
      "vnet_up_1_res_conv_add_activati (None, 256, 256, 64) 0           vnet_up_1_res_conv_add[0][0]     \n",
      "__________________________________________________________________________________________________\n",
      "vnet_up_2_decode_trans_conv (Co (None, 512, 512, 32) 18464       vnet_up_1_res_conv_add_activation\n",
      "__________________________________________________________________________________________________\n",
      "vnet_up_2_decode_bn (BatchNorma (None, 512, 512, 32) 128         vnet_up_2_decode_trans_conv[0][0]\n",
      "__________________________________________________________________________________________________\n",
      "vnet_up_2_decode_activation (Re (None, 512, 512, 32) 0           vnet_up_2_decode_bn[0][0]        \n",
      "__________________________________________________________________________________________________\n",
      "vnet_up_2_concat (Concatenate)  (None, 512, 512, 64) 0           vnet_up_2_decode_activation[0][0]\n",
      "                                                                 vnet_down_0_add_activation[0][0] \n",
      "__________________________________________________________________________________________________\n",
      "vnet_up_2_res_conv_0 (Conv2D)   (None, 512, 512, 32) 18432       vnet_up_2_concat[0][0]           \n",
      "__________________________________________________________________________________________________\n",
      "vnet_up_2_res_conv_0_bn (BatchN (None, 512, 512, 32) 128         vnet_up_2_res_conv_0[0][0]       \n",
      "__________________________________________________________________________________________________\n",
      "vnet_up_2_res_conv_0_activation (None, 512, 512, 32) 0           vnet_up_2_res_conv_0_bn[0][0]    \n",
      "__________________________________________________________________________________________________\n",
      "vnet_up_2_res_conv_add (Add)    (None, 512, 512, 32) 0           vnet_up_2_decode_activation[0][0]\n",
      "                                                                 vnet_up_2_res_conv_0_activation[0\n",
      "__________________________________________________________________________________________________\n",
      "vnet_up_2_res_conv_add_activati (None, 512, 512, 32) 0           vnet_up_2_res_conv_add[0][0]     \n",
      "__________________________________________________________________________________________________\n",
      "vnet_output (Conv2D)            (None, 512, 512, 1)  33          vnet_up_2_res_conv_add_activation\n",
      "__________________________________________________________________________________________________\n",
      "vnet_output_activation (Activat (None, 512, 512, 1)  0           vnet_output[0][0]                \n",
      "==================================================================================================\n",
      "Total params: 2,696,737\n",
      "Trainable params: 2,692,641\n",
      "Non-trainable params: 4,096\n",
      "__________________________________________________________________________________________________\n"
     ]
    }
   ],
   "source": [
    "R = Runner(verbose=True, classifier='kvnet2d')"
   ]
  },
  {
   "cell_type": "code",
   "execution_count": 5,
   "id": "87b0c65d",
   "metadata": {},
   "outputs": [],
   "source": [
    "# load our larger toy dataset (10k images and masks)\n",
    "images = np.load('/hpcstor6/scratch01/r/ryan.zurrin001/GP2TOYEXAMPLE_LARGE/images.npy')\n",
    "masks = np.load('/hpcstor6/scratch01/r/ryan.zurrin001/GP2TOYEXAMPLE_LARGE/masks.npy')"
   ]
  },
  {
   "cell_type": "code",
   "execution_count": 6,
   "id": "7330ad24",
   "metadata": {},
   "outputs": [],
   "source": [
    "images = images[:5000]\n",
    "masks = masks[:5000]"
   ]
  },
  {
   "cell_type": "code",
   "execution_count": 7,
   "id": "d5b4179a",
   "metadata": {},
   "outputs": [
    {
     "data": {
      "text/plain": [
       "(5000, 512, 512, 1)"
      ]
     },
     "execution_count": 7,
     "metadata": {},
     "output_type": "execute_result"
    }
   ],
   "source": [
    "images.shape"
   ]
  },
  {
   "cell_type": "code",
   "execution_count": 8,
   "id": "57033c4e",
   "metadata": {},
   "outputs": [
    {
     "data": {
      "text/plain": [
       "(5000, 512, 512, 1)"
      ]
     },
     "execution_count": 8,
     "metadata": {},
     "output_type": "execute_result"
    }
   ],
   "source": [
    "masks.shape"
   ]
  },
  {
   "cell_type": "code",
   "execution_count": 9,
   "id": "393c7029",
   "metadata": {},
   "outputs": [
    {
     "name": "stdout",
     "output_type": "stream",
     "text": [
      "255\n"
     ]
    }
   ],
   "source": [
    "print(images.max())"
   ]
  },
  {
   "cell_type": "code",
   "execution_count": 10,
   "id": "97eca1aa",
   "metadata": {},
   "outputs": [
    {
     "name": "stdout",
     "output_type": "stream",
     "text": [
      "0\n"
     ]
    }
   ],
   "source": [
    "print(images.min())"
   ]
  },
  {
   "cell_type": "code",
   "execution_count": 11,
   "id": "2821eb86",
   "metadata": {},
   "outputs": [
    {
     "name": "stdout",
     "output_type": "stream",
     "text": [
      "True\n"
     ]
    }
   ],
   "source": [
    "print(masks.max())"
   ]
  },
  {
   "cell_type": "code",
   "execution_count": 12,
   "id": "1dd71668",
   "metadata": {},
   "outputs": [],
   "source": [
    "weights = {\n",
    "    'A': 0.5,\n",
    "    'A_train': 0.1,\n",
    "    'A_val': 0.3,\n",
    "    'A_test': 0.6,\n",
    "    'B': 0.3,\n",
    "    'B_train': 0.7,\n",
    "    'B_val': 0.1,\n",
    "    'B_test': 0.2,\n",
    "    'Z': 0.2\n",
    "}\n",
    "PERCENT_TO_REPLACE = 30"
   ]
  },
  {
   "cell_type": "code",
   "execution_count": 13,
   "id": "2a5d1030",
   "metadata": {},
   "outputs": [
    {
     "name": "stdout",
     "output_type": "stream",
     "text": [
      "Weights OK!\n"
     ]
    }
   ],
   "source": [
    "R.setup_data(images, masks, dataset_size=5000, weights=weights)"
   ]
  },
  {
   "cell_type": "code",
   "execution_count": 14,
   "id": "c04e6b0f",
   "metadata": {},
   "outputs": [],
   "source": [
    "RUNS = 5"
   ]
  },
  {
   "cell_type": "code",
   "execution_count": null,
   "id": "d8ff85c4",
   "metadata": {
    "scrolled": true
   },
   "outputs": [
    {
     "name": "stdout",
     "output_type": "stream",
     "text": [
      "***\n",
      "RUN: 0\n"
     ]
    },
    {
     "name": "stderr",
     "output_type": "stream",
     "text": [
      "2023-04-22 12:15:40.227462: I tensorflow/compiler/mlir/mlir_graph_optimization_pass.cc:176] None of the MLIR Optimization Passes are enabled (registered 2)\n",
      "2023-04-22 12:15:40.229421: I tensorflow/core/platform/profile_utils/cpu_utils.cc:114] CPU Frequency: 2245755000 Hz\n"
     ]
    },
    {
     "name": "stdout",
     "output_type": "stream",
     "text": [
      "Epoch 1/100\n"
     ]
    },
    {
     "name": "stderr",
     "output_type": "stream",
     "text": [
      "2023-04-22 12:15:42.481741: I tensorflow/stream_executor/platform/default/dso_loader.cc:53] Successfully opened dynamic library libcudnn.so.8\n",
      "2023-04-22 12:15:43.216161: I tensorflow/stream_executor/cuda/cuda_dnn.cc:359] Loaded cuDNN version 8201\n",
      "2023-04-22 12:15:43.874280: W tensorflow/stream_executor/gpu/asm_compiler.cc:191] Falling back to the CUDA driver for PTX compilation; ptxas does not support CC 8.0\n",
      "2023-04-22 12:15:43.874305: W tensorflow/stream_executor/gpu/asm_compiler.cc:194] Used ptxas at ptxas\n",
      "2023-04-22 12:15:43.874365: W tensorflow/stream_executor/gpu/redzone_allocator.cc:314] Unimplemented: ptxas ptxas too old. Falling back to the driver to compile.\n",
      "Relying on driver to perform ptx compilation. \n",
      "Modify $PATH to customize ptxas location.\n",
      "This message will be only logged once.\n",
      "2023-04-22 12:15:43.894747: I tensorflow/stream_executor/platform/default/dso_loader.cc:53] Successfully opened dynamic library libcublas.so.11\n",
      "2023-04-22 12:15:44.589242: I tensorflow/stream_executor/platform/default/dso_loader.cc:53] Successfully opened dynamic library libcublasLt.so.11\n"
     ]
    },
    {
     "name": "stdout",
     "output_type": "stream",
     "text": [
      "4/4 [==============================] - 69s 12s/step - loss: 0.6442 - dice_coef: 0.0819 - val_loss: 1.1976 - val_dice_coef: 0.0176\n"
     ]
    },
    {
     "name": "stderr",
     "output_type": "stream",
     "text": [
      "2023-04-22 12:16:51.917923: W tensorflow/python/util/util.cc:348] Sets are not currently considered sequences, but this may change in the future, so consider avoiding using them.\n",
      "/home/ryan.zurrin001/miniconda3/envs/O/lib/python3.9/site-packages/tensorflow/python/keras/utils/generic_utils.py:494: CustomMaskWarning: Custom mask layers require a config and must override get_config. When loading, the custom mask layer must be passed to the custom_objects argument.\n",
      "  warnings.warn('Custom mask layers require a config and must override '\n"
     ]
    },
    {
     "name": "stdout",
     "output_type": "stream",
     "text": [
      "Epoch 2/100\n",
      "4/4 [==============================] - 5s 1s/step - loss: 0.4914 - dice_coef: 0.1263 - val_loss: 0.9603 - val_dice_coef: 0.0328\n"
     ]
    },
    {
     "name": "stderr",
     "output_type": "stream",
     "text": [
      "/home/ryan.zurrin001/miniconda3/envs/O/lib/python3.9/site-packages/tensorflow/python/keras/utils/generic_utils.py:494: CustomMaskWarning: Custom mask layers require a config and must override get_config. When loading, the custom mask layer must be passed to the custom_objects argument.\n",
      "  warnings.warn('Custom mask layers require a config and must override '\n"
     ]
    },
    {
     "name": "stdout",
     "output_type": "stream",
     "text": [
      "Epoch 3/100\n",
      "4/4 [==============================] - 4s 1s/step - loss: 0.4665 - dice_coef: 0.1398 - val_loss: 0.8614 - val_dice_coef: 0.0381\n"
     ]
    },
    {
     "name": "stderr",
     "output_type": "stream",
     "text": [
      "/home/ryan.zurrin001/miniconda3/envs/O/lib/python3.9/site-packages/tensorflow/python/keras/utils/generic_utils.py:494: CustomMaskWarning: Custom mask layers require a config and must override get_config. When loading, the custom mask layer must be passed to the custom_objects argument.\n",
      "  warnings.warn('Custom mask layers require a config and must override '\n"
     ]
    },
    {
     "name": "stdout",
     "output_type": "stream",
     "text": [
      "Epoch 4/100\n",
      "4/4 [==============================] - 4s 1s/step - loss: 0.4667 - dice_coef: 0.1399 - val_loss: 0.8047 - val_dice_coef: 0.0427\n"
     ]
    },
    {
     "name": "stderr",
     "output_type": "stream",
     "text": [
      "/home/ryan.zurrin001/miniconda3/envs/O/lib/python3.9/site-packages/tensorflow/python/keras/utils/generic_utils.py:494: CustomMaskWarning: Custom mask layers require a config and must override get_config. When loading, the custom mask layer must be passed to the custom_objects argument.\n",
      "  warnings.warn('Custom mask layers require a config and must override '\n"
     ]
    },
    {
     "name": "stdout",
     "output_type": "stream",
     "text": [
      "Epoch 5/100\n",
      "4/4 [==============================] - 4s 1s/step - loss: 0.4667 - dice_coef: 0.1398 - val_loss: 0.7715 - val_dice_coef: 0.0468\n"
     ]
    },
    {
     "name": "stderr",
     "output_type": "stream",
     "text": [
      "/home/ryan.zurrin001/miniconda3/envs/O/lib/python3.9/site-packages/tensorflow/python/keras/utils/generic_utils.py:494: CustomMaskWarning: Custom mask layers require a config and must override get_config. When loading, the custom mask layer must be passed to the custom_objects argument.\n",
      "  warnings.warn('Custom mask layers require a config and must override '\n"
     ]
    },
    {
     "name": "stdout",
     "output_type": "stream",
     "text": [
      "Model saved to: /tmp/tmpox3_eamhGP2/vnet_0vnet_model\n",
      "History saved to: /tmp/tmpox3_eamhGP2/vnet_history_0.pkl\n",
      "Testing the classifier...\n",
      "Model saved to /tmp/tmpox3_eamhGP2/cnnd_0.model\n",
      "History saved to /tmp/tmpox3_eamhGP2/cnnd_history_0.pickle\n",
      "Testing the discriminator...\n",
      "10/10 [==============================] - 0s 23ms/step - loss: 0.0000e+00 - accuracy: 1.0000\n",
      "Found 149 machine labels.\n",
      "Machine labels [  1   4   6   7  11  12  14  16  18  19  20  21  23  26  28  29  31  34\n",
      "  36  37  39  42  43  44  45  47  50  53  54  55  56  57  59  60  69  70\n",
      "  72  75  77  82  84  85  88  90  91  94  95  96  98 102 106 110 112 117\n",
      " 118 120 121 122 127 128 129 130 133 134 135 136 137 138 139 140 143 144\n",
      " 146 150 151 152 154 158 160 161 162 165 166 168 170 171 177 179 181 182\n",
      " 183 184 187 188 189 191 192 202 205 206 208 213 215 216 218 219 221 222\n",
      " 227 228 229 230 231 232 233 237 241 242 243 244 246 247 248 251 252 254\n",
      " 255 256 257 260 262 263 266 268 271 272 275 278 279 281 282 287 288 290\n",
      " 291 292 296 297 298]\n",
      "D_ids ['05ed37e1-01da-4fde-9b4a-558cdae91508', '4db0eea6-da9a-4435-8885-b8318b7a5eef', '5d7919a3-c752-436b-8dd7-81d5a602ba9c', 'c04c7f87-2de5-4b5c-b5db-4c34564c4b3f', 'd876f867-c2c9-4cc8-88d9-9b7085274053', '4f4c8469-6e94-4008-a8ab-50924426e417', 'ad37f602-069d-4ce3-9cc0-0042bcc43a7b', '30e0d472-4e4e-426d-8feb-cab9196d7be0', 'e8980b0e-8033-4ad8-b024-c8f2e51506f3', 'f7ac2809-1c83-4901-96c3-a91140a087be', 'd4c157b8-2ca8-4213-b0fc-15353d5b6606', '4d8532c9-650f-488c-a09d-5744140417bf', '88eec7d9-d58f-46f0-a0fc-bae91a4cde75', 'e4a81d5e-5430-419e-9d8a-286310e3e54a', 'cdee2e21-1ce0-486f-a7c0-412da807e31d', '05296a1c-67f5-4475-b3f3-871e1016b4ee', '7f05b433-ce87-4568-9589-1f34046e3aa2', '83cf9789-4885-48a0-a08d-99d246815d40', '03de6296-0dd2-4ea8-a21b-175163615a17', 'a73e9e95-18e7-47c7-a0ab-d67e459060d7', '88af4654-a735-4e92-a044-fd3dc815cf05', '8322cf0f-ddf9-413f-a446-3cfa3a2f7235', 'd88bcfc7-31e9-4d1a-bfe9-3670bb8cd842', '83af6164-9b52-4609-b8a6-16ac4228c2fc', '9fedb7e7-cc25-467e-9c0d-e5063562ea49', '6029c668-fddf-40c0-a183-2b74ad4c248f', 'cd8a03ba-09c9-4723-81a9-781f41401fd3', 'cc6d8895-54e7-4903-9b5e-1b8b31d5d16a', '96deefc0-5eba-4797-841f-b8f481e4d6aa', '9d4389ef-c119-454e-bd32-2308e837264e', 'a81d8339-0046-4d4a-8035-cc37d8e83c82', '118fc7ae-d392-493a-a3eb-e2dde798c22b', 'ce572563-8203-4146-93d6-7912866fcc0e', '8bc73f1b-cb04-46b2-a657-939ce2d3965d', '3aec7ddd-25e7-4089-a058-ed4cc420ae71', 'e231533e-e689-48d1-ae26-dc6ae43246ca', 'f44d5ba8-7e04-4d95-8679-c32a21dad0a3', 'd182437a-4496-48d9-9b9f-7aa952ddbdd5', '13ae129e-48d0-4b85-bb20-dbff16fee881', '0eee8615-765e-4067-afff-eca3dddb2538', '51b6a0d5-f271-41c5-9380-6af05378079f', '42638888-e01f-47f5-8513-f28f0e87661a', 'ddddfb61-8ad5-413d-bdb9-07d753c4fcdb', '519c1d9c-7e8a-4f9e-988e-6059dd78b413', 'de958f42-6543-4cc2-b1f6-1570aefad4de', '6dac8cba-75af-493a-8c3a-aab6aa9f8e2b', '0335ff1b-b310-4e67-822a-39d5123bbe4a', '432c696c-b067-4a5d-8dde-4ebf06c47885', 'dafd60a8-7728-43fa-bbd3-98926c9ca217', '62f2b396-f74b-48c1-9de7-7f94ad5824a8', '6b3c35ad-bef7-41a2-9338-55f39350baf1', '817eebf4-d6af-460a-95d2-d51266899b03', '78d62cd0-8cba-465e-80b7-aa5f34588ec0', '3d7b2257-915d-4778-9ce6-ac1261f24f94', 'f66e5847-15be-4370-b2b0-960a0f96b70f', 'ec15f50d-b5cd-4450-917f-86f933fe97d1', '228c7e99-243e-47bd-ae28-b413818adf9e', '4ecef274-86e6-435e-867a-d7d446d7e454', '9508007b-8ab7-4f7c-90ba-be908ff569ca', '3b9101a0-3e74-43b1-830f-ad4c0889f7dd', 'a0ad24b4-07e9-41ff-8684-9ad6918a0a63', '44b966fb-db86-4f42-b1b7-52a689b0897b', 'fd9304ce-7711-4390-8891-d43c0389d18f', '8684ef2d-bcd1-40e6-be1e-6dc3bcfbdc6c', '61ce48a5-c938-4565-be5d-2b48b1a17f8f', '029c39a6-fa1e-469a-b9f2-a7d85c877c00', '0efd712d-b863-43e0-a2b7-9df3431d9593', '7513e30b-7670-45f4-a999-2eb632778e5c', 'd6eeac6a-548e-4a34-8e5c-ca4fd3dacb97', '2a2b9090-cd71-460c-a5e4-b8d8b6a11ae5', '0f124691-8101-4760-bcd8-2f6e02bfc994', '60ef2a6a-eba4-440f-9a07-1ffe1809b70b', '6729cfd1-62f8-44a7-b291-6a74f160aed5', '86dd7688-190d-4081-bfc7-b907098e6b12', '16fda158-1856-42e2-b9b2-d77b36324c4f', '0c203470-794f-4c60-b849-17471d14a714', 'd5239c86-c6f0-4301-bfca-59ceb6af85e5', '097496a4-916f-46f1-a44d-0ecaf37f7d48', 'f35e44d5-1dd0-4a1a-8dd4-dd1f159ff379', '51c3652b-b459-4b0d-bb49-e89d945b71b6', '115997e4-fdea-4453-97f1-b6013a509d2e', '96cfbaae-aa49-4e11-8ed3-4f00bb6aad90', '2c1c268a-df50-48b2-a914-bac3e309dd55', '1829d2c0-d07f-40ca-9cae-338f0a2745e2', 'bd88cd94-5810-4008-9731-c3d3692b0502', '01ea9560-4fb8-4212-8513-c469a984ed19', '226fe245-b81f-4cb0-8aa6-21fdd058c1d4', '34aafd35-5c66-4a51-adaf-530a00e1e341', 'e9b1a65f-1744-402d-880a-393154087a3a', 'e671327d-b5de-4d99-9ca6-86fb4e0f5183', '1624b9b4-d889-41f0-b49e-6f27f46f8dd2', '44c2ea78-57f0-4251-b860-41750b67ba39', '371e5a87-826e-4625-a993-e5316b3ae8ec', '3c3961da-19c2-4110-852f-860f197b844c', '3761921b-4d01-46d2-9679-2a484b8b53ef', '0e19e420-1ec8-4b39-b603-c289a6d47edd', '3fa1d9b0-95fa-4ac8-806e-2ad4182cfa5f', 'a1f99212-3ccb-4107-9c96-84421175fac4', 'dd049711-874f-4bec-968c-fb8266015fc2', '15996fdd-16ce-4cf7-a114-c95ab247c0c3', 'd0e668e8-07c6-4c98-adfd-c5de8ec63ebb', '186b0079-44bf-459c-9484-2ad1fea27c5d', '5e28b921-c1e7-4de0-9c93-aceae07994b5', 'b10e9cbe-bd05-4236-a612-1cb9885f4f24', '3e603653-36cf-49d9-b792-51a62cc690c4', '1c08e79a-5528-40e1-bc09-bb955712c7a6', '0455e7fb-5e4c-414b-89aa-8702b8693c44', '35ea0d2b-d0d9-43c3-ab7a-9a961bfeb92d', '6e22d2c6-d446-4777-a9ce-75def1cfe053', '791477b3-feb2-4823-b304-538e6de6b100', '9b804498-10c6-431c-9f3c-45d8ef5b87fa', '71a6906e-e59e-49ea-a07d-67c44fe43877', '79c37028-a59a-4f57-baa3-676985712856', 'b4e2fa73-9354-4953-b564-c301473ab513', '56229401-3f10-4e5c-9f90-15dea6ba5b70', '1288ea20-f491-4629-aba4-f5b117ff6e8f', '18b2df5c-ba6b-450c-b750-07191aeece90', 'a1a1ab0d-084c-4e13-9bd8-ed1de8129cfe', 'cc817210-2ce9-44a7-a056-7676ca7faa4d', 'ccb7efd1-381b-4ca5-aa4e-48f65b5385cb', '8dd198fd-6544-45cc-8a48-d64b61783d52', 'b2df2c28-27a0-4f65-98b3-3aa1213a6ef3', '37795057-10fe-4c43-a846-cde7a68789a1', 'e2e0cfc1-4a81-4675-b381-d6c55af6bf6a', '14295c18-a994-415d-bcec-70d422c72343', '604ae66f-7106-4e49-afd9-99273ea8d993', 'afe440c5-a902-4587-9c45-f2fe32cfd649', '5c315527-50e6-4948-b0be-b83ee036b9ef', '786f06b8-d075-4862-9c4c-247d39bd123c', '2bf56bfe-3ae1-482b-8b11-2fba3ce36c58', 'd6aeb2be-25ac-4571-85ff-de3fb5102ea6', '00fa1d74-de84-48ab-a412-1c7d398b3b55', '27f5763b-49a4-4198-9321-7dc35abc3cec', '6de7a0ce-87f1-422f-b670-e18001d9362c', '16520063-a646-45fa-8529-4db32b26560d', '76fb9d46-42bf-41fa-9007-8fee382987af', '2dd5550c-c92b-41d4-9820-e9fb61072c8b', '58c0a95b-e709-4c10-862e-bb0a7105caca', 'accb87e6-fe6f-40f6-877a-4c2a8c878180', 'be7a06ce-5673-4512-92a2-9685099c22e0', '111ef802-6c21-4b92-8101-eb02f31b67fc', 'e24a38b9-04f4-4216-9b26-5b433f3ae032', '28ae4c8a-50c7-46ba-a1a2-075700707de4', '73dd82c2-d6eb-45ec-85dc-5708fdf28c39', 'cb9f0ff2-20e2-438b-b502-cfa5ac9f0fa8', '21c7a50f-ef8b-48cd-8603-78a6c595434e', '64f77198-060d-4c2d-af1e-cf9f9695cdb2', '29e8bd7f-501f-4beb-b9bf-715f905b10d2', '378ceb41-7ff1-4dcc-9fef-b05feff18475']\n",
      "Replacing 49 from 149 !\n",
      "D_relabeled_ 49\n",
      "selected_ids ['b10e9cbe-bd05-4236-a612-1cb9885f4f24', '13ae129e-48d0-4b85-bb20-dbff16fee881', '1288ea20-f491-4629-aba4-f5b117ff6e8f', 'dafd60a8-7728-43fa-bbd3-98926c9ca217', 'a73e9e95-18e7-47c7-a0ab-d67e459060d7', '228c7e99-243e-47bd-ae28-b413818adf9e', '111ef802-6c21-4b92-8101-eb02f31b67fc', '0455e7fb-5e4c-414b-89aa-8702b8693c44', '27f5763b-49a4-4198-9321-7dc35abc3cec', '18b2df5c-ba6b-450c-b750-07191aeece90', 'b2df2c28-27a0-4f65-98b3-3aa1213a6ef3', '51c3652b-b459-4b0d-bb49-e89d945b71b6', '6e22d2c6-d446-4777-a9ce-75def1cfe053', 'ce572563-8203-4146-93d6-7912866fcc0e', 'ddddfb61-8ad5-413d-bdb9-07d753c4fcdb', '21c7a50f-ef8b-48cd-8603-78a6c595434e', 'e8980b0e-8033-4ad8-b024-c8f2e51506f3', '2c1c268a-df50-48b2-a914-bac3e309dd55', '2a2b9090-cd71-460c-a5e4-b8d8b6a11ae5', '9d4389ef-c119-454e-bd32-2308e837264e', '604ae66f-7106-4e49-afd9-99273ea8d993', 'b4e2fa73-9354-4953-b564-c301473ab513', '78d62cd0-8cba-465e-80b7-aa5f34588ec0', '28ae4c8a-50c7-46ba-a1a2-075700707de4', '6029c668-fddf-40c0-a183-2b74ad4c248f', '8dd198fd-6544-45cc-8a48-d64b61783d52', '4db0eea6-da9a-4435-8885-b8318b7a5eef', '1829d2c0-d07f-40ca-9cae-338f0a2745e2', '4f4c8469-6e94-4008-a8ab-50924426e417', 'd88bcfc7-31e9-4d1a-bfe9-3670bb8cd842', 'cc6d8895-54e7-4903-9b5e-1b8b31d5d16a', '73dd82c2-d6eb-45ec-85dc-5708fdf28c39', '0eee8615-765e-4067-afff-eca3dddb2538', '00fa1d74-de84-48ab-a412-1c7d398b3b55', 'e231533e-e689-48d1-ae26-dc6ae43246ca', '791477b3-feb2-4823-b304-538e6de6b100', 'e671327d-b5de-4d99-9ca6-86fb4e0f5183', '3c3961da-19c2-4110-852f-860f197b844c', '76fb9d46-42bf-41fa-9007-8fee382987af', '79c37028-a59a-4f57-baa3-676985712856', 'fd9304ce-7711-4390-8891-d43c0389d18f', '0efd712d-b863-43e0-a2b7-9df3431d9593', '88eec7d9-d58f-46f0-a0fc-bae91a4cde75', '2bf56bfe-3ae1-482b-8b11-2fba3ce36c58', 'd876f867-c2c9-4cc8-88d9-9b7085274053', '60ef2a6a-eba4-440f-9a07-1ffe1809b70b', 'be7a06ce-5673-4512-92a2-9685099c22e0', '37795057-10fe-4c43-a846-cde7a68789a1', 'd6aeb2be-25ac-4571-85ff-de3fb5102ea6']\n",
      "dict_keys(['b10e9cbe-bd05-4236-a612-1cb9885f4f24', '13ae129e-48d0-4b85-bb20-dbff16fee881', '1288ea20-f491-4629-aba4-f5b117ff6e8f', 'dafd60a8-7728-43fa-bbd3-98926c9ca217', 'a73e9e95-18e7-47c7-a0ab-d67e459060d7', '228c7e99-243e-47bd-ae28-b413818adf9e', '111ef802-6c21-4b92-8101-eb02f31b67fc', '0455e7fb-5e4c-414b-89aa-8702b8693c44', '27f5763b-49a4-4198-9321-7dc35abc3cec', '18b2df5c-ba6b-450c-b750-07191aeece90', 'b2df2c28-27a0-4f65-98b3-3aa1213a6ef3', '51c3652b-b459-4b0d-bb49-e89d945b71b6', '6e22d2c6-d446-4777-a9ce-75def1cfe053', 'ce572563-8203-4146-93d6-7912866fcc0e', 'ddddfb61-8ad5-413d-bdb9-07d753c4fcdb', '21c7a50f-ef8b-48cd-8603-78a6c595434e', 'e8980b0e-8033-4ad8-b024-c8f2e51506f3', '2c1c268a-df50-48b2-a914-bac3e309dd55', '2a2b9090-cd71-460c-a5e4-b8d8b6a11ae5', '9d4389ef-c119-454e-bd32-2308e837264e', '604ae66f-7106-4e49-afd9-99273ea8d993', 'b4e2fa73-9354-4953-b564-c301473ab513', '78d62cd0-8cba-465e-80b7-aa5f34588ec0', '28ae4c8a-50c7-46ba-a1a2-075700707de4', '6029c668-fddf-40c0-a183-2b74ad4c248f', '8dd198fd-6544-45cc-8a48-d64b61783d52', '4db0eea6-da9a-4435-8885-b8318b7a5eef', '1829d2c0-d07f-40ca-9cae-338f0a2745e2', '4f4c8469-6e94-4008-a8ab-50924426e417', 'd88bcfc7-31e9-4d1a-bfe9-3670bb8cd842', 'cc6d8895-54e7-4903-9b5e-1b8b31d5d16a', '73dd82c2-d6eb-45ec-85dc-5708fdf28c39', '0eee8615-765e-4067-afff-eca3dddb2538', '00fa1d74-de84-48ab-a412-1c7d398b3b55', 'e231533e-e689-48d1-ae26-dc6ae43246ca', '791477b3-feb2-4823-b304-538e6de6b100', 'e671327d-b5de-4d99-9ca6-86fb4e0f5183', '3c3961da-19c2-4110-852f-860f197b844c', '76fb9d46-42bf-41fa-9007-8fee382987af', '79c37028-a59a-4f57-baa3-676985712856', 'fd9304ce-7711-4390-8891-d43c0389d18f', '0efd712d-b863-43e0-a2b7-9df3431d9593', '88eec7d9-d58f-46f0-a0fc-bae91a4cde75', '2bf56bfe-3ae1-482b-8b11-2fba3ce36c58', 'd876f867-c2c9-4cc8-88d9-9b7085274053', '60ef2a6a-eba4-440f-9a07-1ffe1809b70b', 'be7a06ce-5673-4512-92a2-9685099c22e0', '37795057-10fe-4c43-a846-cde7a68789a1', 'd6aeb2be-25ac-4571-85ff-de3fb5102ea6'])\n",
      "point ids 49\n",
      "Removed: 49 Filled: 49\n",
      "TOOK 321.9343020915985 seconds\n",
      "***\n",
      "RUN: 1\n"
     ]
    },
    {
     "name": "stdout",
     "output_type": "stream",
     "text": [
      "Epoch 1/100\n",
      "5/5 [==============================] - 25s 6s/step - loss: 0.4691 - dice_coef: 0.1394 - val_loss: 0.7466 - val_dice_coef: 0.0513\n"
     ]
    },
    {
     "name": "stderr",
     "output_type": "stream",
     "text": [
      "/home/ryan.zurrin001/miniconda3/envs/O/lib/python3.9/site-packages/tensorflow/python/keras/utils/generic_utils.py:494: CustomMaskWarning: Custom mask layers require a config and must override get_config. When loading, the custom mask layer must be passed to the custom_objects argument.\n",
      "  warnings.warn('Custom mask layers require a config and must override '\n"
     ]
    },
    {
     "name": "stdout",
     "output_type": "stream",
     "text": [
      "Epoch 2/100\n",
      "5/5 [==============================] - 5s 1s/step - loss: 0.4689 - dice_coef: 0.1393 - val_loss: 0.7300 - val_dice_coef: 0.0554\n"
     ]
    },
    {
     "name": "stderr",
     "output_type": "stream",
     "text": [
      "/home/ryan.zurrin001/miniconda3/envs/O/lib/python3.9/site-packages/tensorflow/python/keras/utils/generic_utils.py:494: CustomMaskWarning: Custom mask layers require a config and must override get_config. When loading, the custom mask layer must be passed to the custom_objects argument.\n",
      "  warnings.warn('Custom mask layers require a config and must override '\n"
     ]
    },
    {
     "name": "stdout",
     "output_type": "stream",
     "text": [
      "Epoch 3/100\n",
      "5/5 [==============================] - 5s 1s/step - loss: 0.4691 - dice_coef: 0.1398 - val_loss: 0.7176 - val_dice_coef: 0.0591\n"
     ]
    },
    {
     "name": "stderr",
     "output_type": "stream",
     "text": [
      "/home/ryan.zurrin001/miniconda3/envs/O/lib/python3.9/site-packages/tensorflow/python/keras/utils/generic_utils.py:494: CustomMaskWarning: Custom mask layers require a config and must override get_config. When loading, the custom mask layer must be passed to the custom_objects argument.\n",
      "  warnings.warn('Custom mask layers require a config and must override '\n"
     ]
    },
    {
     "name": "stdout",
     "output_type": "stream",
     "text": [
      "Epoch 4/100\n",
      "5/5 [==============================] - 5s 1s/step - loss: 0.4689 - dice_coef: 0.1392 - val_loss: 0.7077 - val_dice_coef: 0.0625\n"
     ]
    },
    {
     "name": "stderr",
     "output_type": "stream",
     "text": [
      "/home/ryan.zurrin001/miniconda3/envs/O/lib/python3.9/site-packages/tensorflow/python/keras/utils/generic_utils.py:494: CustomMaskWarning: Custom mask layers require a config and must override get_config. When loading, the custom mask layer must be passed to the custom_objects argument.\n",
      "  warnings.warn('Custom mask layers require a config and must override '\n"
     ]
    },
    {
     "name": "stdout",
     "output_type": "stream",
     "text": [
      "Epoch 5/100\n",
      "5/5 [==============================] - 5s 1s/step - loss: 0.4690 - dice_coef: 0.1397 - val_loss: 0.6991 - val_dice_coef: 0.0657\n"
     ]
    },
    {
     "name": "stderr",
     "output_type": "stream",
     "text": [
      "/home/ryan.zurrin001/miniconda3/envs/O/lib/python3.9/site-packages/tensorflow/python/keras/utils/generic_utils.py:494: CustomMaskWarning: Custom mask layers require a config and must override get_config. When loading, the custom mask layer must be passed to the custom_objects argument.\n",
      "  warnings.warn('Custom mask layers require a config and must override '\n"
     ]
    },
    {
     "name": "stdout",
     "output_type": "stream",
     "text": [
      "Epoch 6/100\n",
      "5/5 [==============================] - 5s 1s/step - loss: 0.4690 - dice_coef: 0.1397 - val_loss: 0.6916 - val_dice_coef: 0.0686\n"
     ]
    },
    {
     "name": "stderr",
     "output_type": "stream",
     "text": [
      "/home/ryan.zurrin001/miniconda3/envs/O/lib/python3.9/site-packages/tensorflow/python/keras/utils/generic_utils.py:494: CustomMaskWarning: Custom mask layers require a config and must override get_config. When loading, the custom mask layer must be passed to the custom_objects argument.\n",
      "  warnings.warn('Custom mask layers require a config and must override '\n"
     ]
    },
    {
     "name": "stdout",
     "output_type": "stream",
     "text": [
      "Model saved to: /tmp/tmpox3_eamhGP2/vnet_1vnet_model\n",
      "History saved to: /tmp/tmpox3_eamhGP2/vnet_history_1.pkl\n",
      "Testing the classifier...\n",
      "Testing the discriminator...\n",
      "10/10 [==============================] - 0s 20ms/step - loss: 0.0000e+00 - accuracy: 1.0000\n",
      "Found 145 machine labels.\n",
      "Machine labels [  3   4   6   9  10  14  15  16  17  19  20  21  23  25  30  31  35  38\n",
      "  39  40  41  42  43  44  48  49  50  51  52  55  56  58  64  65  67  68\n",
      "  69  81  86  87  88  89  91  93  94  95  97  98  99 101 111 113 118 119\n",
      " 120 123 124 125 126 127 128 131 132 135 136 141 144 145 146 147 148 151\n",
      " 154 155 157 158 159 160 162 163 164 168 173 174 176 179 181 182 183 185\n",
      " 186 189 190 191 192 194 197 198 199 200 203 207 209 211 213 216 219 220\n",
      " 222 229 232 233 235 243 245 246 247 248 249 250 251 252 256 258 260 262\n",
      " 263 265 267 269 271 273 274 275 276 280 281 282 283 284 285 289 291 295\n",
      " 297]\n",
      "D_ids ['180159d1-fb14-428d-8a6f-51efd51f851e', 'cedcc74b-050f-421f-99cd-d6aa82d82f4c', 'b5e9c4f0-17dc-4c69-86ca-d7f00a79a011', 'ed21b1ec-7269-4e27-9dd3-3c5ab02fa7bb', 'bfed3237-4852-4faf-b418-3d3cdb77a7ef', '989fc0df-27aa-47bb-b966-335ec6e87408', '0a379d7f-e8c1-4a41-a8cf-4291bb0bda17', 'ad37f602-069d-4ce3-9cc0-0042bcc43a7b', '47520afa-77bb-4167-bafc-baaceb2b3c0a', '84210bc2-5092-4d87-be98-2af947cbca50', '80e88f55-ade5-4cb3-a0b1-db74102fd387', '37ff3f20-b339-46a2-b466-0fdbd150c382', 'ded1797a-aa15-4b69-ada2-aba779b69394', 'f99f86bc-e5af-4065-9af3-8ed327ce50ca', '6dcc05ca-9967-40e8-ab9f-83f578dca68c', '879303ce-8406-4c4b-a45c-5649daae1926', 'dd6247b8-6390-471c-b791-dc5d0795bed6', 'd4a3ccfc-d712-4346-b8ed-4f886e480d16', '9bcbacd1-28a3-44cb-af7d-18c4a78f59cd', '1b2d18ee-401f-42d9-86a5-aad7ecec948f', '8b3ddf9b-b999-410f-9468-16d394ba64ce', 'b9822bde-f029-4091-b58e-f63594014f02', '94907733-f7ff-42ef-91f8-b40982f3a9c6', 'be63ac13-a079-4951-a470-8db957b82f66', 'e18cce4a-251f-4da7-977f-df2e3e6ba6f7', '64e62118-2bc1-4b04-a7b3-a8fdc489b3c4', 'e07292b6-1eb7-4c30-a567-0f8b60b0dee7', '4b765562-c3f7-4397-a8e0-44fba46cddf8', '26809005-b4f2-4b9a-9c94-fc26640d1a20', '538fb8a2-a1e6-4a56-b153-9240205235b7', '2319738e-fdb3-4091-a381-a1e4f1fda0a6', '9edcf477-74b8-4a1b-a78e-213f95aa2cce', 'd3d9778f-ed00-4e6b-8489-6cba1b3bfefd', '3e65f8e0-61ee-4b1e-8151-cf2d7c37ee53', 'c6b76667-b63c-4db3-8014-ac20187529ef', '3bb14137-3b50-4cfd-861a-bd941d599e5a', 'f44d5ba8-7e04-4d95-8679-c32a21dad0a3', '99db8279-937c-4a90-adb6-6a5d12c40fbd', '98f144e0-63a2-4ed8-9367-bf88d27a56a0', 'e56acad2-43d0-4b3a-ac0f-5811c7ea25c2', '812d5239-60c4-4015-af50-af50c080df81', 'ec4e3100-f171-479f-a9c8-804ca5dfc159', '778aa3f2-183b-42dc-b229-4dcc74f6c376', '93d0b9a3-6648-4aac-9ee6-84cb1ccac74b', 'ce064104-7d63-4ded-a032-3b2efa3a522c', 'e5a692d8-95b4-425f-9fd1-21e3d272599b', '186b0079-44bf-459c-9484-2ad1fea27c5d', '9384a2dd-e3c7-4c49-8397-bc1940207942', '66833d1e-0c58-429b-aa69-24bf868a43ba', '189a6e58-94cd-421b-b237-59e89f960a4f', '823bbe64-3a47-4202-9bb2-bb0f4451b13e', '7578c15c-6801-40b2-b630-e187ce1a5a2d', 'faeb641e-a537-493a-a992-110cc4a2ae68', '3ec06291-0a56-4157-baf5-684736905071', 'e2085ce2-b611-480b-8457-919cc767f18c', 'aae9e8e4-daac-4d5f-bc3c-8eb4dba55909', '92d9424f-c7d2-485b-81fd-51864ab70fe7', 'e3e0c39e-1163-49f4-8a74-baf039931734', 'bb298920-2f8f-4985-81dd-41cbd3567143', 'f23375a2-e764-43a0-a45f-94c87702392e', '854baf7e-97aa-4a00-933d-f5720232aaea', '2d688e9e-c0c9-4a24-aa65-0f50639b6826', 'e80dde14-bdb1-4091-9bfa-53f0c5125439', '381f6d37-8243-45ea-a1f8-5f238b70ba39', '39cfe339-1e27-4fae-8346-61987dd98088', 'bdfb0d47-fd53-4ef6-b746-144e48ff1e3f', '4303c1b4-a8ab-4ced-8bd4-303e5f1946fe', '2b4e7c2b-0c6b-4f50-bae9-40cfc835958d', '507861b3-f159-48f2-a2a2-7e744df0affc', '8523e8de-62ee-4d62-9703-270a31d9fa40', '6f4b8452-d412-4e63-bfaa-d158f87a5f96', '82369441-8894-46e5-814b-0c7b2a66c4fe', '6f073818-fa51-4194-8fb9-89dd8e86f931', '8ceda318-cb4f-4296-8ad2-d86961c37126', '08559591-b96e-4f33-9837-9b0b4911769e', 'c7c08560-b462-4343-847e-daeffc1474ab', 'c6c42879-616f-46e2-a39e-11292832c6c0', '248436d7-44af-40cd-8b48-3df529af7858', '587f418b-ce75-405c-8a8e-f66789046a66', 'd6ffed96-17ca-45bc-a977-06616817c177', 'e2e0cfc1-4a81-4675-b381-d6c55af6bf6a', '1aec79ed-de64-4e1f-95ff-692ceb5a6e41', '519c1d9c-7e8a-4f9e-988e-6059dd78b413', '9e270ab9-e780-4083-b073-9dc30b3c686c', 'b37cd8d9-9ee9-496d-ad25-e7c7b841db48', '400800d1-e9e4-4763-a40f-e59a3e14b48d', '5ebf4a53-ca7b-4188-b814-1aecbc7b52cf', '8daab501-c27e-4f05-9a34-c89795eb68b7', '5cb88d6b-30d0-4ab7-867e-e6373f87f6bb', 'b60057d1-d760-4779-8fe1-45268d36243e', 'da74cbf5-c90c-46a5-ae9a-489633ff764c', 'c2c2497e-5f6d-40cb-a69b-29d62c278bc9', '9beaee6e-d4fd-4bea-9ac2-eba401344a1d', 'be671c0d-d2f1-43af-b0ce-39b1b3e2db62', '061562f7-bb8b-4e0d-a11b-ba27c44678f2', 'bb70ad3d-6cf6-4464-bab9-c79f2054e9ba', 'abcfc986-fed0-403c-9345-445e2e59b077', '1249c202-b59d-494b-9241-e6a7104d8155', '40f82e1e-55aa-47d0-8578-7cdf8abd163e', 'e49fcd7d-4b30-4540-90dc-d9357d306619', '2df9fede-8e82-465a-80a1-eeb6fe677dce', '271be517-87c6-436e-a8e5-c644fd1388e4', '41969d49-e370-4695-8d93-3f20105fffc7', '9b804498-10c6-431c-9f3c-45d8ef5b87fa', '57e13be1-e8c9-4ffd-9cb3-c4791221d1bb', '400c1b24-d647-430e-9a21-6fb737770825', '5774715d-9437-4be3-99a1-9dfb4c349f34', '61961810-1313-4672-be63-764e1f3e6bbc', '77492118-93cd-46c8-981c-b67ad7bd2fe5', '2968c0c4-b0b6-4451-9bf7-05b0c26fc1f6', 'e277dfd0-3ee2-47a8-909c-b5bfa3fca0b3', '98fdf3a3-9010-4bb8-8018-6d7b484d4627', 'ff21de11-b973-4ca6-8e46-8bfdf4f37582', '252a604e-f765-41e7-84e8-9ee60559c897', 'a0ef4916-d9d9-40c1-9214-8c3395f816b4', '53263388-e03a-4f1f-86b4-5e507c185fc2', 'd5407d5c-05fb-4f11-9e13-bd2ea7e4172a', '99da9b51-27b0-4407-9e8c-844b5cc46e24', '5c262c37-1760-49b1-a72b-544e9d8ea979', 'ba3f6a9a-3553-42ca-a2e7-88cda157bdc2', '660b75f1-4c2e-44e4-8eb5-7e572488b4f8', 'c10f702f-072b-410a-9a88-b2dfa96ac2bc', 'e7dcba95-c5d7-4b10-9bc2-462511206160', '152a6987-cd39-4354-95d0-dde336db26a3', 'e02c20a7-7819-4546-b139-660c8e93d21e', 'b1a43ef7-b947-4c3b-b2b8-a0b3deb51c21', 'd86144ad-8382-45d3-95a8-819f5080593d', '15ba6f7e-32f7-46ef-99a9-29423b94dcb9', '872e1c6f-b46f-44b4-8c53-ffb9ad4cf3e7', '071a05f7-8082-447a-b482-d9987b78195e', '15eff38a-1e31-4981-b5a5-9e5041dc7776', '94907159-e1df-4bb5-b2ab-05e33c63e78d', '08476b69-1ed1-4ed6-85ab-c35ebea88bb1', 'e7c68a8e-5f86-42f6-84b7-86151faebb31', '6a6d3a5a-9b93-4fc2-93c0-c7a490d611b1', '89919463-dec1-47ab-a2d0-52922a85ed22', 'f5029006-715e-4baf-8077-a9a467696853', '201bd47c-63ff-4fb7-8cc5-678185f9bfa2', '56229401-3f10-4e5c-9f90-15dea6ba5b70', '65d4ad6a-c43d-4a95-8637-3fe915d89a6e', 'd3856ea6-a536-431d-a35a-01df1d92f2df', '72cd9530-6e02-4372-a1ab-83d79c1aa141', '0c340a0d-f1bb-4134-a399-743c2de117ac', '4f3fd96a-cbe8-4076-b1fa-ffa665d3c59d', '0b8d4dde-ae80-4141-9fa1-5c1465c74b42']\n",
      "Replacing 48 from 145 !\n",
      "D_relabeled_ 48\n",
      "selected_ids ['8daab501-c27e-4f05-9a34-c89795eb68b7', '9edcf477-74b8-4a1b-a78e-213f95aa2cce', 'e7dcba95-c5d7-4b10-9bc2-462511206160', '189a6e58-94cd-421b-b237-59e89f960a4f', 'ad37f602-069d-4ce3-9cc0-0042bcc43a7b', '3ec06291-0a56-4157-baf5-684736905071', 'd86144ad-8382-45d3-95a8-819f5080593d', 'b60057d1-d760-4779-8fe1-45268d36243e', '381f6d37-8243-45ea-a1f8-5f238b70ba39', 'bfed3237-4852-4faf-b418-3d3cdb77a7ef', '80e88f55-ade5-4cb3-a0b1-db74102fd387', '271be517-87c6-436e-a8e5-c644fd1388e4', '3e65f8e0-61ee-4b1e-8151-cf2d7c37ee53', 'd5407d5c-05fb-4f11-9e13-bd2ea7e4172a', '4f3fd96a-cbe8-4076-b1fa-ffa665d3c59d', 'cedcc74b-050f-421f-99cd-d6aa82d82f4c', '778aa3f2-183b-42dc-b229-4dcc74f6c376', '5ebf4a53-ca7b-4188-b814-1aecbc7b52cf', '15ba6f7e-32f7-46ef-99a9-29423b94dcb9', '6f4b8452-d412-4e63-bfaa-d158f87a5f96', '94907733-f7ff-42ef-91f8-b40982f3a9c6', 'ce064104-7d63-4ded-a032-3b2efa3a522c', '660b75f1-4c2e-44e4-8eb5-7e572488b4f8', 'e56acad2-43d0-4b3a-ac0f-5811c7ea25c2', '8ceda318-cb4f-4296-8ad2-d86961c37126', 'c6c42879-616f-46e2-a39e-11292832c6c0', 'd3856ea6-a536-431d-a35a-01df1d92f2df', '57e13be1-e8c9-4ffd-9cb3-c4791221d1bb', '84210bc2-5092-4d87-be98-2af947cbca50', '98f144e0-63a2-4ed8-9367-bf88d27a56a0', 'f44d5ba8-7e04-4d95-8679-c32a21dad0a3', 'b5e9c4f0-17dc-4c69-86ca-d7f00a79a011', '9b804498-10c6-431c-9f3c-45d8ef5b87fa', '72cd9530-6e02-4372-a1ab-83d79c1aa141', 'be671c0d-d2f1-43af-b0ce-39b1b3e2db62', '2d688e9e-c0c9-4a24-aa65-0f50639b6826', '872e1c6f-b46f-44b4-8c53-ffb9ad4cf3e7', '93d0b9a3-6648-4aac-9ee6-84cb1ccac74b', '507861b3-f159-48f2-a2a2-7e744df0affc', 'abcfc986-fed0-403c-9345-445e2e59b077', '2df9fede-8e82-465a-80a1-eeb6fe677dce', 'aae9e8e4-daac-4d5f-bc3c-8eb4dba55909', '2968c0c4-b0b6-4451-9bf7-05b0c26fc1f6', '587f418b-ce75-405c-8a8e-f66789046a66', '6f073818-fa51-4194-8fb9-89dd8e86f931', '92d9424f-c7d2-485b-81fd-51864ab70fe7', 'ded1797a-aa15-4b69-ada2-aba779b69394', '989fc0df-27aa-47bb-b966-335ec6e87408']\n",
      "dict_keys(['8daab501-c27e-4f05-9a34-c89795eb68b7', '9edcf477-74b8-4a1b-a78e-213f95aa2cce', 'e7dcba95-c5d7-4b10-9bc2-462511206160', '189a6e58-94cd-421b-b237-59e89f960a4f', 'ad37f602-069d-4ce3-9cc0-0042bcc43a7b', '3ec06291-0a56-4157-baf5-684736905071', 'd86144ad-8382-45d3-95a8-819f5080593d', 'b60057d1-d760-4779-8fe1-45268d36243e', '381f6d37-8243-45ea-a1f8-5f238b70ba39', 'bfed3237-4852-4faf-b418-3d3cdb77a7ef', '80e88f55-ade5-4cb3-a0b1-db74102fd387', '271be517-87c6-436e-a8e5-c644fd1388e4', '3e65f8e0-61ee-4b1e-8151-cf2d7c37ee53', 'd5407d5c-05fb-4f11-9e13-bd2ea7e4172a', '4f3fd96a-cbe8-4076-b1fa-ffa665d3c59d', 'cedcc74b-050f-421f-99cd-d6aa82d82f4c', '778aa3f2-183b-42dc-b229-4dcc74f6c376', '5ebf4a53-ca7b-4188-b814-1aecbc7b52cf', '15ba6f7e-32f7-46ef-99a9-29423b94dcb9', '6f4b8452-d412-4e63-bfaa-d158f87a5f96', '94907733-f7ff-42ef-91f8-b40982f3a9c6', 'ce064104-7d63-4ded-a032-3b2efa3a522c', '660b75f1-4c2e-44e4-8eb5-7e572488b4f8', 'e56acad2-43d0-4b3a-ac0f-5811c7ea25c2', '8ceda318-cb4f-4296-8ad2-d86961c37126', 'c6c42879-616f-46e2-a39e-11292832c6c0', 'd3856ea6-a536-431d-a35a-01df1d92f2df', '57e13be1-e8c9-4ffd-9cb3-c4791221d1bb', '84210bc2-5092-4d87-be98-2af947cbca50', '98f144e0-63a2-4ed8-9367-bf88d27a56a0', 'f44d5ba8-7e04-4d95-8679-c32a21dad0a3', 'b5e9c4f0-17dc-4c69-86ca-d7f00a79a011', '9b804498-10c6-431c-9f3c-45d8ef5b87fa', '72cd9530-6e02-4372-a1ab-83d79c1aa141', 'be671c0d-d2f1-43af-b0ce-39b1b3e2db62', '2d688e9e-c0c9-4a24-aa65-0f50639b6826', '872e1c6f-b46f-44b4-8c53-ffb9ad4cf3e7', '93d0b9a3-6648-4aac-9ee6-84cb1ccac74b', '507861b3-f159-48f2-a2a2-7e744df0affc', 'abcfc986-fed0-403c-9345-445e2e59b077', '2df9fede-8e82-465a-80a1-eeb6fe677dce', 'aae9e8e4-daac-4d5f-bc3c-8eb4dba55909', '2968c0c4-b0b6-4451-9bf7-05b0c26fc1f6', '587f418b-ce75-405c-8a8e-f66789046a66', '6f073818-fa51-4194-8fb9-89dd8e86f931', '92d9424f-c7d2-485b-81fd-51864ab70fe7', 'ded1797a-aa15-4b69-ada2-aba779b69394', '989fc0df-27aa-47bb-b966-335ec6e87408'])\n",
      "point ids 48\n",
      "Removed: 48 Filled: 48\n",
      "TOOK 170.3201744556427 seconds\n",
      "***\n",
      "RUN: 2\n"
     ]
    },
    {
     "name": "stdout",
     "output_type": "stream",
     "text": [
      "Epoch 1/100\n",
      "6/6 [==============================] - 19s 4s/step - loss: 0.4688 - dice_coef: 0.1376 - val_loss: 0.6832 - val_dice_coef: 0.0718\n"
     ]
    },
    {
     "name": "stderr",
     "output_type": "stream",
     "text": [
      "/home/ryan.zurrin001/miniconda3/envs/O/lib/python3.9/site-packages/tensorflow/python/keras/utils/generic_utils.py:494: CustomMaskWarning: Custom mask layers require a config and must override get_config. When loading, the custom mask layer must be passed to the custom_objects argument.\n",
      "  warnings.warn('Custom mask layers require a config and must override '\n"
     ]
    },
    {
     "name": "stdout",
     "output_type": "stream",
     "text": [
      "Epoch 2/100\n",
      "6/6 [==============================] - 5s 931ms/step - loss: 0.4562 - dice_coef: 0.1521 - val_loss: 0.6574 - val_dice_coef: 0.1015\n"
     ]
    },
    {
     "name": "stderr",
     "output_type": "stream",
     "text": [
      "/home/ryan.zurrin001/miniconda3/envs/O/lib/python3.9/site-packages/tensorflow/python/keras/utils/generic_utils.py:494: CustomMaskWarning: Custom mask layers require a config and must override get_config. When loading, the custom mask layer must be passed to the custom_objects argument.\n",
      "  warnings.warn('Custom mask layers require a config and must override '\n"
     ]
    },
    {
     "name": "stdout",
     "output_type": "stream",
     "text": [
      "Epoch 3/100\n",
      "6/6 [==============================] - 6s 976ms/step - loss: 0.4214 - dice_coef: 0.1767 - val_loss: 0.6475 - val_dice_coef: 0.1044\n"
     ]
    },
    {
     "name": "stderr",
     "output_type": "stream",
     "text": [
      "/home/ryan.zurrin001/miniconda3/envs/O/lib/python3.9/site-packages/tensorflow/python/keras/utils/generic_utils.py:494: CustomMaskWarning: Custom mask layers require a config and must override get_config. When loading, the custom mask layer must be passed to the custom_objects argument.\n",
      "  warnings.warn('Custom mask layers require a config and must override '\n"
     ]
    },
    {
     "name": "stdout",
     "output_type": "stream",
     "text": [
      "Epoch 4/100\n",
      "6/6 [==============================] - 5s 937ms/step - loss: 0.4215 - dice_coef: 0.1769 - val_loss: 0.6378 - val_dice_coef: 0.1070\n"
     ]
    },
    {
     "name": "stderr",
     "output_type": "stream",
     "text": [
      "/home/ryan.zurrin001/miniconda3/envs/O/lib/python3.9/site-packages/tensorflow/python/keras/utils/generic_utils.py:494: CustomMaskWarning: Custom mask layers require a config and must override get_config. When loading, the custom mask layer must be passed to the custom_objects argument.\n",
      "  warnings.warn('Custom mask layers require a config and must override '\n"
     ]
    },
    {
     "name": "stdout",
     "output_type": "stream",
     "text": [
      "Epoch 5/100\n",
      "6/6 [==============================] - 5s 924ms/step - loss: 0.4215 - dice_coef: 0.1750 - val_loss: 0.6284 - val_dice_coef: 0.1095\n"
     ]
    },
    {
     "name": "stderr",
     "output_type": "stream",
     "text": [
      "/home/ryan.zurrin001/miniconda3/envs/O/lib/python3.9/site-packages/tensorflow/python/keras/utils/generic_utils.py:494: CustomMaskWarning: Custom mask layers require a config and must override get_config. When loading, the custom mask layer must be passed to the custom_objects argument.\n",
      "  warnings.warn('Custom mask layers require a config and must override '\n"
     ]
    },
    {
     "name": "stdout",
     "output_type": "stream",
     "text": [
      "Model saved to: /tmp/tmpox3_eamhGP2/vnet_2vnet_model\n",
      "History saved to: /tmp/tmpox3_eamhGP2/vnet_history_2.pkl\n",
      "Testing the classifier...\n",
      "Testing the discriminator...\n",
      "10/10 [==============================] - 0s 18ms/step - loss: 0.0000e+00 - accuracy: 1.0000\n",
      "Found 158 machine labels.\n",
      "Machine labels [  0   1   5   8   9  14  15  16  19  20  21  22  23  26  28  30  31  34\n",
      "  36  37  38  43  44  46  47  49  50  51  52  54  55  60  61  63  65  66\n",
      "  67  68  70  72  73  76  80  82  83  85  87  88  89  91  93  94  95  98\n",
      " 100 101 102 105 106 110 111 112 113 114 115 117 118 123 124 126 128 129\n",
      " 130 133 135 136 137 138 140 141 143 144 146 150 155 156 157 158 159 161\n",
      " 163 171 172 173 175 176 177 181 182 183 187 191 192 195 196 198 199 200\n",
      " 202 203 204 206 208 210 212 213 214 217 220 222 224 226 227 228 229 230\n",
      " 231 232 234 235 236 238 239 240 245 248 249 250 253 254 255 257 258 260\n",
      " 265 270 271 274 275 276 277 278 279 286 289 292 293 297]\n",
      "D_ids ['432c696c-b067-4a5d-8dde-4ebf06c47885', '32e897da-8e69-4162-902a-bd48ce66f8c1', '6c439daf-bb45-446a-8cfe-8276e6a930dd', 'a25dd119-cd51-4745-8a24-ad1063956ada', '36b72b64-eb81-4e22-a026-617b120db91a', 'f23375a2-e764-43a0-a45f-94c87702392e', 'aaa59754-afea-4c16-bfd1-02580430da97', '41969d49-e370-4695-8d93-3f20105fffc7', '8ee5aecb-1f03-4224-aafc-96e34319d679', 'a5f87158-3c7a-4090-9281-1415d9ec7e32', '3c2db1c9-c501-4693-8932-5fd2c0d03fe0', '8e93899f-5f28-42b6-bfb0-26b16e7af60f', '9c0dbf81-6c73-4330-a3b4-824e4267660f', 'a97d2d1d-8868-444d-b54d-9cb205311f47', '30fd9725-0ece-46ab-8ebc-113fdd6e7b9f', 'de958f42-6543-4cc2-b1f6-1570aefad4de', 'afb7d466-bddf-4892-b3ff-2489f8791ad1', 'cd8a03ba-09c9-4723-81a9-781f41401fd3', 'fe9d2176-372b-4327-87d0-36042ab59740', '96f45d4b-e4e3-42a6-b289-20e0616251f5', '59cefc08-1dc0-4f4c-aabf-a42268ba93d6', '48b2f862-4601-48ca-9fad-25eef0866889', '09ef0aac-6254-49da-98c5-650be865c26f', 'a8fd9c23-4996-44a0-8ea4-35c66612145a', '2319738e-fdb3-4091-a381-a1e4f1fda0a6', 'f41da4ad-2dda-4d62-ad16-3e0f0070dbd5', '112dd38d-c211-4640-8d20-7a5649409296', '804cbec6-073f-4e97-9270-59334aad8319', 'b8a0267c-f566-4b7a-8068-e8966bd17393', '6fedfc7c-6133-413d-9ca8-93dd0b0fb9d1', 'b3f268e8-e69f-4f64-bd40-f94c2e2fcb05', '637ee1a5-f00b-4451-87f9-4963e669260c', '3fbe27fb-a7e2-4854-99be-07c6249e4612', 'bb1001d6-769a-4122-a637-a970a98b8161', '879303ce-8406-4c4b-a45c-5649daae1926', '1a70d4cb-7980-4d5b-8c03-1baf6fd5a09e', 'badb509b-fb86-4a50-a3b6-9bdcb8ae93dc', '1a47fe63-e059-44ea-b13b-116e693612a0', 'cad054ac-0c54-4838-93d3-edf71289baec', '400c1b24-d647-430e-9a21-6fb737770825', '93f961c1-7b0d-4f49-8282-6b26855feda6', '4936508f-1ee5-441c-b8f2-4aa1b01bdefd', 'aa994c47-7bf0-42fc-b8c8-4c7dfc47532a', '1e358e8b-57ed-4ff2-a783-7ec014dcd77c', '5ffe7df1-8ada-4114-ab42-0c12f2c68c1a', '74a4bb93-cdbd-4b08-affc-3e74eb9331c9', '18005dc3-33ad-4bad-b1a7-2693b39c6025', '69afb299-153f-4452-aee8-3c7e34f36f2b', 'a41cba38-5177-4f4d-848c-97fa4918dfcf', 'ff56cbf1-b0dc-44eb-b653-55e6056aa680', '1b2d18ee-401f-42d9-86a5-aad7ecec948f', '51b6a0d5-f271-41c5-9380-6af05378079f', 'f6a57641-3bce-486b-985a-1f4bee76b07c', 'f0bfe586-b032-45f0-a3c0-d390ad11c1ff', '811e276d-eb7e-415f-9e4b-fe0e59cf14f9', '04b5b966-baec-4938-aa6b-d6b0f2362ed7', '87c4844c-930f-473d-aef5-2f6b339c9f39', 'f3b6664c-3843-4989-847c-d6a9c7d61642', 'a07a8dde-c6d2-4e83-b4a9-ef9cdfab7900', '35ea0d2b-d0d9-43c3-ab7a-9a961bfeb92d', '0a3fe497-bea7-4367-b488-4d40139c3fca', '34aafd35-5c66-4a51-adaf-530a00e1e341', '7bde5b28-21a2-4c25-aff7-9bb5908940e7', 'a7181b1a-2843-40e0-bd03-b79dafdf2fc5', '6f452504-57d4-4df7-94b9-33dff322c83c', 'cb9f0ff2-20e2-438b-b502-cfa5ac9f0fa8', '5cd5503b-2d53-439c-a9be-8e4ab610562b', 'b36a87ca-5385-43ca-8aa4-95b22ff7fe0f', '8e9c92b0-72e8-4fb2-9b91-9ee33600447e', '65d4ad6a-c43d-4a95-8637-3fe915d89a6e', 'ac721683-79df-4fb3-bb77-ec3fb2e37b36', '9e13d142-d977-4420-96e7-bc0eb4332f58', '3aec7ddd-25e7-4089-a058-ed4cc420ae71', '01166a91-709a-4629-b064-44e59e702ca9', '5cb88d6b-30d0-4ab7-867e-e6373f87f6bb', '4ffab2fb-6aaf-49d4-80b0-2e962e757ac2', 'c12ea7f4-d747-4357-ab4e-7a61b8f13485', '8fc3a15e-c53f-4114-b80b-5115dece47e9', '9c5efebf-a1ac-4052-b615-7feb1a2b14ed', 'bfc983dc-6545-475a-9153-b6c2eca70117', '6910a2ed-5687-4c20-9cc9-afa72ca5c8e1', '3b51bed1-cd1b-40b6-8268-ae5adc09ef35', 'd5ff8ef7-8078-4a89-883a-c6dd980cd4ef', '5c262c37-1760-49b1-a72b-544e9d8ea979', '45025d91-a1f9-4a19-b59e-abc47c2a7a17', '8c051ad1-9770-41ff-8df6-ea3aaf928886', 'bc888a45-fe92-4e6d-bc79-14397c1899a3', '1624b9b4-d889-41f0-b49e-6f27f46f8dd2', 'c5dc4dfe-f060-422f-a2ca-e87f5727c2fc', '42f5d891-2109-4f34-978d-62c76a85d087', 'ff667ead-bed3-4e83-96cc-a6eeb80db98f', 'b736a819-df5d-466b-a7dd-9b8bc3c6b4cb', 'db2ff628-b1eb-48e1-b7ea-37017c7fb7d3', 'a81d8339-0046-4d4a-8035-cc37d8e83c82', '5cd263db-447f-48ed-8686-3b54e3000ead', '9534b85c-5dcc-4b2f-9523-8f225554a308', '3e011f33-7d1e-4bf2-acf7-bec570093e31', '3cdea552-251b-416b-9616-824defbcade5', '0d8c6202-910f-460a-a03a-2dea7323e7dc', '9aaff706-3c82-4964-9c4e-119ca7f7467c', '303ee210-146d-4e33-9e81-e7f6f22a2a2a', '2eab2e20-4453-46a5-9d54-5e17ac8b7b5c', '8983516e-0c37-4812-8801-5f44918822ce', '45d40771-4c87-4f3c-970d-cc9129d852ec', 'e8fdae5d-78bd-4872-8329-6656c88d5e95', 'b2903c26-e5d4-44a8-ad9d-2234fd69557b', '110fa885-1cf9-41cc-a14f-0fe6eda212b9', 'b715a3e3-c0af-4418-bf27-4b0769fe1ce0', 'ed66aa9d-e66d-4abc-b9f1-660b2ac217b9', '83c3dd23-d17f-47ce-9a75-8e14234e2c6e', '8ef3d20c-5c32-4428-befd-24477ea3bfde', '00a6562f-84da-44bd-b951-3d1974b1e980', '7c006b13-d023-4963-896d-003dea1d469f', '5d4489b5-1203-41f3-b25a-9610f3e99b84', '94907159-e1df-4bb5-b2ab-05e33c63e78d', 'fd4446b7-9776-4ee2-b21f-fb92e2cc2c0a', 'f205bbb6-b817-4264-aaac-9ccb8e25bf0e', '469cf540-dace-4473-87f9-d54919458db0', '486acd88-d2cc-4f1d-a71f-b4b3d12ddcc6', '3fe5025b-e75e-4234-bd65-d0b0a8375183', '83ad364d-8319-47a0-a407-b0039f0d6898', '29835329-5ab6-465c-9376-426b315f8913', '44c2ea78-57f0-4251-b860-41750b67ba39', '47e1a832-18ad-44bb-a656-9de790645b43', '327c2dc0-991a-43a7-9a23-d2fbf9e37a7f', 'ad9a8e70-8308-49d8-807b-907168503882', '6e9b711a-0c27-4406-b5ae-1f446545d9ea', '1da348c5-a39e-453e-8492-4c4e9df6cb52', '5af3fc85-41a9-4204-b3ba-d75239cc3237', '6a8ef4c2-a2d9-461a-8dfc-e9a8b24f3c85', '3fc004fb-953b-45ca-9011-62c945526e81', 'af00e86e-7d42-4505-8f6f-19e85671182f', '50c5c7bd-ddfa-4bcc-83a4-67834f4ca9c0', '2dd5550c-c92b-41d4-9820-e9fb61072c8b', '2b4e7c2b-0c6b-4f50-bae9-40cfc835958d', 'a60289de-2444-447e-b91a-f2604d3810d4', '2a25061d-d365-4030-b874-5b4bdecb5e18', 'd150c175-caa4-41da-9d71-ea1472bead75', '1eca5f91-2621-43bc-8967-d6a9a2a61f64', '8c95533e-84a3-4779-84ac-3713c3c74927', '218eb1f7-9609-471a-84fc-ee599f7437fe', '1f0ca480-2e47-4c65-b69d-3d502880c3f6', 'a17c702d-16be-4ddb-b0d2-28073488e3be', '77152150-c83f-4904-81b7-0a7be9e7104a', '3dd96296-87a9-4bae-be80-86f09e2c54d9', 'd5134acb-419e-419c-9ef6-68f4d165e4b0', '7bc9217f-d134-40f0-b042-90cdacd9dca9', '89ebcfd1-5b1d-412f-bd5f-c710dfc9819e', 'a01b07ac-1da3-487a-881e-1b6a74cb0810', 'c7a83615-e515-4d0a-8e61-061c85b5472e', '16fda158-1856-42e2-b9b2-d77b36324c4f', 'a2a7e048-e5ea-4fe6-84e7-cd12f4d49b01', '44497b4d-c602-470d-bbb4-47da2f5f2172', '3df343b8-cae3-4d4f-ae52-919bf9338a99', '6dcc05ca-9967-40e8-ab9f-83f578dca68c', '70d14ff1-4cb4-46d2-8e8d-bc93009050de', 'fbf99c0a-89eb-42e6-99e5-69508ab78a61', 'b6518949-ceb3-4443-aecb-a41b98e3ee3a']\n",
      "Replacing 52 from 158 !\n",
      "D_relabeled_ 52\n",
      "selected_ids ['400c1b24-d647-430e-9a21-6fb737770825', '0d8c6202-910f-460a-a03a-2dea7323e7dc', '2eab2e20-4453-46a5-9d54-5e17ac8b7b5c', 'd150c175-caa4-41da-9d71-ea1472bead75', '65d4ad6a-c43d-4a95-8637-3fe915d89a6e', 'fbf99c0a-89eb-42e6-99e5-69508ab78a61', 'ac721683-79df-4fb3-bb77-ec3fb2e37b36', '5cd263db-447f-48ed-8686-3b54e3000ead', 'a01b07ac-1da3-487a-881e-1b6a74cb0810', 'ad9a8e70-8308-49d8-807b-907168503882', '50c5c7bd-ddfa-4bcc-83a4-67834f4ca9c0', '8983516e-0c37-4812-8801-5f44918822ce', '45025d91-a1f9-4a19-b59e-abc47c2a7a17', 'cb9f0ff2-20e2-438b-b502-cfa5ac9f0fa8', 'a7181b1a-2843-40e0-bd03-b79dafdf2fc5', '3aec7ddd-25e7-4089-a058-ed4cc420ae71', 'f205bbb6-b817-4264-aaac-9ccb8e25bf0e', 'f23375a2-e764-43a0-a45f-94c87702392e', '1da348c5-a39e-453e-8492-4c4e9df6cb52', 'c7a83615-e515-4d0a-8e61-061c85b5472e', '0a3fe497-bea7-4367-b488-4d40139c3fca', 'f3b6664c-3843-4989-847c-d6a9c7d61642', '8fc3a15e-c53f-4114-b80b-5115dece47e9', '2a25061d-d365-4030-b874-5b4bdecb5e18', '218eb1f7-9609-471a-84fc-ee599f7437fe', 'c12ea7f4-d747-4357-ab4e-7a61b8f13485', 'c5dc4dfe-f060-422f-a2ca-e87f5727c2fc', 'b8a0267c-f566-4b7a-8068-e8966bd17393', 'afb7d466-bddf-4892-b3ff-2489f8791ad1', 'f0bfe586-b032-45f0-a3c0-d390ad11c1ff', '8c051ad1-9770-41ff-8df6-ea3aaf928886', '47e1a832-18ad-44bb-a656-9de790645b43', '6910a2ed-5687-4c20-9cc9-afa72ca5c8e1', 'd5ff8ef7-8078-4a89-883a-c6dd980cd4ef', '4ffab2fb-6aaf-49d4-80b0-2e962e757ac2', '00a6562f-84da-44bd-b951-3d1974b1e980', '8ee5aecb-1f03-4224-aafc-96e34319d679', '51b6a0d5-f271-41c5-9380-6af05378079f', '70d14ff1-4cb4-46d2-8e8d-bc93009050de', '6f452504-57d4-4df7-94b9-33dff322c83c', 'a41cba38-5177-4f4d-848c-97fa4918dfcf', 'b36a87ca-5385-43ca-8aa4-95b22ff7fe0f', '1a47fe63-e059-44ea-b13b-116e693612a0', '87c4844c-930f-473d-aef5-2f6b339c9f39', '9c0dbf81-6c73-4330-a3b4-824e4267660f', 'cad054ac-0c54-4838-93d3-edf71289baec', 'bc888a45-fe92-4e6d-bc79-14397c1899a3', '8e9c92b0-72e8-4fb2-9b91-9ee33600447e', '112dd38d-c211-4640-8d20-7a5649409296', '5cb88d6b-30d0-4ab7-867e-e6373f87f6bb', '1e358e8b-57ed-4ff2-a783-7ec014dcd77c', 'fd4446b7-9776-4ee2-b21f-fb92e2cc2c0a']\n",
      "dict_keys(['400c1b24-d647-430e-9a21-6fb737770825', '0d8c6202-910f-460a-a03a-2dea7323e7dc', '2eab2e20-4453-46a5-9d54-5e17ac8b7b5c', 'd150c175-caa4-41da-9d71-ea1472bead75', '65d4ad6a-c43d-4a95-8637-3fe915d89a6e', 'fbf99c0a-89eb-42e6-99e5-69508ab78a61', 'ac721683-79df-4fb3-bb77-ec3fb2e37b36', '5cd263db-447f-48ed-8686-3b54e3000ead', 'a01b07ac-1da3-487a-881e-1b6a74cb0810', 'ad9a8e70-8308-49d8-807b-907168503882', '50c5c7bd-ddfa-4bcc-83a4-67834f4ca9c0', '8983516e-0c37-4812-8801-5f44918822ce', '45025d91-a1f9-4a19-b59e-abc47c2a7a17', 'cb9f0ff2-20e2-438b-b502-cfa5ac9f0fa8', 'a7181b1a-2843-40e0-bd03-b79dafdf2fc5', '3aec7ddd-25e7-4089-a058-ed4cc420ae71', 'f205bbb6-b817-4264-aaac-9ccb8e25bf0e', 'f23375a2-e764-43a0-a45f-94c87702392e', '1da348c5-a39e-453e-8492-4c4e9df6cb52', 'c7a83615-e515-4d0a-8e61-061c85b5472e', '0a3fe497-bea7-4367-b488-4d40139c3fca', 'f3b6664c-3843-4989-847c-d6a9c7d61642', '8fc3a15e-c53f-4114-b80b-5115dece47e9', '2a25061d-d365-4030-b874-5b4bdecb5e18', '218eb1f7-9609-471a-84fc-ee599f7437fe', 'c12ea7f4-d747-4357-ab4e-7a61b8f13485', 'c5dc4dfe-f060-422f-a2ca-e87f5727c2fc', 'b8a0267c-f566-4b7a-8068-e8966bd17393', 'afb7d466-bddf-4892-b3ff-2489f8791ad1', 'f0bfe586-b032-45f0-a3c0-d390ad11c1ff', '8c051ad1-9770-41ff-8df6-ea3aaf928886', '47e1a832-18ad-44bb-a656-9de790645b43', '6910a2ed-5687-4c20-9cc9-afa72ca5c8e1', 'd5ff8ef7-8078-4a89-883a-c6dd980cd4ef', '4ffab2fb-6aaf-49d4-80b0-2e962e757ac2', '00a6562f-84da-44bd-b951-3d1974b1e980', '8ee5aecb-1f03-4224-aafc-96e34319d679', '51b6a0d5-f271-41c5-9380-6af05378079f', '70d14ff1-4cb4-46d2-8e8d-bc93009050de', '6f452504-57d4-4df7-94b9-33dff322c83c', 'a41cba38-5177-4f4d-848c-97fa4918dfcf', 'b36a87ca-5385-43ca-8aa4-95b22ff7fe0f', '1a47fe63-e059-44ea-b13b-116e693612a0', '87c4844c-930f-473d-aef5-2f6b339c9f39', '9c0dbf81-6c73-4330-a3b4-824e4267660f', 'cad054ac-0c54-4838-93d3-edf71289baec', 'bc888a45-fe92-4e6d-bc79-14397c1899a3', '8e9c92b0-72e8-4fb2-9b91-9ee33600447e', '112dd38d-c211-4640-8d20-7a5649409296', '5cb88d6b-30d0-4ab7-867e-e6373f87f6bb', '1e358e8b-57ed-4ff2-a783-7ec014dcd77c', 'fd4446b7-9776-4ee2-b21f-fb92e2cc2c0a'])\n",
      "point ids 52\n",
      "Removed: 52 Filled: 52\n",
      "TOOK 111.1050021648407 seconds\n",
      "***\n",
      "RUN: 3\n"
     ]
    },
    {
     "name": "stdout",
     "output_type": "stream",
     "text": [
      "Epoch 1/100\n",
      "7/7 [==============================] - 14s 2s/step - loss: 0.4228 - dice_coef: 0.1764 - val_loss: 0.6173 - val_dice_coef: 0.1122\n"
     ]
    },
    {
     "name": "stderr",
     "output_type": "stream",
     "text": [
      "/home/ryan.zurrin001/miniconda3/envs/O/lib/python3.9/site-packages/tensorflow/python/keras/utils/generic_utils.py:494: CustomMaskWarning: Custom mask layers require a config and must override get_config. When loading, the custom mask layer must be passed to the custom_objects argument.\n",
      "  warnings.warn('Custom mask layers require a config and must override '\n"
     ]
    },
    {
     "name": "stdout",
     "output_type": "stream",
     "text": [
      "Epoch 2/100\n",
      "7/7 [==============================] - 6s 906ms/step - loss: 0.4227 - dice_coef: 0.1755 - val_loss: 0.6067 - val_dice_coef: 0.1147\n"
     ]
    },
    {
     "name": "stderr",
     "output_type": "stream",
     "text": [
      "/home/ryan.zurrin001/miniconda3/envs/O/lib/python3.9/site-packages/tensorflow/python/keras/utils/generic_utils.py:494: CustomMaskWarning: Custom mask layers require a config and must override get_config. When loading, the custom mask layer must be passed to the custom_objects argument.\n",
      "  warnings.warn('Custom mask layers require a config and must override '\n"
     ]
    },
    {
     "name": "stdout",
     "output_type": "stream",
     "text": [
      "Epoch 3/100\n",
      "7/7 [==============================] - 6s 879ms/step - loss: 0.4228 - dice_coef: 0.1746 - val_loss: 0.5964 - val_dice_coef: 0.1171\n"
     ]
    },
    {
     "name": "stderr",
     "output_type": "stream",
     "text": [
      "/home/ryan.zurrin001/miniconda3/envs/O/lib/python3.9/site-packages/tensorflow/python/keras/utils/generic_utils.py:494: CustomMaskWarning: Custom mask layers require a config and must override get_config. When loading, the custom mask layer must be passed to the custom_objects argument.\n",
      "  warnings.warn('Custom mask layers require a config and must override '\n"
     ]
    },
    {
     "name": "stdout",
     "output_type": "stream",
     "text": [
      "Epoch 4/100\n",
      "7/7 [==============================] - 6s 882ms/step - loss: 0.4229 - dice_coef: 0.1750 - val_loss: 0.5865 - val_dice_coef: 0.1194\n"
     ]
    },
    {
     "name": "stderr",
     "output_type": "stream",
     "text": [
      "/home/ryan.zurrin001/miniconda3/envs/O/lib/python3.9/site-packages/tensorflow/python/keras/utils/generic_utils.py:494: CustomMaskWarning: Custom mask layers require a config and must override get_config. When loading, the custom mask layer must be passed to the custom_objects argument.\n",
      "  warnings.warn('Custom mask layers require a config and must override '\n"
     ]
    },
    {
     "name": "stdout",
     "output_type": "stream",
     "text": [
      "Model saved to: /tmp/tmpox3_eamhGP2/vnet_3vnet_model\n",
      "History saved to: /tmp/tmpox3_eamhGP2/vnet_history_3.pkl\n",
      "Testing the classifier...\n",
      "Testing the discriminator...\n",
      "10/10 [==============================] - 0s 18ms/step - loss: 0.0758 - accuracy: 0.9967\n",
      "Found 154 machine labels.\n",
      "Machine labels [  0   1   2   5   6   7  10  11  12  13  14  16  17  21  22  23  24  26\n",
      "  29  31  37  39  40  41  43  48  54  55  56  59  61  62  65  66  67  69\n",
      "  72  73  74  77  78  82  84  88  90  92  95  97  98  99 100 101 102 103\n",
      " 105 106 107 108 110 111 114 122 125 126 127 128 130 131 134 136 138 141\n",
      " 143 144 148 149 150 151 152 154 156 157 161 162 163 166 168 171 172 173\n",
      " 174 175 177 178 182 183 186 189 191 192 194 195 196 198 201 202 203 204\n",
      " 207 211 212 214 215 216 219 221 222 223 232 233 234 237 238 239 240 241\n",
      " 242 246 248 250 251 252 253 254 256 257 258 260 261 264 267 270 271 272\n",
      " 277 278 280 284 285 287 288 290 291 292]\n",
      "D_ids ['8e8f73fe-3c48-4392-a703-4249dda77eff', 'ed21b1ec-7269-4e27-9dd3-3c5ab02fa7bb', '1a40f04f-38bb-4d44-901e-37a5fe2fd6f2', '53aa3779-81e4-4645-adaf-9cf52b61d02f', 'e2c78982-f389-4a7a-9a34-6de8f479c881', '0b81d96d-12f6-456e-95ea-45c823740a79', 'd6282b4d-4728-47ab-93c3-3cadad5f8ae0', '9274ee32-a7cb-495d-85ad-d362b1f80f36', '0cc9f0e1-a644-4419-a842-a878460b3a97', 'efcdf0ec-d087-4423-bb0a-9b3341193e4f', 'b34eb0d8-ebad-4f1c-8b36-a4442953ad67', 'aedc532e-c074-49cc-8805-7b72038ce4e1', '9e0e7e9a-79c7-4a24-9ec6-860ef7e22a3a', '64135e33-4caf-4b32-ab09-d8b895884e82', '3eed541a-4365-44ea-8a66-e30eaf629486', '1b41c693-5854-4d99-a62c-72f7c9a8d9bd', '41969d49-e370-4695-8d93-3f20105fffc7', '13fc7e7e-04b9-46a6-ae70-ae145ba7add2', '6c249592-c996-4132-b14b-3173a3379468', '80bd47e0-87c5-4136-9c91-4aacd387b3c1', '6cce8029-2eb2-4fa7-85dd-d6731805b957', '4a5f3192-45a7-43f9-b164-72d5f4be0f74', '7f385e87-500e-4f8b-9fd9-5f399474d5e7', '442d8d49-ee75-41db-b892-3a37ba3dfae1', 'ea734eca-e623-432a-97e3-27f950b2ed43', '7fd3ca78-ab4f-4f57-9066-8f3b27f17936', 'e439e8b3-3e4a-4187-98da-668f295d25b0', '1c08e79a-5528-40e1-bc09-bb955712c7a6', '3c1d3549-06e5-4a23-aa8d-3a83eb12d123', 'c9a65237-fc4e-4e4d-b82e-cf879fce7d9d', '120d6a65-8464-482f-847b-30dcd2ac618a', '4cbe9f84-540c-40a3-965a-26ad1b182bcf', 'd09a6f26-75e0-4f31-838a-7d76ec247172', '5584f071-6acc-4233-8d55-01dc0d6f19b9', 'f4b41306-663b-4056-9502-13abb94ca563', 'd9d32a4c-8d64-4cb4-8344-b8cef5658a1f', '4f4c01e3-88bf-4c6a-a533-de5a9371eea9', '43f7f986-72c6-4f2d-89e7-ec31b629ab81', '9cc7a71a-c644-4a13-aa73-ee09a13c324d', 'a13f8e62-9a27-420d-b788-f21ac5f573f2', '18251203-415d-4889-b78e-333264a0b8b5', 'db64a0f7-30c2-45e3-9518-dc499a8ecd72', 'd4ccb0b0-6938-4ae2-9e03-1d9d72ed1e0b', '5c706ee4-b80d-4b98-80a5-26aae86756c2', 'adc5144c-621f-4e01-937c-2ad1ec785ae7', 'bdf8f555-990b-4924-95bd-39a7309f89c7', '7317cd41-1482-4417-b684-5bf958b9636a', 'ea912fa1-ecdb-4bd0-9185-39e5351ab360', '890d7625-a0d7-4dba-95a4-576489ad1a89', '03de6296-0dd2-4ea8-a21b-175163615a17', '8ca26424-d3c4-4d51-9db8-37a81231aa93', '1d0ef100-148f-4978-b499-94661dfd6d75', '09e15367-d404-43ef-9496-0b8e71db68d1', '1500a875-e6ca-4a1d-9217-98228d4071c1', '6a9fb568-f2fc-4c54-8687-3bf6a9056476', '0f96ddbb-b005-4d84-805a-c96f3b49951d', '88b37579-8c38-420f-9d3d-0b77968112bd', '6cd1ecec-4f22-4485-992a-749581109592', 'df2772c5-71a0-4c36-a0d4-fe45385b7202', '1a70d4cb-7980-4d5b-8c03-1baf6fd5a09e', '2050aafe-636d-4acd-8907-3816eec58e73', '8a36aefb-011a-4450-8e51-d2b2da212b9a', 'bf28cbd1-11d2-4c10-a3eb-b9c6ed730184', 'f4259e05-9ded-45d9-a279-c023f5012282', '26112fb1-c014-410a-9001-25551a672f85', 'f78e6fb1-202b-4de3-b3b5-1d704d298516', '4f6b001a-b659-4bbf-807b-353cdf7de9c4', 'd0bd0e6b-d91c-4326-b5dc-94e67de6b097', '2316db8b-9037-4a97-b4a5-751cf524a06b', '71f419a3-3468-4d69-83f9-b3840d9b7c8e', '40b76a11-13de-470e-8566-74db0683a877', 'e02785c8-7da3-4b42-a9a8-ed210a536b8b', '9a6989bb-342d-478d-8620-87f44f8cc06b', '42638888-e01f-47f5-8513-f28f0e87661a', '6fedfc7c-6133-413d-9ca8-93dd0b0fb9d1', '99db8279-937c-4a90-adb6-6a5d12c40fbd', '432c696c-b067-4a5d-8dde-4ebf06c47885', '0ef85a29-c837-4017-8cb3-5b281c0120de', '53891f3f-f61d-41fe-a591-53a959dca306', 'e483ad2b-0f22-4a62-ac29-98237f3be832', '34917b3f-c12d-452b-abf3-b77e179f6708', '12003101-8728-4687-ac2a-cf7aadae4f39', 'f7813e34-c717-40a4-bbc6-6955505ee5b8', 'b6c1f131-483a-4346-949c-266319584ba6', '1136aa36-3740-4595-9757-dfb90fd83aa0', '591f2506-0143-4472-8ce8-892ffd970646', 'afe440c5-a902-4587-9c45-f2fe32cfd649', '367d38fd-aad7-47aa-a74d-a055a69f8eab', 'afa4f3d6-c7cd-4023-950d-634062abeb55', '2c92f0fa-d06c-4ef1-aae0-922475f812a2', '86a29581-87df-4020-9549-54b4cec61dae', '0a7c6a4d-56ff-4759-bbd0-f3fecee21519', '61a99174-7d3b-4f18-a28c-2928cd6487fb', '78997ec1-a319-4ef2-95ba-e44021c63f32', '00ad74ad-8e26-4a53-865f-376f0d2f2a4b', 'b9611594-15c3-4e4e-8672-7cac3d2dc71b', 'f9c31756-a862-4fa6-b342-03cf0e240d25', '859cadd0-c35c-4296-b499-720e0a7b6696', 'eaed4eed-4151-4398-ab75-f22c30527370', '4cdd2bbc-7121-450e-9e31-83026a4fc418', 'e9b1a65f-1744-402d-880a-393154087a3a', '960173f6-5884-4edb-aa02-55bc742c259c', '056383f5-7858-4e88-82e3-16d2d2908520', 'd6ffed96-17ca-45bc-a977-06616817c177', '5fa8190d-c7b2-481a-a00d-b4fe8620090d', 'dd6247b8-6390-471c-b791-dc5d0795bed6', 'db919534-f837-414f-b970-df43d3d9a71b', '3886fd77-085d-49bc-aea2-3ad956e48fc9', '388ad824-cabb-4c09-9292-4046de77a277', 'c484d112-e5c6-4c69-9839-f231e7689cf5', '0f124691-8101-4760-bcd8-2f6e02bfc994', '61d21092-b470-4010-ba0e-3b4b86c994f9', 'e7d408c8-474e-4f74-aeef-f072e7f545b2', '17b7f9a9-b0ef-4c6a-a675-4b044025281e', 'c2c2497e-5f6d-40cb-a69b-29d62c278bc9', '9eb1e1fb-ea6c-4ef7-9514-bd1a5ce2c51a', '884951fd-9ac1-48fa-838a-d1a02d3ec0d2', '823bbe64-3a47-4202-9bb2-bb0f4451b13e', '6e14e3ef-6a80-4045-bb71-eac8d65f7a0c', '14b960b4-4346-4366-b2b9-c74827f49f23', '96cfbaae-aa49-4e11-8ed3-4f00bb6aad90', '1b2d18ee-401f-42d9-86a5-aad7ecec948f', 'a2a7e048-e5ea-4fe6-84e7-cd12f4d49b01', '6e4ad9d4-dbad-4769-8e7f-07e128449581', 'a9948c13-af1d-4f00-8440-682fbad5f3bd', 'ce4d7171-19d9-47d7-8bae-7ef316bbd6e7', '1038813e-92ac-469a-a53c-d3c0e8e378cf', 'd8ea1aea-c2b0-4c42-9d4c-945ae0d7b7e9', '2671dcdc-7654-4dec-b3b5-0d334d0e75e2', '5504e580-e410-450f-89c4-b4a84f4a3be9', '6b5c0580-f0a9-4c03-9def-35a7e6136b1f', 'b41c6f76-03fd-41ac-a1c4-583fcd799188', '1e912e3e-e3fa-4b8c-9aff-305d3a064c4b', 'e5bd7a6e-365a-48e9-ac24-3766f002c568', 'ff667ead-bed3-4e83-96cc-a6eeb80db98f', 'b7019780-9779-41fe-aa7c-02e6054dd4a5', '22e7fbed-f210-4553-ba9c-e4052a152c4f', '98fdf3a3-9010-4bb8-8018-6d7b484d4627', '2fddefd6-b467-4e94-9178-d1cca1b0195b', '39b2f941-77b6-4f1c-a2e2-d76d95aed002', '0ccd04e3-6c5c-43ce-90b3-0624e9febc06', 'd76f49fa-7812-4bcd-8938-9ea1485fbbe7', '110fa885-1cf9-41cc-a14f-0fe6eda212b9', '4a68753f-8047-494a-9b3f-ec4fbdf28678', 'ce452513-08e1-490d-96d3-1f4c294f8f2a', '90ab29a9-4549-4a09-a27f-3f0a5b182b14', '38e561af-e614-4ec3-91e6-0e6b3917bf18', '632ab45b-fc4a-400c-ad69-e9c24962da35', '0335ff1b-b310-4e67-822a-39d5123bbe4a', '1f0ca480-2e47-4c65-b69d-3d502880c3f6', '66b67fcc-49ef-4ba4-8ad4-cce84b442b18', 'c9c20b5d-d942-4a47-b71c-bcaa63af3ae8', '0003f194-b73f-407d-ac53-cf4f07d3a813', '9e13d142-d977-4420-96e7-bc0eb4332f58']\n",
      "Replacing 51 from 154 !\n",
      "D_relabeled_ 51\n",
      "selected_ids ['120d6a65-8464-482f-847b-30dcd2ac618a', 'f4b41306-663b-4056-9502-13abb94ca563', '6fedfc7c-6133-413d-9ca8-93dd0b0fb9d1', 'c9a65237-fc4e-4e4d-b82e-cf879fce7d9d', '22e7fbed-f210-4553-ba9c-e4052a152c4f', 'dd6247b8-6390-471c-b791-dc5d0795bed6', '96cfbaae-aa49-4e11-8ed3-4f00bb6aad90', 'b9611594-15c3-4e4e-8672-7cac3d2dc71b', '0003f194-b73f-407d-ac53-cf4f07d3a813', '6cce8029-2eb2-4fa7-85dd-d6731805b957', '09e15367-d404-43ef-9496-0b8e71db68d1', 'b34eb0d8-ebad-4f1c-8b36-a4442953ad67', '6c249592-c996-4132-b14b-3173a3379468', '0b81d96d-12f6-456e-95ea-45c823740a79', '26112fb1-c014-410a-9001-25551a672f85', '18251203-415d-4889-b78e-333264a0b8b5', '6b5c0580-f0a9-4c03-9def-35a7e6136b1f', '53aa3779-81e4-4645-adaf-9cf52b61d02f', 'ea734eca-e623-432a-97e3-27f950b2ed43', '8e8f73fe-3c48-4392-a703-4249dda77eff', 'ce4d7171-19d9-47d7-8bae-7ef316bbd6e7', '2c92f0fa-d06c-4ef1-aae0-922475f812a2', 'e7d408c8-474e-4f74-aeef-f072e7f545b2', 'ea912fa1-ecdb-4bd0-9185-39e5351ab360', 'efcdf0ec-d087-4423-bb0a-9b3341193e4f', 'e439e8b3-3e4a-4187-98da-668f295d25b0', '71f419a3-3468-4d69-83f9-b3840d9b7c8e', '80bd47e0-87c5-4136-9c91-4aacd387b3c1', '884951fd-9ac1-48fa-838a-d1a02d3ec0d2', '5fa8190d-c7b2-481a-a00d-b4fe8620090d', 'db64a0f7-30c2-45e3-9518-dc499a8ecd72', '1d0ef100-148f-4978-b499-94661dfd6d75', 'ce452513-08e1-490d-96d3-1f4c294f8f2a', '388ad824-cabb-4c09-9292-4046de77a277', '632ab45b-fc4a-400c-ad69-e9c24962da35', 'e9b1a65f-1744-402d-880a-393154087a3a', 'd6ffed96-17ca-45bc-a977-06616817c177', 'f9c31756-a862-4fa6-b342-03cf0e240d25', '9e0e7e9a-79c7-4a24-9ec6-860ef7e22a3a', '6e4ad9d4-dbad-4769-8e7f-07e128449581', '00ad74ad-8e26-4a53-865f-376f0d2f2a4b', 'ff667ead-bed3-4e83-96cc-a6eeb80db98f', 'aedc532e-c074-49cc-8805-7b72038ce4e1', 'c2c2497e-5f6d-40cb-a69b-29d62c278bc9', '38e561af-e614-4ec3-91e6-0e6b3917bf18', '4f6b001a-b659-4bbf-807b-353cdf7de9c4', '5c706ee4-b80d-4b98-80a5-26aae86756c2', '0ccd04e3-6c5c-43ce-90b3-0624e9febc06', 'd4ccb0b0-6938-4ae2-9e03-1d9d72ed1e0b', '0f96ddbb-b005-4d84-805a-c96f3b49951d', '7f385e87-500e-4f8b-9fd9-5f399474d5e7']\n",
      "dict_keys(['120d6a65-8464-482f-847b-30dcd2ac618a', 'f4b41306-663b-4056-9502-13abb94ca563', '6fedfc7c-6133-413d-9ca8-93dd0b0fb9d1', 'c9a65237-fc4e-4e4d-b82e-cf879fce7d9d', '22e7fbed-f210-4553-ba9c-e4052a152c4f', 'dd6247b8-6390-471c-b791-dc5d0795bed6', '96cfbaae-aa49-4e11-8ed3-4f00bb6aad90', 'b9611594-15c3-4e4e-8672-7cac3d2dc71b', '0003f194-b73f-407d-ac53-cf4f07d3a813', '6cce8029-2eb2-4fa7-85dd-d6731805b957', '09e15367-d404-43ef-9496-0b8e71db68d1', 'b34eb0d8-ebad-4f1c-8b36-a4442953ad67', '6c249592-c996-4132-b14b-3173a3379468', '0b81d96d-12f6-456e-95ea-45c823740a79', '26112fb1-c014-410a-9001-25551a672f85', '18251203-415d-4889-b78e-333264a0b8b5', '6b5c0580-f0a9-4c03-9def-35a7e6136b1f', '53aa3779-81e4-4645-adaf-9cf52b61d02f', 'ea734eca-e623-432a-97e3-27f950b2ed43', '8e8f73fe-3c48-4392-a703-4249dda77eff', 'ce4d7171-19d9-47d7-8bae-7ef316bbd6e7', '2c92f0fa-d06c-4ef1-aae0-922475f812a2', 'e7d408c8-474e-4f74-aeef-f072e7f545b2', 'ea912fa1-ecdb-4bd0-9185-39e5351ab360', 'efcdf0ec-d087-4423-bb0a-9b3341193e4f', 'e439e8b3-3e4a-4187-98da-668f295d25b0', '71f419a3-3468-4d69-83f9-b3840d9b7c8e', '80bd47e0-87c5-4136-9c91-4aacd387b3c1', '884951fd-9ac1-48fa-838a-d1a02d3ec0d2', '5fa8190d-c7b2-481a-a00d-b4fe8620090d', 'db64a0f7-30c2-45e3-9518-dc499a8ecd72', '1d0ef100-148f-4978-b499-94661dfd6d75', 'ce452513-08e1-490d-96d3-1f4c294f8f2a', '388ad824-cabb-4c09-9292-4046de77a277', '632ab45b-fc4a-400c-ad69-e9c24962da35', 'e9b1a65f-1744-402d-880a-393154087a3a', 'd6ffed96-17ca-45bc-a977-06616817c177', 'f9c31756-a862-4fa6-b342-03cf0e240d25', '9e0e7e9a-79c7-4a24-9ec6-860ef7e22a3a', '6e4ad9d4-dbad-4769-8e7f-07e128449581', '00ad74ad-8e26-4a53-865f-376f0d2f2a4b', 'ff667ead-bed3-4e83-96cc-a6eeb80db98f', 'aedc532e-c074-49cc-8805-7b72038ce4e1', 'c2c2497e-5f6d-40cb-a69b-29d62c278bc9', '38e561af-e614-4ec3-91e6-0e6b3917bf18', '4f6b001a-b659-4bbf-807b-353cdf7de9c4', '5c706ee4-b80d-4b98-80a5-26aae86756c2', '0ccd04e3-6c5c-43ce-90b3-0624e9febc06', 'd4ccb0b0-6938-4ae2-9e03-1d9d72ed1e0b', '0f96ddbb-b005-4d84-805a-c96f3b49951d', '7f385e87-500e-4f8b-9fd9-5f399474d5e7'])\n",
      "point ids 51\n"
     ]
    },
    {
     "name": "stdout",
     "output_type": "stream",
     "text": [
      "Removed: 51 Filled: 51\n",
      "TOOK 111.21928811073303 seconds\n",
      "***\n",
      "RUN: 4\n",
      "Epoch 1/100\n",
      "8/8 [==============================] - 8s 1s/step - loss: 0.4233 - dice_coef: 0.1685 - val_loss: 0.5760 - val_dice_coef: 0.1220\n"
     ]
    }
   ],
   "source": [
    "for run in range(RUNS):\n",
    "    print('***')\n",
    "    print('RUN:', run)\n",
    "    t0 = time.time()\n",
    "    R.run_classifier()\n",
    "    R.run_discriminator()\n",
    "    l = R.find_machine_labels()\n",
    "    if l == 0:\n",
    "        print('No more machine labels.')\n",
    "        print('TOOK', time.time()-t0, 'seconds')\n",
    "        break\n",
    "    R.relabel(percent_to_replace=PERCENT_TO_REPLACE)\n",
    "    print('TOOK', time.time()-t0, 'seconds')\n"
   ]
  },
  {
   "cell_type": "code",
   "execution_count": null,
   "id": "dab6fd49",
   "metadata": {},
   "outputs": [],
   "source": []
  },
  {
   "cell_type": "code",
   "execution_count": null,
   "id": "00075332",
   "metadata": {},
   "outputs": [],
   "source": [
    "R.classifier_scores"
   ]
  },
  {
   "cell_type": "code",
   "execution_count": null,
   "id": "35105656",
   "metadata": {},
   "outputs": [],
   "source": [
    "R.discriminator_scores"
   ]
  },
  {
   "cell_type": "code",
   "execution_count": null,
   "id": "e256ed4d",
   "metadata": {},
   "outputs": [],
   "source": []
  },
  {
   "cell_type": "code",
   "execution_count": null,
   "id": "c83bb28d",
   "metadata": {},
   "outputs": [],
   "source": [
    "R.plot()"
   ]
  }
 ],
 "metadata": {
  "kernelspec": {
   "display_name": "Python 3 (ipykernel)",
   "language": "python",
   "name": "python3"
  },
  "language_info": {
   "codemirror_mode": {
    "name": "ipython",
    "version": 3
   },
   "file_extension": ".py",
   "mimetype": "text/x-python",
   "name": "python",
   "nbconvert_exporter": "python",
   "pygments_lexer": "ipython3",
   "version": "3.9.7"
  }
 },
 "nbformat": 4,
 "nbformat_minor": 5
}
