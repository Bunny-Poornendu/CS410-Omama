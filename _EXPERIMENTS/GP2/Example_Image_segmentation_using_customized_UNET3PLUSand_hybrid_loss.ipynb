{
 "cells": [
  {
   "cell_type": "code",
   "execution_count": 1,
   "id": "cc9eaf8b",
   "metadata": {},
   "outputs": [],
   "source": [
    "import numpy as np\n",
    "from glob import glob"
   ]
  },
  {
   "cell_type": "code",
   "execution_count": 2,
   "id": "e2ee6734",
   "metadata": {},
   "outputs": [
    {
     "name": "stderr",
     "output_type": "stream",
     "text": [
      "2023-04-17 17:48:06.829023: I tensorflow/stream_executor/platform/default/dso_loader.cc:53] Successfully opened dynamic library libcudart.so.11.0\n"
     ]
    }
   ],
   "source": [
    "from tensorflow import keras\n",
    "from tensorflow.keras.layers import Input, Conv2D, Dropout, Activation, UpSampling2D, GlobalMaxPooling2D, multiply\n",
    "from tensorflow.keras.backend import max"
   ]
  },
  {
   "cell_type": "code",
   "execution_count": 3,
   "id": "0ad8e205",
   "metadata": {},
   "outputs": [],
   "source": [
    "from keras_unet_collection import models, base, utils"
   ]
  },
  {
   "cell_type": "code",
   "execution_count": 4,
   "id": "6ffa3f7a",
   "metadata": {},
   "outputs": [],
   "source": [
    "# the indicator of a fresh run\n",
    "first_time_running = False\n",
    "\n",
    "# user-specified working directory\n",
    "filepath = '/tmp/drive/oxford_iiit/'"
   ]
  },
  {
   "cell_type": "code",
   "execution_count": 5,
   "id": "705f960a",
   "metadata": {},
   "outputs": [],
   "source": [
    "if first_time_running:\n",
    "    # downloading and executing data files\n",
    "    import tarfile\n",
    "    import urllib.request\n",
    "    \n",
    "    filename_image = filepath+'images.tar.gz'\n",
    "    filename_target = filepath+'annotations.tar.gz'\n",
    "    \n",
    "    urllib.request.urlretrieve('http://www.robots.ox.ac.uk/~vgg/data/pets/data/images.tar.gz', filename_image);\n",
    "    urllib.request.urlretrieve('https://www.robots.ox.ac.uk/~vgg/data/pets/data/annotations.tar.gz', filename_target);\n",
    "    \n",
    "    with tarfile.open(filename_image, \"r:gz\") as tar_io:\n",
    "        tar_io.extractall(path=filepath)\n",
    "    with tarfile.open(filename_target, \"r:gz\") as tar_io:\n",
    "        tar_io.extractall(path=filepath)\n"
   ]
  },
  {
   "cell_type": "code",
   "execution_count": 6,
   "id": "e7cd40e0",
   "metadata": {},
   "outputs": [
    {
     "name": "stderr",
     "output_type": "stream",
     "text": [
      "2023-04-17 17:48:19.429566: I tensorflow/stream_executor/platform/default/dso_loader.cc:53] Successfully opened dynamic library libcuda.so.1\n",
      "2023-04-17 17:48:19.580502: I tensorflow/core/common_runtime/gpu/gpu_device.cc:1733] Found device 0 with properties: \n",
      "pciBusID: 0000:47:00.0 name: A100-SXM4-40GB computeCapability: 8.0\n",
      "coreClock: 1.41GHz coreCount: 108 deviceMemorySize: 39.59GiB deviceMemoryBandwidth: 1.41TiB/s\n",
      "2023-04-17 17:48:19.580544: I tensorflow/stream_executor/platform/default/dso_loader.cc:53] Successfully opened dynamic library libcudart.so.11.0\n",
      "2023-04-17 17:48:19.584124: I tensorflow/stream_executor/platform/default/dso_loader.cc:53] Successfully opened dynamic library libcublas.so.11\n",
      "2023-04-17 17:48:19.584158: I tensorflow/stream_executor/platform/default/dso_loader.cc:53] Successfully opened dynamic library libcublasLt.so.11\n",
      "2023-04-17 17:48:19.585055: I tensorflow/stream_executor/platform/default/dso_loader.cc:53] Successfully opened dynamic library libcufft.so.10\n",
      "2023-04-17 17:48:19.585375: I tensorflow/stream_executor/platform/default/dso_loader.cc:53] Successfully opened dynamic library libcurand.so.10\n",
      "2023-04-17 17:48:19.585925: I tensorflow/stream_executor/platform/default/dso_loader.cc:53] Successfully opened dynamic library libcusolver.so.11\n",
      "2023-04-17 17:48:19.586756: I tensorflow/stream_executor/platform/default/dso_loader.cc:53] Successfully opened dynamic library libcusparse.so.11\n",
      "2023-04-17 17:48:19.587052: I tensorflow/stream_executor/platform/default/dso_loader.cc:53] Successfully opened dynamic library libcudnn.so.8\n",
      "2023-04-17 17:48:19.595904: I tensorflow/core/common_runtime/gpu/gpu_device.cc:1871] Adding visible gpu devices: 0\n",
      "2023-04-17 17:48:19.596715: I tensorflow/core/platform/cpu_feature_guard.cc:142] This TensorFlow binary is optimized with oneAPI Deep Neural Network Library (oneDNN) to use the following CPU instructions in performance-critical operations:  AVX2 FMA\n",
      "To enable them in other operations, rebuild TensorFlow with the appropriate compiler flags.\n",
      "2023-04-17 17:48:19.600795: I tensorflow/core/common_runtime/gpu/gpu_device.cc:1733] Found device 0 with properties: \n",
      "pciBusID: 0000:47:00.0 name: A100-SXM4-40GB computeCapability: 8.0\n",
      "coreClock: 1.41GHz coreCount: 108 deviceMemorySize: 39.59GiB deviceMemoryBandwidth: 1.41TiB/s\n",
      "2023-04-17 17:48:19.609032: I tensorflow/core/common_runtime/gpu/gpu_device.cc:1871] Adding visible gpu devices: 0\n",
      "2023-04-17 17:48:19.609060: I tensorflow/stream_executor/platform/default/dso_loader.cc:53] Successfully opened dynamic library libcudart.so.11.0\n",
      "2023-04-17 17:48:20.176862: I tensorflow/core/common_runtime/gpu/gpu_device.cc:1258] Device interconnect StreamExecutor with strength 1 edge matrix:\n",
      "2023-04-17 17:48:20.176918: I tensorflow/core/common_runtime/gpu/gpu_device.cc:1264]      0 \n",
      "2023-04-17 17:48:20.176924: I tensorflow/core/common_runtime/gpu/gpu_device.cc:1277] 0:   N \n",
      "2023-04-17 17:48:20.189153: I tensorflow/core/common_runtime/gpu/gpu_device.cc:1418] Created TensorFlow device (/job:localhost/replica:0/task:0/device:GPU:0 with 38425 MB memory) -> physical GPU (device: 0, name: A100-SXM4-40GB, pci bus id: 0000:47:00.0, compute capability: 8.0)\n"
     ]
    }
   ],
   "source": [
    "name = 'unet3plus'\n",
    "activation = 'ReLU'\n",
    "filter_num_down = [32, 64, 128, 256, 512]\n",
    "filter_num_skip = [32, 32, 32, 32]\n",
    "filter_num_aggregate = 160\n",
    "\n",
    "stack_num_down = 2\n",
    "stack_num_up = 1\n",
    "n_labels = 3\n",
    "\n",
    "# `unet_3plus_2d_base` accepts an input tensor \n",
    "# and produces output tensors from different upsampling levels\n",
    "# ---------------------------------------- #\n",
    "input_tensor = keras.layers.Input((128, 128, 3))\n",
    "# base architecture\n",
    "X_decoder = base.unet_3plus_2d_base(\n",
    "    input_tensor, filter_num_down, filter_num_skip, filter_num_aggregate, \n",
    "    stack_num_down=stack_num_down, stack_num_up=stack_num_up, activation=activation, \n",
    "    batch_norm=True, pool=True, unpool=True, backbone=None, name=name)"
   ]
  },
  {
   "cell_type": "code",
   "execution_count": 7,
   "id": "b4b9cfd8",
   "metadata": {},
   "outputs": [
    {
     "data": {
      "text/plain": [
       "[<KerasTensor: shape=(None, 8, 8, 512) dtype=float32 (created by layer 'unet3plus_down4_conv_1_activation')>,\n",
       " <KerasTensor: shape=(None, 16, 16, 160) dtype=float32 (created by layer 'unet3plus_fusion_conv_0_0_activation')>,\n",
       " <KerasTensor: shape=(None, 32, 32, 160) dtype=float32 (created by layer 'unet3plus_fusion_conv_1_0_activation')>,\n",
       " <KerasTensor: shape=(None, 64, 64, 160) dtype=float32 (created by layer 'unet3plus_fusion_conv_2_0_activation')>,\n",
       " <KerasTensor: shape=(None, 128, 128, 160) dtype=float32 (created by layer 'unet3plus_fusion_conv_3_0_activation')>]"
      ]
     },
     "execution_count": 7,
     "metadata": {},
     "output_type": "execute_result"
    }
   ],
   "source": [
    "X_decoder"
   ]
  },
  {
   "cell_type": "code",
   "execution_count": 8,
   "id": "87bdf1b4",
   "metadata": {},
   "outputs": [],
   "source": [
    "# allocating deep supervision tensors\n",
    "OUT_stack = []\n",
    "# reverse indexing `X_decoder`, so smaller tensors have larger list indices \n",
    "X_decoder = X_decoder[::-1]\n",
    "\n",
    "# deep supervision outputs\n",
    "for i in range(1, len(X_decoder)):\n",
    "    # 3-by-3 conv2d --> upsampling --> sigmoid output activation\n",
    "    pool_size = 2**(i)\n",
    "    X = Conv2D(n_labels, 3, padding='same', name='{}_output_conv1_{}'.format(name, i-1))(X_decoder[i])\n",
    "    \n",
    "    X = UpSampling2D((pool_size, pool_size), interpolation='bilinear', \n",
    "                     name='{}_output_sup{}'.format(name, i-1))(X)\n",
    "    \n",
    "    X = Activation('sigmoid', name='{}_output_sup{}_activation'.format(name, i-1))(X)\n",
    "    # collecting deep supervision tensors\n",
    "    OUT_stack.append(X)\n",
    "\n",
    "# the final output (without extra upsampling)\n",
    "# 3-by-3 conv2d --> sigmoid output activation\n",
    "X = Conv2D(n_labels, 3, padding='same', name='{}_output_final'.format(name))(X_decoder[0])\n",
    "X = Activation('sigmoid', name='{}_output_final_activation'.format(name))(X)\n",
    "# collecting final output tensors\n",
    "OUT_stack.append(X)"
   ]
  },
  {
   "cell_type": "code",
   "execution_count": 9,
   "id": "e0156698",
   "metadata": {},
   "outputs": [
    {
     "data": {
      "text/plain": [
       "[<KerasTensor: shape=(None, 128, 128, 3) dtype=float32 (created by layer 'unet3plus_output_sup0_activation')>,\n",
       " <KerasTensor: shape=(None, 128, 128, 3) dtype=float32 (created by layer 'unet3plus_output_sup1_activation')>,\n",
       " <KerasTensor: shape=(None, 128, 128, 3) dtype=float32 (created by layer 'unet3plus_output_sup2_activation')>,\n",
       " <KerasTensor: shape=(None, 128, 128, 3) dtype=float32 (created by layer 'unet3plus_output_sup3_activation')>,\n",
       " <KerasTensor: shape=(None, 128, 128, 3) dtype=float32 (created by layer 'unet3plus_output_final_activation')>]"
      ]
     },
     "execution_count": 9,
     "metadata": {},
     "output_type": "execute_result"
    }
   ],
   "source": [
    "OUT_stack"
   ]
  },
  {
   "cell_type": "code",
   "execution_count": 10,
   "id": "bc9c860e",
   "metadata": {},
   "outputs": [],
   "source": [
    "\n",
    "\n",
    "# Classification-guided Module (CGM)\n",
    "# ---------------------------------------- #\n",
    "# dropout --> 1-by-1 conv2d --> global-maxpooling --> sigmoid\n",
    "X_CGM = X_decoder[-1]\n",
    "X_CGM = Dropout(rate=0.1)(X_CGM)\n",
    "X_CGM = Conv2D(filter_num_skip[-1], 1, padding='same')(X_CGM)\n",
    "X_CGM = GlobalMaxPooling2D()(X_CGM)\n",
    "X_CGM = Activation('sigmoid')(X_CGM)\n",
    "\n",
    "CGM_mask = max(X_CGM, axis=-1) # <----- This value could be trained with \"none-organ image\"\n",
    "\n",
    "for i in range(len(OUT_stack)):\n",
    "    if i < len(OUT_stack)-1:\n",
    "        # deep-supervision\n",
    "        OUT_stack[i] = multiply([OUT_stack[i], CGM_mask], name='{}_output_sup{}_CGM'.format(name, i))\n",
    "    else:\n",
    "        # final output\n",
    "        OUT_stack[i] = multiply([OUT_stack[i], CGM_mask], name='{}_output_final_CGM'.format(name))\n",
    "\n"
   ]
  },
  {
   "cell_type": "code",
   "execution_count": 11,
   "id": "9f20eea4",
   "metadata": {},
   "outputs": [
    {
     "data": {
      "text/plain": [
       "[<KerasTensor: shape=(None, 128, 128, 3) dtype=float32 (created by layer 'unet3plus_output_sup0_CGM')>,\n",
       " <KerasTensor: shape=(None, 128, 128, 3) dtype=float32 (created by layer 'unet3plus_output_sup1_CGM')>,\n",
       " <KerasTensor: shape=(None, 128, 128, 3) dtype=float32 (created by layer 'unet3plus_output_sup2_CGM')>,\n",
       " <KerasTensor: shape=(None, 128, 128, 3) dtype=float32 (created by layer 'unet3plus_output_sup3_CGM')>,\n",
       " <KerasTensor: shape=(None, 128, 128, 3) dtype=float32 (created by layer 'unet3plus_output_final_CGM')>]"
      ]
     },
     "execution_count": 11,
     "metadata": {},
     "output_type": "execute_result"
    }
   ],
   "source": [
    "OUT_stack"
   ]
  },
  {
   "cell_type": "code",
   "execution_count": 12,
   "id": "3180bf52",
   "metadata": {},
   "outputs": [],
   "source": [
    "unet3plus = keras.models.Model([input_tensor,], OUT_stack)"
   ]
  },
  {
   "cell_type": "code",
   "execution_count": 13,
   "id": "60f1c89b",
   "metadata": {},
   "outputs": [],
   "source": [
    "from keras_unet_collection import losses\n",
    "\n",
    "def hybrid_loss(y_true, y_pred):\n",
    "\n",
    "    loss_focal = losses.focal_tversky(y_true, y_pred, alpha=0.5, gamma=4/3)\n",
    "    loss_iou = losses.iou_seg(y_true, y_pred)\n",
    "    \n",
    "    # (x) \n",
    "    #loss_ssim = losses.ms_ssim(y_true, y_pred, max_val=1.0, filter_size=4)\n",
    "    \n",
    "    return loss_focal+loss_iou #+loss_ssim"
   ]
  },
  {
   "cell_type": "code",
   "execution_count": 14,
   "id": "8bce8337",
   "metadata": {},
   "outputs": [],
   "source": [
    "unet3plus.compile(loss=[hybrid_loss, hybrid_loss, hybrid_loss, hybrid_loss, hybrid_loss],\n",
    "                  loss_weights=[0.25, 0.25, 0.25, 0.25, 1.0],\n",
    "                  optimizer=keras.optimizers.Adam(learning_rate=1e-4))"
   ]
  },
  {
   "cell_type": "code",
   "execution_count": 15,
   "id": "c27c03df",
   "metadata": {},
   "outputs": [],
   "source": [
    "def input_data_process(input_array):\n",
    "    '''converting pixel vales to [0, 1]'''\n",
    "    return input_array/255.\n",
    "\n",
    "def target_data_process(target_array):\n",
    "    '''Converting tri-mask of {1, 2, 3} to three categories.'''\n",
    "    return keras.utils.to_categorical(target_array-1)"
   ]
  },
  {
   "cell_type": "code",
   "execution_count": 16,
   "id": "b05ead77",
   "metadata": {},
   "outputs": [
    {
     "name": "stdout",
     "output_type": "stream",
     "text": [
      "Training:validation:testing = 5912:739:739\n"
     ]
    }
   ],
   "source": [
    "sample_names = np.array(sorted(glob(filepath+'images/*.jpg')))\n",
    "label_names = np.array(sorted(glob(filepath+'annotations/trimaps/*.png')))\n",
    "\n",
    "L = len(sample_names)\n",
    "ind_all = utils.shuffle_ind(L)\n",
    "\n",
    "L_train = int(0.8*L); L_valid = int(0.1*L); L_test = L - L_train - L_valid\n",
    "ind_train = ind_all[:L_train]; ind_valid = ind_all[L_train:L_train+L_valid]; ind_test = ind_all[L_train+L_valid:]\n",
    "print(\"Training:validation:testing = {}:{}:{}\".format(L_train, L_valid, L_test))"
   ]
  },
  {
   "cell_type": "code",
   "execution_count": 17,
   "id": "8bfdbaa3",
   "metadata": {},
   "outputs": [],
   "source": [
    "valid_input = input_data_process(utils.image_to_array(sample_names[ind_valid], size=128, channel=3))\n",
    "valid_target = target_data_process(utils.image_to_array(label_names[ind_valid], size=128, channel=1))"
   ]
  },
  {
   "cell_type": "code",
   "execution_count": 18,
   "id": "b06c549f",
   "metadata": {},
   "outputs": [],
   "source": [
    "test_input = input_data_process(utils.image_to_array(sample_names[ind_test], size=128, channel=3))\n",
    "test_target = target_data_process(utils.image_to_array(label_names[ind_test], size=128, channel=1))"
   ]
  },
  {
   "cell_type": "code",
   "execution_count": 19,
   "id": "fe2f805e",
   "metadata": {},
   "outputs": [
    {
     "name": "stderr",
     "output_type": "stream",
     "text": [
      "2023-04-17 17:53:00.626341: I tensorflow/compiler/mlir/mlir_graph_optimization_pass.cc:176] None of the MLIR Optimization Passes are enabled (registered 2)\n",
      "2023-04-17 17:53:00.628098: I tensorflow/core/platform/profile_utils/cpu_utils.cc:114] CPU Frequency: 2245755000 Hz\n",
      "2023-04-17 17:53:01.035999: I tensorflow/stream_executor/platform/default/dso_loader.cc:53] Successfully opened dynamic library libcudnn.so.8\n",
      "2023-04-17 17:53:01.793684: I tensorflow/stream_executor/cuda/cuda_dnn.cc:359] Loaded cuDNN version 8201\n",
      "2023-04-17 17:53:02.571515: W tensorflow/stream_executor/gpu/asm_compiler.cc:191] Falling back to the CUDA driver for PTX compilation; ptxas does not support CC 8.0\n",
      "2023-04-17 17:53:02.571544: W tensorflow/stream_executor/gpu/asm_compiler.cc:194] Used ptxas at ptxas\n",
      "2023-04-17 17:53:02.571634: W tensorflow/stream_executor/gpu/redzone_allocator.cc:314] Unimplemented: ptxas ptxas too old. Falling back to the driver to compile.\n",
      "Relying on driver to perform ptx compilation. \n",
      "Modify $PATH to customize ptxas location.\n",
      "This message will be only logged once.\n",
      "2023-04-17 17:53:02.638981: I tensorflow/stream_executor/platform/default/dso_loader.cc:53] Successfully opened dynamic library libcublas.so.11\n",
      "2023-04-17 17:53:03.424171: I tensorflow/stream_executor/platform/default/dso_loader.cc:53] Successfully opened dynamic library libcublasLt.so.11\n"
     ]
    },
    {
     "name": "stdout",
     "output_type": "stream",
     "text": [
      "\tInitial loss = 1.6084303855895996\n",
      "Validation performance is improved from 1.6084303855895996 to 1.1379549503326416\n",
      "Validation performance is improved from 1.1379549503326416 to 1.0530731678009033\n",
      "Validation performance is improved from 1.0530731678009033 to 0.7357490062713623\n",
      "Validation performance is improved from 0.7357490062713623 to 0.6896501779556274\n",
      "Validation performance is improved from 0.6896501779556274 to 0.5604984760284424\n",
      "Validation performance is improved from 0.5604984760284424 to 0.5585192441940308\n",
      "Validation performance is improved from 0.5585192441940308 to 0.5406442880630493\n",
      "Validation performance is improved from 0.5406442880630493 to 0.48804351687431335\n",
      "Validation performance 0.516958475112915 is NOT improved\n",
      "Validation performance is improved from 0.48804351687431335 to 0.48783349990844727\n"
     ]
    }
   ],
   "source": [
    "N_epoch = 10 # number of epoches\n",
    "N_batch = 100 # number of batches per epoch\n",
    "N_sample = 32 # number of samples per batch\n",
    "\n",
    "tol = 0 # current early stopping patience\n",
    "max_tol = 3 # the max-allowed early stopping patience\n",
    "min_del = 0 # the lowest acceptable loss value reduction \n",
    "\n",
    "# loop over epoches\n",
    "for epoch in range(N_epoch):\n",
    "    \n",
    "    # initial loss record\n",
    "    if epoch == 0:\n",
    "        temp_out = unet3plus.predict([valid_input])\n",
    "        y_pred = temp_out[-1]\n",
    "        record = np.mean(hybrid_loss(valid_target, y_pred))\n",
    "        print('\\tInitial loss = {}'.format(record))\n",
    "    \n",
    "    # loop over batches\n",
    "    for step in range(N_batch):\n",
    "        # selecting smaples for the current batch\n",
    "        ind_train_shuffle = utils.shuffle_ind(L_train)[:N_sample]\n",
    "        \n",
    "        # batch data formation\n",
    "        ## augmentation is not applied\n",
    "        train_input = input_data_process(\n",
    "            utils.image_to_array(sample_names[ind_train][ind_train_shuffle], size=128, channel=3))\n",
    "        train_target = target_data_process(\n",
    "            utils.image_to_array(label_names[ind_train][ind_train_shuffle], size=128, channel=1))\n",
    "        \n",
    "        # train on batch\n",
    "        loss_ = unet3plus.train_on_batch([train_input,], \n",
    "                                         [train_target, train_target, train_target, train_target, train_target,])\n",
    "#         if np.isnan(loss_):\n",
    "#             print(\"Training blow-up\")\n",
    "\n",
    "        # ** training loss is not stored ** #\n",
    "        \n",
    "    # epoch-end validation\n",
    "    temp_out = unet3plus.predict([valid_input])\n",
    "    y_pred = temp_out[-1]\n",
    "    record_temp = np.mean(hybrid_loss(valid_target, y_pred))\n",
    "    # ** validation loss is not stored ** #\n",
    "    \n",
    "    # if loss is reduced\n",
    "    if record - record_temp > min_del:\n",
    "        print('Validation performance is improved from {} to {}'.format(record, record_temp))\n",
    "        record = record_temp; # update the loss record\n",
    "        tol = 0; # refresh early stopping patience\n",
    "        # ** model checkpoint is not stored ** #\n",
    "\n",
    "    # if loss not reduced\n",
    "    else:\n",
    "        print('Validation performance {} is NOT improved'.format(record_temp))\n",
    "        tol += 1\n",
    "        if tol >= max_tol:\n",
    "            print('Early stopping')\n",
    "            break;\n",
    "        else:\n",
    "            # Pass to the next epoch\n",
    "            continue;"
   ]
  },
  {
   "cell_type": "code",
   "execution_count": 20,
   "id": "5450a3ac",
   "metadata": {},
   "outputs": [],
   "source": [
    "temp_out = unet3plus.predict([test_input,])\n",
    "y_pred = temp_out[-1]"
   ]
  },
  {
   "cell_type": "code",
   "execution_count": 21,
   "id": "6195f12f",
   "metadata": {},
   "outputs": [],
   "source": [
    "import matplotlib.pyplot as plt\n",
    "%matplotlib inline"
   ]
  },
  {
   "cell_type": "code",
   "execution_count": 22,
   "id": "26954475",
   "metadata": {},
   "outputs": [],
   "source": [
    "def ax_decorate_box(ax):\n",
    "    [j.set_linewidth(0) for j in ax.spines.values()]\n",
    "    ax.tick_params(axis=\"both\", which=\"both\", bottom=False, top=False, \n",
    "                   labelbottom=False, left=False, right=False, labelleft=False)\n",
    "    return ax"
   ]
  },
  {
   "cell_type": "code",
   "execution_count": 29,
   "id": "66059cc0",
   "metadata": {},
   "outputs": [
    {
     "data": {
      "image/png": "[encoded data removed]",
      "text/plain": [
       "<Figure size 936x230.4 with 4 Axes>"
      ]
     },
     "metadata": {},
     "output_type": "display_data"
    }
   ],
   "source": [
    "i_sample = 6\n",
    "\n",
    "fig, AX = plt.subplots(1, 4, figsize=(13, (13-0.2)/4))\n",
    "plt.subplots_adjust(0, 0, 1, 1, hspace=0, wspace=0.1)\n",
    "for ax in AX:\n",
    "    ax = ax_decorate_box(ax)\n",
    "AX[0].pcolormesh(np.mean(test_input[i_sample, ...,], axis=-1), cmap=plt.cm.gray)\n",
    "AX[1].pcolormesh(y_pred[i_sample, ..., 0], cmap=plt.cm.jet)\n",
    "AX[2].pcolormesh(y_pred[i_sample, ..., 1], cmap=plt.cm.jet)\n",
    "AX[3].pcolormesh(y_pred[i_sample, ..., 2], cmap=plt.cm.jet)\n",
    "\n",
    "AX[0].set_title(\"Original\", fontsize=14);\n",
    "AX[1].set_title(\"Pixels belong to the object\", fontsize=14);\n",
    "AX[2].set_title(\"Surrounding pixels\", fontsize=14);\n",
    "AX[3].set_title(\"Bordering pixels\", fontsize=14);\n"
   ]
  },
  {
   "cell_type": "code",
   "execution_count": 30,
   "id": "b038f5a6",
   "metadata": {},
   "outputs": [
    {
     "name": "stdout",
     "output_type": "stream",
     "text": [
      "Help on function att_unet_2d in module keras_unet_collection._model_att_unet_2d:\n",
      "\n",
      "att_unet_2d(input_size, filter_num, n_labels, stack_num_down=2, stack_num_up=2, activation='ReLU', atten_activation='ReLU', attention='add', output_activation='Softmax', batch_norm=False, pool=True, unpool=True, backbone=None, weights='imagenet', freeze_backbone=True, freeze_batch_norm=True, name='attunet')\n",
      "    Attention U-net with an optional ImageNet backbone\n",
      "    \n",
      "    att_unet_2d(input_size, filter_num, n_labels, stack_num_down=2, stack_num_up=2, activation='ReLU', \n",
      "                atten_activation='ReLU', attention='add', output_activation='Softmax', batch_norm=False, pool=True, unpool=True, \n",
      "                backbone=None, weights='imagenet', freeze_backbone=True, freeze_batch_norm=True, name='att-unet')\n",
      "                \n",
      "    ----------\n",
      "    Oktay, O., Schlemper, J., Folgoc, L.L., Lee, M., Heinrich, M., Misawa, K., Mori, K., McDonagh, S., Hammerla, N.Y., Kainz, B. \n",
      "    and Glocker, B., 2018. Attention u-net: Learning where to look for the pancreas. arXiv preprint arXiv:1804.03999.\n",
      "    \n",
      "    Input\n",
      "    ----------\n",
      "        input_size: the size/shape of network input, e.g., `(128, 128, 3)`.\n",
      "        filter_num: a list that defines the number of filters for each                     down- and upsampling levels. e.g., `[64, 128, 256, 512]`.\n",
      "                    The depth is expected as `len(filter_num)`.\n",
      "        n_labels: number of output labels.\n",
      "        stack_num_down: number of convolutional layers per downsampling level/block. \n",
      "        stack_num_up: number of convolutional layers (after concatenation) per upsampling level/block.\n",
      "        activation: one of the `tensorflow.keras.layers` or `keras_unet_collection.activations` interfaces, e.g., 'ReLU'.\n",
      "        output_activation: one of the `tensorflow.keras.layers` or `keras_unet_collection.activations` interface or 'Sigmoid'.\n",
      "                           Default option is 'Softmax'.\n",
      "                           if None is received, then linear activation is applied.\n",
      "        atten_activation: a nonlinear atteNtion activation.\n",
      "                    The `sigma_1` in Oktay et al. 2018. Default is 'ReLU'.\n",
      "        attention: 'add' for additive attention. 'multiply' for multiplicative attention.\n",
      "                   Oktay et al. 2018 applied additive attention.\n",
      "        batch_norm: True for batch normalization.\n",
      "        pool: True or 'max' for MaxPooling2D.\n",
      "              'ave' for AveragePooling2D.\n",
      "              False for strided conv + batch norm + activation.\n",
      "        unpool: True or 'bilinear' for Upsampling2D with bilinear interpolation.\n",
      "                'nearest' for Upsampling2D with nearest interpolation.\n",
      "                False for Conv2DTranspose + batch norm + activation.                \n",
      "        name: prefix of the created keras model and its layers.\n",
      "        \n",
      "        ---------- (keywords of backbone options) ----------\n",
      "        backbone_name: the bakcbone model name. Should be one of the `tensorflow.keras.applications` class.\n",
      "                       None (default) means no backbone. \n",
      "                       Currently supported backbones are:\n",
      "                       (1) VGG16, VGG19\n",
      "                       (2) ResNet50, ResNet101, ResNet152\n",
      "                       (3) ResNet50V2, ResNet101V2, ResNet152V2\n",
      "                       (4) DenseNet121, DenseNet169, DenseNet201\n",
      "                       (5) EfficientNetB[0-7]\n",
      "        weights: one of None (random initialization), 'imagenet' (pre-training on ImageNet), \n",
      "                 or the path to the weights file to be loaded.\n",
      "        freeze_backbone: True for a frozen backbone.\n",
      "        freeze_batch_norm: False for not freezing batch normalization layers.\n",
      "        \n",
      "    Output\n",
      "    ----------\n",
      "        model: a keras model\n",
      "\n"
     ]
    }
   ],
   "source": [
    "help(models.att_unet_2d)"
   ]
  },
  {
   "cell_type": "code",
   "execution_count": 31,
   "id": "aef917c5",
   "metadata": {},
   "outputs": [
    {
     "name": "stdout",
     "output_type": "stream",
     "text": [
      "Help on function unet_plus_2d in module keras_unet_collection._model_unet_plus_2d:\n",
      "\n",
      "unet_plus_2d(input_size, filter_num, n_labels, stack_num_down=2, stack_num_up=2, activation='ReLU', output_activation='Softmax', batch_norm=False, pool=True, unpool=True, deep_supervision=False, backbone=None, weights='imagenet', freeze_backbone=True, freeze_batch_norm=True, name='xnet')\n",
      "    U-net++ with an optional ImageNet-trained backbone.\n",
      "    \n",
      "    unet_plus_2d(input_size, filter_num, n_labels, stack_num_down=2, stack_num_up=2,\n",
      "                 activation='ReLU', output_activation='Softmax', batch_norm=False, pool=True, unpool=True, deep_supervision=False, \n",
      "                 backbone=None, weights='imagenet', freeze_backbone=True, freeze_batch_norm=True, name='xnet')\n",
      "    \n",
      "    ----------\n",
      "    Zhou, Z., Siddiquee, M.M.R., Tajbakhsh, N. and Liang, J., 2018. Unet++: A nested u-net architecture \n",
      "    for medical image segmentation. In Deep Learning in Medical Image Analysis and Multimodal Learning \n",
      "    for Clinical Decision Support (pp. 3-11). Springer, Cham.\n",
      "    \n",
      "    Input\n",
      "    ----------\n",
      "        input_size: the size/shape of network input, e.g., `(128, 128, 3)`.\n",
      "        filter_num: a list that defines the number of filters for each                     down- and upsampling levels. e.g., `[64, 128, 256, 512]`.\n",
      "                    The depth is expected as `len(filter_num)`.\n",
      "        n_labels: number of output labels.\n",
      "        stack_num_down: number of convolutional layers per downsampling level/block. \n",
      "        stack_num_up: number of convolutional layers (after concatenation) per upsampling level/block.\n",
      "        activation: one of the `tensorflow.keras.layers` or `keras_unet_collection.activations` interfaces, e.g., 'ReLU'.\n",
      "        output_activation: one of the `tensorflow.keras.layers` or `keras_unet_collection.activations` interface or 'Sigmoid'.\n",
      "                           Default option is 'Softmax'.\n",
      "                           if None is received, then linear activation is applied.\n",
      "        batch_norm: True for batch normalization.\n",
      "        pool: True or 'max' for MaxPooling2D.\n",
      "              'ave' for AveragePooling2D.\n",
      "              False for strided conv + batch norm + activation.\n",
      "        unpool: True or 'bilinear' for Upsampling2D with bilinear interpolation.\n",
      "                'nearest' for Upsampling2D with nearest interpolation.\n",
      "                False for Conv2DTranspose + batch norm + activation.   \n",
      "        deep_supervision: True for a model that supports deep supervision. Details see Zhou et al. (2018).\n",
      "        name: prefix of the created keras model and its layers.\n",
      "        \n",
      "        ---------- (keywords of backbone options) ----------\n",
      "        backbone_name: the bakcbone model name. Should be one of the `tensorflow.keras.applications` class.\n",
      "                       None (default) means no backbone. \n",
      "                       Currently supported backbones are:\n",
      "                       (1) VGG16, VGG19\n",
      "                       (2) ResNet50, ResNet101, ResNet152\n",
      "                       (3) ResNet50V2, ResNet101V2, ResNet152V2\n",
      "                       (4) DenseNet121, DenseNet169, DenseNet201\n",
      "                       (5) EfficientNetB[0-7]\n",
      "        weights: one of None (random initialization), 'imagenet' (pre-training on ImageNet), \n",
      "                 or the path to the weights file to be loaded.\n",
      "        freeze_backbone: True for a frozen backbone.\n",
      "        freeze_batch_norm: False for not freezing batch normalization layers.\n",
      "        \n",
      "    Output\n",
      "    ----------\n",
      "        model: a keras model.\n",
      "\n"
     ]
    }
   ],
   "source": [
    "help(models.unet_plus_2d)"
   ]
  },
  {
   "cell_type": "code",
   "execution_count": null,
   "id": "05c3849d",
   "metadata": {},
   "outputs": [],
   "source": []
  }
 ],
 "metadata": {
  "kernelspec": {
   "display_name": "Python 3 (ipykernel)",
   "language": "python",
   "name": "python3"
  },
  "language_info": {
   "codemirror_mode": {
    "name": "ipython",
    "version": 3
   },
   "file_extension": ".py",
   "mimetype": "text/x-python",
   "name": "python",
   "nbconvert_exporter": "python",
   "pygments_lexer": "ipython3",
   "version": "3.9.7"
  }
 },
 "nbformat": 4,
 "nbformat_minor": 5
}
