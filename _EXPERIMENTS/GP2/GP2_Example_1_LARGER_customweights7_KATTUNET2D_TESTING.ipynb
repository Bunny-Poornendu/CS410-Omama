{
 "cells": [
  {
   "cell_type": "code",
   "execution_count": 1,
   "id": "06c4accc",
   "metadata": {},
   "outputs": [
    {
     "name": "stdout",
     "output_type": "stream",
     "text": [
      "Populating the interactive namespace from numpy and matplotlib\n"
     ]
    }
   ],
   "source": [
    "%pylab inline\n",
    "%load_ext autoreload\n",
    "%autoreload 2"
   ]
  },
  {
   "cell_type": "code",
   "execution_count": 2,
   "id": "861fc4c8",
   "metadata": {},
   "outputs": [
    {
     "name": "stderr",
     "output_type": "stream",
     "text": [
      "2023-04-21 23:06:08.263660: I tensorflow/stream_executor/platform/default/dso_loader.cc:53] Successfully opened dynamic library libcudart.so.11.0\n"
     ]
    }
   ],
   "source": [
    "import numpy as np\n",
    "from glob import glob\n",
    "from tensorflow import keras\n",
    "from tensorflow.keras.layers import Input, Conv2D, Dropout, Activation, UpSampling2D, GlobalMaxPooling2D, multiply\n",
    "from tensorflow.keras.backend import max\n",
    "from keras_unet_collection import models, base, utils"
   ]
  },
  {
   "cell_type": "code",
   "execution_count": 3,
   "id": "b9e78ed8",
   "metadata": {},
   "outputs": [
    {
     "name": "stderr",
     "output_type": "stream",
     "text": [
      "2023-04-21 23:06:10.127927: I tensorflow/stream_executor/platform/default/dso_loader.cc:53] Successfully opened dynamic library libcuda.so.1\n",
      "2023-04-21 23:06:10.440122: I tensorflow/core/common_runtime/gpu/gpu_device.cc:1733] Found device 0 with properties: \n",
      "pciBusID: 0000:47:00.0 name: A100-SXM4-40GB computeCapability: 8.0\n",
      "coreClock: 1.41GHz coreCount: 108 deviceMemorySize: 39.59GiB deviceMemoryBandwidth: 1.41TiB/s\n",
      "2023-04-21 23:06:10.444222: I tensorflow/core/common_runtime/gpu/gpu_device.cc:1733] Found device 1 with properties: \n",
      "pciBusID: 0000:4e:00.0 name: A100-SXM4-40GB computeCapability: 8.0\n",
      "coreClock: 1.41GHz coreCount: 108 deviceMemorySize: 39.59GiB deviceMemoryBandwidth: 1.41TiB/s\n",
      "2023-04-21 23:06:10.444241: I tensorflow/stream_executor/platform/default/dso_loader.cc:53] Successfully opened dynamic library libcudart.so.11.0\n",
      "2023-04-21 23:06:10.448039: I tensorflow/stream_executor/platform/default/dso_loader.cc:53] Successfully opened dynamic library libcublas.so.11\n",
      "2023-04-21 23:06:10.448070: I tensorflow/stream_executor/platform/default/dso_loader.cc:53] Successfully opened dynamic library libcublasLt.so.11\n",
      "2023-04-21 23:06:10.449040: I tensorflow/stream_executor/platform/default/dso_loader.cc:53] Successfully opened dynamic library libcufft.so.10\n",
      "2023-04-21 23:06:10.449454: I tensorflow/stream_executor/platform/default/dso_loader.cc:53] Successfully opened dynamic library libcurand.so.10\n",
      "2023-04-21 23:06:10.450021: I tensorflow/stream_executor/platform/default/dso_loader.cc:53] Successfully opened dynamic library libcusolver.so.11\n",
      "2023-04-21 23:06:10.450868: I tensorflow/stream_executor/platform/default/dso_loader.cc:53] Successfully opened dynamic library libcusparse.so.11\n",
      "2023-04-21 23:06:10.451143: I tensorflow/stream_executor/platform/default/dso_loader.cc:53] Successfully opened dynamic library libcudnn.so.8\n",
      "2023-04-21 23:06:10.467405: I tensorflow/core/common_runtime/gpu/gpu_device.cc:1871] Adding visible gpu devices: 0, 1\n"
     ]
    }
   ],
   "source": [
    "import time\n",
    "import sys\n",
    "sys.path.insert(0,'../..')\n",
    "from gp2 import Runner"
   ]
  },
  {
   "cell_type": "code",
   "execution_count": 4,
   "id": "bdc75325",
   "metadata": {},
   "outputs": [
    {
     "name": "stdout",
     "output_type": "stream",
     "text": [
      "*** GP2 ***\n",
      "Working directory: /tmp/tmp28ziahoqGP2\n",
      "Verbose mode active!\n"
     ]
    },
    {
     "name": "stderr",
     "output_type": "stream",
     "text": [
      "2023-04-21 23:06:10.521311: I tensorflow/core/platform/cpu_feature_guard.cc:142] This TensorFlow binary is optimized with oneAPI Deep Neural Network Library (oneDNN) to use the following CPU instructions in performance-critical operations:  AVX2 FMA\n",
      "To enable them in other operations, rebuild TensorFlow with the appropriate compiler flags.\n",
      "2023-04-21 23:06:10.920569: I tensorflow/core/common_runtime/gpu/gpu_device.cc:1733] Found device 0 with properties: \n",
      "pciBusID: 0000:47:00.0 name: A100-SXM4-40GB computeCapability: 8.0\n",
      "coreClock: 1.41GHz coreCount: 108 deviceMemorySize: 39.59GiB deviceMemoryBandwidth: 1.41TiB/s\n",
      "2023-04-21 23:06:10.924539: I tensorflow/core/common_runtime/gpu/gpu_device.cc:1733] Found device 1 with properties: \n",
      "pciBusID: 0000:4e:00.0 name: A100-SXM4-40GB computeCapability: 8.0\n",
      "coreClock: 1.41GHz coreCount: 108 deviceMemorySize: 39.59GiB deviceMemoryBandwidth: 1.41TiB/s\n",
      "2023-04-21 23:06:10.939966: I tensorflow/core/common_runtime/gpu/gpu_device.cc:1871] Adding visible gpu devices: 0, 1\n",
      "2023-04-21 23:06:10.940020: I tensorflow/stream_executor/platform/default/dso_loader.cc:53] Successfully opened dynamic library libcudart.so.11.0\n",
      "2023-04-21 23:06:11.871969: I tensorflow/core/common_runtime/gpu/gpu_device.cc:1258] Device interconnect StreamExecutor with strength 1 edge matrix:\n",
      "2023-04-21 23:06:11.872022: I tensorflow/core/common_runtime/gpu/gpu_device.cc:1264]      0 1 \n",
      "2023-04-21 23:06:11.872028: I tensorflow/core/common_runtime/gpu/gpu_device.cc:1277] 0:   N Y \n",
      "2023-04-21 23:06:11.872032: I tensorflow/core/common_runtime/gpu/gpu_device.cc:1277] 1:   Y N \n",
      "2023-04-21 23:06:11.890981: I tensorflow/core/common_runtime/gpu/gpu_device.cc:1418] Created TensorFlow device (/job:localhost/replica:0/task:0/device:GPU:0 with 38425 MB memory) -> physical GPU (device: 0, name: A100-SXM4-40GB, pci bus id: 0000:47:00.0, compute capability: 8.0)\n",
      "2023-04-21 23:06:11.895202: I tensorflow/core/common_runtime/gpu/gpu_device.cc:1418] Created TensorFlow device (/job:localhost/replica:0/task:0/device:GPU:1 with 38425 MB memory) -> physical GPU (device: 1, name: A100-SXM4-40GB, pci bus id: 0000:4e:00.0, compute capability: 8.0)\n"
     ]
    },
    {
     "name": "stdout",
     "output_type": "stream",
     "text": [
      "Model: \"attunet_model\"\n",
      "__________________________________________________________________________________________________\n",
      "Layer (type)                    Output Shape         Param #     Connected to                     \n",
      "==================================================================================================\n",
      "input_1 (InputLayer)            [(None, 512, 512, 1) 0                                            \n",
      "__________________________________________________________________________________________________\n",
      "attunet_down0_0 (Conv2D)        (None, 512, 512, 16) 160         input_1[0][0]                    \n",
      "__________________________________________________________________________________________________\n",
      "attunet_down0_0_activation (ReL (None, 512, 512, 16) 0           attunet_down0_0[0][0]            \n",
      "__________________________________________________________________________________________________\n",
      "attunet_down0_1 (Conv2D)        (None, 512, 512, 16) 2320        attunet_down0_0_activation[0][0] \n",
      "__________________________________________________________________________________________________\n",
      "attunet_down0_1_activation (ReL (None, 512, 512, 16) 0           attunet_down0_1[0][0]            \n",
      "__________________________________________________________________________________________________\n",
      "attunet_down0_2 (Conv2D)        (None, 512, 512, 16) 2320        attunet_down0_1_activation[0][0] \n",
      "__________________________________________________________________________________________________\n",
      "attunet_down0_2_activation (ReL (None, 512, 512, 16) 0           attunet_down0_2[0][0]            \n",
      "__________________________________________________________________________________________________\n",
      "attunet_down1_encode_avepool (A (None, 256, 256, 16) 0           attunet_down0_2_activation[0][0] \n",
      "__________________________________________________________________________________________________\n",
      "attunet_down1_conv_0 (Conv2D)   (None, 256, 256, 32) 4640        attunet_down1_encode_avepool[0][0\n",
      "__________________________________________________________________________________________________\n",
      "attunet_down1_conv_0_activation (None, 256, 256, 32) 0           attunet_down1_conv_0[0][0]       \n",
      "__________________________________________________________________________________________________\n",
      "attunet_down1_conv_1 (Conv2D)   (None, 256, 256, 32) 9248        attunet_down1_conv_0_activation[0\n",
      "__________________________________________________________________________________________________\n",
      "attunet_down1_conv_1_activation (None, 256, 256, 32) 0           attunet_down1_conv_1[0][0]       \n",
      "__________________________________________________________________________________________________\n",
      "attunet_down1_conv_2 (Conv2D)   (None, 256, 256, 32) 9248        attunet_down1_conv_1_activation[0\n",
      "__________________________________________________________________________________________________\n",
      "attunet_down1_conv_2_activation (None, 256, 256, 32) 0           attunet_down1_conv_2[0][0]       \n",
      "__________________________________________________________________________________________________\n",
      "attunet_down2_encode_avepool (A (None, 128, 128, 32) 0           attunet_down1_conv_2_activation[0\n",
      "__________________________________________________________________________________________________\n",
      "attunet_down2_conv_0 (Conv2D)   (None, 128, 128, 64) 18496       attunet_down2_encode_avepool[0][0\n",
      "__________________________________________________________________________________________________\n",
      "attunet_down2_conv_0_activation (None, 128, 128, 64) 0           attunet_down2_conv_0[0][0]       \n",
      "__________________________________________________________________________________________________\n",
      "attunet_down2_conv_1 (Conv2D)   (None, 128, 128, 64) 36928       attunet_down2_conv_0_activation[0\n",
      "__________________________________________________________________________________________________\n",
      "attunet_down2_conv_1_activation (None, 128, 128, 64) 0           attunet_down2_conv_1[0][0]       \n",
      "__________________________________________________________________________________________________\n",
      "attunet_down2_conv_2 (Conv2D)   (None, 128, 128, 64) 36928       attunet_down2_conv_1_activation[0\n",
      "__________________________________________________________________________________________________\n",
      "attunet_down2_conv_2_activation (None, 128, 128, 64) 0           attunet_down2_conv_2[0][0]       \n",
      "__________________________________________________________________________________________________\n",
      "attunet_down3_encode_avepool (A (None, 64, 64, 64)   0           attunet_down2_conv_2_activation[0\n",
      "__________________________________________________________________________________________________\n",
      "attunet_down3_conv_0 (Conv2D)   (None, 64, 64, 128)  73856       attunet_down3_encode_avepool[0][0\n",
      "__________________________________________________________________________________________________\n",
      "attunet_down3_conv_0_activation (None, 64, 64, 128)  0           attunet_down3_conv_0[0][0]       \n",
      "__________________________________________________________________________________________________\n",
      "attunet_down3_conv_1 (Conv2D)   (None, 64, 64, 128)  147584      attunet_down3_conv_0_activation[0\n",
      "__________________________________________________________________________________________________\n",
      "attunet_down3_conv_1_activation (None, 64, 64, 128)  0           attunet_down3_conv_1[0][0]       \n",
      "__________________________________________________________________________________________________\n",
      "attunet_down3_conv_2 (Conv2D)   (None, 64, 64, 128)  147584      attunet_down3_conv_1_activation[0\n",
      "__________________________________________________________________________________________________\n",
      "attunet_down3_conv_2_activation (None, 64, 64, 128)  0           attunet_down3_conv_2[0][0]       \n",
      "__________________________________________________________________________________________________\n",
      "attunet_down4_encode_avepool (A (None, 32, 32, 128)  0           attunet_down3_conv_2_activation[0\n",
      "__________________________________________________________________________________________________\n",
      "attunet_down4_conv_0 (Conv2D)   (None, 32, 32, 256)  295168      attunet_down4_encode_avepool[0][0\n",
      "__________________________________________________________________________________________________\n",
      "attunet_down4_conv_0_activation (None, 32, 32, 256)  0           attunet_down4_conv_0[0][0]       \n",
      "__________________________________________________________________________________________________\n",
      "attunet_down4_conv_1 (Conv2D)   (None, 32, 32, 256)  590080      attunet_down4_conv_0_activation[0\n",
      "__________________________________________________________________________________________________\n",
      "attunet_down4_conv_1_activation (None, 32, 32, 256)  0           attunet_down4_conv_1[0][0]       \n",
      "__________________________________________________________________________________________________\n",
      "attunet_down4_conv_2 (Conv2D)   (None, 32, 32, 256)  590080      attunet_down4_conv_1_activation[0\n",
      "__________________________________________________________________________________________________\n",
      "attunet_down4_conv_2_activation (None, 32, 32, 256)  0           attunet_down4_conv_2[0][0]       \n",
      "__________________________________________________________________________________________________\n",
      "attunet_down5_encode_avepool (A (None, 16, 16, 256)  0           attunet_down4_conv_2_activation[0\n",
      "__________________________________________________________________________________________________\n",
      "attunet_down5_conv_0 (Conv2D)   (None, 16, 16, 512)  1180160     attunet_down5_encode_avepool[0][0\n",
      "__________________________________________________________________________________________________\n",
      "attunet_down5_conv_0_activation (None, 16, 16, 512)  0           attunet_down5_conv_0[0][0]       \n",
      "__________________________________________________________________________________________________\n",
      "attunet_down5_conv_1 (Conv2D)   (None, 16, 16, 512)  2359808     attunet_down5_conv_0_activation[0\n",
      "__________________________________________________________________________________________________\n",
      "attunet_down5_conv_1_activation (None, 16, 16, 512)  0           attunet_down5_conv_1[0][0]       \n",
      "__________________________________________________________________________________________________\n",
      "attunet_down5_conv_2 (Conv2D)   (None, 16, 16, 512)  2359808     attunet_down5_conv_1_activation[0\n",
      "__________________________________________________________________________________________________\n",
      "attunet_down5_conv_2_activation (None, 16, 16, 512)  0           attunet_down5_conv_2[0][0]       \n",
      "__________________________________________________________________________________________________\n",
      "attunet_down6_encode_avepool (A (None, 8, 8, 512)    0           attunet_down5_conv_2_activation[0\n",
      "__________________________________________________________________________________________________\n",
      "attunet_down6_conv_0 (Conv2D)   (None, 8, 8, 1024)   4719616     attunet_down6_encode_avepool[0][0\n",
      "__________________________________________________________________________________________________\n",
      "attunet_down6_conv_0_activation (None, 8, 8, 1024)   0           attunet_down6_conv_0[0][0]       \n",
      "__________________________________________________________________________________________________\n",
      "attunet_down6_conv_1 (Conv2D)   (None, 8, 8, 1024)   9438208     attunet_down6_conv_0_activation[0\n",
      "__________________________________________________________________________________________________\n",
      "attunet_down6_conv_1_activation (None, 8, 8, 1024)   0           attunet_down6_conv_1[0][0]       \n",
      "__________________________________________________________________________________________________\n",
      "attunet_down6_conv_2 (Conv2D)   (None, 8, 8, 1024)   9438208     attunet_down6_conv_1_activation[0\n",
      "__________________________________________________________________________________________________\n",
      "attunet_down6_conv_2_activation (None, 8, 8, 1024)   0           attunet_down6_conv_2[0][0]       \n",
      "__________________________________________________________________________________________________\n",
      "attunet_down7_encode_avepool (A (None, 4, 4, 1024)   0           attunet_down6_conv_2_activation[0\n",
      "__________________________________________________________________________________________________\n",
      "attunet_down7_conv_0 (Conv2D)   (None, 4, 4, 2048)   18876416    attunet_down7_encode_avepool[0][0\n",
      "__________________________________________________________________________________________________\n",
      "attunet_down7_conv_0_activation (None, 4, 4, 2048)   0           attunet_down7_conv_0[0][0]       \n",
      "__________________________________________________________________________________________________\n",
      "attunet_down7_conv_1 (Conv2D)   (None, 4, 4, 2048)   37750784    attunet_down7_conv_0_activation[0\n",
      "__________________________________________________________________________________________________\n",
      "attunet_down7_conv_1_activation (None, 4, 4, 2048)   0           attunet_down7_conv_1[0][0]       \n",
      "__________________________________________________________________________________________________\n",
      "attunet_down7_conv_2 (Conv2D)   (None, 4, 4, 2048)   37750784    attunet_down7_conv_1_activation[0\n",
      "__________________________________________________________________________________________________\n",
      "attunet_down7_conv_2_activation (None, 4, 4, 2048)   0           attunet_down7_conv_2[0][0]       \n",
      "__________________________________________________________________________________________________\n",
      "attunet_down8_encode_avepool (A (None, 2, 2, 2048)   0           attunet_down7_conv_2_activation[0\n",
      "__________________________________________________________________________________________________\n",
      "attunet_down8_conv_0 (Conv2D)   (None, 2, 2, 4096)   75501568    attunet_down8_encode_avepool[0][0\n",
      "__________________________________________________________________________________________________\n",
      "attunet_down8_conv_0_activation (None, 2, 2, 4096)   0           attunet_down8_conv_0[0][0]       \n",
      "__________________________________________________________________________________________________\n",
      "attunet_down8_conv_1 (Conv2D)   (None, 2, 2, 4096)   150999040   attunet_down8_conv_0_activation[0\n",
      "__________________________________________________________________________________________________\n",
      "attunet_down8_conv_1_activation (None, 2, 2, 4096)   0           attunet_down8_conv_1[0][0]       \n",
      "__________________________________________________________________________________________________\n",
      "attunet_down8_conv_2 (Conv2D)   (None, 2, 2, 4096)   150999040   attunet_down8_conv_1_activation[0\n",
      "__________________________________________________________________________________________________\n",
      "attunet_down8_conv_2_activation (None, 2, 2, 4096)   0           attunet_down8_conv_2[0][0]       \n",
      "__________________________________________________________________________________________________\n",
      "attunet_up0_decode_unpool (UpSa (None, 4, 4, 4096)   0           attunet_down8_conv_2_activation[0\n",
      "__________________________________________________________________________________________________\n",
      "attunet_up0_att_theta_x (Conv2D (None, 4, 4, 1024)   2098176     attunet_down7_conv_2_activation[0\n",
      "__________________________________________________________________________________________________\n",
      "attunet_up0_att_phi_g (Conv2D)  (None, 4, 4, 1024)   4195328     attunet_up0_decode_unpool[0][0]  \n",
      "__________________________________________________________________________________________________\n",
      "attunet_up0_att_add (Add)       (None, 4, 4, 1024)   0           attunet_up0_att_theta_x[0][0]    \n",
      "                                                                 attunet_up0_att_phi_g[0][0]      \n",
      "__________________________________________________________________________________________________\n",
      "attunet_up0_att_activation (ReL (None, 4, 4, 1024)   0           attunet_up0_att_add[0][0]        \n",
      "__________________________________________________________________________________________________\n",
      "attunet_up0_att_psi_f (Conv2D)  (None, 4, 4, 1)      1025        attunet_up0_att_activation[0][0] \n",
      "__________________________________________________________________________________________________\n",
      "attunet_up0_att_sigmoid (Activa (None, 4, 4, 1)      0           attunet_up0_att_psi_f[0][0]      \n",
      "__________________________________________________________________________________________________\n",
      "attunet_up0_att_masking (Multip (None, 4, 4, 2048)   0           attunet_down7_conv_2_activation[0\n",
      "                                                                 attunet_up0_att_sigmoid[0][0]    \n",
      "__________________________________________________________________________________________________\n",
      "attunet_up0_concat (Concatenate (None, 4, 4, 6144)   0           attunet_up0_decode_unpool[0][0]  \n",
      "                                                                 attunet_up0_att_masking[0][0]    \n",
      "__________________________________________________________________________________________________\n",
      "attunet_up0_conv_after_concat_0 (None, 4, 4, 2048)   113248256   attunet_up0_concat[0][0]         \n",
      "__________________________________________________________________________________________________\n",
      "attunet_up0_conv_after_concat_0 (None, 4, 4, 2048)   0           attunet_up0_conv_after_concat_0[0\n",
      "__________________________________________________________________________________________________\n",
      "attunet_up0_conv_after_concat_1 (None, 4, 4, 2048)   37750784    attunet_up0_conv_after_concat_0_a\n",
      "__________________________________________________________________________________________________\n",
      "attunet_up0_conv_after_concat_1 (None, 4, 4, 2048)   0           attunet_up0_conv_after_concat_1[0\n",
      "__________________________________________________________________________________________________\n",
      "attunet_up0_conv_after_concat_2 (None, 4, 4, 2048)   37750784    attunet_up0_conv_after_concat_1_a\n",
      "__________________________________________________________________________________________________\n",
      "attunet_up0_conv_after_concat_2 (None, 4, 4, 2048)   0           attunet_up0_conv_after_concat_2[0\n",
      "__________________________________________________________________________________________________\n",
      "attunet_up1_decode_unpool (UpSa (None, 8, 8, 2048)   0           attunet_up0_conv_after_concat_2_a\n",
      "__________________________________________________________________________________________________\n",
      "attunet_up1_att_theta_x (Conv2D (None, 8, 8, 512)    524800      attunet_down6_conv_2_activation[0\n",
      "__________________________________________________________________________________________________\n",
      "attunet_up1_att_phi_g (Conv2D)  (None, 8, 8, 512)    1049088     attunet_up1_decode_unpool[0][0]  \n",
      "__________________________________________________________________________________________________\n",
      "attunet_up1_att_add (Add)       (None, 8, 8, 512)    0           attunet_up1_att_theta_x[0][0]    \n",
      "                                                                 attunet_up1_att_phi_g[0][0]      \n",
      "__________________________________________________________________________________________________\n",
      "attunet_up1_att_activation (ReL (None, 8, 8, 512)    0           attunet_up1_att_add[0][0]        \n",
      "__________________________________________________________________________________________________\n",
      "attunet_up1_att_psi_f (Conv2D)  (None, 8, 8, 1)      513         attunet_up1_att_activation[0][0] \n",
      "__________________________________________________________________________________________________\n",
      "attunet_up1_att_sigmoid (Activa (None, 8, 8, 1)      0           attunet_up1_att_psi_f[0][0]      \n",
      "__________________________________________________________________________________________________\n",
      "attunet_up1_att_masking (Multip (None, 8, 8, 1024)   0           attunet_down6_conv_2_activation[0\n",
      "                                                                 attunet_up1_att_sigmoid[0][0]    \n",
      "__________________________________________________________________________________________________\n",
      "attunet_up1_concat (Concatenate (None, 8, 8, 3072)   0           attunet_up1_decode_unpool[0][0]  \n",
      "                                                                 attunet_up1_att_masking[0][0]    \n",
      "__________________________________________________________________________________________________\n",
      "attunet_up1_conv_after_concat_0 (None, 8, 8, 1024)   28312576    attunet_up1_concat[0][0]         \n",
      "__________________________________________________________________________________________________\n",
      "attunet_up1_conv_after_concat_0 (None, 8, 8, 1024)   0           attunet_up1_conv_after_concat_0[0\n",
      "__________________________________________________________________________________________________\n",
      "attunet_up1_conv_after_concat_1 (None, 8, 8, 1024)   9438208     attunet_up1_conv_after_concat_0_a\n",
      "__________________________________________________________________________________________________\n",
      "attunet_up1_conv_after_concat_1 (None, 8, 8, 1024)   0           attunet_up1_conv_after_concat_1[0\n",
      "__________________________________________________________________________________________________\n",
      "attunet_up1_conv_after_concat_2 (None, 8, 8, 1024)   9438208     attunet_up1_conv_after_concat_1_a\n",
      "__________________________________________________________________________________________________\n",
      "attunet_up1_conv_after_concat_2 (None, 8, 8, 1024)   0           attunet_up1_conv_after_concat_2[0\n",
      "__________________________________________________________________________________________________\n",
      "attunet_up2_decode_unpool (UpSa (None, 16, 16, 1024) 0           attunet_up1_conv_after_concat_2_a\n",
      "__________________________________________________________________________________________________\n",
      "attunet_up2_att_theta_x (Conv2D (None, 16, 16, 256)  131328      attunet_down5_conv_2_activation[0\n",
      "__________________________________________________________________________________________________\n",
      "attunet_up2_att_phi_g (Conv2D)  (None, 16, 16, 256)  262400      attunet_up2_decode_unpool[0][0]  \n",
      "__________________________________________________________________________________________________\n",
      "attunet_up2_att_add (Add)       (None, 16, 16, 256)  0           attunet_up2_att_theta_x[0][0]    \n",
      "                                                                 attunet_up2_att_phi_g[0][0]      \n",
      "__________________________________________________________________________________________________\n",
      "attunet_up2_att_activation (ReL (None, 16, 16, 256)  0           attunet_up2_att_add[0][0]        \n",
      "__________________________________________________________________________________________________\n",
      "attunet_up2_att_psi_f (Conv2D)  (None, 16, 16, 1)    257         attunet_up2_att_activation[0][0] \n",
      "__________________________________________________________________________________________________\n",
      "attunet_up2_att_sigmoid (Activa (None, 16, 16, 1)    0           attunet_up2_att_psi_f[0][0]      \n",
      "__________________________________________________________________________________________________\n",
      "attunet_up2_att_masking (Multip (None, 16, 16, 512)  0           attunet_down5_conv_2_activation[0\n",
      "                                                                 attunet_up2_att_sigmoid[0][0]    \n",
      "__________________________________________________________________________________________________\n",
      "attunet_up2_concat (Concatenate (None, 16, 16, 1536) 0           attunet_up2_decode_unpool[0][0]  \n",
      "                                                                 attunet_up2_att_masking[0][0]    \n",
      "__________________________________________________________________________________________________\n",
      "attunet_up2_conv_after_concat_0 (None, 16, 16, 512)  7078400     attunet_up2_concat[0][0]         \n",
      "__________________________________________________________________________________________________\n",
      "attunet_up2_conv_after_concat_0 (None, 16, 16, 512)  0           attunet_up2_conv_after_concat_0[0\n",
      "__________________________________________________________________________________________________\n",
      "attunet_up2_conv_after_concat_1 (None, 16, 16, 512)  2359808     attunet_up2_conv_after_concat_0_a\n",
      "__________________________________________________________________________________________________\n",
      "attunet_up2_conv_after_concat_1 (None, 16, 16, 512)  0           attunet_up2_conv_after_concat_1[0\n",
      "__________________________________________________________________________________________________\n",
      "attunet_up2_conv_after_concat_2 (None, 16, 16, 512)  2359808     attunet_up2_conv_after_concat_1_a\n",
      "__________________________________________________________________________________________________\n",
      "attunet_up2_conv_after_concat_2 (None, 16, 16, 512)  0           attunet_up2_conv_after_concat_2[0\n",
      "__________________________________________________________________________________________________\n",
      "attunet_up3_decode_unpool (UpSa (None, 32, 32, 512)  0           attunet_up2_conv_after_concat_2_a\n",
      "__________________________________________________________________________________________________\n",
      "attunet_up3_att_theta_x (Conv2D (None, 32, 32, 128)  32896       attunet_down4_conv_2_activation[0\n",
      "__________________________________________________________________________________________________\n",
      "attunet_up3_att_phi_g (Conv2D)  (None, 32, 32, 128)  65664       attunet_up3_decode_unpool[0][0]  \n",
      "__________________________________________________________________________________________________\n",
      "attunet_up3_att_add (Add)       (None, 32, 32, 128)  0           attunet_up3_att_theta_x[0][0]    \n",
      "                                                                 attunet_up3_att_phi_g[0][0]      \n",
      "__________________________________________________________________________________________________\n",
      "attunet_up3_att_activation (ReL (None, 32, 32, 128)  0           attunet_up3_att_add[0][0]        \n",
      "__________________________________________________________________________________________________\n",
      "attunet_up3_att_psi_f (Conv2D)  (None, 32, 32, 1)    129         attunet_up3_att_activation[0][0] \n",
      "__________________________________________________________________________________________________\n",
      "attunet_up3_att_sigmoid (Activa (None, 32, 32, 1)    0           attunet_up3_att_psi_f[0][0]      \n",
      "__________________________________________________________________________________________________\n",
      "attunet_up3_att_masking (Multip (None, 32, 32, 256)  0           attunet_down4_conv_2_activation[0\n",
      "                                                                 attunet_up3_att_sigmoid[0][0]    \n",
      "__________________________________________________________________________________________________\n",
      "attunet_up3_concat (Concatenate (None, 32, 32, 768)  0           attunet_up3_decode_unpool[0][0]  \n",
      "                                                                 attunet_up3_att_masking[0][0]    \n",
      "__________________________________________________________________________________________________\n",
      "attunet_up3_conv_after_concat_0 (None, 32, 32, 256)  1769728     attunet_up3_concat[0][0]         \n",
      "__________________________________________________________________________________________________\n",
      "attunet_up3_conv_after_concat_0 (None, 32, 32, 256)  0           attunet_up3_conv_after_concat_0[0\n",
      "__________________________________________________________________________________________________\n",
      "attunet_up3_conv_after_concat_1 (None, 32, 32, 256)  590080      attunet_up3_conv_after_concat_0_a\n",
      "__________________________________________________________________________________________________\n",
      "attunet_up3_conv_after_concat_1 (None, 32, 32, 256)  0           attunet_up3_conv_after_concat_1[0\n",
      "__________________________________________________________________________________________________\n",
      "attunet_up3_conv_after_concat_2 (None, 32, 32, 256)  590080      attunet_up3_conv_after_concat_1_a\n",
      "__________________________________________________________________________________________________\n",
      "attunet_up3_conv_after_concat_2 (None, 32, 32, 256)  0           attunet_up3_conv_after_concat_2[0\n",
      "__________________________________________________________________________________________________\n",
      "attunet_up4_decode_unpool (UpSa (None, 64, 64, 256)  0           attunet_up3_conv_after_concat_2_a\n",
      "__________________________________________________________________________________________________\n",
      "attunet_up4_att_theta_x (Conv2D (None, 64, 64, 64)   8256        attunet_down3_conv_2_activation[0\n",
      "__________________________________________________________________________________________________\n",
      "attunet_up4_att_phi_g (Conv2D)  (None, 64, 64, 64)   16448       attunet_up4_decode_unpool[0][0]  \n",
      "__________________________________________________________________________________________________\n",
      "attunet_up4_att_add (Add)       (None, 64, 64, 64)   0           attunet_up4_att_theta_x[0][0]    \n",
      "                                                                 attunet_up4_att_phi_g[0][0]      \n",
      "__________________________________________________________________________________________________\n",
      "attunet_up4_att_activation (ReL (None, 64, 64, 64)   0           attunet_up4_att_add[0][0]        \n",
      "__________________________________________________________________________________________________\n",
      "attunet_up4_att_psi_f (Conv2D)  (None, 64, 64, 1)    65          attunet_up4_att_activation[0][0] \n",
      "__________________________________________________________________________________________________\n",
      "attunet_up4_att_sigmoid (Activa (None, 64, 64, 1)    0           attunet_up4_att_psi_f[0][0]      \n",
      "__________________________________________________________________________________________________\n",
      "attunet_up4_att_masking (Multip (None, 64, 64, 128)  0           attunet_down3_conv_2_activation[0\n",
      "                                                                 attunet_up4_att_sigmoid[0][0]    \n",
      "__________________________________________________________________________________________________\n",
      "attunet_up4_concat (Concatenate (None, 64, 64, 384)  0           attunet_up4_decode_unpool[0][0]  \n",
      "                                                                 attunet_up4_att_masking[0][0]    \n",
      "__________________________________________________________________________________________________\n",
      "attunet_up4_conv_after_concat_0 (None, 64, 64, 128)  442496      attunet_up4_concat[0][0]         \n",
      "__________________________________________________________________________________________________\n",
      "attunet_up4_conv_after_concat_0 (None, 64, 64, 128)  0           attunet_up4_conv_after_concat_0[0\n",
      "__________________________________________________________________________________________________\n",
      "attunet_up4_conv_after_concat_1 (None, 64, 64, 128)  147584      attunet_up4_conv_after_concat_0_a\n",
      "__________________________________________________________________________________________________\n",
      "attunet_up4_conv_after_concat_1 (None, 64, 64, 128)  0           attunet_up4_conv_after_concat_1[0\n",
      "__________________________________________________________________________________________________\n",
      "attunet_up4_conv_after_concat_2 (None, 64, 64, 128)  147584      attunet_up4_conv_after_concat_1_a\n",
      "__________________________________________________________________________________________________\n",
      "attunet_up4_conv_after_concat_2 (None, 64, 64, 128)  0           attunet_up4_conv_after_concat_2[0\n",
      "__________________________________________________________________________________________________\n",
      "attunet_up5_decode_unpool (UpSa (None, 128, 128, 128 0           attunet_up4_conv_after_concat_2_a\n",
      "__________________________________________________________________________________________________\n",
      "attunet_up5_att_theta_x (Conv2D (None, 128, 128, 32) 2080        attunet_down2_conv_2_activation[0\n",
      "__________________________________________________________________________________________________\n",
      "attunet_up5_att_phi_g (Conv2D)  (None, 128, 128, 32) 4128        attunet_up5_decode_unpool[0][0]  \n",
      "__________________________________________________________________________________________________\n",
      "attunet_up5_att_add (Add)       (None, 128, 128, 32) 0           attunet_up5_att_theta_x[0][0]    \n",
      "                                                                 attunet_up5_att_phi_g[0][0]      \n",
      "__________________________________________________________________________________________________\n",
      "attunet_up5_att_activation (ReL (None, 128, 128, 32) 0           attunet_up5_att_add[0][0]        \n",
      "__________________________________________________________________________________________________\n",
      "attunet_up5_att_psi_f (Conv2D)  (None, 128, 128, 1)  33          attunet_up5_att_activation[0][0] \n",
      "__________________________________________________________________________________________________\n",
      "attunet_up5_att_sigmoid (Activa (None, 128, 128, 1)  0           attunet_up5_att_psi_f[0][0]      \n",
      "__________________________________________________________________________________________________\n",
      "attunet_up5_att_masking (Multip (None, 128, 128, 64) 0           attunet_down2_conv_2_activation[0\n",
      "                                                                 attunet_up5_att_sigmoid[0][0]    \n",
      "__________________________________________________________________________________________________\n",
      "attunet_up5_concat (Concatenate (None, 128, 128, 192 0           attunet_up5_decode_unpool[0][0]  \n",
      "                                                                 attunet_up5_att_masking[0][0]    \n",
      "__________________________________________________________________________________________________\n",
      "attunet_up5_conv_after_concat_0 (None, 128, 128, 64) 110656      attunet_up5_concat[0][0]         \n",
      "__________________________________________________________________________________________________\n",
      "attunet_up5_conv_after_concat_0 (None, 128, 128, 64) 0           attunet_up5_conv_after_concat_0[0\n",
      "__________________________________________________________________________________________________\n",
      "attunet_up5_conv_after_concat_1 (None, 128, 128, 64) 36928       attunet_up5_conv_after_concat_0_a\n",
      "__________________________________________________________________________________________________\n",
      "attunet_up5_conv_after_concat_1 (None, 128, 128, 64) 0           attunet_up5_conv_after_concat_1[0\n",
      "__________________________________________________________________________________________________\n",
      "attunet_up5_conv_after_concat_2 (None, 128, 128, 64) 36928       attunet_up5_conv_after_concat_1_a\n",
      "__________________________________________________________________________________________________\n",
      "attunet_up5_conv_after_concat_2 (None, 128, 128, 64) 0           attunet_up5_conv_after_concat_2[0\n",
      "__________________________________________________________________________________________________\n",
      "attunet_up6_decode_unpool (UpSa (None, 256, 256, 64) 0           attunet_up5_conv_after_concat_2_a\n",
      "__________________________________________________________________________________________________\n",
      "attunet_up6_att_theta_x (Conv2D (None, 256, 256, 16) 528         attunet_down1_conv_2_activation[0\n",
      "__________________________________________________________________________________________________\n",
      "attunet_up6_att_phi_g (Conv2D)  (None, 256, 256, 16) 1040        attunet_up6_decode_unpool[0][0]  \n",
      "__________________________________________________________________________________________________\n",
      "attunet_up6_att_add (Add)       (None, 256, 256, 16) 0           attunet_up6_att_theta_x[0][0]    \n",
      "                                                                 attunet_up6_att_phi_g[0][0]      \n",
      "__________________________________________________________________________________________________\n",
      "attunet_up6_att_activation (ReL (None, 256, 256, 16) 0           attunet_up6_att_add[0][0]        \n",
      "__________________________________________________________________________________________________\n",
      "attunet_up6_att_psi_f (Conv2D)  (None, 256, 256, 1)  17          attunet_up6_att_activation[0][0] \n",
      "__________________________________________________________________________________________________\n",
      "attunet_up6_att_sigmoid (Activa (None, 256, 256, 1)  0           attunet_up6_att_psi_f[0][0]      \n",
      "__________________________________________________________________________________________________\n",
      "attunet_up6_att_masking (Multip (None, 256, 256, 32) 0           attunet_down1_conv_2_activation[0\n",
      "                                                                 attunet_up6_att_sigmoid[0][0]    \n",
      "__________________________________________________________________________________________________\n",
      "attunet_up6_concat (Concatenate (None, 256, 256, 96) 0           attunet_up6_decode_unpool[0][0]  \n",
      "                                                                 attunet_up6_att_masking[0][0]    \n",
      "__________________________________________________________________________________________________\n",
      "attunet_up6_conv_after_concat_0 (None, 256, 256, 32) 27680       attunet_up6_concat[0][0]         \n",
      "__________________________________________________________________________________________________\n",
      "attunet_up6_conv_after_concat_0 (None, 256, 256, 32) 0           attunet_up6_conv_after_concat_0[0\n",
      "__________________________________________________________________________________________________\n",
      "attunet_up6_conv_after_concat_1 (None, 256, 256, 32) 9248        attunet_up6_conv_after_concat_0_a\n",
      "__________________________________________________________________________________________________\n",
      "attunet_up6_conv_after_concat_1 (None, 256, 256, 32) 0           attunet_up6_conv_after_concat_1[0\n",
      "__________________________________________________________________________________________________\n",
      "attunet_up6_conv_after_concat_2 (None, 256, 256, 32) 9248        attunet_up6_conv_after_concat_1_a\n",
      "__________________________________________________________________________________________________\n",
      "attunet_up6_conv_after_concat_2 (None, 256, 256, 32) 0           attunet_up6_conv_after_concat_2[0\n",
      "__________________________________________________________________________________________________\n",
      "attunet_up7_decode_unpool (UpSa (None, 512, 512, 32) 0           attunet_up6_conv_after_concat_2_a\n",
      "__________________________________________________________________________________________________\n",
      "attunet_up7_att_theta_x (Conv2D (None, 512, 512, 8)  136         attunet_down0_2_activation[0][0] \n",
      "__________________________________________________________________________________________________\n",
      "attunet_up7_att_phi_g (Conv2D)  (None, 512, 512, 8)  264         attunet_up7_decode_unpool[0][0]  \n",
      "__________________________________________________________________________________________________\n",
      "attunet_up7_att_add (Add)       (None, 512, 512, 8)  0           attunet_up7_att_theta_x[0][0]    \n",
      "                                                                 attunet_up7_att_phi_g[0][0]      \n",
      "__________________________________________________________________________________________________\n",
      "attunet_up7_att_activation (ReL (None, 512, 512, 8)  0           attunet_up7_att_add[0][0]        \n",
      "__________________________________________________________________________________________________\n",
      "attunet_up7_att_psi_f (Conv2D)  (None, 512, 512, 1)  9           attunet_up7_att_activation[0][0] \n",
      "__________________________________________________________________________________________________\n",
      "attunet_up7_att_sigmoid (Activa (None, 512, 512, 1)  0           attunet_up7_att_psi_f[0][0]      \n",
      "__________________________________________________________________________________________________\n",
      "attunet_up7_att_masking (Multip (None, 512, 512, 16) 0           attunet_down0_2_activation[0][0] \n",
      "                                                                 attunet_up7_att_sigmoid[0][0]    \n",
      "__________________________________________________________________________________________________\n",
      "attunet_up7_concat (Concatenate (None, 512, 512, 48) 0           attunet_up7_decode_unpool[0][0]  \n",
      "                                                                 attunet_up7_att_masking[0][0]    \n",
      "__________________________________________________________________________________________________\n",
      "attunet_up7_conv_after_concat_0 (None, 512, 512, 16) 6928        attunet_up7_concat[0][0]         \n",
      "__________________________________________________________________________________________________\n",
      "attunet_up7_conv_after_concat_0 (None, 512, 512, 16) 0           attunet_up7_conv_after_concat_0[0\n",
      "__________________________________________________________________________________________________\n",
      "attunet_up7_conv_after_concat_1 (None, 512, 512, 16) 2320        attunet_up7_conv_after_concat_0_a\n",
      "__________________________________________________________________________________________________\n",
      "attunet_up7_conv_after_concat_1 (None, 512, 512, 16) 0           attunet_up7_conv_after_concat_1[0\n",
      "__________________________________________________________________________________________________\n",
      "attunet_up7_conv_after_concat_2 (None, 512, 512, 16) 2320        attunet_up7_conv_after_concat_1_a\n",
      "__________________________________________________________________________________________________\n",
      "attunet_up7_conv_after_concat_2 (None, 512, 512, 16) 0           attunet_up7_conv_after_concat_2[0\n",
      "__________________________________________________________________________________________________\n",
      "attunet_output (Conv2D)         (None, 512, 512, 1)  17          attunet_up7_conv_after_concat_2_a\n",
      "__________________________________________________________________________________________________\n",
      "attunet_output_activation (Acti (None, 512, 512, 1)  0           attunet_output[0][0]             \n",
      "==================================================================================================\n",
      "Total params: 763,399,345\n",
      "Trainable params: 763,399,345\n",
      "Non-trainable params: 0\n",
      "__________________________________________________________________________________________________\n"
     ]
    }
   ],
   "source": [
    "R = Runner(verbose=True, classifier='kattunet2d')"
   ]
  },
  {
   "cell_type": "code",
   "execution_count": 5,
   "id": "87b0c65d",
   "metadata": {},
   "outputs": [],
   "source": [
    "# load our larger toy dataset (10k images and masks)\n",
    "images = np.load('/hpcstor6/scratch01/r/ryan.zurrin001/GP2TOYEXAMPLE_LARGE/images.npy')\n",
    "masks = np.load('/hpcstor6/scratch01/r/ryan.zurrin001/GP2TOYEXAMPLE_LARGE/masks.npy')"
   ]
  },
  {
   "cell_type": "code",
   "execution_count": 6,
   "id": "7330ad24",
   "metadata": {},
   "outputs": [],
   "source": [
    "images = images[:5000]\n",
    "masks = masks[:5000]"
   ]
  },
  {
   "cell_type": "code",
   "execution_count": 7,
   "id": "d5b4179a",
   "metadata": {},
   "outputs": [
    {
     "data": {
      "text/plain": [
       "(5000, 512, 512, 1)"
      ]
     },
     "execution_count": 7,
     "metadata": {},
     "output_type": "execute_result"
    }
   ],
   "source": [
    "images.shape"
   ]
  },
  {
   "cell_type": "code",
   "execution_count": 8,
   "id": "57033c4e",
   "metadata": {},
   "outputs": [
    {
     "data": {
      "text/plain": [
       "(5000, 512, 512, 1)"
      ]
     },
     "execution_count": 8,
     "metadata": {},
     "output_type": "execute_result"
    }
   ],
   "source": [
    "masks.shape"
   ]
  },
  {
   "cell_type": "code",
   "execution_count": 9,
   "id": "393c7029",
   "metadata": {},
   "outputs": [
    {
     "name": "stdout",
     "output_type": "stream",
     "text": [
      "255\n"
     ]
    }
   ],
   "source": [
    "print(images.max())"
   ]
  },
  {
   "cell_type": "code",
   "execution_count": 10,
   "id": "97eca1aa",
   "metadata": {},
   "outputs": [
    {
     "name": "stdout",
     "output_type": "stream",
     "text": [
      "0\n"
     ]
    }
   ],
   "source": [
    "print(images.min())"
   ]
  },
  {
   "cell_type": "code",
   "execution_count": 11,
   "id": "2821eb86",
   "metadata": {},
   "outputs": [
    {
     "name": "stdout",
     "output_type": "stream",
     "text": [
      "True\n"
     ]
    }
   ],
   "source": [
    "print(masks.max())"
   ]
  },
  {
   "cell_type": "code",
   "execution_count": 12,
   "id": "1dd71668",
   "metadata": {},
   "outputs": [],
   "source": [
    "weights = {\n",
    "    'A': 0.5,\n",
    "    'A_train': 0.1,\n",
    "    'A_val': 0.3,\n",
    "    'A_test': 0.6,\n",
    "    'B': 0.3,\n",
    "    'B_train': 0.7,\n",
    "    'B_val': 0.1,\n",
    "    'B_test': 0.2,\n",
    "    'Z': 0.2\n",
    "}\n",
    "PERCENT_TO_REPLACE = 30"
   ]
  },
  {
   "cell_type": "code",
   "execution_count": 13,
   "id": "2a5d1030",
   "metadata": {},
   "outputs": [
    {
     "name": "stdout",
     "output_type": "stream",
     "text": [
      "Weights OK!\n"
     ]
    }
   ],
   "source": [
    "R.setup_data(images, masks, dataset_size=5000, weights=weights)"
   ]
  },
  {
   "cell_type": "code",
   "execution_count": 14,
   "id": "c04e6b0f",
   "metadata": {},
   "outputs": [],
   "source": [
    "RUNS = 5"
   ]
  },
  {
   "cell_type": "code",
   "execution_count": 15,
   "id": "d8ff85c4",
   "metadata": {
    "scrolled": true
   },
   "outputs": [
    {
     "name": "stdout",
     "output_type": "stream",
     "text": [
      "***\n",
      "RUN: 0\n"
     ]
    },
    {
     "name": "stderr",
     "output_type": "stream",
     "text": [
      "2023-04-21 23:06:37.418550: I tensorflow/compiler/mlir/mlir_graph_optimization_pass.cc:176] None of the MLIR Optimization Passes are enabled (registered 2)\n",
      "2023-04-21 23:06:37.439048: I tensorflow/core/platform/profile_utils/cpu_utils.cc:114] CPU Frequency: 2245755000 Hz\n"
     ]
    },
    {
     "name": "stdout",
     "output_type": "stream",
     "text": [
      "Epoch 1/100\n"
     ]
    },
    {
     "name": "stderr",
     "output_type": "stream",
     "text": [
      "2023-04-21 23:06:42.506054: I tensorflow/stream_executor/platform/default/dso_loader.cc:53] Successfully opened dynamic library libcudnn.so.8\n",
      "2023-04-21 23:06:43.259217: I tensorflow/stream_executor/cuda/cuda_dnn.cc:359] Loaded cuDNN version 8201\n",
      "2023-04-21 23:06:43.941450: W tensorflow/stream_executor/gpu/asm_compiler.cc:191] Falling back to the CUDA driver for PTX compilation; ptxas does not support CC 8.0\n",
      "2023-04-21 23:06:43.941474: W tensorflow/stream_executor/gpu/asm_compiler.cc:194] Used ptxas at ptxas\n",
      "2023-04-21 23:06:43.941532: W tensorflow/stream_executor/gpu/redzone_allocator.cc:314] Unimplemented: ptxas ptxas too old. Falling back to the driver to compile.\n",
      "Relying on driver to perform ptx compilation. \n",
      "Modify $PATH to customize ptxas location.\n",
      "This message will be only logged once.\n",
      "2023-04-21 23:06:43.957343: I tensorflow/stream_executor/platform/default/dso_loader.cc:53] Successfully opened dynamic library libcublas.so.11\n",
      "2023-04-21 23:06:44.723526: I tensorflow/stream_executor/platform/default/dso_loader.cc:53] Successfully opened dynamic library libcublasLt.so.11\n"
     ]
    },
    {
     "name": "stdout",
     "output_type": "stream",
     "text": [
      "4/4 [==============================] - 52s 8s/step - loss: 0.6679 - dice_coef: 0.1611 - val_loss: 0.6641 - val_dice_coef: 0.1617\n"
     ]
    },
    {
     "name": "stderr",
     "output_type": "stream",
     "text": [
      "2023-04-21 23:07:32.782351: W tensorflow/python/util/util.cc:348] Sets are not currently considered sequences, but this may change in the future, so consider avoiding using them.\n",
      "/home/ryan.zurrin001/miniconda3/envs/O/lib/python3.9/site-packages/tensorflow/python/keras/utils/generic_utils.py:494: CustomMaskWarning: Custom mask layers require a config and must override get_config. When loading, the custom mask layer must be passed to the custom_objects argument.\n",
      "  warnings.warn('Custom mask layers require a config and must override '\n"
     ]
    },
    {
     "name": "stdout",
     "output_type": "stream",
     "text": [
      "Epoch 2/100\n",
      "4/4 [==============================] - 4s 1s/step - loss: 0.6616 - dice_coef: 0.1603 - val_loss: 0.6582 - val_dice_coef: 0.1609\n"
     ]
    },
    {
     "name": "stderr",
     "output_type": "stream",
     "text": [
      "/home/ryan.zurrin001/miniconda3/envs/O/lib/python3.9/site-packages/tensorflow/python/keras/utils/generic_utils.py:494: CustomMaskWarning: Custom mask layers require a config and must override get_config. When loading, the custom mask layer must be passed to the custom_objects argument.\n",
      "  warnings.warn('Custom mask layers require a config and must override '\n"
     ]
    },
    {
     "name": "stdout",
     "output_type": "stream",
     "text": [
      "Epoch 3/100\n",
      "4/4 [==============================] - 4s 1s/step - loss: 0.6552 - dice_coef: 0.1595 - val_loss: 0.6526 - val_dice_coef: 0.1602\n"
     ]
    },
    {
     "name": "stderr",
     "output_type": "stream",
     "text": [
      "/home/ryan.zurrin001/miniconda3/envs/O/lib/python3.9/site-packages/tensorflow/python/keras/utils/generic_utils.py:494: CustomMaskWarning: Custom mask layers require a config and must override get_config. When loading, the custom mask layer must be passed to the custom_objects argument.\n",
      "  warnings.warn('Custom mask layers require a config and must override '\n"
     ]
    },
    {
     "name": "stdout",
     "output_type": "stream",
     "text": [
      "Epoch 4/100\n",
      "4/4 [==============================] - 4s 1s/step - loss: 0.6492 - dice_coef: 0.1587 - val_loss: 0.6468 - val_dice_coef: 0.1596\n"
     ]
    },
    {
     "name": "stderr",
     "output_type": "stream",
     "text": [
      "/home/ryan.zurrin001/miniconda3/envs/O/lib/python3.9/site-packages/tensorflow/python/keras/utils/generic_utils.py:494: CustomMaskWarning: Custom mask layers require a config and must override get_config. When loading, the custom mask layer must be passed to the custom_objects argument.\n",
      "  warnings.warn('Custom mask layers require a config and must override '\n"
     ]
    },
    {
     "name": "stdout",
     "output_type": "stream",
     "text": [
      "Epoch 5/100\n",
      "4/4 [==============================] - 4s 1s/step - loss: 0.6433 - dice_coef: 0.1582 - val_loss: 0.6411 - val_dice_coef: 0.1592\n"
     ]
    },
    {
     "name": "stderr",
     "output_type": "stream",
     "text": [
      "/home/ryan.zurrin001/miniconda3/envs/O/lib/python3.9/site-packages/tensorflow/python/keras/utils/generic_utils.py:494: CustomMaskWarning: Custom mask layers require a config and must override get_config. When loading, the custom mask layer must be passed to the custom_objects argument.\n",
      "  warnings.warn('Custom mask layers require a config and must override '\n"
     ]
    },
    {
     "name": "stdout",
     "output_type": "stream",
     "text": [
      "Epoch 6/100\n",
      "4/4 [==============================] - 5s 1s/step - loss: 0.6373 - dice_coef: 0.1575 - val_loss: 0.6357 - val_dice_coef: 0.1589\n"
     ]
    },
    {
     "name": "stderr",
     "output_type": "stream",
     "text": [
      "/home/ryan.zurrin001/miniconda3/envs/O/lib/python3.9/site-packages/tensorflow/python/keras/utils/generic_utils.py:494: CustomMaskWarning: Custom mask layers require a config and must override get_config. When loading, the custom mask layer must be passed to the custom_objects argument.\n",
      "  warnings.warn('Custom mask layers require a config and must override '\n"
     ]
    },
    {
     "name": "stdout",
     "output_type": "stream",
     "text": [
      "Epoch 7/100\n",
      "4/4 [==============================] - 4s 1s/step - loss: 0.6314 - dice_coef: 0.1575 - val_loss: 0.6302 - val_dice_coef: 0.1586\n"
     ]
    },
    {
     "name": "stderr",
     "output_type": "stream",
     "text": [
      "/home/ryan.zurrin001/miniconda3/envs/O/lib/python3.9/site-packages/tensorflow/python/keras/utils/generic_utils.py:494: CustomMaskWarning: Custom mask layers require a config and must override get_config. When loading, the custom mask layer must be passed to the custom_objects argument.\n",
      "  warnings.warn('Custom mask layers require a config and must override '\n"
     ]
    },
    {
     "name": "stdout",
     "output_type": "stream",
     "text": [
      "Epoch 8/100\n",
      "4/4 [==============================] - 4s 1s/step - loss: 0.6256 - dice_coef: 0.1571 - val_loss: 0.6247 - val_dice_coef: 0.1585\n"
     ]
    },
    {
     "name": "stderr",
     "output_type": "stream",
     "text": [
      "/home/ryan.zurrin001/miniconda3/envs/O/lib/python3.9/site-packages/tensorflow/python/keras/utils/generic_utils.py:494: CustomMaskWarning: Custom mask layers require a config and must override get_config. When loading, the custom mask layer must be passed to the custom_objects argument.\n",
      "  warnings.warn('Custom mask layers require a config and must override '\n"
     ]
    },
    {
     "name": "stdout",
     "output_type": "stream",
     "text": [
      "Epoch 9/100\n",
      "4/4 [==============================] - 4s 1s/step - loss: 0.6201 - dice_coef: 0.1569 - val_loss: 0.6195 - val_dice_coef: 0.1583\n"
     ]
    },
    {
     "name": "stderr",
     "output_type": "stream",
     "text": [
      "/home/ryan.zurrin001/miniconda3/envs/O/lib/python3.9/site-packages/tensorflow/python/keras/utils/generic_utils.py:494: CustomMaskWarning: Custom mask layers require a config and must override get_config. When loading, the custom mask layer must be passed to the custom_objects argument.\n",
      "  warnings.warn('Custom mask layers require a config and must override '\n"
     ]
    },
    {
     "name": "stdout",
     "output_type": "stream",
     "text": [
      "Epoch 10/100\n",
      "4/4 [==============================] - 4s 1s/step - loss: 0.6145 - dice_coef: 0.1569 - val_loss: 0.6140 - val_dice_coef: 0.1582\n"
     ]
    },
    {
     "name": "stderr",
     "output_type": "stream",
     "text": [
      "/home/ryan.zurrin001/miniconda3/envs/O/lib/python3.9/site-packages/tensorflow/python/keras/utils/generic_utils.py:494: CustomMaskWarning: Custom mask layers require a config and must override get_config. When loading, the custom mask layer must be passed to the custom_objects argument.\n",
      "  warnings.warn('Custom mask layers require a config and must override '\n"
     ]
    },
    {
     "name": "stdout",
     "output_type": "stream",
     "text": [
      "Epoch 11/100\n",
      "4/4 [==============================] - 4s 1s/step - loss: 0.6089 - dice_coef: 0.1566 - val_loss: 0.6088 - val_dice_coef: 0.1581\n"
     ]
    },
    {
     "name": "stderr",
     "output_type": "stream",
     "text": [
      "/home/ryan.zurrin001/miniconda3/envs/O/lib/python3.9/site-packages/tensorflow/python/keras/utils/generic_utils.py:494: CustomMaskWarning: Custom mask layers require a config and must override get_config. When loading, the custom mask layer must be passed to the custom_objects argument.\n",
      "  warnings.warn('Custom mask layers require a config and must override '\n"
     ]
    },
    {
     "name": "stdout",
     "output_type": "stream",
     "text": [
      "Epoch 12/100\n",
      "4/4 [==============================] - 4s 1s/step - loss: 0.6032 - dice_coef: 0.1566 - val_loss: 0.6035 - val_dice_coef: 0.1580\n"
     ]
    },
    {
     "name": "stderr",
     "output_type": "stream",
     "text": [
      "/home/ryan.zurrin001/miniconda3/envs/O/lib/python3.9/site-packages/tensorflow/python/keras/utils/generic_utils.py:494: CustomMaskWarning: Custom mask layers require a config and must override get_config. When loading, the custom mask layer must be passed to the custom_objects argument.\n",
      "  warnings.warn('Custom mask layers require a config and must override '\n"
     ]
    },
    {
     "name": "stdout",
     "output_type": "stream",
     "text": [
      "Epoch 13/100\n",
      "4/4 [==============================] - 4s 1s/step - loss: 0.5975 - dice_coef: 0.1563 - val_loss: 0.5977 - val_dice_coef: 0.1579\n"
     ]
    },
    {
     "name": "stderr",
     "output_type": "stream",
     "text": [
      "/home/ryan.zurrin001/miniconda3/envs/O/lib/python3.9/site-packages/tensorflow/python/keras/utils/generic_utils.py:494: CustomMaskWarning: Custom mask layers require a config and must override get_config. When loading, the custom mask layer must be passed to the custom_objects argument.\n",
      "  warnings.warn('Custom mask layers require a config and must override '\n"
     ]
    },
    {
     "name": "stdout",
     "output_type": "stream",
     "text": [
      "Epoch 14/100\n",
      "4/4 [==============================] - 4s 1s/step - loss: 0.5916 - dice_coef: 0.1564 - val_loss: 0.5923 - val_dice_coef: 0.1578\n"
     ]
    },
    {
     "name": "stderr",
     "output_type": "stream",
     "text": [
      "/home/ryan.zurrin001/miniconda3/envs/O/lib/python3.9/site-packages/tensorflow/python/keras/utils/generic_utils.py:494: CustomMaskWarning: Custom mask layers require a config and must override get_config. When loading, the custom mask layer must be passed to the custom_objects argument.\n",
      "  warnings.warn('Custom mask layers require a config and must override '\n"
     ]
    },
    {
     "name": "stdout",
     "output_type": "stream",
     "text": [
      "Epoch 15/100\n",
      "4/4 [==============================] - 4s 1s/step - loss: 0.5859 - dice_coef: 0.1563 - val_loss: 0.5870 - val_dice_coef: 0.1577\n"
     ]
    },
    {
     "name": "stderr",
     "output_type": "stream",
     "text": [
      "/home/ryan.zurrin001/miniconda3/envs/O/lib/python3.9/site-packages/tensorflow/python/keras/utils/generic_utils.py:494: CustomMaskWarning: Custom mask layers require a config and must override get_config. When loading, the custom mask layer must be passed to the custom_objects argument.\n",
      "  warnings.warn('Custom mask layers require a config and must override '\n"
     ]
    },
    {
     "name": "stdout",
     "output_type": "stream",
     "text": [
      "Epoch 16/100\n",
      "4/4 [==============================] - 4s 1s/step - loss: 0.5802 - dice_coef: 0.1560 - val_loss: 0.5813 - val_dice_coef: 0.1576\n"
     ]
    },
    {
     "name": "stderr",
     "output_type": "stream",
     "text": [
      "/home/ryan.zurrin001/miniconda3/envs/O/lib/python3.9/site-packages/tensorflow/python/keras/utils/generic_utils.py:494: CustomMaskWarning: Custom mask layers require a config and must override get_config. When loading, the custom mask layer must be passed to the custom_objects argument.\n",
      "  warnings.warn('Custom mask layers require a config and must override '\n"
     ]
    },
    {
     "name": "stdout",
     "output_type": "stream",
     "text": [
      "Epoch 17/100\n",
      "4/4 [==============================] - 4s 1s/step - loss: 0.5741 - dice_coef: 0.1560 - val_loss: 0.5756 - val_dice_coef: 0.1574\n"
     ]
    },
    {
     "name": "stderr",
     "output_type": "stream",
     "text": [
      "/home/ryan.zurrin001/miniconda3/envs/O/lib/python3.9/site-packages/tensorflow/python/keras/utils/generic_utils.py:494: CustomMaskWarning: Custom mask layers require a config and must override get_config. When loading, the custom mask layer must be passed to the custom_objects argument.\n",
      "  warnings.warn('Custom mask layers require a config and must override '\n"
     ]
    },
    {
     "name": "stdout",
     "output_type": "stream",
     "text": [
      "Epoch 18/100\n",
      "4/4 [==============================] - 4s 1s/step - loss: 0.5680 - dice_coef: 0.1552 - val_loss: 0.5697 - val_dice_coef: 0.1573\n"
     ]
    },
    {
     "name": "stderr",
     "output_type": "stream",
     "text": [
      "/home/ryan.zurrin001/miniconda3/envs/O/lib/python3.9/site-packages/tensorflow/python/keras/utils/generic_utils.py:494: CustomMaskWarning: Custom mask layers require a config and must override get_config. When loading, the custom mask layer must be passed to the custom_objects argument.\n",
      "  warnings.warn('Custom mask layers require a config and must override '\n"
     ]
    },
    {
     "name": "stdout",
     "output_type": "stream",
     "text": [
      "Epoch 19/100\n",
      "4/4 [==============================] - 4s 1s/step - loss: 0.5618 - dice_coef: 0.1556 - val_loss: 0.5635 - val_dice_coef: 0.1572\n"
     ]
    },
    {
     "name": "stderr",
     "output_type": "stream",
     "text": [
      "/home/ryan.zurrin001/miniconda3/envs/O/lib/python3.9/site-packages/tensorflow/python/keras/utils/generic_utils.py:494: CustomMaskWarning: Custom mask layers require a config and must override get_config. When loading, the custom mask layer must be passed to the custom_objects argument.\n",
      "  warnings.warn('Custom mask layers require a config and must override '\n"
     ]
    },
    {
     "name": "stdout",
     "output_type": "stream",
     "text": [
      "Epoch 20/100\n",
      "4/4 [==============================] - 4s 1s/step - loss: 0.5549 - dice_coef: 0.1554 - val_loss: 0.5569 - val_dice_coef: 0.1571\n"
     ]
    },
    {
     "name": "stderr",
     "output_type": "stream",
     "text": [
      "/home/ryan.zurrin001/miniconda3/envs/O/lib/python3.9/site-packages/tensorflow/python/keras/utils/generic_utils.py:494: CustomMaskWarning: Custom mask layers require a config and must override get_config. When loading, the custom mask layer must be passed to the custom_objects argument.\n",
      "  warnings.warn('Custom mask layers require a config and must override '\n"
     ]
    },
    {
     "name": "stdout",
     "output_type": "stream",
     "text": [
      "Epoch 21/100\n",
      "4/4 [==============================] - 4s 1s/step - loss: 0.5480 - dice_coef: 0.1555 - val_loss: 0.5499 - val_dice_coef: 0.1569\n"
     ]
    },
    {
     "name": "stderr",
     "output_type": "stream",
     "text": [
      "/home/ryan.zurrin001/miniconda3/envs/O/lib/python3.9/site-packages/tensorflow/python/keras/utils/generic_utils.py:494: CustomMaskWarning: Custom mask layers require a config and must override get_config. When loading, the custom mask layer must be passed to the custom_objects argument.\n",
      "  warnings.warn('Custom mask layers require a config and must override '\n"
     ]
    },
    {
     "name": "stdout",
     "output_type": "stream",
     "text": [
      "Epoch 22/100\n",
      "4/4 [==============================] - 4s 1s/step - loss: 0.5403 - dice_coef: 0.1553 - val_loss: 0.5419 - val_dice_coef: 0.1568\n"
     ]
    },
    {
     "name": "stderr",
     "output_type": "stream",
     "text": [
      "/home/ryan.zurrin001/miniconda3/envs/O/lib/python3.9/site-packages/tensorflow/python/keras/utils/generic_utils.py:494: CustomMaskWarning: Custom mask layers require a config and must override get_config. When loading, the custom mask layer must be passed to the custom_objects argument.\n",
      "  warnings.warn('Custom mask layers require a config and must override '\n"
     ]
    },
    {
     "name": "stdout",
     "output_type": "stream",
     "text": [
      "Epoch 23/100\n",
      "4/4 [==============================] - 4s 1s/step - loss: 0.5313 - dice_coef: 0.1549 - val_loss: 0.5321 - val_dice_coef: 0.1561\n"
     ]
    },
    {
     "name": "stderr",
     "output_type": "stream",
     "text": [
      "/home/ryan.zurrin001/miniconda3/envs/O/lib/python3.9/site-packages/tensorflow/python/keras/utils/generic_utils.py:494: CustomMaskWarning: Custom mask layers require a config and must override get_config. When loading, the custom mask layer must be passed to the custom_objects argument.\n",
      "  warnings.warn('Custom mask layers require a config and must override '\n"
     ]
    },
    {
     "name": "stdout",
     "output_type": "stream",
     "text": [
      "Epoch 24/100\n",
      "4/4 [==============================] - 4s 1s/step - loss: 0.5202 - dice_coef: 0.1540 - val_loss: 0.5192 - val_dice_coef: 0.1544\n"
     ]
    },
    {
     "name": "stderr",
     "output_type": "stream",
     "text": [
      "/home/ryan.zurrin001/miniconda3/envs/O/lib/python3.9/site-packages/tensorflow/python/keras/utils/generic_utils.py:494: CustomMaskWarning: Custom mask layers require a config and must override get_config. When loading, the custom mask layer must be passed to the custom_objects argument.\n",
      "  warnings.warn('Custom mask layers require a config and must override '\n"
     ]
    },
    {
     "name": "stdout",
     "output_type": "stream",
     "text": [
      "Epoch 25/100\n",
      "4/4 [==============================] - 4s 1s/step - loss: 0.5046 - dice_coef: 0.1511 - val_loss: 0.4988 - val_dice_coef: 0.1492\n"
     ]
    },
    {
     "name": "stderr",
     "output_type": "stream",
     "text": [
      "/home/ryan.zurrin001/miniconda3/envs/O/lib/python3.9/site-packages/tensorflow/python/keras/utils/generic_utils.py:494: CustomMaskWarning: Custom mask layers require a config and must override get_config. When loading, the custom mask layer must be passed to the custom_objects argument.\n",
      "  warnings.warn('Custom mask layers require a config and must override '\n"
     ]
    },
    {
     "name": "stdout",
     "output_type": "stream",
     "text": [
      "Epoch 26/100\n",
      "4/4 [==============================] - 4s 1s/step - loss: 0.4791 - dice_coef: 0.1429 - val_loss: 0.4615 - val_dice_coef: 0.1397\n"
     ]
    },
    {
     "name": "stderr",
     "output_type": "stream",
     "text": [
      "/home/ryan.zurrin001/miniconda3/envs/O/lib/python3.9/site-packages/tensorflow/python/keras/utils/generic_utils.py:494: CustomMaskWarning: Custom mask layers require a config and must override get_config. When loading, the custom mask layer must be passed to the custom_objects argument.\n",
      "  warnings.warn('Custom mask layers require a config and must override '\n"
     ]
    },
    {
     "name": "stdout",
     "output_type": "stream",
     "text": [
      "Epoch 27/100\n",
      "4/4 [==============================] - 4s 1s/step - loss: 0.4327 - dice_coef: 0.1358 - val_loss: 0.3944 - val_dice_coef: 0.1464\n"
     ]
    },
    {
     "name": "stderr",
     "output_type": "stream",
     "text": [
      "/home/ryan.zurrin001/miniconda3/envs/O/lib/python3.9/site-packages/tensorflow/python/keras/utils/generic_utils.py:494: CustomMaskWarning: Custom mask layers require a config and must override get_config. When loading, the custom mask layer must be passed to the custom_objects argument.\n",
      "  warnings.warn('Custom mask layers require a config and must override '\n"
     ]
    },
    {
     "name": "stdout",
     "output_type": "stream",
     "text": [
      "Epoch 28/100\n",
      "4/4 [==============================] - 4s 1s/step - loss: 0.3572 - dice_coef: 0.1509 - val_loss: 0.2991 - val_dice_coef: 0.1932\n"
     ]
    },
    {
     "name": "stderr",
     "output_type": "stream",
     "text": [
      "/home/ryan.zurrin001/miniconda3/envs/O/lib/python3.9/site-packages/tensorflow/python/keras/utils/generic_utils.py:494: CustomMaskWarning: Custom mask layers require a config and must override get_config. When loading, the custom mask layer must be passed to the custom_objects argument.\n",
      "  warnings.warn('Custom mask layers require a config and must override '\n"
     ]
    },
    {
     "name": "stdout",
     "output_type": "stream",
     "text": [
      "Epoch 29/100\n",
      "4/4 [==============================] - 4s 1s/step - loss: 0.3081 - dice_coef: 0.1972 - val_loss: 0.2982 - val_dice_coef: 0.2289\n"
     ]
    },
    {
     "name": "stderr",
     "output_type": "stream",
     "text": [
      "/home/ryan.zurrin001/miniconda3/envs/O/lib/python3.9/site-packages/tensorflow/python/keras/utils/generic_utils.py:494: CustomMaskWarning: Custom mask layers require a config and must override get_config. When loading, the custom mask layer must be passed to the custom_objects argument.\n",
      "  warnings.warn('Custom mask layers require a config and must override '\n"
     ]
    },
    {
     "name": "stdout",
     "output_type": "stream",
     "text": [
      "Epoch 30/100\n",
      "4/4 [==============================] - 4s 1s/step - loss: 0.2730 - dice_coef: 0.2353 - val_loss: 0.2446 - val_dice_coef: 0.2660\n"
     ]
    },
    {
     "name": "stderr",
     "output_type": "stream",
     "text": [
      "/home/ryan.zurrin001/miniconda3/envs/O/lib/python3.9/site-packages/tensorflow/python/keras/utils/generic_utils.py:494: CustomMaskWarning: Custom mask layers require a config and must override get_config. When loading, the custom mask layer must be passed to the custom_objects argument.\n",
      "  warnings.warn('Custom mask layers require a config and must override '\n"
     ]
    },
    {
     "name": "stdout",
     "output_type": "stream",
     "text": [
      "Epoch 31/100\n",
      "4/4 [==============================] - 4s 1s/step - loss: 0.2351 - dice_coef: 0.2776 - val_loss: 0.2217 - val_dice_coef: 0.3014\n"
     ]
    },
    {
     "name": "stderr",
     "output_type": "stream",
     "text": [
      "/home/ryan.zurrin001/miniconda3/envs/O/lib/python3.9/site-packages/tensorflow/python/keras/utils/generic_utils.py:494: CustomMaskWarning: Custom mask layers require a config and must override get_config. When loading, the custom mask layer must be passed to the custom_objects argument.\n",
      "  warnings.warn('Custom mask layers require a config and must override '\n"
     ]
    },
    {
     "name": "stdout",
     "output_type": "stream",
     "text": [
      "Epoch 32/100\n",
      "4/4 [==============================] - 4s 1s/step - loss: 0.2171 - dice_coef: 0.3107 - val_loss: 0.2031 - val_dice_coef: 0.3361\n"
     ]
    },
    {
     "name": "stderr",
     "output_type": "stream",
     "text": [
      "/home/ryan.zurrin001/miniconda3/envs/O/lib/python3.9/site-packages/tensorflow/python/keras/utils/generic_utils.py:494: CustomMaskWarning: Custom mask layers require a config and must override get_config. When loading, the custom mask layer must be passed to the custom_objects argument.\n",
      "  warnings.warn('Custom mask layers require a config and must override '\n"
     ]
    },
    {
     "name": "stdout",
     "output_type": "stream",
     "text": [
      "Epoch 33/100\n",
      "4/4 [==============================] - 4s 1s/step - loss: 0.1984 - dice_coef: 0.3388 - val_loss: 0.1889 - val_dice_coef: 0.3638\n"
     ]
    },
    {
     "name": "stderr",
     "output_type": "stream",
     "text": [
      "/home/ryan.zurrin001/miniconda3/envs/O/lib/python3.9/site-packages/tensorflow/python/keras/utils/generic_utils.py:494: CustomMaskWarning: Custom mask layers require a config and must override get_config. When loading, the custom mask layer must be passed to the custom_objects argument.\n",
      "  warnings.warn('Custom mask layers require a config and must override '\n"
     ]
    },
    {
     "name": "stdout",
     "output_type": "stream",
     "text": [
      "Epoch 34/100\n",
      "4/4 [==============================] - 4s 1s/step - loss: 0.1849 - dice_coef: 0.3694 - val_loss: 0.1776 - val_dice_coef: 0.3843\n"
     ]
    },
    {
     "name": "stderr",
     "output_type": "stream",
     "text": [
      "/home/ryan.zurrin001/miniconda3/envs/O/lib/python3.9/site-packages/tensorflow/python/keras/utils/generic_utils.py:494: CustomMaskWarning: Custom mask layers require a config and must override get_config. When loading, the custom mask layer must be passed to the custom_objects argument.\n",
      "  warnings.warn('Custom mask layers require a config and must override '\n"
     ]
    },
    {
     "name": "stdout",
     "output_type": "stream",
     "text": [
      "Epoch 35/100\n",
      "4/4 [==============================] - 4s 1s/step - loss: 0.1744 - dice_coef: 0.3983 - val_loss: 0.1726 - val_dice_coef: 0.3932\n"
     ]
    },
    {
     "name": "stderr",
     "output_type": "stream",
     "text": [
      "/home/ryan.zurrin001/miniconda3/envs/O/lib/python3.9/site-packages/tensorflow/python/keras/utils/generic_utils.py:494: CustomMaskWarning: Custom mask layers require a config and must override get_config. When loading, the custom mask layer must be passed to the custom_objects argument.\n",
      "  warnings.warn('Custom mask layers require a config and must override '\n"
     ]
    },
    {
     "name": "stdout",
     "output_type": "stream",
     "text": [
      "Epoch 36/100\n",
      "4/4 [==============================] - 4s 1s/step - loss: 0.1666 - dice_coef: 0.4156 - val_loss: 0.1595 - val_dice_coef: 0.4372\n"
     ]
    },
    {
     "name": "stderr",
     "output_type": "stream",
     "text": [
      "/home/ryan.zurrin001/miniconda3/envs/O/lib/python3.9/site-packages/tensorflow/python/keras/utils/generic_utils.py:494: CustomMaskWarning: Custom mask layers require a config and must override get_config. When loading, the custom mask layer must be passed to the custom_objects argument.\n",
      "  warnings.warn('Custom mask layers require a config and must override '\n"
     ]
    },
    {
     "name": "stdout",
     "output_type": "stream",
     "text": [
      "Epoch 37/100\n",
      "4/4 [==============================] - 4s 1s/step - loss: 0.1577 - dice_coef: 0.4328 - val_loss: 0.1566 - val_dice_coef: 0.4631\n"
     ]
    },
    {
     "name": "stderr",
     "output_type": "stream",
     "text": [
      "/home/ryan.zurrin001/miniconda3/envs/O/lib/python3.9/site-packages/tensorflow/python/keras/utils/generic_utils.py:494: CustomMaskWarning: Custom mask layers require a config and must override get_config. When loading, the custom mask layer must be passed to the custom_objects argument.\n",
      "  warnings.warn('Custom mask layers require a config and must override '\n"
     ]
    },
    {
     "name": "stdout",
     "output_type": "stream",
     "text": [
      "Epoch 38/100\n",
      "4/4 [==============================] - 4s 1s/step - loss: 0.1531 - dice_coef: 0.4537 - val_loss: 0.1478 - val_dice_coef: 0.4667\n"
     ]
    },
    {
     "name": "stderr",
     "output_type": "stream",
     "text": [
      "/home/ryan.zurrin001/miniconda3/envs/O/lib/python3.9/site-packages/tensorflow/python/keras/utils/generic_utils.py:494: CustomMaskWarning: Custom mask layers require a config and must override get_config. When loading, the custom mask layer must be passed to the custom_objects argument.\n",
      "  warnings.warn('Custom mask layers require a config and must override '\n"
     ]
    },
    {
     "name": "stdout",
     "output_type": "stream",
     "text": [
      "Epoch 39/100\n",
      "4/4 [==============================] - 4s 1s/step - loss: 0.1465 - dice_coef: 0.4790 - val_loss: 0.1446 - val_dice_coef: 0.4737\n"
     ]
    },
    {
     "name": "stderr",
     "output_type": "stream",
     "text": [
      "/home/ryan.zurrin001/miniconda3/envs/O/lib/python3.9/site-packages/tensorflow/python/keras/utils/generic_utils.py:494: CustomMaskWarning: Custom mask layers require a config and must override get_config. When loading, the custom mask layer must be passed to the custom_objects argument.\n",
      "  warnings.warn('Custom mask layers require a config and must override '\n"
     ]
    },
    {
     "name": "stdout",
     "output_type": "stream",
     "text": [
      "Epoch 40/100\n",
      "4/4 [==============================] - 4s 1s/step - loss: 0.1416 - dice_coef: 0.4946 - val_loss: 0.1363 - val_dice_coef: 0.5102\n"
     ]
    },
    {
     "name": "stderr",
     "output_type": "stream",
     "text": [
      "/home/ryan.zurrin001/miniconda3/envs/O/lib/python3.9/site-packages/tensorflow/python/keras/utils/generic_utils.py:494: CustomMaskWarning: Custom mask layers require a config and must override get_config. When loading, the custom mask layer must be passed to the custom_objects argument.\n",
      "  warnings.warn('Custom mask layers require a config and must override '\n"
     ]
    },
    {
     "name": "stdout",
     "output_type": "stream",
     "text": [
      "Epoch 41/100\n",
      "4/4 [==============================] - 4s 1s/step - loss: 0.1338 - dice_coef: 0.5097 - val_loss: 0.1317 - val_dice_coef: 0.5390\n"
     ]
    },
    {
     "name": "stderr",
     "output_type": "stream",
     "text": [
      "/home/ryan.zurrin001/miniconda3/envs/O/lib/python3.9/site-packages/tensorflow/python/keras/utils/generic_utils.py:494: CustomMaskWarning: Custom mask layers require a config and must override get_config. When loading, the custom mask layer must be passed to the custom_objects argument.\n",
      "  warnings.warn('Custom mask layers require a config and must override '\n"
     ]
    },
    {
     "name": "stdout",
     "output_type": "stream",
     "text": [
      "Epoch 42/100\n",
      "4/4 [==============================] - 4s 1s/step - loss: 0.1281 - dice_coef: 0.5363 - val_loss: 0.1249 - val_dice_coef: 0.5531\n"
     ]
    },
    {
     "name": "stderr",
     "output_type": "stream",
     "text": [
      "/home/ryan.zurrin001/miniconda3/envs/O/lib/python3.9/site-packages/tensorflow/python/keras/utils/generic_utils.py:494: CustomMaskWarning: Custom mask layers require a config and must override get_config. When loading, the custom mask layer must be passed to the custom_objects argument.\n",
      "  warnings.warn('Custom mask layers require a config and must override '\n"
     ]
    },
    {
     "name": "stdout",
     "output_type": "stream",
     "text": [
      "Epoch 43/100\n",
      "4/4 [==============================] - 4s 1s/step - loss: 0.1220 - dice_coef: 0.5631 - val_loss: 0.1205 - val_dice_coef: 0.5641\n"
     ]
    },
    {
     "name": "stderr",
     "output_type": "stream",
     "text": [
      "/home/ryan.zurrin001/miniconda3/envs/O/lib/python3.9/site-packages/tensorflow/python/keras/utils/generic_utils.py:494: CustomMaskWarning: Custom mask layers require a config and must override get_config. When loading, the custom mask layer must be passed to the custom_objects argument.\n",
      "  warnings.warn('Custom mask layers require a config and must override '\n"
     ]
    },
    {
     "name": "stdout",
     "output_type": "stream",
     "text": [
      "Epoch 44/100\n",
      "4/4 [==============================] - 5s 1s/step - loss: 0.1164 - dice_coef: 0.5876 - val_loss: 0.1170 - val_dice_coef: 0.5792\n"
     ]
    },
    {
     "name": "stderr",
     "output_type": "stream",
     "text": [
      "/home/ryan.zurrin001/miniconda3/envs/O/lib/python3.9/site-packages/tensorflow/python/keras/utils/generic_utils.py:494: CustomMaskWarning: Custom mask layers require a config and must override get_config. When loading, the custom mask layer must be passed to the custom_objects argument.\n",
      "  warnings.warn('Custom mask layers require a config and must override '\n"
     ]
    },
    {
     "name": "stdout",
     "output_type": "stream",
     "text": [
      "Epoch 45/100\n",
      "4/4 [==============================] - 4s 1s/step - loss: 0.1120 - dice_coef: 0.6147 - val_loss: 0.1193 - val_dice_coef: 0.5806\n",
      "Epoch 46/100\n",
      "4/4 [==============================] - 4s 1s/step - loss: 0.1116 - dice_coef: 0.6356 - val_loss: 0.1106 - val_dice_coef: 0.6143\n"
     ]
    },
    {
     "name": "stderr",
     "output_type": "stream",
     "text": [
      "/home/ryan.zurrin001/miniconda3/envs/O/lib/python3.9/site-packages/tensorflow/python/keras/utils/generic_utils.py:494: CustomMaskWarning: Custom mask layers require a config and must override get_config. When loading, the custom mask layer must be passed to the custom_objects argument.\n",
      "  warnings.warn('Custom mask layers require a config and must override '\n"
     ]
    },
    {
     "name": "stdout",
     "output_type": "stream",
     "text": [
      "Epoch 47/100\n",
      "4/4 [==============================] - 4s 1s/step - loss: 0.1075 - dice_coef: 0.6500 - val_loss: 0.1016 - val_dice_coef: 0.6873\n"
     ]
    },
    {
     "name": "stderr",
     "output_type": "stream",
     "text": [
      "/home/ryan.zurrin001/miniconda3/envs/O/lib/python3.9/site-packages/tensorflow/python/keras/utils/generic_utils.py:494: CustomMaskWarning: Custom mask layers require a config and must override get_config. When loading, the custom mask layer must be passed to the custom_objects argument.\n",
      "  warnings.warn('Custom mask layers require a config and must override '\n"
     ]
    },
    {
     "name": "stdout",
     "output_type": "stream",
     "text": [
      "Epoch 48/100\n",
      "4/4 [==============================] - 4s 1s/step - loss: 0.0999 - dice_coef: 0.6627 - val_loss: 0.1053 - val_dice_coef: 0.7076\n",
      "Epoch 49/100\n",
      "4/4 [==============================] - 4s 1s/step - loss: 0.0983 - dice_coef: 0.6866 - val_loss: 0.0934 - val_dice_coef: 0.7096\n"
     ]
    },
    {
     "name": "stderr",
     "output_type": "stream",
     "text": [
      "/home/ryan.zurrin001/miniconda3/envs/O/lib/python3.9/site-packages/tensorflow/python/keras/utils/generic_utils.py:494: CustomMaskWarning: Custom mask layers require a config and must override get_config. When loading, the custom mask layer must be passed to the custom_objects argument.\n",
      "  warnings.warn('Custom mask layers require a config and must override '\n"
     ]
    },
    {
     "name": "stdout",
     "output_type": "stream",
     "text": [
      "Epoch 50/100\n",
      "4/4 [==============================] - 4s 1s/step - loss: 0.0920 - dice_coef: 0.7146 - val_loss: 0.0929 - val_dice_coef: 0.6978\n"
     ]
    },
    {
     "name": "stderr",
     "output_type": "stream",
     "text": [
      "/home/ryan.zurrin001/miniconda3/envs/O/lib/python3.9/site-packages/tensorflow/python/keras/utils/generic_utils.py:494: CustomMaskWarning: Custom mask layers require a config and must override get_config. When loading, the custom mask layer must be passed to the custom_objects argument.\n",
      "  warnings.warn('Custom mask layers require a config and must override '\n"
     ]
    },
    {
     "name": "stdout",
     "output_type": "stream",
     "text": [
      "Epoch 51/100\n",
      "4/4 [==============================] - 4s 1s/step - loss: 0.0888 - dice_coef: 0.7217 - val_loss: 0.0888 - val_dice_coef: 0.7211\n"
     ]
    },
    {
     "name": "stderr",
     "output_type": "stream",
     "text": [
      "/home/ryan.zurrin001/miniconda3/envs/O/lib/python3.9/site-packages/tensorflow/python/keras/utils/generic_utils.py:494: CustomMaskWarning: Custom mask layers require a config and must override get_config. When loading, the custom mask layer must be passed to the custom_objects argument.\n",
      "  warnings.warn('Custom mask layers require a config and must override '\n"
     ]
    },
    {
     "name": "stdout",
     "output_type": "stream",
     "text": [
      "Epoch 52/100\n",
      "4/4 [==============================] - 4s 1s/step - loss: 0.0849 - dice_coef: 0.7287 - val_loss: 0.0864 - val_dice_coef: 0.7467\n"
     ]
    },
    {
     "name": "stderr",
     "output_type": "stream",
     "text": [
      "/home/ryan.zurrin001/miniconda3/envs/O/lib/python3.9/site-packages/tensorflow/python/keras/utils/generic_utils.py:494: CustomMaskWarning: Custom mask layers require a config and must override get_config. When loading, the custom mask layer must be passed to the custom_objects argument.\n",
      "  warnings.warn('Custom mask layers require a config and must override '\n"
     ]
    },
    {
     "name": "stdout",
     "output_type": "stream",
     "text": [
      "Epoch 53/100\n",
      "4/4 [==============================] - 5s 1s/step - loss: 0.0827 - dice_coef: 0.7411 - val_loss: 0.0870 - val_dice_coef: 0.7621\n",
      "Epoch 54/100\n",
      "4/4 [==============================] - 4s 1s/step - loss: 0.0801 - dice_coef: 0.7511 - val_loss: 0.0829 - val_dice_coef: 0.7674\n"
     ]
    },
    {
     "name": "stderr",
     "output_type": "stream",
     "text": [
      "/home/ryan.zurrin001/miniconda3/envs/O/lib/python3.9/site-packages/tensorflow/python/keras/utils/generic_utils.py:494: CustomMaskWarning: Custom mask layers require a config and must override get_config. When loading, the custom mask layer must be passed to the custom_objects argument.\n",
      "  warnings.warn('Custom mask layers require a config and must override '\n"
     ]
    },
    {
     "name": "stdout",
     "output_type": "stream",
     "text": [
      "Epoch 55/100\n",
      "4/4 [==============================] - 4s 1s/step - loss: 0.0777 - dice_coef: 0.7643 - val_loss: 0.0793 - val_dice_coef: 0.7676\n"
     ]
    },
    {
     "name": "stderr",
     "output_type": "stream",
     "text": [
      "/home/ryan.zurrin001/miniconda3/envs/O/lib/python3.9/site-packages/tensorflow/python/keras/utils/generic_utils.py:494: CustomMaskWarning: Custom mask layers require a config and must override get_config. When loading, the custom mask layer must be passed to the custom_objects argument.\n",
      "  warnings.warn('Custom mask layers require a config and must override '\n"
     ]
    },
    {
     "name": "stdout",
     "output_type": "stream",
     "text": [
      "Epoch 56/100\n",
      "4/4 [==============================] - 4s 1s/step - loss: 0.0743 - dice_coef: 0.7703 - val_loss: 0.0776 - val_dice_coef: 0.7635\n"
     ]
    },
    {
     "name": "stderr",
     "output_type": "stream",
     "text": [
      "/home/ryan.zurrin001/miniconda3/envs/O/lib/python3.9/site-packages/tensorflow/python/keras/utils/generic_utils.py:494: CustomMaskWarning: Custom mask layers require a config and must override get_config. When loading, the custom mask layer must be passed to the custom_objects argument.\n",
      "  warnings.warn('Custom mask layers require a config and must override '\n"
     ]
    },
    {
     "name": "stdout",
     "output_type": "stream",
     "text": [
      "Epoch 57/100\n",
      "4/4 [==============================] - 4s 1s/step - loss: 0.0739 - dice_coef: 0.7731 - val_loss: 0.0766 - val_dice_coef: 0.7881\n"
     ]
    },
    {
     "name": "stderr",
     "output_type": "stream",
     "text": [
      "/home/ryan.zurrin001/miniconda3/envs/O/lib/python3.9/site-packages/tensorflow/python/keras/utils/generic_utils.py:494: CustomMaskWarning: Custom mask layers require a config and must override get_config. When loading, the custom mask layer must be passed to the custom_objects argument.\n",
      "  warnings.warn('Custom mask layers require a config and must override '\n"
     ]
    },
    {
     "name": "stdout",
     "output_type": "stream",
     "text": [
      "Epoch 58/100\n",
      "4/4 [==============================] - 4s 1s/step - loss: 0.0712 - dice_coef: 0.7817 - val_loss: 0.0758 - val_dice_coef: 0.7983\n"
     ]
    },
    {
     "name": "stderr",
     "output_type": "stream",
     "text": [
      "/home/ryan.zurrin001/miniconda3/envs/O/lib/python3.9/site-packages/tensorflow/python/keras/utils/generic_utils.py:494: CustomMaskWarning: Custom mask layers require a config and must override get_config. When loading, the custom mask layer must be passed to the custom_objects argument.\n",
      "  warnings.warn('Custom mask layers require a config and must override '\n"
     ]
    },
    {
     "name": "stdout",
     "output_type": "stream",
     "text": [
      "Epoch 59/100\n",
      "4/4 [==============================] - 4s 1s/step - loss: 0.0776 - dice_coef: 0.7846 - val_loss: 0.0892 - val_dice_coef: 0.7166\n",
      "Epoch 60/100\n",
      "4/4 [==============================] - 4s 1s/step - loss: 0.0758 - dice_coef: 0.7772 - val_loss: 0.0754 - val_dice_coef: 0.7572\n"
     ]
    },
    {
     "name": "stderr",
     "output_type": "stream",
     "text": [
      "/home/ryan.zurrin001/miniconda3/envs/O/lib/python3.9/site-packages/tensorflow/python/keras/utils/generic_utils.py:494: CustomMaskWarning: Custom mask layers require a config and must override get_config. When loading, the custom mask layer must be passed to the custom_objects argument.\n",
      "  warnings.warn('Custom mask layers require a config and must override '\n"
     ]
    },
    {
     "name": "stdout",
     "output_type": "stream",
     "text": [
      "Model saved to: /tmp/tmp28ziahoqGP2/kattunet_0kattunet_model\n",
      "History saved to: /tmp/tmp28ziahoqGP2/attunet_history_0.pkl\n",
      "Testing the classifier...\n",
      "Model saved to /tmp/tmp28ziahoqGP2/cnnd_0.model\n",
      "History saved to /tmp/tmp28ziahoqGP2/cnnd_history_0.pickle\n",
      "Testing the discriminator...\n",
      "10/10 [==============================] - 0s 19ms/step - loss: 7.9977e-05 - accuracy: 1.0000\n",
      "Found 165 machine labels.\n",
      "Machine labels [  1   2   3   4   5   6  10  13  14  15  16  17  18  20  21  22  24  26\n",
      "  29  30  32  33  34  35  38  39  41  46  48  49  51  53  55  56  58  59\n",
      "  60  66  67  68  70  71  73  74  75  76  78  81  82  86  89  90  91  92\n",
      "  93  94  96  99 100 102 103 107 110 112 113 114 115 118 120 121 122 124\n",
      " 127 128 130 132 134 135 136 138 139 141 143 146 150 154 155 159 160 164\n",
      " 165 166 167 168 169 171 173 174 175 176 180 182 183 186 189 190 193 195\n",
      " 196 197 198 201 203 205 206 207 208 209 211 212 214 215 218 226 227 233\n",
      " 234 236 239 240 242 244 245 246 247 248 250 251 252 253 254 255 258 259\n",
      " 260 263 264 265 266 267 269 271 272 274 276 277 279 284 286 288 290 291\n",
      " 293 295 298]\n",
      "D_ids ['8e1d9920-3238-4947-a07a-d767f80213a5', '823f65b1-aa6a-4771-a249-c21e1c3322ac', '778b21b5-d322-4c2c-9f40-6041219b3775', 'ff19c7a5-882c-41ff-bc5f-ecf658442af6', 'efe094eb-9fa1-4634-bd2a-5f3ecb6cc5b1', 'bb656a31-ad45-4cb9-bbf7-d7dca5542e27', 'f7e290c6-78fa-4fb2-9f0c-e1f98683cea7', 'ddb528a6-ec02-4178-b562-34eaa0c14b7a', '841b3762-2bc2-4783-be2e-268019fcd01d', 'fd909501-37f1-428b-90f7-d2913d8df632', '32c47254-75cd-481d-98c1-58d54e757672', '4a9c99c1-14a0-4d20-9279-7e5a945511c6', 'eea0bff9-c4f7-45ca-8b4a-247dff424a99', 'd3ff52fc-9790-4221-9fc5-2b4b255550fa', 'cf1e3f82-e0be-4d1a-9a51-004bfdb47968', '425f11a9-d58d-4bce-872a-62dfc2c1f2db', '8750c229-a822-401d-bfef-87b12d58b4ce', 'fe5a85a1-3b71-428a-8e61-86c7cbd6f6c4', '2693872f-14fd-4609-b70a-4a1967b701f6', '7cc4298a-a758-42ab-a607-dea9b1e594a3', '99263a1d-16a4-4af6-bfcf-6c283fbc8360', 'fde6381f-60a2-4100-b14d-c87ccee201b0', '89d8af36-48b2-4c5d-ba90-82a4f9d1f12a', 'cb80a6b2-2b72-4ef9-8dd9-304561f69ea3', '18d4bffb-352a-4376-9e22-9d5d0dcde6c7', 'c13d4453-5f26-45ba-bc09-0330228fdfa3', '0c061a58-00d6-4873-9b95-8b71f3fa1916', 'd8521b78-9f19-4d96-9856-549c2bcc55ca', '1992577e-cef7-4df6-9e75-d0e6a901efc7', '7d08efc8-5aa9-44cd-84fb-d6edf104a59e', '71d3bf68-faaa-4f8f-aab7-877180b8c399', 'dfb84e38-66e8-41a5-9c93-5280d0bf6612', 'a726e09f-f5c1-4642-b4e3-4ffd28452926', 'd2243b63-6342-4955-866d-4b4a35c3c49f', 'febf1b57-b4a9-4ca0-bbac-286fd50de06b', '07e402e1-9b5e-4d01-a381-3a9d000685c0', '092fd68b-03dd-4000-91c8-9e83d7f0f54f', '219773dc-cc03-4d08-a0d9-e6bba3755dab', 'bc7ecf4f-c0e2-4d6c-90dc-8b2ea40e0fe6', '3c11cd2f-d0e1-4ee6-a77c-d2a800e5bf73', '66374241-63a5-4d60-a25f-ae9592ac6179', '63a97764-f2f6-48cd-9a16-f145e26e0730', '03660e58-9d32-40d7-aac2-d73ff4da128e', 'd2392a91-e5c6-4479-a5e2-ce1c8de0e9c3', 'dbd238ce-a137-4ebb-8c19-56d9352b4ad7', '74adea45-ce65-4ae6-aaf9-ce7a9028e95e', 'ac1f306d-0779-461f-a0ff-c6af2219ed39', '7b65ef41-d790-46dd-b3fc-e9523c53fbe4', '45e812b5-d1d3-4a42-a3eb-71938371819d', '28660e38-e6c6-472f-9b80-9997270a9a6a', '41a9d8fa-aad2-4250-b3cd-548cb2b10465', '7776a9df-f959-4436-925d-ea0785dfda91', 'ed0cd989-14e3-42a3-80a3-055cc33c558a', '251a40cc-36f0-4493-89b9-605ce77ca70f', '3a593626-8ad2-4448-b14a-890794073df4', 'ae247a06-f145-40e5-8c50-847f8350b911', 'ca439b53-af9e-4e1b-ae19-cfc163ca59d7', 'a8c39a8f-0089-4eef-b045-ed3f70e8e65d', '1b740481-5a0e-481a-b5c7-aa277294a118', '4ec80ff5-337d-4be6-8bde-776372d366ee', 'fc257890-ac7c-4962-a7fa-1d2ab300a0fd', '6466be23-8098-4171-8015-28ad20a0f84b', '6a59b909-17b7-4074-9702-e6a3d8735dec', '7dce1f11-e4ce-4abd-863a-ce346cf24f54', '444a4580-7314-4e5c-ad04-0a41fee711ac', 'f64494ff-c425-4b3d-b2df-61ed2cda8bca', 'f3a02ebb-8b11-420a-905a-c8eaa3e06bde', '3c3945d8-f403-426a-a1e2-917d6cb11643', '8f77adb5-0783-453c-8fc6-29b4567120d0', '08c31f11-8b99-4fea-96dc-35f051d3b10e', '430e7672-f775-450e-ad00-2fb0570c44a3', 'e628061f-2c0a-4e3a-a214-cb1811aa76f5', 'f482582d-f590-40d3-b44a-be740e3d3b30', '68b65582-5b3d-42ad-b766-47dfa903e620', '18606879-0dce-4d36-831a-4245b3e95ebd', 'f2c6d2fc-da22-4cbe-86e7-49b06013b191', '2d498bdd-5168-4833-8498-e6c0f6795c3d', '0712e078-215d-44a1-9c71-1249aef9553f', '543dc92b-f49a-4518-8050-d479990f883d', '8cc3454e-242a-4f89-9967-aedcad941eb2', '422a789f-ab64-4f2b-9803-f8b20f042a5a', 'd80185fe-490a-47ae-95e8-404f23bfd85b', 'f2691cbe-6e6e-46ff-a310-351b5d2ee94c', 'b501559c-ed07-4821-984e-76e09ec06484', '1f5a1f3c-6ee5-43a7-9d54-563998e775b0', 'c4323968-c488-4eac-90c6-c8acd355f9eb', 'ff763ff1-55d9-4a85-9d41-7f1752414d9e', 'f06ce109-73b6-47a3-8d63-d278a3e5b054', '719072b2-1a73-4a84-9f3c-546d58967359', '4cf4ef67-f217-4829-b0e9-0d1b30fcc255', '156660f3-2435-4e30-bf17-d619b2ff0160', '39f662b4-5a02-43e8-92ad-935f23ab1236', 'fd4571ec-2309-49c1-8f61-417331539e5c', 'e2f42dc2-1b7d-4c53-8096-c3f0682f8187', '0017d129-61f8-43c6-928e-dfe1480bec37', '6e4a8ef9-a3fd-4c51-97fe-1dfacd9debbb', 'f9c76f1b-44d0-49b4-b557-7ba6328d237e', '00da0296-2bdb-4592-8674-583ad6db2487', '2b4f965d-10a1-4c47-a34b-d34ed930493c', '7586e85b-e21c-4cf6-82ba-8309196c0644', '854d854c-d753-4629-9ff4-f24a7e70a65d', 'a03d5ac4-15f5-42f2-b9f2-bf7d955eedac', 'f3a2044a-f3b8-4260-a9c0-a2c28f84c81d', 'e5805215-8541-4966-bcab-610079b4244e', '10115b63-10ba-4178-b4bb-b806ece9c68e', '6704d446-9eb0-4db9-9935-3f699be42b87', 'aef9e3c3-3476-46b5-9933-6951e223c2ac', '91c526c0-69bb-408a-b2eb-c783a2b29b1a', '688b9ab4-932b-475a-afd9-9619462bc49a', '662760d8-1b54-42ee-8128-77eb6af33d42', 'e6ba127c-b42e-4f03-89a7-2573d6d7603a', 'd4a85cb8-0c38-4f1a-8cdd-6b077679b26d', 'b435e8e1-4a82-472b-9d13-0b81876fe582', '7daef3e0-5413-454b-8794-306bd25dd3b3', '18c6a1d1-7e4b-49d2-a83c-6a53f1afde4c', 'd4b550ae-dff1-42da-b205-f27be3d386f7', '2e2f022a-14cc-4eb8-8c04-082ec7383606', '98f771d5-e66e-4d7c-a0ec-942bd16cd893', '38827f22-e979-49ae-9efd-90949bb68d76', 'e3281681-accc-4a7a-bb47-b34dc019a885', '2e2ee623-44db-433e-8d63-8d551c672ef2', 'e73b611e-6c93-40c7-bfe6-35ccc52eace5', '95727dda-a1cc-47eb-a217-bc11189256bf', '0ffa5159-b46d-495e-9c90-301a3aba115c', 'deed5d4b-7b83-40c5-b450-e28e516b9656', '0fdef1e8-a1f4-4687-bef8-8709c44d44b1', '4da241a7-3ca4-48c3-9f3b-80aa7fab77d9', '1e7a2aff-1b85-4393-b7cc-83fc8439b0e1', 'f288b560-c78c-4003-adc6-a0abb2fd3fbe', '68e993c1-6206-4bf8-a7b6-32195c6aa125', '1e37f14f-4cb5-4b6d-b239-a98572a88ed7', 'b9875960-885f-4a6d-bce8-f3fc0126fb06', 'c8d53398-1c52-494f-a364-63b8c527356b', '1aa6fd9c-ac31-45d6-8308-8a8bf8c481b5', '7c468262-591c-442d-8c16-2aa8e713ec45', '37827143-5012-43fc-a8a6-b222df416b0b', '81e3b267-46db-4aa7-80c9-4e2a63c5c184', '155d3590-f579-4328-a73d-929037aadaa9', 'c105e214-3ee1-48cd-b226-af62b6e5ea64', 'c6599aa8-b5fc-4265-8fd8-b8f4d6cf6ba2', '5e5620fd-7a67-4ef8-82ce-0b8aa3ed9f69', '384d8465-52ef-4036-a5b1-3ae4e2c183ea', '1267c01a-dc5b-4c43-8cda-e221a448e919', '4df2af38-0b81-48fc-860f-93ea99bd29cb', '621e6ccd-b8da-4f8f-be72-0a7cf7b71228', 'c6a49d05-0dab-4e05-9d79-e7c4bc86052c', 'e31d6bd7-7ecc-4311-9914-981599b69742', '384792f0-8607-4a21-9dc6-3ab57078119e', '394d2213-48a5-48db-9616-c9bdfbea3546', '645a39b5-e65e-4d92-ba77-471674feaad3', '6b01fde9-5860-4d90-a969-a4d91f153c3c', '97f4a51c-116c-427c-9f99-5aea9894e36c', 'a9b0ebd2-4f5e-48dd-920f-5714b31e5032', 'f69e8cab-33ef-47bb-a775-b711a39793a7', 'c35a21df-3020-4e05-bd7a-14978e22b28a', 'f2af46ce-46f2-46c8-af82-04c6ac03de68', '7098cf9f-fdf6-4a32-94b6-c904aa38dbe1', '204d7446-97ce-41fe-aece-f44c520694f9', '488b8a08-9fba-4be8-b7e3-d5369b99bb87', 'bf997d5f-779b-4bcf-989e-ebb426fde8e2', 'bbb2222e-08c1-49a2-bc34-b65c1494a611', 'fe43a88e-b4d6-42f1-8927-5900a3f720c6', 'bbdc73b0-200b-41e9-8fe7-0f771406844a', 'f9025062-864d-430f-8cd3-22ef8bcb2a20', '5239942b-5949-4fda-9e07-cf2fbf5004ae']\n",
      "Replacing 55 from 165 !\n",
      "D_relabeled_ 55\n",
      "selected_ids ['f2af46ce-46f2-46c8-af82-04c6ac03de68', '7daef3e0-5413-454b-8794-306bd25dd3b3', '38827f22-e979-49ae-9efd-90949bb68d76', '91c526c0-69bb-408a-b2eb-c783a2b29b1a', 'ac1f306d-0779-461f-a0ff-c6af2219ed39', '7098cf9f-fdf6-4a32-94b6-c904aa38dbe1', 'ff19c7a5-882c-41ff-bc5f-ecf658442af6', 'b435e8e1-4a82-472b-9d13-0b81876fe582', 'f3a02ebb-8b11-420a-905a-c8eaa3e06bde', '7b65ef41-d790-46dd-b3fc-e9523c53fbe4', 'b501559c-ed07-4821-984e-76e09ec06484', '6b01fde9-5860-4d90-a969-a4d91f153c3c', '488b8a08-9fba-4be8-b7e3-d5369b99bb87', 'e31d6bd7-7ecc-4311-9914-981599b69742', 'fd4571ec-2309-49c1-8f61-417331539e5c', '7dce1f11-e4ce-4abd-863a-ce346cf24f54', 'dfb84e38-66e8-41a5-9c93-5280d0bf6612', 'f64494ff-c425-4b3d-b2df-61ed2cda8bca', '7586e85b-e21c-4cf6-82ba-8309196c0644', '6e4a8ef9-a3fd-4c51-97fe-1dfacd9debbb', 'efe094eb-9fa1-4634-bd2a-5f3ecb6cc5b1', '662760d8-1b54-42ee-8128-77eb6af33d42', 'a726e09f-f5c1-4642-b4e3-4ffd28452926', '7cc4298a-a758-42ab-a607-dea9b1e594a3', '444a4580-7314-4e5c-ad04-0a41fee711ac', 'cf1e3f82-e0be-4d1a-9a51-004bfdb47968', '08c31f11-8b99-4fea-96dc-35f051d3b10e', 'd80185fe-490a-47ae-95e8-404f23bfd85b', 'c4323968-c488-4eac-90c6-c8acd355f9eb', '6704d446-9eb0-4db9-9935-3f699be42b87', 'f288b560-c78c-4003-adc6-a0abb2fd3fbe', '2b4f965d-10a1-4c47-a34b-d34ed930493c', 'e2f42dc2-1b7d-4c53-8096-c3f0682f8187', '99263a1d-16a4-4af6-bfcf-6c283fbc8360', '1267c01a-dc5b-4c43-8cda-e221a448e919', '8750c229-a822-401d-bfef-87b12d58b4ce', '66374241-63a5-4d60-a25f-ae9592ac6179', '39f662b4-5a02-43e8-92ad-935f23ab1236', '1f5a1f3c-6ee5-43a7-9d54-563998e775b0', '3c11cd2f-d0e1-4ee6-a77c-d2a800e5bf73', '98f771d5-e66e-4d7c-a0ec-942bd16cd893', 'eea0bff9-c4f7-45ca-8b4a-247dff424a99', 'c35a21df-3020-4e05-bd7a-14978e22b28a', '719072b2-1a73-4a84-9f3c-546d58967359', 'fd909501-37f1-428b-90f7-d2913d8df632', '28660e38-e6c6-472f-9b80-9997270a9a6a', '8cc3454e-242a-4f89-9967-aedcad941eb2', 'ca439b53-af9e-4e1b-ae19-cfc163ca59d7', 'f482582d-f590-40d3-b44a-be740e3d3b30', 'd4b550ae-dff1-42da-b205-f27be3d386f7', '6a59b909-17b7-4074-9702-e6a3d8735dec', 'a9b0ebd2-4f5e-48dd-920f-5714b31e5032', '74adea45-ce65-4ae6-aaf9-ce7a9028e95e', 'f69e8cab-33ef-47bb-a775-b711a39793a7', '1e37f14f-4cb5-4b6d-b239-a98572a88ed7']\n",
      "dict_keys(['f2af46ce-46f2-46c8-af82-04c6ac03de68', '7daef3e0-5413-454b-8794-306bd25dd3b3', '38827f22-e979-49ae-9efd-90949bb68d76', '91c526c0-69bb-408a-b2eb-c783a2b29b1a', 'ac1f306d-0779-461f-a0ff-c6af2219ed39', '7098cf9f-fdf6-4a32-94b6-c904aa38dbe1', 'ff19c7a5-882c-41ff-bc5f-ecf658442af6', 'b435e8e1-4a82-472b-9d13-0b81876fe582', 'f3a02ebb-8b11-420a-905a-c8eaa3e06bde', '7b65ef41-d790-46dd-b3fc-e9523c53fbe4', 'b501559c-ed07-4821-984e-76e09ec06484', '6b01fde9-5860-4d90-a969-a4d91f153c3c', '488b8a08-9fba-4be8-b7e3-d5369b99bb87', 'e31d6bd7-7ecc-4311-9914-981599b69742', 'fd4571ec-2309-49c1-8f61-417331539e5c', '7dce1f11-e4ce-4abd-863a-ce346cf24f54', 'dfb84e38-66e8-41a5-9c93-5280d0bf6612', 'f64494ff-c425-4b3d-b2df-61ed2cda8bca', '7586e85b-e21c-4cf6-82ba-8309196c0644', '6e4a8ef9-a3fd-4c51-97fe-1dfacd9debbb', 'efe094eb-9fa1-4634-bd2a-5f3ecb6cc5b1', '662760d8-1b54-42ee-8128-77eb6af33d42', 'a726e09f-f5c1-4642-b4e3-4ffd28452926', '7cc4298a-a758-42ab-a607-dea9b1e594a3', '444a4580-7314-4e5c-ad04-0a41fee711ac', 'cf1e3f82-e0be-4d1a-9a51-004bfdb47968', '08c31f11-8b99-4fea-96dc-35f051d3b10e', 'd80185fe-490a-47ae-95e8-404f23bfd85b', 'c4323968-c488-4eac-90c6-c8acd355f9eb', '6704d446-9eb0-4db9-9935-3f699be42b87', 'f288b560-c78c-4003-adc6-a0abb2fd3fbe', '2b4f965d-10a1-4c47-a34b-d34ed930493c', 'e2f42dc2-1b7d-4c53-8096-c3f0682f8187', '99263a1d-16a4-4af6-bfcf-6c283fbc8360', '1267c01a-dc5b-4c43-8cda-e221a448e919', '8750c229-a822-401d-bfef-87b12d58b4ce', '66374241-63a5-4d60-a25f-ae9592ac6179', '39f662b4-5a02-43e8-92ad-935f23ab1236', '1f5a1f3c-6ee5-43a7-9d54-563998e775b0', '3c11cd2f-d0e1-4ee6-a77c-d2a800e5bf73', '98f771d5-e66e-4d7c-a0ec-942bd16cd893', 'eea0bff9-c4f7-45ca-8b4a-247dff424a99', 'c35a21df-3020-4e05-bd7a-14978e22b28a', '719072b2-1a73-4a84-9f3c-546d58967359', 'fd909501-37f1-428b-90f7-d2913d8df632', '28660e38-e6c6-472f-9b80-9997270a9a6a', '8cc3454e-242a-4f89-9967-aedcad941eb2', 'ca439b53-af9e-4e1b-ae19-cfc163ca59d7', 'f482582d-f590-40d3-b44a-be740e3d3b30', 'd4b550ae-dff1-42da-b205-f27be3d386f7', '6a59b909-17b7-4074-9702-e6a3d8735dec', 'a9b0ebd2-4f5e-48dd-920f-5714b31e5032', '74adea45-ce65-4ae6-aaf9-ce7a9028e95e', 'f69e8cab-33ef-47bb-a775-b711a39793a7', '1e37f14f-4cb5-4b6d-b239-a98572a88ed7'])\n",
      "point ids 55\n",
      "Removed: 55 Filled: 55\n"
     ]
    },
    {
     "name": "stdout",
     "output_type": "stream",
     "text": [
      "TOOK 3925.911150932312 seconds\n",
      "***\n",
      "RUN: 1\n",
      "Epoch 1/100\n",
      "5/5 [==============================] - 20s 5s/step - loss: 0.0715 - dice_coef: 0.7794 - val_loss: 0.0732 - val_dice_coef: 0.7659\n"
     ]
    },
    {
     "name": "stderr",
     "output_type": "stream",
     "text": [
      "/home/ryan.zurrin001/miniconda3/envs/O/lib/python3.9/site-packages/tensorflow/python/keras/utils/generic_utils.py:494: CustomMaskWarning: Custom mask layers require a config and must override get_config. When loading, the custom mask layer must be passed to the custom_objects argument.\n",
      "  warnings.warn('Custom mask layers require a config and must override '\n"
     ]
    },
    {
     "name": "stdout",
     "output_type": "stream",
     "text": [
      "Epoch 2/100\n",
      "5/5 [==============================] - 5s 1s/step - loss: 0.0667 - dice_coef: 0.7911 - val_loss: 0.0687 - val_dice_coef: 0.7910\n"
     ]
    },
    {
     "name": "stderr",
     "output_type": "stream",
     "text": [
      "/home/ryan.zurrin001/miniconda3/envs/O/lib/python3.9/site-packages/tensorflow/python/keras/utils/generic_utils.py:494: CustomMaskWarning: Custom mask layers require a config and must override get_config. When loading, the custom mask layer must be passed to the custom_objects argument.\n",
      "  warnings.warn('Custom mask layers require a config and must override '\n"
     ]
    },
    {
     "name": "stdout",
     "output_type": "stream",
     "text": [
      "Epoch 3/100\n",
      "5/5 [==============================] - 5s 1s/step - loss: 0.0636 - dice_coef: 0.7983 - val_loss: 0.0669 - val_dice_coef: 0.7994\n"
     ]
    },
    {
     "name": "stderr",
     "output_type": "stream",
     "text": [
      "/home/ryan.zurrin001/miniconda3/envs/O/lib/python3.9/site-packages/tensorflow/python/keras/utils/generic_utils.py:494: CustomMaskWarning: Custom mask layers require a config and must override get_config. When loading, the custom mask layer must be passed to the custom_objects argument.\n",
      "  warnings.warn('Custom mask layers require a config and must override '\n"
     ]
    },
    {
     "name": "stdout",
     "output_type": "stream",
     "text": [
      "Epoch 4/100\n",
      "5/5 [==============================] - 5s 1s/step - loss: 0.0621 - dice_coef: 0.8041 - val_loss: 0.0664 - val_dice_coef: 0.8098\n"
     ]
    },
    {
     "name": "stderr",
     "output_type": "stream",
     "text": [
      "/home/ryan.zurrin001/miniconda3/envs/O/lib/python3.9/site-packages/tensorflow/python/keras/utils/generic_utils.py:494: CustomMaskWarning: Custom mask layers require a config and must override get_config. When loading, the custom mask layer must be passed to the custom_objects argument.\n",
      "  warnings.warn('Custom mask layers require a config and must override '\n"
     ]
    },
    {
     "name": "stdout",
     "output_type": "stream",
     "text": [
      "Epoch 5/100\n",
      "5/5 [==============================] - 5s 1s/step - loss: 0.0608 - dice_coef: 0.8109 - val_loss: 0.0661 - val_dice_coef: 0.8028\n"
     ]
    },
    {
     "name": "stderr",
     "output_type": "stream",
     "text": [
      "/home/ryan.zurrin001/miniconda3/envs/O/lib/python3.9/site-packages/tensorflow/python/keras/utils/generic_utils.py:494: CustomMaskWarning: Custom mask layers require a config and must override get_config. When loading, the custom mask layer must be passed to the custom_objects argument.\n",
      "  warnings.warn('Custom mask layers require a config and must override '\n"
     ]
    },
    {
     "name": "stdout",
     "output_type": "stream",
     "text": [
      "Epoch 6/100\n",
      "5/5 [==============================] - 5s 1s/step - loss: 0.0599 - dice_coef: 0.8079 - val_loss: 0.0659 - val_dice_coef: 0.8037\n"
     ]
    },
    {
     "name": "stderr",
     "output_type": "stream",
     "text": [
      "/home/ryan.zurrin001/miniconda3/envs/O/lib/python3.9/site-packages/tensorflow/python/keras/utils/generic_utils.py:494: CustomMaskWarning: Custom mask layers require a config and must override get_config. When loading, the custom mask layer must be passed to the custom_objects argument.\n",
      "  warnings.warn('Custom mask layers require a config and must override '\n"
     ]
    },
    {
     "name": "stdout",
     "output_type": "stream",
     "text": [
      "Epoch 7/100\n",
      "5/5 [==============================] - 5s 1s/step - loss: 0.0598 - dice_coef: 0.8083 - val_loss: 0.0659 - val_dice_coef: 0.8037\n",
      "Epoch 8/100\n",
      "5/5 [==============================] - 4s 968ms/step - loss: 0.0597 - dice_coef: 0.8082 - val_loss: 0.0744 - val_dice_coef: 0.7662\n",
      "Epoch 9/100\n",
      "5/5 [==============================] - 4s 949ms/step - loss: 0.0819 - dice_coef: 0.7402 - val_loss: 0.1412 - val_dice_coef: 0.6275\n",
      "Epoch 10/100\n",
      "5/5 [==============================] - 4s 956ms/step - loss: 0.2241 - dice_coef: 0.5366 - val_loss: 0.2474 - val_dice_coef: 0.5140\n",
      "Model saved to: /tmp/tmp28ziahoqGP2/kattunet_1kattunet_model\n",
      "History saved to: /tmp/tmp28ziahoqGP2/attunet_history_1.pkl\n",
      "Testing the classifier...\n",
      "Testing the discriminator...\n",
      "10/10 [==============================] - 0s 21ms/step - loss: 0.2886 - accuracy: 0.9800\n",
      "Found 146 machine labels.\n",
      "Machine labels [  3   4   6   7   8  10  13  14  15  16  18  20  21  22  24  25  28  30\n",
      "  33  34  35  36  37  40  42  43  47  50  52  54  55  57  60  63  64  65\n",
      "  66  67  71  72  73  78  79  80  81  82  83  84  85  87  89  93  94  95\n",
      "  97  98  99 100 106 112 115 116 118 119 123 125 129 134 138 139 140 142\n",
      " 143 145 147 149 150 151 157 160 163 164 167 168 169 170 171 173 174 178\n",
      " 179 180 188 189 190 191 195 197 200 203 204 205 206 207 209 210 212 214\n",
      " 215 216 217 220 221 222 225 226 227 228 229 231 234 244 245 246 247 248\n",
      " 249 252 256 258 259 262 265 269 271 272 273 277 278 281 282 287 288 291\n",
      " 296 297]\n",
      "D_ids ['1ae2a00e-1093-49d6-b62a-eec3674059ee', 'cc7df011-1462-429c-9af4-4b741bf78dd1', 'f4a29eb0-9f51-40f5-bac5-bdf013b50ef0', '40a2fceb-b873-4a1b-814d-2ef0d658c941', '436337e6-7cd3-4fce-bbb6-0a52afd3b344', '47f5990c-a32f-4340-b6c6-cda86667b4e0', '9da1208f-16e8-4737-93a3-0a43694ba520', '842c8e3e-19ad-419c-b696-51fc499e1b97', 'ce8b822f-8853-4172-a46e-16299e17bf56', 'f9a5481f-5c24-492b-93cc-682c0f129584', '30410705-91cc-4ad8-9d35-016c3fe138d0', 'bf5a9e59-ef81-4284-abd0-83725dc8cab0', 'bc7ecf4f-c0e2-4d6c-90dc-8b2ea40e0fe6', '6a1bb774-0dc8-45bc-ba8f-31f391158e60', '7d08efc8-5aa9-44cd-84fb-d6edf104a59e', '1742abc4-0afe-4748-bbaa-44ca915fd77f', '2119adf8-b509-4ef7-bbcd-139578f3177f', '43bb7a6e-a044-4145-9aa9-8829ed70f2e8', 'f6428742-61e2-47a6-80a8-997b810a9b36', '1789a04c-98fe-4534-89a4-8c3576c56a4f', 'b5554df7-503a-4fe0-8de8-f6fdef7b17e1', '151bf01d-3966-48ac-8bcc-354a348ddf5a', '1aa6fd9c-ac31-45d6-8308-8a8bf8c481b5', '30530a82-51a9-494f-82b5-802a550dcd33', 'eca0bac2-502a-4d42-955d-f3b2559280e3', 'f0c3a943-3c9e-40b9-acbf-7115f84cb268', '049f70d4-42bb-4fb5-b764-310fe3f86fe0', '5c8d4940-1936-47ee-90be-50b1695812e0', 'c21c504c-f8f9-4d0a-bd26-a3f34705548b', '643c1da3-916c-4caf-9a40-d844358081f1', '53573c21-58b6-4344-a8a9-4c85099c446c', 'c8dfd679-3f82-4749-a87a-eb9366d6eb9e', '2b2e3c36-8b03-4fc5-9294-8f801e4f1cd0', '5d7d9609-39d7-4a5e-9746-4a0f3b8fd3d8', 'b155733a-31d3-4d44-8730-458d0e0e9828', '81ccbd95-b086-4603-a1f9-5b1997b5e25e', 'afeabee9-31ef-4b6b-8a03-152c135a1c4b', 'd8f03c7e-dd95-4f5d-abbb-becdcc82d0b6', 'baad8e77-3a3c-43f3-8801-11c432536778', '39268224-9359-472b-ad8f-e5e7bb4d161b', 'c8a4f60c-dc4b-4742-8b1e-e397008dfc4e', '4086e9af-6d06-4c00-8ac6-e5772872feb6', '39706f65-e9e1-45f7-ad26-048bba522c7e', '7af2b3e5-47e0-41a0-ab4b-a7d144b2eb24', '9bbab537-1d75-4396-af73-311bfba73d05', '0dfd7327-6b31-42ab-9344-e7ebc8a57505', '0370ccf5-3890-4732-b9f0-f829afcb9aa8', '72a90af1-9845-40b6-909a-e0f7994fe089', '5828693a-ef31-4a8d-91c6-26d1cd28540f', 'd66e7568-ddae-475d-8848-d40d95f35d39', '6cfc9781-5340-4355-80a6-bdc184511c5c', '43c3920a-8d25-4153-8c67-fc5295adfbf4', '51ba33d3-a7e5-43fa-b242-e587050ec1c4', '2a86ddd8-2a33-425a-a2d1-59acef81c30c', 'd26283e9-0f8a-42df-bac0-98809c6bd26a', '1818176f-840f-4315-95db-b6fa4fee79cf', 'd3117a34-6fa0-41aa-8774-4d65d4a8a104', 'dee9765b-809c-456e-a108-ef5bc528c7e8', 'dc8a0d3d-da1d-4c75-bed1-537a97f51910', '841b3762-2bc2-4783-be2e-268019fcd01d', '0cf44439-d419-4844-a678-59bb4c2e313e', 'd29ccfe1-932f-461b-9759-78f6ac0f71c7', '7c68194a-fa51-460c-82d5-7006b50c1b44', '91a8a3c6-148c-451e-b4ce-895269693a4f', 'ee2a8676-f49a-4155-9b16-62aecdbf7ded', 'caeb1d9a-a1ac-4856-9e15-42856db710e8', 'af26cad8-9e99-4be1-94ff-acad198955cc', '46b360dc-3b3e-4a82-991c-6508d98aea4d', 'd5b7477b-1371-41c0-b27f-5027a6df9470', 'df90f767-98ad-457c-a492-ed1c93132e27', '8c81c78c-0a3e-4da3-8559-855455096c6d', '0364d8c3-e4c2-44e2-88e6-2996f4cb95cc', '80f6c55f-1433-466a-ad05-169c9da8a208', 'cbd699a6-6567-42f2-9ee3-17a07caf8a82', '0e09177e-8226-40d2-84ec-b928268d6fc3', 'f672476d-8afa-47f9-9e2c-5731dfe12af1', 'ce292e4c-636a-42ef-9afb-0c698740bc67', 'c493f9b4-dbe4-43e1-afbe-38457f8414ec', 'ed35a229-6a18-4f95-b900-a4d2c0ef3bd0', '4a96c734-e8cd-4498-9885-2afc5fef73ff', '1fccf87d-ff77-4c89-88dd-0c9d56598083', '6bc8a2d9-0a65-4e84-b79f-35afe4777f49', 'e22880e9-0a63-4c0d-b143-87e1d39a247c', 'ac9d7a35-956b-42d0-82d9-5482bb54a98a', 'fe4314af-7640-4b22-b81f-ec8099cf2bdb', '45e812b5-d1d3-4a42-a3eb-71938371819d', 'bbb2222e-08c1-49a2-bc34-b65c1494a611', '83ba7f7a-0809-4017-961d-7be4bd7f7026', '0a3cce08-f32c-4efe-9a0e-9ba775510fd1', '0fdef1e8-a1f4-4687-bef8-8709c44d44b1', 'ad1a79ea-0b38-4f8c-ab04-c9a97d868b35', 'f4e53cb2-e57a-4a8e-863e-56201db3feee', 'c814c96b-9a43-48c3-8cfa-0b049249b6f0', '84c0e1f3-b9c8-4f5a-8143-d6bae82ac2b1', '219be117-e679-4230-a36c-2b90c9dd34a1', '84d93489-fd1c-4f9d-9897-40a7733e8241', 'bce259ea-04f2-4439-8041-1fa9ffb46ab7', '7678bcb8-b96d-4db8-8fdd-b42ad4774717', 'c30f9f25-e307-4d8e-b645-d4e687f419e1', '74d6e66d-7701-4fe4-8617-c1195cc8a324', '465bd850-42da-4eff-9295-8b253367fda8', 'fe43a88e-b4d6-42f1-8927-5900a3f720c6', 'ffd1e419-90af-4549-bd4d-a7e28f84d169', '449595a6-166b-4562-8dee-ee76a02faa12', '19fb4966-0952-4e66-906c-c30f2cab12ef', '5e23197c-a17d-4221-b7b5-714e3b18a20f', '3c90ae7b-5957-42d3-998a-2856b2bed52f', 'e84ca17f-5c8e-402c-b80e-92de53c73322', '3b34db35-4807-40ac-ac18-467e121d1907', '526e1a91-b6da-42ff-80d2-44f11c9fdb58', 'e684c45d-81a2-4d12-982b-5cad26f267bc', '5ad40387-2464-4c93-b44f-69b9437548a7', '9009dcc8-4e8c-4d86-8e85-59e755527b62', 'e8a696c4-d535-41ec-8a77-ff490fc172b2', '2f12a37c-2ec2-4810-ba1a-8ba2aaf97eb9', '758d27aa-e691-445f-9754-0d3a0a74aeea', '7ba3511b-45b1-4b13-bda7-d0b52be6f7c0', 'ec7fd002-4b22-4cf8-9f59-2b0759b39efe', '543dc92b-f49a-4518-8050-d479990f883d', '9411d04c-d13c-4757-accb-37c8e0b878ac', 'a3c7a9a7-bcc8-4a1e-bb34-230946f39500', '107e91cb-1c52-45a4-ae9d-56b3d8fe0251', '1f78213a-f631-4acc-8dce-ed7a8967da80', 'e9bb5179-c350-4fa9-bf78-087e49932e68', '3c3945d8-f403-426a-a1e2-917d6cb11643', '4e5b3d2d-5e17-4649-953d-fb0d987b4647', '38636181-b2b1-45de-a5d8-c4b41c206081', 'ef8ecfd6-f66e-4b56-857c-a09ea46765f3', '8748cb62-fece-47af-ae03-d7b082d668f3', '100c94ed-0dda-43a3-9846-df13b3657b92', '3b1a4ffd-d3a4-4f95-8f8e-ded78a83a66c', '2c04cc34-6588-46bc-952a-51f315ddcb96', '59690444-4d8c-49ca-98ec-cd1c1ae6d524', 'aa142ca6-7c83-4fca-9677-d1a20240d526', 'ed295622-5621-4f81-8c86-0307043267a7', 'd1634ae5-f388-4395-932d-2d0db7171484', '4ee49ce7-3bbb-47c8-972d-f66853ec7b92', '644f19e4-6108-495c-a42f-a9da04cdaf91', '23f10196-a6dc-4c53-bc13-690c8d0e5497', '6d6612a3-2232-42af-b3b8-75fd6fd5e182', '116922d9-5a02-4ee9-a325-d439c2c02e57', '8586a9de-a339-4451-b370-4b7a0c07a59a', 'ea815ea2-a17d-4b26-815c-517712a773a0', '9ec535f2-938e-482a-a9e4-bad9ece76692', 'f45c875a-fa21-451f-999d-f33d1924f442', '986d497e-1bc3-4848-a52c-f5c58bda1b59']\n",
      "Replacing 48 from 146 !\n",
      "D_relabeled_ 48\n",
      "selected_ids ['3c3945d8-f403-426a-a1e2-917d6cb11643', '9da1208f-16e8-4737-93a3-0a43694ba520', 'ffd1e419-90af-4549-bd4d-a7e28f84d169', 'f9a5481f-5c24-492b-93cc-682c0f129584', 'd66e7568-ddae-475d-8848-d40d95f35d39', 'ee2a8676-f49a-4155-9b16-62aecdbf7ded', 'e9bb5179-c350-4fa9-bf78-087e49932e68', 'ed295622-5621-4f81-8c86-0307043267a7', 'c21c504c-f8f9-4d0a-bd26-a3f34705548b', '43bb7a6e-a044-4145-9aa9-8829ed70f2e8', '5c8d4940-1936-47ee-90be-50b1695812e0', '47f5990c-a32f-4340-b6c6-cda86667b4e0', '45e812b5-d1d3-4a42-a3eb-71938371819d', 'fe43a88e-b4d6-42f1-8927-5900a3f720c6', 'af26cad8-9e99-4be1-94ff-acad198955cc', 'f45c875a-fa21-451f-999d-f33d1924f442', 'bce259ea-04f2-4439-8041-1fa9ffb46ab7', '2a86ddd8-2a33-425a-a2d1-59acef81c30c', 'd26283e9-0f8a-42df-bac0-98809c6bd26a', 'f6428742-61e2-47a6-80a8-997b810a9b36', 'ac9d7a35-956b-42d0-82d9-5482bb54a98a', 'd3117a34-6fa0-41aa-8774-4d65d4a8a104', 'cbd699a6-6567-42f2-9ee3-17a07caf8a82', 'd29ccfe1-932f-461b-9759-78f6ac0f71c7', '219be117-e679-4230-a36c-2b90c9dd34a1', '4a96c734-e8cd-4498-9885-2afc5fef73ff', 'fe4314af-7640-4b22-b81f-ec8099cf2bdb', 'caeb1d9a-a1ac-4856-9e15-42856db710e8', 'ea815ea2-a17d-4b26-815c-517712a773a0', 'e84ca17f-5c8e-402c-b80e-92de53c73322', 'd1634ae5-f388-4395-932d-2d0db7171484', 'd8f03c7e-dd95-4f5d-abbb-becdcc82d0b6', 'ed35a229-6a18-4f95-b900-a4d2c0ef3bd0', '2f12a37c-2ec2-4810-ba1a-8ba2aaf97eb9', '758d27aa-e691-445f-9754-0d3a0a74aeea', 'df90f767-98ad-457c-a492-ed1c93132e27', '049f70d4-42bb-4fb5-b764-310fe3f86fe0', '38636181-b2b1-45de-a5d8-c4b41c206081', 'dee9765b-809c-456e-a108-ef5bc528c7e8', 'c814c96b-9a43-48c3-8cfa-0b049249b6f0', '465bd850-42da-4eff-9295-8b253367fda8', '7d08efc8-5aa9-44cd-84fb-d6edf104a59e', '6cfc9781-5340-4355-80a6-bdc184511c5c', '986d497e-1bc3-4848-a52c-f5c58bda1b59', 'c30f9f25-e307-4d8e-b645-d4e687f419e1', '40a2fceb-b873-4a1b-814d-2ef0d658c941', '46b360dc-3b3e-4a82-991c-6508d98aea4d', 'f0c3a943-3c9e-40b9-acbf-7115f84cb268']\n",
      "dict_keys(['3c3945d8-f403-426a-a1e2-917d6cb11643', '9da1208f-16e8-4737-93a3-0a43694ba520', 'ffd1e419-90af-4549-bd4d-a7e28f84d169', 'f9a5481f-5c24-492b-93cc-682c0f129584', 'd66e7568-ddae-475d-8848-d40d95f35d39', 'ee2a8676-f49a-4155-9b16-62aecdbf7ded', 'e9bb5179-c350-4fa9-bf78-087e49932e68', 'ed295622-5621-4f81-8c86-0307043267a7', 'c21c504c-f8f9-4d0a-bd26-a3f34705548b', '43bb7a6e-a044-4145-9aa9-8829ed70f2e8', '5c8d4940-1936-47ee-90be-50b1695812e0', '47f5990c-a32f-4340-b6c6-cda86667b4e0', '45e812b5-d1d3-4a42-a3eb-71938371819d', 'fe43a88e-b4d6-42f1-8927-5900a3f720c6', 'af26cad8-9e99-4be1-94ff-acad198955cc', 'f45c875a-fa21-451f-999d-f33d1924f442', 'bce259ea-04f2-4439-8041-1fa9ffb46ab7', '2a86ddd8-2a33-425a-a2d1-59acef81c30c', 'd26283e9-0f8a-42df-bac0-98809c6bd26a', 'f6428742-61e2-47a6-80a8-997b810a9b36', 'ac9d7a35-956b-42d0-82d9-5482bb54a98a', 'd3117a34-6fa0-41aa-8774-4d65d4a8a104', 'cbd699a6-6567-42f2-9ee3-17a07caf8a82', 'd29ccfe1-932f-461b-9759-78f6ac0f71c7', '219be117-e679-4230-a36c-2b90c9dd34a1', '4a96c734-e8cd-4498-9885-2afc5fef73ff', 'fe4314af-7640-4b22-b81f-ec8099cf2bdb', 'caeb1d9a-a1ac-4856-9e15-42856db710e8', 'ea815ea2-a17d-4b26-815c-517712a773a0', 'e84ca17f-5c8e-402c-b80e-92de53c73322', 'd1634ae5-f388-4395-932d-2d0db7171484', 'd8f03c7e-dd95-4f5d-abbb-becdcc82d0b6', 'ed35a229-6a18-4f95-b900-a4d2c0ef3bd0', '2f12a37c-2ec2-4810-ba1a-8ba2aaf97eb9', '758d27aa-e691-445f-9754-0d3a0a74aeea', 'df90f767-98ad-457c-a492-ed1c93132e27', '049f70d4-42bb-4fb5-b764-310fe3f86fe0', '38636181-b2b1-45de-a5d8-c4b41c206081', 'dee9765b-809c-456e-a108-ef5bc528c7e8', 'c814c96b-9a43-48c3-8cfa-0b049249b6f0', '465bd850-42da-4eff-9295-8b253367fda8', '7d08efc8-5aa9-44cd-84fb-d6edf104a59e', '6cfc9781-5340-4355-80a6-bdc184511c5c', '986d497e-1bc3-4848-a52c-f5c58bda1b59', 'c30f9f25-e307-4d8e-b645-d4e687f419e1', '40a2fceb-b873-4a1b-814d-2ef0d658c941', '46b360dc-3b3e-4a82-991c-6508d98aea4d', 'f0c3a943-3c9e-40b9-acbf-7115f84cb268'])\n",
      "point ids 48\n",
      "Removed: 48 Filled: 48\n"
     ]
    },
    {
     "name": "stdout",
     "output_type": "stream",
     "text": [
      "TOOK 409.9541349411011 seconds\n",
      "***\n",
      "RUN: 2\n",
      "Epoch 1/100\n",
      "6/6 [==============================] - 16s 3s/step - loss: 0.1038 - dice_coef: 0.7189 - val_loss: 0.0739 - val_dice_coef: 0.8056\n"
     ]
    },
    {
     "name": "stderr",
     "output_type": "stream",
     "text": [
      "/home/ryan.zurrin001/miniconda3/envs/O/lib/python3.9/site-packages/tensorflow/python/keras/utils/generic_utils.py:494: CustomMaskWarning: Custom mask layers require a config and must override get_config. When loading, the custom mask layer must be passed to the custom_objects argument.\n",
      "  warnings.warn('Custom mask layers require a config and must override '\n"
     ]
    },
    {
     "name": "stdout",
     "output_type": "stream",
     "text": [
      "Epoch 2/100\n",
      "6/6 [==============================] - 5s 900ms/step - loss: 0.0952 - dice_coef: 0.7115 - val_loss: 0.0938 - val_dice_coef: 0.6751\n",
      "Epoch 3/100\n",
      "6/6 [==============================] - 5s 892ms/step - loss: 0.0924 - dice_coef: 0.7096 - val_loss: 0.0958 - val_dice_coef: 0.6676\n",
      "Epoch 4/100\n",
      "6/6 [==============================] - 5s 901ms/step - loss: 0.1708 - dice_coef: 0.5228 - val_loss: 0.2465 - val_dice_coef: 0.4325\n",
      "Epoch 5/100\n",
      "6/6 [==============================] - 5s 903ms/step - loss: 0.1980 - dice_coef: 0.4828 - val_loss: 0.1474 - val_dice_coef: 0.5470\n",
      "Model saved to: /tmp/tmp28ziahoqGP2/kattunet_2kattunet_model\n",
      "History saved to: /tmp/tmp28ziahoqGP2/attunet_history_2.pkl\n",
      "Testing the classifier...\n",
      "Testing the discriminator...\n",
      "10/10 [==============================] - 0s 22ms/step - loss: 0.0751 - accuracy: 0.9933\n",
      "Found 160 machine labels.\n",
      "Machine labels [  7  10  11  14  16  20  24  27  29  31  32  33  34  35  36  37  40  42\n",
      "  43  46  47  48  49  53  54  57  60  61  62  63  64  65  66  67  69  71\n",
      "  73  77  78  81  82  86  88  89  91  93  94  95  99 100 101 105 108 110\n",
      " 111 112 113 115 118 120 121 122 124 125 127 129 130 132 134 139 140 141\n",
      " 142 144 145 146 148 149 151 153 157 160 161 166 167 168 169 170 171 174\n",
      " 175 177 179 180 183 184 185 186 188 189 190 191 195 197 198 199 201 202\n",
      " 206 208 210 213 215 218 219 221 223 229 233 234 237 238 240 241 242 245\n",
      " 249 251 252 253 254 256 257 259 260 261 262 263 264 267 268 269 270 272\n",
      " 273 274 278 279 281 282 283 288 289 291 293 295 296 297 298 299]\n",
      "D_ids ['67bdd2cd-b0e6-4fc9-a239-2dc2901e1da6', '125322c1-7721-4bb3-bb8a-403eaa90394b', 'a4f3e95c-08c5-4e0b-8023-1c0a4caf8176', '6466be23-8098-4171-8015-28ad20a0f84b', '3604e979-2e54-45fe-8cc4-4d24dafa6664', 'c8a4f60c-dc4b-4742-8b1e-e397008dfc4e', 'ecb52f5f-ef60-4c0e-a6aa-894d363afbe7', '1f749c60-e737-47b4-81f7-8f475493c7d9', '5b5f4f94-564b-4d74-87dd-a8844b0434a9', '1381e1e1-f666-41b0-be46-96526a51fc37', '46516c2a-a6ed-43a6-bf78-523a2b50ad5f', 'a60e7506-80ed-4077-8fb8-59736eb71e17', '3d2a0f4d-9937-4e37-a9e4-1d9f13670a0d', '6d9b0377-7b1d-44e4-af3b-170d49b2ac82', 'b63af71f-6c3d-4d6f-baa3-f9f58b6ed3e6', '30ea0762-066e-4705-9428-72975d541732', '7061a728-37db-4deb-995f-3f915fb2efd0', '57ca8e7f-f759-4b7e-9130-734949f726df', '156660f3-2435-4e30-bf17-d619b2ff0160', '57f1f3c6-0390-4895-91ca-c32302150b71', '24553c2e-f441-4cf1-836e-0e653b19bf43', '41883624-7ebd-43cc-90c0-8266cc057f04', '2bc4f5ed-b0c6-447a-a217-a43a96165e6b', '643c1da3-916c-4caf-9a40-d844358081f1', '9ef3e540-6d31-4061-9725-7497f3b3db8c', '4c106219-6b5d-4347-8588-7ab5a85b51c3', '93d3f06b-cddf-4dc1-910c-ed0b89e1881b', '1868638b-4651-4cd2-abc7-c46614474134', '3b1a4ffd-d3a4-4f95-8f8e-ded78a83a66c', '2c9d677b-fb26-4786-97c4-9405094b836d', '3692f2b9-72b3-4e3d-9e6f-0afb980efb71', '1fccf87d-ff77-4c89-88dd-0c9d56598083', '0511ad94-9575-4e58-8fdf-f95bba644e70', 'd3426ff4-17ed-4cf3-ac8e-574d43d2bbff', '3ab508f5-3cb2-46b8-ab76-5df18e123f20', '81d8c371-474a-4959-82da-7d0cd69daba8', '1db78f69-e348-4031-8266-185fdeee38b5', '38aba23c-4870-40c6-81c4-a8197fdf257b', 'fd7ae602-f6ab-4b6a-ae25-ff45c8f18696', '314caf0e-08e0-4b82-b4d6-e50f26150f4f', '5e5620fd-7a67-4ef8-82ce-0b8aa3ed9f69', 'af9b9c3c-81c9-441d-9a3c-fa31fc601d34', 'd9bd28d1-f318-49e6-a01b-422dfd931145', '1e7a2aff-1b85-4393-b7cc-83fc8439b0e1', 'd2e03f13-f9ae-4608-a2b6-2e6fbbec7b10', '7f88a5a8-8f20-4539-b645-c9e381965170', 'f62899cb-9594-44d9-b405-a5bb394a445c', '2f09d15a-2c81-4669-b247-29760f06b8fe', '56f870b1-4137-46c3-a512-f5ae1ee761f8', 'a88132ad-44ce-4b99-88a7-6b516f19e720', 'c2d054bb-3d7b-45d0-a3ca-5cbf8b14172e', '1789a04c-98fe-4534-89a4-8c3576c56a4f', '30b9304c-9ba8-48a1-81f5-25b76a4b5073', '2b9032b7-0106-4102-8893-6d921118fe3c', '18606879-0dce-4d36-831a-4245b3e95ebd', 'e4487d59-f11b-4c11-9011-d8ad0a712775', '3156d371-8391-467e-8fe8-390c53c7973e', 'b4bd5399-0509-4172-8e0c-4c09fd0d0873', 'bab8018e-880d-4344-9bb8-23539eabe8dd', '9411d04c-d13c-4757-accb-37c8e0b878ac', '1fd54e73-2466-4119-943f-85fbf447d6e3', '5c389499-b0f5-45ea-8936-a33a057353f3', '6d4689e0-b05e-4a17-9db5-a6fc701b8b2c', 'a74fc1d7-818f-4fdd-b758-1b60bf540d6b', 'ec089814-c7e5-4dd2-96e5-cf7d7cf6a424', '2e2ee623-44db-433e-8d63-8d551c672ef2', 'ac2793df-8fd1-47de-8632-33043528502b', 'e36a6dc9-af0e-4b8e-9d73-f71e498b4039', 'c77e0249-875e-48ec-a8be-983af0d3c00b', '24cfb0a2-7c66-416f-8de2-55fdd349e9c9', 'addaa244-9c63-45f9-9918-2bf4a44808da', '6fde42b0-9bc8-4dae-9f04-d8c40c015141', '0f22c706-94c8-459d-8ff4-5aea57141627', '15770bd1-9f4f-4285-aba0-45e777b99e2a', '29894c08-0b1f-418b-96c1-3a3352e0f932', '188d88da-13b4-4318-8775-4128732ffe0d', '286f0d32-67a9-4263-ba7c-8c05cb548186', '8ed9c967-c5ee-4db2-9914-8d72e6ac160c', '4b333116-d7f4-4e62-86cd-12168a33930d', 'f4720698-b98c-4f04-9b59-d3b36dbefb11', '5b158afb-c70c-4dc1-b72c-ea0c6a31f2e3', '393412c0-de22-405c-b107-eaada6de1fb0', '03660e58-9d32-40d7-aac2-d73ff4da128e', '537cddad-9abc-45ab-bedb-e13b8dfe7c7d', 'c94045d9-58ff-4af4-a775-16f4b8fcbe37', 'ec16be81-778c-43ad-9d20-5f4f4b295611', 'aad9cb91-f5d9-4460-b6f6-3c0f3ecd3620', 'dde7564f-33a4-495d-9a98-c64f7c516d84', 'bc779060-b26c-46b3-b945-fdecdc07cb46', '80ef30c5-ee4e-4ffb-bae5-e8bdcb56d937', '6d76d506-131e-4f8d-9a06-12261f3f4570', '2d2e9447-f7d0-40fe-a68b-c8dff0267bd8', '1aa6fd9c-ac31-45d6-8308-8a8bf8c481b5', 'f9604e00-e846-48aa-b366-0e25d8a2996c', 'ea92aed4-61b1-4a52-ad25-f9726b8de1fa', 'e45a6f9d-477b-4f49-83f0-a4efad56b9d5', 'd446645c-d6e8-47e8-8b2c-14e0df357414', '82cca1bb-757e-4136-94fc-784f1188e279', '257d4889-89e7-4209-865c-55a17ba9f5d3', '39268224-9359-472b-ad8f-e5e7bb4d161b', '85522048-0d52-4e9d-9ff2-6d4e80e3590c', 'a3f7c4eb-5a82-4047-b902-755d86bb30b4', '0fe2ba79-83cc-4bd3-acd1-616d8d5da9ce', 'dc2d659b-412b-4632-ad1f-2fb86cd566fd', '387ec07e-cbea-46a8-92cf-49a2c078188d', 'f7e290c6-78fa-4fb2-9f0c-e1f98683cea7', 'c27d01ae-80f5-4951-8306-09b8643d7db7', 'e5e794ab-4f5c-47b9-b664-d0378b428aa7', '6b467510-c41e-42fa-8733-ad9e83b1d105', '7c68194a-fa51-460c-82d5-7006b50c1b44', 'bae7ee4a-e000-43cb-8c99-2ce09ca95148', '251a40cc-36f0-4493-89b9-605ce77ca70f', '7faf71f2-8b6f-4641-ad7d-89d6d169cff2', '6346957f-d220-4579-8912-833011ae1281', 'df7c1b02-c4e6-4a02-b208-59dce28d81c2', 'e3c5fc3d-166a-43de-aa58-fa7ad265b315', '060942cf-5412-4564-82e8-38da1d75ea97', 'c7e67f40-ea87-43ad-8500-dba58fc88121', '0bbc080d-4b5b-4cd6-aa24-824ed967a258', '7a8cadb1-1e26-404f-a4f2-f374eeb9cb30', '240bd328-beb0-4634-a675-0a7bdc5b5bbd', '627a310e-49d3-461e-a14b-0d87798de73b', '0875430c-622e-4958-bc23-d728f89600f0', '8e1d9920-3238-4947-a07a-d767f80213a5', '896419d2-02b4-4d5b-b3ff-20f7e47cd2f9', 'b53e1899-178d-45eb-9afd-040b718a9a6b', 'e34a707f-a264-4c8c-9a0b-7e027cc0aaa4', '33f74c57-5196-4cdd-a657-7e2d182d57e9', 'f6d7da11-c3a6-4fb6-b8fc-9dba8961d3e8', '00da0296-2bdb-4592-8674-583ad6db2487', 'fa66e429-8293-4c16-84f8-c95d58d9d86c', '69c3b9e1-7a69-4cee-af97-639eb5f9f02c', 'b2e4a9c8-7041-49f1-a89b-6c5f3ba12d73', '92995039-7370-46b2-a6ae-36ec218fd9d1', '52e12eef-5058-43f1-90dd-6ae68fe0a865', 'fed767f8-e63e-4731-b76b-ef4da8154952', '1e4fba52-ab98-4867-a7d0-d0c557ffbefa', 'f1909f25-a054-40d8-a111-9c231b884f12', 'dbd238ce-a137-4ebb-8c19-56d9352b4ad7', '55c73023-a754-48a6-b800-239fa3d8cd8d', 'ad1f6b01-7e5b-410e-8652-7a1e670d4ecc', '806cec9e-1a51-4fd7-bc39-1136d970f844', 'bc7ecf4f-c0e2-4d6c-90dc-8b2ea40e0fe6', '422a789f-ab64-4f2b-9803-f8b20f042a5a', '8c81c78c-0a3e-4da3-8559-855455096c6d', '7b360c2c-8c65-484b-bf52-055e56f069a3', 'c455ce49-b657-40a7-98e9-7e9d87aa4268', '206f0650-6c41-472e-8d26-f3300101f34f', 'b7d905f7-4229-49c0-aabc-7b5c7b1a8abe', '162681dc-7bce-440c-8923-92bdac93af94', 'e890937e-718a-4b3b-8739-69ca72323b82', 'da8422ab-1131-40ac-bc52-d69f56ccedaf', 'e120bd86-3fd9-4d2e-bcf0-b75144fab152', '66501f6d-a448-4924-8294-097f3d39fe24', '737978af-7bce-4df4-9df8-362eb11749ea', '05a0e1df-c32b-4cbc-bad0-e287133178b3', '0eced119-6fc2-44a5-8c6e-c528ea86deee', '80cb8265-9cac-4106-9dff-ce5f9437a0ad', '8a4d19e7-ff77-4c0a-80ee-443f54362660', '9a31cd31-adee-4b3a-947a-ab6a602fcba6']\n",
      "Replacing 53 from 160 !\n",
      "D_relabeled_ 53\n",
      "selected_ids ['3604e979-2e54-45fe-8cc4-4d24dafa6664', '8e1d9920-3238-4947-a07a-d767f80213a5', '80ef30c5-ee4e-4ffb-bae5-e8bdcb56d937', 'aad9cb91-f5d9-4460-b6f6-3c0f3ecd3620', '0bbc080d-4b5b-4cd6-aa24-824ed967a258', 'c27d01ae-80f5-4951-8306-09b8643d7db7', '6d4689e0-b05e-4a17-9db5-a6fc701b8b2c', 'a3f7c4eb-5a82-4047-b902-755d86bb30b4', '2d2e9447-f7d0-40fe-a68b-c8dff0267bd8', 'e34a707f-a264-4c8c-9a0b-7e027cc0aaa4', 'a4f3e95c-08c5-4e0b-8023-1c0a4caf8176', '162681dc-7bce-440c-8923-92bdac93af94', '627a310e-49d3-461e-a14b-0d87798de73b', '24553c2e-f441-4cf1-836e-0e653b19bf43', 'addaa244-9c63-45f9-9918-2bf4a44808da', 'bab8018e-880d-4344-9bb8-23539eabe8dd', '206f0650-6c41-472e-8d26-f3300101f34f', 'dbd238ce-a137-4ebb-8c19-56d9352b4ad7', '7faf71f2-8b6f-4641-ad7d-89d6d169cff2', '0fe2ba79-83cc-4bd3-acd1-616d8d5da9ce', '2f09d15a-2c81-4669-b247-29760f06b8fe', '125322c1-7721-4bb3-bb8a-403eaa90394b', 'c455ce49-b657-40a7-98e9-7e9d87aa4268', '3156d371-8391-467e-8fe8-390c53c7973e', 'e5e794ab-4f5c-47b9-b664-d0378b428aa7', 'bc7ecf4f-c0e2-4d6c-90dc-8b2ea40e0fe6', '05a0e1df-c32b-4cbc-bad0-e287133178b3', 'e4487d59-f11b-4c11-9011-d8ad0a712775', '67bdd2cd-b0e6-4fc9-a239-2dc2901e1da6', '060942cf-5412-4564-82e8-38da1d75ea97', '286f0d32-67a9-4263-ba7c-8c05cb548186', '0eced119-6fc2-44a5-8c6e-c528ea86deee', '6466be23-8098-4171-8015-28ad20a0f84b', '240bd328-beb0-4634-a675-0a7bdc5b5bbd', 'f62899cb-9594-44d9-b405-a5bb394a445c', '03660e58-9d32-40d7-aac2-d73ff4da128e', '257d4889-89e7-4209-865c-55a17ba9f5d3', '2e2ee623-44db-433e-8d63-8d551c672ef2', 'f4720698-b98c-4f04-9b59-d3b36dbefb11', '6d9b0377-7b1d-44e4-af3b-170d49b2ac82', '314caf0e-08e0-4b82-b4d6-e50f26150f4f', '0f22c706-94c8-459d-8ff4-5aea57141627', '52e12eef-5058-43f1-90dd-6ae68fe0a865', '2bc4f5ed-b0c6-447a-a217-a43a96165e6b', '66501f6d-a448-4924-8294-097f3d39fe24', 'c8a4f60c-dc4b-4742-8b1e-e397008dfc4e', 'c7e67f40-ea87-43ad-8500-dba58fc88121', 'fd7ae602-f6ab-4b6a-ae25-ff45c8f18696', '737978af-7bce-4df4-9df8-362eb11749ea', 'da8422ab-1131-40ac-bc52-d69f56ccedaf', 'c2d054bb-3d7b-45d0-a3ca-5cbf8b14172e', '188d88da-13b4-4318-8775-4128732ffe0d', '6fde42b0-9bc8-4dae-9f04-d8c40c015141']\n",
      "dict_keys(['3604e979-2e54-45fe-8cc4-4d24dafa6664', '8e1d9920-3238-4947-a07a-d767f80213a5', '80ef30c5-ee4e-4ffb-bae5-e8bdcb56d937', 'aad9cb91-f5d9-4460-b6f6-3c0f3ecd3620', '0bbc080d-4b5b-4cd6-aa24-824ed967a258', 'c27d01ae-80f5-4951-8306-09b8643d7db7', '6d4689e0-b05e-4a17-9db5-a6fc701b8b2c', 'a3f7c4eb-5a82-4047-b902-755d86bb30b4', '2d2e9447-f7d0-40fe-a68b-c8dff0267bd8', 'e34a707f-a264-4c8c-9a0b-7e027cc0aaa4', 'a4f3e95c-08c5-4e0b-8023-1c0a4caf8176', '162681dc-7bce-440c-8923-92bdac93af94', '627a310e-49d3-461e-a14b-0d87798de73b', '24553c2e-f441-4cf1-836e-0e653b19bf43', 'addaa244-9c63-45f9-9918-2bf4a44808da', 'bab8018e-880d-4344-9bb8-23539eabe8dd', '206f0650-6c41-472e-8d26-f3300101f34f', 'dbd238ce-a137-4ebb-8c19-56d9352b4ad7', '7faf71f2-8b6f-4641-ad7d-89d6d169cff2', '0fe2ba79-83cc-4bd3-acd1-616d8d5da9ce', '2f09d15a-2c81-4669-b247-29760f06b8fe', '125322c1-7721-4bb3-bb8a-403eaa90394b', 'c455ce49-b657-40a7-98e9-7e9d87aa4268', '3156d371-8391-467e-8fe8-390c53c7973e', 'e5e794ab-4f5c-47b9-b664-d0378b428aa7', 'bc7ecf4f-c0e2-4d6c-90dc-8b2ea40e0fe6', '05a0e1df-c32b-4cbc-bad0-e287133178b3', 'e4487d59-f11b-4c11-9011-d8ad0a712775', '67bdd2cd-b0e6-4fc9-a239-2dc2901e1da6', '060942cf-5412-4564-82e8-38da1d75ea97', '286f0d32-67a9-4263-ba7c-8c05cb548186', '0eced119-6fc2-44a5-8c6e-c528ea86deee', '6466be23-8098-4171-8015-28ad20a0f84b', '240bd328-beb0-4634-a675-0a7bdc5b5bbd', 'f62899cb-9594-44d9-b405-a5bb394a445c', '03660e58-9d32-40d7-aac2-d73ff4da128e', '257d4889-89e7-4209-865c-55a17ba9f5d3', '2e2ee623-44db-433e-8d63-8d551c672ef2', 'f4720698-b98c-4f04-9b59-d3b36dbefb11', '6d9b0377-7b1d-44e4-af3b-170d49b2ac82', '314caf0e-08e0-4b82-b4d6-e50f26150f4f', '0f22c706-94c8-459d-8ff4-5aea57141627', '52e12eef-5058-43f1-90dd-6ae68fe0a865', '2bc4f5ed-b0c6-447a-a217-a43a96165e6b', '66501f6d-a448-4924-8294-097f3d39fe24', 'c8a4f60c-dc4b-4742-8b1e-e397008dfc4e', 'c7e67f40-ea87-43ad-8500-dba58fc88121', 'fd7ae602-f6ab-4b6a-ae25-ff45c8f18696', '737978af-7bce-4df4-9df8-362eb11749ea', 'da8422ab-1131-40ac-bc52-d69f56ccedaf', 'c2d054bb-3d7b-45d0-a3ca-5cbf8b14172e', '188d88da-13b4-4318-8775-4128732ffe0d', '6fde42b0-9bc8-4dae-9f04-d8c40c015141'])\n",
      "point ids 53\n"
     ]
    },
    {
     "name": "stdout",
     "output_type": "stream",
     "text": [
      "Removed: 53 Filled: 53\n",
      "TOOK 170.62059211730957 seconds\n",
      "***\n",
      "RUN: 3\n",
      "Epoch 1/100\n",
      "7/7 [==============================] - 13s 2s/step - loss: 0.1366 - dice_coef: 0.5607 - val_loss: 0.1350 - val_dice_coef: 0.5647\n"
     ]
    },
    {
     "name": "stderr",
     "output_type": "stream",
     "text": [
      "/home/ryan.zurrin001/miniconda3/envs/O/lib/python3.9/site-packages/tensorflow/python/keras/utils/generic_utils.py:494: CustomMaskWarning: Custom mask layers require a config and must override get_config. When loading, the custom mask layer must be passed to the custom_objects argument.\n",
      "  warnings.warn('Custom mask layers require a config and must override '\n"
     ]
    },
    {
     "name": "stdout",
     "output_type": "stream",
     "text": [
      "Epoch 2/100\n",
      "7/7 [==============================] - 5s 823ms/step - loss: 0.1435 - dice_coef: 0.5432 - val_loss: 0.1594 - val_dice_coef: 0.5198\n",
      "Epoch 3/100\n",
      "7/7 [==============================] - 5s 780ms/step - loss: 0.1659 - dice_coef: 0.5034 - val_loss: 0.1753 - val_dice_coef: 0.4946\n",
      "Model saved to: /tmp/tmp28ziahoqGP2/kattunet_3kattunet_model\n",
      "History saved to: /tmp/tmp28ziahoqGP2/attunet_history_3.pkl\n",
      "Testing the classifier...\n",
      "Testing the discriminator...\n",
      "10/10 [==============================] - 0s 22ms/step - loss: 0.0500 - accuracy: 0.9933\n",
      "Found 141 machine labels.\n",
      "Machine labels [  0   3   4   5   8   9  14  15  20  21  23  24  25  27  32  33  36  40\n",
      "  44  45  46  47  48  51  52  53  56  57  66  67  68  70  71  72  75  76\n",
      "  78  81  84  86  87  91  94  95  99 101 102 104 105 106 107 108 109 111\n",
      " 112 115 117 118 119 120 122 127 128 129 130 131 132 133 138 141 147 148\n",
      " 149 150 152 154 155 161 165 166 167 168 169 170 171 173 176 177 179 180\n",
      " 182 183 185 191 193 195 197 202 209 213 214 217 218 219 220 221 222 224\n",
      " 229 230 233 234 236 237 238 239 240 242 245 246 247 248 254 257 262 263\n",
      " 264 267 270 271 274 281 282 283 284 286 292 293 295 297 298]\n",
      "D_ids ['c5305f3d-61b1-4688-b1d8-258a681c7f10', '8a49ab52-25e2-46c5-9c58-48e06f506d2a', '9bbab537-1d75-4396-af73-311bfba73d05', '52aac7f4-e720-4ded-85de-bbdfa0aef896', '714f6253-fa80-4d89-b2a9-398520dea526', '84b09bce-00d6-4faa-bdda-5b9a16f69fb3', '8d222e38-77c5-4f47-89c3-2e1b080641d2', '35b2077e-65b7-4ecc-94c8-da813704a365', '614cd5f5-dd81-4621-bb00-22ef995dacd9', '7693e885-29fa-4f44-8c58-56b8cb381769', '891c64a4-9cb2-4929-b296-9c490b47b89f', '3d2a0f4d-9937-4e37-a9e4-1d9f13670a0d', '1b9996e7-5197-4672-846f-815f2f056eee', 'f8139d45-1f99-4cb6-b893-4dd6a29907dc', '53573c21-58b6-4344-a8a9-4c85099c446c', '7e0eb7c5-cb3b-4919-9403-fe35a7ea2a91', '12459abc-787b-4b48-a866-7de72cf21846', 'f6bd2f7d-2f7a-4aec-9491-3da0a57948e6', 'bd3d50e4-8717-47f0-9374-86955c37b481', '9833d287-a6fd-4e86-a6df-23d0f75e8257', 'b1423199-5a89-435e-a96c-06360e10e078', 'abf7d619-6261-4aa3-be10-51b9ca843250', '9f1e8fc5-1c96-4b74-a5d8-28150d2ca8fe', 'b6bc502b-8914-4a38-a87f-a46523fda931', 'd2243b63-6342-4955-866d-4b4a35c3c49f', 'cba4c909-87b3-4b6e-96e8-10ba4c8867f2', '24c68ee8-2e65-4797-bf81-f2303eaf365c', '156660f3-2435-4e30-bf17-d619b2ff0160', 'bffb44f9-d588-45e0-ada6-089918417078', '3e6c319a-7e22-44d0-8956-a1a5210bedc1', 'e5f3e3fb-de7f-42bc-a2b2-72cbf71918b3', 'e6f79b03-f026-44bf-8282-f930619fb48d', '0996c500-04d5-430d-b430-da50022950ad', '0f4e765b-3e42-4d96-b54d-da9087c0db02', 'a656301d-9e9f-4d59-9248-e9adec2bfa7d', 'e3d25bb7-f89a-493a-89f0-71cb847147fb', '0c57d03c-0266-4276-85fe-e042e0287f07', '0adb80b4-7ace-4322-b899-ff7fc9376fd8', '4d4b1fee-d775-491b-b684-c614224ffbc5', 'ba9cc749-feb9-4ab0-93c9-ad4351085bbe', '4b46e730-de29-4faf-9612-996fbe1cebe8', 'dc4661c8-e27c-4f48-b2b5-5e0320c53cdd', '30ea0762-066e-4705-9428-72975d541732', '53b0dfa2-7815-4cd5-9194-fe42d2486b94', 'a5c34307-7345-460c-869e-66a6fa4b573f', '9fc9aedb-83fc-432f-a95d-9b005aae7a70', 'f9c76f1b-44d0-49b4-b557-7ba6328d237e', '4818dfad-352d-4018-95e9-19be77c59564', 'de907367-4132-4951-a934-b8275cb180a5', '57c99c18-ba49-410c-906e-01761395c9eb', '0fe3588e-0db1-46e5-b4ab-b127ebe0a3cf', '5828693a-ef31-4a8d-91c6-26d1cd28540f', '5854f204-1273-4df1-bdc9-c949b65769c4', 'ebfb54dd-b070-479c-998d-57c5e3d19f53', 'a54ff44e-9cba-4e57-85ae-b727f06b4c13', 'b17044b6-587c-456c-a682-c08c435cb5c7', 'd3ff52fc-9790-4221-9fc5-2b4b255550fa', 'd9f31e7d-5697-45a3-be0b-bca4e943a6c6', 'eb2a5788-3225-4bd8-bbb4-528c08879d53', 'f2c6d2fc-da22-4cbe-86e7-49b06013b191', '580ff1a3-6774-4ec7-b455-ce892920518f', '5e5efe5a-bd5f-49bb-9196-22759fc171eb', 'ce292e4c-636a-42ef-9afb-0c698740bc67', '9aa62d88-991e-47dd-97a6-7212c0a25657', 'b592081f-25c3-4a4b-94dc-e8f1f4c03868', '0a3cce08-f32c-4efe-9a0e-9ba775510fd1', '1f755572-0c1f-4209-9d2f-50ae20928df3', '814cb1a4-7ae5-4972-9c32-355adcdae436', '30944fcf-4c41-4240-bac5-305a5e5b1981', '6d6612a3-2232-42af-b3b8-75fd6fd5e182', '61ce490c-7a56-4f06-b13d-7e1db6bc848f', 'f87f8ca4-7ceb-47c8-9e1e-e6156721a8bb', '3dd1fb1d-d283-4d65-8cc8-682a04d40fd4', '6b56b8d8-7c6c-46ef-9f24-643980cc0c51', '6e007d97-e399-41b6-8868-cfa780f4e5e3', '5e23197c-a17d-4221-b7b5-714e3b18a20f', '2516b248-2468-4023-9a75-f979c80a8ac9', '0fbf1dce-efe9-4ae8-89ec-1c2041c720f3', 'eb08f3af-b418-457a-bb3c-92d0a5535dac', '05d9318b-6540-426f-a8ca-20e50fdb47f1', '63a97764-f2f6-48cd-9a16-f145e26e0730', '345c8768-31f9-4510-a6da-0464a2607ea9', '4fcd9033-04d7-4a46-bbeb-9624c8f37ba4', 'a043f7c5-629a-4e1f-985b-d61786505131', 'a577a5db-b753-4b96-96a4-adcc3d431ca5', '154d68fe-7fd0-4833-bad7-bc24b3f0967e', '1aa6fd9c-ac31-45d6-8308-8a8bf8c481b5', 'ff5567e7-486d-4013-ad12-af557fbc3dc5', '8f43f3c7-30bd-41b1-88e1-cb14cc0acbd4', 'e6626133-0ce9-4266-b350-ec63525437ed', 'dde7564f-33a4-495d-9a98-c64f7c516d84', '251a40cc-36f0-4493-89b9-605ce77ca70f', '651d492b-8f94-42a7-afb9-3d1425fe9c98', 'dce28ce3-b40e-49c8-aada-77ec3a025e77', '519a3389-4015-4ed4-a61d-9236a015a553', '03969a46-5025-48e9-a720-77325b0f6332', '2a5803aa-1f4a-40c9-98c2-40903a0dffa3', '03506010-2268-49b2-9910-6fd33836faff', 'f76a49c8-aa34-4ca0-b44f-36470d3b8700', '10115b63-10ba-4178-b4bb-b806ece9c68e', '83e47c03-fee6-4fff-8cb6-31ca4792e425', '14c8ebd8-9e71-4af8-bb91-8e8eb9d2dd1e', '56f870b1-4137-46c3-a512-f5ae1ee761f8', '5364cdf3-9bf7-477f-825d-43ac114b41cd', '957c6b62-a0f2-4aaa-aa62-53165593de76', '854d854c-d753-4629-9ff4-f24a7e70a65d', '5fbd0117-2e70-492a-918a-9927ac4eb024', '972f7fc3-2af5-4738-a1f9-39de2d5aa74f', '1fccf87d-ff77-4c89-88dd-0c9d56598083', '101e41a4-b601-4dff-95ac-33591dbbc045', 'b7d8f497-23c3-480f-9e7e-7f2784b3560f', '328340ee-f134-4246-9d08-6d247d9bc410', '144e7ca0-7ea9-4659-984f-5af661e2ebbf', '29894c08-0b1f-418b-96c1-3a3352e0f932', '1cbafd51-d291-483f-ad72-69644b7d0924', 'd6f10281-dd84-48b8-b532-62af2de3a375', '28d46eb5-a17d-483f-81dc-b65f81344d62', '43c3753c-1af4-4f04-8f85-ff8dd891a822', 'e11ddd1d-b1db-4660-a998-68ca87604961', '65672511-97dd-4bf5-9478-b83bf46c4602', '02a75d73-0cc2-4133-b1a7-5cc2f15e086f', '266d2a88-081d-4e08-8dc6-6e34900ab44c', '2a993e15-c6db-4374-a6f5-214ec8331996', '8542168b-0315-4874-8c22-14eac442ff5e', '2c033c02-823e-46d5-98bc-56c4ca6a799d', 'fb747597-aa5d-4fcd-8c72-1aabb105524a', '4978de74-ffd6-40b5-9e74-9faaf61e594f', 'b64d8193-b000-46d1-ad0d-8aca008d12af', '4fc9746e-20c4-4fe7-9b30-3f3e8e7be2aa', '1edf80a0-f167-4530-a7ba-3802de4c793e', '8af6888b-5324-4ffb-b91e-1f26422eb0f8', '3648d301-99a9-495c-9ffb-865a5adb5532', '4c01700a-7ed9-44ca-98b6-30b1c2292a87', 'f5c67ac3-7e07-403a-aa7f-3e9c391bb81a', 'ad1f6b01-7e5b-410e-8652-7a1e670d4ecc', '653ad7b3-8ca5-4259-987d-6cabfb2c2085', '2720489b-0e15-4de2-be75-81530ecb71a0', 'f15977bd-67a8-40c1-b8fb-d887442a3b11', '7ac9a794-8da6-48e0-9f4e-bb266a275a67', '4568e145-0434-4432-8a0f-eb53cb3fbaab', 'c358497f-7acd-48a9-803a-35068fb935e6']\n",
      "Replacing 47 from 141 !\n",
      "D_relabeled_ 47\n",
      "selected_ids ['891c64a4-9cb2-4929-b296-9c490b47b89f', 'bffb44f9-d588-45e0-ada6-089918417078', '83e47c03-fee6-4fff-8cb6-31ca4792e425', 'e6f79b03-f026-44bf-8282-f930619fb48d', 'fb747597-aa5d-4fcd-8c72-1aabb105524a', '0996c500-04d5-430d-b430-da50022950ad', '972f7fc3-2af5-4738-a1f9-39de2d5aa74f', 'de907367-4132-4951-a934-b8275cb180a5', 'b17044b6-587c-456c-a682-c08c435cb5c7', 'e5f3e3fb-de7f-42bc-a2b2-72cbf71918b3', 'ce292e4c-636a-42ef-9afb-0c698740bc67', '6b56b8d8-7c6c-46ef-9f24-643980cc0c51', 'd3ff52fc-9790-4221-9fc5-2b4b255550fa', '8542168b-0315-4874-8c22-14eac442ff5e', '8f43f3c7-30bd-41b1-88e1-cb14cc0acbd4', '14c8ebd8-9e71-4af8-bb91-8e8eb9d2dd1e', '651d492b-8f94-42a7-afb9-3d1425fe9c98', '53573c21-58b6-4344-a8a9-4c85099c446c', '1edf80a0-f167-4530-a7ba-3802de4c793e', '4d4b1fee-d775-491b-b684-c614224ffbc5', '2c033c02-823e-46d5-98bc-56c4ca6a799d', '714f6253-fa80-4d89-b2a9-398520dea526', '1b9996e7-5197-4672-846f-815f2f056eee', '3d2a0f4d-9937-4e37-a9e4-1d9f13670a0d', '9aa62d88-991e-47dd-97a6-7212c0a25657', '03969a46-5025-48e9-a720-77325b0f6332', 'eb08f3af-b418-457a-bb3c-92d0a5535dac', '5fbd0117-2e70-492a-918a-9927ac4eb024', '328340ee-f134-4246-9d08-6d247d9bc410', '4fcd9033-04d7-4a46-bbeb-9624c8f37ba4', '24c68ee8-2e65-4797-bf81-f2303eaf365c', '266d2a88-081d-4e08-8dc6-6e34900ab44c', '05d9318b-6540-426f-a8ca-20e50fdb47f1', '101e41a4-b601-4dff-95ac-33591dbbc045', '2a993e15-c6db-4374-a6f5-214ec8331996', '10115b63-10ba-4178-b4bb-b806ece9c68e', '814cb1a4-7ae5-4972-9c32-355adcdae436', '4c01700a-7ed9-44ca-98b6-30b1c2292a87', 'ad1f6b01-7e5b-410e-8652-7a1e670d4ecc', '0f4e765b-3e42-4d96-b54d-da9087c0db02', 'f15977bd-67a8-40c1-b8fb-d887442a3b11', '8a49ab52-25e2-46c5-9c58-48e06f506d2a', 'c358497f-7acd-48a9-803a-35068fb935e6', '156660f3-2435-4e30-bf17-d619b2ff0160', '12459abc-787b-4b48-a866-7de72cf21846', 'f87f8ca4-7ceb-47c8-9e1e-e6156721a8bb', 'dce28ce3-b40e-49c8-aada-77ec3a025e77']\n",
      "dict_keys(['891c64a4-9cb2-4929-b296-9c490b47b89f', 'bffb44f9-d588-45e0-ada6-089918417078', '83e47c03-fee6-4fff-8cb6-31ca4792e425', 'e6f79b03-f026-44bf-8282-f930619fb48d', 'fb747597-aa5d-4fcd-8c72-1aabb105524a', '0996c500-04d5-430d-b430-da50022950ad', '972f7fc3-2af5-4738-a1f9-39de2d5aa74f', 'de907367-4132-4951-a934-b8275cb180a5', 'b17044b6-587c-456c-a682-c08c435cb5c7', 'e5f3e3fb-de7f-42bc-a2b2-72cbf71918b3', 'ce292e4c-636a-42ef-9afb-0c698740bc67', '6b56b8d8-7c6c-46ef-9f24-643980cc0c51', 'd3ff52fc-9790-4221-9fc5-2b4b255550fa', '8542168b-0315-4874-8c22-14eac442ff5e', '8f43f3c7-30bd-41b1-88e1-cb14cc0acbd4', '14c8ebd8-9e71-4af8-bb91-8e8eb9d2dd1e', '651d492b-8f94-42a7-afb9-3d1425fe9c98', '53573c21-58b6-4344-a8a9-4c85099c446c', '1edf80a0-f167-4530-a7ba-3802de4c793e', '4d4b1fee-d775-491b-b684-c614224ffbc5', '2c033c02-823e-46d5-98bc-56c4ca6a799d', '714f6253-fa80-4d89-b2a9-398520dea526', '1b9996e7-5197-4672-846f-815f2f056eee', '3d2a0f4d-9937-4e37-a9e4-1d9f13670a0d', '9aa62d88-991e-47dd-97a6-7212c0a25657', '03969a46-5025-48e9-a720-77325b0f6332', 'eb08f3af-b418-457a-bb3c-92d0a5535dac', '5fbd0117-2e70-492a-918a-9927ac4eb024', '328340ee-f134-4246-9d08-6d247d9bc410', '4fcd9033-04d7-4a46-bbeb-9624c8f37ba4', '24c68ee8-2e65-4797-bf81-f2303eaf365c', '266d2a88-081d-4e08-8dc6-6e34900ab44c', '05d9318b-6540-426f-a8ca-20e50fdb47f1', '101e41a4-b601-4dff-95ac-33591dbbc045', '2a993e15-c6db-4374-a6f5-214ec8331996', '10115b63-10ba-4178-b4bb-b806ece9c68e', '814cb1a4-7ae5-4972-9c32-355adcdae436', '4c01700a-7ed9-44ca-98b6-30b1c2292a87', 'ad1f6b01-7e5b-410e-8652-7a1e670d4ecc', '0f4e765b-3e42-4d96-b54d-da9087c0db02', 'f15977bd-67a8-40c1-b8fb-d887442a3b11', '8a49ab52-25e2-46c5-9c58-48e06f506d2a', 'c358497f-7acd-48a9-803a-35068fb935e6', '156660f3-2435-4e30-bf17-d619b2ff0160', '12459abc-787b-4b48-a866-7de72cf21846', 'f87f8ca4-7ceb-47c8-9e1e-e6156721a8bb', 'dce28ce3-b40e-49c8-aada-77ec3a025e77'])\n",
      "point ids 47\n",
      "Removed: 47 Filled: 47\n",
      "TOOK 170.21601819992065 seconds\n",
      "***\n",
      "RUN: 4\n"
     ]
    },
    {
     "name": "stdout",
     "output_type": "stream",
     "text": [
      "Epoch 1/100\n",
      "8/8 [==============================] - 9s 1s/step - loss: 0.1777 - dice_coef: 0.4888 - val_loss: 0.1541 - val_dice_coef: 0.5245\n"
     ]
    },
    {
     "name": "stderr",
     "output_type": "stream",
     "text": [
      "/home/ryan.zurrin001/miniconda3/envs/O/lib/python3.9/site-packages/tensorflow/python/keras/utils/generic_utils.py:494: CustomMaskWarning: Custom mask layers require a config and must override get_config. When loading, the custom mask layer must be passed to the custom_objects argument.\n",
      "  warnings.warn('Custom mask layers require a config and must override '\n"
     ]
    },
    {
     "name": "stdout",
     "output_type": "stream",
     "text": [
      "Epoch 2/100\n",
      "8/8 [==============================] - 6s 766ms/step - loss: 0.1202 - dice_coef: 0.6043 - val_loss: 0.1059 - val_dice_coef: 0.6309\n"
     ]
    },
    {
     "name": "stderr",
     "output_type": "stream",
     "text": [
      "/home/ryan.zurrin001/miniconda3/envs/O/lib/python3.9/site-packages/tensorflow/python/keras/utils/generic_utils.py:494: CustomMaskWarning: Custom mask layers require a config and must override get_config. When loading, the custom mask layer must be passed to the custom_objects argument.\n",
      "  warnings.warn('Custom mask layers require a config and must override '\n"
     ]
    },
    {
     "name": "stdout",
     "output_type": "stream",
     "text": [
      "Epoch 3/100\n",
      "8/8 [==============================] - 6s 773ms/step - loss: 0.1168 - dice_coef: 0.5900 - val_loss: 0.1261 - val_dice_coef: 0.5842\n",
      "Epoch 4/100\n",
      "8/8 [==============================] - 6s 748ms/step - loss: 0.1066 - dice_coef: 0.6333 - val_loss: 0.1045 - val_dice_coef: 0.6368\n"
     ]
    },
    {
     "name": "stderr",
     "output_type": "stream",
     "text": [
      "/home/ryan.zurrin001/miniconda3/envs/O/lib/python3.9/site-packages/tensorflow/python/keras/utils/generic_utils.py:494: CustomMaskWarning: Custom mask layers require a config and must override get_config. When loading, the custom mask layer must be passed to the custom_objects argument.\n",
      "  warnings.warn('Custom mask layers require a config and must override '\n"
     ]
    },
    {
     "name": "stdout",
     "output_type": "stream",
     "text": [
      "Epoch 5/100\n",
      "8/8 [==============================] - 6s 786ms/step - loss: 0.1203 - dice_coef: 0.5934 - val_loss: 0.1462 - val_dice_coef: 0.5482\n",
      "Epoch 6/100\n",
      "8/8 [==============================] - 6s 746ms/step - loss: 0.1355 - dice_coef: 0.5734 - val_loss: 0.1249 - val_dice_coef: 0.5865\n",
      "Model saved to: /tmp/tmp28ziahoqGP2/kattunet_4kattunet_model\n",
      "History saved to: /tmp/tmp28ziahoqGP2/attunet_history_4.pkl\n",
      "Testing the classifier...\n",
      "Testing the discriminator...\n",
      "10/10 [==============================] - 0s 18ms/step - loss: 0.0870 - accuracy: 0.9967\n",
      "Found 147 machine labels.\n",
      "Machine labels [  1   3   5  10  11  16  18  21  23  24  25  28  29  31  33  34  36  37\n",
      "  38  39  40  46  47  51  52  53  54  59  61  62  63  64  65  67  70  72\n",
      "  73  76  80  82  83  86  87  91  93  94  95  96  98 100 101 103 106 107\n",
      " 110 112 114 116 117 118 123 126 127 128 129 131 132 135 137 138 139 142\n",
      " 143 146 147 148 149 150 151 152 153 154 157 160 161 163 167 170 172 176\n",
      " 179 184 185 186 188 190 192 194 197 203 208 212 213 215 217 218 219 222\n",
      " 224 225 226 227 228 229 230 231 234 236 237 238 240 241 243 244 245 246\n",
      " 253 254 256 257 260 263 264 265 272 275 277 278 283 285 286 287 290 291\n",
      " 292 298 299]\n",
      "D_ids ['57123cbf-a69f-4da8-82ad-b8f0d96e5969', '9a31cd31-adee-4b3a-947a-ab6a602fcba6', '48ccec9c-3b4d-4a77-bbcb-9a1ee27600dc', '48025905-db57-453e-bb65-e2c8a9e14a7d', '110fdbdd-1ed9-46fe-98c7-aded0bfc88a9', '05486ade-cb81-4fd4-bf33-4d869d955dfe', '24df7d21-72e8-4c9d-98c2-6928c64a6f60', '51ab57ff-d35b-4a29-ac06-4a30153dff7d', '76490263-26b9-49b7-bccd-78ce8bf10257', '18c6a1d1-7e4b-49d2-a83c-6a53f1afde4c', '4eb8da5f-968b-4f1c-9ac1-ec570e835517', '55ca7812-c952-4e87-b23a-3acf78b0aeca', '9cbe5c8b-a4a6-4758-b4ea-a93c5c44e897', '76bfcb6f-d7d9-4c89-ba31-6191676872f3', 'ad5a91af-048e-4bf7-878e-047c1ddeebd2', '2dcfccf1-b1b9-45c2-8b0f-8e6d7ba43245', 'adb57999-c0ce-4c88-ad39-4c07373a05c2', 'e51b039c-2d13-4e82-b335-484cdabc8001', 'daa1722f-c6dc-4bd6-964a-a710d5973bb2', 'da620327-f23d-45a6-883b-eed68ec71ae5', '3ac04f1b-93b7-470e-b983-d7760426ebf9', 'c8dfd679-3f82-4749-a87a-eb9366d6eb9e', '3e367f42-84f5-4467-8718-1048bd0d584f', '43c3753c-1af4-4f04-8f85-ff8dd891a822', 'bae7ee4a-e000-43cb-8c99-2ce09ca95148', '53a50c65-1735-489f-8b63-d9557f297526', '41f4278e-c544-414d-9c9d-e65509bde566', 'b8d7c247-abbf-4ff0-97e1-cca331e2281d', 'a88132ad-44ce-4b99-88a7-6b516f19e720', 'd7df33d1-560b-4561-ba0a-36faa2815481', '9ef3e540-6d31-4061-9725-7497f3b3db8c', '525a83ce-2a85-4e77-a88e-1c79a1288fca', '84d93489-fd1c-4f9d-9897-40a7733e8241', '779bfdb9-5098-4cc3-a429-8a288ae1e8b5', 'e6e72f4f-3312-43fc-b338-580fe2416a28', '5f6434da-f25a-4fc1-ae2e-a9a6146acfa9', 'f8a4029d-2c3a-44c1-a8b6-f30053cb1c1e', 'dacb75f1-c970-41cc-bfdd-410c2946442e', '61ff7886-a0de-4cb7-bc1c-f2a412fb30e0', '4086e9af-6d06-4c00-8ac6-e5772872feb6', '449595a6-166b-4562-8dee-ee76a02faa12', 'd5b7477b-1371-41c0-b27f-5027a6df9470', 'a7050191-aa35-42de-8cf0-03e24c384037', '645a39b5-e65e-4d92-ba77-471674feaad3', '5e5620fd-7a67-4ef8-82ce-0b8aa3ed9f69', 'ea44bd68-3af3-4317-8b6f-2cc3285e5cce', '3cc3ff28-ad2a-403e-9425-727c580e75d1', '7d48ab69-e290-4972-bfe2-1d951d6e1c48', '82ed87a7-a414-45e6-adf0-5e0bb6fac930', '53ca0f8a-1dfd-41c8-bfc8-addfe5888d99', '3d94132c-de84-4bec-a2a9-acf8eb9fca08', 'a49e3781-8abb-4ad3-9717-74e5c49c21eb', '83003f29-662c-4bd2-854f-0cb6b7fc81f9', '6b467510-c41e-42fa-8733-ad9e83b1d105', 'be1a4769-7886-464c-9e21-2ba1a0f67402', 'f9025062-864d-430f-8cd3-22ef8bcb2a20', '154d68fe-7fd0-4833-bad7-bc24b3f0967e', 'c6a49d05-0dab-4e05-9d79-e7c4bc86052c', '15770bd1-9f4f-4285-aba0-45e777b99e2a', 'c663f5cb-4be8-42b6-992e-b0382f5d6394', '89d8af36-48b2-4c5d-ba90-82a4f9d1f12a', '7276c4b7-0d09-46bd-bcdc-c96414b3d873', '28fd2406-0af3-4650-86c2-ddffc4215b94', '0bf40717-eeb3-4025-aeb1-062ee67f5b20', '996aa9e2-1153-4fc8-95db-c8e6de819748', 'a5c34307-7345-460c-869e-66a6fa4b573f', 'c94045d9-58ff-4af4-a775-16f4b8fcbe37', '0e09177e-8226-40d2-84ec-b928268d6fc3', '3eb57cbe-06dc-43bc-8fad-1258d4930f1d', '84808583-1fff-44e7-8f58-83067cbadbd7', '8748cb62-fece-47af-ae03-d7b082d668f3', 'f75a3aa6-372f-49df-b053-9c32432bee39', '81ccbd95-b086-4603-a1f9-5b1997b5e25e', 'c552fc1a-68b1-424c-884e-8ed252d5395d', 'a8d25eb3-7701-470a-a4d4-de11f9fc9143', 'c58c5de3-87a1-4f2d-849d-90b62730d05b', '14cd0fbd-3505-4970-bf13-74cf4ef3f339', 'a1b9b14f-a31b-434b-8b9d-dc53864dece4', 'b765cd31-becf-4d32-a21b-fbf809000b88', '892f4683-9320-4a11-83f2-fd60d650e89a', '75becf81-8d4e-4dbb-8711-6898fc60e91c', '4a6bf722-085c-4599-8800-752cb82f58ba', '2f24b406-11f5-4ca7-9bbc-688c8f2fbce6', 'b592081f-25c3-4a4b-94dc-e8f1f4c03868', '384792f0-8607-4a21-9dc6-3ab57078119e', 'c94aa8ba-f637-4785-bb85-c511d5997153', 'fc90131f-a265-4d9d-bef2-d9162d6ef508', '1af5d5af-17db-4946-912b-5174fd552a22', 'fc257890-ac7c-4962-a7fa-1d2ab300a0fd', 'bfb3b21c-0169-42dc-9985-bc046b38c175', 'a7c98292-3935-4da4-bc1c-a82f0c6f143c', '9471a68e-cf03-47a5-b840-f407eedfed75', 'db51af42-3e27-461d-955e-89a33f55bf72', 'abf7d619-6261-4aa3-be10-51b9ca843250', '31884025-50e8-44a4-982a-d600dda34cdb', 'ad5d0ac5-b44b-4ebe-8b21-58b919bc0dbd', '50558a4b-35ed-4f40-8a6f-e5d600f361e7', '4e877916-c98e-49e3-a8bd-10c3124aa774', '95727dda-a1cc-47eb-a217-bc11189256bf', '2119adf8-b509-4ef7-bbcd-139578f3177f', '9ee8e2e5-5dff-4290-88bb-0237ff419575', 'd6caa50c-de12-4d41-bd0e-8532c98abd63', '88a6990c-ca58-4b72-8de3-6bdccbf724e8', '2df49306-70d4-4b65-8f2d-c16f57505186', '0751e5b9-f2c3-493c-a36b-e2a880aec0fa', '72a90af1-9845-40b6-909a-e0f7994fe089', '5ad40387-2464-4c93-b44f-69b9437548a7', 'ec16be81-778c-43ad-9d20-5f4f4b295611', '9ed1d46f-fee9-4c5f-9663-7a035f05f7da', '7ab1d2a1-5639-401d-91b1-855f8e19c57f', 'b2b6bd61-70d8-49fc-9d26-94d96d03c595', '9009dcc8-4e8c-4d86-8e85-59e755527b62', '2d1e22ca-e895-44ca-ada9-b3b6d29418e7', '8585ab11-2fec-456e-875b-b5e131904cab', '5361d5ce-9a4b-451f-bb2c-3a751fcb74d8', '30b9304c-9ba8-48a1-81f5-25b76a4b5073', 'cf2a0d33-183d-458e-8cd0-9f1c244f2af1', 'ba61401a-a05f-4488-b8e1-e49e0e84bac4', 'b43a58ed-8197-46cc-b1a3-fed3a433c6eb', 'edf667f4-e879-4147-94d8-a8eebf3ca9d1', '23e4edd9-a746-4b1c-b2bc-f087c2fba354', 'c5cf4914-0938-4e08-a147-8dbacdf4093e', '3597abc8-d4d6-4350-b9e0-4d8ceb383f8e', '116922d9-5a02-4ee9-a325-d439c2c02e57', '1db78f69-e348-4031-8266-185fdeee38b5', '7ac9a794-8da6-48e0-9f4e-bb266a275a67', '207b7f0b-1887-4c1a-a9c9-066e0bea5634', '7fef2dd9-684c-4838-827b-59bd9dacc01d', '90694854-fd20-45f7-b962-8c7cc422b513', 'af11b5b9-b35e-4d1b-894d-748a3d826cca', '2bcedc7a-9cb5-4e10-af00-89b82548bbb9', '4459de64-d9c3-4815-962c-d873fff18264', '441ef641-1547-4750-bc3e-e9de82d78fd7', 'ce87bec5-2236-459e-a4e5-1822910d15fd', 'c6599aa8-b5fc-4265-8fd8-b8f4d6cf6ba2', '828c7a2c-63d5-4706-90d9-a6a70f7b4b22', '53b0dfa2-7815-4cd5-9194-fe42d2486b94', '4687ffd9-3527-44f5-9704-171bd90dd831', '5e08e352-5fa4-40ac-bac0-3b54cfaac947', '65313b9d-8db9-4449-88ba-db0ce85a7f9c', 'ae362aea-63f2-442f-93f8-649b87f757d5', '8d222e38-77c5-4f47-89c3-2e1b080641d2', 'a75c2304-5484-4e81-94c4-24142c62cd2f', 'e9b1222e-b129-484e-af5a-cb2f6e2deccb', 'd2243b63-6342-4955-866d-4b4a35c3c49f', 'd61db0a7-b8ce-4ae2-9a51-53b91f812ef0', '3f7807a8-cfb3-4e30-9a2d-7a01204aae2e']\n",
      "Replacing 49 from 147 !\n",
      "D_relabeled_ 49\n",
      "selected_ids ['7ac9a794-8da6-48e0-9f4e-bb266a275a67', 'cf2a0d33-183d-458e-8cd0-9f1c244f2af1', '31884025-50e8-44a4-982a-d600dda34cdb', 'a7c98292-3935-4da4-bc1c-a82f0c6f143c', 'af11b5b9-b35e-4d1b-894d-748a3d826cca', 'db51af42-3e27-461d-955e-89a33f55bf72', '84808583-1fff-44e7-8f58-83067cbadbd7', '8d222e38-77c5-4f47-89c3-2e1b080641d2', '9cbe5c8b-a4a6-4758-b4ea-a93c5c44e897', 'edf667f4-e879-4147-94d8-a8eebf3ca9d1', '76490263-26b9-49b7-bccd-78ce8bf10257', 'ec16be81-778c-43ad-9d20-5f4f4b295611', '90694854-fd20-45f7-b962-8c7cc422b513', '88a6990c-ca58-4b72-8de3-6bdccbf724e8', '996aa9e2-1153-4fc8-95db-c8e6de819748', '4687ffd9-3527-44f5-9704-171bd90dd831', 'b8d7c247-abbf-4ff0-97e1-cca331e2281d', '3597abc8-d4d6-4350-b9e0-4d8ceb383f8e', '2df49306-70d4-4b65-8f2d-c16f57505186', 'bfb3b21c-0169-42dc-9985-bc046b38c175', '2119adf8-b509-4ef7-bbcd-139578f3177f', '9ee8e2e5-5dff-4290-88bb-0237ff419575', 'ba61401a-a05f-4488-b8e1-e49e0e84bac4', '83003f29-662c-4bd2-854f-0cb6b7fc81f9', '05486ade-cb81-4fd4-bf33-4d869d955dfe', '15770bd1-9f4f-4285-aba0-45e777b99e2a', '9471a68e-cf03-47a5-b840-f407eedfed75', 'ce87bec5-2236-459e-a4e5-1822910d15fd', 'e9b1222e-b129-484e-af5a-cb2f6e2deccb', '2d1e22ca-e895-44ca-ada9-b3b6d29418e7', 'e51b039c-2d13-4e82-b335-484cdabc8001', '6b467510-c41e-42fa-8733-ad9e83b1d105', 'a75c2304-5484-4e81-94c4-24142c62cd2f', '65313b9d-8db9-4449-88ba-db0ce85a7f9c', '154d68fe-7fd0-4833-bad7-bc24b3f0967e', '110fdbdd-1ed9-46fe-98c7-aded0bfc88a9', '3eb57cbe-06dc-43bc-8fad-1258d4930f1d', '9ef3e540-6d31-4061-9725-7497f3b3db8c', 'a88132ad-44ce-4b99-88a7-6b516f19e720', '53b0dfa2-7815-4cd5-9194-fe42d2486b94', 'dacb75f1-c970-41cc-bfdd-410c2946442e', '51ab57ff-d35b-4a29-ac06-4a30153dff7d', '2f24b406-11f5-4ca7-9bbc-688c8f2fbce6', '3e367f42-84f5-4467-8718-1048bd0d584f', '82ed87a7-a414-45e6-adf0-5e0bb6fac930', 'a5c34307-7345-460c-869e-66a6fa4b573f', '207b7f0b-1887-4c1a-a9c9-066e0bea5634', '7276c4b7-0d09-46bd-bcdc-c96414b3d873', 'c6a49d05-0dab-4e05-9d79-e7c4bc86052c']\n",
      "dict_keys(['7ac9a794-8da6-48e0-9f4e-bb266a275a67', 'cf2a0d33-183d-458e-8cd0-9f1c244f2af1', '31884025-50e8-44a4-982a-d600dda34cdb', 'a7c98292-3935-4da4-bc1c-a82f0c6f143c', 'af11b5b9-b35e-4d1b-894d-748a3d826cca', 'db51af42-3e27-461d-955e-89a33f55bf72', '84808583-1fff-44e7-8f58-83067cbadbd7', '8d222e38-77c5-4f47-89c3-2e1b080641d2', '9cbe5c8b-a4a6-4758-b4ea-a93c5c44e897', 'edf667f4-e879-4147-94d8-a8eebf3ca9d1', '76490263-26b9-49b7-bccd-78ce8bf10257', 'ec16be81-778c-43ad-9d20-5f4f4b295611', '90694854-fd20-45f7-b962-8c7cc422b513', '88a6990c-ca58-4b72-8de3-6bdccbf724e8', '996aa9e2-1153-4fc8-95db-c8e6de819748', '4687ffd9-3527-44f5-9704-171bd90dd831', 'b8d7c247-abbf-4ff0-97e1-cca331e2281d', '3597abc8-d4d6-4350-b9e0-4d8ceb383f8e', '2df49306-70d4-4b65-8f2d-c16f57505186', 'bfb3b21c-0169-42dc-9985-bc046b38c175', '2119adf8-b509-4ef7-bbcd-139578f3177f', '9ee8e2e5-5dff-4290-88bb-0237ff419575', 'ba61401a-a05f-4488-b8e1-e49e0e84bac4', '83003f29-662c-4bd2-854f-0cb6b7fc81f9', '05486ade-cb81-4fd4-bf33-4d869d955dfe', '15770bd1-9f4f-4285-aba0-45e777b99e2a', '9471a68e-cf03-47a5-b840-f407eedfed75', 'ce87bec5-2236-459e-a4e5-1822910d15fd', 'e9b1222e-b129-484e-af5a-cb2f6e2deccb', '2d1e22ca-e895-44ca-ada9-b3b6d29418e7', 'e51b039c-2d13-4e82-b335-484cdabc8001', '6b467510-c41e-42fa-8733-ad9e83b1d105', 'a75c2304-5484-4e81-94c4-24142c62cd2f', '65313b9d-8db9-4449-88ba-db0ce85a7f9c', '154d68fe-7fd0-4833-bad7-bc24b3f0967e', '110fdbdd-1ed9-46fe-98c7-aded0bfc88a9', '3eb57cbe-06dc-43bc-8fad-1258d4930f1d', '9ef3e540-6d31-4061-9725-7497f3b3db8c', 'a88132ad-44ce-4b99-88a7-6b516f19e720', '53b0dfa2-7815-4cd5-9194-fe42d2486b94', 'dacb75f1-c970-41cc-bfdd-410c2946442e', '51ab57ff-d35b-4a29-ac06-4a30153dff7d', '2f24b406-11f5-4ca7-9bbc-688c8f2fbce6', '3e367f42-84f5-4467-8718-1048bd0d584f', '82ed87a7-a414-45e6-adf0-5e0bb6fac930', 'a5c34307-7345-460c-869e-66a6fa4b573f', '207b7f0b-1887-4c1a-a9c9-066e0bea5634', '7276c4b7-0d09-46bd-bcdc-c96414b3d873', 'c6a49d05-0dab-4e05-9d79-e7c4bc86052c'])\n",
      "point ids 49\n"
     ]
    },
    {
     "name": "stdout",
     "output_type": "stream",
     "text": [
      "Removed: 49 Filled: 49\n",
      "TOOK 290.55114698410034 seconds\n"
     ]
    }
   ],
   "source": [
    "for run in range(RUNS):\n",
    "    print('***')\n",
    "    print('RUN:', run)\n",
    "    t0 = time.time()\n",
    "    R.run_classifier()\n",
    "    R.run_discriminator()\n",
    "    l = R.find_machine_labels()\n",
    "    if l == 0:\n",
    "        print('No more machine labels.')\n",
    "        print('TOOK', time.time()-t0, 'seconds')\n",
    "        break\n",
    "    R.relabel(percent_to_replace=PERCENT_TO_REPLACE)\n",
    "    print('TOOK', time.time()-t0, 'seconds')\n"
   ]
  },
  {
   "cell_type": "code",
   "execution_count": null,
   "id": "dab6fd49",
   "metadata": {},
   "outputs": [],
   "source": []
  },
  {
   "cell_type": "code",
   "execution_count": 19,
   "id": "00075332",
   "metadata": {},
   "outputs": [
    {
     "data": {
      "text/plain": [
       "[[0.07484114915132523, 0.7555961012840271],\n",
       " [0.24607715010643005, 0.5113604664802551],\n",
       " [0.1471165418624878, 0.5451997518539429],\n",
       " [0.17589420080184937, 0.4910578727722168],\n",
       " [0.12454362213611603, 0.583988606929779]]"
      ]
     },
     "execution_count": 19,
     "metadata": {},
     "output_type": "execute_result"
    }
   ],
   "source": [
    "R.classifier_scores"
   ]
  },
  {
   "cell_type": "code",
   "execution_count": 20,
   "id": "35105656",
   "metadata": {},
   "outputs": [
    {
     "data": {
      "text/plain": [
       "[[7.997671491466463e-05, 1.0],\n",
       " [0.28861314058303833, 0.9800000190734863],\n",
       " [0.07512114197015762, 0.9933333396911621],\n",
       " [0.049992453306913376, 0.9933333396911621],\n",
       " [0.08700104802846909, 0.996666669845581]]"
      ]
     },
     "execution_count": 20,
     "metadata": {},
     "output_type": "execute_result"
    }
   ],
   "source": [
    "R.discriminator_scores"
   ]
  },
  {
   "cell_type": "code",
   "execution_count": null,
   "id": "e256ed4d",
   "metadata": {},
   "outputs": [],
   "source": []
  },
  {
   "cell_type": "code",
   "execution_count": 18,
   "id": "c83bb28d",
   "metadata": {},
   "outputs": [
    {
     "data": {
      "image/png": "[encoded data removed]",
      "text/plain": [
       "<Figure size 240x240 with 1 Axes>"
      ]
     },
     "metadata": {
      "needs_background": "light"
     },
     "output_type": "display_data"
    }
   ],
   "source": [
    "R.plot()"
   ]
  },
  {
   "cell_type": "code",
   "execution_count": null,
   "id": "7f3b4a58",
   "metadata": {},
   "outputs": [],
   "source": []
  },
  {
   "cell_type": "code",
   "execution_count": null,
   "id": "d21df741",
   "metadata": {},
   "outputs": [],
   "source": []
  },
  {
   "cell_type": "code",
   "execution_count": null,
   "id": "7dca2275",
   "metadata": {},
   "outputs": [],
   "source": []
  },
  {
   "cell_type": "code",
   "execution_count": 18,
   "id": "b1ec788d",
   "metadata": {},
   "outputs": [
    {
     "data": {
      "image/png": "[encoded data removed]",
      "text/plain": [
       "<Figure size 240x240 with 1 Axes>"
      ]
     },
     "metadata": {
      "needs_background": "light"
     },
     "output_type": "display_data"
    }
   ],
   "source": [
    "R.plot()"
   ]
  },
  {
   "cell_type": "code",
   "execution_count": null,
   "id": "0553618c",
   "metadata": {},
   "outputs": [],
   "source": []
  },
  {
   "cell_type": "code",
   "execution_count": null,
   "id": "40efc1ca",
   "metadata": {},
   "outputs": [],
   "source": []
  },
  {
   "cell_type": "code",
   "execution_count": null,
   "id": "52194054",
   "metadata": {},
   "outputs": [],
   "source": []
  },
  {
   "cell_type": "code",
   "execution_count": null,
   "id": "af59bc12",
   "metadata": {},
   "outputs": [],
   "source": []
  },
  {
   "cell_type": "code",
   "execution_count": 17,
   "id": "0a721a90",
   "metadata": {},
   "outputs": [
    {
     "data": {
      "image/png": "[encoded data removed]",
      "text/plain": [
       "<Figure size 240x240 with 1 Axes>"
      ]
     },
     "metadata": {
      "needs_background": "light"
     },
     "output_type": "display_data"
    }
   ],
   "source": [
    "R.plot()"
   ]
  },
  {
   "cell_type": "code",
   "execution_count": null,
   "id": "551de181",
   "metadata": {},
   "outputs": [],
   "source": []
  }
 ],
 "metadata": {
  "kernelspec": {
   "display_name": "Python 3 (ipykernel)",
   "language": "python",
   "name": "python3"
  },
  "language_info": {
   "codemirror_mode": {
    "name": "ipython",
    "version": 3
   },
   "file_extension": ".py",
   "mimetype": "text/x-python",
   "name": "python",
   "nbconvert_exporter": "python",
   "pygments_lexer": "ipython3",
   "version": "3.9.7"
  }
 },
 "nbformat": 4,
 "nbformat_minor": 5
}
