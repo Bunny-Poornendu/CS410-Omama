{
 "cells": [
  {
   "cell_type": "code",
   "execution_count": 1,
   "id": "06c4accc",
   "metadata": {},
   "outputs": [
    {
     "name": "stdout",
     "output_type": "stream",
     "text": [
      "Populating the interactive namespace from numpy and matplotlib\n"
     ]
    }
   ],
   "source": [
    "%pylab inline\n",
    "%load_ext autoreload\n",
    "%autoreload 2"
   ]
  },
  {
   "cell_type": "code",
   "execution_count": 2,
   "id": "861fc4c8",
   "metadata": {},
   "outputs": [
    {
     "name": "stderr",
     "output_type": "stream",
     "text": [
      "2023-04-17 22:53:25.664649: I tensorflow/stream_executor/platform/default/dso_loader.cc:53] Successfully opened dynamic library libcudart.so.11.0\n"
     ]
    }
   ],
   "source": [
    "import numpy as np\n",
    "from glob import glob\n",
    "from tensorflow import keras\n",
    "from tensorflow.keras.layers import Input, Conv2D, Dropout, Activation, UpSampling2D, GlobalMaxPooling2D, multiply\n",
    "from tensorflow.keras.backend import max\n",
    "from keras_unet_collection import models, base, utils"
   ]
  },
  {
   "cell_type": "code",
   "execution_count": 3,
   "id": "b9e78ed8",
   "metadata": {},
   "outputs": [
    {
     "name": "stderr",
     "output_type": "stream",
     "text": [
      "2023-04-17 22:53:27.942839: I tensorflow/stream_executor/platform/default/dso_loader.cc:53] Successfully opened dynamic library libcuda.so.1\n",
      "2023-04-17 22:53:28.101680: I tensorflow/core/common_runtime/gpu/gpu_device.cc:1733] Found device 0 with properties: \n",
      "pciBusID: 0000:07:00.0 name: A100-SXM4-40GB computeCapability: 8.0\n",
      "coreClock: 1.41GHz coreCount: 108 deviceMemorySize: 39.59GiB deviceMemoryBandwidth: 1.41TiB/s\n",
      "2023-04-17 22:53:28.101751: I tensorflow/stream_executor/platform/default/dso_loader.cc:53] Successfully opened dynamic library libcudart.so.11.0\n",
      "2023-04-17 22:53:28.105726: I tensorflow/stream_executor/platform/default/dso_loader.cc:53] Successfully opened dynamic library libcublas.so.11\n",
      "2023-04-17 22:53:28.105769: I tensorflow/stream_executor/platform/default/dso_loader.cc:53] Successfully opened dynamic library libcublasLt.so.11\n",
      "2023-04-17 22:53:28.106812: I tensorflow/stream_executor/platform/default/dso_loader.cc:53] Successfully opened dynamic library libcufft.so.10\n",
      "2023-04-17 22:53:28.107167: I tensorflow/stream_executor/platform/default/dso_loader.cc:53] Successfully opened dynamic library libcurand.so.10\n",
      "2023-04-17 22:53:28.107749: I tensorflow/stream_executor/platform/default/dso_loader.cc:53] Successfully opened dynamic library libcusolver.so.11\n",
      "2023-04-17 22:53:28.108620: I tensorflow/stream_executor/platform/default/dso_loader.cc:53] Successfully opened dynamic library libcusparse.so.11\n",
      "2023-04-17 22:53:28.108891: I tensorflow/stream_executor/platform/default/dso_loader.cc:53] Successfully opened dynamic library libcudnn.so.8\n",
      "2023-04-17 22:53:28.116208: I tensorflow/core/common_runtime/gpu/gpu_device.cc:1871] Adding visible gpu devices: 0\n"
     ]
    }
   ],
   "source": [
    "import time\n",
    "import sys\n",
    "sys.path.insert(0,'../..')\n",
    "from gp2 import Runner"
   ]
  },
  {
   "cell_type": "code",
   "execution_count": 10,
   "id": "bdc75325",
   "metadata": {},
   "outputs": [
    {
     "name": "stdout",
     "output_type": "stream",
     "text": [
      "*** GP2 ***\n",
      "Working directory: /tmp/tmpb_p8u2x6GP2\n",
      "Verbose mode active!\n",
      "Model: \"unet_model\"\n",
      "__________________________________________________________________________________________________\n",
      "Layer (type)                    Output Shape         Param #     Connected to                     \n",
      "==================================================================================================\n",
      "input_3 (InputLayer)            [(None, 512, 512, 1) 0                                            \n",
      "__________________________________________________________________________________________________\n",
      "unet_down0_0 (Conv2D)           (None, 512, 512, 32) 288         input_3[0][0]                    \n",
      "__________________________________________________________________________________________________\n",
      "unet_down0_0_bn (BatchNormaliza (None, 512, 512, 32) 128         unet_down0_0[0][0]               \n",
      "__________________________________________________________________________________________________\n",
      "unet_down0_0_activation (ReLU)  (None, 512, 512, 32) 0           unet_down0_0_bn[0][0]            \n",
      "__________________________________________________________________________________________________\n",
      "unet_down0_1 (Conv2D)           (None, 512, 512, 32) 9216        unet_down0_0_activation[0][0]    \n",
      "__________________________________________________________________________________________________\n",
      "unet_down0_1_bn (BatchNormaliza (None, 512, 512, 32) 128         unet_down0_1[0][0]               \n",
      "__________________________________________________________________________________________________\n",
      "unet_down0_1_activation (ReLU)  (None, 512, 512, 32) 0           unet_down0_1_bn[0][0]            \n",
      "__________________________________________________________________________________________________\n",
      "unet_down1_encode_stride_conv ( (None, 256, 256, 64) 8192        unet_down0_1_activation[0][0]    \n",
      "__________________________________________________________________________________________________\n",
      "unet_down1_encode_bn (BatchNorm (None, 256, 256, 64) 256         unet_down1_encode_stride_conv[0][\n",
      "__________________________________________________________________________________________________\n",
      "unet_down1_encode_activation (R (None, 256, 256, 64) 0           unet_down1_encode_bn[0][0]       \n",
      "__________________________________________________________________________________________________\n",
      "unet_down1_conv_0 (Conv2D)      (None, 256, 256, 64) 36864       unet_down1_encode_activation[0][0\n",
      "__________________________________________________________________________________________________\n",
      "unet_down1_conv_0_bn (BatchNorm (None, 256, 256, 64) 256         unet_down1_conv_0[0][0]          \n",
      "__________________________________________________________________________________________________\n",
      "unet_down1_conv_0_activation (R (None, 256, 256, 64) 0           unet_down1_conv_0_bn[0][0]       \n",
      "__________________________________________________________________________________________________\n",
      "unet_down1_conv_1 (Conv2D)      (None, 256, 256, 64) 36864       unet_down1_conv_0_activation[0][0\n",
      "__________________________________________________________________________________________________\n",
      "unet_down1_conv_1_bn (BatchNorm (None, 256, 256, 64) 256         unet_down1_conv_1[0][0]          \n",
      "__________________________________________________________________________________________________\n",
      "unet_down1_conv_1_activation (R (None, 256, 256, 64) 0           unet_down1_conv_1_bn[0][0]       \n",
      "__________________________________________________________________________________________________\n",
      "unet_down2_encode_stride_conv ( (None, 128, 128, 128 32768       unet_down1_conv_1_activation[0][0\n",
      "__________________________________________________________________________________________________\n",
      "unet_down2_encode_bn (BatchNorm (None, 128, 128, 128 512         unet_down2_encode_stride_conv[0][\n",
      "__________________________________________________________________________________________________\n",
      "unet_down2_encode_activation (R (None, 128, 128, 128 0           unet_down2_encode_bn[0][0]       \n",
      "__________________________________________________________________________________________________\n",
      "unet_down2_conv_0 (Conv2D)      (None, 128, 128, 128 147456      unet_down2_encode_activation[0][0\n",
      "__________________________________________________________________________________________________\n",
      "unet_down2_conv_0_bn (BatchNorm (None, 128, 128, 128 512         unet_down2_conv_0[0][0]          \n",
      "__________________________________________________________________________________________________\n",
      "unet_down2_conv_0_activation (R (None, 128, 128, 128 0           unet_down2_conv_0_bn[0][0]       \n",
      "__________________________________________________________________________________________________\n",
      "unet_down2_conv_1 (Conv2D)      (None, 128, 128, 128 147456      unet_down2_conv_0_activation[0][0\n",
      "__________________________________________________________________________________________________\n",
      "unet_down2_conv_1_bn (BatchNorm (None, 128, 128, 128 512         unet_down2_conv_1[0][0]          \n",
      "__________________________________________________________________________________________________\n",
      "unet_down2_conv_1_activation (R (None, 128, 128, 128 0           unet_down2_conv_1_bn[0][0]       \n",
      "__________________________________________________________________________________________________\n",
      "unet_down3_encode_stride_conv ( (None, 64, 64, 256)  131072      unet_down2_conv_1_activation[0][0\n",
      "__________________________________________________________________________________________________\n",
      "unet_down3_encode_bn (BatchNorm (None, 64, 64, 256)  1024        unet_down3_encode_stride_conv[0][\n",
      "__________________________________________________________________________________________________\n",
      "unet_down3_encode_activation (R (None, 64, 64, 256)  0           unet_down3_encode_bn[0][0]       \n",
      "__________________________________________________________________________________________________\n",
      "unet_down3_conv_0 (Conv2D)      (None, 64, 64, 256)  589824      unet_down3_encode_activation[0][0\n",
      "__________________________________________________________________________________________________\n",
      "unet_down3_conv_0_bn (BatchNorm (None, 64, 64, 256)  1024        unet_down3_conv_0[0][0]          \n",
      "__________________________________________________________________________________________________\n",
      "unet_down3_conv_0_activation (R (None, 64, 64, 256)  0           unet_down3_conv_0_bn[0][0]       \n",
      "__________________________________________________________________________________________________\n",
      "unet_down3_conv_1 (Conv2D)      (None, 64, 64, 256)  589824      unet_down3_conv_0_activation[0][0\n",
      "__________________________________________________________________________________________________\n",
      "unet_down3_conv_1_bn (BatchNorm (None, 64, 64, 256)  1024        unet_down3_conv_1[0][0]          \n",
      "__________________________________________________________________________________________________\n",
      "unet_down3_conv_1_activation (R (None, 64, 64, 256)  0           unet_down3_conv_1_bn[0][0]       \n",
      "__________________________________________________________________________________________________\n",
      "unet_down4_encode_stride_conv ( (None, 32, 32, 512)  524288      unet_down3_conv_1_activation[0][0\n",
      "__________________________________________________________________________________________________\n",
      "unet_down4_encode_bn (BatchNorm (None, 32, 32, 512)  2048        unet_down4_encode_stride_conv[0][\n",
      "__________________________________________________________________________________________________\n",
      "unet_down4_encode_activation (R (None, 32, 32, 512)  0           unet_down4_encode_bn[0][0]       \n",
      "__________________________________________________________________________________________________\n",
      "unet_down4_conv_0 (Conv2D)      (None, 32, 32, 512)  2359296     unet_down4_encode_activation[0][0\n",
      "__________________________________________________________________________________________________\n",
      "unet_down4_conv_0_bn (BatchNorm (None, 32, 32, 512)  2048        unet_down4_conv_0[0][0]          \n",
      "__________________________________________________________________________________________________\n",
      "unet_down4_conv_0_activation (R (None, 32, 32, 512)  0           unet_down4_conv_0_bn[0][0]       \n",
      "__________________________________________________________________________________________________\n",
      "unet_down4_conv_1 (Conv2D)      (None, 32, 32, 512)  2359296     unet_down4_conv_0_activation[0][0\n",
      "__________________________________________________________________________________________________\n",
      "unet_down4_conv_1_bn (BatchNorm (None, 32, 32, 512)  2048        unet_down4_conv_1[0][0]          \n",
      "__________________________________________________________________________________________________\n",
      "unet_down4_conv_1_activation (R (None, 32, 32, 512)  0           unet_down4_conv_1_bn[0][0]       \n",
      "__________________________________________________________________________________________________\n",
      "unet_up0_decode_trans_conv (Con (None, 64, 64, 256)  1179904     unet_down4_conv_1_activation[0][0\n",
      "__________________________________________________________________________________________________\n",
      "unet_up0_decode_bn (BatchNormal (None, 64, 64, 256)  1024        unet_up0_decode_trans_conv[0][0] \n",
      "__________________________________________________________________________________________________\n",
      "unet_up0_decode_activation (ReL (None, 64, 64, 256)  0           unet_up0_decode_bn[0][0]         \n",
      "__________________________________________________________________________________________________\n",
      "unet_up0_conv_before_concat_0 ( (None, 64, 64, 256)  589824      unet_up0_decode_activation[0][0] \n",
      "__________________________________________________________________________________________________\n",
      "unet_up0_conv_before_concat_0_b (None, 64, 64, 256)  1024        unet_up0_conv_before_concat_0[0][\n",
      "__________________________________________________________________________________________________\n",
      "unet_up0_conv_before_concat_0_a (None, 64, 64, 256)  0           unet_up0_conv_before_concat_0_bn[\n",
      "__________________________________________________________________________________________________\n",
      "unet_up0_concat (Concatenate)   (None, 64, 64, 512)  0           unet_up0_conv_before_concat_0_act\n",
      "                                                                 unet_down3_conv_1_activation[0][0\n",
      "__________________________________________________________________________________________________\n",
      "unet_up0_conv_after_concat_0 (C (None, 64, 64, 256)  1179648     unet_up0_concat[0][0]            \n",
      "__________________________________________________________________________________________________\n",
      "unet_up0_conv_after_concat_0_bn (None, 64, 64, 256)  1024        unet_up0_conv_after_concat_0[0][0\n",
      "__________________________________________________________________________________________________\n",
      "unet_up0_conv_after_concat_0_ac (None, 64, 64, 256)  0           unet_up0_conv_after_concat_0_bn[0\n",
      "__________________________________________________________________________________________________\n",
      "unet_up0_conv_after_concat_1 (C (None, 64, 64, 256)  589824      unet_up0_conv_after_concat_0_acti\n",
      "__________________________________________________________________________________________________\n",
      "unet_up0_conv_after_concat_1_bn (None, 64, 64, 256)  1024        unet_up0_conv_after_concat_1[0][0\n",
      "__________________________________________________________________________________________________\n",
      "unet_up0_conv_after_concat_1_ac (None, 64, 64, 256)  0           unet_up0_conv_after_concat_1_bn[0\n",
      "__________________________________________________________________________________________________\n",
      "unet_up1_decode_trans_conv (Con (None, 128, 128, 128 295040      unet_up0_conv_after_concat_1_acti\n",
      "__________________________________________________________________________________________________\n",
      "unet_up1_decode_bn (BatchNormal (None, 128, 128, 128 512         unet_up1_decode_trans_conv[0][0] \n",
      "__________________________________________________________________________________________________\n",
      "unet_up1_decode_activation (ReL (None, 128, 128, 128 0           unet_up1_decode_bn[0][0]         \n",
      "__________________________________________________________________________________________________\n",
      "unet_up1_conv_before_concat_0 ( (None, 128, 128, 128 147456      unet_up1_decode_activation[0][0] \n",
      "__________________________________________________________________________________________________\n",
      "unet_up1_conv_before_concat_0_b (None, 128, 128, 128 512         unet_up1_conv_before_concat_0[0][\n",
      "__________________________________________________________________________________________________\n",
      "unet_up1_conv_before_concat_0_a (None, 128, 128, 128 0           unet_up1_conv_before_concat_0_bn[\n",
      "__________________________________________________________________________________________________\n",
      "unet_up1_concat (Concatenate)   (None, 128, 128, 256 0           unet_up1_conv_before_concat_0_act\n",
      "                                                                 unet_down2_conv_1_activation[0][0\n",
      "__________________________________________________________________________________________________\n",
      "unet_up1_conv_after_concat_0 (C (None, 128, 128, 128 294912      unet_up1_concat[0][0]            \n",
      "__________________________________________________________________________________________________\n",
      "unet_up1_conv_after_concat_0_bn (None, 128, 128, 128 512         unet_up1_conv_after_concat_0[0][0\n",
      "__________________________________________________________________________________________________\n",
      "unet_up1_conv_after_concat_0_ac (None, 128, 128, 128 0           unet_up1_conv_after_concat_0_bn[0\n",
      "__________________________________________________________________________________________________\n",
      "unet_up1_conv_after_concat_1 (C (None, 128, 128, 128 147456      unet_up1_conv_after_concat_0_acti\n",
      "__________________________________________________________________________________________________\n",
      "unet_up1_conv_after_concat_1_bn (None, 128, 128, 128 512         unet_up1_conv_after_concat_1[0][0\n",
      "__________________________________________________________________________________________________\n",
      "unet_up1_conv_after_concat_1_ac (None, 128, 128, 128 0           unet_up1_conv_after_concat_1_bn[0\n",
      "__________________________________________________________________________________________________\n",
      "unet_up2_decode_trans_conv (Con (None, 256, 256, 64) 73792       unet_up1_conv_after_concat_1_acti\n",
      "__________________________________________________________________________________________________\n",
      "unet_up2_decode_bn (BatchNormal (None, 256, 256, 64) 256         unet_up2_decode_trans_conv[0][0] \n",
      "__________________________________________________________________________________________________\n",
      "unet_up2_decode_activation (ReL (None, 256, 256, 64) 0           unet_up2_decode_bn[0][0]         \n",
      "__________________________________________________________________________________________________\n",
      "unet_up2_conv_before_concat_0 ( (None, 256, 256, 64) 36864       unet_up2_decode_activation[0][0] \n",
      "__________________________________________________________________________________________________\n",
      "unet_up2_conv_before_concat_0_b (None, 256, 256, 64) 256         unet_up2_conv_before_concat_0[0][\n",
      "__________________________________________________________________________________________________\n",
      "unet_up2_conv_before_concat_0_a (None, 256, 256, 64) 0           unet_up2_conv_before_concat_0_bn[\n",
      "__________________________________________________________________________________________________\n",
      "unet_up2_concat (Concatenate)   (None, 256, 256, 128 0           unet_up2_conv_before_concat_0_act\n",
      "                                                                 unet_down1_conv_1_activation[0][0\n",
      "__________________________________________________________________________________________________\n",
      "unet_up2_conv_after_concat_0 (C (None, 256, 256, 64) 73728       unet_up2_concat[0][0]            \n",
      "__________________________________________________________________________________________________\n",
      "unet_up2_conv_after_concat_0_bn (None, 256, 256, 64) 256         unet_up2_conv_after_concat_0[0][0\n",
      "__________________________________________________________________________________________________\n",
      "unet_up2_conv_after_concat_0_ac (None, 256, 256, 64) 0           unet_up2_conv_after_concat_0_bn[0\n",
      "__________________________________________________________________________________________________\n",
      "unet_up2_conv_after_concat_1 (C (None, 256, 256, 64) 36864       unet_up2_conv_after_concat_0_acti\n",
      "__________________________________________________________________________________________________\n",
      "unet_up2_conv_after_concat_1_bn (None, 256, 256, 64) 256         unet_up2_conv_after_concat_1[0][0\n",
      "__________________________________________________________________________________________________\n",
      "unet_up2_conv_after_concat_1_ac (None, 256, 256, 64) 0           unet_up2_conv_after_concat_1_bn[0\n",
      "__________________________________________________________________________________________________\n",
      "unet_up3_decode_trans_conv (Con (None, 512, 512, 32) 18464       unet_up2_conv_after_concat_1_acti\n",
      "__________________________________________________________________________________________________\n",
      "unet_up3_decode_bn (BatchNormal (None, 512, 512, 32) 128         unet_up3_decode_trans_conv[0][0] \n",
      "__________________________________________________________________________________________________\n",
      "unet_up3_decode_activation (ReL (None, 512, 512, 32) 0           unet_up3_decode_bn[0][0]         \n",
      "__________________________________________________________________________________________________\n",
      "unet_up3_conv_before_concat_0 ( (None, 512, 512, 32) 9216        unet_up3_decode_activation[0][0] \n",
      "__________________________________________________________________________________________________\n",
      "unet_up3_conv_before_concat_0_b (None, 512, 512, 32) 128         unet_up3_conv_before_concat_0[0][\n",
      "__________________________________________________________________________________________________\n",
      "unet_up3_conv_before_concat_0_a (None, 512, 512, 32) 0           unet_up3_conv_before_concat_0_bn[\n",
      "__________________________________________________________________________________________________\n",
      "unet_up3_concat (Concatenate)   (None, 512, 512, 64) 0           unet_up3_conv_before_concat_0_act\n",
      "                                                                 unet_down0_1_activation[0][0]    \n",
      "__________________________________________________________________________________________________\n",
      "unet_up3_conv_after_concat_0 (C (None, 512, 512, 32) 18432       unet_up3_concat[0][0]            \n",
      "__________________________________________________________________________________________________\n",
      "unet_up3_conv_after_concat_0_bn (None, 512, 512, 32) 128         unet_up3_conv_after_concat_0[0][0\n",
      "__________________________________________________________________________________________________\n",
      "unet_up3_conv_after_concat_0_ac (None, 512, 512, 32) 0           unet_up3_conv_after_concat_0_bn[0\n",
      "__________________________________________________________________________________________________\n",
      "unet_up3_conv_after_concat_1 (C (None, 512, 512, 32) 9216        unet_up3_conv_after_concat_0_acti\n",
      "__________________________________________________________________________________________________\n",
      "unet_up3_conv_after_concat_1_bn (None, 512, 512, 32) 128         unet_up3_conv_after_concat_1[0][0\n",
      "__________________________________________________________________________________________________\n",
      "unet_up3_conv_after_concat_1_ac (None, 512, 512, 32) 0           unet_up3_conv_after_concat_1_bn[0\n",
      "__________________________________________________________________________________________________\n",
      "unet_output (Conv2D)            (None, 512, 512, 1)  33          unet_up3_conv_after_concat_1_acti\n",
      "__________________________________________________________________________________________________\n",
      "unet_output_activation (Activat (None, 512, 512, 1)  0           unet_output[0][0]                \n",
      "==================================================================================================\n",
      "Total params: 11,692,833\n",
      "Trainable params: 11,683,105\n",
      "Non-trainable params: 9,728\n",
      "__________________________________________________________________________________________________\n"
     ]
    }
   ],
   "source": [
    "R = Runner(verbose=True, classifier='kattunet2d')"
   ]
  },
  {
   "cell_type": "code",
   "execution_count": 11,
   "id": "87b0c65d",
   "metadata": {},
   "outputs": [],
   "source": [
    "# load our larger toy dataset (10k images and masks)\n",
    "images = np.load('/hpcstor6/scratch01/r/ryan.zurrin001/GP2TOYEXAMPLE_LARGE/images.npy')\n",
    "masks = np.load('/hpcstor6/scratch01/r/ryan.zurrin001/GP2TOYEXAMPLE_LARGE/masks.npy')"
   ]
  },
  {
   "cell_type": "code",
   "execution_count": null,
   "id": "7330ad24",
   "metadata": {},
   "outputs": [],
   "source": []
  },
  {
   "cell_type": "code",
   "execution_count": 12,
   "id": "d5b4179a",
   "metadata": {},
   "outputs": [
    {
     "data": {
      "text/plain": [
       "(10000, 512, 512, 1)"
      ]
     },
     "execution_count": 12,
     "metadata": {},
     "output_type": "execute_result"
    }
   ],
   "source": [
    "images.shape"
   ]
  },
  {
   "cell_type": "code",
   "execution_count": 13,
   "id": "57033c4e",
   "metadata": {},
   "outputs": [
    {
     "data": {
      "text/plain": [
       "(10000, 512, 512, 1)"
      ]
     },
     "execution_count": 13,
     "metadata": {},
     "output_type": "execute_result"
    }
   ],
   "source": [
    "masks.shape"
   ]
  },
  {
   "cell_type": "code",
   "execution_count": 14,
   "id": "393c7029",
   "metadata": {},
   "outputs": [
    {
     "name": "stdout",
     "output_type": "stream",
     "text": [
      "255\n"
     ]
    }
   ],
   "source": [
    "print(images.max())"
   ]
  },
  {
   "cell_type": "code",
   "execution_count": 15,
   "id": "97eca1aa",
   "metadata": {},
   "outputs": [
    {
     "name": "stdout",
     "output_type": "stream",
     "text": [
      "0\n"
     ]
    }
   ],
   "source": [
    "print(images.min())"
   ]
  },
  {
   "cell_type": "code",
   "execution_count": 16,
   "id": "2821eb86",
   "metadata": {},
   "outputs": [
    {
     "name": "stdout",
     "output_type": "stream",
     "text": [
      "True\n"
     ]
    }
   ],
   "source": [
    "print(masks.max())"
   ]
  },
  {
   "cell_type": "code",
   "execution_count": 17,
   "id": "1dd71668",
   "metadata": {},
   "outputs": [],
   "source": [
    "weights = {\n",
    "    'A': 0.5,\n",
    "    'A_train': 0.1,\n",
    "    'A_val': 0.3,\n",
    "    'A_test': 0.6,\n",
    "    'B': 0.3,\n",
    "    'B_train': 0.7,\n",
    "    'B_val': 0.1,\n",
    "    'B_test': 0.2,\n",
    "    'Z': 0.2\n",
    "}\n",
    "PERCENT_TO_REPLACE = 30"
   ]
  },
  {
   "cell_type": "code",
   "execution_count": 18,
   "id": "2a5d1030",
   "metadata": {},
   "outputs": [
    {
     "name": "stdout",
     "output_type": "stream",
     "text": [
      "Weights OK!\n"
     ]
    }
   ],
   "source": [
    "R.setup_data(images, masks, dataset_size=10000, weights=weights)"
   ]
  },
  {
   "cell_type": "code",
   "execution_count": 19,
   "id": "99127251",
   "metadata": {},
   "outputs": [],
   "source": [
    "RUNS = 5"
   ]
  },
  {
   "cell_type": "code",
   "execution_count": 20,
   "id": "d8ff85c4",
   "metadata": {
    "scrolled": true
   },
   "outputs": [
    {
     "name": "stdout",
     "output_type": "stream",
     "text": [
      "***\n",
      "RUN: 0\n"
     ]
    },
    {
     "name": "stderr",
     "output_type": "stream",
     "text": [
      "2023-04-17 23:09:57.048085: I tensorflow/compiler/mlir/mlir_graph_optimization_pass.cc:176] None of the MLIR Optimization Passes are enabled (registered 2)\n",
      "2023-04-17 23:09:57.067012: I tensorflow/core/platform/profile_utils/cpu_utils.cc:114] CPU Frequency: 2245755000 Hz\n"
     ]
    },
    {
     "name": "stdout",
     "output_type": "stream",
     "text": [
      "Epoch 1/100\n"
     ]
    },
    {
     "name": "stderr",
     "output_type": "stream",
     "text": [
      "2023-04-17 23:10:00.361613: I tensorflow/stream_executor/platform/default/dso_loader.cc:53] Successfully opened dynamic library libcudnn.so.8\n",
      "2023-04-17 23:10:01.090088: I tensorflow/stream_executor/cuda/cuda_dnn.cc:359] Loaded cuDNN version 8201\n",
      "2023-04-17 23:10:01.860891: W tensorflow/stream_executor/gpu/asm_compiler.cc:191] Falling back to the CUDA driver for PTX compilation; ptxas does not support CC 8.0\n",
      "2023-04-17 23:10:01.860915: W tensorflow/stream_executor/gpu/asm_compiler.cc:194] Used ptxas at ptxas\n",
      "2023-04-17 23:10:01.860972: W tensorflow/stream_executor/gpu/redzone_allocator.cc:314] Unimplemented: ptxas ptxas too old. Falling back to the driver to compile.\n",
      "Relying on driver to perform ptx compilation. \n",
      "Modify $PATH to customize ptxas location.\n",
      "This message will be only logged once.\n",
      "2023-04-17 23:10:01.881506: I tensorflow/stream_executor/platform/default/dso_loader.cc:53] Successfully opened dynamic library libcublas.so.11\n",
      "2023-04-17 23:10:02.802781: I tensorflow/stream_executor/platform/default/dso_loader.cc:53] Successfully opened dynamic library libcublasLt.so.11\n"
     ]
    },
    {
     "name": "stdout",
     "output_type": "stream",
     "text": [
      "8/8 [==============================] - 91s 7s/step - loss: 0.5349 - dice_coef: 0.1632 - val_loss: 0.6918 - val_dice_coef: 0.0959\n"
     ]
    },
    {
     "name": "stderr",
     "output_type": "stream",
     "text": [
      "2023-04-17 23:11:31.358606: W tensorflow/python/util/util.cc:348] Sets are not currently considered sequences, but this may change in the future, so consider avoiding using them.\n"
     ]
    },
    {
     "name": "stdout",
     "output_type": "stream",
     "text": [
      "Epoch 2/100\n",
      "8/8 [==============================] - 10s 1s/step - loss: 0.5351 - dice_coef: 0.1630 - val_loss: 0.6785 - val_dice_coef: 0.1095\n",
      "Epoch 3/100\n",
      "8/8 [==============================] - 10s 1s/step - loss: 0.5351 - dice_coef: 0.1631 - val_loss: 0.6695 - val_dice_coef: 0.1164\n",
      "Model saved to: /tmp/tmpb_p8u2x6GP2/kunet2d_0kunet2d_model\n",
      "History saved to: /tmp/tmpb_p8u2x6GP2/kunet2d_history_0.pkl\n",
      "Testing the classifier...\n",
      "Model saved to /tmp/tmpb_p8u2x6GP2/cnnd_0.model\n",
      "History saved to /tmp/tmpb_p8u2x6GP2/cnnd_history_0.pickle\n",
      "Testing the discriminator...\n",
      "19/19 [==============================] - 0s 19ms/step - loss: 0.0000e+00 - accuracy: 1.0000\n",
      "Found 294 machine labels.\n",
      "Machine labels [  0   2   5   6  11  12  13  15  16  17  19  20  21  22  23  24  25  26\n",
      "  27  28  32  36  39  41  42  44  45  46  47  48  50  51  56  57  58  63\n",
      "  64  65  67  68  75  77  78  80  81  83  89  92  94  96  98 101 103 104\n",
      " 105 106 109 110 111 112 115 116 120 124 125 131 134 136 137 139 140 141\n",
      " 145 146 149 150 151 155 156 158 159 160 161 162 163 164 165 166 167 168\n",
      " 169 170 171 172 173 177 178 182 185 187 194 195 197 198 201 203 204 207\n",
      " 210 211 212 213 217 219 222 227 228 233 235 236 237 239 241 242 243 245\n",
      " 247 250 251 253 256 257 258 259 261 263 265 267 268 269 270 274 280 282\n",
      " 284 290 292 293 295 296 299 302 303 304 308 309 311 312 314 315 318 320\n",
      " 321 322 326 327 331 332 335 336 339 341 345 347 348 349 350 354 355 359\n",
      " 360 361 363 366 367 369 371 375 377 379 380 383 385 386 388 390 391 392\n",
      " 393 395 396 403 405 406 408 409 410 411 412 414 415 416 421 423 424 431\n",
      " 433 437 440 442 443 444 447 450 451 460 461 463 465 466 467 468 470 471\n",
      " 472 474 475 476 484 486 489 491 494 498 503 504 506 508 509 511 512 516\n",
      " 517 522 524 525 526 529 531 532 534 536 540 541 544 547 548 549 550 551\n",
      " 558 559 560 561 564 565 566 567 569 571 573 575 580 581 582 583 584 586\n",
      " 587 588 590 591 595 598]\n",
      "D_ids ['6fbdd766-a1b7-4e67-a07b-b8b15fe72932', 'c757a9f3-1373-4147-9e7c-59f1be42477f', '6973c3d6-cd2d-4b9c-acf9-52f06758362d', 'd54d2b89-44a0-4b5c-9517-79489704eb1b', '948817e9-4224-4f2a-a695-d35429f0910c', '88df2baf-a4f6-44fc-b25b-4e5178cc56a8', 'ce08da07-b228-4f48-9df9-b951bc4018e2', '723e53fa-b6c0-445b-9667-b9afb13ab860', '1e6411fd-490c-4190-895e-4baec1b13dee', '3b0fe75b-ba6c-42f6-adc8-ecdaf8801dbe', '1def0539-b754-4cce-9192-953cbcb0ce7c', 'ee5c675e-7581-461d-b467-cbb8b88975da', '4b8f3664-5ccb-4156-808c-e87564326fc2', '05c0a164-b880-4b51-af80-3334b2c26689', 'abd6140b-2e5f-4cfb-b2fd-905b3bb76e4a', 'ccd1ccb2-908f-4463-9fd2-983684c190ac', 'de66a618-a42c-4dd5-a0c9-a0f9a2bc744d', 'e1954147-3343-4266-956c-18255718cf27', '4f1fe32b-2e73-4c55-aca2-6cb90e35a93f', '3cae218c-6ae8-4202-91c2-dc9beacd464f', 'd8adee79-6f96-49ca-84e4-4ec9d6a78f22', '75cf6d38-0020-436b-910f-84488e40e08f', 'c7934fac-6127-4332-a0f5-d5a9fb33ad36', 'ef9c9a25-4169-415f-9704-dab2bf9e1d3d', 'baf83fc2-fe16-4ce7-9fdb-be44346c7315', 'b05b70e2-9285-4e94-88d9-0d5d099a56ac', '719be2b5-dba6-4e4f-8665-25871512a0a9', '61ebb21b-3ba9-43b0-b7f4-cfb9179c8839', 'ab24e2cb-6d02-47b9-aa70-f59d0595cb99', 'fcba233c-ec52-411c-8161-5c0e1838e8de', '04fc3fb5-f574-443b-83f6-519f5e3672fd', 'e716c10d-0312-4d3d-8261-e343f2c6b610', 'd6f006c9-6ef0-4841-84fc-f4a5f8b63498', 'bdc39607-08b6-4703-b2a7-cbd5fd6e0494', '4b771a2a-2895-430d-bc11-d71e88494cbc', 'fb0bce3a-91af-4418-a5b8-132e4502072c', '435bb2da-2f50-425d-8ceb-ccbe534873ae', 'e22c5433-72e6-4e0e-b81d-8da9b70c1346', '25ae4416-02ee-4665-a322-c471bb6bed91', '3b75d797-e193-45fb-87af-f8dc457c2b55', '77c500e6-315e-4a80-ab35-75b38966781f', 'd7f656c9-76fd-4799-96d0-5991954e24f6', '0f07132e-8ffb-4a0e-b07c-fed9b9e168b6', '071f2f6b-0397-4c7f-b5ce-ea436375d7ae', '4a13feb5-b63f-4563-97fe-19af4cee03cb', 'fde8273e-dea3-44b6-b4a8-7cb431bd7913', '76e0f47a-47e6-435d-aa08-2409758df113', '9b6728c3-543d-40d8-b76b-425d8ffc4472', '1f78dc2a-04c5-41f6-88ea-4ef7b02f44bc', '61d398b7-53cc-4316-8fb1-36f019028cac', '75daef2f-4c10-45b2-afec-d2b13b73511c', '9509da8d-ecc7-4372-b6bc-f9706286edba', '2b0c80b7-648f-4746-9d17-e95ecdc6f8eb', '43c9830c-81f1-438e-9ddd-83c6e624df26', 'bbf2d389-7ad4-4c2e-bff9-f1e7de52f3ec', 'cfa48f4c-a0d2-4cec-9f47-7d22b9e41118', '356a7a9c-b8ba-43d0-a27a-db665d93e6a6', 'ea99e473-7aaa-4f52-882b-98680c3d34d9', '93bdba28-a4ee-4388-884c-c1d32313c9f7', '05ae2c85-8231-43f4-8f63-f287836cdd2b', '249c836c-f3d0-4c0b-9734-ea576aa44fbf', 'c1161b8a-e34b-4e93-b24f-7ce1cee4083d', '94c4b715-088d-4047-8d32-88b0da2b3106', '0a5cb5c5-fe2c-4485-a11e-45982fa50eaa', '65ad8974-c8f1-4126-9fc7-466168f3f8fc', 'df5487b8-f1bd-4aef-ab99-6551fe394e46', 'db4f4039-a90f-4f0d-a45b-5d3ccfb171d5', '6e4c53e5-b924-4ddb-92ea-1df9d1df77cb', '3dad0bf8-7438-42bf-9e69-beefe25f3174', '5d916909-f158-4cc9-a761-869d11d56fdb', '4a596bef-69e6-4899-a4a5-99cd77ecf363', '11e862cd-76ef-4210-a20e-e3e5432b221b', '9b05ebe5-9327-44e4-ad14-7a58512b6332', 'c2d8b559-3787-4626-9824-66a9ed47f677', '529c334f-f859-4f47-b3d4-235cfd0589d7', '8c8dbd68-96bf-45ac-bb5c-b74054d6e344', '1efab0db-4c6d-440d-8909-98d531070fa2', 'a7c04504-23b1-4e9c-9091-1487329e3d58', '4685ff8c-98d3-45b6-8be5-d77a4c3f0a81', '59d36abd-dc60-451c-a980-dbe46a7e6dae', '97ee1153-4ec0-4450-9178-1cf74dd0aa04', '9a16439a-c469-4b51-b0a8-d165b8120e8c', '45bbeb31-86b1-4ffb-abfe-d95bdece5c92', '7212a829-1823-4e1d-b0e7-fc081611a2d8', '2b87dbfe-cec6-41c6-9887-41516abe5949', '85ab04db-6474-4d1f-ad04-9379a7439903', '1850be54-6db6-4185-a131-c60140baae67', '7b64ba76-4604-45ac-9481-88f84742fa17', 'bf810601-b1ba-49e3-a580-521ecd8d1a00', '99b0e5b9-9458-4377-a359-a35c1334e1fe', '146987d7-ed65-4d22-809d-0348f379c837', 'e56d4455-6bf0-4efa-b326-3392cda6b909', 'faf1cc36-dd30-4742-a9f1-a0848f4d373c', '419e0c2b-f4a0-4db9-b0a4-6331cfab912d', '474a8f80-6064-4352-9b87-22dbe9f0d38f', 'abdb951a-da0b-4d26-9364-41d08c84bd1e', '92b662ff-985b-43ef-b318-fee5a955fd8a', 'bdbef456-c109-4ad4-b1ef-bc0923ad3c33', '08c9bf10-86cb-4749-b7c8-28ddfd6c1170', '0dead0b7-e603-4cdc-8c56-49831d1e20b2', '040f799a-2617-4106-8e0a-0081928726b2', '83c5c257-027d-4c4a-955b-9a971980d066', '8e9e39ab-fa26-45d9-9b21-6847c3f8f464', '81123cf8-3924-4b2b-b05f-487ff6aeadc8', '3524313b-d73a-42d7-97b1-2047fdad6110', '2e87cb2f-5cd8-483d-86bc-ba6b82536711', '8d4d54b6-20fe-40f9-8018-11e3b957db33', '1266419d-7ea2-42f8-bf52-fd140d200c48', 'c6cbea2e-357a-4da3-a7fd-fbd93021d404', '5a6a4e79-d8f8-4ad8-8fad-5e3460eb0e42', 'bfa17884-b8c6-430d-a98c-9d89438c09d6', '1b484f47-e7ff-429e-acdc-32f2018907e0', 'e2647e64-ccc9-45c3-acd6-f7574983e415', 'ce2804fb-f4a6-4779-8ad9-69de0c9e0e6c', '86c9ff3f-d3ef-4639-a80c-6c2ec090c9bf', 'a73ba5dc-c94f-4d0f-821c-4c3c294b05bc', 'c274cbd3-25ad-4a60-87d1-f590d7b0ef36', 'c70e33a9-c790-42ad-9694-23da0b4515e5', '64fd9e91-ec15-455d-b5c5-435518d7a877', 'bd5894c2-0534-4799-aaf0-ff5465f189f3', 'd56c5979-3bcb-4a7c-a38e-c4f03fb8c100', 'da34cce3-51de-4077-b6b1-71e5460b89bf', '0c5fdacc-7289-4dff-b2c5-110b7a580d39', '7d677229-c203-4cf1-aafa-12f07bf3ede7', '4ae64290-0981-451f-a7de-0f11e784a781', 'e0f5c828-baee-4f45-a93f-56de2bb58c82', '48610524-e935-4f48-8bb1-bb7d4e78986b', '712214f5-5db7-4e8a-b15a-cde04400feb4', '29a2a64a-7429-46b4-b189-cb357399ec77', '3b10a6f6-c4b0-47e4-916f-615bffbfdf0e', '908edb93-70ec-4aed-aac4-f1a622becdd5', '74df4f45-8890-44cd-985e-a243683df7ab', '937d91f9-6b3b-4e7a-a9d2-6820d9e38c02', '7e6baaa1-5a68-4279-82b6-f2a4f1c0b2f5', 'e8dce74a-4f50-4157-a38c-d7a4485fe9b2', '31ddd9d7-bad1-48dd-8efb-e6dc3a9871c2', 'd7a6f1d1-43ea-4709-89ac-af34b1529019', '53690977-f622-436b-9c20-6b9d8ef1f090', '91252765-2393-47e2-bf27-750e44d26e62', '5ea18652-4d0d-488e-ac70-83d18bfc66e3', 'da36bedc-6a9e-48d2-af5b-c1e1c5e4bd6c', 'fba1b669-6f0c-4616-918a-6863468027f5', 'dff323cb-cf73-434e-aab8-2d655d748b36', 'bdc4d479-f125-41be-b631-dabc984c7695', '8eddb1d7-51dc-45ea-99c2-9347345e7a98', '868ee078-d56d-4f80-a74a-2d933a109245', 'fdd93b06-d3ae-41f0-b804-5e0fb97ade24', '5192e6cd-99ec-4a2d-9e99-cb979282cf24', '891ca4f5-b346-41e3-b9d9-b51b9119e0bd', '4409badf-0e3f-491e-90c1-69bdcf14014a', '839c1826-b754-42af-875a-de91456f0bc5', '2adcb3ac-de0e-4a82-88bb-d612d65f0ef6', '9259f926-c573-4b6a-a781-c26149bc6ac6', 'b5bf4968-2030-4eff-b1be-d29674443979', '7cef8743-34d8-4929-9de2-f1392a12a293', 'eedf2839-373f-4f09-afda-300101852491', 'd28af9ff-5d92-4a76-a7a7-968a36e16f1b', '8f9aec0c-029c-40dd-9423-8460cab69166', '323d2752-21b9-4b4e-a810-0ec3cfd00bb2', 'd75ff573-aac4-4720-a32e-ad499948f57c', 'b0dfaf07-ef88-4851-b2b3-9dabe7d46c61', '79db8066-0d3e-49c3-b1f4-e53a6e95beb8', '67bf6398-2e0d-41a5-901a-baf2369cf2c8', '0e4d87c9-f73d-42d3-bd0a-75a304a772b6', 'b1ab2254-9a92-4650-854e-c76e2b49072c', '108926a9-8306-4731-b5ee-dfa4d09473f3', '22cdf1f8-1210-41cd-b1c8-b29a9c711274', '3be8870d-ef61-449d-b29b-7bdeca907e2a', '39495bbb-144b-4908-932e-7c8023d1e113', 'a1298f09-291d-47c4-9533-bbafc5dbebfe', 'ca98d7e7-1027-464c-82ee-35e1e50f13c3', 'b1d886d7-c0d6-4811-a424-d0d349745070', 'de851c7d-d75f-4ffb-9cca-410ca3ad05e8', '0975ddea-7501-4d85-b93a-39183d963973', '189c9dbf-fccc-4ba9-9e7f-91b3313d3175', 'd6cb64f8-c9bf-4294-ae33-d54bdba468e9', '9689996d-d17c-4c65-b5f7-79ec96682c24', 'e4c6ec4f-ed8a-4b7f-99b1-36127f8d01a8', '609c38e7-a7cb-4e9d-ae69-f1e355adecae', '9595d8ed-fb6e-4643-ae79-d8628ce739cb', 'cf1eb4ef-c61b-4864-b54c-e371b2b435eb', 'ace7dcc0-c641-477a-a7ae-fad2cc8198cd', '72db1997-1ba8-4151-9780-280ffff9cb8a', 'bb2fd559-0e3a-488e-9809-90325840e0ab', '6083e1aa-7a98-4962-8133-9af4c69ce70c', '648b97f7-ac33-495a-9d29-391cb4866fc4', '3db49bd3-b135-4867-befb-fac68b0698c0', '09bf0fd9-bcb4-4c31-a8c4-aa15223a1c3b', '17baed55-8c48-4ecd-b7b0-83cb4ed445f5', 'a12390d0-8209-4f93-a708-22aef05e1a7e', 'b8acebf5-6287-45fe-b57c-2cbb6842e6ae', '195baa21-eb3a-447f-bc74-2fa98be3f626', '9b0a3af3-2929-4103-b913-a6b5e5bcb75f', '7f4d2f62-33f3-49a6-aacb-8309c84dc7f5', '7f36ee2b-a59b-410a-8ea5-07f793f74792', 'ddaeaf49-2601-43f6-95ac-3aeff992009b', 'b49860de-747a-468b-b60a-e180e36fb3f2', 'edcdd6b9-5378-4215-94eb-f679d479386c', '4f939c03-4461-4f9b-997f-5c48f4c87c83', 'b2e77989-024d-419e-91ca-f3cdc24af2e5', '9c3c52dc-a531-4157-883c-804390525e74', '7035cc09-34ca-4070-9818-930a704b83ce', '4b203f07-8484-41e5-b22f-b42ce2282587', 'a4ef4f82-a99a-4778-966b-1d7fb17b6804', '6a2c47f7-fcc0-444d-91db-183629fa03b8', '984a5b68-a744-4c26-abb1-6b6888c4a5d9', '7764c656-d0e3-4145-98b7-5452a4a693fe', '9ee49dd1-f293-429d-9c9f-c11a72ab5a64', '5339b833-8a8c-4c9e-ba83-249f154ca7ef', 'aeedda83-f468-4396-ad29-925ab2119a70', 'f100710a-6c52-4dbc-bf17-d76569b86882', '1fbf0bfc-6ca2-4edf-adce-a54eb7bc2761', '38303eef-55fb-4f8b-9ad7-b17ab0f24553', '35118974-09e9-4109-8cc5-92c320aece92', 'ab3e2c65-1335-4df3-82d3-00815232c7d9', 'fef3be3b-046e-4b75-b74e-d33815922df6', 'f7fc5439-1a7c-4e47-b2c9-f02cc804f4af', '1e6b4bf7-2b69-493c-8552-f4edaf3052b0', 'b4954dd5-6905-44e2-9ae0-bf903303c550', '9941dda1-730c-41a2-a5e4-876c82551406', '434b6b8a-f607-4223-a3b3-27f17cfcf8b5', 'acd72dbd-23c6-4876-975d-e4eab8b1c596', 'af0320d7-8a8f-4af3-925d-32afcfcc031e', '165b6a4a-8949-4524-b16c-8e7bb3cf5645', 'eb58be24-7969-4b99-b509-60e48cdc1668', '8d6793cb-c5c8-4f73-b8c5-30f5f69c4027', '4c852b79-87e2-420b-b391-79fc471c6a06', '5aa2d945-ecc4-4b95-af9b-52d331e0afa5', '7cc5ef75-95c5-4e03-9e20-d0cb1a110065', 'a75f7f96-c94b-4b00-a3e5-3422f23f9cb9', '1fec55f3-7745-4c6f-ba42-7edd0ed93aa0', '1a156785-ccdd-4f95-bc7f-3d46f94d0490', 'cff0741d-25c1-445e-827d-fcf50a3e1224', 'fa2ee0d8-884a-4ca0-9b2a-926da720a7ae', '9e6587e4-106c-4c8f-95b0-72ca33fcef2d', 'f8837e53-67c5-411b-8b36-72493a368578', '13437afb-2b67-427c-9f94-7cbab5509402', 'f0aa1e2f-59c4-47a9-85f4-77b7c4d672f1', 'e6af2652-e081-40f9-8a45-40edc54b5e08', '00270304-882a-4fe1-906c-8cfbf08c6d1a', '7f797bc5-f5f4-496d-afbe-5b543ed4634d', '048229ed-0c57-4c82-a9ae-72e9ff2a5064', '256d3ee2-1c1c-4564-85bb-18b1ac15b8a8', '552a5f11-1cc4-45c3-a30b-a4eb0cd9bba2', '34ec93b9-87c6-4292-8010-76fafee4c27c', '1d9eb10d-01de-45bd-8e9c-74dcf0a5e720', 'bbb268fd-932d-4172-af1c-9db562f4a4e0', '9e123bf6-4c9c-4e4c-bca5-fed7d230a22a', 'ff154679-310f-4a13-add8-e8d339eea6e1', 'a456425b-cddb-40e3-92ba-1d3c774e2db3', 'd46b6473-f550-4e5a-b80f-a2f6b479b43f', 'e429da38-fe40-4953-bebe-9e0690078645', '68078a11-d5e0-4299-81d1-7782eada2b79', '7ef6a247-865d-48e7-8241-aa9bb16b46a8', '341936e4-5f95-41df-8333-8944d4d8eae6', '1cfa1396-82a8-4471-9fe6-31ca10b4b99e', '778e16bd-7162-438d-9045-b5772d319f17', '66262fb8-27aa-4670-9303-8ca07fd2f3a7', 'c2b39211-ef1b-40ec-b2f3-ba817115ce20', 'f979136f-0713-4602-bd3a-964268f0bd84', 'a0d0a390-a4e1-4aee-b7d2-ca4d2753e128', '17d4ea53-911a-4bdd-97a1-23523637ca90', '06c7fbb9-74cd-489b-bb03-53aa0c37b5b3', 'bd4be880-6c86-4ffc-b43d-9ba8fb37cc08', 'da7a8b05-b912-4a32-99dd-0f2791a0beca', 'f661df09-6f93-4b07-82c0-582386341bdc', '7a2d11bd-61cb-483c-bcbf-0823a2f1a071', 'a18e6252-c806-4816-8852-b10b82948594', '478f6c9e-ae69-4270-8c88-ff62f4abcdb1', 'a63cb678-d8b9-426e-bcbf-6995ae7bfb83', 'f9bc90a0-270f-4d9b-a7b6-83cd88f1eef6', '5bb063d1-838a-403d-8768-dc684b8bb7c5', '9100c9a8-780c-4b9a-a9a3-6ab9c98d802e', '545983da-f0e9-456a-bb36-c89318574f87', 'a71ebf09-7fda-414e-8cc4-578d76e6a3fd', 'ca03b881-d31a-4289-9c9a-dee8887600f5', '93a7a901-afe4-41ef-acbd-c26573ed3cbd', 'a131e039-bf17-42f5-9c08-70cbd5a9d45f', '92b11b2d-834f-4e79-ac0d-94aa9d5c3f66', '227b2db7-93b1-4578-b2c2-4508756121b6', 'e15e3f6c-0088-4d99-b181-4ce7e2338a41', 'c5e3ed01-4d6a-43dc-ae36-d1bb75f654be', '2054dad5-774c-47a5-b378-465f9f27404e', '7af29bd1-8e94-4cc4-944d-c28cac2c6bc2', '3b387696-6384-49ba-9304-516a36c2e3ee', '14d31ab0-293e-4d97-a177-e3706fc3eca6', '794c4ace-a74b-47a8-bac7-5709fccdc70e', '7873339f-9d88-4ec6-bf8e-e72be0e43fa5', '2274e5ca-8297-4cc8-ac38-a41cd0228578', '84860b0e-3a94-4248-8b29-6631b6682e57', '5484057d-2f9e-4e17-986b-de2618f2c7dc', 'e0a4e46f-0d6c-4f57-a892-0997929f4d78', '0466aedd-c696-42c6-9063-40b20cefd235', '6320c210-f305-491e-8205-b78d42b4b88d']\n",
      "Replacing 98 from 294 !\n",
      "D_relabeled_ 98\n",
      "selected_ids ['7f36ee2b-a59b-410a-8ea5-07f793f74792', 'b4954dd5-6905-44e2-9ae0-bf903303c550', 'bf810601-b1ba-49e3-a580-521ecd8d1a00', 'bbf2d389-7ad4-4c2e-bff9-f1e7de52f3ec', 'd56c5979-3bcb-4a7c-a38e-c4f03fb8c100', '9b05ebe5-9327-44e4-ad14-7a58512b6332', '08c9bf10-86cb-4749-b7c8-28ddfd6c1170', '7b64ba76-4604-45ac-9481-88f84742fa17', 'c70e33a9-c790-42ad-9694-23da0b4515e5', 'ef9c9a25-4169-415f-9704-dab2bf9e1d3d', '719be2b5-dba6-4e4f-8665-25871512a0a9', 'ab24e2cb-6d02-47b9-aa70-f59d0595cb99', '2b0c80b7-648f-4746-9d17-e95ecdc6f8eb', 'e429da38-fe40-4953-bebe-9e0690078645', '419e0c2b-f4a0-4db9-b0a4-6331cfab912d', '75daef2f-4c10-45b2-afec-d2b13b73511c', 'eedf2839-373f-4f09-afda-300101852491', 'af0320d7-8a8f-4af3-925d-32afcfcc031e', 'fde8273e-dea3-44b6-b4a8-7cb431bd7913', '9b0a3af3-2929-4103-b913-a6b5e5bcb75f', '61ebb21b-3ba9-43b0-b7f4-cfb9179c8839', '5aa2d945-ecc4-4b95-af9b-52d331e0afa5', '9c3c52dc-a531-4157-883c-804390525e74', '14d31ab0-293e-4d97-a177-e3706fc3eca6', '1e6b4bf7-2b69-493c-8552-f4edaf3052b0', 'fef3be3b-046e-4b75-b74e-d33815922df6', '1a156785-ccdd-4f95-bc7f-3d46f94d0490', 'e4c6ec4f-ed8a-4b7f-99b1-36127f8d01a8', '1fbf0bfc-6ca2-4edf-adce-a54eb7bc2761', '9941dda1-730c-41a2-a5e4-876c82551406', 'd28af9ff-5d92-4a76-a7a7-968a36e16f1b', '227b2db7-93b1-4578-b2c2-4508756121b6', '435bb2da-2f50-425d-8ceb-ccbe534873ae', '4685ff8c-98d3-45b6-8be5-d77a4c3f0a81', 'd46b6473-f550-4e5a-b80f-a2f6b479b43f', '35118974-09e9-4109-8cc5-92c320aece92', '937d91f9-6b3b-4e7a-a9d2-6820d9e38c02', 'bd5894c2-0534-4799-aaf0-ff5465f189f3', '4a596bef-69e6-4899-a4a5-99cd77ecf363', '64fd9e91-ec15-455d-b5c5-435518d7a877', '1efab0db-4c6d-440d-8909-98d531070fa2', '9259f926-c573-4b6a-a781-c26149bc6ac6', '3524313b-d73a-42d7-97b1-2047fdad6110', 'cf1eb4ef-c61b-4864-b54c-e371b2b435eb', '29a2a64a-7429-46b4-b189-cb357399ec77', 'de851c7d-d75f-4ffb-9cca-410ca3ad05e8', '74df4f45-8890-44cd-985e-a243683df7ab', '071f2f6b-0397-4c7f-b5ce-ea436375d7ae', '86c9ff3f-d3ef-4639-a80c-6c2ec090c9bf', '9e123bf6-4c9c-4e4c-bca5-fed7d230a22a', '6e4c53e5-b924-4ddb-92ea-1df9d1df77cb', 'd8adee79-6f96-49ca-84e4-4ec9d6a78f22', 'f0aa1e2f-59c4-47a9-85f4-77b7c4d672f1', '5ea18652-4d0d-488e-ac70-83d18bfc66e3', 'db4f4039-a90f-4f0d-a45b-5d3ccfb171d5', 'c2b39211-ef1b-40ec-b2f3-ba817115ce20', '0f07132e-8ffb-4a0e-b07c-fed9b9e168b6', 'c2d8b559-3787-4626-9824-66a9ed47f677', '189c9dbf-fccc-4ba9-9e7f-91b3313d3175', '68078a11-d5e0-4299-81d1-7782eada2b79', '9689996d-d17c-4c65-b5f7-79ec96682c24', 'a63cb678-d8b9-426e-bcbf-6995ae7bfb83', 'cff0741d-25c1-445e-827d-fcf50a3e1224', '9509da8d-ecc7-4372-b6bc-f9706286edba', '1850be54-6db6-4185-a131-c60140baae67', 'f7fc5439-1a7c-4e47-b2c9-f02cc804f4af', 'fdd93b06-d3ae-41f0-b804-5e0fb97ade24', '09bf0fd9-bcb4-4c31-a8c4-aa15223a1c3b', '9a16439a-c469-4b51-b0a8-d165b8120e8c', 'e0f5c828-baee-4f45-a93f-56de2bb58c82', '249c836c-f3d0-4c0b-9734-ea576aa44fbf', 'fba1b669-6f0c-4616-918a-6863468027f5', '5d916909-f158-4cc9-a761-869d11d56fdb', 'bbb268fd-932d-4172-af1c-9db562f4a4e0', '2054dad5-774c-47a5-b378-465f9f27404e', 'f8837e53-67c5-411b-8b36-72493a368578', 'ee5c675e-7581-461d-b467-cbb8b88975da', '84860b0e-3a94-4248-8b29-6631b6682e57', 'de66a618-a42c-4dd5-a0c9-a0f9a2bc744d', '79db8066-0d3e-49c3-b1f4-e53a6e95beb8', '9595d8ed-fb6e-4643-ae79-d8628ce739cb', '794c4ace-a74b-47a8-bac7-5709fccdc70e', '7cc5ef75-95c5-4e03-9e20-d0cb1a110065', 'f100710a-6c52-4dbc-bf17-d76569b86882', 'dff323cb-cf73-434e-aab8-2d655d748b36', '05c0a164-b880-4b51-af80-3334b2c26689', '61d398b7-53cc-4316-8fb1-36f019028cac', '868ee078-d56d-4f80-a74a-2d933a109245', '195baa21-eb3a-447f-bc74-2fa98be3f626', 'e56d4455-6bf0-4efa-b326-3392cda6b909', 'acd72dbd-23c6-4876-975d-e4eab8b1c596', '341936e4-5f95-41df-8333-8944d4d8eae6', '6a2c47f7-fcc0-444d-91db-183629fa03b8', 'a0d0a390-a4e1-4aee-b7d2-ca4d2753e128', 'd6f006c9-6ef0-4841-84fc-f4a5f8b63498', '6320c210-f305-491e-8205-b78d42b4b88d', '7e6baaa1-5a68-4279-82b6-f2a4f1c0b2f5', 'ce08da07-b228-4f48-9df9-b951bc4018e2']\n",
      "dict_keys(['7f36ee2b-a59b-410a-8ea5-07f793f74792', 'b4954dd5-6905-44e2-9ae0-bf903303c550', 'bf810601-b1ba-49e3-a580-521ecd8d1a00', 'bbf2d389-7ad4-4c2e-bff9-f1e7de52f3ec', 'd56c5979-3bcb-4a7c-a38e-c4f03fb8c100', '9b05ebe5-9327-44e4-ad14-7a58512b6332', '08c9bf10-86cb-4749-b7c8-28ddfd6c1170', '7b64ba76-4604-45ac-9481-88f84742fa17', 'c70e33a9-c790-42ad-9694-23da0b4515e5', 'ef9c9a25-4169-415f-9704-dab2bf9e1d3d', '719be2b5-dba6-4e4f-8665-25871512a0a9', 'ab24e2cb-6d02-47b9-aa70-f59d0595cb99', '2b0c80b7-648f-4746-9d17-e95ecdc6f8eb', 'e429da38-fe40-4953-bebe-9e0690078645', '419e0c2b-f4a0-4db9-b0a4-6331cfab912d', '75daef2f-4c10-45b2-afec-d2b13b73511c', 'eedf2839-373f-4f09-afda-300101852491', 'af0320d7-8a8f-4af3-925d-32afcfcc031e', 'fde8273e-dea3-44b6-b4a8-7cb431bd7913', '9b0a3af3-2929-4103-b913-a6b5e5bcb75f', '61ebb21b-3ba9-43b0-b7f4-cfb9179c8839', '5aa2d945-ecc4-4b95-af9b-52d331e0afa5', '9c3c52dc-a531-4157-883c-804390525e74', '14d31ab0-293e-4d97-a177-e3706fc3eca6', '1e6b4bf7-2b69-493c-8552-f4edaf3052b0', 'fef3be3b-046e-4b75-b74e-d33815922df6', '1a156785-ccdd-4f95-bc7f-3d46f94d0490', 'e4c6ec4f-ed8a-4b7f-99b1-36127f8d01a8', '1fbf0bfc-6ca2-4edf-adce-a54eb7bc2761', '9941dda1-730c-41a2-a5e4-876c82551406', 'd28af9ff-5d92-4a76-a7a7-968a36e16f1b', '227b2db7-93b1-4578-b2c2-4508756121b6', '435bb2da-2f50-425d-8ceb-ccbe534873ae', '4685ff8c-98d3-45b6-8be5-d77a4c3f0a81', 'd46b6473-f550-4e5a-b80f-a2f6b479b43f', '35118974-09e9-4109-8cc5-92c320aece92', '937d91f9-6b3b-4e7a-a9d2-6820d9e38c02', 'bd5894c2-0534-4799-aaf0-ff5465f189f3', '4a596bef-69e6-4899-a4a5-99cd77ecf363', '64fd9e91-ec15-455d-b5c5-435518d7a877', '1efab0db-4c6d-440d-8909-98d531070fa2', '9259f926-c573-4b6a-a781-c26149bc6ac6', '3524313b-d73a-42d7-97b1-2047fdad6110', 'cf1eb4ef-c61b-4864-b54c-e371b2b435eb', '29a2a64a-7429-46b4-b189-cb357399ec77', 'de851c7d-d75f-4ffb-9cca-410ca3ad05e8', '74df4f45-8890-44cd-985e-a243683df7ab', '071f2f6b-0397-4c7f-b5ce-ea436375d7ae', '86c9ff3f-d3ef-4639-a80c-6c2ec090c9bf', '9e123bf6-4c9c-4e4c-bca5-fed7d230a22a', '6e4c53e5-b924-4ddb-92ea-1df9d1df77cb', 'd8adee79-6f96-49ca-84e4-4ec9d6a78f22', 'f0aa1e2f-59c4-47a9-85f4-77b7c4d672f1', '5ea18652-4d0d-488e-ac70-83d18bfc66e3', 'db4f4039-a90f-4f0d-a45b-5d3ccfb171d5', 'c2b39211-ef1b-40ec-b2f3-ba817115ce20', '0f07132e-8ffb-4a0e-b07c-fed9b9e168b6', 'c2d8b559-3787-4626-9824-66a9ed47f677', '189c9dbf-fccc-4ba9-9e7f-91b3313d3175', '68078a11-d5e0-4299-81d1-7782eada2b79', '9689996d-d17c-4c65-b5f7-79ec96682c24', 'a63cb678-d8b9-426e-bcbf-6995ae7bfb83', 'cff0741d-25c1-445e-827d-fcf50a3e1224', '9509da8d-ecc7-4372-b6bc-f9706286edba', '1850be54-6db6-4185-a131-c60140baae67', 'f7fc5439-1a7c-4e47-b2c9-f02cc804f4af', 'fdd93b06-d3ae-41f0-b804-5e0fb97ade24', '09bf0fd9-bcb4-4c31-a8c4-aa15223a1c3b', '9a16439a-c469-4b51-b0a8-d165b8120e8c', 'e0f5c828-baee-4f45-a93f-56de2bb58c82', '249c836c-f3d0-4c0b-9734-ea576aa44fbf', 'fba1b669-6f0c-4616-918a-6863468027f5', '5d916909-f158-4cc9-a761-869d11d56fdb', 'bbb268fd-932d-4172-af1c-9db562f4a4e0', '2054dad5-774c-47a5-b378-465f9f27404e', 'f8837e53-67c5-411b-8b36-72493a368578', 'ee5c675e-7581-461d-b467-cbb8b88975da', '84860b0e-3a94-4248-8b29-6631b6682e57', 'de66a618-a42c-4dd5-a0c9-a0f9a2bc744d', '79db8066-0d3e-49c3-b1f4-e53a6e95beb8', '9595d8ed-fb6e-4643-ae79-d8628ce739cb', '794c4ace-a74b-47a8-bac7-5709fccdc70e', '7cc5ef75-95c5-4e03-9e20-d0cb1a110065', 'f100710a-6c52-4dbc-bf17-d76569b86882', 'dff323cb-cf73-434e-aab8-2d655d748b36', '05c0a164-b880-4b51-af80-3334b2c26689', '61d398b7-53cc-4316-8fb1-36f019028cac', '868ee078-d56d-4f80-a74a-2d933a109245', '195baa21-eb3a-447f-bc74-2fa98be3f626', 'e56d4455-6bf0-4efa-b326-3392cda6b909', 'acd72dbd-23c6-4876-975d-e4eab8b1c596', '341936e4-5f95-41df-8333-8944d4d8eae6', '6a2c47f7-fcc0-444d-91db-183629fa03b8', 'a0d0a390-a4e1-4aee-b7d2-ca4d2753e128', 'd6f006c9-6ef0-4841-84fc-f4a5f8b63498', '6320c210-f305-491e-8205-b78d42b4b88d', '7e6baaa1-5a68-4279-82b6-f2a4f1c0b2f5', 'ce08da07-b228-4f48-9df9-b951bc4018e2'])\n",
      "point ids 98\n",
      "Removed: 98 Filled: 98\n",
      "TOOK 480.69734811782837 seconds\n",
      "***\n",
      "RUN: 1\n"
     ]
    },
    {
     "name": "stdout",
     "output_type": "stream",
     "text": [
      "Epoch 1/100\n",
      "10/10 [==============================] - 26s 3s/step - loss: 0.5345 - dice_coef: 0.1629 - val_loss: 0.6587 - val_dice_coef: 0.1217\n",
      "Epoch 2/100\n",
      "10/10 [==============================] - 12s 1s/step - loss: 0.5347 - dice_coef: 0.1619 - val_loss: 0.6486 - val_dice_coef: 0.1251\n",
      "Epoch 3/100\n",
      "10/10 [==============================] - 12s 1s/step - loss: 0.5345 - dice_coef: 0.1616 - val_loss: 0.6386 - val_dice_coef: 0.1274\n",
      "Epoch 4/100\n",
      "10/10 [==============================] - 12s 1s/step - loss: 0.5346 - dice_coef: 0.1618 - val_loss: 0.6292 - val_dice_coef: 0.1290\n",
      "Epoch 5/100\n",
      "10/10 [==============================] - 12s 1s/step - loss: 0.5344 - dice_coef: 0.1614 - val_loss: 0.6203 - val_dice_coef: 0.1302\n",
      "Epoch 6/100\n",
      "10/10 [==============================] - 12s 1s/step - loss: 0.5347 - dice_coef: 0.1621 - val_loss: 0.6121 - val_dice_coef: 0.1311\n",
      "Epoch 7/100\n",
      "10/10 [==============================] - 12s 1s/step - loss: 0.5343 - dice_coef: 0.1624 - val_loss: 0.6046 - val_dice_coef: 0.1317\n",
      "Epoch 8/100\n",
      "10/10 [==============================] - 12s 1s/step - loss: 0.5345 - dice_coef: 0.1621 - val_loss: 0.5976 - val_dice_coef: 0.1321\n",
      "Epoch 9/100\n",
      "10/10 [==============================] - 12s 1s/step - loss: 0.5344 - dice_coef: 0.1614 - val_loss: 0.5911 - val_dice_coef: 0.1324\n",
      "Model saved to: /tmp/tmpb_p8u2x6GP2/kunet2d_1kunet2d_model\n",
      "History saved to: /tmp/tmpb_p8u2x6GP2/kunet2d_history_1.pkl\n",
      "Testing the classifier...\n",
      "Testing the discriminator...\n",
      "19/19 [==============================] - 0s 19ms/step - loss: 0.0000e+00 - accuracy: 1.0000\n",
      "Found 298 machine labels.\n",
      "Machine labels [  1   3   6   8   9  11  13  14  16  17  18  19  20  26  27  31  33  34\n",
      "  36  37  39  42  44  48  49  52  54  56  58  59  63  65  68  69  72  75\n",
      "  76  77  80  82  83  84  85  86  88  89  91  92  93  97  98 101 102 104\n",
      " 109 114 118 119 120 122 123 124 127 129 131 136 139 140 141 142 143 145\n",
      " 147 149 150 152 156 157 158 160 161 162 163 164 166 167 168 173 174 175\n",
      " 176 180 181 184 188 189 190 191 198 201 203 204 205 208 209 210 211 215\n",
      " 216 217 218 219 220 221 223 226 229 231 233 240 244 245 246 248 249 251\n",
      " 252 256 259 265 266 267 269 271 274 275 280 281 282 285 287 288 289 290\n",
      " 292 294 295 299 301 304 308 311 312 315 317 319 320 322 325 327 328 330\n",
      " 331 332 334 340 343 344 347 348 349 352 356 357 361 364 365 366 369 370\n",
      " 371 373 375 376 377 378 380 385 386 387 388 389 391 392 394 395 396 397\n",
      " 400 401 404 405 406 412 413 414 416 417 418 419 421 425 430 433 434 437\n",
      " 438 439 440 442 444 446 448 449 450 452 455 456 457 459 464 465 468 469\n",
      " 471 473 475 479 480 482 483 485 487 488 492 493 495 496 498 499 500 501\n",
      " 502 505 506 507 508 509 511 513 516 518 525 526 527 528 529 530 531 534\n",
      " 535 536 540 543 545 546 550 551 554 556 557 558 559 560 561 563 575 576\n",
      " 577 580 581 582 586 589 592 594 598 599]\n",
      "D_ids ['21c8fca0-6566-4589-910a-68abff337706', '4e6a9bb7-621c-4900-ad25-06fa714664e4', 'aae5cb93-d689-41b9-8ecf-93986eb137bf', '4c67a4db-5de5-413a-b9f5-8cf9bb97bb59', 'b77817e3-4661-46f6-b0be-6751df9f956a', 'a113b4df-c3cb-4454-9e99-c01d18d6dec0', '8ab2fddf-19fb-4d9e-ad52-d858cc69afdf', '53690977-f622-436b-9c20-6b9d8ef1f090', '18131f15-9f35-4fe8-8bb5-9d2da050b465', '24a03a9c-5cb5-486e-b781-bfe1ba63fdf8', 'd94df5a8-fb1d-4c5b-b317-76c134201e0f', '98b1a5f7-a5c8-4385-8c56-171c4768725a', '79e99067-daa5-4e87-b7e3-260f86d4918f', '486eac3b-4651-42e0-be8f-a60b8b221894', 'aa08fa2e-a382-4ae5-892a-3f867e84901e', 'c19d93dc-d1ec-43ee-b433-2c9288fc7fe7', '3d0e6aaf-50fe-4827-8b07-648b4d083877', 'ba14f9ee-579c-4b4b-bd17-318596889768', '850d1524-36a0-46e7-a459-b725facb3e1d', 'a9c38098-a368-4a60-8917-1d5196ccdd42', 'f197d0a3-7dd9-4b08-9794-1feebe626f9b', '4e3c92fa-939a-4dd6-a087-cc79105a21f4', '2ac6fd20-bd81-42d3-8b78-e8442bd31ba6', '45bf4914-03ef-4c3c-9cc7-9ed1014c4c0a', '96e55446-374d-45b1-85f4-39eb4e8723be', '3dd2f392-b24c-448d-97eb-c28e028c930f', 'a925ab3f-7dd2-48ac-bbf3-cddf73c9352a', '518318bd-971c-4f8b-af6e-0a6434fff70a', 'b511d8d7-df94-40aa-91af-1d35b99f64af', '0adf4153-6f6d-4a8b-8135-b1db90c45899', 'd645aa74-c38c-4044-88f8-7dc32d46fd0c', '0449b1dc-1fa9-462d-b729-ea317999e67f', 'b8acebf5-6287-45fe-b57c-2cbb6842e6ae', 'd2a298c7-e54d-42bd-856b-4bcd60761f58', 'f99ad332-f0bd-425e-acc6-e8ffa3c37145', '356b83c1-f250-4f13-9a17-288cc7d76a9a', 'ec516dac-5927-4e7c-b4ec-28c0b3255364', '2d4545fc-87d1-435c-9e3d-8fa58590406d', 'fe2faf88-8719-4d84-b841-e93b8c90af8c', 'e8c119cb-5fc2-4988-8cf4-c5beeb9618a6', '22c3403d-672b-4c9c-b1ec-2d8e665c38fc', '93641360-7e0e-47bd-8b36-bf1dcd7ae9ff', '4b8f3664-5ccb-4156-808c-e87564326fc2', '181a48fc-4cb5-477f-9044-6f227b1da7c6', '8af53b13-c539-4d5f-b4a3-293178eca8af', 'b7aa6ee5-d92d-4bab-ac40-707d3b74a31c', 'c90e7fb0-1ef3-4e20-9619-0c0d78d63de5', '2c57a4e4-8895-4489-bc29-71f7e1c3c0ca', '119415d9-2967-45de-9a73-c3f4eabec6b1', 'b0e97ac0-e03e-41fd-8cac-0e962dee79f0', '522eeae5-0ed8-4ce3-992e-b6cfdaadbb1e', 'bb5b5015-f89e-45eb-bee6-c3e9c854e7d1', '433691fe-c67e-4f9f-9499-4cf8bab1eb88', '6b99f756-369a-4318-bae6-c1ea3a8fd9ef', 'a5680499-ad0e-498a-bb06-adb75aa34d62', '8096ff2f-de01-482e-9ea4-90e398c82f7a', 'c5e3ed01-4d6a-43dc-ae36-d1bb75f654be', '19f47c00-d303-4274-b437-d1977822e981', '54778e7f-084d-477d-a813-1dd086903744', '78af4a1f-6359-4140-946f-c06124506866', 'd9aebb3e-7457-4152-866d-5489662a7b6d', '789a4cf1-84b5-4f47-829d-26103d39b2c6', '8fea64dc-af1b-47a2-945b-2996cbb41833', '742a5943-3b4f-4b94-9366-541687a58b6a', '4a0f8330-0e85-4bc8-b2a7-94880c7d4f73', 'ebff7ca5-cb60-4db7-8e9e-baea574839bf', 'db7f6c64-2e7f-43b2-a019-cbceffb0f39f', '19247bf1-d416-4f18-a364-6630bb82afdc', '212d6368-4417-4899-b589-be5df5fadc5f', 'b9ee1495-87bb-48ea-8dbe-7a4321f411ac', '37dc989e-d57b-49b5-a974-89e90ab6f9e4', '7d768f73-fc42-4c4a-ab11-4d6387ad5895', 'bc004745-0bba-4b88-ba63-e677d6e41514', '289f2f1e-b3f9-4cae-8ae5-8c524d789bb5', '2e1abc46-577a-4add-8465-ec3526b6ae04', 'a0ff86b4-ca42-472f-86b4-0016b36317b7', 'acfb3f46-43f6-450a-9105-b0610a19f462', '375cacea-4bf9-43e1-a87d-087d98bcad75', '505cf184-2660-471e-a96e-8290af406d93', 'fb63f809-ac19-4249-a4a4-dff5b44e1805', 'ae0ec69a-2588-402c-aeac-888c3dc371bd', '67b5a720-faf5-453f-ab8e-dd30f0963762', '38ee5529-c812-47c4-8652-e6db92eb97a2', 'f02722f2-e5f7-4f98-9768-87a34597d5bd', '04fc3fb5-f574-443b-83f6-519f5e3672fd', '1f4ab0d9-5698-4cd7-835c-382d7cc754ec', 'cfaaab34-6c75-4209-b2d0-ae745eaf5042', 'b19aa3bc-f8d7-46ee-b997-1d182fb617a3', 'e8c59a7d-f31b-4b8b-8db3-d54273cfc483', '16490563-aaa4-41e8-8591-4f7ef6cfc3e3', '8e8a0218-649d-4ba3-80a9-22fc0ff167bf', '61a448de-f1a1-4268-bfb6-845054c7d4bf', '09fe1102-55f0-4ccb-80f5-8002e0011286', '50c4e9d0-c379-4f9b-b5ed-99c256b51e21', 'fe5ed100-3786-4547-b6e1-d11c968aecdf', '75293d04-8638-4cdd-b78b-f2089a2ae5ec', '41ea15dc-5111-46e5-ae9a-340306d4b018', '002a4e7b-6a65-4332-9ed7-6467da3cb14e', '23cfadc0-ee7e-47e4-860b-b18efc8627a6', 'eb4b887a-48c5-44a1-b675-f97d2551267a', 'c5b0eb5a-0bd3-44aa-8aee-8c60fa084343', '1804f0bb-be3c-4cd0-8e13-a49c3fac5f94', '9410558f-b92d-4dae-996d-02aecf4768d5', '3acb2b3a-3f2b-4859-ab8a-cdc440ae1b8f', '40a67488-2a23-46bd-a9e9-424b94886271', '03908084-7645-423f-a2cc-89d703e9012a', '4e83d702-d0d0-4fa0-a18b-91f6805e023d', 'f0f01065-19e3-4045-90d0-885bbaf5be60', '4c017940-2455-4d51-9de2-69f889fc6d4d', '877b9d28-1316-407f-9dee-ead6c3a98609', 'aeb05575-2891-45d4-beaa-13d032d85a9f', 'e6b07039-0dc9-4088-a81b-442037a66120', 'bd1127ac-4239-43e7-9d0d-93829174681d', 'b9200401-47e3-47aa-a8e5-91c63150956d', '5ac49f5f-f9e9-4eb2-b900-ea249085a047', 'ab81b657-f68a-42ab-8046-c2416a082ef0', '242235eb-9f6e-4257-925f-e43ab81bd337', '7d78afcb-1ed9-47c2-9cf5-e5a2dc3b1806', '7fa54f72-724a-46d5-bab8-94583e84efc7', '7e2f580c-ab61-40a6-a5de-360ba42527fa', '33012f01-4673-491f-8edb-04c2be337e0f', 'd8330fd6-f9af-43d0-98bf-4d6ab0a5d902', '6f3b7c2c-97ca-402e-aa7f-8266939b2c65', '7ae53f7b-863b-4f90-ad1c-d1901bb76f78', 'e4f879c9-4d6b-4ae1-b280-21901a439cca', '8cc2c14f-e6e7-4f23-86a1-76c6ebc7f16b', 'aa49bd5a-8e17-44d5-85e0-a7c341e237fe', '11bec389-74d6-4169-8b9d-19cff6a8c6e2', 'd5357745-e343-4130-997a-6e0b09ee4e1e', '76b76fea-e99a-4f13-ac22-34e423a0b36d', 'a9dc12b5-4937-4f4a-8bb8-1f74edf7b521', '120fc0e1-f2d0-4e10-a608-4e021e7a85a9', '021a7ee7-bba1-4183-9cd0-76248ff7c2d6', 'd36c95fe-f2c7-4cc0-b1ed-61253acc40f6', 'eed6e240-1c4a-4d6f-8375-f519fad70657', '90a09570-74e1-47c1-86c0-861ea82bf686', '36d66a55-55ab-4439-9e3e-6f8f2b36c4b7', '74c182bb-bff3-4a99-a4ea-92a4d80869a2', '18cc57d0-331d-4808-8f2b-77604e7f3dc5', 'bbeedcce-73d4-4442-862f-45e9d4f25663', '8cc6a354-c798-4166-9c6f-2ba22464a4f6', '28888928-d32f-4de6-9daa-e3418f4c7e67', 'a29fce73-e73a-48bc-910b-ba83db264473', '760ba89e-f398-4dd1-aee5-003a8c85aac4', '5ba6c466-f5c5-4cca-aa94-db3e7b5df832', 'f7dccbe0-b6dc-4930-9fbd-c378b31659d2', 'b18bd6c6-e76f-4b6c-a8ec-481818608719', '912eac30-dd2a-444b-81ef-d3244269da83', 'bd3af95b-28fa-4ba7-93e4-a069a0fb029e', 'b6a480ab-c65a-458d-9223-91f36a2d4879', 'b28de8eb-c768-40e4-bb4d-81b2b6777948', '2cb9751e-568e-4a7e-8768-f5028c900d25', 'ac880673-69a9-454c-85ef-7dc6e6a7bd6f', '0db2c623-81c8-43b8-bf2e-f2b4c71ae852', '0aa94f40-e1f7-41dc-982d-de8604bc45fc', '31450cef-caee-4340-a95c-79e831b4d8e6', 'c7f9ec74-64df-4912-85d9-2d5f9336cbe6', 'f444ec0f-3629-4870-9b21-21471efc4f23', 'dbe6e74f-ccc5-4ce8-9979-c746e412c400', '9e6587e4-106c-4c8f-95b0-72ca33fcef2d', '80412256-7272-4773-9e7a-259444ec7439', 'c952f03d-d35e-4008-9c30-f56af1b456a9', 'b456c0e6-1246-4068-9ade-7827c1bcffb6', 'a724b7c8-2031-4da5-967b-ed00e41bb3b7', '98945689-1bfa-4224-88ee-64568e8a26c9', 'eb1d2780-4713-4eaa-878f-599d95d1b17a', '8119dc04-cc30-42b1-a6e5-7348f84cf602', 'a183b384-9589-47be-840a-bc59388820cc', '5cb15308-1c6d-49fa-8549-7ad0e52fd844', 'd5112a7c-c329-4e1f-9846-bfc3e7a6d753', 'a53b0238-6e78-4242-b1fc-a2e983a5405d', '1fafe77e-a20b-4417-ad1e-53a3c6fd2e39', 'b1d886d7-c0d6-4811-a424-d0d349745070', 'c0d9e6aa-fc25-4647-b408-831ce1baea84', '5e4de379-1285-45c4-bbfc-d799c40b6889', '479dcd4a-9c26-4b16-9332-cdede12cf991', '286d8333-979c-4e04-a0b6-482a5afb0a73', 'd2b6f66b-06e5-4301-bf0d-5dc261a5d629', '34f86a90-c88c-4d65-ab82-47be6915d652', 'bf74cfca-b02d-426e-a7b1-493e407111a0', 'cca8eb90-8828-4d3b-9332-53e9ede4632d', '09dc3e53-071d-45ef-9150-152c50b54ecf', '97ec831d-b192-4d84-8765-facf6497d9c7', 'd13e5dda-4cf3-4825-b06a-e1485d231270', '63ec1221-53cf-4000-a1e2-b8df9bd70901', 'c0aa7d36-9392-4ea6-a14b-f401b73b8e23', 'e3824b9a-9c44-40a5-b3fe-e33c4e5e830f', 'be0c0d2d-a799-4ebe-b7a5-752fd1135a62', 'b1897090-3ffe-43f4-bed1-b3eceb566d4e', '59588b2c-c45e-4b95-9324-c089dc0f8f98', 'a150f9a5-0566-4165-8c71-df337106e0f3', 'ed37ab42-e7e9-43b1-bcc9-c20225327bcc', '80ac03cf-686f-4b9a-b9d8-92857065d886', '20e1e5bb-0cea-4ed8-bdec-bc3007f06646', '916b2c81-e908-496e-8072-87bca3e72ca4', '5de1f410-f324-42ef-b085-b1b9916d3fbb', 'fa38d282-fc77-4d8a-bcc3-01285d697d3e', '78ab96bc-d83a-4208-b6f7-cb51bf438651', '8d5e1a2d-62af-4dfe-a65d-8bae9e42cb10', '958484c9-ac33-42a9-84e2-675267f5f6c3', '5c70116d-fca2-42c1-b5cf-913bf945bad8', 'f930d7f9-cda4-4d67-bfc3-44ff26221fd4', '05ae2c85-8231-43f4-8f63-f287836cdd2b', '638f9bed-7d61-4e16-8a93-a2fcc4ecfb41', '9e98e946-5074-45a0-921a-61a6c7f6b778', 'd3cb8ea4-511b-4314-8127-2d8cbb82f645', '828fc0e5-0db8-4cb0-8ba1-b1719ffa0163', '2fd851fb-7bd2-4e85-a68b-f8110ffb2c13', '02fd1e7d-ae7e-4d79-8898-190291306afc', '00ec891f-87b7-411c-9fb8-6dde6cb7a271', 'e5d20b40-a61b-4392-a76c-35321d21cba9', '1273d2c1-51a3-404e-bb9f-209136a802f2', 'eafa27bf-db93-4a9b-b0be-0b92b52a0f6c', '65fa8a57-da9c-4f7f-b493-e2a225955b8b', '2b87dbfe-cec6-41c6-9887-41516abe5949', '494f1311-414a-468f-9256-f50c9f95fa5f', 'd3ed165e-f4ee-4210-bee0-0b7a5e3c117e', '2c4d06fd-1920-4dc8-91f0-8a5888913369', '3c54b4f9-8ba8-4a86-9564-885bb118eebb', '93ce0d49-e5a1-488a-829d-70cce1ed3408', 'bd854ac8-9d0a-4896-b297-d65f02914aac', '77c500e6-315e-4a80-ab35-75b38966781f', '45bbeb31-86b1-4ffb-abfe-d95bdece5c92', '21b018a0-1972-40b2-8144-53335266bf58', 'cce12cd7-081c-4af1-a2bb-4d2fee055ce4', '4c92a596-8a35-4d4c-8e66-383dde47f66f', '5bb9dfbd-59a9-4e74-b10d-8e7e4c6f2a77', '65ad8974-c8f1-4126-9fc7-466168f3f8fc', '7a1277b4-ec82-4f5c-9690-e925665c0933', '7252fb08-fd05-4e8c-bf90-4b2ddc8d0cfe', 'd75ff573-aac4-4720-a32e-ad499948f57c', 'ab2ad33a-fa7c-4671-ae16-4f84bbc62f0c', '42812a99-ced7-485a-8547-c086535243bf', '5d74f00f-6ec0-4cf1-998d-17141538ac40', '2f81b95c-e7e8-42e9-8262-d28ce1b55a56', '246b8197-d79b-4fee-8c0f-27ee5713eaa4', 'c877fe07-9250-4a8a-a73a-31561a10194d', '425f8dd3-1b5f-495e-9846-ba6e5532cda6', '959e4dd2-76a3-4987-86e4-4d171ac312fb', '41b63596-fb2e-4b34-9563-f9ae532ed656', '5c656bfc-b7ee-4c88-a6f4-ae9d478b8844', '2485070c-92b2-4acf-9b6b-7e6cd63aa1a2', '858a81ac-e139-47cb-9e5a-ace21ca7176a', '4a603a99-ae42-4744-b53d-53914b16f70e', '9cb66349-d035-424c-a676-d67f2888da6a', 'f79c44ca-2c17-4718-b636-9f533f968cc1', '339636ee-4af8-4951-afda-9f1a8eeb5eda', '8f3b469c-0dc8-4499-a960-365fe8e26d18', '5f7ee3a0-4f44-4683-873d-5f17abb4e878', '2fa5839b-f708-4b36-a6e6-492d2c36acfd', 'e40447e4-3972-4f2a-a55f-b5516e22288f', '1055e38b-2f30-43d1-afcb-d4678142a614', '293c9c54-033f-41dc-9f4b-fb4f6172cab9', '8e8674a9-8d97-4c4c-8179-d66526e04b70', 'f0ea0061-d72c-4918-861a-65a97c0ffe63', '1e6411fd-490c-4190-895e-4baec1b13dee', '5210c809-88e4-4812-88ac-e0563f10a592', '5ce5e89c-64ee-49f5-ac72-eec332bae189', 'f2fdfc7f-34b3-494a-b89f-d75f2a8f0128', '22ea8ee7-d528-4786-bf2f-c05416708dd4', '2c884285-3dca-47cb-a090-c74e4b0185c4', '4f48beb7-05cc-4c9f-a42b-36a749035f4a', '4cbb35e3-44b2-484d-a1d9-450ba6a6ae9e', 'f91358ae-05cc-4622-a858-b2fd6f7402d6', 'eedc9536-5a6b-4345-89e8-bf63b7627842', '330ca4d8-2526-4c7d-b2db-93aa2a5e5d8e', '78c648da-e45d-4ec2-9339-e211f5d3851e', '4fcb3315-7b3f-479b-89d4-fa0a686bea26', '964c820e-3586-4157-b381-faa9edd1caea', '8f0b0908-18ec-41b9-930d-0d73ceb22145', 'bc7e5960-d940-4481-9476-68b8c62985e1', 'a74b15e9-3e67-4090-879e-612d78e97d15', '8684795b-e183-47b0-80ae-e4179b8428e9', 'fd9c722e-88e5-4fd8-8571-7ae383486e9c', 'a519e357-55c5-4190-91d1-cfe1476b7c6d', '0f4bb71b-31f8-49de-b3e9-4ee95853d9fb', '7aff8667-6619-45fe-8a23-1f4b5f7c2c7e', '4ee922fe-811f-427b-bd27-8ef64f09d66b', '787f3ce1-7c3f-42f6-a0a9-d1cd7f624ad8', 'c6fbc14a-7975-4a1d-896d-0d43c8aebdd1', 'f6b13642-06be-4fa6-ba92-6e5a1da9d295', '0083c1ca-3551-4bbc-adf8-fdecf314a4a4', 'd0c3ad0f-b247-4feb-badc-998afed3a5b5', '9534d4b4-b55e-4cfc-b32c-5bcc773312a9', 'a4c130e5-9c32-4200-a1fa-2c5fbafc1217', '4e608322-618e-4f5d-9736-9e4db2f251cd', 'a0d09601-6ba3-4c45-abc5-521f392aa608', 'b883af0a-4c4e-42c6-abaf-9a91375390bf', '8e6874d7-7375-4fa4-8b9f-94471e3e946a', '9ada3c40-dca6-4452-85d9-36bc101bcb9b', '5000411a-3404-4b93-9551-1a90165534e1', 'c63b2995-9058-4855-9d8d-07ff74f765cd', '7e1d86a6-9912-4b6a-8627-82db26508686', '3dfd404b-b9e0-413c-920d-3f3eb49c73c2', 'c1161b8a-e34b-4e93-b24f-7ce1cee4083d', 'be8d17d8-3d86-486e-af17-4848a227bc49', '47a020c1-4553-45ff-b51e-1ba54a157e5c', 'dd7d4117-981e-4c0a-a2e9-6aeec319cdb9']\n"
     ]
    },
    {
     "name": "stdout",
     "output_type": "stream",
     "text": [
      "Replacing 99 from 298 !\n",
      "D_relabeled_ 99\n",
      "selected_ids ['181a48fc-4cb5-477f-9044-6f227b1da7c6', 'd0c3ad0f-b247-4feb-badc-998afed3a5b5', 'dd7d4117-981e-4c0a-a2e9-6aeec319cdb9', 'a74b15e9-3e67-4090-879e-612d78e97d15', 'c5b0eb5a-0bd3-44aa-8aee-8c60fa084343', 'a9c38098-a368-4a60-8917-1d5196ccdd42', '42812a99-ced7-485a-8547-c086535243bf', '9410558f-b92d-4dae-996d-02aecf4768d5', '2e1abc46-577a-4add-8465-ec3526b6ae04', 'f91358ae-05cc-4622-a858-b2fd6f7402d6', '09dc3e53-071d-45ef-9150-152c50b54ecf', '76b76fea-e99a-4f13-ac22-34e423a0b36d', '75293d04-8638-4cdd-b78b-f2089a2ae5ec', '7e2f580c-ab61-40a6-a5de-360ba42527fa', '96e55446-374d-45b1-85f4-39eb4e8723be', 'dbe6e74f-ccc5-4ce8-9979-c746e412c400', '63ec1221-53cf-4000-a1e2-b8df9bd70901', '11bec389-74d6-4169-8b9d-19cff6a8c6e2', '8684795b-e183-47b0-80ae-e4179b8428e9', '7252fb08-fd05-4e8c-bf90-4b2ddc8d0cfe', '7d78afcb-1ed9-47c2-9cf5-e5a2dc3b1806', 'aeb05575-2891-45d4-beaa-13d032d85a9f', '339636ee-4af8-4951-afda-9f1a8eeb5eda', '8af53b13-c539-4d5f-b4a3-293178eca8af', '80412256-7272-4773-9e7a-259444ec7439', '4ee922fe-811f-427b-bd27-8ef64f09d66b', '50c4e9d0-c379-4f9b-b5ed-99c256b51e21', 'c90e7fb0-1ef3-4e20-9619-0c0d78d63de5', '8cc6a354-c798-4166-9c6f-2ba22464a4f6', '8f3b469c-0dc8-4499-a960-365fe8e26d18', 'a9dc12b5-4937-4f4a-8bb8-1f74edf7b521', '5c656bfc-b7ee-4c88-a6f4-ae9d478b8844', 'd94df5a8-fb1d-4c5b-b317-76c134201e0f', 'b511d8d7-df94-40aa-91af-1d35b99f64af', '04fc3fb5-f574-443b-83f6-519f5e3672fd', 'ae0ec69a-2588-402c-aeac-888c3dc371bd', '05ae2c85-8231-43f4-8f63-f287836cdd2b', '1804f0bb-be3c-4cd0-8e13-a49c3fac5f94', '00ec891f-87b7-411c-9fb8-6dde6cb7a271', '4a0f8330-0e85-4bc8-b2a7-94880c7d4f73', 'e5d20b40-a61b-4392-a76c-35321d21cba9', '1273d2c1-51a3-404e-bb9f-209136a802f2', '18cc57d0-331d-4808-8f2b-77604e7f3dc5', 'e3824b9a-9c44-40a5-b3fe-e33c4e5e830f', '33012f01-4673-491f-8edb-04c2be337e0f', '98945689-1bfa-4224-88ee-64568e8a26c9', 'd5357745-e343-4130-997a-6e0b09ee4e1e', '37dc989e-d57b-49b5-a974-89e90ab6f9e4', '45bf4914-03ef-4c3c-9cc7-9ed1014c4c0a', '98b1a5f7-a5c8-4385-8c56-171c4768725a', '4e3c92fa-939a-4dd6-a087-cc79105a21f4', '4e83d702-d0d0-4fa0-a18b-91f6805e023d', '23cfadc0-ee7e-47e4-860b-b18efc8627a6', '3c54b4f9-8ba8-4a86-9564-885bb118eebb', '3dfd404b-b9e0-413c-920d-3f3eb49c73c2', 'eb4b887a-48c5-44a1-b675-f97d2551267a', 'a183b384-9589-47be-840a-bc59388820cc', 'eb1d2780-4713-4eaa-878f-599d95d1b17a', 'bd3af95b-28fa-4ba7-93e4-a069a0fb029e', '65ad8974-c8f1-4126-9fc7-466168f3f8fc', '1fafe77e-a20b-4417-ad1e-53a3c6fd2e39', '7e1d86a6-9912-4b6a-8627-82db26508686', '638f9bed-7d61-4e16-8a93-a2fcc4ecfb41', 'f444ec0f-3629-4870-9b21-21471efc4f23', '120fc0e1-f2d0-4e10-a608-4e021e7a85a9', '9e98e946-5074-45a0-921a-61a6c7f6b778', 'ac880673-69a9-454c-85ef-7dc6e6a7bd6f', '4c67a4db-5de5-413a-b9f5-8cf9bb97bb59', '9534d4b4-b55e-4cfc-b32c-5bcc773312a9', '77c500e6-315e-4a80-ab35-75b38966781f', '518318bd-971c-4f8b-af6e-0a6434fff70a', '67b5a720-faf5-453f-ab8e-dd30f0963762', '8f0b0908-18ec-41b9-930d-0d73ceb22145', 'b9ee1495-87bb-48ea-8dbe-7a4321f411ac', '5ac49f5f-f9e9-4eb2-b900-ea249085a047', '21b018a0-1972-40b2-8144-53335266bf58', '330ca4d8-2526-4c7d-b2db-93aa2a5e5d8e', '0aa94f40-e1f7-41dc-982d-de8604bc45fc', '5d74f00f-6ec0-4cf1-998d-17141538ac40', 'f0f01065-19e3-4045-90d0-885bbaf5be60', '5f7ee3a0-4f44-4683-873d-5f17abb4e878', '6b99f756-369a-4318-bae6-c1ea3a8fd9ef', 'f79c44ca-2c17-4718-b636-9f533f968cc1', '916b2c81-e908-496e-8072-87bca3e72ca4', '877b9d28-1316-407f-9dee-ead6c3a98609', '0adf4153-6f6d-4a8b-8135-b1db90c45899', '212d6368-4417-4899-b589-be5df5fadc5f', '246b8197-d79b-4fee-8c0f-27ee5713eaa4', 'eedc9536-5a6b-4345-89e8-bf63b7627842', '20e1e5bb-0cea-4ed8-bdec-bc3007f06646', '8e8a0218-649d-4ba3-80a9-22fc0ff167bf', 'f7dccbe0-b6dc-4930-9fbd-c378b31659d2', '22c3403d-672b-4c9c-b1ec-2d8e665c38fc', 'b19aa3bc-f8d7-46ee-b997-1d182fb617a3', 'e40447e4-3972-4f2a-a55f-b5516e22288f', '356b83c1-f250-4f13-9a17-288cc7d76a9a', 'ed37ab42-e7e9-43b1-bcc9-c20225327bcc', '4b8f3664-5ccb-4156-808c-e87564326fc2', 'c5e3ed01-4d6a-43dc-ae36-d1bb75f654be']\n",
      "dict_keys(['181a48fc-4cb5-477f-9044-6f227b1da7c6', 'd0c3ad0f-b247-4feb-badc-998afed3a5b5', 'dd7d4117-981e-4c0a-a2e9-6aeec319cdb9', 'a74b15e9-3e67-4090-879e-612d78e97d15', 'c5b0eb5a-0bd3-44aa-8aee-8c60fa084343', 'a9c38098-a368-4a60-8917-1d5196ccdd42', '42812a99-ced7-485a-8547-c086535243bf', '9410558f-b92d-4dae-996d-02aecf4768d5', '2e1abc46-577a-4add-8465-ec3526b6ae04', 'f91358ae-05cc-4622-a858-b2fd6f7402d6', '09dc3e53-071d-45ef-9150-152c50b54ecf', '76b76fea-e99a-4f13-ac22-34e423a0b36d', '75293d04-8638-4cdd-b78b-f2089a2ae5ec', '7e2f580c-ab61-40a6-a5de-360ba42527fa', '96e55446-374d-45b1-85f4-39eb4e8723be', 'dbe6e74f-ccc5-4ce8-9979-c746e412c400', '63ec1221-53cf-4000-a1e2-b8df9bd70901', '11bec389-74d6-4169-8b9d-19cff6a8c6e2', '8684795b-e183-47b0-80ae-e4179b8428e9', '7252fb08-fd05-4e8c-bf90-4b2ddc8d0cfe', '7d78afcb-1ed9-47c2-9cf5-e5a2dc3b1806', 'aeb05575-2891-45d4-beaa-13d032d85a9f', '339636ee-4af8-4951-afda-9f1a8eeb5eda', '8af53b13-c539-4d5f-b4a3-293178eca8af', '80412256-7272-4773-9e7a-259444ec7439', '4ee922fe-811f-427b-bd27-8ef64f09d66b', '50c4e9d0-c379-4f9b-b5ed-99c256b51e21', 'c90e7fb0-1ef3-4e20-9619-0c0d78d63de5', '8cc6a354-c798-4166-9c6f-2ba22464a4f6', '8f3b469c-0dc8-4499-a960-365fe8e26d18', 'a9dc12b5-4937-4f4a-8bb8-1f74edf7b521', '5c656bfc-b7ee-4c88-a6f4-ae9d478b8844', 'd94df5a8-fb1d-4c5b-b317-76c134201e0f', 'b511d8d7-df94-40aa-91af-1d35b99f64af', '04fc3fb5-f574-443b-83f6-519f5e3672fd', 'ae0ec69a-2588-402c-aeac-888c3dc371bd', '05ae2c85-8231-43f4-8f63-f287836cdd2b', '1804f0bb-be3c-4cd0-8e13-a49c3fac5f94', '00ec891f-87b7-411c-9fb8-6dde6cb7a271', '4a0f8330-0e85-4bc8-b2a7-94880c7d4f73', 'e5d20b40-a61b-4392-a76c-35321d21cba9', '1273d2c1-51a3-404e-bb9f-209136a802f2', '18cc57d0-331d-4808-8f2b-77604e7f3dc5', 'e3824b9a-9c44-40a5-b3fe-e33c4e5e830f', '33012f01-4673-491f-8edb-04c2be337e0f', '98945689-1bfa-4224-88ee-64568e8a26c9', 'd5357745-e343-4130-997a-6e0b09ee4e1e', '37dc989e-d57b-49b5-a974-89e90ab6f9e4', '45bf4914-03ef-4c3c-9cc7-9ed1014c4c0a', '98b1a5f7-a5c8-4385-8c56-171c4768725a', '4e3c92fa-939a-4dd6-a087-cc79105a21f4', '4e83d702-d0d0-4fa0-a18b-91f6805e023d', '23cfadc0-ee7e-47e4-860b-b18efc8627a6', '3c54b4f9-8ba8-4a86-9564-885bb118eebb', '3dfd404b-b9e0-413c-920d-3f3eb49c73c2', 'eb4b887a-48c5-44a1-b675-f97d2551267a', 'a183b384-9589-47be-840a-bc59388820cc', 'eb1d2780-4713-4eaa-878f-599d95d1b17a', 'bd3af95b-28fa-4ba7-93e4-a069a0fb029e', '65ad8974-c8f1-4126-9fc7-466168f3f8fc', '1fafe77e-a20b-4417-ad1e-53a3c6fd2e39', '7e1d86a6-9912-4b6a-8627-82db26508686', '638f9bed-7d61-4e16-8a93-a2fcc4ecfb41', 'f444ec0f-3629-4870-9b21-21471efc4f23', '120fc0e1-f2d0-4e10-a608-4e021e7a85a9', '9e98e946-5074-45a0-921a-61a6c7f6b778', 'ac880673-69a9-454c-85ef-7dc6e6a7bd6f', '4c67a4db-5de5-413a-b9f5-8cf9bb97bb59', '9534d4b4-b55e-4cfc-b32c-5bcc773312a9', '77c500e6-315e-4a80-ab35-75b38966781f', '518318bd-971c-4f8b-af6e-0a6434fff70a', '67b5a720-faf5-453f-ab8e-dd30f0963762', '8f0b0908-18ec-41b9-930d-0d73ceb22145', 'b9ee1495-87bb-48ea-8dbe-7a4321f411ac', '5ac49f5f-f9e9-4eb2-b900-ea249085a047', '21b018a0-1972-40b2-8144-53335266bf58', '330ca4d8-2526-4c7d-b2db-93aa2a5e5d8e', '0aa94f40-e1f7-41dc-982d-de8604bc45fc', '5d74f00f-6ec0-4cf1-998d-17141538ac40', 'f0f01065-19e3-4045-90d0-885bbaf5be60', '5f7ee3a0-4f44-4683-873d-5f17abb4e878', '6b99f756-369a-4318-bae6-c1ea3a8fd9ef', 'f79c44ca-2c17-4718-b636-9f533f968cc1', '916b2c81-e908-496e-8072-87bca3e72ca4', '877b9d28-1316-407f-9dee-ead6c3a98609', '0adf4153-6f6d-4a8b-8135-b1db90c45899', '212d6368-4417-4899-b589-be5df5fadc5f', '246b8197-d79b-4fee-8c0f-27ee5713eaa4', 'eedc9536-5a6b-4345-89e8-bf63b7627842', '20e1e5bb-0cea-4ed8-bdec-bc3007f06646', '8e8a0218-649d-4ba3-80a9-22fc0ff167bf', 'f7dccbe0-b6dc-4930-9fbd-c378b31659d2', '22c3403d-672b-4c9c-b1ec-2d8e665c38fc', 'b19aa3bc-f8d7-46ee-b997-1d182fb617a3', 'e40447e4-3972-4f2a-a55f-b5516e22288f', '356b83c1-f250-4f13-9a17-288cc7d76a9a', 'ed37ab42-e7e9-43b1-bcc9-c20225327bcc', '4b8f3664-5ccb-4156-808c-e87564326fc2', 'c5e3ed01-4d6a-43dc-ae36-d1bb75f654be'])\n",
      "point ids 99\n",
      "Removed: 99 Filled: 99\n",
      "TOOK 318.86008071899414 seconds\n",
      "***\n",
      "RUN: 2\n",
      "Epoch 1/100\n",
      "11/11 [==============================] - 48s 5s/step - loss: 0.5353 - dice_coef: 0.1615 - val_loss: 0.5847 - val_dice_coef: 0.1326\n"
     ]
    },
    {
     "name": "stdout",
     "output_type": "stream",
     "text": [
      "Epoch 2/100\n",
      "11/11 [==============================] - 13s 1s/step - loss: 0.5349 - dice_coef: 0.1618 - val_loss: 0.5789 - val_dice_coef: 0.1328\n",
      "Epoch 3/100\n",
      "11/11 [==============================] - 13s 1s/step - loss: 0.5350 - dice_coef: 0.1617 - val_loss: 0.5735 - val_dice_coef: 0.1330\n",
      "Epoch 4/100\n",
      "11/11 [==============================] - 13s 1s/step - loss: 0.5354 - dice_coef: 0.1615 - val_loss: 0.5686 - val_dice_coef: 0.1332\n",
      "Model saved to: /tmp/tmpb_p8u2x6GP2/kunet2d_2kunet2d_model\n",
      "History saved to: /tmp/tmpb_p8u2x6GP2/kunet2d_history_2.pkl\n",
      "Testing the classifier...\n",
      "Testing the discriminator...\n",
      "19/19 [==============================] - 0s 21ms/step - loss: 0.0000e+00 - accuracy: 1.0000\n",
      "Found 313 machine labels.\n",
      "Machine labels [  1   2   3   4   5   7   9  11  14  15  18  21  22  25  30  31  32  33\n",
      "  35  39  40  41  42  45  48  49  51  54  55  56  57  60  61  65  66  68\n",
      "  71  72  73  74  75  80  83  84  85  86  87  92  98 100 101 106 107 111\n",
      " 112 113 115 116 117 118 119 120 122 123 124 128 130 131 133 137 138 139\n",
      " 143 144 147 150 152 153 155 156 157 159 162 164 165 166 167 169 170 172\n",
      " 174 178 180 181 185 187 190 191 194 199 201 203 204 205 206 209 210 211\n",
      " 219 222 223 228 229 230 232 233 234 240 241 242 243 244 245 246 254 255\n",
      " 258 262 263 264 266 267 269 271 273 274 279 280 281 284 287 288 289 294\n",
      " 295 296 301 302 303 308 310 312 313 316 320 323 325 327 328 329 330 331\n",
      " 332 335 336 337 340 341 345 347 348 349 352 353 354 359 360 362 365 366\n",
      " 367 368 372 373 374 377 378 380 381 382 384 385 388 389 393 394 395 397\n",
      " 399 403 404 405 406 407 408 410 411 412 413 414 415 416 421 424 426 429\n",
      " 430 431 432 434 436 438 443 444 445 446 450 451 452 453 454 457 458 459\n",
      " 460 463 465 466 467 468 469 472 475 476 479 481 482 483 484 485 488 491\n",
      " 492 493 499 500 504 507 508 515 516 517 518 520 521 522 524 527 528 529\n",
      " 531 532 533 535 538 539 540 542 545 546 547 550 551 553 554 556 558 559\n",
      " 561 562 563 564 567 569 571 572 574 575 576 578 579 581 582 583 584 587\n",
      " 588 589 590 592 595 597 599]\n",
      "D_ids ['0a5cb5c5-fe2c-4485-a11e-45982fa50eaa', 'a9250edc-08dc-4d60-bd4e-e46250acb8fc', 'd1933ee5-cbca-43d8-a640-dfa020212265', '5c9df5f3-20b4-4e94-ae31-99abd6aee038', '75a96cad-910e-4cf6-831d-6456cd4cc62a', '1a4f7d45-986a-425b-ac44-45db8c58103b', 'cf8055b1-801d-462d-9439-708a14cefb08', '84e340d6-a95f-43c4-b8ef-16fb1a5095c6', '82010f2b-7d76-413f-bcbc-06eb2a28c5eb', '955740fd-5474-42a5-a461-872fd388d496', 'a864393b-632a-41de-888b-139f63ba47f6', '0f4bb71b-31f8-49de-b3e9-4ee95853d9fb', 'fdd31e93-d5f8-42f2-a4de-1291c2d7e0fc', '2cf340be-59cc-4225-b65a-153720301467', '7a41998b-660b-4738-a516-d8ba5fd25afb', 'd127a275-084f-4b3c-8f22-687e4e0613b8', '81611415-3f3f-4fda-8d28-4a87f2dbcd44', 'fbce549e-aac7-42af-b131-2a52ff45e46c', '4b652d5c-3704-4b45-8c6a-4a15f62c4a49', 'e6cd0a6d-30bd-4f4f-b412-0a787b17ea8f', '2734f68a-e7ef-4001-be2b-d053e01065c5', '356a7a9c-b8ba-43d0-a27a-db665d93e6a6', '8c30d53c-f899-4795-8d22-b9f63522cd41', '6e129e66-9d07-4f9c-aeaa-5716309a018c', 'a150f9a5-0566-4165-8c71-df337106e0f3', '94c4b715-088d-4047-8d32-88b0da2b3106', 'cfe5cdb7-71b5-44d7-a93d-be4dc7d8a9f0', 'b97477b8-e1e6-4b93-8c1d-c67af0865041', '80e2a650-d650-4f45-bcab-3caf35ced70f', '9cafde2f-65fa-46fb-9c8b-8542661778be', 'aac26679-226a-4627-bb3c-a04729826f9a', 'dcb775a3-2f84-467d-9c80-53811068bad4', '90f03af7-980b-4716-a312-a58df22d9177', '06b7da2e-5677-40cc-aeb9-8f8a74a81f89', '2e7eccff-34fe-4bfe-9b78-736f8a162959', '8a277d08-4be1-4f03-99dc-a2ed57e209a9', 'db63b390-3021-41aa-8b17-f41ac9e73496', '94cc3d6d-d23b-4446-961a-760287570ce5', '71e464eb-015e-42fc-b811-7cf83654b980', 'b0293d22-166b-41e4-bdc4-4fed75fd978a', '085e67bd-9968-459f-ae82-dccb0ec36153', '86ac62f6-f755-4d1b-97ae-5b676b2f349b', '137d868e-b8b8-4f73-a73f-44ca83119eb4', '766dfa6c-9442-486e-8b81-64216758bdbd', '1e6411fd-490c-4190-895e-4baec1b13dee', 'a7caaed2-7bde-4504-b259-123e836595ef', '7c98d2a8-2cdf-4083-8b85-53c0193d282f', '1b3de295-a5e3-42ef-8efd-7ffd8a689fca', '3bc4ab3d-42c5-4234-adb2-f4b341f671ac', '47dd0bf2-a506-4cb4-8420-cd97e7088ed5', 'f0288141-f4da-414c-8fbe-d9656176aa97', '29100f53-d861-4e45-a224-110ca23efe94', 'd5ad223c-7a7b-4030-926c-8a017d51891c', 'dd676031-4b6c-4faf-a787-ef5b9bf29d61', 'c3d68427-523f-4e36-b640-3716ffb4de17', '3ef1b5a4-9755-4533-8e7a-bc95ed7f31ca', '8d99a6e8-3949-47d1-9d0b-2086f280e71f', 'aca83205-ef83-4aae-bf29-07b3625128e8', '5daaf898-ce50-4df6-9bf1-3ccf7526aca8', '613a33bf-5196-4a59-a652-a6e949852000', '505fb1cf-aa80-49ba-b232-6e76aaf64545', '8d84eea3-1162-4c8a-a681-e282b51d20d0', '59ef7a0f-0435-4be3-97a0-d3420d857686', 'fff0e76b-75da-474d-b2c7-e5875f36fa45', '964d11d7-2db0-4626-8126-5c5af7f86979', '8c785d23-2d78-4cbe-9831-714cec4217e5', 'a835f37c-ac49-412f-a8bf-2916a9386f9f', '421061dd-15d5-441b-b073-51baf53ef7a2', '89b1d27d-ac92-4fff-91a4-eea84c658092', 'a62bea8e-58b0-48db-b67f-629fff0893d1', 'a08f67d2-3139-4b43-b26e-3282c661e960', '81123cf8-3924-4b2b-b05f-487ff6aeadc8', '90657745-207d-4d61-8ddc-a27ad97c92b0', '1a60dffa-66af-4698-85f2-19d78725fb62', '6ec5ff78-aa84-458b-b41c-e812de47eb36', '0e380648-c07f-4257-86a1-760576bbc504', 'bf74cfca-b02d-426e-a7b1-493e407111a0', '1d9eb10d-01de-45bd-8e9c-74dcf0a5e720', '0a746bbd-485b-470f-af30-80ad0d2ab243', '593b08eb-c5a1-4a18-ab05-bc3b3a48b905', '95960e1c-04d7-4899-a5db-c08a3430d870', '75cf6d38-0020-436b-910f-84488e40e08f', '7662bb3b-6d17-44de-8949-f0cf49cad97e', '6070a85e-b325-4256-8c7f-20178f10c234', 'db08e530-b8b5-4931-9a06-be673ea300d3', 'a99f744b-3509-48d7-8837-bae0fee9716f', 'ab1c8cc3-5d5a-4b3a-847e-b8b7531fe668', '1978718c-f2ff-4e69-b786-3e8d801ecaf1', '7db98c69-c112-4680-bad9-69d01484bd5d', '94d61174-814a-416a-a84b-05bd2a033687', 'c15be09c-4180-4e67-8b98-e4b4da39128c', '9100c9a8-780c-4b9a-a9a3-6ab9c98d802e', '454b3c67-d006-4016-938f-8fdc05b2af28', '9ff74920-3b95-4128-b2b5-d65e8483cd4f', '50b0f78e-2d57-4e38-b2ff-b7f8f43e3a37', '36bbf66f-b2fa-4a08-a9ce-922c9f4c5c57', '5ce46a3c-db1d-40e4-aaca-c43420716c6c', '956ea5c5-3c53-4441-8002-0cbfdd8d9141', '5fa3ae98-822c-4c4c-9161-7a8c35b87c71', '3d2a1529-27e5-4379-bae2-30e9038ebffa', 'afb0c6f9-2beb-41db-837b-6488e6218e5c', 'cb26c713-5c89-4c49-894c-7ac6fde9c2c3', 'd842148f-b345-49c4-9e11-f9f11d143e3a', '04345d65-06a6-4f9a-9f4a-b1d1af89752f', '9f8c438e-c83e-4a5b-a507-3fb9e380fd74', '4836aed6-a56a-4eca-b099-e567ba66f3cb', '64de3c6d-fa6e-4ea1-8f0c-259d27053e15', 'bfac8a35-11c7-4f46-9c16-1b0a6a122f94', 'dbce2dba-246b-4063-9ac6-5adfa33060ae', '6e9d2697-0816-4698-aac4-b4fbc6c10dd8', '14aaa09c-1bb4-47ef-915f-34c2f03cb2c2', 'e18fef08-eb0e-42e5-b279-cf0c3939ce7b', '8061ec05-72d9-40c4-8e4f-41d470424ef3', '568d9de8-c0cb-48e3-bbe4-a6153d813341', 'd14dce44-6b1e-494c-9367-bd4c7c4c76d1', 'f8c7765d-5e4d-4558-a2f9-c63b9da3c68c', '3522f5b3-d26b-4424-bf14-5f300f358ce8', '0aac1bbd-1d46-419a-9921-af9d7c81c543', '47e39221-8811-4869-a588-67d622abfce6', '04a90dd4-25ec-4275-8641-96e4a21b2f11', 'ec419f45-5c15-4a1c-932a-29f663054669', 'fdce21e8-5941-47f8-a74b-3b89e033315b', '545dd376-ec4e-4dbb-866a-0cd97b43e53d', '37309236-5b3e-4be4-87f8-9c9ec13fc65b', 'a1aeb26b-83bc-4532-9987-0a16adfa118f', '3b28ba7a-dcc9-40a2-8ed0-68082352d963', '3034bf89-98c5-4710-b1b7-eb74c4ae506a', 'd35f6f92-a41c-4b69-9987-7810d576b5e1', '8076aef3-c0ca-4e3c-9b27-f6acc5b907d6', '61e074a2-d19a-4b3a-a6b7-d1d947a2f047', '9c26401f-c145-4776-b423-cf9a38bf1690', '411a1f0a-d1cd-4f62-b75b-0a4c1dc5bdb5', 'c24e34fe-4fb4-4ee8-93ee-e87a91c802ec', 'e8dce74a-4f50-4157-a38c-d7a4485fe9b2', '8490ac10-0073-4bf6-82b2-4bb7661d380d', 'eb58be24-7969-4b99-b509-60e48cdc1668', '958484c9-ac33-42a9-84e2-675267f5f6c3', '1239bec2-d915-4755-96b5-e503dbdd0b75', '2aedec86-8041-475a-9491-ee0f05d57ad0', 'a293122c-db50-48c3-90a0-c6b2ca92da8c', 'a93b0812-0e53-432d-aeae-7373571792d5', 'f20a3225-0133-49f1-be48-44b268c57527', '7e0f3259-a0a0-4ace-8eb8-95c321ab45dd', 'df2d0669-42c0-4711-a272-07bf838c7533', '5b2c13dc-74cc-4de3-84df-7712dd87da75', '2cb2fda8-d0cb-4019-9e98-755c818388bd', 'b1d886d7-c0d6-4811-a424-d0d349745070', '425f8dd3-1b5f-495e-9846-ba6e5532cda6', '6de3274d-538f-4748-8f54-2a169f1479f8', 'a31e5c9f-90b4-41bb-ac84-928752a8b809', '4e7e96d1-098a-49b8-aab9-58bb41d50fe6', '92643e72-527b-48aa-be71-4888cd9fa18b', '1cfa1396-82a8-4471-9fe6-31ca10b4b99e', '682e848d-7822-447a-bf1e-07e5c4caa563', '165b6a4a-8949-4524-b16c-8e7bb3cf5645', 'ede7e6c2-cc6e-4ede-b0ce-2767fb76ae8c', 'fed6a7a6-69e8-44b4-916e-cb4991f4b53f', 'eb122886-fe04-4c40-b91c-2d5aa2bd6bf8', '7ec81ff2-4ad8-4809-8f96-43d1f1c03338', 'a8e53677-4419-4c9b-96b0-c08514900f3f', '9c132430-11e4-4139-a4c3-92cf4a24ab05', '79e7cb1b-60f2-4669-a5a1-501ecf6befc3', '5e4de379-1285-45c4-bbfc-d799c40b6889', '8d4d54b6-20fe-40f9-8018-11e3b957db33', '5210c809-88e4-4812-88ac-e0563f10a592', '3f362562-0775-4360-809b-ce0c71ab2999', '692bd1c5-eb5d-4ad0-afab-6588e2f96844', 'f0ee265d-fce6-4bca-81b0-b196ca212a95', 'ddf6e8c1-60f8-4df3-85e0-f397e5849368', '0d333592-ad79-465a-8c55-c1d56f135b5d', 'e82eb2f9-7de5-4845-ab84-cc99fb366512', 'be2763b9-3a58-4c73-938d-29d0f0ad703a', '88df2baf-a4f6-44fc-b25b-4e5178cc56a8', '11f2d2ce-60a7-4a78-b100-db04df229a81', 'd2dd4513-ea2c-432f-a556-bcd7c6c73156', 'dc9b07d5-1e23-4391-86e9-f2e822e64eba', 'c0a0e91d-c3e9-4573-89df-5dd665889d17', '361fee0b-9545-45da-bd56-4d3876b5a364', 'b75f2bd8-63d8-4a6b-b782-b4e40208e716', 'ff7c4507-d5db-42a7-a3af-61a7d88caf22', 'd4a364ca-9e2e-4aab-8b1e-9cc61f999aff', 'c4a12e7c-0339-4ea2-9a78-854301452c80', '57e4be71-13c5-43a8-a289-c89446cdd7ff', 'b24221cd-629c-4f93-b07f-77995712801e', 'a7fdca97-5e42-4fb6-80ec-dec2a1206c21', '053865d7-4bfa-4a73-9f28-bcb7d8b01758', 'fe24084e-3b1e-41c9-b556-73356bec5151', 'e0fb9951-fbe6-4583-99d2-51db7be454be', 'bb0e2fc8-f339-4c9d-978d-6393b931587c', '7873339f-9d88-4ec6-bf8e-e72be0e43fa5', '742a5943-3b4f-4b94-9366-541687a58b6a', 'ad08b09b-e3c9-4778-8314-6edae20cae15', '32291f44-df34-43c7-aa8c-f62c3a969d06', 'ba370900-e2bd-4ecf-8018-0090468f57ca', '02625868-5bd3-4b25-99b1-8d9d086934dd', '13340f53-c0e3-42b1-b18d-52311eb61695', '839a4ae8-0652-4b49-b441-43e3b7b1dda9', '2485070c-92b2-4acf-9b6b-7e6cd63aa1a2', 'db8d7c32-616e-4c08-91b9-465f6c40ce5e', '0b41b810-908a-4eed-9cea-261b73c795e0', 'd220186b-6bcb-43e7-89b5-0e5a469170c1', '80e8a6ef-b680-4247-8ec1-0c9f9dcf1a97', '12e74743-0145-4d7d-89ef-011bb85cffcf', '8cc18287-fdd5-4064-8170-e8e3c8461eb4', '1c297f15-6a63-4ffc-b6b9-9cb4c918f80b', '47180259-6ee3-4721-86e6-58d7093017ae', '2f545b25-e919-4a4d-82d0-c207c630dc7e', 'a67e48d3-83fc-45a7-9f87-4a68f04a25e4', '16ba1217-d759-45ff-baf7-eb620bbe62e7', '8313bcb0-a071-4ec0-a3d6-d85ed92fa2d1', 'd2bea889-38cc-434f-a456-f16bfab677d8', '6e5ed676-4492-4d0b-a377-ba07dd6aeaee', 'e8609a2b-7b5d-4081-ad9c-bf3c6231c273', '7f248bde-d81d-404a-9def-56c303c67c84', '418c1e9d-2e42-467f-8980-3885b49e2f6a', '3c07c274-bfa7-48ca-99c4-a333c8115a58', 'c6cbea2e-357a-4da3-a7fd-fbd93021d404', '74afcd85-b0f1-456f-94d4-565bc74b6cf2', '88299f20-aa7e-4b05-a206-4445e82d9119', '06b30369-7b9b-4495-ab09-eb377263c408', '1e1d29d6-1f9c-475c-8996-d66824057c1b', '1f6cfe05-01c3-490c-a8bb-4a2c06d8f6d8', '72438ff6-c16b-448f-8482-413090f4d1e7', '056e9d0a-1b90-4268-afe1-ca49ae68b8e4', '063d6d51-6d7d-441b-a222-fb4a8b2be823', 'bcb64f48-404a-41d2-a6fc-1b44cee4464f', '83710b76-f384-4bfb-b017-bb3becf645c8', 'b899ac7f-984c-463b-b884-90cf81d740a5', '974b8663-cdb7-4679-b6da-84b70d8c5b9e', '7ef6a247-865d-48e7-8241-aa9bb16b46a8', '5801e516-bd08-49a3-8b13-e7b6dcadeef1', '49f7c607-8623-4f4b-bc80-b43bba7e0508', '0acfebba-6faf-4ed3-b4be-6fe14b0762aa', 'd7069bd2-045a-4ce6-bd68-b669d9429437', '7fbb1424-584f-4180-b106-6c03c73a9fa3', 'fc5cfffa-1b05-4aaf-b882-f9271c919a19', 'f7264cda-b001-4ee6-9a42-79a8b03dfb73', 'c90b5779-1cf0-49a7-be8b-b47edc9a4ace', 'd128557b-8c5b-40e8-94fa-617914b48de5', 'dbff9792-f36a-43a6-b47e-93b110a6f4d0', '962867fe-3426-4b8a-8fc9-c580d8e189d2', '41f87dac-4136-4d52-b0d6-7b7f3386df1e', '676a6289-4d3c-4ee3-b096-8b45829513da', 'b42ed798-78b1-4f84-9dba-31daf958d2eb', '2dfb6b9d-afd4-4741-aad7-96578c5b8c61', 'de1eafd4-2f16-4499-b3a4-377d6b1dd72c', '6d843107-547d-4b4c-9e19-491900d5f5b8', '09341652-45bf-4b55-bf18-848448878a8b', 'abd1b243-7ba1-4d72-95aa-c68b3545f0c7', '712b9d45-3e53-4c26-9350-1868aa91aaa2', '139665ff-8d6e-4284-b6b9-fec43afb34eb', '91252765-2393-47e2-bf27-750e44d26e62', 'd7ea1853-5542-47a2-a99c-6ab025813586', '62b42093-5a66-4ba8-b6f7-ba1d90e9192a', '00d5d878-47c8-4c1d-9682-5510c8365cfc', '0ddcae9c-6d0d-4456-85ae-374f3e10b97d', '3588c4d4-ac1a-49e5-9879-8ec0cdb0f8a4', 'df54bf7f-a02f-4874-9a7d-504087e38641', '83b52f22-271e-4ca5-94b4-80188050863a', '202f8e3d-4df4-4c07-a2b1-053298a43466', '76532bb6-285f-4c52-9fdd-742674882851', 'f20ac1ab-dd30-45a4-90cc-b7d081653b35', 'b6a480ab-c65a-458d-9223-91f36a2d4879', '3d6397bc-d1a2-4e9e-b4c0-a23bf2d1e702', '4647eb5b-b7b4-42c6-b64a-3fde4d760ffd', 'a2147789-bb07-4f7b-9630-aba4e39e603a', '4b704d78-60c1-40cc-aeab-1d386af854f3', 'eeecc610-32d7-4c84-a868-907e356ac956', 'fa7542ff-5d0c-4682-9883-712b38d52c01', '6d32670c-3149-44c0-83cb-22b566001ff0', '79e99067-daa5-4e87-b7e3-260f86d4918f', 'c8ab1807-da49-4b11-bf3a-28db4329f6da', '23538fa4-5ade-4dee-9d92-55add80bd38d', 'ded79bb0-96a5-4309-bafc-10abc6696db0', '330fb2f6-2858-4594-ba7f-ab1cd41661f5', '1d31d316-1b5b-450a-9eee-652597903884', '841c02d7-c6b5-4a04-9238-83704e316727', '14ea1809-5df9-421e-acf8-9a92c6aa8886', '4003f9fb-69ed-4fa3-b26c-476cea63763a', '90b8cde4-0fae-4c23-8768-7c9a5cb19222', '1e644c03-0248-487b-b293-ccec5b7b3256', 'f197d0a3-7dd9-4b08-9794-1feebe626f9b', 'c57d843f-d039-49d6-837d-8eff7b176931', 'f0681c0a-7a6b-486d-89a4-4bc2a88a4080', 'fe3011e6-560d-4ff9-963c-ab3df83987fb', '92fb0882-f185-44cb-8bb5-a532c97002f8', '6854ab8d-fc1d-43e5-9aeb-c15184535301', '21b7b695-d779-45ae-9825-03f42f232122', '3d151b0d-bfd1-4c26-9900-8c90c45800c0', 'b077be31-a111-44dc-b0b9-f62138098f79', 'daabd2f2-e56d-4706-a543-b61efc7f35dd', 'ce2804fb-f4a6-4779-8ad9-69de0c9e0e6c', '47a020c1-4553-45ff-b51e-1ba54a157e5c', 'b27e1ce8-431d-4b0e-afbc-f640dbcb397e', '59588b2c-c45e-4b95-9324-c089dc0f8f98', '609c38e7-a7cb-4e9d-ae69-f1e355adecae', 'e09338f6-481f-40a4-b5f0-e31c67b68e0c', '39c3296f-8d12-45be-86a5-51edee8ab7d1', '38775d55-63be-4be2-a0c0-ded71d314aab', '8875228a-0cda-46a0-997e-65f0c046d2a6', '5ce5e89c-64ee-49f5-ac72-eec332bae189', '37e1332c-76b2-4e4b-b1da-ddf413eda510', '95172f7c-e697-4886-949b-4e8063e72d84', '7fb98da5-253e-48a7-a063-f22dd9f0e288', '3d17be6c-f72a-4595-ba5e-a4df8e5bcf29', 'daad9dbb-0db4-4f4d-81c9-8581713c2595', '92b662ff-985b-43ef-b318-fee5a955fd8a', 'e883ddad-38c6-4120-9cc7-f5be138b3575', '5b2dbd0a-a770-44ed-ac71-7515bb3068bf', 'c977026a-c8a9-40d5-b6b6-2fd7e0787ea0', '29fb5a2e-9851-4468-988f-42a5a3fa8179', '1ac62d0b-4002-4d33-9d6b-ea3590b38ad1', '29553780-5455-447d-8827-b019a8784ca7']\n"
     ]
    },
    {
     "name": "stdout",
     "output_type": "stream",
     "text": [
      "Replacing 104 from 313 !\n",
      "D_relabeled_ 104\n",
      "selected_ids ['5801e516-bd08-49a3-8b13-e7b6dcadeef1', 'fc5cfffa-1b05-4aaf-b882-f9271c919a19', '47180259-6ee3-4721-86e6-58d7093017ae', '8076aef3-c0ca-4e3c-9b27-f6acc5b907d6', 'cf8055b1-801d-462d-9439-708a14cefb08', 'ba370900-e2bd-4ecf-8018-0090468f57ca', '90657745-207d-4d61-8ddc-a27ad97c92b0', '1d9eb10d-01de-45bd-8e9c-74dcf0a5e720', 'b899ac7f-984c-463b-b884-90cf81d740a5', 'dcb775a3-2f84-467d-9c80-53811068bad4', '6d32670c-3149-44c0-83cb-22b566001ff0', '454b3c67-d006-4016-938f-8fdc05b2af28', '1b3de295-a5e3-42ef-8efd-7ffd8a689fca', '71e464eb-015e-42fc-b811-7cf83654b980', 'f0ee265d-fce6-4bca-81b0-b196ca212a95', '545dd376-ec4e-4dbb-866a-0cd97b43e53d', 'cfe5cdb7-71b5-44d7-a93d-be4dc7d8a9f0', 'f197d0a3-7dd9-4b08-9794-1feebe626f9b', '7e0f3259-a0a0-4ace-8eb8-95c321ab45dd', '609c38e7-a7cb-4e9d-ae69-f1e355adecae', 'c15be09c-4180-4e67-8b98-e4b4da39128c', '7c98d2a8-2cdf-4083-8b85-53c0193d282f', '974b8663-cdb7-4679-b6da-84b70d8c5b9e', '89b1d27d-ac92-4fff-91a4-eea84c658092', 'a864393b-632a-41de-888b-139f63ba47f6', 'fed6a7a6-69e8-44b4-916e-cb4991f4b53f', '9cafde2f-65fa-46fb-9c8b-8542661778be', '411a1f0a-d1cd-4f62-b75b-0a4c1dc5bdb5', 'd1933ee5-cbca-43d8-a640-dfa020212265', 'e82eb2f9-7de5-4845-ab84-cc99fb366512', 'bfac8a35-11c7-4f46-9c16-1b0a6a122f94', '8cc18287-fdd5-4064-8170-e8e3c8461eb4', 'ad08b09b-e3c9-4778-8314-6edae20cae15', 'c24e34fe-4fb4-4ee8-93ee-e87a91c802ec', '72438ff6-c16b-448f-8482-413090f4d1e7', '6e5ed676-4492-4d0b-a377-ba07dd6aeaee', '4b652d5c-3704-4b45-8c6a-4a15f62c4a49', 'abd1b243-7ba1-4d72-95aa-c68b3545f0c7', '84e340d6-a95f-43c4-b8ef-16fb1a5095c6', 'c977026a-c8a9-40d5-b6b6-2fd7e0787ea0', '053865d7-4bfa-4a73-9f28-bcb7d8b01758', 'fbce549e-aac7-42af-b131-2a52ff45e46c', 'ede7e6c2-cc6e-4ede-b0ce-2767fb76ae8c', '1f6cfe05-01c3-490c-a8bb-4a2c06d8f6d8', 'c4a12e7c-0339-4ea2-9a78-854301452c80', '09341652-45bf-4b55-bf18-848448878a8b', '82010f2b-7d76-413f-bcbc-06eb2a28c5eb', '8d4d54b6-20fe-40f9-8018-11e3b957db33', '6854ab8d-fc1d-43e5-9aeb-c15184535301', 'b1d886d7-c0d6-4811-a424-d0d349745070', '50b0f78e-2d57-4e38-b2ff-b7f8f43e3a37', '39c3296f-8d12-45be-86a5-51edee8ab7d1', 'a67e48d3-83fc-45a7-9f87-4a68f04a25e4', '21b7b695-d779-45ae-9825-03f42f232122', 'c3d68427-523f-4e36-b640-3716ffb4de17', '4647eb5b-b7b4-42c6-b64a-3fde4d760ffd', '956ea5c5-3c53-4441-8002-0cbfdd8d9141', '2dfb6b9d-afd4-4741-aad7-96578c5b8c61', '6070a85e-b325-4256-8c7f-20178f10c234', 'ce2804fb-f4a6-4779-8ad9-69de0c9e0e6c', 'b24221cd-629c-4f93-b07f-77995712801e', 'df2d0669-42c0-4711-a272-07bf838c7533', '5b2c13dc-74cc-4de3-84df-7712dd87da75', '06b30369-7b9b-4495-ab09-eb377263c408', '0b41b810-908a-4eed-9cea-261b73c795e0', 'b27e1ce8-431d-4b0e-afbc-f640dbcb397e', 'b97477b8-e1e6-4b93-8c1d-c67af0865041', '3588c4d4-ac1a-49e5-9879-8ec0cdb0f8a4', '6d843107-547d-4b4c-9e19-491900d5f5b8', '9c132430-11e4-4139-a4c3-92cf4a24ab05', 'd220186b-6bcb-43e7-89b5-0e5a469170c1', '0a746bbd-485b-470f-af30-80ad0d2ab243', '962867fe-3426-4b8a-8fc9-c580d8e189d2', '62b42093-5a66-4ba8-b6f7-ba1d90e9192a', '9100c9a8-780c-4b9a-a9a3-6ab9c98d802e', '1e644c03-0248-487b-b293-ccec5b7b3256', 'db08e530-b8b5-4931-9a06-be673ea300d3', 'bcb64f48-404a-41d2-a6fc-1b44cee4464f', '3b28ba7a-dcc9-40a2-8ed0-68082352d963', '94d61174-814a-416a-a84b-05bd2a033687', 'c57d843f-d039-49d6-837d-8eff7b176931', 'ab1c8cc3-5d5a-4b3a-847e-b8b7531fe668', 'ec419f45-5c15-4a1c-932a-29f663054669', '5e4de379-1285-45c4-bbfc-d799c40b6889', 'a08f67d2-3139-4b43-b26e-3282c661e960', '8313bcb0-a071-4ec0-a3d6-d85ed92fa2d1', '1c297f15-6a63-4ffc-b6b9-9cb4c918f80b', 'dbff9792-f36a-43a6-b47e-93b110a6f4d0', '81123cf8-3924-4b2b-b05f-487ff6aeadc8', '90b8cde4-0fae-4c23-8768-7c9a5cb19222', '5ce5e89c-64ee-49f5-ac72-eec332bae189', 'daad9dbb-0db4-4f4d-81c9-8581713c2595', '8d99a6e8-3949-47d1-9d0b-2086f280e71f', '37e1332c-76b2-4e4b-b1da-ddf413eda510', '76532bb6-285f-4c52-9fdd-742674882851', '80e2a650-d650-4f45-bcab-3caf35ced70f', '88299f20-aa7e-4b05-a206-4445e82d9119', '9c26401f-c145-4776-b423-cf9a38bf1690', '3d6397bc-d1a2-4e9e-b4c0-a23bf2d1e702', '7662bb3b-6d17-44de-8949-f0cf49cad97e', '3034bf89-98c5-4710-b1b7-eb74c4ae506a', 'e18fef08-eb0e-42e5-b279-cf0c3939ce7b', '1a60dffa-66af-4698-85f2-19d78725fb62', 'aca83205-ef83-4aae-bf29-07b3625128e8']\n",
      "dict_keys(['5801e516-bd08-49a3-8b13-e7b6dcadeef1', 'fc5cfffa-1b05-4aaf-b882-f9271c919a19', '47180259-6ee3-4721-86e6-58d7093017ae', '8076aef3-c0ca-4e3c-9b27-f6acc5b907d6', 'cf8055b1-801d-462d-9439-708a14cefb08', 'ba370900-e2bd-4ecf-8018-0090468f57ca', '90657745-207d-4d61-8ddc-a27ad97c92b0', '1d9eb10d-01de-45bd-8e9c-74dcf0a5e720', 'b899ac7f-984c-463b-b884-90cf81d740a5', 'dcb775a3-2f84-467d-9c80-53811068bad4', '6d32670c-3149-44c0-83cb-22b566001ff0', '454b3c67-d006-4016-938f-8fdc05b2af28', '1b3de295-a5e3-42ef-8efd-7ffd8a689fca', '71e464eb-015e-42fc-b811-7cf83654b980', 'f0ee265d-fce6-4bca-81b0-b196ca212a95', '545dd376-ec4e-4dbb-866a-0cd97b43e53d', 'cfe5cdb7-71b5-44d7-a93d-be4dc7d8a9f0', 'f197d0a3-7dd9-4b08-9794-1feebe626f9b', '7e0f3259-a0a0-4ace-8eb8-95c321ab45dd', '609c38e7-a7cb-4e9d-ae69-f1e355adecae', 'c15be09c-4180-4e67-8b98-e4b4da39128c', '7c98d2a8-2cdf-4083-8b85-53c0193d282f', '974b8663-cdb7-4679-b6da-84b70d8c5b9e', '89b1d27d-ac92-4fff-91a4-eea84c658092', 'a864393b-632a-41de-888b-139f63ba47f6', 'fed6a7a6-69e8-44b4-916e-cb4991f4b53f', '9cafde2f-65fa-46fb-9c8b-8542661778be', '411a1f0a-d1cd-4f62-b75b-0a4c1dc5bdb5', 'd1933ee5-cbca-43d8-a640-dfa020212265', 'e82eb2f9-7de5-4845-ab84-cc99fb366512', 'bfac8a35-11c7-4f46-9c16-1b0a6a122f94', '8cc18287-fdd5-4064-8170-e8e3c8461eb4', 'ad08b09b-e3c9-4778-8314-6edae20cae15', 'c24e34fe-4fb4-4ee8-93ee-e87a91c802ec', '72438ff6-c16b-448f-8482-413090f4d1e7', '6e5ed676-4492-4d0b-a377-ba07dd6aeaee', '4b652d5c-3704-4b45-8c6a-4a15f62c4a49', 'abd1b243-7ba1-4d72-95aa-c68b3545f0c7', '84e340d6-a95f-43c4-b8ef-16fb1a5095c6', 'c977026a-c8a9-40d5-b6b6-2fd7e0787ea0', '053865d7-4bfa-4a73-9f28-bcb7d8b01758', 'fbce549e-aac7-42af-b131-2a52ff45e46c', 'ede7e6c2-cc6e-4ede-b0ce-2767fb76ae8c', '1f6cfe05-01c3-490c-a8bb-4a2c06d8f6d8', 'c4a12e7c-0339-4ea2-9a78-854301452c80', '09341652-45bf-4b55-bf18-848448878a8b', '82010f2b-7d76-413f-bcbc-06eb2a28c5eb', '8d4d54b6-20fe-40f9-8018-11e3b957db33', '6854ab8d-fc1d-43e5-9aeb-c15184535301', 'b1d886d7-c0d6-4811-a424-d0d349745070', '50b0f78e-2d57-4e38-b2ff-b7f8f43e3a37', '39c3296f-8d12-45be-86a5-51edee8ab7d1', 'a67e48d3-83fc-45a7-9f87-4a68f04a25e4', '21b7b695-d779-45ae-9825-03f42f232122', 'c3d68427-523f-4e36-b640-3716ffb4de17', '4647eb5b-b7b4-42c6-b64a-3fde4d760ffd', '956ea5c5-3c53-4441-8002-0cbfdd8d9141', '2dfb6b9d-afd4-4741-aad7-96578c5b8c61', '6070a85e-b325-4256-8c7f-20178f10c234', 'ce2804fb-f4a6-4779-8ad9-69de0c9e0e6c', 'b24221cd-629c-4f93-b07f-77995712801e', 'df2d0669-42c0-4711-a272-07bf838c7533', '5b2c13dc-74cc-4de3-84df-7712dd87da75', '06b30369-7b9b-4495-ab09-eb377263c408', '0b41b810-908a-4eed-9cea-261b73c795e0', 'b27e1ce8-431d-4b0e-afbc-f640dbcb397e', 'b97477b8-e1e6-4b93-8c1d-c67af0865041', '3588c4d4-ac1a-49e5-9879-8ec0cdb0f8a4', '6d843107-547d-4b4c-9e19-491900d5f5b8', '9c132430-11e4-4139-a4c3-92cf4a24ab05', 'd220186b-6bcb-43e7-89b5-0e5a469170c1', '0a746bbd-485b-470f-af30-80ad0d2ab243', '962867fe-3426-4b8a-8fc9-c580d8e189d2', '62b42093-5a66-4ba8-b6f7-ba1d90e9192a', '9100c9a8-780c-4b9a-a9a3-6ab9c98d802e', '1e644c03-0248-487b-b293-ccec5b7b3256', 'db08e530-b8b5-4931-9a06-be673ea300d3', 'bcb64f48-404a-41d2-a6fc-1b44cee4464f', '3b28ba7a-dcc9-40a2-8ed0-68082352d963', '94d61174-814a-416a-a84b-05bd2a033687', 'c57d843f-d039-49d6-837d-8eff7b176931', 'ab1c8cc3-5d5a-4b3a-847e-b8b7531fe668', 'ec419f45-5c15-4a1c-932a-29f663054669', '5e4de379-1285-45c4-bbfc-d799c40b6889', 'a08f67d2-3139-4b43-b26e-3282c661e960', '8313bcb0-a071-4ec0-a3d6-d85ed92fa2d1', '1c297f15-6a63-4ffc-b6b9-9cb4c918f80b', 'dbff9792-f36a-43a6-b47e-93b110a6f4d0', '81123cf8-3924-4b2b-b05f-487ff6aeadc8', '90b8cde4-0fae-4c23-8768-7c9a5cb19222', '5ce5e89c-64ee-49f5-ac72-eec332bae189', 'daad9dbb-0db4-4f4d-81c9-8581713c2595', '8d99a6e8-3949-47d1-9d0b-2086f280e71f', '37e1332c-76b2-4e4b-b1da-ddf413eda510', '76532bb6-285f-4c52-9fdd-742674882851', '80e2a650-d650-4f45-bcab-3caf35ced70f', '88299f20-aa7e-4b05-a206-4445e82d9119', '9c26401f-c145-4776-b423-cf9a38bf1690', '3d6397bc-d1a2-4e9e-b4c0-a23bf2d1e702', '7662bb3b-6d17-44de-8949-f0cf49cad97e', '3034bf89-98c5-4710-b1b7-eb74c4ae506a', 'e18fef08-eb0e-42e5-b279-cf0c3939ce7b', '1a60dffa-66af-4698-85f2-19d78725fb62', 'aca83205-ef83-4aae-bf29-07b3625128e8'])\n",
      "point ids 104\n"
     ]
    },
    {
     "name": "stdout",
     "output_type": "stream",
     "text": [
      "Removed: 104 Filled: 104\n",
      "TOOK 199.24416065216064 seconds\n",
      "***\n",
      "RUN: 3\n",
      "Epoch 1/100\n",
      "13/13 [==============================] - 36s 3s/step - loss: 0.5349 - dice_coef: 0.1618 - val_loss: 0.5632 - val_dice_coef: 0.1334\n",
      "Epoch 2/100\n",
      "13/13 [==============================] - 15s 1s/step - loss: 0.5348 - dice_coef: 0.1616 - val_loss: 0.5584 - val_dice_coef: 0.1337\n",
      "Epoch 3/100\n",
      "13/13 [==============================] - 15s 1s/step - loss: 0.5350 - dice_coef: 0.1614 - val_loss: 0.5541 - val_dice_coef: 0.1341\n",
      "Epoch 4/100\n",
      "13/13 [==============================] - 15s 1s/step - loss: 0.5348 - dice_coef: 0.1617 - val_loss: 0.5502 - val_dice_coef: 0.1345\n",
      "Epoch 5/100\n",
      "13/13 [==============================] - 15s 1s/step - loss: 0.5349 - dice_coef: 0.1613 - val_loss: 0.5468 - val_dice_coef: 0.1350\n",
      "Epoch 6/100\n",
      "13/13 [==============================] - 15s 1s/step - loss: 0.5348 - dice_coef: 0.1618 - val_loss: 0.5436 - val_dice_coef: 0.1356\n",
      "Epoch 7/100\n",
      "13/13 [==============================] - 15s 1s/step - loss: 0.5349 - dice_coef: 0.1614 - val_loss: 0.5410 - val_dice_coef: 0.1363\n",
      "Epoch 8/100\n",
      "13/13 [==============================] - 15s 1s/step - loss: 0.5350 - dice_coef: 0.1620 - val_loss: 0.5386 - val_dice_coef: 0.1371\n",
      "Model saved to: /tmp/tmpb_p8u2x6GP2/kunet2d_3kunet2d_model\n",
      "History saved to: /tmp/tmpb_p8u2x6GP2/kunet2d_history_3.pkl\n",
      "Testing the classifier...\n",
      "Testing the discriminator...\n",
      "19/19 [==============================] - 0s 20ms/step - loss: 0.0000e+00 - accuracy: 1.0000\n",
      "Found 299 machine labels.\n",
      "Machine labels [  0   1   2   3   5   9  11  15  16  19  24  27  31  33  37  39  41  42\n",
      "  47  48  52  54  55  57  60  61  62  63  65  68  69  70  71  73  74  75\n",
      "  76  78  79  80  82  84  85  88  89  90  91  93  95  96  98  99 100 101\n",
      " 103 104 105 107 108 109 110 112 114 115 116 117 118 125 127 129 136 137\n",
      " 138 139 140 143 145 146 147 148 149 150 151 152 154 155 157 161 164 165\n",
      " 167 168 169 174 175 176 177 178 179 180 181 183 185 186 187 189 190 192\n",
      " 193 194 195 196 197 199 201 202 203 205 206 208 209 210 212 213 218 220\n",
      " 223 225 227 231 233 234 236 238 240 242 243 245 247 259 260 262 263 266\n",
      " 268 269 274 278 282 283 284 286 287 290 293 295 298 301 302 304 307 308\n",
      " 309 312 313 315 316 317 321 323 324 326 330 331 332 337 338 339 341 345\n",
      " 346 350 354 356 358 360 366 370 371 374 375 377 378 379 380 381 382 385\n",
      " 386 388 390 393 395 396 397 399 405 406 407 408 414 415 418 419 420 421\n",
      " 422 423 424 425 426 428 430 434 439 442 443 446 451 453 454 455 458 459\n",
      " 461 465 466 468 469 470 471 472 473 475 476 478 482 485 486 488 490 493\n",
      " 495 498 499 500 501 502 503 506 508 509 510 512 513 517 520 523 527 528\n",
      " 536 539 540 541 542 546 547 551 552 555 556 557 559 561 563 565 568 572\n",
      " 573 575 579 583 584 587 589 591 592 596 598]\n",
      "D_ids ['f49d2dca-c86f-46d1-9e55-8835693caa0b', 'f072c9c0-d585-4b88-a1a6-fc8fa492050f', '2dfcda3d-06d2-44c8-a25b-6858584265d2', '220c5326-bfdf-4163-bd91-d770c04a0e7c', 'f1ee0f22-1869-4993-852c-0272831f86c9', '34def2ed-e7bd-4691-8d67-8e7eb7b77514', 'a352c50d-1f86-461f-b04f-2a3d9be9e883', '8e8674a9-8d97-4c4c-8179-d66526e04b70', '836a311d-334e-427f-882e-e0648a0cd581', '8c8dbd68-96bf-45ac-bb5c-b74054d6e344', 'a3dc73db-4710-4c7f-b956-301b1ac04fb0', 'ca185291-c3fc-4426-a756-63199e3571be', '32239506-cf0c-4a1a-9651-d304ab796cb2', '1044bb4f-146c-45f9-9e37-d38ff0cc8586', 'b0b79aea-f103-4d91-8277-9e89db5cef46', '4aed37a0-b1c1-4bb6-a764-28af7114c876', '689b8b94-ae82-413c-a086-6d4abdfa39ec', '9e35b327-b287-4044-a715-b9cbd8901521', 'da36bedc-6a9e-48d2-af5b-c1e1c5e4bd6c', 'b13cabc9-f9a1-4a9b-bc32-cb596d63816d', '31331d91-eaf6-434f-a6f2-1d0b04fb7e7b', 'ee80140c-17c4-4c39-a959-10ca16d03a5a', '13bfd27c-6759-463f-8a2d-cd5df5a8edf3', '12451eb4-e60c-4beb-bcab-80dd2dbaa6f5', 'c90b5779-1cf0-49a7-be8b-b47edc9a4ace', '9565f9fb-9920-4835-a3a4-9037039c2719', 'eaeffebe-6c39-45cd-980b-641aa95b2896', '06b7da2e-5677-40cc-aeb9-8f8a74a81f89', 'a8e53677-4419-4c9b-96b0-c08514900f3f', '2aedec86-8041-475a-9491-ee0f05d57ad0', 'c0a0e91d-c3e9-4573-89df-5dd665889d17', 'c3cc9ada-7b4d-402a-a5cd-3ac630eb8dc3', '9f4ef8ee-75d5-4be6-8750-c4277330d667', '1b89a3e9-80cf-4535-9923-98e2f0b2c900', '91252765-2393-47e2-bf27-750e44d26e62', '8c9d7e23-e31f-48d0-b91d-d1b55a17e9c9', '93449158-7b0f-4d6a-b9b7-a8accc8aaa10', '108926a9-8306-4731-b5ee-dfa4d09473f3', '5491d789-089c-4b3b-8675-4b6f02d23a33', '4eed8049-2c7f-48c4-a014-644e5898c262', '605029e1-c7bf-4ec7-9c39-76e362968d76', 'fcca5fe4-924c-445a-b28e-ddce360529b7', '4c2fcb7d-cd54-4eae-80da-eb6734515a1e', '9197016a-3015-492f-ae50-d3c0202c782e', '5b1b4676-01a4-4fee-bfab-b22cad876c69', '31336805-1707-47f4-a6dc-47f1b02d795b', '0522f6f1-cf42-4b23-a9ae-a6ef594390cc', '67bf6398-2e0d-41a5-901a-baf2369cf2c8', '71d4fa52-3ef6-4b65-baae-430e6520542e', '18c672ef-23f9-4be4-97b8-8a39e2bd1855', 'a1b945e7-43e0-4c54-ad51-646bf9804463', '200d8e02-bc3a-40a3-a8cb-5eeeb71c683b', '433691fe-c67e-4f9f-9499-4cf8bab1eb88', '39f6014b-006e-4d2d-8b7c-dd8d5bcbcfb2', 'bd455a07-243b-4d63-84c8-5434b1455083', '317b97c1-feef-4bbe-be82-2f61ea23303a', '923b9975-c53f-49bb-a33b-205a997f4a44', '29169585-4df5-418a-a32b-f79582071328', 'd975931c-8290-440b-bdfd-44e734e81597', '4cb153f2-a191-4574-a8a8-0dc94064db40', '70ed7026-ea1a-4d34-915d-a069d6f7bfdf', '3033c723-5c54-44cd-8721-b00bc9393d25', 'a10bcd1f-a00e-46fe-a287-7ba7920b8aed', 'b965511e-1038-4b71-a68e-6b8486593a19', 'e50cb78f-e777-4978-89e0-ff98d627461b', 'a31e5c9f-90b4-41bb-ac84-928752a8b809', '266985ed-dfcc-4533-b354-ec0ded538da8', 'ca03b881-d31a-4289-9c9a-dee8887600f5', '6a2e7c8a-cb9e-4dd1-b293-083a40a3f19a', '70b099ac-fad7-4c2f-ad4d-77b990bbf1f9', '92643e72-527b-48aa-be71-4888cd9fa18b', '79e7cb1b-60f2-4669-a5a1-501ecf6befc3', 'cbe36dc3-63b7-402a-8205-d07a4f99275c', 'e6f1619d-bac4-4421-8e12-01bd9bed9568', 'f930d7f9-cda4-4d67-bfc3-44ff26221fd4', '7006dc98-08b9-4323-bc6b-64755b226787', 'fdce21e8-5941-47f8-a74b-3b89e033315b', 'a887bf9d-f3fe-4467-8ea3-593e890f8263', '8203e794-7019-4dbb-8460-e8ec294ca9b8', 'bf71a31e-b22c-4ff2-8056-119d1462c52b', 'ebaebfe9-3fd7-466a-88fe-6dd5c5acf673', '2f64cd28-ada9-460a-b2e1-96139afc90e3', '39336d24-2333-4e73-befb-9ce3e9a55c5a', 'd14dce44-6b1e-494c-9367-bd4c7c4c76d1', 'e1954147-3343-4266-956c-18255718cf27', 'be3b4297-4873-4d0f-b0d1-2cfb7c3df2a3', 'ba1e69c7-c7bd-431b-9511-efe46a5b9327', '68614936-8517-48ea-82f8-02f5bd957c28', '339543a8-2e8b-4971-8a9f-07ca3948c50a', '0e5fb543-78c3-4109-936c-0ba4b4a4ea3d', '474a8f80-6064-4352-9b87-22dbe9f0d38f', '804aa0da-6c04-460f-a691-f8e0b886e8f9', '56a48726-481d-4191-ae7e-ae9c79737a37', 'b37f58d6-944f-4b0c-983a-39fdc90876ae', '5affc066-9f82-4e32-834b-d92725132417', '998466bf-94b0-480b-9d30-03651bd4e77c', '3e3299ff-b573-4d97-8744-c7770d833850', '51653b6b-5a39-4eee-99e1-4f82f668052e', '94bdbc80-4040-4596-a4b1-3630792e63da', 'd128557b-8c5b-40e8-94fa-617914b48de5', '13437afb-2b67-427c-9f94-7cbab5509402', '9ff481b1-76f5-433f-8f0e-513a2ea74f48', '3c27a212-7d09-4b6d-8638-dca8e7aeca72', '13776705-618a-438c-99e5-d580fc53aef9', '766dfa6c-9442-486e-8b81-64216758bdbd', '4652504b-91a4-47f1-9c2b-e5f26148da16', 'c8ce57d9-bf7d-4b40-9a6b-4f9a6b1dbefb', '96b704f8-d7e1-48a2-ad37-44c943f2cd49', 'cc2289c6-244f-45f6-82fb-4c59a3ced175', 'd54d2b89-44a0-4b5c-9517-79489704eb1b', '8f0edb7b-18a4-4e83-99cd-b7d19bc02ac5', '74d670b4-6afa-4656-b162-748814dd3590', '843ff6c3-872a-4553-b7e4-59d6367ded96', '7764c656-d0e3-4145-98b7-5452a4a693fe', 'a8609ae7-f7ce-4410-ab2a-53dcab7c6052', '2f545b25-e919-4a4d-82d0-c207c630dc7e', '1ed06912-2ffc-48e0-96c1-6cd00f9258bc', '7849693c-6ab8-40bf-b583-9d9b33864323', 'd60f6d9a-72fd-404d-b060-2f6370467d51', 'c63880cc-15b4-440a-9e13-fad9d56fdb28', '47dd0bf2-a506-4cb4-8420-cd97e7088ed5', '4c852b79-87e2-420b-b391-79fc471c6a06', 'd4a364ca-9e2e-4aab-8b1e-9cc61f999aff', '3fa8ac4c-ceaa-4eff-87b7-e42043bb71b0', 'bc8b7424-11bd-4620-9216-444542cc1492', '87618e0a-c235-4b51-afc6-7e99d8b57866', '53a0a5f5-5980-451c-8990-f856cda653e9', '42e180bf-1350-415e-a5f2-a93a9dcbb409', '04a90dd4-25ec-4275-8641-96e4a21b2f11', '259c11f7-62c0-4253-bfea-929f495dc04c', 'c757a9f3-1373-4147-9e7c-59f1be42477f', 'b4e2ed9d-49d6-4224-8f0a-436b8cea380e', '44392559-1ba7-419f-b5cc-670de8fabfc1', 'ec197664-c65c-4e51-ba37-be0b8de58631', '287fd2bd-dbfe-4f15-ba59-aa6e6f0dad64', '1580c9da-3fb3-4353-8355-5db0c05a250d', 'c8ab1807-da49-4b11-bf3a-28db4329f6da', '8d37c0d1-b395-4a6e-b24a-9a127bdaf435', '99f752c0-6c7e-480c-9af6-f2b445e15005', '8987ccae-2972-499e-87ce-bc63d1b9322f', 'c73acead-f0b0-42f5-ba14-e249627ccf07', '036a7df4-5124-4517-9249-c19bc9535312', 'd072ac19-688e-4875-8ffc-f55ddb13284b', 'c3b5bff4-819b-456b-afba-66dbb0cc10f9', 'd940e638-7602-4710-9d17-04ce70681354', '054bb446-a4e4-427f-aa9a-ab59f6df4c94', '9fff29b5-510a-4708-a491-36be959695de', '66012f91-9a6f-48f7-946b-87fc21e7bd74', '787f3ce1-7c3f-42f6-a0a9-d1cd7f624ad8', '66e77117-bd6a-4419-a331-3c2cabe78971', '43ae70b9-eebb-4461-88d6-16c6f9fafbcd', '830f2424-d2b9-4a11-aaf1-d38a23e93db4', '2fcf8518-1124-477c-a1bf-be564d896183', '4ffcaff7-59af-46d3-ad18-485cad8c186f', 'b49860de-747a-468b-b60a-e180e36fb3f2', '35728049-13f6-4e9b-b77c-1bb33f2be331', '713fcdba-35c3-4394-b42e-1cb8acb33589', 'b56c4def-00be-46cd-bc50-b74e8bef7aa2', 'e256fcfd-57a1-4619-90d5-312a74c1253f', '07957f79-73f0-4ec1-98ce-ac26fb006311', '7b896b4b-5bd5-439d-b75b-3051b1f9e09b', '0b3f6b8d-dd6c-40d8-8ced-b5ff72c1ccd6', '0e5dcab6-1ee0-4810-bd4c-c8ab42239ecf', 'cdd7f5b1-cb1b-41c3-9ad6-f921314157ea', 'f6b09869-f418-47ad-8103-732fcbe3c9ab', '338b3d22-8318-4bae-b1bb-9ccefc5db18e', '3aaa1bfb-5e03-4a19-824f-f301da866e61', '85cac409-9d1c-42f4-a9b6-f781b5bfe6c0', '844718c3-4eb8-4e09-b211-3656cdd42ce8', 'dfa68df2-883d-43c3-ac5b-be79fb919b8c', '9b20377d-3924-4029-8183-3fc42bdbba77', 'ac14d080-a42c-4f0b-8a55-336fff56f3fc', '997e1097-e342-4492-bb25-332789a36e94', 'a9a36520-cc1b-4f1c-8fc8-b85864819942', '4d445b14-b086-4dbf-8e95-25e5bd0ed77c', 'fd5ed409-de4e-47a4-b43a-cd77a9baef20', '46ee31a6-8538-4f2d-87b2-97ad325a04bd', '69b92a25-f7c4-4564-9c7f-73f6647a1fd7', 'fd9c722e-88e5-4fd8-8571-7ae383486e9c', '116da5d2-efe5-48f7-b10b-9e46c3620aa4', 'a97b2842-1d96-40c8-a190-66263a13fc71', 'a461582e-bd18-443c-a049-6c0bec605faa', '7c461128-233e-4d54-8db8-f828b2d33342', 'c5da824d-5b8b-470b-aa0a-af62987c751d', 'af3ee2cd-e31e-4958-a92f-78f89a40e9c0', 'b901f110-8dd2-4fb0-aa72-f838bb8e765c', 'ff9d41b6-f09f-467d-9e2e-5d183b344663', '323d2752-21b9-4b4e-a810-0ec3cfd00bb2', '9b8fc196-24f7-4c61-a9e4-8eab1df10ae7', '1627dc55-e895-4620-8db3-dc9ecb1db3f7', '3f325006-064f-4f99-9b0c-9484f19387b3', '175fe873-174b-4c8c-ada7-77a36f6ff18c', '6faa2e56-9c66-4b79-a188-5f7869562a7e', '9ba4c408-7e44-483b-ad43-6fbae5c3caca', '8dc9f113-9c48-45d0-a1ca-069db04db069', '97e918a0-dfbb-43c1-80ef-12f9c8cb7315', 'ec516dac-5927-4e7c-b4ec-28c0b3255364', '0466aedd-c696-42c6-9063-40b20cefd235', 'a0dfd3c1-632e-4372-b015-7073f3ba7718', '370ee694-1d7b-45a8-a958-3b7f0cb770f7', 'be719848-8cf3-44f6-937b-333f1aa924e3', 'b67ed73c-95a6-4836-a055-689f09b087f9', '97d424a7-0557-4c61-878b-cd64e6ab662c', 'bdbef456-c109-4ad4-b1ef-bc0923ad3c33', 'b4be4981-2477-4249-a16d-81d15e5e970a', 'eeecc610-32d7-4c84-a868-907e356ac956', '4a13feb5-b63f-4563-97fe-19af4cee03cb', '0fdfbab7-2f6c-4b17-9912-1429e3105249', '65b2e763-3805-43d9-a318-24da71d97cab', '0f98e0e9-351a-4eff-8cce-3effbe78b758', 'bd1127ac-4239-43e7-9d0d-93829174681d', 'a12390d0-8209-4f93-a708-22aef05e1a7e', 'f6b13642-06be-4fa6-ba92-6e5a1da9d295', '617f7acc-3daf-4ccb-a0d0-d5dbaf4d8706', '8758a50d-5b02-4eec-b846-c48b48d1d488', '81a38c6c-30ec-4b66-a596-73571d076c41', '7c3f4a71-63a5-4372-a2a9-0f9f1de85b14', '5506c98c-6c9c-483c-beb0-f1373101e171', '666df35b-6253-4cd5-a369-df2ca4effc52', '0c27ad14-67f4-416e-bcb8-c99aa5dc4cf9', '67c01a8a-051e-4ecb-8b2b-6fa43bb82c36', '4ed6bd23-0352-44f8-8b43-fb9d5828f23c', 'b456c0e6-1246-4068-9ade-7827c1bcffb6', '33134761-38d7-49fd-8260-09ab33bfa468', '14aaa09c-1bb4-47ef-915f-34c2f03cb2c2', 'f9df4712-1dec-482a-8cd8-0807317bdeab', 'a456425b-cddb-40e3-92ba-1d3c774e2db3', '1249d633-16da-48f4-ad45-d45b766b0a67', '3bc4ab3d-42c5-4234-adb2-f4b341f671ac', '1a185e88-5317-4d2a-b1e6-e78ff7b099d9', 'ccb51847-5937-456c-a6b6-6716dba9f90a', '5948c108-4f22-46bd-8e5c-a25832b02b5e', '757a004c-729c-46a0-b440-b285084fd5b7', '0e10c34c-13d1-44ec-b2f3-7ef2138f6ec3', 'bf2aac2e-9ae1-4e7e-98f8-dd096d2ce50b', 'bb34e5e1-7d88-4f22-bed3-b347efe877c5', '74ac22db-efb2-4ac4-a0de-38c17de35c90', '0d59176c-1946-4cd4-ae56-1afa44100db2', '6dd06216-9b42-4917-8679-0cc3f44aac46', '0efbf38f-b36c-42fa-a548-9c3507761c62', 'bec1d862-bf04-485b-9758-a189801d64e6', '14257fcb-5f18-42ac-bbd3-c537b8784cfb', 'd46bf5c3-b548-476e-82b5-eabea487b967', '3fd8962e-aa62-474a-b7ce-750f5d871c96', '1ef648b1-93ba-4fd0-a5c6-f2f4cf670915', '6ec513b0-753e-40e0-9b27-b1e11a88e9cf', '479dcd4a-9c26-4b16-9332-cdede12cf991', '51d27732-9ea4-4840-914f-76508599de82', '5bff1910-45cf-4232-a54f-e28a282fb909', '8c422df1-736c-49fb-8a04-f62bdaea8366', 'e0b00526-3fdc-4b4c-9786-94cb5654b586', '1617cdb7-cbf3-416a-b972-9c74318787ea', '71bfb6b2-53db-4b0d-9fdd-1d1a7c8af678', '418698e5-66fa-4e71-8cc2-c01fe877b1ee', 'f0eb2775-7040-4c7f-876b-296fe2fad88d', 'cb22e327-e27f-4e9d-bec9-dc556dbcd09f', 'fd07f3af-0db1-409d-a016-b9fe5c61708b', '96ad6747-d2e7-4e2f-a294-ac819f7a3dab', 'baf83fc2-fe16-4ce7-9fdb-be44346c7315', '08fff763-ebda-4046-95b1-81f3344a551a', 'b6a480ab-c65a-458d-9223-91f36a2d4879', 'b94124ee-2d73-4a8e-9c92-79ce6f7d091d', '95dc31e8-a881-40f0-8d8a-f6b6fd58aae4', 'c2084289-eb01-4e91-b6b5-2219c9f4bd5e', 'd94f8679-95b3-4242-b985-10a6477ef419', '39bc2db3-154e-4d27-9500-07affc49f47b', '33123be0-45e4-46a8-8202-3223e29e027c', 'd448d7d5-bd2e-4669-93ff-a45658df7a9f', 'bb2fd559-0e3a-488e-9809-90325840e0ab', 'd2b6f66b-06e5-4301-bf0d-5dc261a5d629', 'd8279efd-ed92-405d-8e9e-4875a026a242', '6d6bc23a-7942-41db-934c-9c92a60cc4c3', '46f5791c-bf33-40df-91bd-b96d3713a3fe', 'abf30b0a-4462-4832-a500-a0ac565a0199', '2b0b5250-2cfb-4f2b-9699-3d9a88b179a2', '38769a72-da23-4ea2-9a01-5331aba4d4bf', 'bf7a748e-4e99-460f-9ab5-7bcdafab3017', 'fff0e76b-75da-474d-b2c7-e5875f36fa45', '46808dff-052d-4f6f-846c-9a87457c4a9e', '665256cf-f104-45d2-9dc9-2f37be8f5d97', 'c2fd3a1a-a643-40f9-8533-0e91750af818', '00418f36-82b1-41d9-ac15-18888dcdbfc0', 'd6cb64f8-c9bf-4294-ae33-d54bdba468e9', 'b61ff69a-1606-4478-90fc-92cb50442d20', '66553063-0732-4930-91db-474fa4370659', '7325edc7-8eff-4166-81a6-8ad6168ca5d2', '3dbc4f19-b97e-490a-aeeb-614c72189b5e', 'f661df09-6f93-4b07-82c0-582386341bdc', '2c884285-3dca-47cb-a090-c74e4b0185c4', '614fa178-840d-4290-b53f-fdcc86f99470', '870810af-da47-496b-a4ac-7a9bb38758c3', '796a3159-be9c-400c-a1fd-0efc34fb304b', 'aae5cb93-d689-41b9-8ecf-93986eb137bf', '8c39ec87-9ae7-40ab-93b9-412b290823b3', '687d9b69-96bc-4464-a963-dad4811b9d2c', 'e768559d-7670-4597-87a1-fa5754f02417', 'd2186530-b511-4ae8-a45f-db9823bca713', '2e1bca09-66d8-40dd-8b76-4dd2b5132baf', '51d2523a-feef-47a8-8173-26e822b1460a']\n"
     ]
    },
    {
     "name": "stdout",
     "output_type": "stream",
     "text": [
      "Replacing 99 from 299 !\n",
      "D_relabeled_ 99\n",
      "selected_ids ['b4e2ed9d-49d6-4224-8f0a-436b8cea380e', '85cac409-9d1c-42f4-a9b6-f781b5bfe6c0', '9ff481b1-76f5-433f-8f0e-513a2ea74f48', 'c63880cc-15b4-440a-9e13-fad9d56fdb28', '35728049-13f6-4e9b-b77c-1bb33f2be331', '666df35b-6253-4cd5-a369-df2ca4effc52', '036a7df4-5124-4517-9249-c19bc9535312', 'a31e5c9f-90b4-41bb-ac84-928752a8b809', '787f3ce1-7c3f-42f6-a0a9-d1cd7f624ad8', '4c2fcb7d-cd54-4eae-80da-eb6734515a1e', '220c5326-bfdf-4163-bd91-d770c04a0e7c', '8758a50d-5b02-4eec-b846-c48b48d1d488', '2dfcda3d-06d2-44c8-a25b-6858584265d2', '06b7da2e-5677-40cc-aeb9-8f8a74a81f89', '3aaa1bfb-5e03-4a19-824f-f301da866e61', '9565f9fb-9920-4835-a3a4-9037039c2719', '479dcd4a-9c26-4b16-9332-cdede12cf991', 'd54d2b89-44a0-4b5c-9517-79489704eb1b', 'bd455a07-243b-4d63-84c8-5434b1455083', '757a004c-729c-46a0-b440-b285084fd5b7', 'd2b6f66b-06e5-4301-bf0d-5dc261a5d629', '14aaa09c-1bb4-47ef-915f-34c2f03cb2c2', '4eed8049-2c7f-48c4-a014-644e5898c262', 'd448d7d5-bd2e-4669-93ff-a45658df7a9f', 'a97b2842-1d96-40c8-a190-66263a13fc71', 'fd5ed409-de4e-47a4-b43a-cd77a9baef20', '81a38c6c-30ec-4b66-a596-73571d076c41', '71bfb6b2-53db-4b0d-9fdd-1d1a7c8af678', '2c884285-3dca-47cb-a090-c74e4b0185c4', '3e3299ff-b573-4d97-8744-c7770d833850', '34def2ed-e7bd-4691-8d67-8e7eb7b77514', '68614936-8517-48ea-82f8-02f5bd957c28', 'cbe36dc3-63b7-402a-8205-d07a4f99275c', '5506c98c-6c9c-483c-beb0-f1373101e171', '87618e0a-c235-4b51-afc6-7e99d8b57866', '3c27a212-7d09-4b6d-8638-dca8e7aeca72', 'eeecc610-32d7-4c84-a868-907e356ac956', 'f9df4712-1dec-482a-8cd8-0807317bdeab', '31336805-1707-47f4-a6dc-47f1b02d795b', 'c5da824d-5b8b-470b-aa0a-af62987c751d', '4d445b14-b086-4dbf-8e95-25e5bd0ed77c', 'b6a480ab-c65a-458d-9223-91f36a2d4879', 'c757a9f3-1373-4147-9e7c-59f1be42477f', '923b9975-c53f-49bb-a33b-205a997f4a44', 'a12390d0-8209-4f93-a708-22aef05e1a7e', '2f545b25-e919-4a4d-82d0-c207c630dc7e', '8c422df1-736c-49fb-8a04-f62bdaea8366', 'a352c50d-1f86-461f-b04f-2a3d9be9e883', '04a90dd4-25ec-4275-8641-96e4a21b2f11', 'd94f8679-95b3-4242-b985-10a6477ef419', 'baf83fc2-fe16-4ce7-9fdb-be44346c7315', 'b4be4981-2477-4249-a16d-81d15e5e970a', '108926a9-8306-4731-b5ee-dfa4d09473f3', 'c2084289-eb01-4e91-b6b5-2219c9f4bd5e', 'a10bcd1f-a00e-46fe-a287-7ba7920b8aed', '00418f36-82b1-41d9-ac15-18888dcdbfc0', '0e5dcab6-1ee0-4810-bd4c-c8ab42239ecf', 'f49d2dca-c86f-46d1-9e55-8835693caa0b', 'a456425b-cddb-40e3-92ba-1d3c774e2db3', '51653b6b-5a39-4eee-99e1-4f82f668052e', 'abf30b0a-4462-4832-a500-a0ac565a0199', '1617cdb7-cbf3-416a-b972-9c74318787ea', 'a887bf9d-f3fe-4467-8ea3-593e890f8263', '43ae70b9-eebb-4461-88d6-16c6f9fafbcd', '418698e5-66fa-4e71-8cc2-c01fe877b1ee', '0c27ad14-67f4-416e-bcb8-c99aa5dc4cf9', 'eaeffebe-6c39-45cd-980b-641aa95b2896', '3dbc4f19-b97e-490a-aeeb-614c72189b5e', '14257fcb-5f18-42ac-bbd3-c537b8784cfb', 'bf2aac2e-9ae1-4e7e-98f8-dd096d2ce50b', '51d2523a-feef-47a8-8173-26e822b1460a', 'd128557b-8c5b-40e8-94fa-617914b48de5', '9fff29b5-510a-4708-a491-36be959695de', '32239506-cf0c-4a1a-9651-d304ab796cb2', '2e1bca09-66d8-40dd-8b76-4dd2b5132baf', 'd14dce44-6b1e-494c-9367-bd4c7c4c76d1', '5948c108-4f22-46bd-8e5c-a25832b02b5e', '3fd8962e-aa62-474a-b7ce-750f5d871c96', '266985ed-dfcc-4533-b354-ec0ded538da8', 'c90b5779-1cf0-49a7-be8b-b47edc9a4ace', 'bb2fd559-0e3a-488e-9809-90325840e0ab', 'ccb51847-5937-456c-a6b6-6716dba9f90a', 'a9a36520-cc1b-4f1c-8fc8-b85864819942', '323d2752-21b9-4b4e-a810-0ec3cfd00bb2', 'd072ac19-688e-4875-8ffc-f55ddb13284b', 'ca185291-c3fc-4426-a756-63199e3571be', 'fff0e76b-75da-474d-b2c7-e5875f36fa45', 'a0dfd3c1-632e-4372-b015-7073f3ba7718', '69b92a25-f7c4-4564-9c7f-73f6647a1fd7', '7c3f4a71-63a5-4372-a2a9-0f9f1de85b14', '2f64cd28-ada9-460a-b2e1-96139afc90e3', '56a48726-481d-4191-ae7e-ae9c79737a37', 'ca03b881-d31a-4289-9c9a-dee8887600f5', 'aae5cb93-d689-41b9-8ecf-93986eb137bf', '29169585-4df5-418a-a32b-f79582071328', 'e768559d-7670-4597-87a1-fa5754f02417', 'c8ab1807-da49-4b11-bf3a-28db4329f6da', '4c852b79-87e2-420b-b391-79fc471c6a06', '116da5d2-efe5-48f7-b10b-9e46c3620aa4']\n",
      "dict_keys(['b4e2ed9d-49d6-4224-8f0a-436b8cea380e', '85cac409-9d1c-42f4-a9b6-f781b5bfe6c0', '9ff481b1-76f5-433f-8f0e-513a2ea74f48', 'c63880cc-15b4-440a-9e13-fad9d56fdb28', '35728049-13f6-4e9b-b77c-1bb33f2be331', '666df35b-6253-4cd5-a369-df2ca4effc52', '036a7df4-5124-4517-9249-c19bc9535312', 'a31e5c9f-90b4-41bb-ac84-928752a8b809', '787f3ce1-7c3f-42f6-a0a9-d1cd7f624ad8', '4c2fcb7d-cd54-4eae-80da-eb6734515a1e', '220c5326-bfdf-4163-bd91-d770c04a0e7c', '8758a50d-5b02-4eec-b846-c48b48d1d488', '2dfcda3d-06d2-44c8-a25b-6858584265d2', '06b7da2e-5677-40cc-aeb9-8f8a74a81f89', '3aaa1bfb-5e03-4a19-824f-f301da866e61', '9565f9fb-9920-4835-a3a4-9037039c2719', '479dcd4a-9c26-4b16-9332-cdede12cf991', 'd54d2b89-44a0-4b5c-9517-79489704eb1b', 'bd455a07-243b-4d63-84c8-5434b1455083', '757a004c-729c-46a0-b440-b285084fd5b7', 'd2b6f66b-06e5-4301-bf0d-5dc261a5d629', '14aaa09c-1bb4-47ef-915f-34c2f03cb2c2', '4eed8049-2c7f-48c4-a014-644e5898c262', 'd448d7d5-bd2e-4669-93ff-a45658df7a9f', 'a97b2842-1d96-40c8-a190-66263a13fc71', 'fd5ed409-de4e-47a4-b43a-cd77a9baef20', '81a38c6c-30ec-4b66-a596-73571d076c41', '71bfb6b2-53db-4b0d-9fdd-1d1a7c8af678', '2c884285-3dca-47cb-a090-c74e4b0185c4', '3e3299ff-b573-4d97-8744-c7770d833850', '34def2ed-e7bd-4691-8d67-8e7eb7b77514', '68614936-8517-48ea-82f8-02f5bd957c28', 'cbe36dc3-63b7-402a-8205-d07a4f99275c', '5506c98c-6c9c-483c-beb0-f1373101e171', '87618e0a-c235-4b51-afc6-7e99d8b57866', '3c27a212-7d09-4b6d-8638-dca8e7aeca72', 'eeecc610-32d7-4c84-a868-907e356ac956', 'f9df4712-1dec-482a-8cd8-0807317bdeab', '31336805-1707-47f4-a6dc-47f1b02d795b', 'c5da824d-5b8b-470b-aa0a-af62987c751d', '4d445b14-b086-4dbf-8e95-25e5bd0ed77c', 'b6a480ab-c65a-458d-9223-91f36a2d4879', 'c757a9f3-1373-4147-9e7c-59f1be42477f', '923b9975-c53f-49bb-a33b-205a997f4a44', 'a12390d0-8209-4f93-a708-22aef05e1a7e', '2f545b25-e919-4a4d-82d0-c207c630dc7e', '8c422df1-736c-49fb-8a04-f62bdaea8366', 'a352c50d-1f86-461f-b04f-2a3d9be9e883', '04a90dd4-25ec-4275-8641-96e4a21b2f11', 'd94f8679-95b3-4242-b985-10a6477ef419', 'baf83fc2-fe16-4ce7-9fdb-be44346c7315', 'b4be4981-2477-4249-a16d-81d15e5e970a', '108926a9-8306-4731-b5ee-dfa4d09473f3', 'c2084289-eb01-4e91-b6b5-2219c9f4bd5e', 'a10bcd1f-a00e-46fe-a287-7ba7920b8aed', '00418f36-82b1-41d9-ac15-18888dcdbfc0', '0e5dcab6-1ee0-4810-bd4c-c8ab42239ecf', 'f49d2dca-c86f-46d1-9e55-8835693caa0b', 'a456425b-cddb-40e3-92ba-1d3c774e2db3', '51653b6b-5a39-4eee-99e1-4f82f668052e', 'abf30b0a-4462-4832-a500-a0ac565a0199', '1617cdb7-cbf3-416a-b972-9c74318787ea', 'a887bf9d-f3fe-4467-8ea3-593e890f8263', '43ae70b9-eebb-4461-88d6-16c6f9fafbcd', '418698e5-66fa-4e71-8cc2-c01fe877b1ee', '0c27ad14-67f4-416e-bcb8-c99aa5dc4cf9', 'eaeffebe-6c39-45cd-980b-641aa95b2896', '3dbc4f19-b97e-490a-aeeb-614c72189b5e', '14257fcb-5f18-42ac-bbd3-c537b8784cfb', 'bf2aac2e-9ae1-4e7e-98f8-dd096d2ce50b', '51d2523a-feef-47a8-8173-26e822b1460a', 'd128557b-8c5b-40e8-94fa-617914b48de5', '9fff29b5-510a-4708-a491-36be959695de', '32239506-cf0c-4a1a-9651-d304ab796cb2', '2e1bca09-66d8-40dd-8b76-4dd2b5132baf', 'd14dce44-6b1e-494c-9367-bd4c7c4c76d1', '5948c108-4f22-46bd-8e5c-a25832b02b5e', '3fd8962e-aa62-474a-b7ce-750f5d871c96', '266985ed-dfcc-4533-b354-ec0ded538da8', 'c90b5779-1cf0-49a7-be8b-b47edc9a4ace', 'bb2fd559-0e3a-488e-9809-90325840e0ab', 'ccb51847-5937-456c-a6b6-6716dba9f90a', 'a9a36520-cc1b-4f1c-8fc8-b85864819942', '323d2752-21b9-4b4e-a810-0ec3cfd00bb2', 'd072ac19-688e-4875-8ffc-f55ddb13284b', 'ca185291-c3fc-4426-a756-63199e3571be', 'fff0e76b-75da-474d-b2c7-e5875f36fa45', 'a0dfd3c1-632e-4372-b015-7073f3ba7718', '69b92a25-f7c4-4564-9c7f-73f6647a1fd7', '7c3f4a71-63a5-4372-a2a9-0f9f1de85b14', '2f64cd28-ada9-460a-b2e1-96139afc90e3', '56a48726-481d-4191-ae7e-ae9c79737a37', 'ca03b881-d31a-4289-9c9a-dee8887600f5', 'aae5cb93-d689-41b9-8ecf-93986eb137bf', '29169585-4df5-418a-a32b-f79582071328', 'e768559d-7670-4597-87a1-fa5754f02417', 'c8ab1807-da49-4b11-bf3a-28db4329f6da', '4c852b79-87e2-420b-b391-79fc471c6a06', '116da5d2-efe5-48f7-b10b-9e46c3620aa4'])\n",
      "point ids 99\n",
      "Removed: 99 Filled: 99\n",
      "TOOK 319.9790048599243 seconds\n",
      "***\n",
      "RUN: 4\n",
      "Epoch 1/100\n",
      "15/15 [==============================] - 20s 1s/step - loss: 0.5356 - dice_coef: 0.1618 - val_loss: 0.5362 - val_dice_coef: 0.1381\n"
     ]
    },
    {
     "name": "stdout",
     "output_type": "stream",
     "text": [
      "Epoch 2/100\n",
      "15/15 [==============================] - 16s 1s/step - loss: 0.5356 - dice_coef: 0.1618 - val_loss: 0.5343 - val_dice_coef: 0.1392\n",
      "Epoch 3/100\n",
      "15/15 [==============================] - 16s 1s/step - loss: 0.5356 - dice_coef: 0.1620 - val_loss: 0.5326 - val_dice_coef: 0.1405\n",
      "Epoch 4/100\n",
      "15/15 [==============================] - 16s 1s/step - loss: 0.5356 - dice_coef: 0.1615 - val_loss: 0.5312 - val_dice_coef: 0.1418\n",
      "Epoch 5/100\n",
      "15/15 [==============================] - 16s 1s/step - loss: 0.5355 - dice_coef: 0.1638 - val_loss: 0.5297 - val_dice_coef: 0.1433\n",
      "Epoch 6/100\n",
      "15/15 [==============================] - 16s 1s/step - loss: 0.5355 - dice_coef: 0.1602 - val_loss: 0.5292 - val_dice_coef: 0.1446\n",
      "Epoch 7/100\n",
      "15/15 [==============================] - 16s 1s/step - loss: 0.5357 - dice_coef: 0.1623 - val_loss: 0.5287 - val_dice_coef: 0.1460\n",
      "Epoch 8/100\n",
      "15/15 [==============================] - 16s 1s/step - loss: 0.5354 - dice_coef: 0.1633 - val_loss: 0.5283 - val_dice_coef: 0.1475\n",
      "Epoch 9/100\n",
      "15/15 [==============================] - 16s 1s/step - loss: 0.5356 - dice_coef: 0.1613 - val_loss: 0.5279 - val_dice_coef: 0.1489\n",
      "Epoch 10/100\n",
      "15/15 [==============================] - 16s 1s/step - loss: 0.5359 - dice_coef: 0.1624 - val_loss: 0.5281 - val_dice_coef: 0.1504\n",
      "Model saved to: /tmp/tmpb_p8u2x6GP2/kunet2d_4kunet2d_model\n",
      "History saved to: /tmp/tmpb_p8u2x6GP2/kunet2d_history_4.pkl\n",
      "Testing the classifier...\n",
      "Testing the discriminator...\n",
      "19/19 [==============================] - 0s 19ms/step - loss: 0.0000e+00 - accuracy: 1.0000\n",
      "Found 305 machine labels.\n",
      "Machine labels [  0   2   3   5   7  10  11  14  16  21  22  24  25  26  27  28  29  31\n",
      "  33  34  35  37  40  44  48  49  50  53  55  57  58  59  60  61  62  66\n",
      "  68  69  70  72  75  76  77  78  79  80  81  82  83  87  91  92  93  97\n",
      "  98 100 101 102 103 106 107 109 110 111 115 118 121 123 125 126 127 132\n",
      " 133 136 138 140 141 142 143 145 146 147 148 150 158 161 162 163 164 167\n",
      " 168 169 171 172 175 176 177 184 187 189 190 191 195 197 199 203 204 205\n",
      " 206 207 210 215 217 220 222 224 226 227 228 229 230 232 235 236 237 239\n",
      " 240 243 245 249 250 258 259 265 266 267 268 269 270 271 272 277 278 279\n",
      " 281 282 283 284 286 289 290 291 292 293 297 300 302 303 304 305 308 309\n",
      " 310 314 316 318 319 320 321 327 328 329 331 332 333 336 337 339 340 343\n",
      " 344 350 351 352 354 355 357 361 362 363 364 365 366 368 370 372 379 382\n",
      " 383 384 386 390 391 395 396 398 404 407 409 410 411 412 414 417 418 421\n",
      " 425 426 427 428 429 430 432 434 439 440 443 445 447 450 451 452 454 456\n",
      " 457 458 459 460 461 463 467 468 469 470 473 477 479 480 481 485 487 489\n",
      " 490 491 492 494 495 498 500 501 502 503 504 505 508 509 511 512 514 516\n",
      " 520 524 526 527 528 532 533 534 536 542 544 546 547 548 553 554 558 560\n",
      " 561 563 564 566 567 569 571 573 574 575 580 581 582 584 586 590 592]\n",
      "D_ids ['1c21cfe2-db49-4bca-beae-edb5192ee9b5', '8c0eb651-434d-41aa-9349-7afdc242a43a', '2f81b95c-e7e8-42e9-8262-d28ce1b55a56', '99b1e64a-1c6c-402f-9790-c93944fdc3f4', '92f57b52-61de-4d9c-9f2f-a8d9dbe3d818', '4861c11f-0b9b-4837-8515-04bafe743e72', '3d4f69f7-0bb3-484a-a6ca-f87d3c45d5b3', 'e0386242-e67d-4851-9130-a385b1061aa6', 'd95c98e6-51ae-47f2-b804-0410deb2660b', 'b05b70e2-9285-4e94-88d9-0d5d099a56ac', '7325edc7-8eff-4166-81a6-8ad6168ca5d2', 'a9df241a-0334-4bca-9404-fd5e91dd624e', '1f3c990d-3e36-411e-9c30-6c2e66b4188c', '781bfc92-eb30-4b7f-aa0f-e5fe4a4adacd', '91442ff6-a9b2-49e1-8140-e5bfc4f34561', '937e9421-8b11-4569-a4e7-78ba4b1c7b80', 'dbef8145-2b0a-4802-b758-231e864a6197', 'c7934fac-6127-4332-a0f5-d5a9fb33ad36', '98ec170e-d9e7-48ca-9b12-b7550e0613fd', 'b721229d-e8a7-4dd2-a0e1-101784fc8618', '8c9df7d1-be08-477e-884f-49dd380f04f9', '6bb23441-2592-4a5c-af2a-48f84e2d18a1', '318bd736-910a-44f7-8990-72a07b7016c0', 'a583fb04-68e8-47e1-84b6-4622465aaa51', 'c28309ce-92e8-4bd6-a7a9-4071d034e7de', 'fa1c1c47-df9c-4bb0-a443-2ec292bb2f53', '6a9a9836-a1e7-4618-bbb7-f45385b54131', '23f7a116-06cd-4ce5-a484-db2220e9a84c', '6465402d-28fb-4d1c-8e94-1bff4e52ddf7', '83221832-de51-4ab4-83af-81b61eb4e25b', 'a5a30f5c-7cea-4376-a3fd-d671b6aff6fb', 'd7dafb6d-bac0-44ca-a01e-e9eec8af8388', '01235156-a779-42ff-8739-0a60ff20fabe', '43b5a1ba-efa7-4a70-ba81-81216692d3a4', '47a020c1-4553-45ff-b51e-1ba54a157e5c', '4120726c-29bc-44f3-b9bc-96daf2f50211', '92b11b2d-834f-4e79-ac0d-94aa9d5c3f66', '16677bfe-ef0c-4126-b3e2-a4a79f5931e7', 'c5ce35cf-a561-40e7-807f-850dbe9d2771', 'c4a50682-3ad2-4cf2-9a55-faf02e4e5631', '3db49bd3-b135-4867-befb-fac68b0698c0', 'bcd04acb-3064-486c-bb87-ebedcb87d198', '8ef8b9fa-42a2-47cf-bc50-778c6e9ce1ab', 'a519e357-55c5-4190-91d1-cfe1476b7c6d', 'd2484bdf-f1d1-4ba6-bac6-437edbb5cbaa', '9defbeb2-13ab-4ef8-8034-346a060e2761', '08fe6c34-0885-4c4b-95f1-505865b8b527', '24a03a9c-5cb5-486e-b781-bfe1ba63fdf8', '52d7e2a7-d3d2-4c68-9e04-7b843ed623e5', '74fcbaf9-9e58-44e4-93dc-f4687cac6f2f', '35a65a9a-8ee0-4446-b48a-205f61ca3d8a', '566ac2bb-e264-4833-a193-7cbbb5a39239', 'abf2f9b6-cea7-4054-81a7-46288d01cf74', 'ebeedb52-428e-450e-8df2-bdcabb4e9824', 'b9994a68-a340-4d01-9803-2595c6273057', '7efbb6d3-8898-46ea-9836-26dd9d9d344d', '07a849f2-6ba3-4b50-8a8c-f9e73093f762', '839c1826-b754-42af-875a-de91456f0bc5', 'e7406ae7-da83-4ade-8b9c-b4fdd94f51f9', '56ee49fe-7cc1-43ea-a711-65e96ccd727d', '87c55f72-4829-47be-867e-efd7a369f0d0', '0f9d17a7-5054-4316-9206-186773253d3b', 'af3ee2cd-e31e-4958-a92f-78f89a40e9c0', 'bdd2d552-eccf-491e-908c-30a5b6087c4a', 'ee29ab5c-68bf-4b39-b71e-b9ee7a74113e', '29553780-5455-447d-8827-b019a8784ca7', '929f58ea-3061-4036-9381-17e450dffba0', 'b4ac6d44-44a3-418f-9bdd-d47c4cbb6308', '466ff70b-3280-467a-be4a-82704bea3cf2', 'aaf2b345-c3f0-42ff-b11b-4dd045672d25', 'b0d7481a-6cbc-4554-accd-6333a534d39d', '0aeb2cba-3bd0-4829-a24b-d3872af1214c', '68150513-2654-44a6-9aea-7c1de5134f09', 'f21ea5d5-4e2f-4d98-bb8b-4c70d9554c82', '0be3c88c-b31e-437b-88f2-733749e093b6', '8f1baa49-57a1-47f7-98ac-eb80fbcedd0b', '03d07042-7b44-42c4-b053-bb24fb83e874', 'fe118f51-f86b-44ba-b9fb-211b0e7c4f9c', '0f4bb71b-31f8-49de-b3e9-4ee95853d9fb', 'c76b1324-373d-4dd9-a105-e411d2081c65', '3dd2f392-b24c-448d-97eb-c28e028c930f', '7bd4042e-2b9f-495e-a106-9c1e31b6a7bd', '3d02a9dd-fd45-4f09-852e-02b508b32614', '0bc4fdf8-d70f-4b59-a36d-baa172ba8001', '7c461128-233e-4d54-8db8-f828b2d33342', '3fa8ac4c-ceaa-4eff-87b7-e42043bb71b0', 'bc7e5960-d940-4481-9476-68b8c62985e1', 'd9f1cb33-13d1-4366-83e9-dfc797dcc139', '3c2ff467-eb7d-4076-b13a-3cac0ea1abfb', 'd6cc2372-d907-42da-b4d3-4398490a264e', '6c22833e-86e8-4675-add9-ad7a2df75165', '7b09a291-d2c0-4cff-9a0e-9f2f4f80f9dd', '3925b3ea-79db-4872-85a3-d993d28ec7ce', 'a71ebf09-7fda-414e-8cc4-578d76e6a3fd', 'a0ff86b4-ca42-472f-86b4-0016b36317b7', '4590b7c1-82c7-49d9-9aa2-33cca613a755', '95960e1c-04d7-4899-a5db-c08a3430d870', '8d6793cb-c5c8-4f73-b8c5-30f5f69c4027', '30ea7990-dfd7-46cc-ac80-cb180e796f36', '4174e886-bec1-4efa-a229-2f788a1f8404', 'c27a1864-1416-4c83-82d6-cb24b8b05664', '26f0f8f3-24e0-466a-bd02-c6fbef9fe8f9', '0a962e45-b673-4bbc-b06f-daa815a1a999', '89102777-abce-4fba-8f0c-63932713abf3', 'f30acb30-98f4-4196-8f55-db3b60d523a6', 'c8bd1f5d-e5e0-4c7b-b534-bad1d54e7aea', 'b49860de-747a-468b-b60a-e180e36fb3f2', '42e180bf-1350-415e-a5f2-a93a9dcbb409', '63a82c72-959d-47e5-a031-a98825f5c687', '71bea78e-eeb2-43c2-8ff5-d3b0df80b20f', '96e0445f-1269-40db-93e2-e76020282697', 'f5a5dc6e-c29d-4542-a498-4edda69627a9', 'b03462fb-1748-492f-a435-207ea9a34f4e', 'b4d5299b-4602-4b50-b62b-fdc59f83a8e6', '8200929c-5f83-4a8a-afec-8b409861deff', 'fef2deac-398c-4f80-a0be-e0d077502922', '5823bc63-ea33-417c-bb30-29251551fc2a', 'e88f3811-70e4-4b23-a1f8-6c55a6c1ced1', '1e1d29d6-1f9c-475c-8996-d66824057c1b', '040f799a-2617-4106-8e0a-0081928726b2', 'c9d5aa36-6b30-4529-ab11-a2b15ad5b2d4', '27c2c139-ca49-4dd8-bb73-9097d7f80668', 'e8d659e5-c2cf-4adc-841d-e1e2019320a1', 'cc9d3bb0-397e-4f2b-8ee9-9cb8a0338bfc', '87d4129d-ba7e-4044-84d9-aaf742db022b', '0d1c8685-3fed-4e33-b54b-faf3e0eeb965', '1a185e88-5317-4d2a-b1e6-e78ff7b099d9', 'a5b88d06-b0f8-480a-b09c-d7d34be6edc2', 'bf9e632c-38c1-4ad7-ad0f-4f3318de8936', 'f3b7b526-6b7d-4061-92c2-948a3bc2c492', '792dd56f-339c-4a17-b602-2e198925d37a', '796fd6b7-083a-42e8-ab52-5ccd1eeeb91f', '0e380648-c07f-4257-86a1-760576bbc504', '5f7e3569-07d7-4e97-a3df-d8105fd3425f', '05f00d64-1aa4-4e83-ba50-5af0410ba7cc', 'cbdb21bb-37c8-4f86-be06-ce422284a7c5', '64bd43bc-3bb2-4319-832e-737764caf975', 'c058925d-f777-4463-a310-df7d21c8b727', '6fbcf140-9027-45f9-ab5e-24f4d866f3d8', '1b89a3e9-80cf-4535-9923-98e2f0b2c900', 'ff2447d6-63ec-4874-9ccc-53627a4948e3', '19247bf1-d416-4f18-a364-6630bb82afdc', '7a41998b-660b-4738-a516-d8ba5fd25afb', 'b9313b7c-e277-4e97-9c97-959f043121d2', 'fdd31e93-d5f8-42f2-a4de-1291c2d7e0fc', 'c5d42b36-435f-413f-912a-89cb9db42a61', '9189d8fc-d5e7-4084-b415-f2c74294cac5', 'd9f63b02-e700-4296-bc13-b959a7860ed3', '1c6d62e4-577b-4b20-9766-0384ed6a64a5', 'a47146cf-5b3a-470d-9aee-de4e4276766c', 'e50cb78f-e777-4978-89e0-ff98d627461b', '605029e1-c7bf-4ec7-9c39-76e362968d76', '745fe1b4-8e4c-4d8b-86eb-9812c9e6c7ac', '0202ee45-220b-4a98-bf57-ddbf29362eda', '712b9d45-3e53-4c26-9350-1868aa91aaa2', '3f981e75-0bb5-46ac-a08c-fd7ce739b237', '8fd45df3-054d-42d8-9273-2c7f8d2c98e0', '1f48d7e5-a7fe-4d71-9556-bf342a3dff96', '92b6b5e9-1f57-49bc-93de-82f05f34543e', '850d1524-36a0-46e7-a459-b725facb3e1d', '26bf1c31-fdfe-4b5f-9174-a8a2ad21a3df', '3d151b0d-bfd1-4c26-9900-8c90c45800c0', 'ff9d41b6-f09f-467d-9e2e-5d183b344663', '7ae53f7b-863b-4f90-ad1c-d1901bb76f78', '6aac765f-72fa-46b2-825e-ff8d8ae58ff3', '86fc856f-db25-496c-8377-1d56a82094fd', '40319194-d676-44b4-88fe-6833b12233ce', 'df5487b8-f1bd-4aef-ab99-6551fe394e46', '57e38298-1d3c-4ff6-bea4-2dabba8430c3', '83c5c257-027d-4c4a-955b-9a971980d066', '773df63e-6487-4c3d-9c62-c18d300b9cfb', '76d81bf9-5d69-4933-9306-d3db088fb571', '4b203f07-8484-41e5-b22f-b42ce2282587', '8061ec05-72d9-40c4-8e4f-41d470424ef3', 'a03df1f4-966e-412a-bda8-4ba9b65404ab', '72bc1e38-fbe1-4a43-9cb4-859c98e2322d', '5928f042-26b8-4791-97ad-31dd690e3a90', 'ef7ba643-a85b-4149-b052-d7dd178ad464', 'b07fe1ab-0800-414a-badb-82fdcc5476eb', '07957f79-73f0-4ec1-98ce-ac26fb006311', '27deb6dd-a269-456c-bdd5-e208312b538b', '7fa54f72-724a-46d5-bab8-94583e84efc7', 'ea50111a-d7dc-4c53-9002-5ad6c0f9da39', 'ea99e473-7aaa-4f52-882b-98680c3d34d9', '6cb2bebd-4a06-48dd-aa72-598555c4b3cc', '597b4bb6-1d87-4735-8ddd-db9adce34137', '8096ff2f-de01-482e-9ea4-90e398c82f7a', '78ab96bc-d83a-4208-b6f7-cb51bf438651', 'f6682319-ea97-44ff-8834-5477716aab91', '8316e32d-6939-4f3c-bcdc-74990ee1ddc2', 'b8432ba4-6e92-45f2-b886-b430a51dfd85', '0190ab53-a125-46cd-a4ac-b6f38819e1a5', '1ae3cd18-31b0-4f5c-bbed-be6c4cd17479', '2fd851fb-7bd2-4e85-a68b-f8110ffb2c13', 'ebff7ca5-cb60-4db7-8e9e-baea574839bf', 'bd0737af-37b0-4a77-a262-e7095456e1e4', 'f4ec4c11-3471-4ae7-822d-4e6ff2c2ddd9', '4f01c6ed-b160-48d1-a39e-74017658d839', '03984825-732d-4c6b-9616-a07f08b65795', 'ae28c57e-1be8-4b40-b926-cf4105b6be37', '14ae6e24-1eca-4d52-8a46-5c053f1e88e5', 'd552e575-124c-44c7-a0cd-207a974d19ba', 'b0c939d9-3d50-4d92-ab57-70c516f462e9', 'cce12cd7-081c-4af1-a2bb-4d2fee055ce4', 'd35a2adc-87af-4fcc-9f87-92ab10d685e5', '0d59176c-1946-4cd4-ae56-1afa44100db2', '16fcc202-1a30-40c9-a45a-05553d570f11', 'd2bea889-38cc-434f-a456-f16bfab677d8', '94c4b715-088d-4047-8d32-88b0da2b3106', 'ecc615b4-063f-415e-abab-fe1011e6bd19', '88ba71e8-6790-45ab-a62a-40cbf9dc2111', 'f101076b-3c72-46bf-96ff-57c4359dd25e', 'a29fce73-e73a-48bc-910b-ba83db264473', '9ecd8c4f-353e-4df2-a451-900fe77fa5f3', 'dd85417e-872c-4e4a-b476-936d7b14ff59', '79e99067-daa5-4e87-b7e3-260f86d4918f', 'd3ed165e-f4ee-4210-bee0-0b7a5e3c117e', '5763d8c9-138f-44fc-b754-71395aa31951', '0d04168b-84a7-4f15-af14-c5f34d3a051a', '7f797bc5-f5f4-496d-afbe-5b543ed4634d', '1c34e724-bed8-4232-96e0-67e0104e2edb', '46bda09b-a214-4d9c-b014-badfa654ab1e', '93ce0d49-e5a1-488a-829d-70cce1ed3408', 'ab399a29-0ebd-46f5-b397-edd28872d022', 'd75ff573-aac4-4720-a32e-ad499948f57c', '8c30d53c-f899-4795-8d22-b9f63522cd41', '3e9e8301-95e9-42f5-9c75-d17515db9352', 'a5bf7ab1-a721-46c2-a113-e674612d9052', '0dbe7ca3-d7a4-4a6e-b588-46eb1e13e6c6', 'f6b09869-f418-47ad-8103-732fcbe3c9ab', 'e888c6e3-f6b1-4087-a277-d619cf802797', '1778278e-0d0a-4032-9463-f606f7026f9b', 'd93221c1-815f-4970-a25f-9d806422765d', '280ee259-35f5-4a2d-8556-2ab162d07c71', 'f68a4b80-2f2c-42dc-a680-d3d7ebc6b6f7', '61f43548-296f-46ab-99a9-e31af4787d6d', 'f7e8c482-23ee-4835-bb55-8952f461069e', '39bc2db3-154e-4d27-9500-07affc49f47b', '39a7f521-51be-43c8-812a-f7094217aa6b', '6c3ec92e-5300-4a6f-98be-1bb44c02d772', 'f42f248e-bd54-417a-a076-13a051d916f8', 'c37928e2-ee0f-46b9-9147-90f803b89fcc', '74522bd7-03fd-46d4-89ed-81a0e587ebdf', '40f75ae0-4be0-493a-a02f-8540fbe398fb', '4421c514-dde0-4312-abe9-dfaee7ec04d9', 'be43cdac-3c99-480b-b419-9f48a73f8539', '0b0a8a0f-32a9-4cdb-9e26-1eff741f2e59', '3e8ba09d-e19c-4a02-a07b-438aafccbf68', 'bd1ac783-22d5-49e9-8a00-83fbf21c471e', '3cb48563-1837-47fb-914c-9d0e0c01b0c7', '6e2bebdf-f15c-4767-bc3f-73b46e141d32', '712214f5-5db7-4e8a-b15a-cde04400feb4', '78630c01-6ea6-4326-a538-26cd864af0f5', 'd60299da-19c4-4247-ae12-a9b518b96eb5', '3efd55b9-6791-4426-b75b-88c682d0ca09', '18b3fec0-9d88-4d53-bfa8-90cef40027cc', '3dd641e5-1e47-4d1f-a93b-e6d3d2459259', '72a9de64-6d1a-497d-9b11-78c26bebd1af', '97e918a0-dfbb-43c1-80ef-12f9c8cb7315', 'e8609a2b-7b5d-4081-ad9c-bf3c6231c273', '5aa5919e-72a7-4c10-924f-31ef59533cf2', 'f3b34513-5d63-490f-975e-a13e75bdb463', '6af9f8ce-2a71-4911-a20f-5188153efcb3', '6f3b7c2c-97ca-402e-aa7f-8266939b2c65', '6e8fb79f-d91c-436d-978c-eb0fc5bfc6da', '60f6d716-2a31-4643-aee3-1723198a4f15', 'c177f1ec-df3b-42b4-91de-8bfe9a5d6867', 'bda84c94-3f46-4416-b7b0-75f33506bce7', '2c3dc5de-1321-4f29-81c5-0c5ca7402b0c', '9cf02012-e72d-472e-b4c5-7387d8388432', 'a16846bd-4021-4ba0-ab5f-a6df946389c9', 'd5a46e36-fa28-4530-86ed-f2b450aa6903', '4319c4f6-4ac5-43f0-8e22-85ddd22e12fc', 'e3d5fbf6-54db-4782-9731-30588055f834', 'e93a3633-ed8f-49ef-9def-7898cdc3f126', '46808dff-052d-4f6f-846c-9a87457c4a9e', '4b771a2a-2895-430d-bc11-d71e88494cbc', '37568878-b92a-424f-9ae3-1d315249aa88', '8f5f9380-8c12-4d35-8bd8-eb0b1c9c4501', '0975ddea-7501-4d85-b93a-39183d963973', '0d2dab12-dcb4-482a-94aa-168973ab45d6', '789a4cf1-84b5-4f47-829d-26103d39b2c6', 'd2186530-b511-4ae8-a45f-db9823bca713', '22f15804-e3f6-4058-ad1f-704ae6a6d62f', 'fb693097-a021-4f9c-b014-011f51908be6', 'c9d5d3f0-5898-41e2-8258-d83108bfc4c5', 'ca1a4286-0a61-4164-add0-b28968e304fc', 'dc339171-4986-43a6-9abf-644e6e7be298', '5f2b3108-eb78-4ff0-85fa-a0a828fdb43c', 'e1f5dea6-fe4d-47dc-ad6d-9fd827f2e0dd', 'b0280c80-4b4d-4886-988e-779edfc658d2', 'db2e5bfd-8729-417d-8871-dea6307c4232', '9bfa1737-9ef3-4fb3-b814-4b21da29aa83', '85714bc6-2693-4690-8af4-5a65650bd459', '334380a1-7fdc-4b72-9227-22bd791a9681', '2b01c877-129c-4a96-a7bb-1f11a52072e2', 'dd0603cf-2b8a-40db-94ee-043ff62bc193', '1e6411fd-490c-4190-895e-4baec1b13dee', '19f4aa12-ff4e-48fc-84c2-3b6bd6d25674', '41ea15dc-5111-46e5-ae9a-340306d4b018', '51dc5ca3-aa16-48dc-a38b-cf27e5314956', '087033c7-ce28-459f-8e9a-aa8e60f9fb4b', '30290bc5-f259-4fa5-b43f-6bcdbea3d9b8', 'd037b4c3-ee2c-4f9b-82e1-8ba58886cabb', '2b4ac1c5-c40c-47cc-aee0-bfae469990ac']\n"
     ]
    },
    {
     "name": "stdout",
     "output_type": "stream",
     "text": [
      "Replacing 101 from 305 !\n",
      "D_relabeled_ 101\n",
      "selected_ids ['f101076b-3c72-46bf-96ff-57c4359dd25e', '566ac2bb-e264-4833-a193-7cbbb5a39239', '8c0eb651-434d-41aa-9349-7afdc242a43a', 'b49860de-747a-468b-b60a-e180e36fb3f2', '6c3ec92e-5300-4a6f-98be-1bb44c02d772', '8061ec05-72d9-40c4-8e4f-41d470424ef3', '05f00d64-1aa4-4e83-ba50-5af0410ba7cc', 'b721229d-e8a7-4dd2-a0e1-101784fc8618', 'c8bd1f5d-e5e0-4c7b-b534-bad1d54e7aea', '2b4ac1c5-c40c-47cc-aee0-bfae469990ac', '26bf1c31-fdfe-4b5f-9174-a8a2ad21a3df', '2fd851fb-7bd2-4e85-a68b-f8110ffb2c13', '6a9a9836-a1e7-4618-bbb7-f45385b54131', '6465402d-28fb-4d1c-8e94-1bff4e52ddf7', '280ee259-35f5-4a2d-8556-2ab162d07c71', '85714bc6-2693-4690-8af4-5a65650bd459', '8f1baa49-57a1-47f7-98ac-eb80fbcedd0b', '1e6411fd-490c-4190-895e-4baec1b13dee', 'b8432ba4-6e92-45f2-b886-b430a51dfd85', '1f3c990d-3e36-411e-9c30-6c2e66b4188c', 'fb693097-a021-4f9c-b014-011f51908be6', '94c4b715-088d-4047-8d32-88b0da2b3106', '7fa54f72-724a-46d5-bab8-94583e84efc7', '88ba71e8-6790-45ab-a62a-40cbf9dc2111', '0d59176c-1946-4cd4-ae56-1afa44100db2', 'a5bf7ab1-a721-46c2-a113-e674612d9052', '1ae3cd18-31b0-4f5c-bbed-be6c4cd17479', '86fc856f-db25-496c-8377-1d56a82094fd', 'a29fce73-e73a-48bc-910b-ba83db264473', '745fe1b4-8e4c-4d8b-86eb-9812c9e6c7ac', '040f799a-2617-4106-8e0a-0081928726b2', 'd552e575-124c-44c7-a0cd-207a974d19ba', '07a849f2-6ba3-4b50-8a8c-f9e73093f762', '72a9de64-6d1a-497d-9b11-78c26bebd1af', '40319194-d676-44b4-88fe-6833b12233ce', '3efd55b9-6791-4426-b75b-88c682d0ca09', '3cb48563-1837-47fb-914c-9d0e0c01b0c7', 'ff9d41b6-f09f-467d-9e2e-5d183b344663', '19247bf1-d416-4f18-a364-6630bb82afdc', '16fcc202-1a30-40c9-a45a-05553d570f11', '47a020c1-4553-45ff-b51e-1ba54a157e5c', '3e9e8301-95e9-42f5-9c75-d17515db9352', 'c058925d-f777-4463-a310-df7d21c8b727', '4f01c6ed-b160-48d1-a39e-74017658d839', 'dbef8145-2b0a-4802-b758-231e864a6197', 'b0d7481a-6cbc-4554-accd-6333a534d39d', '2f81b95c-e7e8-42e9-8262-d28ce1b55a56', '7efbb6d3-8898-46ea-9836-26dd9d9d344d', 'ebeedb52-428e-450e-8df2-bdcabb4e9824', '24a03a9c-5cb5-486e-b781-bfe1ba63fdf8', 'dc339171-4986-43a6-9abf-644e6e7be298', '56ee49fe-7cc1-43ea-a711-65e96ccd727d', 'a03df1f4-966e-412a-bda8-4ba9b65404ab', '7ae53f7b-863b-4f90-ad1c-d1901bb76f78', '8fd45df3-054d-42d8-9273-2c7f8d2c98e0', 'b9313b7c-e277-4e97-9c97-959f043121d2', 'd2484bdf-f1d1-4ba6-bac6-437edbb5cbaa', '3dd641e5-1e47-4d1f-a93b-e6d3d2459259', '1f48d7e5-a7fe-4d71-9556-bf342a3dff96', 'ee29ab5c-68bf-4b39-b71e-b9ee7a74113e', '96e0445f-1269-40db-93e2-e76020282697', '1c6d62e4-577b-4b20-9766-0384ed6a64a5', '4861c11f-0b9b-4837-8515-04bafe743e72', 'd60299da-19c4-4247-ae12-a9b518b96eb5', '5823bc63-ea33-417c-bb30-29251551fc2a', 'd35a2adc-87af-4fcc-9f87-92ab10d685e5', '0e380648-c07f-4257-86a1-760576bbc504', 'abf2f9b6-cea7-4054-81a7-46288d01cf74', '8d6793cb-c5c8-4f73-b8c5-30f5f69c4027', '27c2c139-ca49-4dd8-bb73-9097d7f80668', 'aaf2b345-c3f0-42ff-b11b-4dd045672d25', '3db49bd3-b135-4867-befb-fac68b0698c0', '61f43548-296f-46ab-99a9-e31af4787d6d', '0a962e45-b673-4bbc-b06f-daa815a1a999', '0bc4fdf8-d70f-4b59-a36d-baa172ba8001', '4b771a2a-2895-430d-bc11-d71e88494cbc', 'a16846bd-4021-4ba0-ab5f-a6df946389c9', 'ea50111a-d7dc-4c53-9002-5ad6c0f9da39', '9ecd8c4f-353e-4df2-a451-900fe77fa5f3', '7f797bc5-f5f4-496d-afbe-5b543ed4634d', '4590b7c1-82c7-49d9-9aa2-33cca613a755', 'f4ec4c11-3471-4ae7-822d-4e6ff2c2ddd9', '27deb6dd-a269-456c-bdd5-e208312b538b', 'df5487b8-f1bd-4aef-ab99-6551fe394e46', '3fa8ac4c-ceaa-4eff-87b7-e42043bb71b0', '839c1826-b754-42af-875a-de91456f0bc5', '1c21cfe2-db49-4bca-beae-edb5192ee9b5', 'db2e5bfd-8729-417d-8871-dea6307c4232', 'cc9d3bb0-397e-4f2b-8ee9-9cb8a0338bfc', 'f68a4b80-2f2c-42dc-a680-d3d7ebc6b6f7', 'b03462fb-1748-492f-a435-207ea9a34f4e', '30290bc5-f259-4fa5-b43f-6bcdbea3d9b8', '789a4cf1-84b5-4f47-829d-26103d39b2c6', '5763d8c9-138f-44fc-b754-71395aa31951', '42e180bf-1350-415e-a5f2-a93a9dcbb409', 'b4d5299b-4602-4b50-b62b-fdc59f83a8e6', 'e0386242-e67d-4851-9130-a385b1061aa6', 'f6b09869-f418-47ad-8103-732fcbe3c9ab', 'ebff7ca5-cb60-4db7-8e9e-baea574839bf', '95960e1c-04d7-4899-a5db-c08a3430d870', 'd2bea889-38cc-434f-a456-f16bfab677d8']\n",
      "dict_keys(['f101076b-3c72-46bf-96ff-57c4359dd25e', '566ac2bb-e264-4833-a193-7cbbb5a39239', '8c0eb651-434d-41aa-9349-7afdc242a43a', 'b49860de-747a-468b-b60a-e180e36fb3f2', '6c3ec92e-5300-4a6f-98be-1bb44c02d772', '8061ec05-72d9-40c4-8e4f-41d470424ef3', '05f00d64-1aa4-4e83-ba50-5af0410ba7cc', 'b721229d-e8a7-4dd2-a0e1-101784fc8618', 'c8bd1f5d-e5e0-4c7b-b534-bad1d54e7aea', '2b4ac1c5-c40c-47cc-aee0-bfae469990ac', '26bf1c31-fdfe-4b5f-9174-a8a2ad21a3df', '2fd851fb-7bd2-4e85-a68b-f8110ffb2c13', '6a9a9836-a1e7-4618-bbb7-f45385b54131', '6465402d-28fb-4d1c-8e94-1bff4e52ddf7', '280ee259-35f5-4a2d-8556-2ab162d07c71', '85714bc6-2693-4690-8af4-5a65650bd459', '8f1baa49-57a1-47f7-98ac-eb80fbcedd0b', '1e6411fd-490c-4190-895e-4baec1b13dee', 'b8432ba4-6e92-45f2-b886-b430a51dfd85', '1f3c990d-3e36-411e-9c30-6c2e66b4188c', 'fb693097-a021-4f9c-b014-011f51908be6', '94c4b715-088d-4047-8d32-88b0da2b3106', '7fa54f72-724a-46d5-bab8-94583e84efc7', '88ba71e8-6790-45ab-a62a-40cbf9dc2111', '0d59176c-1946-4cd4-ae56-1afa44100db2', 'a5bf7ab1-a721-46c2-a113-e674612d9052', '1ae3cd18-31b0-4f5c-bbed-be6c4cd17479', '86fc856f-db25-496c-8377-1d56a82094fd', 'a29fce73-e73a-48bc-910b-ba83db264473', '745fe1b4-8e4c-4d8b-86eb-9812c9e6c7ac', '040f799a-2617-4106-8e0a-0081928726b2', 'd552e575-124c-44c7-a0cd-207a974d19ba', '07a849f2-6ba3-4b50-8a8c-f9e73093f762', '72a9de64-6d1a-497d-9b11-78c26bebd1af', '40319194-d676-44b4-88fe-6833b12233ce', '3efd55b9-6791-4426-b75b-88c682d0ca09', '3cb48563-1837-47fb-914c-9d0e0c01b0c7', 'ff9d41b6-f09f-467d-9e2e-5d183b344663', '19247bf1-d416-4f18-a364-6630bb82afdc', '16fcc202-1a30-40c9-a45a-05553d570f11', '47a020c1-4553-45ff-b51e-1ba54a157e5c', '3e9e8301-95e9-42f5-9c75-d17515db9352', 'c058925d-f777-4463-a310-df7d21c8b727', '4f01c6ed-b160-48d1-a39e-74017658d839', 'dbef8145-2b0a-4802-b758-231e864a6197', 'b0d7481a-6cbc-4554-accd-6333a534d39d', '2f81b95c-e7e8-42e9-8262-d28ce1b55a56', '7efbb6d3-8898-46ea-9836-26dd9d9d344d', 'ebeedb52-428e-450e-8df2-bdcabb4e9824', '24a03a9c-5cb5-486e-b781-bfe1ba63fdf8', 'dc339171-4986-43a6-9abf-644e6e7be298', '56ee49fe-7cc1-43ea-a711-65e96ccd727d', 'a03df1f4-966e-412a-bda8-4ba9b65404ab', '7ae53f7b-863b-4f90-ad1c-d1901bb76f78', '8fd45df3-054d-42d8-9273-2c7f8d2c98e0', 'b9313b7c-e277-4e97-9c97-959f043121d2', 'd2484bdf-f1d1-4ba6-bac6-437edbb5cbaa', '3dd641e5-1e47-4d1f-a93b-e6d3d2459259', '1f48d7e5-a7fe-4d71-9556-bf342a3dff96', 'ee29ab5c-68bf-4b39-b71e-b9ee7a74113e', '96e0445f-1269-40db-93e2-e76020282697', '1c6d62e4-577b-4b20-9766-0384ed6a64a5', '4861c11f-0b9b-4837-8515-04bafe743e72', 'd60299da-19c4-4247-ae12-a9b518b96eb5', '5823bc63-ea33-417c-bb30-29251551fc2a', 'd35a2adc-87af-4fcc-9f87-92ab10d685e5', '0e380648-c07f-4257-86a1-760576bbc504', 'abf2f9b6-cea7-4054-81a7-46288d01cf74', '8d6793cb-c5c8-4f73-b8c5-30f5f69c4027', '27c2c139-ca49-4dd8-bb73-9097d7f80668', 'aaf2b345-c3f0-42ff-b11b-4dd045672d25', '3db49bd3-b135-4867-befb-fac68b0698c0', '61f43548-296f-46ab-99a9-e31af4787d6d', '0a962e45-b673-4bbc-b06f-daa815a1a999', '0bc4fdf8-d70f-4b59-a36d-baa172ba8001', '4b771a2a-2895-430d-bc11-d71e88494cbc', 'a16846bd-4021-4ba0-ab5f-a6df946389c9', 'ea50111a-d7dc-4c53-9002-5ad6c0f9da39', '9ecd8c4f-353e-4df2-a451-900fe77fa5f3', '7f797bc5-f5f4-496d-afbe-5b543ed4634d', '4590b7c1-82c7-49d9-9aa2-33cca613a755', 'f4ec4c11-3471-4ae7-822d-4e6ff2c2ddd9', '27deb6dd-a269-456c-bdd5-e208312b538b', 'df5487b8-f1bd-4aef-ab99-6551fe394e46', '3fa8ac4c-ceaa-4eff-87b7-e42043bb71b0', '839c1826-b754-42af-875a-de91456f0bc5', '1c21cfe2-db49-4bca-beae-edb5192ee9b5', 'db2e5bfd-8729-417d-8871-dea6307c4232', 'cc9d3bb0-397e-4f2b-8ee9-9cb8a0338bfc', 'f68a4b80-2f2c-42dc-a680-d3d7ebc6b6f7', 'b03462fb-1748-492f-a435-207ea9a34f4e', '30290bc5-f259-4fa5-b43f-6bcdbea3d9b8', '789a4cf1-84b5-4f47-829d-26103d39b2c6', '5763d8c9-138f-44fc-b754-71395aa31951', '42e180bf-1350-415e-a5f2-a93a9dcbb409', 'b4d5299b-4602-4b50-b62b-fdc59f83a8e6', 'e0386242-e67d-4851-9130-a385b1061aa6', 'f6b09869-f418-47ad-8103-732fcbe3c9ab', 'ebff7ca5-cb60-4db7-8e9e-baea574839bf', '95960e1c-04d7-4899-a5db-c08a3430d870', 'd2bea889-38cc-434f-a456-f16bfab677d8'])\n",
      "point ids 101\n",
      "Removed: 101 Filled: 101\n",
      "TOOK 320.7750053405762 seconds\n"
     ]
    }
   ],
   "source": [
    "for run in range(RUNS):\n",
    "    print('***')\n",
    "    print('RUN:', run)\n",
    "    t0 = time.time()\n",
    "    R.run_classifier()\n",
    "    R.run_discriminator()\n",
    "    l = R.find_machine_labels()\n",
    "    if l == 0:\n",
    "        print('No more machine labels.')\n",
    "        print('TOOK', time.time()-t0, 'seconds')\n",
    "        break\n",
    "    R.relabel(percent_to_replace=PERCENT_TO_REPLACE)\n",
    "    print('TOOK', time.time()-t0, 'seconds')\n",
    "    "
   ]
  },
  {
   "cell_type": "code",
   "execution_count": null,
   "id": "dab6fd49",
   "metadata": {},
   "outputs": [],
   "source": []
  },
  {
   "cell_type": "code",
   "execution_count": 15,
   "id": "00075332",
   "metadata": {},
   "outputs": [
    {
     "data": {
      "text/plain": [
       "[344.25732421875,\n",
       " 348.4939880371094,\n",
       " 346.9913330078125,\n",
       " 347.586669921875,\n",
       " 347.3193359375]"
      ]
     },
     "execution_count": 15,
     "metadata": {},
     "output_type": "execute_result"
    }
   ],
   "source": [
    "R.classifier_scores"
   ]
  },
  {
   "cell_type": "code",
   "execution_count": 16,
   "id": "35105656",
   "metadata": {},
   "outputs": [
    {
     "data": {
      "text/plain": [
       "[[0.0, 1.0], [0.0, 1.0], [0.0, 1.0], [0.0, 1.0], [0.0, 1.0]]"
      ]
     },
     "execution_count": 16,
     "metadata": {},
     "output_type": "execute_result"
    }
   ],
   "source": [
    "R.discriminator_scores"
   ]
  },
  {
   "cell_type": "code",
   "execution_count": null,
   "id": "e256ed4d",
   "metadata": {},
   "outputs": [],
   "source": []
  },
  {
   "cell_type": "code",
   "execution_count": 17,
   "id": "c83bb28d",
   "metadata": {},
   "outputs": [
    {
     "ename": "TypeError",
     "evalue": "'float' object is not subscriptable",
     "output_type": "error",
     "traceback": [
      "\u001b[0;31m---------------------------------------------------------------------------\u001b[0m",
      "\u001b[0;31mTypeError\u001b[0m                                 Traceback (most recent call last)",
      "\u001b[0;32m/tmp/ipykernel_2864374/1445585824.py\u001b[0m in \u001b[0;36m<module>\u001b[0;34m\u001b[0m\n\u001b[0;32m----> 1\u001b[0;31m \u001b[0mR\u001b[0m\u001b[0;34m.\u001b[0m\u001b[0mplot\u001b[0m\u001b[0;34m(\u001b[0m\u001b[0;34m)\u001b[0m\u001b[0;34m\u001b[0m\u001b[0;34m\u001b[0m\u001b[0m\n\u001b[0m",
      "\u001b[0;32m~/Projects/CS410-Omama/_EXPERIMENTS/GP2/../../gp2/runner.py\u001b[0m in \u001b[0;36mplot\u001b[0;34m(self)\u001b[0m\n\u001b[1;32m    582\u001b[0m \u001b[0;34m\u001b[0m\u001b[0m\n\u001b[1;32m    583\u001b[0m         \u001b[0mx\u001b[0m \u001b[0;34m=\u001b[0m \u001b[0mrange\u001b[0m\u001b[0;34m(\u001b[0m\u001b[0mlen\u001b[0m\u001b[0;34m(\u001b[0m\u001b[0mself\u001b[0m\u001b[0;34m.\u001b[0m\u001b[0mclassifier_scores\u001b[0m\u001b[0;34m)\u001b[0m\u001b[0;34m)\u001b[0m\u001b[0;34m\u001b[0m\u001b[0;34m\u001b[0m\u001b[0m\n\u001b[0;32m--> 584\u001b[0;31m         \u001b[0my1\u001b[0m \u001b[0;34m=\u001b[0m \u001b[0mC_accuracies\u001b[0m \u001b[0;34m=\u001b[0m \u001b[0;34m[\u001b[0m\u001b[0mv\u001b[0m\u001b[0;34m[\u001b[0m\u001b[0;36m1\u001b[0m\u001b[0;34m]\u001b[0m \u001b[0;32mfor\u001b[0m \u001b[0mv\u001b[0m \u001b[0;32min\u001b[0m \u001b[0mself\u001b[0m\u001b[0;34m.\u001b[0m\u001b[0mclassifier_scores\u001b[0m\u001b[0;34m]\u001b[0m\u001b[0;34m\u001b[0m\u001b[0;34m\u001b[0m\u001b[0m\n\u001b[0m\u001b[1;32m    585\u001b[0m         \u001b[0my2\u001b[0m \u001b[0;34m=\u001b[0m \u001b[0mD_accuracies\u001b[0m \u001b[0;34m=\u001b[0m \u001b[0;34m[\u001b[0m\u001b[0mv\u001b[0m\u001b[0;34m[\u001b[0m\u001b[0;36m1\u001b[0m\u001b[0;34m]\u001b[0m \u001b[0;32mfor\u001b[0m \u001b[0mv\u001b[0m \u001b[0;32min\u001b[0m \u001b[0mself\u001b[0m\u001b[0;34m.\u001b[0m\u001b[0mdiscriminator_scores\u001b[0m\u001b[0;34m]\u001b[0m\u001b[0;34m\u001b[0m\u001b[0;34m\u001b[0m\u001b[0m\n\u001b[1;32m    586\u001b[0m \u001b[0;34m\u001b[0m\u001b[0m\n",
      "\u001b[0;32m~/Projects/CS410-Omama/_EXPERIMENTS/GP2/../../gp2/runner.py\u001b[0m in \u001b[0;36m<listcomp>\u001b[0;34m(.0)\u001b[0m\n\u001b[1;32m    582\u001b[0m \u001b[0;34m\u001b[0m\u001b[0m\n\u001b[1;32m    583\u001b[0m         \u001b[0mx\u001b[0m \u001b[0;34m=\u001b[0m \u001b[0mrange\u001b[0m\u001b[0;34m(\u001b[0m\u001b[0mlen\u001b[0m\u001b[0;34m(\u001b[0m\u001b[0mself\u001b[0m\u001b[0;34m.\u001b[0m\u001b[0mclassifier_scores\u001b[0m\u001b[0;34m)\u001b[0m\u001b[0;34m)\u001b[0m\u001b[0;34m\u001b[0m\u001b[0;34m\u001b[0m\u001b[0m\n\u001b[0;32m--> 584\u001b[0;31m         \u001b[0my1\u001b[0m \u001b[0;34m=\u001b[0m \u001b[0mC_accuracies\u001b[0m \u001b[0;34m=\u001b[0m \u001b[0;34m[\u001b[0m\u001b[0mv\u001b[0m\u001b[0;34m[\u001b[0m\u001b[0;36m1\u001b[0m\u001b[0;34m]\u001b[0m \u001b[0;32mfor\u001b[0m \u001b[0mv\u001b[0m \u001b[0;32min\u001b[0m \u001b[0mself\u001b[0m\u001b[0;34m.\u001b[0m\u001b[0mclassifier_scores\u001b[0m\u001b[0;34m]\u001b[0m\u001b[0;34m\u001b[0m\u001b[0;34m\u001b[0m\u001b[0m\n\u001b[0m\u001b[1;32m    585\u001b[0m         \u001b[0my2\u001b[0m \u001b[0;34m=\u001b[0m \u001b[0mD_accuracies\u001b[0m \u001b[0;34m=\u001b[0m \u001b[0;34m[\u001b[0m\u001b[0mv\u001b[0m\u001b[0;34m[\u001b[0m\u001b[0;36m1\u001b[0m\u001b[0;34m]\u001b[0m \u001b[0;32mfor\u001b[0m \u001b[0mv\u001b[0m \u001b[0;32min\u001b[0m \u001b[0mself\u001b[0m\u001b[0;34m.\u001b[0m\u001b[0mdiscriminator_scores\u001b[0m\u001b[0;34m]\u001b[0m\u001b[0;34m\u001b[0m\u001b[0;34m\u001b[0m\u001b[0m\n\u001b[1;32m    586\u001b[0m \u001b[0;34m\u001b[0m\u001b[0m\n",
      "\u001b[0;31mTypeError\u001b[0m: 'float' object is not subscriptable"
     ]
    }
   ],
   "source": [
    "R.plot()"
   ]
  },
  {
   "cell_type": "code",
   "execution_count": null,
   "id": "7f3b4a58",
   "metadata": {},
   "outputs": [],
   "source": []
  },
  {
   "cell_type": "code",
   "execution_count": null,
   "id": "d21df741",
   "metadata": {},
   "outputs": [],
   "source": []
  },
  {
   "cell_type": "code",
   "execution_count": null,
   "id": "7dca2275",
   "metadata": {},
   "outputs": [],
   "source": []
  },
  {
   "cell_type": "code",
   "execution_count": 18,
   "id": "b1ec788d",
   "metadata": {},
   "outputs": [
    {
     "data": {
      "image/png": "[encoded data removed]",
      "text/plain": [
       "<Figure size 240x240 with 1 Axes>"
      ]
     },
     "metadata": {
      "needs_background": "light"
     },
     "output_type": "display_data"
    }
   ],
   "source": [
    "R.plot()"
   ]
  },
  {
   "cell_type": "code",
   "execution_count": null,
   "id": "0553618c",
   "metadata": {},
   "outputs": [],
   "source": []
  },
  {
   "cell_type": "code",
   "execution_count": null,
   "id": "40efc1ca",
   "metadata": {},
   "outputs": [],
   "source": []
  },
  {
   "cell_type": "code",
   "execution_count": null,
   "id": "52194054",
   "metadata": {},
   "outputs": [],
   "source": []
  },
  {
   "cell_type": "code",
   "execution_count": null,
   "id": "af59bc12",
   "metadata": {},
   "outputs": [],
   "source": []
  },
  {
   "cell_type": "code",
   "execution_count": 17,
   "id": "0a721a90",
   "metadata": {},
   "outputs": [
    {
     "data": {
      "image/png": "[encoded data removed]",
      "text/plain": [
       "<Figure size 240x240 with 1 Axes>"
      ]
     },
     "metadata": {
      "needs_background": "light"
     },
     "output_type": "display_data"
    }
   ],
   "source": [
    "R.plot()"
   ]
  },
  {
   "cell_type": "code",
   "execution_count": null,
   "id": "551de181",
   "metadata": {},
   "outputs": [],
   "source": []
  }
 ],
 "metadata": {
  "kernelspec": {
   "display_name": "Python 3 (ipykernel)",
   "language": "python",
   "name": "python3"
  },
  "language_info": {
   "codemirror_mode": {
    "name": "ipython",
    "version": 3
   },
   "file_extension": ".py",
   "mimetype": "text/x-python",
   "name": "python",
   "nbconvert_exporter": "python",
   "pygments_lexer": "ipython3",
   "version": "3.9.7"
  }
 },
 "nbformat": 4,
 "nbformat_minor": 5
}
