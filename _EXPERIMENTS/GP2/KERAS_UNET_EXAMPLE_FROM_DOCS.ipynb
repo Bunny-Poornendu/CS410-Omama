{
 "cells": [
  {
   "cell_type": "code",
   "execution_count": 3,
   "id": "ec15227e",
   "metadata": {},
   "outputs": [
    {
     "name": "stdout",
     "output_type": "stream",
     "text": [
      "Populating the interactive namespace from numpy and matplotlib\n"
     ]
    }
   ],
   "source": [
    "%pylab inline\n",
    "%load_ext autoreload\n",
    "%autoreload 2\n",
    "import time\n",
    "import sys\n",
    "sys.path.insert(0,'../..')\n",
    "from keras import losses, metrics\n",
    "from tensorflow.keras import optimizers\n",
    "import numpy as np\n",
    "from glob import glob\n",
    "import gp2\n",
    "from gp2 import Runner"
   ]
  },
  {
   "cell_type": "code",
   "execution_count": 4,
   "id": "d6ed7035",
   "metadata": {},
   "outputs": [],
   "source": [
    "from tensorflow import keras\n",
    "from tensorflow.keras.layers import Input, Conv2D, Dropout, Activation, UpSampling2D, GlobalMaxPooling2D, multiply\n",
    "from tensorflow.keras.backend import max"
   ]
  },
  {
   "cell_type": "code",
   "execution_count": null,
   "id": "208344ad",
   "metadata": {},
   "outputs": [],
   "source": []
  }
 ],
 "metadata": {
  "kernelspec": {
   "display_name": "Python 3 (ipykernel)",
   "language": "python",
   "name": "python3"
  },
  "language_info": {
   "codemirror_mode": {
    "name": "ipython",
    "version": 3
   },
   "file_extension": ".py",
   "mimetype": "text/x-python",
   "name": "python",
   "nbconvert_exporter": "python",
   "pygments_lexer": "ipython3",
   "version": "3.9.7"
  }
 },
 "nbformat": 4,
 "nbformat_minor": 5
}
