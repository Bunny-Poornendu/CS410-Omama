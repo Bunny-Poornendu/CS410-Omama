{
 "cells": [
  {
   "cell_type": "code",
   "execution_count": 1,
   "id": "06c4accc",
   "metadata": {},
   "outputs": [
    {
     "name": "stdout",
     "output_type": "stream",
     "text": [
      "Populating the interactive namespace from numpy and matplotlib\n"
     ]
    }
   ],
   "source": [
    "%pylab inline\n",
    "%load_ext autoreload\n",
    "%autoreload 2"
   ]
  },
  {
   "cell_type": "code",
   "execution_count": 2,
   "id": "861fc4c8",
   "metadata": {},
   "outputs": [
    {
     "name": "stderr",
     "output_type": "stream",
     "text": [
      "2023-04-22 01:42:55.528932: I tensorflow/stream_executor/platform/default/dso_loader.cc:53] Successfully opened dynamic library libcudart.so.11.0\n"
     ]
    }
   ],
   "source": [
    "import numpy as np\n",
    "from glob import glob\n",
    "from tensorflow import keras\n",
    "from tensorflow.keras.layers import Input, Conv2D, Dropout, Activation, UpSampling2D, GlobalMaxPooling2D, multiply\n",
    "from tensorflow.keras.backend import max\n",
    "from keras_unet_collection import models, base, utils"
   ]
  },
  {
   "cell_type": "code",
   "execution_count": 3,
   "id": "b9e78ed8",
   "metadata": {
    "scrolled": true
   },
   "outputs": [
    {
     "name": "stderr",
     "output_type": "stream",
     "text": [
      "2023-04-22 01:42:57.256782: I tensorflow/stream_executor/platform/default/dso_loader.cc:53] Successfully opened dynamic library libcuda.so.1\n",
      "2023-04-22 01:42:57.477671: I tensorflow/core/common_runtime/gpu/gpu_device.cc:1733] Found device 0 with properties: \n",
      "pciBusID: 0000:07:00.0 name: A100-SXM4-40GB computeCapability: 8.0\n",
      "coreClock: 1.41GHz coreCount: 108 deviceMemorySize: 39.59GiB deviceMemoryBandwidth: 1.41TiB/s\n",
      "2023-04-22 01:42:57.480251: I tensorflow/core/common_runtime/gpu/gpu_device.cc:1733] Found device 1 with properties: \n",
      "pciBusID: 0000:0f:00.0 name: A100-SXM4-40GB computeCapability: 8.0\n",
      "coreClock: 1.41GHz coreCount: 108 deviceMemorySize: 39.59GiB deviceMemoryBandwidth: 1.41TiB/s\n",
      "2023-04-22 01:42:57.480271: I tensorflow/stream_executor/platform/default/dso_loader.cc:53] Successfully opened dynamic library libcudart.so.11.0\n",
      "2023-04-22 01:42:57.484146: I tensorflow/stream_executor/platform/default/dso_loader.cc:53] Successfully opened dynamic library libcublas.so.11\n",
      "2023-04-22 01:42:57.484181: I tensorflow/stream_executor/platform/default/dso_loader.cc:53] Successfully opened dynamic library libcublasLt.so.11\n",
      "2023-04-22 01:42:57.485175: I tensorflow/stream_executor/platform/default/dso_loader.cc:53] Successfully opened dynamic library libcufft.so.10\n",
      "2023-04-22 01:42:57.485523: I tensorflow/stream_executor/platform/default/dso_loader.cc:53] Successfully opened dynamic library libcurand.so.10\n",
      "2023-04-22 01:42:57.486135: I tensorflow/stream_executor/platform/default/dso_loader.cc:53] Successfully opened dynamic library libcusolver.so.11\n",
      "2023-04-22 01:42:57.487003: I tensorflow/stream_executor/platform/default/dso_loader.cc:53] Successfully opened dynamic library libcusparse.so.11\n",
      "2023-04-22 01:42:57.487272: I tensorflow/stream_executor/platform/default/dso_loader.cc:53] Successfully opened dynamic library libcudnn.so.8\n",
      "2023-04-22 01:42:57.497955: I tensorflow/core/common_runtime/gpu/gpu_device.cc:1871] Adding visible gpu devices: 0, 1\n"
     ]
    }
   ],
   "source": [
    "import time\n",
    "import sys\n",
    "sys.path.insert(0,'../..')\n",
    "from gp2 import Runner"
   ]
  },
  {
   "cell_type": "code",
   "execution_count": null,
   "id": "9ca4623b",
   "metadata": {},
   "outputs": [],
   "source": []
  },
  {
   "cell_type": "code",
   "execution_count": 4,
   "id": "bdc75325",
   "metadata": {},
   "outputs": [
    {
     "name": "stderr",
     "output_type": "stream",
     "text": [
      "2023-04-22 01:42:57.551031: I tensorflow/core/platform/cpu_feature_guard.cc:142] This TensorFlow binary is optimized with oneAPI Deep Neural Network Library (oneDNN) to use the following CPU instructions in performance-critical operations:  AVX2 FMA\n",
      "To enable them in other operations, rebuild TensorFlow with the appropriate compiler flags.\n",
      "2023-04-22 01:42:57.882499: I tensorflow/core/common_runtime/gpu/gpu_device.cc:1733] Found device 0 with properties: \n",
      "pciBusID: 0000:07:00.0 name: A100-SXM4-40GB computeCapability: 8.0\n",
      "coreClock: 1.41GHz coreCount: 108 deviceMemorySize: 39.59GiB deviceMemoryBandwidth: 1.41TiB/s\n",
      "2023-04-22 01:42:57.884948: I tensorflow/core/common_runtime/gpu/gpu_device.cc:1733] Found device 1 with properties: \n",
      "pciBusID: 0000:0f:00.0 name: A100-SXM4-40GB computeCapability: 8.0\n",
      "coreClock: 1.41GHz coreCount: 108 deviceMemorySize: 39.59GiB deviceMemoryBandwidth: 1.41TiB/s\n",
      "2023-04-22 01:42:57.894630: I tensorflow/core/common_runtime/gpu/gpu_device.cc:1871] Adding visible gpu devices: 0, 1\n",
      "2023-04-22 01:42:57.894683: I tensorflow/stream_executor/platform/default/dso_loader.cc:53] Successfully opened dynamic library libcudart.so.11.0\n",
      "2023-04-22 01:42:58.678434: I tensorflow/core/common_runtime/gpu/gpu_device.cc:1258] Device interconnect StreamExecutor with strength 1 edge matrix:\n",
      "2023-04-22 01:42:58.678477: I tensorflow/core/common_runtime/gpu/gpu_device.cc:1264]      0 1 \n",
      "2023-04-22 01:42:58.678483: I tensorflow/core/common_runtime/gpu/gpu_device.cc:1277] 0:   N Y \n",
      "2023-04-22 01:42:58.678487: I tensorflow/core/common_runtime/gpu/gpu_device.cc:1277] 1:   Y N \n",
      "2023-04-22 01:42:58.690707: I tensorflow/core/common_runtime/gpu/gpu_device.cc:1418] Created TensorFlow device (/job:localhost/replica:0/task:0/device:GPU:0 with 38425 MB memory) -> physical GPU (device: 0, name: A100-SXM4-40GB, pci bus id: 0000:07:00.0, compute capability: 8.0)\n",
      "2023-04-22 01:42:58.693526: I tensorflow/core/common_runtime/gpu/gpu_device.cc:1418] Created TensorFlow device (/job:localhost/replica:0/task:0/device:GPU:1 with 38425 MB memory) -> physical GPU (device: 1, name: A100-SXM4-40GB, pci bus id: 0000:0f:00.0, compute capability: 8.0)\n"
     ]
    },
    {
     "name": "stdout",
     "output_type": "stream",
     "text": [
      "*** GP2  KUNet2D ***\n",
      "Working directory: /tmp/tmpbrxp_xb0GP2\n",
      "Verbose mode active!\n",
      "Model: \"unet_model\"\n",
      "__________________________________________________________________________________________________\n",
      "Layer (type)                    Output Shape         Param #     Connected to                     \n",
      "==================================================================================================\n",
      "input_1 (InputLayer)            [(None, 512, 512, 1) 0                                            \n",
      "__________________________________________________________________________________________________\n",
      "unet_down0_0 (Conv2D)           (None, 512, 512, 16) 144         input_1[0][0]                    \n",
      "__________________________________________________________________________________________________\n",
      "unet_down0_0_bn (BatchNormaliza (None, 512, 512, 16) 64          unet_down0_0[0][0]               \n",
      "__________________________________________________________________________________________________\n",
      "unet_down0_0_activation (ReLU)  (None, 512, 512, 16) 0           unet_down0_0_bn[0][0]            \n",
      "__________________________________________________________________________________________________\n",
      "unet_down0_1 (Conv2D)           (None, 512, 512, 16) 2304        unet_down0_0_activation[0][0]    \n",
      "__________________________________________________________________________________________________\n",
      "unet_down0_1_bn (BatchNormaliza (None, 512, 512, 16) 64          unet_down0_1[0][0]               \n",
      "__________________________________________________________________________________________________\n",
      "unet_down0_1_activation (ReLU)  (None, 512, 512, 16) 0           unet_down0_1_bn[0][0]            \n",
      "__________________________________________________________________________________________________\n",
      "unet_down0_2 (Conv2D)           (None, 512, 512, 16) 2304        unet_down0_1_activation[0][0]    \n",
      "__________________________________________________________________________________________________\n",
      "unet_down0_2_bn (BatchNormaliza (None, 512, 512, 16) 64          unet_down0_2[0][0]               \n",
      "__________________________________________________________________________________________________\n",
      "unet_down0_2_activation (ReLU)  (None, 512, 512, 16) 0           unet_down0_2_bn[0][0]            \n",
      "__________________________________________________________________________________________________\n",
      "unet_down1_encode_maxpool (MaxP (None, 256, 256, 16) 0           unet_down0_2_activation[0][0]    \n",
      "__________________________________________________________________________________________________\n",
      "unet_down1_conv_0 (Conv2D)      (None, 256, 256, 32) 4608        unet_down1_encode_maxpool[0][0]  \n",
      "__________________________________________________________________________________________________\n",
      "unet_down1_conv_0_bn (BatchNorm (None, 256, 256, 32) 128         unet_down1_conv_0[0][0]          \n",
      "__________________________________________________________________________________________________\n",
      "unet_down1_conv_0_activation (R (None, 256, 256, 32) 0           unet_down1_conv_0_bn[0][0]       \n",
      "__________________________________________________________________________________________________\n",
      "unet_down1_conv_1 (Conv2D)      (None, 256, 256, 32) 9216        unet_down1_conv_0_activation[0][0\n",
      "__________________________________________________________________________________________________\n",
      "unet_down1_conv_1_bn (BatchNorm (None, 256, 256, 32) 128         unet_down1_conv_1[0][0]          \n",
      "__________________________________________________________________________________________________\n",
      "unet_down1_conv_1_activation (R (None, 256, 256, 32) 0           unet_down1_conv_1_bn[0][0]       \n",
      "__________________________________________________________________________________________________\n",
      "unet_down1_conv_2 (Conv2D)      (None, 256, 256, 32) 9216        unet_down1_conv_1_activation[0][0\n",
      "__________________________________________________________________________________________________\n",
      "unet_down1_conv_2_bn (BatchNorm (None, 256, 256, 32) 128         unet_down1_conv_2[0][0]          \n",
      "__________________________________________________________________________________________________\n",
      "unet_down1_conv_2_activation (R (None, 256, 256, 32) 0           unet_down1_conv_2_bn[0][0]       \n",
      "__________________________________________________________________________________________________\n",
      "unet_down2_encode_maxpool (MaxP (None, 128, 128, 32) 0           unet_down1_conv_2_activation[0][0\n",
      "__________________________________________________________________________________________________\n",
      "unet_down2_conv_0 (Conv2D)      (None, 128, 128, 64) 18432       unet_down2_encode_maxpool[0][0]  \n",
      "__________________________________________________________________________________________________\n",
      "unet_down2_conv_0_bn (BatchNorm (None, 128, 128, 64) 256         unet_down2_conv_0[0][0]          \n",
      "__________________________________________________________________________________________________\n",
      "unet_down2_conv_0_activation (R (None, 128, 128, 64) 0           unet_down2_conv_0_bn[0][0]       \n",
      "__________________________________________________________________________________________________\n",
      "unet_down2_conv_1 (Conv2D)      (None, 128, 128, 64) 36864       unet_down2_conv_0_activation[0][0\n",
      "__________________________________________________________________________________________________\n",
      "unet_down2_conv_1_bn (BatchNorm (None, 128, 128, 64) 256         unet_down2_conv_1[0][0]          \n",
      "__________________________________________________________________________________________________\n",
      "unet_down2_conv_1_activation (R (None, 128, 128, 64) 0           unet_down2_conv_1_bn[0][0]       \n",
      "__________________________________________________________________________________________________\n",
      "unet_down2_conv_2 (Conv2D)      (None, 128, 128, 64) 36864       unet_down2_conv_1_activation[0][0\n",
      "__________________________________________________________________________________________________\n",
      "unet_down2_conv_2_bn (BatchNorm (None, 128, 128, 64) 256         unet_down2_conv_2[0][0]          \n",
      "__________________________________________________________________________________________________\n",
      "unet_down2_conv_2_activation (R (None, 128, 128, 64) 0           unet_down2_conv_2_bn[0][0]       \n",
      "__________________________________________________________________________________________________\n",
      "unet_down3_encode_maxpool (MaxP (None, 64, 64, 64)   0           unet_down2_conv_2_activation[0][0\n",
      "__________________________________________________________________________________________________\n",
      "unet_down3_conv_0 (Conv2D)      (None, 64, 64, 128)  73728       unet_down3_encode_maxpool[0][0]  \n",
      "__________________________________________________________________________________________________\n",
      "unet_down3_conv_0_bn (BatchNorm (None, 64, 64, 128)  512         unet_down3_conv_0[0][0]          \n",
      "__________________________________________________________________________________________________\n",
      "unet_down3_conv_0_activation (R (None, 64, 64, 128)  0           unet_down3_conv_0_bn[0][0]       \n",
      "__________________________________________________________________________________________________\n",
      "unet_down3_conv_1 (Conv2D)      (None, 64, 64, 128)  147456      unet_down3_conv_0_activation[0][0\n",
      "__________________________________________________________________________________________________\n",
      "unet_down3_conv_1_bn (BatchNorm (None, 64, 64, 128)  512         unet_down3_conv_1[0][0]          \n",
      "__________________________________________________________________________________________________\n",
      "unet_down3_conv_1_activation (R (None, 64, 64, 128)  0           unet_down3_conv_1_bn[0][0]       \n",
      "__________________________________________________________________________________________________\n",
      "unet_down3_conv_2 (Conv2D)      (None, 64, 64, 128)  147456      unet_down3_conv_1_activation[0][0\n",
      "__________________________________________________________________________________________________\n",
      "unet_down3_conv_2_bn (BatchNorm (None, 64, 64, 128)  512         unet_down3_conv_2[0][0]          \n",
      "__________________________________________________________________________________________________\n",
      "unet_down3_conv_2_activation (R (None, 64, 64, 128)  0           unet_down3_conv_2_bn[0][0]       \n",
      "__________________________________________________________________________________________________\n",
      "unet_down4_encode_maxpool (MaxP (None, 32, 32, 128)  0           unet_down3_conv_2_activation[0][0\n",
      "__________________________________________________________________________________________________\n",
      "unet_down4_conv_0 (Conv2D)      (None, 32, 32, 256)  294912      unet_down4_encode_maxpool[0][0]  \n",
      "__________________________________________________________________________________________________\n",
      "unet_down4_conv_0_bn (BatchNorm (None, 32, 32, 256)  1024        unet_down4_conv_0[0][0]          \n",
      "__________________________________________________________________________________________________\n",
      "unet_down4_conv_0_activation (R (None, 32, 32, 256)  0           unet_down4_conv_0_bn[0][0]       \n",
      "__________________________________________________________________________________________________\n",
      "unet_down4_conv_1 (Conv2D)      (None, 32, 32, 256)  589824      unet_down4_conv_0_activation[0][0\n",
      "__________________________________________________________________________________________________\n",
      "unet_down4_conv_1_bn (BatchNorm (None, 32, 32, 256)  1024        unet_down4_conv_1[0][0]          \n",
      "__________________________________________________________________________________________________\n",
      "unet_down4_conv_1_activation (R (None, 32, 32, 256)  0           unet_down4_conv_1_bn[0][0]       \n",
      "__________________________________________________________________________________________________\n",
      "unet_down4_conv_2 (Conv2D)      (None, 32, 32, 256)  589824      unet_down4_conv_1_activation[0][0\n",
      "__________________________________________________________________________________________________\n",
      "unet_down4_conv_2_bn (BatchNorm (None, 32, 32, 256)  1024        unet_down4_conv_2[0][0]          \n",
      "__________________________________________________________________________________________________\n",
      "unet_down4_conv_2_activation (R (None, 32, 32, 256)  0           unet_down4_conv_2_bn[0][0]       \n",
      "__________________________________________________________________________________________________\n",
      "unet_down5_encode_maxpool (MaxP (None, 16, 16, 256)  0           unet_down4_conv_2_activation[0][0\n",
      "__________________________________________________________________________________________________\n",
      "unet_down5_conv_0 (Conv2D)      (None, 16, 16, 512)  1179648     unet_down5_encode_maxpool[0][0]  \n",
      "__________________________________________________________________________________________________\n",
      "unet_down5_conv_0_bn (BatchNorm (None, 16, 16, 512)  2048        unet_down5_conv_0[0][0]          \n",
      "__________________________________________________________________________________________________\n",
      "unet_down5_conv_0_activation (R (None, 16, 16, 512)  0           unet_down5_conv_0_bn[0][0]       \n",
      "__________________________________________________________________________________________________\n",
      "unet_down5_conv_1 (Conv2D)      (None, 16, 16, 512)  2359296     unet_down5_conv_0_activation[0][0\n",
      "__________________________________________________________________________________________________\n",
      "unet_down5_conv_1_bn (BatchNorm (None, 16, 16, 512)  2048        unet_down5_conv_1[0][0]          \n",
      "__________________________________________________________________________________________________\n",
      "unet_down5_conv_1_activation (R (None, 16, 16, 512)  0           unet_down5_conv_1_bn[0][0]       \n",
      "__________________________________________________________________________________________________\n",
      "unet_down5_conv_2 (Conv2D)      (None, 16, 16, 512)  2359296     unet_down5_conv_1_activation[0][0\n",
      "__________________________________________________________________________________________________\n",
      "unet_down5_conv_2_bn (BatchNorm (None, 16, 16, 512)  2048        unet_down5_conv_2[0][0]          \n",
      "__________________________________________________________________________________________________\n",
      "unet_down5_conv_2_activation (R (None, 16, 16, 512)  0           unet_down5_conv_2_bn[0][0]       \n",
      "__________________________________________________________________________________________________\n",
      "unet_down6_encode_maxpool (MaxP (None, 8, 8, 512)    0           unet_down5_conv_2_activation[0][0\n",
      "__________________________________________________________________________________________________\n",
      "unet_down6_conv_0 (Conv2D)      (None, 8, 8, 1024)   4718592     unet_down6_encode_maxpool[0][0]  \n",
      "__________________________________________________________________________________________________\n",
      "unet_down6_conv_0_bn (BatchNorm (None, 8, 8, 1024)   4096        unet_down6_conv_0[0][0]          \n",
      "__________________________________________________________________________________________________\n",
      "unet_down6_conv_0_activation (R (None, 8, 8, 1024)   0           unet_down6_conv_0_bn[0][0]       \n",
      "__________________________________________________________________________________________________\n",
      "unet_down6_conv_1 (Conv2D)      (None, 8, 8, 1024)   9437184     unet_down6_conv_0_activation[0][0\n",
      "__________________________________________________________________________________________________\n",
      "unet_down6_conv_1_bn (BatchNorm (None, 8, 8, 1024)   4096        unet_down6_conv_1[0][0]          \n",
      "__________________________________________________________________________________________________\n",
      "unet_down6_conv_1_activation (R (None, 8, 8, 1024)   0           unet_down6_conv_1_bn[0][0]       \n",
      "__________________________________________________________________________________________________\n",
      "unet_down6_conv_2 (Conv2D)      (None, 8, 8, 1024)   9437184     unet_down6_conv_1_activation[0][0\n",
      "__________________________________________________________________________________________________\n",
      "unet_down6_conv_2_bn (BatchNorm (None, 8, 8, 1024)   4096        unet_down6_conv_2[0][0]          \n",
      "__________________________________________________________________________________________________\n",
      "unet_down6_conv_2_activation (R (None, 8, 8, 1024)   0           unet_down6_conv_2_bn[0][0]       \n",
      "__________________________________________________________________________________________________\n",
      "unet_down7_encode_maxpool (MaxP (None, 4, 4, 1024)   0           unet_down6_conv_2_activation[0][0\n",
      "__________________________________________________________________________________________________\n",
      "unet_down7_conv_0 (Conv2D)      (None, 4, 4, 2048)   18874368    unet_down7_encode_maxpool[0][0]  \n",
      "__________________________________________________________________________________________________\n",
      "unet_down7_conv_0_bn (BatchNorm (None, 4, 4, 2048)   8192        unet_down7_conv_0[0][0]          \n",
      "__________________________________________________________________________________________________\n",
      "unet_down7_conv_0_activation (R (None, 4, 4, 2048)   0           unet_down7_conv_0_bn[0][0]       \n",
      "__________________________________________________________________________________________________\n",
      "unet_down7_conv_1 (Conv2D)      (None, 4, 4, 2048)   37748736    unet_down7_conv_0_activation[0][0\n",
      "__________________________________________________________________________________________________\n",
      "unet_down7_conv_1_bn (BatchNorm (None, 4, 4, 2048)   8192        unet_down7_conv_1[0][0]          \n",
      "__________________________________________________________________________________________________\n",
      "unet_down7_conv_1_activation (R (None, 4, 4, 2048)   0           unet_down7_conv_1_bn[0][0]       \n",
      "__________________________________________________________________________________________________\n",
      "unet_down7_conv_2 (Conv2D)      (None, 4, 4, 2048)   37748736    unet_down7_conv_1_activation[0][0\n",
      "__________________________________________________________________________________________________\n",
      "unet_down7_conv_2_bn (BatchNorm (None, 4, 4, 2048)   8192        unet_down7_conv_2[0][0]          \n",
      "__________________________________________________________________________________________________\n",
      "unet_down7_conv_2_activation (R (None, 4, 4, 2048)   0           unet_down7_conv_2_bn[0][0]       \n",
      "__________________________________________________________________________________________________\n",
      "unet_up0_decode_unpool (UpSampl (None, 8, 8, 2048)   0           unet_down7_conv_2_activation[0][0\n",
      "__________________________________________________________________________________________________\n",
      "unet_up0_conv_before_concat_0 ( (None, 8, 8, 1024)   18874368    unet_up0_decode_unpool[0][0]     \n",
      "__________________________________________________________________________________________________\n",
      "unet_up0_conv_before_concat_0_b (None, 8, 8, 1024)   4096        unet_up0_conv_before_concat_0[0][\n",
      "__________________________________________________________________________________________________\n",
      "unet_up0_conv_before_concat_0_a (None, 8, 8, 1024)   0           unet_up0_conv_before_concat_0_bn[\n",
      "__________________________________________________________________________________________________\n",
      "unet_up0_concat (Concatenate)   (None, 8, 8, 2048)   0           unet_up0_conv_before_concat_0_act\n",
      "                                                                 unet_down6_conv_2_activation[0][0\n",
      "__________________________________________________________________________________________________\n",
      "unet_up0_conv_after_concat_0 (C (None, 8, 8, 1024)   18874368    unet_up0_concat[0][0]            \n",
      "__________________________________________________________________________________________________\n",
      "unet_up0_conv_after_concat_0_bn (None, 8, 8, 1024)   4096        unet_up0_conv_after_concat_0[0][0\n",
      "__________________________________________________________________________________________________\n",
      "unet_up0_conv_after_concat_0_ac (None, 8, 8, 1024)   0           unet_up0_conv_after_concat_0_bn[0\n",
      "__________________________________________________________________________________________________\n",
      "unet_up0_conv_after_concat_1 (C (None, 8, 8, 1024)   9437184     unet_up0_conv_after_concat_0_acti\n",
      "__________________________________________________________________________________________________\n",
      "unet_up0_conv_after_concat_1_bn (None, 8, 8, 1024)   4096        unet_up0_conv_after_concat_1[0][0\n",
      "__________________________________________________________________________________________________\n",
      "unet_up0_conv_after_concat_1_ac (None, 8, 8, 1024)   0           unet_up0_conv_after_concat_1_bn[0\n",
      "__________________________________________________________________________________________________\n",
      "unet_up0_conv_after_concat_2 (C (None, 8, 8, 1024)   9437184     unet_up0_conv_after_concat_1_acti\n",
      "__________________________________________________________________________________________________\n",
      "unet_up0_conv_after_concat_2_bn (None, 8, 8, 1024)   4096        unet_up0_conv_after_concat_2[0][0\n",
      "__________________________________________________________________________________________________\n",
      "unet_up0_conv_after_concat_2_ac (None, 8, 8, 1024)   0           unet_up0_conv_after_concat_2_bn[0\n",
      "__________________________________________________________________________________________________\n",
      "unet_up1_decode_unpool (UpSampl (None, 16, 16, 1024) 0           unet_up0_conv_after_concat_2_acti\n",
      "__________________________________________________________________________________________________\n",
      "unet_up1_conv_before_concat_0 ( (None, 16, 16, 512)  4718592     unet_up1_decode_unpool[0][0]     \n",
      "__________________________________________________________________________________________________\n",
      "unet_up1_conv_before_concat_0_b (None, 16, 16, 512)  2048        unet_up1_conv_before_concat_0[0][\n",
      "__________________________________________________________________________________________________\n",
      "unet_up1_conv_before_concat_0_a (None, 16, 16, 512)  0           unet_up1_conv_before_concat_0_bn[\n",
      "__________________________________________________________________________________________________\n",
      "unet_up1_concat (Concatenate)   (None, 16, 16, 1024) 0           unet_up1_conv_before_concat_0_act\n",
      "                                                                 unet_down5_conv_2_activation[0][0\n",
      "__________________________________________________________________________________________________\n",
      "unet_up1_conv_after_concat_0 (C (None, 16, 16, 512)  4718592     unet_up1_concat[0][0]            \n",
      "__________________________________________________________________________________________________\n",
      "unet_up1_conv_after_concat_0_bn (None, 16, 16, 512)  2048        unet_up1_conv_after_concat_0[0][0\n",
      "__________________________________________________________________________________________________\n",
      "unet_up1_conv_after_concat_0_ac (None, 16, 16, 512)  0           unet_up1_conv_after_concat_0_bn[0\n",
      "__________________________________________________________________________________________________\n",
      "unet_up1_conv_after_concat_1 (C (None, 16, 16, 512)  2359296     unet_up1_conv_after_concat_0_acti\n",
      "__________________________________________________________________________________________________\n",
      "unet_up1_conv_after_concat_1_bn (None, 16, 16, 512)  2048        unet_up1_conv_after_concat_1[0][0\n",
      "__________________________________________________________________________________________________\n",
      "unet_up1_conv_after_concat_1_ac (None, 16, 16, 512)  0           unet_up1_conv_after_concat_1_bn[0\n",
      "__________________________________________________________________________________________________\n",
      "unet_up1_conv_after_concat_2 (C (None, 16, 16, 512)  2359296     unet_up1_conv_after_concat_1_acti\n",
      "__________________________________________________________________________________________________\n",
      "unet_up1_conv_after_concat_2_bn (None, 16, 16, 512)  2048        unet_up1_conv_after_concat_2[0][0\n",
      "__________________________________________________________________________________________________\n",
      "unet_up1_conv_after_concat_2_ac (None, 16, 16, 512)  0           unet_up1_conv_after_concat_2_bn[0\n",
      "__________________________________________________________________________________________________\n",
      "unet_up2_decode_unpool (UpSampl (None, 32, 32, 512)  0           unet_up1_conv_after_concat_2_acti\n",
      "__________________________________________________________________________________________________\n",
      "unet_up2_conv_before_concat_0 ( (None, 32, 32, 256)  1179648     unet_up2_decode_unpool[0][0]     \n",
      "__________________________________________________________________________________________________\n",
      "unet_up2_conv_before_concat_0_b (None, 32, 32, 256)  1024        unet_up2_conv_before_concat_0[0][\n",
      "__________________________________________________________________________________________________\n",
      "unet_up2_conv_before_concat_0_a (None, 32, 32, 256)  0           unet_up2_conv_before_concat_0_bn[\n",
      "__________________________________________________________________________________________________\n",
      "unet_up2_concat (Concatenate)   (None, 32, 32, 512)  0           unet_up2_conv_before_concat_0_act\n",
      "                                                                 unet_down4_conv_2_activation[0][0\n",
      "__________________________________________________________________________________________________\n",
      "unet_up2_conv_after_concat_0 (C (None, 32, 32, 256)  1179648     unet_up2_concat[0][0]            \n",
      "__________________________________________________________________________________________________\n",
      "unet_up2_conv_after_concat_0_bn (None, 32, 32, 256)  1024        unet_up2_conv_after_concat_0[0][0\n",
      "__________________________________________________________________________________________________\n",
      "unet_up2_conv_after_concat_0_ac (None, 32, 32, 256)  0           unet_up2_conv_after_concat_0_bn[0\n",
      "__________________________________________________________________________________________________\n",
      "unet_up2_conv_after_concat_1 (C (None, 32, 32, 256)  589824      unet_up2_conv_after_concat_0_acti\n",
      "__________________________________________________________________________________________________\n",
      "unet_up2_conv_after_concat_1_bn (None, 32, 32, 256)  1024        unet_up2_conv_after_concat_1[0][0\n",
      "__________________________________________________________________________________________________\n",
      "unet_up2_conv_after_concat_1_ac (None, 32, 32, 256)  0           unet_up2_conv_after_concat_1_bn[0\n",
      "__________________________________________________________________________________________________\n",
      "unet_up2_conv_after_concat_2 (C (None, 32, 32, 256)  589824      unet_up2_conv_after_concat_1_acti\n",
      "__________________________________________________________________________________________________\n",
      "unet_up2_conv_after_concat_2_bn (None, 32, 32, 256)  1024        unet_up2_conv_after_concat_2[0][0\n",
      "__________________________________________________________________________________________________\n",
      "unet_up2_conv_after_concat_2_ac (None, 32, 32, 256)  0           unet_up2_conv_after_concat_2_bn[0\n",
      "__________________________________________________________________________________________________\n",
      "unet_up3_decode_unpool (UpSampl (None, 64, 64, 256)  0           unet_up2_conv_after_concat_2_acti\n",
      "__________________________________________________________________________________________________\n",
      "unet_up3_conv_before_concat_0 ( (None, 64, 64, 128)  294912      unet_up3_decode_unpool[0][0]     \n",
      "__________________________________________________________________________________________________\n",
      "unet_up3_conv_before_concat_0_b (None, 64, 64, 128)  512         unet_up3_conv_before_concat_0[0][\n",
      "__________________________________________________________________________________________________\n",
      "unet_up3_conv_before_concat_0_a (None, 64, 64, 128)  0           unet_up3_conv_before_concat_0_bn[\n",
      "__________________________________________________________________________________________________\n",
      "unet_up3_concat (Concatenate)   (None, 64, 64, 256)  0           unet_up3_conv_before_concat_0_act\n",
      "                                                                 unet_down3_conv_2_activation[0][0\n",
      "__________________________________________________________________________________________________\n",
      "unet_up3_conv_after_concat_0 (C (None, 64, 64, 128)  294912      unet_up3_concat[0][0]            \n",
      "__________________________________________________________________________________________________\n",
      "unet_up3_conv_after_concat_0_bn (None, 64, 64, 128)  512         unet_up3_conv_after_concat_0[0][0\n",
      "__________________________________________________________________________________________________\n",
      "unet_up3_conv_after_concat_0_ac (None, 64, 64, 128)  0           unet_up3_conv_after_concat_0_bn[0\n",
      "__________________________________________________________________________________________________\n",
      "unet_up3_conv_after_concat_1 (C (None, 64, 64, 128)  147456      unet_up3_conv_after_concat_0_acti\n",
      "__________________________________________________________________________________________________\n",
      "unet_up3_conv_after_concat_1_bn (None, 64, 64, 128)  512         unet_up3_conv_after_concat_1[0][0\n",
      "__________________________________________________________________________________________________\n",
      "unet_up3_conv_after_concat_1_ac (None, 64, 64, 128)  0           unet_up3_conv_after_concat_1_bn[0\n",
      "__________________________________________________________________________________________________\n",
      "unet_up3_conv_after_concat_2 (C (None, 64, 64, 128)  147456      unet_up3_conv_after_concat_1_acti\n",
      "__________________________________________________________________________________________________\n",
      "unet_up3_conv_after_concat_2_bn (None, 64, 64, 128)  512         unet_up3_conv_after_concat_2[0][0\n",
      "__________________________________________________________________________________________________\n",
      "unet_up3_conv_after_concat_2_ac (None, 64, 64, 128)  0           unet_up3_conv_after_concat_2_bn[0\n",
      "__________________________________________________________________________________________________\n",
      "unet_up4_decode_unpool (UpSampl (None, 128, 128, 128 0           unet_up3_conv_after_concat_2_acti\n",
      "__________________________________________________________________________________________________\n",
      "unet_up4_conv_before_concat_0 ( (None, 128, 128, 64) 73728       unet_up4_decode_unpool[0][0]     \n",
      "__________________________________________________________________________________________________\n",
      "unet_up4_conv_before_concat_0_b (None, 128, 128, 64) 256         unet_up4_conv_before_concat_0[0][\n",
      "__________________________________________________________________________________________________\n",
      "unet_up4_conv_before_concat_0_a (None, 128, 128, 64) 0           unet_up4_conv_before_concat_0_bn[\n",
      "__________________________________________________________________________________________________\n",
      "unet_up4_concat (Concatenate)   (None, 128, 128, 128 0           unet_up4_conv_before_concat_0_act\n",
      "                                                                 unet_down2_conv_2_activation[0][0\n",
      "__________________________________________________________________________________________________\n",
      "unet_up4_conv_after_concat_0 (C (None, 128, 128, 64) 73728       unet_up4_concat[0][0]            \n",
      "__________________________________________________________________________________________________\n",
      "unet_up4_conv_after_concat_0_bn (None, 128, 128, 64) 256         unet_up4_conv_after_concat_0[0][0\n",
      "__________________________________________________________________________________________________\n",
      "unet_up4_conv_after_concat_0_ac (None, 128, 128, 64) 0           unet_up4_conv_after_concat_0_bn[0\n",
      "__________________________________________________________________________________________________\n",
      "unet_up4_conv_after_concat_1 (C (None, 128, 128, 64) 36864       unet_up4_conv_after_concat_0_acti\n",
      "__________________________________________________________________________________________________\n",
      "unet_up4_conv_after_concat_1_bn (None, 128, 128, 64) 256         unet_up4_conv_after_concat_1[0][0\n",
      "__________________________________________________________________________________________________\n",
      "unet_up4_conv_after_concat_1_ac (None, 128, 128, 64) 0           unet_up4_conv_after_concat_1_bn[0\n",
      "__________________________________________________________________________________________________\n",
      "unet_up4_conv_after_concat_2 (C (None, 128, 128, 64) 36864       unet_up4_conv_after_concat_1_acti\n",
      "__________________________________________________________________________________________________\n",
      "unet_up4_conv_after_concat_2_bn (None, 128, 128, 64) 256         unet_up4_conv_after_concat_2[0][0\n",
      "__________________________________________________________________________________________________\n",
      "unet_up4_conv_after_concat_2_ac (None, 128, 128, 64) 0           unet_up4_conv_after_concat_2_bn[0\n",
      "__________________________________________________________________________________________________\n",
      "unet_up5_decode_unpool (UpSampl (None, 256, 256, 64) 0           unet_up4_conv_after_concat_2_acti\n",
      "__________________________________________________________________________________________________\n",
      "unet_up5_conv_before_concat_0 ( (None, 256, 256, 32) 18432       unet_up5_decode_unpool[0][0]     \n",
      "__________________________________________________________________________________________________\n",
      "unet_up5_conv_before_concat_0_b (None, 256, 256, 32) 128         unet_up5_conv_before_concat_0[0][\n",
      "__________________________________________________________________________________________________\n",
      "unet_up5_conv_before_concat_0_a (None, 256, 256, 32) 0           unet_up5_conv_before_concat_0_bn[\n",
      "__________________________________________________________________________________________________\n",
      "unet_up5_concat (Concatenate)   (None, 256, 256, 64) 0           unet_up5_conv_before_concat_0_act\n",
      "                                                                 unet_down1_conv_2_activation[0][0\n",
      "__________________________________________________________________________________________________\n",
      "unet_up5_conv_after_concat_0 (C (None, 256, 256, 32) 18432       unet_up5_concat[0][0]            \n",
      "__________________________________________________________________________________________________\n",
      "unet_up5_conv_after_concat_0_bn (None, 256, 256, 32) 128         unet_up5_conv_after_concat_0[0][0\n",
      "__________________________________________________________________________________________________\n",
      "unet_up5_conv_after_concat_0_ac (None, 256, 256, 32) 0           unet_up5_conv_after_concat_0_bn[0\n",
      "__________________________________________________________________________________________________\n",
      "unet_up5_conv_after_concat_1 (C (None, 256, 256, 32) 9216        unet_up5_conv_after_concat_0_acti\n",
      "__________________________________________________________________________________________________\n",
      "unet_up5_conv_after_concat_1_bn (None, 256, 256, 32) 128         unet_up5_conv_after_concat_1[0][0\n",
      "__________________________________________________________________________________________________\n",
      "unet_up5_conv_after_concat_1_ac (None, 256, 256, 32) 0           unet_up5_conv_after_concat_1_bn[0\n",
      "__________________________________________________________________________________________________\n",
      "unet_up5_conv_after_concat_2 (C (None, 256, 256, 32) 9216        unet_up5_conv_after_concat_1_acti\n",
      "__________________________________________________________________________________________________\n",
      "unet_up5_conv_after_concat_2_bn (None, 256, 256, 32) 128         unet_up5_conv_after_concat_2[0][0\n",
      "__________________________________________________________________________________________________\n",
      "unet_up5_conv_after_concat_2_ac (None, 256, 256, 32) 0           unet_up5_conv_after_concat_2_bn[0\n",
      "__________________________________________________________________________________________________\n",
      "unet_up6_decode_unpool (UpSampl (None, 512, 512, 32) 0           unet_up5_conv_after_concat_2_acti\n",
      "__________________________________________________________________________________________________\n",
      "unet_up6_conv_before_concat_0 ( (None, 512, 512, 16) 4608        unet_up6_decode_unpool[0][0]     \n",
      "__________________________________________________________________________________________________\n",
      "unet_up6_conv_before_concat_0_b (None, 512, 512, 16) 64          unet_up6_conv_before_concat_0[0][\n",
      "__________________________________________________________________________________________________\n",
      "unet_up6_conv_before_concat_0_a (None, 512, 512, 16) 0           unet_up6_conv_before_concat_0_bn[\n",
      "__________________________________________________________________________________________________\n",
      "unet_up6_concat (Concatenate)   (None, 512, 512, 32) 0           unet_up6_conv_before_concat_0_act\n",
      "                                                                 unet_down0_2_activation[0][0]    \n",
      "__________________________________________________________________________________________________\n",
      "unet_up6_conv_after_concat_0 (C (None, 512, 512, 16) 4608        unet_up6_concat[0][0]            \n",
      "__________________________________________________________________________________________________\n",
      "unet_up6_conv_after_concat_0_bn (None, 512, 512, 16) 64          unet_up6_conv_after_concat_0[0][0\n",
      "__________________________________________________________________________________________________\n",
      "unet_up6_conv_after_concat_0_ac (None, 512, 512, 16) 0           unet_up6_conv_after_concat_0_bn[0\n",
      "__________________________________________________________________________________________________\n",
      "unet_up6_conv_after_concat_1 (C (None, 512, 512, 16) 2304        unet_up6_conv_after_concat_0_acti\n",
      "__________________________________________________________________________________________________\n",
      "unet_up6_conv_after_concat_1_bn (None, 512, 512, 16) 64          unet_up6_conv_after_concat_1[0][0\n",
      "__________________________________________________________________________________________________\n",
      "unet_up6_conv_after_concat_1_ac (None, 512, 512, 16) 0           unet_up6_conv_after_concat_1_bn[0\n",
      "__________________________________________________________________________________________________\n",
      "unet_up6_conv_after_concat_2 (C (None, 512, 512, 16) 2304        unet_up6_conv_after_concat_1_acti\n",
      "__________________________________________________________________________________________________\n",
      "unet_up6_conv_after_concat_2_bn (None, 512, 512, 16) 64          unet_up6_conv_after_concat_2[0][0\n",
      "__________________________________________________________________________________________________\n",
      "unet_up6_conv_after_concat_2_ac (None, 512, 512, 16) 0           unet_up6_conv_after_concat_2_bn[0\n",
      "__________________________________________________________________________________________________\n",
      "unet_output (Conv2D)            (None, 512, 512, 1)  17          unet_up6_conv_after_concat_2_acti\n",
      "__________________________________________________________________________________________________\n",
      "unet_output_activation (Activat (None, 512, 512, 1)  0           unet_output[0][0]                \n",
      "==================================================================================================\n",
      "Total params: 201,400,545\n",
      "Trainable params: 201,359,809\n",
      "Non-trainable params: 40,736\n",
      "__________________________________________________________________________________________________\n"
     ]
    }
   ],
   "source": [
    "R = Runner(verbose=True, classifier='kunet2d')"
   ]
  },
  {
   "cell_type": "code",
   "execution_count": 5,
   "id": "87b0c65d",
   "metadata": {},
   "outputs": [],
   "source": [
    "# load our larger toy dataset (10k images and masks)\n",
    "images = np.load('/hpcstor6/scratch01/r/ryan.zurrin001/GP2TOYEXAMPLE_LARGE/images.npy')\n",
    "masks = np.load('/hpcstor6/scratch01/r/ryan.zurrin001/GP2TOYEXAMPLE_LARGE/masks.npy')"
   ]
  },
  {
   "cell_type": "code",
   "execution_count": 6,
   "id": "7330ad24",
   "metadata": {},
   "outputs": [],
   "source": [
    "images = images[:5000]\n",
    "masks = masks[:5000]"
   ]
  },
  {
   "cell_type": "code",
   "execution_count": 7,
   "id": "d5b4179a",
   "metadata": {},
   "outputs": [
    {
     "data": {
      "text/plain": [
       "(5000, 512, 512, 1)"
      ]
     },
     "execution_count": 7,
     "metadata": {},
     "output_type": "execute_result"
    }
   ],
   "source": [
    "images.shape"
   ]
  },
  {
   "cell_type": "code",
   "execution_count": 8,
   "id": "57033c4e",
   "metadata": {},
   "outputs": [
    {
     "data": {
      "text/plain": [
       "(5000, 512, 512, 1)"
      ]
     },
     "execution_count": 8,
     "metadata": {},
     "output_type": "execute_result"
    }
   ],
   "source": [
    "masks.shape"
   ]
  },
  {
   "cell_type": "code",
   "execution_count": 9,
   "id": "393c7029",
   "metadata": {},
   "outputs": [
    {
     "name": "stdout",
     "output_type": "stream",
     "text": [
      "255\n"
     ]
    }
   ],
   "source": [
    "print(images.max())"
   ]
  },
  {
   "cell_type": "code",
   "execution_count": 10,
   "id": "97eca1aa",
   "metadata": {},
   "outputs": [
    {
     "name": "stdout",
     "output_type": "stream",
     "text": [
      "0\n"
     ]
    }
   ],
   "source": [
    "print(images.min())"
   ]
  },
  {
   "cell_type": "code",
   "execution_count": 11,
   "id": "2821eb86",
   "metadata": {},
   "outputs": [
    {
     "name": "stdout",
     "output_type": "stream",
     "text": [
      "True\n"
     ]
    }
   ],
   "source": [
    "print(masks.max())"
   ]
  },
  {
   "cell_type": "code",
   "execution_count": 12,
   "id": "1dd71668",
   "metadata": {},
   "outputs": [],
   "source": [
    "weights = {\n",
    "    'A': 0.5,\n",
    "    'A_train': 0.1,\n",
    "    'A_val': 0.3,\n",
    "    'A_test': 0.6,\n",
    "    'B': 0.3,\n",
    "    'B_train': 0.7,\n",
    "    'B_val': 0.1,\n",
    "    'B_test': 0.2,\n",
    "    'Z': 0.2\n",
    "}\n",
    "PERCENT_TO_REPLACE = 30"
   ]
  },
  {
   "cell_type": "code",
   "execution_count": 13,
   "id": "2a5d1030",
   "metadata": {},
   "outputs": [
    {
     "name": "stdout",
     "output_type": "stream",
     "text": [
      "Weights OK!\n"
     ]
    }
   ],
   "source": [
    "R.setup_data(images, masks, dataset_size=5000, weights=weights)"
   ]
  },
  {
   "cell_type": "code",
   "execution_count": 14,
   "id": "99127251",
   "metadata": {},
   "outputs": [],
   "source": [
    "RUNS = 10"
   ]
  },
  {
   "cell_type": "code",
   "execution_count": 15,
   "id": "d8ff85c4",
   "metadata": {
    "scrolled": true
   },
   "outputs": [
    {
     "name": "stdout",
     "output_type": "stream",
     "text": [
      "***\n",
      "RUN: 0\n"
     ]
    },
    {
     "name": "stderr",
     "output_type": "stream",
     "text": [
      "2023-04-22 01:44:01.185361: I tensorflow/compiler/mlir/mlir_graph_optimization_pass.cc:176] None of the MLIR Optimization Passes are enabled (registered 2)\n",
      "2023-04-22 01:44:01.202993: I tensorflow/core/platform/profile_utils/cpu_utils.cc:114] CPU Frequency: 2245755000 Hz\n"
     ]
    },
    {
     "name": "stdout",
     "output_type": "stream",
     "text": [
      "Epoch 1/100\n"
     ]
    },
    {
     "name": "stderr",
     "output_type": "stream",
     "text": [
      "2023-04-22 01:44:06.166587: I tensorflow/stream_executor/platform/default/dso_loader.cc:53] Successfully opened dynamic library libcudnn.so.8\n",
      "2023-04-22 01:44:06.821791: I tensorflow/stream_executor/cuda/cuda_dnn.cc:359] Loaded cuDNN version 8201\n",
      "2023-04-22 01:44:07.443775: W tensorflow/stream_executor/gpu/asm_compiler.cc:191] Falling back to the CUDA driver for PTX compilation; ptxas does not support CC 8.0\n",
      "2023-04-22 01:44:07.443798: W tensorflow/stream_executor/gpu/asm_compiler.cc:194] Used ptxas at ptxas\n",
      "2023-04-22 01:44:07.443861: W tensorflow/stream_executor/gpu/redzone_allocator.cc:314] Unimplemented: ptxas ptxas too old. Falling back to the driver to compile.\n",
      "Relying on driver to perform ptx compilation. \n",
      "Modify $PATH to customize ptxas location.\n",
      "This message will be only logged once.\n",
      "2023-04-22 01:44:07.459553: I tensorflow/stream_executor/platform/default/dso_loader.cc:53] Successfully opened dynamic library libcublas.so.11\n",
      "2023-04-22 01:44:08.261507: I tensorflow/stream_executor/platform/default/dso_loader.cc:53] Successfully opened dynamic library libcublasLt.so.11\n"
     ]
    },
    {
     "name": "stdout",
     "output_type": "stream",
     "text": [
      "4/4 [==============================] - 41s 6s/step - loss: 0.8555 - dice_coef: 0.1382 - val_loss: 0.6684 - val_dice_coef: 0.1362\n"
     ]
    },
    {
     "name": "stderr",
     "output_type": "stream",
     "text": [
      "2023-04-22 01:44:47.801512: W tensorflow/python/util/util.cc:348] Sets are not currently considered sequences, but this may change in the future, so consider avoiding using them.\n"
     ]
    },
    {
     "name": "stdout",
     "output_type": "stream",
     "text": [
      "Epoch 2/100\n",
      "4/4 [==============================] - 5s 1s/step - loss: 0.8429 - dice_coef: 0.1423 - val_loss: 0.6757 - val_dice_coef: 0.1434\n",
      "Epoch 3/100\n",
      "4/4 [==============================] - 5s 1s/step - loss: 0.8394 - dice_coef: 0.1433 - val_loss: 0.6797 - val_dice_coef: 0.1462\n",
      "Epoch 4/100\n",
      "4/4 [==============================] - 5s 1s/step - loss: 0.8396 - dice_coef: 0.1434 - val_loss: 0.6825 - val_dice_coef: 0.1478\n",
      "Epoch 5/100\n",
      "4/4 [==============================] - 5s 1s/step - loss: 0.8394 - dice_coef: 0.1433 - val_loss: 0.6848 - val_dice_coef: 0.1489\n",
      "Epoch 6/100\n",
      "4/4 [==============================] - 5s 1s/step - loss: 0.8399 - dice_coef: 0.1433 - val_loss: 0.6867 - val_dice_coef: 0.1496\n",
      "Epoch 7/100\n",
      "4/4 [==============================] - 5s 1s/step - loss: 0.8402 - dice_coef: 0.1431 - val_loss: 0.6887 - val_dice_coef: 0.1501\n",
      "Epoch 8/100\n",
      "4/4 [==============================] - 5s 1s/step - loss: 0.8401 - dice_coef: 0.1431 - val_loss: 0.6905 - val_dice_coef: 0.1505\n",
      "Epoch 9/100\n",
      "4/4 [==============================] - 5s 1s/step - loss: 0.8401 - dice_coef: 0.1432 - val_loss: 0.6921 - val_dice_coef: 0.1512\n",
      "Model saved to: /tmp/tmpbrxp_xb0GP2/kunet2d_0kunet2d_model\n",
      "History saved to: /tmp/tmpbrxp_xb0GP2/kunet2d_history_0.pkl\n",
      "Testing the classifier...\n",
      "Model saved to /tmp/tmpbrxp_xb0GP2/cnnd_0.model\n",
      "History saved to /tmp/tmpbrxp_xb0GP2/cnnd_history_0.pickle\n",
      "Testing the discriminator...\n"
     ]
    },
    {
     "name": "stderr",
     "output_type": "stream",
     "text": [
      "Exception ignored in: <function IteratorResourceDeleter.__del__ at 0x7f6ae8675280>\n",
      "Traceback (most recent call last):\n",
      "  File \"/home/ryan.zurrin001/miniconda3/envs/O/lib/python3.9/site-packages/tensorflow/python/data/ops/iterator_ops.py\", line 545, in __del__\n",
      "    gen_dataset_ops.delete_iterator(\n",
      "  File \"/home/ryan.zurrin001/miniconda3/envs/O/lib/python3.9/site-packages/tensorflow/python/ops/gen_dataset_ops.py\", line 1263, in delete_iterator\n",
      "    _result = pywrap_tfe.TFE_Py_FastPathExecute(\n",
      "KeyboardInterrupt: \n"
     ]
    },
    {
     "name": "stdout",
     "output_type": "stream",
     "text": [
      "10/10 [==============================] - 0s 18ms/step - loss: 0.0000e+00 - accuracy: 1.0000\n",
      "Found 147 machine labels.\n",
      "Machine labels [  1   2   4   5   7  10  14  16  17  18  19  20  21  23  24  26  28  33\n",
      "  36  38  39  41  42  45  46  47  48  50  51  52  53  54  56  60  61  63\n",
      "  64  65  66  69  72  73  74  75  79  83  87  90  91  92  97 102 103 105\n",
      " 108 110 111 113 117 119 121 126 128 130 132 133 134 135 136 138 141 143\n",
      " 144 146 148 150 151 152 156 157 159 162 163 165 167 170 173 176 177 178\n",
      " 179 180 181 187 188 190 193 194 195 197 198 199 202 204 205 206 211 212\n",
      " 213 217 218 221 223 225 226 227 230 231 232 235 236 238 239 240 242 244\n",
      " 246 247 253 254 255 260 267 269 271 274 279 280 281 283 287 289 290 291\n",
      " 292 294 299]\n",
      "D_ids ['71020212-f1be-4fae-87a7-29f430883e26', '49e74b2e-97d0-41c7-a7a3-63c321c4bd8c', 'a6e9e58f-4d85-4790-8839-0db276b9663c', '73235f4d-d05d-4d94-8584-0ab35d7fee81', '8f6820ea-93ef-43e5-93c7-464f884f5241', '506bb64e-7c5c-42ec-a7cf-879dcf56fece', '1d7f407e-358e-4ae8-852f-d037d341469f', '5317498e-4819-438b-979f-cdbcf3b89f8d', '863a8d7b-40bf-4015-b852-8460b01d1685', '17c07856-7587-46b4-b41d-fc712b33627d', '48d3c1bd-1b96-4b32-8bfb-a1dbe42667d7', '2a276438-bdc4-40c1-803d-ebbbb8dcacd1', '97755860-7007-4ee8-b558-2f6461bbb3a7', '3d8d0f39-49ad-4bf9-a225-8da2a5e72226', '875879fc-98f1-48a0-8b3d-e645265de327', '204503c6-e2f9-4da4-a8b1-c1de313615f9', 'bc1e82ac-6921-4ca4-a2c2-5ec13286fa87', '2e8e5616-1ff8-490b-9cf8-34a901ec5157', 'f7094332-6c9d-4b2f-94fb-50d80287e36a', '3ee46162-f60a-45a7-91d8-4f3ccc8b8f03', '4dfd9596-0b40-4fe8-8e33-e1483af7e004', '37cfc56e-ca13-48fe-9005-f8254359e4b6', '1a7056ac-14b3-4b77-93be-99b19b54e444', '90f8aa0b-86c7-4d89-b0b9-9cca0b812a55', '40e56212-d243-4969-ba39-810ef3881f77', '84fa1d23-91dc-4397-9d80-e8fe8799a7de', '08224cd1-5962-416b-82f1-44f170e8eee4', 'eda089d0-7fa4-4ae3-af22-65561cae8aa7', '6b12efa0-17c6-4502-8ce2-e5620da2c421', '368a5d04-d8b0-4a8e-8b2f-cf3eb532f4e3', 'b6099386-5277-4487-9e1c-54f68b6d8c36', 'f85aa850-b8cd-4e11-a972-ce17151cb33e', '9027793c-aa64-4442-9ad2-68d8e9be14c2', 'fc447efc-8c56-401d-b6eb-3c3a20c5a769', 'a902435f-7c5f-4222-900c-81849715586f', '33c96e8e-b642-4bae-85e3-91c9c6336827', 'cb16d7da-a115-4f8e-9bda-ece55c04a448', 'e570521b-e9e5-4776-a016-2c53a1243767', '669bf46d-df61-412b-8690-7fdf89565575', '8d80108e-1ec3-4420-af7a-e9765957842c', '72430ceb-2c0a-4a73-8f37-c471df34b366', '8ea54bc3-9e5f-4c18-aa0a-82c61810bc45', 'a0d74ea9-d6c6-4375-affb-a0cc2aff8564', '528b57b7-d827-4c7f-a2de-4c5e4e945e21', '3fd56c83-710b-4a60-b108-029e1b90b9db', '6a257ba7-6ee2-4fed-bd05-d17dd0770ef8', '12fd8c1c-4677-4bac-b93e-a6dfe9dd32c1', '7d4bcb83-61fe-4600-855b-79b77fe0188e', 'eb23f45c-8009-48e0-bf51-52bb97d09727', 'd398bd08-61d3-4f79-ae27-a22064185654', '3576a8f3-6505-45db-8f90-af14b31ba02a', '2a74938b-b884-4562-b043-82d788d0a5b7', '8cc1f051-1db9-4daa-a60f-39da15589de9', 'ddc4e819-844a-4bc3-9370-02557febacaa', '457fffb0-e42b-4242-b2e3-2fdaa1b4712e', '03108d80-e9db-43ba-ab29-4fd2439f9765', '53e9485d-2e66-4547-aafd-4c8df24d31b8', '46d35e80-eb22-4f04-9663-b52bb6ab5cdf', '79def0aa-62b4-4556-a389-268c63f17994', 'd20a1b44-2c35-495f-b812-295c16520fb5', '8f7bf55d-15f9-4205-9c2e-6c4d245e3a54', '4d076bd4-1970-4147-bad1-4769607ca48a', '18a66b0d-5ff1-4355-950b-d62cbaa9f3e9', '5cfa9bf2-ecf8-402c-9bcf-64d83b98b4fe', 'a0d3b335-ff5f-4849-b4b2-7b1d9625dab3', '71db0c39-eae3-4fff-92a3-252fd24ebeb0', 'd55b3565-52a3-4001-be60-d67be194cf13', '6fd52bf4-e743-483f-8024-4602a2c92891', '757c9152-784a-45e0-9b64-77b59da7df04', '1de1aa45-b8ca-4084-8b76-85862ef7e5d8', '23402155-53b5-4b29-beda-bd7bbbf212b9', '60d89d5d-bd07-4933-9c9a-89f2a689527f', 'f96cfa68-003f-4d75-91c9-4be337054e27', '4024f55c-9e64-465e-8740-b0d5377014b5', 'bd96785c-52be-4d50-8b88-94d90df8dcd7', '2857d737-5424-4367-b578-c3ef46e40284', '53f57304-f451-43af-924c-7ae41241a980', '89cd4cb8-fc9d-4881-a214-1ada3cb1c015', '8a6a2fc5-9e21-4ca4-b11b-bfabb0045181', '4f3c435c-1a9a-456d-b1b1-05ec5cb268b2', 'dae9dc70-254c-49ec-a427-9798a30c6027', '187ca130-5914-4a8b-8696-e8f2a15860ba', '9467f8d6-94ee-4afc-92a4-4c5e7a1a5b79', '8e716d59-3e4d-41f0-8eb4-663de5b522cb', '50dfb46b-80bb-4492-b545-464bda702709', '9966dda8-94fc-4e63-9c4d-faa1ccf1d096', 'bab4ffc1-cb15-41bb-8fc0-94b98b689b99', '5007b493-4c12-47d8-8384-024a22c68759', 'df95b13f-1450-43e2-817a-7d7433ce5891', 'ce64999b-03cf-4a58-bc52-b172125a8687', '62016c5e-df86-4a0b-b797-17a937ba7acc', '9c12ce00-9c0b-4afa-b4b0-cf6a23406e81', 'eb9ba6c4-ada5-4059-8ca2-59c9c851ce65', 'd4c2d7f8-656b-4020-a690-91001e5625e6', '67dea750-ed74-440d-8954-114393510058', 'ee8b3da3-27de-4cac-8647-2d7e13bc0510', '597f296b-dd23-445b-9cfd-d7d5d8a51b78', '6db661c2-a477-41de-9629-c7b40738e89d', 'cf5f60bf-f706-4cda-b62f-f2b9eaafcef3', '31e00078-e5e5-4dca-85b6-0cf4b2b2f975', 'c3559237-c30a-48aa-bf6b-3b4a041ea1af', 'ea2d0aa0-4df6-471a-b88d-e136dc342e19', 'ee912760-6a25-46bf-93aa-b6e0f84f52fb', '78a899bd-f47c-47be-b7c0-1986702f6144', '7bf1b44b-70ca-4ce2-9c8b-0a62bef6bfba', 'dafbeb3b-a619-46d4-abff-20f2d43c298a', '2fa7cc07-4e62-445c-81e1-948b297f207a', '99fc65e9-6f96-4bab-84ef-eab502e1a026', 'd43a346e-7dd0-4073-9f80-d7e734ac69bf', '3371abed-1b4d-4753-a401-b6a53848c187', '5d2ed45b-fa44-4cbf-b406-5235026a4723', 'f8b20d01-8eea-4cf8-a556-b7104edc3cfa', '07d2d2e8-453f-493c-bb37-41823e1b04d4', '1ed3db17-60ae-4f1d-8dc2-326dc83debb1', '3b3a4897-d599-45e1-a080-e8de2a6ac342', '735956d4-4707-4305-a6e2-ced1215c89fb', 'bfff3a05-6adf-4f82-8c78-06c2bddf952f', '0ba0be23-c623-4872-bf46-acb19cf8ba28', '445d84e0-d059-4fd7-a0ad-e2f991a1dd8d', '6b62526b-9978-4821-8a17-90df7be48333', '94c340f6-7575-4654-9372-6a41a64d65fa', '0b197ea6-ec03-4fe7-9dc4-a8198cb7b986', '4ca22ecb-3b6b-4cf0-975a-ca296d42d273', 'b9080481-3506-4785-ac34-0e54ff6f747a', '57338109-ac09-431c-888a-5924708bb4c2', '11c4715f-196d-4f89-9464-fd2e52566b70', '50ce44ff-607a-40f3-8d96-5b9cae8754fd', 'ced7470d-d931-4bf5-a718-f8b1450dabd6', '4077ccbf-9da8-498a-8326-8d0f2fb96080', '564b4db2-e85f-4e08-896e-eda26b5b361e', '89b95558-4dbe-4707-b3a0-9aa4c41b7853', '5336badd-1b68-46d9-bdde-342644aec4ef', 'fc0a2149-0a70-4457-ad9b-f11b02146c92', '10b45c3b-ef09-4019-b3ea-3adc4fe69c11', 'ccbe4cc3-d2c2-4278-9c32-b338432ade37', 'dded1390-c1a4-4ab4-af65-74b16e6a6512', 'ba11f3ab-7aec-4460-bc4d-c6441f5154a3', 'e7a1cf6a-9716-463d-97c4-28c8be572011', 'cb441835-71c0-4815-a8a3-6278318b409a', 'c6ecb8a2-e95a-40fe-95dd-93da8a66183d', '1b40ed3f-8ae7-4a90-919e-30a7653cfd01', '5f33e15f-32f7-4ad0-9763-0598f69b065a', 'c305388a-12a5-4c7a-a98c-cd1fdeda5577', '9d95d590-80f8-4db7-a393-b429515ee7c3', '119dc0c1-cba8-46ce-ae40-41fbc6a36d1c', '3dc0ab17-84e9-4f6f-9722-d6ac71427ede', 'cb5bcfc1-91b1-4390-9eae-90b0cb52610d']\n",
      "Replacing 49 from 147 !\n",
      "D_relabeled_ 49\n",
      "selected_ids ['dae9dc70-254c-49ec-a427-9798a30c6027', '53e9485d-2e66-4547-aafd-4c8df24d31b8', '3d8d0f39-49ad-4bf9-a225-8da2a5e72226', '11c4715f-196d-4f89-9464-fd2e52566b70', '67dea750-ed74-440d-8954-114393510058', 'fc447efc-8c56-401d-b6eb-3c3a20c5a769', 'dded1390-c1a4-4ab4-af65-74b16e6a6512', 'dafbeb3b-a619-46d4-abff-20f2d43c298a', '18a66b0d-5ff1-4355-950b-d62cbaa9f3e9', 'd398bd08-61d3-4f79-ae27-a22064185654', '08224cd1-5962-416b-82f1-44f170e8eee4', '564b4db2-e85f-4e08-896e-eda26b5b361e', 'e7a1cf6a-9716-463d-97c4-28c8be572011', '6fd52bf4-e743-483f-8024-4602a2c92891', '1de1aa45-b8ca-4084-8b76-85862ef7e5d8', '03108d80-e9db-43ba-ab29-4fd2439f9765', '3dc0ab17-84e9-4f6f-9722-d6ac71427ede', '4024f55c-9e64-465e-8740-b0d5377014b5', '3ee46162-f60a-45a7-91d8-4f3ccc8b8f03', '60d89d5d-bd07-4933-9c9a-89f2a689527f', '89b95558-4dbe-4707-b3a0-9aa4c41b7853', '4ca22ecb-3b6b-4cf0-975a-ca296d42d273', '8d80108e-1ec3-4420-af7a-e9765957842c', 'c6ecb8a2-e95a-40fe-95dd-93da8a66183d', 'df95b13f-1450-43e2-817a-7d7433ce5891', '90f8aa0b-86c7-4d89-b0b9-9cca0b812a55', 'ee912760-6a25-46bf-93aa-b6e0f84f52fb', '669bf46d-df61-412b-8690-7fdf89565575', '37cfc56e-ca13-48fe-9005-f8254359e4b6', '23402155-53b5-4b29-beda-bd7bbbf212b9', '3576a8f3-6505-45db-8f90-af14b31ba02a', '94c340f6-7575-4654-9372-6a41a64d65fa', 'a0d74ea9-d6c6-4375-affb-a0cc2aff8564', 'e570521b-e9e5-4776-a016-2c53a1243767', '9467f8d6-94ee-4afc-92a4-4c5e7a1a5b79', 'f8b20d01-8eea-4cf8-a556-b7104edc3cfa', 'a0d3b335-ff5f-4849-b4b2-7b1d9625dab3', '8f7bf55d-15f9-4205-9c2e-6c4d245e3a54', '735956d4-4707-4305-a6e2-ced1215c89fb', '2a74938b-b884-4562-b043-82d788d0a5b7', '10b45c3b-ef09-4019-b3ea-3adc4fe69c11', '73235f4d-d05d-4d94-8584-0ab35d7fee81', '31e00078-e5e5-4dca-85b6-0cf4b2b2f975', '1a7056ac-14b3-4b77-93be-99b19b54e444', '17c07856-7587-46b4-b41d-fc712b33627d', '1d7f407e-358e-4ae8-852f-d037d341469f', 'b9080481-3506-4785-ac34-0e54ff6f747a', 'eb23f45c-8009-48e0-bf51-52bb97d09727', 'b6099386-5277-4487-9e1c-54f68b6d8c36']\n",
      "dict_keys(['dae9dc70-254c-49ec-a427-9798a30c6027', '53e9485d-2e66-4547-aafd-4c8df24d31b8', '3d8d0f39-49ad-4bf9-a225-8da2a5e72226', '11c4715f-196d-4f89-9464-fd2e52566b70', '67dea750-ed74-440d-8954-114393510058', 'fc447efc-8c56-401d-b6eb-3c3a20c5a769', 'dded1390-c1a4-4ab4-af65-74b16e6a6512', 'dafbeb3b-a619-46d4-abff-20f2d43c298a', '18a66b0d-5ff1-4355-950b-d62cbaa9f3e9', 'd398bd08-61d3-4f79-ae27-a22064185654', '08224cd1-5962-416b-82f1-44f170e8eee4', '564b4db2-e85f-4e08-896e-eda26b5b361e', 'e7a1cf6a-9716-463d-97c4-28c8be572011', '6fd52bf4-e743-483f-8024-4602a2c92891', '1de1aa45-b8ca-4084-8b76-85862ef7e5d8', '03108d80-e9db-43ba-ab29-4fd2439f9765', '3dc0ab17-84e9-4f6f-9722-d6ac71427ede', '4024f55c-9e64-465e-8740-b0d5377014b5', '3ee46162-f60a-45a7-91d8-4f3ccc8b8f03', '60d89d5d-bd07-4933-9c9a-89f2a689527f', '89b95558-4dbe-4707-b3a0-9aa4c41b7853', '4ca22ecb-3b6b-4cf0-975a-ca296d42d273', '8d80108e-1ec3-4420-af7a-e9765957842c', 'c6ecb8a2-e95a-40fe-95dd-93da8a66183d', 'df95b13f-1450-43e2-817a-7d7433ce5891', '90f8aa0b-86c7-4d89-b0b9-9cca0b812a55', 'ee912760-6a25-46bf-93aa-b6e0f84f52fb', '669bf46d-df61-412b-8690-7fdf89565575', '37cfc56e-ca13-48fe-9005-f8254359e4b6', '23402155-53b5-4b29-beda-bd7bbbf212b9', '3576a8f3-6505-45db-8f90-af14b31ba02a', '94c340f6-7575-4654-9372-6a41a64d65fa', 'a0d74ea9-d6c6-4375-affb-a0cc2aff8564', 'e570521b-e9e5-4776-a016-2c53a1243767', '9467f8d6-94ee-4afc-92a4-4c5e7a1a5b79', 'f8b20d01-8eea-4cf8-a556-b7104edc3cfa', 'a0d3b335-ff5f-4849-b4b2-7b1d9625dab3', '8f7bf55d-15f9-4205-9c2e-6c4d245e3a54', '735956d4-4707-4305-a6e2-ced1215c89fb', '2a74938b-b884-4562-b043-82d788d0a5b7', '10b45c3b-ef09-4019-b3ea-3adc4fe69c11', '73235f4d-d05d-4d94-8584-0ab35d7fee81', '31e00078-e5e5-4dca-85b6-0cf4b2b2f975', '1a7056ac-14b3-4b77-93be-99b19b54e444', '17c07856-7587-46b4-b41d-fc712b33627d', '1d7f407e-358e-4ae8-852f-d037d341469f', 'b9080481-3506-4785-ac34-0e54ff6f747a', 'eb23f45c-8009-48e0-bf51-52bb97d09727', 'b6099386-5277-4487-9e1c-54f68b6d8c36'])\n",
      "point ids 49\n",
      "Removed: 49 Filled: 49\n",
      "TOOK 263.5020627975464 seconds\n",
      "***\n",
      "RUN: 1\n"
     ]
    },
    {
     "name": "stdout",
     "output_type": "stream",
     "text": [
      "Epoch 1/100\n",
      "4/5 [=======================>......] - ETA: 0s - loss: 0.8320 - dice_coef: 0.1447"
     ]
    },
    {
     "ename": "KeyboardInterrupt",
     "evalue": "",
     "output_type": "error",
     "traceback": [
      "\u001b[0;31m---------------------------------------------------------------------------\u001b[0m",
      "\u001b[0;31mKeyboardInterrupt\u001b[0m                         Traceback (most recent call last)",
      "\u001b[0;32m/tmp/ipykernel_1375088/2791323294.py\u001b[0m in \u001b[0;36m<module>\u001b[0;34m\u001b[0m\n\u001b[1;32m      3\u001b[0m     \u001b[0mprint\u001b[0m\u001b[0;34m(\u001b[0m\u001b[0;34m'RUN:'\u001b[0m\u001b[0;34m,\u001b[0m \u001b[0mrun\u001b[0m\u001b[0;34m)\u001b[0m\u001b[0;34m\u001b[0m\u001b[0;34m\u001b[0m\u001b[0m\n\u001b[1;32m      4\u001b[0m     \u001b[0mt0\u001b[0m \u001b[0;34m=\u001b[0m \u001b[0mtime\u001b[0m\u001b[0;34m.\u001b[0m\u001b[0mtime\u001b[0m\u001b[0;34m(\u001b[0m\u001b[0;34m)\u001b[0m\u001b[0;34m\u001b[0m\u001b[0;34m\u001b[0m\u001b[0m\n\u001b[0;32m----> 5\u001b[0;31m     \u001b[0mR\u001b[0m\u001b[0;34m.\u001b[0m\u001b[0mrun_classifier\u001b[0m\u001b[0;34m(\u001b[0m\u001b[0mpatience_counter\u001b[0m\u001b[0;34m=\u001b[0m\u001b[0;36m4\u001b[0m\u001b[0;34m)\u001b[0m\u001b[0;34m\u001b[0m\u001b[0;34m\u001b[0m\u001b[0m\n\u001b[0m\u001b[1;32m      6\u001b[0m     \u001b[0mR\u001b[0m\u001b[0;34m.\u001b[0m\u001b[0mrun_discriminator\u001b[0m\u001b[0;34m(\u001b[0m\u001b[0;34m)\u001b[0m\u001b[0;34m\u001b[0m\u001b[0;34m\u001b[0m\u001b[0m\n\u001b[1;32m      7\u001b[0m     \u001b[0ml\u001b[0m \u001b[0;34m=\u001b[0m \u001b[0mR\u001b[0m\u001b[0;34m.\u001b[0m\u001b[0mfind_machine_labels\u001b[0m\u001b[0;34m(\u001b[0m\u001b[0;34m)\u001b[0m\u001b[0;34m\u001b[0m\u001b[0;34m\u001b[0m\u001b[0m\n",
      "\u001b[0;32m~/Projects/CS410-Omama/_EXPERIMENTS/GP2/../../gp2/runner.py\u001b[0m in \u001b[0;36mrun_classifier\u001b[0;34m(self, patience_counter)\u001b[0m\n\u001b[1;32m    166\u001b[0m         \u001b[0my_val_\u001b[0m \u001b[0;34m=\u001b[0m \u001b[0my_val_\u001b[0m\u001b[0;34m[\u001b[0m\u001b[0;34m:\u001b[0m\u001b[0;34m,\u001b[0m \u001b[0;34m:\u001b[0m\u001b[0;34m,\u001b[0m \u001b[0;34m:\u001b[0m\u001b[0;34m,\u001b[0m \u001b[0;36m1\u001b[0m\u001b[0;34m]\u001b[0m\u001b[0;34m.\u001b[0m\u001b[0mastype\u001b[0m\u001b[0;34m(\u001b[0m\u001b[0mnp\u001b[0m\u001b[0;34m.\u001b[0m\u001b[0mfloat32\u001b[0m\u001b[0;34m)\u001b[0m\u001b[0;34m\u001b[0m\u001b[0;34m\u001b[0m\u001b[0m\n\u001b[1;32m    167\u001b[0m \u001b[0;34m\u001b[0m\u001b[0m\n\u001b[0;32m--> 168\u001b[0;31m         history = u.train(X_train_, y_train_, X_val_, y_val_,\n\u001b[0m\u001b[1;32m    169\u001b[0m                           patience_counter=patience_counter)\n\u001b[1;32m    170\u001b[0m \u001b[0;34m\u001b[0m\u001b[0m\n",
      "\u001b[0;32m~/Projects/CS410-Omama/_EXPERIMENTS/GP2/../../gp2/gp2/keras_unets.py\u001b[0m in \u001b[0;36mtrain\u001b[0;34m(self, X_train, y_train, X_val, y_val, patience_counter, batch_size, epochs, call_backs, **kwargs)\u001b[0m\n\u001b[1;32m    524\u001b[0m             \u001b[0mcall_backs\u001b[0m \u001b[0;34m=\u001b[0m \u001b[0mcall_backs\u001b[0m\u001b[0;34m\u001b[0m\u001b[0;34m\u001b[0m\u001b[0m\n\u001b[1;32m    525\u001b[0m \u001b[0;34m\u001b[0m\u001b[0m\n\u001b[0;32m--> 526\u001b[0;31m         history = self.model.fit(X_train, y_train,\n\u001b[0m\u001b[1;32m    527\u001b[0m                                  \u001b[0mbatch_size\u001b[0m\u001b[0;34m=\u001b[0m\u001b[0mbatch_size\u001b[0m\u001b[0;34m,\u001b[0m\u001b[0;34m\u001b[0m\u001b[0;34m\u001b[0m\u001b[0m\n\u001b[1;32m    528\u001b[0m                                  \u001b[0mepochs\u001b[0m\u001b[0;34m=\u001b[0m\u001b[0mepochs\u001b[0m\u001b[0;34m,\u001b[0m\u001b[0;34m\u001b[0m\u001b[0;34m\u001b[0m\u001b[0m\n",
      "\u001b[0;32m~/miniconda3/envs/O/lib/python3.9/site-packages/tensorflow/python/keras/engine/training.py\u001b[0m in \u001b[0;36mfit\u001b[0;34m(self, x, y, batch_size, epochs, verbose, callbacks, validation_split, validation_data, shuffle, class_weight, sample_weight, initial_epoch, steps_per_epoch, validation_steps, validation_batch_size, validation_freq, max_queue_size, workers, use_multiprocessing)\u001b[0m\n\u001b[1;32m   1181\u001b[0m                 _r=1):\n\u001b[1;32m   1182\u001b[0m               \u001b[0mcallbacks\u001b[0m\u001b[0;34m.\u001b[0m\u001b[0mon_train_batch_begin\u001b[0m\u001b[0;34m(\u001b[0m\u001b[0mstep\u001b[0m\u001b[0;34m)\u001b[0m\u001b[0;34m\u001b[0m\u001b[0;34m\u001b[0m\u001b[0m\n\u001b[0;32m-> 1183\u001b[0;31m               \u001b[0mtmp_logs\u001b[0m \u001b[0;34m=\u001b[0m \u001b[0mself\u001b[0m\u001b[0;34m.\u001b[0m\u001b[0mtrain_function\u001b[0m\u001b[0;34m(\u001b[0m\u001b[0miterator\u001b[0m\u001b[0;34m)\u001b[0m\u001b[0;34m\u001b[0m\u001b[0;34m\u001b[0m\u001b[0m\n\u001b[0m\u001b[1;32m   1184\u001b[0m               \u001b[0;32mif\u001b[0m \u001b[0mdata_handler\u001b[0m\u001b[0;34m.\u001b[0m\u001b[0mshould_sync\u001b[0m\u001b[0;34m:\u001b[0m\u001b[0;34m\u001b[0m\u001b[0;34m\u001b[0m\u001b[0m\n\u001b[1;32m   1185\u001b[0m                 \u001b[0mcontext\u001b[0m\u001b[0;34m.\u001b[0m\u001b[0masync_wait\u001b[0m\u001b[0;34m(\u001b[0m\u001b[0;34m)\u001b[0m\u001b[0;34m\u001b[0m\u001b[0;34m\u001b[0m\u001b[0m\n",
      "\u001b[0;32m~/miniconda3/envs/O/lib/python3.9/site-packages/tensorflow/python/eager/def_function.py\u001b[0m in \u001b[0;36m__call__\u001b[0;34m(self, *args, **kwds)\u001b[0m\n\u001b[1;32m    887\u001b[0m \u001b[0;34m\u001b[0m\u001b[0m\n\u001b[1;32m    888\u001b[0m       \u001b[0;32mwith\u001b[0m \u001b[0mOptionalXlaContext\u001b[0m\u001b[0;34m(\u001b[0m\u001b[0mself\u001b[0m\u001b[0;34m.\u001b[0m\u001b[0m_jit_compile\u001b[0m\u001b[0;34m)\u001b[0m\u001b[0;34m:\u001b[0m\u001b[0;34m\u001b[0m\u001b[0;34m\u001b[0m\u001b[0m\n\u001b[0;32m--> 889\u001b[0;31m         \u001b[0mresult\u001b[0m \u001b[0;34m=\u001b[0m \u001b[0mself\u001b[0m\u001b[0;34m.\u001b[0m\u001b[0m_call\u001b[0m\u001b[0;34m(\u001b[0m\u001b[0;34m*\u001b[0m\u001b[0margs\u001b[0m\u001b[0;34m,\u001b[0m \u001b[0;34m**\u001b[0m\u001b[0mkwds\u001b[0m\u001b[0;34m)\u001b[0m\u001b[0;34m\u001b[0m\u001b[0;34m\u001b[0m\u001b[0m\n\u001b[0m\u001b[1;32m    890\u001b[0m \u001b[0;34m\u001b[0m\u001b[0m\n\u001b[1;32m    891\u001b[0m       \u001b[0mnew_tracing_count\u001b[0m \u001b[0;34m=\u001b[0m \u001b[0mself\u001b[0m\u001b[0;34m.\u001b[0m\u001b[0mexperimental_get_tracing_count\u001b[0m\u001b[0;34m(\u001b[0m\u001b[0;34m)\u001b[0m\u001b[0;34m\u001b[0m\u001b[0;34m\u001b[0m\u001b[0m\n",
      "\u001b[0;32m~/miniconda3/envs/O/lib/python3.9/site-packages/tensorflow/python/eager/def_function.py\u001b[0m in \u001b[0;36m_call\u001b[0;34m(self, *args, **kwds)\u001b[0m\n\u001b[1;32m    915\u001b[0m       \u001b[0;31m# In this case we have created variables on the first call, so we run the\u001b[0m\u001b[0;34m\u001b[0m\u001b[0;34m\u001b[0m\u001b[0m\n\u001b[1;32m    916\u001b[0m       \u001b[0;31m# defunned version which is guaranteed to never create variables.\u001b[0m\u001b[0;34m\u001b[0m\u001b[0;34m\u001b[0m\u001b[0m\n\u001b[0;32m--> 917\u001b[0;31m       \u001b[0;32mreturn\u001b[0m \u001b[0mself\u001b[0m\u001b[0;34m.\u001b[0m\u001b[0m_stateless_fn\u001b[0m\u001b[0;34m(\u001b[0m\u001b[0;34m*\u001b[0m\u001b[0margs\u001b[0m\u001b[0;34m,\u001b[0m \u001b[0;34m**\u001b[0m\u001b[0mkwds\u001b[0m\u001b[0;34m)\u001b[0m  \u001b[0;31m# pylint: disable=not-callable\u001b[0m\u001b[0;34m\u001b[0m\u001b[0;34m\u001b[0m\u001b[0m\n\u001b[0m\u001b[1;32m    918\u001b[0m     \u001b[0;32melif\u001b[0m \u001b[0mself\u001b[0m\u001b[0;34m.\u001b[0m\u001b[0m_stateful_fn\u001b[0m \u001b[0;32mis\u001b[0m \u001b[0;32mnot\u001b[0m \u001b[0;32mNone\u001b[0m\u001b[0;34m:\u001b[0m\u001b[0;34m\u001b[0m\u001b[0;34m\u001b[0m\u001b[0m\n\u001b[1;32m    919\u001b[0m       \u001b[0;31m# Release the lock early so that multiple threads can perform the call\u001b[0m\u001b[0;34m\u001b[0m\u001b[0;34m\u001b[0m\u001b[0m\n",
      "\u001b[0;32m~/miniconda3/envs/O/lib/python3.9/site-packages/tensorflow/python/eager/function.py\u001b[0m in \u001b[0;36m__call__\u001b[0;34m(self, *args, **kwargs)\u001b[0m\n\u001b[1;32m   3021\u001b[0m       (graph_function,\n\u001b[1;32m   3022\u001b[0m        filtered_flat_args) = self._maybe_define_function(args, kwargs)\n\u001b[0;32m-> 3023\u001b[0;31m     return graph_function._call_flat(\n\u001b[0m\u001b[1;32m   3024\u001b[0m         filtered_flat_args, captured_inputs=graph_function.captured_inputs)  # pylint: disable=protected-access\n\u001b[1;32m   3025\u001b[0m \u001b[0;34m\u001b[0m\u001b[0m\n",
      "\u001b[0;32m~/miniconda3/envs/O/lib/python3.9/site-packages/tensorflow/python/eager/function.py\u001b[0m in \u001b[0;36m_call_flat\u001b[0;34m(self, args, captured_inputs, cancellation_manager)\u001b[0m\n\u001b[1;32m   1958\u001b[0m         and executing_eagerly):\n\u001b[1;32m   1959\u001b[0m       \u001b[0;31m# No tape is watching; skip to running the function.\u001b[0m\u001b[0;34m\u001b[0m\u001b[0;34m\u001b[0m\u001b[0m\n\u001b[0;32m-> 1960\u001b[0;31m       return self._build_call_outputs(self._inference_function.call(\n\u001b[0m\u001b[1;32m   1961\u001b[0m           ctx, args, cancellation_manager=cancellation_manager))\n\u001b[1;32m   1962\u001b[0m     forward_backward = self._select_forward_and_backward_functions(\n",
      "\u001b[0;32m~/miniconda3/envs/O/lib/python3.9/site-packages/tensorflow/python/eager/function.py\u001b[0m in \u001b[0;36mcall\u001b[0;34m(self, ctx, args, cancellation_manager)\u001b[0m\n\u001b[1;32m    589\u001b[0m       \u001b[0;32mwith\u001b[0m \u001b[0m_InterpolateFunctionError\u001b[0m\u001b[0;34m(\u001b[0m\u001b[0mself\u001b[0m\u001b[0;34m)\u001b[0m\u001b[0;34m:\u001b[0m\u001b[0;34m\u001b[0m\u001b[0;34m\u001b[0m\u001b[0m\n\u001b[1;32m    590\u001b[0m         \u001b[0;32mif\u001b[0m \u001b[0mcancellation_manager\u001b[0m \u001b[0;32mis\u001b[0m \u001b[0;32mNone\u001b[0m\u001b[0;34m:\u001b[0m\u001b[0;34m\u001b[0m\u001b[0;34m\u001b[0m\u001b[0m\n\u001b[0;32m--> 591\u001b[0;31m           outputs = execute.execute(\n\u001b[0m\u001b[1;32m    592\u001b[0m               \u001b[0mstr\u001b[0m\u001b[0;34m(\u001b[0m\u001b[0mself\u001b[0m\u001b[0;34m.\u001b[0m\u001b[0msignature\u001b[0m\u001b[0;34m.\u001b[0m\u001b[0mname\u001b[0m\u001b[0;34m)\u001b[0m\u001b[0;34m,\u001b[0m\u001b[0;34m\u001b[0m\u001b[0;34m\u001b[0m\u001b[0m\n\u001b[1;32m    593\u001b[0m               \u001b[0mnum_outputs\u001b[0m\u001b[0;34m=\u001b[0m\u001b[0mself\u001b[0m\u001b[0;34m.\u001b[0m\u001b[0m_num_outputs\u001b[0m\u001b[0;34m,\u001b[0m\u001b[0;34m\u001b[0m\u001b[0;34m\u001b[0m\u001b[0m\n",
      "\u001b[0;32m~/miniconda3/envs/O/lib/python3.9/site-packages/tensorflow/python/eager/execute.py\u001b[0m in \u001b[0;36mquick_execute\u001b[0;34m(op_name, num_outputs, inputs, attrs, ctx, name)\u001b[0m\n\u001b[1;32m     57\u001b[0m   \u001b[0;32mtry\u001b[0m\u001b[0;34m:\u001b[0m\u001b[0;34m\u001b[0m\u001b[0;34m\u001b[0m\u001b[0m\n\u001b[1;32m     58\u001b[0m     \u001b[0mctx\u001b[0m\u001b[0;34m.\u001b[0m\u001b[0mensure_initialized\u001b[0m\u001b[0;34m(\u001b[0m\u001b[0;34m)\u001b[0m\u001b[0;34m\u001b[0m\u001b[0;34m\u001b[0m\u001b[0m\n\u001b[0;32m---> 59\u001b[0;31m     tensors = pywrap_tfe.TFE_Py_Execute(ctx._handle, device_name, op_name,\n\u001b[0m\u001b[1;32m     60\u001b[0m                                         inputs, attrs, num_outputs)\n\u001b[1;32m     61\u001b[0m   \u001b[0;32mexcept\u001b[0m \u001b[0mcore\u001b[0m\u001b[0;34m.\u001b[0m\u001b[0m_NotOkStatusException\u001b[0m \u001b[0;32mas\u001b[0m \u001b[0me\u001b[0m\u001b[0;34m:\u001b[0m\u001b[0;34m\u001b[0m\u001b[0;34m\u001b[0m\u001b[0m\n",
      "\u001b[0;31mKeyboardInterrupt\u001b[0m: "
     ]
    }
   ],
   "source": [
    "for run in range(RUNS):\n",
    "    print('***')\n",
    "    print('RUN:', run)\n",
    "    t0 = time.time()\n",
    "    R.run_classifier(patience_counter=4)\n",
    "    R.run_discriminator()\n",
    "    l = R.find_machine_labels()\n",
    "    if l == 0:\n",
    "        print('No more machine labels.')\n",
    "        print('TOOK', time.time()-t0, 'seconds')\n",
    "        break\n",
    "    R.relabel(percent_to_replace=PERCENT_TO_REPLACE)\n",
    "    print('TOOK', time.time()-t0, 'seconds')\n",
    "    "
   ]
  },
  {
   "cell_type": "code",
   "execution_count": null,
   "id": "dab6fd49",
   "metadata": {},
   "outputs": [],
   "source": []
  },
  {
   "cell_type": "code",
   "execution_count": null,
   "id": "00075332",
   "metadata": {
    "scrolled": true
   },
   "outputs": [],
   "source": [
    "R.classifier_scores"
   ]
  },
  {
   "cell_type": "code",
   "execution_count": null,
   "id": "35105656",
   "metadata": {},
   "outputs": [],
   "source": [
    "R.discriminator_scores"
   ]
  },
  {
   "cell_type": "code",
   "execution_count": null,
   "id": "d640483d",
   "metadata": {},
   "outputs": [],
   "source": [
    "R.plot()"
   ]
  },
  {
   "cell_type": "code",
   "execution_count": null,
   "id": "9f37c32a",
   "metadata": {},
   "outputs": [],
   "source": []
  },
  {
   "cell_type": "code",
   "execution_count": 18,
   "id": "e256ed4d",
   "metadata": {},
   "outputs": [
    {
     "data": {
      "image/png": "[encoded data removed]",
      "text/plain": [
       "<Figure size 240x240 with 1 Axes>"
      ]
     },
     "metadata": {
      "needs_background": "light"
     },
     "output_type": "display_data"
    }
   ],
   "source": [
    "R.plot()"
   ]
  },
  {
   "cell_type": "code",
   "execution_count": null,
   "id": "84505f2d",
   "metadata": {},
   "outputs": [],
   "source": []
  },
  {
   "cell_type": "code",
   "execution_count": null,
   "id": "7dca2275",
   "metadata": {},
   "outputs": [],
   "source": []
  },
  {
   "cell_type": "code",
   "execution_count": 18,
   "id": "b1ec788d",
   "metadata": {},
   "outputs": [
    {
     "data": {
      "image/png": "[encoded data removed]",
      "text/plain": [
       "<Figure size 240x240 with 1 Axes>"
      ]
     },
     "metadata": {
      "needs_background": "light"
     },
     "output_type": "display_data"
    }
   ],
   "source": [
    "R.plot()"
   ]
  },
  {
   "cell_type": "code",
   "execution_count": null,
   "id": "0553618c",
   "metadata": {},
   "outputs": [],
   "source": []
  },
  {
   "cell_type": "code",
   "execution_count": 17,
   "id": "0a721a90",
   "metadata": {},
   "outputs": [
    {
     "data": {
      "image/png": "[encoded data removed]",
      "text/plain": [
       "<Figure size 240x240 with 1 Axes>"
      ]
     },
     "metadata": {
      "needs_background": "light"
     },
     "output_type": "display_data"
    }
   ],
   "source": [
    "R.plot()"
   ]
  },
  {
   "cell_type": "code",
   "execution_count": null,
   "id": "551de181",
   "metadata": {},
   "outputs": [],
   "source": []
  }
 ],
 "metadata": {
  "kernelspec": {
   "display_name": "Python 3 (ipykernel)",
   "language": "python",
   "name": "python3"
  },
  "language_info": {
   "codemirror_mode": {
    "name": "ipython",
    "version": 3
   },
   "file_extension": ".py",
   "mimetype": "text/x-python",
   "name": "python",
   "nbconvert_exporter": "python",
   "pygments_lexer": "ipython3",
   "version": "3.9.7"
  }
 },
 "nbformat": 4,
 "nbformat_minor": 5
}
