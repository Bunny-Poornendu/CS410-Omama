{
 "cells": [
  {
   "cell_type": "code",
   "execution_count": 1,
   "id": "06c4accc",
   "metadata": {},
   "outputs": [
    {
     "name": "stdout",
     "output_type": "stream",
     "text": [
      "Populating the interactive namespace from numpy and matplotlib\n"
     ]
    }
   ],
   "source": [
    "%pylab inline\n",
    "%load_ext autoreload\n",
    "%autoreload 2"
   ]
  },
  {
   "cell_type": "code",
   "execution_count": 2,
   "id": "861fc4c8",
   "metadata": {},
   "outputs": [
    {
     "name": "stderr",
     "output_type": "stream",
     "text": [
      "2023-04-22 10:28:48.485599: I tensorflow/stream_executor/platform/default/dso_loader.cc:53] Successfully opened dynamic library libcudart.so.11.0\n"
     ]
    }
   ],
   "source": [
    "import numpy as np\n",
    "from glob import glob\n",
    "from tensorflow import keras\n",
    "from tensorflow.keras.layers import Input, Conv2D, Dropout, Activation, UpSampling2D, GlobalMaxPooling2D, multiply\n",
    "from tensorflow.keras.backend import max\n",
    "from keras_unet_collection import models, base, utils"
   ]
  },
  {
   "cell_type": "code",
   "execution_count": 3,
   "id": "b9e78ed8",
   "metadata": {
    "scrolled": true
   },
   "outputs": [
    {
     "name": "stderr",
     "output_type": "stream",
     "text": [
      "2023-04-22 10:28:50.060603: I tensorflow/stream_executor/platform/default/dso_loader.cc:53] Successfully opened dynamic library libcuda.so.1\n",
      "2023-04-22 10:28:50.497359: I tensorflow/core/common_runtime/gpu/gpu_device.cc:1733] Found device 0 with properties: \n",
      "pciBusID: 0000:07:00.0 name: A100-SXM4-40GB computeCapability: 8.0\n",
      "coreClock: 1.41GHz coreCount: 108 deviceMemorySize: 39.59GiB deviceMemoryBandwidth: 1.41TiB/s\n",
      "2023-04-22 10:28:50.506305: I tensorflow/core/common_runtime/gpu/gpu_device.cc:1733] Found device 1 with properties: \n",
      "pciBusID: 0000:0f:00.0 name: A100-SXM4-40GB computeCapability: 8.0\n",
      "coreClock: 1.41GHz coreCount: 108 deviceMemorySize: 39.59GiB deviceMemoryBandwidth: 1.41TiB/s\n",
      "2023-04-22 10:28:50.506393: I tensorflow/stream_executor/platform/default/dso_loader.cc:53] Successfully opened dynamic library libcudart.so.11.0\n",
      "2023-04-22 10:28:50.510570: I tensorflow/stream_executor/platform/default/dso_loader.cc:53] Successfully opened dynamic library libcublas.so.11\n",
      "2023-04-22 10:28:50.510618: I tensorflow/stream_executor/platform/default/dso_loader.cc:53] Successfully opened dynamic library libcublasLt.so.11\n",
      "2023-04-22 10:28:50.511685: I tensorflow/stream_executor/platform/default/dso_loader.cc:53] Successfully opened dynamic library libcufft.so.10\n",
      "2023-04-22 10:28:50.516093: I tensorflow/stream_executor/platform/default/dso_loader.cc:53] Successfully opened dynamic library libcurand.so.10\n",
      "2023-04-22 10:28:50.516747: I tensorflow/stream_executor/platform/default/dso_loader.cc:53] Successfully opened dynamic library libcusolver.so.11\n",
      "2023-04-22 10:28:50.517759: I tensorflow/stream_executor/platform/default/dso_loader.cc:53] Successfully opened dynamic library libcusparse.so.11\n",
      "2023-04-22 10:28:50.518061: I tensorflow/stream_executor/platform/default/dso_loader.cc:53] Successfully opened dynamic library libcudnn.so.8\n",
      "2023-04-22 10:28:50.539807: I tensorflow/core/common_runtime/gpu/gpu_device.cc:1871] Adding visible gpu devices: 0, 1\n"
     ]
    }
   ],
   "source": [
    "import time\n",
    "import sys\n",
    "sys.path.insert(0,'../..')\n",
    "from gp2 import Runner"
   ]
  },
  {
   "cell_type": "code",
   "execution_count": null,
   "id": "9ca4623b",
   "metadata": {},
   "outputs": [],
   "source": []
  },
  {
   "cell_type": "code",
   "execution_count": 4,
   "id": "bdc75325",
   "metadata": {},
   "outputs": [
    {
     "name": "stderr",
     "output_type": "stream",
     "text": [
      "2023-04-22 10:28:50.594600: I tensorflow/core/platform/cpu_feature_guard.cc:142] This TensorFlow binary is optimized with oneAPI Deep Neural Network Library (oneDNN) to use the following CPU instructions in performance-critical operations:  AVX2 FMA\n",
      "To enable them in other operations, rebuild TensorFlow with the appropriate compiler flags.\n",
      "2023-04-22 10:28:50.988764: I tensorflow/core/common_runtime/gpu/gpu_device.cc:1733] Found device 0 with properties: \n",
      "pciBusID: 0000:07:00.0 name: A100-SXM4-40GB computeCapability: 8.0\n",
      "coreClock: 1.41GHz coreCount: 108 deviceMemorySize: 39.59GiB deviceMemoryBandwidth: 1.41TiB/s\n",
      "2023-04-22 10:28:50.992690: I tensorflow/core/common_runtime/gpu/gpu_device.cc:1733] Found device 1 with properties: \n",
      "pciBusID: 0000:0f:00.0 name: A100-SXM4-40GB computeCapability: 8.0\n",
      "coreClock: 1.41GHz coreCount: 108 deviceMemorySize: 39.59GiB deviceMemoryBandwidth: 1.41TiB/s\n",
      "2023-04-22 10:28:51.007853: I tensorflow/core/common_runtime/gpu/gpu_device.cc:1871] Adding visible gpu devices: 0, 1\n",
      "2023-04-22 10:28:51.007915: I tensorflow/stream_executor/platform/default/dso_loader.cc:53] Successfully opened dynamic library libcudart.so.11.0\n",
      "2023-04-22 10:28:51.859048: I tensorflow/core/common_runtime/gpu/gpu_device.cc:1258] Device interconnect StreamExecutor with strength 1 edge matrix:\n",
      "2023-04-22 10:28:51.859109: I tensorflow/core/common_runtime/gpu/gpu_device.cc:1264]      0 1 \n",
      "2023-04-22 10:28:51.859115: I tensorflow/core/common_runtime/gpu/gpu_device.cc:1277] 0:   N Y \n",
      "2023-04-22 10:28:51.859118: I tensorflow/core/common_runtime/gpu/gpu_device.cc:1277] 1:   Y N \n",
      "2023-04-22 10:28:51.885570: I tensorflow/core/common_runtime/gpu/gpu_device.cc:1418] Created TensorFlow device (/job:localhost/replica:0/task:0/device:GPU:0 with 38425 MB memory) -> physical GPU (device: 0, name: A100-SXM4-40GB, pci bus id: 0000:07:00.0, compute capability: 8.0)\n",
      "2023-04-22 10:28:51.890854: I tensorflow/core/common_runtime/gpu/gpu_device.cc:1418] Created TensorFlow device (/job:localhost/replica:0/task:0/device:GPU:1 with 38425 MB memory) -> physical GPU (device: 1, name: A100-SXM4-40GB, pci bus id: 0000:0f:00.0, compute capability: 8.0)\n"
     ]
    },
    {
     "name": "stdout",
     "output_type": "stream",
     "text": [
      "*** GP2  KUNet2D ***\n",
      "Working directory: /tmp/tmpkuz68ifsGP2\n",
      "Verbose mode active!\n",
      "Model: \"unet_model\"\n",
      "__________________________________________________________________________________________________\n",
      "Layer (type)                    Output Shape         Param #     Connected to                     \n",
      "==================================================================================================\n",
      "input_1 (InputLayer)            [(None, 512, 512, 1) 0                                            \n",
      "__________________________________________________________________________________________________\n",
      "unet_down0_0 (Conv2D)           (None, 512, 512, 32) 288         input_1[0][0]                    \n",
      "__________________________________________________________________________________________________\n",
      "unet_down0_0_bn (BatchNormaliza (None, 512, 512, 32) 128         unet_down0_0[0][0]               \n",
      "__________________________________________________________________________________________________\n",
      "unet_down0_0_activation (ReLU)  (None, 512, 512, 32) 0           unet_down0_0_bn[0][0]            \n",
      "__________________________________________________________________________________________________\n",
      "unet_down0_1 (Conv2D)           (None, 512, 512, 32) 9216        unet_down0_0_activation[0][0]    \n",
      "__________________________________________________________________________________________________\n",
      "unet_down0_1_bn (BatchNormaliza (None, 512, 512, 32) 128         unet_down0_1[0][0]               \n",
      "__________________________________________________________________________________________________\n",
      "unet_down0_1_activation (ReLU)  (None, 512, 512, 32) 0           unet_down0_1_bn[0][0]            \n",
      "__________________________________________________________________________________________________\n",
      "unet_down0_2 (Conv2D)           (None, 512, 512, 32) 9216        unet_down0_1_activation[0][0]    \n",
      "__________________________________________________________________________________________________\n",
      "unet_down0_2_bn (BatchNormaliza (None, 512, 512, 32) 128         unet_down0_2[0][0]               \n",
      "__________________________________________________________________________________________________\n",
      "unet_down0_2_activation (ReLU)  (None, 512, 512, 32) 0           unet_down0_2_bn[0][0]            \n",
      "__________________________________________________________________________________________________\n",
      "unet_down1_encode_maxpool (MaxP (None, 256, 256, 32) 0           unet_down0_2_activation[0][0]    \n",
      "__________________________________________________________________________________________________\n",
      "unet_down1_conv_0 (Conv2D)      (None, 256, 256, 64) 18432       unet_down1_encode_maxpool[0][0]  \n",
      "__________________________________________________________________________________________________\n",
      "unet_down1_conv_0_bn (BatchNorm (None, 256, 256, 64) 256         unet_down1_conv_0[0][0]          \n",
      "__________________________________________________________________________________________________\n",
      "unet_down1_conv_0_activation (R (None, 256, 256, 64) 0           unet_down1_conv_0_bn[0][0]       \n",
      "__________________________________________________________________________________________________\n",
      "unet_down1_conv_1 (Conv2D)      (None, 256, 256, 64) 36864       unet_down1_conv_0_activation[0][0\n",
      "__________________________________________________________________________________________________\n",
      "unet_down1_conv_1_bn (BatchNorm (None, 256, 256, 64) 256         unet_down1_conv_1[0][0]          \n",
      "__________________________________________________________________________________________________\n",
      "unet_down1_conv_1_activation (R (None, 256, 256, 64) 0           unet_down1_conv_1_bn[0][0]       \n",
      "__________________________________________________________________________________________________\n",
      "unet_down1_conv_2 (Conv2D)      (None, 256, 256, 64) 36864       unet_down1_conv_1_activation[0][0\n",
      "__________________________________________________________________________________________________\n",
      "unet_down1_conv_2_bn (BatchNorm (None, 256, 256, 64) 256         unet_down1_conv_2[0][0]          \n",
      "__________________________________________________________________________________________________\n",
      "unet_down1_conv_2_activation (R (None, 256, 256, 64) 0           unet_down1_conv_2_bn[0][0]       \n",
      "__________________________________________________________________________________________________\n",
      "unet_down2_encode_maxpool (MaxP (None, 128, 128, 64) 0           unet_down1_conv_2_activation[0][0\n",
      "__________________________________________________________________________________________________\n",
      "unet_down2_conv_0 (Conv2D)      (None, 128, 128, 128 73728       unet_down2_encode_maxpool[0][0]  \n",
      "__________________________________________________________________________________________________\n",
      "unet_down2_conv_0_bn (BatchNorm (None, 128, 128, 128 512         unet_down2_conv_0[0][0]          \n",
      "__________________________________________________________________________________________________\n",
      "unet_down2_conv_0_activation (R (None, 128, 128, 128 0           unet_down2_conv_0_bn[0][0]       \n",
      "__________________________________________________________________________________________________\n",
      "unet_down2_conv_1 (Conv2D)      (None, 128, 128, 128 147456      unet_down2_conv_0_activation[0][0\n",
      "__________________________________________________________________________________________________\n",
      "unet_down2_conv_1_bn (BatchNorm (None, 128, 128, 128 512         unet_down2_conv_1[0][0]          \n",
      "__________________________________________________________________________________________________\n",
      "unet_down2_conv_1_activation (R (None, 128, 128, 128 0           unet_down2_conv_1_bn[0][0]       \n",
      "__________________________________________________________________________________________________\n",
      "unet_down2_conv_2 (Conv2D)      (None, 128, 128, 128 147456      unet_down2_conv_1_activation[0][0\n",
      "__________________________________________________________________________________________________\n",
      "unet_down2_conv_2_bn (BatchNorm (None, 128, 128, 128 512         unet_down2_conv_2[0][0]          \n",
      "__________________________________________________________________________________________________\n",
      "unet_down2_conv_2_activation (R (None, 128, 128, 128 0           unet_down2_conv_2_bn[0][0]       \n",
      "__________________________________________________________________________________________________\n",
      "unet_down3_encode_maxpool (MaxP (None, 64, 64, 128)  0           unet_down2_conv_2_activation[0][0\n",
      "__________________________________________________________________________________________________\n",
      "unet_down3_conv_0 (Conv2D)      (None, 64, 64, 256)  294912      unet_down3_encode_maxpool[0][0]  \n",
      "__________________________________________________________________________________________________\n",
      "unet_down3_conv_0_bn (BatchNorm (None, 64, 64, 256)  1024        unet_down3_conv_0[0][0]          \n",
      "__________________________________________________________________________________________________\n",
      "unet_down3_conv_0_activation (R (None, 64, 64, 256)  0           unet_down3_conv_0_bn[0][0]       \n",
      "__________________________________________________________________________________________________\n",
      "unet_down3_conv_1 (Conv2D)      (None, 64, 64, 256)  589824      unet_down3_conv_0_activation[0][0\n",
      "__________________________________________________________________________________________________\n",
      "unet_down3_conv_1_bn (BatchNorm (None, 64, 64, 256)  1024        unet_down3_conv_1[0][0]          \n",
      "__________________________________________________________________________________________________\n",
      "unet_down3_conv_1_activation (R (None, 64, 64, 256)  0           unet_down3_conv_1_bn[0][0]       \n",
      "__________________________________________________________________________________________________\n",
      "unet_down3_conv_2 (Conv2D)      (None, 64, 64, 256)  589824      unet_down3_conv_1_activation[0][0\n",
      "__________________________________________________________________________________________________\n",
      "unet_down3_conv_2_bn (BatchNorm (None, 64, 64, 256)  1024        unet_down3_conv_2[0][0]          \n",
      "__________________________________________________________________________________________________\n",
      "unet_down3_conv_2_activation (R (None, 64, 64, 256)  0           unet_down3_conv_2_bn[0][0]       \n",
      "__________________________________________________________________________________________________\n",
      "unet_down4_encode_maxpool (MaxP (None, 32, 32, 256)  0           unet_down3_conv_2_activation[0][0\n",
      "__________________________________________________________________________________________________\n",
      "unet_down4_conv_0 (Conv2D)      (None, 32, 32, 512)  1179648     unet_down4_encode_maxpool[0][0]  \n",
      "__________________________________________________________________________________________________\n",
      "unet_down4_conv_0_bn (BatchNorm (None, 32, 32, 512)  2048        unet_down4_conv_0[0][0]          \n",
      "__________________________________________________________________________________________________\n",
      "unet_down4_conv_0_activation (R (None, 32, 32, 512)  0           unet_down4_conv_0_bn[0][0]       \n",
      "__________________________________________________________________________________________________\n",
      "unet_down4_conv_1 (Conv2D)      (None, 32, 32, 512)  2359296     unet_down4_conv_0_activation[0][0\n",
      "__________________________________________________________________________________________________\n",
      "unet_down4_conv_1_bn (BatchNorm (None, 32, 32, 512)  2048        unet_down4_conv_1[0][0]          \n",
      "__________________________________________________________________________________________________\n",
      "unet_down4_conv_1_activation (R (None, 32, 32, 512)  0           unet_down4_conv_1_bn[0][0]       \n",
      "__________________________________________________________________________________________________\n",
      "unet_down4_conv_2 (Conv2D)      (None, 32, 32, 512)  2359296     unet_down4_conv_1_activation[0][0\n",
      "__________________________________________________________________________________________________\n",
      "unet_down4_conv_2_bn (BatchNorm (None, 32, 32, 512)  2048        unet_down4_conv_2[0][0]          \n",
      "__________________________________________________________________________________________________\n",
      "unet_down4_conv_2_activation (R (None, 32, 32, 512)  0           unet_down4_conv_2_bn[0][0]       \n",
      "__________________________________________________________________________________________________\n",
      "unet_down5_encode_maxpool (MaxP (None, 16, 16, 512)  0           unet_down4_conv_2_activation[0][0\n",
      "__________________________________________________________________________________________________\n",
      "unet_down5_conv_0 (Conv2D)      (None, 16, 16, 1024) 4718592     unet_down5_encode_maxpool[0][0]  \n",
      "__________________________________________________________________________________________________\n",
      "unet_down5_conv_0_bn (BatchNorm (None, 16, 16, 1024) 4096        unet_down5_conv_0[0][0]          \n",
      "__________________________________________________________________________________________________\n",
      "unet_down5_conv_0_activation (R (None, 16, 16, 1024) 0           unet_down5_conv_0_bn[0][0]       \n",
      "__________________________________________________________________________________________________\n",
      "unet_down5_conv_1 (Conv2D)      (None, 16, 16, 1024) 9437184     unet_down5_conv_0_activation[0][0\n",
      "__________________________________________________________________________________________________\n",
      "unet_down5_conv_1_bn (BatchNorm (None, 16, 16, 1024) 4096        unet_down5_conv_1[0][0]          \n",
      "__________________________________________________________________________________________________\n",
      "unet_down5_conv_1_activation (R (None, 16, 16, 1024) 0           unet_down5_conv_1_bn[0][0]       \n",
      "__________________________________________________________________________________________________\n",
      "unet_down5_conv_2 (Conv2D)      (None, 16, 16, 1024) 9437184     unet_down5_conv_1_activation[0][0\n",
      "__________________________________________________________________________________________________\n",
      "unet_down5_conv_2_bn (BatchNorm (None, 16, 16, 1024) 4096        unet_down5_conv_2[0][0]          \n",
      "__________________________________________________________________________________________________\n",
      "unet_down5_conv_2_activation (R (None, 16, 16, 1024) 0           unet_down5_conv_2_bn[0][0]       \n",
      "__________________________________________________________________________________________________\n",
      "unet_up0_decode_unpool (UpSampl (None, 32, 32, 1024) 0           unet_down5_conv_2_activation[0][0\n",
      "__________________________________________________________________________________________________\n",
      "unet_up0_conv_before_concat_0 ( (None, 32, 32, 512)  4718592     unet_up0_decode_unpool[0][0]     \n",
      "__________________________________________________________________________________________________\n",
      "unet_up0_conv_before_concat_0_b (None, 32, 32, 512)  2048        unet_up0_conv_before_concat_0[0][\n",
      "__________________________________________________________________________________________________\n",
      "unet_up0_conv_before_concat_0_a (None, 32, 32, 512)  0           unet_up0_conv_before_concat_0_bn[\n",
      "__________________________________________________________________________________________________\n",
      "unet_up0_concat (Concatenate)   (None, 32, 32, 1024) 0           unet_up0_conv_before_concat_0_act\n",
      "                                                                 unet_down4_conv_2_activation[0][0\n",
      "__________________________________________________________________________________________________\n",
      "unet_up0_conv_after_concat_0 (C (None, 32, 32, 512)  4718592     unet_up0_concat[0][0]            \n",
      "__________________________________________________________________________________________________\n",
      "unet_up0_conv_after_concat_0_bn (None, 32, 32, 512)  2048        unet_up0_conv_after_concat_0[0][0\n",
      "__________________________________________________________________________________________________\n",
      "unet_up0_conv_after_concat_0_ac (None, 32, 32, 512)  0           unet_up0_conv_after_concat_0_bn[0\n",
      "__________________________________________________________________________________________________\n",
      "unet_up0_conv_after_concat_1 (C (None, 32, 32, 512)  2359296     unet_up0_conv_after_concat_0_acti\n",
      "__________________________________________________________________________________________________\n",
      "unet_up0_conv_after_concat_1_bn (None, 32, 32, 512)  2048        unet_up0_conv_after_concat_1[0][0\n",
      "__________________________________________________________________________________________________\n",
      "unet_up0_conv_after_concat_1_ac (None, 32, 32, 512)  0           unet_up0_conv_after_concat_1_bn[0\n",
      "__________________________________________________________________________________________________\n",
      "unet_up0_conv_after_concat_2 (C (None, 32, 32, 512)  2359296     unet_up0_conv_after_concat_1_acti\n",
      "__________________________________________________________________________________________________\n",
      "unet_up0_conv_after_concat_2_bn (None, 32, 32, 512)  2048        unet_up0_conv_after_concat_2[0][0\n",
      "__________________________________________________________________________________________________\n",
      "unet_up0_conv_after_concat_2_ac (None, 32, 32, 512)  0           unet_up0_conv_after_concat_2_bn[0\n",
      "__________________________________________________________________________________________________\n",
      "unet_up1_decode_unpool (UpSampl (None, 64, 64, 512)  0           unet_up0_conv_after_concat_2_acti\n",
      "__________________________________________________________________________________________________\n",
      "unet_up1_conv_before_concat_0 ( (None, 64, 64, 256)  1179648     unet_up1_decode_unpool[0][0]     \n",
      "__________________________________________________________________________________________________\n",
      "unet_up1_conv_before_concat_0_b (None, 64, 64, 256)  1024        unet_up1_conv_before_concat_0[0][\n",
      "__________________________________________________________________________________________________\n",
      "unet_up1_conv_before_concat_0_a (None, 64, 64, 256)  0           unet_up1_conv_before_concat_0_bn[\n",
      "__________________________________________________________________________________________________\n",
      "unet_up1_concat (Concatenate)   (None, 64, 64, 512)  0           unet_up1_conv_before_concat_0_act\n",
      "                                                                 unet_down3_conv_2_activation[0][0\n",
      "__________________________________________________________________________________________________\n",
      "unet_up1_conv_after_concat_0 (C (None, 64, 64, 256)  1179648     unet_up1_concat[0][0]            \n",
      "__________________________________________________________________________________________________\n",
      "unet_up1_conv_after_concat_0_bn (None, 64, 64, 256)  1024        unet_up1_conv_after_concat_0[0][0\n",
      "__________________________________________________________________________________________________\n",
      "unet_up1_conv_after_concat_0_ac (None, 64, 64, 256)  0           unet_up1_conv_after_concat_0_bn[0\n",
      "__________________________________________________________________________________________________\n",
      "unet_up1_conv_after_concat_1 (C (None, 64, 64, 256)  589824      unet_up1_conv_after_concat_0_acti\n",
      "__________________________________________________________________________________________________\n",
      "unet_up1_conv_after_concat_1_bn (None, 64, 64, 256)  1024        unet_up1_conv_after_concat_1[0][0\n",
      "__________________________________________________________________________________________________\n",
      "unet_up1_conv_after_concat_1_ac (None, 64, 64, 256)  0           unet_up1_conv_after_concat_1_bn[0\n",
      "__________________________________________________________________________________________________\n",
      "unet_up1_conv_after_concat_2 (C (None, 64, 64, 256)  589824      unet_up1_conv_after_concat_1_acti\n",
      "__________________________________________________________________________________________________\n",
      "unet_up1_conv_after_concat_2_bn (None, 64, 64, 256)  1024        unet_up1_conv_after_concat_2[0][0\n",
      "__________________________________________________________________________________________________\n",
      "unet_up1_conv_after_concat_2_ac (None, 64, 64, 256)  0           unet_up1_conv_after_concat_2_bn[0\n",
      "__________________________________________________________________________________________________\n",
      "unet_up2_decode_unpool (UpSampl (None, 128, 128, 256 0           unet_up1_conv_after_concat_2_acti\n",
      "__________________________________________________________________________________________________\n",
      "unet_up2_conv_before_concat_0 ( (None, 128, 128, 128 294912      unet_up2_decode_unpool[0][0]     \n",
      "__________________________________________________________________________________________________\n",
      "unet_up2_conv_before_concat_0_b (None, 128, 128, 128 512         unet_up2_conv_before_concat_0[0][\n",
      "__________________________________________________________________________________________________\n",
      "unet_up2_conv_before_concat_0_a (None, 128, 128, 128 0           unet_up2_conv_before_concat_0_bn[\n",
      "__________________________________________________________________________________________________\n",
      "unet_up2_concat (Concatenate)   (None, 128, 128, 256 0           unet_up2_conv_before_concat_0_act\n",
      "                                                                 unet_down2_conv_2_activation[0][0\n",
      "__________________________________________________________________________________________________\n",
      "unet_up2_conv_after_concat_0 (C (None, 128, 128, 128 294912      unet_up2_concat[0][0]            \n",
      "__________________________________________________________________________________________________\n",
      "unet_up2_conv_after_concat_0_bn (None, 128, 128, 128 512         unet_up2_conv_after_concat_0[0][0\n",
      "__________________________________________________________________________________________________\n",
      "unet_up2_conv_after_concat_0_ac (None, 128, 128, 128 0           unet_up2_conv_after_concat_0_bn[0\n",
      "__________________________________________________________________________________________________\n",
      "unet_up2_conv_after_concat_1 (C (None, 128, 128, 128 147456      unet_up2_conv_after_concat_0_acti\n",
      "__________________________________________________________________________________________________\n",
      "unet_up2_conv_after_concat_1_bn (None, 128, 128, 128 512         unet_up2_conv_after_concat_1[0][0\n",
      "__________________________________________________________________________________________________\n",
      "unet_up2_conv_after_concat_1_ac (None, 128, 128, 128 0           unet_up2_conv_after_concat_1_bn[0\n",
      "__________________________________________________________________________________________________\n",
      "unet_up2_conv_after_concat_2 (C (None, 128, 128, 128 147456      unet_up2_conv_after_concat_1_acti\n",
      "__________________________________________________________________________________________________\n",
      "unet_up2_conv_after_concat_2_bn (None, 128, 128, 128 512         unet_up2_conv_after_concat_2[0][0\n",
      "__________________________________________________________________________________________________\n",
      "unet_up2_conv_after_concat_2_ac (None, 128, 128, 128 0           unet_up2_conv_after_concat_2_bn[0\n",
      "__________________________________________________________________________________________________\n",
      "unet_up3_decode_unpool (UpSampl (None, 256, 256, 128 0           unet_up2_conv_after_concat_2_acti\n",
      "__________________________________________________________________________________________________\n",
      "unet_up3_conv_before_concat_0 ( (None, 256, 256, 64) 73728       unet_up3_decode_unpool[0][0]     \n",
      "__________________________________________________________________________________________________\n",
      "unet_up3_conv_before_concat_0_b (None, 256, 256, 64) 256         unet_up3_conv_before_concat_0[0][\n",
      "__________________________________________________________________________________________________\n",
      "unet_up3_conv_before_concat_0_a (None, 256, 256, 64) 0           unet_up3_conv_before_concat_0_bn[\n",
      "__________________________________________________________________________________________________\n",
      "unet_up3_concat (Concatenate)   (None, 256, 256, 128 0           unet_up3_conv_before_concat_0_act\n",
      "                                                                 unet_down1_conv_2_activation[0][0\n",
      "__________________________________________________________________________________________________\n",
      "unet_up3_conv_after_concat_0 (C (None, 256, 256, 64) 73728       unet_up3_concat[0][0]            \n",
      "__________________________________________________________________________________________________\n",
      "unet_up3_conv_after_concat_0_bn (None, 256, 256, 64) 256         unet_up3_conv_after_concat_0[0][0\n",
      "__________________________________________________________________________________________________\n",
      "unet_up3_conv_after_concat_0_ac (None, 256, 256, 64) 0           unet_up3_conv_after_concat_0_bn[0\n",
      "__________________________________________________________________________________________________\n",
      "unet_up3_conv_after_concat_1 (C (None, 256, 256, 64) 36864       unet_up3_conv_after_concat_0_acti\n",
      "__________________________________________________________________________________________________\n",
      "unet_up3_conv_after_concat_1_bn (None, 256, 256, 64) 256         unet_up3_conv_after_concat_1[0][0\n",
      "__________________________________________________________________________________________________\n",
      "unet_up3_conv_after_concat_1_ac (None, 256, 256, 64) 0           unet_up3_conv_after_concat_1_bn[0\n",
      "__________________________________________________________________________________________________\n",
      "unet_up3_conv_after_concat_2 (C (None, 256, 256, 64) 36864       unet_up3_conv_after_concat_1_acti\n",
      "__________________________________________________________________________________________________\n",
      "unet_up3_conv_after_concat_2_bn (None, 256, 256, 64) 256         unet_up3_conv_after_concat_2[0][0\n",
      "__________________________________________________________________________________________________\n",
      "unet_up3_conv_after_concat_2_ac (None, 256, 256, 64) 0           unet_up3_conv_after_concat_2_bn[0\n",
      "__________________________________________________________________________________________________\n",
      "unet_up4_decode_unpool (UpSampl (None, 512, 512, 64) 0           unet_up3_conv_after_concat_2_acti\n",
      "__________________________________________________________________________________________________\n",
      "unet_up4_conv_before_concat_0 ( (None, 512, 512, 32) 18432       unet_up4_decode_unpool[0][0]     \n",
      "__________________________________________________________________________________________________\n",
      "unet_up4_conv_before_concat_0_b (None, 512, 512, 32) 128         unet_up4_conv_before_concat_0[0][\n",
      "__________________________________________________________________________________________________\n",
      "unet_up4_conv_before_concat_0_a (None, 512, 512, 32) 0           unet_up4_conv_before_concat_0_bn[\n",
      "__________________________________________________________________________________________________\n",
      "unet_up4_concat (Concatenate)   (None, 512, 512, 64) 0           unet_up4_conv_before_concat_0_act\n",
      "                                                                 unet_down0_2_activation[0][0]    \n",
      "__________________________________________________________________________________________________\n",
      "unet_up4_conv_after_concat_0 (C (None, 512, 512, 32) 18432       unet_up4_concat[0][0]            \n",
      "__________________________________________________________________________________________________\n",
      "unet_up4_conv_after_concat_0_bn (None, 512, 512, 32) 128         unet_up4_conv_after_concat_0[0][0\n",
      "__________________________________________________________________________________________________\n",
      "unet_up4_conv_after_concat_0_ac (None, 512, 512, 32) 0           unet_up4_conv_after_concat_0_bn[0\n",
      "__________________________________________________________________________________________________\n",
      "unet_up4_conv_after_concat_1 (C (None, 512, 512, 32) 9216        unet_up4_conv_after_concat_0_acti\n",
      "__________________________________________________________________________________________________\n",
      "unet_up4_conv_after_concat_1_bn (None, 512, 512, 32) 128         unet_up4_conv_after_concat_1[0][0\n",
      "__________________________________________________________________________________________________\n",
      "unet_up4_conv_after_concat_1_ac (None, 512, 512, 32) 0           unet_up4_conv_after_concat_1_bn[0\n",
      "__________________________________________________________________________________________________\n",
      "unet_up4_conv_after_concat_2 (C (None, 512, 512, 32) 9216        unet_up4_conv_after_concat_1_acti\n",
      "__________________________________________________________________________________________________\n",
      "unet_up4_conv_after_concat_2_bn (None, 512, 512, 32) 128         unet_up4_conv_after_concat_2[0][0\n",
      "__________________________________________________________________________________________________\n",
      "unet_up4_conv_after_concat_2_ac (None, 512, 512, 32) 0           unet_up4_conv_after_concat_2_bn[0\n",
      "__________________________________________________________________________________________________\n",
      "unet_output (Conv2D)            (None, 512, 512, 1)  33          unet_up4_conv_after_concat_2_acti\n",
      "__________________________________________________________________________________________________\n",
      "unet_output_activation (Activat (None, 512, 512, 1)  0           unet_output[0][0]                \n",
      "==================================================================================================\n",
      "Total params: 50,341,313\n",
      "Trainable params: 50,321,281\n",
      "Non-trainable params: 20,032\n",
      "__________________________________________________________________________________________________\n"
     ]
    }
   ],
   "source": [
    "R = Runner(verbose=True, classifier='kunet2d')"
   ]
  },
  {
   "cell_type": "code",
   "execution_count": 5,
   "id": "87b0c65d",
   "metadata": {},
   "outputs": [],
   "source": [
    "# load our larger toy dataset (10k images and masks)\n",
    "images = np.load('/hpcstor6/scratch01/r/ryan.zurrin001/GP2TOYEXAMPLE_LARGE/images.npy')\n",
    "masks = np.load('/hpcstor6/scratch01/r/ryan.zurrin001/GP2TOYEXAMPLE_LARGE/masks.npy')"
   ]
  },
  {
   "cell_type": "code",
   "execution_count": 6,
   "id": "7330ad24",
   "metadata": {},
   "outputs": [],
   "source": [
    "images = images[:5000]\n",
    "masks = masks[:5000]"
   ]
  },
  {
   "cell_type": "code",
   "execution_count": 7,
   "id": "d5b4179a",
   "metadata": {},
   "outputs": [
    {
     "data": {
      "text/plain": [
       "(5000, 512, 512, 1)"
      ]
     },
     "execution_count": 7,
     "metadata": {},
     "output_type": "execute_result"
    }
   ],
   "source": [
    "images.shape"
   ]
  },
  {
   "cell_type": "code",
   "execution_count": 8,
   "id": "57033c4e",
   "metadata": {},
   "outputs": [
    {
     "data": {
      "text/plain": [
       "(5000, 512, 512, 1)"
      ]
     },
     "execution_count": 8,
     "metadata": {},
     "output_type": "execute_result"
    }
   ],
   "source": [
    "masks.shape"
   ]
  },
  {
   "cell_type": "code",
   "execution_count": 9,
   "id": "393c7029",
   "metadata": {},
   "outputs": [
    {
     "name": "stdout",
     "output_type": "stream",
     "text": [
      "255\n"
     ]
    }
   ],
   "source": [
    "print(images.max())"
   ]
  },
  {
   "cell_type": "code",
   "execution_count": 10,
   "id": "97eca1aa",
   "metadata": {},
   "outputs": [
    {
     "name": "stdout",
     "output_type": "stream",
     "text": [
      "0\n"
     ]
    }
   ],
   "source": [
    "print(images.min())"
   ]
  },
  {
   "cell_type": "code",
   "execution_count": 11,
   "id": "2821eb86",
   "metadata": {},
   "outputs": [
    {
     "name": "stdout",
     "output_type": "stream",
     "text": [
      "True\n"
     ]
    }
   ],
   "source": [
    "print(masks.max())"
   ]
  },
  {
   "cell_type": "code",
   "execution_count": 12,
   "id": "1dd71668",
   "metadata": {},
   "outputs": [],
   "source": [
    "weights = {\n",
    "    'A': 0.5,\n",
    "    'A_train': 0.1,\n",
    "    'A_val': 0.3,\n",
    "    'A_test': 0.6,\n",
    "    'B': 0.3,\n",
    "    'B_train': 0.7,\n",
    "    'B_val': 0.1,\n",
    "    'B_test': 0.2,\n",
    "    'Z': 0.2\n",
    "}\n",
    "PERCENT_TO_REPLACE = 30"
   ]
  },
  {
   "cell_type": "code",
   "execution_count": 13,
   "id": "2a5d1030",
   "metadata": {},
   "outputs": [
    {
     "name": "stdout",
     "output_type": "stream",
     "text": [
      "Weights OK!\n"
     ]
    }
   ],
   "source": [
    "R.setup_data(images, masks, dataset_size=5000, weights=weights)"
   ]
  },
  {
   "cell_type": "code",
   "execution_count": 14,
   "id": "99127251",
   "metadata": {},
   "outputs": [],
   "source": [
    "RUNS = 5"
   ]
  },
  {
   "cell_type": "code",
   "execution_count": 15,
   "id": "d8ff85c4",
   "metadata": {
    "scrolled": true
   },
   "outputs": [
    {
     "name": "stdout",
     "output_type": "stream",
     "text": [
      "***\n",
      "RUN: 0\n"
     ]
    },
    {
     "name": "stderr",
     "output_type": "stream",
     "text": [
      "2023-04-22 10:29:03.565726: I tensorflow/compiler/mlir/mlir_graph_optimization_pass.cc:176] None of the MLIR Optimization Passes are enabled (registered 2)\n",
      "2023-04-22 10:29:03.587029: I tensorflow/core/platform/profile_utils/cpu_utils.cc:114] CPU Frequency: 2245755000 Hz\n"
     ]
    },
    {
     "name": "stdout",
     "output_type": "stream",
     "text": [
      "Epoch 1/100\n"
     ]
    },
    {
     "name": "stderr",
     "output_type": "stream",
     "text": [
      "2023-04-22 10:29:07.645941: I tensorflow/stream_executor/platform/default/dso_loader.cc:53] Successfully opened dynamic library libcudnn.so.8\n",
      "2023-04-22 10:29:08.352598: I tensorflow/stream_executor/cuda/cuda_dnn.cc:359] Loaded cuDNN version 8201\n",
      "2023-04-22 10:29:09.059048: W tensorflow/stream_executor/gpu/asm_compiler.cc:191] Falling back to the CUDA driver for PTX compilation; ptxas does not support CC 8.0\n",
      "2023-04-22 10:29:09.059075: W tensorflow/stream_executor/gpu/asm_compiler.cc:194] Used ptxas at ptxas\n",
      "2023-04-22 10:29:09.059134: W tensorflow/stream_executor/gpu/redzone_allocator.cc:314] Unimplemented: ptxas ptxas too old. Falling back to the driver to compile.\n",
      "Relying on driver to perform ptx compilation. \n",
      "Modify $PATH to customize ptxas location.\n",
      "This message will be only logged once.\n",
      "2023-04-22 10:29:09.067168: I tensorflow/stream_executor/platform/default/dso_loader.cc:53] Successfully opened dynamic library libcublas.so.11\n",
      "2023-04-22 10:29:09.783043: I tensorflow/stream_executor/platform/default/dso_loader.cc:53] Successfully opened dynamic library libcublasLt.so.11\n"
     ]
    },
    {
     "name": "stdout",
     "output_type": "stream",
     "text": [
      "250/250 [==============================] - 24s 62ms/step - loss: 0.1351 - dice_coef: 0.5999 - val_loss: 10.7793 - val_dice_coef: 0.2123\n"
     ]
    },
    {
     "name": "stderr",
     "output_type": "stream",
     "text": [
      "2023-04-22 10:29:32.269491: W tensorflow/python/util/util.cc:348] Sets are not currently considered sequences, but this may change in the future, so consider avoiding using them.\n"
     ]
    },
    {
     "name": "stdout",
     "output_type": "stream",
     "text": [
      "Epoch 2/100\n",
      "250/250 [==============================] - 15s 59ms/step - loss: 0.0918 - dice_coef: 0.7076 - val_loss: 14.3605 - val_dice_coef: 0.1773\n",
      "Epoch 3/100\n",
      "250/250 [==============================] - 15s 61ms/step - loss: 0.0638 - dice_coef: 0.8051 - val_loss: 12.1170 - val_dice_coef: 0.1897\n",
      "Epoch 4/100\n",
      "250/250 [==============================] - 15s 59ms/step - loss: 0.0522 - dice_coef: 0.8468 - val_loss: 1.4863 - val_dice_coef: 8.7392e-04\n",
      "Epoch 5/100\n",
      "250/250 [==============================] - 15s 60ms/step - loss: 0.0505 - dice_coef: 0.8573 - val_loss: 1.4916 - val_dice_coef: 2.0061e-06\n",
      "Epoch 6/100\n",
      "250/250 [==============================] - 15s 60ms/step - loss: 0.0549 - dice_coef: 0.8535 - val_loss: 1.3323 - val_dice_coef: 0.0476\n",
      "Epoch 7/100\n",
      "250/250 [==============================] - 15s 62ms/step - loss: 0.0578 - dice_coef: 0.8462 - val_loss: 0.2410 - val_dice_coef: 0.5240\n",
      "Epoch 8/100\n",
      "250/250 [==============================] - 15s 62ms/step - loss: 0.0536 - dice_coef: 0.8457 - val_loss: 0.3565 - val_dice_coef: 0.6571\n",
      "Epoch 9/100\n",
      "250/250 [==============================] - 15s 60ms/step - loss: 0.0500 - dice_coef: 0.8555 - val_loss: 1.3737 - val_dice_coef: 0.0191\n",
      "Epoch 10/100\n",
      "250/250 [==============================] - 15s 60ms/step - loss: 0.0512 - dice_coef: 0.8506 - val_loss: 13.7139 - val_dice_coef: 0.1808\n",
      "Epoch 11/100\n",
      "250/250 [==============================] - 15s 62ms/step - loss: 0.0477 - dice_coef: 0.8623 - val_loss: 14.3318 - val_dice_coef: 0.1773\n",
      "Epoch 12/100\n",
      "250/250 [==============================] - 15s 59ms/step - loss: 0.0477 - dice_coef: 0.8698 - val_loss: 5.9233 - val_dice_coef: 0.2374\n",
      "Epoch 13/100\n",
      "250/250 [==============================] - 15s 59ms/step - loss: 0.0460 - dice_coef: 0.8770 - val_loss: 13.7249 - val_dice_coef: 0.1782\n",
      "Epoch 14/100\n",
      "250/250 [==============================] - 15s 59ms/step - loss: 0.0461 - dice_coef: 0.8800 - val_loss: 12.9765 - val_dice_coef: 0.1795\n",
      "Epoch 15/100\n",
      "250/250 [==============================] - 15s 59ms/step - loss: 0.0535 - dice_coef: 0.8867 - val_loss: 3.7938 - val_dice_coef: 0.4517\n",
      "Epoch 16/100\n",
      "250/250 [==============================] - 15s 60ms/step - loss: 0.0590 - dice_coef: 0.8645 - val_loss: 5.3222 - val_dice_coef: 0.3255\n",
      "Epoch 17/100\n",
      "250/250 [==============================] - 15s 61ms/step - loss: 0.0655 - dice_coef: 0.8492 - val_loss: 5.9248 - val_dice_coef: 0.1931\n",
      "Model saved to: /tmp/tmpkuz68ifsGP2/unet_0unet_model\n",
      "History saved to: /tmp/tmpkuz68ifsGP2/unet_history_0.pkl\n",
      "Testing the classifier...\n",
      "Model saved to /tmp/tmpkuz68ifsGP2/cnnd_0.model\n",
      "History saved to /tmp/tmpkuz68ifsGP2/cnnd_history_0.pickle\n",
      "Testing the discriminator...\n",
      "10/10 [==============================] - 0s 20ms/step - loss: 0.0000e+00 - accuracy: 1.0000\n",
      "Found 156 machine labels.\n",
      "Machine labels [  1   4   5   7   8  10  14  18  19  21  24  26  29  30  31  33  34  36\n",
      "  37  43  44  46  47  50  56  57  59  61  62  63  64  65  70  72  73  74\n",
      "  77  78  79  83  84  87  88  92  93  96  99 100 102 103 106 107 108 110\n",
      " 112 114 115 117 118 119 121 122 125 128 129 132 133 134 135 136 138 139\n",
      " 141 142 143 144 146 148 153 154 156 157 158 159 160 161 163 165 170 175\n",
      " 176 179 182 184 185 187 188 190 191 192 194 196 198 200 201 204 205 206\n",
      " 208 209 213 214 215 216 218 220 224 225 227 231 234 236 240 242 247 248\n",
      " 249 250 251 256 257 258 263 266 267 268 269 270 272 273 277 278 279 280\n",
      " 281 285 286 288 289 291 292 293 294 296 298 299]\n",
      "D_ids ['cace1048-35e3-4810-9039-a004a7d2284e', '7e19a825-b00a-44f9-9cac-21e8c5e17932', '90acdebe-a08e-4801-ae0e-b1fb394908d0', '1cb512eb-0c16-412f-85cf-220af42d79e8', '3e7c77f0-5564-449a-b3cc-a9e1552a9ec0', '0f03c6d7-6618-4fa4-8fde-166cd031268c', '32d74c5c-dc0f-4996-a4bb-324918a167bf', '0a097d2d-36a4-44a6-854b-ae110bb38d95', 'eea75c18-1fff-4c92-81b3-9bd22d1efadc', 'ddba039c-d361-477a-9253-4e5d63686a9a', '1c945f1d-d5ee-4d2b-ab14-766808eefdc4', '5576c8dc-84ca-4646-bf5e-800171f8e365', '9ea552bc-7193-4787-a33a-3f7c48165dfd', 'fcff159d-2286-4e2a-98ba-849ada6ace01', '8b7c7043-c57c-4770-a51e-01598cd54747', '6703fdc9-8c72-4fdb-8f2d-9123e022857b', 'f7ed18bb-2743-4a9c-912d-73f24f0fb954', '742dd71c-5043-472d-b127-a980407ef60a', '4ae16d6d-a4d7-4315-8057-c6843e9b327e', '0b4a4e87-bd0f-41b4-bd60-d53dc66211cd', '7060a2d5-820c-413a-85d3-93dfb7d46f86', '3fc6129e-c8a4-44b2-bc4c-541e0660660b', '2fa30c42-9239-40b5-b4f1-5e15a487b6ac', '23996880-f793-4f9a-bd71-e164c87c4ec1', '8505a0fc-5635-47bd-a17a-70510cc1fb5a', '0cf2c397-707b-4a70-92e9-9aea903c28d7', 'dd63cde4-1c02-43f3-bb1b-acba650ecca9', '22cc881c-caa8-4993-bc2d-448d26b77987', '2a2083d6-4187-412c-9764-339eeb1e43fa', '5cef68de-6d74-466b-9fc6-061ea851f5a6', '8c2c2cc8-830d-40e8-906b-4daffe0845b7', 'c6fc81e6-8dd6-4c0a-83a5-c1ed10f07781', '7797287f-fc6e-41ec-9800-51fc4548a0ee', '2e305880-0722-4fbd-8ec8-14d250000f8d', 'e127d3f4-d1bf-4a2d-9682-88361f4efd37', '81443483-5a7a-4e9f-90b0-2703af8e81f5', 'd11bffa6-6d68-4cd6-8aa2-569792b227b8', '927ecf43-b37c-4ed3-b7d0-de747049e911', '6d7d950e-1ca3-495a-8480-b7597bb8f410', '249f708c-5566-4332-af4a-3285a7eea441', '5db396a4-1f79-4304-896c-de3254a007ec', '5ec87d6b-452b-4518-8793-1ba9a4f76294', '7363355c-fb59-4695-b214-ff3ea0b6797e', '21382f42-87d4-4d5d-ad40-f928b9c4ada8', '93f0112b-08db-4c18-9b78-8cf861f41a6c', 'be204b81-aea3-4c6e-b83e-a1ea8ca8a384', '6a50c37c-2518-447b-8759-7499fea50a54', '087cf531-24f0-4fd0-9f97-3e144874266a', '2064f852-86cc-4b47-bdb2-50544a2c8817', 'e6db8b9c-1f51-4c98-8ca3-d7c5e1d2c3d2', '994d5d89-20e3-4c64-a8df-056652fb7796', 'a61bce07-a9ed-44b0-8fa7-817e035be64d', 'ff863c38-afd8-4e16-bb0d-47427deeaea4', '240bb320-de89-4651-812b-a6b8b97c9328', 'e4803185-3959-49ff-bd28-44a91e639bd1', 'ffe6fb19-41c1-4bf8-ad08-eec1b324505c', '0adc7b35-c56e-4ff2-80ed-90647a366199', '309be525-e773-4c51-bdba-eda94b2e17c0', 'b1c66d23-9791-4b8c-8969-2b56cdefc7ae', 'f480d645-92c7-4985-a6da-6f6756306fe4', '60660fd6-05f1-4c8a-827d-a53f94781dff', '7dd64417-9bb0-42a1-a21b-f3842c3c8cd6', '062f3101-c038-4811-b849-a1ac675deea0', 'cb22a25e-8b05-450f-9795-46406427f67b', 'd4ffe965-45d5-4c2f-8459-ed211b5d04cd', 'b235057a-5e44-48a0-a673-02ebe09aaed2', 'ac2b067d-b1f4-467f-b5c1-726fdbae5948', '9d5583d6-2ea1-4b34-84d9-61a9f64bf9d9', '51e446bf-1b60-49ea-b36d-bd0448a4b644', '5834fb29-070d-420c-af8a-cbcaaca8a2d1', '79857164-34f6-4dce-aac2-d61e56711652', '3ab8aad2-c08d-4513-a50d-1bd314fe1547', '53c217a2-d65d-4904-bee0-789babdb81a8', '549b8256-6022-4410-96ee-80ba96e1e8aa', '07329786-174f-4af3-9b8b-ea20992e522c', '6c3ad8af-eb09-4ac3-9bbf-9fad32c3e7dd', 'c7d81aa3-0823-4783-9b24-6c9946ddbcde', '1d9ef087-d451-41ab-871a-561384685f0e', 'b6ea00cb-a1b9-4e62-ae32-bb86f0066b6b', 'f1427146-5ce8-4d36-8113-7ac5e877250d', 'eb36ad44-e0bb-4013-bfe5-a9db8b65c8f7', 'b60e9ea6-dff2-41cb-8c29-52f4c89cbe96', '4ea40cbb-e6c2-4d4a-b48e-138e4fcb0329', 'c0cb58af-6a74-4eac-977d-1395fed6fd73', '790a78b5-8f10-4594-821b-fbe271c5e55e', '17ca0dbd-4207-43e4-9686-3698ed522f08', '1ef6cc66-4185-4056-b2c9-6c0bee6471ff', 'aeaf87e5-c3e6-4633-ae36-8f9786809fa7', '6cd9031a-1c4d-46c5-9349-a35f6b07143e', 'ad1012ed-88ef-4e3e-a206-1b39355852a3', '5425d6d3-5c76-4c6c-b015-be4e7dcce55f', '228da104-3acb-4749-a605-a99f95e41fdd', 'a2134b05-41d4-46b9-a6c0-06a47b8fce59', '5df4e8b8-81a0-4d82-b2e8-ff8c91dc57de', 'c57a5bb5-d77e-478e-bcdb-095784382ab5', '71974dda-f967-4bd8-abd0-1c88d8a04ba0', '55d3e695-c0ca-4375-a261-72f9c303df19', 'a0fbd920-c3f9-46d2-ab3c-e1bcb3761931', 'e390e3bf-a1c2-4306-9a87-076d59700d83', '5fd3595c-876a-4c09-8d94-d778d66562d9', '2f14c7d1-d9da-4349-8061-9b0c80f85e3e', 'e24c0504-c644-4dc3-bef2-7a1faed12e83', '335dc6db-c678-43cd-bbbd-618ca96aec23', 'f5f4271d-b512-4b38-8959-3461e9e9ea50', '74361580-333d-4a8f-a72b-38f77064f2d1', '20284c09-bd88-4987-888e-05e4721a4fba', '17bae7f4-1258-4ae1-906a-94ec13378766', '95a16a2a-1f0d-4930-acbb-398810b2953f', 'b6aa3bb7-2f35-466b-9c65-8ad8d6b66f31', 'fa7d0104-8314-41a6-8713-d8597cf56b35', 'f52b8668-ae1c-4acd-9e5d-9dbf8fceb9d0', 'e4979792-c73d-4059-b36e-ef52f25ef5b5', '70cf952a-1f5b-4207-9153-3508a7b70ca9', '520c6ed0-7e5c-4013-86ef-435a623a942a', 'de03e3db-3063-40d9-a8ce-8f2f3f64384f', '2bebeb39-0527-4911-bc91-ace21cf9cdc8', '9a1a11dc-70b3-4cab-bd16-daf7b245dccf', '36969a2b-c9b9-45f8-8be2-6ad58cdd49e1', '08eed110-105f-4407-8277-07b3417368ba', '49850022-b87f-43bd-a341-b9d2bd2f6f12', '64af5056-454a-460a-8a98-fd1a5aa1b920', '9c1d1632-3a79-47fa-a007-2a8af6e68d36', '61a5c2c5-81f6-4401-af70-d737828f1677', 'c039878a-6012-4da4-b327-210087534bf5', '03aad391-9a59-4717-8e04-819570794a37', '30af1ed0-d029-4621-9829-eb9d9f7f037c', '103e5fa7-4d76-4537-9591-d8340582706f', '9829cecb-081f-489a-8807-5e406005c743', 'f67ec5a4-a9b9-4fe1-8e8c-e0705f44ba76', '6acc07d5-6f31-4291-81d2-cb0d8058399b', '9a6e933f-8a45-4f6d-8093-5f17d43b6494', '6e6c3f67-f1bf-440d-9d1c-35d78790124c', '58f19d80-bb5f-40e6-aa16-99211100d17b', '16a94dbf-cfab-43e5-90c4-472f3ec6bac9', '62b07430-e08b-4d13-b6b3-0f94b829b977', '227d3148-bb98-47bb-a41c-4ac945e873e1', 'af9c873c-f8a0-453e-905c-09e0756c59c4', 'c98b1f48-b39e-4ea3-bb64-5de1484e36d0', '7b0a0fce-5bce-4737-b8e9-317bcc4aaf02', '39d94be9-289c-481a-bd0b-99956c25dab8', '251f0dc0-3f50-4756-952b-ed1c1cff50ef', '7202a91d-e262-49e5-95f3-24a90d1fa771', '8d599ef1-7bfb-4c3f-90a8-c1d8d00cf8fe', 'f507d56e-bc3e-476f-8871-81fdd166a5db', '6755302a-71f7-4a33-8ee8-62122f9d111f', '88942533-d51a-40a0-a9a6-7135cab084ca', 'b338c0b0-3894-435b-b112-f064b4fe2b02', '05501131-0d61-417d-88ab-6cceefcfc043', '3d27525b-159c-4221-922a-42a7bb4e1e64', '53268bdd-6fc3-4764-9283-3b525daf88ce', '0c775aa4-9547-4b68-9e26-46ba6988b542', '503ed12c-7750-490c-9eaa-02ec6121d030', 'afa4de34-5ea2-40a3-bd67-80fd9ad9195b', '91d87730-7dab-4da1-89d7-22da2394d3ec', 'd9859d13-3fd3-4682-a1ad-d1446c456a47', 'ce710650-e62e-4b65-86a5-f1c31e1dd94a']\n"
     ]
    },
    {
     "name": "stdout",
     "output_type": "stream",
     "text": [
      "Replacing 52 from 156 !\n",
      "D_relabeled_ 52\n",
      "selected_ids ['2bebeb39-0527-4911-bc91-ace21cf9cdc8', 'fcff159d-2286-4e2a-98ba-849ada6ace01', '7dd64417-9bb0-42a1-a21b-f3842c3c8cd6', '103e5fa7-4d76-4537-9591-d8340582706f', '61a5c2c5-81f6-4401-af70-d737828f1677', 'ac2b067d-b1f4-467f-b5c1-726fdbae5948', '8b7c7043-c57c-4770-a51e-01598cd54747', 'b1c66d23-9791-4b8c-8969-2b56cdefc7ae', 'a61bce07-a9ed-44b0-8fa7-817e035be64d', 'a0fbd920-c3f9-46d2-ab3c-e1bcb3761931', 'd9859d13-3fd3-4682-a1ad-d1446c456a47', '6e6c3f67-f1bf-440d-9d1c-35d78790124c', '5df4e8b8-81a0-4d82-b2e8-ff8c91dc57de', '0f03c6d7-6618-4fa4-8fde-166cd031268c', '7202a91d-e262-49e5-95f3-24a90d1fa771', '6c3ad8af-eb09-4ac3-9bbf-9fad32c3e7dd', '335dc6db-c678-43cd-bbbd-618ca96aec23', 'd4ffe965-45d5-4c2f-8459-ed211b5d04cd', 'ad1012ed-88ef-4e3e-a206-1b39355852a3', 'de03e3db-3063-40d9-a8ce-8f2f3f64384f', '742dd71c-5043-472d-b127-a980407ef60a', 'f67ec5a4-a9b9-4fe1-8e8c-e0705f44ba76', 'e127d3f4-d1bf-4a2d-9682-88361f4efd37', '6acc07d5-6f31-4291-81d2-cb0d8058399b', 'cace1048-35e3-4810-9039-a004a7d2284e', '8c2c2cc8-830d-40e8-906b-4daffe0845b7', 'f480d645-92c7-4985-a6da-6f6756306fe4', '1d9ef087-d451-41ab-871a-561384685f0e', 'ce710650-e62e-4b65-86a5-f1c31e1dd94a', 'af9c873c-f8a0-453e-905c-09e0756c59c4', '5fd3595c-876a-4c09-8d94-d778d66562d9', '32d74c5c-dc0f-4996-a4bb-324918a167bf', '1cb512eb-0c16-412f-85cf-220af42d79e8', '74361580-333d-4a8f-a72b-38f77064f2d1', '2a2083d6-4187-412c-9764-339eeb1e43fa', 'a2134b05-41d4-46b9-a6c0-06a47b8fce59', 'f52b8668-ae1c-4acd-9e5d-9dbf8fceb9d0', 'c0cb58af-6a74-4eac-977d-1395fed6fd73', '93f0112b-08db-4c18-9b78-8cf861f41a6c', '6a50c37c-2518-447b-8759-7499fea50a54', '70cf952a-1f5b-4207-9153-3508a7b70ca9', 'b6ea00cb-a1b9-4e62-ae32-bb86f0066b6b', 'f5f4271d-b512-4b38-8959-3461e9e9ea50', 'e390e3bf-a1c2-4306-9a87-076d59700d83', '7797287f-fc6e-41ec-9800-51fc4548a0ee', '23996880-f793-4f9a-bd71-e164c87c4ec1', 'f1427146-5ce8-4d36-8113-7ac5e877250d', 'b338c0b0-3894-435b-b112-f064b4fe2b02', '17ca0dbd-4207-43e4-9686-3698ed522f08', '1c945f1d-d5ee-4d2b-ab14-766808eefdc4', 'c98b1f48-b39e-4ea3-bb64-5de1484e36d0', 'c7d81aa3-0823-4783-9b24-6c9946ddbcde']\n",
      "dict_keys(['2bebeb39-0527-4911-bc91-ace21cf9cdc8', 'fcff159d-2286-4e2a-98ba-849ada6ace01', '7dd64417-9bb0-42a1-a21b-f3842c3c8cd6', '103e5fa7-4d76-4537-9591-d8340582706f', '61a5c2c5-81f6-4401-af70-d737828f1677', 'ac2b067d-b1f4-467f-b5c1-726fdbae5948', '8b7c7043-c57c-4770-a51e-01598cd54747', 'b1c66d23-9791-4b8c-8969-2b56cdefc7ae', 'a61bce07-a9ed-44b0-8fa7-817e035be64d', 'a0fbd920-c3f9-46d2-ab3c-e1bcb3761931', 'd9859d13-3fd3-4682-a1ad-d1446c456a47', '6e6c3f67-f1bf-440d-9d1c-35d78790124c', '5df4e8b8-81a0-4d82-b2e8-ff8c91dc57de', '0f03c6d7-6618-4fa4-8fde-166cd031268c', '7202a91d-e262-49e5-95f3-24a90d1fa771', '6c3ad8af-eb09-4ac3-9bbf-9fad32c3e7dd', '335dc6db-c678-43cd-bbbd-618ca96aec23', 'd4ffe965-45d5-4c2f-8459-ed211b5d04cd', 'ad1012ed-88ef-4e3e-a206-1b39355852a3', 'de03e3db-3063-40d9-a8ce-8f2f3f64384f', '742dd71c-5043-472d-b127-a980407ef60a', 'f67ec5a4-a9b9-4fe1-8e8c-e0705f44ba76', 'e127d3f4-d1bf-4a2d-9682-88361f4efd37', '6acc07d5-6f31-4291-81d2-cb0d8058399b', 'cace1048-35e3-4810-9039-a004a7d2284e', '8c2c2cc8-830d-40e8-906b-4daffe0845b7', 'f480d645-92c7-4985-a6da-6f6756306fe4', '1d9ef087-d451-41ab-871a-561384685f0e', 'ce710650-e62e-4b65-86a5-f1c31e1dd94a', 'af9c873c-f8a0-453e-905c-09e0756c59c4', '5fd3595c-876a-4c09-8d94-d778d66562d9', '32d74c5c-dc0f-4996-a4bb-324918a167bf', '1cb512eb-0c16-412f-85cf-220af42d79e8', '74361580-333d-4a8f-a72b-38f77064f2d1', '2a2083d6-4187-412c-9764-339eeb1e43fa', 'a2134b05-41d4-46b9-a6c0-06a47b8fce59', 'f52b8668-ae1c-4acd-9e5d-9dbf8fceb9d0', 'c0cb58af-6a74-4eac-977d-1395fed6fd73', '93f0112b-08db-4c18-9b78-8cf861f41a6c', '6a50c37c-2518-447b-8759-7499fea50a54', '70cf952a-1f5b-4207-9153-3508a7b70ca9', 'b6ea00cb-a1b9-4e62-ae32-bb86f0066b6b', 'f5f4271d-b512-4b38-8959-3461e9e9ea50', 'e390e3bf-a1c2-4306-9a87-076d59700d83', '7797287f-fc6e-41ec-9800-51fc4548a0ee', '23996880-f793-4f9a-bd71-e164c87c4ec1', 'f1427146-5ce8-4d36-8113-7ac5e877250d', 'b338c0b0-3894-435b-b112-f064b4fe2b02', '17ca0dbd-4207-43e4-9686-3698ed522f08', '1c945f1d-d5ee-4d2b-ab14-766808eefdc4', 'c98b1f48-b39e-4ea3-bb64-5de1484e36d0', 'c7d81aa3-0823-4783-9b24-6c9946ddbcde'])\n",
      "point ids 52\n",
      "Removed: 52 Filled: 52\n",
      "TOOK 444.64873147010803 seconds\n",
      "***\n",
      "RUN: 1\n",
      "Epoch 1/100\n",
      "302/302 [==============================] - 17s 55ms/step - loss: 0.0614 - dice_coef: 0.8485 - val_loss: 1.1841 - val_dice_coef: 0.4421\n",
      "Epoch 2/100\n",
      "302/302 [==============================] - 17s 55ms/step - loss: 0.0639 - dice_coef: 0.8507 - val_loss: 0.7629 - val_dice_coef: 0.5461\n",
      "Epoch 3/100\n",
      "302/302 [==============================] - 16s 55ms/step - loss: 0.0801 - dice_coef: 0.8162 - val_loss: 0.7609 - val_dice_coef: 0.5447\n",
      "Epoch 4/100\n",
      "302/302 [==============================] - 16s 54ms/step - loss: 0.0806 - dice_coef: 0.8132 - val_loss: 0.6320 - val_dice_coef: 0.5756\n",
      "Epoch 5/100\n",
      "302/302 [==============================] - 16s 54ms/step - loss: 0.0689 - dice_coef: 0.8339 - val_loss: 0.3707 - val_dice_coef: 0.6742\n",
      "Model saved to: /tmp/tmpkuz68ifsGP2/unet_1unet_model\n",
      "History saved to: /tmp/tmpkuz68ifsGP2/unet_history_1.pkl\n",
      "Testing the classifier...\n",
      "Testing the discriminator...\n",
      "10/10 [==============================] - 0s 18ms/step - loss: 277.4600 - accuracy: 0.6933\n",
      "Found 51 machine labels.\n",
      "Machine labels [  2   6   9  10  39  42  43  45  54  62  67  69  73  74  83  87  88  97\n",
      " 112 128 131 132 136 138 144 157 160 167 170 175 180 198 200 203 209 210\n",
      " 214 222 234 237 238 244 249 257 267 272 278 282 288 295 298]\n",
      "D_ids ['33c929d0-9ae0-4b83-8b18-78fffb5c8899', 'd7252495-9853-4de4-9600-05825a5c32b0', '26acd00e-b2fc-472d-88b7-60a27be8e1e1', '152d94ff-ca5e-4f52-884e-135309841222', 'c64e1952-629e-4cb5-9b8a-7fe56f306790', 'd8266650-9b77-444d-9737-395da487f28c', '037b123b-85f4-4111-a7d7-70178e3980e3', 'a1b06898-374a-45da-8570-7709e279a133', '21208ca7-1b72-430e-9548-c4235d6e63b9', '6835b166-3542-4d17-b1d1-8a45d8ca63ea', '59e3bab2-1441-4337-83f1-7389e1326f76', '7c16688f-aacf-4704-8a36-4d97ddf0b6d5', '018e397f-1cbc-4701-b103-6f8f8f5196a6', 'd3c12179-ca5f-4ee8-a5f3-8500a7036412', '0a204018-f3fa-45cc-88c3-ac4733044488', 'ebad5bae-599f-478a-b86c-c129033c641d', 'e9f44d8c-7a3f-4882-afe1-2302af1d69bb', '97a2bb38-81fc-4e0d-9b60-5df141a07211', '48a1af6f-a4b0-4bbe-ad66-c82cd5e9f85a', '2391e6a1-4978-4ab0-9ada-301e92aff57f', '69bbb8fd-43af-4a9f-a0e6-dd2f2d298c99', '55e0f1be-d046-414a-8973-ab82caf66200', 'cf744427-3a10-4cf8-b1da-5ec7201e64d7', '4b42ea29-778b-4722-9f05-270e70eb8d1b', 'f85297cf-50b9-48ab-b602-677879f001ec', '4d894cff-a4aa-4464-ab60-43297e176833', '99121b42-6e51-4817-992e-01ba1256c99a', 'f21fec16-8301-40bf-8f84-5e979c043b73', '6703fdc9-8c72-4fdb-8f2d-9123e022857b', '9ed05bdb-a884-4e24-b983-834bb2bb4642', 'a923386f-f033-4464-8b55-0797ad11368f', '9687b573-31a2-4739-a32e-de31de8f9831', 'a442ca14-ff91-4f35-b0c0-bade2c3a3488', '3aaeacec-589f-4e3c-92e2-de494e7a8cd1', '53e36f79-5c23-4993-8b60-7995062f76b9', '379a6239-f91c-4c14-8aa8-5ac4fd12e9c2', '3f454569-c2f7-4580-b4c4-a21f7a861f4c', '63275191-ef9d-4c25-ab75-bc24921107ab', '738211d0-db9d-44f1-b9d1-bb996d9afdc7', 'd5e714a3-db5c-4028-bdbd-97ec95c8e0cc', '514d43a2-d196-45f0-9182-904c23ab7814', '13fd1f49-0cb5-4da4-877f-cbda04a9a960', '16607679-9457-4fcc-ad4c-423ecb09d81a', 'da48c874-31d4-467e-888e-7513b2eb6d6f', 'cc0adb6d-51ea-40c9-baa9-bd672461f0f0', '585d7e87-55c5-41c8-817d-380cd22852fc', '1ce5137b-cead-4396-883f-686784d82ac9', 'c6e1549c-e1ad-484d-b8b5-e9bf92923b5d', 'b23b5b58-d5aa-4a6d-a36c-967f5c1b912f', 'd5cb3a12-d1eb-48f8-acd2-1e7146eac742', 'cfeb6740-0031-4b09-b109-7fec2c85060f']\n",
      "Replacing 17 from 51 !\n",
      "D_relabeled_ 17\n",
      "selected_ids ['cc0adb6d-51ea-40c9-baa9-bd672461f0f0', 'd8266650-9b77-444d-9737-395da487f28c', '3f454569-c2f7-4580-b4c4-a21f7a861f4c', 'c6e1549c-e1ad-484d-b8b5-e9bf92923b5d', '018e397f-1cbc-4701-b103-6f8f8f5196a6', 'e9f44d8c-7a3f-4882-afe1-2302af1d69bb', '6835b166-3542-4d17-b1d1-8a45d8ca63ea', 'ebad5bae-599f-478a-b86c-c129033c641d', '4d894cff-a4aa-4464-ab60-43297e176833', '53e36f79-5c23-4993-8b60-7995062f76b9', 'c64e1952-629e-4cb5-9b8a-7fe56f306790', '6703fdc9-8c72-4fdb-8f2d-9123e022857b', '0a204018-f3fa-45cc-88c3-ac4733044488', '585d7e87-55c5-41c8-817d-380cd22852fc', '33c929d0-9ae0-4b83-8b18-78fffb5c8899', '514d43a2-d196-45f0-9182-904c23ab7814', '48a1af6f-a4b0-4bbe-ad66-c82cd5e9f85a']\n",
      "dict_keys(['cc0adb6d-51ea-40c9-baa9-bd672461f0f0', 'd8266650-9b77-444d-9737-395da487f28c', '3f454569-c2f7-4580-b4c4-a21f7a861f4c', 'c6e1549c-e1ad-484d-b8b5-e9bf92923b5d', '018e397f-1cbc-4701-b103-6f8f8f5196a6', 'e9f44d8c-7a3f-4882-afe1-2302af1d69bb', '6835b166-3542-4d17-b1d1-8a45d8ca63ea', 'ebad5bae-599f-478a-b86c-c129033c641d', '4d894cff-a4aa-4464-ab60-43297e176833', '53e36f79-5c23-4993-8b60-7995062f76b9', 'c64e1952-629e-4cb5-9b8a-7fe56f306790', '6703fdc9-8c72-4fdb-8f2d-9123e022857b', '0a204018-f3fa-45cc-88c3-ac4733044488', '585d7e87-55c5-41c8-817d-380cd22852fc', '33c929d0-9ae0-4b83-8b18-78fffb5c8899', '514d43a2-d196-45f0-9182-904c23ab7814', '48a1af6f-a4b0-4bbe-ad66-c82cd5e9f85a'])\n",
      "point ids 17\n",
      "Removed: 17 Filled: 17\n",
      "TOOK 230.52944707870483 seconds\n",
      "***\n",
      "RUN: 2\n"
     ]
    },
    {
     "name": "stdout",
     "output_type": "stream",
     "text": [
      "Epoch 1/100\n",
      "319/319 [==============================] - 17s 53ms/step - loss: 0.0569 - dice_coef: 0.8559 - val_loss: 0.3998 - val_dice_coef: 0.6547\n",
      "Epoch 2/100\n",
      "319/319 [==============================] - 17s 53ms/step - loss: 0.0648 - dice_coef: 0.8319 - val_loss: 0.5319 - val_dice_coef: 0.6567\n",
      "Epoch 3/100\n",
      "319/319 [==============================] - 18s 56ms/step - loss: 0.0647 - dice_coef: 0.8343 - val_loss: 0.6903 - val_dice_coef: 0.6498\n",
      "Epoch 4/100\n",
      "319/319 [==============================] - 17s 54ms/step - loss: 0.0566 - dice_coef: 0.8565 - val_loss: 0.6580 - val_dice_coef: 0.6559\n",
      "Epoch 5/100\n",
      "319/319 [==============================] - 17s 53ms/step - loss: 0.0572 - dice_coef: 0.8637 - val_loss: 0.5385 - val_dice_coef: 0.6706\n",
      "Epoch 6/100\n",
      "319/319 [==============================] - 17s 53ms/step - loss: 0.0584 - dice_coef: 0.8640 - val_loss: 0.4727 - val_dice_coef: 0.6752\n",
      "Epoch 7/100\n",
      "319/319 [==============================] - 16s 50ms/step - loss: 0.0590 - dice_coef: 0.8642 - val_loss: 0.4275 - val_dice_coef: 0.6831\n",
      "Epoch 8/100\n",
      "319/319 [==============================] - 16s 52ms/step - loss: 0.0593 - dice_coef: 0.8646 - val_loss: 0.4574 - val_dice_coef: 0.6804\n",
      "Model saved to: /tmp/tmpkuz68ifsGP2/unet_2unet_model\n",
      "History saved to: /tmp/tmpkuz68ifsGP2/unet_history_2.pkl\n",
      "Testing the classifier...\n",
      "Testing the discriminator...\n",
      "10/10 [==============================] - 0s 18ms/step - loss: 255.7133 - accuracy: 0.7067\n",
      "Found 51 machine labels.\n",
      "Machine labels [ 11  14  24  29  32  36  41  53  57  58  60  64  66  67  72  83  84  97\n",
      " 101 104 106 117 120 131 140 145 147 148 161 166 179 182 185 187 188 193\n",
      " 194 208 214 228 239 240 241 251 264 267 272 274 281 285 296]\n",
      "D_ids ['4d8acd4f-df64-4499-bddb-66d3fcae1938', '1e04fd07-eee5-4ea5-990a-194661f5e10d', '4ef381f5-1814-4b3a-9a7b-1db284707b4b', 'f1813678-13e1-4659-9aad-19099e3f273b', '8bd1adae-d3b0-4c3a-993f-7577add6213d', 'f31195fd-182c-4375-a0f6-fc8ff7477721', '9b9253d6-bf24-4896-99db-82c3441fbb30', 'c6877782-9c25-45e5-b963-0dc3b1915607', 'eed4ff37-8809-44d4-9872-b3d5d4b26e78', '9a4a49cf-d5b5-4e9f-94c7-85f6793aea84', '4b617a2b-645e-4a8f-9e89-833b5c1fe219', '7bfe8efc-3d56-4b2e-819e-d582167c1768', '62cfcc75-76e6-4026-8509-73efbba5e7fd', 'cec99dc0-cff7-494d-8375-f92477422d64', '4c14df94-bcfe-45b7-b308-6098a5dd9967', '0ea07196-b4ba-4587-bade-b30e06a0879d', '39d94be9-289c-481a-bd0b-99956c25dab8', '0b4a4e87-bd0f-41b4-bd60-d53dc66211cd', '356f7c38-bfb3-44a0-8652-e828d07da964', '10b56ad7-5a03-4abd-93ed-5e228e30a233', '8848d87a-3fd4-47e2-a11c-4a993e0bb151', '2bd86387-759d-4b15-b6aa-28ecbee869ba', '8bbe058d-8075-41d9-9574-b41797111c83', '487bf485-2d19-45ca-aaff-030599565f48', 'b62b7139-1719-41fd-bcbe-98a1ebe2031d', 'ac94e990-39d5-4588-8234-1bf4cee18c7d', '98378c51-5746-41cd-be64-e48a3a7c17db', '60387311-fc16-4144-a08f-00a4874d582a', '089b7d54-a5b9-4b87-9825-7d63caaefb37', '92813dc0-0cc0-4ae8-8353-d45c88851aa2', '4ff6d2e4-2792-427a-a4d1-a82c7e9b91f2', '5d9fe6bb-0944-44b3-ae80-d11be09a2235', '892342da-193a-4a38-8c6c-dfda8c121018', 'd0cad098-27d1-4ea5-9393-eea29b9b1d08', '302ec522-80cb-4996-8f39-25559796e746', 'b09303af-0352-4513-90df-db332fbefd47', '76f366b7-8dd9-408d-9f72-f9c43c3f251a', '364436d9-74aa-4f6b-b430-daa5a8a609c4', '044ac377-631b-4276-9270-00e50e811f69', 'bac15347-3568-4cb6-80ab-7334aaef9009', '396b0dbe-402b-44a9-a6b8-8f824557c61d', '88942533-d51a-40a0-a9a6-7135cab084ca', '9321add7-fd78-444e-83d1-a9d2bb49ccbe', 'ff5bcbf3-8290-41cc-82aa-57a6b9d842c0', 'cfeb6740-0031-4b09-b109-7fec2c85060f', '976645aa-5d2f-4481-89e1-1dfae7cc3ae9', '200c063f-adc0-46b2-848d-9247d61981c9', 'eb9e6333-e4f1-41ef-a81e-30f949593ee2', '8e901c4b-a61c-4a98-a037-e960614e70f9', '6f45e7d6-a2ca-43ef-bb50-f4f8baebc7d5', 'a442ca14-ff91-4f35-b0c0-bade2c3a3488']\n",
      "Replacing 17 from 51 !\n",
      "D_relabeled_ 17\n",
      "selected_ids ['a442ca14-ff91-4f35-b0c0-bade2c3a3488', '9321add7-fd78-444e-83d1-a9d2bb49ccbe', '302ec522-80cb-4996-8f39-25559796e746', '4ff6d2e4-2792-427a-a4d1-a82c7e9b91f2', '62cfcc75-76e6-4026-8509-73efbba5e7fd', '76f366b7-8dd9-408d-9f72-f9c43c3f251a', '2bd86387-759d-4b15-b6aa-28ecbee869ba', '4b617a2b-645e-4a8f-9e89-833b5c1fe219', 'cfeb6740-0031-4b09-b109-7fec2c85060f', '044ac377-631b-4276-9270-00e50e811f69', '8bbe058d-8075-41d9-9574-b41797111c83', '9b9253d6-bf24-4896-99db-82c3441fbb30', '4ef381f5-1814-4b3a-9a7b-1db284707b4b', '200c063f-adc0-46b2-848d-9247d61981c9', 'cec99dc0-cff7-494d-8375-f92477422d64', '60387311-fc16-4144-a08f-00a4874d582a', '8e901c4b-a61c-4a98-a037-e960614e70f9']\n",
      "dict_keys(['a442ca14-ff91-4f35-b0c0-bade2c3a3488', '9321add7-fd78-444e-83d1-a9d2bb49ccbe', '302ec522-80cb-4996-8f39-25559796e746', '4ff6d2e4-2792-427a-a4d1-a82c7e9b91f2', '62cfcc75-76e6-4026-8509-73efbba5e7fd', '76f366b7-8dd9-408d-9f72-f9c43c3f251a', '2bd86387-759d-4b15-b6aa-28ecbee869ba', '4b617a2b-645e-4a8f-9e89-833b5c1fe219', 'cfeb6740-0031-4b09-b109-7fec2c85060f', '044ac377-631b-4276-9270-00e50e811f69', '8bbe058d-8075-41d9-9574-b41797111c83', '9b9253d6-bf24-4896-99db-82c3441fbb30', '4ef381f5-1814-4b3a-9a7b-1db284707b4b', '200c063f-adc0-46b2-848d-9247d61981c9', 'cec99dc0-cff7-494d-8375-f92477422d64', '60387311-fc16-4144-a08f-00a4874d582a', '8e901c4b-a61c-4a98-a037-e960614e70f9'])\n",
      "point ids 17\n",
      "Removed: 17 Filled: 17\n",
      "TOOK 230.93206000328064 seconds\n",
      "***\n",
      "RUN: 3\n",
      "Epoch 1/100\n",
      "336/336 [==============================] - 18s 52ms/step - loss: 0.0598 - dice_coef: 0.8645 - val_loss: 0.3075 - val_dice_coef: 0.7150\n",
      "Epoch 2/100\n",
      "336/336 [==============================] - 17s 51ms/step - loss: 0.0597 - dice_coef: 0.8656 - val_loss: 0.2585 - val_dice_coef: 0.7284\n",
      "Epoch 3/100\n",
      "336/336 [==============================] - 17s 52ms/step - loss: 0.0595 - dice_coef: 0.8664 - val_loss: 0.2482 - val_dice_coef: 0.7339\n",
      "Epoch 4/100\n",
      "336/336 [==============================] - 18s 53ms/step - loss: 0.0593 - dice_coef: 0.8674 - val_loss: 0.3189 - val_dice_coef: 0.7212\n",
      "Epoch 5/100\n",
      "336/336 [==============================] - 18s 53ms/step - loss: 0.0592 - dice_coef: 0.8676 - val_loss: 0.3224 - val_dice_coef: 0.7167\n",
      "Epoch 6/100\n",
      "336/336 [==============================] - 17s 52ms/step - loss: 0.0590 - dice_coef: 0.8684 - val_loss: 0.3250 - val_dice_coef: 0.7183\n",
      "Epoch 7/100\n",
      "336/336 [==============================] - 18s 53ms/step - loss: 0.0590 - dice_coef: 0.8687 - val_loss: 0.3250 - val_dice_coef: 0.7212\n",
      "Epoch 8/100\n",
      "336/336 [==============================] - 17s 52ms/step - loss: 0.0588 - dice_coef: 0.8692 - val_loss: 0.2659 - val_dice_coef: 0.7366\n",
      "Epoch 9/100\n",
      "336/336 [==============================] - 18s 52ms/step - loss: 0.0588 - dice_coef: 0.8694 - val_loss: 0.2722 - val_dice_coef: 0.7294\n",
      "Epoch 10/100\n",
      "336/336 [==============================] - 18s 53ms/step - loss: 0.0588 - dice_coef: 0.8697 - val_loss: 0.3008 - val_dice_coef: 0.7236\n",
      "Epoch 11/100\n",
      "336/336 [==============================] - 17s 52ms/step - loss: 0.0587 - dice_coef: 0.8702 - val_loss: 0.2854 - val_dice_coef: 0.7292\n",
      "Epoch 12/100\n",
      "336/336 [==============================] - 18s 52ms/step - loss: 0.0587 - dice_coef: 0.8704 - val_loss: 0.2476 - val_dice_coef: 0.7427\n",
      "Epoch 13/100\n",
      "336/336 [==============================] - 18s 54ms/step - loss: 0.0587 - dice_coef: 0.8706 - val_loss: 0.2242 - val_dice_coef: 0.7485\n",
      "Epoch 14/100\n",
      "336/336 [==============================] - 18s 52ms/step - loss: 0.0588 - dice_coef: 0.8708 - val_loss: 0.2601 - val_dice_coef: 0.7380\n",
      "Epoch 15/100\n",
      "336/336 [==============================] - 18s 53ms/step - loss: 0.0588 - dice_coef: 0.8709 - val_loss: 0.3070 - val_dice_coef: 0.7220\n",
      "Model saved to: /tmp/tmpkuz68ifsGP2/unet_3unet_model\n",
      "History saved to: /tmp/tmpkuz68ifsGP2/unet_history_3.pkl\n",
      "Testing the classifier...\n",
      "Testing the discriminator...\n",
      "10/10 [==============================] - 0s 18ms/step - loss: 334.0133 - accuracy: 0.6067\n",
      "Found 41 machine labels.\n",
      "Machine labels [  2  14  17  21  42  47  54  58  61  69  73  75  86  90  96 107 112 117\n",
      " 120 148 157 160 167 172 174 177 186 203 208 209 212 213 218 219 238 245\n",
      " 246 271 274 276 283]\n",
      "D_ids ['b964e51d-deea-4406-bb2b-11ddd91489c4', 'f2aec439-a575-49b2-a2bc-ab1911b562b8', '1b38d028-4f3f-41a2-8150-7fa9436e48c8', '9b9e0945-5cc5-410a-aedf-391e2fe24129', 'ef27f025-7f78-4941-8838-9b7aaea21874', 'f31195fd-182c-4375-a0f6-fc8ff7477721', 'dd179623-c7f0-4af2-9586-01862a963f07', '623c78d3-ac2a-4953-855b-9db37fb753c9', '20284c09-bd88-4987-888e-05e4721a4fba', '5114e60d-a54d-443d-907b-1020581bbbe1', '5425d6d3-5c76-4c6c-b015-be4e7dcce55f', '963029b4-438c-44d8-b5f4-62bea0841a1b', '26a6f117-5aeb-4de1-9505-07a866ccd356', '94d4cc4c-6f02-4807-ae5a-71ffa182888d', '140e8ae1-3b01-4ddb-9f63-d94b8b5aaaa6', '4811b81a-ba64-432c-99c9-1949e3392f83', '96c47d54-ab8a-4087-8a6c-14e598b07bf8', '2391e6a1-4978-4ab0-9ada-301e92aff57f', '5c53e818-04a1-46eb-9941-144638a71ede', '95fdc5c5-b65c-4255-9b05-70750481ae43', '1ce5137b-cead-4396-883f-686784d82ac9', 'ba4d63f6-fe8d-4dcb-8c41-cbd71e0aa9e4', '20a13c78-8606-4e4c-a04d-e966a84def88', '0c93c0cf-f4ce-45e6-b78f-70201924e1c3', '6380c3d7-6381-400a-96d8-5e0ba215ff97', '6aa88b5d-1989-41d0-9b0a-8bb95ef8c459', '5f397b0f-d0cc-4b94-901e-7136e7039e5c', 'a4fc35be-582f-45d5-9e1a-77ac5a4c3f39', '51e446bf-1b60-49ea-b36d-bd0448a4b644', '7b0a0fce-5bce-4737-b8e9-317bcc4aaf02', '3987838b-2e30-41cf-8f58-c40875e49134', 'ab815e31-808f-40f9-ac72-90bf9b8da2a9', '9c204855-f025-4913-a6bd-413e6823a142', 'b829d314-038b-47b1-aef6-09a791b02018', '4a82300b-ae1b-4fc2-b185-bbc0510aa433', '85c7d9b2-d7a5-4ced-aad0-f064c834ba91', 'a5182b4c-15ad-4589-a731-095f85b91966', '5bcc4d60-6d06-4efc-806d-fe3860241e14', '0c8db86f-2859-4695-851f-541fd027bf39', 'fb2e2917-ac62-448f-81a1-ad2b97a31ae6', 'a3fc9af4-94bd-49c0-b7fa-3295ad524e78']\n",
      "Replacing 13 from 41 !\n",
      "D_relabeled_ 13\n",
      "selected_ids ['f2aec439-a575-49b2-a2bc-ab1911b562b8', '1ce5137b-cead-4396-883f-686784d82ac9', '4811b81a-ba64-432c-99c9-1949e3392f83', '2391e6a1-4978-4ab0-9ada-301e92aff57f', '6380c3d7-6381-400a-96d8-5e0ba215ff97', 'ba4d63f6-fe8d-4dcb-8c41-cbd71e0aa9e4', '9b9e0945-5cc5-410a-aedf-391e2fe24129', '4a82300b-ae1b-4fc2-b185-bbc0510aa433', '51e446bf-1b60-49ea-b36d-bd0448a4b644', 'ef27f025-7f78-4941-8838-9b7aaea21874', 'a4fc35be-582f-45d5-9e1a-77ac5a4c3f39', '140e8ae1-3b01-4ddb-9f63-d94b8b5aaaa6', '20a13c78-8606-4e4c-a04d-e966a84def88']\n",
      "dict_keys(['f2aec439-a575-49b2-a2bc-ab1911b562b8', '1ce5137b-cead-4396-883f-686784d82ac9', '4811b81a-ba64-432c-99c9-1949e3392f83', '2391e6a1-4978-4ab0-9ada-301e92aff57f', '6380c3d7-6381-400a-96d8-5e0ba215ff97', 'ba4d63f6-fe8d-4dcb-8c41-cbd71e0aa9e4', '9b9e0945-5cc5-410a-aedf-391e2fe24129', '4a82300b-ae1b-4fc2-b185-bbc0510aa433', '51e446bf-1b60-49ea-b36d-bd0448a4b644', 'ef27f025-7f78-4941-8838-9b7aaea21874', 'a4fc35be-582f-45d5-9e1a-77ac5a4c3f39', '140e8ae1-3b01-4ddb-9f63-d94b8b5aaaa6', '20a13c78-8606-4e4c-a04d-e966a84def88'])\n",
      "point ids 13\n"
     ]
    },
    {
     "name": "stdout",
     "output_type": "stream",
     "text": [
      "Removed: 13 Filled: 13\n",
      "TOOK 410.7585904598236 seconds\n",
      "***\n",
      "RUN: 4\n",
      "Epoch 1/100\n",
      "349/349 [==============================] - 19s 53ms/step - loss: 0.0595 - dice_coef: 0.8694 - val_loss: 0.2560 - val_dice_coef: 0.7374\n",
      "Epoch 2/100\n",
      "349/349 [==============================] - 18s 52ms/step - loss: 0.0595 - dice_coef: 0.8694 - val_loss: 0.2787 - val_dice_coef: 0.7281\n",
      "Epoch 3/100\n",
      "349/349 [==============================] - 18s 51ms/step - loss: 0.0595 - dice_coef: 0.8694 - val_loss: 0.3083 - val_dice_coef: 0.7227\n",
      "Epoch 4/100\n",
      "349/349 [==============================] - 18s 51ms/step - loss: 0.0595 - dice_coef: 0.8694 - val_loss: 0.2606 - val_dice_coef: 0.7388\n",
      "Epoch 5/100\n",
      "349/349 [==============================] - 17s 50ms/step - loss: 0.0595 - dice_coef: 0.8694 - val_loss: 0.2584 - val_dice_coef: 0.7361\n",
      "Model saved to: /tmp/tmpkuz68ifsGP2/unet_4unet_model\n",
      "History saved to: /tmp/tmpkuz68ifsGP2/unet_history_4.pkl\n",
      "Testing the classifier...\n",
      "Testing the discriminator...\n",
      "10/10 [==============================] - 0s 22ms/step - loss: 349.6467 - accuracy: 0.6067\n",
      "Found 37 machine labels.\n",
      "Machine labels [ 19  23  28  33  40  41  53  58  62  68  72  81  92 100 104 107 110 122\n",
      " 131 144 153 175 188 191 196 200 208 211 222 227 233 238 250 270 282 297\n",
      " 298]\n",
      "D_ids ['85c7d9b2-d7a5-4ced-aad0-f064c834ba91', '9d683956-475a-4848-a146-c5d8b13ba4cb', 'b09303af-0352-4513-90df-db332fbefd47', '31d9ddf8-3434-4a70-b783-afba2e53a361', '3d27525b-159c-4221-922a-42a7bb4e1e64', '757f4b67-f6f0-47ca-8e31-8551aa78cbed', 'b5785dcc-e20b-4abc-9f64-6b1a115a7aaf', '3db9734b-f7c0-4206-9b54-fa776608adb2', 'c6694ec5-5d55-43c2-85c0-936b66d17735', '320aa27f-1d98-4ff8-a2b6-49940fb5867b', '5cec940b-b72b-42a5-8146-f5dc3e84eb02', '7287e870-1e9d-43e1-94b4-e7dbe684b84d', '8505a0fc-5635-47bd-a17a-70510cc1fb5a', '68921327-df3f-4a2a-b529-5511d1ac1b7e', 'a030b807-e765-444e-9317-460e916f55bb', 'a6683869-7f17-4827-9cc1-fc8aea0b961e', 'b751fb31-ec70-4116-a8e2-3aa0b15353ae', '5f2b07ae-62ba-4f0c-9aad-4facaad92904', '94d4cc4c-6f02-4807-ae5a-71ffa182888d', 'e68c3d2c-9657-4789-b23b-aaabb3fb3f93', '2e303b70-95ae-403b-9639-0a4fb1bbc9f5', '2722aa37-be95-4e97-ab2f-316efc02eea1', '89a82908-16a4-468d-b6c6-306e5f5e24f2', '5f397b0f-d0cc-4b94-901e-7136e7039e5c', '20284c09-bd88-4987-888e-05e4721a4fba', 'e78c347b-9d6d-401b-917c-27659b85e5ed', 'c0d4f40d-6435-44d4-86d6-76794acb0e35', '48628904-a4ae-4d36-b186-9619beb5afe3', '623c78d3-ac2a-4953-855b-9db37fb753c9', '070977fd-e2a8-4e06-b7c6-dd394fb0588b', '634a9b08-1702-4c0c-8f05-9ca77302c4cf', '9848ef2a-62ce-4ce8-88f2-4e5c6ea92ecb', 'd7dc4231-512a-4884-9a57-8ed96c00deeb', 'a3e0a474-c32e-4f76-94b0-b0b163ac53df', '9d2a8152-eb2e-47f0-8831-f545043d5ad2', '495bd48b-5b0d-4c75-93d8-3aa29c6117ce', '0379cef5-a189-4aee-b18e-2ef93621578d']\n",
      "Replacing 12 from 37 !\n",
      "D_relabeled_ 12\n",
      "selected_ids ['320aa27f-1d98-4ff8-a2b6-49940fb5867b', '20284c09-bd88-4987-888e-05e4721a4fba', 'b751fb31-ec70-4116-a8e2-3aa0b15353ae', '48628904-a4ae-4d36-b186-9619beb5afe3', '2e303b70-95ae-403b-9639-0a4fb1bbc9f5', 'b5785dcc-e20b-4abc-9f64-6b1a115a7aaf', '8505a0fc-5635-47bd-a17a-70510cc1fb5a', '070977fd-e2a8-4e06-b7c6-dd394fb0588b', 'a030b807-e765-444e-9317-460e916f55bb', 'a6683869-7f17-4827-9cc1-fc8aea0b961e', 'b09303af-0352-4513-90df-db332fbefd47', '3db9734b-f7c0-4206-9b54-fa776608adb2']\n",
      "dict_keys(['320aa27f-1d98-4ff8-a2b6-49940fb5867b', '20284c09-bd88-4987-888e-05e4721a4fba', 'b751fb31-ec70-4116-a8e2-3aa0b15353ae', '48628904-a4ae-4d36-b186-9619beb5afe3', '2e303b70-95ae-403b-9639-0a4fb1bbc9f5', 'b5785dcc-e20b-4abc-9f64-6b1a115a7aaf', '8505a0fc-5635-47bd-a17a-70510cc1fb5a', '070977fd-e2a8-4e06-b7c6-dd394fb0588b', 'a030b807-e765-444e-9317-460e916f55bb', 'a6683869-7f17-4827-9cc1-fc8aea0b961e', 'b09303af-0352-4513-90df-db332fbefd47', '3db9734b-f7c0-4206-9b54-fa776608adb2'])\n",
      "point ids 12\n",
      "Removed: 12 Filled: 12\n",
      "TOOK 171.1456241607666 seconds\n"
     ]
    }
   ],
   "source": [
    "for run in range(RUNS):\n",
    "    print('***')\n",
    "    print('RUN:', run)\n",
    "    t0 = time.time()\n",
    "    R.run_classifier(patience_counter=2)\n",
    "    R.run_discriminator()\n",
    "    l = R.find_machine_labels()\n",
    "    if l == 0:\n",
    "        print('No more machine labels.')\n",
    "        print('TOOK', time.time()-t0, 'seconds')\n",
    "        break\n",
    "    R.relabel(percent_to_replace=PERCENT_TO_REPLACE)\n",
    "    print('TOOK', time.time()-t0, 'seconds')\n",
    "    "
   ]
  },
  {
   "cell_type": "code",
   "execution_count": null,
   "id": "dab6fd49",
   "metadata": {},
   "outputs": [],
   "source": []
  },
  {
   "cell_type": "code",
   "execution_count": 16,
   "id": "00075332",
   "metadata": {
    "scrolled": true
   },
   "outputs": [
    {
     "data": {
      "text/plain": [
       "[[5.870521068572998, 0.18942545354366302],\n",
       " [0.34661784768104553, 0.5179240703582764],\n",
       " [0.4081608057022095, 0.5310279726982117],\n",
       " [0.27074870467185974, 0.6112017035484314],\n",
       " [0.2268027365207672, 0.6446624994277954]]"
      ]
     },
     "execution_count": 16,
     "metadata": {},
     "output_type": "execute_result"
    }
   ],
   "source": [
    "R.classifier_scores"
   ]
  },
  {
   "cell_type": "code",
   "execution_count": 17,
   "id": "35105656",
   "metadata": {},
   "outputs": [
    {
     "data": {
      "text/plain": [
       "[[0.0, 1.0],\n",
       " [277.4599914550781, 0.6933333277702332],\n",
       " [255.7133331298828, 0.7066666483879089],\n",
       " [334.0133361816406, 0.6066666841506958],\n",
       " [349.64666748046875, 0.6066666841506958]]"
      ]
     },
     "execution_count": 17,
     "metadata": {},
     "output_type": "execute_result"
    }
   ],
   "source": [
    "R.discriminator_scores"
   ]
  },
  {
   "cell_type": "code",
   "execution_count": 18,
   "id": "d640483d",
   "metadata": {},
   "outputs": [
    {
     "data": {
      "image/png": "[encoded data removed]",
      "text/plain": [
       "<Figure size 240x240 with 1 Axes>"
      ]
     },
     "metadata": {
      "needs_background": "light"
     },
     "output_type": "display_data"
    }
   ],
   "source": [
    "R.plot()"
   ]
  },
  {
   "cell_type": "code",
   "execution_count": null,
   "id": "9f37c32a",
   "metadata": {},
   "outputs": [],
   "source": []
  },
  {
   "cell_type": "code",
   "execution_count": null,
   "id": "7dca2275",
   "metadata": {},
   "outputs": [],
   "source": []
  },
  {
   "cell_type": "code",
   "execution_count": 18,
   "id": "b1ec788d",
   "metadata": {},
   "outputs": [
    {
     "data": {
      "image/png": "[encoded data removed]",
      "text/plain": [
       "<Figure size 240x240 with 1 Axes>"
      ]
     },
     "metadata": {
      "needs_background": "light"
     },
     "output_type": "display_data"
    }
   ],
   "source": [
    "R.plot()"
   ]
  },
  {
   "cell_type": "code",
   "execution_count": null,
   "id": "0553618c",
   "metadata": {},
   "outputs": [],
   "source": []
  },
  {
   "cell_type": "code",
   "execution_count": 17,
   "id": "0a721a90",
   "metadata": {},
   "outputs": [
    {
     "data": {
      "image/png": "[encoded data removed]",
      "text/plain": [
       "<Figure size 240x240 with 1 Axes>"
      ]
     },
     "metadata": {
      "needs_background": "light"
     },
     "output_type": "display_data"
    }
   ],
   "source": [
    "R.plot()"
   ]
  },
  {
   "cell_type": "code",
   "execution_count": null,
   "id": "551de181",
   "metadata": {},
   "outputs": [],
   "source": []
  }
 ],
 "metadata": {
  "kernelspec": {
   "display_name": "Python 3 (ipykernel)",
   "language": "python",
   "name": "python3"
  },
  "language_info": {
   "codemirror_mode": {
    "name": "ipython",
    "version": 3
   },
   "file_extension": ".py",
   "mimetype": "text/x-python",
   "name": "python",
   "nbconvert_exporter": "python",
   "pygments_lexer": "ipython3",
   "version": "3.9.7"
  }
 },
 "nbformat": 4,
 "nbformat_minor": 5
}
