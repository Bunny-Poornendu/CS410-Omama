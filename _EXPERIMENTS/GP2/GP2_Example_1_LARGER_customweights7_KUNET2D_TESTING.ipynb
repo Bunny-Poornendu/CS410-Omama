{
 "cells": [
  {
   "cell_type": "code",
   "execution_count": 1,
   "id": "06c4accc",
   "metadata": {},
   "outputs": [
    {
     "name": "stdout",
     "output_type": "stream",
     "text": [
      "Populating the interactive namespace from numpy and matplotlib\n"
     ]
    }
   ],
   "source": [
    "%pylab inline\n",
    "%load_ext autoreload\n",
    "%autoreload 2"
   ]
  },
  {
   "cell_type": "code",
   "execution_count": 2,
   "id": "861fc4c8",
   "metadata": {},
   "outputs": [
    {
     "name": "stderr",
     "output_type": "stream",
     "text": [
      "2023-04-22 10:03:42.932393: I tensorflow/stream_executor/platform/default/dso_loader.cc:53] Successfully opened dynamic library libcudart.so.11.0\n"
     ]
    }
   ],
   "source": [
    "import numpy as np\n",
    "from glob import glob\n",
    "from tensorflow import keras\n",
    "from tensorflow.keras.layers import Input, Conv2D, Dropout, Activation, UpSampling2D, GlobalMaxPooling2D, multiply\n",
    "from tensorflow.keras.backend import max\n",
    "from keras_unet_collection import models, base, utils"
   ]
  },
  {
   "cell_type": "code",
   "execution_count": 3,
   "id": "b9e78ed8",
   "metadata": {
    "scrolled": true
   },
   "outputs": [
    {
     "name": "stderr",
     "output_type": "stream",
     "text": [
      "2023-04-22 10:03:44.449694: I tensorflow/stream_executor/platform/default/dso_loader.cc:53] Successfully opened dynamic library libcuda.so.1\n",
      "2023-04-22 10:03:44.609252: I tensorflow/core/common_runtime/gpu/gpu_device.cc:1733] Found device 0 with properties: \n",
      "pciBusID: 0000:07:00.0 name: A100-SXM4-40GB computeCapability: 8.0\n",
      "coreClock: 1.41GHz coreCount: 108 deviceMemorySize: 39.59GiB deviceMemoryBandwidth: 1.41TiB/s\n",
      "2023-04-22 10:03:44.611822: I tensorflow/core/common_runtime/gpu/gpu_device.cc:1733] Found device 1 with properties: \n",
      "pciBusID: 0000:0f:00.0 name: A100-SXM4-40GB computeCapability: 8.0\n",
      "coreClock: 1.41GHz coreCount: 108 deviceMemorySize: 39.59GiB deviceMemoryBandwidth: 1.41TiB/s\n",
      "2023-04-22 10:03:44.611841: I tensorflow/stream_executor/platform/default/dso_loader.cc:53] Successfully opened dynamic library libcudart.so.11.0\n",
      "2023-04-22 10:03:44.615744: I tensorflow/stream_executor/platform/default/dso_loader.cc:53] Successfully opened dynamic library libcublas.so.11\n",
      "2023-04-22 10:03:44.615776: I tensorflow/stream_executor/platform/default/dso_loader.cc:53] Successfully opened dynamic library libcublasLt.so.11\n",
      "2023-04-22 10:03:44.616777: I tensorflow/stream_executor/platform/default/dso_loader.cc:53] Successfully opened dynamic library libcufft.so.10\n",
      "2023-04-22 10:03:44.617130: I tensorflow/stream_executor/platform/default/dso_loader.cc:53] Successfully opened dynamic library libcurand.so.10\n",
      "2023-04-22 10:03:44.617707: I tensorflow/stream_executor/platform/default/dso_loader.cc:53] Successfully opened dynamic library libcusolver.so.11\n",
      "2023-04-22 10:03:44.618578: I tensorflow/stream_executor/platform/default/dso_loader.cc:53] Successfully opened dynamic library libcusparse.so.11\n",
      "2023-04-22 10:03:44.618825: I tensorflow/stream_executor/platform/default/dso_loader.cc:53] Successfully opened dynamic library libcudnn.so.8\n",
      "2023-04-22 10:03:44.629084: I tensorflow/core/common_runtime/gpu/gpu_device.cc:1871] Adding visible gpu devices: 0, 1\n"
     ]
    }
   ],
   "source": [
    "import time\n",
    "import sys\n",
    "sys.path.insert(0,'../..')\n",
    "from gp2 import Runner"
   ]
  },
  {
   "cell_type": "code",
   "execution_count": null,
   "id": "9ca4623b",
   "metadata": {},
   "outputs": [],
   "source": []
  },
  {
   "cell_type": "code",
   "execution_count": 4,
   "id": "bdc75325",
   "metadata": {},
   "outputs": [
    {
     "name": "stderr",
     "output_type": "stream",
     "text": [
      "2023-04-22 10:03:47.067848: I tensorflow/core/platform/cpu_feature_guard.cc:142] This TensorFlow binary is optimized with oneAPI Deep Neural Network Library (oneDNN) to use the following CPU instructions in performance-critical operations:  AVX2 FMA\n",
      "To enable them in other operations, rebuild TensorFlow with the appropriate compiler flags.\n",
      "2023-04-22 10:03:47.306702: I tensorflow/core/common_runtime/gpu/gpu_device.cc:1733] Found device 0 with properties: \n",
      "pciBusID: 0000:07:00.0 name: A100-SXM4-40GB computeCapability: 8.0\n",
      "coreClock: 1.41GHz coreCount: 108 deviceMemorySize: 39.59GiB deviceMemoryBandwidth: 1.41TiB/s\n",
      "2023-04-22 10:03:47.309115: I tensorflow/core/common_runtime/gpu/gpu_device.cc:1733] Found device 1 with properties: \n",
      "pciBusID: 0000:0f:00.0 name: A100-SXM4-40GB computeCapability: 8.0\n",
      "coreClock: 1.41GHz coreCount: 108 deviceMemorySize: 39.59GiB deviceMemoryBandwidth: 1.41TiB/s\n",
      "2023-04-22 10:03:47.318564: I tensorflow/core/common_runtime/gpu/gpu_device.cc:1871] Adding visible gpu devices: 0, 1\n",
      "2023-04-22 10:03:47.318613: I tensorflow/stream_executor/platform/default/dso_loader.cc:53] Successfully opened dynamic library libcudart.so.11.0\n",
      "2023-04-22 10:03:48.113688: I tensorflow/core/common_runtime/gpu/gpu_device.cc:1258] Device interconnect StreamExecutor with strength 1 edge matrix:\n",
      "2023-04-22 10:03:48.113741: I tensorflow/core/common_runtime/gpu/gpu_device.cc:1264]      0 1 \n",
      "2023-04-22 10:03:48.113747: I tensorflow/core/common_runtime/gpu/gpu_device.cc:1277] 0:   N Y \n",
      "2023-04-22 10:03:48.113751: I tensorflow/core/common_runtime/gpu/gpu_device.cc:1277] 1:   Y N \n",
      "2023-04-22 10:03:48.126943: I tensorflow/core/common_runtime/gpu/gpu_device.cc:1418] Created TensorFlow device (/job:localhost/replica:0/task:0/device:GPU:0 with 38425 MB memory) -> physical GPU (device: 0, name: A100-SXM4-40GB, pci bus id: 0000:07:00.0, compute capability: 8.0)\n",
      "2023-04-22 10:03:48.129659: I tensorflow/core/common_runtime/gpu/gpu_device.cc:1418] Created TensorFlow device (/job:localhost/replica:0/task:0/device:GPU:1 with 38425 MB memory) -> physical GPU (device: 1, name: A100-SXM4-40GB, pci bus id: 0000:0f:00.0, compute capability: 8.0)\n"
     ]
    },
    {
     "name": "stdout",
     "output_type": "stream",
     "text": [
      "*** GP2  KUNet2D ***\n",
      "Working directory: /tmp/tmp_gt729lpGP2\n",
      "Verbose mode active!\n",
      "Model: \"unet_model\"\n",
      "__________________________________________________________________________________________________\n",
      "Layer (type)                    Output Shape         Param #     Connected to                     \n",
      "==================================================================================================\n",
      "input_1 (InputLayer)            [(None, 512, 512, 1) 0                                            \n",
      "__________________________________________________________________________________________________\n",
      "unet_down0_0 (Conv2D)           (None, 512, 512, 16) 144         input_1[0][0]                    \n",
      "__________________________________________________________________________________________________\n",
      "unet_down0_0_bn (BatchNormaliza (None, 512, 512, 16) 64          unet_down0_0[0][0]               \n",
      "__________________________________________________________________________________________________\n",
      "unet_down0_0_activation (ReLU)  (None, 512, 512, 16) 0           unet_down0_0_bn[0][0]            \n",
      "__________________________________________________________________________________________________\n",
      "unet_down0_1 (Conv2D)           (None, 512, 512, 16) 2304        unet_down0_0_activation[0][0]    \n",
      "__________________________________________________________________________________________________\n",
      "unet_down0_1_bn (BatchNormaliza (None, 512, 512, 16) 64          unet_down0_1[0][0]               \n",
      "__________________________________________________________________________________________________\n",
      "unet_down0_1_activation (ReLU)  (None, 512, 512, 16) 0           unet_down0_1_bn[0][0]            \n",
      "__________________________________________________________________________________________________\n",
      "unet_down1_encode_maxpool (MaxP (None, 256, 256, 16) 0           unet_down0_1_activation[0][0]    \n",
      "__________________________________________________________________________________________________\n",
      "unet_down1_conv_0 (Conv2D)      (None, 256, 256, 32) 4608        unet_down1_encode_maxpool[0][0]  \n",
      "__________________________________________________________________________________________________\n",
      "unet_down1_conv_0_bn (BatchNorm (None, 256, 256, 32) 128         unet_down1_conv_0[0][0]          \n",
      "__________________________________________________________________________________________________\n",
      "unet_down1_conv_0_activation (R (None, 256, 256, 32) 0           unet_down1_conv_0_bn[0][0]       \n",
      "__________________________________________________________________________________________________\n",
      "unet_down1_conv_1 (Conv2D)      (None, 256, 256, 32) 9216        unet_down1_conv_0_activation[0][0\n",
      "__________________________________________________________________________________________________\n",
      "unet_down1_conv_1_bn (BatchNorm (None, 256, 256, 32) 128         unet_down1_conv_1[0][0]          \n",
      "__________________________________________________________________________________________________\n",
      "unet_down1_conv_1_activation (R (None, 256, 256, 32) 0           unet_down1_conv_1_bn[0][0]       \n",
      "__________________________________________________________________________________________________\n",
      "unet_down2_encode_maxpool (MaxP (None, 128, 128, 32) 0           unet_down1_conv_1_activation[0][0\n",
      "__________________________________________________________________________________________________\n",
      "unet_down2_conv_0 (Conv2D)      (None, 128, 128, 64) 18432       unet_down2_encode_maxpool[0][0]  \n",
      "__________________________________________________________________________________________________\n",
      "unet_down2_conv_0_bn (BatchNorm (None, 128, 128, 64) 256         unet_down2_conv_0[0][0]          \n",
      "__________________________________________________________________________________________________\n",
      "unet_down2_conv_0_activation (R (None, 128, 128, 64) 0           unet_down2_conv_0_bn[0][0]       \n",
      "__________________________________________________________________________________________________\n",
      "unet_down2_conv_1 (Conv2D)      (None, 128, 128, 64) 36864       unet_down2_conv_0_activation[0][0\n",
      "__________________________________________________________________________________________________\n",
      "unet_down2_conv_1_bn (BatchNorm (None, 128, 128, 64) 256         unet_down2_conv_1[0][0]          \n",
      "__________________________________________________________________________________________________\n",
      "unet_down2_conv_1_activation (R (None, 128, 128, 64) 0           unet_down2_conv_1_bn[0][0]       \n",
      "__________________________________________________________________________________________________\n",
      "unet_down3_encode_maxpool (MaxP (None, 64, 64, 64)   0           unet_down2_conv_1_activation[0][0\n",
      "__________________________________________________________________________________________________\n",
      "unet_down3_conv_0 (Conv2D)      (None, 64, 64, 128)  73728       unet_down3_encode_maxpool[0][0]  \n",
      "__________________________________________________________________________________________________\n",
      "unet_down3_conv_0_bn (BatchNorm (None, 64, 64, 128)  512         unet_down3_conv_0[0][0]          \n",
      "__________________________________________________________________________________________________\n",
      "unet_down3_conv_0_activation (R (None, 64, 64, 128)  0           unet_down3_conv_0_bn[0][0]       \n",
      "__________________________________________________________________________________________________\n",
      "unet_down3_conv_1 (Conv2D)      (None, 64, 64, 128)  147456      unet_down3_conv_0_activation[0][0\n",
      "__________________________________________________________________________________________________\n",
      "unet_down3_conv_1_bn (BatchNorm (None, 64, 64, 128)  512         unet_down3_conv_1[0][0]          \n",
      "__________________________________________________________________________________________________\n",
      "unet_down3_conv_1_activation (R (None, 64, 64, 128)  0           unet_down3_conv_1_bn[0][0]       \n",
      "__________________________________________________________________________________________________\n",
      "unet_down4_encode_maxpool (MaxP (None, 32, 32, 128)  0           unet_down3_conv_1_activation[0][0\n",
      "__________________________________________________________________________________________________\n",
      "unet_down4_conv_0 (Conv2D)      (None, 32, 32, 256)  294912      unet_down4_encode_maxpool[0][0]  \n",
      "__________________________________________________________________________________________________\n",
      "unet_down4_conv_0_bn (BatchNorm (None, 32, 32, 256)  1024        unet_down4_conv_0[0][0]          \n",
      "__________________________________________________________________________________________________\n",
      "unet_down4_conv_0_activation (R (None, 32, 32, 256)  0           unet_down4_conv_0_bn[0][0]       \n",
      "__________________________________________________________________________________________________\n",
      "unet_down4_conv_1 (Conv2D)      (None, 32, 32, 256)  589824      unet_down4_conv_0_activation[0][0\n",
      "__________________________________________________________________________________________________\n",
      "unet_down4_conv_1_bn (BatchNorm (None, 32, 32, 256)  1024        unet_down4_conv_1[0][0]          \n",
      "__________________________________________________________________________________________________\n",
      "unet_down4_conv_1_activation (R (None, 32, 32, 256)  0           unet_down4_conv_1_bn[0][0]       \n",
      "__________________________________________________________________________________________________\n",
      "unet_down5_encode_maxpool (MaxP (None, 16, 16, 256)  0           unet_down4_conv_1_activation[0][0\n",
      "__________________________________________________________________________________________________\n",
      "unet_down5_conv_0 (Conv2D)      (None, 16, 16, 512)  1179648     unet_down5_encode_maxpool[0][0]  \n",
      "__________________________________________________________________________________________________\n",
      "unet_down5_conv_0_bn (BatchNorm (None, 16, 16, 512)  2048        unet_down5_conv_0[0][0]          \n",
      "__________________________________________________________________________________________________\n",
      "unet_down5_conv_0_activation (R (None, 16, 16, 512)  0           unet_down5_conv_0_bn[0][0]       \n",
      "__________________________________________________________________________________________________\n",
      "unet_down5_conv_1 (Conv2D)      (None, 16, 16, 512)  2359296     unet_down5_conv_0_activation[0][0\n",
      "__________________________________________________________________________________________________\n",
      "unet_down5_conv_1_bn (BatchNorm (None, 16, 16, 512)  2048        unet_down5_conv_1[0][0]          \n",
      "__________________________________________________________________________________________________\n",
      "unet_down5_conv_1_activation (R (None, 16, 16, 512)  0           unet_down5_conv_1_bn[0][0]       \n",
      "__________________________________________________________________________________________________\n",
      "unet_down6_encode_maxpool (MaxP (None, 8, 8, 512)    0           unet_down5_conv_1_activation[0][0\n",
      "__________________________________________________________________________________________________\n",
      "unet_down6_conv_0 (Conv2D)      (None, 8, 8, 1024)   4718592     unet_down6_encode_maxpool[0][0]  \n",
      "__________________________________________________________________________________________________\n",
      "unet_down6_conv_0_bn (BatchNorm (None, 8, 8, 1024)   4096        unet_down6_conv_0[0][0]          \n",
      "__________________________________________________________________________________________________\n",
      "unet_down6_conv_0_activation (R (None, 8, 8, 1024)   0           unet_down6_conv_0_bn[0][0]       \n",
      "__________________________________________________________________________________________________\n",
      "unet_down6_conv_1 (Conv2D)      (None, 8, 8, 1024)   9437184     unet_down6_conv_0_activation[0][0\n",
      "__________________________________________________________________________________________________\n",
      "unet_down6_conv_1_bn (BatchNorm (None, 8, 8, 1024)   4096        unet_down6_conv_1[0][0]          \n",
      "__________________________________________________________________________________________________\n",
      "unet_down6_conv_1_activation (R (None, 8, 8, 1024)   0           unet_down6_conv_1_bn[0][0]       \n",
      "__________________________________________________________________________________________________\n",
      "unet_down7_encode_maxpool (MaxP (None, 4, 4, 1024)   0           unet_down6_conv_1_activation[0][0\n",
      "__________________________________________________________________________________________________\n",
      "unet_down7_conv_0 (Conv2D)      (None, 4, 4, 2048)   18874368    unet_down7_encode_maxpool[0][0]  \n",
      "__________________________________________________________________________________________________\n",
      "unet_down7_conv_0_bn (BatchNorm (None, 4, 4, 2048)   8192        unet_down7_conv_0[0][0]          \n",
      "__________________________________________________________________________________________________\n",
      "unet_down7_conv_0_activation (R (None, 4, 4, 2048)   0           unet_down7_conv_0_bn[0][0]       \n",
      "__________________________________________________________________________________________________\n",
      "unet_down7_conv_1 (Conv2D)      (None, 4, 4, 2048)   37748736    unet_down7_conv_0_activation[0][0\n",
      "__________________________________________________________________________________________________\n",
      "unet_down7_conv_1_bn (BatchNorm (None, 4, 4, 2048)   8192        unet_down7_conv_1[0][0]          \n",
      "__________________________________________________________________________________________________\n",
      "unet_down7_conv_1_activation (R (None, 4, 4, 2048)   0           unet_down7_conv_1_bn[0][0]       \n",
      "__________________________________________________________________________________________________\n",
      "unet_down8_encode_maxpool (MaxP (None, 2, 2, 2048)   0           unet_down7_conv_1_activation[0][0\n",
      "__________________________________________________________________________________________________\n",
      "unet_down8_conv_0 (Conv2D)      (None, 2, 2, 4096)   75497472    unet_down8_encode_maxpool[0][0]  \n",
      "__________________________________________________________________________________________________\n",
      "unet_down8_conv_0_bn (BatchNorm (None, 2, 2, 4096)   16384       unet_down8_conv_0[0][0]          \n",
      "__________________________________________________________________________________________________\n",
      "unet_down8_conv_0_activation (R (None, 2, 2, 4096)   0           unet_down8_conv_0_bn[0][0]       \n",
      "__________________________________________________________________________________________________\n",
      "unet_down8_conv_1 (Conv2D)      (None, 2, 2, 4096)   150994944   unet_down8_conv_0_activation[0][0\n",
      "__________________________________________________________________________________________________\n",
      "unet_down8_conv_1_bn (BatchNorm (None, 2, 2, 4096)   16384       unet_down8_conv_1[0][0]          \n",
      "__________________________________________________________________________________________________\n",
      "unet_down8_conv_1_activation (R (None, 2, 2, 4096)   0           unet_down8_conv_1_bn[0][0]       \n",
      "__________________________________________________________________________________________________\n",
      "unet_up0_decode_unpool (UpSampl (None, 4, 4, 4096)   0           unet_down8_conv_1_activation[0][0\n",
      "__________________________________________________________________________________________________\n",
      "unet_up0_conv_before_concat_0 ( (None, 4, 4, 2048)   75497472    unet_up0_decode_unpool[0][0]     \n",
      "__________________________________________________________________________________________________\n",
      "unet_up0_conv_before_concat_0_b (None, 4, 4, 2048)   8192        unet_up0_conv_before_concat_0[0][\n",
      "__________________________________________________________________________________________________\n",
      "unet_up0_conv_before_concat_0_a (None, 4, 4, 2048)   0           unet_up0_conv_before_concat_0_bn[\n",
      "__________________________________________________________________________________________________\n",
      "unet_up0_concat (Concatenate)   (None, 4, 4, 4096)   0           unet_up0_conv_before_concat_0_act\n",
      "                                                                 unet_down7_conv_1_activation[0][0\n",
      "__________________________________________________________________________________________________\n",
      "unet_up0_conv_after_concat_0 (C (None, 4, 4, 2048)   75497472    unet_up0_concat[0][0]            \n",
      "__________________________________________________________________________________________________\n",
      "unet_up0_conv_after_concat_0_bn (None, 4, 4, 2048)   8192        unet_up0_conv_after_concat_0[0][0\n",
      "__________________________________________________________________________________________________\n",
      "unet_up0_conv_after_concat_0_ac (None, 4, 4, 2048)   0           unet_up0_conv_after_concat_0_bn[0\n",
      "__________________________________________________________________________________________________\n",
      "unet_up0_conv_after_concat_1 (C (None, 4, 4, 2048)   37748736    unet_up0_conv_after_concat_0_acti\n",
      "__________________________________________________________________________________________________\n",
      "unet_up0_conv_after_concat_1_bn (None, 4, 4, 2048)   8192        unet_up0_conv_after_concat_1[0][0\n",
      "__________________________________________________________________________________________________\n",
      "unet_up0_conv_after_concat_1_ac (None, 4, 4, 2048)   0           unet_up0_conv_after_concat_1_bn[0\n",
      "__________________________________________________________________________________________________\n",
      "unet_up1_decode_unpool (UpSampl (None, 8, 8, 2048)   0           unet_up0_conv_after_concat_1_acti\n",
      "__________________________________________________________________________________________________\n",
      "unet_up1_conv_before_concat_0 ( (None, 8, 8, 1024)   18874368    unet_up1_decode_unpool[0][0]     \n",
      "__________________________________________________________________________________________________\n",
      "unet_up1_conv_before_concat_0_b (None, 8, 8, 1024)   4096        unet_up1_conv_before_concat_0[0][\n",
      "__________________________________________________________________________________________________\n",
      "unet_up1_conv_before_concat_0_a (None, 8, 8, 1024)   0           unet_up1_conv_before_concat_0_bn[\n",
      "__________________________________________________________________________________________________\n",
      "unet_up1_concat (Concatenate)   (None, 8, 8, 2048)   0           unet_up1_conv_before_concat_0_act\n",
      "                                                                 unet_down6_conv_1_activation[0][0\n",
      "__________________________________________________________________________________________________\n",
      "unet_up1_conv_after_concat_0 (C (None, 8, 8, 1024)   18874368    unet_up1_concat[0][0]            \n",
      "__________________________________________________________________________________________________\n",
      "unet_up1_conv_after_concat_0_bn (None, 8, 8, 1024)   4096        unet_up1_conv_after_concat_0[0][0\n",
      "__________________________________________________________________________________________________\n",
      "unet_up1_conv_after_concat_0_ac (None, 8, 8, 1024)   0           unet_up1_conv_after_concat_0_bn[0\n",
      "__________________________________________________________________________________________________\n",
      "unet_up1_conv_after_concat_1 (C (None, 8, 8, 1024)   9437184     unet_up1_conv_after_concat_0_acti\n",
      "__________________________________________________________________________________________________\n",
      "unet_up1_conv_after_concat_1_bn (None, 8, 8, 1024)   4096        unet_up1_conv_after_concat_1[0][0\n",
      "__________________________________________________________________________________________________\n",
      "unet_up1_conv_after_concat_1_ac (None, 8, 8, 1024)   0           unet_up1_conv_after_concat_1_bn[0\n",
      "__________________________________________________________________________________________________\n",
      "unet_up2_decode_unpool (UpSampl (None, 16, 16, 1024) 0           unet_up1_conv_after_concat_1_acti\n",
      "__________________________________________________________________________________________________\n",
      "unet_up2_conv_before_concat_0 ( (None, 16, 16, 512)  4718592     unet_up2_decode_unpool[0][0]     \n",
      "__________________________________________________________________________________________________\n",
      "unet_up2_conv_before_concat_0_b (None, 16, 16, 512)  2048        unet_up2_conv_before_concat_0[0][\n",
      "__________________________________________________________________________________________________\n",
      "unet_up2_conv_before_concat_0_a (None, 16, 16, 512)  0           unet_up2_conv_before_concat_0_bn[\n",
      "__________________________________________________________________________________________________\n",
      "unet_up2_concat (Concatenate)   (None, 16, 16, 1024) 0           unet_up2_conv_before_concat_0_act\n",
      "                                                                 unet_down5_conv_1_activation[0][0\n",
      "__________________________________________________________________________________________________\n",
      "unet_up2_conv_after_concat_0 (C (None, 16, 16, 512)  4718592     unet_up2_concat[0][0]            \n",
      "__________________________________________________________________________________________________\n",
      "unet_up2_conv_after_concat_0_bn (None, 16, 16, 512)  2048        unet_up2_conv_after_concat_0[0][0\n",
      "__________________________________________________________________________________________________\n",
      "unet_up2_conv_after_concat_0_ac (None, 16, 16, 512)  0           unet_up2_conv_after_concat_0_bn[0\n",
      "__________________________________________________________________________________________________\n",
      "unet_up2_conv_after_concat_1 (C (None, 16, 16, 512)  2359296     unet_up2_conv_after_concat_0_acti\n",
      "__________________________________________________________________________________________________\n",
      "unet_up2_conv_after_concat_1_bn (None, 16, 16, 512)  2048        unet_up2_conv_after_concat_1[0][0\n",
      "__________________________________________________________________________________________________\n",
      "unet_up2_conv_after_concat_1_ac (None, 16, 16, 512)  0           unet_up2_conv_after_concat_1_bn[0\n",
      "__________________________________________________________________________________________________\n",
      "unet_up3_decode_unpool (UpSampl (None, 32, 32, 512)  0           unet_up2_conv_after_concat_1_acti\n",
      "__________________________________________________________________________________________________\n",
      "unet_up3_conv_before_concat_0 ( (None, 32, 32, 256)  1179648     unet_up3_decode_unpool[0][0]     \n",
      "__________________________________________________________________________________________________\n",
      "unet_up3_conv_before_concat_0_b (None, 32, 32, 256)  1024        unet_up3_conv_before_concat_0[0][\n",
      "__________________________________________________________________________________________________\n",
      "unet_up3_conv_before_concat_0_a (None, 32, 32, 256)  0           unet_up3_conv_before_concat_0_bn[\n",
      "__________________________________________________________________________________________________\n",
      "unet_up3_concat (Concatenate)   (None, 32, 32, 512)  0           unet_up3_conv_before_concat_0_act\n",
      "                                                                 unet_down4_conv_1_activation[0][0\n",
      "__________________________________________________________________________________________________\n",
      "unet_up3_conv_after_concat_0 (C (None, 32, 32, 256)  1179648     unet_up3_concat[0][0]            \n",
      "__________________________________________________________________________________________________\n",
      "unet_up3_conv_after_concat_0_bn (None, 32, 32, 256)  1024        unet_up3_conv_after_concat_0[0][0\n",
      "__________________________________________________________________________________________________\n",
      "unet_up3_conv_after_concat_0_ac (None, 32, 32, 256)  0           unet_up3_conv_after_concat_0_bn[0\n",
      "__________________________________________________________________________________________________\n",
      "unet_up3_conv_after_concat_1 (C (None, 32, 32, 256)  589824      unet_up3_conv_after_concat_0_acti\n",
      "__________________________________________________________________________________________________\n",
      "unet_up3_conv_after_concat_1_bn (None, 32, 32, 256)  1024        unet_up3_conv_after_concat_1[0][0\n",
      "__________________________________________________________________________________________________\n",
      "unet_up3_conv_after_concat_1_ac (None, 32, 32, 256)  0           unet_up3_conv_after_concat_1_bn[0\n",
      "__________________________________________________________________________________________________\n",
      "unet_up4_decode_unpool (UpSampl (None, 64, 64, 256)  0           unet_up3_conv_after_concat_1_acti\n",
      "__________________________________________________________________________________________________\n",
      "unet_up4_conv_before_concat_0 ( (None, 64, 64, 128)  294912      unet_up4_decode_unpool[0][0]     \n",
      "__________________________________________________________________________________________________\n",
      "unet_up4_conv_before_concat_0_b (None, 64, 64, 128)  512         unet_up4_conv_before_concat_0[0][\n",
      "__________________________________________________________________________________________________\n",
      "unet_up4_conv_before_concat_0_a (None, 64, 64, 128)  0           unet_up4_conv_before_concat_0_bn[\n",
      "__________________________________________________________________________________________________\n",
      "unet_up4_concat (Concatenate)   (None, 64, 64, 256)  0           unet_up4_conv_before_concat_0_act\n",
      "                                                                 unet_down3_conv_1_activation[0][0\n",
      "__________________________________________________________________________________________________\n",
      "unet_up4_conv_after_concat_0 (C (None, 64, 64, 128)  294912      unet_up4_concat[0][0]            \n",
      "__________________________________________________________________________________________________\n",
      "unet_up4_conv_after_concat_0_bn (None, 64, 64, 128)  512         unet_up4_conv_after_concat_0[0][0\n",
      "__________________________________________________________________________________________________\n",
      "unet_up4_conv_after_concat_0_ac (None, 64, 64, 128)  0           unet_up4_conv_after_concat_0_bn[0\n",
      "__________________________________________________________________________________________________\n",
      "unet_up4_conv_after_concat_1 (C (None, 64, 64, 128)  147456      unet_up4_conv_after_concat_0_acti\n",
      "__________________________________________________________________________________________________\n",
      "unet_up4_conv_after_concat_1_bn (None, 64, 64, 128)  512         unet_up4_conv_after_concat_1[0][0\n",
      "__________________________________________________________________________________________________\n",
      "unet_up4_conv_after_concat_1_ac (None, 64, 64, 128)  0           unet_up4_conv_after_concat_1_bn[0\n",
      "__________________________________________________________________________________________________\n",
      "unet_up5_decode_unpool (UpSampl (None, 128, 128, 128 0           unet_up4_conv_after_concat_1_acti\n",
      "__________________________________________________________________________________________________\n",
      "unet_up5_conv_before_concat_0 ( (None, 128, 128, 64) 73728       unet_up5_decode_unpool[0][0]     \n",
      "__________________________________________________________________________________________________\n",
      "unet_up5_conv_before_concat_0_b (None, 128, 128, 64) 256         unet_up5_conv_before_concat_0[0][\n",
      "__________________________________________________________________________________________________\n",
      "unet_up5_conv_before_concat_0_a (None, 128, 128, 64) 0           unet_up5_conv_before_concat_0_bn[\n",
      "__________________________________________________________________________________________________\n",
      "unet_up5_concat (Concatenate)   (None, 128, 128, 128 0           unet_up5_conv_before_concat_0_act\n",
      "                                                                 unet_down2_conv_1_activation[0][0\n",
      "__________________________________________________________________________________________________\n",
      "unet_up5_conv_after_concat_0 (C (None, 128, 128, 64) 73728       unet_up5_concat[0][0]            \n",
      "__________________________________________________________________________________________________\n",
      "unet_up5_conv_after_concat_0_bn (None, 128, 128, 64) 256         unet_up5_conv_after_concat_0[0][0\n",
      "__________________________________________________________________________________________________\n",
      "unet_up5_conv_after_concat_0_ac (None, 128, 128, 64) 0           unet_up5_conv_after_concat_0_bn[0\n",
      "__________________________________________________________________________________________________\n",
      "unet_up5_conv_after_concat_1 (C (None, 128, 128, 64) 36864       unet_up5_conv_after_concat_0_acti\n",
      "__________________________________________________________________________________________________\n",
      "unet_up5_conv_after_concat_1_bn (None, 128, 128, 64) 256         unet_up5_conv_after_concat_1[0][0\n",
      "__________________________________________________________________________________________________\n",
      "unet_up5_conv_after_concat_1_ac (None, 128, 128, 64) 0           unet_up5_conv_after_concat_1_bn[0\n",
      "__________________________________________________________________________________________________\n",
      "unet_up6_decode_unpool (UpSampl (None, 256, 256, 64) 0           unet_up5_conv_after_concat_1_acti\n",
      "__________________________________________________________________________________________________\n",
      "unet_up6_conv_before_concat_0 ( (None, 256, 256, 32) 18432       unet_up6_decode_unpool[0][0]     \n",
      "__________________________________________________________________________________________________\n",
      "unet_up6_conv_before_concat_0_b (None, 256, 256, 32) 128         unet_up6_conv_before_concat_0[0][\n",
      "__________________________________________________________________________________________________\n",
      "unet_up6_conv_before_concat_0_a (None, 256, 256, 32) 0           unet_up6_conv_before_concat_0_bn[\n",
      "__________________________________________________________________________________________________\n",
      "unet_up6_concat (Concatenate)   (None, 256, 256, 64) 0           unet_up6_conv_before_concat_0_act\n",
      "                                                                 unet_down1_conv_1_activation[0][0\n",
      "__________________________________________________________________________________________________\n",
      "unet_up6_conv_after_concat_0 (C (None, 256, 256, 32) 18432       unet_up6_concat[0][0]            \n",
      "__________________________________________________________________________________________________\n",
      "unet_up6_conv_after_concat_0_bn (None, 256, 256, 32) 128         unet_up6_conv_after_concat_0[0][0\n",
      "__________________________________________________________________________________________________\n",
      "unet_up6_conv_after_concat_0_ac (None, 256, 256, 32) 0           unet_up6_conv_after_concat_0_bn[0\n",
      "__________________________________________________________________________________________________\n",
      "unet_up6_conv_after_concat_1 (C (None, 256, 256, 32) 9216        unet_up6_conv_after_concat_0_acti\n",
      "__________________________________________________________________________________________________\n",
      "unet_up6_conv_after_concat_1_bn (None, 256, 256, 32) 128         unet_up6_conv_after_concat_1[0][0\n",
      "__________________________________________________________________________________________________\n",
      "unet_up6_conv_after_concat_1_ac (None, 256, 256, 32) 0           unet_up6_conv_after_concat_1_bn[0\n",
      "__________________________________________________________________________________________________\n",
      "unet_up7_decode_unpool (UpSampl (None, 512, 512, 32) 0           unet_up6_conv_after_concat_1_acti\n",
      "__________________________________________________________________________________________________\n",
      "unet_up7_conv_before_concat_0 ( (None, 512, 512, 16) 4608        unet_up7_decode_unpool[0][0]     \n",
      "__________________________________________________________________________________________________\n",
      "unet_up7_conv_before_concat_0_b (None, 512, 512, 16) 64          unet_up7_conv_before_concat_0[0][\n",
      "__________________________________________________________________________________________________\n",
      "unet_up7_conv_before_concat_0_a (None, 512, 512, 16) 0           unet_up7_conv_before_concat_0_bn[\n",
      "__________________________________________________________________________________________________\n",
      "unet_up7_concat (Concatenate)   (None, 512, 512, 32) 0           unet_up7_conv_before_concat_0_act\n",
      "                                                                 unet_down0_1_activation[0][0]    \n",
      "__________________________________________________________________________________________________\n",
      "unet_up7_conv_after_concat_0 (C (None, 512, 512, 16) 4608        unet_up7_concat[0][0]            \n",
      "__________________________________________________________________________________________________\n",
      "unet_up7_conv_after_concat_0_bn (None, 512, 512, 16) 64          unet_up7_conv_after_concat_0[0][0\n",
      "__________________________________________________________________________________________________\n",
      "unet_up7_conv_after_concat_0_ac (None, 512, 512, 16) 0           unet_up7_conv_after_concat_0_bn[0\n",
      "__________________________________________________________________________________________________\n",
      "unet_up7_conv_after_concat_1 (C (None, 512, 512, 16) 2304        unet_up7_conv_after_concat_0_acti\n",
      "__________________________________________________________________________________________________\n",
      "unet_up7_conv_after_concat_1_bn (None, 512, 512, 16) 64          unet_up7_conv_after_concat_1[0][0\n",
      "__________________________________________________________________________________________________\n",
      "unet_up7_conv_after_concat_1_ac (None, 512, 512, 16) 0           unet_up7_conv_after_concat_1_bn[0\n",
      "__________________________________________________________________________________________________\n",
      "unet_output (Conv2D)            (None, 512, 512, 1)  17          unet_up7_conv_after_concat_1_acti\n",
      "__________________________________________________________________________________________________\n",
      "unet_output_activation (Activat (None, 512, 512, 1)  0           unet_output[0][0]                \n",
      "==================================================================================================\n",
      "Total params: 553,756,513\n",
      "Trainable params: 553,699,329\n",
      "Non-trainable params: 57,184\n",
      "__________________________________________________________________________________________________\n"
     ]
    }
   ],
   "source": [
    "R = Runner(verbose=True, classifier='kunet2d')"
   ]
  },
  {
   "cell_type": "code",
   "execution_count": 5,
   "id": "87b0c65d",
   "metadata": {},
   "outputs": [],
   "source": [
    "# load our larger toy dataset (10k images and masks)\n",
    "images = np.load('/hpcstor6/scratch01/r/ryan.zurrin001/GP2TOYEXAMPLE_LARGE/images.npy')\n",
    "masks = np.load('/hpcstor6/scratch01/r/ryan.zurrin001/GP2TOYEXAMPLE_LARGE/masks.npy')"
   ]
  },
  {
   "cell_type": "code",
   "execution_count": 6,
   "id": "7330ad24",
   "metadata": {},
   "outputs": [],
   "source": [
    "images = images[:5000]\n",
    "masks = masks[:5000]"
   ]
  },
  {
   "cell_type": "code",
   "execution_count": 7,
   "id": "d5b4179a",
   "metadata": {},
   "outputs": [
    {
     "data": {
      "text/plain": [
       "(5000, 512, 512, 1)"
      ]
     },
     "execution_count": 7,
     "metadata": {},
     "output_type": "execute_result"
    }
   ],
   "source": [
    "images.shape"
   ]
  },
  {
   "cell_type": "code",
   "execution_count": 8,
   "id": "57033c4e",
   "metadata": {},
   "outputs": [
    {
     "data": {
      "text/plain": [
       "(5000, 512, 512, 1)"
      ]
     },
     "execution_count": 8,
     "metadata": {},
     "output_type": "execute_result"
    }
   ],
   "source": [
    "masks.shape"
   ]
  },
  {
   "cell_type": "code",
   "execution_count": 9,
   "id": "393c7029",
   "metadata": {},
   "outputs": [
    {
     "name": "stdout",
     "output_type": "stream",
     "text": [
      "255\n"
     ]
    }
   ],
   "source": [
    "print(images.max())"
   ]
  },
  {
   "cell_type": "code",
   "execution_count": 10,
   "id": "97eca1aa",
   "metadata": {},
   "outputs": [
    {
     "name": "stdout",
     "output_type": "stream",
     "text": [
      "0\n"
     ]
    }
   ],
   "source": [
    "print(images.min())"
   ]
  },
  {
   "cell_type": "code",
   "execution_count": 11,
   "id": "2821eb86",
   "metadata": {},
   "outputs": [
    {
     "name": "stdout",
     "output_type": "stream",
     "text": [
      "True\n"
     ]
    }
   ],
   "source": [
    "print(masks.max())"
   ]
  },
  {
   "cell_type": "code",
   "execution_count": 12,
   "id": "1dd71668",
   "metadata": {},
   "outputs": [],
   "source": [
    "weights = {\n",
    "    'A': 0.5,\n",
    "    'A_train': 0.1,\n",
    "    'A_val': 0.3,\n",
    "    'A_test': 0.6,\n",
    "    'B': 0.3,\n",
    "    'B_train': 0.7,\n",
    "    'B_val': 0.1,\n",
    "    'B_test': 0.2,\n",
    "    'Z': 0.2\n",
    "}\n",
    "PERCENT_TO_REPLACE = 30"
   ]
  },
  {
   "cell_type": "code",
   "execution_count": 13,
   "id": "2a5d1030",
   "metadata": {},
   "outputs": [
    {
     "name": "stdout",
     "output_type": "stream",
     "text": [
      "Weights OK!\n"
     ]
    }
   ],
   "source": [
    "R.setup_data(images, masks, dataset_size=5000, weights=weights)"
   ]
  },
  {
   "cell_type": "code",
   "execution_count": 14,
   "id": "99127251",
   "metadata": {},
   "outputs": [],
   "source": [
    "RUNS = 10"
   ]
  },
  {
   "cell_type": "code",
   "execution_count": null,
   "id": "d8ff85c4",
   "metadata": {
    "scrolled": true
   },
   "outputs": [
    {
     "name": "stdout",
     "output_type": "stream",
     "text": [
      "***\n",
      "RUN: 0\n"
     ]
    },
    {
     "name": "stderr",
     "output_type": "stream",
     "text": [
      "2023-04-22 10:03:58.274514: I tensorflow/compiler/mlir/mlir_graph_optimization_pass.cc:176] None of the MLIR Optimization Passes are enabled (registered 2)\n",
      "2023-04-22 10:03:58.294991: I tensorflow/core/platform/profile_utils/cpu_utils.cc:114] CPU Frequency: 2245755000 Hz\n"
     ]
    },
    {
     "name": "stdout",
     "output_type": "stream",
     "text": [
      "Epoch 1/100\n"
     ]
    },
    {
     "name": "stderr",
     "output_type": "stream",
     "text": [
      "2023-04-22 10:04:02.243231: I tensorflow/stream_executor/platform/default/dso_loader.cc:53] Successfully opened dynamic library libcudnn.so.8\n",
      "2023-04-22 10:04:02.951168: I tensorflow/stream_executor/cuda/cuda_dnn.cc:359] Loaded cuDNN version 8201\n",
      "2023-04-22 10:04:03.599268: W tensorflow/stream_executor/gpu/asm_compiler.cc:191] Falling back to the CUDA driver for PTX compilation; ptxas does not support CC 8.0\n",
      "2023-04-22 10:04:03.599296: W tensorflow/stream_executor/gpu/asm_compiler.cc:194] Used ptxas at ptxas\n",
      "2023-04-22 10:04:03.599354: W tensorflow/stream_executor/gpu/redzone_allocator.cc:314] Unimplemented: ptxas ptxas too old. Falling back to the driver to compile.\n",
      "Relying on driver to perform ptx compilation. \n",
      "Modify $PATH to customize ptxas location.\n",
      "This message will be only logged once.\n",
      "2023-04-22 10:04:03.607153: I tensorflow/stream_executor/platform/default/dso_loader.cc:53] Successfully opened dynamic library libcublas.so.11\n",
      "2023-04-22 10:04:04.351098: I tensorflow/stream_executor/platform/default/dso_loader.cc:53] Successfully opened dynamic library libcublasLt.so.11\n"
     ]
    },
    {
     "name": "stdout",
     "output_type": "stream",
     "text": [
      "250/250 [==============================] - 35s 109ms/step - loss: 0.1576 - dice_coef: 0.5912 - val_loss: 0.1974 - val_dice_coef: 0.6708\n"
     ]
    },
    {
     "name": "stderr",
     "output_type": "stream",
     "text": [
      "2023-04-22 10:04:38.125378: W tensorflow/python/util/util.cc:348] Sets are not currently considered sequences, but this may change in the future, so consider avoiding using them.\n"
     ]
    },
    {
     "name": "stdout",
     "output_type": "stream",
     "text": [
      "Epoch 2/100\n",
      "250/250 [==============================] - 26s 103ms/step - loss: 0.0587 - dice_coef: 0.7970 - val_loss: 4.9335 - val_dice_coef: 0.6045\n",
      "Epoch 3/100\n",
      "250/250 [==============================] - ETA: 0s - loss: 0.0583 - dice_coef: 0.8161"
     ]
    }
   ],
   "source": [
    "for run in range(RUNS):\n",
    "    print('***')\n",
    "    print('RUN:', run)\n",
    "    t0 = time.time()\n",
    "    R.run_classifier(patience_counter=4)\n",
    "    R.run_discriminator()\n",
    "    l = R.find_machine_labels()\n",
    "    if l == 0:\n",
    "        print('No more machine labels.')\n",
    "        print('TOOK', time.time()-t0, 'seconds')\n",
    "        break\n",
    "    R.relabel(percent_to_replace=PERCENT_TO_REPLACE)\n",
    "    print('TOOK', time.time()-t0, 'seconds')\n",
    "    "
   ]
  },
  {
   "cell_type": "code",
   "execution_count": null,
   "id": "dab6fd49",
   "metadata": {},
   "outputs": [],
   "source": []
  },
  {
   "cell_type": "code",
   "execution_count": null,
   "id": "00075332",
   "metadata": {
    "scrolled": true
   },
   "outputs": [],
   "source": [
    "R.classifier_scores"
   ]
  },
  {
   "cell_type": "code",
   "execution_count": null,
   "id": "35105656",
   "metadata": {},
   "outputs": [],
   "source": [
    "R.discriminator_scores"
   ]
  },
  {
   "cell_type": "code",
   "execution_count": null,
   "id": "d640483d",
   "metadata": {},
   "outputs": [],
   "source": [
    "R.plot()"
   ]
  },
  {
   "cell_type": "code",
   "execution_count": null,
   "id": "9f37c32a",
   "metadata": {},
   "outputs": [],
   "source": []
  },
  {
   "cell_type": "code",
   "execution_count": 18,
   "id": "e256ed4d",
   "metadata": {},
   "outputs": [
    {
     "data": {
      "image/png": "[encoded data removed]",
      "text/plain": [
       "<Figure size 240x240 with 1 Axes>"
      ]
     },
     "metadata": {
      "needs_background": "light"
     },
     "output_type": "display_data"
    }
   ],
   "source": [
    "R.plot()"
   ]
  },
  {
   "cell_type": "code",
   "execution_count": null,
   "id": "84505f2d",
   "metadata": {},
   "outputs": [],
   "source": []
  },
  {
   "cell_type": "code",
   "execution_count": null,
   "id": "7dca2275",
   "metadata": {},
   "outputs": [],
   "source": []
  },
  {
   "cell_type": "code",
   "execution_count": 18,
   "id": "b1ec788d",
   "metadata": {},
   "outputs": [
    {
     "data": {
      "image/png": "[encoded data removed]",
      "text/plain": [
       "<Figure size 240x240 with 1 Axes>"
      ]
     },
     "metadata": {
      "needs_background": "light"
     },
     "output_type": "display_data"
    }
   ],
   "source": [
    "R.plot()"
   ]
  },
  {
   "cell_type": "code",
   "execution_count": null,
   "id": "0553618c",
   "metadata": {},
   "outputs": [],
   "source": []
  },
  {
   "cell_type": "code",
   "execution_count": 17,
   "id": "0a721a90",
   "metadata": {},
   "outputs": [
    {
     "data": {
      "image/png": "[encoded data removed]",
      "text/plain": [
       "<Figure size 240x240 with 1 Axes>"
      ]
     },
     "metadata": {
      "needs_background": "light"
     },
     "output_type": "display_data"
    }
   ],
   "source": [
    "R.plot()"
   ]
  },
  {
   "cell_type": "code",
   "execution_count": null,
   "id": "551de181",
   "metadata": {},
   "outputs": [],
   "source": []
  }
 ],
 "metadata": {
  "kernelspec": {
   "display_name": "Python 3 (ipykernel)",
   "language": "python",
   "name": "python3"
  },
  "language_info": {
   "codemirror_mode": {
    "name": "ipython",
    "version": 3
   },
   "file_extension": ".py",
   "mimetype": "text/x-python",
   "name": "python",
   "nbconvert_exporter": "python",
   "pygments_lexer": "ipython3",
   "version": "3.9.7"
  }
 },
 "nbformat": 4,
 "nbformat_minor": 5
}
