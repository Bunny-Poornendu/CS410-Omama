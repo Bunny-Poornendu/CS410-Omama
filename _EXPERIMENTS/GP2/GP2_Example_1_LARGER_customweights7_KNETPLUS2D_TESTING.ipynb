{
 "cells": [
  {
   "cell_type": "code",
   "execution_count": 1,
   "id": "06c4accc",
   "metadata": {},
   "outputs": [
    {
     "name": "stdout",
     "output_type": "stream",
     "text": [
      "Populating the interactive namespace from numpy and matplotlib\n"
     ]
    }
   ],
   "source": [
    "%pylab inline\n",
    "%load_ext autoreload\n",
    "%autoreload 2"
   ]
  },
  {
   "cell_type": "code",
   "execution_count": 2,
   "id": "861fc4c8",
   "metadata": {},
   "outputs": [
    {
     "name": "stderr",
     "output_type": "stream",
     "text": [
      "2023-04-20 19:35:39.730205: I tensorflow/stream_executor/platform/default/dso_loader.cc:53] Successfully opened dynamic library libcudart.so.11.0\n"
     ]
    }
   ],
   "source": [
    "import numpy as np\n",
    "from glob import glob\n",
    "from tensorflow import keras\n",
    "from tensorflow.keras.layers import Input, Conv2D, Dropout, Activation, UpSampling2D, GlobalMaxPooling2D, multiply\n",
    "from tensorflow.keras.backend import max\n",
    "from keras_unet_collection import models, base, utils"
   ]
  },
  {
   "cell_type": "code",
   "execution_count": 3,
   "id": "b9e78ed8",
   "metadata": {},
   "outputs": [
    {
     "name": "stderr",
     "output_type": "stream",
     "text": [
      "2023-04-20 19:35:43.352833: I tensorflow/stream_executor/platform/default/dso_loader.cc:53] Successfully opened dynamic library libcuda.so.1\n",
      "2023-04-20 19:35:43.537650: I tensorflow/core/common_runtime/gpu/gpu_device.cc:1733] Found device 0 with properties: \n",
      "pciBusID: 0000:0f:00.0 name: A100-SXM4-40GB computeCapability: 8.0\n",
      "coreClock: 1.41GHz coreCount: 108 deviceMemorySize: 39.59GiB deviceMemoryBandwidth: 1.41TiB/s\n",
      "2023-04-20 19:35:43.537714: I tensorflow/stream_executor/platform/default/dso_loader.cc:53] Successfully opened dynamic library libcudart.so.11.0\n",
      "2023-04-20 19:35:43.582273: I tensorflow/stream_executor/platform/default/dso_loader.cc:53] Successfully opened dynamic library libcublas.so.11\n",
      "2023-04-20 19:35:43.582317: I tensorflow/stream_executor/platform/default/dso_loader.cc:53] Successfully opened dynamic library libcublasLt.so.11\n",
      "2023-04-20 19:35:43.602615: I tensorflow/stream_executor/platform/default/dso_loader.cc:53] Successfully opened dynamic library libcufft.so.10\n",
      "2023-04-20 19:35:43.607863: I tensorflow/stream_executor/platform/default/dso_loader.cc:53] Successfully opened dynamic library libcurand.so.10\n",
      "2023-04-20 19:35:43.613716: I tensorflow/stream_executor/platform/default/dso_loader.cc:53] Successfully opened dynamic library libcusolver.so.11\n",
      "2023-04-20 19:35:43.624663: I tensorflow/stream_executor/platform/default/dso_loader.cc:53] Successfully opened dynamic library libcusparse.so.11\n",
      "2023-04-20 19:35:43.627483: I tensorflow/stream_executor/platform/default/dso_loader.cc:53] Successfully opened dynamic library libcudnn.so.8\n",
      "2023-04-20 19:35:43.633846: I tensorflow/core/common_runtime/gpu/gpu_device.cc:1871] Adding visible gpu devices: 0\n"
     ]
    }
   ],
   "source": [
    "import time\n",
    "import sys\n",
    "sys.path.insert(0,'../..')\n",
    "from gp2 import Runner"
   ]
  },
  {
   "cell_type": "code",
   "execution_count": 4,
   "id": "bdc75325",
   "metadata": {},
   "outputs": [
    {
     "name": "stdout",
     "output_type": "stream",
     "text": [
      "*** GP2 ***\n",
      "Working directory: /tmp/tmp85uxrbokGP2\n",
      "Verbose mode active!\n"
     ]
    },
    {
     "name": "stderr",
     "output_type": "stream",
     "text": [
      "/home/ryan.zurrin001/miniconda3/envs/O/lib/python3.9/site-packages/tensorflow/python/keras/optimizer_v2/optimizer_v2.py:374: UserWarning: The `lr` argument is deprecated, use `learning_rate` instead.\n",
      "  warnings.warn(\n"
     ]
    },
    {
     "name": "stdout",
     "output_type": "stream",
     "text": [
      "Model: \"unet_model\"\n",
      "_________________________________________________________________\n",
      "Layer (type)                 Output Shape              Param #   \n",
      "=================================================================\n",
      "input_1 (InputLayer)         [(None, 512, 512, 1)]     0         \n",
      "_________________________________________________________________\n",
      "unet_down0_0 (Conv2D)        (None, 512, 512, 32)      288       \n",
      "_________________________________________________________________\n",
      "unet_down0_0_bn (BatchNormal (None, 512, 512, 32)      128       \n",
      "_________________________________________________________________\n",
      "unet_down0_0_activation (ReL (None, 512, 512, 32)      0         \n",
      "_________________________________________________________________\n",
      "unet_down0_1 (Conv2D)        (None, 512, 512, 32)      9216      \n",
      "_________________________________________________________________\n",
      "unet_down0_1_bn (BatchNormal (None, 512, 512, 32)      128       \n",
      "_________________________________________________________________\n",
      "unet_down0_1_activation (ReL (None, 512, 512, 32)      0         \n",
      "_________________________________________________________________\n",
      "unet_down1_encode_stride_con (None, 256, 256, 64)      8192      \n",
      "_________________________________________________________________\n",
      "unet_down1_encode_bn (BatchN (None, 256, 256, 64)      256       \n",
      "_________________________________________________________________\n",
      "unet_down1_encode_activation (None, 256, 256, 64)      0         \n",
      "_________________________________________________________________\n",
      "unet_down1_conv_0 (Conv2D)   (None, 256, 256, 64)      36864     \n",
      "_________________________________________________________________\n",
      "unet_down1_conv_0_bn (BatchN (None, 256, 256, 64)      256       \n",
      "_________________________________________________________________\n",
      "unet_down1_conv_0_activation (None, 256, 256, 64)      0         \n",
      "_________________________________________________________________\n",
      "unet_down1_conv_1 (Conv2D)   (None, 256, 256, 64)      36864     \n",
      "_________________________________________________________________\n",
      "unet_down1_conv_1_bn (BatchN (None, 256, 256, 64)      256       \n",
      "_________________________________________________________________\n",
      "unet_down1_conv_1_activation (None, 256, 256, 64)      0         \n",
      "_________________________________________________________________\n",
      "unet_down2_encode_stride_con (None, 128, 128, 128)     32768     \n",
      "_________________________________________________________________\n",
      "unet_down2_encode_bn (BatchN (None, 128, 128, 128)     512       \n",
      "_________________________________________________________________\n",
      "unet_down2_encode_activation (None, 128, 128, 128)     0         \n",
      "_________________________________________________________________\n",
      "unet_down2_conv_0 (Conv2D)   (None, 128, 128, 128)     147456    \n",
      "_________________________________________________________________\n",
      "unet_down2_conv_0_bn (BatchN (None, 128, 128, 128)     512       \n",
      "_________________________________________________________________\n",
      "unet_down2_conv_0_activation (None, 128, 128, 128)     0         \n",
      "_________________________________________________________________\n",
      "unet_down2_conv_1 (Conv2D)   (None, 128, 128, 128)     147456    \n",
      "_________________________________________________________________\n",
      "unet_down2_conv_1_bn (BatchN (None, 128, 128, 128)     512       \n",
      "_________________________________________________________________\n",
      "unet_down2_conv_1_activation (None, 128, 128, 128)     0         \n",
      "_________________________________________________________________\n",
      "unet_down3_encode_stride_con (None, 64, 64, 256)       131072    \n",
      "_________________________________________________________________\n",
      "unet_down3_encode_bn (BatchN (None, 64, 64, 256)       1024      \n",
      "_________________________________________________________________\n",
      "unet_down3_encode_activation (None, 64, 64, 256)       0         \n",
      "_________________________________________________________________\n",
      "unet_down3_conv_0 (Conv2D)   (None, 64, 64, 256)       589824    \n",
      "_________________________________________________________________\n",
      "unet_down3_conv_0_bn (BatchN (None, 64, 64, 256)       1024      \n",
      "_________________________________________________________________\n",
      "unet_down3_conv_0_activation (None, 64, 64, 256)       0         \n",
      "_________________________________________________________________\n",
      "unet_down3_conv_1 (Conv2D)   (None, 64, 64, 256)       589824    \n",
      "_________________________________________________________________\n",
      "unet_down3_conv_1_bn (BatchN (None, 64, 64, 256)       1024      \n",
      "_________________________________________________________________\n",
      "unet_down3_conv_1_activation (None, 64, 64, 256)       0         \n",
      "_________________________________________________________________\n",
      "unet_down4_encode_stride_con (None, 32, 32, 512)       524288    \n",
      "_________________________________________________________________\n",
      "unet_down4_encode_bn (BatchN (None, 32, 32, 512)       2048      \n",
      "_________________________________________________________________\n",
      "unet_down4_encode_activation (None, 32, 32, 512)       0         \n",
      "_________________________________________________________________\n",
      "unet_down4_conv_0 (Conv2D)   (None, 32, 32, 512)       2359296   \n",
      "_________________________________________________________________\n",
      "unet_down4_conv_0_bn (BatchN (None, 32, 32, 512)       2048      \n",
      "_________________________________________________________________\n",
      "unet_down4_conv_0_activation (None, 32, 32, 512)       0         \n",
      "_________________________________________________________________\n",
      "unet_down4_conv_1 (Conv2D)   (None, 32, 32, 512)       2359296   \n",
      "_________________________________________________________________\n",
      "unet_down4_conv_1_bn (BatchN (None, 32, 32, 512)       2048      \n",
      "_________________________________________________________________\n",
      "unet_down4_conv_1_activation (None, 32, 32, 512)       0         \n",
      "_________________________________________________________________\n",
      "unet_up0_from3_decode_trans_ (None, 64, 64, 256)       1179904   \n",
      "_________________________________________________________________\n",
      "unet_up0_from3_decode_bn (Ba (None, 64, 64, 256)       1024      \n",
      "_________________________________________________________________\n",
      "unet_up0_from3_decode_activa (None, 64, 64, 256)       0         \n",
      "_________________________________________________________________\n",
      "unet_up0_from3_conv_before_c (None, 64, 64, 256)       589824    \n",
      "_________________________________________________________________\n",
      "unet_up0_from3_conv_before_c (None, 64, 64, 256)       1024      \n",
      "_________________________________________________________________\n",
      "unet_up0_from3_conv_before_c (None, 64, 64, 256)       0         \n",
      "_________________________________________________________________\n",
      "unet_up0_from3_conv_after_co (None, 64, 64, 256)       589824    \n",
      "_________________________________________________________________\n",
      "unet_up0_from3_conv_after_co (None, 64, 64, 256)       1024      \n",
      "_________________________________________________________________\n",
      "unet_up0_from3_conv_after_co (None, 64, 64, 256)       0         \n",
      "_________________________________________________________________\n",
      "unet_up0_from3_conv_after_co (None, 64, 64, 256)       589824    \n",
      "_________________________________________________________________\n",
      "unet_up0_from3_conv_after_co (None, 64, 64, 256)       1024      \n",
      "_________________________________________________________________\n",
      "unet_up0_from3_conv_after_co (None, 64, 64, 256)       0         \n",
      "_________________________________________________________________\n",
      "unet_up1_from2_decode_trans_ (None, 128, 128, 128)     295040    \n",
      "_________________________________________________________________\n",
      "unet_up1_from2_decode_bn (Ba (None, 128, 128, 128)     512       \n",
      "_________________________________________________________________\n",
      "unet_up1_from2_decode_activa (None, 128, 128, 128)     0         \n",
      "_________________________________________________________________\n",
      "unet_up1_from2_conv_before_c (None, 128, 128, 128)     147456    \n",
      "_________________________________________________________________\n",
      "unet_up1_from2_conv_before_c (None, 128, 128, 128)     512       \n",
      "_________________________________________________________________\n",
      "unet_up1_from2_conv_before_c (None, 128, 128, 128)     0         \n",
      "_________________________________________________________________\n",
      "unet_up1_from2_conv_after_co (None, 128, 128, 128)     147456    \n",
      "_________________________________________________________________\n",
      "unet_up1_from2_conv_after_co (None, 128, 128, 128)     512       \n",
      "_________________________________________________________________\n",
      "unet_up1_from2_conv_after_co (None, 128, 128, 128)     0         \n",
      "_________________________________________________________________\n",
      "unet_up1_from2_conv_after_co (None, 128, 128, 128)     147456    \n",
      "_________________________________________________________________\n",
      "unet_up1_from2_conv_after_co (None, 128, 128, 128)     512       \n",
      "_________________________________________________________________\n",
      "unet_up1_from2_conv_after_co (None, 128, 128, 128)     0         \n",
      "_________________________________________________________________\n",
      "unet_up2_from1_decode_trans_ (None, 256, 256, 64)      73792     \n",
      "_________________________________________________________________\n",
      "unet_up2_from1_decode_bn (Ba (None, 256, 256, 64)      256       \n",
      "_________________________________________________________________\n",
      "unet_up2_from1_decode_activa (None, 256, 256, 64)      0         \n",
      "_________________________________________________________________\n",
      "unet_up2_from1_conv_before_c (None, 256, 256, 64)      36864     \n",
      "_________________________________________________________________\n",
      "unet_up2_from1_conv_before_c (None, 256, 256, 64)      256       \n",
      "_________________________________________________________________\n",
      "unet_up2_from1_conv_before_c (None, 256, 256, 64)      0         \n",
      "_________________________________________________________________\n",
      "unet_up2_from1_conv_after_co (None, 256, 256, 64)      36864     \n",
      "_________________________________________________________________\n",
      "unet_up2_from1_conv_after_co (None, 256, 256, 64)      256       \n",
      "_________________________________________________________________\n",
      "unet_up2_from1_conv_after_co (None, 256, 256, 64)      0         \n",
      "_________________________________________________________________\n",
      "unet_up2_from1_conv_after_co (None, 256, 256, 64)      36864     \n",
      "_________________________________________________________________\n",
      "unet_up2_from1_conv_after_co (None, 256, 256, 64)      256       \n",
      "_________________________________________________________________\n",
      "unet_up2_from1_conv_after_co (None, 256, 256, 64)      0         \n",
      "_________________________________________________________________\n",
      "unet_up3_from0_decode_trans_ (None, 512, 512, 32)      18464     \n",
      "_________________________________________________________________\n",
      "unet_up3_from0_decode_bn (Ba (None, 512, 512, 32)      128       \n",
      "_________________________________________________________________\n",
      "unet_up3_from0_decode_activa (None, 512, 512, 32)      0         \n",
      "_________________________________________________________________\n",
      "unet_up3_from0_conv_before_c (None, 512, 512, 32)      9216      \n",
      "_________________________________________________________________\n",
      "unet_up3_from0_conv_before_c (None, 512, 512, 32)      128       \n",
      "_________________________________________________________________\n",
      "unet_up3_from0_conv_before_c (None, 512, 512, 32)      0         \n",
      "_________________________________________________________________\n",
      "unet_up3_from0_conv_after_co (None, 512, 512, 32)      9216      \n",
      "_________________________________________________________________\n",
      "unet_up3_from0_conv_after_co (None, 512, 512, 32)      128       \n",
      "_________________________________________________________________\n",
      "unet_up3_from0_conv_after_co (None, 512, 512, 32)      0         \n",
      "_________________________________________________________________\n",
      "unet_up3_from0_conv_after_co (None, 512, 512, 32)      9216      \n",
      "_________________________________________________________________\n",
      "unet_up3_from0_conv_after_co (None, 512, 512, 32)      128       \n",
      "_________________________________________________________________\n",
      "unet_up3_from0_conv_after_co (None, 512, 512, 32)      0         \n",
      "_________________________________________________________________\n",
      "unet_output (Conv2D)         (None, 512, 512, 1)       33        \n",
      "_________________________________________________________________\n",
      "unet_output_activation (Acti (None, 512, 512, 1)       0         \n",
      "=================================================================\n",
      "Total params: 10,909,473\n",
      "Trainable params: 10,899,745\n",
      "Non-trainable params: 9,728\n",
      "_________________________________________________________________\n"
     ]
    },
    {
     "name": "stderr",
     "output_type": "stream",
     "text": [
      "2023-04-20 19:35:52.438699: I tensorflow/core/platform/cpu_feature_guard.cc:142] This TensorFlow binary is optimized with oneAPI Deep Neural Network Library (oneDNN) to use the following CPU instructions in performance-critical operations:  AVX2 FMA\n",
      "To enable them in other operations, rebuild TensorFlow with the appropriate compiler flags.\n",
      "2023-04-20 19:35:52.443065: I tensorflow/core/common_runtime/gpu/gpu_device.cc:1733] Found device 0 with properties: \n",
      "pciBusID: 0000:0f:00.0 name: A100-SXM4-40GB computeCapability: 8.0\n",
      "coreClock: 1.41GHz coreCount: 108 deviceMemorySize: 39.59GiB deviceMemoryBandwidth: 1.41TiB/s\n",
      "2023-04-20 19:35:52.451324: I tensorflow/core/common_runtime/gpu/gpu_device.cc:1871] Adding visible gpu devices: 0\n",
      "2023-04-20 19:35:52.452183: I tensorflow/stream_executor/platform/default/dso_loader.cc:53] Successfully opened dynamic library libcudart.so.11.0\n",
      "2023-04-20 19:35:53.717338: I tensorflow/core/common_runtime/gpu/gpu_device.cc:1258] Device interconnect StreamExecutor with strength 1 edge matrix:\n",
      "2023-04-20 19:35:53.717387: I tensorflow/core/common_runtime/gpu/gpu_device.cc:1264]      0 \n",
      "2023-04-20 19:35:53.717393: I tensorflow/core/common_runtime/gpu/gpu_device.cc:1277] 0:   N \n",
      "2023-04-20 19:35:53.725133: I tensorflow/core/common_runtime/gpu/gpu_device.cc:1418] Created TensorFlow device (/job:localhost/replica:0/task:0/device:GPU:0 with 38425 MB memory) -> physical GPU (device: 0, name: A100-SXM4-40GB, pci bus id: 0000:0f:00.0, compute capability: 8.0)\n"
     ]
    }
   ],
   "source": [
    "R = Runner(verbose=True, classifier='kunetplus2d')"
   ]
  },
  {
   "cell_type": "code",
   "execution_count": 5,
   "id": "87b0c65d",
   "metadata": {},
   "outputs": [],
   "source": [
    "# load our larger toy dataset (10k images and masks)\n",
    "images = np.load('/hpcstor6/scratch01/r/ryan.zurrin001/GP2TOYEXAMPLE_LARGE/images.npy')\n",
    "masks = np.load('/hpcstor6/scratch01/r/ryan.zurrin001/GP2TOYEXAMPLE_LARGE/masks.npy')"
   ]
  },
  {
   "cell_type": "code",
   "execution_count": null,
   "id": "7330ad24",
   "metadata": {},
   "outputs": [],
   "source": []
  },
  {
   "cell_type": "code",
   "execution_count": 6,
   "id": "d5b4179a",
   "metadata": {},
   "outputs": [
    {
     "data": {
      "text/plain": [
       "(10000, 512, 512, 1)"
      ]
     },
     "execution_count": 6,
     "metadata": {},
     "output_type": "execute_result"
    }
   ],
   "source": [
    "images.shape"
   ]
  },
  {
   "cell_type": "code",
   "execution_count": 7,
   "id": "57033c4e",
   "metadata": {},
   "outputs": [
    {
     "data": {
      "text/plain": [
       "(10000, 512, 512, 1)"
      ]
     },
     "execution_count": 7,
     "metadata": {},
     "output_type": "execute_result"
    }
   ],
   "source": [
    "masks.shape"
   ]
  },
  {
   "cell_type": "code",
   "execution_count": 8,
   "id": "393c7029",
   "metadata": {},
   "outputs": [
    {
     "name": "stdout",
     "output_type": "stream",
     "text": [
      "255\n"
     ]
    }
   ],
   "source": [
    "print(images.max())"
   ]
  },
  {
   "cell_type": "code",
   "execution_count": 9,
   "id": "97eca1aa",
   "metadata": {},
   "outputs": [
    {
     "name": "stdout",
     "output_type": "stream",
     "text": [
      "0\n"
     ]
    }
   ],
   "source": [
    "print(images.min())"
   ]
  },
  {
   "cell_type": "code",
   "execution_count": 10,
   "id": "2821eb86",
   "metadata": {},
   "outputs": [
    {
     "name": "stdout",
     "output_type": "stream",
     "text": [
      "True\n"
     ]
    }
   ],
   "source": [
    "print(masks.max())"
   ]
  },
  {
   "cell_type": "code",
   "execution_count": 11,
   "id": "1dd71668",
   "metadata": {},
   "outputs": [],
   "source": [
    "weights = {\n",
    "    'A': 0.5,\n",
    "    'A_train': 0.1,\n",
    "    'A_val': 0.3,\n",
    "    'A_test': 0.6,\n",
    "    'B': 0.3,\n",
    "    'B_train': 0.7,\n",
    "    'B_val': 0.1,\n",
    "    'B_test': 0.2,\n",
    "    'Z': 0.2\n",
    "}\n",
    "PERCENT_TO_REPLACE = 30"
   ]
  },
  {
   "cell_type": "code",
   "execution_count": 12,
   "id": "2a5d1030",
   "metadata": {},
   "outputs": [
    {
     "name": "stdout",
     "output_type": "stream",
     "text": [
      "Weights OK!\n"
     ]
    }
   ],
   "source": [
    "R.setup_data(images, masks, dataset_size=10000, weights=weights)"
   ]
  },
  {
   "cell_type": "code",
   "execution_count": 13,
   "id": "99127251",
   "metadata": {},
   "outputs": [],
   "source": [
    "RUNS = 5"
   ]
  },
  {
   "cell_type": "code",
   "execution_count": 14,
   "id": "d8ff85c4",
   "metadata": {
    "scrolled": true
   },
   "outputs": [
    {
     "name": "stdout",
     "output_type": "stream",
     "text": [
      "***\n",
      "RUN: 0\n"
     ]
    },
    {
     "name": "stderr",
     "output_type": "stream",
     "text": [
      "2023-04-20 19:37:59.249427: I tensorflow/compiler/mlir/mlir_graph_optimization_pass.cc:176] None of the MLIR Optimization Passes are enabled (registered 2)\n",
      "2023-04-20 19:37:59.271054: I tensorflow/core/platform/profile_utils/cpu_utils.cc:114] CPU Frequency: 2245755000 Hz\n"
     ]
    },
    {
     "name": "stdout",
     "output_type": "stream",
     "text": [
      "Epoch 1/100\n"
     ]
    },
    {
     "name": "stderr",
     "output_type": "stream",
     "text": [
      "2023-04-20 19:38:02.352630: I tensorflow/stream_executor/platform/default/dso_loader.cc:53] Successfully opened dynamic library libcudnn.so.8\n",
      "2023-04-20 19:38:03.489335: I tensorflow/stream_executor/cuda/cuda_dnn.cc:359] Loaded cuDNN version 8201\n",
      "2023-04-20 19:38:05.015815: W tensorflow/stream_executor/gpu/asm_compiler.cc:191] Falling back to the CUDA driver for PTX compilation; ptxas does not support CC 8.0\n",
      "2023-04-20 19:38:05.015841: W tensorflow/stream_executor/gpu/asm_compiler.cc:194] Used ptxas at ptxas\n",
      "2023-04-20 19:38:05.016547: W tensorflow/stream_executor/gpu/redzone_allocator.cc:314] Unimplemented: ptxas ptxas too old. Falling back to the driver to compile.\n",
      "Relying on driver to perform ptx compilation. \n",
      "Modify $PATH to customize ptxas location.\n",
      "This message will be only logged once.\n",
      "2023-04-20 19:38:05.037309: I tensorflow/stream_executor/platform/default/dso_loader.cc:53] Successfully opened dynamic library libcublas.so.11\n",
      "2023-04-20 19:38:06.378555: I tensorflow/stream_executor/platform/default/dso_loader.cc:53] Successfully opened dynamic library libcublasLt.so.11\n"
     ]
    },
    {
     "name": "stdout",
     "output_type": "stream",
     "text": [
      "8/8 [==============================] - 59s 4s/step - loss: 0.6460 - dice_coef: 0.1330 - val_loss: 0.6909 - val_dice_coef: 0.1629\n"
     ]
    },
    {
     "name": "stderr",
     "output_type": "stream",
     "text": [
      "2023-04-20 19:39:01.116708: W tensorflow/python/util/util.cc:348] Sets are not currently considered sequences, but this may change in the future, so consider avoiding using them.\n"
     ]
    },
    {
     "name": "stdout",
     "output_type": "stream",
     "text": [
      "Epoch 2/100\n",
      "8/8 [==============================] - 10s 1s/step - loss: 0.6457 - dice_coef: 0.1332 - val_loss: 0.6885 - val_dice_coef: 0.1628\n",
      "Epoch 3/100\n",
      "8/8 [==============================] - 10s 1s/step - loss: 0.6460 - dice_coef: 0.1331 - val_loss: 0.6864 - val_dice_coef: 0.1627\n",
      "Epoch 4/100\n",
      "8/8 [==============================] - 10s 1s/step - loss: 0.6459 - dice_coef: 0.1332 - val_loss: 0.6846 - val_dice_coef: 0.1627\n",
      "Model saved to: /tmp/tmp85uxrbokGP2/kunetplus2d_0kunetplus2d_model\n",
      "History saved to: /tmp/tmp85uxrbokGP2/kunetplus2d_history_0.pkl\n",
      "Testing the classifier...\n",
      "Model saved to /tmp/tmp85uxrbokGP2/cnnd_0.model\n",
      "History saved to /tmp/tmp85uxrbokGP2/cnnd_history_0.pickle\n",
      "Testing the discriminator...\n",
      "19/19 [==============================] - 0s 20ms/step - loss: 0.0000e+00 - accuracy: 1.0000\n",
      "Found 318 machine labels.\n",
      "Machine labels [  1   5   6   9  13  14  15  18  19  20  24  26  28  29  32  34  36  37\n",
      "  38  39  40  41  43  44  46  47  48  49  51  52  54  56  58  60  65  66\n",
      "  67  68  70  74  75  76  79  81  83  84  85  86  87  89  92  99 101 102\n",
      " 103 104 105 106 107 108 109 112 113 114 116 117 118 119 120 121 122 123\n",
      " 125 130 132 135 137 139 140 141 142 150 151 152 153 154 156 157 161 162\n",
      " 164 165 168 171 172 174 175 178 179 180 181 183 184 186 187 188 189 190\n",
      " 192 195 196 197 198 202 203 204 205 206 207 208 209 212 216 223 224 225\n",
      " 226 227 228 229 230 233 241 243 246 250 251 252 253 254 257 258 262 263\n",
      " 264 268 270 275 276 279 281 282 285 286 287 288 289 290 292 293 294 295\n",
      " 296 297 299 300 301 304 305 308 309 311 315 316 318 319 320 321 322 324\n",
      " 327 329 332 333 335 336 340 344 345 346 347 356 362 363 367 368 369 370\n",
      " 372 373 375 379 381 382 383 384 388 390 391 393 394 395 398 399 400 401\n",
      " 403 404 405 406 407 409 410 411 412 415 416 421 422 423 424 426 427 429\n",
      " 431 433 435 437 438 442 443 447 450 452 453 454 455 456 457 458 461 462\n",
      " 463 465 468 472 474 477 480 481 482 484 486 487 488 489 491 498 499 500\n",
      " 501 504 505 507 510 511 514 519 521 524 526 527 529 534 535 536 538 542\n",
      " 543 544 547 549 552 554 556 557 558 564 567 569 570 571 572 573 574 575\n",
      " 576 577 578 579 580 581 587 591 592 596 597 598]\n",
      "D_ids ['92fe907e-241d-44ad-bca3-99887b991264', 'bc8b31cf-6aae-4c66-a076-ac8bc2c3084d', '7cc0ae08-44b8-49f3-9073-7ef49eb39b2f', '70fa2ccd-6098-45b3-80f0-d9fa6cf8e58c', '090d532e-1814-42a1-9b7d-973e77c356df', '16fe440b-4668-4488-89a7-22889041abc5', 'aea7a3a5-cc35-4c85-b11c-cf9ebd6ead54', '09b3407f-1657-4353-90b6-f97092164fee', '92b502af-15d6-45f6-9317-2be3fc2c3c92', 'e5191834-aa5c-400b-b22b-2da4d8c4abe8', '91ea4252-3fa6-4539-8b80-d8a9c036253c', 'e515e76e-eef6-4db3-86b8-519c9b941247', '8e0d1ab4-5207-468b-bd01-6de6cd75c48b', '51367b34-bf3b-4914-9dcd-b84dd26a2d3f', '52db7f89-7da0-4752-b85c-76679603b61d', 'b57830c7-0971-41d8-8a8a-b09574009537', 'b0211835-1bbc-47b3-87fd-4a5ab8d1a651', '724af778-6f6f-4f8e-a500-f6df57c3b39d', 'bf3ecb30-336e-459b-9183-bdd2f2dfa86f', 'e477db6f-a8e3-40a9-8c5e-a265ad5e6c45', 'd52aee24-1082-4668-8b15-bd5ac74d9fca', 'e79ad28d-56cf-4235-8ac0-c10491f86e12', '04ef8320-e0b0-4a17-b93b-b097e4c65bfd', 'b223de30-9739-4296-abc4-42012bed8a2a', '9a397c6f-3643-47dd-92da-9d547aec1d18', 'efacd79c-b21a-428f-88d1-e5f4db2cb3fb', '7394872f-be75-4763-b77c-b46f85d3f818', '755b8884-a810-47ba-b8f9-f5667314693e', 'e8c6fd5a-d21e-44fa-b709-fa735e921c2e', '9c5a4440-965c-4f00-815b-e0830d86d693', '18054f14-9103-4911-9390-e1c0846e5ed5', '1b2f323c-3e27-4820-bc27-00c0363f66ec', '612619c0-1f1e-4202-a204-b0a063ace4e6', 'c05ec662-9da4-4d2d-8a97-d283191027d1', '510f4531-82b2-48f6-8176-9e151443f977', '1e9a277e-65f2-4730-8d3c-45a2c756cb74', 'ff1dc25a-b069-4943-87a5-838fa4d1d930', 'df8c24aa-6feb-49b1-ae30-9a79a4daede4', 'b3dceb4b-e028-4c6a-8c6c-ee09d7f0914a', '0ac04cd1-f582-4e8e-a3d5-539a0ea8ad15', 'e750e584-f499-4e18-a618-e361c3fbc19b', '526b2fa0-7b0a-4283-a17c-6cf1e821d521', '44f724ec-b8d9-43d3-b196-c993d5425603', '09f338c0-d82c-46d1-bad2-7dd669843193', '1cbfc3d8-8331-428d-8b73-301b2395cd35', '59434e30-8fc3-48fe-b81e-ef389142b156', '8fceecd2-71d3-4e0d-acdf-1e7bf1e2b506', '4bdbcf91-798f-4b57-a929-9260ac1ee103', '03376c04-23a0-45c0-bb3c-aab199c25fff', '5287039f-c7b5-4444-9940-5261e5ca22e5', '35c73f75-6b0e-4fb0-94e3-f5f290ddc81a', '78595283-badf-400b-9a40-25e0f1a843bd', '3526df50-1042-4253-812b-05541af78166', '0fb4f622-327c-49f8-878c-def96e6ad555', '2e2ae7ce-32c5-4988-9020-78b6e77fd6b3', '8d07839f-d2b8-4bc1-82e2-965fccb8b4b7', 'e2aa9538-3108-47a9-a495-6648264a7782', '1ad38c1f-4dff-4e72-8255-8454fc4ba297', '0f5cbd18-c27b-4163-aee5-c768bfef4357', '3b38ec15-980d-4623-995e-2dcebeb1a1fa', 'c228567b-2ad3-46ae-a954-ac7cc6ade0ea', 'd06a728b-4304-4525-a313-a8672705bc2e', '117f3ce4-1a50-40ca-95af-6d6b871b5f37', '9ca37441-0a21-4888-bad0-4f6c0ae7619a', 'e1ba8d65-8fe5-4fa6-8312-efc9baad1969', '6e5fe002-1657-4b08-a25a-0b007f44b1bd', 'd7bf1416-447c-4bd9-8f2b-02b9aa19f864', 'ccbc8fc1-3207-4714-bf5b-acd8a65f1f08', '679aa63f-3a52-4c40-baa6-105ecc546f81', 'ac02cc43-2fe8-430f-bad3-a11245b38ecc', '86617321-ed2b-4183-aa71-e0334c4f03a0', '4cdbf858-82c0-4908-a2f6-dd86d31178a7', '49b21dd7-583b-467d-9257-a53f9edccaa5', '0b4be12a-01aa-4e43-aa9e-67da5d482889', '70046359-3941-4070-a222-15e370504c0f', '1b0e7f5a-7a83-4fa3-b140-ce85ac949bfe', '5e2b1c26-9cb7-42f2-997e-46eb10675cb6', 'f6189e7f-b0b1-4ab5-b626-7e7f28ba9d7b', 'e551d8e1-841b-4ea1-84bd-c1665c66e900', 'fafd1576-781d-41d7-ad25-0ab85f6854b5', 'dac99659-d0a0-46a9-867c-302899490c8d', '0647f4ca-40b5-4762-a46f-f2de11735914', '479cc119-8a33-4514-accc-3c1b171a51c1', '27592cbc-5772-4fbb-830e-fb9778035d47', '0108c30f-96df-4449-8a27-ecea9fa87b58', '99028374-4c20-4bbc-a731-d60bd5fad079', '504d8134-6acd-4d6a-92e3-a06f77b268db', '4f415d12-9c3f-439f-a053-92c41f8a74db', '1ae4f52d-28e5-45d9-be47-20054823d591', '3ed7bfd5-5b9b-4f49-837b-d0d23b0123da', '0a80e5ae-3744-4299-960b-ff06dd8db871', '2ea1feff-4131-4973-8dee-9ca9f7a09261', '3ad0de3e-5ee7-4f37-91df-db21612a0021', 'c068a8c1-303e-4f07-b142-9572705e9cc9', 'bbe8f215-643c-47ea-9ce2-777f28475a05', '8b08ea09-bf13-4ee3-90f1-af20b9914e02', '3ffb083b-b8f7-4f31-bbfc-0b10e788f29f', '2c221d0f-fcce-4ce4-8019-69262b83bcbe', '2777a808-da24-41c5-9a51-23c83cf583b2', '7c7295eb-c747-4f6b-b010-d6d692b7ba6d', '2b59c2e4-2b55-4279-8758-88bb43d1d22f', 'aae6ded3-faff-4f65-a692-e3ab2fe1e670', '1679f709-0585-4c0e-90b8-df320549079a', '06b21f12-2026-428b-a201-a9bb078f369c', '183d4806-b44f-4506-87e3-4fd280fc6f0d', '34d35fb5-4fbb-46a0-b435-a4ec4a4a361c', '45253f8f-e50f-4491-95ce-1d289ad20990', '163f65bf-e806-4a21-a454-f0928beb0cd1', 'e9d32970-91a4-4ea2-9516-3ee97331f1af', 'eb64554a-81db-4319-83fe-adf6be8d415e', '00ec1f36-3bb9-4c02-bac4-402de48081e6', 'c32f2358-c3a5-4b7f-af69-e88f6682bf6d', '79ec4b90-4180-4d55-a6d6-c2b371ad2419', '324d5851-0c83-4f9b-9433-de6eaab1364f', 'fb23340c-28a1-42c7-bba1-051e804629a7', '4ccd649a-ed3e-4798-93b9-4e333d3f4775', 'a0f5d886-8804-4788-8c25-3ec0c01e7b3b', 'eb125a1c-b49d-46f2-8367-58bfc9afad77', '623124f5-e51f-4a39-925a-0cbe36f762d1', 'a5bff453-e7d4-41ac-9449-05a9ac2f6e51', '773c36fd-322a-4c50-b82e-33e76b7d09b1', 'cad49d57-d3ab-44d4-a654-9e739c22c31f', '785f561a-736e-4d7c-9c74-44a9adef4cd7', '60c71ce1-e0ff-4861-a90a-edf04ca0f022', '8967e361-547c-4e55-a416-42b37e0d404b', '6b61acce-ea61-4687-809d-7986a680007a', '6d720b7b-5df7-4ff9-8368-5c28380ad3c4', 'ed232569-43f0-4a73-855a-8ffd875d7731', '2b62c3ff-98ea-4a1f-a747-7b6acfaea311', '210f701e-410d-4bcc-9894-5ff71a32ad7b', 'd541138b-7f02-4598-9c68-ee0579781881', '81daf414-007e-47ef-8883-fca5415a5f72', '5b2333b2-8232-4f87-b15a-b739ff6522fb', 'cb23a5e1-db0c-4dbe-8d9c-fd0c7063059f', 'a8ffd0b4-22e7-44e1-aa97-2fa1a92b26ca', 'edb3d12d-4f7a-42f5-93e0-9a8638cea554', 'c0c8c437-3901-452a-a82d-44fb33f16b13', 'f3a9a8a9-5d26-4c40-b4a0-5c012f950643', 'ba6cdfc7-bee2-48cd-9a87-4e36d853fb06', 'a635325a-746f-4d31-b6a0-aec24346b3b9', 'ebf5f7e3-6d66-4964-9bb1-5cce78a2b2ed', 'c522cc6d-435a-4069-a367-231f76685f90', '5a46c617-b0b6-4164-83a9-99209e28ee55', 'a29cbf2a-9529-4a17-8467-4d830bf592c6', '68891ae1-dde6-487d-a4aa-374787cb3d87', '90942f71-dc5c-4750-aae4-25365b71f79a', '1d620246-cf0f-4318-a819-8147e1c33293', '719a4008-e128-44e2-b6cc-789860f899e0', '301e949b-7bbe-4d9f-864c-09358bfe976f', 'fbe60572-0413-4713-b9e3-6e7e8ce93d90', '7fbc6767-18a3-4c2c-94f4-737499ed065b', '95097b83-d497-4d46-88d1-6110c6af6756', '46f92f6d-3db9-448e-8197-bd1c46758426', '7a52b611-4a5d-4aa0-a891-7bd8c2cd45a4', 'a07e00e3-7b9c-4852-9d54-5d2e4aa0b5e7', '3abccc44-6f2e-44a0-83fb-04ff18d4fdc4', 'c1a81775-4cae-4100-bf03-7e14f59608cd', '48961953-4ea0-4f65-99da-e7e9e1cf3774', '58edf15c-8e14-4453-9d57-29ad8686bea9', '5b727170-fe79-46b8-a48e-1595f93a6cad', '109baa18-6332-4d06-9b62-b3bd7a87fd7f', '74a8b9d5-e770-46f8-9a4b-cac4c37584ae', '7f638e4a-fce0-4ffe-9570-6780e355ef2f', '287a24ce-55a8-468c-a448-154a40056bc4', 'a312299e-84ff-4ad3-9590-7f240fe25a47', '9da15d6f-61fe-4513-8955-3db00d2ae0ab', '0007af83-6eb4-4c9b-97b2-825660b924b1', 'c707a15a-2318-4e1a-a86e-fefdad56aab3', 'b51cd4d1-c17f-4f72-8135-365bcb7232d6', 'a2ea26b3-12c0-4846-92d5-d4b0a592b014', '37260d40-8a17-42f9-935d-90cc4fd23ae9', '2febddef-5097-4ee9-9e3c-835a05b15368', '6252d003-25de-46d7-95b5-bc17bfd6b03f', '42695aa0-1d00-4a8c-ad78-a5df3d76a753', '0dc57f78-2ea0-4a7a-9404-c8c4b68d0db1', 'a967e4dc-ec06-4b90-b2fa-d80558221b9e', 'b6b0aaca-963d-4b47-9474-1c4cf8cdad11', '94c4dd4a-77ef-48ee-8571-b19d5c22b423', 'f9cff05c-547f-4a37-afa0-479a660b63b1', '549856ad-32bd-4db3-bb1f-78f292c06c68', '2e19cde2-8dd4-492f-b244-ed97e933b9fc', 'd62011af-1064-4e67-b903-c702654d6b2e', '11482bc7-d7b1-45f6-8ecd-71ab05d48d47', '0c2a436c-4a60-47c7-9b26-44a05fdc567e', '604c8cf5-37cf-41dc-ac67-20f948820a1b', '56652c16-67a2-4ee8-bb55-f3ccf64cdfaf', '6ba1c66c-28ca-41d5-8b9f-c2146d65e7d5', '5ed25e96-6692-44c2-b163-e0500febc234', 'ae03d1f1-180c-4020-98c7-3f4e190ee56e', '55062d6d-eb7a-47d9-a51b-b8400f5a1d3a', '8ac56a4a-cfd0-43b9-96a5-75344c8e7031', '87da10fc-bbf9-405c-bcbd-52a57c162a0b', '8bb5a14f-c5de-448a-9eaf-607bd7524ac6', '3eaa357a-2181-4f18-b76e-146263048b9f', 'e80d735d-e890-4f87-9cb0-442e94c75ff4', '09304d0b-7059-4cef-bcf9-a6e2371912fd', 'acdce36e-e350-4e66-bf4d-801f2c6858ea', 'a72dd8f1-dafb-407a-b5e5-e7c526ef4849', '16794325-1fc1-451a-aa00-5d39ca22a880', 'dddfda87-25fe-4735-85b1-b48d39bf45ff', 'd2272cf8-2003-49c4-b323-33fd04ba982b', '48fe375b-39d4-4055-bc62-e9b57cd47ad1', '4a7fee0b-5241-4883-82c5-86ce1c33bf0b', 'c5904d15-6230-4672-892d-0f6f46336577', '08a372a8-6c9a-4885-aea3-57f16a351d92', '9012acad-5dda-4c06-bc52-4478ef26bba4', 'f94a3778-6168-4804-8324-0cf694e9aafa', 'fe51526c-30ed-43fa-915a-944c79427a7d', '55d3dfcd-d671-432b-ae00-33a1deb7c8ad', '501634db-4532-47f7-8d09-da2dedb345e7', 'e6b50a8a-799b-4478-9849-e96d1a6bf2ef', 'ba7de108-38e9-472c-a580-c34814b46103', 'd85b2158-a688-4a7f-b467-f3b56e416a46', '1fe28169-5cb4-4af6-9346-c59aec277f52', '302b26f5-d68d-4962-9f43-d8a21ee56e5a', '00e02236-e1e4-4539-ba89-e65d64ac6213', '6a01d15a-c036-4ade-a29e-685541ffa87b', '506613ae-11ba-4a15-8f1f-7b3d93422766', '0c2e7879-8641-414a-b013-05c45333f957', 'a74fda28-0098-4fed-ac07-07a2ae721255', '113fac96-2881-4f75-b0c5-dc23dd7db1aa', 'febe41ee-c320-4625-948d-9a57a72e8386', '2b67f1f8-14ef-4267-b861-027c757c43e5', '1355c070-f390-424c-a09e-302dd3ec689d', '540f7096-dfe4-4601-9103-a8f3cec7d239', '27042889-1c92-4e4c-8eb5-bc1536dad7c5', '147b5dc0-ea38-4b14-bfa7-a557adbd462b', 'd15fc189-454f-4e60-a8e3-bd508a7ff053', 'de5dffd1-8aa9-411a-9538-108e81a60be2', '290590dc-83ce-4b00-aece-6784ac1175b8', '8859ecf6-1a05-4185-b391-0796b8e650ab', 'c07948b0-6520-4632-93cd-cade3d98d90a', 'a743e4f5-a812-4a04-9f0c-4937634243b1', '77e9c9b3-b2ec-431c-9459-bb7f24595151', '24317776-bc56-4126-a82a-b6dc756a5c09', '1c67f579-19c8-4aa2-ab82-3fa320b2e88e', '94499896-78d3-409a-911e-fd666eb2bef7', '293e415f-cf1c-46ce-9be1-3bddd4a24751', '0a56bf45-7689-49a7-aada-f66a1f5abd94', '19bbd800-d827-4222-84b8-4a5b5962f895', '33efab47-353c-4cd5-9935-b641474ab073', '6c6d330e-384f-460a-b964-00a6fe5ff838', '3a4a8ab3-4766-45af-98f9-ad4250af330e', '11ef0415-bab8-46ac-8acd-97c6b9fac88a', 'b7d3b341-b184-412c-916e-5963a63c8974', '1f0f1214-71fe-4473-9bc3-56107ba3b9e4', '70bcc71b-03c2-4564-a81f-78eb4e4b39c4', '65f19810-c47a-46ca-b693-b71d32d4f866', 'b64ceedc-aeba-4687-a376-a9756f191429', '495f8b31-e01f-43a6-b7f9-fa7007e5a33c', 'ef4386dc-08b5-4c34-bea7-f67837b46dfe', 'cc524410-2662-4a13-b930-9d6b74085857', '4bf2b030-0570-4945-8225-37a98fe95195', '3809fc75-1d9c-4acc-a7ce-edfe7ee58a52', 'fccc64c8-1de7-41ff-b3be-d1758f6fa1d1', 'cceed3c6-0e26-4700-b30f-59596ede63e1', '0b628c01-98b8-46a5-8ac1-060f4f553ab2', '22a7d75c-a0b3-40a0-b8ba-d310efd9dd23', '122320cb-2044-4be0-8073-14dd79001dc4', '1f5a55df-0fd6-4ae8-a503-dd520d5a31cd', '01d024aa-6fcc-435f-bed1-12ba67a5d653', '89e1eb0b-ea56-4a58-b008-08daa5e772ae', '370acf3d-4b51-4390-8e01-8ce266e12efb', '93b6814d-9e83-4213-a56c-e71bf6955a07', '021e23b3-ee5a-49ac-8832-bb044f190f36', 'f924f4fb-b828-44ea-9fc1-6adca24e596c', 'db5a96e2-7bf5-40cf-b13d-553278dfebbf', '32f1e3a6-9509-4c72-a949-4849effa4164', 'a737d228-284a-424d-8a6a-30ba87e2a0c4', '5f82907a-e1ae-43b6-955b-3ad9d0a084d9', '751f606c-8451-466a-bbe0-a82b13a6b8e7', 'c999a633-19fb-4368-9b4a-2bf6e1021ff8', '7d24b087-b1dd-483b-8e3b-02d5f785d850', '37f88b29-63cc-4cdd-841e-7dd152fc094a', '91ae697d-bb99-4366-911b-ad32545fdead', '3038827a-69d8-4583-b9ce-7e15b32b1fd9', '7a3d8639-3e37-4d4e-9224-b6b925c4e620', '4af5b319-ea2e-4bd4-ad2d-edc1ad589f26', '5c1fd501-bf27-4976-8497-0dd76ed9a0a7', 'f8d36a3a-c14f-462d-af2b-70fe84e705e6', '10156a78-26bc-40de-9f6b-620e4654b3e6', '5476efe2-e730-4661-bb51-7c5a71d5c6b6', '8b59bf31-8331-44ad-9a06-4890f371703a', '447201e9-ce05-469e-b58b-18f697b7cd57', 'dd8c902e-f721-4403-87d9-7a33e8f5634a', 'fb8f4853-0fae-4317-8d44-0562cff65892', 'a57e9b43-8b4a-443f-8a31-89af4cb5322a', 'b46c5ccf-1fbc-4879-b32e-f958da775d1a', 'ae8c8e48-dda2-4753-bcf2-d02a8a5d5d3e', '6caf2b29-d2d7-4957-a7e1-f0ddd5bfe9ba', 'f2e22960-17b1-44da-8e03-b5177f381091', 'ec108ddd-b0d2-4a6f-aa71-527cad380c2b', '9d150a9f-e21d-494d-bbc9-fdcc99f5cefd', 'dc931b28-1f97-436d-8167-40a876835bb4', 'd5a67b01-296e-46aa-bd46-dfee70a26ca8', '81c66bd0-78fb-43ec-b732-d34fbbfc53f3', '51a3a2a7-1120-4b95-9625-741557d58567', '637e4055-7e99-4ed3-a289-6f9a4b35b001', '1a6fea20-de37-4610-b72d-c646cba3361a', 'ee57451b-e104-4f4e-b222-b0f3ec199997', '26ad76bb-04c7-4d1f-835b-c7983ba17769', '036f0f87-bebb-42a9-996c-e0ab9a4561f9', '52065201-f57d-4408-9656-3e77e3d95dfd', 'fa6fe52c-b40a-46cb-9aef-03ad71a1c3b4', '9d8cc986-c0be-460d-8380-3309403c98a9', '27a4b446-3a23-4edf-9806-54d4ea75bda8', 'dba26680-486e-4b58-8b23-1164e3db0a15', '19a99d92-e002-4bae-8e69-2b41d8950a76', '3f2f1cde-3329-4914-a1cd-5b2fad063452', '3e96b0ed-4c1d-4819-ba70-aa634a6caf40', '1205a5f5-f9bf-4df2-a00b-df0e0c124c5e', '3d1e13d3-79b0-472e-ac85-f8e028096b40', '68470e3b-d0cd-4886-a0fc-72fea258964f', '04916f9b-0acc-42fe-aa80-7a9d911f301c', 'd350c678-deb0-477f-8b4d-1c62e632fa8f', 'd56df300-d566-42d5-8587-09fb05a0802b', '379c763f-6431-49af-92ea-c9b9129fdfbe', '5e727ff0-df5d-453a-ad24-ce52e0f79a3c']\n",
      "Replacing 106 from 318 !\n",
      "D_relabeled_ 106\n",
      "selected_ids ['2b62c3ff-98ea-4a1f-a747-7b6acfaea311', '1f0f1214-71fe-4473-9bc3-56107ba3b9e4', 'ba6cdfc7-bee2-48cd-9a87-4e36d853fb06', '34d35fb5-4fbb-46a0-b435-a4ec4a4a361c', 'ec108ddd-b0d2-4a6f-aa71-527cad380c2b', 'a0f5d886-8804-4788-8c25-3ec0c01e7b3b', '9d150a9f-e21d-494d-bbc9-fdcc99f5cefd', '510f4531-82b2-48f6-8176-9e151443f977', '94499896-78d3-409a-911e-fd666eb2bef7', '549856ad-32bd-4db3-bb1f-78f292c06c68', '11ef0415-bab8-46ac-8acd-97c6b9fac88a', 'ac02cc43-2fe8-430f-bad3-a11245b38ecc', '45253f8f-e50f-4491-95ce-1d289ad20990', 'f924f4fb-b828-44ea-9fc1-6adca24e596c', '8bb5a14f-c5de-448a-9eaf-607bd7524ac6', '55d3dfcd-d671-432b-ae00-33a1deb7c8ad', 'e6b50a8a-799b-4478-9849-e96d1a6bf2ef', '9c5a4440-965c-4f00-815b-e0830d86d693', '3e96b0ed-4c1d-4819-ba70-aa634a6caf40', '6b61acce-ea61-4687-809d-7986a680007a', '5b2333b2-8232-4f87-b15a-b739ff6522fb', 'c228567b-2ad3-46ae-a954-ac7cc6ade0ea', 'd85b2158-a688-4a7f-b467-f3b56e416a46', '2b67f1f8-14ef-4267-b861-027c757c43e5', '10156a78-26bc-40de-9f6b-620e4654b3e6', 'e5191834-aa5c-400b-b22b-2da4d8c4abe8', '1b0e7f5a-7a83-4fa3-b140-ce85ac949bfe', '79ec4b90-4180-4d55-a6d6-c2b371ad2419', '5b727170-fe79-46b8-a48e-1595f93a6cad', 'eb125a1c-b49d-46f2-8367-58bfc9afad77', '447201e9-ce05-469e-b58b-18f697b7cd57', 'aae6ded3-faff-4f65-a692-e3ab2fe1e670', 'de5dffd1-8aa9-411a-9538-108e81a60be2', 'fccc64c8-1de7-41ff-b3be-d1758f6fa1d1', '24317776-bc56-4126-a82a-b6dc756a5c09', '8b08ea09-bf13-4ee3-90f1-af20b9914e02', '51a3a2a7-1120-4b95-9625-741557d58567', '479cc119-8a33-4514-accc-3c1b171a51c1', '293e415f-cf1c-46ce-9be1-3bddd4a24751', '0c2e7879-8641-414a-b013-05c45333f957', '09f338c0-d82c-46d1-bad2-7dd669843193', 'f2e22960-17b1-44da-8e03-b5177f381091', 'e477db6f-a8e3-40a9-8c5e-a265ad5e6c45', 'd7bf1416-447c-4bd9-8f2b-02b9aa19f864', 'fb8f4853-0fae-4317-8d44-0562cff65892', '56652c16-67a2-4ee8-bb55-f3ccf64cdfaf', 'ae03d1f1-180c-4020-98c7-3f4e190ee56e', '3038827a-69d8-4583-b9ce-7e15b32b1fd9', '1c67f579-19c8-4aa2-ab82-3fa320b2e88e', '1355c070-f390-424c-a09e-302dd3ec689d', '036f0f87-bebb-42a9-996c-e0ab9a4561f9', '65f19810-c47a-46ca-b693-b71d32d4f866', '04ef8320-e0b0-4a17-b93b-b097e4c65bfd', '0a56bf45-7689-49a7-aada-f66a1f5abd94', '52db7f89-7da0-4752-b85c-76679603b61d', 'a07e00e3-7b9c-4852-9d54-5d2e4aa0b5e7', '42695aa0-1d00-4a8c-ad78-a5df3d76a753', '09304d0b-7059-4cef-bcf9-a6e2371912fd', '27042889-1c92-4e4c-8eb5-bc1536dad7c5', '89e1eb0b-ea56-4a58-b008-08daa5e772ae', 'edb3d12d-4f7a-42f5-93e0-9a8638cea554', 'fafd1576-781d-41d7-ad25-0ab85f6854b5', '99028374-4c20-4bbc-a731-d60bd5fad079', '3abccc44-6f2e-44a0-83fb-04ff18d4fdc4', '81daf414-007e-47ef-8883-fca5415a5f72', '86617321-ed2b-4183-aa71-e0334c4f03a0', '4cdbf858-82c0-4908-a2f6-dd86d31178a7', 'e8c6fd5a-d21e-44fa-b709-fa735e921c2e', '32f1e3a6-9509-4c72-a949-4849effa4164', '3809fc75-1d9c-4acc-a7ce-edfe7ee58a52', '2e2ae7ce-32c5-4988-9020-78b6e77fd6b3', '2e19cde2-8dd4-492f-b244-ed97e933b9fc', '9012acad-5dda-4c06-bc52-4478ef26bba4', '6e5fe002-1657-4b08-a25a-0b007f44b1bd', '785f561a-736e-4d7c-9c74-44a9adef4cd7', 'a8ffd0b4-22e7-44e1-aa97-2fa1a92b26ca', '113fac96-2881-4f75-b0c5-dc23dd7db1aa', 'd15fc189-454f-4e60-a8e3-bd508a7ff053', 'c1a81775-4cae-4100-bf03-7e14f59608cd', '78595283-badf-400b-9a40-25e0f1a843bd', '8ac56a4a-cfd0-43b9-96a5-75344c8e7031', '1b2f323c-3e27-4820-bc27-00c0363f66ec', 'fe51526c-30ed-43fa-915a-944c79427a7d', 'd541138b-7f02-4598-9c68-ee0579781881', '3b38ec15-980d-4623-995e-2dcebeb1a1fa', '00ec1f36-3bb9-4c02-bac4-402de48081e6', '090d532e-1814-42a1-9b7d-973e77c356df', '751f606c-8451-466a-bbe0-a82b13a6b8e7', '6d720b7b-5df7-4ff9-8368-5c28380ad3c4', '11482bc7-d7b1-45f6-8ecd-71ab05d48d47', '724af778-6f6f-4f8e-a500-f6df57c3b39d', '59434e30-8fc3-48fe-b81e-ef389142b156', '58edf15c-8e14-4453-9d57-29ad8686bea9', '48fe375b-39d4-4055-bc62-e9b57cd47ad1', 'fa6fe52c-b40a-46cb-9aef-03ad71a1c3b4', '8b59bf31-8331-44ad-9a06-4890f371703a', '48961953-4ea0-4f65-99da-e7e9e1cf3774', 'd62011af-1064-4e67-b903-c702654d6b2e', 'cad49d57-d3ab-44d4-a654-9e739c22c31f', '1ad38c1f-4dff-4e72-8255-8454fc4ba297', 'b64ceedc-aeba-4687-a376-a9756f191429', 'e2aa9538-3108-47a9-a495-6648264a7782', 'ae8c8e48-dda2-4753-bcf2-d02a8a5d5d3e', '1ae4f52d-28e5-45d9-be47-20054823d591', '8e0d1ab4-5207-468b-bd01-6de6cd75c48b', '81c66bd0-78fb-43ec-b732-d34fbbfc53f3']\n",
      "dict_keys(['2b62c3ff-98ea-4a1f-a747-7b6acfaea311', '1f0f1214-71fe-4473-9bc3-56107ba3b9e4', 'ba6cdfc7-bee2-48cd-9a87-4e36d853fb06', '34d35fb5-4fbb-46a0-b435-a4ec4a4a361c', 'ec108ddd-b0d2-4a6f-aa71-527cad380c2b', 'a0f5d886-8804-4788-8c25-3ec0c01e7b3b', '9d150a9f-e21d-494d-bbc9-fdcc99f5cefd', '510f4531-82b2-48f6-8176-9e151443f977', '94499896-78d3-409a-911e-fd666eb2bef7', '549856ad-32bd-4db3-bb1f-78f292c06c68', '11ef0415-bab8-46ac-8acd-97c6b9fac88a', 'ac02cc43-2fe8-430f-bad3-a11245b38ecc', '45253f8f-e50f-4491-95ce-1d289ad20990', 'f924f4fb-b828-44ea-9fc1-6adca24e596c', '8bb5a14f-c5de-448a-9eaf-607bd7524ac6', '55d3dfcd-d671-432b-ae00-33a1deb7c8ad', 'e6b50a8a-799b-4478-9849-e96d1a6bf2ef', '9c5a4440-965c-4f00-815b-e0830d86d693', '3e96b0ed-4c1d-4819-ba70-aa634a6caf40', '6b61acce-ea61-4687-809d-7986a680007a', '5b2333b2-8232-4f87-b15a-b739ff6522fb', 'c228567b-2ad3-46ae-a954-ac7cc6ade0ea', 'd85b2158-a688-4a7f-b467-f3b56e416a46', '2b67f1f8-14ef-4267-b861-027c757c43e5', '10156a78-26bc-40de-9f6b-620e4654b3e6', 'e5191834-aa5c-400b-b22b-2da4d8c4abe8', '1b0e7f5a-7a83-4fa3-b140-ce85ac949bfe', '79ec4b90-4180-4d55-a6d6-c2b371ad2419', '5b727170-fe79-46b8-a48e-1595f93a6cad', 'eb125a1c-b49d-46f2-8367-58bfc9afad77', '447201e9-ce05-469e-b58b-18f697b7cd57', 'aae6ded3-faff-4f65-a692-e3ab2fe1e670', 'de5dffd1-8aa9-411a-9538-108e81a60be2', 'fccc64c8-1de7-41ff-b3be-d1758f6fa1d1', '24317776-bc56-4126-a82a-b6dc756a5c09', '8b08ea09-bf13-4ee3-90f1-af20b9914e02', '51a3a2a7-1120-4b95-9625-741557d58567', '479cc119-8a33-4514-accc-3c1b171a51c1', '293e415f-cf1c-46ce-9be1-3bddd4a24751', '0c2e7879-8641-414a-b013-05c45333f957', '09f338c0-d82c-46d1-bad2-7dd669843193', 'f2e22960-17b1-44da-8e03-b5177f381091', 'e477db6f-a8e3-40a9-8c5e-a265ad5e6c45', 'd7bf1416-447c-4bd9-8f2b-02b9aa19f864', 'fb8f4853-0fae-4317-8d44-0562cff65892', '56652c16-67a2-4ee8-bb55-f3ccf64cdfaf', 'ae03d1f1-180c-4020-98c7-3f4e190ee56e', '3038827a-69d8-4583-b9ce-7e15b32b1fd9', '1c67f579-19c8-4aa2-ab82-3fa320b2e88e', '1355c070-f390-424c-a09e-302dd3ec689d', '036f0f87-bebb-42a9-996c-e0ab9a4561f9', '65f19810-c47a-46ca-b693-b71d32d4f866', '04ef8320-e0b0-4a17-b93b-b097e4c65bfd', '0a56bf45-7689-49a7-aada-f66a1f5abd94', '52db7f89-7da0-4752-b85c-76679603b61d', 'a07e00e3-7b9c-4852-9d54-5d2e4aa0b5e7', '42695aa0-1d00-4a8c-ad78-a5df3d76a753', '09304d0b-7059-4cef-bcf9-a6e2371912fd', '27042889-1c92-4e4c-8eb5-bc1536dad7c5', '89e1eb0b-ea56-4a58-b008-08daa5e772ae', 'edb3d12d-4f7a-42f5-93e0-9a8638cea554', 'fafd1576-781d-41d7-ad25-0ab85f6854b5', '99028374-4c20-4bbc-a731-d60bd5fad079', '3abccc44-6f2e-44a0-83fb-04ff18d4fdc4', '81daf414-007e-47ef-8883-fca5415a5f72', '86617321-ed2b-4183-aa71-e0334c4f03a0', '4cdbf858-82c0-4908-a2f6-dd86d31178a7', 'e8c6fd5a-d21e-44fa-b709-fa735e921c2e', '32f1e3a6-9509-4c72-a949-4849effa4164', '3809fc75-1d9c-4acc-a7ce-edfe7ee58a52', '2e2ae7ce-32c5-4988-9020-78b6e77fd6b3', '2e19cde2-8dd4-492f-b244-ed97e933b9fc', '9012acad-5dda-4c06-bc52-4478ef26bba4', '6e5fe002-1657-4b08-a25a-0b007f44b1bd', '785f561a-736e-4d7c-9c74-44a9adef4cd7', 'a8ffd0b4-22e7-44e1-aa97-2fa1a92b26ca', '113fac96-2881-4f75-b0c5-dc23dd7db1aa', 'd15fc189-454f-4e60-a8e3-bd508a7ff053', 'c1a81775-4cae-4100-bf03-7e14f59608cd', '78595283-badf-400b-9a40-25e0f1a843bd', '8ac56a4a-cfd0-43b9-96a5-75344c8e7031', '1b2f323c-3e27-4820-bc27-00c0363f66ec', 'fe51526c-30ed-43fa-915a-944c79427a7d', 'd541138b-7f02-4598-9c68-ee0579781881', '3b38ec15-980d-4623-995e-2dcebeb1a1fa', '00ec1f36-3bb9-4c02-bac4-402de48081e6', '090d532e-1814-42a1-9b7d-973e77c356df', '751f606c-8451-466a-bbe0-a82b13a6b8e7', '6d720b7b-5df7-4ff9-8368-5c28380ad3c4', '11482bc7-d7b1-45f6-8ecd-71ab05d48d47', '724af778-6f6f-4f8e-a500-f6df57c3b39d', '59434e30-8fc3-48fe-b81e-ef389142b156', '58edf15c-8e14-4453-9d57-29ad8686bea9', '48fe375b-39d4-4055-bc62-e9b57cd47ad1', 'fa6fe52c-b40a-46cb-9aef-03ad71a1c3b4', '8b59bf31-8331-44ad-9a06-4890f371703a', '48961953-4ea0-4f65-99da-e7e9e1cf3774', 'd62011af-1064-4e67-b903-c702654d6b2e', 'cad49d57-d3ab-44d4-a654-9e739c22c31f', '1ad38c1f-4dff-4e72-8255-8454fc4ba297', 'b64ceedc-aeba-4687-a376-a9756f191429', 'e2aa9538-3108-47a9-a495-6648264a7782', 'ae8c8e48-dda2-4753-bcf2-d02a8a5d5d3e', '1ae4f52d-28e5-45d9-be47-20054823d591', '8e0d1ab4-5207-468b-bd01-6de6cd75c48b', '81c66bd0-78fb-43ec-b732-d34fbbfc53f3'])\n",
      "point ids 106\n"
     ]
    },
    {
     "name": "stdout",
     "output_type": "stream",
     "text": [
      "Removed: 106 Filled: 106\n",
      "TOOK 293.86730098724365 seconds\n",
      "***\n",
      "RUN: 1\n",
      "Epoch 1/100\n",
      "10/10 [==============================] - 22s 2s/step - loss: 0.6453 - dice_coef: 0.1342 - val_loss: 0.6827 - val_dice_coef: 0.1626\n",
      "Epoch 2/100\n",
      "10/10 [==============================] - 11s 1s/step - loss: 0.6452 - dice_coef: 0.1335 - val_loss: 0.6811 - val_dice_coef: 0.1626\n",
      "Epoch 3/100\n",
      "10/10 [==============================] - 11s 1s/step - loss: 0.6454 - dice_coef: 0.1335 - val_loss: 0.6797 - val_dice_coef: 0.1625\n",
      "Epoch 4/100\n",
      "10/10 [==============================] - 11s 1s/step - loss: 0.6451 - dice_coef: 0.1335 - val_loss: 0.6787 - val_dice_coef: 0.1625\n",
      "Epoch 5/100\n",
      "10/10 [==============================] - 11s 1s/step - loss: 0.6454 - dice_coef: 0.1331 - val_loss: 0.6777 - val_dice_coef: 0.1625\n",
      "Epoch 6/100\n",
      "10/10 [==============================] - 11s 1s/step - loss: 0.6454 - dice_coef: 0.1337 - val_loss: 0.6770 - val_dice_coef: 0.1624\n",
      "Model saved to: /tmp/tmp85uxrbokGP2/kunetplus2d_1kunetplus2d_model\n",
      "History saved to: /tmp/tmp85uxrbokGP2/kunetplus2d_history_1.pkl\n",
      "Testing the classifier...\n",
      "Testing the discriminator...\n",
      "19/19 [==============================] - 0s 19ms/step - loss: 5841.7598 - accuracy: 0.4967\n",
      "Found 0 machine labels.\n",
      "Machine labels []\n",
      "No machine labels found. Skipping step 6.\n",
      "No more machine labels.\n",
      "TOOK 198.58825778961182 seconds\n"
     ]
    }
   ],
   "source": [
    "for run in range(RUNS):\n",
    "    print('***')\n",
    "    print('RUN:', run)\n",
    "    t0 = time.time()\n",
    "    R.run_classifier()\n",
    "    R.run_discriminator()\n",
    "    l = R.find_machine_labels()\n",
    "    if l == 0:\n",
    "        print('No more machine labels.')\n",
    "        print('TOOK', time.time()-t0, 'seconds')\n",
    "        break\n",
    "    R.relabel(percent_to_replace=PERCENT_TO_REPLACE)\n",
    "    print('TOOK', time.time()-t0, 'seconds')\n",
    "    "
   ]
  },
  {
   "cell_type": "code",
   "execution_count": null,
   "id": "dab6fd49",
   "metadata": {},
   "outputs": [],
   "source": []
  },
  {
   "cell_type": "code",
   "execution_count": 15,
   "id": "00075332",
   "metadata": {},
   "outputs": [
    {
     "data": {
      "text/plain": [
       "[[0.6845703125, 0.16162945330142975], [0.6769505143165588, 0.1613466888666153]]"
      ]
     },
     "execution_count": 15,
     "metadata": {},
     "output_type": "execute_result"
    }
   ],
   "source": [
    "R.classifier_scores"
   ]
  },
  {
   "cell_type": "code",
   "execution_count": 16,
   "id": "35105656",
   "metadata": {},
   "outputs": [
    {
     "data": {
      "text/plain": [
       "[[0.0, 1.0], [5841.759765625, 0.49666666984558105]]"
      ]
     },
     "execution_count": 16,
     "metadata": {},
     "output_type": "execute_result"
    }
   ],
   "source": [
    "R.discriminator_scores"
   ]
  },
  {
   "cell_type": "code",
   "execution_count": null,
   "id": "e256ed4d",
   "metadata": {},
   "outputs": [],
   "source": []
  },
  {
   "cell_type": "code",
   "execution_count": 17,
   "id": "c83bb28d",
   "metadata": {},
   "outputs": [
    {
     "data": {
      "image/png": "[encoded data removed]",
      "text/plain": [
       "<Figure size 240x240 with 1 Axes>"
      ]
     },
     "metadata": {
      "needs_background": "light"
     },
     "output_type": "display_data"
    }
   ],
   "source": [
    "R.plot()"
   ]
  },
  {
   "cell_type": "code",
   "execution_count": null,
   "id": "7f3b4a58",
   "metadata": {},
   "outputs": [],
   "source": []
  },
  {
   "cell_type": "code",
   "execution_count": null,
   "id": "d21df741",
   "metadata": {},
   "outputs": [],
   "source": []
  },
  {
   "cell_type": "code",
   "execution_count": null,
   "id": "551de181",
   "metadata": {},
   "outputs": [],
   "source": []
  }
 ],
 "metadata": {
  "kernelspec": {
   "display_name": "Python 3 (ipykernel)",
   "language": "python",
   "name": "python3"
  },
  "language_info": {
   "codemirror_mode": {
    "name": "ipython",
    "version": 3
   },
   "file_extension": ".py",
   "mimetype": "text/x-python",
   "name": "python",
   "nbconvert_exporter": "python",
   "pygments_lexer": "ipython3",
   "version": "3.9.7"
  }
 },
 "nbformat": 4,
 "nbformat_minor": 5
}
