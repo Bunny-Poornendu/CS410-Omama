{
 "cells": [
  {
   "cell_type": "code",
   "execution_count": 1,
   "id": "06c4accc",
   "metadata": {},
   "outputs": [
    {
     "name": "stdout",
     "output_type": "stream",
     "text": [
      "Populating the interactive namespace from numpy and matplotlib\n"
     ]
    }
   ],
   "source": [
    "%pylab inline\n",
    "%load_ext autoreload\n",
    "%autoreload 2"
   ]
  },
  {
   "cell_type": "code",
   "execution_count": 2,
   "id": "861fc4c8",
   "metadata": {},
   "outputs": [
    {
     "name": "stderr",
     "output_type": "stream",
     "text": [
      "2023-04-22 10:47:30.537882: I tensorflow/stream_executor/platform/default/dso_loader.cc:53] Successfully opened dynamic library libcudart.so.11.0\n"
     ]
    }
   ],
   "source": [
    "import numpy as np\n",
    "from glob import glob\n",
    "from tensorflow import keras\n",
    "from tensorflow.keras.layers import Input, Conv2D, Dropout, Activation, UpSampling2D, GlobalMaxPooling2D, multiply\n",
    "from tensorflow.keras.backend import max\n",
    "from keras_unet_collection import models, base, utils"
   ]
  },
  {
   "cell_type": "code",
   "execution_count": 3,
   "id": "b9e78ed8",
   "metadata": {},
   "outputs": [
    {
     "name": "stderr",
     "output_type": "stream",
     "text": [
      "2023-04-22 10:47:32.422314: I tensorflow/stream_executor/platform/default/dso_loader.cc:53] Successfully opened dynamic library libcuda.so.1\n",
      "2023-04-22 10:47:32.588844: I tensorflow/core/common_runtime/gpu/gpu_device.cc:1733] Found device 0 with properties: \n",
      "pciBusID: 0000:90:00.0 name: A100-SXM4-40GB computeCapability: 8.0\n",
      "coreClock: 1.41GHz coreCount: 108 deviceMemorySize: 39.59GiB deviceMemoryBandwidth: 1.41TiB/s\n",
      "2023-04-22 10:47:32.593059: I tensorflow/core/common_runtime/gpu/gpu_device.cc:1733] Found device 1 with properties: \n",
      "pciBusID: 0000:b7:00.0 name: A100-SXM4-40GB computeCapability: 8.0\n",
      "coreClock: 1.41GHz coreCount: 108 deviceMemorySize: 39.59GiB deviceMemoryBandwidth: 1.41TiB/s\n",
      "2023-04-22 10:47:32.593115: I tensorflow/stream_executor/platform/default/dso_loader.cc:53] Successfully opened dynamic library libcudart.so.11.0\n",
      "2023-04-22 10:47:32.597523: I tensorflow/stream_executor/platform/default/dso_loader.cc:53] Successfully opened dynamic library libcublas.so.11\n",
      "2023-04-22 10:47:32.597574: I tensorflow/stream_executor/platform/default/dso_loader.cc:53] Successfully opened dynamic library libcublasLt.so.11\n",
      "2023-04-22 10:47:32.598740: I tensorflow/stream_executor/platform/default/dso_loader.cc:53] Successfully opened dynamic library libcufft.so.10\n",
      "2023-04-22 10:47:32.599150: I tensorflow/stream_executor/platform/default/dso_loader.cc:53] Successfully opened dynamic library libcurand.so.10\n",
      "2023-04-22 10:47:32.599768: I tensorflow/stream_executor/platform/default/dso_loader.cc:53] Successfully opened dynamic library libcusolver.so.11\n",
      "2023-04-22 10:47:32.600653: I tensorflow/stream_executor/platform/default/dso_loader.cc:53] Successfully opened dynamic library libcusparse.so.11\n",
      "2023-04-22 10:47:32.600914: I tensorflow/stream_executor/platform/default/dso_loader.cc:53] Successfully opened dynamic library libcudnn.so.8\n",
      "2023-04-22 10:47:32.617744: I tensorflow/core/common_runtime/gpu/gpu_device.cc:1871] Adding visible gpu devices: 0, 1\n"
     ]
    }
   ],
   "source": [
    "import time\n",
    "import sys\n",
    "sys.path.insert(0,'../..')\n",
    "from gp2 import Runner"
   ]
  },
  {
   "cell_type": "code",
   "execution_count": 4,
   "id": "bdc75325",
   "metadata": {},
   "outputs": [
    {
     "name": "stderr",
     "output_type": "stream",
     "text": [
      "2023-04-22 10:47:32.671371: I tensorflow/core/platform/cpu_feature_guard.cc:142] This TensorFlow binary is optimized with oneAPI Deep Neural Network Library (oneDNN) to use the following CPU instructions in performance-critical operations:  AVX2 FMA\n",
      "To enable them in other operations, rebuild TensorFlow with the appropriate compiler flags.\n",
      "2023-04-22 10:47:33.045536: I tensorflow/core/common_runtime/gpu/gpu_device.cc:1733] Found device 0 with properties: \n",
      "pciBusID: 0000:90:00.0 name: A100-SXM4-40GB computeCapability: 8.0\n",
      "coreClock: 1.41GHz coreCount: 108 deviceMemorySize: 39.59GiB deviceMemoryBandwidth: 1.41TiB/s\n",
      "2023-04-22 10:47:33.048027: I tensorflow/core/common_runtime/gpu/gpu_device.cc:1733] Found device 1 with properties: \n",
      "pciBusID: 0000:b7:00.0 name: A100-SXM4-40GB computeCapability: 8.0\n",
      "coreClock: 1.41GHz coreCount: 108 deviceMemorySize: 39.59GiB deviceMemoryBandwidth: 1.41TiB/s\n",
      "2023-04-22 10:47:33.057782: I tensorflow/core/common_runtime/gpu/gpu_device.cc:1871] Adding visible gpu devices: 0, 1\n",
      "2023-04-22 10:47:33.057862: I tensorflow/stream_executor/platform/default/dso_loader.cc:53] Successfully opened dynamic library libcudart.so.11.0\n",
      "2023-04-22 10:47:33.839214: I tensorflow/core/common_runtime/gpu/gpu_device.cc:1258] Device interconnect StreamExecutor with strength 1 edge matrix:\n",
      "2023-04-22 10:47:33.839261: I tensorflow/core/common_runtime/gpu/gpu_device.cc:1264]      0 1 \n",
      "2023-04-22 10:47:33.839267: I tensorflow/core/common_runtime/gpu/gpu_device.cc:1277] 0:   N Y \n",
      "2023-04-22 10:47:33.839271: I tensorflow/core/common_runtime/gpu/gpu_device.cc:1277] 1:   Y N \n",
      "2023-04-22 10:47:33.851676: I tensorflow/core/common_runtime/gpu/gpu_device.cc:1418] Created TensorFlow device (/job:localhost/replica:0/task:0/device:GPU:0 with 38425 MB memory) -> physical GPU (device: 0, name: A100-SXM4-40GB, pci bus id: 0000:90:00.0, compute capability: 8.0)\n",
      "2023-04-22 10:47:33.854457: I tensorflow/core/common_runtime/gpu/gpu_device.cc:1418] Created TensorFlow device (/job:localhost/replica:0/task:0/device:GPU:1 with 38425 MB memory) -> physical GPU (device: 1, name: A100-SXM4-40GB, pci bus id: 0000:b7:00.0, compute capability: 8.0)\n"
     ]
    },
    {
     "name": "stdout",
     "output_type": "stream",
     "text": [
      "*** GP2  KUNetPlus2D ***\n",
      "Working directory: /tmp/tmpj6mn654mGP2\n",
      "Verbose mode active!\n",
      "Model: \"xnet_model\"\n",
      "_________________________________________________________________\n",
      "Layer (type)                 Output Shape              Param #   \n",
      "=================================================================\n",
      "input_1 (InputLayer)         [(None, 512, 512, 1)]     0         \n",
      "_________________________________________________________________\n",
      "xnet_down0_0 (Conv2D)        (None, 512, 512, 32)      288       \n",
      "_________________________________________________________________\n",
      "xnet_down0_0_bn (BatchNormal (None, 512, 512, 32)      128       \n",
      "_________________________________________________________________\n",
      "xnet_down0_0_activation (ReL (None, 512, 512, 32)      0         \n",
      "_________________________________________________________________\n",
      "xnet_down0_1 (Conv2D)        (None, 512, 512, 32)      9216      \n",
      "_________________________________________________________________\n",
      "xnet_down0_1_bn (BatchNormal (None, 512, 512, 32)      128       \n",
      "_________________________________________________________________\n",
      "xnet_down0_1_activation (ReL (None, 512, 512, 32)      0         \n",
      "_________________________________________________________________\n",
      "xnet_down0_2 (Conv2D)        (None, 512, 512, 32)      9216      \n",
      "_________________________________________________________________\n",
      "xnet_down0_2_bn (BatchNormal (None, 512, 512, 32)      128       \n",
      "_________________________________________________________________\n",
      "xnet_down0_2_activation (ReL (None, 512, 512, 32)      0         \n",
      "_________________________________________________________________\n",
      "xnet_down1_encode_maxpool (M (None, 256, 256, 32)      0         \n",
      "_________________________________________________________________\n",
      "xnet_down1_conv_0 (Conv2D)   (None, 256, 256, 64)      18432     \n",
      "_________________________________________________________________\n",
      "xnet_down1_conv_0_bn (BatchN (None, 256, 256, 64)      256       \n",
      "_________________________________________________________________\n",
      "xnet_down1_conv_0_activation (None, 256, 256, 64)      0         \n",
      "_________________________________________________________________\n",
      "xnet_down1_conv_1 (Conv2D)   (None, 256, 256, 64)      36864     \n",
      "_________________________________________________________________\n",
      "xnet_down1_conv_1_bn (BatchN (None, 256, 256, 64)      256       \n",
      "_________________________________________________________________\n",
      "xnet_down1_conv_1_activation (None, 256, 256, 64)      0         \n",
      "_________________________________________________________________\n",
      "xnet_down1_conv_2 (Conv2D)   (None, 256, 256, 64)      36864     \n",
      "_________________________________________________________________\n",
      "xnet_down1_conv_2_bn (BatchN (None, 256, 256, 64)      256       \n",
      "_________________________________________________________________\n",
      "xnet_down1_conv_2_activation (None, 256, 256, 64)      0         \n",
      "_________________________________________________________________\n",
      "xnet_down2_encode_maxpool (M (None, 128, 128, 64)      0         \n",
      "_________________________________________________________________\n",
      "xnet_down2_conv_0 (Conv2D)   (None, 128, 128, 128)     73728     \n",
      "_________________________________________________________________\n",
      "xnet_down2_conv_0_bn (BatchN (None, 128, 128, 128)     512       \n",
      "_________________________________________________________________\n",
      "xnet_down2_conv_0_activation (None, 128, 128, 128)     0         \n",
      "_________________________________________________________________\n",
      "xnet_down2_conv_1 (Conv2D)   (None, 128, 128, 128)     147456    \n",
      "_________________________________________________________________\n",
      "xnet_down2_conv_1_bn (BatchN (None, 128, 128, 128)     512       \n",
      "_________________________________________________________________\n",
      "xnet_down2_conv_1_activation (None, 128, 128, 128)     0         \n",
      "_________________________________________________________________\n",
      "xnet_down2_conv_2 (Conv2D)   (None, 128, 128, 128)     147456    \n",
      "_________________________________________________________________\n",
      "xnet_down2_conv_2_bn (BatchN (None, 128, 128, 128)     512       \n",
      "_________________________________________________________________\n",
      "xnet_down2_conv_2_activation (None, 128, 128, 128)     0         \n",
      "_________________________________________________________________\n",
      "xnet_down3_encode_maxpool (M (None, 64, 64, 128)       0         \n",
      "_________________________________________________________________\n",
      "xnet_down3_conv_0 (Conv2D)   (None, 64, 64, 256)       294912    \n",
      "_________________________________________________________________\n",
      "xnet_down3_conv_0_bn (BatchN (None, 64, 64, 256)       1024      \n",
      "_________________________________________________________________\n",
      "xnet_down3_conv_0_activation (None, 64, 64, 256)       0         \n",
      "_________________________________________________________________\n",
      "xnet_down3_conv_1 (Conv2D)   (None, 64, 64, 256)       589824    \n",
      "_________________________________________________________________\n",
      "xnet_down3_conv_1_bn (BatchN (None, 64, 64, 256)       1024      \n",
      "_________________________________________________________________\n",
      "xnet_down3_conv_1_activation (None, 64, 64, 256)       0         \n",
      "_________________________________________________________________\n",
      "xnet_down3_conv_2 (Conv2D)   (None, 64, 64, 256)       589824    \n",
      "_________________________________________________________________\n",
      "xnet_down3_conv_2_bn (BatchN (None, 64, 64, 256)       1024      \n",
      "_________________________________________________________________\n",
      "xnet_down3_conv_2_activation (None, 64, 64, 256)       0         \n",
      "_________________________________________________________________\n",
      "xnet_down4_encode_maxpool (M (None, 32, 32, 256)       0         \n",
      "_________________________________________________________________\n",
      "xnet_down4_conv_0 (Conv2D)   (None, 32, 32, 512)       1179648   \n",
      "_________________________________________________________________\n",
      "xnet_down4_conv_0_bn (BatchN (None, 32, 32, 512)       2048      \n",
      "_________________________________________________________________\n",
      "xnet_down4_conv_0_activation (None, 32, 32, 512)       0         \n",
      "_________________________________________________________________\n",
      "xnet_down4_conv_1 (Conv2D)   (None, 32, 32, 512)       2359296   \n",
      "_________________________________________________________________\n",
      "xnet_down4_conv_1_bn (BatchN (None, 32, 32, 512)       2048      \n",
      "_________________________________________________________________\n",
      "xnet_down4_conv_1_activation (None, 32, 32, 512)       0         \n",
      "_________________________________________________________________\n",
      "xnet_down4_conv_2 (Conv2D)   (None, 32, 32, 512)       2359296   \n",
      "_________________________________________________________________\n",
      "xnet_down4_conv_2_bn (BatchN (None, 32, 32, 512)       2048      \n",
      "_________________________________________________________________\n",
      "xnet_down4_conv_2_activation (None, 32, 32, 512)       0         \n",
      "_________________________________________________________________\n",
      "xnet_down5_encode_maxpool (M (None, 16, 16, 512)       0         \n",
      "_________________________________________________________________\n",
      "xnet_down5_conv_0 (Conv2D)   (None, 16, 16, 1024)      4718592   \n",
      "_________________________________________________________________\n",
      "xnet_down5_conv_0_bn (BatchN (None, 16, 16, 1024)      4096      \n",
      "_________________________________________________________________\n",
      "xnet_down5_conv_0_activation (None, 16, 16, 1024)      0         \n",
      "_________________________________________________________________\n",
      "xnet_down5_conv_1 (Conv2D)   (None, 16, 16, 1024)      9437184   \n",
      "_________________________________________________________________\n",
      "xnet_down5_conv_1_bn (BatchN (None, 16, 16, 1024)      4096      \n",
      "_________________________________________________________________\n",
      "xnet_down5_conv_1_activation (None, 16, 16, 1024)      0         \n",
      "_________________________________________________________________\n",
      "xnet_down5_conv_2 (Conv2D)   (None, 16, 16, 1024)      9437184   \n",
      "_________________________________________________________________\n",
      "xnet_down5_conv_2_bn (BatchN (None, 16, 16, 1024)      4096      \n",
      "_________________________________________________________________\n",
      "xnet_down5_conv_2_activation (None, 16, 16, 1024)      0         \n",
      "_________________________________________________________________\n",
      "xnet_down6_encode_maxpool (M (None, 8, 8, 1024)        0         \n",
      "_________________________________________________________________\n",
      "xnet_down6_conv_0 (Conv2D)   (None, 8, 8, 2048)        18874368  \n",
      "_________________________________________________________________\n",
      "xnet_down6_conv_0_bn (BatchN (None, 8, 8, 2048)        8192      \n",
      "_________________________________________________________________\n",
      "xnet_down6_conv_0_activation (None, 8, 8, 2048)        0         \n",
      "_________________________________________________________________\n",
      "xnet_down6_conv_1 (Conv2D)   (None, 8, 8, 2048)        37748736  \n",
      "_________________________________________________________________\n",
      "xnet_down6_conv_1_bn (BatchN (None, 8, 8, 2048)        8192      \n",
      "_________________________________________________________________\n",
      "xnet_down6_conv_1_activation (None, 8, 8, 2048)        0         \n",
      "_________________________________________________________________\n",
      "xnet_down6_conv_2 (Conv2D)   (None, 8, 8, 2048)        37748736  \n",
      "_________________________________________________________________\n",
      "xnet_down6_conv_2_bn (BatchN (None, 8, 8, 2048)        8192      \n",
      "_________________________________________________________________\n",
      "xnet_down6_conv_2_activation (None, 8, 8, 2048)        0         \n",
      "_________________________________________________________________\n",
      "xnet_up0_from5_decode_unpool (None, 16, 16, 2048)      0         \n",
      "_________________________________________________________________\n",
      "xnet_up0_from5_conv_before_c (None, 16, 16, 1024)      18874368  \n",
      "_________________________________________________________________\n",
      "xnet_up0_from5_conv_before_c (None, 16, 16, 1024)      4096      \n",
      "_________________________________________________________________\n",
      "xnet_up0_from5_conv_before_c (None, 16, 16, 1024)      0         \n",
      "_________________________________________________________________\n",
      "xnet_up0_from5_conv_after_co (None, 16, 16, 1024)      9437184   \n",
      "_________________________________________________________________\n",
      "xnet_up0_from5_conv_after_co (None, 16, 16, 1024)      4096      \n",
      "_________________________________________________________________\n",
      "xnet_up0_from5_conv_after_co (None, 16, 16, 1024)      0         \n",
      "_________________________________________________________________\n",
      "xnet_up0_from5_conv_after_co (None, 16, 16, 1024)      9437184   \n",
      "_________________________________________________________________\n",
      "xnet_up0_from5_conv_after_co (None, 16, 16, 1024)      4096      \n",
      "_________________________________________________________________\n",
      "xnet_up0_from5_conv_after_co (None, 16, 16, 1024)      0         \n",
      "_________________________________________________________________\n",
      "xnet_up0_from5_conv_after_co (None, 16, 16, 1024)      9437184   \n",
      "_________________________________________________________________\n",
      "xnet_up0_from5_conv_after_co (None, 16, 16, 1024)      4096      \n",
      "_________________________________________________________________\n",
      "xnet_up0_from5_conv_after_co (None, 16, 16, 1024)      0         \n",
      "_________________________________________________________________\n",
      "xnet_up1_from4_decode_unpool (None, 32, 32, 1024)      0         \n",
      "_________________________________________________________________\n",
      "xnet_up1_from4_conv_before_c (None, 32, 32, 512)       4718592   \n",
      "_________________________________________________________________\n",
      "xnet_up1_from4_conv_before_c (None, 32, 32, 512)       2048      \n",
      "_________________________________________________________________\n",
      "xnet_up1_from4_conv_before_c (None, 32, 32, 512)       0         \n",
      "_________________________________________________________________\n",
      "xnet_up1_from4_conv_after_co (None, 32, 32, 512)       2359296   \n",
      "_________________________________________________________________\n",
      "xnet_up1_from4_conv_after_co (None, 32, 32, 512)       2048      \n",
      "_________________________________________________________________\n",
      "xnet_up1_from4_conv_after_co (None, 32, 32, 512)       0         \n",
      "_________________________________________________________________\n",
      "xnet_up1_from4_conv_after_co (None, 32, 32, 512)       2359296   \n",
      "_________________________________________________________________\n",
      "xnet_up1_from4_conv_after_co (None, 32, 32, 512)       2048      \n",
      "_________________________________________________________________\n",
      "xnet_up1_from4_conv_after_co (None, 32, 32, 512)       0         \n",
      "_________________________________________________________________\n",
      "xnet_up1_from4_conv_after_co (None, 32, 32, 512)       2359296   \n",
      "_________________________________________________________________\n",
      "xnet_up1_from4_conv_after_co (None, 32, 32, 512)       2048      \n",
      "_________________________________________________________________\n",
      "xnet_up1_from4_conv_after_co (None, 32, 32, 512)       0         \n",
      "_________________________________________________________________\n",
      "xnet_up2_from3_decode_unpool (None, 64, 64, 512)       0         \n",
      "_________________________________________________________________\n",
      "xnet_up2_from3_conv_before_c (None, 64, 64, 256)       1179648   \n",
      "_________________________________________________________________\n",
      "xnet_up2_from3_conv_before_c (None, 64, 64, 256)       1024      \n",
      "_________________________________________________________________\n",
      "xnet_up2_from3_conv_before_c (None, 64, 64, 256)       0         \n",
      "_________________________________________________________________\n",
      "xnet_up2_from3_conv_after_co (None, 64, 64, 256)       589824    \n",
      "_________________________________________________________________\n",
      "xnet_up2_from3_conv_after_co (None, 64, 64, 256)       1024      \n",
      "_________________________________________________________________\n",
      "xnet_up2_from3_conv_after_co (None, 64, 64, 256)       0         \n",
      "_________________________________________________________________\n",
      "xnet_up2_from3_conv_after_co (None, 64, 64, 256)       589824    \n",
      "_________________________________________________________________\n",
      "xnet_up2_from3_conv_after_co (None, 64, 64, 256)       1024      \n",
      "_________________________________________________________________\n",
      "xnet_up2_from3_conv_after_co (None, 64, 64, 256)       0         \n",
      "_________________________________________________________________\n",
      "xnet_up2_from3_conv_after_co (None, 64, 64, 256)       589824    \n",
      "_________________________________________________________________\n",
      "xnet_up2_from3_conv_after_co (None, 64, 64, 256)       1024      \n",
      "_________________________________________________________________\n",
      "xnet_up2_from3_conv_after_co (None, 64, 64, 256)       0         \n",
      "_________________________________________________________________\n",
      "xnet_up3_from2_decode_unpool (None, 128, 128, 256)     0         \n",
      "_________________________________________________________________\n",
      "xnet_up3_from2_conv_before_c (None, 128, 128, 128)     294912    \n",
      "_________________________________________________________________\n",
      "xnet_up3_from2_conv_before_c (None, 128, 128, 128)     512       \n",
      "_________________________________________________________________\n",
      "xnet_up3_from2_conv_before_c (None, 128, 128, 128)     0         \n",
      "_________________________________________________________________\n",
      "xnet_up3_from2_conv_after_co (None, 128, 128, 128)     147456    \n",
      "_________________________________________________________________\n",
      "xnet_up3_from2_conv_after_co (None, 128, 128, 128)     512       \n",
      "_________________________________________________________________\n",
      "xnet_up3_from2_conv_after_co (None, 128, 128, 128)     0         \n",
      "_________________________________________________________________\n",
      "xnet_up3_from2_conv_after_co (None, 128, 128, 128)     147456    \n",
      "_________________________________________________________________\n",
      "xnet_up3_from2_conv_after_co (None, 128, 128, 128)     512       \n",
      "_________________________________________________________________\n",
      "xnet_up3_from2_conv_after_co (None, 128, 128, 128)     0         \n",
      "_________________________________________________________________\n",
      "xnet_up3_from2_conv_after_co (None, 128, 128, 128)     147456    \n",
      "_________________________________________________________________\n",
      "xnet_up3_from2_conv_after_co (None, 128, 128, 128)     512       \n",
      "_________________________________________________________________\n",
      "xnet_up3_from2_conv_after_co (None, 128, 128, 128)     0         \n",
      "_________________________________________________________________\n",
      "xnet_up4_from1_decode_unpool (None, 256, 256, 128)     0         \n",
      "_________________________________________________________________\n",
      "xnet_up4_from1_conv_before_c (None, 256, 256, 64)      73728     \n",
      "_________________________________________________________________\n",
      "xnet_up4_from1_conv_before_c (None, 256, 256, 64)      256       \n",
      "_________________________________________________________________\n",
      "xnet_up4_from1_conv_before_c (None, 256, 256, 64)      0         \n",
      "_________________________________________________________________\n",
      "xnet_up4_from1_conv_after_co (None, 256, 256, 64)      36864     \n",
      "_________________________________________________________________\n",
      "xnet_up4_from1_conv_after_co (None, 256, 256, 64)      256       \n",
      "_________________________________________________________________\n",
      "xnet_up4_from1_conv_after_co (None, 256, 256, 64)      0         \n",
      "_________________________________________________________________\n",
      "xnet_up4_from1_conv_after_co (None, 256, 256, 64)      36864     \n",
      "_________________________________________________________________\n",
      "xnet_up4_from1_conv_after_co (None, 256, 256, 64)      256       \n",
      "_________________________________________________________________\n",
      "xnet_up4_from1_conv_after_co (None, 256, 256, 64)      0         \n",
      "_________________________________________________________________\n",
      "xnet_up4_from1_conv_after_co (None, 256, 256, 64)      36864     \n",
      "_________________________________________________________________\n",
      "xnet_up4_from1_conv_after_co (None, 256, 256, 64)      256       \n",
      "_________________________________________________________________\n",
      "xnet_up4_from1_conv_after_co (None, 256, 256, 64)      0         \n",
      "_________________________________________________________________\n",
      "xnet_up5_from0_decode_unpool (None, 512, 512, 64)      0         \n",
      "_________________________________________________________________\n",
      "xnet_up5_from0_conv_before_c (None, 512, 512, 32)      18432     \n",
      "_________________________________________________________________\n",
      "xnet_up5_from0_conv_before_c (None, 512, 512, 32)      128       \n",
      "_________________________________________________________________\n",
      "xnet_up5_from0_conv_before_c (None, 512, 512, 32)      0         \n",
      "_________________________________________________________________\n",
      "xnet_up5_from0_conv_after_co (None, 512, 512, 32)      9216      \n",
      "_________________________________________________________________\n",
      "xnet_up5_from0_conv_after_co (None, 512, 512, 32)      128       \n",
      "_________________________________________________________________\n",
      "xnet_up5_from0_conv_after_co (None, 512, 512, 32)      0         \n",
      "_________________________________________________________________\n",
      "xnet_up5_from0_conv_after_co (None, 512, 512, 32)      9216      \n",
      "_________________________________________________________________\n",
      "xnet_up5_from0_conv_after_co (None, 512, 512, 32)      128       \n",
      "_________________________________________________________________\n",
      "xnet_up5_from0_conv_after_co (None, 512, 512, 32)      0         \n",
      "_________________________________________________________________\n",
      "xnet_up5_from0_conv_after_co (None, 512, 512, 32)      9216      \n",
      "_________________________________________________________________\n",
      "xnet_up5_from0_conv_after_co (None, 512, 512, 32)      128       \n",
      "_________________________________________________________________\n",
      "xnet_up5_from0_conv_after_co (None, 512, 512, 32)      0         \n",
      "_________________________________________________________________\n",
      "xnet_output (Conv2D)         (None, 512, 512, 1)       33        \n",
      "_________________________________________________________________\n",
      "xnet_output_activation (Acti (None, 512, 512, 1)       0         \n",
      "=================================================================\n",
      "Total params: 188,797,377\n",
      "Trainable params: 188,756,865\n",
      "Non-trainable params: 40,512\n",
      "_________________________________________________________________\n"
     ]
    }
   ],
   "source": [
    "R = Runner(verbose=True, classifier='kunetplus2d')"
   ]
  },
  {
   "cell_type": "code",
   "execution_count": 5,
   "id": "87b0c65d",
   "metadata": {},
   "outputs": [],
   "source": [
    "# load our larger toy dataset (10k images and masks)\n",
    "images = np.load('/hpcstor6/scratch01/r/ryan.zurrin001/GP2TOYEXAMPLE_LARGE/images.npy')\n",
    "masks = np.load('/hpcstor6/scratch01/r/ryan.zurrin001/GP2TOYEXAMPLE_LARGE/masks.npy')"
   ]
  },
  {
   "cell_type": "code",
   "execution_count": 6,
   "id": "7330ad24",
   "metadata": {},
   "outputs": [],
   "source": [
    "images = images[:5000]\n",
    "masks = masks[:5000]"
   ]
  },
  {
   "cell_type": "code",
   "execution_count": 7,
   "id": "d5b4179a",
   "metadata": {},
   "outputs": [
    {
     "data": {
      "text/plain": [
       "(5000, 512, 512, 1)"
      ]
     },
     "execution_count": 7,
     "metadata": {},
     "output_type": "execute_result"
    }
   ],
   "source": [
    "images.shape"
   ]
  },
  {
   "cell_type": "code",
   "execution_count": 8,
   "id": "57033c4e",
   "metadata": {},
   "outputs": [
    {
     "data": {
      "text/plain": [
       "(5000, 512, 512, 1)"
      ]
     },
     "execution_count": 8,
     "metadata": {},
     "output_type": "execute_result"
    }
   ],
   "source": [
    "masks.shape"
   ]
  },
  {
   "cell_type": "code",
   "execution_count": 9,
   "id": "393c7029",
   "metadata": {},
   "outputs": [
    {
     "name": "stdout",
     "output_type": "stream",
     "text": [
      "255\n"
     ]
    }
   ],
   "source": [
    "print(images.max())"
   ]
  },
  {
   "cell_type": "code",
   "execution_count": 10,
   "id": "97eca1aa",
   "metadata": {},
   "outputs": [
    {
     "name": "stdout",
     "output_type": "stream",
     "text": [
      "0\n"
     ]
    }
   ],
   "source": [
    "print(images.min())"
   ]
  },
  {
   "cell_type": "code",
   "execution_count": 11,
   "id": "2821eb86",
   "metadata": {},
   "outputs": [
    {
     "name": "stdout",
     "output_type": "stream",
     "text": [
      "True\n"
     ]
    }
   ],
   "source": [
    "print(masks.max())"
   ]
  },
  {
   "cell_type": "code",
   "execution_count": 12,
   "id": "1dd71668",
   "metadata": {},
   "outputs": [],
   "source": [
    "weights = {\n",
    "    'A': 0.5,\n",
    "    'A_train': 0.1,\n",
    "    'A_val': 0.3,\n",
    "    'A_test': 0.6,\n",
    "    'B': 0.3,\n",
    "    'B_train': 0.7,\n",
    "    'B_val': 0.1,\n",
    "    'B_test': 0.2,\n",
    "    'Z': 0.2\n",
    "}\n",
    "PERCENT_TO_REPLACE = 30"
   ]
  },
  {
   "cell_type": "code",
   "execution_count": 13,
   "id": "2a5d1030",
   "metadata": {},
   "outputs": [
    {
     "name": "stdout",
     "output_type": "stream",
     "text": [
      "Weights OK!\n"
     ]
    }
   ],
   "source": [
    "R.setup_data(images, masks, dataset_size=5000, weights=weights)"
   ]
  },
  {
   "cell_type": "code",
   "execution_count": 14,
   "id": "99127251",
   "metadata": {},
   "outputs": [],
   "source": [
    "RUNS = 5"
   ]
  },
  {
   "cell_type": "code",
   "execution_count": 15,
   "id": "d8ff85c4",
   "metadata": {
    "scrolled": true
   },
   "outputs": [
    {
     "name": "stdout",
     "output_type": "stream",
     "text": [
      "***\n",
      "RUN: 0\n"
     ]
    },
    {
     "name": "stderr",
     "output_type": "stream",
     "text": [
      "2023-04-22 10:47:42.210405: I tensorflow/compiler/mlir/mlir_graph_optimization_pass.cc:176] None of the MLIR Optimization Passes are enabled (registered 2)\n",
      "2023-04-22 10:47:42.231014: I tensorflow/core/platform/profile_utils/cpu_utils.cc:114] CPU Frequency: 2245755000 Hz\n"
     ]
    },
    {
     "name": "stdout",
     "output_type": "stream",
     "text": [
      "Epoch 1/100\n"
     ]
    },
    {
     "name": "stderr",
     "output_type": "stream",
     "text": [
      "2023-04-22 10:47:46.656387: I tensorflow/stream_executor/platform/default/dso_loader.cc:53] Successfully opened dynamic library libcudnn.so.8\n",
      "2023-04-22 10:47:47.331368: I tensorflow/stream_executor/cuda/cuda_dnn.cc:359] Loaded cuDNN version 8201\n",
      "2023-04-22 10:47:48.042252: W tensorflow/stream_executor/gpu/asm_compiler.cc:191] Falling back to the CUDA driver for PTX compilation; ptxas does not support CC 8.0\n",
      "2023-04-22 10:47:48.042277: W tensorflow/stream_executor/gpu/asm_compiler.cc:194] Used ptxas at ptxas\n",
      "2023-04-22 10:47:48.042335: W tensorflow/stream_executor/gpu/redzone_allocator.cc:314] Unimplemented: ptxas ptxas too old. Falling back to the driver to compile.\n",
      "Relying on driver to perform ptx compilation. \n",
      "Modify $PATH to customize ptxas location.\n",
      "This message will be only logged once.\n",
      "2023-04-22 10:47:48.050792: I tensorflow/stream_executor/platform/default/dso_loader.cc:53] Successfully opened dynamic library libcublas.so.11\n",
      "2023-04-22 10:47:48.777932: I tensorflow/stream_executor/platform/default/dso_loader.cc:53] Successfully opened dynamic library libcublasLt.so.11\n"
     ]
    },
    {
     "name": "stdout",
     "output_type": "stream",
     "text": [
      "250/250 [==============================] - 28s 77ms/step - loss: 0.6812 - dice_coef: 0.2012 - val_loss: 0.5493 - val_dice_coef: 0.1567\n"
     ]
    },
    {
     "name": "stderr",
     "output_type": "stream",
     "text": [
      "2023-04-22 10:48:15.054126: W tensorflow/python/util/util.cc:348] Sets are not currently considered sequences, but this may change in the future, so consider avoiding using them.\n"
     ]
    },
    {
     "name": "stdout",
     "output_type": "stream",
     "text": [
      "Epoch 2/100\n",
      "250/250 [==============================] - 18s 74ms/step - loss: 0.5946 - dice_coef: 0.2117 - val_loss: 0.7245 - val_dice_coef: 0.1731\n",
      "Epoch 3/100\n",
      "250/250 [==============================] - 18s 73ms/step - loss: 0.5824 - dice_coef: 0.2127 - val_loss: 1.6635 - val_dice_coef: 0.1796\n",
      "Epoch 4/100\n",
      "250/250 [==============================] - 18s 73ms/step - loss: 0.5530 - dice_coef: 0.2118 - val_loss: 0.7754 - val_dice_coef: 0.1734\n",
      "Epoch 5/100\n",
      "250/250 [==============================] - 18s 73ms/step - loss: 0.5530 - dice_coef: 0.2118 - val_loss: 0.7372 - val_dice_coef: 0.1731\n",
      "Epoch 6/100\n",
      "250/250 [==============================] - 18s 71ms/step - loss: 0.5530 - dice_coef: 0.2118 - val_loss: 0.6977 - val_dice_coef: 0.1721\n",
      "Model saved to: /tmp/tmpj6mn654mGP2/xnet_0xnet_model\n",
      "History saved to: /tmp/tmpj6mn654mGP2/xnet_history_0.pkl\n",
      "Testing the classifier...\n",
      "Model saved to /tmp/tmpj6mn654mGP2/cnnd_0.model\n",
      "History saved to /tmp/tmpj6mn654mGP2/cnnd_history_0.pickle\n",
      "Testing the discriminator...\n",
      "10/10 [==============================] - 0s 20ms/step - loss: 0.2449 - accuracy: 0.9600\n",
      "Found 121 machine labels.\n",
      "Machine labels [  1   3   5   8   9  11  12  13  14  16  23  28  30  31  40  42  46  49\n",
      "  53  56  59  60  66  67  68  69  70  72  78  82  83  84  86  89  92  97\n",
      " 100 107 109 110 112 114 115 116 117 119 123 127 130 133 136 137 140 141\n",
      " 145 146 147 149 150 151 154 155 156 163 165 168 172 174 175 178 179 180\n",
      " 182 183 187 188 192 197 198 199 200 202 206 208 212 213 217 219 222 225\n",
      " 232 233 235 242 243 244 246 247 249 250 251 252 254 257 258 262 269 270\n",
      " 273 274 277 278 279 280 284 285 287 288 290 296 298]\n",
      "D_ids ['15937c32-c9fe-45bb-aead-5018ab211ab0', '369ce9ea-6473-42bb-a38a-73d9c1d18f9f', 'ebcec6fd-10a1-47b4-9c83-7e4ef636f45e', '0e4d59d1-1ed2-4b42-816e-1924c8c3292c', '51277f6a-4757-4e8f-a507-8449d6e40e87', 'ca447c19-99ea-4f72-a7ef-5953aea109ca', '0229187b-081b-4578-9a9c-4e199b791550', 'd8b6683a-836f-4912-af1c-9d4c0ab196d7', '9755349d-6195-4158-8e95-3af17ecded60', 'f1596605-8387-4994-bd84-d65ee87a088c', '7cd1fd2b-cfe3-4a7e-8f83-be7da289d5fb', 'a5e6af92-ba32-4149-b678-f6d013cdaa01', 'ed554752-80de-402b-bc9d-ca10bc90d588', '381b8cdd-fea2-4cf1-8613-905200b777fa', 'd918398e-2155-4bf9-96c7-f88caf1227ac', 'b6fd7b3e-0a05-43be-8cb4-19d9850918f1', '38b36514-0251-49fb-9da1-e2c59c6dd938', 'a5755858-9262-4406-926a-0c4a3c31cc3c', '41dfb2d3-4f46-4f12-b374-3af2b55a537c', 'e97e6191-6dbe-4f43-9ab1-eed85eb59956', '1f00f845-ad52-4a92-895c-99e7eb11aea1', 'a87f0736-4f49-47a4-8206-757dd494ed49', '22868345-4f57-436f-ba3f-9f9e4595e416', 'e691f7a1-e329-4a64-9cbc-49f88424f84b', '9d15217a-1f72-459e-9c18-610535802b69', '230ca645-23da-46a0-8da7-224bfbf4dd9b', 'e22c4f6a-7581-4b28-90a1-6b6bf7abd31b', '274b14f7-b000-4316-a060-06ae38bcdee7', 'b6db6c82-a19e-4849-a540-8e01fd58abd7', '6e52e565-cc34-4782-af1f-26fc6915a2cf', '710a26da-0784-4ebc-85b2-97aec0abcb1d', '87fed8c3-e67f-4203-87f4-d0f03b24ce57', 'b7d54dcd-2ad3-4417-a86f-ac9e899535af', '7a125b2b-0a39-4ea8-a700-662000854279', '63d32281-0c6a-4a2e-85f4-e6d759d2690d', '73a0d83c-1c41-4e33-9e50-4dc27eac1d95', '7c52442e-6923-4aa7-a0d2-dafadc062479', '4c1e75b7-7a53-4005-b823-5b1fdb853a44', '73d78b8b-1d79-4358-acc3-f58afd69d249', '32123be1-96d1-47fb-8566-a042acee2e3d', '525bc184-ad74-4a71-bec7-08ce00f6c41c', '39838f54-3077-49c5-8c83-6954c2dbe702', '7e6d91b5-de50-43c1-b460-667230c9a410', '2e9f4d14-066a-42ff-9387-579fd17364eb', '3a9975e4-f468-4757-bf4f-b75c2badf020', '5f97a8e8-edc1-402a-b048-34a9b667e038', 'aeb8011d-4532-4cba-98cf-34b7bc550dde', '866111ce-c72a-4153-a104-2e17db867394', 'a200b61d-4020-4269-8bfd-bd23d34133f0', 'b96d23c3-78b7-4517-8ac5-e323711a47c7', '7630be3d-3d6b-4661-b419-122999f0c12f', '83457a6b-6859-48ad-9291-115f1d40443b', 'd1c1679a-b467-42d9-a4a0-714dc36b0537', 'f958cdf0-f678-4bb2-9e4a-c5691b0b2cfc', 'e54b6ac5-8e5d-484c-a952-0ba4f01c189e', '6f727c0a-ad05-421d-aae6-c6cb29bdd3bf', '8a4a3ce6-fa79-4f15-99fe-09fd2be11b03', 'f3e9a19d-9892-4b2b-b3c3-16e3f4378529', '8ec5974f-7c36-4548-917a-7156e12b2f1c', 'c7637f8c-075d-41f0-8ee4-24db08efb153', 'a639d3a1-d6af-4229-94f8-fb68f44cef0d', '194162d7-369a-4192-9a2a-0a79178d555c', '8eb9cdf7-aac0-4d31-829e-e65f5759a2c7', 'a063c0e0-7e93-4d55-99fe-d1c8f0e1f664', '8699af09-a749-4325-ad8f-ffc4abd12b5b', 'bb45c5f5-d718-47d5-8a1d-130a65cc739a', '25dcebfb-13d8-4b75-9bca-19a0c6885015', '166a2f49-3e38-45a5-a026-19beb4cb9296', '95805b06-7cd9-42c2-b364-c2ec0f8922ba', '227e073a-12e8-492f-bc68-909fc68af29c', 'febdb470-562d-4df2-b736-335eb0b7479f', '89c551a7-64bf-4ee0-87ea-82220939803e', 'ca2c6d82-d1fe-4eb6-aeed-04e6de500ec4', 'd8fb3850-e552-4797-822e-563bb211ea78', '6a48ec02-1bc0-45d8-b317-7e12d228ad6a', 'd463cea6-871d-455f-afdc-41c5f5c45638', '889c3fc2-ea20-42bf-a330-4082ad65b441', 'f8f6c564-1ba8-46e8-84ce-20fd356637ae', '6bd062ab-2737-4170-b008-d93cfa9a997b', 'bf625ef1-0c75-43bd-97e7-dff1f559383a', '4a57241f-858c-4531-970a-b153c760470e', 'e5a535bd-251a-40a5-99b1-69a6f469e113', 'dbfa3df3-131a-4bb8-b5fd-c5b018d88a24', 'a5053a78-7bfd-4eaf-a0d0-e6867b5a051b', '57ae1b71-a5d3-4c86-bad3-43dec5fa55d9', 'bd0ada12-0a63-43de-9a84-a5ad8547cdc9', '0fd6f301-3cb6-4a40-937a-317e77c42123', '4c9a017a-f20b-4baa-8869-8dd665db1422', '894f7a01-e8da-466b-8cac-936b7f042620', '04eaa8db-ebf4-4370-865f-0219d230456a', 'd1b5c745-a09b-47f6-9330-030d645b691a', '4ee66266-bd82-4f1e-892d-899773ff149a', '6a72b62e-5a76-4ddc-a217-23b68d12a155', 'd0f9c19c-f8da-4f2a-a647-fc9baed72f0c', '7ef49b2b-b32f-4395-b35f-b0a42f293e5b', '5b59c6af-1d1a-4ac3-a197-3d22ea19e036', 'abce62a4-8f11-4bc5-8805-18d325f30f6d', 'f92b0c5c-99af-4905-a4be-b714c6c854a4', '2783a1f1-aad9-4355-a538-5a3a7cdb9d28', 'bb15d6a6-ad37-4df2-88aa-2add9cf63650', 'b07f960f-8543-493b-83a1-27f8038185cd', '696eb4b5-b909-4813-af75-c60ea0513691', 'e3b1f4a3-f08e-43af-afa3-33845a32e560', '8f4f0803-1cc4-4592-bf4a-52b4cda0ffe8', 'd008e39a-27f3-4bb6-bee3-63b9542c1de4', 'deeb3fbe-9755-451a-8fcd-16594d1125e2', '0161b97b-a340-4cc3-95e7-bbad581fe940', '1110c7a5-5f04-433e-a4ec-1b6023ce2eff', '27cfe0cd-24e6-4f12-8de4-dadbb0d364ea', '3e228749-2c87-45dd-9d28-e73665f4d87a', 'ee61d4ff-655f-426d-a251-e3e66b650efc', '9cfcf89e-22c4-41d0-b929-a478f5bfdb2e', '484242d6-d8b2-4268-b39a-768244ff22a7', '7e8eb5d3-6a6b-4abb-9dcf-0e90afe32222', '120a6a7b-c85c-4c42-bcdc-c0c7ab9af116', '714c4081-af6d-4298-b4f2-653d106c7ecc', 'af624dff-6928-4413-9508-53cf43401c47', '798151d0-f964-4cec-9c9d-7f0c3107a4a0', '26b74cfe-8a9a-41ce-81d4-8b56829fdb13', 'ee5b46f8-6db7-4124-8d51-0a55f9ed4803', '50c6b012-b086-42ba-971c-483149e72427']\n",
      "Replacing 40 from 121 !\n",
      "D_relabeled_ 40\n",
      "selected_ids ['d1c1679a-b467-42d9-a4a0-714dc36b0537', '9755349d-6195-4158-8e95-3af17ecded60', '227e073a-12e8-492f-bc68-909fc68af29c', '6f727c0a-ad05-421d-aae6-c6cb29bdd3bf', 'ee61d4ff-655f-426d-a251-e3e66b650efc', '6e52e565-cc34-4782-af1f-26fc6915a2cf', '87fed8c3-e67f-4203-87f4-d0f03b24ce57', '714c4081-af6d-4298-b4f2-653d106c7ecc', '798151d0-f964-4cec-9c9d-7f0c3107a4a0', 'e691f7a1-e329-4a64-9cbc-49f88424f84b', '22868345-4f57-436f-ba3f-9f9e4595e416', 'c7637f8c-075d-41f0-8ee4-24db08efb153', '8eb9cdf7-aac0-4d31-829e-e65f5759a2c7', 'b6db6c82-a19e-4849-a540-8e01fd58abd7', '7c52442e-6923-4aa7-a0d2-dafadc062479', '04eaa8db-ebf4-4370-865f-0219d230456a', 'ee5b46f8-6db7-4124-8d51-0a55f9ed4803', '894f7a01-e8da-466b-8cac-936b7f042620', '9d15217a-1f72-459e-9c18-610535802b69', '8699af09-a749-4325-ad8f-ffc4abd12b5b', 'af624dff-6928-4413-9508-53cf43401c47', 'd463cea6-871d-455f-afdc-41c5f5c45638', 'a5e6af92-ba32-4149-b678-f6d013cdaa01', 'd8b6683a-836f-4912-af1c-9d4c0ab196d7', '3e228749-2c87-45dd-9d28-e73665f4d87a', '41dfb2d3-4f46-4f12-b374-3af2b55a537c', 'f1596605-8387-4994-bd84-d65ee87a088c', '484242d6-d8b2-4268-b39a-768244ff22a7', 'a200b61d-4020-4269-8bfd-bd23d34133f0', '1110c7a5-5f04-433e-a4ec-1b6023ce2eff', '73d78b8b-1d79-4358-acc3-f58afd69d249', 'a87f0736-4f49-47a4-8206-757dd494ed49', 'e97e6191-6dbe-4f43-9ab1-eed85eb59956', '274b14f7-b000-4316-a060-06ae38bcdee7', '7ef49b2b-b32f-4395-b35f-b0a42f293e5b', 'dbfa3df3-131a-4bb8-b5fd-c5b018d88a24', 'bb15d6a6-ad37-4df2-88aa-2add9cf63650', '710a26da-0784-4ebc-85b2-97aec0abcb1d', '2e9f4d14-066a-42ff-9387-579fd17364eb', 'f92b0c5c-99af-4905-a4be-b714c6c854a4']\n",
      "dict_keys(['d1c1679a-b467-42d9-a4a0-714dc36b0537', '9755349d-6195-4158-8e95-3af17ecded60', '227e073a-12e8-492f-bc68-909fc68af29c', '6f727c0a-ad05-421d-aae6-c6cb29bdd3bf', 'ee61d4ff-655f-426d-a251-e3e66b650efc', '6e52e565-cc34-4782-af1f-26fc6915a2cf', '87fed8c3-e67f-4203-87f4-d0f03b24ce57', '714c4081-af6d-4298-b4f2-653d106c7ecc', '798151d0-f964-4cec-9c9d-7f0c3107a4a0', 'e691f7a1-e329-4a64-9cbc-49f88424f84b', '22868345-4f57-436f-ba3f-9f9e4595e416', 'c7637f8c-075d-41f0-8ee4-24db08efb153', '8eb9cdf7-aac0-4d31-829e-e65f5759a2c7', 'b6db6c82-a19e-4849-a540-8e01fd58abd7', '7c52442e-6923-4aa7-a0d2-dafadc062479', '04eaa8db-ebf4-4370-865f-0219d230456a', 'ee5b46f8-6db7-4124-8d51-0a55f9ed4803', '894f7a01-e8da-466b-8cac-936b7f042620', '9d15217a-1f72-459e-9c18-610535802b69', '8699af09-a749-4325-ad8f-ffc4abd12b5b', 'af624dff-6928-4413-9508-53cf43401c47', 'd463cea6-871d-455f-afdc-41c5f5c45638', 'a5e6af92-ba32-4149-b678-f6d013cdaa01', 'd8b6683a-836f-4912-af1c-9d4c0ab196d7', '3e228749-2c87-45dd-9d28-e73665f4d87a', '41dfb2d3-4f46-4f12-b374-3af2b55a537c', 'f1596605-8387-4994-bd84-d65ee87a088c', '484242d6-d8b2-4268-b39a-768244ff22a7', 'a200b61d-4020-4269-8bfd-bd23d34133f0', '1110c7a5-5f04-433e-a4ec-1b6023ce2eff', '73d78b8b-1d79-4358-acc3-f58afd69d249', 'a87f0736-4f49-47a4-8206-757dd494ed49', 'e97e6191-6dbe-4f43-9ab1-eed85eb59956', '274b14f7-b000-4316-a060-06ae38bcdee7', '7ef49b2b-b32f-4395-b35f-b0a42f293e5b', 'dbfa3df3-131a-4bb8-b5fd-c5b018d88a24', 'bb15d6a6-ad37-4df2-88aa-2add9cf63650', '710a26da-0784-4ebc-85b2-97aec0abcb1d', '2e9f4d14-066a-42ff-9387-579fd17364eb', 'f92b0c5c-99af-4905-a4be-b714c6c854a4'])\n",
      "point ids 40\n",
      "Removed: 40 Filled: 40\n",
      "TOOK 325.0873227119446 seconds\n",
      "***\n",
      "RUN: 1\n"
     ]
    },
    {
     "name": "stdout",
     "output_type": "stream",
     "text": [
      "Epoch 1/100\n",
      "290/290 [==============================] - 20s 70ms/step - loss: 0.5544 - dice_coef: 0.2110 - val_loss: 0.8016 - val_dice_coef: 0.1741\n",
      "Epoch 2/100\n",
      "290/290 [==============================] - 20s 68ms/step - loss: 0.5544 - dice_coef: 0.2110 - val_loss: 0.7569 - val_dice_coef: 0.1730\n",
      "Epoch 3/100\n",
      "290/290 [==============================] - 20s 68ms/step - loss: 0.5544 - dice_coef: 0.2110 - val_loss: 0.6902 - val_dice_coef: 0.1718\n",
      "Model saved to: /tmp/tmpj6mn654mGP2/xnet_1xnet_model\n",
      "History saved to: /tmp/tmpj6mn654mGP2/xnet_history_1.pkl\n",
      "Testing the classifier...\n",
      "Testing the discriminator...\n",
      "10/10 [==============================] - 0s 18ms/step - loss: 0.2238 - accuracy: 0.9500\n",
      "Found 137 machine labels.\n",
      "Machine labels [  1   2   4   7   9  12  14  16  19  20  21  22  25  28  32  33  34  35\n",
      "  36  37  38  39  40  42  43  44  47  53  58  59  62  66  68  70  74  76\n",
      "  78  79  83  87  88  93  94  96  98 101 104 105 107 109 112 113 114 117\n",
      " 119 120 122 123 126 128 131 132 133 134 137 138 143 144 145 146 147 148\n",
      " 151 153 156 157 160 161 162 163 164 165 166 167 168 169 171 172 173 174\n",
      " 175 178 179 181 186 188 190 191 195 201 202 205 209 212 213 215 217 219\n",
      " 221 225 231 249 250 251 253 255 257 258 263 267 270 272 273 274 275 276\n",
      " 279 280 281 286 287 288 289 293 294 296 297]\n",
      "D_ids ['99c737bf-008f-4625-9f5e-d76d355cc707', '6d0228bc-213c-4f23-ae28-8f05beb0530b', 'f9480f89-b569-4460-baf1-8350029a0a30', 'd4bf5876-7651-4f3a-8ab8-58cc99a3fc3f', 'f4ffe351-0f6a-4cbb-aa32-5b2a52fb3e23', 'a8dc0561-530e-4e3d-96a8-121b553df240', '68b2a07e-bae9-49d7-a046-163b5c00c3f0', '6419cb81-6024-41ee-ba0c-21237b362989', '05ec4184-ae3c-40de-8d7f-b641fe6c64f2', '0a71d808-3a65-447d-b660-31cb58055bec', 'fd575b9d-4649-4c28-905c-7160a0b84643', '8e3b32e4-d8e0-40b9-9696-2f5a10b92165', 'add21c06-d7f4-4e32-8b84-638942fcea9d', 'f58539a7-f310-4b9a-9b1e-5fb94da41c46', '15937c32-c9fe-45bb-aead-5018ab211ab0', '096c4926-de50-4d4c-853b-002729408d29', '63d32281-0c6a-4a2e-85f4-e6d759d2690d', 'f7ef5134-4022-4eb1-86b6-482d2df9dc48', 'f0dca736-6424-41cc-8f5f-069c13e06c81', 'd1202330-fddf-4bfe-8ac4-aad6af6fc560', 'd8cd6dc8-9daf-4ecf-8968-a9862faea1c8', '216bc330-6d7f-47b1-a654-9dc576973a2b', '7de07a5a-5d95-4fe3-9296-6c442575022b', '71a0ba3c-f2e7-4beb-ac57-a57c1b9e03f5', '75abf7cf-f12f-410e-84f6-66c47ded58b7', '751f0f26-0b1d-47b6-b640-1d2a4bf84a09', 'd918398e-2155-4bf9-96c7-f88caf1227ac', '20b84d32-fdba-417c-942e-e7a4a506cc00', '557e2e59-5b9e-48b0-9223-b8d00e3d256f', '16b1f645-c2db-4d7a-9e0a-d2ea8014ccd8', 'df8d198f-d28f-4163-a9e5-ba24fd7b2389', 'f18a87f6-664f-4baf-b703-8773e08e5b57', '43959e7b-05fd-43dd-afe0-5d55db725950', 'c0d64255-7997-4078-a5db-1dc050c0728f', '75a7711e-a11e-415f-bebf-eb7a09c772b6', 'fedaff2c-8eb1-4ed9-8d55-d42e12fb414c', '7c54d796-517e-44df-9699-71186416aa11', 'a3874ac3-0112-4017-bedf-b6ed24ddbd37', '8e928084-5b66-4954-956f-3ebd44735419', '512d426f-3514-4a84-ac79-3232c280caca', '658aef33-10a5-4d7b-a19a-590096aa3152', '510bef71-13ff-4c0a-8a9a-95cc844183e4', '87ca715e-67c8-4815-bf30-42123b1fdfb3', '4267ebdd-3189-4c46-b0eb-3560e2fa452e', '86957415-6cfd-47bc-9acb-1d9949a96c3e', '1dc06dcb-aab5-4275-b822-8ff655df2c8a', '9af9beda-ab1d-446a-ad2d-4966f46eee07', '29fbf577-6a70-4f30-822b-b120724c982a', '61141444-4c3e-4d38-84db-2a36fe48f8ce', 'dcd94981-10d2-4a4f-bc66-82a8046f6b50', '0b39887e-c0c4-43ea-9d79-050a4cc3e181', 'f9bc0082-7b1d-4ee6-8dc6-b8c9c5195481', '7caebc30-ec3f-44a9-a358-47298a0dcbaa', '9767730e-7c0c-4e9a-a53d-3d241b5bfe69', '27cfe0cd-24e6-4f12-8de4-dadbb0d364ea', 'cff96fd0-ecda-4117-af73-b15b31d9975b', 'd67ab277-0867-41f4-ba2a-28c3847e5968', 'd783a4b3-714d-4c86-8054-54f690dfda73', '01a01cfe-b8e4-4e55-956d-add78871d4e5', 'dd1b1afb-329e-4f10-82bc-ec68a9bdee2e', '50c6b012-b086-42ba-971c-483149e72427', '212ae633-49dc-42b8-becc-c0cc33f5253e', '5648c5f2-abc7-461e-ac4d-1e009f04ca14', '4c9a017a-f20b-4baa-8869-8dd665db1422', '247dfd06-cfae-42f0-95c5-a0de8854da3d', '198f3505-9878-4175-b4c8-4a5e518cd5dc', '77c99b81-7077-4e9e-9569-3eb2033777d2', '3973abbe-7dc9-4deb-8ac5-d2081612d9fd', '2759c3ad-07c7-4248-801b-847a091c79b8', '045e3e33-30a3-49d7-b294-22511726cde8', '65ad77f7-bee3-4b4f-b25b-607bfeb9ff58', '19dc6829-2d0f-4370-9757-10a5acf269d6', '19e633f4-6811-4cec-928d-8a6a3a712393', '2abc17ee-25b5-480e-b17d-3ee5d2df0001', 'acc37fdc-e682-4db8-a026-9ae2f13ad394', '7b227aec-4bb7-49c8-9990-e1fb8e3ac643', '58c669fa-c97b-4d8a-a39e-8faf035ba29c', '4df19f0f-d24b-4977-999e-686e3c501eca', '02d97c69-326c-4aac-ad0c-f709306133b6', 'ac0bd016-f6c0-4fc9-8bbf-0a634edaf742', 'f5a75d94-4a77-4359-8b48-8b1a31e528d9', 'd1cc622f-dd03-4f21-afa4-546a586eab63', 'ab54a1c1-1038-439a-bf6e-fde2a8384d62', 'd7303b6a-aed7-478d-83ae-03c54858eebb', '80ab4f70-b57c-4522-ae8e-ff453cf879a4', '3ca442b5-a68a-4010-943d-6c9cf2e209a7', '4c9b8ca5-0a71-428f-8094-69a75807c0be', '1ee80c32-a1e2-41c2-b906-52dbabf73952', '90a3c728-8b85-46aa-a8fa-ff1506327db6', 'a46ed766-0c92-4c8b-875b-7a9fb2992d5b', 'ce704bd1-aabc-45c8-a924-e7608b4a054a', 'cd77a787-daf7-4360-a101-83266e2efbf7', 'c0146e84-5023-4263-90e3-c94ddfbbae86', 'dae5600d-1f6d-464c-a92d-ca04f51cbde3', '71aa7d30-b2d5-4dcc-b282-69f4d5c07315', '292af0de-0dd6-43ec-9baf-a1c5190a3ab7', 'd1b5c745-a09b-47f6-9330-030d645b691a', '864bbfd1-b149-4a51-ac09-5f159bd50e20', '26d96710-b9e1-448f-b07e-0288ed19ac86', 'b7d54dcd-2ad3-4417-a86f-ac9e899535af', 'e80a8fbe-dd4d-4fec-80e7-055f17866b29', '50c25bb4-21b8-47ab-9029-4fd1cb64e9b8', 'c0424252-a325-4656-bca6-7b2318da3f0d', '678155d9-5bc1-430c-9ba1-fc204ed4f506', '13d192f7-9a9c-44e2-b6e2-8cd47fa7fa41', 'd8fb3850-e552-4797-822e-563bb211ea78', '28774d24-2754-42fa-812f-470fd97e45a4', '25fec4b5-691c-4f8f-a966-12c9ae64f6e4', '97b550f4-23fa-4728-9dee-788cf97b8824', '5d63ed37-6ebf-4633-a97e-ba149b3e151c', 'e4c3f812-c1f3-489c-8abe-389d2457c34c', 'fe70a70d-8e8b-424d-9491-c3c138cfcd57', '8e8d74c0-efb2-4ab7-8973-12b890ac342f', '645b1e00-53dc-43f8-aa16-eb043d6ffd14', 'd0c5d87c-0765-44a2-ae23-aaf697bb1f62', 'dc0170a1-8d34-4d9f-bc5f-7900a80f9491', 'c2186878-0bef-423e-bc0a-7371f645389f', 'a59e33c6-7c4c-4fca-b3c4-3ae6a78da156', '36d06e2b-f48c-41cb-a737-14d080fbdc33', '317274c6-b3df-4106-9fba-e99bb2775d47', '8f4f0803-1cc4-4592-bf4a-52b4cda0ffe8', 'd41d64b6-ea89-48bd-834e-3dbad00a6a24', '6a538a77-354b-43f2-aef0-69e75416ddb6', '03950bcf-89dd-466e-b3fd-b230966d3ff6', '082de5e4-5714-4fd1-ab97-8a736e16dee0', 'bfe8e10e-e963-4529-9c23-83c8b2100feb', '7cc29254-05a3-4aae-9cce-c13a95f2fc28', 'd1207f77-a5ff-40e1-aa93-fd0e359fdaec', '0db8284a-ad9a-4311-9cff-dcea050cc131', 'f038e11b-48fc-4229-b7d1-1a3d7a9e9852', 'a8a1775c-2800-426b-ae09-8e3238a64d12', 'd965af85-47c8-4555-8672-d50b490764cb', '335ff6e2-6999-4fd9-aa60-5631813e934b', '4728bb97-76d0-47e1-a2f1-8803adfef045', '6e99d063-557e-4b52-84ca-1dd33dc2ad62', 'f564054c-1645-4491-9b03-bad05fcd9c0b', 'fa9b4d7e-32a3-4249-8aae-fabbca4be96c']\n",
      "Replacing 45 from 137 !\n",
      "D_relabeled_ 45\n",
      "selected_ids ['6a538a77-354b-43f2-aef0-69e75416ddb6', '678155d9-5bc1-430c-9ba1-fc204ed4f506', '13d192f7-9a9c-44e2-b6e2-8cd47fa7fa41', 'd965af85-47c8-4555-8672-d50b490764cb', 'dc0170a1-8d34-4d9f-bc5f-7900a80f9491', '1ee80c32-a1e2-41c2-b906-52dbabf73952', 'ab54a1c1-1038-439a-bf6e-fde2a8384d62', '7b227aec-4bb7-49c8-9990-e1fb8e3ac643', 'a59e33c6-7c4c-4fca-b3c4-3ae6a78da156', 'bfe8e10e-e963-4529-9c23-83c8b2100feb', '7caebc30-ec3f-44a9-a358-47298a0dcbaa', '512d426f-3514-4a84-ac79-3232c280caca', '29fbf577-6a70-4f30-822b-b120724c982a', '75a7711e-a11e-415f-bebf-eb7a09c772b6', 'c0d64255-7997-4078-a5db-1dc050c0728f', '198f3505-9878-4175-b4c8-4a5e518cd5dc', '77c99b81-7077-4e9e-9569-3eb2033777d2', 'd8cd6dc8-9daf-4ecf-8968-a9862faea1c8', 'd41d64b6-ea89-48bd-834e-3dbad00a6a24', 'cd77a787-daf7-4360-a101-83266e2efbf7', '7de07a5a-5d95-4fe3-9296-6c442575022b', 'c0424252-a325-4656-bca6-7b2318da3f0d', '510bef71-13ff-4c0a-8a9a-95cc844183e4', 'd67ab277-0867-41f4-ba2a-28c3847e5968', 'f18a87f6-664f-4baf-b703-8773e08e5b57', '247dfd06-cfae-42f0-95c5-a0de8854da3d', 'f038e11b-48fc-4229-b7d1-1a3d7a9e9852', '15937c32-c9fe-45bb-aead-5018ab211ab0', '7c54d796-517e-44df-9699-71186416aa11', 'f9480f89-b569-4460-baf1-8350029a0a30', 'd7303b6a-aed7-478d-83ae-03c54858eebb', 'fd575b9d-4649-4c28-905c-7160a0b84643', 'f0dca736-6424-41cc-8f5f-069c13e06c81', 'f564054c-1645-4491-9b03-bad05fcd9c0b', '19dc6829-2d0f-4370-9757-10a5acf269d6', 'acc37fdc-e682-4db8-a026-9ae2f13ad394', '16b1f645-c2db-4d7a-9e0a-d2ea8014ccd8', 'd918398e-2155-4bf9-96c7-f88caf1227ac', '27cfe0cd-24e6-4f12-8de4-dadbb0d364ea', '99c737bf-008f-4625-9f5e-d76d355cc707', '864bbfd1-b149-4a51-ac09-5f159bd50e20', '9af9beda-ab1d-446a-ad2d-4966f46eee07', '28774d24-2754-42fa-812f-470fd97e45a4', 'd783a4b3-714d-4c86-8054-54f690dfda73', '3973abbe-7dc9-4deb-8ac5-d2081612d9fd']\n",
      "dict_keys(['6a538a77-354b-43f2-aef0-69e75416ddb6', '678155d9-5bc1-430c-9ba1-fc204ed4f506', '13d192f7-9a9c-44e2-b6e2-8cd47fa7fa41', 'd965af85-47c8-4555-8672-d50b490764cb', 'dc0170a1-8d34-4d9f-bc5f-7900a80f9491', '1ee80c32-a1e2-41c2-b906-52dbabf73952', 'ab54a1c1-1038-439a-bf6e-fde2a8384d62', '7b227aec-4bb7-49c8-9990-e1fb8e3ac643', 'a59e33c6-7c4c-4fca-b3c4-3ae6a78da156', 'bfe8e10e-e963-4529-9c23-83c8b2100feb', '7caebc30-ec3f-44a9-a358-47298a0dcbaa', '512d426f-3514-4a84-ac79-3232c280caca', '29fbf577-6a70-4f30-822b-b120724c982a', '75a7711e-a11e-415f-bebf-eb7a09c772b6', 'c0d64255-7997-4078-a5db-1dc050c0728f', '198f3505-9878-4175-b4c8-4a5e518cd5dc', '77c99b81-7077-4e9e-9569-3eb2033777d2', 'd8cd6dc8-9daf-4ecf-8968-a9862faea1c8', 'd41d64b6-ea89-48bd-834e-3dbad00a6a24', 'cd77a787-daf7-4360-a101-83266e2efbf7', '7de07a5a-5d95-4fe3-9296-6c442575022b', 'c0424252-a325-4656-bca6-7b2318da3f0d', '510bef71-13ff-4c0a-8a9a-95cc844183e4', 'd67ab277-0867-41f4-ba2a-28c3847e5968', 'f18a87f6-664f-4baf-b703-8773e08e5b57', '247dfd06-cfae-42f0-95c5-a0de8854da3d', 'f038e11b-48fc-4229-b7d1-1a3d7a9e9852', '15937c32-c9fe-45bb-aead-5018ab211ab0', '7c54d796-517e-44df-9699-71186416aa11', 'f9480f89-b569-4460-baf1-8350029a0a30', 'd7303b6a-aed7-478d-83ae-03c54858eebb', 'fd575b9d-4649-4c28-905c-7160a0b84643', 'f0dca736-6424-41cc-8f5f-069c13e06c81', 'f564054c-1645-4491-9b03-bad05fcd9c0b', '19dc6829-2d0f-4370-9757-10a5acf269d6', 'acc37fdc-e682-4db8-a026-9ae2f13ad394', '16b1f645-c2db-4d7a-9e0a-d2ea8014ccd8', 'd918398e-2155-4bf9-96c7-f88caf1227ac', '27cfe0cd-24e6-4f12-8de4-dadbb0d364ea', '99c737bf-008f-4625-9f5e-d76d355cc707', '864bbfd1-b149-4a51-ac09-5f159bd50e20', '9af9beda-ab1d-446a-ad2d-4966f46eee07', '28774d24-2754-42fa-812f-470fd97e45a4', 'd783a4b3-714d-4c86-8054-54f690dfda73', '3973abbe-7dc9-4deb-8ac5-d2081612d9fd'])\n",
      "point ids 45\n",
      "Removed: 45 Filled: 45\n",
      "TOOK 170.61943674087524 seconds\n",
      "***\n",
      "RUN: 2\n"
     ]
    },
    {
     "name": "stdout",
     "output_type": "stream",
     "text": [
      "Epoch 1/100\n",
      "335/335 [==============================] - 22s 65ms/step - loss: 0.5549 - dice_coef: 0.2112 - val_loss: 0.7300 - val_dice_coef: 0.1728\n",
      "Epoch 2/100\n",
      "335/335 [==============================] - 22s 65ms/step - loss: 0.5549 - dice_coef: 0.2112 - val_loss: 0.7936 - val_dice_coef: 0.1738\n",
      "Epoch 3/100\n",
      "335/335 [==============================] - 22s 64ms/step - loss: 0.5549 - dice_coef: 0.2112 - val_loss: 0.6880 - val_dice_coef: 0.1715\n",
      "Model saved to: /tmp/tmpj6mn654mGP2/xnet_2xnet_model\n",
      "History saved to: /tmp/tmpj6mn654mGP2/xnet_history_2.pkl\n",
      "Testing the classifier...\n",
      "Testing the discriminator...\n",
      "10/10 [==============================] - 0s 20ms/step - loss: 0.1256 - accuracy: 0.9733\n",
      "Found 130 machine labels.\n",
      "Machine labels [  1   2   4   5   6   7   8   9  13  15  18  19  20  21  24  26  27  28\n",
      "  29  31  33  34  36  44  45  46  49  50  51  59  64  65  67  69  72  77\n",
      "  79  81  82  83  87  89  90  97  98  99 101 106 107 108 110 112 114 119\n",
      " 120 122 125 126 127 128 129 130 131 134 135 137 141 142 143 151 152 154\n",
      " 155 156 157 162 163 165 166 168 169 170 172 176 179 181 183 186 188 192\n",
      " 193 194 198 199 204 207 209 213 214 220 222 223 224 225 227 230 231 235\n",
      " 236 240 244 250 254 256 261 269 270 271 274 277 278 281 284 287 288 289\n",
      " 291 296 298 299]\n",
      "D_ids ['5f7d9a83-10f2-4be9-b5cf-112eb34adad4', '60e163d0-32bf-4c3b-be24-a7f648bf4e26', '18c4cae0-6013-4194-8382-d0810f36f093', '20f94ecf-41ab-4e9b-818c-05e0e11b4aa8', '85e8f02e-1883-456a-81fc-7bc94df171b0', 'd9f1d7e8-c993-4d6c-8ec9-6e6a4e2b8a2b', 'd558a05a-f6b1-4984-8f03-997727e33b13', '155a3501-e760-414d-85e5-41c52c7c3c8a', '15af9a12-9428-4e8c-b89d-e6a21454e7aa', 'a082521f-8cb1-4304-9a2e-1d1a20d38360', '7630be3d-3d6b-4661-b419-122999f0c12f', '03785f95-d9c4-46da-bc4e-8b764e252431', '35d5f358-20f8-4e78-8e72-eacf4ebcd0d4', '49b9b147-37b7-4934-a6c7-309c0d144381', 'f53c1923-0475-4a9f-bfbd-e0eca0b71ca1', 'b220dedb-5110-4d8d-9b0b-b3b2d1172773', 'f553f397-e898-4c0c-81ee-0b30f56018ba', '8cb713a6-6ba3-4481-964d-ea57d35ae74e', 'b68e4e13-730a-4aba-89f3-190bbe00c45d', 'dbe20426-e881-4bb2-a350-c594420e7fa7', '8a4a3ce6-fa79-4f15-99fe-09fd2be11b03', '4fb88a0d-8e08-4435-9871-7b482f8b95b9', '3036a286-6a93-4f9d-a175-9ba315cd417e', '57ae1b71-a5d3-4c86-bad3-43dec5fa55d9', '532f5926-015f-43fc-947a-f6081fe77ee0', '37c7e40b-e4c5-4935-ab6a-6f9012c084a5', 'fb19c913-047a-41c3-8d5a-f3f892a0fec0', '7a125b2b-0a39-4ea8-a700-662000854279', '216bc330-6d7f-47b1-a654-9dc576973a2b', '06782a82-11c8-408f-b716-e167920cbc9f', 'b709867c-af23-41e3-9f09-44cc7548a300', 'c00e4604-d6d4-438c-8a21-9e6839771718', 'e8de2cd7-fd2a-4821-bc38-2cbacd622fd1', '4b4d4a3b-30d6-4a48-b4dc-d6914125d918', '4b8ee26c-9add-4deb-8525-115105d38e2b', '4728bb97-76d0-47e1-a2f1-8803adfef045', 'ca17b905-ff4e-4048-b7f5-62dc248c1129', 'c796cef6-b017-4724-a4bf-23e48d57b651', 'b2f8c3f0-1c0f-49c3-82bd-8eb5f8faf8ae', '3a80ad92-b107-4337-998a-74a7908a93aa', '1ceda55e-b2c6-4ebe-a206-3eff45bcb73b', 'e1e4aa07-10bf-45db-a1fe-2a0d48a81cfb', '1b89c058-124d-441d-a2fe-97ce2512ac89', '501e53ef-ef44-49ab-bdf4-b45ee719fac6', '006e34cd-ca30-4ccc-84a5-09bb17617cf7', '9d3d43bc-ea8d-46a9-81e4-cb177b9ae83f', 'a702e85d-9a94-4667-a317-1fbdd3f07ca2', '3456b491-c72a-484e-84f8-6572833b20c6', '6a5cc5e9-89f1-4123-8c95-c4a9f7e5b67d', '0a06d3cd-c887-4e5b-b5f4-6dbe77eece9e', 'f5d5c8c9-d37f-4449-b964-0279442de59b', '7096055b-7822-4d3a-aea5-5d1456373a24', '0161b97b-a340-4cc3-95e7-bbad581fe940', '02258609-74b5-4757-bb25-5d5aa2941bb1', 'f764477e-79d1-4347-bba7-7f13d56282c0', '30ce16fc-6448-4b4f-9a1b-bab775b14cfa', '86957415-6cfd-47bc-9acb-1d9949a96c3e', '03dc7aca-520d-426e-88c1-10aac4f8db86', 'a2a29c8d-4b9f-490f-a1c7-0e31d27a1a4e', '5eb8be77-b9e3-4f25-99f2-f306c7814b45', '4951c9f7-b299-43b0-aee2-b6d81dd3c6d3', 'b62f74a6-e49d-46d8-8545-475db619dae2', '756816a1-9852-4fef-a87b-595519d7fe3b', '5d504e0f-9f41-489a-adf0-7a3815fed05c', '896a6392-fdc8-4e1f-bd9c-865b8e02a9f6', 'ab1a7b43-d3a0-4879-aa5c-c487da1fff99', '4d301265-c174-4d50-a51b-9a13c5b513ea', '296b3c08-1184-4bc3-82c6-ac21a78dcda2', 'b6fd7b3e-0a05-43be-8cb4-19d9850918f1', '30ea1ef8-e355-454e-b3c0-bb0b7caf81c9', '6477c137-da38-4ae3-adc4-c3fd5c77ab98', 'a0d4b3ea-841b-483b-89f0-2d885aea53c7', '0229187b-081b-4578-9a9c-4e199b791550', '822dc8d3-1383-4afd-8cbb-2230482c24cf', '3e4a6edb-faef-4bb5-a43b-64d408878a31', '9f7bd927-ac25-43f5-8438-616cb966b2d6', 'c7f1c59a-278a-4b3a-8daf-6c03696cb5a0', 'dea134c3-a334-4292-a9bf-f0cf02cfeb0b', '01e02624-841f-43dc-84a2-9e933e751452', '2bcaaa8c-0dae-4898-91ab-ee4ac9f84ff9', 'e4779519-241b-4c5e-b349-860be6536550', 'e96db581-8255-46eb-9284-207cf01782e1', 'bb32b8d7-d2fe-4e8f-be0a-9df1225e9dca', '09966e6c-97e0-4f99-ae92-e81115b6d9bc', 'cbe35b1c-a279-46f6-96fa-7138306a12b8', '3fc2693a-552e-493a-9ae6-5e594176c5a3', '8d3657fd-db23-46f5-9b11-342fd0a0e2b9', '39ab0399-7324-4c06-b6f6-316a324c4d3b', 'e1982b5b-35fa-46d7-b017-e334fe4a8719', '02984050-ca93-48ce-8f05-bf159c256ddc', '50c25bb4-21b8-47ab-9029-4fd1cb64e9b8', '7319dbaa-40e2-48c5-8849-058cc2d6a645', '9261028f-b2a9-41b9-b6bf-aad3461892d3', '3cc8a7d8-1553-490b-b62a-e989b9fcc667', '69b83ef7-3f9b-4d47-8274-9c65bc358f1f', 'bab71204-967a-40e9-a557-bfc6db2ab798', '166a2f49-3e38-45a5-a026-19beb4cb9296', 'd8dfcead-e749-4c59-ae1e-1d72f11574cc', '15c13157-9519-40d8-a9ef-335ed6a1a17c', 'bed5bd96-0eb9-47d0-81f8-bfdb3b7b9f17', 'dce9baa4-2add-4880-8aea-c46701aa2a80', '843aa0cc-f565-4263-a816-0a3b28b310f6', '67a6fccd-d8fc-4204-8e8a-1252588dc1eb', 'b76aebec-9f10-475c-bdee-ba36d1f94dbd', '134fa335-2291-47ac-93b4-fcd1258bbfbe', '25fe90f0-18b6-47ec-8b98-1fb7302228c2', '9bf3f3b7-5b4e-4bb5-b91f-ec9cf0838d55', 'a5f02088-3172-4c15-8b8a-4d30ded7da33', '557e2e59-5b9e-48b0-9223-b8d00e3d256f', '3ca442b5-a68a-4010-943d-6c9cf2e209a7', '1e1dea4f-8c26-41e5-979f-2ebf6560f6ed', '143040b7-f319-4284-a549-33433546698b', '00969a65-6daf-49f6-b99c-80b6c31cc87e', '4b9b22df-9670-459d-a96f-9f6ef71c4f93', 'f8a57ac0-4761-4e32-a74f-e55c33e3b65b', '5008cda4-f16f-4c0d-ae34-2ee0b146c8e1', '2759c3ad-07c7-4248-801b-847a091c79b8', '26d96710-b9e1-448f-b07e-0288ed19ac86', '2cb39589-69ae-4793-ba54-977f0ec1661d', 'd88f890f-5770-414a-aef6-cc916fff4b86', '77a58727-56a3-4af5-9f42-c393aada5516', 'f171f12b-e4c3-471a-a8da-832cadd44228', '8470f579-c74d-4568-a394-7fec3a6878ec', '73525063-5f89-4b9d-9e29-5675d0ce0927', '473ceab0-21a3-4688-9795-5885f1840a1a', '8057349d-b707-414e-b82b-fa00f29c22f0', '4c1e75b7-7a53-4005-b823-5b1fdb853a44', '4e5c97c4-38cc-4fe8-9fdc-a617f3e9bc84', '884622c7-247d-43a3-b55c-96f4e3419774', 'b953692f-cd6a-4bf9-8963-8dc97f0eb04f']\n",
      "Replacing 43 from 130 !\n",
      "D_relabeled_ 43\n",
      "selected_ids ['f53c1923-0475-4a9f-bfbd-e0eca0b71ca1', '134fa335-2291-47ac-93b4-fcd1258bbfbe', '7096055b-7822-4d3a-aea5-5d1456373a24', 'b76aebec-9f10-475c-bdee-ba36d1f94dbd', '2759c3ad-07c7-4248-801b-847a091c79b8', '15c13157-9519-40d8-a9ef-335ed6a1a17c', 'a5f02088-3172-4c15-8b8a-4d30ded7da33', '3cc8a7d8-1553-490b-b62a-e989b9fcc667', 'a2a29c8d-4b9f-490f-a1c7-0e31d27a1a4e', '4b9b22df-9670-459d-a96f-9f6ef71c4f93', '50c25bb4-21b8-47ab-9029-4fd1cb64e9b8', '4728bb97-76d0-47e1-a2f1-8803adfef045', '00969a65-6daf-49f6-b99c-80b6c31cc87e', 'bab71204-967a-40e9-a557-bfc6db2ab798', '4951c9f7-b299-43b0-aee2-b6d81dd3c6d3', 'b6fd7b3e-0a05-43be-8cb4-19d9850918f1', '5d504e0f-9f41-489a-adf0-7a3815fed05c', '1ceda55e-b2c6-4ebe-a206-3eff45bcb73b', '155a3501-e760-414d-85e5-41c52c7c3c8a', 'f171f12b-e4c3-471a-a8da-832cadd44228', '3a80ad92-b107-4337-998a-74a7908a93aa', '9261028f-b2a9-41b9-b6bf-aad3461892d3', 'b2f8c3f0-1c0f-49c3-82bd-8eb5f8faf8ae', '557e2e59-5b9e-48b0-9223-b8d00e3d256f', 'b220dedb-5110-4d8d-9b0b-b3b2d1172773', '57ae1b71-a5d3-4c86-bad3-43dec5fa55d9', 'e96db581-8255-46eb-9284-207cf01782e1', 'b68e4e13-730a-4aba-89f3-190bbe00c45d', '5f7d9a83-10f2-4be9-b5cf-112eb34adad4', '67a6fccd-d8fc-4204-8e8a-1252588dc1eb', 'ca17b905-ff4e-4048-b7f5-62dc248c1129', 'dea134c3-a334-4292-a9bf-f0cf02cfeb0b', '77a58727-56a3-4af5-9f42-c393aada5516', '5eb8be77-b9e3-4f25-99f2-f306c7814b45', '49b9b147-37b7-4934-a6c7-309c0d144381', 'c796cef6-b017-4724-a4bf-23e48d57b651', '3456b491-c72a-484e-84f8-6572833b20c6', 'f764477e-79d1-4347-bba7-7f13d56282c0', '1b89c058-124d-441d-a2fe-97ce2512ac89', '6a5cc5e9-89f1-4123-8c95-c4a9f7e5b67d', 'b709867c-af23-41e3-9f09-44cc7548a300', '006e34cd-ca30-4ccc-84a5-09bb17617cf7', '143040b7-f319-4284-a549-33433546698b']\n",
      "dict_keys(['f53c1923-0475-4a9f-bfbd-e0eca0b71ca1', '134fa335-2291-47ac-93b4-fcd1258bbfbe', '7096055b-7822-4d3a-aea5-5d1456373a24', 'b76aebec-9f10-475c-bdee-ba36d1f94dbd', '2759c3ad-07c7-4248-801b-847a091c79b8', '15c13157-9519-40d8-a9ef-335ed6a1a17c', 'a5f02088-3172-4c15-8b8a-4d30ded7da33', '3cc8a7d8-1553-490b-b62a-e989b9fcc667', 'a2a29c8d-4b9f-490f-a1c7-0e31d27a1a4e', '4b9b22df-9670-459d-a96f-9f6ef71c4f93', '50c25bb4-21b8-47ab-9029-4fd1cb64e9b8', '4728bb97-76d0-47e1-a2f1-8803adfef045', '00969a65-6daf-49f6-b99c-80b6c31cc87e', 'bab71204-967a-40e9-a557-bfc6db2ab798', '4951c9f7-b299-43b0-aee2-b6d81dd3c6d3', 'b6fd7b3e-0a05-43be-8cb4-19d9850918f1', '5d504e0f-9f41-489a-adf0-7a3815fed05c', '1ceda55e-b2c6-4ebe-a206-3eff45bcb73b', '155a3501-e760-414d-85e5-41c52c7c3c8a', 'f171f12b-e4c3-471a-a8da-832cadd44228', '3a80ad92-b107-4337-998a-74a7908a93aa', '9261028f-b2a9-41b9-b6bf-aad3461892d3', 'b2f8c3f0-1c0f-49c3-82bd-8eb5f8faf8ae', '557e2e59-5b9e-48b0-9223-b8d00e3d256f', 'b220dedb-5110-4d8d-9b0b-b3b2d1172773', '57ae1b71-a5d3-4c86-bad3-43dec5fa55d9', 'e96db581-8255-46eb-9284-207cf01782e1', 'b68e4e13-730a-4aba-89f3-190bbe00c45d', '5f7d9a83-10f2-4be9-b5cf-112eb34adad4', '67a6fccd-d8fc-4204-8e8a-1252588dc1eb', 'ca17b905-ff4e-4048-b7f5-62dc248c1129', 'dea134c3-a334-4292-a9bf-f0cf02cfeb0b', '77a58727-56a3-4af5-9f42-c393aada5516', '5eb8be77-b9e3-4f25-99f2-f306c7814b45', '49b9b147-37b7-4934-a6c7-309c0d144381', 'c796cef6-b017-4724-a4bf-23e48d57b651', '3456b491-c72a-484e-84f8-6572833b20c6', 'f764477e-79d1-4347-bba7-7f13d56282c0', '1b89c058-124d-441d-a2fe-97ce2512ac89', '6a5cc5e9-89f1-4123-8c95-c4a9f7e5b67d', 'b709867c-af23-41e3-9f09-44cc7548a300', '006e34cd-ca30-4ccc-84a5-09bb17617cf7', '143040b7-f319-4284-a549-33433546698b'])\n",
      "point ids 43\n",
      "Removed: 43 Filled: 43\n",
      "TOOK 171.0461163520813 seconds\n",
      "***\n",
      "RUN: 3\n"
     ]
    },
    {
     "name": "stdout",
     "output_type": "stream",
     "text": [
      "Epoch 1/100\n",
      "378/378 [==============================] - 23s 62ms/step - loss: 0.5290 - dice_coef: 0.2119 - val_loss: 2.7462 - val_dice_coef: 0.1722\n",
      "Epoch 2/100\n",
      "378/378 [==============================] - 23s 61ms/step - loss: 0.4360 - dice_coef: 0.2091 - val_loss: 1.5881 - val_dice_coef: 0.1725\n",
      "Epoch 3/100\n",
      "378/378 [==============================] - 23s 60ms/step - loss: 0.3701 - dice_coef: 0.2000 - val_loss: 0.3969 - val_dice_coef: 0.1484\n",
      "Epoch 4/100\n",
      "378/378 [==============================] - 23s 60ms/step - loss: 0.3701 - dice_coef: 0.2000 - val_loss: 0.4317 - val_dice_coef: 0.1535\n",
      "Epoch 5/100\n",
      "378/378 [==============================] - 24s 63ms/step - loss: 0.3701 - dice_coef: 0.2000 - val_loss: 0.4441 - val_dice_coef: 0.1541\n",
      "Model saved to: /tmp/tmpj6mn654mGP2/xnet_3xnet_model\n",
      "History saved to: /tmp/tmpj6mn654mGP2/xnet_history_3.pkl\n",
      "Testing the classifier...\n",
      "Testing the discriminator...\n",
      "10/10 [==============================] - 0s 18ms/step - loss: 0.5001 - accuracy: 0.9367\n",
      "Found 106 machine labels.\n",
      "Machine labels [  2   3   7  13  18  20  22  28  31  32  37  39  43  46  48  49  50  55\n",
      "  61  65  67  70  71  72  74  78  79  80  81  82  84  89  90  91  92  93\n",
      "  97  98 102 103 105 106 115 119 123 124 125 131 133 136 144 148 151 154\n",
      " 158 163 170 171 176 181 183 186 188 194 196 199 203 207 209 211 216 219\n",
      " 220 221 225 226 228 230 231 233 234 238 239 241 245 247 251 254 256 257\n",
      " 258 262 270 272 275 276 279 280 282 283 288 290 292 293 296 299]\n",
      "D_ids ['f4f3b6f6-51c5-4444-b828-e417eca69c8a', 'bd0ada12-0a63-43de-9a84-a5ad8547cdc9', 'ad260805-b1b3-4000-a3f1-0b158fbf39ee', 'f20f9727-2159-4a5e-88f6-a87232ca088f', '4d301265-c174-4d50-a51b-9a13c5b513ea', '0199459f-f118-4809-9709-0748745fdf3d', 'dbde4d86-03cc-431d-bcfd-8a68982e71a8', '0db8284a-ad9a-4311-9cff-dcea050cc131', '2711258f-9c42-4407-89ce-63846c0c5932', '55232881-833f-46f4-a53c-d01bfb241a2f', 'a044b9dc-8610-4e4b-8d99-f4f2ea69b895', '8470f579-c74d-4568-a394-7fec3a6878ec', '44fdabfa-dc1f-46bf-90a8-7fa1d7b8870f', 'a306d703-f68b-45fd-a3d5-c451b431100d', 'dd3e4242-7e8a-4405-9c1d-83b4f43247b4', '95805b06-7cd9-42c2-b364-c2ec0f8922ba', 'ea0c337a-f70e-42c9-b92a-917e889f813a', '917d3bd0-fb70-4f2d-bf1e-38da49056920', '403859a3-6c5f-49d4-b967-a46e02b09470', '52e23af9-4e69-44f9-b6f1-6670044e1718', 'e80a8fbe-dd4d-4fec-80e7-055f17866b29', '063fdc7a-0dee-42e4-99fd-3030d306ed09', 'd0e314c8-4fbc-4a06-88d9-732965765635', '71aa7d30-b2d5-4dcc-b282-69f4d5c07315', '587f1700-4640-4802-bde5-73e075d73e9f', '6105d154-afed-42f0-9a04-ae96249d4dfd', 'e5593f79-7a14-4218-82ca-53b57245d52f', 'bb45c5f5-d718-47d5-8a1d-130a65cc739a', '48f1ad69-b0ca-41e5-bb57-3528dd4e6d82', 'bf5f8a5b-b5f5-47c3-8889-e7166c90c476', '58bdab2d-574a-402f-80bc-94222e0d42ce', '72bd4212-f3e2-4000-bf5a-4e5822ac2eb3', '877b198d-6742-4ceb-b44c-15418dbec254', '84640293-ef4d-4351-b1fa-dad957233b4d', '9c4353fd-65ae-4371-84b8-ff22ca95bca7', '292cf801-5414-4fa2-9e3e-69b35ce418c8', '91118f0e-776b-4a3e-89d6-500679a78356', '104d1935-196f-4191-96b2-aed7e0e729e6', 'ac199ccb-5913-4bda-abd5-c768e16f6c60', 'fa9b4d7e-32a3-4249-8aae-fabbca4be96c', '5b21d2be-8fd7-4af5-bc7f-2c44ad3ac5c5', '4608b56e-3ae5-475c-bf05-2d52beb60108', 'ba55b05b-3312-4786-bd79-04411bf660ca', '498aa7ff-6186-4cc4-b05f-d6fec878ef11', '5d63ed37-6ebf-4633-a97e-ba149b3e151c', '8057349d-b707-414e-b82b-fa00f29c22f0', 'e8de2cd7-fd2a-4821-bc38-2cbacd622fd1', '64004c9f-215c-4387-9a47-944efc4a7bb9', 'ff0f39d9-a14e-4b30-88f2-1b423f75ff52', '2783a1f1-aad9-4355-a538-5a3a7cdb9d28', '7a1d6a29-8fd8-490f-a686-81edc6b3f813', '339cf810-98ef-4eed-be8b-3fa397f84331', 'a218b5d6-4e4f-4ed6-a504-16a0bb97b202', '84e3c517-171c-4da0-8c5c-5dd395a1f5f6', '1686271b-ab08-49cb-af1b-b727412c382c', '7e58b603-8aa6-4844-8c83-c2f770e9607f', 'd7af9a7a-bfe8-4d00-909b-d9b8e2702643', 'e6f6eb89-8411-4cc1-861d-43aa3c973ca6', '001c38e0-fe8f-4535-8a77-2f509ae894df', '6b59b006-8c42-4a5e-9e1c-7f655747632b', '75ff5245-fdfe-4cc6-ad5b-b897a5d3846e', 'dfa17052-645e-4e05-b06a-6d803cb61bf4', 'bc1e4b56-323c-4e05-98cd-26cd37562a49', '484b7579-a6f9-4f0c-ae4f-45e71aba1406', 'e11ec6a5-c2f2-4afb-b186-9000df5a7022', 'bf625ef1-0c75-43bd-97e7-dff1f559383a', '6a2b6004-c3f8-4a8d-99dd-6ca36714543f', '550df6a1-2756-408d-af40-cbed9598532a', 'a9fe53e7-e7a4-4ca8-bca5-faaa41edc4b7', 'cff96fd0-ecda-4117-af73-b15b31d9975b', 'e7c85441-0299-4a09-b1ca-4add81345f72', '06782a82-11c8-408f-b716-e167920cbc9f', 'a070e6b3-af58-458f-9865-bf62be9a1e80', '05c87aa4-a6d5-4cfe-8851-788f22e5bc24', '17ae4dcf-9d20-4a4c-bffb-34ba3f8dbe69', '18135d25-f99a-48f1-9f6c-b5067f9aed19', '0161b97b-a340-4cc3-95e7-bbad581fe940', '1977991e-36e3-498d-b546-9f40313e9c37', 'a232a68b-fb37-40f6-becc-d3c569fe7735', '178b9279-3c50-4fab-b026-1d87515ec3d3', '4f102ed7-d020-46ba-9048-6fd83abc791c', '461f657c-0af3-4a0b-9357-e8c7efebc44b', 'd1b82363-bd1b-431b-b982-244090e1661f', 'd1cc622f-dd03-4f21-afa4-546a586eab63', '15ce9acd-7f84-4892-a8c5-de66d46ee4d8', '7ab24654-96c3-4030-91c7-1abb22101859', 'bc0c7e8a-a4b2-4713-a58c-8355c162a1be', '15a2fa06-3ce1-493d-a567-771e2118842a', '8343ff78-74a0-4c4d-a1ab-4f092b45bec0', 'be28251c-1603-4965-b448-0ae00abc54f2', 'b206c16f-6f20-47d1-a08f-f44003ad10b1', '0aa448a4-baff-4437-82b2-fa1a5c391703', 'ec66e229-b483-491b-be98-a183a42e1ec5', 'f20c60fd-c4fe-4bc7-bcf1-fd47cca01306', '4247af18-25e9-4d66-b7f3-38f0a1b03d35', '4e5c97c4-38cc-4fe8-9fdc-a617f3e9bc84', 'b2d0fa93-4b55-435c-820e-340b291ad29b', 'a4e3f962-4012-4e74-8762-0ea9ecd6b050', 'd863a5bd-631a-4f25-9579-753fee481bc8', '83591944-47c6-4214-9092-540c542a86fe', '48935071-9500-4955-a36e-5bafb664e301', '67ac1d86-8360-445e-a6d7-38baeea5c325', 'e7e88ece-3717-44a7-8b2a-80cf0e705aa4', 'fdbc0cb6-37cf-40c8-be3c-7787ca4c1582', '62efde53-c088-47a0-b691-26c6278bb7ef', 'e6b91101-1e73-4d9e-b7cc-1b4ead1afbdf']\n",
      "Replacing 35 from 106 !\n",
      "D_relabeled_ 35\n",
      "selected_ids ['dfa17052-645e-4e05-b06a-6d803cb61bf4', 'b206c16f-6f20-47d1-a08f-f44003ad10b1', 'bf625ef1-0c75-43bd-97e7-dff1f559383a', 'ea0c337a-f70e-42c9-b92a-917e889f813a', '67ac1d86-8360-445e-a6d7-38baeea5c325', 'a9fe53e7-e7a4-4ca8-bca5-faaa41edc4b7', 'e8de2cd7-fd2a-4821-bc38-2cbacd622fd1', 'e7e88ece-3717-44a7-8b2a-80cf0e705aa4', '05c87aa4-a6d5-4cfe-8851-788f22e5bc24', '4e5c97c4-38cc-4fe8-9fdc-a617f3e9bc84', '58bdab2d-574a-402f-80bc-94222e0d42ce', '4608b56e-3ae5-475c-bf05-2d52beb60108', 'a4e3f962-4012-4e74-8762-0ea9ecd6b050', 'e80a8fbe-dd4d-4fec-80e7-055f17866b29', '48935071-9500-4955-a36e-5bafb664e301', '75ff5245-fdfe-4cc6-ad5b-b897a5d3846e', '2711258f-9c42-4407-89ce-63846c0c5932', '48f1ad69-b0ca-41e5-bb57-3528dd4e6d82', 'dbde4d86-03cc-431d-bcfd-8a68982e71a8', 'bf5f8a5b-b5f5-47c3-8889-e7166c90c476', 'a218b5d6-4e4f-4ed6-a504-16a0bb97b202', '0db8284a-ad9a-4311-9cff-dcea050cc131', 'a306d703-f68b-45fd-a3d5-c451b431100d', '52e23af9-4e69-44f9-b6f1-6670044e1718', '55232881-833f-46f4-a53c-d01bfb241a2f', '461f657c-0af3-4a0b-9357-e8c7efebc44b', '4247af18-25e9-4d66-b7f3-38f0a1b03d35', 'd863a5bd-631a-4f25-9579-753fee481bc8', 'e6b91101-1e73-4d9e-b7cc-1b4ead1afbdf', '7e58b603-8aa6-4844-8c83-c2f770e9607f', '64004c9f-215c-4387-9a47-944efc4a7bb9', 'ff0f39d9-a14e-4b30-88f2-1b423f75ff52', '72bd4212-f3e2-4000-bf5a-4e5822ac2eb3', '6105d154-afed-42f0-9a04-ae96249d4dfd', 'a044b9dc-8610-4e4b-8d99-f4f2ea69b895']\n",
      "dict_keys(['dfa17052-645e-4e05-b06a-6d803cb61bf4', 'b206c16f-6f20-47d1-a08f-f44003ad10b1', 'bf625ef1-0c75-43bd-97e7-dff1f559383a', 'ea0c337a-f70e-42c9-b92a-917e889f813a', '67ac1d86-8360-445e-a6d7-38baeea5c325', 'a9fe53e7-e7a4-4ca8-bca5-faaa41edc4b7', 'e8de2cd7-fd2a-4821-bc38-2cbacd622fd1', 'e7e88ece-3717-44a7-8b2a-80cf0e705aa4', '05c87aa4-a6d5-4cfe-8851-788f22e5bc24', '4e5c97c4-38cc-4fe8-9fdc-a617f3e9bc84', '58bdab2d-574a-402f-80bc-94222e0d42ce', '4608b56e-3ae5-475c-bf05-2d52beb60108', 'a4e3f962-4012-4e74-8762-0ea9ecd6b050', 'e80a8fbe-dd4d-4fec-80e7-055f17866b29', '48935071-9500-4955-a36e-5bafb664e301', '75ff5245-fdfe-4cc6-ad5b-b897a5d3846e', '2711258f-9c42-4407-89ce-63846c0c5932', '48f1ad69-b0ca-41e5-bb57-3528dd4e6d82', 'dbde4d86-03cc-431d-bcfd-8a68982e71a8', 'bf5f8a5b-b5f5-47c3-8889-e7166c90c476', 'a218b5d6-4e4f-4ed6-a504-16a0bb97b202', '0db8284a-ad9a-4311-9cff-dcea050cc131', 'a306d703-f68b-45fd-a3d5-c451b431100d', '52e23af9-4e69-44f9-b6f1-6670044e1718', '55232881-833f-46f4-a53c-d01bfb241a2f', '461f657c-0af3-4a0b-9357-e8c7efebc44b', '4247af18-25e9-4d66-b7f3-38f0a1b03d35', 'd863a5bd-631a-4f25-9579-753fee481bc8', 'e6b91101-1e73-4d9e-b7cc-1b4ead1afbdf', '7e58b603-8aa6-4844-8c83-c2f770e9607f', '64004c9f-215c-4387-9a47-944efc4a7bb9', 'ff0f39d9-a14e-4b30-88f2-1b423f75ff52', '72bd4212-f3e2-4000-bf5a-4e5822ac2eb3', '6105d154-afed-42f0-9a04-ae96249d4dfd', 'a044b9dc-8610-4e4b-8d99-f4f2ea69b895'])\n",
      "point ids 35\n"
     ]
    },
    {
     "name": "stdout",
     "output_type": "stream",
     "text": [
      "Removed: 35 Filled: 35\n",
      "TOOK 231.44266557693481 seconds\n",
      "***\n",
      "RUN: 4\n",
      "Epoch 1/100\n",
      "413/413 [==============================] - 25s 60ms/step - loss: 0.3693 - dice_coef: 0.2001 - val_loss: 0.4052 - val_dice_coef: 0.1497\n",
      "Epoch 2/100\n",
      "413/413 [==============================] - 24s 59ms/step - loss: 0.3693 - dice_coef: 0.2001 - val_loss: 0.4267 - val_dice_coef: 0.1529\n",
      "Epoch 3/100\n",
      "413/413 [==============================] - 24s 58ms/step - loss: 0.3693 - dice_coef: 0.2001 - val_loss: 0.4156 - val_dice_coef: 0.1508\n",
      "Model saved to: /tmp/tmpj6mn654mGP2/xnet_4xnet_model\n",
      "History saved to: /tmp/tmpj6mn654mGP2/xnet_history_4.pkl\n",
      "Testing the classifier...\n",
      "Testing the discriminator...\n",
      "10/10 [==============================] - 0s 22ms/step - loss: 0.4613 - accuracy: 0.9233\n",
      "Found 129 machine labels.\n",
      "Machine labels [  1   2   3  10  12  14  20  24  25  26  28  29  30  32  33  37  40  41\n",
      "  44  46  50  52  57  60  63  64  70  72  74  75  77  80  82  84  88  89\n",
      "  92  93  94  95 102 103 104 111 112 113 114 116 118 119 121 123 126 127\n",
      " 130 131 133 134 135 137 138 141 142 145 146 148 153 155 156 157 158 159\n",
      " 160 163 166 167 168 179 183 185 186 187 192 194 195 196 199 201 205 206\n",
      " 214 215 217 218 219 220 221 223 226 230 233 237 238 242 243 245 247 251\n",
      " 253 254 258 263 265 270 272 273 277 278 279 280 281 282 284 288 291 294\n",
      " 295 297 298]\n",
      "D_ids ['7cc29254-05a3-4aae-9cce-c13a95f2fc28', '85bfe788-1392-4b61-9276-951d5b08a800', 'bb5b1512-1cf2-413e-a20b-cc90ad40d19f', 'c00e4604-d6d4-438c-8a21-9e6839771718', '19760270-293b-49f7-9b96-5c85bd4dfcfd', '822dc8d3-1383-4afd-8cbb-2230482c24cf', '953ddc86-6738-4220-9c5b-0714a33bd1f4', '9324fc03-83d5-41ac-acc9-864a026467ad', '397c5096-1a9e-4b96-b7db-fbc374156f7b', '5fb900a2-6f9f-46f1-b9fd-77585d453bbc', '234c876d-8e6f-452c-836a-1bd04fa0d0d2', 'f4f3b6f6-51c5-4444-b828-e417eca69c8a', '9e723acc-ceb5-44f0-b51d-2e4508d26b68', '7da6117e-bcbe-4f7e-8d31-7abba18033e9', '03c63b69-f256-42d1-b5a5-ea3cdc78e203', '8f1c205f-ffc2-403b-8634-6a6731cd60bd', 'd3f1e763-24f9-457f-9f48-f524887331f4', 'b77a2e68-eda8-4844-a12d-a3af3d94f366', '206b4c46-7ced-459d-9799-31ff948cb541', '893c979b-5477-444c-a2c8-caf4ba720969', 'dcd94981-10d2-4a4f-bc66-82a8046f6b50', 'f5f11196-ba01-4bc0-8b78-bd00a4cad304', '6a72b62e-5a76-4ddc-a217-23b68d12a155', '5da914c9-f317-4504-8b91-7db770d937f2', '6e7454d8-3e05-4383-b05f-c99408945217', '72cddb27-3d92-444e-b715-3ef4412424a9', '501e53ef-ef44-49ab-bdf4-b45ee719fac6', 'fb84402e-c9cb-493c-9e95-d5d331e53f11', 'bc392a77-719f-43a2-8ef2-111d23bcf45d', '3e4a6edb-faef-4bb5-a43b-64d408878a31', 'd4bf5876-7651-4f3a-8ab8-58cc99a3fc3f', '09fd4dd0-2da5-4a9b-8e0e-6dfff36d1c18', 'a2e5d5d6-3a8b-498d-ba87-ec8dd0e48660', '771a2497-a110-4b7e-963d-250bfbdff884', '284f01a6-8463-44e2-8c4c-1ff9fa68e8f5', '7a125b2b-0a39-4ea8-a700-662000854279', '6b59b006-8c42-4a5e-9e1c-7f655747632b', 'f53fba03-3feb-41a7-8dd7-6d8aa7f09ba6', '381b8cdd-fea2-4cf1-8613-905200b777fa', 'a9088336-a38a-4270-9bda-b17308441331', '588fab3f-9e3b-4797-99c3-1ca8c5a64074', '36d06e2b-f48c-41cb-a737-14d080fbdc33', '03dc7aca-520d-426e-88c1-10aac4f8db86', '162c7515-6c04-457f-9e2a-ad3912cab79a', '24451d0d-3b5d-44b8-8ecf-5636f64292a2', 'f985b86f-6b35-4f00-8d63-7c0004425e1d', '89c551a7-64bf-4ee0-87ea-82220939803e', '085362c4-f880-4344-b95b-955d3215b44b', '36dc1b1b-3f9c-4a4b-8413-b33ca60b7d0a', 'a0360a2a-f6cd-4a3c-90eb-f9810fe8e601', '16e9dc16-5838-446c-8a6f-1320303a037f', 'f50c7131-a997-41f4-b193-d928dfdc40fe', '76af7f7e-07b0-41a5-b5d0-bf8a76af4c45', '8f8d0b74-a6cf-4927-b600-c14efe20bbc9', 'f5d5c8c9-d37f-4449-b964-0279442de59b', '866111ce-c72a-4153-a104-2e17db867394', '8430f9b5-0bfa-417c-aa58-0517724a236e', 'ebd04cc6-4178-4e59-a7cc-8b44b088ece4', 'fa1b381d-57e9-4a08-a431-7e10f5e2b6fb', 'a8dc0561-530e-4e3d-96a8-121b553df240', '292af0de-0dd6-43ec-9baf-a1c5190a3ab7', 'ce178e70-3d18-4dec-a7d0-fc7c6f917122', '52dbbdf5-6c0a-4745-a979-02d4b62005a7', 'c4f616e0-3ba8-459f-b417-fee2d02b5de8', '8e8d74c0-efb2-4ab7-8973-12b890ac342f', '7cc7a65a-6a77-47f3-aba5-8d9d8659094d', 'b35e6aa4-4cda-4a46-b042-af017015ae5c', '369ce9ea-6473-42bb-a38a-73d9c1d18f9f', 'bb45c5f5-d718-47d5-8a1d-130a65cc739a', '31a647e5-363a-4dc1-bf2d-89a2e16e63a7', '1d86d006-6264-4538-9f48-603c34b76837', 'e0d8386a-bc61-47a6-8d7d-4d6ed3256606', 'b96d23c3-78b7-4517-8ac5-e323711a47c7', '3e18d9ae-5e1a-46fa-97ae-65414b066017', 'ed371d88-d51a-4192-95da-912aca3997df', 'f7ef5134-4022-4eb1-86b6-482d2df9dc48', 'b77e62ba-efc1-492c-9237-35806c122984', '8e2c815c-ea7b-44e8-bcc7-bf77e798b3ee', 'e18e5fb5-8566-423a-a668-c800c8031995', '0bd124b8-e6a8-4711-8efc-a5bce7710729', 'b7d54dcd-2ad3-4417-a86f-ac9e899535af', '4eb140e6-a5d5-4bb2-a3c4-b8d535da7fb4', 'd1fd629b-7446-4f74-bbe0-bb91e642a25e', 'c117bf05-d10e-4ebb-a4fd-e5d866d175ac', '335ff6e2-6999-4fd9-aa60-5631813e934b', '3230bb65-9d60-497d-b0d9-736fdd4641d5', '10329ba8-1ffd-411c-897e-c6391824a548', '14781719-7912-44a7-b8f9-ce15816fe72e', 'cc916159-6b78-4e9b-9f9a-81e15958beba', '6a71a06a-e18a-45b7-af85-08e1254f2493', '15ce9acd-7f84-4892-a8c5-de66d46ee4d8', '9f089083-346d-46c4-ae19-4fbaf566fe5c', 'c9a9d630-a2b5-4b02-81d9-1347ae093170', '509dd729-cc60-4b19-9f29-25e3210588a1', 'c45408dd-e67a-402f-8358-927e2722852b', '58c669fa-c97b-4d8a-a39e-8faf035ba29c', '8d990932-037e-4899-a1f3-4ace79e8559e', 'a1bab581-0e57-4c45-96c6-e88148cc9cba', '65f39936-89a1-41a1-9077-4697fbd67136', '06782a82-11c8-408f-b716-e167920cbc9f', 'ec818839-c64d-43b1-9871-83a69cba674e', '84435a73-7b40-465a-8b0c-d3ec6fb3b414', '877b198d-6742-4ceb-b44c-15418dbec254', '4a2d1275-d8a0-4d56-ab00-374ee7222cea', 'b01edd13-404f-4b00-af9b-b5b096c79693', '2f129ad2-d911-4ffd-93cd-d1b2bcb9867e', '475daeff-6dac-4881-92ef-ae813902de7a', 'd0f9c19c-f8da-4f2a-a647-fc9baed72f0c', '9df297ba-9d6e-474c-9c05-bcc75b1ce226', 'd317a762-8adf-4a4e-84b7-596758c2297d', '5ab05a68-2d56-437d-a5af-3beb23fe497f', '8a0bc586-ffdf-44a1-abe5-e76a29938bb7', 'edfd138c-5f94-4803-9314-779d0e2e119b', '2d74a493-ae84-4ff3-94fe-ce46104a25f3', 'b58a94fe-2f2f-48f3-898b-e82a1d26c6ad', 'd8fb3850-e552-4797-822e-563bb211ea78', '8d3657fd-db23-46f5-9b11-342fd0a0e2b9', '86ccd8c1-abc2-433f-bb25-f42e13ed99da', '42974dab-289b-4304-b2b7-37403ce027d4', '4fb88a0d-8e08-4435-9871-7b482f8b95b9', 'c0fa892a-9468-4c3b-bdd1-e093e6c31208', '5ea72bc9-dbdf-4ebb-9aa4-b9d16a26fa44', '05aa81e5-af2e-46f8-ab26-ecd7b9cca634', '605c2e97-54e9-4445-80c2-bbc6d61d0216', 'fef29eed-e590-47e2-b046-7f84d57a3f83', '15afc05c-faa1-489e-8f13-f5c899ed6407', 'bb2aa614-8023-42df-9910-c94497fb41e4', '043a2ae9-d427-4097-84cb-9d52c3413f85', '7442bf82-0fa2-4a24-ab45-e966bb576f63']\n",
      "Replacing 43 from 129 !\n",
      "D_relabeled_ 43\n",
      "selected_ids ['292af0de-0dd6-43ec-9baf-a1c5190a3ab7', '86ccd8c1-abc2-433f-bb25-f42e13ed99da', 'd4bf5876-7651-4f3a-8ab8-58cc99a3fc3f', '0bd124b8-e6a8-4711-8efc-a5bce7710729', '771a2497-a110-4b7e-963d-250bfbdff884', 'b35e6aa4-4cda-4a46-b042-af017015ae5c', '89c551a7-64bf-4ee0-87ea-82220939803e', '953ddc86-6738-4220-9c5b-0714a33bd1f4', 'f53fba03-3feb-41a7-8dd7-6d8aa7f09ba6', 'ce178e70-3d18-4dec-a7d0-fc7c6f917122', 'd1fd629b-7446-4f74-bbe0-bb91e642a25e', '162c7515-6c04-457f-9e2a-ad3912cab79a', '7cc29254-05a3-4aae-9cce-c13a95f2fc28', 'b77e62ba-efc1-492c-9237-35806c122984', 'c0fa892a-9468-4c3b-bdd1-e093e6c31208', '58c669fa-c97b-4d8a-a39e-8faf035ba29c', '397c5096-1a9e-4b96-b7db-fbc374156f7b', '2d74a493-ae84-4ff3-94fe-ce46104a25f3', '588fab3f-9e3b-4797-99c3-1ca8c5a64074', '8a0bc586-ffdf-44a1-abe5-e76a29938bb7', '3230bb65-9d60-497d-b0d9-736fdd4641d5', '14781719-7912-44a7-b8f9-ce15816fe72e', '03c63b69-f256-42d1-b5a5-ea3cdc78e203', '8e8d74c0-efb2-4ab7-8973-12b890ac342f', '893c979b-5477-444c-a2c8-caf4ba720969', 'a8dc0561-530e-4e3d-96a8-121b553df240', 'd3f1e763-24f9-457f-9f48-f524887331f4', '6a71a06a-e18a-45b7-af85-08e1254f2493', '475daeff-6dac-4881-92ef-ae813902de7a', '03dc7aca-520d-426e-88c1-10aac4f8db86', '822dc8d3-1383-4afd-8cbb-2230482c24cf', '06782a82-11c8-408f-b716-e167920cbc9f', '5ea72bc9-dbdf-4ebb-9aa4-b9d16a26fa44', '6e7454d8-3e05-4383-b05f-c99408945217', '8430f9b5-0bfa-417c-aa58-0517724a236e', '7cc7a65a-6a77-47f3-aba5-8d9d8659094d', 'c45408dd-e67a-402f-8358-927e2722852b', '85bfe788-1392-4b61-9276-951d5b08a800', 'e0d8386a-bc61-47a6-8d7d-4d6ed3256606', 'f5f11196-ba01-4bc0-8b78-bd00a4cad304', '4eb140e6-a5d5-4bb2-a3c4-b8d535da7fb4', '72cddb27-3d92-444e-b715-3ef4412424a9', '8e2c815c-ea7b-44e8-bcc7-bf77e798b3ee']\n",
      "dict_keys(['292af0de-0dd6-43ec-9baf-a1c5190a3ab7', '86ccd8c1-abc2-433f-bb25-f42e13ed99da', 'd4bf5876-7651-4f3a-8ab8-58cc99a3fc3f', '0bd124b8-e6a8-4711-8efc-a5bce7710729', '771a2497-a110-4b7e-963d-250bfbdff884', 'b35e6aa4-4cda-4a46-b042-af017015ae5c', '89c551a7-64bf-4ee0-87ea-82220939803e', '953ddc86-6738-4220-9c5b-0714a33bd1f4', 'f53fba03-3feb-41a7-8dd7-6d8aa7f09ba6', 'ce178e70-3d18-4dec-a7d0-fc7c6f917122', 'd1fd629b-7446-4f74-bbe0-bb91e642a25e', '162c7515-6c04-457f-9e2a-ad3912cab79a', '7cc29254-05a3-4aae-9cce-c13a95f2fc28', 'b77e62ba-efc1-492c-9237-35806c122984', 'c0fa892a-9468-4c3b-bdd1-e093e6c31208', '58c669fa-c97b-4d8a-a39e-8faf035ba29c', '397c5096-1a9e-4b96-b7db-fbc374156f7b', '2d74a493-ae84-4ff3-94fe-ce46104a25f3', '588fab3f-9e3b-4797-99c3-1ca8c5a64074', '8a0bc586-ffdf-44a1-abe5-e76a29938bb7', '3230bb65-9d60-497d-b0d9-736fdd4641d5', '14781719-7912-44a7-b8f9-ce15816fe72e', '03c63b69-f256-42d1-b5a5-ea3cdc78e203', '8e8d74c0-efb2-4ab7-8973-12b890ac342f', '893c979b-5477-444c-a2c8-caf4ba720969', 'a8dc0561-530e-4e3d-96a8-121b553df240', 'd3f1e763-24f9-457f-9f48-f524887331f4', '6a71a06a-e18a-45b7-af85-08e1254f2493', '475daeff-6dac-4881-92ef-ae813902de7a', '03dc7aca-520d-426e-88c1-10aac4f8db86', '822dc8d3-1383-4afd-8cbb-2230482c24cf', '06782a82-11c8-408f-b716-e167920cbc9f', '5ea72bc9-dbdf-4ebb-9aa4-b9d16a26fa44', '6e7454d8-3e05-4383-b05f-c99408945217', '8430f9b5-0bfa-417c-aa58-0517724a236e', '7cc7a65a-6a77-47f3-aba5-8d9d8659094d', 'c45408dd-e67a-402f-8358-927e2722852b', '85bfe788-1392-4b61-9276-951d5b08a800', 'e0d8386a-bc61-47a6-8d7d-4d6ed3256606', 'f5f11196-ba01-4bc0-8b78-bd00a4cad304', '4eb140e6-a5d5-4bb2-a3c4-b8d535da7fb4', '72cddb27-3d92-444e-b715-3ef4412424a9', '8e2c815c-ea7b-44e8-bcc7-bf77e798b3ee'])\n",
      "point ids 43\n",
      "Removed: 43 Filled: 43\n",
      "TOOK 171.3742949962616 seconds\n"
     ]
    }
   ],
   "source": [
    "for run in range(RUNS):\n",
    "    print('***')\n",
    "    print('RUN:', run)\n",
    "    t0 = time.time()\n",
    "    R.run_classifier()\n",
    "    R.run_discriminator()\n",
    "    l = R.find_machine_labels()\n",
    "    if l == 0:\n",
    "        print('No more machine labels.')\n",
    "        print('TOOK', time.time()-t0, 'seconds')\n",
    "        break\n",
    "    R.relabel(percent_to_replace=PERCENT_TO_REPLACE)\n",
    "    print('TOOK', time.time()-t0, 'seconds')\n",
    "    "
   ]
  },
  {
   "cell_type": "code",
   "execution_count": null,
   "id": "dab6fd49",
   "metadata": {},
   "outputs": [],
   "source": []
  },
  {
   "cell_type": "code",
   "execution_count": 16,
   "id": "00075332",
   "metadata": {},
   "outputs": [
    {
     "data": {
      "text/plain": [
       "[[0.6606601476669312, 0.176648810505867],\n",
       " [0.6552890539169312, 0.17658944427967072],\n",
       " [0.6534895896911621, 0.1765579730272293],\n",
       " [0.42435675859451294, 0.1686549335718155],\n",
       " [0.401242196559906, 0.16303448379039764]]"
      ]
     },
     "execution_count": 16,
     "metadata": {},
     "output_type": "execute_result"
    }
   ],
   "source": [
    "R.classifier_scores"
   ]
  },
  {
   "cell_type": "code",
   "execution_count": 17,
   "id": "35105656",
   "metadata": {},
   "outputs": [
    {
     "data": {
      "text/plain": [
       "[[0.2448788434267044, 0.9599999785423279],\n",
       " [0.2238057404756546, 0.949999988079071],\n",
       " [0.1256328672170639, 0.9733333587646484],\n",
       " [0.5000860691070557, 0.9366666674613953],\n",
       " [0.46134114265441895, 0.9233333468437195]]"
      ]
     },
     "execution_count": 17,
     "metadata": {},
     "output_type": "execute_result"
    }
   ],
   "source": [
    "R.discriminator_scores"
   ]
  },
  {
   "cell_type": "code",
   "execution_count": null,
   "id": "e256ed4d",
   "metadata": {},
   "outputs": [],
   "source": []
  },
  {
   "cell_type": "code",
   "execution_count": 18,
   "id": "c83bb28d",
   "metadata": {},
   "outputs": [
    {
     "data": {
      "image/png": "[encoded data removed]",
      "text/plain": [
       "<Figure size 240x240 with 1 Axes>"
      ]
     },
     "metadata": {
      "needs_background": "light"
     },
     "output_type": "display_data"
    }
   ],
   "source": [
    "R.plot()"
   ]
  },
  {
   "cell_type": "code",
   "execution_count": null,
   "id": "7f3b4a58",
   "metadata": {},
   "outputs": [],
   "source": []
  },
  {
   "cell_type": "code",
   "execution_count": null,
   "id": "d21df741",
   "metadata": {},
   "outputs": [],
   "source": []
  },
  {
   "cell_type": "code",
   "execution_count": null,
   "id": "551de181",
   "metadata": {},
   "outputs": [],
   "source": []
  }
 ],
 "metadata": {
  "kernelspec": {
   "display_name": "Python 3 (ipykernel)",
   "language": "python",
   "name": "python3"
  },
  "language_info": {
   "codemirror_mode": {
    "name": "ipython",
    "version": 3
   },
   "file_extension": ".py",
   "mimetype": "text/x-python",
   "name": "python",
   "nbconvert_exporter": "python",
   "pygments_lexer": "ipython3",
   "version": "3.9.7"
  }
 },
 "nbformat": 4,
 "nbformat_minor": 5
}
