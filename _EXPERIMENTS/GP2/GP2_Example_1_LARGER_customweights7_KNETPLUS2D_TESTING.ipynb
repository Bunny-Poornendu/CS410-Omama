{
 "cells": [
  {
   "cell_type": "code",
   "execution_count": 1,
   "id": "06c4accc",
   "metadata": {},
   "outputs": [
    {
     "name": "stdout",
     "output_type": "stream",
     "text": [
      "Populating the interactive namespace from numpy and matplotlib\n"
     ]
    }
   ],
   "source": [
    "%pylab inline\n",
    "%load_ext autoreload\n",
    "%autoreload 2"
   ]
  },
  {
   "cell_type": "code",
   "execution_count": 2,
   "id": "b9e78ed8",
   "metadata": {},
   "outputs": [
    {
     "name": "stderr",
     "output_type": "stream",
     "text": [
      "2023-04-23 14:34:26.997367: I tensorflow/stream_executor/platform/default/dso_loader.cc:53] Successfully opened dynamic library libcudart.so.11.0\n",
      "2023-04-23 14:34:28.650808: I tensorflow/stream_executor/platform/default/dso_loader.cc:53] Successfully opened dynamic library libcuda.so.1\n",
      "2023-04-23 14:34:29.091046: I tensorflow/core/common_runtime/gpu/gpu_device.cc:1733] Found device 0 with properties: \n",
      "pciBusID: 0000:07:00.0 name: A100-SXM4-40GB computeCapability: 8.0\n",
      "coreClock: 1.41GHz coreCount: 108 deviceMemorySize: 39.59GiB deviceMemoryBandwidth: 1.41TiB/s\n",
      "2023-04-23 14:34:29.093784: I tensorflow/core/common_runtime/gpu/gpu_device.cc:1733] Found device 1 with properties: \n",
      "pciBusID: 0000:0f:00.0 name: A100-SXM4-40GB computeCapability: 8.0\n",
      "coreClock: 1.41GHz coreCount: 108 deviceMemorySize: 39.59GiB deviceMemoryBandwidth: 1.41TiB/s\n",
      "2023-04-23 14:34:29.096416: I tensorflow/core/common_runtime/gpu/gpu_device.cc:1733] Found device 2 with properties: \n",
      "pciBusID: 0000:87:00.0 name: A100-SXM4-40GB computeCapability: 8.0\n",
      "coreClock: 1.41GHz coreCount: 108 deviceMemorySize: 39.59GiB deviceMemoryBandwidth: 1.41TiB/s\n",
      "2023-04-23 14:34:29.096436: I tensorflow/stream_executor/platform/default/dso_loader.cc:53] Successfully opened dynamic library libcudart.so.11.0\n",
      "2023-04-23 14:34:29.100018: I tensorflow/stream_executor/platform/default/dso_loader.cc:53] Successfully opened dynamic library libcublas.so.11\n",
      "2023-04-23 14:34:29.100053: I tensorflow/stream_executor/platform/default/dso_loader.cc:53] Successfully opened dynamic library libcublasLt.so.11\n",
      "2023-04-23 14:34:29.100986: I tensorflow/stream_executor/platform/default/dso_loader.cc:53] Successfully opened dynamic library libcufft.so.10\n",
      "2023-04-23 14:34:29.101346: I tensorflow/stream_executor/platform/default/dso_loader.cc:53] Successfully opened dynamic library libcurand.so.10\n",
      "2023-04-23 14:34:29.101917: I tensorflow/stream_executor/platform/default/dso_loader.cc:53] Successfully opened dynamic library libcusolver.so.11\n",
      "2023-04-23 14:34:29.102736: I tensorflow/stream_executor/platform/default/dso_loader.cc:53] Successfully opened dynamic library libcusparse.so.11\n",
      "2023-04-23 14:34:29.102989: I tensorflow/stream_executor/platform/default/dso_loader.cc:53] Successfully opened dynamic library libcudnn.so.8\n",
      "2023-04-23 14:34:29.149732: I tensorflow/core/common_runtime/gpu/gpu_device.cc:1871] Adding visible gpu devices: 0, 1, 2\n"
     ]
    }
   ],
   "source": [
    "import time\n",
    "import sys\n",
    "sys.path.insert(0,'../..')\n",
    "from keras import losses, metrics\n",
    "from tensorflow.keras import optimizers\n",
    "import gp2\n",
    "from gp2 import Runner"
   ]
  },
  {
   "cell_type": "code",
   "execution_count": 3,
   "id": "64ccf1e2",
   "metadata": {},
   "outputs": [
    {
     "name": "stdout",
     "output_type": "stream",
     "text": [
      "Help on class KUNetPlus2D in module gp2.gp2.classifiers.k_unet_plus2d:\n",
      "\n",
      "class KUNetPlus2D(gp2.gp2.classifiers.base_keras_segmentation_classifier.BaseKerasSegmentationClassifier)\n",
      " |  KUNetPlus2D(input_size=(512, 512, 1), filter_num=None, n_labels=1, stack_num_down=3, stack_num_up=3, activation='ReLU', output_activation='Sigmoid', batch_norm=True, pool=True, unpool=True, deep_supervision=False, backbone=None, weights='imagenet', freeze_backbone=True, freeze_batch_norm=True, name='xnet', optimizer=None, loss=None, metric=None, verbose=False, workingdir='/tmp')\n",
      " |  \n",
      " |  Keras U-net++ 2D model.\n",
      " |  \n",
      " |  Method resolution order:\n",
      " |      KUNetPlus2D\n",
      " |      gp2.gp2.classifiers.base_keras_segmentation_classifier.BaseKerasSegmentationClassifier\n",
      " |      gp2.gp2.classifiers.classifier.Classifier\n",
      " |      builtins.object\n",
      " |  \n",
      " |  Methods defined here:\n",
      " |  \n",
      " |  __init__(self, input_size=(512, 512, 1), filter_num=None, n_labels=1, stack_num_down=3, stack_num_up=3, activation='ReLU', output_activation='Sigmoid', batch_norm=True, pool=True, unpool=True, deep_supervision=False, backbone=None, weights='imagenet', freeze_backbone=True, freeze_batch_norm=True, name='xnet', optimizer=None, loss=None, metric=None, verbose=False, workingdir='/tmp')\n",
      " |      U-net++ with an optional ImageNet-trained backbone.\n",
      " |      \n",
      " |      unet_plus_2d(input_size, filter_num, n_labels, stack_num_down=2, stack_num_up=2,\n",
      " |                   activation='ReLU', output_activation='Softmax', batch_norm=False, pool=True, unpool=True, deep_supervision=False,\n",
      " |                   backbone=None, weights='imagenet', freeze_backbone=True, freeze_batch_norm=True, name='xnet')\n",
      " |      \n",
      " |      ----------\n",
      " |      Zhou, Z., Siddiquee, M.M.R., Tajbakhsh, N. and Liang, J., 2018. Unet++: A nested u-net architecture\n",
      " |      for medical image segmentation. In Deep Learning in Medical Image Analysis and Multimodal Learning\n",
      " |      for Clinical Decision Support (pp. 3-11). Springer, Cham.\n",
      " |      \n",
      " |      Input\n",
      " |      ----------\n",
      " |          input_size: the size/shape of network input, e.g., `(128, 128, 3)`.\n",
      " |          filter_num: a list that defines the number of filters for each                         down- and upsampling levels. e.g., `[64, 128, 256, 512]`.\n",
      " |                      The depth is expected as `len(filter_num)`.\n",
      " |          n_labels: number of output labels.\n",
      " |          stack_num_down: number of convolutional layers per downsampling level/block.\n",
      " |          stack_num_up: number of convolutional layers (after concatenation) per upsampling level/block.\n",
      " |          activation: one of the `tensorflow.keras.layers` or `keras_unet_collection.activations` interfaces, e.g., 'ReLU'.\n",
      " |          output_activation: one of the `tensorflow.keras.layers` or `keras_unet_collection.activations` interface or 'Sigmoid'.\n",
      " |                             Default option is 'Softmax'.\n",
      " |                             if None is received, then linear activation is applied.\n",
      " |          batch_norm: True for batch normalization.\n",
      " |          pool: True or 'max' for MaxPooling2D.\n",
      " |                'ave' for AveragePooling2D.\n",
      " |                False for strided conv + batch norm + activation.\n",
      " |          unpool: True or 'bilinear' for Upsampling2D with bilinear interpolation.\n",
      " |                  'nearest' for Upsampling2D with nearest interpolation.\n",
      " |                  False for Conv2DTranspose + batch norm + activation.\n",
      " |          deep_supervision: True for a model that supports deep supervision. Details see Zhou et al. (2018).\n",
      " |          name: prefix of the created keras model and its layers.\n",
      " |      \n",
      " |          ---------- (keywords of backbone options) ----------\n",
      " |          backbone_name: the bakcbone model name. Should be one of the `tensorflow.keras.applications` class.\n",
      " |                         None (default) means no backbone.\n",
      " |                         Currently supported backbones are:\n",
      " |                         (1) VGG16, VGG19\n",
      " |                         (2) ResNet50, ResNet101, ResNet152\n",
      " |                         (3) ResNet50V2, ResNet101V2, ResNet152V2\n",
      " |                         (4) DenseNet121, DenseNet169, DenseNet201\n",
      " |                         (5) EfficientNetB[0-7]\n",
      " |          weights: one of None (random initialization), 'imagenet' (pre-training on ImageNet),\n",
      " |                   or the path to the weights file to be loaded.\n",
      " |          freeze_backbone: True for a frozen backbone.\n",
      " |          freeze_batch_norm: False for not freezing batch normalization layers.\n",
      " |      \n",
      " |      Output\n",
      " |      ----------\n",
      " |          model: a keras model.\n",
      " |  \n",
      " |  ----------------------------------------------------------------------\n",
      " |  Methods inherited from gp2.gp2.classifiers.base_keras_segmentation_classifier.BaseKerasSegmentationClassifier:\n",
      " |  \n",
      " |  __str__(self)\n",
      " |      Return str(self).\n",
      " |  \n",
      " |  build(self)\n",
      " |  \n",
      " |  predict(self, X_test, y_pred, threshold=0.5)\n",
      " |  \n",
      " |  train(self, X_train, y_train, X_val, y_val, patience_counter=2, batch_size=64, epochs=100, call_backs=None)\n",
      " |  \n",
      " |  ----------------------------------------------------------------------\n",
      " |  Data descriptors inherited from gp2.gp2.classifiers.classifier.Classifier:\n",
      " |  \n",
      " |  __dict__\n",
      " |      dictionary for instance variables (if defined)\n",
      " |  \n",
      " |  __weakref__\n",
      " |      list of weak references to the object (if defined)\n",
      "\n"
     ]
    }
   ],
   "source": [
    "help(gp2.KUNetPlus2D)"
   ]
  },
  {
   "cell_type": "code",
   "execution_count": 4,
   "id": "bdc75325",
   "metadata": {},
   "outputs": [
    {
     "name": "stderr",
     "output_type": "stream",
     "text": [
      "2023-04-23 14:34:34.946976: I tensorflow/core/platform/cpu_feature_guard.cc:142] This TensorFlow binary is optimized with oneAPI Deep Neural Network Library (oneDNN) to use the following CPU instructions in performance-critical operations:  AVX2 FMA\n",
      "To enable them in other operations, rebuild TensorFlow with the appropriate compiler flags.\n",
      "2023-04-23 14:34:35.348806: I tensorflow/core/common_runtime/gpu/gpu_device.cc:1733] Found device 0 with properties: \n",
      "pciBusID: 0000:07:00.0 name: A100-SXM4-40GB computeCapability: 8.0\n",
      "coreClock: 1.41GHz coreCount: 108 deviceMemorySize: 39.59GiB deviceMemoryBandwidth: 1.41TiB/s\n",
      "2023-04-23 14:34:35.351258: I tensorflow/core/common_runtime/gpu/gpu_device.cc:1733] Found device 1 with properties: \n",
      "pciBusID: 0000:0f:00.0 name: A100-SXM4-40GB computeCapability: 8.0\n",
      "coreClock: 1.41GHz coreCount: 108 deviceMemorySize: 39.59GiB deviceMemoryBandwidth: 1.41TiB/s\n",
      "2023-04-23 14:34:35.353651: I tensorflow/core/common_runtime/gpu/gpu_device.cc:1733] Found device 2 with properties: \n",
      "pciBusID: 0000:87:00.0 name: A100-SXM4-40GB computeCapability: 8.0\n",
      "coreClock: 1.41GHz coreCount: 108 deviceMemorySize: 39.59GiB deviceMemoryBandwidth: 1.41TiB/s\n",
      "2023-04-23 14:34:35.368311: I tensorflow/core/common_runtime/gpu/gpu_device.cc:1871] Adding visible gpu devices: 0, 1, 2\n",
      "2023-04-23 14:34:35.368394: I tensorflow/stream_executor/platform/default/dso_loader.cc:53] Successfully opened dynamic library libcudart.so.11.0\n",
      "2023-04-23 14:34:36.508973: I tensorflow/core/common_runtime/gpu/gpu_device.cc:1258] Device interconnect StreamExecutor with strength 1 edge matrix:\n",
      "2023-04-23 14:34:36.509021: I tensorflow/core/common_runtime/gpu/gpu_device.cc:1264]      0 1 2 \n",
      "2023-04-23 14:34:36.509028: I tensorflow/core/common_runtime/gpu/gpu_device.cc:1277] 0:   N Y Y \n",
      "2023-04-23 14:34:36.509032: I tensorflow/core/common_runtime/gpu/gpu_device.cc:1277] 1:   Y N Y \n",
      "2023-04-23 14:34:36.509037: I tensorflow/core/common_runtime/gpu/gpu_device.cc:1277] 2:   Y Y N \n",
      "2023-04-23 14:34:36.528010: I tensorflow/core/common_runtime/gpu/gpu_device.cc:1418] Created TensorFlow device (/job:localhost/replica:0/task:0/device:GPU:0 with 38425 MB memory) -> physical GPU (device: 0, name: A100-SXM4-40GB, pci bus id: 0000:07:00.0, compute capability: 8.0)\n",
      "2023-04-23 14:34:36.530635: I tensorflow/core/common_runtime/gpu/gpu_device.cc:1418] Created TensorFlow device (/job:localhost/replica:0/task:0/device:GPU:1 with 38425 MB memory) -> physical GPU (device: 1, name: A100-SXM4-40GB, pci bus id: 0000:0f:00.0, compute capability: 8.0)\n",
      "2023-04-23 14:34:36.533204: I tensorflow/core/common_runtime/gpu/gpu_device.cc:1418] Created TensorFlow device (/job:localhost/replica:0/task:0/device:GPU:2 with 38425 MB memory) -> physical GPU (device: 2, name: A100-SXM4-40GB, pci bus id: 0000:87:00.0, compute capability: 8.0)\n"
     ]
    },
    {
     "name": "stdout",
     "output_type": "stream",
     "text": [
      "*** GP2  KUNetPlus2D ***\n",
      "Working directory: /tmp/tmpu_ssqa4sGP2\n",
      "Verbose mode active!\n",
      "{'verbose': True, 'workingdir': '/tmp/tmpu_ssqa4sGP2', 'input_size': (512, 512, 1), 'filter_num': [16, 32, 64, 128, 256, 512, 1024], 'n_labels': 1, 'stack_num_down': 3, 'stack_num_up': 3, 'activation': 'ReLU', 'output_activation': 'Sigmoid', 'batch_norm': True, 'pool': True, 'unpool': True, 'deep_supervision': False, 'backbone': None, 'weights': None, 'freeze_backbone': True, 'freeze_batch_norm': True, 'name': 'xnet', 'optimizer': <tensorflow.python.keras.optimizer_v2.adam.Adam object at 0x7f3f01e1b2e0>, 'loss': <function binary_crossentropy at 0x7f3f0a0abb80>, 'metric': [<function Util.dice_coef at 0x7f3f09e31940>], 'model': <tensorflow.python.keras.engine.functional.Functional object at 0x7f3ea21528e0>}\n",
      "Model summary:\n",
      "Model: \"xnet_model\"\n",
      "_________________________________________________________________\n",
      "Layer (type)                 Output Shape              Param #   \n",
      "=================================================================\n",
      "input_1 (InputLayer)         [(None, 512, 512, 1)]     0         \n",
      "_________________________________________________________________\n",
      "xnet_down0_0 (Conv2D)        (None, 512, 512, 16)      144       \n",
      "_________________________________________________________________\n",
      "xnet_down0_0_bn (BatchNormal (None, 512, 512, 16)      64        \n",
      "_________________________________________________________________\n",
      "xnet_down0_0_activation (ReL (None, 512, 512, 16)      0         \n",
      "_________________________________________________________________\n",
      "xnet_down0_1 (Conv2D)        (None, 512, 512, 16)      2304      \n",
      "_________________________________________________________________\n",
      "xnet_down0_1_bn (BatchNormal (None, 512, 512, 16)      64        \n",
      "_________________________________________________________________\n",
      "xnet_down0_1_activation (ReL (None, 512, 512, 16)      0         \n",
      "_________________________________________________________________\n",
      "xnet_down0_2 (Conv2D)        (None, 512, 512, 16)      2304      \n",
      "_________________________________________________________________\n",
      "xnet_down0_2_bn (BatchNormal (None, 512, 512, 16)      64        \n",
      "_________________________________________________________________\n",
      "xnet_down0_2_activation (ReL (None, 512, 512, 16)      0         \n",
      "_________________________________________________________________\n",
      "xnet_down1_encode_maxpool (M (None, 256, 256, 16)      0         \n",
      "_________________________________________________________________\n",
      "xnet_down1_conv_0 (Conv2D)   (None, 256, 256, 32)      4608      \n",
      "_________________________________________________________________\n",
      "xnet_down1_conv_0_bn (BatchN (None, 256, 256, 32)      128       \n",
      "_________________________________________________________________\n",
      "xnet_down1_conv_0_activation (None, 256, 256, 32)      0         \n",
      "_________________________________________________________________\n",
      "xnet_down1_conv_1 (Conv2D)   (None, 256, 256, 32)      9216      \n",
      "_________________________________________________________________\n",
      "xnet_down1_conv_1_bn (BatchN (None, 256, 256, 32)      128       \n",
      "_________________________________________________________________\n",
      "xnet_down1_conv_1_activation (None, 256, 256, 32)      0         \n",
      "_________________________________________________________________\n",
      "xnet_down1_conv_2 (Conv2D)   (None, 256, 256, 32)      9216      \n",
      "_________________________________________________________________\n",
      "xnet_down1_conv_2_bn (BatchN (None, 256, 256, 32)      128       \n",
      "_________________________________________________________________\n",
      "xnet_down1_conv_2_activation (None, 256, 256, 32)      0         \n",
      "_________________________________________________________________\n",
      "xnet_down2_encode_maxpool (M (None, 128, 128, 32)      0         \n",
      "_________________________________________________________________\n",
      "xnet_down2_conv_0 (Conv2D)   (None, 128, 128, 64)      18432     \n",
      "_________________________________________________________________\n",
      "xnet_down2_conv_0_bn (BatchN (None, 128, 128, 64)      256       \n",
      "_________________________________________________________________\n",
      "xnet_down2_conv_0_activation (None, 128, 128, 64)      0         \n",
      "_________________________________________________________________\n",
      "xnet_down2_conv_1 (Conv2D)   (None, 128, 128, 64)      36864     \n",
      "_________________________________________________________________\n",
      "xnet_down2_conv_1_bn (BatchN (None, 128, 128, 64)      256       \n",
      "_________________________________________________________________\n",
      "xnet_down2_conv_1_activation (None, 128, 128, 64)      0         \n",
      "_________________________________________________________________\n",
      "xnet_down2_conv_2 (Conv2D)   (None, 128, 128, 64)      36864     \n",
      "_________________________________________________________________\n",
      "xnet_down2_conv_2_bn (BatchN (None, 128, 128, 64)      256       \n",
      "_________________________________________________________________\n",
      "xnet_down2_conv_2_activation (None, 128, 128, 64)      0         \n",
      "_________________________________________________________________\n",
      "xnet_down3_encode_maxpool (M (None, 64, 64, 64)        0         \n",
      "_________________________________________________________________\n",
      "xnet_down3_conv_0 (Conv2D)   (None, 64, 64, 128)       73728     \n",
      "_________________________________________________________________\n",
      "xnet_down3_conv_0_bn (BatchN (None, 64, 64, 128)       512       \n",
      "_________________________________________________________________\n",
      "xnet_down3_conv_0_activation (None, 64, 64, 128)       0         \n",
      "_________________________________________________________________\n",
      "xnet_down3_conv_1 (Conv2D)   (None, 64, 64, 128)       147456    \n",
      "_________________________________________________________________\n",
      "xnet_down3_conv_1_bn (BatchN (None, 64, 64, 128)       512       \n",
      "_________________________________________________________________\n",
      "xnet_down3_conv_1_activation (None, 64, 64, 128)       0         \n",
      "_________________________________________________________________\n",
      "xnet_down3_conv_2 (Conv2D)   (None, 64, 64, 128)       147456    \n",
      "_________________________________________________________________\n",
      "xnet_down3_conv_2_bn (BatchN (None, 64, 64, 128)       512       \n",
      "_________________________________________________________________\n",
      "xnet_down3_conv_2_activation (None, 64, 64, 128)       0         \n",
      "_________________________________________________________________\n",
      "xnet_down4_encode_maxpool (M (None, 32, 32, 128)       0         \n",
      "_________________________________________________________________\n",
      "xnet_down4_conv_0 (Conv2D)   (None, 32, 32, 256)       294912    \n",
      "_________________________________________________________________\n",
      "xnet_down4_conv_0_bn (BatchN (None, 32, 32, 256)       1024      \n",
      "_________________________________________________________________\n",
      "xnet_down4_conv_0_activation (None, 32, 32, 256)       0         \n",
      "_________________________________________________________________\n",
      "xnet_down4_conv_1 (Conv2D)   (None, 32, 32, 256)       589824    \n",
      "_________________________________________________________________\n",
      "xnet_down4_conv_1_bn (BatchN (None, 32, 32, 256)       1024      \n",
      "_________________________________________________________________\n",
      "xnet_down4_conv_1_activation (None, 32, 32, 256)       0         \n",
      "_________________________________________________________________\n",
      "xnet_down4_conv_2 (Conv2D)   (None, 32, 32, 256)       589824    \n",
      "_________________________________________________________________\n",
      "xnet_down4_conv_2_bn (BatchN (None, 32, 32, 256)       1024      \n",
      "_________________________________________________________________\n",
      "xnet_down4_conv_2_activation (None, 32, 32, 256)       0         \n",
      "_________________________________________________________________\n",
      "xnet_down5_encode_maxpool (M (None, 16, 16, 256)       0         \n",
      "_________________________________________________________________\n",
      "xnet_down5_conv_0 (Conv2D)   (None, 16, 16, 512)       1179648   \n",
      "_________________________________________________________________\n",
      "xnet_down5_conv_0_bn (BatchN (None, 16, 16, 512)       2048      \n",
      "_________________________________________________________________\n",
      "xnet_down5_conv_0_activation (None, 16, 16, 512)       0         \n",
      "_________________________________________________________________\n",
      "xnet_down5_conv_1 (Conv2D)   (None, 16, 16, 512)       2359296   \n",
      "_________________________________________________________________\n",
      "xnet_down5_conv_1_bn (BatchN (None, 16, 16, 512)       2048      \n",
      "_________________________________________________________________\n",
      "xnet_down5_conv_1_activation (None, 16, 16, 512)       0         \n",
      "_________________________________________________________________\n",
      "xnet_down5_conv_2 (Conv2D)   (None, 16, 16, 512)       2359296   \n",
      "_________________________________________________________________\n",
      "xnet_down5_conv_2_bn (BatchN (None, 16, 16, 512)       2048      \n",
      "_________________________________________________________________\n",
      "xnet_down5_conv_2_activation (None, 16, 16, 512)       0         \n",
      "_________________________________________________________________\n",
      "xnet_down6_encode_maxpool (M (None, 8, 8, 512)         0         \n",
      "_________________________________________________________________\n",
      "xnet_down6_conv_0 (Conv2D)   (None, 8, 8, 1024)        4718592   \n",
      "_________________________________________________________________\n",
      "xnet_down6_conv_0_bn (BatchN (None, 8, 8, 1024)        4096      \n",
      "_________________________________________________________________\n",
      "xnet_down6_conv_0_activation (None, 8, 8, 1024)        0         \n",
      "_________________________________________________________________\n",
      "xnet_down6_conv_1 (Conv2D)   (None, 8, 8, 1024)        9437184   \n",
      "_________________________________________________________________\n",
      "xnet_down6_conv_1_bn (BatchN (None, 8, 8, 1024)        4096      \n",
      "_________________________________________________________________\n",
      "xnet_down6_conv_1_activation (None, 8, 8, 1024)        0         \n",
      "_________________________________________________________________\n",
      "xnet_down6_conv_2 (Conv2D)   (None, 8, 8, 1024)        9437184   \n",
      "_________________________________________________________________\n",
      "xnet_down6_conv_2_bn (BatchN (None, 8, 8, 1024)        4096      \n",
      "_________________________________________________________________\n",
      "xnet_down6_conv_2_activation (None, 8, 8, 1024)        0         \n",
      "_________________________________________________________________\n",
      "xnet_up0_from5_decode_unpool (None, 16, 16, 1024)      0         \n",
      "_________________________________________________________________\n",
      "xnet_up0_from5_conv_before_c (None, 16, 16, 512)       4718592   \n",
      "_________________________________________________________________\n",
      "xnet_up0_from5_conv_before_c (None, 16, 16, 512)       2048      \n",
      "_________________________________________________________________\n",
      "xnet_up0_from5_conv_before_c (None, 16, 16, 512)       0         \n",
      "_________________________________________________________________\n",
      "xnet_up0_from5_conv_after_co (None, 16, 16, 512)       2359296   \n",
      "_________________________________________________________________\n",
      "xnet_up0_from5_conv_after_co (None, 16, 16, 512)       2048      \n",
      "_________________________________________________________________\n",
      "xnet_up0_from5_conv_after_co (None, 16, 16, 512)       0         \n",
      "_________________________________________________________________\n",
      "xnet_up0_from5_conv_after_co (None, 16, 16, 512)       2359296   \n",
      "_________________________________________________________________\n",
      "xnet_up0_from5_conv_after_co (None, 16, 16, 512)       2048      \n",
      "_________________________________________________________________\n",
      "xnet_up0_from5_conv_after_co (None, 16, 16, 512)       0         \n",
      "_________________________________________________________________\n",
      "xnet_up0_from5_conv_after_co (None, 16, 16, 512)       2359296   \n",
      "_________________________________________________________________\n",
      "xnet_up0_from5_conv_after_co (None, 16, 16, 512)       2048      \n",
      "_________________________________________________________________\n",
      "xnet_up0_from5_conv_after_co (None, 16, 16, 512)       0         \n",
      "_________________________________________________________________\n",
      "xnet_up1_from4_decode_unpool (None, 32, 32, 512)       0         \n",
      "_________________________________________________________________\n",
      "xnet_up1_from4_conv_before_c (None, 32, 32, 256)       1179648   \n",
      "_________________________________________________________________\n",
      "xnet_up1_from4_conv_before_c (None, 32, 32, 256)       1024      \n",
      "_________________________________________________________________\n",
      "xnet_up1_from4_conv_before_c (None, 32, 32, 256)       0         \n",
      "_________________________________________________________________\n",
      "xnet_up1_from4_conv_after_co (None, 32, 32, 256)       589824    \n",
      "_________________________________________________________________\n",
      "xnet_up1_from4_conv_after_co (None, 32, 32, 256)       1024      \n",
      "_________________________________________________________________\n",
      "xnet_up1_from4_conv_after_co (None, 32, 32, 256)       0         \n",
      "_________________________________________________________________\n",
      "xnet_up1_from4_conv_after_co (None, 32, 32, 256)       589824    \n",
      "_________________________________________________________________\n",
      "xnet_up1_from4_conv_after_co (None, 32, 32, 256)       1024      \n",
      "_________________________________________________________________\n",
      "xnet_up1_from4_conv_after_co (None, 32, 32, 256)       0         \n",
      "_________________________________________________________________\n",
      "xnet_up1_from4_conv_after_co (None, 32, 32, 256)       589824    \n",
      "_________________________________________________________________\n",
      "xnet_up1_from4_conv_after_co (None, 32, 32, 256)       1024      \n",
      "_________________________________________________________________\n",
      "xnet_up1_from4_conv_after_co (None, 32, 32, 256)       0         \n",
      "_________________________________________________________________\n",
      "xnet_up2_from3_decode_unpool (None, 64, 64, 256)       0         \n",
      "_________________________________________________________________\n",
      "xnet_up2_from3_conv_before_c (None, 64, 64, 128)       294912    \n",
      "_________________________________________________________________\n",
      "xnet_up2_from3_conv_before_c (None, 64, 64, 128)       512       \n",
      "_________________________________________________________________\n",
      "xnet_up2_from3_conv_before_c (None, 64, 64, 128)       0         \n",
      "_________________________________________________________________\n",
      "xnet_up2_from3_conv_after_co (None, 64, 64, 128)       147456    \n",
      "_________________________________________________________________\n",
      "xnet_up2_from3_conv_after_co (None, 64, 64, 128)       512       \n",
      "_________________________________________________________________\n",
      "xnet_up2_from3_conv_after_co (None, 64, 64, 128)       0         \n",
      "_________________________________________________________________\n",
      "xnet_up2_from3_conv_after_co (None, 64, 64, 128)       147456    \n",
      "_________________________________________________________________\n",
      "xnet_up2_from3_conv_after_co (None, 64, 64, 128)       512       \n",
      "_________________________________________________________________\n",
      "xnet_up2_from3_conv_after_co (None, 64, 64, 128)       0         \n",
      "_________________________________________________________________\n",
      "xnet_up2_from3_conv_after_co (None, 64, 64, 128)       147456    \n",
      "_________________________________________________________________\n",
      "xnet_up2_from3_conv_after_co (None, 64, 64, 128)       512       \n",
      "_________________________________________________________________\n",
      "xnet_up2_from3_conv_after_co (None, 64, 64, 128)       0         \n",
      "_________________________________________________________________\n",
      "xnet_up3_from2_decode_unpool (None, 128, 128, 128)     0         \n",
      "_________________________________________________________________\n",
      "xnet_up3_from2_conv_before_c (None, 128, 128, 64)      73728     \n",
      "_________________________________________________________________\n",
      "xnet_up3_from2_conv_before_c (None, 128, 128, 64)      256       \n",
      "_________________________________________________________________\n",
      "xnet_up3_from2_conv_before_c (None, 128, 128, 64)      0         \n",
      "_________________________________________________________________\n",
      "xnet_up3_from2_conv_after_co (None, 128, 128, 64)      36864     \n",
      "_________________________________________________________________\n",
      "xnet_up3_from2_conv_after_co (None, 128, 128, 64)      256       \n",
      "_________________________________________________________________\n",
      "xnet_up3_from2_conv_after_co (None, 128, 128, 64)      0         \n",
      "_________________________________________________________________\n",
      "xnet_up3_from2_conv_after_co (None, 128, 128, 64)      36864     \n",
      "_________________________________________________________________\n",
      "xnet_up3_from2_conv_after_co (None, 128, 128, 64)      256       \n",
      "_________________________________________________________________\n",
      "xnet_up3_from2_conv_after_co (None, 128, 128, 64)      0         \n",
      "_________________________________________________________________\n",
      "xnet_up3_from2_conv_after_co (None, 128, 128, 64)      36864     \n",
      "_________________________________________________________________\n",
      "xnet_up3_from2_conv_after_co (None, 128, 128, 64)      256       \n",
      "_________________________________________________________________\n",
      "xnet_up3_from2_conv_after_co (None, 128, 128, 64)      0         \n",
      "_________________________________________________________________\n",
      "xnet_up4_from1_decode_unpool (None, 256, 256, 64)      0         \n",
      "_________________________________________________________________\n",
      "xnet_up4_from1_conv_before_c (None, 256, 256, 32)      18432     \n",
      "_________________________________________________________________\n",
      "xnet_up4_from1_conv_before_c (None, 256, 256, 32)      128       \n",
      "_________________________________________________________________\n",
      "xnet_up4_from1_conv_before_c (None, 256, 256, 32)      0         \n",
      "_________________________________________________________________\n",
      "xnet_up4_from1_conv_after_co (None, 256, 256, 32)      9216      \n",
      "_________________________________________________________________\n",
      "xnet_up4_from1_conv_after_co (None, 256, 256, 32)      128       \n",
      "_________________________________________________________________\n",
      "xnet_up4_from1_conv_after_co (None, 256, 256, 32)      0         \n",
      "_________________________________________________________________\n",
      "xnet_up4_from1_conv_after_co (None, 256, 256, 32)      9216      \n",
      "_________________________________________________________________\n",
      "xnet_up4_from1_conv_after_co (None, 256, 256, 32)      128       \n",
      "_________________________________________________________________\n",
      "xnet_up4_from1_conv_after_co (None, 256, 256, 32)      0         \n",
      "_________________________________________________________________\n",
      "xnet_up4_from1_conv_after_co (None, 256, 256, 32)      9216      \n",
      "_________________________________________________________________\n",
      "xnet_up4_from1_conv_after_co (None, 256, 256, 32)      128       \n",
      "_________________________________________________________________\n",
      "xnet_up4_from1_conv_after_co (None, 256, 256, 32)      0         \n",
      "_________________________________________________________________\n",
      "xnet_up5_from0_decode_unpool (None, 512, 512, 32)      0         \n",
      "_________________________________________________________________\n",
      "xnet_up5_from0_conv_before_c (None, 512, 512, 16)      4608      \n",
      "_________________________________________________________________\n",
      "xnet_up5_from0_conv_before_c (None, 512, 512, 16)      64        \n",
      "_________________________________________________________________\n",
      "xnet_up5_from0_conv_before_c (None, 512, 512, 16)      0         \n",
      "_________________________________________________________________\n",
      "xnet_up5_from0_conv_after_co (None, 512, 512, 16)      2304      \n",
      "_________________________________________________________________\n",
      "xnet_up5_from0_conv_after_co (None, 512, 512, 16)      64        \n",
      "_________________________________________________________________\n",
      "xnet_up5_from0_conv_after_co (None, 512, 512, 16)      0         \n",
      "_________________________________________________________________\n",
      "xnet_up5_from0_conv_after_co (None, 512, 512, 16)      2304      \n",
      "_________________________________________________________________\n",
      "xnet_up5_from0_conv_after_co (None, 512, 512, 16)      64        \n",
      "_________________________________________________________________\n",
      "xnet_up5_from0_conv_after_co (None, 512, 512, 16)      0         \n",
      "_________________________________________________________________\n",
      "xnet_up5_from0_conv_after_co (None, 512, 512, 16)      2304      \n",
      "_________________________________________________________________\n",
      "xnet_up5_from0_conv_after_co (None, 512, 512, 16)      64        \n",
      "_________________________________________________________________\n",
      "xnet_up5_from0_conv_after_co (None, 512, 512, 16)      0         \n",
      "_________________________________________________________________\n",
      "xnet_output (Conv2D)         (None, 512, 512, 1)       17        \n",
      "_________________________________________________________________\n",
      "xnet_output_activation (Acti (None, 512, 512, 1)       0         \n",
      "=================================================================\n",
      "Total params: 47,219,681\n",
      "Trainable params: 47,199,425\n",
      "Non-trainable params: 20,256\n",
      "_________________________________________________________________\n",
      "Using default discriminator (CNN)\n"
     ]
    }
   ],
   "source": [
    "R = Runner(verbose=True, \n",
    "           classifier='kunetplus2d',\n",
    "           discriminator='cnn',\n",
    "           filter_num= [16, 32, 64, 128, 256, 512, 1024],\n",
    "           stack_num_down=3, \n",
    "           stack_num_up=3, \n",
    "           activation='ReLU', \n",
    "           output_activation='Sigmoid', \n",
    "           batch_norm=True, \n",
    "           pool=True, \n",
    "           unpool=True, \n",
    "           deep_supervision=False,\n",
    "           weights=None, \n",
    "           freeze_backbone=True, \n",
    "           freeze_batch_norm=True,\n",
    "           optimizer=None, \n",
    "           loss=None, \n",
    "           metric=None           \n",
    "          )"
   ]
  },
  {
   "cell_type": "code",
   "execution_count": 5,
   "id": "87b0c65d",
   "metadata": {},
   "outputs": [],
   "source": [
    "# load our larger toy dataset (10k images and masks)\n",
    "images = np.load('/hpcstor6/scratch01/r/ryan.zurrin001/GP2TOYEXAMPLE_LARGE/images.npy')\n",
    "masks = np.load('/hpcstor6/scratch01/r/ryan.zurrin001/GP2TOYEXAMPLE_LARGE/masks.npy')"
   ]
  },
  {
   "cell_type": "code",
   "execution_count": 6,
   "id": "7330ad24",
   "metadata": {},
   "outputs": [],
   "source": [
    "images = images[:5000]\n",
    "masks = masks[:5000]"
   ]
  },
  {
   "cell_type": "code",
   "execution_count": 7,
   "id": "d5b4179a",
   "metadata": {},
   "outputs": [
    {
     "data": {
      "text/plain": [
       "(5000, 512, 512, 1)"
      ]
     },
     "execution_count": 7,
     "metadata": {},
     "output_type": "execute_result"
    }
   ],
   "source": [
    "images.shape"
   ]
  },
  {
   "cell_type": "code",
   "execution_count": 8,
   "id": "57033c4e",
   "metadata": {},
   "outputs": [
    {
     "data": {
      "text/plain": [
       "(5000, 512, 512, 1)"
      ]
     },
     "execution_count": 8,
     "metadata": {},
     "output_type": "execute_result"
    }
   ],
   "source": [
    "masks.shape"
   ]
  },
  {
   "cell_type": "code",
   "execution_count": 9,
   "id": "1dd71668",
   "metadata": {},
   "outputs": [],
   "source": [
    "weights = {\n",
    "    'A': 0.5,\n",
    "    'A_train': 0.1,\n",
    "    'A_val': 0.3,\n",
    "    'A_test': 0.6,\n",
    "    'B': 0.3,\n",
    "    'B_train': 0.7,\n",
    "    'B_val': 0.1,\n",
    "    'B_test': 0.2,\n",
    "    'Z': 0.2\n",
    "}"
   ]
  },
  {
   "cell_type": "code",
   "execution_count": 10,
   "id": "d8ff85c4",
   "metadata": {
    "scrolled": true
   },
   "outputs": [
    {
     "name": "stdout",
     "output_type": "stream",
     "text": [
      "Weights OK!\n",
      "******\n",
      "Loop 0\n"
     ]
    },
    {
     "name": "stderr",
     "output_type": "stream",
     "text": [
      "2023-04-23 14:35:28.383116: I tensorflow/compiler/mlir/mlir_graph_optimization_pass.cc:176] None of the MLIR Optimization Passes are enabled (registered 2)\n",
      "2023-04-23 14:35:28.402988: I tensorflow/core/platform/profile_utils/cpu_utils.cc:114] CPU Frequency: 2245755000 Hz\n"
     ]
    },
    {
     "name": "stdout",
     "output_type": "stream",
     "text": [
      "Epoch 1/100\n"
     ]
    },
    {
     "name": "stderr",
     "output_type": "stream",
     "text": [
      "2023-04-23 14:35:32.568673: I tensorflow/stream_executor/platform/default/dso_loader.cc:53] Successfully opened dynamic library libcudnn.so.8\n",
      "2023-04-23 14:35:33.265826: I tensorflow/stream_executor/cuda/cuda_dnn.cc:359] Loaded cuDNN version 8201\n",
      "2023-04-23 14:35:34.227225: W tensorflow/stream_executor/gpu/asm_compiler.cc:191] Falling back to the CUDA driver for PTX compilation; ptxas does not support CC 8.0\n",
      "2023-04-23 14:35:34.227251: W tensorflow/stream_executor/gpu/asm_compiler.cc:194] Used ptxas at ptxas\n",
      "2023-04-23 14:35:34.227309: W tensorflow/stream_executor/gpu/redzone_allocator.cc:314] Unimplemented: ptxas ptxas too old. Falling back to the driver to compile.\n",
      "Relying on driver to perform ptx compilation. \n",
      "Modify $PATH to customize ptxas location.\n",
      "This message will be only logged once.\n",
      "2023-04-23 14:35:34.247451: I tensorflow/stream_executor/platform/default/dso_loader.cc:53] Successfully opened dynamic library libcublas.so.11\n",
      "2023-04-23 14:35:35.029761: I tensorflow/stream_executor/platform/default/dso_loader.cc:53] Successfully opened dynamic library libcublasLt.so.11\n"
     ]
    },
    {
     "name": "stdout",
     "output_type": "stream",
     "text": [
      "4/4 [==============================] - 37s 6s/step - loss: 0.6295 - dice_coef: 0.1542 - val_loss: 0.6919 - val_dice_coef: 0.1635\n"
     ]
    },
    {
     "name": "stderr",
     "output_type": "stream",
     "text": [
      "2023-04-23 14:36:09.986527: W tensorflow/python/util/util.cc:348] Sets are not currently considered sequences, but this may change in the future, so consider avoiding using them.\n"
     ]
    },
    {
     "name": "stdout",
     "output_type": "stream",
     "text": [
      "Epoch 2/100\n",
      "4/4 [==============================] - 4s 1s/step - loss: 0.6226 - dice_coef: 0.1564 - val_loss: 0.6895 - val_dice_coef: 0.1634\n",
      "Epoch 3/100\n",
      "4/4 [==============================] - 4s 1s/step - loss: 0.6189 - dice_coef: 0.1571 - val_loss: 0.6880 - val_dice_coef: 0.1634\n",
      "Epoch 4/100\n",
      "4/4 [==============================] - 4s 1s/step - loss: 0.6037 - dice_coef: 0.1620 - val_loss: 0.6861 - val_dice_coef: 0.1633\n",
      "Epoch 5/100\n",
      "4/4 [==============================] - 4s 1s/step - loss: 0.5934 - dice_coef: 0.1650 - val_loss: 0.6846 - val_dice_coef: 0.1633\n",
      "Epoch 6/100\n",
      "4/4 [==============================] - 4s 1s/step - loss: 0.5936 - dice_coef: 0.1652 - val_loss: 0.6839 - val_dice_coef: 0.1632\n",
      "Epoch 7/100\n",
      "4/4 [==============================] - 4s 1s/step - loss: 0.5938 - dice_coef: 0.1652 - val_loss: 0.6831 - val_dice_coef: 0.1632\n",
      "Model saved to: /tmp/tmpu_ssqa4sGP2/xnet_0xnet_model\n",
      "History saved to: /tmp/tmpu_ssqa4sGP2/xnet_history_0.pkl\n",
      "Testing the classifier...\n",
      "Model saved to /tmp/cnnd_5.model\n",
      "History saved to /tmp/cnnd_history_5.pickle\n",
      "Testing the discriminator...\n",
      "10/10 [==============================] - 0s 18ms/step - loss: 0.0000e+00 - accuracy: 1.0000\n",
      "Found 144 machine labels.\n",
      "Machine labels [  4   5   6   7   8  11  14  19  21  22  23  26  28  29  30  31  32  35\n",
      "  36  38  41  43  45  49  50  54  56  62  63  65  67  68  69  72  74  76\n",
      "  77  78  82  85  86  88  90  91  94  97 100 102 104 106 107 109 111 113\n",
      " 114 115 116 117 120 121 123 124 127 131 135 136 139 140 141 146 147 148\n",
      " 149 150 151 155 156 159 162 166 169 173 177 180 182 183 184 190 191 192\n",
      " 193 195 200 202 204 206 208 213 214 215 216 222 223 224 225 226 227 228\n",
      " 229 230 231 233 234 236 239 240 247 251 252 253 254 255 257 262 264 265\n",
      " 266 267 268 271 274 275 279 280 281 282 285 286 287 289 291 292 295 298]\n",
      "D_ids ['89e597bc-25c6-41cb-ac4c-a1fd5f79bc67', 'ddfb3e6d-5d88-44a7-bfe9-584b4d6e979a', 'da8637d3-14ee-4f7b-bb7a-b357bc9aef80', '85e378ef-2b5a-46cd-8808-857a17778591', 'a0ab1cf3-e821-4ba5-8f51-624471486020', '410e8242-2fa9-4a1c-a760-bcba2ce4582b', '9f8e6a0a-b4f8-46e9-baf8-15bb48ce665d', '8f62358e-91be-422b-a2e7-f28b7e5348bf', 'ef7b70e9-5816-4dfd-9ded-697398f0fd2f', '3d72997e-c07c-4981-b19c-4a25c0bd701b', '342133c2-ab01-4a6c-8334-7dfba019d91b', 'aa4fe402-ab3f-4431-8237-6c48723de1e6', '0700c345-f21b-4d4f-89e5-881165dd545f', 'e3bf958f-068d-4b88-96b3-c8c3d5ec61d7', '0c7adedf-277d-4de5-b246-21a1ca6c1e1e', 'be29be9f-fec8-4d39-9ccd-2483e1e7664e', '4743f6a7-027d-42a9-828a-460367b9a6d8', '585dc209-0a65-4fec-a3e0-1cb4738a5e6f', 'bdba394e-04a9-4869-8c49-e8889fcd6f6e', '27d850b7-a677-4cd9-a60e-9a07764df873', '5ae3c9bd-5aa1-4e27-99e5-604f76f452fd', 'e91bcc2a-19ea-4720-bab7-7a83dab2e5ff', 'ba8fc86e-e8ca-4990-aaf4-87de921f3c91', 'fabc5ec4-53b5-4d0b-9df1-3d7881c823d1', '3c06b1f2-9467-439b-a6cd-c9ccd0ce4cfb', '036c4a86-27a6-4d38-aac8-edbd320788b1', 'e17ffad8-0bb6-460f-aa3b-d51e460345ae', '13939620-126d-487e-8b85-4383a0397270', 'a4b66936-1149-4e99-939e-09acbbde2654', 'c80bb685-cfe1-4249-bf9a-73120d85cbcb', '66a0770f-90e3-410b-8eac-bf23501625f5', 'afdbbe75-ea37-45c7-83d9-05364da9388d', '6e3b4be7-d5e4-43a1-9439-05b0f4634b23', 'cde0c282-999b-40bf-9d4b-c9b97b1a5f7d', '0f543d6b-00fd-4581-b32d-9557b24a7d65', '4bf616f2-bedf-4a88-9df7-d5721a85dbd9', 'a26e435c-4407-4c2e-8881-dc136b60c1e1', '84efa95f-7399-4bcf-8fe6-98a2f5fe675c', '692cc075-5d8e-4997-bc46-585f7c4c6908', '0724ade4-967f-4a16-84d3-3e20b1e62d53', '44a9dc17-b0e7-4888-8a18-e031f840b9e6', '81d81a50-2898-4ee9-8ead-89620d389d6b', 'd5cd45dd-08d5-423a-97fd-adaec51917f9', 'cb996517-a3dd-4fb6-bf42-5cc77032dff9', '88165629-c7e5-4b85-a9a6-75771cf16d5d', '4078505c-1904-481b-bab0-9a7b28e0f67f', '31d4a662-d344-4082-9f4e-4dff2ecb7297', 'c049e8e8-a2ec-4cc2-bf3d-911f74859d75', '58600950-51dc-4472-bebd-5baba346724c', '51510ca9-c987-40b9-a45a-0aabb58f31c4', 'e8351910-9aee-4685-bc1f-a063917495e1', 'e8b8efc3-dc5a-45e1-a8c6-c7e5882f47ba', 'c3ab8e03-f7c1-497e-afbc-91389c5859d5', '5c1a9455-991c-497b-9be5-ec6488ab9cad', '600af298-7285-49c5-8433-d522626b20d6', '1a62955f-9dde-4106-a04d-793871303e8e', 'd196d967-35c5-46be-938b-9391b693ae50', '44d0f51e-23ad-4fe9-8354-adb1d1a7d9ac', 'dccc130f-1e52-4974-b689-f12ade919a81', 'd667a3b3-909f-4192-9c58-89ea2ddf4867', '36c31c2a-7b18-409f-b31f-e6eeaabf3e11', 'd9178612-8e25-4a1b-ab8e-ef41127deed2', 'c691674e-ac6a-457d-ab7b-8c1b68d35285', '2125fd08-b66e-4e44-9218-f6766f7a46b6', 'c853a21f-e462-420a-8db2-716a655f14d5', '107afb7a-107e-49f5-88e9-7881eca952d8', '24310927-9a07-406a-99fd-9244c63b15ef', '2f971a4d-6019-42be-a746-87600fc7600b', '71b99536-2790-4211-b04f-461c78ca1052', '849c3405-bd7b-4de7-9f8a-d28d185f0d7c', 'b1929a93-5338-47bc-b7a5-507e8d7bb4cb', 'bb9082a2-066d-4055-b8c5-9593f6a7cda7', 'd976a358-f942-484c-b131-b838da1ecefa', '1f876f4d-0aaf-4dff-82d9-a5af76effcf8', '4ebfe0bc-8202-4e0f-9da3-90708fa92a87', '2185dd91-3994-4f13-baa8-c6fb168c4cc3', '8abea22a-ceca-417a-8bea-6fc62acd8134', '6af1754a-69bb-437e-ad26-a6ae51ac8a8d', '5a356c79-7bcc-4fbc-ae07-ae8d913f757c', 'bef344e5-af47-48cf-ac5a-3e46fdb4ef14', '24b40586-f297-4d34-9a35-722806b582a9', '4defddf8-520a-4497-99bf-d4d8185ae829', 'd88fbbda-1569-4bcc-a66b-5256be5c065e', 'ddf4e16a-e88e-463f-b583-45e1de9f487c', '15861b0c-8ac0-4e91-b4d5-05d62933edb4', '70597678-3b7b-437b-a978-58df7f91d337', 'c52e0f7f-9458-42d6-89fb-6a52310d54e3', '81a10c4c-a1bd-4a1e-8341-fdaf9db289f7', '4ffcc42d-675d-4f03-89dc-36861df76f50', '495a5d70-46da-4145-a773-ca551e1453d6', '8b7d47c9-5b32-44f5-a22d-d0fb89dc29ca', 'c24790b3-69cd-4e34-8ffe-3d8b10b7c3a4', '90fb2866-93d7-4818-9b98-92a879b9717d', 'b4db6c36-2700-46c0-8178-6f5637e95ef4', 'a6552664-db69-461f-b006-7eb6378bfe53', '4bcb7abd-b0d9-404b-9895-0aabc9bbce31', '6fba1047-b44d-4700-8729-40696a95067e', 'd80ccbfc-40b5-46ce-a18b-eb5b591ce674', 'b78c84d4-f311-410c-bca9-6a64921544f3', '6130155e-e6f0-498d-aead-34fa6105910e', '2853ac92-3067-4058-8724-1ecf2cb9d2dc', '27a34937-05ac-49fb-bcbb-abac3c1a334c', '0838f9f7-dd85-4029-84ee-9c0427446313', '21784939-29b5-4407-a014-0a3820ae0874', '07216632-209f-4515-975b-d786b63a0b89', 'ba475da2-90f6-4f3e-a6ca-c26269b79cb1', 'db864c07-a344-4eac-a177-c76661cdb823', '4c05fe37-a613-410d-a4cb-6152e4d442ac', 'ec790b73-4497-428c-b8db-842ee21c0275', 'a3e4a9ff-32ba-4073-9117-29c8ec0f0c52', 'bc71ddbf-21ab-4a61-b476-7eb8e5535b26', '77ee6442-6800-483d-89d9-44833cb2d1b3', 'f83e74f0-adde-4996-87ac-af0ba2cb2953', '289ad756-8ff4-47b5-93b4-1336cc30bd5a', '5a336f28-1d12-4083-a094-b0533dd4208a', '807d1dba-d7a5-4d1e-a70a-0320c04d16c2', 'dbbe6e01-23a2-4acf-80de-558bb188d4db', '0501acf6-ffbd-4f47-b4f1-5e4fdfdedb19', '591a4464-9438-4a99-a356-8b31d26be698', '15218ba7-c89c-4039-bfa7-ed56ca087914', '134428ba-7e9c-4683-98c7-3ec84b81d1af', 'feae4536-2d29-4bf0-b80b-2478da0d220b', '33fe9ea4-676d-48f8-84fd-89b20b2d2c43', '571b210f-6fe7-4849-85fe-65697ca5c156', 'ae1093b6-71bc-4e83-8ab9-7ef2ddd00611', '55da97c3-6848-4e48-b63c-b26d65c449a9', '40f1dcc3-80f8-48fb-8bfa-78bd1916b5c6', '6e82ed2c-2932-42bd-9fe0-0d601d56ae80', '764d17d4-5f43-48fb-8b0f-32752ef0abb0', '52dd056c-ca18-44e7-b5f9-00b6c55acd6f', '578179a7-fc83-4ddb-b3dd-d1905ead0152', '86497542-da02-4171-b244-c4c593dbda7f', 'c0e64ce1-c057-49b9-aeeb-e37ce6f82a8a', '5f391fba-35d4-493e-8fa4-23db1f57850e', 'b6de6282-56f0-4f43-9998-361d94b394fa', '61e41361-6e89-4b61-91ae-86ad97d61444', '30b0507c-0dd1-4746-844f-f9fa7af17db7', '2e0ba2eb-7979-4964-b4cb-87b98eff1ae6', '030abb4b-19c9-4a9b-9a50-27d45b04197f', '42db42a8-7373-4b90-938d-d1d0a71e1318', 'ae6081ef-8090-4274-ac00-6e838986697f', 'e5929597-9ab7-4295-9b46-0a53ade51c23', 'fc2e1e5f-c91c-426f-856e-c0618d68caa1', 'e3fee5c0-b787-42bb-893b-577c527225a2']\n",
      "Replacing 48 from 144 !\n",
      "D_relabeled_ 48\n",
      "selected_ids ['1f876f4d-0aaf-4dff-82d9-a5af76effcf8', '77ee6442-6800-483d-89d9-44833cb2d1b3', '71b99536-2790-4211-b04f-461c78ca1052', '51510ca9-c987-40b9-a45a-0aabb58f31c4', '571b210f-6fe7-4849-85fe-65697ca5c156', 'd88fbbda-1569-4bcc-a66b-5256be5c065e', 'd976a358-f942-484c-b131-b838da1ecefa', '55da97c3-6848-4e48-b63c-b26d65c449a9', '8b7d47c9-5b32-44f5-a22d-d0fb89dc29ca', '44d0f51e-23ad-4fe9-8354-adb1d1a7d9ac', '15218ba7-c89c-4039-bfa7-ed56ca087914', '2185dd91-3994-4f13-baa8-c6fb168c4cc3', '4ebfe0bc-8202-4e0f-9da3-90708fa92a87', '4bcb7abd-b0d9-404b-9895-0aabc9bbce31', '764d17d4-5f43-48fb-8b0f-32752ef0abb0', '70597678-3b7b-437b-a978-58df7f91d337', 'a6552664-db69-461f-b006-7eb6378bfe53', 'ef7b70e9-5816-4dfd-9ded-697398f0fd2f', '4defddf8-520a-4497-99bf-d4d8185ae829', '66a0770f-90e3-410b-8eac-bf23501625f5', 'd667a3b3-909f-4192-9c58-89ea2ddf4867', '134428ba-7e9c-4683-98c7-3ec84b81d1af', '0700c345-f21b-4d4f-89e5-881165dd545f', '2125fd08-b66e-4e44-9218-f6766f7a46b6', 'fc2e1e5f-c91c-426f-856e-c0618d68caa1', '5c1a9455-991c-497b-9be5-ec6488ab9cad', '591a4464-9438-4a99-a356-8b31d26be698', '036c4a86-27a6-4d38-aac8-edbd320788b1', '807d1dba-d7a5-4d1e-a70a-0320c04d16c2', '61e41361-6e89-4b61-91ae-86ad97d61444', '81a10c4c-a1bd-4a1e-8341-fdaf9db289f7', '84efa95f-7399-4bcf-8fe6-98a2f5fe675c', 'aa4fe402-ab3f-4431-8237-6c48723de1e6', '495a5d70-46da-4145-a773-ca551e1453d6', 'a0ab1cf3-e821-4ba5-8f51-624471486020', 'ba475da2-90f6-4f3e-a6ca-c26269b79cb1', '5ae3c9bd-5aa1-4e27-99e5-604f76f452fd', 'd80ccbfc-40b5-46ce-a18b-eb5b591ce674', 'bdba394e-04a9-4869-8c49-e8889fcd6f6e', '0501acf6-ffbd-4f47-b4f1-5e4fdfdedb19', 'ae6081ef-8090-4274-ac00-6e838986697f', '86497542-da02-4171-b244-c4c593dbda7f', '44a9dc17-b0e7-4888-8a18-e031f840b9e6', '8abea22a-ceca-417a-8bea-6fc62acd8134', 'e91bcc2a-19ea-4720-bab7-7a83dab2e5ff', '30b0507c-0dd1-4746-844f-f9fa7af17db7', 'e8351910-9aee-4685-bc1f-a063917495e1', '107afb7a-107e-49f5-88e9-7881eca952d8']\n",
      "dict_keys(['1f876f4d-0aaf-4dff-82d9-a5af76effcf8', '77ee6442-6800-483d-89d9-44833cb2d1b3', '71b99536-2790-4211-b04f-461c78ca1052', '51510ca9-c987-40b9-a45a-0aabb58f31c4', '571b210f-6fe7-4849-85fe-65697ca5c156', 'd88fbbda-1569-4bcc-a66b-5256be5c065e', 'd976a358-f942-484c-b131-b838da1ecefa', '55da97c3-6848-4e48-b63c-b26d65c449a9', '8b7d47c9-5b32-44f5-a22d-d0fb89dc29ca', '44d0f51e-23ad-4fe9-8354-adb1d1a7d9ac', '15218ba7-c89c-4039-bfa7-ed56ca087914', '2185dd91-3994-4f13-baa8-c6fb168c4cc3', '4ebfe0bc-8202-4e0f-9da3-90708fa92a87', '4bcb7abd-b0d9-404b-9895-0aabc9bbce31', '764d17d4-5f43-48fb-8b0f-32752ef0abb0', '70597678-3b7b-437b-a978-58df7f91d337', 'a6552664-db69-461f-b006-7eb6378bfe53', 'ef7b70e9-5816-4dfd-9ded-697398f0fd2f', '4defddf8-520a-4497-99bf-d4d8185ae829', '66a0770f-90e3-410b-8eac-bf23501625f5', 'd667a3b3-909f-4192-9c58-89ea2ddf4867', '134428ba-7e9c-4683-98c7-3ec84b81d1af', '0700c345-f21b-4d4f-89e5-881165dd545f', '2125fd08-b66e-4e44-9218-f6766f7a46b6', 'fc2e1e5f-c91c-426f-856e-c0618d68caa1', '5c1a9455-991c-497b-9be5-ec6488ab9cad', '591a4464-9438-4a99-a356-8b31d26be698', '036c4a86-27a6-4d38-aac8-edbd320788b1', '807d1dba-d7a5-4d1e-a70a-0320c04d16c2', '61e41361-6e89-4b61-91ae-86ad97d61444', '81a10c4c-a1bd-4a1e-8341-fdaf9db289f7', '84efa95f-7399-4bcf-8fe6-98a2f5fe675c', 'aa4fe402-ab3f-4431-8237-6c48723de1e6', '495a5d70-46da-4145-a773-ca551e1453d6', 'a0ab1cf3-e821-4ba5-8f51-624471486020', 'ba475da2-90f6-4f3e-a6ca-c26269b79cb1', '5ae3c9bd-5aa1-4e27-99e5-604f76f452fd', 'd80ccbfc-40b5-46ce-a18b-eb5b591ce674', 'bdba394e-04a9-4869-8c49-e8889fcd6f6e', '0501acf6-ffbd-4f47-b4f1-5e4fdfdedb19', 'ae6081ef-8090-4274-ac00-6e838986697f', '86497542-da02-4171-b244-c4c593dbda7f', '44a9dc17-b0e7-4888-8a18-e031f840b9e6', '8abea22a-ceca-417a-8bea-6fc62acd8134', 'e91bcc2a-19ea-4720-bab7-7a83dab2e5ff', '30b0507c-0dd1-4746-844f-f9fa7af17db7', 'e8351910-9aee-4685-bc1f-a063917495e1', '107afb7a-107e-49f5-88e9-7881eca952d8'])\n",
      "point ids 48\n",
      "Removed: 48 Filled: 48\n",
      "TOOK 276.04858779907227 seconds\n",
      "==== DONE LOOP 0 ====\n",
      "******\n",
      "Loop 1\n"
     ]
    },
    {
     "name": "stdout",
     "output_type": "stream",
     "text": [
      "Epoch 1/100\n",
      "5/5 [==============================] - 14s 3s/step - loss: 0.5870 - dice_coef: 0.1667 - val_loss: 0.6822 - val_dice_coef: 0.1632\n",
      "Epoch 2/100\n",
      "5/5 [==============================] - 5s 1s/step - loss: 0.5869 - dice_coef: 0.1660 - val_loss: 0.6816 - val_dice_coef: 0.1631\n",
      "Epoch 3/100\n",
      "5/5 [==============================] - 5s 1s/step - loss: 0.5829 - dice_coef: 0.1682 - val_loss: 0.6825 - val_dice_coef: 0.1632\n",
      "Epoch 4/100\n",
      "5/5 [==============================] - 5s 1s/step - loss: 0.5701 - dice_coef: 0.1697 - val_loss: 0.6846 - val_dice_coef: 0.1633\n",
      "Epoch 5/100\n",
      "5/5 [==============================] - 5s 1s/step - loss: 0.5549 - dice_coef: 0.1694 - val_loss: 0.6842 - val_dice_coef: 0.1634\n",
      "Epoch 6/100\n",
      "5/5 [==============================] - 5s 1s/step - loss: 0.5423 - dice_coef: 0.1764 - val_loss: 0.6858 - val_dice_coef: 0.1633\n",
      "Epoch 7/100\n",
      "5/5 [==============================] - 5s 1s/step - loss: 0.5297 - dice_coef: 0.1814 - val_loss: 0.6312 - val_dice_coef: 0.1599\n",
      "Epoch 8/100\n",
      "5/5 [==============================] - 5s 1s/step - loss: 0.5158 - dice_coef: 0.1837 - val_loss: 0.5967 - val_dice_coef: 0.1610\n",
      "Epoch 9/100\n",
      "5/5 [==============================] - 5s 1s/step - loss: 0.5070 - dice_coef: 0.1870 - val_loss: 0.6367 - val_dice_coef: 0.1635\n",
      "Epoch 10/100\n",
      "5/5 [==============================] - 5s 1s/step - loss: 0.5086 - dice_coef: 0.1866 - val_loss: 0.6662 - val_dice_coef: 0.1624\n",
      "Epoch 11/100\n",
      "5/5 [==============================] - 5s 1s/step - loss: 0.5069 - dice_coef: 0.1880 - val_loss: 0.6840 - val_dice_coef: 0.1651\n",
      "Epoch 12/100\n",
      "5/5 [==============================] - 5s 1s/step - loss: 0.5049 - dice_coef: 0.1884 - val_loss: 0.6955 - val_dice_coef: 0.1670\n",
      "Epoch 13/100\n",
      "5/5 [==============================] - 5s 1s/step - loss: 0.4985 - dice_coef: 0.1908 - val_loss: 0.6809 - val_dice_coef: 0.1657\n",
      "Epoch 14/100\n",
      "5/5 [==============================] - 5s 1s/step - loss: 0.4970 - dice_coef: 0.1897 - val_loss: 0.5288 - val_dice_coef: 0.1393\n",
      "Epoch 15/100\n",
      "5/5 [==============================] - 5s 1s/step - loss: 0.5003 - dice_coef: 0.1898 - val_loss: 0.4615 - val_dice_coef: 0.0246\n",
      "Epoch 16/100\n",
      "5/5 [==============================] - 5s 1s/step - loss: 0.5031 - dice_coef: 0.1882 - val_loss: 1.4434 - val_dice_coef: 9.5837e-06\n",
      "Model saved to: /tmp/tmpu_ssqa4sGP2/xnet_1xnet_model\n",
      "History saved to: /tmp/tmpu_ssqa4sGP2/xnet_history_1.pkl\n",
      "Testing the classifier...\n",
      "Model saved to /tmp/cnnd_6.model\n",
      "History saved to /tmp/cnnd_history_6.pickle\n",
      "Testing the discriminator...\n",
      "10/10 [==============================] - 0s 24ms/step - loss: 0.0000e+00 - accuracy: 1.0000\n",
      "Found 140 machine labels.\n",
      "Machine labels [  3   6   7   8   9  10  13  16  18  19  20  22  25  26  29  30  31  33\n",
      "  34  36  37  41  45  49  50  51  53  56  57  58  64  71  74  76  79  80\n",
      "  83  84  85  86  89  90  91  92  93  95  96  99 101 104 105 107 113 114\n",
      " 118 120 122 125 128 131 135 136 137 142 146 148 149 152 156 158 161 163\n",
      " 165 166 170 173 174 177 184 185 189 191 192 193 194 195 196 201 202 203\n",
      " 207 208 209 211 215 216 217 218 219 220 221 224 225 226 231 232 238 241\n",
      " 244 246 249 250 252 253 254 256 257 259 261 265 266 267 268 274 275 276\n",
      " 277 279 280 281 283 284 285 287 288 290 292 294 296 298]\n",
      "D_ids ['5e23ed11-3375-4318-ad05-d47c212d8174', 'cae7a422-fd32-4aab-a584-d5538cc9ed91', '3c688da7-b0a0-48f9-9705-dee53bbeb26f', 'ffc94472-7292-494a-86c3-17a04da389e6', 'b17ef29c-2113-42bf-b9f3-b922e868441e', 'c0b1c5d9-7609-42a4-8114-50c9cfeefebc', 'ed74ef1c-2d10-4f5c-b2b7-6bd130e0f1d9', '546b3666-a111-4ebf-ac95-0a996659dfbb', '93f14d43-01b6-47b4-abd8-fadc91ec752e', '806ae1f6-a0dd-473e-9646-6d24089a0cfc', '06d0ed66-87e7-4b95-ab3a-9c0012324d54', '9b5e5f52-eac9-4856-9c1a-f0bc8e0010e2', 'c045ad89-31f7-41e4-83ec-2189cac82413', '5a336f28-1d12-4083-a094-b0533dd4208a', '5b05c877-db08-4f22-9105-445bd7cbe681', 'bfda4ad7-3462-4e36-a0aa-ee6b20834469', '088df4e8-c8f1-4827-b8af-5a774695e546', '9575eabc-3a28-412b-940b-81aeb2d53a15', '84cc96c7-06b7-4938-b323-840ab0328ac8', 'bb6b66a6-36d6-456a-b5d9-9413864abbb6', 'fd5bacdf-d1d0-4f94-8f19-0a21a53c5d2c', 'd52d207c-fb70-4732-b309-38bd0f0a9454', '1ff4b620-e301-4a4c-b67b-bb2a0e84a991', 'd38a8cb4-f415-4022-92c0-ab4d55ba8777', '13cfe823-434f-4f98-9a20-d78678e868ea', '7db373b2-bd97-455b-ab73-507612a742a3', '888793b0-ff80-44e0-83b4-35bb503215bd', '945fe56c-136c-4855-9c02-0fe2fbe02582', 'b99c6e56-33ce-4e07-8b86-b0b981fa15e9', '68b0b712-d425-413d-93c2-262b23a736ed', 'd9178612-8e25-4a1b-ab8e-ef41127deed2', '8dd777f8-3f54-4714-877b-f9d49e313dfc', '816f8824-64a9-4ca1-8620-e42b6ddb7b1e', '64690cdc-8915-47f9-b0eb-9df896033c1b', '0943fa0d-641d-4f5a-8feb-0e3aca3d650e', 'eb1b4d39-61c3-4074-866c-731838d52b63', 'c1dee423-c80a-4d87-86e7-0e5819a67359', '62ddd2ae-f2d0-4942-b007-4387e0369c4d', 'ee8042b1-4683-469e-a910-ef441b3b853c', 'e31e6893-42e8-48b0-b9c2-5870bf76d802', 'b2d65238-49bb-47ac-9633-4d3fe562a5b9', 'b547f3de-7464-4aa1-a46a-7d30d9375579', 'b7790e83-a19c-4f54-ac86-bae959000841', '790294b9-5cdd-4b15-b3b8-86f5922f767a', 'ad3b43c4-ab92-4672-8cef-acfc68fbc73c', '2df8fabe-f81d-4b2b-981c-3595b887cd4a', 'a9b527f5-c8eb-4a96-a4bc-0b92e283304c', '3bb9d0cc-ba3f-4db5-829b-161cf0b5232d', '863457bc-1659-485b-9a67-b3ce4c0359a6', 'b6e04c81-c31d-4e5f-9d46-d53e1d03c98f', '0574d738-a792-406a-aba5-9abc3e0e19d1', 'f0771040-39d0-4af9-8da8-b7cfd1c3cf51', '88afaa15-3aca-4800-ac1d-2a193ebe913f', '5313c726-ef70-4cf9-a713-243179bf556c', '5376092a-d98c-4252-9089-ab2f8811ed3c', 'a24e26d2-583a-4212-8ae7-91cd85c4a1d9', 'f9a07423-9d59-4d46-8071-e3884ba6b72a', 'e85df6be-d5b8-4593-a8d7-9e46c2e6b127', '8b7815b0-7a66-42a4-932d-fbc0f178bd94', '13239cfb-dca6-4aec-aeb2-f0145150db88', '0f543d6b-00fd-4581-b32d-9557b24a7d65', '24b40586-f297-4d34-9a35-722806b582a9', 'bf0de3b8-833f-467b-a8e2-8d4e99806aed', '705a2fc5-a74f-4268-9689-bea7c5cfe577', 'e3e26918-ce10-4ed6-ae78-39e346bf6f1a', 'e1335343-6799-4cf2-88aa-0bda404dbb9a', 'fc4dafc3-0eba-47aa-81fa-4cdc3fdc4ac5', '557b473f-8b60-4125-b0e4-67c465d73e17', '4b147fe8-05d8-4ded-8be0-c7c1c44cf547', 'bc8c6730-dfbf-4149-a163-ff0cc8d971ad', '436fe141-0155-4c4f-af7e-72272163f1b0', 'fdf71de3-cb72-4546-9c16-4549775fc582', '8a016a2c-2c2b-4a9f-82e1-7c09cd077559', '4f03e053-7e64-4861-bbe6-82ae03387ef4', '541800f0-3679-4682-a7ab-941bf18d825e', '00f9cc01-70da-429f-b908-b3a178bb5935', 'fd4bdd41-f40b-4b35-acc0-8a843a145dfa', 'da9d8d85-d0fc-4d47-926a-9e1aedcd4d91', 'd0fef817-2c89-490d-9824-415292633710', 'cb996517-a3dd-4fb6-bf42-5cc77032dff9', 'b16c837d-6d38-4dc5-8a01-3d9ec090e911', 'c80bb685-cfe1-4249-bf9a-73120d85cbcb', '383d80cf-d646-4de2-b613-6adccd16aec7', 'b5d385d8-0b93-4ac0-aeec-94f4571adf39', 'f46622ef-a5e8-41e3-823d-73cc598ec875', '824e5334-e7e3-4e7b-8dd4-0dc73e0c35ad', 'c1702011-6399-49a8-99e2-933bcbad3e09', 'fed6082f-adb0-4663-8cda-71b3a64b67a4', 'c70b7cf0-e8b9-4adf-8676-248d3d50c795', 'd7d29434-00b7-46b3-800d-798086cd2e05', 'd75cbc7f-68f4-4a8a-84e1-93ac81d7f663', '33fe9ea4-676d-48f8-84fd-89b20b2d2c43', 'f2969966-9074-4240-b855-629a157c5d23', '6e1e0b1a-1de7-4c7d-a9e4-382ae4a9a14f', '80396bf9-2f83-4a26-b284-3feea782622d', 'd215ed46-51bb-432b-9c35-3a38b5749336', '23479301-f677-43fa-9939-4c604dcfbaba', '766cccaf-dfe8-44ad-8fa3-df1d25043bcf', 'c7f9d41d-e832-44f2-ba41-824a520a7abb', '3a9b4561-58cf-4b51-828d-6bc57d1072f2', '9bc5ac99-2f72-4854-8a33-31673af82ff2', '8476db6c-ec3b-432f-8ee1-69482c4b32f3', '412f844c-8a47-4877-a754-efaa8cc5ff86', '1ff99dda-c17e-4af6-ab6b-55ab6df271fb', 'b64a3c1b-3765-4475-bd62-b8b1f9910bdf', '64f14993-49c6-44c0-8673-553ffd6d5de3', '593018e8-4b8a-4a12-bd03-616821e64be6', 'eb526620-a1b2-4da5-9c98-512d0e0e5634', 'ce6d8fcd-a190-4f19-988f-d603b2368f81', '4c25d3f4-adb5-446d-9ce4-e4d67758f1af', '9ddebd36-f578-4fbd-9ab1-3f196592b431', '0b5f6b5d-c932-4e4d-a1a9-b95aef9db01a', '3d567645-fa46-443f-b318-62bcbb27bae3', 'b929db08-6900-4bb7-83e5-39aa41ef6d82', '6f3c26e6-a471-47af-a178-2d54fc242c3b', '3686d126-2812-4a90-a19a-5990c627895b', '83b2095e-d446-4a7a-90d0-de05c461296b', '982d216f-1252-4cb0-9f27-0bfd21444fd0', 'c4eb6b61-96f2-4282-982e-af55cd92f98e', '2c34b994-b948-440e-acb4-50dd58ec3734', '759d4fec-d834-413b-b318-454d0ae45f2d', '6127e11c-b2a3-432e-8425-ae187f3cc519', '421dbdad-dbb3-4019-a5c7-d218a8cbb269', '9b82401b-dae5-4cc4-9e3e-b45c747e4374', '31a039c3-59ea-44c3-862e-ca59a58652f5', '43489f05-cf40-4cfb-bba4-5f0df4f4ad4f', 'aae2d1c5-04ac-49f4-b622-c5237f762fd1', 'eea8fc4a-49fc-4461-95c4-7e2f94099967', '84d37909-1b22-4e67-8ece-297664f388c8', 'a66bde56-44ae-4592-8d31-efb35bc94b0e', '9acfc074-6917-4d51-81e3-83f4d21c3121', '11e28b82-1b1d-433c-97fe-5a19df7a5d99', '9966a51c-1108-453a-84df-a45bdbc77bad', 'f827b258-9537-482a-9dbd-7468a593c72e', 'a4d6146e-7d3d-457b-b408-f872d4255e2e', 'ec0a7ccf-23b7-4d52-b2a0-ce70fcc94426', '7c534ee4-0c3d-4d42-a9c2-3e7bc65b1ee9', '72860271-6755-4b71-be5f-f28310ae5c98', '24310927-9a07-406a-99fd-9244c63b15ef', '8efef9a2-8ff1-4db2-940a-1f39a0737299']\n"
     ]
    },
    {
     "name": "stdout",
     "output_type": "stream",
     "text": [
      "Replacing 46 from 140 !\n",
      "D_relabeled_ 46\n",
      "selected_ids ['cb996517-a3dd-4fb6-bf42-5cc77032dff9', '945fe56c-136c-4855-9c02-0fe2fbe02582', '759d4fec-d834-413b-b318-454d0ae45f2d', 'f827b258-9537-482a-9dbd-7468a593c72e', '6e1e0b1a-1de7-4c7d-a9e4-382ae4a9a14f', 'd38a8cb4-f415-4022-92c0-ab4d55ba8777', '00f9cc01-70da-429f-b908-b3a178bb5935', 'fd5bacdf-d1d0-4f94-8f19-0a21a53c5d2c', '863457bc-1659-485b-9a67-b3ce4c0359a6', '1ff99dda-c17e-4af6-ab6b-55ab6df271fb', 'c70b7cf0-e8b9-4adf-8676-248d3d50c795', 'e31e6893-42e8-48b0-b9c2-5870bf76d802', '33fe9ea4-676d-48f8-84fd-89b20b2d2c43', '9b82401b-dae5-4cc4-9e3e-b45c747e4374', 'bb6b66a6-36d6-456a-b5d9-9413864abbb6', 'd52d207c-fb70-4732-b309-38bd0f0a9454', '13239cfb-dca6-4aec-aeb2-f0145150db88', '8a016a2c-2c2b-4a9f-82e1-7c09cd077559', '5376092a-d98c-4252-9089-ab2f8811ed3c', '0943fa0d-641d-4f5a-8feb-0e3aca3d650e', 'd215ed46-51bb-432b-9c35-3a38b5749336', '7db373b2-bd97-455b-ab73-507612a742a3', '8476db6c-ec3b-432f-8ee1-69482c4b32f3', '3d567645-fa46-443f-b318-62bcbb27bae3', '3bb9d0cc-ba3f-4db5-829b-161cf0b5232d', '8b7815b0-7a66-42a4-932d-fbc0f178bd94', 'b929db08-6900-4bb7-83e5-39aa41ef6d82', 'b64a3c1b-3765-4475-bd62-b8b1f9910bdf', '6f3c26e6-a471-47af-a178-2d54fc242c3b', '93f14d43-01b6-47b4-abd8-fadc91ec752e', '11e28b82-1b1d-433c-97fe-5a19df7a5d99', 'c1702011-6399-49a8-99e2-933bcbad3e09', '3686d126-2812-4a90-a19a-5990c627895b', '3c688da7-b0a0-48f9-9705-dee53bbeb26f', 'a9b527f5-c8eb-4a96-a4bc-0b92e283304c', '7c534ee4-0c3d-4d42-a9c2-3e7bc65b1ee9', '3a9b4561-58cf-4b51-828d-6bc57d1072f2', 'e1335343-6799-4cf2-88aa-0bda404dbb9a', '0b5f6b5d-c932-4e4d-a1a9-b95aef9db01a', 'f0771040-39d0-4af9-8da8-b7cfd1c3cf51', '43489f05-cf40-4cfb-bba4-5f0df4f4ad4f', 'f46622ef-a5e8-41e3-823d-73cc598ec875', '1ff4b620-e301-4a4c-b67b-bb2a0e84a991', 'b17ef29c-2113-42bf-b9f3-b922e868441e', '8efef9a2-8ff1-4db2-940a-1f39a0737299', 'ec0a7ccf-23b7-4d52-b2a0-ce70fcc94426']\n",
      "dict_keys(['cb996517-a3dd-4fb6-bf42-5cc77032dff9', '945fe56c-136c-4855-9c02-0fe2fbe02582', '759d4fec-d834-413b-b318-454d0ae45f2d', 'f827b258-9537-482a-9dbd-7468a593c72e', '6e1e0b1a-1de7-4c7d-a9e4-382ae4a9a14f', 'd38a8cb4-f415-4022-92c0-ab4d55ba8777', '00f9cc01-70da-429f-b908-b3a178bb5935', 'fd5bacdf-d1d0-4f94-8f19-0a21a53c5d2c', '863457bc-1659-485b-9a67-b3ce4c0359a6', '1ff99dda-c17e-4af6-ab6b-55ab6df271fb', 'c70b7cf0-e8b9-4adf-8676-248d3d50c795', 'e31e6893-42e8-48b0-b9c2-5870bf76d802', '33fe9ea4-676d-48f8-84fd-89b20b2d2c43', '9b82401b-dae5-4cc4-9e3e-b45c747e4374', 'bb6b66a6-36d6-456a-b5d9-9413864abbb6', 'd52d207c-fb70-4732-b309-38bd0f0a9454', '13239cfb-dca6-4aec-aeb2-f0145150db88', '8a016a2c-2c2b-4a9f-82e1-7c09cd077559', '5376092a-d98c-4252-9089-ab2f8811ed3c', '0943fa0d-641d-4f5a-8feb-0e3aca3d650e', 'd215ed46-51bb-432b-9c35-3a38b5749336', '7db373b2-bd97-455b-ab73-507612a742a3', '8476db6c-ec3b-432f-8ee1-69482c4b32f3', '3d567645-fa46-443f-b318-62bcbb27bae3', '3bb9d0cc-ba3f-4db5-829b-161cf0b5232d', '8b7815b0-7a66-42a4-932d-fbc0f178bd94', 'b929db08-6900-4bb7-83e5-39aa41ef6d82', 'b64a3c1b-3765-4475-bd62-b8b1f9910bdf', '6f3c26e6-a471-47af-a178-2d54fc242c3b', '93f14d43-01b6-47b4-abd8-fadc91ec752e', '11e28b82-1b1d-433c-97fe-5a19df7a5d99', 'c1702011-6399-49a8-99e2-933bcbad3e09', '3686d126-2812-4a90-a19a-5990c627895b', '3c688da7-b0a0-48f9-9705-dee53bbeb26f', 'a9b527f5-c8eb-4a96-a4bc-0b92e283304c', '7c534ee4-0c3d-4d42-a9c2-3e7bc65b1ee9', '3a9b4561-58cf-4b51-828d-6bc57d1072f2', 'e1335343-6799-4cf2-88aa-0bda404dbb9a', '0b5f6b5d-c932-4e4d-a1a9-b95aef9db01a', 'f0771040-39d0-4af9-8da8-b7cfd1c3cf51', '43489f05-cf40-4cfb-bba4-5f0df4f4ad4f', 'f46622ef-a5e8-41e3-823d-73cc598ec875', '1ff4b620-e301-4a4c-b67b-bb2a0e84a991', 'b17ef29c-2113-42bf-b9f3-b922e868441e', '8efef9a2-8ff1-4db2-940a-1f39a0737299', 'ec0a7ccf-23b7-4d52-b2a0-ce70fcc94426'])\n",
      "point ids 46\n",
      "Removed: 46 Filled: 46\n",
      "TOOK 269.79271173477173 seconds\n",
      "==== DONE LOOP 1 ====\n"
     ]
    }
   ],
   "source": [
    "R.run(images=images, masks=masks, weights=weights, runs=2)     "
   ]
  },
  {
   "cell_type": "code",
   "execution_count": null,
   "id": "dab6fd49",
   "metadata": {},
   "outputs": [],
   "source": []
  },
  {
   "cell_type": "code",
   "execution_count": 11,
   "id": "00075332",
   "metadata": {},
   "outputs": [
    {
     "data": {
      "text/plain": [
       "[[0.6830846071243286, 0.16225478053092957],\n",
       " [1.4385521411895752, 9.425073585589416e-06]]"
      ]
     },
     "execution_count": 11,
     "metadata": {},
     "output_type": "execute_result"
    }
   ],
   "source": [
    "R.classifier_scores"
   ]
  },
  {
   "cell_type": "code",
   "execution_count": 12,
   "id": "35105656",
   "metadata": {},
   "outputs": [
    {
     "data": {
      "text/plain": [
       "[[0.0, 1.0], [0.0, 1.0]]"
      ]
     },
     "execution_count": 12,
     "metadata": {},
     "output_type": "execute_result"
    }
   ],
   "source": [
    "R.discriminator_scores"
   ]
  },
  {
   "cell_type": "code",
   "execution_count": 14,
   "id": "e256ed4d",
   "metadata": {},
   "outputs": [
    {
     "data": {
      "image/png": "[encoded data removed]",
      "text/plain": [
       "<Figure size 240x240 with 1 Axes>"
      ]
     },
     "metadata": {
      "needs_background": "light"
     },
     "output_type": "display_data"
    }
   ],
   "source": [
    "R.plot()"
   ]
  },
  {
   "cell_type": "code",
   "execution_count": null,
   "id": "6ca8e3b7",
   "metadata": {},
   "outputs": [],
   "source": []
  },
  {
   "cell_type": "code",
   "execution_count": null,
   "id": "5e6794ad",
   "metadata": {},
   "outputs": [],
   "source": []
  },
  {
   "cell_type": "code",
   "execution_count": 18,
   "id": "c83bb28d",
   "metadata": {},
   "outputs": [
    {
     "data": {
      "image/png": "[encoded data removed]",
      "text/plain": [
       "<Figure size 240x240 with 1 Axes>"
      ]
     },
     "metadata": {
      "needs_background": "light"
     },
     "output_type": "display_data"
    }
   ],
   "source": [
    "R.plot()"
   ]
  },
  {
   "cell_type": "code",
   "execution_count": null,
   "id": "7f3b4a58",
   "metadata": {},
   "outputs": [],
   "source": []
  },
  {
   "cell_type": "code",
   "execution_count": null,
   "id": "d21df741",
   "metadata": {},
   "outputs": [],
   "source": []
  },
  {
   "cell_type": "code",
   "execution_count": null,
   "id": "551de181",
   "metadata": {},
   "outputs": [],
   "source": []
  }
 ],
 "metadata": {
  "kernelspec": {
   "display_name": "Python 3 (ipykernel)",
   "language": "python",
   "name": "python3"
  },
  "language_info": {
   "codemirror_mode": {
    "name": "ipython",
    "version": 3
   },
   "file_extension": ".py",
   "mimetype": "text/x-python",
   "name": "python",
   "nbconvert_exporter": "python",
   "pygments_lexer": "ipython3",
   "version": "3.9.7"
  }
 },
 "nbformat": 4,
 "nbformat_minor": 5
}
