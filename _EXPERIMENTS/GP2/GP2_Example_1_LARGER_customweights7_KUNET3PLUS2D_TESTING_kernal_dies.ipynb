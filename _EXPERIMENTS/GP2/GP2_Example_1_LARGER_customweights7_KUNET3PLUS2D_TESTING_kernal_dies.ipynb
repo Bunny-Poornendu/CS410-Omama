{
 "cells": [
  {
   "cell_type": "code",
   "execution_count": 1,
   "id": "06c4accc",
   "metadata": {},
   "outputs": [
    {
     "name": "stdout",
     "output_type": "stream",
     "text": [
      "Populating the interactive namespace from numpy and matplotlib\n"
     ]
    }
   ],
   "source": [
    "%pylab inline\n",
    "%load_ext autoreload\n",
    "%autoreload 2"
   ]
  },
  {
   "cell_type": "code",
   "execution_count": 2,
   "id": "b9e78ed8",
   "metadata": {},
   "outputs": [
    {
     "name": "stderr",
     "output_type": "stream",
     "text": [
      "2023-04-23 14:54:22.400672: I tensorflow/stream_executor/platform/default/dso_loader.cc:53] Successfully opened dynamic library libcudart.so.11.0\n",
      "2023-04-23 14:54:24.185358: I tensorflow/stream_executor/platform/default/dso_loader.cc:53] Successfully opened dynamic library libcuda.so.1\n",
      "2023-04-23 14:54:24.388630: I tensorflow/core/common_runtime/gpu/gpu_device.cc:1733] Found device 0 with properties: \n",
      "pciBusID: 0000:47:00.0 name: A100-SXM4-40GB computeCapability: 8.0\n",
      "coreClock: 1.41GHz coreCount: 108 deviceMemorySize: 39.59GiB deviceMemoryBandwidth: 1.41TiB/s\n",
      "2023-04-23 14:54:24.391214: I tensorflow/core/common_runtime/gpu/gpu_device.cc:1733] Found device 1 with properties: \n",
      "pciBusID: 0000:4e:00.0 name: A100-SXM4-40GB computeCapability: 8.0\n",
      "coreClock: 1.41GHz coreCount: 108 deviceMemorySize: 39.59GiB deviceMemoryBandwidth: 1.41TiB/s\n",
      "2023-04-23 14:54:24.391238: I tensorflow/stream_executor/platform/default/dso_loader.cc:53] Successfully opened dynamic library libcudart.so.11.0\n",
      "2023-04-23 14:54:24.395128: I tensorflow/stream_executor/platform/default/dso_loader.cc:53] Successfully opened dynamic library libcublas.so.11\n",
      "2023-04-23 14:54:24.395173: I tensorflow/stream_executor/platform/default/dso_loader.cc:53] Successfully opened dynamic library libcublasLt.so.11\n",
      "2023-04-23 14:54:24.396177: I tensorflow/stream_executor/platform/default/dso_loader.cc:53] Successfully opened dynamic library libcufft.so.10\n",
      "2023-04-23 14:54:24.396549: I tensorflow/stream_executor/platform/default/dso_loader.cc:53] Successfully opened dynamic library libcurand.so.10\n",
      "2023-04-23 14:54:24.397158: I tensorflow/stream_executor/platform/default/dso_loader.cc:53] Successfully opened dynamic library libcusolver.so.11\n",
      "2023-04-23 14:54:24.398004: I tensorflow/stream_executor/platform/default/dso_loader.cc:53] Successfully opened dynamic library libcusparse.so.11\n",
      "2023-04-23 14:54:24.398277: I tensorflow/stream_executor/platform/default/dso_loader.cc:53] Successfully opened dynamic library libcudnn.so.8\n",
      "2023-04-23 14:54:24.408912: I tensorflow/core/common_runtime/gpu/gpu_device.cc:1871] Adding visible gpu devices: 0, 1\n"
     ]
    }
   ],
   "source": [
    "import time\n",
    "import sys\n",
    "sys.path.insert(0,'../..')\n",
    "from keras import losses, metrics\n",
    "from tensorflow.keras import optimizers\n",
    "import gp2\n",
    "from gp2 import Runner"
   ]
  },
  {
   "cell_type": "code",
   "execution_count": 3,
   "id": "45619813",
   "metadata": {},
   "outputs": [
    {
     "name": "stdout",
     "output_type": "stream",
     "text": [
      "Help on class KUNet3Plus2D in module gp2.gp2.classifiers.k_unet3_plus2d:\n",
      "\n",
      "class KUNet3Plus2D(gp2.gp2.classifiers.base_keras_segmentation_classifier.BaseKerasSegmentationClassifier)\n",
      " |  KUNet3Plus2D(input_size=(512, 512, 1), n_labels=1, filter_num_down=None, filter_num_skip=None, filter_num_aggregate=None, stack_num_down=1, stack_num_up=3, activation='ReLU', output_activation='Sigmoid', batch_norm=False, pool=True, unpool=True, deep_supervision=False, name='unet3plus', optimizer=None, loss=None, metric=None, verbose=False, workingdir='/tmp')\n",
      " |  \n",
      " |  Keras implementation of UNET 3+ with an optional ImageNet-trained backbone.\n",
      " |  \n",
      " |  Method resolution order:\n",
      " |      KUNet3Plus2D\n",
      " |      gp2.gp2.classifiers.base_keras_segmentation_classifier.BaseKerasSegmentationClassifier\n",
      " |      gp2.gp2.classifiers.classifier.Classifier\n",
      " |      builtins.object\n",
      " |  \n",
      " |  Methods defined here:\n",
      " |  \n",
      " |  __init__(self, input_size=(512, 512, 1), n_labels=1, filter_num_down=None, filter_num_skip=None, filter_num_aggregate=None, stack_num_down=1, stack_num_up=3, activation='ReLU', output_activation='Sigmoid', batch_norm=False, pool=True, unpool=True, deep_supervision=False, name='unet3plus', optimizer=None, loss=None, metric=None, verbose=False, workingdir='/tmp')\n",
      " |      UNET 3+ with an optional ImageNet-trained backbone.\n",
      " |      \n",
      " |      unet_3plus_2d(input_size, n_labels, filter_num_down, filter_num_skip='auto', filter_num_aggregate='auto',\n",
      " |                    stack_num_down=2, stack_num_up=1, activation='ReLU', output_activation='Sigmoid',\n",
      " |                    batch_norm=False, pool=True, unpool=True, deep_supervision=False,\n",
      " |                    backbone=None, weights='imagenet', freeze_backbone=True, freeze_batch_norm=True, name='unet3plus')\n",
      " |      \n",
      " |      ----------\n",
      " |      Huang, H., Lin, L., Tong, R., Hu, H., Zhang, Q., Iwamoto, Y., Han, X., Chen, Y.W. and Wu, J., 2020.\n",
      " |      UNet 3+: A Full-Scale Connected UNet for Medical Image Segmentation.\n",
      " |      In ICASSP 2020-2020 IEEE International Conference on Acoustics,\n",
      " |      Speech and Signal Processing (ICASSP) (pp. 1055-1059). IEEE.\n",
      " |      \n",
      " |      Input\n",
      " |      ----------\n",
      " |          input_size: the size/shape of network input, e.g., `(128, 128, 3)`.\n",
      " |          filter_num_down: a list that defines the number of filters for each\n",
      " |                           downsampling level. e.g., `[64, 128, 256, 512, 1024]`.\n",
      " |                           the network depth is expected as `len(filter_num_down)`\n",
      " |          filter_num_skip: a list that defines the number of filters after each\n",
      " |                           full-scale skip connection. Number of elements is expected to be `depth-1`.\n",
      " |                           i.e., the bottom level is not included.\n",
      " |                           * Huang et al. (2020) applied the same numbers for all levels.\n",
      " |                             e.g., `[64, 64, 64, 64]`.\n",
      " |          filter_num_aggregate: an int that defines the number of channels of full-scale aggregations.\n",
      " |          stack_num_down: number of convolutional layers per downsampling level/block.\n",
      " |          stack_num_up: number of convolutional layers (after full-scale concat) per upsampling level/block.\n",
      " |          activation: one of the `tensorflow.keras.layers` or `keras_unet_collection.activations` interfaces, e.g., 'ReLU'\n",
      " |          output_activation: one of the `tensorflow.keras.layers` or `keras_unet_collection.activations` interface or 'Sigmoid'.\n",
      " |                             Default option is 'Softmax'.\n",
      " |                             if None is received, then linear activation is applied.\n",
      " |          batch_norm: True for batch normalization.\n",
      " |          pool: True or 'max' for MaxPooling2D.\n",
      " |                'ave' for AveragePooling2D.\n",
      " |                False for strided conv + batch norm + activation.\n",
      " |          unpool: True or 'bilinear' for Upsampling2D with bilinear interpolation.\n",
      " |                  'nearest' for Upsampling2D with nearest interpolation.\n",
      " |                  False for Conv2DTranspose + batch norm + activation.\n",
      " |          deep_supervision: True for a model that supports deep supervision. Details see Huang et al. (2020).\n",
      " |          name: prefix of the created keras model and its layers.\n",
      " |      \n",
      " |          ---------- (keywords of backbone options) ----------\n",
      " |          backbone_name: the bakcbone model name. Should be one of the `tensorflow.keras.applications` class.\n",
      " |                         None (default) means no backbone.\n",
      " |                         Currently supported backbones are:\n",
      " |                         (1) VGG16, VGG19\n",
      " |                         (2) ResNet50, ResNet101, ResNet152\n",
      " |                         (3) ResNet50V2, ResNet101V2, ResNet152V2\n",
      " |                         (4) DenseNet121, DenseNet169, DenseNet201\n",
      " |                         (5) EfficientNetB[0-7]\n",
      " |          weights: one of None (random initialization), 'imagenet' (pre-training on ImageNet),\n",
      " |                   or the path to the weights file to be loaded.\n",
      " |          freeze_backbone: True for a frozen backbone.\n",
      " |          freeze_batch_norm: False for not freezing batch normalization layers.\n",
      " |      \n",
      " |      * The Classification-guided Module (CGM) is not implemented.\n",
      " |        See https://github.com/yingkaisha/keras-unet-collection/tree/main/examples for a relevant example.\n",
      " |      * Automated mode is applied for determining `filter_num_skip`, `filter_num_aggregate`.\n",
      " |      * The default output activation is sigmoid, consistent with Huang et al. (2020).\n",
      " |      * Downsampling is achieved through maxpooling and can be replaced by strided convolutional layers here.\n",
      " |      * Upsampling is achieved through bilinear interpolation and can be replaced by transpose convolutional layers here.\n",
      " |      \n",
      " |      Output\n",
      " |      ----------\n",
      " |          model: a keras model.\n",
      " |  \n",
      " |  ----------------------------------------------------------------------\n",
      " |  Methods inherited from gp2.gp2.classifiers.base_keras_segmentation_classifier.BaseKerasSegmentationClassifier:\n",
      " |  \n",
      " |  __str__(self)\n",
      " |      Return str(self).\n",
      " |  \n",
      " |  build(self)\n",
      " |  \n",
      " |  predict(self, X_test, y_pred, threshold=0.5)\n",
      " |  \n",
      " |  train(self, X_train, y_train, X_val, y_val, patience_counter=2, batch_size=64, epochs=100, call_backs=None)\n",
      " |  \n",
      " |  ----------------------------------------------------------------------\n",
      " |  Data descriptors inherited from gp2.gp2.classifiers.classifier.Classifier:\n",
      " |  \n",
      " |  __dict__\n",
      " |      dictionary for instance variables (if defined)\n",
      " |  \n",
      " |  __weakref__\n",
      " |      list of weak references to the object (if defined)\n",
      "\n"
     ]
    }
   ],
   "source": [
    "help(gp2.KUNet3Plus2D)"
   ]
  },
  {
   "cell_type": "code",
   "execution_count": 4,
   "id": "bdc75325",
   "metadata": {},
   "outputs": [
    {
     "name": "stdout",
     "output_type": "stream",
     "text": [
      "KUNet3Plus2D: <tensorflow.python.keras.optimizer_v2.adam.Adam object at 0x7fd944cf72e0>, <function binary_crossentropy at 0x7fd94cf88b80>, [<function Util.dice_coef at 0x7fd94cd0c940>]\n"
     ]
    },
    {
     "name": "stderr",
     "output_type": "stream",
     "text": [
      "2023-04-23 14:54:24.521359: I tensorflow/core/platform/cpu_feature_guard.cc:142] This TensorFlow binary is optimized with oneAPI Deep Neural Network Library (oneDNN) to use the following CPU instructions in performance-critical operations:  AVX2 FMA\n",
      "To enable them in other operations, rebuild TensorFlow with the appropriate compiler flags.\n",
      "2023-04-23 14:54:24.801353: I tensorflow/core/common_runtime/gpu/gpu_device.cc:1733] Found device 0 with properties: \n",
      "pciBusID: 0000:47:00.0 name: A100-SXM4-40GB computeCapability: 8.0\n",
      "coreClock: 1.41GHz coreCount: 108 deviceMemorySize: 39.59GiB deviceMemoryBandwidth: 1.41TiB/s\n",
      "2023-04-23 14:54:24.803769: I tensorflow/core/common_runtime/gpu/gpu_device.cc:1733] Found device 1 with properties: \n",
      "pciBusID: 0000:4e:00.0 name: A100-SXM4-40GB computeCapability: 8.0\n",
      "coreClock: 1.41GHz coreCount: 108 deviceMemorySize: 39.59GiB deviceMemoryBandwidth: 1.41TiB/s\n",
      "2023-04-23 14:54:24.813403: I tensorflow/core/common_runtime/gpu/gpu_device.cc:1871] Adding visible gpu devices: 0, 1\n",
      "2023-04-23 14:54:24.813461: I tensorflow/stream_executor/platform/default/dso_loader.cc:53] Successfully opened dynamic library libcudart.so.11.0\n",
      "2023-04-23 14:54:25.610469: I tensorflow/core/common_runtime/gpu/gpu_device.cc:1258] Device interconnect StreamExecutor with strength 1 edge matrix:\n",
      "2023-04-23 14:54:25.610515: I tensorflow/core/common_runtime/gpu/gpu_device.cc:1264]      0 1 \n",
      "2023-04-23 14:54:25.610521: I tensorflow/core/common_runtime/gpu/gpu_device.cc:1277] 0:   N Y \n",
      "2023-04-23 14:54:25.610525: I tensorflow/core/common_runtime/gpu/gpu_device.cc:1277] 1:   Y N \n",
      "2023-04-23 14:54:25.622987: I tensorflow/core/common_runtime/gpu/gpu_device.cc:1418] Created TensorFlow device (/job:localhost/replica:0/task:0/device:GPU:0 with 38425 MB memory) -> physical GPU (device: 0, name: A100-SXM4-40GB, pci bus id: 0000:47:00.0, compute capability: 8.0)\n",
      "2023-04-23 14:54:25.625686: I tensorflow/core/common_runtime/gpu/gpu_device.cc:1418] Created TensorFlow device (/job:localhost/replica:0/task:0/device:GPU:1 with 38425 MB memory) -> physical GPU (device: 1, name: A100-SXM4-40GB, pci bus id: 0000:4e:00.0, compute capability: 8.0)\n"
     ]
    },
    {
     "name": "stdout",
     "output_type": "stream",
     "text": [
      "*** GP2  KUNet3Plus2D ***\n",
      "Working directory: /tmp/tmpmrq3v2blGP2\n",
      "Verbose mode active!\n",
      "{'verbose': True, 'workingdir': '/tmp/tmpmrq3v2blGP2', 'input_size': (512, 512, 1), 'n_labels': 1, 'filter_num_down': [16, 32, 64, 128, 256], 'filter_num_skip': [16, 16, 16, 16], 'filter_num_aggregate': 32, 'stack_num_down': 2, 'stack_num_up': 1, 'activation': 'ReLU', 'output_activation': 'Sigmoid', 'batch_norm': False, 'pool': False, 'unpool': False, 'deep_supervision': False, 'name': 'unet3plus', 'optimizer': <tensorflow.python.keras.optimizer_v2.adam.Adam object at 0x7fd944cf72e0>, 'loss': <function binary_crossentropy at 0x7fd94cf88b80>, 'metric': [<function Util.dice_coef at 0x7fd94cd0c940>], 'model': <tensorflow.python.keras.engine.functional.Functional object at 0x7fd941702820>}\n",
      "Model summary:\n",
      "Model: \"model\"\n",
      "__________________________________________________________________________________________________\n",
      "Layer (type)                    Output Shape         Param #     Connected to                     \n",
      "==================================================================================================\n",
      "input_1 (InputLayer)            [(None, 512, 512, 1) 0                                            \n",
      "__________________________________________________________________________________________________\n",
      "unet3plus_down0_0 (Conv2D)      (None, 512, 512, 16) 160         input_1[0][0]                    \n",
      "__________________________________________________________________________________________________\n",
      "unet3plus_down0_0_activation (R (None, 512, 512, 16) 0           unet3plus_down0_0[0][0]          \n",
      "__________________________________________________________________________________________________\n",
      "unet3plus_down0_1 (Conv2D)      (None, 512, 512, 16) 2320        unet3plus_down0_0_activation[0][0\n",
      "__________________________________________________________________________________________________\n",
      "unet3plus_down0_1_activation (R (None, 512, 512, 16) 0           unet3plus_down0_1[0][0]          \n",
      "__________________________________________________________________________________________________\n",
      "unet3plus_down1_encode_stride_c (None, 256, 256, 32) 2080        unet3plus_down0_1_activation[0][0\n",
      "__________________________________________________________________________________________________\n",
      "unet3plus_down1_encode_activati (None, 256, 256, 32) 0           unet3plus_down1_encode_stride_con\n",
      "__________________________________________________________________________________________________\n",
      "unet3plus_down1_conv_0 (Conv2D) (None, 256, 256, 32) 9248        unet3plus_down1_encode_activation\n",
      "__________________________________________________________________________________________________\n",
      "unet3plus_down1_conv_0_activati (None, 256, 256, 32) 0           unet3plus_down1_conv_0[0][0]     \n",
      "__________________________________________________________________________________________________\n",
      "unet3plus_down1_conv_1 (Conv2D) (None, 256, 256, 32) 9248        unet3plus_down1_conv_0_activation\n",
      "__________________________________________________________________________________________________\n",
      "unet3plus_down1_conv_1_activati (None, 256, 256, 32) 0           unet3plus_down1_conv_1[0][0]     \n",
      "__________________________________________________________________________________________________\n",
      "unet3plus_down2_encode_stride_c (None, 128, 128, 64) 8256        unet3plus_down1_conv_1_activation\n",
      "__________________________________________________________________________________________________\n",
      "unet3plus_down2_encode_activati (None, 128, 128, 64) 0           unet3plus_down2_encode_stride_con\n",
      "__________________________________________________________________________________________________\n",
      "unet3plus_down2_conv_0 (Conv2D) (None, 128, 128, 64) 36928       unet3plus_down2_encode_activation\n",
      "__________________________________________________________________________________________________\n",
      "unet3plus_down2_conv_0_activati (None, 128, 128, 64) 0           unet3plus_down2_conv_0[0][0]     \n",
      "__________________________________________________________________________________________________\n",
      "unet3plus_down2_conv_1 (Conv2D) (None, 128, 128, 64) 36928       unet3plus_down2_conv_0_activation\n",
      "__________________________________________________________________________________________________\n",
      "unet3plus_down2_conv_1_activati (None, 128, 128, 64) 0           unet3plus_down2_conv_1[0][0]     \n",
      "__________________________________________________________________________________________________\n",
      "unet3plus_down3_encode_stride_c (None, 64, 64, 128)  32896       unet3plus_down2_conv_1_activation\n",
      "__________________________________________________________________________________________________\n",
      "unet3plus_down3_encode_activati (None, 64, 64, 128)  0           unet3plus_down3_encode_stride_con\n",
      "__________________________________________________________________________________________________\n",
      "unet3plus_down3_conv_0 (Conv2D) (None, 64, 64, 128)  147584      unet3plus_down3_encode_activation\n",
      "__________________________________________________________________________________________________\n",
      "unet3plus_down3_conv_0_activati (None, 64, 64, 128)  0           unet3plus_down3_conv_0[0][0]     \n",
      "__________________________________________________________________________________________________\n",
      "unet3plus_down3_conv_1 (Conv2D) (None, 64, 64, 128)  147584      unet3plus_down3_conv_0_activation\n",
      "__________________________________________________________________________________________________\n",
      "unet3plus_down3_conv_1_activati (None, 64, 64, 128)  0           unet3plus_down3_conv_1[0][0]     \n",
      "__________________________________________________________________________________________________\n",
      "unet3plus_down4_encode_stride_c (None, 32, 32, 256)  131328      unet3plus_down3_conv_1_activation\n",
      "__________________________________________________________________________________________________\n",
      "unet3plus_down4_encode_activati (None, 32, 32, 256)  0           unet3plus_down4_encode_stride_con\n",
      "__________________________________________________________________________________________________\n",
      "unet3plus_down4_conv_0 (Conv2D) (None, 32, 32, 256)  590080      unet3plus_down4_encode_activation\n",
      "__________________________________________________________________________________________________\n",
      "unet3plus_down4_conv_0_activati (None, 32, 32, 256)  0           unet3plus_down4_conv_0[0][0]     \n",
      "__________________________________________________________________________________________________\n",
      "unet3plus_down4_conv_1 (Conv2D) (None, 32, 32, 256)  590080      unet3plus_down4_conv_0_activation\n",
      "__________________________________________________________________________________________________\n",
      "unet3plus_down4_conv_1_activati (None, 32, 32, 256)  0           unet3plus_down4_conv_1[0][0]     \n",
      "__________________________________________________________________________________________________\n",
      "unet3plus_up_0_en0_trans_conv ( (None, 64, 64, 16)   36880       unet3plus_down4_conv_1_activation\n",
      "__________________________________________________________________________________________________\n",
      "unet3plus_down_0_en2_stride_con (None, 64, 64, 16)   4112        unet3plus_down2_conv_1_activation\n",
      "__________________________________________________________________________________________________\n",
      "unet3plus_down_0_en3_stride_con (None, 64, 64, 16)   8208        unet3plus_down1_conv_1_activation\n",
      "__________________________________________________________________________________________________\n",
      "unet3plus_up_0_en0_activation ( (None, 64, 64, 16)   0           unet3plus_up_0_en0_trans_conv[0][\n",
      "__________________________________________________________________________________________________\n",
      "unet3plus_down_0_en2_activation (None, 64, 64, 16)   0           unet3plus_down_0_en2_stride_conv[\n",
      "__________________________________________________________________________________________________\n",
      "unet3plus_down_0_en3_activation (None, 64, 64, 16)   0           unet3plus_down_0_en3_stride_conv[\n",
      "__________________________________________________________________________________________________\n",
      "unet3plus_down_from0_to0_0 (Con (None, 64, 64, 16)   2320        unet3plus_up_0_en0_activation[0][\n",
      "__________________________________________________________________________________________________\n",
      "unet3plus_down_from0_to1_0 (Con (None, 64, 64, 16)   18448       unet3plus_down3_conv_1_activation\n",
      "__________________________________________________________________________________________________\n",
      "unet3plus_down_from0_to2_0 (Con (None, 64, 64, 16)   2320        unet3plus_down_0_en2_activation[0\n",
      "__________________________________________________________________________________________________\n",
      "unet3plus_down_from0_to3_0 (Con (None, 64, 64, 16)   2320        unet3plus_down_0_en3_activation[0\n",
      "__________________________________________________________________________________________________\n",
      "unet3plus_down_from0_to0_0_acti (None, 64, 64, 16)   0           unet3plus_down_from0_to0_0[0][0] \n",
      "__________________________________________________________________________________________________\n",
      "unet3plus_down_from0_to1_0_acti (None, 64, 64, 16)   0           unet3plus_down_from0_to1_0[0][0] \n",
      "__________________________________________________________________________________________________\n",
      "unet3plus_down_from0_to2_0_acti (None, 64, 64, 16)   0           unet3plus_down_from0_to2_0[0][0] \n",
      "__________________________________________________________________________________________________\n",
      "unet3plus_down_from0_to3_0_acti (None, 64, 64, 16)   0           unet3plus_down_from0_to3_0[0][0] \n",
      "__________________________________________________________________________________________________\n",
      "unet3plus_concat_0 (Concatenate (None, 64, 64, 64)   0           unet3plus_down_from0_to0_0_activa\n",
      "                                                                 unet3plus_down_from0_to1_0_activa\n",
      "                                                                 unet3plus_down_from0_to2_0_activa\n",
      "                                                                 unet3plus_down_from0_to3_0_activa\n",
      "__________________________________________________________________________________________________\n",
      "unet3plus_fusion_conv_0_0 (Conv (None, 64, 64, 32)   18432       unet3plus_concat_0[0][0]         \n",
      "__________________________________________________________________________________________________\n",
      "unet3plus_fusion_conv_0_0_bn (B (None, 64, 64, 32)   128         unet3plus_fusion_conv_0_0[0][0]  \n",
      "__________________________________________________________________________________________________\n",
      "unet3plus_fusion_conv_0_0_activ (None, 64, 64, 32)   0           unet3plus_fusion_conv_0_0_bn[0][0\n",
      "__________________________________________________________________________________________________\n",
      "unet3plus_up_1_en0_trans_conv ( (None, 128, 128, 16) 36880       unet3plus_down4_conv_1_activation\n",
      "__________________________________________________________________________________________________\n",
      "unet3plus_up_1_en1_trans_conv ( (None, 128, 128, 16) 4624        unet3plus_fusion_conv_0_0_activat\n",
      "__________________________________________________________________________________________________\n",
      "unet3plus_down_1_en3_stride_con (None, 128, 128, 16) 2064        unet3plus_down1_conv_1_activation\n",
      "__________________________________________________________________________________________________\n",
      "unet3plus_up_1_en0_activation ( (None, 128, 128, 16) 0           unet3plus_up_1_en0_trans_conv[0][\n",
      "__________________________________________________________________________________________________\n",
      "unet3plus_up_1_en1_activation ( (None, 128, 128, 16) 0           unet3plus_up_1_en1_trans_conv[0][\n",
      "__________________________________________________________________________________________________\n",
      "unet3plus_down_1_en3_activation (None, 128, 128, 16) 0           unet3plus_down_1_en3_stride_conv[\n",
      "__________________________________________________________________________________________________\n",
      "unet3plus_down_from1_to0_0 (Con (None, 128, 128, 16) 2320        unet3plus_up_1_en0_activation[0][\n",
      "__________________________________________________________________________________________________\n",
      "unet3plus_down_from1_to1_0 (Con (None, 128, 128, 16) 2320        unet3plus_up_1_en1_activation[0][\n",
      "__________________________________________________________________________________________________\n",
      "unet3plus_down_from1_to2_0 (Con (None, 128, 128, 16) 9232        unet3plus_down2_conv_1_activation\n",
      "__________________________________________________________________________________________________\n",
      "unet3plus_down_from1_to3_0 (Con (None, 128, 128, 16) 2320        unet3plus_down_1_en3_activation[0\n",
      "__________________________________________________________________________________________________\n",
      "unet3plus_down_from1_to0_0_acti (None, 128, 128, 16) 0           unet3plus_down_from1_to0_0[0][0] \n",
      "__________________________________________________________________________________________________\n",
      "unet3plus_down_from1_to1_0_acti (None, 128, 128, 16) 0           unet3plus_down_from1_to1_0[0][0] \n",
      "__________________________________________________________________________________________________\n",
      "unet3plus_down_from1_to2_0_acti (None, 128, 128, 16) 0           unet3plus_down_from1_to2_0[0][0] \n",
      "__________________________________________________________________________________________________\n",
      "unet3plus_down_from1_to3_0_acti (None, 128, 128, 16) 0           unet3plus_down_from1_to3_0[0][0] \n",
      "__________________________________________________________________________________________________\n",
      "unet3plus_concat_1 (Concatenate (None, 128, 128, 64) 0           unet3plus_down_from1_to0_0_activa\n",
      "                                                                 unet3plus_down_from1_to1_0_activa\n",
      "                                                                 unet3plus_down_from1_to2_0_activa\n",
      "                                                                 unet3plus_down_from1_to3_0_activa\n",
      "__________________________________________________________________________________________________\n",
      "unet3plus_fusion_conv_1_0 (Conv (None, 128, 128, 32) 18432       unet3plus_concat_1[0][0]         \n",
      "__________________________________________________________________________________________________\n",
      "unet3plus_fusion_conv_1_0_bn (B (None, 128, 128, 32) 128         unet3plus_fusion_conv_1_0[0][0]  \n",
      "__________________________________________________________________________________________________\n",
      "unet3plus_fusion_conv_1_0_activ (None, 128, 128, 32) 0           unet3plus_fusion_conv_1_0_bn[0][0\n",
      "__________________________________________________________________________________________________\n",
      "unet3plus_up_2_en0_trans_conv ( (None, 256, 256, 16) 36880       unet3plus_down4_conv_1_activation\n",
      "__________________________________________________________________________________________________\n",
      "unet3plus_up_2_en1_trans_conv ( (None, 256, 256, 16) 4624        unet3plus_fusion_conv_0_0_activat\n",
      "__________________________________________________________________________________________________\n",
      "unet3plus_up_2_en2_trans_conv ( (None, 256, 256, 16) 4624        unet3plus_fusion_conv_1_0_activat\n",
      "__________________________________________________________________________________________________\n",
      "unet3plus_up_2_en0_activation ( (None, 256, 256, 16) 0           unet3plus_up_2_en0_trans_conv[0][\n",
      "__________________________________________________________________________________________________\n",
      "unet3plus_up_2_en1_activation ( (None, 256, 256, 16) 0           unet3plus_up_2_en1_trans_conv[0][\n",
      "__________________________________________________________________________________________________\n",
      "unet3plus_up_2_en2_activation ( (None, 256, 256, 16) 0           unet3plus_up_2_en2_trans_conv[0][\n",
      "__________________________________________________________________________________________________\n",
      "unet3plus_down_from2_to0_0 (Con (None, 256, 256, 16) 2320        unet3plus_up_2_en0_activation[0][\n",
      "__________________________________________________________________________________________________\n",
      "unet3plus_down_from2_to1_0 (Con (None, 256, 256, 16) 2320        unet3plus_up_2_en1_activation[0][\n",
      "__________________________________________________________________________________________________\n",
      "unet3plus_down_from2_to2_0 (Con (None, 256, 256, 16) 2320        unet3plus_up_2_en2_activation[0][\n",
      "__________________________________________________________________________________________________\n",
      "unet3plus_down_from2_to3_0 (Con (None, 256, 256, 16) 4624        unet3plus_down1_conv_1_activation\n",
      "__________________________________________________________________________________________________\n",
      "unet3plus_down_from2_to0_0_acti (None, 256, 256, 16) 0           unet3plus_down_from2_to0_0[0][0] \n",
      "__________________________________________________________________________________________________\n",
      "unet3plus_down_from2_to1_0_acti (None, 256, 256, 16) 0           unet3plus_down_from2_to1_0[0][0] \n",
      "__________________________________________________________________________________________________\n",
      "unet3plus_down_from2_to2_0_acti (None, 256, 256, 16) 0           unet3plus_down_from2_to2_0[0][0] \n",
      "__________________________________________________________________________________________________\n",
      "unet3plus_down_from2_to3_0_acti (None, 256, 256, 16) 0           unet3plus_down_from2_to3_0[0][0] \n",
      "__________________________________________________________________________________________________\n",
      "unet3plus_concat_2 (Concatenate (None, 256, 256, 64) 0           unet3plus_down_from2_to0_0_activa\n",
      "                                                                 unet3plus_down_from2_to1_0_activa\n",
      "                                                                 unet3plus_down_from2_to2_0_activa\n",
      "                                                                 unet3plus_down_from2_to3_0_activa\n",
      "__________________________________________________________________________________________________\n",
      "unet3plus_fusion_conv_2_0 (Conv (None, 256, 256, 32) 18432       unet3plus_concat_2[0][0]         \n",
      "__________________________________________________________________________________________________\n",
      "unet3plus_fusion_conv_2_0_bn (B (None, 256, 256, 32) 128         unet3plus_fusion_conv_2_0[0][0]  \n",
      "__________________________________________________________________________________________________\n",
      "unet3plus_fusion_conv_2_0_activ (None, 256, 256, 32) 0           unet3plus_fusion_conv_2_0_bn[0][0\n",
      "__________________________________________________________________________________________________\n",
      "unet3plus_up_3_en0_trans_conv ( (None, 512, 512, 16) 36880       unet3plus_down4_conv_1_activation\n",
      "__________________________________________________________________________________________________\n",
      "unet3plus_up_3_en1_trans_conv ( (None, 512, 512, 16) 4624        unet3plus_fusion_conv_0_0_activat\n",
      "__________________________________________________________________________________________________\n",
      "unet3plus_up_3_en2_trans_conv ( (None, 512, 512, 16) 4624        unet3plus_fusion_conv_1_0_activat\n",
      "__________________________________________________________________________________________________\n",
      "unet3plus_up_3_en3_trans_conv ( (None, 512, 512, 16) 4624        unet3plus_fusion_conv_2_0_activat\n",
      "__________________________________________________________________________________________________\n",
      "unet3plus_up_3_en0_activation ( (None, 512, 512, 16) 0           unet3plus_up_3_en0_trans_conv[0][\n",
      "__________________________________________________________________________________________________\n",
      "unet3plus_up_3_en1_activation ( (None, 512, 512, 16) 0           unet3plus_up_3_en1_trans_conv[0][\n",
      "__________________________________________________________________________________________________\n",
      "unet3plus_up_3_en2_activation ( (None, 512, 512, 16) 0           unet3plus_up_3_en2_trans_conv[0][\n",
      "__________________________________________________________________________________________________\n",
      "unet3plus_up_3_en3_activation ( (None, 512, 512, 16) 0           unet3plus_up_3_en3_trans_conv[0][\n",
      "__________________________________________________________________________________________________\n",
      "unet3plus_down_from3_to0_0 (Con (None, 512, 512, 16) 2320        unet3plus_up_3_en0_activation[0][\n",
      "__________________________________________________________________________________________________\n",
      "unet3plus_down_from3_to1_0 (Con (None, 512, 512, 16) 2320        unet3plus_up_3_en1_activation[0][\n",
      "__________________________________________________________________________________________________\n",
      "unet3plus_down_from3_to2_0 (Con (None, 512, 512, 16) 2320        unet3plus_up_3_en2_activation[0][\n",
      "__________________________________________________________________________________________________\n",
      "unet3plus_down_from3_to3_0 (Con (None, 512, 512, 16) 2320        unet3plus_up_3_en3_activation[0][\n",
      "__________________________________________________________________________________________________\n",
      "unet3plus_down_from3_to0_0_acti (None, 512, 512, 16) 0           unet3plus_down_from3_to0_0[0][0] \n",
      "__________________________________________________________________________________________________\n",
      "unet3plus_down_from3_to1_0_acti (None, 512, 512, 16) 0           unet3plus_down_from3_to1_0[0][0] \n",
      "__________________________________________________________________________________________________\n",
      "unet3plus_down_from3_to2_0_acti (None, 512, 512, 16) 0           unet3plus_down_from3_to2_0[0][0] \n",
      "__________________________________________________________________________________________________\n",
      "unet3plus_down_from3_to3_0_acti (None, 512, 512, 16) 0           unet3plus_down_from3_to3_0[0][0] \n",
      "__________________________________________________________________________________________________\n",
      "unet3plus_concat_3 (Concatenate (None, 512, 512, 64) 0           unet3plus_down_from3_to0_0_activa\n",
      "                                                                 unet3plus_down_from3_to1_0_activa\n",
      "                                                                 unet3plus_down_from3_to2_0_activa\n",
      "                                                                 unet3plus_down_from3_to3_0_activa\n",
      "__________________________________________________________________________________________________\n",
      "unet3plus_fusion_conv_3_0 (Conv (None, 512, 512, 32) 18432       unet3plus_concat_3[0][0]         \n",
      "__________________________________________________________________________________________________\n",
      "unet3plus_fusion_conv_3_0_bn (B (None, 512, 512, 32) 128         unet3plus_fusion_conv_3_0[0][0]  \n",
      "__________________________________________________________________________________________________\n",
      "unet3plus_fusion_conv_3_0_activ (None, 512, 512, 32) 0           unet3plus_fusion_conv_3_0_bn[0][0\n",
      "__________________________________________________________________________________________________\n",
      "unet3plus_output_final (Conv2D) (None, 512, 512, 1)  289         unet3plus_fusion_conv_3_0_activat\n",
      "__________________________________________________________________________________________________\n",
      "unet3plus_output_final_activati (None, 512, 512, 1)  0           unet3plus_output_final[0][0]     \n",
      "==================================================================================================\n",
      "Total params: 2,071,361\n",
      "Trainable params: 2,071,105\n",
      "Non-trainable params: 256\n",
      "__________________________________________________________________________________________________\n",
      "None\n",
      "Using  discriminator (CNN+)\n"
     ]
    }
   ],
   "source": [
    "R = Runner(verbose=True, \n",
    "           classifier='kunet3plus2d',\n",
    "           discriminator='cnnplus',\n",
    "           filter_num_down=[16, 32, 64, 128, 256], \n",
    "           filter_num_skip=[16, 16, 16, 16], \n",
    "           filter_num_aggregate=32, \n",
    "           stack_num_down=2, \n",
    "           stack_num_up=1, \n",
    "           activation='ReLU', \n",
    "           output_activation='Sigmoid', \n",
    "           batch_norm=False, \n",
    "           pool=False, \n",
    "           unpool=False, \n",
    "           deep_supervision=False, \n",
    "           optimizer=None, \n",
    "           loss=None,\n",
    "           metric=None\n",
    "          )"
   ]
  },
  {
   "cell_type": "code",
   "execution_count": 5,
   "id": "87b0c65d",
   "metadata": {},
   "outputs": [],
   "source": [
    "# load our larger toy dataset (10k images and masks)\n",
    "images = np.load('/hpcstor6/scratch01/r/ryan.zurrin001/GP2TOYEXAMPLE_LARGE/images.npy')\n",
    "masks = np.load('/hpcstor6/scratch01/r/ryan.zurrin001/GP2TOYEXAMPLE_LARGE/masks.npy')"
   ]
  },
  {
   "cell_type": "code",
   "execution_count": 6,
   "id": "7330ad24",
   "metadata": {},
   "outputs": [],
   "source": [
    "images = images[:5000]\n",
    "masks = masks[:5000]"
   ]
  },
  {
   "cell_type": "code",
   "execution_count": 7,
   "id": "d5b4179a",
   "metadata": {},
   "outputs": [
    {
     "data": {
      "text/plain": [
       "(5000, 512, 512, 1)"
      ]
     },
     "execution_count": 7,
     "metadata": {},
     "output_type": "execute_result"
    }
   ],
   "source": [
    "images.shape"
   ]
  },
  {
   "cell_type": "code",
   "execution_count": 8,
   "id": "57033c4e",
   "metadata": {},
   "outputs": [
    {
     "data": {
      "text/plain": [
       "(5000, 512, 512, 1)"
      ]
     },
     "execution_count": 8,
     "metadata": {},
     "output_type": "execute_result"
    }
   ],
   "source": [
    "masks.shape"
   ]
  },
  {
   "cell_type": "code",
   "execution_count": 9,
   "id": "1dd71668",
   "metadata": {},
   "outputs": [],
   "source": [
    "weights = {\n",
    "    'A': 0.5,\n",
    "    'A_train': 0.1,\n",
    "    'A_val': 0.3,\n",
    "    'A_test': 0.6,\n",
    "    'B': 0.3,\n",
    "    'B_train': 0.7,\n",
    "    'B_val': 0.1,\n",
    "    'B_test': 0.2,\n",
    "    'Z': 0.2\n",
    "}"
   ]
  },
  {
   "cell_type": "code",
   "execution_count": 10,
   "id": "d8ff85c4",
   "metadata": {
    "scrolled": false
   },
   "outputs": [
    {
     "name": "stdout",
     "output_type": "stream",
     "text": [
      "Weights OK!\n",
      "******\n",
      "Loop 0\n"
     ]
    },
    {
     "name": "stderr",
     "output_type": "stream",
     "text": [
      "2023-04-23 14:54:31.472292: I tensorflow/compiler/mlir/mlir_graph_optimization_pass.cc:176] None of the MLIR Optimization Passes are enabled (registered 2)\n",
      "2023-04-23 14:54:31.491013: I tensorflow/core/platform/profile_utils/cpu_utils.cc:114] CPU Frequency: 2245755000 Hz\n"
     ]
    },
    {
     "name": "stdout",
     "output_type": "stream",
     "text": [
      "Epoch 1/100\n"
     ]
    },
    {
     "name": "stderr",
     "output_type": "stream",
     "text": [
      "2023-04-23 14:54:35.158975: I tensorflow/stream_executor/platform/default/dso_loader.cc:53] Successfully opened dynamic library libcudnn.so.8\n",
      "2023-04-23 14:54:35.781947: I tensorflow/stream_executor/cuda/cuda_dnn.cc:359] Loaded cuDNN version 8201\n",
      "2023-04-23 14:54:36.448479: W tensorflow/stream_executor/gpu/asm_compiler.cc:191] Falling back to the CUDA driver for PTX compilation; ptxas does not support CC 8.0\n",
      "2023-04-23 14:54:36.448505: W tensorflow/stream_executor/gpu/asm_compiler.cc:194] Used ptxas at ptxas\n",
      "2023-04-23 14:54:36.448560: W tensorflow/stream_executor/gpu/redzone_allocator.cc:314] Unimplemented: ptxas ptxas too old. Falling back to the driver to compile.\n",
      "Relying on driver to perform ptx compilation. \n",
      "Modify $PATH to customize ptxas location.\n",
      "This message will be only logged once.\n",
      "2023-04-23 14:54:36.466432: I tensorflow/stream_executor/platform/default/dso_loader.cc:53] Successfully opened dynamic library libcublas.so.11\n",
      "2023-04-23 14:54:37.213035: I tensorflow/stream_executor/platform/default/dso_loader.cc:53] Successfully opened dynamic library libcublasLt.so.11\n"
     ]
    },
    {
     "name": "stdout",
     "output_type": "stream",
     "text": [
      "4/4 [==============================] - 43s 7s/step - loss: 0.6399 - dice_coef: 0.1784 - val_loss: 0.7103 - val_dice_coef: 0.1788\n"
     ]
    },
    {
     "name": "stderr",
     "output_type": "stream",
     "text": [
      "2023-04-23 14:55:16.489441: W tensorflow/python/util/util.cc:348] Sets are not currently considered sequences, but this may change in the future, so consider avoiding using them.\n"
     ]
    },
    {
     "name": "stdout",
     "output_type": "stream",
     "text": [
      "Epoch 2/100\n",
      "4/4 [==============================] - 4s 1s/step - loss: 0.6400 - dice_coef: 0.1785 - val_loss: 0.7049 - val_dice_coef: 0.1771\n",
      "Epoch 3/100\n",
      "4/4 [==============================] - 4s 1s/step - loss: 0.6400 - dice_coef: 0.1784 - val_loss: 0.7013 - val_dice_coef: 0.1758\n",
      "Model saved to: /tmp/tmpmrq3v2blGP2/unet3plus_0unet3plus_model\n",
      "History saved to: /tmp/tmpmrq3v2blGP2/unet3plus_history_0.pkl\n",
      "Testing the classifier...\n",
      "Model saved to /tmp/tmpmrq3v2blGP2/cnnd_0.model\n",
      "History saved to /tmp/tmpmrq3v2blGP2/cnnd_history_0.pickle\n",
      "Testing the discriminator...\n",
      "10/10 [==============================] - 0s 18ms/step - loss: 0.0000e+00 - accuracy: 1.0000\n",
      "Found 135 machine labels.\n",
      "Machine labels [  1   2   8  11  15  22  27  28  32  34  35  36  37  38  40  44  45  46\n",
      "  49  50  52  58  59  60  64  68  75  76  77  78  79  80  81  83  85  86\n",
      "  91  93  95  96  97  99 100 101 102 104 105 108 114 116 121 122 123 124\n",
      " 128 130 131 135 138 140 143 144 145 146 148 153 156 157 164 165 167 168\n",
      " 170 173 175 177 180 181 182 183 185 188 193 194 195 197 198 200 201 202\n",
      " 203 204 206 209 213 214 218 224 229 230 231 232 233 235 236 237 239 242\n",
      " 244 245 249 250 251 252 254 255 256 258 260 262 267 269 270 271 277 279\n",
      " 283 285 288 289 290 294 295 298 299]\n",
      "D_ids ['4b23fc9e-95e2-430e-90ce-9cd4739930f8', 'd9a7f746-446b-44eb-9d3b-da7c466c1e20', '7752a8ee-b0f7-4dce-905c-873b7c83908b', 'db75ad3b-782f-4bee-966b-822f757527e4', 'd5c662c2-15e2-4fa5-b98e-f80a2a7148d2', 'f644218e-6bd7-4bae-bc85-643bfdfba30c', '02af4cff-45f1-4bd2-8ba7-82c581216be5', '65670ed1-d2bb-4fd3-b3cf-383ec3a977bb', '0b820846-febb-4195-81fa-9a8ede360b56', '6b0b9af3-c070-4ed7-96cf-4faa3c8be226', '5531aa6d-b626-45c2-9e5f-e81502b88069', 'bd033dcf-09cd-40bf-ab85-20b39bde5af5', 'd107cdda-7f55-4937-ba67-2aad1e108c66', '2f10003a-eb54-4f0f-b54d-b9bebc6e6856', '2cd68017-112c-46a4-90ad-cd628cc20699', 'b71db938-3766-487f-baaf-1bb2ec827ff0', 'b2de9ee8-4744-4e0f-a1e2-75024ef5cfa1', '66c77485-9375-4b41-aa0c-6a7e708a8f0e', '69ddc1a7-2f3b-419a-bfb3-9a7b5439d0c6', '67bba2c3-8be9-4b73-94af-1622def72bc3', 'cff91b15-c15a-4c7c-a83e-b4c56b5da744', 'a2affa8c-3941-49e8-81d6-23bc14f6f233', '84322501-beef-45b4-a94f-69030823fff9', '6e70ee39-f6ed-4649-857e-ff28e1dfc307', 'ad1de4eb-e38d-44aa-bafe-4603b64ef45f', 'a847a413-3e5f-4374-8c91-feacaa6e2cb8', '86db1fbf-bf35-4118-a0f7-e1cf728408d8', '415ed8e8-bb52-4e4f-aa0a-7fdf5135c43b', '3b563a9e-e272-4d55-ad9b-f927fb138c91', '2350aba9-dfea-479d-acc8-8073c0a5fe6a', '5c7c6974-5695-486d-ba65-88d632dabf51', 'cdea4306-c8d2-4142-9e6f-eadcde9c72ba', '1ded83d9-db6c-4c32-85f6-798796ea322f', '0e175bb4-47ee-4a03-bd9b-626a4e9a5b50', '1c41c307-5a39-4312-b5b9-fb39765a4dbd', '98f94b99-c210-4210-8c33-52e2eaa6a662', '5504014b-cf92-48ba-b4c0-ed22bc832ad0', '99642206-2bcf-48ec-8313-3ca5bdf409ec', '8c4c06ea-68e8-4bd1-a626-1591a94c7827', 'd57a9c60-73d3-40eb-93c8-b16921966f00', 'cc574d87-2893-4b50-beef-9ae7158b9503', '4e2c1dbd-11f6-4fe8-a048-a0fe21c9e1a3', '69e96e9c-ebd2-4828-9216-d24ff3148f23', '11e4e112-8da3-43c3-9542-ea57e6e1154b', '2d19a2c8-3a66-43d6-ad15-1a05914fa23e', 'c7cee257-db7c-4686-a0ad-81cacbdcf5ac', 'f59c0655-6ecb-4e3d-9b8a-7254922cb057', '20d0bcb5-76cd-4c7c-9245-9a638d2dc18b', '056bc8c3-d598-4697-97b0-5d00f5b38780', '11b21cd0-da7d-41ff-8c41-94b21373fafb', 'bb13785b-6e5a-43b1-bfd2-210a1454dd2f', 'ae848531-e681-40b5-a380-97ed9f019cac', 'ca73b628-0cd6-4d0a-820c-1b067dbf7e15', '3da3cc4b-0d60-4f4f-be86-8cf6825a0fee', '1f44b1a2-3b38-4453-b9f4-553c7ca1fb3d', 'afd2e03f-558c-4b6f-be68-2e88f1eacd93', 'e3c7790d-85cc-4ae3-9faf-366c1880ea4d', '10bc06d9-884c-4e09-a332-e8270eec20cf', '00963e0b-2166-4e40-b8e6-7dc595d7f861', 'b075f761-fbfd-4963-a86c-105e253101a9', '1c487d26-6ee0-4987-a251-8f28ee61364e', '3af8020c-1666-425b-a633-88e84ab3b9c7', '05a94285-1231-45f9-8892-874db673f9d0', '0a0d45a4-70ee-47f4-b8b2-cd6cbabe2d15', 'c0cf1fcc-2e46-4e19-82dc-c2ef1b1ba6bc', '8e6a1356-0f2c-45e8-8cfe-c26f81bcbb1f', '3fd03d35-f446-4350-a4db-f6a65216b1c0', 'f8c95b8c-264d-48ec-98f0-c26f7c3fb7b2', '82669419-8e95-4bb4-bdaa-56e431204c89', 'a41da7d0-77d6-46da-b997-633aebfea739', '9ccdae65-bcd4-49a9-8837-31434209653b', 'bd99b858-b085-409d-b166-30b9c87c26ee', '8b3d396f-3e08-4100-bb20-46fdd5b0722b', 'c41eb157-c976-45d5-83f8-f3cebbd14f24', 'f11c4c0e-83d0-4d60-9976-065efb0cc868', '98174098-db58-4837-853a-1491cfd62d62', 'b37e3cd2-3114-4030-af96-e9dd6bfe1813', '73ccb357-6744-493d-bd72-04cf7f6976e6', 'a5efc1f8-e0db-4a47-93b0-3da6ba548a0c', 'de8b3fa4-346c-4c03-a133-b1c65ab3a75a', '3f456538-d0fa-4cfb-a366-6778d267511a', '6e0dd0a3-d5f8-4752-bacc-f44c0bff77db', '11509f7d-556e-4e0f-8eed-a7559f672895', '5ba2ff50-f138-43b2-b7ae-d45345a5d7bb', '88ef982f-83c8-455a-9287-8f92e2773f76', 'bfb35ad0-2e09-43d8-b540-54bd1495ac5d', 'e53c2bfe-49b7-4241-9204-36fc63554e9b', 'f3d03ceb-b357-4262-bc93-ae3ab165a44c', '3f844d2c-e03b-4776-8115-acca6c26a362', '0d7610c6-d701-446a-be91-24d20406ecc7', 'a98959f6-cce6-4ecb-9f1a-0c52e0266a74', '8e23cf59-5d73-48db-a5b3-10bc09aa6eaf', '54357a2b-bfbb-4833-b2cf-6e5facfb4922', 'c6d1e74b-97bc-42e4-8d80-20acf6890112', 'f1270457-6d47-491d-8650-9e6614584ab9', '2ac33631-1f1b-40bd-a3dc-cf27e0819400', '996506a5-7325-4718-9ca5-8fb2f17ad2c8', 'cb5dd051-fc0e-45ba-838d-a96fb6941073', '876d9787-6766-4b38-88f2-8c6befa4a68d', '33c09996-15bc-4831-b0cd-df61736d8093', '78bb824f-ef56-4df8-b526-0598c4afcf1a', 'd94673b2-9e4c-403e-9121-397bc83ce89e', '28a821bb-6758-4a66-bbeb-a75247832acd', '572fbe24-1ed5-427b-b9ba-0cbc39d75774', 'a9f9e5c7-97a5-4bb6-a927-a078eaa4478b', '0fc5d63d-4138-4f88-a335-8ef50e633dca', '4d304dec-6df4-48ba-94c8-cca28d35e95a', 'e8926a08-d90a-4236-8a2b-921bd69be688', 'dac8a672-3428-49b7-a5dd-ae84c672199a', '0585d220-f744-4134-8bce-42b81cb765c3', 'ffb7a4a6-7c21-4afd-aeae-1f7bf6feb753', '7f8a4578-57d0-450d-8a53-0efbc51164d8', '118660f1-a671-49cd-a5c5-e1d513551ab7', '5ffad958-c54b-4faa-a5cb-c541ba76e610', '66595ce5-9cb9-41c0-b350-44abfc91c257', '72f4a386-da4c-400d-9150-424bd6dc58cf', 'c578d707-e831-4f30-83e1-d9d3a3332208', '629d1c80-3f67-4308-8f91-057b7f3d3889', 'a3a4d3eb-dbc8-4609-b3f5-a4dbdc814557', '992eebd9-c76c-4d20-a976-2ac4bb58e16f', 'd9126e34-ca02-4538-9ebd-7c184b043cfb', '5e25b6d8-4c48-4daa-bf22-d048d8db398e', 'c4a8df8e-6db7-4e88-9500-716e05fb99ce', '5c1369be-9aab-4a9c-a5ee-502e5cb72c37', 'c0eca67e-e2bd-4f19-a9c4-ada39c5e9af0', '41fbf410-5039-419b-9e03-ce7c8e29e77b', '05d7e37e-bf4c-48f7-aea8-d44ef67d8bfc', '94399146-b572-4cde-a00b-bda58200d8b5', 'd49fa632-f9b2-46aa-9faf-5ba7e1492af8', '863d5938-8f73-451b-9488-d785f8e83772', '6ec2da50-cc4c-41ef-87be-f5dbe77d2521', 'ed0b953d-0dd4-42c9-b467-b547c8de0fa4', '6a9967b8-b302-4d96-a62b-ab0b150115c7', 'c61fe9db-ca5c-4c13-9fab-e8317a881e8b', '0b9bcb1c-8934-40e0-95b8-275f77fcda92']\n",
      "Replacing 45 from 135 !\n",
      "D_relabeled_ 45\n",
      "selected_ids ['94399146-b572-4cde-a00b-bda58200d8b5', '5e25b6d8-4c48-4daa-bf22-d048d8db398e', '0585d220-f744-4134-8bce-42b81cb765c3', 'cff91b15-c15a-4c7c-a83e-b4c56b5da744', '4e2c1dbd-11f6-4fe8-a048-a0fe21c9e1a3', '5ffad958-c54b-4faa-a5cb-c541ba76e610', '11e4e112-8da3-43c3-9542-ea57e6e1154b', '41fbf410-5039-419b-9e03-ce7c8e29e77b', '0b820846-febb-4195-81fa-9a8ede360b56', 'bd99b858-b085-409d-b166-30b9c87c26ee', '2ac33631-1f1b-40bd-a3dc-cf27e0819400', 'afd2e03f-558c-4b6f-be68-2e88f1eacd93', '11b21cd0-da7d-41ff-8c41-94b21373fafb', 'cc574d87-2893-4b50-beef-9ae7158b9503', 'c41eb157-c976-45d5-83f8-f3cebbd14f24', '8c4c06ea-68e8-4bd1-a626-1591a94c7827', '0fc5d63d-4138-4f88-a335-8ef50e633dca', 'c61fe9db-ca5c-4c13-9fab-e8317a881e8b', '2350aba9-dfea-479d-acc8-8073c0a5fe6a', '629d1c80-3f67-4308-8f91-057b7f3d3889', '6a9967b8-b302-4d96-a62b-ab0b150115c7', '20d0bcb5-76cd-4c7c-9245-9a638d2dc18b', '2d19a2c8-3a66-43d6-ad15-1a05914fa23e', '69ddc1a7-2f3b-419a-bfb3-9a7b5439d0c6', 'e3c7790d-85cc-4ae3-9faf-366c1880ea4d', '876d9787-6766-4b38-88f2-8c6befa4a68d', '415ed8e8-bb52-4e4f-aa0a-7fdf5135c43b', '54357a2b-bfbb-4833-b2cf-6e5facfb4922', '2cd68017-112c-46a4-90ad-cd628cc20699', 'c0cf1fcc-2e46-4e19-82dc-c2ef1b1ba6bc', '0e175bb4-47ee-4a03-bd9b-626a4e9a5b50', '69e96e9c-ebd2-4828-9216-d24ff3148f23', 'b71db938-3766-487f-baaf-1bb2ec827ff0', 'c578d707-e831-4f30-83e1-d9d3a3332208', 'd9a7f746-446b-44eb-9d3b-da7c466c1e20', '6b0b9af3-c070-4ed7-96cf-4faa3c8be226', 'd5c662c2-15e2-4fa5-b98e-f80a2a7148d2', 'cb5dd051-fc0e-45ba-838d-a96fb6941073', 'b075f761-fbfd-4963-a86c-105e253101a9', 'bd033dcf-09cd-40bf-ab85-20b39bde5af5', 'c6d1e74b-97bc-42e4-8d80-20acf6890112', '4b23fc9e-95e2-430e-90ce-9cd4739930f8', '9ccdae65-bcd4-49a9-8837-31434209653b', 'c4a8df8e-6db7-4e88-9500-716e05fb99ce', '10bc06d9-884c-4e09-a332-e8270eec20cf']\n",
      "dict_keys(['94399146-b572-4cde-a00b-bda58200d8b5', '5e25b6d8-4c48-4daa-bf22-d048d8db398e', '0585d220-f744-4134-8bce-42b81cb765c3', 'cff91b15-c15a-4c7c-a83e-b4c56b5da744', '4e2c1dbd-11f6-4fe8-a048-a0fe21c9e1a3', '5ffad958-c54b-4faa-a5cb-c541ba76e610', '11e4e112-8da3-43c3-9542-ea57e6e1154b', '41fbf410-5039-419b-9e03-ce7c8e29e77b', '0b820846-febb-4195-81fa-9a8ede360b56', 'bd99b858-b085-409d-b166-30b9c87c26ee', '2ac33631-1f1b-40bd-a3dc-cf27e0819400', 'afd2e03f-558c-4b6f-be68-2e88f1eacd93', '11b21cd0-da7d-41ff-8c41-94b21373fafb', 'cc574d87-2893-4b50-beef-9ae7158b9503', 'c41eb157-c976-45d5-83f8-f3cebbd14f24', '8c4c06ea-68e8-4bd1-a626-1591a94c7827', '0fc5d63d-4138-4f88-a335-8ef50e633dca', 'c61fe9db-ca5c-4c13-9fab-e8317a881e8b', '2350aba9-dfea-479d-acc8-8073c0a5fe6a', '629d1c80-3f67-4308-8f91-057b7f3d3889', '6a9967b8-b302-4d96-a62b-ab0b150115c7', '20d0bcb5-76cd-4c7c-9245-9a638d2dc18b', '2d19a2c8-3a66-43d6-ad15-1a05914fa23e', '69ddc1a7-2f3b-419a-bfb3-9a7b5439d0c6', 'e3c7790d-85cc-4ae3-9faf-366c1880ea4d', '876d9787-6766-4b38-88f2-8c6befa4a68d', '415ed8e8-bb52-4e4f-aa0a-7fdf5135c43b', '54357a2b-bfbb-4833-b2cf-6e5facfb4922', '2cd68017-112c-46a4-90ad-cd628cc20699', 'c0cf1fcc-2e46-4e19-82dc-c2ef1b1ba6bc', '0e175bb4-47ee-4a03-bd9b-626a4e9a5b50', '69e96e9c-ebd2-4828-9216-d24ff3148f23', 'b71db938-3766-487f-baaf-1bb2ec827ff0', 'c578d707-e831-4f30-83e1-d9d3a3332208', 'd9a7f746-446b-44eb-9d3b-da7c466c1e20', '6b0b9af3-c070-4ed7-96cf-4faa3c8be226', 'd5c662c2-15e2-4fa5-b98e-f80a2a7148d2', 'cb5dd051-fc0e-45ba-838d-a96fb6941073', 'b075f761-fbfd-4963-a86c-105e253101a9', 'bd033dcf-09cd-40bf-ab85-20b39bde5af5', 'c6d1e74b-97bc-42e4-8d80-20acf6890112', '4b23fc9e-95e2-430e-90ce-9cd4739930f8', '9ccdae65-bcd4-49a9-8837-31434209653b', 'c4a8df8e-6db7-4e88-9500-716e05fb99ce', '10bc06d9-884c-4e09-a332-e8270eec20cf'])\n",
      "point ids 45\n",
      "Removed: 45 Filled: 45\n",
      "TOOK 165.44724369049072 seconds\n",
      "==== DONE LOOP 0 ====\n",
      "******\n",
      "Loop 1\n"
     ]
    },
    {
     "name": "stdout",
     "output_type": "stream",
     "text": [
      "Epoch 1/100\n",
      "5/5 [==============================] - 14s 3s/step - loss: 0.6402 - dice_coef: 0.1779 - val_loss: 0.6981 - val_dice_coef: 0.1746\n",
      "Epoch 2/100\n",
      "5/5 [==============================] - 4s 861ms/step - loss: 0.6402 - dice_coef: 0.1785 - val_loss: 0.6980 - val_dice_coef: 0.1759\n",
      "Epoch 3/100\n",
      "5/5 [==============================] - 4s 874ms/step - loss: 0.6279 - dice_coef: 0.1853 - val_loss: 0.6959 - val_dice_coef: 0.1751\n",
      "Epoch 4/100\n",
      "5/5 [==============================] - 4s 850ms/step - loss: 0.6275 - dice_coef: 0.1853 - val_loss: 0.6940 - val_dice_coef: 0.1745\n",
      "Epoch 5/100\n",
      "5/5 [==============================] - 4s 865ms/step - loss: 0.6276 - dice_coef: 0.1850 - val_loss: 0.6925 - val_dice_coef: 0.1740\n",
      "Epoch 6/100\n",
      "5/5 [==============================] - 4s 863ms/step - loss: 0.6276 - dice_coef: 0.1851 - val_loss: 0.6911 - val_dice_coef: 0.1735\n"
     ]
    },
    {
     "ename": "KeyboardInterrupt",
     "evalue": "",
     "output_type": "error",
     "traceback": [
      "\u001b[0;31m---------------------------------------------------------------------------\u001b[0m",
      "\u001b[0;31mInvalidArgumentError\u001b[0m                      Traceback (most recent call last)",
      "\u001b[0;32m~/miniconda3/envs/O/lib/python3.9/site-packages/tensorflow/python/framework/ops.py\u001b[0m in \u001b[0;36mget_attr\u001b[0;34m(self, name)\u001b[0m\n\u001b[1;32m   2559\u001b[0m       \u001b[0;32mwith\u001b[0m \u001b[0mc_api_util\u001b[0m\u001b[0;34m.\u001b[0m\u001b[0mtf_buffer\u001b[0m\u001b[0;34m(\u001b[0m\u001b[0;34m)\u001b[0m \u001b[0;32mas\u001b[0m \u001b[0mbuf\u001b[0m\u001b[0;34m:\u001b[0m\u001b[0;34m\u001b[0m\u001b[0;34m\u001b[0m\u001b[0m\n\u001b[0;32m-> 2560\u001b[0;31m         \u001b[0mpywrap_tf_session\u001b[0m\u001b[0;34m.\u001b[0m\u001b[0mTF_OperationGetAttrValueProto\u001b[0m\u001b[0;34m(\u001b[0m\u001b[0mself\u001b[0m\u001b[0;34m.\u001b[0m\u001b[0m_c_op\u001b[0m\u001b[0;34m,\u001b[0m \u001b[0mname\u001b[0m\u001b[0;34m,\u001b[0m \u001b[0mbuf\u001b[0m\u001b[0;34m)\u001b[0m\u001b[0;34m\u001b[0m\u001b[0;34m\u001b[0m\u001b[0m\n\u001b[0m\u001b[1;32m   2561\u001b[0m         \u001b[0mdata\u001b[0m \u001b[0;34m=\u001b[0m \u001b[0mpywrap_tf_session\u001b[0m\u001b[0;34m.\u001b[0m\u001b[0mTF_GetBuffer\u001b[0m\u001b[0;34m(\u001b[0m\u001b[0mbuf\u001b[0m\u001b[0;34m)\u001b[0m\u001b[0;34m\u001b[0m\u001b[0;34m\u001b[0m\u001b[0m\n",
      "\u001b[0;31mInvalidArgumentError\u001b[0m: Operation 'BiasAdd' has no attr named '_read_only_resource_inputs'.",
      "\nDuring handling of the above exception, another exception occurred:\n",
      "\u001b[0;31mKeyboardInterrupt\u001b[0m                         Traceback (most recent call last)",
      "\u001b[0;32m/tmp/ipykernel_3529033/3674572842.py\u001b[0m in \u001b[0;36m<module>\u001b[0;34m\u001b[0m\n\u001b[0;32m----> 1\u001b[0;31m \u001b[0mR\u001b[0m\u001b[0;34m.\u001b[0m\u001b[0mrun\u001b[0m\u001b[0;34m(\u001b[0m\u001b[0mimages\u001b[0m\u001b[0;34m=\u001b[0m\u001b[0mimages\u001b[0m\u001b[0;34m,\u001b[0m \u001b[0mmasks\u001b[0m\u001b[0;34m=\u001b[0m\u001b[0mmasks\u001b[0m\u001b[0;34m,\u001b[0m \u001b[0mweights\u001b[0m\u001b[0;34m=\u001b[0m\u001b[0mweights\u001b[0m\u001b[0;34m,\u001b[0m \u001b[0mruns\u001b[0m\u001b[0;34m=\u001b[0m\u001b[0;36m3\u001b[0m\u001b[0;34m)\u001b[0m\u001b[0;34m\u001b[0m\u001b[0;34m\u001b[0m\u001b[0m\n\u001b[0m",
      "\u001b[0;32m~/Projects/CS410-Omama/_EXPERIMENTS/GP2/../../gp2/runner.py\u001b[0m in \u001b[0;36mrun\u001b[0;34m(self, images, masks, weights, runs, patience_counter, percent_to_replace)\u001b[0m\n\u001b[1;32m    653\u001b[0m             \u001b[0mprint\u001b[0m\u001b[0;34m(\u001b[0m\u001b[0;34m'Loop'\u001b[0m\u001b[0;34m,\u001b[0m \u001b[0mrun\u001b[0m\u001b[0;34m)\u001b[0m\u001b[0;34m\u001b[0m\u001b[0;34m\u001b[0m\u001b[0m\n\u001b[1;32m    654\u001b[0m             \u001b[0mt0\u001b[0m \u001b[0;34m=\u001b[0m \u001b[0mtime\u001b[0m\u001b[0;34m.\u001b[0m\u001b[0mtime\u001b[0m\u001b[0;34m(\u001b[0m\u001b[0;34m)\u001b[0m\u001b[0;34m\u001b[0m\u001b[0;34m\u001b[0m\u001b[0m\n\u001b[0;32m--> 655\u001b[0;31m             \u001b[0mself\u001b[0m\u001b[0;34m.\u001b[0m\u001b[0mrun_classifier\u001b[0m\u001b[0;34m(\u001b[0m\u001b[0mpatience_counter\u001b[0m\u001b[0;34m=\u001b[0m\u001b[0mpatience_counter\u001b[0m\u001b[0;34m)\u001b[0m\u001b[0;34m\u001b[0m\u001b[0;34m\u001b[0m\u001b[0m\n\u001b[0m\u001b[1;32m    656\u001b[0m             \u001b[0mself\u001b[0m\u001b[0;34m.\u001b[0m\u001b[0mrun_discriminator\u001b[0m\u001b[0;34m(\u001b[0m\u001b[0;34m)\u001b[0m\u001b[0;34m\u001b[0m\u001b[0;34m\u001b[0m\u001b[0m\n\u001b[1;32m    657\u001b[0m             \u001b[0ml\u001b[0m \u001b[0;34m=\u001b[0m \u001b[0mself\u001b[0m\u001b[0;34m.\u001b[0m\u001b[0mfind_machine_labels\u001b[0m\u001b[0;34m(\u001b[0m\u001b[0;34m)\u001b[0m\u001b[0;34m\u001b[0m\u001b[0;34m\u001b[0m\u001b[0m\n",
      "\u001b[0;32m~/Projects/CS410-Omama/_EXPERIMENTS/GP2/../../gp2/runner.py\u001b[0m in \u001b[0;36mrun_classifier\u001b[0;34m(self, patience_counter)\u001b[0m\n\u001b[1;32m    206\u001b[0m         \u001b[0my_val_\u001b[0m \u001b[0;34m=\u001b[0m \u001b[0my_val_\u001b[0m\u001b[0;34m[\u001b[0m\u001b[0;34m:\u001b[0m\u001b[0;34m,\u001b[0m \u001b[0;34m:\u001b[0m\u001b[0;34m,\u001b[0m \u001b[0;34m:\u001b[0m\u001b[0;34m,\u001b[0m \u001b[0;36m1\u001b[0m\u001b[0;34m]\u001b[0m\u001b[0;34m.\u001b[0m\u001b[0mastype\u001b[0m\u001b[0;34m(\u001b[0m\u001b[0mnp\u001b[0m\u001b[0;34m.\u001b[0m\u001b[0mfloat32\u001b[0m\u001b[0;34m)\u001b[0m\u001b[0;34m\u001b[0m\u001b[0;34m\u001b[0m\u001b[0m\n\u001b[1;32m    207\u001b[0m \u001b[0;34m\u001b[0m\u001b[0m\n\u001b[0;32m--> 208\u001b[0;31m         history = u.train(X_train_, y_train_, X_val_, y_val_,\n\u001b[0m\u001b[1;32m    209\u001b[0m                           patience_counter=patience_counter)\n\u001b[1;32m    210\u001b[0m \u001b[0;34m\u001b[0m\u001b[0m\n",
      "\u001b[0;32m~/Projects/CS410-Omama/_EXPERIMENTS/GP2/../../gp2/gp2/classifiers/base_keras_segmentation_classifier.py\u001b[0m in \u001b[0;36mtrain\u001b[0;34m(self, X_train, y_train, X_val, y_val, patience_counter, batch_size, epochs, call_backs)\u001b[0m\n\u001b[1;32m     43\u001b[0m             \u001b[0mcall_backs\u001b[0m \u001b[0;34m=\u001b[0m \u001b[0mcall_backs\u001b[0m\u001b[0;34m\u001b[0m\u001b[0;34m\u001b[0m\u001b[0m\n\u001b[1;32m     44\u001b[0m \u001b[0;34m\u001b[0m\u001b[0m\n\u001b[0;32m---> 45\u001b[0;31m         history = self.model.fit(X_train, y_train,\n\u001b[0m\u001b[1;32m     46\u001b[0m                                  \u001b[0mbatch_size\u001b[0m\u001b[0;34m=\u001b[0m\u001b[0mbatch_size\u001b[0m\u001b[0;34m,\u001b[0m\u001b[0;34m\u001b[0m\u001b[0;34m\u001b[0m\u001b[0m\n\u001b[1;32m     47\u001b[0m                                  \u001b[0mepochs\u001b[0m\u001b[0;34m=\u001b[0m\u001b[0mepochs\u001b[0m\u001b[0;34m,\u001b[0m\u001b[0;34m\u001b[0m\u001b[0;34m\u001b[0m\u001b[0m\n",
      "\u001b[0;32m~/miniconda3/envs/O/lib/python3.9/site-packages/tensorflow/python/keras/engine/training.py\u001b[0m in \u001b[0;36mfit\u001b[0;34m(self, x, y, batch_size, epochs, verbose, callbacks, validation_split, validation_data, shuffle, class_weight, sample_weight, initial_epoch, steps_per_epoch, validation_steps, validation_batch_size, validation_freq, max_queue_size, workers, use_multiprocessing)\u001b[0m\n\u001b[1;32m   1227\u001b[0m           \u001b[0mepoch_logs\u001b[0m\u001b[0;34m.\u001b[0m\u001b[0mupdate\u001b[0m\u001b[0;34m(\u001b[0m\u001b[0mval_logs\u001b[0m\u001b[0;34m)\u001b[0m\u001b[0;34m\u001b[0m\u001b[0;34m\u001b[0m\u001b[0m\n\u001b[1;32m   1228\u001b[0m \u001b[0;34m\u001b[0m\u001b[0m\n\u001b[0;32m-> 1229\u001b[0;31m         \u001b[0mcallbacks\u001b[0m\u001b[0;34m.\u001b[0m\u001b[0mon_epoch_end\u001b[0m\u001b[0;34m(\u001b[0m\u001b[0mepoch\u001b[0m\u001b[0;34m,\u001b[0m \u001b[0mepoch_logs\u001b[0m\u001b[0;34m)\u001b[0m\u001b[0;34m\u001b[0m\u001b[0;34m\u001b[0m\u001b[0m\n\u001b[0m\u001b[1;32m   1230\u001b[0m         \u001b[0mtraining_logs\u001b[0m \u001b[0;34m=\u001b[0m \u001b[0mepoch_logs\u001b[0m\u001b[0;34m\u001b[0m\u001b[0;34m\u001b[0m\u001b[0m\n\u001b[1;32m   1231\u001b[0m         \u001b[0;32mif\u001b[0m \u001b[0mself\u001b[0m\u001b[0;34m.\u001b[0m\u001b[0mstop_training\u001b[0m\u001b[0;34m:\u001b[0m\u001b[0;34m\u001b[0m\u001b[0;34m\u001b[0m\u001b[0m\n",
      "\u001b[0;32m~/miniconda3/envs/O/lib/python3.9/site-packages/tensorflow/python/keras/callbacks.py\u001b[0m in \u001b[0;36mon_epoch_end\u001b[0;34m(self, epoch, logs)\u001b[0m\n\u001b[1;32m    433\u001b[0m     \u001b[0mlogs\u001b[0m \u001b[0;34m=\u001b[0m \u001b[0mself\u001b[0m\u001b[0;34m.\u001b[0m\u001b[0m_process_logs\u001b[0m\u001b[0;34m(\u001b[0m\u001b[0mlogs\u001b[0m\u001b[0;34m)\u001b[0m\u001b[0;34m\u001b[0m\u001b[0;34m\u001b[0m\u001b[0m\n\u001b[1;32m    434\u001b[0m     \u001b[0;32mfor\u001b[0m \u001b[0mcallback\u001b[0m \u001b[0;32min\u001b[0m \u001b[0mself\u001b[0m\u001b[0;34m.\u001b[0m\u001b[0mcallbacks\u001b[0m\u001b[0;34m:\u001b[0m\u001b[0;34m\u001b[0m\u001b[0;34m\u001b[0m\u001b[0m\n\u001b[0;32m--> 435\u001b[0;31m       \u001b[0mcallback\u001b[0m\u001b[0;34m.\u001b[0m\u001b[0mon_epoch_end\u001b[0m\u001b[0;34m(\u001b[0m\u001b[0mepoch\u001b[0m\u001b[0;34m,\u001b[0m \u001b[0mlogs\u001b[0m\u001b[0;34m)\u001b[0m\u001b[0;34m\u001b[0m\u001b[0;34m\u001b[0m\u001b[0m\n\u001b[0m\u001b[1;32m    436\u001b[0m \u001b[0;34m\u001b[0m\u001b[0m\n\u001b[1;32m    437\u001b[0m   \u001b[0;32mdef\u001b[0m \u001b[0mon_train_batch_begin\u001b[0m\u001b[0;34m(\u001b[0m\u001b[0mself\u001b[0m\u001b[0;34m,\u001b[0m \u001b[0mbatch\u001b[0m\u001b[0;34m,\u001b[0m \u001b[0mlogs\u001b[0m\u001b[0;34m=\u001b[0m\u001b[0;32mNone\u001b[0m\u001b[0;34m)\u001b[0m\u001b[0;34m:\u001b[0m\u001b[0;34m\u001b[0m\u001b[0;34m\u001b[0m\u001b[0m\n",
      "\u001b[0;32m~/miniconda3/envs/O/lib/python3.9/site-packages/tensorflow/python/keras/callbacks.py\u001b[0m in \u001b[0;36mon_epoch_end\u001b[0;34m(self, epoch, logs)\u001b[0m\n\u001b[1;32m   1367\u001b[0m     \u001b[0;31m# pylint: disable=protected-access\u001b[0m\u001b[0;34m\u001b[0m\u001b[0;34m\u001b[0m\u001b[0m\n\u001b[1;32m   1368\u001b[0m     \u001b[0;32mif\u001b[0m \u001b[0mself\u001b[0m\u001b[0;34m.\u001b[0m\u001b[0msave_freq\u001b[0m \u001b[0;34m==\u001b[0m \u001b[0;34m'epoch'\u001b[0m\u001b[0;34m:\u001b[0m\u001b[0;34m\u001b[0m\u001b[0;34m\u001b[0m\u001b[0m\n\u001b[0;32m-> 1369\u001b[0;31m       \u001b[0mself\u001b[0m\u001b[0;34m.\u001b[0m\u001b[0m_save_model\u001b[0m\u001b[0;34m(\u001b[0m\u001b[0mepoch\u001b[0m\u001b[0;34m=\u001b[0m\u001b[0mepoch\u001b[0m\u001b[0;34m,\u001b[0m \u001b[0mlogs\u001b[0m\u001b[0;34m=\u001b[0m\u001b[0mlogs\u001b[0m\u001b[0;34m)\u001b[0m\u001b[0;34m\u001b[0m\u001b[0;34m\u001b[0m\u001b[0m\n\u001b[0m\u001b[1;32m   1370\u001b[0m \u001b[0;34m\u001b[0m\u001b[0m\n\u001b[1;32m   1371\u001b[0m   \u001b[0;32mdef\u001b[0m \u001b[0m_should_save_on_batch\u001b[0m\u001b[0;34m(\u001b[0m\u001b[0mself\u001b[0m\u001b[0;34m,\u001b[0m \u001b[0mbatch\u001b[0m\u001b[0;34m)\u001b[0m\u001b[0;34m:\u001b[0m\u001b[0;34m\u001b[0m\u001b[0;34m\u001b[0m\u001b[0m\n",
      "\u001b[0;32m~/miniconda3/envs/O/lib/python3.9/site-packages/tensorflow/python/keras/callbacks.py\u001b[0m in \u001b[0;36m_save_model\u001b[0;34m(self, epoch, logs)\u001b[0m\n\u001b[1;32m   1419\u001b[0m                     filepath, overwrite=True, options=self._options)\n\u001b[1;32m   1420\u001b[0m               \u001b[0;32melse\u001b[0m\u001b[0;34m:\u001b[0m\u001b[0;34m\u001b[0m\u001b[0;34m\u001b[0m\u001b[0m\n\u001b[0;32m-> 1421\u001b[0;31m                 \u001b[0mself\u001b[0m\u001b[0;34m.\u001b[0m\u001b[0mmodel\u001b[0m\u001b[0;34m.\u001b[0m\u001b[0msave\u001b[0m\u001b[0;34m(\u001b[0m\u001b[0mfilepath\u001b[0m\u001b[0;34m,\u001b[0m \u001b[0moverwrite\u001b[0m\u001b[0;34m=\u001b[0m\u001b[0;32mTrue\u001b[0m\u001b[0;34m,\u001b[0m \u001b[0moptions\u001b[0m\u001b[0;34m=\u001b[0m\u001b[0mself\u001b[0m\u001b[0;34m.\u001b[0m\u001b[0m_options\u001b[0m\u001b[0;34m)\u001b[0m\u001b[0;34m\u001b[0m\u001b[0;34m\u001b[0m\u001b[0m\n\u001b[0m\u001b[1;32m   1422\u001b[0m             \u001b[0;32melse\u001b[0m\u001b[0;34m:\u001b[0m\u001b[0;34m\u001b[0m\u001b[0;34m\u001b[0m\u001b[0m\n\u001b[1;32m   1423\u001b[0m               \u001b[0;32mif\u001b[0m \u001b[0mself\u001b[0m\u001b[0;34m.\u001b[0m\u001b[0mverbose\u001b[0m \u001b[0;34m>\u001b[0m \u001b[0;36m0\u001b[0m\u001b[0;34m:\u001b[0m\u001b[0;34m\u001b[0m\u001b[0;34m\u001b[0m\u001b[0m\n",
      "\u001b[0;32m~/miniconda3/envs/O/lib/python3.9/site-packages/tensorflow/python/keras/engine/training.py\u001b[0m in \u001b[0;36msave\u001b[0;34m(self, filepath, overwrite, include_optimizer, save_format, signatures, options, save_traces)\u001b[0m\n\u001b[1;32m   2109\u001b[0m     \"\"\"\n\u001b[1;32m   2110\u001b[0m     \u001b[0;31m# pylint: enable=line-too-long\u001b[0m\u001b[0;34m\u001b[0m\u001b[0;34m\u001b[0m\u001b[0m\n\u001b[0;32m-> 2111\u001b[0;31m     save.save_model(self, filepath, overwrite, include_optimizer, save_format,\n\u001b[0m\u001b[1;32m   2112\u001b[0m                     signatures, options, save_traces)\n\u001b[1;32m   2113\u001b[0m \u001b[0;34m\u001b[0m\u001b[0m\n",
      "\u001b[0;32m~/miniconda3/envs/O/lib/python3.9/site-packages/tensorflow/python/keras/saving/save.py\u001b[0m in \u001b[0;36msave_model\u001b[0;34m(model, filepath, overwrite, include_optimizer, save_format, signatures, options, save_traces)\u001b[0m\n\u001b[1;32m    148\u001b[0m   \u001b[0;32melse\u001b[0m\u001b[0;34m:\u001b[0m\u001b[0;34m\u001b[0m\u001b[0;34m\u001b[0m\u001b[0m\n\u001b[1;32m    149\u001b[0m     \u001b[0;32mwith\u001b[0m \u001b[0mgeneric_utils\u001b[0m\u001b[0;34m.\u001b[0m\u001b[0mSharedObjectSavingScope\u001b[0m\u001b[0;34m(\u001b[0m\u001b[0;34m)\u001b[0m\u001b[0;34m:\u001b[0m\u001b[0;34m\u001b[0m\u001b[0;34m\u001b[0m\u001b[0m\n\u001b[0;32m--> 150\u001b[0;31m       saved_model_save.save(model, filepath, overwrite, include_optimizer,\n\u001b[0m\u001b[1;32m    151\u001b[0m                             signatures, options, save_traces)\n\u001b[1;32m    152\u001b[0m \u001b[0;34m\u001b[0m\u001b[0m\n",
      "\u001b[0;32m~/miniconda3/envs/O/lib/python3.9/site-packages/tensorflow/python/keras/saving/saved_model/save.py\u001b[0m in \u001b[0;36msave\u001b[0;34m(model, filepath, overwrite, include_optimizer, signatures, options, save_traces)\u001b[0m\n\u001b[1;32m     87\u001b[0m   \u001b[0;32mwith\u001b[0m \u001b[0mK\u001b[0m\u001b[0;34m.\u001b[0m\u001b[0mdeprecated_internal_learning_phase_scope\u001b[0m\u001b[0;34m(\u001b[0m\u001b[0;36m0\u001b[0m\u001b[0;34m)\u001b[0m\u001b[0;34m:\u001b[0m\u001b[0;34m\u001b[0m\u001b[0;34m\u001b[0m\u001b[0m\n\u001b[1;32m     88\u001b[0m     \u001b[0;32mwith\u001b[0m \u001b[0mutils\u001b[0m\u001b[0;34m.\u001b[0m\u001b[0mkeras_option_scope\u001b[0m\u001b[0;34m(\u001b[0m\u001b[0msave_traces\u001b[0m\u001b[0;34m)\u001b[0m\u001b[0;34m:\u001b[0m\u001b[0;34m\u001b[0m\u001b[0;34m\u001b[0m\u001b[0m\n\u001b[0;32m---> 89\u001b[0;31m       saved_nodes, node_paths = save_lib.save_and_return_nodes(\n\u001b[0m\u001b[1;32m     90\u001b[0m           model, filepath, signatures, options)\n\u001b[1;32m     91\u001b[0m \u001b[0;34m\u001b[0m\u001b[0m\n",
      "\u001b[0;32m~/miniconda3/envs/O/lib/python3.9/site-packages/tensorflow/python/saved_model/save.py\u001b[0m in \u001b[0;36msave_and_return_nodes\u001b[0;34m(obj, export_dir, signatures, options, raise_metadata_warning, experimental_skip_checkpoint)\u001b[0m\n\u001b[1;32m   1101\u001b[0m \u001b[0;34m\u001b[0m\u001b[0m\n\u001b[1;32m   1102\u001b[0m   _, exported_graph, object_saver, asset_info, saved_nodes, node_paths = (\n\u001b[0;32m-> 1103\u001b[0;31m       _build_meta_graph(obj, signatures, options, meta_graph_def,\n\u001b[0m\u001b[1;32m   1104\u001b[0m                         raise_metadata_warning))\n\u001b[1;32m   1105\u001b[0m   \u001b[0msaved_model\u001b[0m\u001b[0;34m.\u001b[0m\u001b[0msaved_model_schema_version\u001b[0m \u001b[0;34m=\u001b[0m \u001b[0mconstants\u001b[0m\u001b[0;34m.\u001b[0m\u001b[0mSAVED_MODEL_SCHEMA_VERSION\u001b[0m\u001b[0;34m\u001b[0m\u001b[0;34m\u001b[0m\u001b[0m\n",
      "\u001b[0;32m~/miniconda3/envs/O/lib/python3.9/site-packages/tensorflow/python/saved_model/save.py\u001b[0m in \u001b[0;36m_build_meta_graph\u001b[0;34m(obj, signatures, options, meta_graph_def, raise_metadata_warning)\u001b[0m\n\u001b[1;32m   1288\u001b[0m \u001b[0;34m\u001b[0m\u001b[0m\n\u001b[1;32m   1289\u001b[0m   \u001b[0;32mwith\u001b[0m \u001b[0msave_context\u001b[0m\u001b[0;34m.\u001b[0m\u001b[0msave_context\u001b[0m\u001b[0;34m(\u001b[0m\u001b[0moptions\u001b[0m\u001b[0;34m)\u001b[0m\u001b[0;34m:\u001b[0m\u001b[0;34m\u001b[0m\u001b[0;34m\u001b[0m\u001b[0m\n\u001b[0;32m-> 1290\u001b[0;31m     return _build_meta_graph_impl(obj, signatures, options, meta_graph_def,\n\u001b[0m\u001b[1;32m   1291\u001b[0m                                   raise_metadata_warning)\n",
      "\u001b[0;32m~/miniconda3/envs/O/lib/python3.9/site-packages/tensorflow/python/saved_model/save.py\u001b[0m in \u001b[0;36m_build_meta_graph_impl\u001b[0;34m(obj, signatures, options, meta_graph_def, raise_metadata_warning)\u001b[0m\n\u001b[1;32m   1218\u001b[0m \u001b[0;34m\u001b[0m\u001b[0m\n\u001b[1;32m   1219\u001b[0m   \u001b[0;31m# Use _SaveableView to provide a frozen listing of properties and functions.\u001b[0m\u001b[0;34m\u001b[0m\u001b[0;34m\u001b[0m\u001b[0m\n\u001b[0;32m-> 1220\u001b[0;31m   saveable_view = _SaveableView(checkpoint_graph_view, options,\n\u001b[0m\u001b[1;32m   1221\u001b[0m                                 wrapped_functions)\n\u001b[1;32m   1222\u001b[0m   \u001b[0mobject_saver\u001b[0m \u001b[0;34m=\u001b[0m \u001b[0mutil\u001b[0m\u001b[0;34m.\u001b[0m\u001b[0mTrackableSaver\u001b[0m\u001b[0;34m(\u001b[0m\u001b[0mcheckpoint_graph_view\u001b[0m\u001b[0;34m)\u001b[0m\u001b[0;34m\u001b[0m\u001b[0;34m\u001b[0m\u001b[0m\n",
      "\u001b[0;32m~/miniconda3/envs/O/lib/python3.9/site-packages/tensorflow/python/saved_model/save.py\u001b[0m in \u001b[0;36m__init__\u001b[0;34m(self, checkpoint_view, options, wrapped_functions)\u001b[0m\n\u001b[1;32m    189\u001b[0m     \u001b[0;31m# Run through the nodes in the object graph first for side effects of\u001b[0m\u001b[0;34m\u001b[0m\u001b[0;34m\u001b[0m\u001b[0m\n\u001b[1;32m    190\u001b[0m     \u001b[0;31m# creating variables.\u001b[0m\u001b[0;34m\u001b[0m\u001b[0;34m\u001b[0m\u001b[0m\n\u001b[0;32m--> 191\u001b[0;31m     \u001b[0mself\u001b[0m\u001b[0;34m.\u001b[0m\u001b[0m_trace_all_concrete_functions\u001b[0m\u001b[0;34m(\u001b[0m\u001b[0;34m)\u001b[0m\u001b[0;34m\u001b[0m\u001b[0;34m\u001b[0m\u001b[0m\n\u001b[0m\u001b[1;32m    192\u001b[0m \u001b[0;34m\u001b[0m\u001b[0m\n\u001b[1;32m    193\u001b[0m     (self._trackable_objects, self.node_paths, self._node_ids,\n",
      "\u001b[0;32m~/miniconda3/envs/O/lib/python3.9/site-packages/tensorflow/python/saved_model/save.py\u001b[0m in \u001b[0;36m_trace_all_concrete_functions\u001b[0;34m(self)\u001b[0m\n\u001b[1;32m    275\u001b[0m       \u001b[0;32mfor\u001b[0m \u001b[0mfunction\u001b[0m \u001b[0;32min\u001b[0m \u001b[0mself\u001b[0m\u001b[0;34m.\u001b[0m\u001b[0mcheckpoint_view\u001b[0m\u001b[0;34m.\u001b[0m\u001b[0mlist_functions\u001b[0m\u001b[0;34m(\u001b[0m\u001b[0mobj\u001b[0m\u001b[0;34m)\u001b[0m\u001b[0;34m.\u001b[0m\u001b[0mvalues\u001b[0m\u001b[0;34m(\u001b[0m\u001b[0;34m)\u001b[0m\u001b[0;34m:\u001b[0m\u001b[0;34m\u001b[0m\u001b[0;34m\u001b[0m\u001b[0m\n\u001b[1;32m    276\u001b[0m         \u001b[0;32mif\u001b[0m \u001b[0misinstance\u001b[0m\u001b[0;34m(\u001b[0m\u001b[0mfunction\u001b[0m\u001b[0;34m,\u001b[0m \u001b[0mdef_function\u001b[0m\u001b[0;34m.\u001b[0m\u001b[0mFunction\u001b[0m\u001b[0;34m)\u001b[0m\u001b[0;34m:\u001b[0m\u001b[0;34m\u001b[0m\u001b[0;34m\u001b[0m\u001b[0m\n\u001b[0;32m--> 277\u001b[0;31m           \u001b[0mfunction\u001b[0m\u001b[0;34m.\u001b[0m\u001b[0m_list_all_concrete_functions_for_serialization\u001b[0m\u001b[0;34m(\u001b[0m\u001b[0;34m)\u001b[0m  \u001b[0;31m# pylint: disable=protected-access\u001b[0m\u001b[0;34m\u001b[0m\u001b[0;34m\u001b[0m\u001b[0m\n\u001b[0m\u001b[1;32m    278\u001b[0m \u001b[0;34m\u001b[0m\u001b[0m\n\u001b[1;32m    279\u001b[0m   \u001b[0;34m@\u001b[0m\u001b[0mproperty\u001b[0m\u001b[0;34m\u001b[0m\u001b[0;34m\u001b[0m\u001b[0m\n",
      "\u001b[0;32m~/miniconda3/envs/O/lib/python3.9/site-packages/tensorflow/python/eager/def_function.py\u001b[0m in \u001b[0;36m_list_all_concrete_functions_for_serialization\u001b[0;34m(self)\u001b[0m\n\u001b[1;32m   1247\u001b[0m     \u001b[0mconcrete_functions\u001b[0m \u001b[0;34m=\u001b[0m \u001b[0;34m[\u001b[0m\u001b[0;34m]\u001b[0m\u001b[0;34m\u001b[0m\u001b[0;34m\u001b[0m\u001b[0m\n\u001b[1;32m   1248\u001b[0m     \u001b[0;32mfor\u001b[0m \u001b[0margs\u001b[0m\u001b[0;34m,\u001b[0m \u001b[0mkwargs\u001b[0m \u001b[0;32min\u001b[0m \u001b[0mseen_signatures\u001b[0m\u001b[0;34m:\u001b[0m\u001b[0;34m\u001b[0m\u001b[0;34m\u001b[0m\u001b[0m\n\u001b[0;32m-> 1249\u001b[0;31m       \u001b[0mconcrete_functions\u001b[0m\u001b[0;34m.\u001b[0m\u001b[0mappend\u001b[0m\u001b[0;34m(\u001b[0m\u001b[0mself\u001b[0m\u001b[0;34m.\u001b[0m\u001b[0mget_concrete_function\u001b[0m\u001b[0;34m(\u001b[0m\u001b[0;34m*\u001b[0m\u001b[0margs\u001b[0m\u001b[0;34m,\u001b[0m \u001b[0;34m**\u001b[0m\u001b[0mkwargs\u001b[0m\u001b[0;34m)\u001b[0m\u001b[0;34m)\u001b[0m\u001b[0;34m\u001b[0m\u001b[0;34m\u001b[0m\u001b[0m\n\u001b[0m\u001b[1;32m   1250\u001b[0m     \u001b[0;32mreturn\u001b[0m \u001b[0mconcrete_functions\u001b[0m\u001b[0;34m\u001b[0m\u001b[0;34m\u001b[0m\u001b[0m\n\u001b[1;32m   1251\u001b[0m \u001b[0;34m\u001b[0m\u001b[0m\n",
      "\u001b[0;32m~/miniconda3/envs/O/lib/python3.9/site-packages/tensorflow/python/eager/def_function.py\u001b[0m in \u001b[0;36mget_concrete_function\u001b[0;34m(self, *args, **kwargs)\u001b[0m\n\u001b[1;32m   1365\u001b[0m       \u001b[0mValueError\u001b[0m\u001b[0;34m:\u001b[0m \u001b[0;32mif\u001b[0m \u001b[0mthis\u001b[0m \u001b[0mobject\u001b[0m \u001b[0mhas\u001b[0m \u001b[0;32mnot\u001b[0m \u001b[0myet\u001b[0m \u001b[0mbeen\u001b[0m \u001b[0mcalled\u001b[0m \u001b[0mon\u001b[0m \u001b[0mconcrete\u001b[0m \u001b[0mvalues\u001b[0m\u001b[0;34m.\u001b[0m\u001b[0;34m\u001b[0m\u001b[0;34m\u001b[0m\u001b[0m\n\u001b[1;32m   1366\u001b[0m     \"\"\"\n\u001b[0;32m-> 1367\u001b[0;31m     \u001b[0mconcrete\u001b[0m \u001b[0;34m=\u001b[0m \u001b[0mself\u001b[0m\u001b[0;34m.\u001b[0m\u001b[0m_get_concrete_function_garbage_collected\u001b[0m\u001b[0;34m(\u001b[0m\u001b[0;34m*\u001b[0m\u001b[0margs\u001b[0m\u001b[0;34m,\u001b[0m \u001b[0;34m**\u001b[0m\u001b[0mkwargs\u001b[0m\u001b[0;34m)\u001b[0m\u001b[0;34m\u001b[0m\u001b[0;34m\u001b[0m\u001b[0m\n\u001b[0m\u001b[1;32m   1368\u001b[0m     \u001b[0mconcrete\u001b[0m\u001b[0;34m.\u001b[0m\u001b[0m_garbage_collector\u001b[0m\u001b[0;34m.\u001b[0m\u001b[0mrelease\u001b[0m\u001b[0;34m(\u001b[0m\u001b[0;34m)\u001b[0m  \u001b[0;31m# pylint: disable=protected-access\u001b[0m\u001b[0;34m\u001b[0m\u001b[0;34m\u001b[0m\u001b[0m\n\u001b[1;32m   1369\u001b[0m     \u001b[0;32mreturn\u001b[0m \u001b[0mconcrete\u001b[0m\u001b[0;34m\u001b[0m\u001b[0;34m\u001b[0m\u001b[0m\n",
      "\u001b[0;32m~/miniconda3/envs/O/lib/python3.9/site-packages/tensorflow/python/eager/def_function.py\u001b[0m in \u001b[0;36m_get_concrete_function_garbage_collected\u001b[0;34m(self, *args, **kwargs)\u001b[0m\n\u001b[1;32m   1282\u001b[0m       \u001b[0;31m# In this case we have not created variables on the first call. So we can\u001b[0m\u001b[0;34m\u001b[0m\u001b[0;34m\u001b[0m\u001b[0m\n\u001b[1;32m   1283\u001b[0m       \u001b[0;31m# run the first trace but we should fail if variables are created.\u001b[0m\u001b[0;34m\u001b[0m\u001b[0;34m\u001b[0m\u001b[0m\n\u001b[0;32m-> 1284\u001b[0;31m       concrete = self._stateful_fn._get_concrete_function_garbage_collected(  # pylint: disable=protected-access\n\u001b[0m\u001b[1;32m   1285\u001b[0m           *args, **kwargs)\n\u001b[1;32m   1286\u001b[0m       \u001b[0;32mif\u001b[0m \u001b[0mself\u001b[0m\u001b[0;34m.\u001b[0m\u001b[0m_created_variables\u001b[0m\u001b[0;34m:\u001b[0m\u001b[0;34m\u001b[0m\u001b[0;34m\u001b[0m\u001b[0m\n",
      "\u001b[0;32m~/miniconda3/envs/O/lib/python3.9/site-packages/tensorflow/python/eager/function.py\u001b[0m in \u001b[0;36m_get_concrete_function_garbage_collected\u001b[0;34m(self, *args, **kwargs)\u001b[0m\n\u001b[1;32m   3098\u001b[0m       \u001b[0margs\u001b[0m\u001b[0;34m,\u001b[0m \u001b[0mkwargs\u001b[0m \u001b[0;34m=\u001b[0m \u001b[0;32mNone\u001b[0m\u001b[0;34m,\u001b[0m \u001b[0;32mNone\u001b[0m\u001b[0;34m\u001b[0m\u001b[0;34m\u001b[0m\u001b[0m\n\u001b[1;32m   3099\u001b[0m     \u001b[0;32mwith\u001b[0m \u001b[0mself\u001b[0m\u001b[0;34m.\u001b[0m\u001b[0m_lock\u001b[0m\u001b[0;34m:\u001b[0m\u001b[0;34m\u001b[0m\u001b[0;34m\u001b[0m\u001b[0m\n\u001b[0;32m-> 3100\u001b[0;31m       \u001b[0mgraph_function\u001b[0m\u001b[0;34m,\u001b[0m \u001b[0m_\u001b[0m \u001b[0;34m=\u001b[0m \u001b[0mself\u001b[0m\u001b[0;34m.\u001b[0m\u001b[0m_maybe_define_function\u001b[0m\u001b[0;34m(\u001b[0m\u001b[0margs\u001b[0m\u001b[0;34m,\u001b[0m \u001b[0mkwargs\u001b[0m\u001b[0;34m)\u001b[0m\u001b[0;34m\u001b[0m\u001b[0;34m\u001b[0m\u001b[0m\n\u001b[0m\u001b[1;32m   3101\u001b[0m       \u001b[0mseen_names\u001b[0m \u001b[0;34m=\u001b[0m \u001b[0mset\u001b[0m\u001b[0;34m(\u001b[0m\u001b[0;34m)\u001b[0m\u001b[0;34m\u001b[0m\u001b[0;34m\u001b[0m\u001b[0m\n\u001b[1;32m   3102\u001b[0m       captured = object_identity.ObjectIdentitySet(\n",
      "\u001b[0;32m~/miniconda3/envs/O/lib/python3.9/site-packages/tensorflow/python/eager/function.py\u001b[0m in \u001b[0;36m_maybe_define_function\u001b[0;34m(self, args, kwargs)\u001b[0m\n\u001b[1;32m   3442\u001b[0m \u001b[0;34m\u001b[0m\u001b[0m\n\u001b[1;32m   3443\u001b[0m           \u001b[0mself\u001b[0m\u001b[0;34m.\u001b[0m\u001b[0m_function_cache\u001b[0m\u001b[0;34m.\u001b[0m\u001b[0mmissed\u001b[0m\u001b[0;34m.\u001b[0m\u001b[0madd\u001b[0m\u001b[0;34m(\u001b[0m\u001b[0mcall_context_key\u001b[0m\u001b[0;34m)\u001b[0m\u001b[0;34m\u001b[0m\u001b[0;34m\u001b[0m\u001b[0m\n\u001b[0;32m-> 3444\u001b[0;31m           \u001b[0mgraph_function\u001b[0m \u001b[0;34m=\u001b[0m \u001b[0mself\u001b[0m\u001b[0;34m.\u001b[0m\u001b[0m_create_graph_function\u001b[0m\u001b[0;34m(\u001b[0m\u001b[0margs\u001b[0m\u001b[0;34m,\u001b[0m \u001b[0mkwargs\u001b[0m\u001b[0;34m)\u001b[0m\u001b[0;34m\u001b[0m\u001b[0;34m\u001b[0m\u001b[0m\n\u001b[0m\u001b[1;32m   3445\u001b[0m           \u001b[0mself\u001b[0m\u001b[0;34m.\u001b[0m\u001b[0m_function_cache\u001b[0m\u001b[0;34m.\u001b[0m\u001b[0mprimary\u001b[0m\u001b[0;34m[\u001b[0m\u001b[0mcache_key\u001b[0m\u001b[0;34m]\u001b[0m \u001b[0;34m=\u001b[0m \u001b[0mgraph_function\u001b[0m\u001b[0;34m\u001b[0m\u001b[0;34m\u001b[0m\u001b[0m\n\u001b[1;32m   3446\u001b[0m \u001b[0;34m\u001b[0m\u001b[0m\n",
      "\u001b[0;32m~/miniconda3/envs/O/lib/python3.9/site-packages/tensorflow/python/eager/function.py\u001b[0m in \u001b[0;36m_create_graph_function\u001b[0;34m(self, args, kwargs, override_flat_arg_shapes)\u001b[0m\n\u001b[1;32m   3277\u001b[0m     \u001b[0marg_names\u001b[0m \u001b[0;34m=\u001b[0m \u001b[0mbase_arg_names\u001b[0m \u001b[0;34m+\u001b[0m \u001b[0mmissing_arg_names\u001b[0m\u001b[0;34m\u001b[0m\u001b[0;34m\u001b[0m\u001b[0m\n\u001b[1;32m   3278\u001b[0m     graph_function = ConcreteFunction(\n\u001b[0;32m-> 3279\u001b[0;31m         func_graph_module.func_graph_from_py_func(\n\u001b[0m\u001b[1;32m   3280\u001b[0m             \u001b[0mself\u001b[0m\u001b[0;34m.\u001b[0m\u001b[0m_name\u001b[0m\u001b[0;34m,\u001b[0m\u001b[0;34m\u001b[0m\u001b[0;34m\u001b[0m\u001b[0m\n\u001b[1;32m   3281\u001b[0m             \u001b[0mself\u001b[0m\u001b[0;34m.\u001b[0m\u001b[0m_python_function\u001b[0m\u001b[0;34m,\u001b[0m\u001b[0;34m\u001b[0m\u001b[0;34m\u001b[0m\u001b[0m\n",
      "\u001b[0;32m~/miniconda3/envs/O/lib/python3.9/site-packages/tensorflow/python/framework/func_graph.py\u001b[0m in \u001b[0;36mfunc_graph_from_py_func\u001b[0;34m(name, python_func, args, kwargs, signature, func_graph, autograph, autograph_options, add_control_dependencies, arg_names, op_return_value, collections, capture_by_value, override_flat_arg_shapes)\u001b[0m\n\u001b[1;32m   1038\u001b[0m         if x is not None)\n\u001b[1;32m   1039\u001b[0m \u001b[0;34m\u001b[0m\u001b[0m\n\u001b[0;32m-> 1040\u001b[0;31m     \u001b[0mfunc_graph\u001b[0m\u001b[0;34m.\u001b[0m\u001b[0mvariables\u001b[0m \u001b[0;34m=\u001b[0m \u001b[0mvariables\u001b[0m\u001b[0;34m\u001b[0m\u001b[0;34m\u001b[0m\u001b[0m\n\u001b[0m\u001b[1;32m   1041\u001b[0m \u001b[0;34m\u001b[0m\u001b[0m\n\u001b[1;32m   1042\u001b[0m   \u001b[0;32mif\u001b[0m \u001b[0madd_control_dependencies\u001b[0m\u001b[0;34m:\u001b[0m\u001b[0;34m\u001b[0m\u001b[0;34m\u001b[0m\u001b[0m\n",
      "\u001b[0;32m~/miniconda3/envs/O/lib/python3.9/site-packages/tensorflow/python/framework/auto_control_deps.py\u001b[0m in \u001b[0;36m__exit__\u001b[0;34m(self, unused_type, unused_value, unused_traceback)\u001b[0m\n\u001b[1;32m    409\u001b[0m       \u001b[0;31m# Check for any resource inputs. If we find any, we update control_inputs\u001b[0m\u001b[0;34m\u001b[0m\u001b[0;34m\u001b[0m\u001b[0m\n\u001b[1;32m    410\u001b[0m       \u001b[0;31m# and last_write_to_resource.\u001b[0m\u001b[0;34m\u001b[0m\u001b[0;34m\u001b[0m\u001b[0m\n\u001b[0;32m--> 411\u001b[0;31m       \u001b[0;32mfor\u001b[0m \u001b[0minp\u001b[0m\u001b[0;34m,\u001b[0m \u001b[0mresource_type\u001b[0m \u001b[0;32min\u001b[0m \u001b[0m_get_resource_inputs\u001b[0m\u001b[0;34m(\u001b[0m\u001b[0mop\u001b[0m\u001b[0;34m)\u001b[0m\u001b[0;34m:\u001b[0m\u001b[0;34m\u001b[0m\u001b[0;34m\u001b[0m\u001b[0m\n\u001b[0m\u001b[1;32m    412\u001b[0m         \u001b[0mis_read\u001b[0m \u001b[0;34m=\u001b[0m \u001b[0mresource_type\u001b[0m \u001b[0;34m==\u001b[0m \u001b[0mResourceType\u001b[0m\u001b[0;34m.\u001b[0m\u001b[0mREAD_ONLY\u001b[0m\u001b[0;34m\u001b[0m\u001b[0;34m\u001b[0m\u001b[0m\n\u001b[1;32m    413\u001b[0m         \u001b[0minput_id\u001b[0m \u001b[0;34m=\u001b[0m \u001b[0mops\u001b[0m\u001b[0;34m.\u001b[0m\u001b[0mtensor_id\u001b[0m\u001b[0;34m(\u001b[0m\u001b[0minp\u001b[0m\u001b[0;34m)\u001b[0m\u001b[0;34m\u001b[0m\u001b[0;34m\u001b[0m\u001b[0m\n",
      "\u001b[0;32m~/miniconda3/envs/O/lib/python3.9/site-packages/tensorflow/python/framework/auto_control_deps.py\u001b[0m in \u001b[0;36m_get_resource_inputs\u001b[0;34m(op)\u001b[0m\n\u001b[1;32m    532\u001b[0m \u001b[0;32mdef\u001b[0m \u001b[0m_get_resource_inputs\u001b[0m\u001b[0;34m(\u001b[0m\u001b[0mop\u001b[0m\u001b[0;34m)\u001b[0m\u001b[0;34m:\u001b[0m\u001b[0;34m\u001b[0m\u001b[0;34m\u001b[0m\u001b[0m\n\u001b[1;32m    533\u001b[0m   \u001b[0;34m\"\"\"Returns an iterable of resources touched by this `op`.\"\"\"\u001b[0m\u001b[0;34m\u001b[0m\u001b[0;34m\u001b[0m\u001b[0m\n\u001b[0;32m--> 534\u001b[0;31m   \u001b[0mreads\u001b[0m\u001b[0;34m,\u001b[0m \u001b[0mwrites\u001b[0m \u001b[0;34m=\u001b[0m \u001b[0mutils\u001b[0m\u001b[0;34m.\u001b[0m\u001b[0mget_read_write_resource_inputs\u001b[0m\u001b[0;34m(\u001b[0m\u001b[0mop\u001b[0m\u001b[0;34m)\u001b[0m\u001b[0;34m\u001b[0m\u001b[0;34m\u001b[0m\u001b[0m\n\u001b[0m\u001b[1;32m    535\u001b[0m   \u001b[0msaturated\u001b[0m \u001b[0;34m=\u001b[0m \u001b[0;32mFalse\u001b[0m\u001b[0;34m\u001b[0m\u001b[0;34m\u001b[0m\u001b[0m\n\u001b[1;32m    536\u001b[0m   \u001b[0;32mwhile\u001b[0m \u001b[0;32mnot\u001b[0m \u001b[0msaturated\u001b[0m\u001b[0;34m:\u001b[0m\u001b[0;34m\u001b[0m\u001b[0;34m\u001b[0m\u001b[0m\n",
      "\u001b[0;32m~/miniconda3/envs/O/lib/python3.9/site-packages/tensorflow/python/framework/auto_control_deps_utils.py\u001b[0m in \u001b[0;36mget_read_write_resource_inputs\u001b[0;34m(op)\u001b[0m\n\u001b[1;32m    107\u001b[0m \u001b[0;34m\u001b[0m\u001b[0m\n\u001b[1;32m    108\u001b[0m   \u001b[0;32mtry\u001b[0m\u001b[0;34m:\u001b[0m\u001b[0;34m\u001b[0m\u001b[0;34m\u001b[0m\u001b[0m\n\u001b[0;32m--> 109\u001b[0;31m     \u001b[0mread_only_input_indices\u001b[0m \u001b[0;34m=\u001b[0m \u001b[0mop\u001b[0m\u001b[0;34m.\u001b[0m\u001b[0mget_attr\u001b[0m\u001b[0;34m(\u001b[0m\u001b[0mREAD_ONLY_RESOURCE_INPUTS_ATTR\u001b[0m\u001b[0;34m)\u001b[0m\u001b[0;34m\u001b[0m\u001b[0;34m\u001b[0m\u001b[0m\n\u001b[0m\u001b[1;32m    110\u001b[0m   \u001b[0;32mexcept\u001b[0m \u001b[0mValueError\u001b[0m\u001b[0;34m:\u001b[0m\u001b[0;34m\u001b[0m\u001b[0;34m\u001b[0m\u001b[0m\n\u001b[1;32m    111\u001b[0m     \u001b[0;31m# Attr was not set. Add all resource inputs to `writes` and return.\u001b[0m\u001b[0;34m\u001b[0m\u001b[0;34m\u001b[0m\u001b[0m\n",
      "\u001b[0;32m~/miniconda3/envs/O/lib/python3.9/site-packages/tensorflow/python/framework/ops.py\u001b[0m in \u001b[0;36mget_attr\u001b[0;34m(self, name)\u001b[0m\n\u001b[1;32m   2558\u001b[0m     \u001b[0;32mtry\u001b[0m\u001b[0;34m:\u001b[0m\u001b[0;34m\u001b[0m\u001b[0;34m\u001b[0m\u001b[0m\n\u001b[1;32m   2559\u001b[0m       \u001b[0;32mwith\u001b[0m \u001b[0mc_api_util\u001b[0m\u001b[0;34m.\u001b[0m\u001b[0mtf_buffer\u001b[0m\u001b[0;34m(\u001b[0m\u001b[0;34m)\u001b[0m \u001b[0;32mas\u001b[0m \u001b[0mbuf\u001b[0m\u001b[0;34m:\u001b[0m\u001b[0;34m\u001b[0m\u001b[0;34m\u001b[0m\u001b[0m\n\u001b[0;32m-> 2560\u001b[0;31m         \u001b[0mpywrap_tf_session\u001b[0m\u001b[0;34m.\u001b[0m\u001b[0mTF_OperationGetAttrValueProto\u001b[0m\u001b[0;34m(\u001b[0m\u001b[0mself\u001b[0m\u001b[0;34m.\u001b[0m\u001b[0m_c_op\u001b[0m\u001b[0;34m,\u001b[0m \u001b[0mname\u001b[0m\u001b[0;34m,\u001b[0m \u001b[0mbuf\u001b[0m\u001b[0;34m)\u001b[0m\u001b[0;34m\u001b[0m\u001b[0;34m\u001b[0m\u001b[0m\n\u001b[0m\u001b[1;32m   2561\u001b[0m         \u001b[0mdata\u001b[0m \u001b[0;34m=\u001b[0m \u001b[0mpywrap_tf_session\u001b[0m\u001b[0;34m.\u001b[0m\u001b[0mTF_GetBuffer\u001b[0m\u001b[0;34m(\u001b[0m\u001b[0mbuf\u001b[0m\u001b[0;34m)\u001b[0m\u001b[0;34m\u001b[0m\u001b[0;34m\u001b[0m\u001b[0m\n\u001b[1;32m   2562\u001b[0m     \u001b[0;32mexcept\u001b[0m \u001b[0merrors\u001b[0m\u001b[0;34m.\u001b[0m\u001b[0mInvalidArgumentError\u001b[0m \u001b[0;32mas\u001b[0m \u001b[0me\u001b[0m\u001b[0;34m:\u001b[0m\u001b[0;34m\u001b[0m\u001b[0;34m\u001b[0m\u001b[0m\n",
      "\u001b[0;31mKeyboardInterrupt\u001b[0m: "
     ]
    }
   ],
   "source": [
    "R.run(images=images, masks=masks, weights=weights, runs=3)"
   ]
  },
  {
   "cell_type": "code",
   "execution_count": null,
   "id": "dab6fd49",
   "metadata": {},
   "outputs": [],
   "source": []
  },
  {
   "cell_type": "code",
   "execution_count": null,
   "id": "00075332",
   "metadata": {},
   "outputs": [],
   "source": [
    "R.classifier_scores"
   ]
  },
  {
   "cell_type": "code",
   "execution_count": null,
   "id": "35105656",
   "metadata": {},
   "outputs": [],
   "source": [
    "R.discriminator_scores"
   ]
  },
  {
   "cell_type": "code",
   "execution_count": null,
   "id": "e256ed4d",
   "metadata": {},
   "outputs": [],
   "source": [
    "R.plot()"
   ]
  },
  {
   "cell_type": "code",
   "execution_count": null,
   "id": "7dca2275",
   "metadata": {},
   "outputs": [],
   "source": []
  },
  {
   "cell_type": "code",
   "execution_count": 18,
   "id": "b1ec788d",
   "metadata": {},
   "outputs": [
    {
     "data": {
      "image/png": "[encoded data removed]",
      "text/plain": [
       "<Figure size 240x240 with 1 Axes>"
      ]
     },
     "metadata": {
      "needs_background": "light"
     },
     "output_type": "display_data"
    }
   ],
   "source": [
    "R.plot()"
   ]
  },
  {
   "cell_type": "code",
   "execution_count": null,
   "id": "0553618c",
   "metadata": {},
   "outputs": [],
   "source": []
  },
  {
   "cell_type": "code",
   "execution_count": null,
   "id": "40efc1ca",
   "metadata": {},
   "outputs": [],
   "source": []
  },
  {
   "cell_type": "code",
   "execution_count": null,
   "id": "52194054",
   "metadata": {},
   "outputs": [],
   "source": []
  },
  {
   "cell_type": "code",
   "execution_count": null,
   "id": "af59bc12",
   "metadata": {},
   "outputs": [],
   "source": []
  },
  {
   "cell_type": "code",
   "execution_count": 17,
   "id": "0a721a90",
   "metadata": {},
   "outputs": [
    {
     "data": {
      "image/png": "[encoded data removed]",
      "text/plain": [
       "<Figure size 240x240 with 1 Axes>"
      ]
     },
     "metadata": {
      "needs_background": "light"
     },
     "output_type": "display_data"
    }
   ],
   "source": [
    "R.plot()"
   ]
  },
  {
   "cell_type": "code",
   "execution_count": null,
   "id": "551de181",
   "metadata": {},
   "outputs": [],
   "source": []
  }
 ],
 "metadata": {
  "kernelspec": {
   "display_name": "Python 3 (ipykernel)",
   "language": "python",
   "name": "python3"
  },
  "language_info": {
   "codemirror_mode": {
    "name": "ipython",
    "version": 3
   },
   "file_extension": ".py",
   "mimetype": "text/x-python",
   "name": "python",
   "nbconvert_exporter": "python",
   "pygments_lexer": "ipython3",
   "version": "3.9.7"
  }
 },
 "nbformat": 4,
 "nbformat_minor": 5
}
