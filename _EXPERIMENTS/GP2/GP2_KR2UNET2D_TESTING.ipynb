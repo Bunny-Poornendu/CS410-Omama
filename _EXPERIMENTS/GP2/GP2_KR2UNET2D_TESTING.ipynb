{
 "cells": [
  {
   "cell_type": "code",
   "execution_count": 1,
   "id": "06c4accc",
   "metadata": {},
   "outputs": [
    {
     "name": "stdout",
     "output_type": "stream",
     "text": [
      "Populating the interactive namespace from numpy and matplotlib\n"
     ]
    }
   ],
   "source": [
    "%pylab inline\n",
    "%load_ext autoreload\n",
    "%autoreload 2"
   ]
  },
  {
   "cell_type": "code",
   "execution_count": 2,
   "id": "b9e78ed8",
   "metadata": {},
   "outputs": [
    {
     "name": "stderr",
     "output_type": "stream",
     "text": [
      "2023-04-25 13:21:53.708383: I tensorflow/stream_executor/platform/default/dso_loader.cc:53] Successfully opened dynamic library libcudart.so.11.0\n",
      "2023-04-25 13:21:55.125429: I tensorflow/stream_executor/platform/default/dso_loader.cc:53] Successfully opened dynamic library libcuda.so.1\n",
      "2023-04-25 13:21:55.171862: I tensorflow/core/common_runtime/gpu/gpu_device.cc:1733] Found device 0 with properties: \n",
      "pciBusID: 0000:0f:00.0 name: A100-SXM4-40GB computeCapability: 8.0\n",
      "coreClock: 1.41GHz coreCount: 108 deviceMemorySize: 39.59GiB deviceMemoryBandwidth: 1.41TiB/s\n",
      "2023-04-25 13:21:55.174419: I tensorflow/core/common_runtime/gpu/gpu_device.cc:1733] Found device 1 with properties: \n",
      "pciBusID: 0000:47:00.0 name: A100-SXM4-40GB computeCapability: 8.0\n",
      "coreClock: 1.41GHz coreCount: 108 deviceMemorySize: 39.59GiB deviceMemoryBandwidth: 1.41TiB/s\n",
      "2023-04-25 13:21:55.174434: I tensorflow/stream_executor/platform/default/dso_loader.cc:53] Successfully opened dynamic library libcudart.so.11.0\n",
      "2023-04-25 13:21:55.177861: I tensorflow/stream_executor/platform/default/dso_loader.cc:53] Successfully opened dynamic library libcublas.so.11\n",
      "2023-04-25 13:21:55.177892: I tensorflow/stream_executor/platform/default/dso_loader.cc:53] Successfully opened dynamic library libcublasLt.so.11\n",
      "2023-04-25 13:21:55.178840: I tensorflow/stream_executor/platform/default/dso_loader.cc:53] Successfully opened dynamic library libcufft.so.10\n",
      "2023-04-25 13:21:55.179187: I tensorflow/stream_executor/platform/default/dso_loader.cc:53] Successfully opened dynamic library libcurand.so.10\n",
      "2023-04-25 13:21:55.179976: I tensorflow/stream_executor/platform/default/dso_loader.cc:53] Successfully opened dynamic library libcusolver.so.11\n",
      "2023-04-25 13:21:55.180790: I tensorflow/stream_executor/platform/default/dso_loader.cc:53] Successfully opened dynamic library libcusparse.so.11\n",
      "2023-04-25 13:21:55.181093: I tensorflow/stream_executor/platform/default/dso_loader.cc:53] Successfully opened dynamic library libcudnn.so.8\n",
      "2023-04-25 13:21:55.191484: I tensorflow/core/common_runtime/gpu/gpu_device.cc:1871] Adding visible gpu devices: 0, 1\n"
     ]
    }
   ],
   "source": [
    "import time\n",
    "import sys\n",
    "sys.path.insert(0,'../..')\n",
    "from keras import losses, metrics\n",
    "from tensorflow.keras import optimizers\n",
    "import gp2\n",
    "from gp2 import Runner"
   ]
  },
  {
   "cell_type": "code",
   "execution_count": 3,
   "id": "06312ed2",
   "metadata": {},
   "outputs": [
    {
     "name": "stdout",
     "output_type": "stream",
     "text": [
      "Help on class KR2UNet2dD in module gp2.gp2.classifiers.k_r2_unet2d:\n",
      "\n",
      "class KR2UNet2dD(gp2.gp2.classifiers.base_keras_segmentation_classifier.BaseKerasSegmentationClassifier)\n",
      " |  KR2UNet2dD(input_size=(512, 512, 1), filter_num=None, n_labels=1, stack_num_down=2, stack_num_up=2, recur_num=2, activation='PReLU', output_activation='Sigmoid', batch_norm=False, pool=False, unpool=False, name='r2_unet', optimizer=None, loss=None, metric=None, verbose=False, workingdir='/tmp')\n",
      " |  \n",
      " |  Keras UNet2D\n",
      " |  \n",
      " |  Method resolution order:\n",
      " |      KR2UNet2dD\n",
      " |      gp2.gp2.classifiers.base_keras_segmentation_classifier.BaseKerasSegmentationClassifier\n",
      " |      gp2.gp2.classifiers.classifier.Classifier\n",
      " |      builtins.object\n",
      " |  \n",
      " |  Methods defined here:\n",
      " |  \n",
      " |  __init__(self, input_size=(512, 512, 1), filter_num=None, n_labels=1, stack_num_down=2, stack_num_up=2, recur_num=2, activation='PReLU', output_activation='Sigmoid', batch_norm=False, pool=False, unpool=False, name='r2_unet', optimizer=None, loss=None, metric=None, verbose=False, workingdir='/tmp')\n",
      " |      Recurrent Residual (R2) U-Net\n",
      " |      \n",
      " |      r2_unet_2d(input_size, filter_num, n_labels,\n",
      " |                 stack_num_down=2, stack_num_up=2, recur_num=2,\n",
      " |                 activation='ReLU', output_activation='Softmax',\n",
      " |                 batch_norm=False, pool=True, unpool=True, name='r2_unet')\n",
      " |      \n",
      " |      ----------\n",
      " |      Alom, M.Z., Hasan, M., Yakopcic, C., Taha, T.M. and Asari, V.K., 2018. Recurrent residual convolutional neural network\n",
      " |      based on u-net (r2u-net) for medical image segmentation. arXiv preprint arXiv:1802.06955.\n",
      " |      \n",
      " |      Input\n",
      " |      ----------\n",
      " |          input_size: the size/shape of network input, e.g., `(128, 128, 3)`.\n",
      " |          filter_num: a list that defines the number of filters for each                         down- and upsampling levels. e.g., `[64, 128, 256, 512]`.\n",
      " |                      The depth is expected as `len(filter_num)`.\n",
      " |          n_labels: number of output labels.\n",
      " |          stack_num_down: number of stacked recurrent convolutional layers per downsampling level/block.\n",
      " |          stack_num_down: number of stacked recurrent convolutional layers per upsampling level/block.\n",
      " |          recur_num: number of recurrent iterations.\n",
      " |          activation: one of the `tensorflow.keras.layers` or `keras_unet_collection.activations` interfaces, e.g., 'ReLU'.\n",
      " |          output_activation: one of the `tensorflow.keras.layers` or `keras_unet_collection.activations` interface or 'Sigmoid'.\n",
      " |                             Default option is 'Softmax'.\n",
      " |                             if None is received, then linear activation is applied.\n",
      " |          batch_norm: True for batch normalization.\n",
      " |          pool: True or 'max' for MaxPooling2D.\n",
      " |                'ave' for AveragePooling2D.\n",
      " |                False for strided conv + batch norm + activation.\n",
      " |          unpool: True or 'bilinear' for Upsampling2D with bilinear interpolation.\n",
      " |                  'nearest' for Upsampling2D with nearest interpolation.\n",
      " |                  False for Conv2DTranspose + batch norm + activation.\n",
      " |          name: prefix of the created keras layers.\n",
      " |      \n",
      " |      Output\n",
      " |      ----------\n",
      " |          model: a keras model.\n",
      " |  \n",
      " |  ----------------------------------------------------------------------\n",
      " |  Methods inherited from gp2.gp2.classifiers.base_keras_segmentation_classifier.BaseKerasSegmentationClassifier:\n",
      " |  \n",
      " |  __str__(self)\n",
      " |      Return str(self).\n",
      " |  \n",
      " |  build(self)\n",
      " |  \n",
      " |  predict(self, X_test, y_pred, threshold=0.5)\n",
      " |  \n",
      " |  train(self, X_train, y_train, X_val, y_val, patience_counter=2, batch_size=64, epochs=100, call_backs=None)\n",
      " |  \n",
      " |  ----------------------------------------------------------------------\n",
      " |  Data descriptors inherited from gp2.gp2.classifiers.classifier.Classifier:\n",
      " |  \n",
      " |  __dict__\n",
      " |      dictionary for instance variables (if defined)\n",
      " |  \n",
      " |  __weakref__\n",
      " |      list of weak references to the object (if defined)\n",
      "\n"
     ]
    }
   ],
   "source": [
    "help(gp2.KR2UNet2dD)"
   ]
  },
  {
   "cell_type": "code",
   "execution_count": null,
   "id": "550c14d7",
   "metadata": {},
   "outputs": [],
   "source": []
  },
  {
   "cell_type": "code",
   "execution_count": 4,
   "id": "bdc75325",
   "metadata": {},
   "outputs": [
    {
     "name": "stderr",
     "output_type": "stream",
     "text": [
      "2023-04-25 13:21:55.335036: I tensorflow/core/platform/cpu_feature_guard.cc:142] This TensorFlow binary is optimized with oneAPI Deep Neural Network Library (oneDNN) to use the following CPU instructions in performance-critical operations:  AVX2 FMA\n",
      "To enable them in other operations, rebuild TensorFlow with the appropriate compiler flags.\n",
      "2023-04-25 13:21:55.592631: I tensorflow/core/common_runtime/gpu/gpu_device.cc:1733] Found device 0 with properties: \n",
      "pciBusID: 0000:0f:00.0 name: A100-SXM4-40GB computeCapability: 8.0\n",
      "coreClock: 1.41GHz coreCount: 108 deviceMemorySize: 39.59GiB deviceMemoryBandwidth: 1.41TiB/s\n",
      "2023-04-25 13:21:55.595337: I tensorflow/core/common_runtime/gpu/gpu_device.cc:1733] Found device 1 with properties: \n",
      "pciBusID: 0000:47:00.0 name: A100-SXM4-40GB computeCapability: 8.0\n",
      "coreClock: 1.41GHz coreCount: 108 deviceMemorySize: 39.59GiB deviceMemoryBandwidth: 1.41TiB/s\n",
      "2023-04-25 13:21:55.604811: I tensorflow/core/common_runtime/gpu/gpu_device.cc:1871] Adding visible gpu devices: 0, 1\n",
      "2023-04-25 13:21:55.604866: I tensorflow/stream_executor/platform/default/dso_loader.cc:53] Successfully opened dynamic library libcudart.so.11.0\n",
      "2023-04-25 13:21:56.457378: I tensorflow/core/common_runtime/gpu/gpu_device.cc:1258] Device interconnect StreamExecutor with strength 1 edge matrix:\n",
      "2023-04-25 13:21:56.457430: I tensorflow/core/common_runtime/gpu/gpu_device.cc:1264]      0 1 \n",
      "2023-04-25 13:21:56.457436: I tensorflow/core/common_runtime/gpu/gpu_device.cc:1277] 0:   N Y \n",
      "2023-04-25 13:21:56.457440: I tensorflow/core/common_runtime/gpu/gpu_device.cc:1277] 1:   Y N \n",
      "2023-04-25 13:21:56.470012: I tensorflow/core/common_runtime/gpu/gpu_device.cc:1418] Created TensorFlow device (/job:localhost/replica:0/task:0/device:GPU:0 with 38425 MB memory) -> physical GPU (device: 0, name: A100-SXM4-40GB, pci bus id: 0000:0f:00.0, compute capability: 8.0)\n",
      "2023-04-25 13:21:56.472699: I tensorflow/core/common_runtime/gpu/gpu_device.cc:1418] Created TensorFlow device (/job:localhost/replica:0/task:0/device:GPU:1 with 38425 MB memory) -> physical GPU (device: 1, name: A100-SXM4-40GB, pci bus id: 0000:47:00.0, compute capability: 8.0)\n"
     ]
    },
    {
     "name": "stdout",
     "output_type": "stream",
     "text": [
      "*** GP2 R2UNet2dD ***\n",
      "Working directory: /tmp/tmp0z5f50n3GP2\n",
      "Verbose mode active!\n",
      "{'verbose': True, 'workingdir': '/tmp/tmp0z5f50n3GP2', 'input_size': (512, 512, 1), 'filter_num': [16, 32, 64, 128], 'stack_num_down': 2, 'stack_num_up': 2, 'recur_num': 1, 'n_labels': 1, 'activation': 'ReLU', 'output_activation': 'Sigmoid', 'batch_norm': False, 'pool': True, 'unpool': True, 'name': 'r2_unet', 'optimizer': <tensorflow.python.keras.optimizer_v2.adam.Adam object at 0x7ff1a01379a0>, 'loss': <function binary_crossentropy at 0x7ff1a8195b80>, 'metric': [<function binary_accuracy at 0x7ff1a803faf0>], 'model': <tensorflow.python.keras.engine.functional.Functional object at 0x7ff18c9c1250>}\n",
      "Model summary:\n",
      "Model: \"r2_unet_model\"\n",
      "__________________________________________________________________________________________________\n",
      "Layer (type)                    Output Shape         Param #     Connected to                     \n",
      "==================================================================================================\n",
      "r2_unet_input (InputLayer)      [(None, 512, 512, 1) 0                                            \n",
      "__________________________________________________________________________________________________\n",
      "r2_unet_down0_conv (Conv2D)     (None, 512, 512, 16) 32          r2_unet_input[0][0]              \n",
      "__________________________________________________________________________________________________\n",
      "r2_unet_down0_conv0 (Conv2D)    (None, 512, 512, 16) 2320        r2_unet_down0_conv[0][0]         \n",
      "__________________________________________________________________________________________________\n",
      "r2_unet_down0_activation0 (ReLU (None, 512, 512, 16) 0           r2_unet_down0_conv0[0][0]        \n",
      "__________________________________________________________________________________________________\n",
      "r2_unet_down0_add0_0 (Add)      (None, 512, 512, 16) 0           r2_unet_down0_activation0[0][0]  \n",
      "                                                                 r2_unet_down0_conv[0][0]         \n",
      "__________________________________________________________________________________________________\n",
      "r2_unet_down0_conv0_0 (Conv2D)  (None, 512, 512, 16) 2320        r2_unet_down0_add0_0[0][0]       \n",
      "__________________________________________________________________________________________________\n",
      "r2_unet_down0_activation0_0 (Re (None, 512, 512, 16) 0           r2_unet_down0_conv0_0[0][0]      \n",
      "__________________________________________________________________________________________________\n",
      "r2_unet_down0_conv1 (Conv2D)    (None, 512, 512, 16) 2320        r2_unet_down0_activation0_0[0][0]\n",
      "__________________________________________________________________________________________________\n",
      "r2_unet_down0_activation1 (ReLU (None, 512, 512, 16) 0           r2_unet_down0_conv1[0][0]        \n",
      "__________________________________________________________________________________________________\n",
      "r2_unet_down0_add1_0 (Add)      (None, 512, 512, 16) 0           r2_unet_down0_activation1[0][0]  \n",
      "                                                                 r2_unet_down0_activation0_0[0][0]\n",
      "__________________________________________________________________________________________________\n",
      "r2_unet_down0_conv1_0 (Conv2D)  (None, 512, 512, 16) 2320        r2_unet_down0_add1_0[0][0]       \n",
      "__________________________________________________________________________________________________\n",
      "r2_unet_down0_activation1_0 (Re (None, 512, 512, 16) 0           r2_unet_down0_conv1_0[0][0]      \n",
      "__________________________________________________________________________________________________\n",
      "r2_unet_down0_add1 (Add)        (None, 512, 512, 16) 0           r2_unet_down0_activation1_0[0][0]\n",
      "                                                                 r2_unet_down0_conv[0][0]         \n",
      "__________________________________________________________________________________________________\n",
      "r2_unet_down1_encode_maxpool (M (None, 256, 256, 16) 0           r2_unet_down0_add1[0][0]         \n",
      "__________________________________________________________________________________________________\n",
      "r2_unet_down1_conv (Conv2D)     (None, 256, 256, 32) 544         r2_unet_down1_encode_maxpool[0][0\n",
      "__________________________________________________________________________________________________\n",
      "r2_unet_down1_conv0 (Conv2D)    (None, 256, 256, 32) 9248        r2_unet_down1_conv[0][0]         \n",
      "__________________________________________________________________________________________________\n",
      "r2_unet_down1_activation0 (ReLU (None, 256, 256, 32) 0           r2_unet_down1_conv0[0][0]        \n",
      "__________________________________________________________________________________________________\n",
      "r2_unet_down1_add0_0 (Add)      (None, 256, 256, 32) 0           r2_unet_down1_activation0[0][0]  \n",
      "                                                                 r2_unet_down1_conv[0][0]         \n",
      "__________________________________________________________________________________________________\n",
      "r2_unet_down1_conv0_0 (Conv2D)  (None, 256, 256, 32) 9248        r2_unet_down1_add0_0[0][0]       \n",
      "__________________________________________________________________________________________________\n",
      "r2_unet_down1_activation0_0 (Re (None, 256, 256, 32) 0           r2_unet_down1_conv0_0[0][0]      \n",
      "__________________________________________________________________________________________________\n",
      "r2_unet_down1_conv1 (Conv2D)    (None, 256, 256, 32) 9248        r2_unet_down1_activation0_0[0][0]\n",
      "__________________________________________________________________________________________________\n",
      "r2_unet_down1_activation1 (ReLU (None, 256, 256, 32) 0           r2_unet_down1_conv1[0][0]        \n",
      "__________________________________________________________________________________________________\n",
      "r2_unet_down1_add1_0 (Add)      (None, 256, 256, 32) 0           r2_unet_down1_activation1[0][0]  \n",
      "                                                                 r2_unet_down1_activation0_0[0][0]\n",
      "__________________________________________________________________________________________________\n",
      "r2_unet_down1_conv1_0 (Conv2D)  (None, 256, 256, 32) 9248        r2_unet_down1_add1_0[0][0]       \n",
      "__________________________________________________________________________________________________\n",
      "r2_unet_down1_activation1_0 (Re (None, 256, 256, 32) 0           r2_unet_down1_conv1_0[0][0]      \n",
      "__________________________________________________________________________________________________\n",
      "r2_unet_down1_add1 (Add)        (None, 256, 256, 32) 0           r2_unet_down1_activation1_0[0][0]\n",
      "                                                                 r2_unet_down1_conv[0][0]         \n",
      "__________________________________________________________________________________________________\n",
      "r2_unet_down2_encode_maxpool (M (None, 128, 128, 32) 0           r2_unet_down1_add1[0][0]         \n",
      "__________________________________________________________________________________________________\n",
      "r2_unet_down2_conv (Conv2D)     (None, 128, 128, 64) 2112        r2_unet_down2_encode_maxpool[0][0\n",
      "__________________________________________________________________________________________________\n",
      "r2_unet_down2_conv0 (Conv2D)    (None, 128, 128, 64) 36928       r2_unet_down2_conv[0][0]         \n",
      "__________________________________________________________________________________________________\n",
      "r2_unet_down2_activation0 (ReLU (None, 128, 128, 64) 0           r2_unet_down2_conv0[0][0]        \n",
      "__________________________________________________________________________________________________\n",
      "r2_unet_down2_add0_0 (Add)      (None, 128, 128, 64) 0           r2_unet_down2_activation0[0][0]  \n",
      "                                                                 r2_unet_down2_conv[0][0]         \n",
      "__________________________________________________________________________________________________\n",
      "r2_unet_down2_conv0_0 (Conv2D)  (None, 128, 128, 64) 36928       r2_unet_down2_add0_0[0][0]       \n",
      "__________________________________________________________________________________________________\n",
      "r2_unet_down2_activation0_0 (Re (None, 128, 128, 64) 0           r2_unet_down2_conv0_0[0][0]      \n",
      "__________________________________________________________________________________________________\n",
      "r2_unet_down2_conv1 (Conv2D)    (None, 128, 128, 64) 36928       r2_unet_down2_activation0_0[0][0]\n",
      "__________________________________________________________________________________________________\n",
      "r2_unet_down2_activation1 (ReLU (None, 128, 128, 64) 0           r2_unet_down2_conv1[0][0]        \n",
      "__________________________________________________________________________________________________\n",
      "r2_unet_down2_add1_0 (Add)      (None, 128, 128, 64) 0           r2_unet_down2_activation1[0][0]  \n",
      "                                                                 r2_unet_down2_activation0_0[0][0]\n",
      "__________________________________________________________________________________________________\n",
      "r2_unet_down2_conv1_0 (Conv2D)  (None, 128, 128, 64) 36928       r2_unet_down2_add1_0[0][0]       \n",
      "__________________________________________________________________________________________________\n",
      "r2_unet_down2_activation1_0 (Re (None, 128, 128, 64) 0           r2_unet_down2_conv1_0[0][0]      \n",
      "__________________________________________________________________________________________________\n",
      "r2_unet_down2_add1 (Add)        (None, 128, 128, 64) 0           r2_unet_down2_activation1_0[0][0]\n",
      "                                                                 r2_unet_down2_conv[0][0]         \n",
      "__________________________________________________________________________________________________\n",
      "r2_unet_down3_encode_maxpool (M (None, 64, 64, 64)   0           r2_unet_down2_add1[0][0]         \n",
      "__________________________________________________________________________________________________\n",
      "r2_unet_down3_conv (Conv2D)     (None, 64, 64, 128)  8320        r2_unet_down3_encode_maxpool[0][0\n",
      "__________________________________________________________________________________________________\n",
      "r2_unet_down3_conv0 (Conv2D)    (None, 64, 64, 128)  147584      r2_unet_down3_conv[0][0]         \n",
      "__________________________________________________________________________________________________\n",
      "r2_unet_down3_activation0 (ReLU (None, 64, 64, 128)  0           r2_unet_down3_conv0[0][0]        \n",
      "__________________________________________________________________________________________________\n",
      "r2_unet_down3_add0_0 (Add)      (None, 64, 64, 128)  0           r2_unet_down3_activation0[0][0]  \n",
      "                                                                 r2_unet_down3_conv[0][0]         \n",
      "__________________________________________________________________________________________________\n",
      "r2_unet_down3_conv0_0 (Conv2D)  (None, 64, 64, 128)  147584      r2_unet_down3_add0_0[0][0]       \n",
      "__________________________________________________________________________________________________\n",
      "r2_unet_down3_activation0_0 (Re (None, 64, 64, 128)  0           r2_unet_down3_conv0_0[0][0]      \n",
      "__________________________________________________________________________________________________\n",
      "r2_unet_down3_conv1 (Conv2D)    (None, 64, 64, 128)  147584      r2_unet_down3_activation0_0[0][0]\n",
      "__________________________________________________________________________________________________\n",
      "r2_unet_down3_activation1 (ReLU (None, 64, 64, 128)  0           r2_unet_down3_conv1[0][0]        \n",
      "__________________________________________________________________________________________________\n",
      "r2_unet_down3_add1_0 (Add)      (None, 64, 64, 128)  0           r2_unet_down3_activation1[0][0]  \n",
      "                                                                 r2_unet_down3_activation0_0[0][0]\n",
      "__________________________________________________________________________________________________\n",
      "r2_unet_down3_conv1_0 (Conv2D)  (None, 64, 64, 128)  147584      r2_unet_down3_add1_0[0][0]       \n",
      "__________________________________________________________________________________________________\n",
      "r2_unet_down3_activation1_0 (Re (None, 64, 64, 128)  0           r2_unet_down3_conv1_0[0][0]      \n",
      "__________________________________________________________________________________________________\n",
      "r2_unet_down3_add1 (Add)        (None, 64, 64, 128)  0           r2_unet_down3_activation1_0[0][0]\n",
      "                                                                 r2_unet_down3_conv[0][0]         \n",
      "__________________________________________________________________________________________________\n",
      "r2_unet_up1_decode_unpool (UpSa (None, 128, 128, 128 0           r2_unet_down3_add1[0][0]         \n",
      "__________________________________________________________________________________________________\n",
      "r2_unet_up1_conv_before_concat_ (None, 128, 128, 64) 73792       r2_unet_up1_decode_unpool[0][0]  \n",
      "__________________________________________________________________________________________________\n",
      "r2_unet_up1_conv_before_concat_ (None, 128, 128, 64) 0           r2_unet_up1_conv_before_concat_0[\n",
      "__________________________________________________________________________________________________\n",
      "r2_unet_up1_concat (Concatenate (None, 128, 128, 128 0           r2_unet_up1_conv_before_concat_0_\n",
      "                                                                 r2_unet_down2_add1[0][0]         \n",
      "__________________________________________________________________________________________________\n",
      "r2_unet_up1_conv (Conv2D)       (None, 128, 128, 64) 8256        r2_unet_up1_concat[0][0]         \n",
      "__________________________________________________________________________________________________\n",
      "r2_unet_up1_conv0 (Conv2D)      (None, 128, 128, 64) 36928       r2_unet_up1_conv[0][0]           \n",
      "__________________________________________________________________________________________________\n",
      "r2_unet_up1_activation0 (ReLU)  (None, 128, 128, 64) 0           r2_unet_up1_conv0[0][0]          \n",
      "__________________________________________________________________________________________________\n",
      "r2_unet_up1_add0_0 (Add)        (None, 128, 128, 64) 0           r2_unet_up1_activation0[0][0]    \n",
      "                                                                 r2_unet_up1_conv[0][0]           \n",
      "__________________________________________________________________________________________________\n",
      "r2_unet_up1_conv0_0 (Conv2D)    (None, 128, 128, 64) 36928       r2_unet_up1_add0_0[0][0]         \n",
      "__________________________________________________________________________________________________\n",
      "r2_unet_up1_activation0_0 (ReLU (None, 128, 128, 64) 0           r2_unet_up1_conv0_0[0][0]        \n",
      "__________________________________________________________________________________________________\n",
      "r2_unet_up1_conv1 (Conv2D)      (None, 128, 128, 64) 36928       r2_unet_up1_activation0_0[0][0]  \n",
      "__________________________________________________________________________________________________\n",
      "r2_unet_up1_activation1 (ReLU)  (None, 128, 128, 64) 0           r2_unet_up1_conv1[0][0]          \n",
      "__________________________________________________________________________________________________\n",
      "r2_unet_up1_add1_0 (Add)        (None, 128, 128, 64) 0           r2_unet_up1_activation1[0][0]    \n",
      "                                                                 r2_unet_up1_activation0_0[0][0]  \n",
      "__________________________________________________________________________________________________\n",
      "r2_unet_up1_conv1_0 (Conv2D)    (None, 128, 128, 64) 36928       r2_unet_up1_add1_0[0][0]         \n",
      "__________________________________________________________________________________________________\n",
      "r2_unet_up1_activation1_0 (ReLU (None, 128, 128, 64) 0           r2_unet_up1_conv1_0[0][0]        \n",
      "__________________________________________________________________________________________________\n",
      "r2_unet_up1_add1 (Add)          (None, 128, 128, 64) 0           r2_unet_up1_activation1_0[0][0]  \n",
      "                                                                 r2_unet_up1_conv[0][0]           \n",
      "__________________________________________________________________________________________________\n",
      "r2_unet_up2_decode_unpool (UpSa (None, 256, 256, 64) 0           r2_unet_up1_add1[0][0]           \n",
      "__________________________________________________________________________________________________\n",
      "r2_unet_up2_conv_before_concat_ (None, 256, 256, 32) 18464       r2_unet_up2_decode_unpool[0][0]  \n",
      "__________________________________________________________________________________________________\n",
      "r2_unet_up2_conv_before_concat_ (None, 256, 256, 32) 0           r2_unet_up2_conv_before_concat_0[\n",
      "__________________________________________________________________________________________________\n",
      "r2_unet_up2_concat (Concatenate (None, 256, 256, 64) 0           r2_unet_up2_conv_before_concat_0_\n",
      "                                                                 r2_unet_down1_add1[0][0]         \n",
      "__________________________________________________________________________________________________\n",
      "r2_unet_up2_conv (Conv2D)       (None, 256, 256, 32) 2080        r2_unet_up2_concat[0][0]         \n",
      "__________________________________________________________________________________________________\n",
      "r2_unet_up2_conv0 (Conv2D)      (None, 256, 256, 32) 9248        r2_unet_up2_conv[0][0]           \n",
      "__________________________________________________________________________________________________\n",
      "r2_unet_up2_activation0 (ReLU)  (None, 256, 256, 32) 0           r2_unet_up2_conv0[0][0]          \n",
      "__________________________________________________________________________________________________\n",
      "r2_unet_up2_add0_0 (Add)        (None, 256, 256, 32) 0           r2_unet_up2_activation0[0][0]    \n",
      "                                                                 r2_unet_up2_conv[0][0]           \n",
      "__________________________________________________________________________________________________\n",
      "r2_unet_up2_conv0_0 (Conv2D)    (None, 256, 256, 32) 9248        r2_unet_up2_add0_0[0][0]         \n",
      "__________________________________________________________________________________________________\n",
      "r2_unet_up2_activation0_0 (ReLU (None, 256, 256, 32) 0           r2_unet_up2_conv0_0[0][0]        \n",
      "__________________________________________________________________________________________________\n",
      "r2_unet_up2_conv1 (Conv2D)      (None, 256, 256, 32) 9248        r2_unet_up2_activation0_0[0][0]  \n",
      "__________________________________________________________________________________________________\n",
      "r2_unet_up2_activation1 (ReLU)  (None, 256, 256, 32) 0           r2_unet_up2_conv1[0][0]          \n",
      "__________________________________________________________________________________________________\n",
      "r2_unet_up2_add1_0 (Add)        (None, 256, 256, 32) 0           r2_unet_up2_activation1[0][0]    \n",
      "                                                                 r2_unet_up2_activation0_0[0][0]  \n",
      "__________________________________________________________________________________________________\n",
      "r2_unet_up2_conv1_0 (Conv2D)    (None, 256, 256, 32) 9248        r2_unet_up2_add1_0[0][0]         \n",
      "__________________________________________________________________________________________________\n",
      "r2_unet_up2_activation1_0 (ReLU (None, 256, 256, 32) 0           r2_unet_up2_conv1_0[0][0]        \n",
      "__________________________________________________________________________________________________\n",
      "r2_unet_up2_add1 (Add)          (None, 256, 256, 32) 0           r2_unet_up2_activation1_0[0][0]  \n",
      "                                                                 r2_unet_up2_conv[0][0]           \n",
      "__________________________________________________________________________________________________\n",
      "r2_unet_up3_decode_unpool (UpSa (None, 512, 512, 32) 0           r2_unet_up2_add1[0][0]           \n",
      "__________________________________________________________________________________________________\n",
      "r2_unet_up3_conv_before_concat_ (None, 512, 512, 16) 4624        r2_unet_up3_decode_unpool[0][0]  \n",
      "__________________________________________________________________________________________________\n",
      "r2_unet_up3_conv_before_concat_ (None, 512, 512, 16) 0           r2_unet_up3_conv_before_concat_0[\n",
      "__________________________________________________________________________________________________\n",
      "r2_unet_up3_concat (Concatenate (None, 512, 512, 32) 0           r2_unet_up3_conv_before_concat_0_\n",
      "                                                                 r2_unet_down0_add1[0][0]         \n",
      "__________________________________________________________________________________________________\n",
      "r2_unet_up3_conv (Conv2D)       (None, 512, 512, 16) 528         r2_unet_up3_concat[0][0]         \n",
      "__________________________________________________________________________________________________\n",
      "r2_unet_up3_conv0 (Conv2D)      (None, 512, 512, 16) 2320        r2_unet_up3_conv[0][0]           \n",
      "__________________________________________________________________________________________________\n",
      "r2_unet_up3_activation0 (ReLU)  (None, 512, 512, 16) 0           r2_unet_up3_conv0[0][0]          \n",
      "__________________________________________________________________________________________________\n",
      "r2_unet_up3_add0_0 (Add)        (None, 512, 512, 16) 0           r2_unet_up3_activation0[0][0]    \n",
      "                                                                 r2_unet_up3_conv[0][0]           \n",
      "__________________________________________________________________________________________________\n",
      "r2_unet_up3_conv0_0 (Conv2D)    (None, 512, 512, 16) 2320        r2_unet_up3_add0_0[0][0]         \n",
      "__________________________________________________________________________________________________\n",
      "r2_unet_up3_activation0_0 (ReLU (None, 512, 512, 16) 0           r2_unet_up3_conv0_0[0][0]        \n",
      "__________________________________________________________________________________________________\n",
      "r2_unet_up3_conv1 (Conv2D)      (None, 512, 512, 16) 2320        r2_unet_up3_activation0_0[0][0]  \n",
      "__________________________________________________________________________________________________\n",
      "r2_unet_up3_activation1 (ReLU)  (None, 512, 512, 16) 0           r2_unet_up3_conv1[0][0]          \n",
      "__________________________________________________________________________________________________\n",
      "r2_unet_up3_add1_0 (Add)        (None, 512, 512, 16) 0           r2_unet_up3_activation1[0][0]    \n",
      "                                                                 r2_unet_up3_activation0_0[0][0]  \n",
      "__________________________________________________________________________________________________\n",
      "r2_unet_up3_conv1_0 (Conv2D)    (None, 512, 512, 16) 2320        r2_unet_up3_add1_0[0][0]         \n",
      "__________________________________________________________________________________________________\n",
      "r2_unet_up3_activation1_0 (ReLU (None, 512, 512, 16) 0           r2_unet_up3_conv1_0[0][0]        \n",
      "__________________________________________________________________________________________________\n",
      "r2_unet_up3_add1 (Add)          (None, 512, 512, 16) 0           r2_unet_up3_activation1_0[0][0]  \n",
      "                                                                 r2_unet_up3_conv[0][0]           \n",
      "__________________________________________________________________________________________________\n",
      "r2_unet_output (Conv2D)         (None, 512, 512, 1)  17          r2_unet_up3_add1[0][0]           \n",
      "__________________________________________________________________________________________________\n",
      "r2_unet_output_activation (Acti (None, 512, 512, 1)  0           r2_unet_output[0][0]             \n",
      "==================================================================================================\n",
      "Total params: 1,097,073\n",
      "Trainable params: 1,097,073\n",
      "Non-trainable params: 0\n",
      "__________________________________________________________________________________________________\n",
      "Using default discriminator (CNN)\n"
     ]
    }
   ],
   "source": [
    "R = Runner(verbose=True, \n",
    "           classifier='kr2unet2d' , \n",
    "           discriminator='cnn', #cnnplus\n",
    "           filter_num=[16, 32, 64, 128],\n",
    "           stack_num_down=2, \n",
    "           stack_num_up=2, \n",
    "           recur_num=1, \n",
    "           activation='ReLU', \n",
    "           output_activation='Sigmoid', \n",
    "           batch_norm=False, \n",
    "           pool=True, \n",
    "           unpool=True, \n",
    "           optimizer=None, \n",
    "           loss=None, \n",
    "           metric=None,\n",
    "          )"
   ]
  },
  {
   "cell_type": "code",
   "execution_count": 5,
   "id": "87b0c65d",
   "metadata": {},
   "outputs": [],
   "source": [
    "# load our larger toy dataset (10k images and masks)\n",
    "images = np.load('/hpcstor6/scratch01/r/ryan.zurrin001/GP2TOYEXAMPLE_LARGE/images.npy')\n",
    "masks = np.load('/hpcstor6/scratch01/r/ryan.zurrin001/GP2TOYEXAMPLE_LARGE/masks.npy')"
   ]
  },
  {
   "cell_type": "code",
   "execution_count": 6,
   "id": "7330ad24",
   "metadata": {},
   "outputs": [],
   "source": [
    "images = images[:5000]\n",
    "masks = masks[:5000]"
   ]
  },
  {
   "cell_type": "code",
   "execution_count": 7,
   "id": "d5b4179a",
   "metadata": {},
   "outputs": [
    {
     "data": {
      "text/plain": [
       "(5000, 512, 512, 1)"
      ]
     },
     "execution_count": 7,
     "metadata": {},
     "output_type": "execute_result"
    }
   ],
   "source": [
    "images.shape"
   ]
  },
  {
   "cell_type": "code",
   "execution_count": 8,
   "id": "57033c4e",
   "metadata": {},
   "outputs": [
    {
     "data": {
      "text/plain": [
       "(5000, 512, 512, 1)"
      ]
     },
     "execution_count": 8,
     "metadata": {},
     "output_type": "execute_result"
    }
   ],
   "source": [
    "masks.shape"
   ]
  },
  {
   "cell_type": "code",
   "execution_count": 9,
   "id": "1dd71668",
   "metadata": {},
   "outputs": [],
   "source": [
    "weights = {\n",
    "    'A': 0.5,\n",
    "    'A_train': 0.1,\n",
    "    'A_val': 0.3,\n",
    "    'A_test': 0.6,\n",
    "    'B': 0.3,\n",
    "    'B_train': 0.7,\n",
    "    'B_val': 0.1,\n",
    "    'B_test': 0.2,\n",
    "    'Z': 0.2\n",
    "}"
   ]
  },
  {
   "cell_type": "code",
   "execution_count": null,
   "id": "dab6fd49",
   "metadata": {},
   "outputs": [
    {
     "name": "stdout",
     "output_type": "stream",
     "text": [
      "Weights OK!\n",
      "******\n",
      "Loop 0\n"
     ]
    },
    {
     "name": "stderr",
     "output_type": "stream",
     "text": [
      "2023-04-25 13:22:03.273972: I tensorflow/compiler/mlir/mlir_graph_optimization_pass.cc:176] None of the MLIR Optimization Passes are enabled (registered 2)\n",
      "2023-04-25 13:22:03.294994: I tensorflow/core/platform/profile_utils/cpu_utils.cc:114] CPU Frequency: 2245755000 Hz\n"
     ]
    },
    {
     "name": "stdout",
     "output_type": "stream",
     "text": [
      "Epoch 1/100\n"
     ]
    },
    {
     "name": "stderr",
     "output_type": "stream",
     "text": [
      "2023-04-25 13:22:05.896884: I tensorflow/stream_executor/platform/default/dso_loader.cc:53] Successfully opened dynamic library libcublas.so.11\n",
      "2023-04-25 13:22:06.688230: I tensorflow/stream_executor/platform/default/dso_loader.cc:53] Successfully opened dynamic library libcublasLt.so.11\n",
      "2023-04-25 13:22:06.689520: I tensorflow/stream_executor/platform/default/dso_loader.cc:53] Successfully opened dynamic library libcudnn.so.8\n",
      "2023-04-25 13:22:07.343819: I tensorflow/stream_executor/cuda/cuda_dnn.cc:359] Loaded cuDNN version 8201\n",
      "2023-04-25 13:22:08.000100: W tensorflow/stream_executor/gpu/asm_compiler.cc:191] Falling back to the CUDA driver for PTX compilation; ptxas does not support CC 8.0\n",
      "2023-04-25 13:22:08.000124: W tensorflow/stream_executor/gpu/asm_compiler.cc:194] Used ptxas at ptxas\n",
      "2023-04-25 13:22:08.000179: W tensorflow/stream_executor/gpu/redzone_allocator.cc:314] Unimplemented: ptxas ptxas too old. Falling back to the driver to compile.\n",
      "Relying on driver to perform ptx compilation. \n",
      "Modify $PATH to customize ptxas location.\n",
      "This message will be only logged once.\n"
     ]
    },
    {
     "name": "stdout",
     "output_type": "stream",
     "text": [
      "4/4 [==============================] - 20s 3s/step - loss: 9.8222 - binary_accuracy: 0.2515 - val_loss: 9.6194 - val_binary_accuracy: 0.2494\n"
     ]
    },
    {
     "name": "stderr",
     "output_type": "stream",
     "text": [
      "2023-04-25 13:22:25.443064: W tensorflow/python/util/util.cc:348] Sets are not currently considered sequences, but this may change in the future, so consider avoiding using them.\n",
      "/home/ryan.zurrin001/miniconda3/envs/O/lib/python3.9/site-packages/tensorflow/python/keras/utils/generic_utils.py:494: CustomMaskWarning: Custom mask layers require a config and must override get_config. When loading, the custom mask layer must be passed to the custom_objects argument.\n",
      "  warnings.warn('Custom mask layers require a config and must override '\n"
     ]
    },
    {
     "name": "stdout",
     "output_type": "stream",
     "text": [
      "Epoch 2/100\n",
      "4/4 [==============================] - 4s 1s/step - loss: 9.8191 - binary_accuracy: 0.2515 - val_loss: 9.6194 - val_binary_accuracy: 0.2494\n",
      "Epoch 3/100\n",
      "4/4 [==============================] - 4s 1s/step - loss: 9.8182 - binary_accuracy: 0.2515 - val_loss: 9.6194 - val_binary_accuracy: 0.2494\n",
      "Epoch 4/100\n",
      "4/4 [==============================] - 4s 1s/step - loss: 9.8209 - binary_accuracy: 0.2515 - val_loss: 9.6194 - val_binary_accuracy: 0.2494\n",
      "Epoch 5/100\n",
      "4/4 [==============================] - 4s 1s/step - loss: 9.8194 - binary_accuracy: 0.2515 - val_loss: 9.6194 - val_binary_accuracy: 0.2494\n",
      "Model saved to: /tmp/tmp0z5f50n3GP2/r2_unet_0r2_unet_model\n",
      "History saved to: /tmp/tmp0z5f50n3GP2/r2_unet_history_0.pkl\n",
      "Testing the classifier...\n"
     ]
    }
   ],
   "source": [
    "R.run(images=images, masks=masks, weights=weights, runs=5)"
   ]
  },
  {
   "cell_type": "code",
   "execution_count": 11,
   "id": "00075332",
   "metadata": {},
   "outputs": [
    {
     "data": {
      "text/plain": [
       "[[11.24902057647705, 0.14587022364139557],\n",
       " [11.22181224822998, 0.1459418386220932]]"
      ]
     },
     "execution_count": 11,
     "metadata": {},
     "output_type": "execute_result"
    }
   ],
   "source": [
    "R.classifier_scores"
   ]
  },
  {
   "cell_type": "code",
   "execution_count": 12,
   "id": "35105656",
   "metadata": {},
   "outputs": [
    {
     "data": {
      "text/plain": [
       "[[0.0, 1.0], [0.0, 1.0]]"
      ]
     },
     "execution_count": 12,
     "metadata": {},
     "output_type": "execute_result"
    }
   ],
   "source": [
    "R.discriminator_scores"
   ]
  },
  {
   "cell_type": "code",
   "execution_count": null,
   "id": "aba17012",
   "metadata": {},
   "outputs": [],
   "source": []
  },
  {
   "cell_type": "code",
   "execution_count": 13,
   "id": "66a90a1d",
   "metadata": {},
   "outputs": [
    {
     "data": {
      "image/png": "[encoded data removed]",
      "text/plain": [
       "<Figure size 240x240 with 1 Axes>"
      ]
     },
     "metadata": {
      "needs_background": "light"
     },
     "output_type": "display_data"
    }
   ],
   "source": [
    "R.plot()"
   ]
  },
  {
   "cell_type": "code",
   "execution_count": null,
   "id": "fa9c8529",
   "metadata": {},
   "outputs": [],
   "source": []
  },
  {
   "cell_type": "code",
   "execution_count": 13,
   "id": "b1ec788d",
   "metadata": {},
   "outputs": [
    {
     "data": {
      "image/png": "[encoded data removed]",
      "text/plain": [
       "<Figure size 240x240 with 1 Axes>"
      ]
     },
     "metadata": {
      "needs_background": "light"
     },
     "output_type": "display_data"
    }
   ],
   "source": [
    "R.plot()"
   ]
  },
  {
   "cell_type": "code",
   "execution_count": null,
   "id": "551de181",
   "metadata": {},
   "outputs": [],
   "source": []
  }
 ],
 "metadata": {
  "kernelspec": {
   "display_name": "Python 3 (ipykernel)",
   "language": "python",
   "name": "python3"
  },
  "language_info": {
   "codemirror_mode": {
    "name": "ipython",
    "version": 3
   },
   "file_extension": ".py",
   "mimetype": "text/x-python",
   "name": "python",
   "nbconvert_exporter": "python",
   "pygments_lexer": "ipython3",
   "version": "3.9.7"
  }
 },
 "nbformat": 4,
 "nbformat_minor": 5
}
