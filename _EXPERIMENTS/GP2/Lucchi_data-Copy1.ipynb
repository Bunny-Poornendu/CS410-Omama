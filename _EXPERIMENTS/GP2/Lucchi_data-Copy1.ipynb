{
 "cells": [
  {
   "cell_type": "code",
   "execution_count": 1,
   "id": "e522ca42",
   "metadata": {},
   "outputs": [
    {
     "name": "stdout",
     "output_type": "stream",
     "text": [
      "Populating the interactive namespace from numpy and matplotlib\n"
     ]
    }
   ],
   "source": [
    "%pylab inline"
   ]
  },
  {
   "cell_type": "code",
   "execution_count": 2,
   "id": "01398f86",
   "metadata": {},
   "outputs": [],
   "source": [
    "import os, glob, shutil\n",
    "import mahotas as mh"
   ]
  },
  {
   "cell_type": "code",
   "execution_count": 3,
   "id": "5dade25b",
   "metadata": {},
   "outputs": [],
   "source": [
    "DATAFOLDER = '/hpcstor6/scratch01/r/ryan.zurrin001/Ocular_disease/'"
   ]
  },
  {
   "cell_type": "code",
   "execution_count": 4,
   "id": "411f9fe5",
   "metadata": {},
   "outputs": [
    {
     "data": {
      "text/plain": [
       "['masks', 'images.npy', 'images', 'masks.npy']"
      ]
     },
     "execution_count": 4,
     "metadata": {},
     "output_type": "execute_result"
    }
   ],
   "source": [
    "os.listdir(DATAFOLDER)"
   ]
  },
  {
   "cell_type": "code",
   "execution_count": 5,
   "id": "1a3b6572",
   "metadata": {},
   "outputs": [],
   "source": [
    "train_image_dir = os.path.join(DATAFOLDER, 'images')\n",
    "#test_image_dir = os.path.join(DATAFOLDER, 'Test_In')\n",
    "train_mask_dir =  os.path.join(DATAFOLDER, 'masks')\n",
    "#test_mask_dir = os.path.join(DATAFOLDER, 'Test_Out')\n"
   ]
  },
  {
   "cell_type": "code",
   "execution_count": 6,
   "id": "d0443b8c",
   "metadata": {},
   "outputs": [],
   "source": [
    "all_image_files = sorted(sorted(glob.glob(train_image_dir+'/*.jpg')))\n",
    "all_mask_files = sorted(sorted(glob.glob(train_mask_dir+'/*.jpg')))"
   ]
  },
  {
   "cell_type": "code",
   "execution_count": 7,
   "id": "e667564e",
   "metadata": {},
   "outputs": [],
   "source": [
    "# for i in os.listdir(train_mask_dir):\n",
    "#     old_name = os.path.join(train_mask_dir, i)\n",
    "#     print(old_name)\n",
    "#     new_name = os.path.join(train_mask_dir, i.split('.')[0].zfill(4)+'.png')\n",
    "#     print(new_name)\n",
    "#     shutil.move(old_name, new_name)\n",
    "# for i in os.listdir(test_mask_dir):\n",
    "#     old_name = os.path.join(test_mask_dir, i)\n",
    "#     print(old_name)\n",
    "#     new_name = os.path.join(test_mask_dir, i.split('.')[0].zfill(4)+'.png')\n",
    "#     print(new_name)\n",
    "#     shutil.move(old_name, new_name)"
   ]
  },
  {
   "cell_type": "code",
   "execution_count": 8,
   "id": "5203b381",
   "metadata": {},
   "outputs": [
    {
     "name": "stdout",
     "output_type": "stream",
     "text": [
      "6392\n"
     ]
    }
   ],
   "source": [
    "print(len(all_image_files))"
   ]
  },
  {
   "cell_type": "code",
   "execution_count": 9,
   "id": "a45ec3e8",
   "metadata": {},
   "outputs": [
    {
     "name": "stdout",
     "output_type": "stream",
     "text": [
      "6392\n"
     ]
    }
   ],
   "source": [
    "print(len(all_mask_files))"
   ]
  },
  {
   "cell_type": "code",
   "execution_count": 10,
   "id": "85313531",
   "metadata": {},
   "outputs": [
    {
     "ename": "NameError",
     "evalue": "name 'all_' is not defined",
     "output_type": "error",
     "traceback": [
      "\u001b[0;31m---------------------------------------------------------------------------\u001b[0m",
      "\u001b[0;31mNameError\u001b[0m                                 Traceback (most recent call last)",
      "\u001b[0;32m/tmp/ipykernel_202149/1924083401.py\u001b[0m in \u001b[0;36m<module>\u001b[0;34m\u001b[0m\n\u001b[0;32m----> 1\u001b[0;31m \u001b[0mlen\u001b[0m\u001b[0;34m(\u001b[0m\u001b[0mall_\u001b[0m\u001b[0;34m)\u001b[0m\u001b[0;34m\u001b[0m\u001b[0;34m\u001b[0m\u001b[0m\n\u001b[0m",
      "\u001b[0;31mNameError\u001b[0m: name 'all_' is not defined"
     ]
    }
   ],
   "source": [
    "len(all_)"
   ]
  },
  {
   "cell_type": "code",
   "execution_count": null,
   "id": "067b99e8",
   "metadata": {},
   "outputs": [],
   "source": []
  },
  {
   "cell_type": "code",
   "execution_count": null,
   "id": "f5871265",
   "metadata": {},
   "outputs": [],
   "source": []
  },
  {
   "cell_type": "code",
   "execution_count": 11,
   "id": "fb3320da",
   "metadata": {},
   "outputs": [],
   "source": [
    "import cv2\n",
    "\n",
    "# create arrays to store grayscale images and masks\n",
    "grayscale_images = np.zeros((len(all_image_files), 512, 512), dtype=np.uint8)\n",
    "grayscale_masks = np.zeros((len(all_mask_files), 512, 512), dtype=np.uint8)\n",
    "\n",
    "for i in range(len(all_image_files)):\n",
    "    color_image = cv2.imread(all_image_files[i])\n",
    "    color_mask = cv2.imread(all_mask_files[i])\n",
    "    \n",
    "    grayscale_image = cv2.cvtColor(color_image, cv2.COLOR_BGR2GRAY)\n",
    "    grayscale_mask = cv2.cvtColor(color_mask, cv2.COLOR_BGR2GRAY)\n",
    "    \n",
    "    all_image_files[i] = grayscale_image\n",
    "    all_mask_files[i] = grayscale_mask\n"
   ]
  },
  {
   "cell_type": "code",
   "execution_count": 26,
   "id": "6a74072e",
   "metadata": {},
   "outputs": [],
   "source": [
    "#all_image_files = sorted(sorted(glob.glob(train_image_dir+'/*.jpg')))\n",
    "#all_mask_files = sorted(sorted(glob.glob(train_mask_dir+'/*.jpg')))"
   ]
  },
  {
   "cell_type": "code",
   "execution_count": 12,
   "id": "cda15c91",
   "metadata": {},
   "outputs": [
    {
     "name": "stdout",
     "output_type": "stream",
     "text": [
      "<class 'numpy.ndarray'>\n"
     ]
    }
   ],
   "source": [
    "print(type(all_image_files[10]))"
   ]
  },
  {
   "cell_type": "code",
   "execution_count": 13,
   "id": "6f54fdf4",
   "metadata": {},
   "outputs": [
    {
     "name": "stdout",
     "output_type": "stream",
     "text": [
      "[[0 0 0 ... 0 0 0]\n",
      " [0 0 0 ... 0 0 0]\n",
      " [0 0 0 ... 0 0 0]\n",
      " ...\n",
      " [0 0 0 ... 0 0 0]\n",
      " [0 0 0 ... 0 0 0]\n",
      " [0 0 0 ... 0 0 0]]\n"
     ]
    }
   ],
   "source": [
    "print((all_image_files[500]))"
   ]
  },
  {
   "cell_type": "code",
   "execution_count": 14,
   "id": "e6206c94",
   "metadata": {},
   "outputs": [
    {
     "data": {
      "text/plain": [
       "<matplotlib.image.AxesImage at 0x7f9a5d2ea520>"
      ]
     },
     "execution_count": 14,
     "metadata": {},
     "output_type": "execute_result"
    },
    {
     "data": {
      "image/png": "[encoded data removed]",
      "text/plain": [
       "<Figure size 432x288 with 1 Axes>"
      ]
     },
     "metadata": {
      "needs_background": "light"
     },
     "output_type": "display_data"
    }
   ],
   "source": [
    "imshow(all_image_files[500])"
   ]
  },
  {
   "cell_type": "code",
   "execution_count": null,
   "id": "06213cc2",
   "metadata": {},
   "outputs": [],
   "source": []
  },
  {
   "cell_type": "code",
   "execution_count": null,
   "id": "b0f6cf48",
   "metadata": {},
   "outputs": [],
   "source": []
  },
  {
   "cell_type": "code",
   "execution_count": null,
   "id": "b4d41218",
   "metadata": {},
   "outputs": [],
   "source": []
  },
  {
   "cell_type": "code",
   "execution_count": null,
   "id": "78d738eb",
   "metadata": {},
   "outputs": [],
   "source": []
  },
  {
   "cell_type": "code",
   "execution_count": 15,
   "id": "ffc9997d",
   "metadata": {},
   "outputs": [
    {
     "data": {
      "text/plain": [
       "6392"
      ]
     },
     "execution_count": 15,
     "metadata": {},
     "output_type": "execute_result"
    }
   ],
   "source": [
    "len(all_mask_files)"
   ]
  },
  {
   "cell_type": "code",
   "execution_count": null,
   "id": "1109ec58",
   "metadata": {},
   "outputs": [],
   "source": []
  },
  {
   "cell_type": "code",
   "execution_count": 16,
   "id": "1bc0b25a",
   "metadata": {},
   "outputs": [],
   "source": [
    "images = np.zeros((6392,512,512), dtype=np.uint8)"
   ]
  },
  {
   "cell_type": "code",
   "execution_count": 17,
   "id": "3736f32f",
   "metadata": {},
   "outputs": [],
   "source": [
    "#from skimage.color import rgb2gray\n",
    "\n",
    "#images = np.zeros((, 512, 512), dtype=np.uint8)\n",
    "#counter = 0\n",
    "#for a in all_image_files:\n",
    "#    img = mh.imread(a)\n",
    "    \n",
    "    # grab left image\n",
    "#    left = img[0:512,0:512]\n",
    "#    right = img[0:512,512:]\n",
    "    \n",
    "    # convert to grayscale\n",
    "#    left_gray = rgb2gray(left)\n",
    "#    right_gray = rgb2gray(right)\n",
    "    \n",
    "#    images[counter] = (left_gray * 255).astype(np.uint8)\n",
    "#    images[counter+1] = (right_gray * 255).astype(np.uint8)\n",
    "    \n",
    "#    counter += 2"
   ]
  },
  {
   "cell_type": "code",
   "execution_count": 19,
   "id": "e2719ca6",
   "metadata": {},
   "outputs": [
    {
     "name": "stdout",
     "output_type": "stream",
     "text": [
      "<class 'numpy.ndarray'>\n"
     ]
    },
    {
     "ename": "ValueError",
     "evalue": "could not broadcast input array from shape (512,0) into shape (512,512)",
     "output_type": "error",
     "traceback": [
      "\u001b[0;31m---------------------------------------------------------------------------\u001b[0m",
      "\u001b[0;31mValueError\u001b[0m                                Traceback (most recent call last)",
      "\u001b[0;32m/tmp/ipykernel_202149/1401701414.py\u001b[0m in \u001b[0;36m<module>\u001b[0;34m\u001b[0m\n\u001b[1;32m     10\u001b[0m \u001b[0;34m\u001b[0m\u001b[0m\n\u001b[1;32m     11\u001b[0m     \u001b[0mimages\u001b[0m\u001b[0;34m[\u001b[0m\u001b[0mcounter\u001b[0m\u001b[0;34m]\u001b[0m \u001b[0;34m=\u001b[0m \u001b[0mleft\u001b[0m\u001b[0;34m\u001b[0m\u001b[0;34m\u001b[0m\u001b[0m\n\u001b[0;32m---> 12\u001b[0;31m     \u001b[0mimages\u001b[0m\u001b[0;34m[\u001b[0m\u001b[0mcounter\u001b[0m\u001b[0;34m+\u001b[0m\u001b[0;36m1\u001b[0m\u001b[0;34m]\u001b[0m \u001b[0;34m=\u001b[0m \u001b[0mright\u001b[0m\u001b[0;34m\u001b[0m\u001b[0;34m\u001b[0m\u001b[0m\n\u001b[0m\u001b[1;32m     13\u001b[0m \u001b[0;34m\u001b[0m\u001b[0m\n\u001b[1;32m     14\u001b[0m     \u001b[0mcounter\u001b[0m \u001b[0;34m+=\u001b[0m \u001b[0;36m2\u001b[0m\u001b[0;34m\u001b[0m\u001b[0;34m\u001b[0m\u001b[0m\n",
      "\u001b[0;31mValueError\u001b[0m: could not broadcast input array from shape (512,0) into shape (512,512)"
     ]
    }
   ],
   "source": [
    "counter = 0\n",
    "print(type(all_image_files[1]))\n",
    "for img in all_image_files:\n",
    "    #img = mh.imread(a)\n",
    "    \n",
    "    # grab left image\n",
    "    left = img[0:512,0:512]\n",
    "    right = img[0:512,512:]\n",
    "    \n",
    "    \n",
    "    images[counter] = left\n",
    "    images[counter+1] = right\n",
    "    \n",
    "    counter += 2"
   ]
  },
  {
   "cell_type": "code",
   "execution_count": 23,
   "id": "fc3c377e",
   "metadata": {},
   "outputs": [],
   "source": [
    "masks = np.zeros((660, 512, 512), dtype=np.bool)"
   ]
  },
  {
   "cell_type": "code",
   "execution_count": 24,
   "id": "e48f4c32",
   "metadata": {},
   "outputs": [
    {
     "name": "stdout",
     "output_type": "stream",
     "text": [
      "/hpcstor6/scratch01/r/ryan.zurrin001/Ocular_disease/masks/0_left.jpg\n"
     ]
    },
    {
     "ename": "ValueError",
     "evalue": "could not broadcast input array from shape (512,0) into shape (512,512)",
     "output_type": "error",
     "traceback": [
      "\u001b[0;31m---------------------------------------------------------------------------\u001b[0m",
      "\u001b[0;31mValueError\u001b[0m                                Traceback (most recent call last)",
      "\u001b[0;32m/tmp/ipykernel_63893/137779521.py\u001b[0m in \u001b[0;36m<module>\u001b[0;34m\u001b[0m\n\u001b[1;32m     13\u001b[0m \u001b[0;34m\u001b[0m\u001b[0m\n\u001b[1;32m     14\u001b[0m     \u001b[0mmasks\u001b[0m\u001b[0;34m[\u001b[0m\u001b[0mcounter\u001b[0m\u001b[0;34m]\u001b[0m \u001b[0;34m=\u001b[0m \u001b[0mleft\u001b[0m\u001b[0;34m.\u001b[0m\u001b[0mastype\u001b[0m\u001b[0;34m(\u001b[0m\u001b[0mnp\u001b[0m\u001b[0;34m.\u001b[0m\u001b[0mbool\u001b[0m\u001b[0;34m)\u001b[0m\u001b[0;34m\u001b[0m\u001b[0;34m\u001b[0m\u001b[0m\n\u001b[0;32m---> 15\u001b[0;31m     \u001b[0mmasks\u001b[0m\u001b[0;34m[\u001b[0m\u001b[0mcounter\u001b[0m\u001b[0;34m+\u001b[0m\u001b[0;36m1\u001b[0m\u001b[0;34m]\u001b[0m \u001b[0;34m=\u001b[0m \u001b[0mright\u001b[0m\u001b[0;34m.\u001b[0m\u001b[0mastype\u001b[0m\u001b[0;34m(\u001b[0m\u001b[0mnp\u001b[0m\u001b[0;34m.\u001b[0m\u001b[0mbool\u001b[0m\u001b[0;34m)\u001b[0m\u001b[0;34m\u001b[0m\u001b[0;34m\u001b[0m\u001b[0m\n\u001b[0m\u001b[1;32m     16\u001b[0m \u001b[0;34m\u001b[0m\u001b[0m\n\u001b[1;32m     17\u001b[0m     \u001b[0mcounter\u001b[0m \u001b[0;34m+=\u001b[0m \u001b[0;36m2\u001b[0m\u001b[0;34m\u001b[0m\u001b[0;34m\u001b[0m\u001b[0m\n",
      "\u001b[0;31mValueError\u001b[0m: could not broadcast input array from shape (512,0) into shape (512,512)"
     ]
    }
   ],
   "source": [
    "counter = 0\n",
    "for a in all_mask_files:\n",
    "    img = mh.imread(a)\n",
    "    print(a)\n",
    "    \n",
    "    if img.ndim == 3:\n",
    "        # grab left image\n",
    "        left = img[0:512,0:512,0]\n",
    "        right = img[0:512,512:,0]\n",
    "    elif img.ndim == 2:\n",
    "        left = img[0:512,0:512]\n",
    "        right = img[0:512,512:]\n",
    "    \n",
    "    masks[counter] = left.astype(np.bool)\n",
    "    masks[counter+1] = right.astype(np.bool)\n",
    "    \n",
    "    counter += 2"
   ]
  },
  {
   "cell_type": "code",
   "execution_count": 25,
   "id": "a7cd90a2",
   "metadata": {},
   "outputs": [
    {
     "data": {
      "text/plain": [
       "<matplotlib.image.AxesImage at 0x7fa907f54670>"
      ]
     },
     "execution_count": 25,
     "metadata": {},
     "output_type": "execute_result"
    },
    {
     "data": {
      "image/png": "[encoded data removed]",
      "text/plain": [
       "<Figure size 432x288 with 1 Axes>"
      ]
     },
     "metadata": {
      "needs_background": "light"
     },
     "output_type": "display_data"
    }
   ],
   "source": [
    "imshow(masks[0])"
   ]
  },
  {
   "cell_type": "code",
   "execution_count": 26,
   "id": "aaf6d360",
   "metadata": {},
   "outputs": [
    {
     "data": {
      "text/plain": [
       "<matplotlib.image.AxesImage at 0x7fa8fcf7ea30>"
      ]
     },
     "execution_count": 26,
     "metadata": {},
     "output_type": "execute_result"
    },
    {
     "data": {
      "image/png": "[encoded data removed]",
      "text/plain": [
       "<Figure size 432x288 with 1 Axes>"
      ]
     },
     "metadata": {
      "needs_background": "light"
     },
     "output_type": "display_data"
    }
   ],
   "source": [
    "imshow(masks[-1])"
   ]
  },
  {
   "cell_type": "code",
   "execution_count": 27,
   "id": "a9f6c253",
   "metadata": {},
   "outputs": [],
   "source": [
    "images2 = np.expand_dims(images, axis=-1)"
   ]
  },
  {
   "cell_type": "code",
   "execution_count": 28,
   "id": "18159c5f",
   "metadata": {},
   "outputs": [
    {
     "data": {
      "text/plain": [
       "(660, 512, 512, 1)"
      ]
     },
     "execution_count": 28,
     "metadata": {},
     "output_type": "execute_result"
    }
   ],
   "source": [
    "images2.shape"
   ]
  },
  {
   "cell_type": "code",
   "execution_count": 29,
   "id": "61de6918",
   "metadata": {},
   "outputs": [],
   "source": [
    "masks2 = np.expand_dims(masks, axis=-1)"
   ]
  },
  {
   "cell_type": "code",
   "execution_count": 30,
   "id": "b3e4ce52",
   "metadata": {},
   "outputs": [
    {
     "data": {
      "text/plain": [
       "(660, 512, 512, 1)"
      ]
     },
     "execution_count": 30,
     "metadata": {},
     "output_type": "execute_result"
    }
   ],
   "source": [
    "masks2.shape"
   ]
  },
  {
   "cell_type": "code",
   "execution_count": 31,
   "id": "48f018d7",
   "metadata": {},
   "outputs": [],
   "source": [
    "np.save('/hpcstor6/scratch01/r/ryan.zurrin001/gp2_lucchi_images.npy', images2)"
   ]
  },
  {
   "cell_type": "code",
   "execution_count": 32,
   "id": "cbd09fed",
   "metadata": {},
   "outputs": [],
   "source": [
    "np.save('/hpcstor6/scratch01/r/ryan.zurrin001/gp2_lucchi_masks.npy', masks2)"
   ]
  },
  {
   "cell_type": "code",
   "execution_count": null,
   "id": "117bfa3c",
   "metadata": {},
   "outputs": [],
   "source": []
  }
 ],
 "metadata": {
  "kernelspec": {
   "display_name": "Python 3 (ipykernel)",
   "language": "python",
   "name": "python3"
  },
  "language_info": {
   "codemirror_mode": {
    "name": "ipython",
    "version": 3
   },
   "file_extension": ".py",
   "mimetype": "text/x-python",
   "name": "python",
   "nbconvert_exporter": "python",
   "pygments_lexer": "ipython3",
   "version": "3.9.7"
  }
 },
 "nbformat": 4,
 "nbformat_minor": 5
}
